{
 "cells": [
  {
   "cell_type": "markdown",
   "metadata": {},
   "source": [
    "# Spam filtering using TF-IDF on a Bag of Words model\n",
    "_Note to reader: You're currently reading the work of a single contributor. I recommend visiting [Matt's](https://github.com/xiaozhang-github/DST-Assessment-3/tree/main/Matt%20Corrie) and [Xiao's](https://github.com/xiaozhang-github/DST-Assessment-3/tree/main/Xiao%20Zhang) works after reading this file. Thank you!_\n",
    "\n",
    "In this project my teammates and I tackle the issue of constructing a spam filter via the means of topic modelling and topic selection. For this purpose we'll be making use of the enron e-mails available to the public free of charge, which can be found and downloaded from [here](https://github.com/xiaozhang-github/DST-Assessment-3/blob/main/Data/All%20enron.zip). Alternatively, the unzipped version can be found [here](https://github.com/xiaozhang-github/DST-Assessment-3/tree/main/Data/All%20enron%20unzip). \n",
    "\n",
    "**Important:** For running this code, the reader is asked to download the provided sources from either of the links (and those only!). Once downloaded and saved, the files should already be placed in a single folder, containing 5 subfolders called 'enron1' through 'enron6' - with 'enron4' missing on purpose. This folder, for ease of access, should either be called 'All enron unzip' or 'All enron'. The user will be asked to _stick with either of those names, preferrably the former_. The importance of this will become apparent shortly.\n",
    "\n",
    "\n",
    "Our team was tasked with detection of spam on an already categorized sample. The e-mails found in the 'enron' folders are divided between spam(Spam activity) and ham(Normal activity). For the purpose of this project, this knowledge will be used at the end for measuring the accuracy of our outcomes. Our team's approach was trying 3 different topic modelling techniques to separate spam from normal activity. My work deals with a **TF-IDF** (Term Frequency - Inverse Document Frequency) approach, whereas my colleagues took an **LDA** (Latent Dirichlet Allocation) strategy. The performance of these methods will be compared at the end of the project. Mainly, this paper will operate by the following steps:\n",
    "\n",
    "1) Pre-requisites, k-fold CV and EDA\n",
    "\n",
    "2) Data Cleaning + Lemmatization\n",
    "\n",
    "3) An attempt at manual implementation of TF-IDF\n",
    "\n",
    "4) TF-IDF \n",
    "\n",
    "5) Choosing the optimal solution + Accuracy analysis\n",
    "\n",
    "6) An aside on replies/forwards + Conclusions\n",
    "\n",
    "7) References\n",
    "\n",
    "\n",
    "The following libraries will be crucial to our work:"
   ]
  },
  {
   "cell_type": "code",
   "execution_count": 1,
   "metadata": {},
   "outputs": [],
   "source": [
    "import glob\n",
    "import os\n",
    "import re\n",
    "import random\n",
    "import numpy as np\n",
    "import pandas as pd\n",
    "import math\n",
    "from pathlib import Path\n",
    "import matplotlib.pyplot as plt\n",
    "\n",
    "import gensim\n",
    "import pickle\n",
    "from nltk.stem import WordNetLemmatizer, SnowballStemmer\n",
    "from nltk.stem.porter import *"
   ]
  },
  {
   "cell_type": "markdown",
   "metadata": {},
   "source": [
    "## 1. Pre-requisites, k-fold CV and EDA"
   ]
  },
  {
   "cell_type": "markdown",
   "metadata": {},
   "source": [
    "The user is asked to change their working directory accordingly - corresponding to where the folder 'All enron unzip' or 'All enron' was saved on their device. To do so, uncomment the following line (delete the #) and change 'D://Datasets' to your location."
   ]
  },
  {
   "cell_type": "code",
   "execution_count": 2,
   "metadata": {},
   "outputs": [],
   "source": [
    "# os.chdir(\"D://Datasets\")"
   ]
  },
  {
   "cell_type": "markdown",
   "metadata": {},
   "source": [
    "If the folder was saved as 'All enron' or anything else apart from 'All enron unzip', please either rename it to 'All enron unzip'; or, altenatively, modify the next piece of code accordingly."
   ]
  },
  {
   "cell_type": "code",
   "execution_count": 3,
   "metadata": {},
   "outputs": [],
   "source": [
    "corpus = []\n",
    "\n",
    "for path in Path('All enron unzip').rglob('*.txt'):\n",
    "        with open(path, errors='ignore') as f_input:\n",
    "            corpus.append(f_input.read())"
   ]
  },
  {
   "cell_type": "markdown",
   "metadata": {},
   "source": [
    "Let us save the dataframe in a variable and have a first look at it:"
   ]
  },
  {
   "cell_type": "code",
   "execution_count": 4,
   "metadata": {},
   "outputs": [
    {
     "data": {
      "text/html": [
       "<div>\n",
       "<style scoped>\n",
       "    .dataframe tbody tr th:only-of-type {\n",
       "        vertical-align: middle;\n",
       "    }\n",
       "\n",
       "    .dataframe tbody tr th {\n",
       "        vertical-align: top;\n",
       "    }\n",
       "\n",
       "    .dataframe thead th {\n",
       "        text-align: right;\n",
       "    }\n",
       "</style>\n",
       "<table border=\"1\" class=\"dataframe\">\n",
       "  <thead>\n",
       "    <tr style=\"text-align: right;\">\n",
       "      <th></th>\n",
       "      <th>0</th>\n",
       "    </tr>\n",
       "  </thead>\n",
       "  <tbody>\n",
       "    <tr>\n",
       "      <th>0</th>\n",
       "      <td>Legitimate\\n----------\\n- Owner: farmer-d\\n- T...</td>\n",
       "    </tr>\n",
       "    <tr>\n",
       "      <th>1</th>\n",
       "      <td>Subject: christmas tree farm pictures\\n</td>\n",
       "    </tr>\n",
       "    <tr>\n",
       "      <th>2</th>\n",
       "      <td>Subject: vastar resources , inc .\\ngary , prod...</td>\n",
       "    </tr>\n",
       "    <tr>\n",
       "      <th>3</th>\n",
       "      <td>Subject: calpine daily gas nomination\\n- calpi...</td>\n",
       "    </tr>\n",
       "    <tr>\n",
       "      <th>4</th>\n",
       "      <td>Subject: re : issue\\nfyi - see note below - al...</td>\n",
       "    </tr>\n",
       "  </tbody>\n",
       "</table>\n",
       "</div>"
      ],
      "text/plain": [
       "                                                   0\n",
       "0  Legitimate\\n----------\\n- Owner: farmer-d\\n- T...\n",
       "1            Subject: christmas tree farm pictures\\n\n",
       "2  Subject: vastar resources , inc .\\ngary , prod...\n",
       "3  Subject: calpine daily gas nomination\\n- calpi...\n",
       "4  Subject: re : issue\\nfyi - see note below - al..."
      ]
     },
     "execution_count": 4,
     "metadata": {},
     "output_type": "execute_result"
    }
   ],
   "source": [
    "df = pd.DataFrame(corpus)\n",
    "df.head()"
   ]
  },
  {
   "cell_type": "markdown",
   "metadata": {},
   "source": [
    "How much data is there to work with?"
   ]
  },
  {
   "cell_type": "code",
   "execution_count": 5,
   "metadata": {},
   "outputs": [
    {
     "data": {
      "text/plain": [
       "27721"
      ]
     },
     "execution_count": 5,
     "metadata": {},
     "output_type": "execute_result"
    }
   ],
   "source": [
    "len(df)"
   ]
  },
  {
   "cell_type": "markdown",
   "metadata": {},
   "source": [
    "Looking over the subfolders 'enron', one will notice that apart from spam/ham division they all contain an extra file named 'Summary' which offers useful information regarding the division. That is superfluous to our analysis so we'll remove it:"
   ]
  },
  {
   "cell_type": "code",
   "execution_count": 6,
   "metadata": {},
   "outputs": [],
   "source": [
    "df = df.drop([0,5173,11031,16544,21720]) # Removed the summary bits\n",
    "df.columns=[\"E-mails\"]"
   ]
  },
  {
   "cell_type": "markdown",
   "metadata": {},
   "source": [
    "As we mentioned in the introduction, it will be useful at the end to know which e-mails were in fact spam and which weren't. We'll hence create an additional binary feature cataloguing this aspect. This column will never be used to deduce anything and we'll act as if it wasn't there - only being used at the end for accuracy measurement: "
   ]
  },
  {
   "cell_type": "code",
   "execution_count": 7,
   "metadata": {},
   "outputs": [],
   "source": [
    "z1 = np.arange(3673,5173)\n",
    "z2 = np.arange(9534,11031)\n",
    "z3 = np.arange(15043,16544)\n",
    "z4 = np.arange(18043,21719)\n",
    "z5 = np.arange(23220,27716)\n",
    "ze = np.concatenate((z1,z2,z3,z4,z5))\n",
    "\n",
    "z = np.zeros(27716)\n",
    "df['spam'] = z\n",
    "for i in ze:\n",
    "    df.iloc[i,1] = 1 # 1 for spam, 0 for ham"
   ]
  },
  {
   "cell_type": "markdown",
   "metadata": {},
   "source": [
    "We'll now proceed to arbitrarily sample out dataset to avoid all spams being clustered together and all hams as well, since they were that way in the initial format. We will also define an useful floor function as a pre-requisite to k-fold cross validation(CV) for k=10; since we don't have a multiple of 10 datapoints."
   ]
  },
  {
   "cell_type": "code",
   "execution_count": 8,
   "metadata": {},
   "outputs": [],
   "source": [
    "random.seed(a=5)\n",
    "df = df.sample(frac=1)\t# Shuffle the entire dataframe\n",
    "ten_off_df = math.floor(len(df)/10)"
   ]
  },
  {
   "cell_type": "markdown",
   "metadata": {},
   "source": [
    "The sampled result:"
   ]
  },
  {
   "cell_type": "code",
   "execution_count": 9,
   "metadata": {},
   "outputs": [
    {
     "data": {
      "text/html": [
       "<div>\n",
       "<style scoped>\n",
       "    .dataframe tbody tr th:only-of-type {\n",
       "        vertical-align: middle;\n",
       "    }\n",
       "\n",
       "    .dataframe tbody tr th {\n",
       "        vertical-align: top;\n",
       "    }\n",
       "\n",
       "    .dataframe thead th {\n",
       "        text-align: right;\n",
       "    }\n",
       "</style>\n",
       "<table border=\"1\" class=\"dataframe\">\n",
       "  <thead>\n",
       "    <tr style=\"text-align: right;\">\n",
       "      <th></th>\n",
       "      <th>E-mails</th>\n",
       "      <th>spam</th>\n",
       "    </tr>\n",
       "  </thead>\n",
       "  <tbody>\n",
       "    <tr>\n",
       "      <th>5065</th>\n",
       "      <td>Subject: it ' s not working like it used to ?\\...</td>\n",
       "      <td>1.0</td>\n",
       "    </tr>\n",
       "    <tr>\n",
       "      <th>3773</th>\n",
       "      <td>Subject: stop the aging clock\\nnerissa\\n</td>\n",
       "      <td>1.0</td>\n",
       "    </tr>\n",
       "    <tr>\n",
       "      <th>21203</th>\n",
       "      <td>Subject: microsoft windows xp professional wit...</td>\n",
       "      <td>1.0</td>\n",
       "    </tr>\n",
       "    <tr>\n",
       "      <th>935</th>\n",
       "      <td>Subject: last check\\ndarren ,\\nplease review t...</td>\n",
       "      <td>0.0</td>\n",
       "    </tr>\n",
       "    <tr>\n",
       "      <th>17489</th>\n",
       "      <td>Subject: confirmcorp info\\nsee the comment bel...</td>\n",
       "      <td>0.0</td>\n",
       "    </tr>\n",
       "    <tr>\n",
       "      <th>11832</th>\n",
       "      <td>Subject: re : report for louise\\nhey there ! c...</td>\n",
       "      <td>0.0</td>\n",
       "    </tr>\n",
       "    <tr>\n",
       "      <th>20198</th>\n",
       "      <td>Subject: save your money buy getting this thin...</td>\n",
       "      <td>1.0</td>\n",
       "    </tr>\n",
       "    <tr>\n",
       "      <th>27396</th>\n",
       "      <td>Subject: contact me asap\\nnostradamus tour</td>\n",
       "      <td>1.0</td>\n",
       "    </tr>\n",
       "    <tr>\n",
       "      <th>22644</th>\n",
       "      <td>Subject: re : conocoprojreqform . xls / monume...</td>\n",
       "      <td>0.0</td>\n",
       "    </tr>\n",
       "    <tr>\n",
       "      <th>7973</th>\n",
       "      <td>Subject: fw : enron contact info\\nvince and je...</td>\n",
       "      <td>0.0</td>\n",
       "    </tr>\n",
       "  </tbody>\n",
       "</table>\n",
       "</div>"
      ],
      "text/plain": [
       "                                                 E-mails  spam\n",
       "5065   Subject: it ' s not working like it used to ?\\...   1.0\n",
       "3773            Subject: stop the aging clock\\nnerissa\\n   1.0\n",
       "21203  Subject: microsoft windows xp professional wit...   1.0\n",
       "935    Subject: last check\\ndarren ,\\nplease review t...   0.0\n",
       "17489  Subject: confirmcorp info\\nsee the comment bel...   0.0\n",
       "11832  Subject: re : report for louise\\nhey there ! c...   0.0\n",
       "20198  Subject: save your money buy getting this thin...   1.0\n",
       "27396         Subject: contact me asap\\nnostradamus tour   1.0\n",
       "22644  Subject: re : conocoprojreqform . xls / monume...   0.0\n",
       "7973   Subject: fw : enron contact info\\nvince and je...   0.0"
      ]
     },
     "execution_count": 9,
     "metadata": {},
     "output_type": "execute_result"
    }
   ],
   "source": [
    "df.head(10)"
   ]
  },
  {
   "cell_type": "markdown",
   "metadata": {},
   "source": [
    "The following attempt is only presented for record purposes:"
   ]
  },
  {
   "cell_type": "code",
   "execution_count": 10,
   "metadata": {},
   "outputs": [],
   "source": [
    "#################[Failed FOR loop attempt]\n",
    "# df_temp = df\n",
    "# for i in range(1,9):\n",
    " #    locals()['df_{}.index.values'.format(i)] = df_temp.sample(ten_off_df)\n",
    " #    c_df = locals()['df_{}'.format(i)]\n",
    " #    locals()['l_{}'.format(i)] = list(c_df.index.values)\n",
    " #    loc_l = locals()['l_{}'.format(i)]\n",
    " #    df_temp = df_temp.drop(loc_l)"
   ]
  },
  {
   "cell_type": "markdown",
   "metadata": {},
   "source": [
    "_This_ attempt executes the 10-fold cross validation, creating 9 sub-dataframes df_0 through df_8 which will together form our training set: "
   ]
  },
  {
   "cell_type": "code",
   "execution_count": 11,
   "metadata": {},
   "outputs": [],
   "source": [
    "################# [Good For loop attempt]\n",
    "df_temp = df\n",
    "for i in range(0,9):\n",
    "    a = df_temp.sample(ten_off_df)\n",
    "    locals()['df_{}'.format(i)] = a\n",
    "    l = list(a.index.values)\n",
    "    df_temp = df_temp.drop(l)"
   ]
  },
  {
   "cell_type": "markdown",
   "metadata": {},
   "source": [
    "We now create the test and training sets correspondingly:"
   ]
  },
  {
   "cell_type": "code",
   "execution_count": 12,
   "metadata": {},
   "outputs": [],
   "source": [
    "df_test = df_temp\n",
    "\n",
    "frames=[df_0, df_1, df_2, df_3, df_4, df_5, df_6, df_7, df_8]\n",
    "df_train = pd.concat(frames)"
   ]
  },
  {
   "cell_type": "markdown",
   "metadata": {},
   "source": [
    "A quick test to see if the split has been done properly:"
   ]
  },
  {
   "cell_type": "code",
   "execution_count": 13,
   "metadata": {},
   "outputs": [
    {
     "data": {
      "text/plain": [
       "True"
      ]
     },
     "execution_count": 13,
     "metadata": {},
     "output_type": "execute_result"
    }
   ],
   "source": [
    "len(df_train)+len(df_test)==len(df)\t## Check if the split was properly done"
   ]
  },
  {
   "cell_type": "markdown",
   "metadata": {},
   "source": [
    "We will import a list of commonly used words in english with the following code. These words will then be eliminated from the e-mails as part of the data cleaning process. Uncomment the 3rd line if the file wasn't already pre-downloaded on your device:"
   ]
  },
  {
   "cell_type": "code",
   "execution_count": 14,
   "metadata": {},
   "outputs": [],
   "source": [
    "import nltk\n",
    "from nltk.corpus import stopwords\n",
    "\n",
    "# nltk.download('stopwords')"
   ]
  },
  {
   "cell_type": "code",
   "execution_count": 15,
   "metadata": {},
   "outputs": [
    {
     "data": {
      "text/html": [
       "<div>\n",
       "<style scoped>\n",
       "    .dataframe tbody tr th:only-of-type {\n",
       "        vertical-align: middle;\n",
       "    }\n",
       "\n",
       "    .dataframe tbody tr th {\n",
       "        vertical-align: top;\n",
       "    }\n",
       "\n",
       "    .dataframe thead th {\n",
       "        text-align: right;\n",
       "    }\n",
       "</style>\n",
       "<table border=\"1\" class=\"dataframe\">\n",
       "  <thead>\n",
       "    <tr style=\"text-align: right;\">\n",
       "      <th></th>\n",
       "      <th>E-mails</th>\n",
       "      <th>spam</th>\n",
       "    </tr>\n",
       "  </thead>\n",
       "  <tbody>\n",
       "    <tr>\n",
       "      <th>18999</th>\n",
       "      <td>Subject: sitescooper : scoop websites onto you...</td>\n",
       "      <td>1.0</td>\n",
       "    </tr>\n",
       "    <tr>\n",
       "      <th>22109</th>\n",
       "      <td>Subject: el paso order on complaint\\nattached ...</td>\n",
       "      <td>0.0</td>\n",
       "    </tr>\n",
       "    <tr>\n",
       "      <th>17507</th>\n",
       "      <td>Subject: final\\nthis is absolutely the final r...</td>\n",
       "      <td>0.0</td>\n",
       "    </tr>\n",
       "    <tr>\n",
       "      <th>23102</th>\n",
       "      <td>Subject: kase and company derivatives for ener...</td>\n",
       "      <td>0.0</td>\n",
       "    </tr>\n",
       "    <tr>\n",
       "      <th>22435</th>\n",
       "      <td>Subject: tw transportation contract # 25374\\nm...</td>\n",
       "      <td>0.0</td>\n",
       "    </tr>\n",
       "    <tr>\n",
       "      <th>...</th>\n",
       "      <td>...</td>\n",
       "      <td>...</td>\n",
       "    </tr>\n",
       "    <tr>\n",
       "      <th>1197</th>\n",
       "      <td>Subject: re : preliminary \" buyback &amp; deficien...</td>\n",
       "      <td>0.0</td>\n",
       "    </tr>\n",
       "    <tr>\n",
       "      <th>26732</th>\n",
       "      <td>Subject: unique - logos ! ( 85124799 )\\ndoes y...</td>\n",
       "      <td>1.0</td>\n",
       "    </tr>\n",
       "    <tr>\n",
       "      <th>20398</th>\n",
       "      <td>Subject: tiffany hypes ' s internet address fo...</td>\n",
       "      <td>1.0</td>\n",
       "    </tr>\n",
       "    <tr>\n",
       "      <th>1902</th>\n",
       "      <td>Subject: re : meter 0980438 - acock production...</td>\n",
       "      <td>0.0</td>\n",
       "    </tr>\n",
       "    <tr>\n",
       "      <th>5190</th>\n",
       "      <td>Subject: organizational changes\\nto : enron no...</td>\n",
       "      <td>0.0</td>\n",
       "    </tr>\n",
       "  </tbody>\n",
       "</table>\n",
       "<p>2777 rows × 2 columns</p>\n",
       "</div>"
      ],
      "text/plain": [
       "                                                 E-mails  spam\n",
       "18999  Subject: sitescooper : scoop websites onto you...   1.0\n",
       "22109  Subject: el paso order on complaint\\nattached ...   0.0\n",
       "17507  Subject: final\\nthis is absolutely the final r...   0.0\n",
       "23102  Subject: kase and company derivatives for ener...   0.0\n",
       "22435  Subject: tw transportation contract # 25374\\nm...   0.0\n",
       "...                                                  ...   ...\n",
       "1197   Subject: re : preliminary \" buyback & deficien...   0.0\n",
       "26732  Subject: unique - logos ! ( 85124799 )\\ndoes y...   1.0\n",
       "20398  Subject: tiffany hypes ' s internet address fo...   1.0\n",
       "1902   Subject: re : meter 0980438 - acock production...   0.0\n",
       "5190   Subject: organizational changes\\nto : enron no...   0.0\n",
       "\n",
       "[2777 rows x 2 columns]"
      ]
     },
     "execution_count": 15,
     "metadata": {},
     "output_type": "execute_result"
    }
   ],
   "source": [
    "df_test"
   ]
  },
  {
   "cell_type": "code",
   "execution_count": 16,
   "metadata": {},
   "outputs": [
    {
     "data": {
      "text/html": [
       "<div>\n",
       "<style scoped>\n",
       "    .dataframe tbody tr th:only-of-type {\n",
       "        vertical-align: middle;\n",
       "    }\n",
       "\n",
       "    .dataframe tbody tr th {\n",
       "        vertical-align: top;\n",
       "    }\n",
       "\n",
       "    .dataframe thead th {\n",
       "        text-align: right;\n",
       "    }\n",
       "</style>\n",
       "<table border=\"1\" class=\"dataframe\">\n",
       "  <thead>\n",
       "    <tr style=\"text-align: right;\">\n",
       "      <th></th>\n",
       "      <th>E-mails</th>\n",
       "      <th>spam</th>\n",
       "    </tr>\n",
       "  </thead>\n",
       "  <tbody>\n",
       "    <tr>\n",
       "      <th>550</th>\n",
       "      <td>Subject: re : teco gas processing company\\n- -...</td>\n",
       "      <td>0.0</td>\n",
       "    </tr>\n",
       "    <tr>\n",
       "      <th>23398</th>\n",
       "      <td>Subject: if you suffer from depression , try v...</td>\n",
       "      <td>1.0</td>\n",
       "    </tr>\n",
       "    <tr>\n",
       "      <th>5666</th>\n",
       "      <td>Subject: the storage revolution has begun\\nnet...</td>\n",
       "      <td>0.0</td>\n",
       "    </tr>\n",
       "    <tr>\n",
       "      <th>18685</th>\n",
       "      <td>Subject: let us \" show you the money ! \"\\nrece...</td>\n",
       "      <td>1.0</td>\n",
       "    </tr>\n",
       "    <tr>\n",
       "      <th>9992</th>\n",
       "      <td>Subject: it ' s mariah from dating service\\ni ...</td>\n",
       "      <td>1.0</td>\n",
       "    </tr>\n",
       "    <tr>\n",
       "      <th>...</th>\n",
       "      <td>...</td>\n",
       "      <td>...</td>\n",
       "    </tr>\n",
       "    <tr>\n",
       "      <th>27268</th>\n",
       "      <td>Subject: boing . . . ( the sound produced by a...</td>\n",
       "      <td>1.0</td>\n",
       "    </tr>\n",
       "    <tr>\n",
       "      <th>12819</th>\n",
       "      <td>Subject: fyi - bod agenda deadlines\\nthe next ...</td>\n",
       "      <td>0.0</td>\n",
       "    </tr>\n",
       "    <tr>\n",
       "      <th>23533</th>\n",
       "      <td>Subject: fashion boys for every taste ! noode ...</td>\n",
       "      <td>1.0</td>\n",
       "    </tr>\n",
       "    <tr>\n",
       "      <th>26946</th>\n",
       "      <td>Subject: successful judgment recovery business...</td>\n",
       "      <td>1.0</td>\n",
       "    </tr>\n",
       "    <tr>\n",
       "      <th>20954</th>\n",
       "      <td>Subject: amazzing news\\nhow to save precentor ...</td>\n",
       "      <td>1.0</td>\n",
       "    </tr>\n",
       "  </tbody>\n",
       "</table>\n",
       "<p>24939 rows × 2 columns</p>\n",
       "</div>"
      ],
      "text/plain": [
       "                                                 E-mails  spam\n",
       "550    Subject: re : teco gas processing company\\n- -...   0.0\n",
       "23398  Subject: if you suffer from depression , try v...   1.0\n",
       "5666   Subject: the storage revolution has begun\\nnet...   0.0\n",
       "18685  Subject: let us \" show you the money ! \"\\nrece...   1.0\n",
       "9992   Subject: it ' s mariah from dating service\\ni ...   1.0\n",
       "...                                                  ...   ...\n",
       "27268  Subject: boing . . . ( the sound produced by a...   1.0\n",
       "12819  Subject: fyi - bod agenda deadlines\\nthe next ...   0.0\n",
       "23533  Subject: fashion boys for every taste ! noode ...   1.0\n",
       "26946  Subject: successful judgment recovery business...   1.0\n",
       "20954  Subject: amazzing news\\nhow to save precentor ...   1.0\n",
       "\n",
       "[24939 rows x 2 columns]"
      ]
     },
     "execution_count": 16,
     "metadata": {},
     "output_type": "execute_result"
    }
   ],
   "source": [
    "df_train"
   ]
  },
  {
   "cell_type": "markdown",
   "metadata": {},
   "source": [
    "An interesting aspect of e-mails is that a large number of them are either in the form of replies (or, more advanced, reply chains) or forwarded to/from someone else. They're not always single one-to-one conversations. This creates sensible suggestions of possible repetitiveness of some words or phrases/syntagms for the duration of the reply chain. We will first visualize how many such e-mails are present in our data and then study them independently at the end of our analysis. For the main analysis, however, we will treat them with no extra weighted importance.\n",
    "\n",
    "The following code separates them from each df_n subset as well as from the main training set:"
   ]
  },
  {
   "cell_type": "code",
   "execution_count": 17,
   "metadata": {},
   "outputs": [],
   "source": [
    "df_0_ok = df_0[df_0['E-mails'].str.contains(\"re :\") | df_0['E-mails'].str.contains(\"fw :\")]\n",
    "df_1_ok = df_1[df_1['E-mails'].str.contains(\"re :\") | df_1['E-mails'].str.contains(\"fw :\")]\n",
    "df_2_ok = df_2[df_2['E-mails'].str.contains(\"re :\") | df_2['E-mails'].str.contains(\"fw :\")]\n",
    "df_3_ok = df_3[df_3['E-mails'].str.contains(\"re :\") | df_3['E-mails'].str.contains(\"fw :\")]\n",
    "df_4_ok = df_4[df_4['E-mails'].str.contains(\"re :\") | df_4['E-mails'].str.contains(\"fw :\")]\n",
    "df_5_ok = df_5[df_5['E-mails'].str.contains(\"re :\") | df_5['E-mails'].str.contains(\"fw :\")]\n",
    "df_6_ok = df_6[df_6['E-mails'].str.contains(\"re :\") | df_6['E-mails'].str.contains(\"fw :\")]\n",
    "df_7_ok = df_7[df_7['E-mails'].str.contains(\"re :\") | df_7['E-mails'].str.contains(\"fw :\")]\n",
    "df_8_ok = df_8[df_8['E-mails'].str.contains(\"re :\") | df_8['E-mails'].str.contains(\"fw :\")]\n",
    "df_train_ok = df_train[df_train['E-mails'].str.contains(\"re :\") | df_train['E-mails'].str.contains(\"fw :\")]\n",
    "\n",
    "## Based on the nature of spam e-mails, this simple filter has some good accuracy but not 100%"
   ]
  },
  {
   "cell_type": "code",
   "execution_count": 18,
   "metadata": {},
   "outputs": [
    {
     "data": {
      "text/html": [
       "<div>\n",
       "<style scoped>\n",
       "    .dataframe tbody tr th:only-of-type {\n",
       "        vertical-align: middle;\n",
       "    }\n",
       "\n",
       "    .dataframe tbody tr th {\n",
       "        vertical-align: top;\n",
       "    }\n",
       "\n",
       "    .dataframe thead th {\n",
       "        text-align: right;\n",
       "    }\n",
       "</style>\n",
       "<table border=\"1\" class=\"dataframe\">\n",
       "  <thead>\n",
       "    <tr style=\"text-align: right;\">\n",
       "      <th></th>\n",
       "      <th>E-mails</th>\n",
       "      <th>spam</th>\n",
       "    </tr>\n",
       "  </thead>\n",
       "  <tbody>\n",
       "    <tr>\n",
       "      <th>550</th>\n",
       "      <td>Subject: re : teco gas processing company\\n- -...</td>\n",
       "      <td>0.0</td>\n",
       "    </tr>\n",
       "    <tr>\n",
       "      <th>5666</th>\n",
       "      <td>Subject: the storage revolution has begun\\nnet...</td>\n",
       "      <td>0.0</td>\n",
       "    </tr>\n",
       "    <tr>\n",
       "      <th>18685</th>\n",
       "      <td>Subject: let us \" show you the money ! \"\\nrece...</td>\n",
       "      <td>1.0</td>\n",
       "    </tr>\n",
       "    <tr>\n",
       "      <th>14999</th>\n",
       "      <td>Subject: fw : fw : canadian legal entity\\nfyi\\...</td>\n",
       "      <td>0.0</td>\n",
       "    </tr>\n",
       "    <tr>\n",
       "      <th>12306</th>\n",
       "      <td>Subject: re : eol mobile access\\nlouise did lo...</td>\n",
       "      <td>0.0</td>\n",
       "    </tr>\n",
       "    <tr>\n",
       "      <th>...</th>\n",
       "      <td>...</td>\n",
       "      <td>...</td>\n",
       "    </tr>\n",
       "    <tr>\n",
       "      <th>2655</th>\n",
       "      <td>Subject: re : noms / actual flow for 03 / 01\\n...</td>\n",
       "      <td>0.0</td>\n",
       "    </tr>\n",
       "    <tr>\n",
       "      <th>6158</th>\n",
       "      <td>Subject: re : resume\\nthanks , vince - -\\nvinc...</td>\n",
       "      <td>0.0</td>\n",
       "    </tr>\n",
       "    <tr>\n",
       "      <th>2745</th>\n",
       "      <td>Subject: re : exxon company , usa global # 960...</td>\n",
       "      <td>0.0</td>\n",
       "    </tr>\n",
       "    <tr>\n",
       "      <th>250</th>\n",
       "      <td>Subject: fw : whose needs ? ? ? ? ? ? ? ?\\n&gt; p...</td>\n",
       "      <td>0.0</td>\n",
       "    </tr>\n",
       "    <tr>\n",
       "      <th>24879</th>\n",
       "      <td>Subject: legal operating systems for less\\nsof...</td>\n",
       "      <td>1.0</td>\n",
       "    </tr>\n",
       "  </tbody>\n",
       "</table>\n",
       "<p>648 rows × 2 columns</p>\n",
       "</div>"
      ],
      "text/plain": [
       "                                                 E-mails  spam\n",
       "550    Subject: re : teco gas processing company\\n- -...   0.0\n",
       "5666   Subject: the storage revolution has begun\\nnet...   0.0\n",
       "18685  Subject: let us \" show you the money ! \"\\nrece...   1.0\n",
       "14999  Subject: fw : fw : canadian legal entity\\nfyi\\...   0.0\n",
       "12306  Subject: re : eol mobile access\\nlouise did lo...   0.0\n",
       "...                                                  ...   ...\n",
       "2655   Subject: re : noms / actual flow for 03 / 01\\n...   0.0\n",
       "6158   Subject: re : resume\\nthanks , vince - -\\nvinc...   0.0\n",
       "2745   Subject: re : exxon company , usa global # 960...   0.0\n",
       "250    Subject: fw : whose needs ? ? ? ? ? ? ? ?\\n> p...   0.0\n",
       "24879  Subject: legal operating systems for less\\nsof...   1.0\n",
       "\n",
       "[648 rows x 2 columns]"
      ]
     },
     "execution_count": 18,
     "metadata": {},
     "output_type": "execute_result"
    }
   ],
   "source": [
    "df_0_ok"
   ]
  },
  {
   "cell_type": "markdown",
   "metadata": {},
   "source": [
    "Let's now use some EDA to visualise these e-mails. Note that due to the nature of the e-mails and the method we used to separate them, a couple of non-reply non-forward e-mails have gotten their way through as well. However, the quantity of those is irrelevant to our study:"
   ]
  },
  {
   "cell_type": "code",
   "execution_count": 19,
   "metadata": {},
   "outputs": [],
   "source": [
    "for i in range(0,9):\n",
    "    locals()['y_{}'.format(i)] = np.array([len(locals()['df_{}_ok'.format(i)]), len(locals()['df_{}'.format(i)]) - len(locals()['df_{}_ok'.format(i)])])\n",
    "\n",
    "y=np.array([len(df_train_ok), len(df_train)-len(df_train_ok)])"
   ]
  },
  {
   "cell_type": "code",
   "execution_count": 20,
   "metadata": {},
   "outputs": [
    {
     "data": {
      "image/png": "[encoded data removed]",
      "text/plain": [
       "<Figure size 432x288 with 1 Axes>"
      ]
     },
     "metadata": {},
     "output_type": "display_data"
    }
   ],
   "source": [
    "plt.pie(y, labels=[\"Replies or Forwards\", \"Neither\"])\n",
    "plt.show()"
   ]
  },
  {
   "cell_type": "code",
   "execution_count": 21,
   "metadata": {},
   "outputs": [
    {
     "data": {
      "image/png": "[encoded data removed]",
      "text/plain": [
       "<Figure size 432x288 with 8 Axes>"
      ]
     },
     "metadata": {},
     "output_type": "display_data"
    }
   ],
   "source": [
    "for i in range(1,9):\n",
    "    plt.subplot(3,3,i)\n",
    "    plt.pie(locals()['y_{}'.format(i)], labels=[\"Re or Fw\", \"Neither\"], autopct = '%.2f', colors = ['red', 'blue']) \n",
    "    plt.title('{}'.format(i))\n",
    "    \n",
    "plt.show()    "
   ]
  },
  {
   "cell_type": "markdown",
   "metadata": {},
   "source": [
    "This concludes our pre-requisites. We may now move on to the data cleaning process:"
   ]
  },
  {
   "cell_type": "markdown",
   "metadata": {},
   "source": [
    "## 2. Data Cleaning + Lemmatization\n",
    "\n",
    "Using the stopwords previously downloaded in stage 1, we aim to store them in a list. Moreover, if they were to be removed as such from out dataset, they would unfortunately be removed wherever their corresponding characters were found in the sequence forming the word, which is needless to say undesirable. For example, if the word 'red' was in the sequence not only would 'red' be removed from all e-mails; -- but if the word 'accreditation' or 'predict' featured in the e-mails somewhere, the word 'red' would be identified within them so they'd be reduced to 'accitation' and 'pict' respectively. And this is just one example of such mistake. The list notably contains a couple of single letters as well, such as 's', 't' and 'r' (for reasons unapparent to us), so they would all be removed as characters from everywhere in the e-mails. This would certainly make the e-mails unreadable and result in great discomfort for our models.\n",
    "\n",
    "The solution I chose was to spatiate both before and after the word, so that only it will ever be removed. This does leave the option of the word being the last or the first in a sentence - which unfortunately resulted in a number of errors - and the upside wasn't encountered often enough to justify the complication of our method. The proposal of this more advanced thought has been commented however. We will also remove the string 'Subject:' featuring at the start of every conversation:"
   ]
  },
  {
   "cell_type": "code",
   "execution_count": 22,
   "metadata": {},
   "outputs": [],
   "source": [
    "l1 = stopwords.words('english')\n",
    "lst1 = [' {} '.format(x) for x in l1]\n",
    "lst1.append('Subject:')\n",
    "lst1.append('Subject :')\n",
    "lst1.remove(' re ')\n",
    "# lst2 = [ '.{} '.format(x) for x in l1]\n",
    "# lst3 = [ ' {}.'.format(x) for x in l1]"
   ]
  },
  {
   "cell_type": "markdown",
   "metadata": {},
   "source": [
    "We now remove this list of common words from all e-mails:"
   ]
  },
  {
   "cell_type": "code",
   "execution_count": 23,
   "metadata": {},
   "outputs": [],
   "source": [
    "# Remove too common words from the list we procurred:\n",
    "for i in range(0,9):\n",
    "    locals()['df_{}'.format(i)]['E-mails'].replace(lst1, \" \", regex=True, inplace=True)\n",
    "    \n",
    "   #  locals()['df_{}'.format(i)]['E-mails'].replace(lst2, \" \", regex=True, inplace=True)\n",
    "   #  locals()['df_{}'.format(i)]['E-mails'].replace(lst3, \" \", regex=True, inplace=True)\n",
    "df_train['E-mails'].replace(lst1, \" \", regex=True, inplace=True)\n",
    "df_test['E-mails'].replace(lst1, \" \", regex=True, inplace=True)"
   ]
  },
  {
   "cell_type": "markdown",
   "metadata": {},
   "source": [
    "Similarily, punctuation plays no positive role to topic modelling, though helpful to us as humans. We will remove most of it, particularly so the commonly used characters:"
   ]
  },
  {
   "cell_type": "code",
   "execution_count": 24,
   "metadata": {},
   "outputs": [],
   "source": [
    "# Remove punctuation and often used symbols\n",
    "# \"[?!.,;()\"\\/|&-`#$%^]\"\n",
    "for i in range(0,9):\n",
    "    locals()['df_{}'.format(i)]['E-mails'].replace(r'[^\\w\\s]', \" \", regex=True, inplace=True)\n",
    "    \n",
    "df_train['E-mails'].replace(r'[^\\w\\s]', \" \", regex=True, inplace=True)\n",
    "df_test['E-mails'].replace(r'[^\\w\\s]', \" \", regex=True, inplace=True)"
   ]
  },
  {
   "cell_type": "markdown",
   "metadata": {},
   "source": [
    "Although some scam e-mails were in the form of 'You just won 1000000 dollars!', it's fair to say a model will detect other terms as being relevant without the numerical value. Otherwise, numbers as a whole are just as irrelevant as punctuation to our work so we'll remove them too:"
   ]
  },
  {
   "cell_type": "code",
   "execution_count": 25,
   "metadata": {},
   "outputs": [],
   "source": [
    "# Remove all numbers from the e-mails, as they're (mostly) redundant\n",
    "# \"[0-9999999999]\"\n",
    "\n",
    "for i in range(0,9):\n",
    "    locals()['df_{}'.format(i)]['E-mails'].replace('[0-9999999999]', \" \", regex=True, inplace=True)\n",
    "\n",
    "df_train['E-mails'].replace('[0-9999999999]', \" \", regex=True, inplace=True)\n",
    "df_test['E-mails'].replace('[0-9999999999]', \" \", regex=True, inplace=True)"
   ]
  },
  {
   "cell_type": "markdown",
   "metadata": {},
   "source": [
    "Let us take a look at what we've accomplished so far:"
   ]
  },
  {
   "cell_type": "code",
   "execution_count": 26,
   "metadata": {},
   "outputs": [
    {
     "data": {
      "text/html": [
       "<div>\n",
       "<style scoped>\n",
       "    .dataframe tbody tr th:only-of-type {\n",
       "        vertical-align: middle;\n",
       "    }\n",
       "\n",
       "    .dataframe tbody tr th {\n",
       "        vertical-align: top;\n",
       "    }\n",
       "\n",
       "    .dataframe thead th {\n",
       "        text-align: right;\n",
       "    }\n",
       "</style>\n",
       "<table border=\"1\" class=\"dataframe\">\n",
       "  <thead>\n",
       "    <tr style=\"text-align: right;\">\n",
       "      <th></th>\n",
       "      <th>E-mails</th>\n",
       "      <th>spam</th>\n",
       "    </tr>\n",
       "  </thead>\n",
       "  <tbody>\n",
       "    <tr>\n",
       "      <th>550</th>\n",
       "      <td>re   teco gas processing company\\n          ...</td>\n",
       "      <td>0.0</td>\n",
       "    </tr>\n",
       "    <tr>\n",
       "      <th>23398</th>\n",
       "      <td>suffer depression   try valium xanax   cance...</td>\n",
       "      <td>1.0</td>\n",
       "    </tr>\n",
       "    <tr>\n",
       "      <th>5666</th>\n",
       "      <td>storage revolution begun\\nnetwork world fusi...</td>\n",
       "      <td>0.0</td>\n",
       "    </tr>\n",
       "    <tr>\n",
       "      <th>18685</th>\n",
       "      <td>let us   show money    \\nreceive total      ...</td>\n",
       "      <td>1.0</td>\n",
       "    </tr>\n",
       "    <tr>\n",
       "      <th>9992</th>\n",
       "      <td>mariah dating service\\ni   mariah   girl n...</td>\n",
       "      <td>1.0</td>\n",
       "    </tr>\n",
       "    <tr>\n",
       "      <th>...</th>\n",
       "      <td>...</td>\n",
       "      <td>...</td>\n",
       "    </tr>\n",
       "    <tr>\n",
       "      <th>27268</th>\n",
       "      <td>boing         sound produced little pill  \\n...</td>\n",
       "      <td>1.0</td>\n",
       "    </tr>\n",
       "    <tr>\n",
       "      <th>12819</th>\n",
       "      <td>fyi   bod agenda deadlines\\nthe next bod com...</td>\n",
       "      <td>0.0</td>\n",
       "    </tr>\n",
       "    <tr>\n",
       "      <th>23533</th>\n",
       "      <td>fashion boys every taste   noode boys allso ...</td>\n",
       "      <td>1.0</td>\n",
       "    </tr>\n",
       "    <tr>\n",
       "      <th>26946</th>\n",
       "      <td>successful judgment recovery business\\nvery ...</td>\n",
       "      <td>1.0</td>\n",
       "    </tr>\n",
       "    <tr>\n",
       "      <th>20954</th>\n",
       "      <td>amazzing news\\nhow save precentor medlcation...</td>\n",
       "      <td>1.0</td>\n",
       "    </tr>\n",
       "  </tbody>\n",
       "</table>\n",
       "<p>24939 rows × 2 columns</p>\n",
       "</div>"
      ],
      "text/plain": [
       "                                                 E-mails  spam\n",
       "550      re   teco gas processing company\\n          ...   0.0\n",
       "23398    suffer depression   try valium xanax   cance...   1.0\n",
       "5666     storage revolution begun\\nnetwork world fusi...   0.0\n",
       "18685    let us   show money    \\nreceive total      ...   1.0\n",
       "9992       mariah dating service\\ni   mariah   girl n...   1.0\n",
       "...                                                  ...   ...\n",
       "27268    boing         sound produced little pill  \\n...   1.0\n",
       "12819    fyi   bod agenda deadlines\\nthe next bod com...   0.0\n",
       "23533    fashion boys every taste   noode boys allso ...   1.0\n",
       "26946    successful judgment recovery business\\nvery ...   1.0\n",
       "20954    amazzing news\\nhow save precentor medlcation...   1.0\n",
       "\n",
       "[24939 rows x 2 columns]"
      ]
     },
     "execution_count": 26,
     "metadata": {},
     "output_type": "execute_result"
    }
   ],
   "source": [
    "df_train"
   ]
  },
  {
   "cell_type": "code",
   "execution_count": 27,
   "metadata": {},
   "outputs": [
    {
     "data": {
      "text/html": [
       "<div>\n",
       "<style scoped>\n",
       "    .dataframe tbody tr th:only-of-type {\n",
       "        vertical-align: middle;\n",
       "    }\n",
       "\n",
       "    .dataframe tbody tr th {\n",
       "        vertical-align: top;\n",
       "    }\n",
       "\n",
       "    .dataframe thead th {\n",
       "        text-align: right;\n",
       "    }\n",
       "</style>\n",
       "<table border=\"1\" class=\"dataframe\">\n",
       "  <thead>\n",
       "    <tr style=\"text-align: right;\">\n",
       "      <th></th>\n",
       "      <th>E-mails</th>\n",
       "      <th>spam</th>\n",
       "    </tr>\n",
       "  </thead>\n",
       "  <tbody>\n",
       "    <tr>\n",
       "      <th>18999</th>\n",
       "      <td>sitescooper   scoop websites onto palmpilot ...</td>\n",
       "      <td>1.0</td>\n",
       "    </tr>\n",
       "    <tr>\n",
       "      <th>22109</th>\n",
       "      <td>el paso order complaint\\nattached summary el...</td>\n",
       "      <td>0.0</td>\n",
       "    </tr>\n",
       "    <tr>\n",
       "      <th>17507</th>\n",
       "      <td>final\\nthis absolutely final rewrite letter ...</td>\n",
       "      <td>0.0</td>\n",
       "    </tr>\n",
       "    <tr>\n",
       "      <th>23102</th>\n",
       "      <td>kase company derivatives energy professional...</td>\n",
       "      <td>0.0</td>\n",
       "    </tr>\n",
       "    <tr>\n",
       "      <th>22435</th>\n",
       "      <td>tw transportation contract        \\nmichelle...</td>\n",
       "      <td>0.0</td>\n",
       "    </tr>\n",
       "    <tr>\n",
       "      <th>...</th>\n",
       "      <td>...</td>\n",
       "      <td>...</td>\n",
       "    </tr>\n",
       "    <tr>\n",
       "      <th>1197</th>\n",
       "      <td>re   preliminary   buyback   deficiency deal...</td>\n",
       "      <td>0.0</td>\n",
       "    </tr>\n",
       "    <tr>\n",
       "      <th>26732</th>\n",
       "      <td>unique   logos               \\ndoes company ...</td>\n",
       "      <td>1.0</td>\n",
       "    </tr>\n",
       "    <tr>\n",
       "      <th>20398</th>\n",
       "      <td>tiffany hypes   internet address life  \\nhi ...</td>\n",
       "      <td>1.0</td>\n",
       "    </tr>\n",
       "    <tr>\n",
       "      <th>1902</th>\n",
       "      <td>re   meter           acock production       ...</td>\n",
       "      <td>0.0</td>\n",
       "    </tr>\n",
       "    <tr>\n",
       "      <th>5190</th>\n",
       "      <td>organizational changes\\nto   enron north ame...</td>\n",
       "      <td>0.0</td>\n",
       "    </tr>\n",
       "  </tbody>\n",
       "</table>\n",
       "<p>2777 rows × 2 columns</p>\n",
       "</div>"
      ],
      "text/plain": [
       "                                                 E-mails  spam\n",
       "18999    sitescooper   scoop websites onto palmpilot ...   1.0\n",
       "22109    el paso order complaint\\nattached summary el...   0.0\n",
       "17507    final\\nthis absolutely final rewrite letter ...   0.0\n",
       "23102    kase company derivatives energy professional...   0.0\n",
       "22435    tw transportation contract        \\nmichelle...   0.0\n",
       "...                                                  ...   ...\n",
       "1197     re   preliminary   buyback   deficiency deal...   0.0\n",
       "26732    unique   logos               \\ndoes company ...   1.0\n",
       "20398    tiffany hypes   internet address life  \\nhi ...   1.0\n",
       "1902     re   meter           acock production       ...   0.0\n",
       "5190     organizational changes\\nto   enron north ame...   0.0\n",
       "\n",
       "[2777 rows x 2 columns]"
      ]
     },
     "execution_count": 27,
     "metadata": {},
     "output_type": "execute_result"
    }
   ],
   "source": [
    "df_test"
   ]
  },
  {
   "cell_type": "markdown",
   "metadata": {},
   "source": [
    "We'll test a random subset too, say the 5th one:"
   ]
  },
  {
   "cell_type": "code",
   "execution_count": 28,
   "metadata": {},
   "outputs": [
    {
     "data": {
      "text/html": [
       "<div>\n",
       "<style scoped>\n",
       "    .dataframe tbody tr th:only-of-type {\n",
       "        vertical-align: middle;\n",
       "    }\n",
       "\n",
       "    .dataframe tbody tr th {\n",
       "        vertical-align: top;\n",
       "    }\n",
       "\n",
       "    .dataframe thead th {\n",
       "        text-align: right;\n",
       "    }\n",
       "</style>\n",
       "<table border=\"1\" class=\"dataframe\">\n",
       "  <thead>\n",
       "    <tr style=\"text-align: right;\">\n",
       "      <th></th>\n",
       "      <th>E-mails</th>\n",
       "      <th>spam</th>\n",
       "    </tr>\n",
       "  </thead>\n",
       "  <tbody>\n",
       "    <tr>\n",
       "      <th>9480</th>\n",
       "      <td>transportation   gillis g   whitaker post pr...</td>\n",
       "      <td>0.0</td>\n",
       "    </tr>\n",
       "    <tr>\n",
       "      <th>22913</th>\n",
       "      <td>re   lateral space\\n    proprietary    \\nmic...</td>\n",
       "      <td>0.0</td>\n",
       "    </tr>\n",
       "    <tr>\n",
       "      <th>1161</th>\n",
       "      <td>update prc process\\nplease read attached mem...</td>\n",
       "      <td>0.0</td>\n",
       "    </tr>\n",
       "    <tr>\n",
       "      <th>9145</th>\n",
       "      <td>re   pending approval ibuyit request wincent...</td>\n",
       "      <td>0.0</td>\n",
       "    </tr>\n",
       "    <tr>\n",
       "      <th>4003</th>\n",
       "      <td>barely age ready company\\nclick removed\\n</td>\n",
       "      <td>1.0</td>\n",
       "    </tr>\n",
       "    <tr>\n",
       "      <th>...</th>\n",
       "      <td>...</td>\n",
       "      <td>...</td>\n",
       "    </tr>\n",
       "    <tr>\n",
       "      <th>24994</th>\n",
       "      <td>payyless mlcrosoft streets trips     \\npay l...</td>\n",
       "      <td>1.0</td>\n",
       "    </tr>\n",
       "    <tr>\n",
       "      <th>9472</th>\n",
       "      <td>schedule\\nvince  \\nmy schedule risk      con...</td>\n",
       "      <td>0.0</td>\n",
       "    </tr>\n",
       "    <tr>\n",
       "      <th>11143</th>\n",
       "      <td>peoples energy board directors\\non april    ...</td>\n",
       "      <td>0.0</td>\n",
       "    </tr>\n",
       "    <tr>\n",
       "      <th>5423</th>\n",
       "      <td>re   additional bloomberg terminal weather g...</td>\n",
       "      <td>0.0</td>\n",
       "    </tr>\n",
       "    <tr>\n",
       "      <th>3752</th>\n",
       "      <td>security warning\\n</td>\n",
       "      <td>1.0</td>\n",
       "    </tr>\n",
       "  </tbody>\n",
       "</table>\n",
       "<p>2771 rows × 2 columns</p>\n",
       "</div>"
      ],
      "text/plain": [
       "                                                 E-mails  spam\n",
       "9480     transportation   gillis g   whitaker post pr...   0.0\n",
       "22913    re   lateral space\\n    proprietary    \\nmic...   0.0\n",
       "1161     update prc process\\nplease read attached mem...   0.0\n",
       "9145     re   pending approval ibuyit request wincent...   0.0\n",
       "4003           barely age ready company\\nclick removed\\n   1.0\n",
       "...                                                  ...   ...\n",
       "24994    payyless mlcrosoft streets trips     \\npay l...   1.0\n",
       "9472     schedule\\nvince  \\nmy schedule risk      con...   0.0\n",
       "11143    peoples energy board directors\\non april    ...   0.0\n",
       "5423     re   additional bloomberg terminal weather g...   0.0\n",
       "3752                                  security warning\\n   1.0\n",
       "\n",
       "[2771 rows x 2 columns]"
      ]
     },
     "execution_count": 28,
     "metadata": {},
     "output_type": "execute_result"
    }
   ],
   "source": [
    "df_4"
   ]
  },
  {
   "cell_type": "markdown",
   "metadata": {},
   "source": [
    "We will now define a tokenizer, which we'll use to separate words in the lists of e-mails. We then proceed to lemmatize:"
   ]
  },
  {
   "cell_type": "code",
   "execution_count": 29,
   "metadata": {},
   "outputs": [],
   "source": [
    "w_tokenizer = nltk.tokenize.WhitespaceTokenizer()\n",
    "lemmatizer = nltk.stem.WordNetLemmatizer()"
   ]
  },
  {
   "cell_type": "markdown",
   "metadata": {},
   "source": [
    "This function does the lemmatization:"
   ]
  },
  {
   "cell_type": "code",
   "execution_count": 30,
   "metadata": {},
   "outputs": [],
   "source": [
    "# nltk.download('wordnet')\n",
    "def lemmatize_text(text):\n",
    "    return [lemmatizer.lemmatize(w) for w in w_tokenizer.tokenize(text)]"
   ]
  },
  {
   "cell_type": "markdown",
   "metadata": {},
   "source": [
    "We apply it on our datasets:"
   ]
  },
  {
   "cell_type": "code",
   "execution_count": 31,
   "metadata": {},
   "outputs": [],
   "source": [
    "for i in range(0,9):\n",
    "    locals()['df_{}_lem'.format(i)] = locals()['df_{}'.format(i)]['E-mails'].apply(lemmatize_text)\n",
    "\n",
    "df_train_lem = df_train['E-mails'].apply(lemmatize_text)\n",
    "df_test_lem = df_test['E-mails'].apply(lemmatize_text)"
   ]
  },
  {
   "cell_type": "markdown",
   "metadata": {},
   "source": [
    "This is the result:"
   ]
  },
  {
   "cell_type": "code",
   "execution_count": 32,
   "metadata": {},
   "outputs": [
    {
     "data": {
      "text/plain": [
       "550      [re, teco, gas, processing, company, forwarded...\n",
       "23398    [suffer, depression, try, valium, xanax, cance...\n",
       "5666     [storage, revolution, begun, network, world, f...\n",
       "18685    [let, u, show, money, receive, total, cash, bo...\n",
       "9992     [mariah, dating, service, i, mariah, girl, nex...\n",
       "                               ...                        \n",
       "27268    [boing, sound, produced, little, pill, control...\n",
       "12819    [fyi, bod, agenda, deadline, the, next, bod, c...\n",
       "23533    [fashion, boy, every, taste, noode, boy, allso...\n",
       "26946    [successful, judgment, recovery, business, ver...\n",
       "20954    [amazzing, news, how, save, precentor, medlcat...\n",
       "Name: E-mails, Length: 24939, dtype: object"
      ]
     },
     "execution_count": 32,
     "metadata": {},
     "output_type": "execute_result"
    }
   ],
   "source": [
    "df_train_lem"
   ]
  },
  {
   "cell_type": "markdown",
   "metadata": {},
   "source": [
    "We will now try to implement TF-IDF on the lemmatized dataframes ourselves:"
   ]
  },
  {
   "cell_type": "markdown",
   "metadata": {},
   "source": [
    "## 3. An attempt at manual implementation of TF-IDF\n",
    "\n",
    "We will first have a go at a manual implementation of TF-IDF. We will follow the formulae closely. Firstly, to obtain TF, we compute how many times a term appears in a given document per all documents, and then divide by the number of terms in the document. This analysis can be extended for every of our datasets, but we'll mostly work with the large, training set one.\n",
    "\n",
    "Firstly, let's assign all the words in every individual document to a list and mark the datasets as a list of those lists. This will retain the initial length of the dataset while essentially transforming its type to a list:"
   ]
  },
  {
   "cell_type": "code",
   "execution_count": 60,
   "metadata": {},
   "outputs": [],
   "source": [
    "## All words used in df_n's:\n",
    "for i in range(0,9):\n",
    "    locals()['d{}'.format(i)] = locals()['df_{}'.format(i)].stack().str.split(\"[^\\w+]\").explode().tolist()\n",
    "\n",
    "dftrain = df_train['E-mails']\n",
    "dftrain = pd.DataFrame(dftrain, columns=['E-mails'])\n",
    "dftrain = df_train.stack().str.split(\"[^\\w+]\").explode().tolist()\n",
    "## Ignore the warnings please"
   ]
  },
  {
   "cell_type": "markdown",
   "metadata": {},
   "source": [
    "As we said, the following analysis could be done for all datasets, but we'll work with the main training one. We will do 3 things:\n",
    "\n",
    "1) Remove the null indentings which were extra added to the lists. These were due to the nature of our data cleaning and fully expected.\n",
    "\n",
    "2) We'll remove all words of fewer than 4 characters, since most of them are unimportant.\n",
    "\n",
    "3) Lastly, we'll get a list of all **unique** words in every document -- which will essentially act as our dictionary.\n",
    "\n",
    "We will then be able to look for terms in the assigned dictionary, knowing that nothing exists outside of it:"
   ]
  },
  {
   "cell_type": "markdown",
   "metadata": {},
   "source": [
    "Let us read the resulting dictionary:"
   ]
  },
  {
   "cell_type": "code",
   "execution_count": null,
   "metadata": {},
   "outputs": [],
   "source": [
    "## Remove the identings\n",
    "# for i in range(0,9):\n",
    "  #   locals()['d{}'.format(i)]= list(filter(None, locals()['d{}'.format(i)])) # our 'bag of words'\n",
    "    ## Remove fewer than 4 characters terms\n",
    "  #   locals()['d{}'.format(i)] = [token for token in locals()['d{}'.format(i)] if len(token)>4]\n",
    "    ## Read unique terms => dictionary\n",
    "   #  locals()['d{}_u'.format(i)] = np.unique(locals()['d{}'.format(i)]) # our dictionary, finally!\n",
    "\n",
    "dftrain = list(filter(None, dftrain))\n",
    "dftrain_u = []\n",
    "for n in dftrain:\n",
    "    try:\n",
    "        if(len(n)>4):\n",
    "            dftrain_u.append(n)\n",
    "    except:\n",
    "        pass\n",
    "        \n",
    "# dftrain = [n for n in dftrain if len(n)>4]\n",
    "dftrain_u = np.unique(dftrain_u)"
   ]
  },
  {
   "cell_type": "code",
   "execution_count": null,
   "metadata": {},
   "outputs": [],
   "source": [
    "dftrain_u"
   ]
  },
  {
   "cell_type": "markdown",
   "metadata": {},
   "source": [
    "We don't expect too many words in comparison with the total number of words, since most were repeated."
   ]
  },
  {
   "cell_type": "code",
   "execution_count": 264,
   "metadata": {},
   "outputs": [
    {
     "data": {
      "text/plain": [
       "100589"
      ]
     },
     "execution_count": 264,
     "metadata": {},
     "output_type": "execute_result"
    }
   ],
   "source": [
    "len(dftrain_u)"
   ]
  },
  {
   "cell_type": "markdown",
   "metadata": {},
   "source": [
    "We now define a function reading the number of occurences:"
   ]
  },
  {
   "cell_type": "code",
   "execution_count": 34,
   "metadata": {},
   "outputs": [],
   "source": [
    "def countX(lst, x): \n",
    "    return lst.count(x)"
   ]
  },
  {
   "cell_type": "markdown",
   "metadata": {},
   "source": [
    "Finally, it's time to compute the number of occurences of each term in the documents, i.e. in every sublist of our list of words. The words are picked from the dictionary and looped through every list.\n",
    "\n",
    "**DISCLAIMER:** The following piece of code may take beyond 1h to run. This is due to an O(n^2) complexity with a pretty large n. The user may choose to skip this and jump straight to the result, which we offer a quick check of validity for. Moreover, this will turn out to be _unimportant_ in our final discoveries and proper implementation, i.e. this entire section is more or less optional to the project, mainly kept for record."
   ]
  },
  {
   "cell_type": "code",
   "execution_count": 266,
   "metadata": {},
   "outputs": [],
   "source": [
    "## WARNING: Immense runtime expected, ~ 1 hour \n",
    "v = np.zeros(len(dftrain))\n",
    "i = 0\n",
    "for x in dftrain_u:\n",
    "    v[i] = countX(dftrain,x)\n",
    "    i = i + 1"
   ]
  },
  {
   "cell_type": "markdown",
   "metadata": {},
   "source": [
    "Finally, we print the occurences of every term:"
   ]
  },
  {
   "cell_type": "code",
   "execution_count": 268,
   "metadata": {},
   "outputs": [
    {
     "data": {
      "text/plain": [
       "2620892"
      ]
     },
     "execution_count": 268,
     "metadata": {},
     "output_type": "execute_result"
    }
   ],
   "source": [
    "v ## Number of occurences of every element\n",
    "len(v)"
   ]
  },
  {
   "cell_type": "markdown",
   "metadata": {},
   "source": [
    "This is _almost_ the TF (Term Frequency). We only need to divide by len(dftrain) - i.e. the total number of terms in the documents. Finally, if we sum over all frequencies we should get a result that's really, really close to 1, since the words exhaustively describe the dictionary. The arbitrary Epsilon +/- from 1 is just random noise from the computation."
   ]
  },
  {
   "cell_type": "code",
   "execution_count": 270,
   "metadata": {},
   "outputs": [
    {
     "data": {
      "text/plain": [
       "1.000000000000923"
      ]
     },
     "execution_count": 270,
     "metadata": {},
     "output_type": "execute_result"
    }
   ],
   "source": [
    "v1 = v/len(dftrain) \n",
    "\t## This stores the term frequencies of all terms in dftrain\n",
    "\t## They're stored in indices corresponding to the indices of df1_u, i.e. v1[i] is the term frequency of term on the ith position in df1_u\n",
    "sum(v1) # should be very, VERY close to 1"
   ]
  },
  {
   "cell_type": "markdown",
   "metadata": {},
   "source": [
    "To implement the IDF(Inverse Document Frequency) we use a very similar strategy. We'll define a function which simply mathematically follows the formula of IDF implementation:"
   ]
  },
  {
   "cell_type": "code",
   "execution_count": null,
   "metadata": {},
   "outputs": [],
   "source": [
    "## Define IDF\n",
    "def computeIDF(docList):\n",
    "    idfDict = {}\n",
    "    N = len(docList)\n",
    "    idfDict = dict.fromkeys(docList[0].keys(), 0)\n",
    "    for doc in docList:\n",
    "        for word, val in doc.items():\n",
    "            if val>0:\n",
    "                idfDict[word] = idfDict[word] + 1\n",
    "    for word, val in idfDict.items():\n",
    "        idfDict[word] = math.log10(N/float(val))\n",
    "    return idfDict"
   ]
  },
  {
   "cell_type": "markdown",
   "metadata": {},
   "source": [
    "Seeing how long TF took to run, it is clear by complexity that IDF will take even longer. This function is unadvisable for large datasets, and certainly unsuited for ours. Neither was our manual TF implementation. Hence, to avoid carrying this kind of code around to our accuracy report and visualisation, we give up and attempt a pre-established route. However, this experiment serves as an important reminder of function optimization!"
   ]
  },
  {
   "cell_type": "markdown",
   "metadata": {},
   "source": [
    "## 4. TF-IDF\n",
    "\n",
    "Here we implement the TF-IDF model using gensim. We'll then add it to our report and make it available to the rest of the contributors via the pickle library. To start things off, we'll need the e-mails to be formatted as lists. This is easily done:"
   ]
  },
  {
   "cell_type": "code",
   "execution_count": 33,
   "metadata": {},
   "outputs": [
    {
     "data": {
      "text/plain": [
       "[['request',\n",
       "  'submitted',\n",
       "  'access',\n",
       "  'request',\n",
       "  'andrew',\n",
       "  'burk',\n",
       "  'enron',\n",
       "  'com',\n",
       "  'you',\n",
       "  'received',\n",
       "  'email',\n",
       "  'listed',\n",
       "  'security',\n",
       "  'approver',\n",
       "  'please',\n",
       "  'click',\n",
       "  'approval',\n",
       "  'review',\n",
       "  'act',\n",
       "  'upon',\n",
       "  'request',\n",
       "  'request',\n",
       "  'id',\n",
       "  'request',\n",
       "  'create',\n",
       "  'date',\n",
       "  'am',\n",
       "  'requested',\n",
       "  'andrew',\n",
       "  'burk',\n",
       "  'enron',\n",
       "  'com',\n",
       "  'resource',\n",
       "  'name',\n",
       "  'eol',\n",
       "  'u',\n",
       "  'backoffice',\n",
       "  'stack',\n",
       "  'manager',\n",
       "  'resource',\n",
       "  'type',\n",
       "  'application']]"
      ]
     },
     "execution_count": 33,
     "metadata": {},
     "output_type": "execute_result"
    }
   ],
   "source": [
    "for i in range(0,9):\n",
    "    locals()['df_{}_lem_list'.format(i)] = locals()['df_{}_lem'.format(i)].values.tolist()\n",
    "\n",
    "df_train_lem_list = df_train_lem.values.tolist()\n",
    "df_test_lem_list = df_test_lem.values.tolist()\n",
    "df_3_lem_list[0:1]"
   ]
  },
  {
   "cell_type": "markdown",
   "metadata": {},
   "source": [
    "We now ought to create a dictionary. To do so, we will compose it out of all the words in the training set, but remove the words with fewer than or equal to 4 letters in the process."
   ]
  },
  {
   "cell_type": "code",
   "execution_count": 34,
   "metadata": {},
   "outputs": [
    {
     "data": {
      "text/plain": [
       "[['processing',\n",
       "  'company',\n",
       "  'forwarded',\n",
       "  'george',\n",
       "  'weissman',\n",
       "  'smith',\n",
       "  'eisenhour',\n",
       "  'george',\n",
       "  'weissman',\n",
       "  'wardle',\n",
       "  'subject',\n",
       "  'processing',\n",
       "  'company',\n",
       "  'still',\n",
       "  'problem',\n",
       "  'nominate',\n",
       "  'forward',\n",
       "  'meter',\n",
       "  'please',\n",
       "  'status',\n",
       "  'thanks',\n",
       "  'forwarded',\n",
       "  'smith',\n",
       "  'gregory',\n",
       "  'allen',\n",
       "  'jackson',\n",
       "  'eisenhour',\n",
       "  'smith',\n",
       "  'george',\n",
       "  'weissman',\n",
       "  'subject',\n",
       "  'processing',\n",
       "  'company',\n",
       "  'going',\n",
       "  'ticket',\n",
       "  'houston',\n",
       "  'pipeline',\n",
       "  'company',\n",
       "  'anywhere',\n",
       "  'january',\n",
       "  'march',\n",
       "  'houston',\n",
       "  'pipeline',\n",
       "  'company',\n",
       "  'resource',\n",
       "  'original',\n",
       "  'stated',\n",
       "  'think',\n",
       "  'processing',\n",
       "  'appear',\n",
       "  'market',\n",
       "  'supply',\n",
       "  'depending',\n",
       "  'position',\n",
       "  'please',\n",
       "  'something',\n",
       "  'smith',\n",
       "  'george',\n",
       "  'weissman',\n",
       "  'eisenhour',\n",
       "  'gregory',\n",
       "  'allen',\n",
       "  'jackson',\n",
       "  'subject',\n",
       "  'processing',\n",
       "  'company',\n",
       "  'sitara',\n",
       "  'reflect',\n",
       "  'forward',\n",
       "  'thanks',\n",
       "  'forwarded',\n",
       "  'smith',\n",
       "  'gregory',\n",
       "  'allen',\n",
       "  'jackson',\n",
       "  'jennifer',\n",
       "  'meador',\n",
       "  'smith',\n",
       "  'theresa',\n",
       "  'kotrla',\n",
       "  'lamphier',\n",
       "  'sabrae',\n",
       "  'zajac',\n",
       "  'subject',\n",
       "  'processing',\n",
       "  'company',\n",
       "  'message',\n",
       "  'voice',\n",
       "  'concerning',\n",
       "  'addition',\n",
       "  'other',\n",
       "  'producer',\n",
       "  'meter',\n",
       "  'following',\n",
       "  'setup',\n",
       "  'transport',\n",
       "  'delivery',\n",
       "  'needed',\n",
       "  'think',\n",
       "  'arrangement',\n",
       "  'ticket',\n",
       "  'lamphier',\n",
       "  'looking',\n",
       "  'exxon',\n",
       "  'creek',\n",
       "  'receipt',\n",
       "  'meter',\n",
       "  'final',\n",
       "  'determination',\n",
       "  'whether',\n",
       "  'either',\n",
       "  'setup',\n",
       "  'summary',\n",
       "  'related',\n",
       "  'transportation',\n",
       "  'delivery',\n",
       "  'final',\n",
       "  'determination',\n",
       "  'whether',\n",
       "  'current',\n",
       "  'purchase',\n",
       "  'exxon',\n",
       "  'creek',\n",
       "  'correct',\n",
       "  'purchasing',\n",
       "  'starting',\n",
       "  'february',\n",
       "  'business',\n",
       "  'thanks',\n",
       "  'forwarded',\n",
       "  'gregory',\n",
       "  'allen',\n",
       "  'jackson',\n",
       "  'enron',\n",
       "  'capital',\n",
       "  'trade',\n",
       "  'resource',\n",
       "  'george',\n",
       "  'weissman',\n",
       "  'gregory',\n",
       "  'allen',\n",
       "  'jackson',\n",
       "  'brazaitis',\n",
       "  'coffey',\n",
       "  'subject',\n",
       "  'processing',\n",
       "  'company',\n",
       "  'contract',\n",
       "  'george',\n",
       "  'weissman',\n",
       "  'johnson',\n",
       "  'cynthia',\n",
       "  'hakemack',\n",
       "  'nidia',\n",
       "  'martinez',\n",
       "  'alexia',\n",
       "  'gonzales',\n",
       "  'smith',\n",
       "  'vance',\n",
       "  'taylor',\n",
       "  'melissa',\n",
       "  'subject',\n",
       "  'processing',\n",
       "  'houston',\n",
       "  'company',\n",
       "  'forwarding',\n",
       "  'committed',\n",
       "  'reserve',\n",
       "  'agreement',\n",
       "  'first',\n",
       "  'purchaser',\n",
       "  'contract',\n",
       "  'information',\n",
       "  'contract',\n",
       "  'global',\n",
       "  'number',\n",
       "  'synergi',\n",
       "  'number',\n",
       "  'please',\n",
       "  'question',\n",
       "  'thanks',\n",
       "  'daniel',\n",
       "  'forwarded',\n",
       "  'george',\n",
       "  'weissman',\n",
       "  'enron',\n",
       "  'capital',\n",
       "  'trade',\n",
       "  'resource',\n",
       "  'george',\n",
       "  'weissman',\n",
       "  'vance',\n",
       "  'taylor',\n",
       "  'melissa',\n",
       "  'elizabeth',\n",
       "  'white',\n",
       "  'coffey',\n",
       "  'brazaitis',\n",
       "  'subject',\n",
       "  'processing',\n",
       "  'company',\n",
       "  'melissa',\n",
       "  'second',\n",
       "  'sentence',\n",
       "  'refers',\n",
       "  'processing',\n",
       "  'company',\n",
       "  'contract',\n",
       "  'covering',\n",
       "  'meter',\n",
       "  'contract',\n",
       "  'obtained',\n",
       "  'connection',\n",
       "  'seven',\n",
       "  'turpentine',\n",
       "  'lease',\n",
       "  'renewal',\n",
       "  'appear',\n",
       "  'system',\n",
       "  'please',\n",
       "  'ensure',\n",
       "  'contract',\n",
       "  'filed',\n",
       "  'george',\n",
       "  'forwarded',\n",
       "  'george',\n",
       "  'weissman',\n",
       "  'enron',\n",
       "  'capital',\n",
       "  'trade',\n",
       "  'resource',\n",
       "  'melissa',\n",
       "  'george',\n",
       "  'weissman',\n",
       "  'amelia',\n",
       "  'alland',\n",
       "  'daniel',\n",
       "  'verastegui',\n",
       "  'subject',\n",
       "  'swift',\n",
       "  'energy',\n",
       "  'company',\n",
       "  'meter',\n",
       "  'george',\n",
       "  'workday',\n",
       "  'meeting',\n",
       "  'asked',\n",
       "  'paper',\n",
       "  'above',\n",
       "  'referenced',\n",
       "  'checked',\n",
       "  'database',\n",
       "  'appears',\n",
       "  'contract',\n",
       "  'system',\n",
       "  'reflect',\n",
       "  'point',\n",
       "  'checked',\n",
       "  'processing',\n",
       "  'company',\n",
       "  'appear',\n",
       "  'paper',\n",
       "  'either',\n",
       "  'thank',\n",
       "  'melissa']]"
      ]
     },
     "execution_count": 34,
     "metadata": {},
     "output_type": "execute_result"
    }
   ],
   "source": [
    "lister = [[] for x in range(len(df_train_lem))]\n",
    "for i in range(len(df_train_lem_list)):\n",
    "    l = df_train_lem_list[i]\n",
    "    for token in l:\n",
    "        if len(token)>4:\n",
    "            lister[i].append(token)\n",
    "\n",
    "lister[0:1]"
   ]
  },
  {
   "cell_type": "markdown",
   "metadata": {},
   "source": [
    "We now use gensim and our defined list to create the dictionary"
   ]
  },
  {
   "cell_type": "code",
   "execution_count": 35,
   "metadata": {},
   "outputs": [],
   "source": [
    "dictionary = gensim.corpora.Dictionary(lister)"
   ]
  },
  {
   "cell_type": "markdown",
   "metadata": {},
   "source": [
    "Next, the corpus"
   ]
  },
  {
   "cell_type": "code",
   "execution_count": 36,
   "metadata": {},
   "outputs": [],
   "source": [
    "bow_corpus = [dictionary.doc2bow(doc) for doc in lister]"
   ]
  },
  {
   "cell_type": "markdown",
   "metadata": {},
   "source": [
    "Finally, we have our model - applied on the corpus on the defined dictionary. These values will have to be modified if we choose a different sample set, i.e. when using the df_test one for instance:"
   ]
  },
  {
   "cell_type": "code",
   "execution_count": 37,
   "metadata": {},
   "outputs": [],
   "source": [
    "tfidf=gensim.models.TfidfModel(bow_corpus)\n",
    "tfidf_corp = tfidf[bow_corpus]"
   ]
  },
  {
   "cell_type": "code",
   "execution_count": 38,
   "metadata": {},
   "outputs": [
    {
     "data": {
      "text/plain": [
       "[[(0, 1),\n",
       "  (1, 1),\n",
       "  (2, 1),\n",
       "  (3, 1),\n",
       "  (4, 1),\n",
       "  (5, 5),\n",
       "  (6, 1),\n",
       "  (7, 1),\n",
       "  (8, 3),\n",
       "  (9, 1),\n",
       "  (10, 1),\n",
       "  (11, 1),\n",
       "  (12, 2),\n",
       "  (13, 1),\n",
       "  (14, 3),\n",
       "  (15, 2),\n",
       "  (16, 2),\n",
       "  (17, 1),\n",
       "  (18, 13),\n",
       "  (19, 1),\n",
       "  (20, 1),\n",
       "  (21, 7),\n",
       "  (22, 1),\n",
       "  (23, 1),\n",
       "  (24, 2),\n",
       "  (25, 1),\n",
       "  (26, 1),\n",
       "  (27, 2),\n",
       "  (28, 1),\n",
       "  (29, 2),\n",
       "  (30, 1),\n",
       "  (31, 2),\n",
       "  (32, 3),\n",
       "  (33, 2),\n",
       "  (34, 1),\n",
       "  (35, 1),\n",
       "  (36, 3),\n",
       "  (37, 1),\n",
       "  (38, 2),\n",
       "  (39, 1),\n",
       "  (40, 1),\n",
       "  (41, 2),\n",
       "  (42, 1),\n",
       "  (43, 1),\n",
       "  (44, 2),\n",
       "  (45, 6),\n",
       "  (46, 1),\n",
       "  (47, 12),\n",
       "  (48, 1),\n",
       "  (49, 1),\n",
       "  (50, 1),\n",
       "  (51, 5),\n",
       "  (52, 1),\n",
       "  (53, 3),\n",
       "  (54, 1),\n",
       "  (55, 5),\n",
       "  (56, 1),\n",
       "  (57, 1),\n",
       "  (58, 1),\n",
       "  (59, 1),\n",
       "  (60, 2),\n",
       "  (61, 1),\n",
       "  (62, 1),\n",
       "  (63, 1),\n",
       "  (64, 1),\n",
       "  (65, 1),\n",
       "  (66, 1),\n",
       "  (67, 1),\n",
       "  (68, 5),\n",
       "  (69, 1),\n",
       "  (70, 5),\n",
       "  (71, 1),\n",
       "  (72, 1),\n",
       "  (73, 1),\n",
       "  (74, 2),\n",
       "  (75, 1),\n",
       "  (76, 1),\n",
       "  (77, 1),\n",
       "  (78, 2),\n",
       "  (79, 2),\n",
       "  (80, 4),\n",
       "  (81, 1),\n",
       "  (82, 1),\n",
       "  (83, 1),\n",
       "  (84, 11),\n",
       "  (85, 1),\n",
       "  (86, 1),\n",
       "  (87, 1),\n",
       "  (88, 1),\n",
       "  (89, 1),\n",
       "  (90, 1),\n",
       "  (91, 1),\n",
       "  (92, 1),\n",
       "  (93, 2),\n",
       "  (94, 1),\n",
       "  (95, 1),\n",
       "  (96, 1),\n",
       "  (97, 4),\n",
       "  (98, 1),\n",
       "  (99, 1),\n",
       "  (100, 1),\n",
       "  (101, 2),\n",
       "  (102, 1),\n",
       "  (103, 1),\n",
       "  (104, 7),\n",
       "  (105, 1),\n",
       "  (106, 1),\n",
       "  (107, 1),\n",
       "  (108, 1),\n",
       "  (109, 1),\n",
       "  (110, 8),\n",
       "  (111, 1),\n",
       "  (112, 1),\n",
       "  (113, 1),\n",
       "  (114, 1),\n",
       "  (115, 2),\n",
       "  (116, 2),\n",
       "  (117, 1),\n",
       "  (118, 4),\n",
       "  (119, 1),\n",
       "  (120, 2),\n",
       "  (121, 2),\n",
       "  (122, 3),\n",
       "  (123, 1),\n",
       "  (124, 1),\n",
       "  (125, 1),\n",
       "  (126, 2),\n",
       "  (127, 1),\n",
       "  (128, 1),\n",
       "  (129, 1),\n",
       "  (130, 10),\n",
       "  (131, 2),\n",
       "  (132, 1),\n",
       "  (133, 1),\n",
       "  (134, 1)]]"
      ]
     },
     "execution_count": 38,
     "metadata": {},
     "output_type": "execute_result"
    }
   ],
   "source": [
    "bow_corpus[0:1]"
   ]
  },
  {
   "cell_type": "markdown",
   "metadata": {},
   "source": [
    "We will now have a first attempt at running the model. We expect this one to be heavily suboptimal. Suppose we choose a random number of topics initially, say 6, and see how it performs:"
   ]
  },
  {
   "cell_type": "code",
   "execution_count": 39,
   "metadata": {},
   "outputs": [],
   "source": [
    "lda_model_tfidf = gensim.models.LdaMulticore(tfidf_corp, num_topics=6, id2word=dictionary, passes=2, workers=4)"
   ]
  },
  {
   "cell_type": "markdown",
   "metadata": {},
   "source": [
    "To visualise it, we use the following set of code:"
   ]
  },
  {
   "cell_type": "code",
   "execution_count": 40,
   "metadata": {},
   "outputs": [],
   "source": [
    "# !python -m pip install pyLDAvis\n",
    "import pyLDAvis.gensim\n",
    "pyLDAvis.enable_notebook()"
   ]
  },
  {
   "cell_type": "code",
   "execution_count": 41,
   "metadata": {},
   "outputs": [
    {
     "data": {
      "text/html": [
       "\n",
       "\n",
       "<link rel=\"stylesheet\" type=\"text/css\" href=\"https://cdn.jsdelivr.net/gh/bmabey/pyLDAvis/pyLDAvis/js/ldavis.v1.0.0.css\">\n",
       "\n",
       "<div id=\"ldavis_el2033216662749864646229016948\"></div>\n",
       "<script type=\"text/javascript\">\n",
       "\n",
       "var ldavis_el2033216662749864646229016948_data = {\"mdsDat\": {\"x\": [-0.02303311534377791, -0.07244171155176751, -0.053380086844396615, 0.04300181943474035, 0.07209003187008019, 0.03376306243512151], \"y\": [0.15188551953463791, -0.0697606674573788, 0.0033214724426648594, 0.026539284063982926, -0.04616315544554287, -0.065822453138364], \"topics\": [1, 2, 3, 4, 5, 6], \"cluster\": [1, 1, 1, 1, 1, 1], \"Freq\": [49.806962058441485, 16.7660054184644, 13.438409269488144, 8.134637692114936, 6.6656836856367345, 5.188301875854298]}, \"tinfo\": {\"Term\": [\"enron\", \"attached\", \"adobe\", \"actuals\", \"software\", \"statement\", \"company\", \"mmbtu\", \"hplno\", \"security\", \"eastrans\", \"lottery\", \"stock\", \"iferc\", \"viagra\", \"online\", \"claim\", \"price\", \"daily\", \"investment\", \"nomination\", \"click\", \"chokshi\", \"website\", \"offer\", \"prize\", \"medication\", \"august\", \"prescription\", \"money\", \"midcon\", \"hilliard\", \"marlene\", \"elliott\", \"hplnl\", \"lindsay\", \"megan\", \"equistar\", \"hplol\", \"gossett\", \"mojave\", \"offsite\", \"zimin\", \"redelivered\", \"archer\", \"lannou\", \"aimee\", \"entex\", \"creatinq\", \"netco\", \"posting\", \"loughridge\", \"trigger\", \"iasts\", \"imaqe\", \"beaumont\", \"renaud\", \"cotten\", \"amitava\", \"mobil\", \"tenaska\", \"calpine\", \"crenshaw\", \"shirley\", \"portland\", \"oasis\", \"vince\", \"interview\", \"houston\", \"kaminski\", \"meter\", \"daren\", \"presentation\", \"meeting\", \"louise\", \"kitchen\", \"sally\", \"enron\", \"enronxgate\", \"sitara\", \"robert\", \"forwarded\", \"thanks\", \"schedule\", \"discus\", \"group\", \"subject\", \"employee\", \"friday\", \"volume\", \"option\", \"request\", \"contract\", \"would\", \"question\", \"research\", \"please\", \"trading\", \"monday\", \"management\", \"original\", \"energy\", \"attached\", \"message\", \"change\", \"power\", \"business\", \"office\", \"information\", \"emerson\", \"lotto\", \"piiis\", \"khodorkovsky\", \"symbolic\", \"paypal\", \"chrissy\", \"ooking\", \"mikhail\", \"vocalscape\", \"couid\", \"pubiisher\", \"materia\", \"baggerly\", \"eyewear\", \"newsietter\", \"maisonette\", \"resuits\", \"remitted\", \"bankroll\", \"natura\", \"adclick\", \"hannigan\", \"aerofoam\", \"livegraphics\", \"unwarranted\", \"castro\", \"vinoble\", \"oncxbv\", \"pmoney\", \"piease\", \"peopie\", \"lottery\", \"shouid\", \"potentia\", \"wyoming\", \"batch\", \"winning\", \"ballot\", \"technoiogy\", \"prize\", \"statement\", \"unclaimed\", \"featured\", \"struggle\", \"projection\", \"investing\", \"claim\", \"convinient\", \"claiming\", \"netherlands\", \"winner\", \"advice\", \"security\", \"publisher\", \"meaning\", \"differ\", \"stock\", \"investment\", \"congratulation\", \"wysak\", \"search\", \"company\", \"international\", \"africa\", \"foreign\", \"website\", \"money\", \"promotion\", \"investor\", \"agent\", \"account\", \"award\", \"share\", \"information\", \"within\", \"number\", \"million\", \"email\", \"report\", \"future\", \"address\", \"program\", \"business\", \"online\", \"please\", \"squirrelmail\", \"mailwisconsin\", \"computron\", \"saave\", \"llcensed\", \"shippinq\", \"internetstore\", \"lnterest\", \"reflnance\", \"projecthoneypot\", \"dragstore\", \"authenticated\", \"qmail\", \"piaget\", \"countrieswe\", \"macrmedia\", \"vmware\", \"cheaap\", \"riverdeep\", \"samira\", \"vuitton\", \"powerquest\", \"roxio\", \"castillo\", \"eyeforenergy\", \"playstation\", \"carpenter\", \"prescrip\", \"cartier\", \"bloow\", \"intuit\", \"autodesk\", \"quark\", \"shiiip\", \"symantec\", \"encoding\", \"belize\", \"replica\", \"borland\", \"xanax\", \"normal\", \"viagra\", \"shipping\", \"store\", \"orgasm\", \"medication\", \"popular\", \"software\", \"online\", \"penis\", \"coupon\", \"prescription\", \"softtabs\", \"price\", \"incredibly\", \"super\", \"order\", \"sexual\", \"choose\", \"microsoft\", \"click\", \"pharmacy\", \"special\", \"adobe\", \"email\", \"quality\", \"message\", \"customer\", \"every\", \"address\", \"offer\", \"mailing\", \"received\", \"product\", \"visit\", \"system\", \"money\", \"hplno\", \"iaagra\", \"minhplno\", \"sdsnom\", \"corei\", \"iferc\", \"wassup\", \"ponton\", \"avila\", \"enserch\", \"thebestmortage\", \"dreamweaver\", \"homesite\", \"medssno\", \"ciaaliis\", \"aliuum\", \"loqos\", \"ambieen\", \"shippiing\", \"eileen\", \"worldvideobusiness\", \"richness\", \"logodentity\", \"revamping\", \"pserc\", \"powerfui\", \"brinq\", \"artwork\", \"edmondson\", \"superviagra\", \"breathing\", \"regalis\", \"localized\", \"actuals\", \"breath\", \"carefui\", \"reliantenergy\", \"macromedia\", \"premiere\", \"xanaax\", \"adobe\", \"native\", \"studio\", \"attached\", \"chokshi\", \"creative\", \"graphic\", \"software\", \"enron\", \"window\", \"rolex\", \"photoshop\", \"offer\", \"daily\", \"august\", \"utility\", \"version\", \"click\", \"stationery\", \"article\", \"business\", \"power\", \"marketing\", \"price\", \"weekly\", \"market\", \"please\", \"company\", \"hplnol\", \"nepel\", \"guadalupe\", \"backgammon\", \"porno\", \"perscriptions\", \"seaquote\", \"soussan\", \"quelqu\", \"labguard\", \"pronghorn\", \"waist\", \"highland\", \"resize\", \"exclusiverewards\", \"watmj\", \"maple\", \"bxjqlhgh\", \"ghirardelli\", \"joann\", \"optinrealbig\", \"saiba\", \"chanley\", \"allex\", \"maceuticai\", \"futuros\", \"phenter\", \"sistemas\", \"spray\", \"holly\", \"tadalafil\", \"jumpstartlovelife\", \"hershey\", \"depot\", \"cotton\", \"congrats\", \"eastrans\", \"redeliveries\", \"dissolve\", \"valley\", \"sidebacks\", \"ingredient\", \"cialis\", \"pharmacy\", \"mmbtu\", \"prescription\", \"brand\", \"tongue\", \"erection\", \"nomination\", \"worldwide\", \"effective\", \"generic\", \"quality\", \"delivery\", \"world\", \"treatment\", \"online\", \"impotence\", \"excelled\", \"click\", \"product\", \"customer\", \"please\", \"price\", \"would\", \"check\", \"peanut\", \"trafficmagnet\", \"extender\", \"uniimited\", \"igsupdate\", \"needsand\", \"eprocurement\", \"warit\", \"fraisy\", \"additionai\", \"chanqes\", \"vietnam\", \"bessik\", \"matchavariani\", \"maddox\", \"byargeon\", \"masada\", \"contemporary\", \"chess\", \"burchett\", \"rhythm\", \"variant\", \"delma\", \"remembered\", \"jmstrong\", \"cheapst\", \"piazzet\", \"severai\", \"inexpnsive\", \"proces\", \"thankyou\", \"fiexible\", \"flexibie\", \"upwards\", \"turnaround\", \"shannon\", \"sometimes\", \"dynamic\", \"charity\", \"steinberg\", \"satisfaction\", \"wysak\", \"improvement\", \"heart\", \"medication\", \"business\", \"competitor\", \"competitive\", \"several\", \"image\", \"creative\", \"company\", \"stationery\", \"special\", \"format\", \"price\", \"second\", \"website\", \"right\", \"enron\", \"discount\", \"design\", \"order\"], \"Freq\": [551.0, 193.0, 64.0, 45.0, 136.0, 88.0, 204.0, 100.0, 28.0, 93.0, 32.0, 44.0, 89.0, 24.0, 69.0, 107.0, 53.0, 153.0, 90.0, 70.0, 81.0, 116.0, 28.0, 86.0, 108.0, 35.0, 43.0, 60.0, 40.0, 107.0, 22.506374428405124, 11.002500244896456, 11.401870046085467, 11.579974465757884, 32.742375899019024, 15.527137322852479, 34.90842177871465, 22.04750036050762, 8.4429535167606, 16.76688434830633, 8.619974313052602, 26.426117166267318, 41.755959220681355, 9.905731865937746, 15.032513791828338, 16.65234171796273, 27.985970783835107, 23.68306407504026, 13.006598003883443, 41.41798194037492, 27.083284204353703, 8.391657798243019, 14.124296891904534, 12.891299263196046, 15.179945200441695, 20.99153161483278, 9.06572663178857, 25.76012547136095, 12.694313312625523, 24.097636950521657, 52.06966821344639, 38.684060802150356, 55.26234616181461, 82.82555624425288, 23.15416286786885, 22.576510738691237, 242.6667006775392, 87.93300479255595, 120.79087553574726, 136.80458907084451, 138.25714577858253, 99.0363194130111, 88.96835032535091, 159.35697503752363, 141.3301399506064, 81.51204297235707, 64.56993914946013, 478.3787711935085, 45.36176453946196, 53.838363955678815, 66.89517658180618, 100.77313317630856, 168.50932280244143, 76.67346241026321, 60.589758126229455, 128.37936876766844, 161.622313974506, 77.94346092536789, 82.32122660156945, 103.41676180069713, 92.47051596321063, 107.8036250612492, 111.01993246870379, 164.88290437920801, 114.43057236462667, 95.42638985599162, 188.21439938292218, 91.67831449145251, 79.30871317030768, 94.04445466303841, 95.32680163263483, 116.57494982008483, 131.30637299277717, 114.27728009000619, 95.40215389128188, 97.39238996424683, 103.54758910702813, 92.32620805855761, 92.64024049685354, 10.20108138103814, 16.36137842163446, 5.018562601977598, 5.239896397459175, 4.900578547094028, 18.688902682502395, 4.673066136499049, 11.986250631881731, 4.874659872581253, 5.231874542007117, 7.622898211366495, 6.429302604851314, 9.36663147384025, 3.977501003136466, 4.309959018680256, 6.491003688589241, 3.8880478723650556, 6.901622648476785, 8.522010908764864, 3.745175139000667, 5.69794655552397, 3.735396131414806, 3.7535372640371176, 7.014526818734955, 3.6446877461465705, 6.612017163582658, 5.805557151857744, 4.962287797301981, 3.434025825640301, 3.4334899010448825, 8.547570598866105, 11.918180382063142, 38.50621552723786, 7.917634961593264, 7.000034737135671, 12.576363839153927, 14.708033010480442, 27.28655824203443, 10.565685004489092, 7.596852616298741, 28.985265672023008, 67.58071893938536, 11.156177952617469, 13.060282992372176, 13.470243870883506, 12.667647280019786, 16.09441651650333, 39.4848471848913, 10.986418818042292, 9.055900011529518, 9.10132191781093, 22.622621878754224, 25.203191018751628, 57.32424779486061, 12.504948058781588, 12.203519566908152, 11.976000350921485, 51.3428311553187, 41.12943814017806, 29.1639371475526, 15.988956083673333, 26.44622575426156, 85.77065983088268, 30.14157249586293, 14.235052843861247, 16.135745660223666, 37.169941481290984, 42.28930554494907, 27.590990633798885, 22.855573158386136, 21.850698549305996, 40.57516620876912, 17.603537983773336, 25.755584662054726, 43.51746913854271, 30.431558402152408, 37.676997605169596, 28.196139673466227, 38.535230995238194, 33.017539189619995, 25.788288652349877, 27.55108381694131, 26.849126719435912, 26.42183250829562, 24.860819929405725, 24.61310094981117, 19.614182001879204, 13.014882799295405, 9.905530998209635, 15.429464269669802, 9.838826483358481, 7.213312058087236, 7.553801383485213, 6.880876061366334, 5.439795514633981, 16.839186254202446, 6.478188354157119, 6.62314881581516, 8.847967592691111, 4.804261660104166, 7.494461267880147, 7.491850099878443, 7.492115198614358, 7.466730085503154, 7.503920274422358, 4.0086286242306395, 4.385745212836989, 7.438383612232924, 7.740305435320367, 6.760682694573011, 3.7142741154710954, 3.8028102748838175, 6.333458626584042, 3.8916906262767097, 6.062829909218304, 3.527740335485516, 7.46261778227256, 7.408371271597495, 8.109162507343926, 5.244287378778744, 8.651967987780194, 7.184065558244452, 9.134843698838711, 12.952540958703212, 7.383951641536848, 10.7368173594459, 23.640296506002603, 37.69403361299108, 21.179423123442565, 20.036125368505207, 9.166656092619247, 23.02705003676246, 16.419467316887275, 47.656121190078665, 40.16229266815255, 16.313554371711795, 10.7857635318146, 19.043883709740005, 9.25277281696375, 38.67836812921341, 9.27927069020102, 14.882134655662165, 31.67096633227753, 12.111430671059864, 14.252592796222956, 15.098278491678775, 28.80987677002357, 13.181576448062685, 18.323814450280132, 19.81118636372748, 26.70201453710365, 16.494593898574927, 25.306303511687737, 20.055376118686148, 16.37323867929703, 20.006504130325855, 18.13162550333034, 15.722805293961587, 16.584229999553436, 16.646280558818514, 15.996525738971709, 16.14841967806231, 15.735892225797162, 27.598248626442334, 7.31108051302462, 4.229020618550992, 5.179651022787495, 7.660648271862833, 21.76769302765102, 3.748686718690185, 6.144482167345181, 5.777130464271037, 6.286301363200634, 3.018638638011306, 7.094644034320808, 6.047233114986626, 3.6153543538539696, 3.2246438065349925, 3.2251196079394484, 4.389250125931933, 4.434259750115388, 3.604830260749034, 6.113113614238944, 2.7074542836586897, 2.64561710577921, 3.683015558848293, 7.687513055949796, 3.302505850244965, 3.257802310656881, 5.263026551474288, 8.032831290794016, 3.8582699566583427, 3.6173618989886607, 7.623359441739325, 7.32486257452495, 12.826444921902548, 34.680233900010876, 7.51553049444561, 5.532839296823387, 7.2259863540045925, 14.409769354565817, 9.258522784115788, 8.288152730078753, 36.737597852123336, 5.844038509651507, 11.649816114693234, 43.90707511246982, 12.58164196252089, 8.85870366112484, 10.91956760968923, 26.45946600728208, 50.32271653323306, 12.917957281963385, 9.995466187993312, 8.73473642830429, 15.82790848298522, 14.661061175294014, 12.690884115929157, 10.901135835921348, 12.38719272567877, 14.399213893568152, 9.570571241366018, 10.03378322462166, 12.957203468593217, 11.216808440441046, 10.227312556735944, 11.162363023936198, 9.811689959199505, 10.177543267566211, 10.400209739954455, 9.674637362285566, 8.694376587358404, 4.216164698177909, 6.434230590398757, 3.85822514977784, 3.0242805258387313, 5.5941241672638675, 2.3227315218025053, 2.6294965351323545, 2.2433085979189586, 2.5855417001473286, 2.225346198392802, 2.27114086101159, 2.551189683158994, 2.1025693596969623, 2.7042890457623403, 1.9842334049521173, 2.1173508866383646, 1.8869745696922346, 2.689789580630967, 1.9572523327029885, 1.837220083936103, 1.820835201324454, 1.9172950643780866, 1.9540502209315795, 1.6809838152171919, 1.6885469948878364, 1.6026327262117552, 1.605596472079437, 1.6335048986248486, 2.490060598338569, 5.598391485122647, 2.1243036764352197, 2.580288721690049, 5.378356758137031, 8.8014009841917, 4.237853019225322, 15.948889999264033, 7.901621916258819, 2.5997654616965247, 7.995764814026903, 3.185729459144712, 3.2621788968966334, 9.894577862853739, 7.482641757102477, 15.20056067201052, 8.731647166212237, 6.241702909915215, 3.6864093288813815, 4.364939654153251, 8.419119433945403, 5.327555329288423, 7.515851187017667, 5.102468110945029, 5.973416538731076, 6.654831334944642, 6.102077849663195, 3.6159634110361596, 5.994087543322173, 3.606341112511581, 3.7272326690085884, 5.118622338695239, 4.900749950305069, 4.804936056144908, 4.9975595158905595, 4.432875830655711, 4.449898024148437, 4.301575719883578, 3.1345038088896597, 3.042358238164073, 4.087199860972028, 3.6958598030258236, 3.4505385526377252, 4.027062255094734, 2.150697770497523, 2.006970872047004, 2.5482773472381406, 2.529287754649677, 2.1866758787342406, 2.142391047825496, 1.6539135724632983, 1.653799113894891, 1.5952538193988761, 2.136287363026709, 1.7355054735147997, 4.638138335322745, 1.529678220599031, 1.3650945912573869, 4.580069618085801, 4.585108743430499, 1.3158570843918584, 4.626122607486441, 1.637760699132319, 1.6179498900075115, 1.3452299750226842, 2.4433397942454342, 1.5615341356103591, 1.5354447422551876, 2.21162974200505, 1.8925384174623952, 1.576874742707031, 2.0473830652106946, 4.330591215645533, 2.2312298504901316, 4.249465677979012, 3.8594292052001293, 3.4284028762342986, 1.9997449246704044, 3.7438713291075776, 4.1412474707477696, 3.9840249909923244, 3.2999317149576033, 4.817213872532578, 7.229449998328506, 3.487128650938455, 3.4132094752817235, 4.219819329296528, 3.971518997199716, 3.2578572927590708, 5.756148150797663, 3.61161787548757, 4.051948727856085, 3.4293543459897045, 4.53825043744184, 3.715776646905356, 3.9899027069890862, 3.7927968389738513, 4.318081431136767, 3.488173625025733, 3.4641503825714657, 3.446092463776255], \"Total\": [551.0, 193.0, 64.0, 45.0, 136.0, 88.0, 204.0, 100.0, 28.0, 93.0, 32.0, 44.0, 89.0, 24.0, 69.0, 107.0, 53.0, 153.0, 90.0, 70.0, 81.0, 116.0, 28.0, 86.0, 108.0, 35.0, 43.0, 60.0, 40.0, 107.0, 23.27072922317843, 11.40767257582177, 11.83084471929456, 12.035547981260459, 34.06829319663544, 16.166463262939256, 36.36932092507033, 23.01686855720416, 8.816348919871878, 17.535393988854096, 9.029863589221764, 27.68936097375515, 43.78486956739551, 10.388546625239531, 15.775458912700321, 17.48124082695146, 29.38433634356822, 24.881534757644935, 13.668097031348733, 43.534484115220295, 28.468408728878543, 8.823395347271836, 14.85412083941916, 13.563622629355404, 15.990433850563894, 22.11536435212632, 9.552799152992856, 27.14424030502905, 13.377827953505575, 25.404499890612065, 54.94603592816918, 40.82370728219596, 58.847083223665656, 88.63374713983328, 24.47059678568125, 23.860835937162065, 265.18863521795794, 94.51953903613862, 130.96045575833804, 149.03890123809973, 150.754761424645, 107.52703215067605, 96.40860334110637, 175.74529236097584, 155.76777159550238, 88.51001865864511, 69.7825049042817, 551.4584033778704, 48.644968753425424, 58.57034030514234, 73.79062159899584, 113.62391040283862, 195.42460624667117, 85.35663230986034, 66.76302929126645, 148.54961032213242, 191.71514944507697, 87.75850429614705, 93.1534984674416, 119.4788354712872, 106.6109100853151, 126.48322301262141, 130.95762875333895, 204.82445277483592, 136.01325620156155, 111.23027039120399, 244.80822256321912, 106.53395299436727, 90.84829144272143, 112.9367228715077, 115.25015287667867, 151.99429950125042, 193.15608941680793, 170.62223473331895, 122.61883724013916, 128.74321229233243, 163.82183936230985, 116.88166756849638, 159.61638769605096, 10.777762446276634, 17.287411333008738, 5.44212038518266, 5.686047051668133, 5.3273479024886266, 20.32961881990233, 5.095030612035983, 13.076216671972489, 5.329010896838422, 5.719615129377954, 8.345092575294942, 7.067297337082547, 10.309303387652482, 4.399249828973069, 4.775565462096888, 7.192490302488798, 4.314425064915868, 7.659937704357708, 9.470084426411278, 4.167055113268311, 6.3409381624724, 4.157105622015847, 4.181655999271833, 7.822355204956686, 4.066290370183859, 7.382182682817308, 6.496708163914516, 5.571123079770496, 3.855812522990396, 3.8553574499455223, 9.604690569575752, 13.496732546213206, 44.170792621977846, 8.94553975071512, 7.905872846082888, 14.505421958093468, 17.069702946805787, 32.5575840198507, 12.203065961900684, 8.663048276396616, 35.80884259622094, 88.42173394261084, 13.02512067340386, 15.524246051885932, 16.063910401448968, 15.039092532126629, 19.697162390745802, 53.67027883259907, 13.001960114664575, 10.504677396334287, 10.621033279583171, 30.30187389632633, 34.87603330717065, 93.09337881565031, 15.471282716306177, 15.072965207817662, 14.802044313414033, 89.20272745646626, 70.32854115027193, 46.17798235851297, 21.448165802640766, 41.41430943647485, 204.62003504881872, 51.27931271816115, 18.970918502389036, 23.05483571582727, 86.57473962557259, 107.22555857482723, 54.352316364271445, 40.79723871539105, 39.04848915333224, 118.87915638064099, 26.93544221162906, 57.006776900622576, 159.61638769605096, 80.83634585534736, 135.6632107309787, 74.52649270371226, 153.4073772797738, 143.97454502131427, 76.94196841420386, 102.20023761256877, 96.74751826838232, 163.82183936230985, 107.47106283849422, 244.80822256321912, 20.634430699611766, 13.865707991597409, 10.64313506354172, 16.640264008002777, 10.627753551357086, 7.7939890891260255, 8.168576805834144, 7.489612934575306, 5.929060978390157, 18.387536297443376, 7.084819620879648, 7.249670586028389, 9.730153380210629, 5.297181078126384, 8.268080055844202, 8.267292326447622, 8.27039463295601, 8.245841741019918, 8.291963963959711, 4.438793335032206, 4.883599451075113, 8.290913966310242, 8.644159751176334, 7.551237056544651, 4.1491771011138505, 4.248435364500584, 7.087965883199315, 4.3637695705368955, 6.799394561385922, 3.9604321676361773, 8.406931394086754, 8.352816284715407, 9.206023470492246, 5.901812406200061, 10.02089730912937, 8.230017517890447, 10.637694944011976, 16.101350325038275, 8.568185392141073, 13.478881724250646, 38.111068339495034, 69.37156982098885, 34.10059889839954, 33.947161195170196, 11.611778138264995, 43.69518379432246, 27.648600180541415, 136.15145314399743, 107.47106283849422, 27.552875351353666, 15.290342546425402, 40.53329481328672, 11.966609691755751, 153.6536088984571, 12.048029594354928, 28.342912293838246, 114.82846750260606, 20.05142586099703, 28.290208993293657, 31.798484859298664, 116.58614989147128, 24.83601953792879, 50.58200611764324, 64.85897171449928, 153.4073772797738, 48.471751615613, 170.62223473331895, 92.82283379745894, 50.71428773089468, 102.20023761256877, 108.10561341563844, 55.926484071188156, 82.26310408659911, 93.74905716303309, 95.67420365759922, 117.30345621071181, 107.22555857482723, 28.30870022993843, 8.097311346612733, 4.686613897948577, 5.780551130385221, 8.56490254279481, 24.340848443365132, 4.260912796871067, 7.0002388409745375, 6.612566746167802, 7.241381446887669, 3.478045676107828, 8.207577417178367, 7.000161036089663, 4.1871034483370115, 3.7469169231940693, 3.747714846831206, 5.102577395019441, 5.177975342980133, 4.209810138030774, 7.145976606018608, 3.1662638577209994, 3.103480006378528, 4.346224127565675, 9.1052970345765, 3.9333221844465376, 3.8809900500812544, 6.277585518096235, 9.589476459489964, 4.608430207069623, 4.3383065128550236, 9.143324784749307, 8.879567666829429, 15.900165376949035, 45.7871761286111, 9.403087208199414, 6.788365312612498, 9.054619008094567, 19.251127815263292, 11.874445880038856, 10.700806636484776, 64.85897171449928, 7.890078257272438, 23.315048209472913, 193.15608941680793, 28.83671912931511, 16.75461125645023, 24.563205857381732, 136.15145314399743, 551.4584033778704, 40.30645919532583, 24.319190727296306, 18.34881760969415, 108.10561341563844, 90.79954104258724, 60.43463297121886, 40.165930970616564, 64.64414519962354, 116.58614989147128, 26.826345536529296, 35.27363249881237, 163.82183936230985, 128.74321229233243, 71.59053478780308, 153.6536088984571, 54.222985759873374, 128.18017207192676, 244.80822256321912, 204.62003504881872, 9.295635355795817, 4.676276570799689, 7.18083966574354, 4.31995340544819, 3.507047887294339, 6.520358217277846, 2.7810156024939374, 3.159811780569278, 2.7016614188750054, 3.1332614040997013, 2.697670019416447, 2.7558584257061813, 3.097862656165441, 2.5617864457037003, 3.3080446891992676, 2.4435578759271954, 2.6230037340660157, 2.345345791182972, 3.3434099893325886, 2.4342455608519162, 2.295477635205878, 2.279647353606047, 2.405813811541536, 2.45827313582927, 2.1434627083939195, 2.1611742316277973, 2.06072571571171, 2.083965280110843, 2.120937993415621, 3.234207021223237, 7.77116628498284, 2.8015886637398557, 3.4596152733013414, 7.875121109755653, 13.971735654074607, 6.174435747903414, 32.861070328704415, 15.073292206827752, 3.700452909479222, 19.60099536125319, 5.185340275811455, 5.581840327331743, 36.31773480910219, 24.83601953792879, 100.56389419970486, 40.53329481328672, 32.08488395533764, 9.205302341036578, 14.34349146157156, 81.3037147774969, 26.189821569791093, 71.46357781838998, 28.803302768645807, 48.471751615613, 75.24087080838851, 56.75609758266898, 9.962932274217414, 107.47106283849422, 9.876055329842812, 12.513129170503667, 116.58614989147128, 93.74905716303309, 92.82283379745894, 244.80822256321912, 153.6536088984571, 204.82445277483592, 75.4433812065821, 3.605038496876586, 3.511497397370352, 4.754821743785449, 4.433073085463471, 4.1514430078443025, 4.910455053733017, 2.6504597487762225, 2.4755989731340398, 3.152690640129305, 3.1954862506412276, 2.773333598178753, 2.7337708220892627, 2.1215590291849646, 2.1214129056348763, 2.0806578289244797, 2.7865923911534476, 2.2659984859795506, 6.156673953172578, 2.0505728198034507, 1.8387580174099836, 6.1924374779616205, 6.213402306548404, 1.783190112236748, 6.304073103060902, 2.2331691878697515, 2.208746440832168, 1.837776677069358, 3.366592637120702, 2.1536039838343135, 2.121254989892391, 3.180544711261905, 2.69451442574956, 2.2134359381936655, 3.11420760484615, 9.090115729484236, 4.042241603277472, 13.49145417550886, 12.091937805678342, 9.644698186004886, 3.3659783848893214, 16.158125695059994, 21.448165802640766, 21.541482476463177, 13.546075112823656, 43.69518379432246, 163.82183936230985, 17.03046826817322, 18.303187100181233, 44.10970276219788, 34.870513622364165, 16.75461125645023, 204.62003504881872, 26.826345536529296, 50.58200611764324, 23.45018514020806, 153.6536088984571, 40.727072434365844, 86.57473962557259, 73.5582535852473, 551.4584033778704, 27.315652621486688, 36.07452425811151, 114.82846750260606], \"Category\": [\"Default\", \"Default\", \"Default\", \"Default\", \"Default\", \"Default\", \"Default\", \"Default\", \"Default\", \"Default\", \"Default\", \"Default\", \"Default\", \"Default\", \"Default\", \"Default\", \"Default\", \"Default\", \"Default\", \"Default\", \"Default\", \"Default\", \"Default\", \"Default\", \"Default\", \"Default\", \"Default\", \"Default\", \"Default\", \"Default\", \"Topic1\", \"Topic1\", \"Topic1\", \"Topic1\", \"Topic1\", \"Topic1\", \"Topic1\", \"Topic1\", \"Topic1\", \"Topic1\", \"Topic1\", \"Topic1\", \"Topic1\", \"Topic1\", \"Topic1\", \"Topic1\", \"Topic1\", \"Topic1\", \"Topic1\", \"Topic1\", \"Topic1\", \"Topic1\", \"Topic1\", \"Topic1\", \"Topic1\", \"Topic1\", \"Topic1\", \"Topic1\", \"Topic1\", \"Topic1\", \"Topic1\", \"Topic1\", \"Topic1\", \"Topic1\", \"Topic1\", \"Topic1\", \"Topic1\", \"Topic1\", \"Topic1\", \"Topic1\", \"Topic1\", \"Topic1\", \"Topic1\", \"Topic1\", \"Topic1\", \"Topic1\", \"Topic1\", \"Topic1\", \"Topic1\", \"Topic1\", \"Topic1\", \"Topic1\", \"Topic1\", \"Topic1\", \"Topic1\", \"Topic1\", \"Topic1\", \"Topic1\", \"Topic1\", \"Topic1\", \"Topic1\", \"Topic1\", \"Topic1\", \"Topic1\", \"Topic1\", \"Topic1\", \"Topic1\", \"Topic1\", \"Topic1\", \"Topic1\", \"Topic1\", \"Topic1\", \"Topic1\", \"Topic1\", \"Topic1\", \"Topic1\", \"Topic1\", \"Topic1\", \"Topic1\", \"Topic2\", \"Topic2\", \"Topic2\", \"Topic2\", \"Topic2\", \"Topic2\", \"Topic2\", \"Topic2\", \"Topic2\", \"Topic2\", \"Topic2\", \"Topic2\", \"Topic2\", \"Topic2\", \"Topic2\", \"Topic2\", \"Topic2\", \"Topic2\", \"Topic2\", \"Topic2\", \"Topic2\", \"Topic2\", \"Topic2\", \"Topic2\", \"Topic2\", \"Topic2\", \"Topic2\", \"Topic2\", \"Topic2\", \"Topic2\", \"Topic2\", \"Topic2\", \"Topic2\", \"Topic2\", \"Topic2\", \"Topic2\", \"Topic2\", \"Topic2\", \"Topic2\", \"Topic2\", \"Topic2\", \"Topic2\", \"Topic2\", \"Topic2\", \"Topic2\", \"Topic2\", \"Topic2\", \"Topic2\", \"Topic2\", \"Topic2\", \"Topic2\", \"Topic2\", \"Topic2\", \"Topic2\", \"Topic2\", \"Topic2\", \"Topic2\", \"Topic2\", \"Topic2\", \"Topic2\", \"Topic2\", \"Topic2\", \"Topic2\", \"Topic2\", \"Topic2\", \"Topic2\", \"Topic2\", \"Topic2\", \"Topic2\", \"Topic2\", \"Topic2\", \"Topic2\", \"Topic2\", \"Topic2\", \"Topic2\", \"Topic2\", \"Topic2\", \"Topic2\", \"Topic2\", \"Topic2\", \"Topic2\", \"Topic2\", \"Topic2\", \"Topic2\", \"Topic2\", \"Topic2\", \"Topic3\", \"Topic3\", \"Topic3\", \"Topic3\", \"Topic3\", \"Topic3\", \"Topic3\", \"Topic3\", \"Topic3\", \"Topic3\", \"Topic3\", \"Topic3\", \"Topic3\", \"Topic3\", \"Topic3\", \"Topic3\", \"Topic3\", \"Topic3\", \"Topic3\", \"Topic3\", \"Topic3\", \"Topic3\", \"Topic3\", \"Topic3\", \"Topic3\", \"Topic3\", \"Topic3\", \"Topic3\", \"Topic3\", \"Topic3\", \"Topic3\", \"Topic3\", \"Topic3\", \"Topic3\", \"Topic3\", \"Topic3\", \"Topic3\", \"Topic3\", \"Topic3\", \"Topic3\", \"Topic3\", \"Topic3\", \"Topic3\", \"Topic3\", \"Topic3\", \"Topic3\", \"Topic3\", \"Topic3\", \"Topic3\", \"Topic3\", \"Topic3\", \"Topic3\", \"Topic3\", \"Topic3\", \"Topic3\", \"Topic3\", \"Topic3\", \"Topic3\", \"Topic3\", \"Topic3\", \"Topic3\", \"Topic3\", \"Topic3\", \"Topic3\", \"Topic3\", \"Topic3\", \"Topic3\", \"Topic3\", \"Topic3\", \"Topic3\", \"Topic3\", \"Topic3\", \"Topic3\", \"Topic3\", \"Topic3\", \"Topic3\", \"Topic3\", \"Topic4\", \"Topic4\", \"Topic4\", \"Topic4\", \"Topic4\", \"Topic4\", \"Topic4\", \"Topic4\", \"Topic4\", \"Topic4\", \"Topic4\", \"Topic4\", \"Topic4\", \"Topic4\", \"Topic4\", \"Topic4\", \"Topic4\", \"Topic4\", \"Topic4\", \"Topic4\", \"Topic4\", \"Topic4\", \"Topic4\", \"Topic4\", \"Topic4\", \"Topic4\", \"Topic4\", \"Topic4\", \"Topic4\", \"Topic4\", \"Topic4\", \"Topic4\", \"Topic4\", \"Topic4\", \"Topic4\", \"Topic4\", \"Topic4\", \"Topic4\", \"Topic4\", \"Topic4\", \"Topic4\", \"Topic4\", \"Topic4\", \"Topic4\", \"Topic4\", \"Topic4\", \"Topic4\", \"Topic4\", \"Topic4\", \"Topic4\", \"Topic4\", \"Topic4\", \"Topic4\", \"Topic4\", \"Topic4\", \"Topic4\", \"Topic4\", \"Topic4\", \"Topic4\", \"Topic4\", \"Topic4\", \"Topic4\", \"Topic4\", \"Topic4\", \"Topic4\", \"Topic4\", \"Topic4\", \"Topic4\", \"Topic5\", \"Topic5\", \"Topic5\", \"Topic5\", \"Topic5\", \"Topic5\", \"Topic5\", \"Topic5\", \"Topic5\", \"Topic5\", \"Topic5\", \"Topic5\", \"Topic5\", \"Topic5\", \"Topic5\", \"Topic5\", \"Topic5\", \"Topic5\", \"Topic5\", \"Topic5\", \"Topic5\", \"Topic5\", \"Topic5\", \"Topic5\", \"Topic5\", \"Topic5\", \"Topic5\", \"Topic5\", \"Topic5\", \"Topic5\", \"Topic5\", \"Topic5\", \"Topic5\", \"Topic5\", \"Topic5\", \"Topic5\", \"Topic5\", \"Topic5\", \"Topic5\", \"Topic5\", \"Topic5\", \"Topic5\", \"Topic5\", \"Topic5\", \"Topic5\", \"Topic5\", \"Topic5\", \"Topic5\", \"Topic5\", \"Topic5\", \"Topic5\", \"Topic5\", \"Topic5\", \"Topic5\", \"Topic5\", \"Topic5\", \"Topic5\", \"Topic5\", \"Topic5\", \"Topic5\", \"Topic5\", \"Topic5\", \"Topic5\", \"Topic5\", \"Topic5\", \"Topic5\", \"Topic5\", \"Topic6\", \"Topic6\", \"Topic6\", \"Topic6\", \"Topic6\", \"Topic6\", \"Topic6\", \"Topic6\", \"Topic6\", \"Topic6\", \"Topic6\", \"Topic6\", \"Topic6\", \"Topic6\", \"Topic6\", \"Topic6\", \"Topic6\", \"Topic6\", \"Topic6\", \"Topic6\", \"Topic6\", \"Topic6\", \"Topic6\", \"Topic6\", \"Topic6\", \"Topic6\", \"Topic6\", \"Topic6\", \"Topic6\", \"Topic6\", \"Topic6\", \"Topic6\", \"Topic6\", \"Topic6\", \"Topic6\", \"Topic6\", \"Topic6\", \"Topic6\", \"Topic6\", \"Topic6\", \"Topic6\", \"Topic6\", \"Topic6\", \"Topic6\", \"Topic6\", \"Topic6\", \"Topic6\", \"Topic6\", \"Topic6\", \"Topic6\", \"Topic6\", \"Topic6\", \"Topic6\", \"Topic6\", \"Topic6\", \"Topic6\", \"Topic6\", \"Topic6\", \"Topic6\", \"Topic6\", \"Topic6\", \"Topic6\", \"Topic6\"], \"logprob\": [30.0, 29.0, 28.0, 27.0, 26.0, 25.0, 24.0, 23.0, 22.0, 21.0, 20.0, 19.0, 18.0, 17.0, 16.0, 15.0, 14.0, 13.0, 12.0, 11.0, 10.0, 9.0, 8.0, 7.0, 6.0, 5.0, 4.0, 3.0, 2.0, 1.0, -8.0348, -8.7504, -8.7148, -8.6993, -7.6599, -8.406, -7.5958, -8.0554, -9.0152, -8.3292, -8.9945, -7.8742, -7.4167, -8.8555, -8.4384, -8.336, -7.8169, -7.9838, -8.5831, -7.4249, -7.8497, -9.0213, -8.5007, -8.592, -8.4286, -8.1045, -8.9441, -7.8997, -8.6074, -7.9665, -7.196, -7.4931, -7.1365, -6.7318, -8.0064, -8.0317, -5.6569, -6.672, -6.3545, -6.23, -6.2195, -6.5531, -6.6603, -6.0774, -6.1975, -6.7478, -6.9808, -4.9782, -7.3339, -7.1626, -6.9454, -6.5357, -6.0216, -6.809, -7.0444, -6.2936, -6.0633, -6.7926, -6.7379, -6.5098, -6.6217, -6.4683, -6.4389, -6.0433, -6.4086, -6.5902, -5.911, -6.6303, -6.7752, -6.6048, -6.5913, -6.39, -6.271, -6.4099, -6.5905, -6.5698, -6.5085, -6.6232, -6.6198, -7.7373, -7.2648, -8.4466, -8.4035, -8.4704, -7.1318, -8.518, -7.576, -8.4757, -8.405, -8.0286, -8.1989, -7.8226, -8.6791, -8.5988, -8.1894, -8.7019, -8.128, -7.9171, -8.7393, -8.3197, -8.7419, -8.7371, -8.1118, -8.7665, -8.1709, -8.301, -8.4579, -8.826, -8.8262, -7.9141, -7.5817, -6.409, -7.9907, -8.1139, -7.528, -7.3714, -6.7534, -7.7022, -8.032, -6.693, -5.8464, -7.6478, -7.4902, -7.4593, -7.5207, -7.2813, -6.3839, -7.6631, -7.8564, -7.8514, -6.9408, -6.8328, -6.011, -7.5336, -7.558, -7.5769, -6.1212, -6.343, -6.6868, -7.2879, -6.7847, -5.6081, -6.6539, -7.4041, -7.2787, -6.4443, -6.3152, -6.7423, -6.9306, -6.9755, -6.3566, -7.1917, -6.8111, -6.2866, -6.6443, -6.4307, -6.7206, -6.4082, -6.5627, -6.8099, -6.7437, -6.7695, -6.7856, -6.8465, -6.8565, -6.8623, -7.2724, -7.5454, -7.1023, -7.5522, -7.8626, -7.8165, -7.9098, -8.1448, -7.0148, -7.9701, -7.948, -7.6583, -8.269, -7.8244, -7.8247, -7.8247, -7.8281, -7.8231, -8.4501, -8.3602, -7.8319, -7.7921, -7.9274, -8.5264, -8.5028, -7.9927, -8.4797, -8.0364, -8.5779, -7.8286, -7.8359, -7.7455, -8.1814, -7.6807, -7.8667, -7.6264, -7.2772, -7.8392, -7.4649, -6.6756, -6.209, -6.7855, -6.841, -7.623, -6.7019, -7.0401, -5.9745, -6.1456, -7.0465, -7.4603, -6.8918, -7.6136, -6.1833, -7.6108, -7.1384, -6.3831, -7.3444, -7.1816, -7.124, -6.4778, -7.2597, -6.9303, -6.8523, -6.5538, -7.0355, -6.6075, -6.84, -7.0429, -6.8425, -6.9409, -7.0834, -7.0301, -7.0263, -7.0662, -7.0567, -7.0826, -6.0188, -7.3472, -7.8946, -7.6918, -7.3005, -6.2561, -8.0151, -7.521, -7.5826, -7.4982, -8.2317, -7.3772, -7.5369, -8.0514, -8.1657, -8.1656, -7.8574, -7.8472, -8.0543, -7.5261, -8.3405, -8.3636, -8.0328, -7.297, -8.1419, -8.1555, -7.6758, -7.253, -7.9863, -8.0508, -7.3053, -7.3453, -6.785, -5.7904, -7.3196, -7.6258, -7.3589, -6.6686, -7.111, -7.2217, -5.7327, -7.5711, -6.8813, -5.5545, -6.8043, -7.1551, -6.946, -6.0609, -5.4181, -6.7779, -7.0344, -7.1692, -6.5748, -6.6514, -6.7957, -6.9477, -6.8199, -6.6694, -7.0779, -7.0306, -6.7749, -6.9191, -7.0115, -6.924, -7.053, -7.0164, -6.9947, -7.067, -6.9747, -7.6985, -7.2758, -7.7872, -8.0307, -7.4157, -8.2946, -8.1706, -8.3294, -8.1875, -8.3375, -8.3171, -8.2008, -8.3942, -8.1426, -8.4522, -8.3872, -8.5024, -8.1479, -8.4658, -8.5291, -8.5381, -8.4865, -8.4675, -8.618, -8.6135, -8.6657, -8.6639, -8.6467, -8.2251, -7.4149, -8.3839, -8.1895, -7.455, -6.9625, -7.6933, -6.368, -7.0703, -8.182, -7.0585, -7.9787, -7.955, -6.8454, -7.1248, -6.4161, -6.9704, -7.3061, -7.8327, -7.6638, -7.0069, -7.4645, -7.1204, -7.5077, -7.3501, -7.242, -7.3288, -7.852, -7.3466, -7.8547, -7.8217, -7.5045, -7.548, -7.5677, -7.5284, -7.6483, -7.6445, -7.6784, -7.7444, -7.7742, -7.479, -7.5796, -7.6483, -7.4938, -8.121, -8.1902, -7.9514, -7.9589, -8.1044, -8.1249, -8.3837, -8.3837, -8.4198, -8.1278, -8.3355, -7.3525, -8.4618, -8.5756, -7.3651, -7.364, -8.6123, -7.3551, -8.3935, -8.4057, -8.5903, -7.9935, -8.4412, -8.458, -8.0931, -8.2489, -8.4314, -8.1703, -7.4211, -8.0843, -7.44, -7.5363, -7.6547, -8.1938, -7.5667, -7.4658, -7.5045, -7.6929, -7.3146, -6.9087, -7.6377, -7.6592, -7.447, -7.5077, -7.7058, -7.1366, -7.6027, -7.4876, -7.6545, -7.3743, -7.5742, -7.5031, -7.5537, -7.424, -7.6374, -7.6444, -7.6496], \"loglift\": [30.0, 29.0, 28.0, 27.0, 26.0, 25.0, 24.0, 23.0, 22.0, 21.0, 20.0, 19.0, 18.0, 17.0, 16.0, 15.0, 14.0, 13.0, 12.0, 11.0, 10.0, 9.0, 8.0, 7.0, 6.0, 5.0, 4.0, 3.0, 2.0, 1.0, 0.6636, 0.6609, 0.6601, 0.6584, 0.6573, 0.6567, 0.656, 0.654, 0.6537, 0.6522, 0.6506, 0.6503, 0.6496, 0.6494, 0.6488, 0.6484, 0.6483, 0.6476, 0.6474, 0.6472, 0.6471, 0.6468, 0.6466, 0.6462, 0.645, 0.6449, 0.6447, 0.6447, 0.6446, 0.6442, 0.6432, 0.6432, 0.6342, 0.6292, 0.6417, 0.6417, 0.6083, 0.6248, 0.6162, 0.6114, 0.6105, 0.6148, 0.6167, 0.5991, 0.5997, 0.6147, 0.6194, 0.5549, 0.6271, 0.6128, 0.5989, 0.577, 0.5488, 0.5897, 0.6, 0.5511, 0.5263, 0.5784, 0.5734, 0.5526, 0.5547, 0.5372, 0.5319, 0.4801, 0.5242, 0.5438, 0.4341, 0.5468, 0.5612, 0.514, 0.5072, 0.4317, 0.3111, 0.2962, 0.446, 0.4179, 0.2383, 0.4612, 0.153, 1.7308, 1.7308, 1.7048, 1.7041, 1.7023, 1.7017, 1.6994, 1.6988, 1.6967, 1.6967, 1.6953, 1.6912, 1.6899, 1.685, 1.6832, 1.6832, 1.6818, 1.6816, 1.6803, 1.6791, 1.6789, 1.6789, 1.6778, 1.6768, 1.6764, 1.6756, 1.6733, 1.6701, 1.67, 1.6699, 1.6692, 1.6614, 1.6486, 1.6638, 1.6641, 1.6431, 1.6369, 1.6092, 1.6417, 1.6545, 1.5744, 1.517, 1.6309, 1.613, 1.6097, 1.6142, 1.5838, 1.4789, 1.6174, 1.6374, 1.6314, 1.4936, 1.461, 1.3009, 1.573, 1.5746, 1.574, 1.2334, 1.2494, 1.3262, 1.4921, 1.3373, 0.9163, 1.2544, 1.4986, 1.429, 0.9403, 0.8554, 1.1078, 1.2064, 1.2052, 0.7109, 1.3605, 0.9913, 0.4862, 0.8089, 0.5047, 0.8138, 0.4043, 0.3132, 0.6927, 0.4749, 0.5039, -0.0388, 0.3219, -0.5114, 1.9563, 1.9437, 1.9352, 1.9315, 1.9299, 1.9296, 1.9288, 1.9223, 1.9209, 1.9191, 1.9175, 1.9167, 1.912, 1.9094, 1.9088, 1.9086, 1.9082, 1.9078, 1.9072, 1.9051, 1.8995, 1.8985, 1.8966, 1.8965, 1.8963, 1.8962, 1.8945, 1.8926, 1.8924, 1.8914, 1.8879, 1.8871, 1.8802, 1.8889, 1.8602, 1.8711, 1.8547, 1.7894, 1.8583, 1.7796, 1.5295, 1.3971, 1.5308, 1.4798, 1.7706, 1.3665, 1.4859, 0.9573, 1.0228, 1.4829, 1.6581, 1.2517, 1.7499, 0.6276, 1.7459, 1.3628, 0.719, 1.5029, 1.3215, 1.2622, 0.6091, 1.3736, 0.9917, 0.8211, 0.2587, 0.9291, 0.0987, 0.4749, 0.8765, 0.3762, 0.2216, 0.7381, 0.4056, 0.2786, 0.2185, 0.0241, 0.0881, 2.4836, 2.4069, 2.4063, 2.3993, 2.3975, 2.3973, 2.381, 2.3786, 2.374, 2.3676, 2.3674, 2.3633, 2.3627, 2.3622, 2.3589, 2.3589, 2.3585, 2.354, 2.3539, 2.3529, 2.3525, 2.3494, 2.3435, 2.3398, 2.3342, 2.334, 2.3328, 2.3319, 2.3314, 2.3273, 2.3272, 2.3166, 2.2942, 2.2312, 2.285, 2.3045, 2.2834, 2.2194, 2.2602, 2.2535, 1.9406, 2.2089, 1.8152, 1.0276, 1.6796, 1.8718, 1.6983, 0.8709, 0.1149, 1.3711, 1.6199, 1.7668, 0.5877, 0.6856, 0.9484, 1.2049, 0.8568, 0.4176, 1.4783, 1.2519, -0.0281, 0.0686, 0.5631, -0.1131, 0.7995, -0.0242, -0.6496, -0.5426, 2.6413, 2.6046, 2.5984, 2.5952, 2.5601, 2.555, 2.5281, 2.5245, 2.5223, 2.5161, 2.5157, 2.5148, 2.514, 2.5107, 2.5067, 2.5, 2.494, 2.4907, 2.4907, 2.4901, 2.4855, 2.4835, 2.4812, 2.4786, 2.4652, 2.4614, 2.4568, 2.4474, 2.4471, 2.4467, 2.3803, 2.4315, 2.4149, 2.3269, 2.2461, 2.3318, 1.9853, 2.0623, 2.3552, 1.8115, 2.221, 2.1711, 1.4079, 1.5085, 0.8187, 1.173, 1.0711, 1.7931, 1.5185, 0.4405, 1.1157, 0.456, 0.9774, 0.6145, 0.2828, 0.4781, 1.6947, -0.1783, 1.7008, 1.4971, -0.4175, -0.243, -0.2529, -1.1833, -0.8375, -1.1211, -0.1562, 2.8189, 2.8154, 2.8075, 2.7769, 2.7738, 2.7604, 2.7498, 2.7489, 2.7459, 2.725, 2.7211, 2.715, 2.7098, 2.7098, 2.6931, 2.693, 2.692, 2.6755, 2.6657, 2.6609, 2.6571, 2.6549, 2.6548, 2.6493, 2.6487, 2.6475, 2.6468, 2.6382, 2.6373, 2.6356, 2.5954, 2.6055, 2.6197, 2.5394, 2.2173, 2.3645, 1.8035, 1.8167, 1.9244, 2.4381, 1.4965, 1.3141, 1.2711, 1.5466, 0.7537, -0.1619, 1.3728, 1.2793, 0.6119, 0.7863, 1.3212, -0.6121, 0.9535, 0.4344, 1.0363, -0.5634, 0.5645, -0.1185, -0.0062, -1.891, 0.9007, 0.6156, -0.5474]}, \"token.table\": {\"Topic\": [1, 2, 3, 4, 5, 6, 1, 4, 2, 6, 1, 2, 3, 4, 5, 6, 1, 2, 3, 4, 5, 1, 2, 3, 2, 1, 2, 3, 4, 1, 2, 3, 4, 1, 4, 5, 4, 1, 1, 1, 2, 3, 4, 5, 6, 2, 4, 1, 2, 3, 4, 5, 6, 1, 2, 3, 4, 5, 6, 3, 3, 4, 1, 2, 3, 5, 2, 1, 2, 3, 2, 1, 2, 3, 1, 1, 3, 6, 3, 1, 3, 1, 2, 3, 4, 5, 6, 2, 4, 2, 4, 4, 6, 1, 2, 3, 4, 5, 6, 5, 6, 1, 2, 2, 4, 3, 3, 3, 2, 1, 2, 3, 4, 5, 6, 5, 6, 1, 2, 4, 6, 3, 6, 1, 2, 3, 4, 5, 6, 6, 1, 2, 3, 4, 1, 2, 3, 4, 5, 6, 2, 4, 1, 2, 3, 4, 5, 6, 1, 2, 3, 4, 5, 1, 2, 1, 2, 3, 4, 5, 6, 1, 2, 3, 4, 5, 6, 1, 2, 3, 4, 6, 1, 2, 3, 4, 6, 3, 1, 4, 5, 1, 2, 3, 4, 5, 1, 6, 1, 2, 3, 4, 5, 6, 1, 2, 3, 4, 1, 2, 1, 5, 2, 3, 1, 2, 3, 1, 1, 2, 3, 4, 5, 6, 1, 2, 3, 4, 5, 1, 2, 3, 4, 5, 6, 1, 2, 3, 4, 5, 6, 1, 2, 3, 4, 5, 6, 1, 2, 3, 4, 5, 6, 6, 1, 2, 5, 1, 2, 3, 4, 6, 1, 2, 3, 1, 2, 3, 4, 5, 6, 1, 2, 3, 4, 5, 6, 3, 5, 3, 4, 1, 2, 3, 6, 1, 3, 5, 4, 1, 2, 3, 4, 5, 6, 4, 1, 1, 2, 3, 4, 5, 6, 2, 1, 2, 3, 4, 5, 6, 3, 1, 2, 3, 4, 5, 6, 1, 2, 3, 4, 5, 6, 1, 2, 3, 4, 4, 1, 6, 1, 2, 3, 5, 1, 2, 3, 4, 5, 1, 2, 3, 5, 5, 6, 3, 2, 1, 2, 3, 6, 6, 1, 2, 3, 4, 1, 2, 3, 4, 6, 1, 2, 3, 4, 5, 6, 6, 1, 2, 3, 4, 5, 6, 1, 2, 3, 4, 5, 6, 5, 1, 2, 3, 4, 5, 6, 5, 1, 1, 2, 3, 4, 5, 1, 2, 3, 4, 5, 6, 5, 2, 1, 2, 3, 6, 3, 5, 5, 1, 5, 4, 1, 2, 3, 4, 5, 6, 1, 3, 4, 5, 1, 4, 1, 1, 4, 6, 1, 2, 3, 4, 6, 1, 3, 5, 1, 2, 3, 4, 6, 1, 3, 4, 6, 1, 2, 3, 4, 5, 6, 3, 5, 1, 2, 3, 4, 5, 6, 3, 1, 2, 3, 4, 6, 3, 1, 2, 3, 1, 2, 3, 4, 5, 6, 1, 2, 3, 4, 6, 6, 5, 5, 1, 2, 3, 4, 5, 6, 2, 1, 2, 3, 4, 5, 6, 5, 1, 1, 2, 3, 3, 3, 4, 4, 4, 1, 2, 3, 2, 1, 1, 2, 3, 4, 5, 6, 5, 3, 1, 2, 3, 4, 6, 1, 2, 3, 4, 5, 6, 3, 2, 1, 2, 3, 4, 5, 6, 5, 1, 2, 3, 4, 5, 6, 1, 2, 3, 4, 5, 6, 1, 6, 6, 2, 1, 2, 3, 1, 2, 3, 4, 5, 6, 4, 1, 2, 3, 4, 5, 6, 1, 3, 1, 2, 3, 4, 5, 6, 1, 2, 3, 4, 5, 6, 1, 2, 3, 4, 1, 2, 1, 2, 3, 4, 5, 6, 4, 1, 2, 3, 4, 5, 6, 1, 1, 1, 2, 3, 4, 5, 6, 1, 2, 3, 4, 5, 6, 2, 3, 4, 2, 6, 5, 1, 3, 1, 2, 3, 2, 1, 2, 3, 4, 5, 6, 1, 2, 3, 4, 5, 1, 2, 3, 4, 5, 6, 1, 1, 2, 3, 4, 5, 6, 1, 2, 3, 4, 5, 6, 1, 2, 2, 1, 2, 3, 4, 5, 6, 2, 5, 1, 2, 3, 4, 5, 6, 1, 2, 3, 4, 5, 6, 1, 3, 1, 2, 3, 4, 5, 6, 1, 2, 6, 1, 2, 3, 5, 6, 1, 2, 5, 1, 2, 3, 4, 5, 5, 1, 2, 3, 4, 3, 6, 2, 2, 3, 1, 2, 3, 4, 5, 6, 2, 4, 1, 2, 3, 4, 5, 6, 5, 1, 1, 2, 1, 2, 3, 4, 5, 6, 4, 3, 1, 2, 3, 4, 3, 1, 2, 3, 4, 5, 6, 1, 2, 3, 4, 5, 6, 1, 2, 3, 4, 5, 6, 1, 2, 3, 6, 1, 2, 3, 4, 5, 6, 1, 2, 3, 4, 5, 6, 3, 5, 1, 2, 3, 1, 2, 3, 4, 5, 5, 4, 2, 1, 2, 6, 3, 1, 2, 3, 4, 5, 6, 3, 5, 1, 2, 3, 4, 5, 6, 1, 2, 3, 4, 5, 6, 1, 1, 5, 3, 1, 4, 1, 4, 1, 6, 2, 1, 1, 3, 4, 1, 2, 3, 4, 5, 6, 1, 2, 3, 4, 5, 6, 1, 2, 3, 4, 5, 6, 5, 2, 2, 4, 1, 6, 4, 1, 2, 3, 4, 5, 6, 3, 1, 2, 3, 4, 5, 6, 1, 3, 4, 5, 3, 1, 3, 5, 1, 2, 3, 4, 5, 3, 1, 2, 3, 4, 6, 1, 2, 3, 4, 5, 6, 4, 5, 1, 2, 3, 4, 6, 1, 2, 3, 4, 5, 6, 1, 2, 3, 4, 5, 6, 6, 1, 2, 3, 4, 5, 6, 1, 2, 3, 4, 5, 6, 1, 6, 1, 2, 3, 4, 5, 3, 4, 1, 2, 3, 4, 5, 3, 1, 2, 3, 4, 5, 6, 2, 5, 6, 5, 1, 2, 3, 2, 3, 1, 2, 3, 4, 5, 6, 1, 2, 3, 4, 6, 5, 1, 2, 3, 4, 5, 6, 5, 3, 1, 2, 3, 4, 5, 6, 1, 2, 3, 4, 6, 1, 6, 1, 2, 3, 4, 5, 6, 1, 2, 3, 4, 5, 1, 2, 3, 1, 2, 3, 4, 1, 2, 3, 4, 5, 6, 1, 2, 3, 4, 4, 3, 2, 1, 2, 3, 4, 5, 6, 3, 5, 2, 1, 3, 1, 2, 3, 4, 5, 6, 1, 6, 4, 1, 2, 3, 5, 6, 1, 2, 3, 4, 5, 6, 6, 1, 2, 3, 5, 6, 1, 1, 6, 2, 3, 6, 2, 6, 1, 2, 3, 4, 1, 3, 5, 1, 6, 1, 2, 3, 4, 5, 6, 1, 2, 3, 4, 5, 6, 6, 1, 2, 3, 4, 5, 6, 2, 1, 2, 3, 4, 5, 6, 3, 2, 1, 2, 3, 4, 5, 6, 3, 5, 6, 4, 5, 1, 2, 3, 4, 5, 6, 1, 2, 3, 4, 5, 6, 1, 2, 3, 4, 5, 6, 1, 2, 3, 4, 1, 2, 3, 1, 2, 3, 4, 5, 6, 1, 2, 3, 4, 5, 6, 4, 1, 2, 3, 4, 5, 6, 1, 2, 3, 4, 5, 6, 1, 2, 1, 2, 6, 3, 4, 1, 2, 3, 1, 2], \"Freq\": [0.4710665999403019, 0.3448880463848639, 0.10094284284435041, 0.05888332499253774, 0.016823807140725067, 0.008411903570362533, 0.21840176323412278, 0.7644061713194297, 0.9622079311182706, 0.9388242554315481, 0.4696662270195825, 0.27397196576142313, 0.1956942612581594, 0.03913885225163188, 0.01956942612581594, 0.00978471306290797, 0.07709033720129495, 0.030836134880517976, 0.3083613488051798, 0.5704684952895825, 0.015418067440258988, 0.17203791346209021, 0.7168246394253759, 0.05734597115403007, 0.8948711502597586, 0.05271226060425427, 0.7379716484595598, 0.10542452120850854, 0.05271226060425427, 0.2048734835446844, 0.563402079747882, 0.2048734835446844, 0.02560918544308555, 0.9528886299359547, 0.8004877965933244, 0.8135792442467232, 0.7725027129422055, 0.9717571525946731, 0.9508439711965512, 0.5386459702056405, 0.056699575811120055, 0.056699575811120055, 0.28349787905560025, 0.028349787905560028, 0.028349787905560028, 0.10428097969940552, 0.8342478375952441, 0.6782079736420711, 0.05177160104137947, 0.015531480312413842, 0.22779504458206967, 0.015531480312413842, 0.010354320208275895, 0.6618721424030065, 0.04964041068022548, 0.04964041068022548, 0.2151084462809771, 0.016546803560075162, 0.016546803560075162, 0.9655611130098026, 0.8380406992560234, 0.9073632418874554, 0.2598806414612281, 0.6682645066145865, 0.07425161184606517, 0.9259359128631632, 0.9092459295347027, 0.08194661924487749, 0.9014128116936524, 0.08194661924487749, 0.959910510245859, 0.05858332761362597, 0.8787499142043895, 0.05858332761362597, 0.9495660874328267, 0.09400532777666333, 0.8460479499899699, 0.9427029710167132, 1.009990786532632, 0.11671082664915512, 0.8169757865440859, 0.2181712737295246, 0.15583662409251758, 0.28050592336653163, 0.09350197445551055, 0.1870039489110211, 0.06233464963700703, 0.10634805121535067, 0.8507844097228053, 0.10936940593731935, 0.8749552474985548, 0.7964845696783625, 0.5438453513358807, 0.634835992593104, 0.158708998148276, 0.06714611460119368, 0.079354499074138, 0.01831257670941646, 0.042729345655305076, 0.8527527188181566, 0.7177224793799658, 0.9553272496887778, 0.02449557050484046, 0.14731086998839646, 0.8838652199303787, 0.8465052031672257, 0.8824315085455224, 0.9270004302054199, 0.9235446396263504, 0.7747586108156459, 0.06524283038447544, 0.040776768990297155, 0.06524283038447544, 0.03262141519223772, 0.01631070759611886, 0.8313195270578695, 0.7211537772857183, 0.31105172418492105, 0.20736781612328067, 0.10368390806164034, 0.31105172418492105, 0.8489127271479963, 0.9054909893806005, 0.5567088766209181, 0.119294759275911, 0.198824598793185, 0.066274866264395, 0.053019893011516, 0.013254973252879, 0.9753372231822042, 0.485492123331317, 0.03467800880937979, 0.03467800880937979, 0.4508141145219372, 0.2827833474788554, 0.07069583686971385, 0.4948708580879969, 0.10604375530457077, 0.03534791843485693, 0.03534791843485693, 0.9813483727042792, 0.8006582642463933, 0.22027805539223738, 0.027534756924029673, 0.33041708308835605, 0.055069513848059345, 0.27534756924029674, 0.08260427077208901, 0.09316143140592413, 0.7266591649662083, 0.09316143140592413, 0.018632286281184827, 0.055896858843554484, 0.09519568876517427, 0.8567611988865684, 0.3945580160492552, 0.18012431167466, 0.24874309707453046, 0.12008287444977332, 0.042886740874919047, 0.017154696349967618, 0.44961384146987576, 0.42029119963488387, 0.0488710697249865, 0.0488710697249865, 0.0097742139449973, 0.029322641834991895, 0.4917176418914979, 0.1639058806304993, 0.05463529354349977, 0.10927058708699953, 0.1639058806304993, 0.2348731659642769, 0.058718291491069226, 0.058718291491069226, 0.4110280404374846, 0.17615487447320768, 0.9395727800406487, 0.16195811906206314, 0.16195811906206314, 0.6478324762482526, 0.1948980778355908, 0.628004917470237, 0.04331068396346462, 0.04331068396346462, 0.06496602594519693, 0.16242536272116423, 0.8121268136058212, 0.8476023967192511, 0.06872451865291225, 0.03818028814050681, 0.030544230512405443, 0.015272115256202722, 0.007636057628101361, 0.0769114803599594, 0.8460262839595535, 0.0769114803599594, 0.9340444867910339, 0.9578459263486163, 0.03684022793648525, 0.2862922759946057, 0.6441576209878628, 0.9586472442119379, 0.8466294415052412, 0.1308015169658552, 0.1308015169658552, 0.7194083433122037, 0.9511199671895505, 0.05968506130603404, 0.05968506130603404, 0.11937012261206809, 0.5371655517543064, 0.05968506130603404, 0.17905518391810213, 0.934625762010265, 0.01699319567291391, 0.01699319567291391, 0.01699319567291391, 0.01699319567291391, 0.5709801977781344, 0.11850532406715997, 0.21546422557665448, 0.03231963383649817, 0.05386605639416362, 0.010773211278832724, 0.7048493777075636, 0.07709290068676478, 0.011013271526680682, 0.16519907290021024, 0.011013271526680682, 0.022026543053361363, 0.9206987119413168, 0.02789996096791869, 0.00929998698930623, 0.01859997397861246, 0.00929998698930623, 0.00929998698930623, 0.6113698513291465, 0.026581297883875935, 0.19935973412906952, 0.05316259576775187, 0.09303454259356576, 0.013290648941937967, 0.5607927013153119, 0.1269821741231644, 0.1269821741231644, 0.6349108706158221, 0.44352629255817094, 0.13860196642442843, 0.11088157313954274, 0.1940427529941998, 0.08316117985465706, 0.0675582357967792, 0.8106988295613504, 0.0675582357967792, 0.2928723728792459, 0.036609046609905736, 0.43930855931886886, 0.036609046609905736, 0.036609046609905736, 0.10982713982971722, 0.9136793319229999, 0.029956699407311473, 0.014978349703655736, 0.014978349703655736, 0.014978349703655736, 0.014978349703655736, 0.2702371910850052, 0.8107115732550156, 0.8468811234540708, 0.8528704201253197, 0.4961983841152752, 0.0826997306858792, 0.0826997306858792, 0.3307989227435168, 0.4868983219339593, 0.030431145120872458, 0.4868983219339593, 0.8679745206651382, 0.6856639633202167, 0.06996571054287926, 0.06996571054287926, 0.055972568434303406, 0.11194513686860681, 0.013993142108575852, 0.8396333112742878, 0.9970464177189267, 0.48889434999739395, 0.25422506199864486, 0.17600196599906182, 0.045630139333090104, 0.026074365333194346, 0.013037182666597173, 0.9278363714032938, 0.8888027505207209, 0.03418472117387388, 0.02278981411591592, 0.03418472117387388, 0.02278981411591592, 0.01139490705795796, 0.8505449696532686, 0.7697657108452114, 0.11184629986639824, 0.03289597054894066, 0.052633552878305054, 0.013158388219576263, 0.013158388219576263, 0.8667924852937, 0.016320360601764228, 0.009066867000980127, 0.09066867000980126, 0.007253493600784101, 0.007253493600784101, 0.925069974411922, 0.020557110542487156, 0.020557110542487156, 0.020557110542487156, 0.8285711841044899, 0.9645707241843641, 0.7545860679164984, 0.9558207253659671, 0.13943606445880422, 0.48802622560581477, 0.27887212891760843, 0.43380279965162166, 0.1774647816756634, 0.3154929452011794, 0.01971830907507371, 0.01971830907507371, 0.23974818441670787, 0.23974818441670787, 0.1598321229444719, 0.3196642458889438, 0.9068801306690232, 0.8412513056305422, 0.9640465814115758, 0.8375971456673641, 0.0644153665600087, 0.837399765280113, 0.0644153665600087, 0.7422487632233181, 0.9035725703596167, 0.1301245446715755, 0.693997571581736, 0.086749696447717, 0.0433748482238585, 0.46907945221887504, 0.08528717313070455, 0.12793075969605683, 0.1705743462614091, 0.12793075969605683, 0.8888974128941505, 0.035203857936402, 0.0088009644841005, 0.0440048224205025, 0.0088009644841005, 0.0088009644841005, 0.9515681500158092, 0.8802675299270709, 0.042939879508637604, 0.021469939754318802, 0.03220490963147821, 0.010734969877159401, 0.010734969877159401, 0.4548882842661825, 0.33791701116916417, 0.0909776568532365, 0.0909776568532365, 0.025993616243781856, 0.012996808121890928, 0.9254228422359077, 0.24302768527017454, 0.034718240752882074, 0.451337129787467, 0.034718240752882074, 0.1735912037644104, 0.06943648150576415, 0.8972875027507051, 0.9694678095516756, 0.12213389479445495, 0.16284519305927325, 0.16284519305927325, 0.44782428091300147, 0.08142259652963663, 0.8616650001466161, 0.04712230469551807, 0.03365878906822719, 0.026927031254581752, 0.020195273440936315, 0.006731757813645438, 0.8355568818258429, 0.9565588371440726, 0.14764424258261058, 0.22146636387391588, 0.29528848516522116, 0.22146636387391588, 0.28904948122909313, 0.8671484436872794, 0.9684096207523363, 0.9642632997123515, 0.6183896042757223, 0.8571231388916218, 0.9239430276822026, 0.022907678372286015, 0.01527178558152401, 0.022907678372286015, 0.01527178558152401, 0.007635892790762005, 0.9686425970778911, 0.02935280597205731, 0.9890952171088393, 0.9681963260734525, 0.9074051030317274, 0.8644844813739613, 0.9584460107187316, 0.0821664045381772, 0.9038304499199491, 0.7226402950326889, 0.5448729607416615, 0.14338762124780563, 0.11471009699824451, 0.08603257274868338, 0.11471009699824451, 0.9380608518930856, 0.5062750088986774, 0.4050200071189419, 0.6499088451919124, 0.046422060370850886, 0.046422060370850886, 0.046422060370850886, 0.18568824148340354, 0.16600224827942775, 0.7470101172574249, 0.08300112413971387, 0.9286758452402032, 0.5826469408460425, 0.27566091824974054, 0.07518025043174742, 0.043855146085186, 0.018795062607936855, 0.012530041738624572, 0.17915238368669437, 0.5374571510600831, 0.21451145533984944, 0.585031241835953, 0.13650728976172238, 0.03900208278906354, 0.01950104139453177, 0.01950104139453177, 0.9793627690794627, 0.9310244304762644, 0.021159646147187825, 0.03173946922078174, 0.010579823073593913, 0.010579823073593913, 0.8326462619789715, 0.1015374682060624, 0.8122997456484992, 0.0507687341030312, 0.3128175224478538, 0.5829781100164548, 0.056875913172337055, 0.028437956586168527, 0.014218978293084264, 0.014218978293084264, 0.3186490166819956, 0.5637636448989153, 0.04902292564338394, 0.04902292564338394, 0.02451146282169197, 0.8955882119741342, 0.8216097965482403, 0.713880672735943, 0.9192230945203577, 0.02683863049694475, 0.006709657624236188, 0.020128972872708564, 0.013419315248472376, 0.013419315248472376, 0.879345519754912, 0.9264487935117021, 0.02259631203687078, 0.01129815601843539, 0.02259631203687078, 0.01129815601843539, 0.01129815601843539, 0.9574687882966496, 0.9724710144025066, 0.9897031737720355, 0.9836975808048697, 0.9409326205840625, 0.9346277385958037, 0.12578485522543448, 0.817601558965324, 0.9203390995485556, 0.7839175558423371, 0.09055757804105466, 0.8829363859002829, 0.022639394510263665, 0.9255289697104306, 0.9066804427474252, 0.9051936646185623, 0.019259439672735367, 0.012839626448490245, 0.032099066121225615, 0.012839626448490245, 0.012839626448490245, 0.9330696504156049, 0.846710110589235, 0.05194500860397115, 0.05194500860397115, 0.1038900172079423, 0.7272301204555961, 0.9612344577742642, 0.35761232503981905, 0.2860898600318552, 0.2860898600318552, 0.01788061625199095, 0.0357612325039819, 0.01788061625199095, 0.9375648187512656, 0.9271223719997558, 0.8323244876420515, 0.07083612660783417, 0.026563547477937814, 0.04427257912989636, 0.017709031651958543, 0.008854515825979271, 0.7624846179306521, 0.6943351577813355, 0.14822885390837498, 0.04680911176053947, 0.07801518626756579, 0.015603037253513157, 0.007801518626756578, 0.6565113689862729, 0.08380996199824761, 0.09777828899795556, 0.13968326999707936, 0.013968326999707936, 0.013968326999707936, 0.9297730010825379, 0.882613122813026, 0.9427679046769346, 0.8729978798353492, 0.0663439466762217, 0.7961273601146605, 0.0663439466762217, 0.13731490473280972, 0.045771634910936575, 0.5263738014757706, 0.06865745236640486, 0.09154326982187315, 0.11442908727734144, 0.9553143478192966, 0.9047184016367193, 0.02845026420241256, 0.017070158521447533, 0.022760211361930047, 0.011380105680965024, 0.011380105680965024, 0.9623495602820996, 0.027495701722345705, 0.6681426965142087, 0.11135711608570145, 0.14652252116539666, 0.04102630592631106, 0.023443603386463462, 0.011721801693231731, 0.9153939729391533, 0.03316644829489686, 0.006633289658979372, 0.013266579317958743, 0.013266579317958743, 0.013266579317958743, 0.25158431401364717, 0.09434411775511768, 0.4717205887755884, 0.15724019625852947, 0.9883661048787085, 0.9382604195773709, 0.4159594645523396, 0.37570532282146807, 0.12076242519261474, 0.05367218897449544, 0.02683609448724772, 0.01341804724362386, 0.8534946737880154, 0.775626288348616, 0.009943926773700205, 0.009943926773700205, 0.04971963386850103, 0.14915890160550307, 0.009943926773700205, 0.944714523149063, 0.9966927973023414, 0.8695815710503305, 0.05503680829432472, 0.022014723317729887, 0.022014723317729887, 0.011007361658864944, 0.011007361658864944, 0.3637192523719417, 0.39169765640055254, 0.14921815481925813, 0.046630673381018166, 0.018652269352407266, 0.027978404028610897, 0.1267414552039811, 0.1267414552039811, 0.7604487312238867, 0.9462322208896191, 0.8145884559027025, 0.8553814000175701, 0.9417821488704813, 0.022970296313914177, 0.09415279791301488, 0.847375181217134, 0.09415279791301488, 0.834203418796941, 0.7871719044467795, 0.01229956100698093, 0.02459912201396186, 0.07379736604188558, 0.09839648805584744, 0.01229956100698093, 0.26239096503198417, 0.052478193006396834, 0.629738316076762, 0.026239096503198417, 0.026239096503198417, 0.6118091968543314, 0.2801054154272843, 0.06634075628540943, 0.02948478057129308, 0.00737119514282327, 0.00737119514282327, 0.9639226412926566, 0.5087617401377582, 0.13875320185575227, 0.1665038422269027, 0.1480034153128024, 0.02775064037115045, 0.00925021345705015, 0.787120871167286, 0.06844529314498139, 0.06844529314498139, 0.05133396985873605, 0.008555661643122674, 0.008555661643122674, 0.9389888060126639, 0.036114954077410145, 0.7780461270127661, 0.26053524791206306, 0.23262075706434202, 0.37219321130294725, 0.055828981695442086, 0.055828981695442086, 0.027914490847721043, 0.9176966320633668, 0.871278364609561, 0.8629510800196457, 0.046899515218459004, 0.0375196121747672, 0.028139709131075403, 0.0093799030436918, 0.0093799030436918, 0.49639258660929503, 0.12192098618473914, 0.2786765398508323, 0.052251851222031055, 0.026125925611015528, 0.026125925611015528, 0.08611945458246739, 0.7750750912422065, 0.8242939174376022, 0.0520606684697433, 0.0520606684697433, 0.04338389039145275, 0.017353556156581098, 0.008676778078290549, 0.04918931382132055, 0.9345969626050904, 0.832168644689705, 0.10888155815841596, 0.10888155815841596, 0.5807016435115518, 0.07258770543894398, 0.10888155815841596, 0.0740920068302436, 0.8891040819629232, 0.9201948420718689, 0.040264101035708696, 0.08052820207141739, 0.5234333134642131, 0.040264101035708696, 0.28184870724996086, 0.9705318785276879, 0.16349827350264917, 0.05449942450088306, 0.32699654700529834, 0.49049482050794757, 0.9438982595189106, 0.5441357551640427, 0.9370421602658188, 0.9187595360098193, 0.9415230918713087, 0.7679480616769357, 0.10212075288257123, 0.057187621614239896, 0.040848301153028496, 0.020424150576514248, 0.012254490345908548, 0.7781379648837466, 0.8571136123070782, 0.10850458903562668, 0.036168196345208896, 0.5786911415233423, 0.14467278538083558, 0.10850458903562668, 0.036168196345208896, 0.8554203125850321, 0.9399035177375913, 0.9484197117280749, 0.8854177313853815, 0.7534377795370346, 0.04660439873424956, 0.08544139767945753, 0.08544139767945753, 0.015534799578083187, 0.015534799578083187, 0.7729986321240866, 0.8442977491316623, 0.0842144559925122, 0.0842144559925122, 0.0842144559925122, 0.7579301039326097, 0.9166386848212659, 0.0986843043089803, 0.04934215215449015, 0.46875044546765643, 0.0986843043089803, 0.22203968469520569, 0.07401322823173523, 0.9231541264539042, 0.020745036549525937, 0.020745036549525937, 0.020745036549525937, 0.010372518274762968, 0.010372518274762968, 0.46207831048680914, 0.15619548523497775, 0.2538176635068388, 0.0715895973993648, 0.02603258087249629, 0.032540726090620364, 0.08377818947760693, 0.8098558316168669, 0.08377818947760693, 0.9428380885512768, 0.5013383752571, 0.2026687048911681, 0.18133515700788724, 0.05333386970820213, 0.05333386970820213, 0.021333547883280853, 0.5788262169645869, 0.27907692603649725, 0.08268945956636956, 0.031008547337388583, 0.02067236489159239, 0.010336182445796194, 0.9245393034173751, 0.05438466490690442, 0.06649337371013524, 0.8644138582317581, 0.06649337371013524, 0.3311726381514868, 0.515157437124535, 0.07359391958921928, 0.01839847989730482, 0.07359391958921928, 0.74138051933892, 0.762714026291272, 0.8489808357881914, 0.0646358817388836, 0.8402664626054869, 0.0646358817388836, 0.9249597255377671, 0.3713503102331071, 0.061891718372184525, 0.3300891646516508, 0.10315286395364087, 0.12378343674436905, 0.020630572790728174, 0.8689962637660145, 0.7402852133976199, 0.8381535975512597, 0.036761122699616657, 0.04411334723953999, 0.051465571779463315, 0.014704449079846662, 0.007352224539923331, 0.6685864897840592, 0.07293670797644282, 0.20665400593325467, 0.03646835398822141, 0.012156117996073804, 0.012156117996073804, 0.962598557887247, 0.4643975519050317, 0.5307400593200362, 0.8433038584395849, 0.11261809555611661, 0.7883266688928162, 0.11044086991468431, 0.7730860894027902, 0.15862760213146268, 0.7931380106573134, 0.9503611155672222, 0.9421322332711595, 0.06210659229275684, 0.807385699805839, 0.12421318458551368, 0.6112191567403273, 0.22920718377762275, 0.06251105012116984, 0.06945672235685538, 0.020837016707056615, 0.013891344471371076, 0.8538681844723627, 0.05534330825283832, 0.0474371213595757, 0.03162474757305047, 0.007906186893262617, 0.007906186893262617, 0.8540840516334169, 0.07192286750597196, 0.01798071687649299, 0.03596143375298598, 0.008990358438246495, 0.008990358438246495, 0.7807052002145392, 0.9138455520359816, 0.10982618098043315, 0.8786094478434652, 0.16148729858943564, 0.8074364929471782, 0.966656783299442, 0.5845707028670403, 0.1359466750853582, 0.1359466750853582, 0.05437867003414328, 0.02718933501707164, 0.05437867003414328, 0.9647895281228058, 0.907974462718332, 0.04065557295753726, 0.01355185765251242, 0.01355185765251242, 0.01355185765251242, 0.01355185765251242, 0.041119789355390915, 0.4934374722646909, 0.4111978935539091, 0.041119789355390915, 0.9254803509284203, 0.06009520038378426, 0.901428005756764, 0.8773286784187526, 0.931465559872898, 0.01433023938265997, 0.01433023938265997, 0.01433023938265997, 0.01433023938265997, 0.9011458065485668, 0.24755346476992166, 0.061888366192480414, 0.3094418309624021, 0.18566509857744123, 0.24755346476992166, 0.9020974459310411, 0.023431102491715355, 0.03514665373757303, 0.023431102491715355, 0.011715551245857677, 0.011715551245857677, 0.8649694271741172, 0.7191617329318309, 0.1448774609945715, 0.6278023309764765, 0.09658497399638101, 0.07243873049728575, 0.048292486998190505, 0.5401812279891794, 0.17187584526928434, 0.09821476872530535, 0.073661076543979, 0.024553692181326338, 0.09821476872530535, 0.2148380502936232, 0.6122884433368262, 0.08593522011744929, 0.06445141508808697, 0.010741902514681162, 0.010741902514681162, 0.5940724689846978, 0.6801224701452777, 0.09068299601937037, 0.09068299601937037, 0.045341498009685184, 0.022670749004842592, 0.09068299601937037, 0.099743530154147, 0.0498717650770735, 0.598461180924882, 0.0498717650770735, 0.099743530154147, 0.0498717650770735, 0.24738748895889706, 0.4947749779177941, 0.42100257732230945, 0.4560861254325019, 0.05262532216528868, 0.05262532216528868, 0.017541774055096226, 0.8471973786810514, 0.9501616150962766, 0.14662499080726313, 0.058649996322905254, 0.6158249613905051, 0.058649996322905254, 0.11729999264581051, 0.8981280214731403, 0.9364378995401698, 0.022564768663618548, 0.011282384331809274, 0.011282384331809274, 0.011282384331809274, 0.011282384331809274, 0.8943004248972755, 0.5785541238237311, 0.19285137460791035, 0.9597088872294566, 0.9219683498280601, 0.03414697591955778, 0.03414697591955778, 0.16713171495664936, 0.7520927173049221, 0.3011352361890497, 0.12486095159058158, 0.3525485691969362, 0.19096380831500714, 0.01468952371653901, 0.01468952371653901, 0.29648397778063323, 0.07412099444515831, 0.2223629833354749, 0.14824198889031662, 0.29648397778063323, 0.9494236392331932, 0.3558577719937746, 0.07907950488750547, 0.3558577719937746, 0.07907950488750547, 0.03953975244375273, 0.07907950488750547, 0.9429790056139931, 0.9692537822415569, 0.1583321133363721, 0.769041693348093, 0.045237746667534884, 0.011309436666883721, 0.011309436666883721, 0.011309436666883721, 0.447321458066648, 0.037276788172220666, 0.037276788172220666, 0.3727678817222067, 0.14910715268888267, 0.29709044017906894, 0.5941808803581379, 0.30268132791317226, 0.5717313971693254, 0.05605209776169857, 0.03363125865701914, 0.011210419552339713, 0.011210419552339713, 0.1767452649576379, 0.05891508831921263, 0.5891508831921264, 0.05891508831921263, 0.08837263247881895, 0.06225134322896869, 0.809267461976593, 0.06225134322896869, 0.12867226235376597, 0.04289075411792199, 0.25734452470753194, 0.5146890494150639, 0.8450036445680583, 0.05216071880049743, 0.036512503160348195, 0.04172857504039794, 0.01564821564014923, 0.010432143760099485, 0.3528218941062737, 0.07056437882125473, 0.5292328411594105, 0.035282189410627364, 0.9220187619633208, 0.8981231642600209, 0.9385533086105173, 0.673466942509286, 0.11934857209025321, 0.13639836810314654, 0.04262449003223329, 0.017049796012893317, 0.008524898006446659, 0.12868081357780498, 0.7720848814668297, 0.9234624747269203, 0.946383103377639, 0.03639935012990919, 0.8647836280487771, 0.035819440215038106, 0.03070237732717552, 0.03070237732717552, 0.020468251551450344, 0.01535118866358776, 0.314411552354264, 0.628823104708528, 0.8625533645542015, 0.10863304245229097, 0.10863304245229097, 0.3258991273568729, 0.43453216980916387, 0.10863304245229097, 0.863574451281877, 0.06570675172796892, 0.028160036454843818, 0.028160036454843818, 0.009386678818281273, 0.009386678818281273, 0.8543363871625261, 0.20074411277247187, 0.10037205638623593, 0.10037205638623593, 0.40148822554494373, 0.10037205638623593, 0.9424994014352883, 0.44003840204430006, 0.44003840204430006, 0.8445219261930542, 0.07677472056300494, 0.9023086068931359, 0.9482290402123382, 0.642217942338756, 0.5477278745535396, 0.024896721570615437, 0.12448360785307717, 0.2738639372767698, 0.5101781728782905, 0.05101781728782905, 0.4081425383026324, 0.16094241941264353, 0.8047120970632177, 0.5723642858257715, 0.06187722008927259, 0.13922374520086334, 0.18563166026781777, 0.015469305022318148, 0.015469305022318148, 0.14415127156275523, 0.23064203450040838, 0.5477748319384699, 0.014415127156275524, 0.043245381468826574, 0.028830254312551047, 0.7315902210381761, 0.9163288607759486, 0.030167205293035345, 0.011312701984888254, 0.01885450330814709, 0.015083602646517673, 0.011312701984888254, 0.8974851081922205, 0.5853197398999415, 0.14632993497498537, 0.16723421139998326, 0.041808552849995816, 0.041808552849995816, 0.020904276424997908, 0.8463925012847971, 0.8741846937074913, 0.862077367876193, 0.041848415916320054, 0.041848415916320054, 0.033478732733056044, 0.008369683183264011, 0.008369683183264011, 0.8190679927935961, 0.7257266851389528, 0.8078852922887003, 0.938765985292479, 0.8184786698539359, 0.3580721135757614, 0.427376393622683, 0.06930428004692156, 0.08085499338807516, 0.011550713341153594, 0.046202853364614375, 0.7192521668340359, 0.03688472650430954, 0.03688472650430954, 0.18442363252154767, 0.01844236325215477, 0.01844236325215477, 0.32252895093071227, 0.024809919302362482, 0.2729091123259873, 0.32252895093071227, 0.024809919302362482, 0.024809919302362482, 0.1650062968748008, 0.7590289656240837, 0.06600251874992033, 0.033001259374960165, 0.030714809777970302, 0.8292998640051982, 0.09214442933391091, 0.5071975924464407, 0.37112018959495663, 0.06185336493249277, 0.03711201895949567, 0.012370672986498554, 0.012370672986498554, 0.2995272882396184, 0.334765792738397, 0.17619252249389317, 0.07047700899755727, 0.1057155134963359, 0.03523850449877863, 0.947488944322956, 0.30546218036199524, 0.15273109018099762, 0.2672794078167458, 0.038182772545249405, 0.19091386272624702, 0.038182772545249405, 0.8055678790529223, 0.06346898441023023, 0.06346898441023023, 0.03417560699012397, 0.01952891828007084, 0.00976445914003542, 0.06893973873280111, 0.8962166035264144, 0.04662403345823058, 0.7459845353316893, 0.18649613383292232, 0.18690179796174708, 0.7476071918469883, 0.07419013093651837, 0.07419013093651837, 0.8160914403017021, 0.9592354714075791, 0.022838939795418553], \"Term\": [\"account\", \"account\", \"account\", \"account\", \"account\", \"account\", \"actuals\", \"actuals\", \"adclick\", \"additionai\", \"address\", \"address\", \"address\", \"address\", \"address\", \"address\", \"adobe\", \"adobe\", \"adobe\", \"adobe\", \"adobe\", \"advice\", \"advice\", \"advice\", \"aerofoam\", \"africa\", \"africa\", \"africa\", \"africa\", \"agent\", \"agent\", \"agent\", \"agent\", \"aimee\", \"aliuum\", \"allex\", \"ambieen\", \"amitava\", \"archer\", \"article\", \"article\", \"article\", \"article\", \"article\", \"article\", \"artwork\", \"artwork\", \"attached\", \"attached\", \"attached\", \"attached\", \"attached\", \"attached\", \"august\", \"august\", \"august\", \"august\", \"august\", \"august\", \"authenticated\", \"autodesk\", \"avila\", \"award\", \"award\", \"award\", \"backgammon\", \"baggerly\", \"ballot\", \"ballot\", \"ballot\", \"bankroll\", \"batch\", \"batch\", \"batch\", \"beaumont\", \"belize\", \"belize\", \"bessik\", \"bloow\", \"borland\", \"borland\", \"brand\", \"brand\", \"brand\", \"brand\", \"brand\", \"brand\", \"breath\", \"breath\", \"breathing\", \"breathing\", \"brinq\", \"burchett\", \"business\", \"business\", \"business\", \"business\", \"business\", \"business\", \"bxjqlhgh\", \"byargeon\", \"calpine\", \"calpine\", \"carefui\", \"carefui\", \"carpenter\", \"cartier\", \"castillo\", \"castro\", \"change\", \"change\", \"change\", \"change\", \"change\", \"change\", \"chanley\", \"chanqes\", \"charity\", \"charity\", \"charity\", \"charity\", \"cheaap\", \"cheapst\", \"check\", \"check\", \"check\", \"check\", \"check\", \"check\", \"chess\", \"chokshi\", \"chokshi\", \"chokshi\", \"chokshi\", \"choose\", \"choose\", \"choose\", \"choose\", \"choose\", \"choose\", \"chrissy\", \"ciaaliis\", \"cialis\", \"cialis\", \"cialis\", \"cialis\", \"cialis\", \"cialis\", \"claim\", \"claim\", \"claim\", \"claim\", \"claim\", \"claiming\", \"claiming\", \"click\", \"click\", \"click\", \"click\", \"click\", \"click\", \"company\", \"company\", \"company\", \"company\", \"company\", \"company\", \"competitive\", \"competitive\", \"competitive\", \"competitive\", \"competitive\", \"competitor\", \"competitor\", \"competitor\", \"competitor\", \"competitor\", \"computron\", \"congrats\", \"congrats\", \"congrats\", \"congratulation\", \"congratulation\", \"congratulation\", \"congratulation\", \"congratulation\", \"contemporary\", \"contemporary\", \"contract\", \"contract\", \"contract\", \"contract\", \"contract\", \"contract\", \"convinient\", \"convinient\", \"convinient\", \"corei\", \"cotten\", \"cotten\", \"cotton\", \"cotton\", \"couid\", \"countrieswe\", \"coupon\", \"coupon\", \"coupon\", \"creatinq\", \"creative\", \"creative\", \"creative\", \"creative\", \"creative\", \"creative\", \"crenshaw\", \"crenshaw\", \"crenshaw\", \"crenshaw\", \"crenshaw\", \"customer\", \"customer\", \"customer\", \"customer\", \"customer\", \"customer\", \"daily\", \"daily\", \"daily\", \"daily\", \"daily\", \"daily\", \"daren\", \"daren\", \"daren\", \"daren\", \"daren\", \"daren\", \"delivery\", \"delivery\", \"delivery\", \"delivery\", \"delivery\", \"delivery\", \"delma\", \"depot\", \"depot\", \"depot\", \"design\", \"design\", \"design\", \"design\", \"design\", \"differ\", \"differ\", \"differ\", \"discount\", \"discount\", \"discount\", \"discount\", \"discount\", \"discount\", \"discus\", \"discus\", \"discus\", \"discus\", \"discus\", \"discus\", \"dissolve\", \"dissolve\", \"dragstore\", \"dreamweaver\", \"dynamic\", \"dynamic\", \"dynamic\", \"dynamic\", \"eastrans\", \"eastrans\", \"eastrans\", \"edmondson\", \"effective\", \"effective\", \"effective\", \"effective\", \"effective\", \"effective\", \"eileen\", \"elliott\", \"email\", \"email\", \"email\", \"email\", \"email\", \"email\", \"emerson\", \"employee\", \"employee\", \"employee\", \"employee\", \"employee\", \"employee\", \"encoding\", \"energy\", \"energy\", \"energy\", \"energy\", \"energy\", \"energy\", \"enron\", \"enron\", \"enron\", \"enron\", \"enron\", \"enron\", \"enronxgate\", \"enronxgate\", \"enronxgate\", \"enronxgate\", \"enserch\", \"entex\", \"eprocurement\", \"equistar\", \"erection\", \"erection\", \"erection\", \"every\", \"every\", \"every\", \"every\", \"every\", \"excelled\", \"excelled\", \"excelled\", \"excelled\", \"exclusiverewards\", \"extender\", \"eyeforenergy\", \"eyewear\", \"featured\", \"featured\", \"featured\", \"fiexible\", \"flexibie\", \"foreign\", \"foreign\", \"foreign\", \"foreign\", \"format\", \"format\", \"format\", \"format\", \"format\", \"forwarded\", \"forwarded\", \"forwarded\", \"forwarded\", \"forwarded\", \"forwarded\", \"fraisy\", \"friday\", \"friday\", \"friday\", \"friday\", \"friday\", \"friday\", \"future\", \"future\", \"future\", \"future\", \"future\", \"future\", \"futuros\", \"generic\", \"generic\", \"generic\", \"generic\", \"generic\", \"generic\", \"ghirardelli\", \"gossett\", \"graphic\", \"graphic\", \"graphic\", \"graphic\", \"graphic\", \"group\", \"group\", \"group\", \"group\", \"group\", \"group\", \"guadalupe\", \"hannigan\", \"heart\", \"heart\", \"heart\", \"heart\", \"hershey\", \"hershey\", \"highland\", \"hilliard\", \"holly\", \"homesite\", \"houston\", \"houston\", \"houston\", \"houston\", \"houston\", \"houston\", \"hplnl\", \"hplnl\", \"hplno\", \"hplnol\", \"hplol\", \"iaagra\", \"iasts\", \"iferc\", \"iferc\", \"igsupdate\", \"image\", \"image\", \"image\", \"image\", \"image\", \"imaqe\", \"impotence\", \"impotence\", \"improvement\", \"improvement\", \"improvement\", \"improvement\", \"improvement\", \"incredibly\", \"incredibly\", \"incredibly\", \"inexpnsive\", \"information\", \"information\", \"information\", \"information\", \"information\", \"information\", \"ingredient\", \"ingredient\", \"international\", \"international\", \"international\", \"international\", \"international\", \"international\", \"internetstore\", \"interview\", \"interview\", \"interview\", \"interview\", \"interview\", \"intuit\", \"investing\", \"investing\", \"investing\", \"investment\", \"investment\", \"investment\", \"investment\", \"investment\", \"investment\", \"investor\", \"investor\", \"investor\", \"investor\", \"investor\", \"jmstrong\", \"joann\", \"jumpstartlovelife\", \"kaminski\", \"kaminski\", \"kaminski\", \"kaminski\", \"kaminski\", \"kaminski\", \"khodorkovsky\", \"kitchen\", \"kitchen\", \"kitchen\", \"kitchen\", \"kitchen\", \"kitchen\", \"labguard\", \"lannou\", \"lindsay\", \"livegraphics\", \"llcensed\", \"lnterest\", \"localized\", \"localized\", \"logodentity\", \"loqos\", \"lottery\", \"lottery\", \"lottery\", \"lotto\", \"loughridge\", \"louise\", \"louise\", \"louise\", \"louise\", \"louise\", \"louise\", \"maceuticai\", \"macrmedia\", \"macromedia\", \"macromedia\", \"macromedia\", \"macromedia\", \"maddox\", \"mailing\", \"mailing\", \"mailing\", \"mailing\", \"mailing\", \"mailing\", \"mailwisconsin\", \"maisonette\", \"management\", \"management\", \"management\", \"management\", \"management\", \"management\", \"maple\", \"market\", \"market\", \"market\", \"market\", \"market\", \"market\", \"marketing\", \"marketing\", \"marketing\", \"marketing\", \"marketing\", \"marketing\", \"marlene\", \"masada\", \"matchavariani\", \"materia\", \"meaning\", \"meaning\", \"meaning\", \"medication\", \"medication\", \"medication\", \"medication\", \"medication\", \"medication\", \"medssno\", \"meeting\", \"meeting\", \"meeting\", \"meeting\", \"meeting\", \"meeting\", \"megan\", \"megan\", \"message\", \"message\", \"message\", \"message\", \"message\", \"message\", \"meter\", \"meter\", \"meter\", \"meter\", \"meter\", \"meter\", \"microsoft\", \"microsoft\", \"microsoft\", \"microsoft\", \"midcon\", \"mikhail\", \"million\", \"million\", \"million\", \"million\", \"million\", \"million\", \"minhplno\", \"mmbtu\", \"mmbtu\", \"mmbtu\", \"mmbtu\", \"mmbtu\", \"mmbtu\", \"mobil\", \"mojave\", \"monday\", \"monday\", \"monday\", \"monday\", \"monday\", \"monday\", \"money\", \"money\", \"money\", \"money\", \"money\", \"money\", \"native\", \"native\", \"native\", \"natura\", \"needsand\", \"nepel\", \"netco\", \"netco\", \"netherlands\", \"netherlands\", \"netherlands\", \"newsietter\", \"nomination\", \"nomination\", \"nomination\", \"nomination\", \"nomination\", \"nomination\", \"normal\", \"normal\", \"normal\", \"normal\", \"normal\", \"number\", \"number\", \"number\", \"number\", \"number\", \"number\", \"oasis\", \"offer\", \"offer\", \"offer\", \"offer\", \"offer\", \"offer\", \"office\", \"office\", \"office\", \"office\", \"office\", \"office\", \"offsite\", \"offsite\", \"oncxbv\", \"online\", \"online\", \"online\", \"online\", \"online\", \"online\", \"ooking\", \"optinrealbig\", \"option\", \"option\", \"option\", \"option\", \"option\", \"option\", \"order\", \"order\", \"order\", \"order\", \"order\", \"order\", \"orgasm\", \"orgasm\", \"original\", \"original\", \"original\", \"original\", \"original\", \"original\", \"paypal\", \"paypal\", \"peanut\", \"penis\", \"penis\", \"penis\", \"penis\", \"penis\", \"peopie\", \"peopie\", \"perscriptions\", \"pharmacy\", \"pharmacy\", \"pharmacy\", \"pharmacy\", \"pharmacy\", \"phenter\", \"photoshop\", \"photoshop\", \"photoshop\", \"photoshop\", \"piaget\", \"piazzet\", \"piease\", \"piiis\", \"playstation\", \"please\", \"please\", \"please\", \"please\", \"please\", \"please\", \"pmoney\", \"ponton\", \"popular\", \"popular\", \"popular\", \"popular\", \"popular\", \"popular\", \"porno\", \"portland\", \"posting\", \"potentia\", \"power\", \"power\", \"power\", \"power\", \"power\", \"power\", \"powerfui\", \"powerquest\", \"premiere\", \"premiere\", \"premiere\", \"premiere\", \"prescrip\", \"prescription\", \"prescription\", \"prescription\", \"prescription\", \"prescription\", \"prescription\", \"presentation\", \"presentation\", \"presentation\", \"presentation\", \"presentation\", \"presentation\", \"price\", \"price\", \"price\", \"price\", \"price\", \"price\", \"prize\", \"prize\", \"prize\", \"proces\", \"product\", \"product\", \"product\", \"product\", \"product\", \"product\", \"program\", \"program\", \"program\", \"program\", \"program\", \"program\", \"projecthoneypot\", \"projecthoneypot\", \"projection\", \"projection\", \"projection\", \"promotion\", \"promotion\", \"promotion\", \"promotion\", \"promotion\", \"pronghorn\", \"pserc\", \"pubiisher\", \"publisher\", \"publisher\", \"publisher\", \"qmail\", \"quality\", \"quality\", \"quality\", \"quality\", \"quality\", \"quality\", \"quark\", \"quelqu\", \"question\", \"question\", \"question\", \"question\", \"question\", \"question\", \"received\", \"received\", \"received\", \"received\", \"received\", \"received\", \"redelivered\", \"redeliveries\", \"redeliveries\", \"reflnance\", \"regalis\", \"regalis\", \"reliantenergy\", \"reliantenergy\", \"remembered\", \"remembered\", \"remitted\", \"renaud\", \"replica\", \"replica\", \"replica\", \"report\", \"report\", \"report\", \"report\", \"report\", \"report\", \"request\", \"request\", \"request\", \"request\", \"request\", \"request\", \"research\", \"research\", \"research\", \"research\", \"research\", \"research\", \"resize\", \"resuits\", \"revamping\", \"revamping\", \"rhythm\", \"rhythm\", \"richness\", \"right\", \"right\", \"right\", \"right\", \"right\", \"right\", \"riverdeep\", \"robert\", \"robert\", \"robert\", \"robert\", \"robert\", \"robert\", \"rolex\", \"rolex\", \"rolex\", \"rolex\", \"roxio\", \"saave\", \"saave\", \"saiba\", \"sally\", \"sally\", \"sally\", \"sally\", \"sally\", \"samira\", \"satisfaction\", \"satisfaction\", \"satisfaction\", \"satisfaction\", \"satisfaction\", \"schedule\", \"schedule\", \"schedule\", \"schedule\", \"schedule\", \"schedule\", \"sdsnom\", \"seaquote\", \"search\", \"search\", \"search\", \"search\", \"search\", \"second\", \"second\", \"second\", \"second\", \"second\", \"second\", \"security\", \"security\", \"security\", \"security\", \"security\", \"security\", \"severai\", \"several\", \"several\", \"several\", \"several\", \"several\", \"several\", \"sexual\", \"sexual\", \"sexual\", \"sexual\", \"sexual\", \"sexual\", \"shannon\", \"shannon\", \"share\", \"share\", \"share\", \"share\", \"share\", \"shiiip\", \"shippiing\", \"shipping\", \"shipping\", \"shipping\", \"shipping\", \"shipping\", \"shippinq\", \"shirley\", \"shirley\", \"shirley\", \"shirley\", \"shirley\", \"shirley\", \"shouid\", \"sidebacks\", \"sidebacks\", \"sistemas\", \"sitara\", \"sitara\", \"sitara\", \"softtabs\", \"softtabs\", \"software\", \"software\", \"software\", \"software\", \"software\", \"software\", \"sometimes\", \"sometimes\", \"sometimes\", \"sometimes\", \"sometimes\", \"soussan\", \"special\", \"special\", \"special\", \"special\", \"special\", \"special\", \"spray\", \"squirrelmail\", \"statement\", \"statement\", \"statement\", \"statement\", \"statement\", \"statement\", \"stationery\", \"stationery\", \"stationery\", \"stationery\", \"stationery\", \"steinberg\", \"steinberg\", \"stock\", \"stock\", \"stock\", \"stock\", \"stock\", \"stock\", \"store\", \"store\", \"store\", \"store\", \"store\", \"struggle\", \"struggle\", \"struggle\", \"studio\", \"studio\", \"studio\", \"studio\", \"subject\", \"subject\", \"subject\", \"subject\", \"subject\", \"subject\", \"super\", \"super\", \"super\", \"super\", \"superviagra\", \"symantec\", \"symbolic\", \"system\", \"system\", \"system\", \"system\", \"system\", \"system\", \"tadalafil\", \"tadalafil\", \"technoiogy\", \"tenaska\", \"tenaska\", \"thanks\", \"thanks\", \"thanks\", \"thanks\", \"thanks\", \"thanks\", \"thankyou\", \"thankyou\", \"thebestmortage\", \"tongue\", \"tongue\", \"tongue\", \"tongue\", \"tongue\", \"trading\", \"trading\", \"trading\", \"trading\", \"trading\", \"trading\", \"trafficmagnet\", \"treatment\", \"treatment\", \"treatment\", \"treatment\", \"treatment\", \"trigger\", \"turnaround\", \"turnaround\", \"unclaimed\", \"unclaimed\", \"uniimited\", \"unwarranted\", \"upwards\", \"utility\", \"utility\", \"utility\", \"utility\", \"valley\", \"valley\", \"valley\", \"variant\", \"variant\", \"version\", \"version\", \"version\", \"version\", \"version\", \"version\", \"viagra\", \"viagra\", \"viagra\", \"viagra\", \"viagra\", \"viagra\", \"vietnam\", \"vince\", \"vince\", \"vince\", \"vince\", \"vince\", \"vince\", \"vinoble\", \"visit\", \"visit\", \"visit\", \"visit\", \"visit\", \"visit\", \"vmware\", \"vocalscape\", \"volume\", \"volume\", \"volume\", \"volume\", \"volume\", \"volume\", \"vuitton\", \"waist\", \"warit\", \"wassup\", \"watmj\", \"website\", \"website\", \"website\", \"website\", \"website\", \"website\", \"weekly\", \"weekly\", \"weekly\", \"weekly\", \"weekly\", \"weekly\", \"window\", \"window\", \"window\", \"window\", \"window\", \"window\", \"winner\", \"winner\", \"winner\", \"winner\", \"winning\", \"winning\", \"winning\", \"within\", \"within\", \"within\", \"within\", \"within\", \"within\", \"world\", \"world\", \"world\", \"world\", \"world\", \"world\", \"worldvideobusiness\", \"worldwide\", \"worldwide\", \"worldwide\", \"worldwide\", \"worldwide\", \"worldwide\", \"would\", \"would\", \"would\", \"would\", \"would\", \"would\", \"wyoming\", \"wyoming\", \"wysak\", \"wysak\", \"wysak\", \"xanaax\", \"xanaax\", \"xanax\", \"xanax\", \"xanax\", \"zimin\", \"zimin\"]}, \"R\": 30, \"lambda.step\": 0.01, \"plot.opts\": {\"xlab\": \"PC1\", \"ylab\": \"PC2\"}, \"topic.order\": [4, 2, 6, 1, 5, 3]};\n",
       "if(typeof(window.LDAvis) !== \"undefined\"){\n",
       "   !function(LDAvis){\n",
       "       new LDAvis(\"#\" + \"ldavis_el2033216662749864646229016948\", ldavis_el2033216662749864646229016948_data);\n",
       "   }(LDAvis);\n",
       "}else{\n",
       "  require.config({paths: {d3: \"https://d3js.org/d3.v5\"}});\n",
       "  require([\"d3\"], function(d3){\n",
       "    window.d3 = d3;\n",
       "    $.getScript(\"https://cdn.jsdelivr.net/gh/bmabey/pyLDAvis/pyLDAvis/js/ldavis.v3.0.0.js\", function(){\n",
       "       new LDAvis(\"#\" + \"ldavis_el2033216662749864646229016948\", ldavis_el2033216662749864646229016948_data);\n",
       "    });\n",
       "  });\n",
       "}\n",
       "</script>"
      ],
      "text/plain": [
       "<IPython.core.display.HTML object>"
      ]
     },
     "execution_count": 41,
     "metadata": {},
     "output_type": "execute_result"
    }
   ],
   "source": [
    "lda_display = pyLDAvis.gensim.prepare(lda_model_tfidf, tfidf_corp, \n",
    "                                          dictionary, mds='mmds')\n",
    "pyLDAvis.display(lda_display, template_type='notebook')"
   ]
  },
  {
   "cell_type": "markdown",
   "metadata": {},
   "source": [
    "The visualisation is supposed to be interactive, as one can look through all topics individually as well as modify lambda, the rate of relevance. However, this feature may be limited by GitHub. To obtain the interactive visualisation, you should run the code in any python environment instead, such as jupyter notebook or anaconda prompt.\n",
    "\n",
    "To measure our success, we will verify 2 key values of our model: coherence and perplexity. The higher the former, the better; whereas the inverse can be said about perplexity. The following two blocks of code implement these values with ease."
   ]
  },
  {
   "cell_type": "code",
   "execution_count": 42,
   "metadata": {},
   "outputs": [],
   "source": [
    "from gensim.models.coherencemodel import CoherenceModel\n",
    "def getCoherence(m,t,d):\n",
    "    coherence_model_lda = CoherenceModel(model=m,texts=t, dictionary=d, coherence='c_v')\n",
    "    coherence_lda = coherence_model_lda.get_coherence()\n",
    "    return(coherence_lda) # Need high coherence"
   ]
  },
  {
   "cell_type": "markdown",
   "metadata": {},
   "source": [
    "As for perplexity:"
   ]
  },
  {
   "cell_type": "code",
   "execution_count": 43,
   "metadata": {},
   "outputs": [],
   "source": [
    "perplex = lda_model_tfidf.log_perplexity(tfidf_corp) # Need low perplexity"
   ]
  },
  {
   "cell_type": "markdown",
   "metadata": {},
   "source": [
    "Let us see what we get for this arbitrary model:"
   ]
  },
  {
   "cell_type": "code",
   "execution_count": 44,
   "metadata": {},
   "outputs": [
    {
     "data": {
      "text/plain": [
       "-10.946241066342365"
      ]
     },
     "execution_count": 44,
     "metadata": {},
     "output_type": "execute_result"
    }
   ],
   "source": [
    "perplex"
   ]
  },
  {
   "cell_type": "code",
   "execution_count": 45,
   "metadata": {},
   "outputs": [
    {
     "data": {
      "text/plain": [
       "0.4071394171520231"
      ]
     },
     "execution_count": 45,
     "metadata": {},
     "output_type": "execute_result"
    }
   ],
   "source": [
    "getCoherence(m=lda_model_tfidf, t=lister, d =dictionary)"
   ]
  },
  {
   "cell_type": "markdown",
   "metadata": {},
   "source": [
    "Surprisingly, the values aren't too bad. Perplexity appears to be lower than expected on a random model. Moreover, starting from such a good (low) value, we normally expect perplexity to be strictly decreasing as the number of topics increases, i.e. inversely proportional. Coherence is neither particularly inviting nor repulsive at 0.378. However, we ought to look for better solutions than this one."
   ]
  },
  {
   "cell_type": "markdown",
   "metadata": {},
   "source": [
    "## 5. Choosing the optimal solution + Accuracy analysis\n",
    "\n",
    "To attain an optimal solution, the best way is to test several topics. By that we mean changing the number of topics and analysing how performance is affected via our two main tools described in section 4: coherence and perplexity. We choose to run 50 models, store all the values for their respective coherences and perplexities in 2 vectors, 'gCH' and 'perplexity'.\n",
    "\n",
    "**DISCLAIMER:** Due to the evidently demanding nature of this part of the project, the runtime for the following 3 blocks of code is expected to be immense. On my personal device, all together, the time of execution varied between 1 hour up to 80 minutes. If you are to choose to skip this part for obvious reasons, you can continue below by simply referring to the results instead. "
   ]
  },
  {
   "cell_type": "code",
   "execution_count": 79,
   "metadata": {},
   "outputs": [],
   "source": [
    "### Starting with this, these 3 lines together take a really long time to run ~ aprox 80min for me\n",
    "gCH = [0] * 50\n",
    "for i in range(1,50):\n",
    "    locals()['lda_model_tfidf_{}'.format(i)] = gensim.models.LdaMulticore(tfidf_corp, num_topics=i, id2word=dictionary, passes=2, workers=6)"
   ]
  },
  {
   "cell_type": "markdown",
   "metadata": {},
   "source": [
    "We will now save the values in the vector:"
   ]
  },
  {
   "cell_type": "code",
   "execution_count": 80,
   "metadata": {},
   "outputs": [],
   "source": [
    "for i in range(1,50):\n",
    "    gCH[i]=getCoherence(m=locals()['lda_model_tfidf_{}'.format(i)], t=lister, d =dictionary)"
   ]
  },
  {
   "cell_type": "markdown",
   "metadata": {},
   "source": [
    "Similarily for perplexity:"
   ]
  },
  {
   "cell_type": "code",
   "execution_count": 81,
   "metadata": {},
   "outputs": [],
   "source": [
    "perplexity = [0] * 50\n",
    "for i in range(1,50):\n",
    "    perplexity[i]=locals()['lda_model_tfidf_{}'.format(i)].log_perplexity(tfidf_corp)"
   ]
  },
  {
   "cell_type": "markdown",
   "metadata": {},
   "source": [
    "Let's see what we obtained for both vectors:"
   ]
  },
  {
   "cell_type": "code",
   "execution_count": 82,
   "metadata": {},
   "outputs": [
    {
     "data": {
      "text/plain": [
       "[0,\n",
       " -10.120509319599039,\n",
       " -10.384096815195484,\n",
       " -10.598616464840763,\n",
       " -10.816147398057886,\n",
       " -10.904427994125875,\n",
       " -11.112184867554982,\n",
       " -11.395612459622066,\n",
       " -11.53106805783743,\n",
       " -11.736637536819318,\n",
       " -12.00139898353434,\n",
       " -12.069549770989154,\n",
       " -12.227910719968088,\n",
       " -12.50424301143771,\n",
       " -12.794297034077422,\n",
       " -12.927994631877212,\n",
       " -13.123097022558493,\n",
       " -13.333787373587372,\n",
       " -13.535157344145697,\n",
       " -13.748589009838604,\n",
       " -13.934098578911094,\n",
       " -14.118517465877842,\n",
       " -14.37109126168436,\n",
       " -14.535149431748831,\n",
       " -14.800970460012657,\n",
       " -14.989840561273871,\n",
       " -15.185068973891417,\n",
       " -15.390220589073763,\n",
       " -15.657613617634267,\n",
       " -15.837875347935368,\n",
       " -16.070784373384733,\n",
       " -16.27955749232283,\n",
       " -16.540087758207317,\n",
       " -16.74999743269401,\n",
       " -17.032723756265717,\n",
       " -17.28429081697981,\n",
       " -17.53022405327836,\n",
       " -17.808098644274004,\n",
       " -18.170862972311504,\n",
       " -18.488859807691174,\n",
       " -18.723560482399982,\n",
       " -19.07710140645974,\n",
       " -19.14793887754755,\n",
       " -19.739916189684664,\n",
       " -20.09035006012123,\n",
       " -20.465350712892157,\n",
       " -20.77634703110896,\n",
       " -21.17543087815318,\n",
       " -21.449395975180654,\n",
       " -21.832716790321125]"
      ]
     },
     "execution_count": 82,
     "metadata": {},
     "output_type": "execute_result"
    }
   ],
   "source": [
    "perplexity # Seems to be decreasing steadily the more topics we try\n",
    "        ## We hence decide to give much more importance to the coherence aspect"
   ]
  },
  {
   "cell_type": "code",
   "execution_count": 83,
   "metadata": {},
   "outputs": [
    {
     "data": {
      "text/plain": [
       "[0,\n",
       " 0.3484184220316184,\n",
       " 0.36190237280065074,\n",
       " 0.3508551240976782,\n",
       " 0.3912397249926828,\n",
       " 0.36625127614124603,\n",
       " 0.3904026642399823,\n",
       " 0.3725546173839312,\n",
       " 0.36694484588828546,\n",
       " 0.41955924984130283,\n",
       " 0.3785121589081709,\n",
       " 0.41645751813676407,\n",
       " 0.36351973244062746,\n",
       " 0.3559154324108398,\n",
       " 0.345057740033078,\n",
       " 0.3601210147297158,\n",
       " 0.4024036055527278,\n",
       " 0.37565378293780194,\n",
       " 0.4212153159901123,\n",
       " 0.35261373767187854,\n",
       " 0.3952188568384446,\n",
       " 0.40582660128926923,\n",
       " 0.3468837455149979,\n",
       " 0.37836853481335,\n",
       " 0.37560019391781796,\n",
       " 0.3985566916180886,\n",
       " 0.42629608178860995,\n",
       " 0.42107956172500416,\n",
       " 0.41932579367193507,\n",
       " 0.3700790642166274,\n",
       " 0.4226900701232102,\n",
       " 0.4312972582907459,\n",
       " 0.43113188224805604,\n",
       " 0.39495344617930633,\n",
       " 0.4183642108497187,\n",
       " 0.41214993442346193,\n",
       " 0.4237665145052193,\n",
       " 0.4268524731396484,\n",
       " 0.405436458454808,\n",
       " 0.41647338326209454,\n",
       " 0.450730717103608,\n",
       " 0.42785746210697084,\n",
       " 0.42963615993530313,\n",
       " 0.45674649295458114,\n",
       " 0.44448878245052836,\n",
       " 0.46885074228327756,\n",
       " 0.45804193269850146,\n",
       " 0.41637812542414965,\n",
       " 0.48050945000120243,\n",
       " 0.44970972638441276]"
      ]
     },
     "execution_count": 83,
     "metadata": {},
     "output_type": "execute_result"
    }
   ],
   "source": [
    "gCH"
   ]
  },
  {
   "cell_type": "markdown",
   "metadata": {},
   "source": [
    "Apart from the very first value which measures on 0 topics, which is hence why the result is also 0, all values represent valid measurements. We hence obtained results for between 1 and 49 topics measurements. We can easily check that is the case."
   ]
  },
  {
   "cell_type": "code",
   "execution_count": 84,
   "metadata": {},
   "outputs": [
    {
     "data": {
      "text/plain": [
       "50"
      ]
     },
     "execution_count": 84,
     "metadata": {},
     "output_type": "execute_result"
    }
   ],
   "source": [
    "len(gCH)"
   ]
  },
  {
   "cell_type": "markdown",
   "metadata": {},
   "source": [
    "We will also analyse the trend of both variables graphically:"
   ]
  },
  {
   "cell_type": "code",
   "execution_count": 85,
   "metadata": {},
   "outputs": [
    {
     "data": {
      "image/png": "[encoded data removed]",
      "text/plain": [
       "<Figure size 432x288 with 1 Axes>"
      ]
     },
     "metadata": {
      "needs_background": "light"
     },
     "output_type": "display_data"
    },
    {
     "data": {
      "image/png": "[encoded data removed]",
      "text/plain": [
       "<Figure size 432x288 with 1 Axes>"
      ]
     },
     "metadata": {
      "needs_background": "light"
     },
     "output_type": "display_data"
    }
   ],
   "source": [
    "plt.plot(gCH)\n",
    "plt.show()\n",
    "plt.plot(perplexity)\n",
    "plt.show()"
   ]
  },
  {
   "cell_type": "markdown",
   "metadata": {},
   "source": [
    "Notably, perplexity is, as expected, strictly decreasing as the number of topics increases. Coherence varies; but it starts from much smaller values than it eventually builds up to. One might say that the trend of coherence is in fact to continue increasing as we measure on even more topics - but this would be computationally unadvisable for the purpose of this article. However, users are encouraged to try it out on their own expense! The code to do so would simply be replacing '50' with say '100' at the start of every loop and analysis the results by running identical code to ours afterwards. We seem to have obtained good coherence regardless:"
   ]
  },
  {
   "cell_type": "code",
   "execution_count": 86,
   "metadata": {},
   "outputs": [
    {
     "name": "stdout",
     "output_type": "stream",
     "text": [
      "The maximum number is 0.48050945000120243 and its corresponding number of topics is 48\n"
     ]
    }
   ],
   "source": [
    "print(\"The maximum number is\", max(gCH), \"and its corresponding number of topics is\", np.argmax(gCH))"
   ]
  },
  {
   "cell_type": "markdown",
   "metadata": {},
   "source": [
    "Indeed, 48 topics steadily beats 49 in our particular sample - but this doesn't mean that coherence will certainly only decrease from then onwards, as we saw it fluctuates. Perplexity on the other hand looks quite certainly decreasing, so that's a much safer assumption to make.\n",
    "\n",
    "Let's therefore display our optimal model:"
   ]
  },
  {
   "cell_type": "code",
   "execution_count": 87,
   "metadata": {},
   "outputs": [
    {
     "data": {
      "text/html": [
       "\n",
       "\n",
       "<link rel=\"stylesheet\" type=\"text/css\" href=\"https://cdn.jsdelivr.net/gh/bmabey/pyLDAvis/pyLDAvis/js/ldavis.v1.0.0.css\">\n",
       "\n",
       "<div id=\"ldavis_el1082023875952577767417869892\"></div>\n",
       "<script type=\"text/javascript\">\n",
       "\n",
       "var ldavis_el1082023875952577767417869892_data = {\"mdsDat\": {\"x\": [0.10403613333252867, 0.14966051773726055, -0.04193334718239684, -0.08726451777294494, 0.21092159599833016, 0.14676868569901758, 0.021158428847572, -0.19400152394640827, -0.14870431498460196, 0.07032534417378772, 0.10444937279197976, 0.019301431902235267, -0.08780785329446857, -0.0674588614254926, 0.12510809343630172, -0.028764331821228468, -0.04297956682128638, -0.14002809636337488, 0.03645622534945118, 0.10019482094056567, -0.1224159715268099, 0.08012585231320624, 0.07251155814858884, -0.059359896376436794, -0.08162021112933139, 0.09646211056512355, 0.05456039154065748, -0.0962992373733913, 0.04304245216985951, -0.021636449839623366, -0.07532307621570071, 0.04959756357187218, -0.06122534232306284, -0.0006362770361701576, 0.030987820281226507, 0.016284427703811895, 0.014784241434227248, 0.010145737988895351, -0.02243763972881731, 0.004694115860174472, -0.029038744703822762, -0.03263114721711481, -0.006638940655604261, -0.023661450736670843, -0.04195515257148187, -0.01670643457287998, -0.021652903453693806, -0.009395632713858564], \"y\": [0.28031372203238214, 0.1922284527477885, 0.24795859843400475, 0.1897505542316676, 0.019776952543619393, 0.12962339961499691, 0.1556790459678042, 0.009429181435861413, 0.07781196498722365, 0.07291852023910385, 0.02015474129963485, 0.09484105705725555, 0.06450744362584117, 0.06475936625264118, -0.06187037324409981, 0.05323810263645545, 0.08754292142942838, -0.07388751686739486, 0.06469576923645588, -0.020469393689200314, -0.0009569456964776794, -0.11499892683850385, 0.026262040696788783, -0.10792688332068842, 0.012685105451009798, -0.07661909909541685, -0.08829664582948593, -0.08772664323112592, -0.005511634737182816, -0.12720885208619848, -0.06400252020498601, -0.035168447385329434, -0.05878731839252572, -0.11263586648457918, -0.07257414294628005, -0.11693458236377381, -0.011807917693283324, -0.0929836810088199, -0.03642037056983155, -0.06376789831479701, -0.013896907970011073, -0.04416195503211191, -0.023673970966613757, -0.08369525126905361, -0.07943004352850155, -0.06314532799414938, -0.07360548167747796, -0.05201234148206341], \"topics\": [1, 2, 3, 4, 5, 6, 7, 8, 9, 10, 11, 12, 13, 14, 15, 16, 17, 18, 19, 20, 21, 22, 23, 24, 25, 26, 27, 28, 29, 30, 31, 32, 33, 34, 35, 36, 37, 38, 39, 40, 41, 42, 43, 44, 45, 46, 47, 48], \"cluster\": [1, 1, 1, 1, 1, 1, 1, 1, 1, 1, 1, 1, 1, 1, 1, 1, 1, 1, 1, 1, 1, 1, 1, 1, 1, 1, 1, 1, 1, 1, 1, 1, 1, 1, 1, 1, 1, 1, 1, 1, 1, 1, 1, 1, 1, 1, 1, 1], \"Freq\": [23.50879236060464, 10.39531927180542, 7.590080828250627, 5.452409505681218, 5.173479887512934, 3.7436238446142673, 2.958559521304342, 2.586229444070503, 1.8197688418837226, 1.6537319622095796, 1.530857333671198, 1.4261566604467348, 1.4192660813274895, 1.4170042904972913, 1.3532959976382546, 1.3400001616903314, 1.2816116836212492, 1.2587814519483727, 1.218016553593112, 1.2029840235893372, 1.1929760860204275, 1.185214944084553, 1.1364468223748643, 0.9872262092878266, 0.9648385751099168, 0.9595086733011663, 0.9464910182728532, 0.8719207948127758, 0.8559448259462452, 0.8374851521508245, 0.8045997592838668, 0.7614336094004764, 0.7609695664835164, 0.7586143087651864, 0.7241733919454106, 0.7142391306197837, 0.6774179062254352, 0.6749210293503982, 0.6533178115454168, 0.6514097375677647, 0.6373175520087954, 0.6273328586315045, 0.5967202674215699, 0.5731464731167152, 0.5693954439915242, 0.534327790921858, 0.5100683035210862, 0.5025722518776148]}, \"tinfo\": {\"Term\": [\"actuals\", \"enron\", \"meter\", \"adobe\", \"mmbtu\", \"daily\", \"software\", \"viagra\", \"nomination\", \"company\", \"vince\", \"statement\", \"iferc\", \"daren\", \"prescription\", \"eastrans\", \"business\", \"louise\", \"domain\", \"congratulation\", \"volume\", \"weekly\", \"account\", \"delivery\", \"tenaska\", \"online\", \"december\", \"kaminski\", \"model\", \"price\", \"iferc\", \"enserch\", \"avila\", \"ponton\", \"tufco\", \"chokshi\", \"eileen\", \"charlie\", \"accrued\", \"cogeneration\", \"whitsel\", \"facsimile\", \"bouillion\", \"burton\", \"banquet\", \"elena\", \"gotta\", \"japan\", \"ikenberry\", \"rodeo\", \"insurancemail\", \"sriram\", \"ashley\", \"legislature\", \"robyn\", \"compellable\", \"prosperous\", \"seaman\", \"stone\", \"internship\", \"revision\", \"unwanted\", \"reminder\", \"utility\", \"republican\", \"worksheet\", \"clayton\", \"adjustment\", \"forum\", \"season\", \"school\", \"apologize\", \"floor\", \"edison\", \"attached\", \"lunch\", \"student\", \"presentation\", \"energy\", \"resume\", \"university\", \"revised\", \"enron\", \"operation\", \"california\", \"texas\", \"conference\", \"steve\", \"meeting\", \"summer\", \"march\", \"vince\", \"power\", \"houston\", \"davis\", \"market\", \"actuals\", \"support\", \"would\", \"please\", \"kaminski\", \"business\", \"state\", \"report\", \"subject\", \"question\", \"management\", \"group\", \"thanks\", \"information\", \"message\", \"update\", \"prescri\", \"cription\", \"ption\", \"killen\", \"espinoza\", \"veronica\", \"transcolorado\", \"accomplishment\", \"oberg\", \"antelope\", \"sculpture\", \"nicki\", \"rosalee\", \"kenny\", \"rescheduled\", \"aucoin\", \"mojave\", \"faith\", \"suzanne\", \"declassify\", \"constitution\", \"prepay\", \"approving\", \"fleming\", \"simon\", \"beside\", \"irvin\", \"mutually\", \"rogers\", \"transitional\", \"presto\", \"originator\", \"probability\", \"tycholiz\", \"belden\", \"stinson\", \"gibner\", \"domain\", \"delainey\", \"duran\", \"milnthorp\", \"netco\", \"lavorato\", \"origination\", \"calger\", \"enronxgate\", \"louise\", \"kitchen\", \"chris\", \"crenshaw\", \"enron\", \"kevin\", \"shirley\", \"vince\", \"model\", \"communication\", \"original\", \"david\", \"credit\", \"subject\", \"group\", \"meeting\", \"would\", \"kaminski\", \"thanks\", \"people\", \"interview\", \"message\", \"update\", \"power\", \"please\", \"development\", \"monday\", \"eastrans\", \"aimee\", \"redeliveries\", \"cotton\", \"beaumont\", \"cartwheel\", \"ricky\", \"carthage\", \"mmbtus\", \"lannou\", \"mcmills\", \"mobil\", \"hannigan\", \"mailin\", \"cashflow\", \"nomination\", \"ranch\", \"pronghorn\", \"easttexas\", \"ftworth\", \"reflected\", \"clyatt\", \"formosa\", \"parker\", \"gatech\", \"pornstars\", \"deletion\", \"papayoti\", \"yellow\", \"cowboy\", \"valley\", \"meter\", \"buyback\", \"expired\", \"megan\", \"pooling\", \"daren\", \"count\", \"jackie\", \"mmbtu\", \"farmer\", \"payroll\", \"volume\", \"transport\", \"bruce\", \"trade\", \"delivery\", \"effective\", \"contract\", \"swing\", \"ticket\", \"howard\", \"transaction\", \"thanks\", \"change\", \"agreement\", \"enron\", \"please\", \"account\", \"month\", \"subject\", \"october\", \"cialls\", \"softtabs\", \"amateur\", \"cultivation\", \"amblen\", \"lindholm\", \"vlagra\", \"vallum\", \"morrell\", \"housewife\", \"althea\", \"cheapest\", \"postfix\", \"headcount\", \"prescrlption\", \"advertiser\", \"dirty\", \"unseen\", \"bidder\", \"jasononline\", \"creatorstoll\", \"magnum\", \"joaquin\", \"acadia\", \"notifying\", \"discouunt\", \"recreate\", \"presc\", \"brainstorm\", \"depot\", \"viewing\", \"adult\", \"oasis\", \"consists\", \"fraction\", \"cialis\", \"alcohol\", \"cheaper\", \"allegheny\", \"tongue\", \"viagra\", \"pharmacy\", \"shipped\", \"coupon\", \"generic\", \"dream\", \"removal\", \"medication\", \"prescription\", \"online\", \"video\", \"shipping\", \"august\", \"special\", \"tried\", \"effect\", \"click\", \"thing\", \"world\", \"price\", \"order\", \"offer\", \"website\", \"attached\", \"email\", \"great\", \"money\", \"quality\", \"today\", \"inkjet\", \"ejaculation\", \"premature\", \"cecil\", \"cartridge\", \"reschedule\", \"karin\", \"brooklyn\", \"toner\", \"pharm\", \"regalis\", \"handful\", \"elisabeth\", \"medlcatlons\", \"emotion\", \"eyewear\", \"regulates\", \"lydia\", \"hormonal\", \"endocrine\", \"neuro\", \"camden\", \"funnel\", \"pathway\", \"dwide\", \"dreamt\", \"successfu\", \"patented\", \"publisher\", \"waxman\", \"labguard\", \"oniine\", \"pubiisher\", \"successfull\", \"statement\", \"investing\", \"projection\", \"imited\", \"materia\", \"stock\", \"shlpplng\", \"prlces\", \"company\", \"investor\", \"shareholder\", \"advice\", \"uncertainty\", \"performance\", \"belief\", \"investment\", \"expectation\", \"extra\", \"security\", \"earnings\", \"within\", \"factor\", \"share\", \"quarter\", \"future\", \"looking\", \"report\", \"information\", \"source\", \"newsletter\", \"market\", \"product\", \"price\", \"billion\", \"result\", \"approver\", \"aeopublishing\", \"colette\", \"tholan\", \"blanco\", \"conroe\", \"ubswarburg\", \"hitschel\", \"debra\", \"audrey\", \"balanced\", \"omission\", \"seekercenter\", \"intercepted\", \"describes\", \"corrupted\", \"riqht\", \"thanksgiving\", \"distributing\", \"submission\", \"meghan\", \"downloads\", \"maquina\", \"destroyed\", \"postcard\", \"ignacio\", \"esmtp\", \"disseminate\", \"clever\", \"villahermosa\", \"anshuman\", \"christine\", \"transcript\", \"informational\", \"sandeep\", \"lokay\", \"fatal\", \"kohli\", \"vacancy\", \"unknown\", \"missed\", \"michelle\", \"termination\", \"license\", \"request\", \"named\", \"error\", \"virus\", \"warburg\", \"sender\", \"shirley\", \"received\", \"message\", \"wellhead\", \"enron\", \"louise\", \"intended\", \"content\", \"vince\", \"original\", \"producer\", \"please\", \"contract\", \"email\", \"group\", \"thanks\", \"address\", \"subject\", \"would\", \"review\", \"information\", \"website\", \"kitchen\", \"click\", \"convinient\", \"costco\", \"annoying\", \"erectile\", \"averaged\", \"struggle\", \"samson\", \"williamsburg\", \"impression\", \"carton\", \"throughput\", \"personable\", \"architectonic\", \"suarez\", \"dimension\", \"signin\", \"anhui\", \"thread\", \"socalehr\", \"socaltop\", \"hefei\", \"championship\", \"reimbursed\", \"flame\", \"ercot\", \"stuffthatworkd\", \"outspoken\", \"pilis\", \"regent\", \"objectivity\", \"squirrelmail\", \"mailwisconsin\", \"shlpp\", \"qmail\", \"qualify\", \"authenticated\", \"dysfunction\", \"castillo\", \"projecthoneypot\", \"miliions\", \"jabber\", \"mailer\", \"privacy\", \"freedom\", \"viagra\", \"encoding\", \"consultation\", \"secure\", \"hello\", \"ready\", \"enough\", \"thinkgeek\", \"single\", \"order\", \"message\", \"content\", \"email\", \"click\", \"money\", \"credit\", \"received\", \"woman\", \"address\", \"software\", \"contest\", \"partied\", \"alicia\", \"saave\", \"lotteria\", \"intuit\", \"vmware\", \"macrmedia\", \"countrieswe\", \"cheaap\", \"siteguaaranteed\", \"medicnes\", \"riverdeep\", \"roxio\", \"powerquest\", \"surveillance\", \"refuge\", \"prlce\", \"autodesk\", \"blankenship\", \"youcheckk\", \"gillian\", \"shiiip\", \"tranche\", \"sashok\", \"johnston\", \"pavel\", \"bnpparibas\", \"evolution\", \"weblink\", \"deacero\", \"congratulation\", \"lottery\", \"prize\", \"joannie\", \"borland\", \"quark\", \"winning\", \"winner\", \"pinnacle\", \"batch\", \"lucky\", \"complication\", \"remitted\", \"crystal\", \"promotion\", \"software\", \"popular\", \"claim\", \"avoid\", \"international\", \"award\", \"category\", \"number\", \"agent\", \"inform\", \"program\", \"adobe\", \"super\", \"normal\", \"participant\", \"money\", \"address\", \"email\", \"visit\", \"every\", \"sampies\", \"visuai\", \"marketinq\", \"revamping\", \"breathing\", \"loqos\", \"mansoor\", \"toois\", \"artwork\", \"carefui\", \"nesanet\", \"breath\", \"brinq\", \"amonqthe\", \"martina\", \"atchison\", \"abdmoulaie\", \"thesepowerful\", \"stationery\", \"graph\", \"licciardo\", \"loqodentity\", \"xpforyou\", \"powerfui\", \"jeanne\", \"isoverwhelminq\", \"isquite\", \"endlogo\", \"visualidentity\", \"checkour\", \"promptness\", \"creativeness\", \"affordability\", \"letsyou\", \"surethat\", \"identity\", \"careful\", \"hotat\", \"catchy\", \"practicable\", \"recollect\", \"custom\", \"fresh\", \"ciick\", \"competitor\", \"creative\", \"thinking\", \"bridgeline\", \"front\", \"image\", \"success\", \"promise\", \"stand\", \"offer\", \"marketing\", \"business\", \"perfect\", \"start\", \"company\", \"interested\", \"curve\", \"click\", \"website\", \"expedia\", \"diary\", \"deserving\", \"pierre\", \"entex\", \"submitting\", \"customize\", \"midcon\", \"unsure\", \"robin\", \"dislike\", \"clickathome\", \"alison\", \"buffett\", \"baseload\", \"clock\", \"avail\", \"lamphier\", \"miami\", \"unnoticed\", \"organising\", \"lyondell\", \"moussa\", \"invested\", \"climax\", \"newco\", \"compressor\", \"copacabana\", \"bonnard\", \"luther\", \"invisible\", \"carrie\", \"jenkins\", \"carnegie\", \"dramatically\", \"nominate\", \"waste\", \"river\", \"intern\", \"targeted\", \"website\", \"recruiting\", \"reuters\", \"estate\", \"receiving\", \"summer\", \"million\", \"spent\", \"regard\", \"submit\", \"increase\", \"enron\", \"email\", \"software\", \"online\", \"business\", \"interest\", \"forward\", \"offer\", \"program\", \"cabinet\", \"spyware\", \"adware\", \"westinghouse\", \"speedy\", \"martinj\", \"baylor\", \"lined\", \"aiity\", \"moneyback\", \"simpliest\", \"ldwide\", \"pharmaceutica\", \"confidenti\", \"lasalle\", \"planted\", \"confid\", \"entiaiity\", \"vista\", \"demonstrated\", \"fortney\", \"attach\", \"tonya\", \"wysak\", \"scription\", \"placement\", \"mental\", \"collins\", \"wakey\", \"upwards\", \"petroieum\", \"mountain\", \"burst\", \"gossett\", \"atlantic\", \"brennan\", \"engine\", \"petroleum\", \"aging\", \"wyoming\", \"martin\", \"western\", \"strictly\", \"ending\", \"weight\", \"andmanyother\", \"zufferli\", \"search\", \"awesome\", \"finance\", \"jeffrey\", \"please\", \"change\", \"confidential\", \"energy\", \"account\", \"management\", \"attached\", \"altair\", \"holly\", \"quest\", \"buiiding\", \"refined\", \"vocaiscape\", \"heinrich\", \"oquinn\", \"questionaire\", \"verizon\", \"footprint\", \"compilation\", \"aduitstem\", \"biotechnoiogy\", \"miilennium\", \"witer\", \"cryogenic\", \"apache\", \"deleted\", \"ceils\", \"mxarray\", \"visiongain\", \"degenerative\", \"cryobank\", \"scientific\", \"ldupou\", \"vocalscape\", \"greif\", \"heath\", \"reieased\", \"symbo\", \"tennis\", \"gather\", \"cautioned\", \"millennium\", \"schoppe\", \"tammie\", \"statement\", \"doorstep\", \"eprofile\", \"meaning\", \"forgot\", \"ooking\", \"assistant\", \"projected\", \"agenda\", \"differ\", \"security\", \"event\", \"chair\", \"expectation\", \"forward\", \"boston\", \"within\", \"stock\", \"share\", \"company\", \"objective\", \"mobile\", \"holding\", \"report\", \"office\", \"kitchen\", \"louise\", \"section\", \"price\", \"research\", \"looking\", \"enron\", \"america\", \"hershey\", \"equistar\", \"lowell\", \"sansom\", \"bayer\", \"carroll\", \"constantin\", \"vacheron\", \"audemars\", \"piguet\", \"hazard\", \"innatpenn\", \"cedric\", \"valenzuela\", \"replicate\", \"magee\", \"eugenio\", \"molly\", \"atkinson\", \"burgher\", \"breslau\", \"zimbabwean\", \"mugabe\", \"modular\", \"unliquidated\", \"catherine\", \"whitt\", \"deferred\", \"murdered\", \"parking\", \"breitling\", \"derek\", \"replica\", \"rolex\", \"nomad\", \"grant\", \"watch\", \"linda\", \"chris\", \"bvlgari\", \"equipment\", \"auction\", \"masson\", \"vince\", \"stock\", \"company\", \"phone\", \"offer\", \"market\", \"enron\", \"please\", \"thanks\", \"argus\", \"carpenter\", \"irvine\", \"consciousness\", \"zyban\", \"lindley\", \"renew\", \"monetary\", \"paxil\", \"charlene\", \"wiley\", \"paypal\", \"valium\", \"helmerich\", \"corey\", \"contingency\", \"meridia\", \"vioxx\", \"propecia\", \"alpine\", \"renegotiated\", \"pharmacist\", \"yourpaypal\", \"recordson\", \"ambien\", \"xenical\", \"blocked\", \"marketpoint\", \"safari\", \"lipitor\", \"vicodin\", \"spite\", \"packaging\", \"prescription\", \"expire\", \"rival\", \"naomi\", \"pharmacy\", \"levitra\", \"finish\", \"fraud\", \"account\", \"attempt\", \"online\", \"medication\", \"xanax\", \"equivalent\", \"remote\", \"doctor\", \"generic\", \"final\", \"record\", \"death\", \"updated\", \"update\", \"price\", \"notification\", \"information\", \"office\", \"enron\", \"visit\", \"methanol\", \"premiere\", \"nominates\", \"egpfc\", \"lonely\", \"audition\", \"forrester\", \"painter\", \"singular\", \"vaughn\", \"radisson\", \"aerofoam\", \"robhatah\", \"groupe\", \"eronn\", \"iagra\", \"pagemaker\", \"manus\", \"robotic\", \"stingray\", \"empioyees\", \"cefer\", \"nneeds\", \"seasonal\", \"humanoid\", \"biped\", \"illustrator\", \"resumed\", \"destinataire\", \"robot\", \"adobe\", \"photoshop\", \"sensor\", \"paribas\", \"lesson\", \"unsubscribed\", \"macromedia\", \"edition\", \"graphic\", \"josey\", \"corel\", \"window\", \"acrobat\", \"professional\", \"microsoft\", \"greeting\", \"studio\", \"suite\", \"software\", \"austin\", \"mmbtu\", \"plant\", \"requirement\", \"office\", \"giggle\", \"bobby\", \"dashboard\", \"cigarette\", \"drift\", \"joking\", \"rusty\", \"silicon\", \"clustering\", \"ancient\", \"pllls\", \"extender\", \"stuck\", \"bartlett\", \"giveaway\", \"breakdown\", \"barclays\", \"virgin\", \"rankin\", \"hanukkah\", \"calmly\", \"mickey\", \"cared\", \"humanity\", \"defiled\", \"toronto\", \"fruit\", \"inbox\", \"crosoft\", \"willed\", \"complementary\", \"charity\", \"freeware\", \"drvgs\", \"fellow\", \"sperm\", \"penis\", \"cheap\", \"folder\", \"retention\", \"absolutely\", \"lowest\", \"watch\", \"doctor\", \"demand\", \"promotional\", \"appointment\", \"rolex\", \"product\", \"price\", \"material\", \"needed\", \"email\", \"medication\", \"counterparties\", \"message\", \"always\", \"ejaculate\", \"amazon\", \"adipren\", \"disolve\", \"sched\", \"intense\", \"longest\", \"envision\", \"cormier\", \"valiumxanaxcialis\", \"killer\", \"vvatches\", \"coyote\", \"saguaro\", \"cleaning\", \"weightloss\", \"debugging\", \"tooth\", \"beaver\", \"libido\", \"calorized\", \"suppresses\", \"metabolic\", \"creek\", \"poston\", \"abdominal\", \"orgasm\", \"frequency\", \"amend\", \"ballmer\", \"arbitrage\", \"whilst\", \"taste\", \"ingredient\", \"cornfield\", \"sidebacks\", \"pattern\", \"tadalafil\", \"jordan\", \"erection\", \"cialis\", \"completed\", \"primary\", \"article\", \"weight\", \"steel\", \"desire\", \"treatment\", \"volume\", \"active\", \"stronger\", \"amendment\", \"corei\", \"professionai\", \"localized\", \"homesite\", \"webcam\", \"iisted\", \"dreamweaver\", \"downioad\", \"spanish\", \"actualized\", \"oneok\", \"enlargement\", \"qerman\", \"lonestar\", \"enlarge\", \"ianguaqe\", \"includinq\", \"hesco\", \"french\", \"wagner\", \"deiivery\", \"costos\", \"lnternet\", \"teleconference\", \"recoup\", \"german\", \"swift\", \"vacuum\", \"mxico\", \"painful\", \"native\", \"penis\", \"brazos\", \"tenaska\", \"intimate\", \"studio\", \"macromedia\", \"browse\", \"mmbtu\", \"billed\", \"software\", \"wellhead\", \"delivery\", \"visual\", \"graphic\", \"meter\", \"version\", \"language\", \"norton\", \"daren\", \"offer\", \"others\", \"suite\", \"change\", \"cornhusker\", \"enrico\", \"sandi\", \"hayden\", \"garrick\", \"pittman\", \"pesquisa\", \"brownbag\", \"braband\", \"unbeatable\", \"casually\", \"dialup\", \"techlite\", \"reconciling\", \"griffith\", \"patricia\", \"majesty\", \"tulsa\", \"mazowita\", \"complexity\", \"backgammon\", \"yowman\", \"rotation\", \"thresa\", \"sysiync\", \"gerry\", \"descend\", \"cordially\", \"prudency\", \"tobias\", \"mcfarland\", \"lauraan\", \"allan\", \"tenaska\", \"sokolov\", \"arthurandersen\", \"jordan\", \"brown\", \"smith\", \"summary\", \"admin\", \"enron\", \"correlation\", \"interview\", \"charles\", \"please\", \"group\", \"question\", \"forward\", \"shirley\", \"meeting\", \"vince\", \"friday\", \"research\", \"thanks\", \"message\", \"statement\", \"contact\", \"willis\", \"salad\", \"koepke\", \"torrey\", \"moorer\", \"misunderstand\", \"jolly\", \"chonawee\", \"halliburton\", \"alway\", \"liberty\", \"appetizer\", \"laurel\", \"sistas\", \"entree\", \"supatgiat\", \"exotic\", \"toast\", \"exccellent\", \"crease\", \"tophoarse\", \"bloodst\", \"handu\", \"tearful\", \"levbaynes\", \"vlagthe\", \"vallfast\", \"bethe\", \"dthat\", \"yowait\", \"hector\", \"ramona\", \"reviewer\", \"shortcut\", \"workspace\", \"guilty\", \"crowd\", \"pixel\", \"infinity\", \"prospectus\", \"neale\", \"marriage\", \"perfmgmt\", \"maureen\", \"sheila\", \"feedback\", \"walker\", \"manual\", \"vasant\", \"shanbhogue\", \"bryan\", \"option\", \"refinance\", \"square\", \"enron\", \"followed\", \"laura\", \"employee\", \"payment\", \"raymond\", \"performance\", \"course\", \"please\", \"kilgore\", \"mccauley\", \"ubsenergy\", \"computron\", \"sabrae\", \"norden\", \"divestment\", \"meyer\", \"larsen\", \"jebel\", \"gemlink\", \"rainbow\", \"zajac\", \"aopen\", \"intellinet\", \"targus\", \"zonedubai\", \"iomega\", \"resellers\", \"bankofamerica\", \"viewsonic\", \"armour\", \"imagination\", \"intel\", \"toshiba\", \"mccoy\", \"pricked\", \"technews\", \"warehouse\", \"cisco\", \"hosting\", \"robotics\", \"matrix\", \"netcoonline\", \"customerservice\", \"degree\", \"deserve\", \"agrees\", \"domain\", \"register\", \"renewal\", \"spring\", \"paste\", \"oregon\", \"petrie\", \"projecthoneypot\", \"dealer\", \"canada\", \"philippe\", \"invoice\", \"college\", \"registration\", \"contact\", \"plant\", \"availability\", \"remove\", \"message\", \"vintage\", \"workorder\", \"karim\", \"arafat\", \"alloy\", \"pathed\", \"withers\", \"hesse\", \"trisha\", \"zahwa\", \"reinhardt\", \"simulating\", \"traumatized\", \"switch\", \"humiliation\", \"liberation\", \"relenting\", \"antagonism\", \"benedict\", \"cokinos\", \"yasser\", \"subjected\", \"misti\", \"tapped\", \"psychological\", \"hopelessness\", \"healthiest\", \"allegedly\", \"palestine\", \"closet\", \"vance\", \"copper\", \"cotten\", \"explained\", \"acton\", \"offsystem\", \"palestinian\", \"reject\", \"louisiana\", \"calpine\", \"donald\", \"carrying\", \"weissman\", \"cantekin\", \"sitara\", \"taylor\", \"contracting\", \"gathering\", \"susan\", \"meter\", \"entered\", \"daily\", \"counterparty\", \"melissa\", \"production\", \"meyers\", \"accept\", \"enron\", \"ticket\", \"sample\", \"robert\", \"julie\", \"refinancing\", \"leola\", \"unaccounted\", \"helyette\", \"kindness\", \"rewrite\", \"paleologo\", \"encompasses\", \"gemanix\", \"recorded\", \"spear\", \"satisfying\", \"itinerary\", \"berlin\", \"pastoral\", \"piazzet\", \"keystone\", \"giuseppe\", \"counseling\", \"unbelievable\", \"voyage\", \"portz\", \"stubbs\", \"disregard\", \"easter\", \"minimal\", \"geynille\", \"gappy\", \"baytown\", \"johan\", \"shawna\", \"fiorina\", \"wellesley\", \"homeowner\", \"trash\", \"mortgage\", \"cernosek\", \"lender\", \"stuart\", \"stanford\", \"approval\", \"specialist\", \"sunday\", \"credit\", \"workshop\", \"senior\", \"quick\", \"approved\", \"minute\", \"fixed\", \"extended\", \"visit\", \"please\", \"enron\", \"application\", \"giving\", \"click\", \"manager\", \"would\", \"cowardice\", \"smoothing\", \"montford\", \"mario\", \"breast\", \"flexibie\", \"knock\", \"cashion\", \"needsand\", \"remembered\", \"demokritos\", \"quaranteed\", \"contemporary\", \"assembled\", \"chanqes\", \"greeter\", \"mounting\", \"moderate\", \"severai\", \"uniimited\", \"tractebel\", \"turnaround\", \"additionai\", \"tonhawa\", \"pheromone\", \"refinance\", \"squeeze\", \"compete\", \"rhythm\", \"iteration\", \"tired\", \"mason\", \"paliourg\", \"variant\", \"scribner\", \"strike\", \"sometimes\", \"dynamic\", \"mortgage\", \"improvement\", \"discount\", \"guaranteed\", \"business\", \"heart\", \"competitive\", \"satisfaction\", \"second\", \"saturday\", \"competitor\", \"several\", \"stationery\", \"image\", \"format\", \"company\", \"special\", \"creative\", \"design\", \"package\", \"lodgepole\", \"shoreline\", \"hoshino\", \"pastoria\", \"relocation\", \"runing\", \"ethink\", \"copier\", \"valero\", \"taiichi\", \"bruceg\", \"referendum\", \"cashout\", \"petronas\", \"rabbit\", \"delek\", \"panelist\", \"alamac\", \"panda\", \"payton\", \"leland\", \"khairuddin\", \"coulter\", \"williston\", \"kernel\", \"buerkle\", \"declining\", \"mccormack\", \"limestone\", \"silent\", \"melinda\", \"silence\", \"majordomo\", \"parquet\", \"emeet\", \"laser\", \"christie\", \"thome\", \"marie\", \"stanford\", \"calger\", \"leppard\", \"weekly\", \"patrick\", \"dinner\", \"calpine\", \"zimin\", \"article\", \"vince\", \"tiger\", \"model\", \"kaminski\", \"enron\", \"chris\", \"question\", \"release\", \"shirley\", \"report\", \"please\", \"attached\", \"presentation\", \"issue\", \"wildest\", \"schematic\", \"clara\", \"bingaman\", \"lindsay\", \"bridgette\", \"burdened\", \"disputing\", \"hilliard\", \"clalis\", \"restraining\", \"marlene\", \"upper\", \"refers\", \"valet\", \"risktrac\", \"youyi\", \"softgoeshome\", \"confiden\", \"tiaiity\", \"duplicate\", \"proffessional\", \"ialis\", \"buenos\", \"bimonthly\", \"bolivia\", \"risckrac\", \"pppwel\", \"pppwd\", \"pppwe\", \"staffing\", \"cheating\", \"cwhite\", \"redhat\", \"actuals\", \"orlando\", \"daily\", \"koenig\", \"controlled\", \"brett\", \"enron\", \"december\", \"november\", \"paulo\", \"tanya\", \"explain\", \"revision\", \"portfolio\", \"january\", \"october\", \"sheila\", \"chocolate\", \"zisman\", \"boulevard\", \"wlndows\", \"bellamy\", \"embarassment\", \"starr\", \"confide\", \"resend\", \"tgobk\", \"beleive\", \"sandoval\", \"nkiys\", \"distribuidora\", \"carbide\", \"sticking\", \"presentaci\\u00f3n\", \"felix\", \"protects\", \"oportunidad\", \"confirme\", \"oportunidadhbl\", \"puntual\", \"motioned\", \"detalles\", \"flores\", \"spends\", \"trabajo\", \"erequest\", \"informacion\", \"municipal\", \"inter\", \"harlan\", \"tentative\", \"cheryl\", \"whoever\", \"discrete\", \"keith\", \"pathing\", \"julio\", \"stuart\", \"grant\", \"restaurant\", \"tracy\", \"monica\", \"angeles\", \"scheduling\", \"confirmation\", \"signature\", \"burlington\", \"enron\", \"email\", \"billing\", \"clair\", \"blonde\", \"congrats\", \"dissolvable\", \"castaneda\", \"bloodstream\", \"horny\", \"camaraderie\", \"factory\", \"baneberry\", \"enforceable\", \"estoppel\", \"dickerson\", \"tackle\", \"brainstorming\", \"lamar\", \"relied\", \"warplane\", \"snowshoe\", \"veldt\", \"polariton\", \"incorporate\", \"fascism\", \"absorbed\", \"libel\", \"hagen\", \"nicholas\", \"fisticuff\", \"tempestuous\", \"guidepost\", \"dress\", \"stomach\", \"jeanie\", \"hereto\", \"annex\", \"terri\", \"carol\", \"slone\", \"enters\", \"turbine\", \"recipient\", \"intended\", \"cindy\", \"master\", \"louise\", \"messaging\", \"netco\", \"wilson\", \"lateral\", \"kitchen\", \"affiliate\", \"original\", \"message\", \"agreement\", \"enron\", \"phone\", \"revised\", \"blackberry\", \"citibank\", \"ciaiis\", \"garven\", \"sithe\", \"quentin\", \"carpet\", \"ibuyit\", \"courtney\", \"enymex\", \"outage\", \"hereone\", \"refinancingoreduce\", \"mortgagefkzqeljhyno\", \"welikely\", \"termsdebt\", \"improvementsecond\", \"loansrefinancedebt\", \"lenderscan\", \"verificationno\", \"improvementopaint\", \"cardsoreduce\", \"paymentshome\", \"spaoyou\", \"deductionhome\", \"syllogistic\", \"esource\", \"purged\", \"hereand\", \"increment\", \"divorce\", \"wisdom\", \"nymex\", \"imagine\", \"shults\", \"netcoonline\", \"forecasting\", \"nommensen\", \"carey\", \"bammel\", \"brackett\", \"debbie\", \"hourly\", \"ending\", \"gordon\", \"attack\", \"supposed\", \"weekly\", \"cocktail\", \"phase\", \"group\", \"project\", \"program\", \"enron\", \"issue\", \"meeting\", \"system\", \"johnny\", \"listbot\", \"doherty\", \"yengeni\", \"hollomon\", \"culinary\", \"myopia\", \"bammelyoungfamilies\", \"transpiant\", \"impress\", \"rediff\", \"cctvcameras\", \"sonat\", \"exertion\", \"youngwoman\", \"flowerygaze\", \"franklin\", \"obese\", \"conoco\", \"liberian\", \"protea\", \"ecommerce\", \"instinctively\", \"prescriptdrugs\", \"logisitics\", \"trivial\", \"castro\", \"cyndi\", \"catalogue\", \"additonal\", \"unconfirmed\", \"birth\", \"inexpensive\", \"surprisingly\", \"texaco\", \"lamadrid\", \"engine\", \"booked\", \"search\", \"female\", \"visitor\", \"reqards\", \"submit\", \"victor\", \"newest\", \"website\", \"grateful\", \"customer\", \"product\", \"moore\", \"category\", \"grade\", \"investment\", \"software\", \"realtor\", \"lovely\", \"angela\", \"vanek\", \"postage\", \"sheer\", \"amaranth\", \"manpower\", \"accouting\", \"tampered\", \"foresight\", \"acctg\", \"misappropriate\", \"expeditious\", \"rested\", \"oneself\", \"relaxation\", \"prosecuted\", \"proficient\", \"inquires\", \"mellencamp\", \"fullest\", \"perpetrator\", \"enforcement\", \"theft\", \"carriage\", \"deeply\", \"swelling\", \"munoz\", \"vastar\", \"louisa\", \"patience\", \"banner\", \"remedy\", \"chemist\", \"gratis\", \"sager\", \"violation\", \"classified\", \"perfectly\", \"fitting\", \"disorder\", \"closure\", \"indian\", \"davis\", \"battery\", \"shown\", \"tablet\", \"anymore\", \"sleeping\", \"smart\", \"haedicke\", \"darren\", \"brand\", \"quality\", \"legal\", \"smith\", \"limit\", \"enron\", \"quick\", \"count\", \"guaranteed\", \"store\", \"reliantenergy\", \"antidote\", \"krapels\", \"bacteria\", \"profiling\", \"wyndham\", \"copano\", \"esaibos\", \"misunderstanding\", \"tragedy\", \"destroying\", \"shadow\", \"colombia\", \"ekrapels\", \"recommending\", \"brindle\", \"karpos\", \"entertain\", \"homepage\", \"rosenfield\", \"tragic\", \"powerisk\", \"aurora\", \"compound\", \"energycast\", \"nepool\", \"confidencial\", \"branney\", \"retaifl\", \"tester\", \"dormant\", \"blake\", \"involuntary\", \"occasion\", \"outlook\", \"disease\", \"theresa\", \"cancer\", \"default\", \"saving\", \"enhanced\", \"price\", \"alert\", \"gerry\", \"edward\", \"generation\", \"employee\", \"enron\", \"power\", \"element\", \"answer\", \"california\", \"excelled\", \"pornostars\", \"iaagra\", \"ambieen\", \"greene\", \"wording\", \"molecule\", \"medssno\", \"shippiing\", \"caring\", \"milbank\", \"texoma\", \"alium\", \"todayworldwide\", \"ciall\", \"alilum\", \"aagrra\", \"aliuum\", \"ciaaliis\", \"preceding\", \"agrra\", \"xaanax\", \"adlpex\", \"tussioneex\", \"ionaalphonso\", \"xanaax\", \"cheeap\", \"tionlimited\", \"adventure\", \"questioning\", \"cialiis\", \"levitra\", \"fitzpatrick\", \"phillips\", \"judgment\", \"shiip\", \"graphic\", \"ambiien\", \"advertisement\", \"photo\", \"movie\", \"ahmed\", \"having\", \"unable\", \"video\", \"popular\", \"calculator\", \"hilarious\", \"spradlin\", \"spradling\", \"mensagem\", \"wasting\", \"doable\", \"pepper\", \"remover\", \"kearney\", \"handy\", \"mundo\", \"fevereiro\", \"poder\", \"blackberry\", \"internacionais\", \"marathon\", \"carnaval\", \"handheld\", \"assunto\", \"dealbench\", \"devolva\", \"artistas\", \"considerado\", \"removido\", \"aprovado\", \"entrada\", \"portugal\", \"congresso\", \"correio\", \"ighting\", \"sobre\", \"wireless\", \"kathy\", \"emerson\", \"dispatch\", \"rough\", \"netco\", \"indicating\", \"scene\", \"company\", \"supply\", \"program\", \"interest\", \"george\", \"information\", \"belize\", \"meritocracy\", \"torre\", \"puthigai\", \"rolete\", \"herrera\", \"panenergy\", \"troca\", \"savita\", \"quadro\", \"hyster\", \"corrente\", \"rolamento\", \"massege\", \"formarlities\", \"agreemeent\", \"reqiured\", \"hookup\", \"tzamouranis\", \"expences\", \"colorful\", \"denne\", \"completo\", \"roldana\", \"dentada\", \"soldado\", \"aepin\", \"empilhadeira\", \"hailson\", \"eixos\", \"tokyo\", \"encounter\", \"comparison\", \"yannis\", \"tonight\", \"harvard\", \"export\", \"meredith\", \"katherine\", \"karen\", \"password\", \"derrick\", \"africa\", \"notification\", \"performance\", \"south\", \"secret\", \"international\", \"enron\", \"committee\", \"management\", \"palmer\", \"pecorp\", \"marcello\", \"azure\", \"jewelry\", \"chopard\", \"romano\", \"frontline\", \"effluent\", \"sulfur\", \"zenith\", \"turbonet\", \"enfolio\", \"stance\", \"jewel\", \"blancpain\", \"topica\", \"sohne\", \"mercier\", \"concord\", \"gucci\", \"movado\", \"dunhill\", \"fendi\", \"technomarine\", \"hermes\", \"chanel\", \"bvgari\", \"baune\", \"titoni\", \"tissto\", \"blanc\", \"panerai\", \"omega\", \"patek\", \"muller\", \"cartier\", \"rolex\", \"tudor\", \"bvlgari\", \"intra\", \"watch\", \"vince\", \"trademark\", \"atleast\", \"trail\", \"realarcade\", \"mature\", \"lodge\", \"juego\", \"intermediate\", \"physic\", \"crosstex\", \"realnetworks\", \"chuzzle\", \"breilly\", \"ubspw\", \"align\", \"juegos\", \"modos\", \"chuzzles\", \"gottlob\", \"remediation\", \"suscripci\\u00f3n\", \"jutland\", \"coding\", \"registradas\", \"marcas\", \"comerciales\", \"averaging\", \"cancelar\", \"naveen\", \"undercollect\", \"seneca\", \"fucking\", \"nahou\", \"rodney\", \"mapping\", \"programming\", \"diesel\", \"analytical\", \"chase\", \"shopping\", \"delta\", \"quantitative\", \"herod\", \"brenda\", \"counterparty\", \"model\", \"tanya\", \"missing\", \"answer\", \"correct\", \"price\", \"right\", \"thesepowerfui\", \"multitude\", \"uranium\", \"rickards\", \"kaminsky\", \"knirel\", \"amongthe\", \"legislator\", \"chauncey\", \"roller\", \"coaster\", \"benevides\", \"friendship\", \"assay\", \"staked\", \"reiterate\", \"dendritic\", \"immigration\", \"incorrect\", \"geologist\", \"gigawatts\", \"staking\", \"mariner\", \"desiqn\", \"stead\", \"bgcolor\", \"attitude\", \"cobble\", \"impressed\", \"identical\", \"lover\", \"arranging\", \"rahil\", \"angelides\", \"jafry\", \"nuclear\", \"marcus\", \"issuance\", \"zimin\", \"loading\", \"pricing\", \"county\", \"social\", \"louise\", \"interview\", \"socal\", \"offer\", \"cleburne\", \"jinbaek\", \"qualifies\", \"genex\", \"ehronline\", \"mcloughlin\", \"trylogos\", \"surech\", \"applicant\", \"helsinki\", \"xenograft\", \"orthopedic\", \"artprice\", \"foward\", \"nepco\", \"dinnerware\", \"slide\", \"comed\", \"tufano\", \"leadersx\", \"helpdesk\", \"schism\", \"ptufano\", \"ernie\", \"logon\", \"osonenko\", \"swapsmonitor\", \"injury\", \"andrei\", \"fernley\", \"bench\", \"platinum\", \"hector\", \"francisco\", \"sutton\", \"transactional\", \"finalize\", \"visiting\", \"involvement\", \"smoothly\", \"password\", \"apply\", \"mortgage\", \"monthly\", \"after\", \"contacting\", \"confirm\", \"associate\", \"application\", \"information\", \"receiving\", \"account\", \"working\", \"manager\", \"guadalupe\", \"towing\", \"roadside\", \"patsy\", \"nline\", \"foryou\", \"kelliher\", \"interruption\", \"understandably\", \"warranty\", \"laing\", \"intrastate\", \"questionnaire\", \"wellbeing\", \"yvonne\", \"lpplng\", \"sophie\", \"leann\", \"camera\", \"truck\", \"melodick\", \"pharmonlin\", \"sybase\", \"pplng\", \"markenweine\", \"kingsley\", \"bernard\", \"fastwebsnet\", \"buddha\", \"kicker\", \"capturing\", \"pleus\", \"vehicle\", \"demanded\", \"salary\", \"miiiion\", \"extended\", \"rental\", \"metal\", \"pharmaceutical\", \"protect\", \"vacation\", \"andmanyother\", \"affordable\", \"welcome\", \"benefit\", \"digital\", \"oniine\", \"survey\", \"client\", \"hello\", \"libor\", \"resist\", \"skilled\", \"jaesoo\", \"clewlow\", \"sergeev\", \"copel\", \"takriti\", \"hotlist\", \"encorp\", \"hourhelp\", \"herem\", \"fuzzy\", \"dayzers\", \"assuring\", \"apprehensive\", \"exiting\", \"ranelle\", \"samer\", \"porter\", \"mohammed\", \"impulse\", \"donated\", \"viewstory\", \"paladino\", \"tlapek\", \"konstantin\", \"clause\", \"aggie\", \"utterly\", \"bother\", \"abandoned\", \"donahue\", \"analytic\", \"bridgeline\", \"screen\", \"counterpart\", \"moore\", \"secret\", \"merchant\", \"optimization\", \"written\", \"belongs\", \"kevin\", \"evaluation\", \"investment\", \"curve\", \"foreign\", \"million\", \"deceased\", \"account\", \"apply\", \"interview\", \"business\", \"rawhide\", \"downloadable\", \"caffeine\", \"lenci\", \"bloodshed\", \"bodywrap\", \"disparate\", \"casket\", \"dynegydirect\", \"sclerotic\", \"companionway\", \"vernon\", \"rejuvenates\", \"dinari\", \"soothing\", \"sabra\", \"khodorkovsky\", \"temple\", \"contour\", \"sevil\", \"smoker\", \"phelim\", \"aaron\", \"grape\", \"elmira\", \"adipex\", \"mikhail\", \"ortho\", \"dagga\", \"ragga\", \"ostdiek\", \"tramadol\", \"evacuate\", \"stats\", \"duane\", \"compare\", \"yaman\", \"counter\", \"duffie\", \"coverage\", \"brenda\", \"presentation\", \"ownership\", \"terminated\", \"insurance\", \"earlier\", \"enron\", \"service\", \"vince\", \"nasty\", \"infection\", \"romeo\", \"aeruginosa\", \"timesheets\", \"drugstore\", \"outing\", \"soothe\", \"overtime\", \"makets\", \"unfamiliar\", \"comparing\", \"detect\", \"subgroup\", \"jacqueline\", \"remind\", \"lactams\", \"undergraduate\", \"fatality\", \"elmsford\", \"lactam\", \"induced\", \"purported\", \"rockies\", \"souza\", \"relies\", \"provenance\", \"unacceptable\", \"erect\", \"mileage\", \"recapture\", \"youth\", \"hassle\", \"anjam\", \"patient\", \"exempt\", \"enerfin\", \"ahmad\", \"shona\", \"attempting\", \"wilson\", \"exception\", \"prayer\", \"trademark\", \"verification\", \"verify\", \"grant\", \"london\", \"policy\", \"powerful\", \"account\", \"study\", \"houston\", \"hammer\", \"reset\", \"holmes\", \"enronavailso\", \"beaty\", \"belies\", \"cobranza\", \"unverz\", \"glich\", \"gerencia\", \"christina\", \"damit\", \"unsere\", \"jamie\", \"haben\", \"systcom\", \"geehrter\", \"wedding\", \"entrega\", \"programa\", \"sedex\", \"manera\", \"fancied\", \"valor\", \"melba\", \"fugitive\", \"combo\", \"bitte\", \"irismmack\", \"nombre\", \"handy\", \"visual\", \"impossible\", \"island\", \"beverly\", \"hotmail\", \"strike\", \"password\", \"availability\", \"method\", \"molly\", \"guaranteed\", \"rather\", \"assistance\", \"enter\", \"enough\", \"reply\", \"simply\", \"contact\", \"better\", \"enron\", \"increase\", \"account\", \"balcony\", \"penetration\", \"slutty\", \"humiliate\", \"intimidate\", \"realise\", \"espeak\", \"hoodwinks\", \"analogously\", \"espousing\", \"cooperatively\", \"underplays\", \"baseness\", \"conduciveness\", \"desertion\", \"preconditioned\", \"oxonian\", \"irritable\", \"reworking\", \"unanimity\", \"showpiece\", \"faustus\", \"pressuring\", \"wanadoo\", \"inspiring\", \"bittersweet\", \"southbound\", \"sculptor\", \"hamper\", \"insulted\", \"patch\", \"continuation\", \"diamond\", \"praveen\", \"mellacheruvu\", \"lacima\", \"intelligence\", \"kiatsupaibul\", \"taablets\", \"promotion\", \"planned\", \"seksan\", \"emeet\", \"considered\", \"competitive\", \"innovation\", \"couple\", \"mother\", \"class\", \"would\", \"doorstep\", \"jeanie\", \"charm\", \"kamal\", \"notebook\", \"merchandise\", \"awful\", \"applause\", \"kowalke\", \"eldridge\", \"productivity\", \"layla\", \"concentrate\", \"consulted\", \"swimming\", \"eletrobolt\", \"westlb\", \"bianchi\", \"livelink\", \"moyez\", \"politics\", \"continuation\", \"ebooks\", \"charger\", \"lallani\", \"precious\", \"noise\", \"travelogue\", \"buchanan\", \"unreachable\", \"motown\", \"goodmorning\", \"maruti\", \"wendy\", \"printing\", \"memory\", \"lohman\", \"laptop\", \"elizabeth\", \"hernandez\", \"unless\", \"border\", \"linux\", \"cable\", \"social\", \"specific\", \"release\", \"thank\", \"beverly\", \"looking\", \"logodentity\", \"festivity\", \"weird\", \"adjudicate\", \"embouchure\", \"blade\", \"crutch\", \"netting\", \"pserc\", \"desiqn\", \"stanton\", \"fulton\", \"dushinske\", \"loeffler\", \"kissner\", \"pribble\", \"ringblom\", \"soldano\", \"vignaroli\", \"talcott\", \"vidal\", \"raker\", \"bjorn\", \"riskwaters\", \"hagelmann\", \"joanna\", \"marten\", \"municipality\", \"ahorras\", \"hartsoe\", \"butler\", \"resume\", \"certificate\", \"dedication\", \"invite\", \"allocation\", \"replace\", \"jason\", \"status\", \"australian\", \"yesterday\", \"interview\", \"report\", \"morning\", \"enron\", \"forward\", \"occurs\", \"receivables\", \"trena\", \"sabbatical\", \"woodrow\", \"softs\", \"score\", \"kuehl\", \"embroidery\", \"enronoptions\", \"goliad\", \"astroworld\", \"anthrax\", \"iccodiin\", \"phenteermine\", \"bobbi\", \"codeilne\", \"coddin\", \"bidding\", \"cheeapall\", \"cllcck\", \"astros\", \"decent\", \"dining\", \"elevator\", \"streight\", \"bennington\", \"girish\", \"logging\", \"claudio\", \"backed\", \"fundamental\", \"nettelton\", \"daniel\", \"bulletin\", \"nelson\", \"marcus\", \"parson\", \"teresa\", \"notification\", \"heard\", \"medication\", \"enron\", \"discount\", \"activity\", \"letter\", \"columbia\", \"miller\", \"generator\", \"planned\", \"kimberly\", \"notice\", \"company\", \"order\"], \"Freq\": [89.0, 721.0, 150.0, 86.0, 114.0, 95.0, 134.0, 94.0, 86.0, 246.0, 304.0, 97.0, 114.0, 91.0, 56.0, 55.0, 211.0, 181.0, 44.0, 49.0, 119.0, 64.0, 136.0, 84.0, 29.0, 111.0, 85.0, 174.0, 104.0, 194.0, 113.96873566769283, 22.01228257855358, 20.02858033711523, 18.623869318074544, 24.459110993799946, 63.91895130650506, 18.638949868761596, 26.425003259480686, 16.621400847759453, 11.76633102561564, 15.866343575766571, 10.220816983678041, 10.175915078234057, 17.913482045829088, 7.443501478091871, 11.750300902220475, 7.845488053147153, 23.702231878289684, 6.3993136316447305, 7.726995217168766, 15.39599587765474, 5.707814744363086, 13.220445592777871, 20.53593655788832, 5.952120715272211, 5.605090541405973, 7.376590958569325, 5.861081505519266, 27.89323162642211, 30.709469592424433, 45.878650246715736, 20.086946133781396, 40.05287757642743, 73.78229186218319, 17.91460244619022, 20.91257431335911, 23.85613900455857, 25.76667165852848, 16.849554062014125, 31.22669946067305, 54.01171472441246, 28.064536451654735, 50.00154034154899, 38.18882913096688, 202.0822040660179, 39.49372717473498, 46.710319426537026, 79.68445407804765, 131.91203715958997, 67.25913390816734, 53.4716130375481, 60.60220358667237, 360.9682444794207, 62.360896224409345, 65.93590099920499, 81.06277174752492, 76.50712080996583, 74.02270267630017, 126.96023403165005, 58.390308048513276, 71.19677429695294, 153.7596075242352, 111.95101486469324, 87.64719097920833, 45.892236294025, 103.30355492170578, 60.030566542454324, 64.41705802106001, 115.92148470187995, 126.91245573209324, 90.46845452298044, 99.4218849250664, 72.92764206848109, 92.73277029200514, 95.44227628561546, 77.23141478924911, 69.4646238865105, 80.27991155924511, 84.16229922289605, 78.55058600831626, 74.14413346160714, 67.28419881028384, 10.564572414896928, 9.95803152927454, 10.303221783825931, 27.93027052046955, 8.426687336158794, 10.67381476233956, 8.870997841386284, 31.98690272675293, 7.356285520102549, 5.929481748215281, 8.221810459681501, 6.970739808547622, 5.984807240268263, 12.187093970948437, 7.28808606798717, 7.533932411757139, 4.744347784131235, 32.621071121385214, 19.962964160634986, 4.194991301437199, 4.548107141720777, 6.195707747582106, 6.9108402563406965, 6.798018503212509, 5.313970404368671, 4.198206098951059, 8.357369583516803, 7.837632450770631, 12.623621948511104, 3.8475931418460974, 25.317326314024285, 11.239049424510691, 10.665427086389771, 9.007617029720775, 18.459645844716732, 54.542874116444786, 31.07476111322201, 33.200102658053346, 16.790118530530034, 15.6608611907585, 16.550873113868466, 24.9322950207116, 28.051538185574948, 28.889664340251713, 26.083125010641773, 30.118761863038362, 71.36629690265792, 44.33039503534993, 27.235447193274627, 26.853466117398302, 146.31328912347874, 34.368648216325845, 34.51289801225362, 73.33316893286536, 38.151326333603215, 37.220427655239526, 44.65456883600459, 38.21409633116184, 39.58107988687955, 53.262937385717755, 48.342607500715886, 50.454634095277164, 49.53327937340776, 41.9355844196246, 39.43024013584854, 33.62217375280821, 31.973908496633896, 35.906676892589346, 32.503093369829045, 34.23617053794161, 32.56739944811102, 30.474798366697293, 30.156657480883553, 54.23570543804906, 32.60453284167966, 25.28004191377361, 27.243134696052742, 13.959070708473057, 15.035620647426352, 12.006494710355083, 22.731502077524198, 10.7261387872863, 11.71676981642562, 7.702026594263734, 8.451143797800325, 6.8109494430826425, 6.925347355780937, 6.907557068546173, 79.30191634457735, 11.1902354875114, 7.422262634307139, 10.26676681366167, 5.650217780214251, 8.104916300861813, 6.275984925059982, 6.652411356008663, 9.465032412257017, 5.422268054937976, 5.303829444141433, 5.845153578509058, 6.062099688528, 8.44468866396181, 7.208631905677335, 27.897314905900142, 124.88829212678289, 16.944367057083163, 8.48678229900788, 31.493909655929293, 9.696131749852974, 64.78217766868741, 31.48463644791001, 17.65583311338675, 68.49440404768642, 30.761015636491297, 12.119067314563669, 55.693354153990526, 22.404275166900053, 11.802810742134586, 42.00685832753992, 37.46425585639195, 37.03255129507738, 49.29746334618464, 15.048831641147606, 22.43934426059765, 15.167879715177207, 32.57615366998215, 38.34025356842951, 31.20023834891135, 26.82583540524979, 53.446511559185105, 36.52016834501449, 27.526174597917265, 26.566587370424642, 25.706192903140426, 22.128844619941304, 35.08818803121621, 18.73035462491534, 14.239491285128075, 10.987158845584862, 11.209718834990568, 10.290078498778715, 18.62070901750659, 12.115478388972205, 7.077653529489098, 6.577953337503422, 7.439936367886265, 19.453511682974614, 4.6134136124209455, 13.377008465131189, 4.530882366270033, 4.98138714655639, 5.576035855440444, 3.722502546689273, 7.59846573784616, 3.6286195688528964, 3.6279404924419656, 3.9443865584681923, 3.555968574602615, 5.513689646518488, 4.01348280462214, 4.712394090173795, 3.4516150264862224, 3.488012459671843, 3.656642316548301, 8.24562024526196, 7.83542356375064, 24.589020400388137, 6.882026843810542, 5.0129535752619, 6.901557594901717, 31.458042089830798, 11.68136174997181, 5.985888571911808, 9.628105605587491, 11.314535651336453, 49.28315155893236, 18.821172019866644, 12.86776667408345, 12.110457473292428, 25.707157339079107, 14.15371251319451, 15.013384293289562, 27.47102068837906, 25.452442594664028, 37.96080697155365, 18.943058710010114, 19.643741614725098, 39.59496761173269, 26.30858707303659, 18.17945277983899, 20.65523965199366, 35.212369592359856, 27.63180331709491, 23.45923380405045, 31.41817933060556, 26.754464925912874, 23.11143512542463, 20.194569088982, 27.369833876315855, 23.071760063981817, 19.81769850288639, 20.14703551095063, 17.553698475719944, 18.248360885527067, 14.650938812924277, 19.182417633303352, 14.61306491358348, 10.536553407661627, 14.382294886595727, 8.01852211290267, 6.745788476008383, 9.78547090473533, 7.192027840922501, 6.121882686249841, 10.421149912538224, 6.285533735358922, 5.656043553224638, 6.527468766764847, 4.626755820949932, 5.301941832084365, 4.070584363325833, 4.7767455855438845, 3.786057996642896, 3.7312326626945147, 3.726639977757594, 4.540479793994702, 3.719178859911012, 3.675799955194022, 3.2170928409987485, 3.9281813076518244, 3.9118519478925653, 5.91097831081611, 19.01776311571848, 2.499500730919588, 6.643259536034201, 19.525115768989767, 6.583988530111028, 8.71945639426147, 56.43000647231929, 15.808918751987774, 13.210012686502218, 5.9306675468155765, 9.403567352308258, 46.25053662870695, 11.85474471255741, 8.507189838724353, 82.86709038937515, 21.422414653787005, 10.854178692675399, 19.315927244842605, 12.200487276671009, 24.532953549926987, 12.043793300966923, 28.069122693875723, 13.335717169863505, 17.81563056372016, 29.604727688131295, 12.954460474469803, 26.08299101669331, 13.981612318423286, 16.518673811074336, 14.139873032266635, 18.24259316900284, 16.688609034258896, 21.109406415858164, 21.12985549885332, 14.359947236203928, 13.336043118602397, 17.109309727428936, 15.479110712820859, 16.11619600461578, 13.472480388273198, 13.53420651066393, 7.748882212075378, 4.414928345301056, 4.481598687216611, 4.119347144724101, 5.578360750367746, 2.8373871882481345, 5.2776702105752005, 2.7182031125850994, 4.851538554245608, 5.2345627064948745, 3.5519840517153365, 5.073572017402478, 4.350675289214269, 5.415228454843878, 2.9232766697996313, 5.187653440671026, 9.454975377210353, 4.425629690637314, 3.2562308174681833, 4.529622828486192, 2.079001372840918, 2.580035455756799, 1.9235981306729835, 4.9386596266657286, 2.517713523209944, 2.766749129847136, 2.851465378241454, 4.857224479808133, 1.8075412076880923, 1.6414404195140722, 4.1903295744119085, 6.7163865786532355, 12.157668104300416, 7.059481898417455, 9.692254184589448, 12.993681225893432, 5.968124002503274, 5.750923895218284, 4.304955061761117, 7.771323183697356, 6.428624095624278, 17.619924364069515, 7.929827591125057, 10.733575813974843, 25.015059758256275, 8.089395811000976, 14.56414438280873, 6.33296972763737, 6.598415857073999, 9.781142097512854, 13.674105394059694, 14.652074864528739, 19.40500165218139, 8.36685633428138, 28.600567275732725, 17.129782808784157, 9.829335840881322, 10.277971081794131, 16.424860559667476, 12.56175148777463, 7.736014336701718, 15.058655471738545, 11.987041098105637, 12.337321103198715, 11.655097572262893, 11.928163030400082, 10.428355256831367, 11.528817563623821, 11.07557875032795, 9.946629369850665, 10.591760496234807, 9.595408954553362, 9.5657298030337, 9.464760628055489, 14.483648697927501, 9.234264520523201, 6.9043574657041935, 17.98365162534224, 5.434842011017965, 16.110124823320387, 7.294454118909224, 3.865331867047653, 7.698650425409338, 3.1472564955146782, 3.432742887558133, 3.2836199214984014, 2.956783866476272, 3.329990144862789, 2.978645559305536, 2.4115787764832586, 2.2845714017422267, 2.631894686815426, 2.1884421187892698, 2.1877786678641784, 2.1404536228389515, 2.3208503011333996, 2.174792612863347, 2.188716915262226, 8.693554418640701, 2.455254120800361, 1.7775012883663754, 2.0350011969621797, 1.691791211541865, 1.5717558364752653, 16.00504015391223, 10.642695409586414, 4.462837884004079, 8.45634645204307, 11.064427286120392, 5.4074358669747395, 15.007961329154517, 5.365180144296772, 12.068826650484581, 4.4075173185253425, 3.5616493365257296, 6.788037848190179, 16.431935513822662, 6.894992286606631, 30.307506697612972, 5.6207845817666175, 8.299572181741144, 12.911526546223863, 17.04108627152731, 14.748319977764654, 10.571015806525335, 7.04336652836024, 8.262028834243642, 15.455245434366095, 16.095010056480973, 10.069959988682589, 13.655660021759655, 12.546142359048309, 11.830703015919372, 10.554071625404424, 9.86324290066114, 8.30073574303048, 8.922363797930258, 8.363687195181305, 5.8313286349409506, 3.7719726450808873, 3.9612287575353906, 15.045589439781992, 3.5845290546915227, 7.464426133980526, 7.384161139247913, 7.383342228676314, 7.3833010731706645, 7.367184073213315, 5.780689304963959, 2.963398194734848, 7.375880483529559, 7.564213956740061, 7.337834318327204, 3.0292398645538343, 3.0057207529375076, 6.517648346007098, 7.241978946127902, 2.7706516334517053, 4.845598840686738, 2.783922604207143, 4.019769944597106, 2.2311124033536336, 2.2178767087458957, 2.9703759427360814, 2.073655428302602, 2.08452363145014, 3.1578932350768896, 2.028870678981334, 2.7297027452386358, 35.2368903867138, 24.85796572795345, 19.833782229445493, 6.119293707971175, 7.1232873077427445, 7.256107883189891, 19.96902929990941, 14.584891349907299, 8.005264912162605, 12.352912371187257, 10.937570332356252, 5.754774354983031, 6.032873025464973, 6.94184738172855, 24.38395005241386, 39.521336427593134, 15.823588079132286, 19.116712216438728, 10.284025102182058, 14.80133739310959, 10.947094892235159, 10.26112584287531, 20.338147150722687, 11.626243886373073, 10.163905619723344, 15.365209815922984, 13.26586495301225, 10.111879181224305, 10.240078581322797, 10.113165920707063, 11.351358704964914, 9.741976856078848, 9.24476963315157, 8.36625329074767, 7.670023921856894, 12.169248126170459, 10.062658711529247, 8.692145916564096, 11.823777111874072, 11.730235020286129, 8.290049668735948, 3.3077649020199007, 9.532756473680035, 11.622121448977484, 6.4762550382457045, 3.712629057264982, 11.555032124760505, 5.05516935091604, 3.2543437274314293, 2.025315266714535, 2.108334907233485, 1.8030369649124542, 2.8294641767677566, 19.522884604754935, 5.584739451695045, 1.7053533545456028, 2.4287226285822827, 1.6240477363360282, 2.6554742907378643, 1.7185835796740683, 1.9989248489181373, 3.103879133723975, 4.424254596859742, 4.4230495657455915, 4.411513416972553, 4.090942045099614, 4.090215125889018, 4.091604250770731, 4.020161980662982, 4.0202854978296605, 15.915075820179862, 6.415932563590779, 4.019177389276922, 4.041625600086099, 4.092126982512009, 4.059628374877304, 11.292850686226517, 10.865000222659049, 10.242142747511423, 10.043138271264212, 10.043973932860784, 9.962807197589818, 4.61707405440899, 9.858042182579743, 9.806554435794087, 12.600060637773298, 6.8666667985025525, 9.225772581132965, 13.827425310435208, 12.655271038304925, 15.282841678206772, 7.860777280273607, 10.474688339919753, 9.917018379216993, 8.245383733696563, 7.444855974645884, 7.739930802954966, 7.48207128327227, 4.3707749871244825, 3.974130874767494, 4.117880563728778, 5.560058545074989, 10.68878638880726, 4.693684922786404, 3.574346521088224, 6.454353837639632, 2.5095517534260083, 2.8080637272633, 2.220908016140099, 2.616454225585667, 2.488270938964902, 2.4510558300295733, 2.431559963752938, 3.247982964454362, 2.0367911614074217, 1.583474742792669, 2.418703073550424, 1.1006537778565213, 1.5876198398553285, 1.0423745617242457, 0.996572058211791, 3.34531594458727, 1.371485896648705, 3.9365349840470625, 2.1334475691090407, 0.850823936214726, 0.9779804144075734, 0.9254722040215632, 2.581394910846959, 2.716415351932118, 1.954359558163123, 2.195518222493693, 3.221297895109476, 1.552805428493217, 3.4937112787405735, 3.6312731294267304, 4.480565815335318, 3.011032771305834, 6.997489912293217, 4.3243472683855355, 3.2647172229185855, 4.177088103296245, 4.588697637997235, 4.346565804985978, 4.433447963177672, 3.3070446898403687, 4.449047126715499, 3.3973023254923906, 3.7090664721751243, 4.878951641837707, 4.1710774977278655, 3.8492301527032167, 3.7285848953417093, 3.7861729039176693, 3.5255471064917097, 3.553680918947055, 3.5081130473702373, 3.471497575759405, 7.212428833197009, 5.322790632339653, 4.216667222903702, 2.402159426419795, 3.586851128146203, 3.0548776218050495, 11.807846900149693, 4.066501123867316, 2.7690536587567354, 1.6136152013555227, 1.6132823501681854, 1.2488392598273157, 1.2235308862395724, 2.015268270323218, 3.4842116544706747, 1.1192088858564322, 1.3659312861778146, 1.3657180028927247, 1.7231125529670175, 1.3517612468519173, 1.356001681489103, 2.4299270209159234, 0.8393404483840889, 8.464707472432837, 0.7428413830855634, 1.644516419501817, 1.0992405490172907, 3.0266093833273704, 0.661993221740093, 1.4047732050920698, 1.8643871254015627, 2.556390336968756, 1.8462568032593378, 4.3438536637541185, 1.801938003250977, 2.0338866830601674, 3.803163383899024, 2.87355749681242, 2.9210450948122526, 2.787310011931059, 4.660651928032429, 3.828457836899396, 3.2330079436341905, 2.227916677196156, 3.1836930199598874, 2.790491611891275, 2.3061205483957714, 2.990806378352769, 2.2534435542892535, 3.154163476833553, 2.6855584728643196, 3.5225708273014282, 3.0982621266770347, 2.7680021572463276, 3.0133187025341135, 2.878405589946578, 2.7669976377182994, 2.816706812313526, 2.5951984417063856, 3.5409263271572273, 4.030141360777735, 1.9618439791302336, 1.646422261701189, 2.069820718392814, 1.3523831854052066, 1.7190151166027963, 1.1777493476696397, 1.572788104933468, 1.5339379231562842, 1.2838314108024285, 1.027059200180301, 1.0082965454060242, 1.4552255526732123, 1.4597278256032802, 1.595763904342507, 3.548507579062257, 2.297735099860911, 0.7912236065849005, 1.1626072229464743, 0.898693705536664, 0.8981276648191617, 0.8964887693879403, 2.4006612992818206, 0.709668237689876, 1.5611588253136228, 1.4184927117081882, 0.9877893944775309, 0.7519961801196482, 1.2561476949501207, 1.1779498964111175, 1.4459520260241314, 1.5546616018830242, 1.9343860542974878, 5.421378549038919, 5.762760675784813, 14.550159491328987, 4.164751713966261, 1.9904175431801487, 3.4510587224051243, 2.578534138140572, 3.3306384663690776, 4.229391398627026, 2.2719451338162635, 5.173962539316112, 3.3427021910686134, 6.879528616471659, 5.739432179224192, 3.869806810415902, 3.576408170083611, 6.084300519312126, 2.4252044357374194, 4.787412945436485, 4.472982161107653, 3.983131902085443, 5.592779175164623, 3.0629228018752412, 3.238423792916193, 2.8656499986157153, 4.691280160947733, 4.370823187992189, 3.8901916868230324, 4.289864023179074, 3.469140761993254, 3.9589215468555987, 3.604642237072318, 3.372789133900927, 3.9264127348103823, 3.3559460501637273, 4.574039360266708, 4.263307938093467, 3.289455656932628, 2.768141068287764, 2.5861035712848386, 3.5419337526059174, 2.4996620213117318, 2.4995006981673864, 2.2191192296015303, 2.218649318328215, 1.9104210552011311, 1.421507067789921, 1.5078157566305772, 1.4878210204279225, 1.2369808155930115, 4.467315803663195, 5.450767964220774, 10.305791680689921, 1.146550781337593, 1.0856468003452238, 1.4684521027945117, 1.0329066923032846, 1.8997560973592562, 1.1731714047709767, 0.7277713395457595, 2.5680457498916884, 0.8644316320454997, 1.2915458340899524, 1.0317368690451436, 4.331618149411928, 2.2225517251899367, 2.8326567287895807, 5.140857907313887, 7.8996016719818805, 1.7754144401617515, 6.206466875130752, 6.798705801417382, 4.245987824393246, 6.295113482025429, 1.9492014106395699, 3.38699831339143, 3.12635680569098, 2.845778061965753, 4.247090813777301, 3.1668025921331533, 3.2876776454203043, 2.8902177485386553, 2.8193676195432884, 2.8685137936216583, 3.0438974023052294, 2.8847539641013022, 2.798710651833095, 4.1701538483707505, 2.908859843146458, 3.40479303871285, 2.3429052513306545, 3.448177560999627, 1.9490430657776059, 3.0530912734340427, 2.30595922951658, 2.2512457811604007, 3.5877528017523104, 1.5535351302913503, 8.84029078319561, 4.782594634490058, 1.3100995507094433, 2.36422165333166, 1.8347270089875467, 1.7699078161970487, 1.5137629744605516, 1.7101306811886372, 1.1512453935424096, 1.2498500319732617, 1.1511041156033688, 1.0689707821663856, 1.0683157035141884, 2.5565966476213, 1.447314598531001, 2.130324750625821, 3.249553663992609, 0.9721985001973439, 1.1509263677077517, 4.188193706638954, 1.2848684382591369, 2.7927972550920845, 17.912130126025637, 1.897134927898276, 2.485596660044949, 1.714097738105579, 8.940872392395578, 2.5834580936824754, 2.915328485980748, 2.6869809991279805, 12.201462302427524, 5.041820784892133, 9.869905995375875, 7.258770771114473, 3.7011329497198147, 3.0893037544180486, 3.8931027478357567, 3.8912334612286434, 4.064714947162392, 4.2496427072908025, 3.611230250013041, 3.0641312009831916, 3.7802074086916377, 4.061307249642531, 3.982742449685326, 2.970159282462189, 3.2290991954763704, 3.1135161240750278, 3.108627769327598, 2.98945729670869, 9.132478240587183, 9.963775112956766, 6.711968526066795, 3.3892332196567274, 3.4352287376990303, 2.913217657519957, 4.146270851260354, 3.3565641815849823, 2.1182273343188927, 2.7204919782082664, 2.036297962016556, 5.55428980107617, 1.9549203803481825, 2.296095539893868, 2.5539586641866405, 1.7100622427175294, 4.624347003112248, 1.5226087899649974, 1.4572334663055941, 1.4745863038591034, 1.3376868497983903, 1.14357993590694, 0.9052980175164246, 1.9833170514324672, 0.88718435275366, 0.8721932164709041, 4.996117645802527, 0.958621077848455, 0.8264251390124929, 1.2382020310359276, 48.68032953725901, 12.230238331135215, 2.5462551307480834, 7.0378388021861005, 6.89121368110908, 4.724108815938474, 8.502624724247715, 6.3317696165604955, 6.3580854809888665, 3.9414648905783474, 6.143480896504222, 8.144018386502957, 5.976379969894971, 10.733712691030144, 7.19514198399014, 4.033673478525806, 4.344819229269028, 4.488527397388968, 6.177132433948508, 4.145386579850132, 4.919821548251942, 4.001176943698848, 3.8629295470858724, 3.809031622437455, 4.345767906857697, 3.993721488784791, 3.8413708061634306, 3.100289783488016, 4.362314348745203, 2.4079585770537824, 2.3552973563708335, 2.0599425853535327, 2.6612742363464004, 2.0899391582025117, 2.163635710049428, 2.375676434987161, 1.9785174412521016, 1.9390062944141822, 1.4255331731161773, 3.7423654483396676, 1.4932365246826176, 1.696608123003378, 2.363731811776722, 1.0064390032533692, 1.0265378254766728, 1.022365747774934, 1.878715920274554, 0.8149139492850077, 0.9821549391111075, 2.427164190819506, 1.7605912232656835, 1.635305409680098, 0.7743261653099127, 0.9704504268709337, 2.2806854018488774, 4.097897664095991, 2.319459134932171, 3.5003832009158704, 2.3496541501960864, 1.6218054505245234, 4.71263135857917, 6.962087973329305, 3.0225343009303334, 2.8183031118637336, 3.6557388065090164, 3.3483293115554456, 4.434355037897312, 3.142268405090602, 3.4631654565488144, 3.1267555174475556, 2.7556714653724463, 2.8728297347651557, 3.5708152444828665, 3.7419933688116624, 3.049410627912882, 2.8632888323417776, 2.968416095148248, 2.678416223069082, 2.545935675195041, 2.7153713358628617, 2.517377374673614, 6.544099402420235, 4.0130162519599155, 3.8490574215222964, 3.376410219963119, 2.8918454371589837, 3.108739755247087, 3.0349889776566377, 2.782896734951443, 2.100495441834993, 2.0808530553263243, 3.2863815572433057, 2.418090470347005, 1.9028048160694027, 2.3112353466559368, 1.9860395459613094, 2.02497469552858, 1.478182453506244, 1.5734761748421096, 2.0673294954122188, 4.192248632544741, 1.4736574311928337, 1.4695722476661592, 1.462477388940159, 6.814586000782877, 1.3146462928466527, 1.4475656366310115, 7.8747679182483905, 3.7801458070773264, 2.1657418371117614, 1.0066680943580426, 1.8163529261092912, 2.588746879054566, 2.6628087798937354, 2.925778890298333, 2.2221870863606856, 2.6216451970506816, 2.0594007431359698, 3.38380205051248, 4.104064025414835, 3.7918319708958124, 5.323887339928033, 5.017009102597356, 3.95464411966089, 4.862676987369973, 4.0431200796658535, 2.8331911087895474, 3.267207416426691, 2.717017063389821, 4.226777694204383, 3.004249168246292, 2.6784471454623526, 2.6324148479679206, 7.295274315137464, 8.408782848260255, 8.612633784467034, 4.2838547472088955, 4.975874083943676, 2.9380114498165817, 5.528782731201635, 2.8977906542816028, 7.130457620832389, 2.5343591899064632, 4.840201436174296, 4.177232938661382, 2.8870203038863296, 2.2367165545418497, 2.7088128254945785, 1.5903296585992037, 2.0430638475211222, 2.72577185536525, 4.190817495847859, 3.5599200815680576, 2.408287713069422, 1.332399675387601, 1.9108801375581819, 1.9837410715054355, 1.5278143276828913, 1.9026924064835697, 3.582842131101701, 1.0850298151101476, 1.0160343274607193, 1.4521987701286023, 3.977225577738, 12.817648225905383, 1.8743083265987823, 15.960465578091474, 2.39017197225806, 9.365168378508892, 7.598162927934983, 3.9429596257858326, 14.584181099046022, 3.6910566400644567, 12.687272451667907, 5.685645325922681, 9.36191021056498, 4.377367437631258, 4.583343745875728, 8.33597894247212, 6.31780022133115, 4.456975886132872, 3.6720345807673165, 4.490071023406072, 4.367233186272462, 3.9048619538665017, 3.7120924679050993, 3.7631762079431677, 9.051429694250483, 3.124745978903703, 4.015924747658684, 2.2165923237161334, 2.1522619621556407, 1.735973174776717, 1.8158215563952447, 1.9309887617945967, 2.065118766188394, 2.0865878658478336, 1.3908265782830223, 1.8421828078025235, 3.1395310167754635, 1.2881767347552346, 1.7350526947187246, 4.587526645501704, 1.2562870650881777, 1.1818715727504832, 1.390512005113225, 1.3797430411171772, 1.0572273190703407, 0.9168336397309923, 3.2343859527386676, 1.313973415830425, 1.383013079157319, 4.015574672518451, 0.8320475174833689, 1.291423434452694, 2.078860896594363, 0.7366298406768036, 1.4538152818131342, 3.2173410512780323, 2.3691795948679713, 9.402829186539932, 1.7920789461499385, 2.081145878569006, 3.0349910641642626, 3.882999041303803, 3.7142343430218747, 3.792627440526369, 2.0954847189738923, 7.112793471793588, 1.8907093534984067, 3.4569200169522474, 2.2684006755147816, 4.026765605617147, 3.4375389078326077, 3.2291720087574043, 2.8884606862861593, 2.6951044949894998, 2.811616819614122, 2.7681517275418073, 2.5917128679512906, 2.549829245269545, 2.6269496119675972, 2.5905694869424263, 2.353941239356993, 2.3574991499206432, 4.431580977490223, 2.215736183788629, 2.9738636542302306, 3.0949555028406674, 2.8652261981034854, 1.5002360530994472, 1.5106140623639568, 4.845498434682047, 2.256650280300648, 1.1772553710029958, 3.367369089397948, 1.0270926922622317, 1.1942058427344708, 0.9845933012382156, 0.9845760135092635, 2.3218207209359782, 2.3495705536986287, 0.850750824653058, 0.7994747368852761, 1.7595315741886834, 0.7673464205000319, 0.7673137007870433, 0.7672800043662041, 0.7672728255635037, 0.7672717023494757, 0.7672608608923362, 0.7672202298457592, 0.7672132952200214, 0.7672002561702184, 0.7671942982523309, 3.0277283108139486, 1.6601161935854902, 5.359839039637114, 0.9910531492900287, 1.2468724694688782, 1.4336215499072889, 1.861446350181071, 1.017121872500557, 1.6950432663160784, 1.5083206546604138, 1.1047572773907652, 1.6444677710893942, 1.4129956288639438, 4.201568232134853, 3.2962643672051093, 5.203086806042003, 1.7716863127038702, 2.7580700171026686, 3.250593508120034, 2.6783255326066913, 2.843577077916053, 5.992581639782595, 2.2672770570546565, 1.6388345108913813, 4.929718389890163, 1.9933376574934687, 2.173572487252798, 2.2652759780107408, 2.168417423218345, 1.87355928560026, 1.9382779011839915, 1.9409189192114946, 1.8951992247338987, 4.150414944846761, 2.7916337524478534, 2.2007190870887743, 9.845982988405568, 2.8423996724218887, 1.579800645862142, 1.5402669881222053, 1.6573488367634361, 1.6461698465593186, 2.499884153054978, 1.2532916280562092, 1.3062709524468288, 1.7471563746368581, 1.65153501798604, 1.6515561330815598, 1.6516562844979237, 1.6179973693660334, 1.6647404762106273, 1.830658635041752, 1.0496386626502447, 1.6745270324092827, 1.0341565515807507, 1.828489785413879, 2.7642453426776497, 1.704887827735943, 3.197840535993924, 0.806078311999469, 0.8788895055657516, 1.9443153827299262, 1.4646561556639588, 3.5354569657673274, 1.7527065452949673, 3.2165847356047337, 2.7572161467508005, 2.410144997096404, 4.069525919658017, 4.631174287760951, 3.07987785855152, 7.385438970334342, 5.297562828032108, 2.527916670096768, 3.818914144115155, 2.542073663635049, 2.2468896648984287, 1.8875045402266146, 2.8901197882963303, 2.347901182400941, 3.286083813350637, 2.2818948126570517, 2.6791168324847963, 2.133024672002148, 2.3973928354178353, 2.741746530393793, 2.5145913013756056, 2.292672616046296, 2.290154689334694, 2.258446014791283, 2.627718401618423, 1.981086122713267, 1.9381316283406425, 2.8033731861477924, 1.4693982696227987, 2.44438345950011, 1.9493397007484838, 2.98803049489753, 1.636656478314719, 1.3278004401092343, 3.2107121472416638, 1.219870900291701, 1.3013271258921448, 3.8933841612849145, 1.2743957658909209, 1.299458664759677, 1.28007678457957, 1.2799162760989111, 1.369803334742508, 1.5483676722821926, 1.2048696121769662, 1.1796828677359028, 1.0462961824996972, 1.0510062595997076, 1.1624547650222887, 1.215345581155039, 0.8801938658159761, 1.0485411842105936, 1.1706579223668572, 1.410617523583467, 9.226653335881714, 1.5716854744502586, 5.397282420123131, 2.3942078156037354, 2.7760894388227233, 2.3274045323746297, 2.218453531212855, 2.63575498811166, 3.4737268478972037, 8.104435775977343, 3.2939669723696845, 2.3040288008868055, 2.3966190994816454, 2.419498101486759, 6.695361462528366, 4.708707966519531, 3.140088608207904, 2.6594138226870734, 4.335661623072839, 6.470377841434637, 3.1778727664499473, 5.486311893886851, 3.3976566056126867, 3.4985725599309196, 3.6277999777453473, 2.9650267812671562, 3.067034539675052, 4.459074168903295, 3.082305940083078, 2.696754754273292, 3.1385837930876725, 2.791599484933408, 4.431640992642386, 2.4580133953997154, 5.991215455790202, 2.798789020751812, 1.6713248415195134, 1.954457319015366, 1.9051517465139716, 1.545407173022708, 1.4358681962194764, 3.09232589027267, 1.32519939039276, 1.2116514351296352, 2.5336546411717613, 1.20728454676512, 0.9190613337271909, 1.2829188723920648, 1.561601788856596, 4.1739886739455025, 0.922896570410749, 2.0240741632683124, 0.7858682860142339, 0.9554960822209931, 0.8149927777605757, 1.653781996882754, 1.7352631069712066, 2.6248748866695126, 0.5900245811813707, 1.7551778082741725, 0.5496532850797321, 0.548652216889426, 0.7159159531267923, 0.6883757132655657, 0.915830271845248, 5.271882796355558, 1.401913258655456, 10.904043478718162, 3.265597650352397, 6.072688999853344, 2.6634850519772555, 4.956112700117106, 5.863861903319246, 2.902225444530604, 4.0420076665798295, 5.6324175581487514, 2.873735114881315, 3.5863805151647883, 3.676244596759953, 3.5743446297307786, 3.5817578582373413, 2.633137724457272, 2.4918578874479245, 3.3972243462889, 3.315296471632729, 3.4687801229305366, 2.644166036764581, 2.5705421516923694, 2.7868009304532992, 2.6116520579477847, 2.582896363801024, 2.1305639555240075, 2.9905974966977995, 1.6686484093665899, 2.285954143891779, 2.4229307109198186, 1.9584980300192114, 1.6569679872042522, 1.5250487738176692, 2.9885757094489707, 3.650632803803708, 1.6644103829237353, 1.8629594450340057, 3.5590775180223475, 1.1884895676664493, 1.4227821194673083, 0.827968207012124, 0.8092102470258262, 1.2209057328932977, 1.589419421169826, 1.455722086615783, 0.7032735326314846, 3.332825866753333, 0.9856798758781444, 0.5838311046807382, 0.5592694033721606, 5.779707510711983, 0.6972032013793917, 2.2451227621462473, 3.520368596090841, 0.48407453158173774, 3.192115117028321, 1.6571627597627145, 1.871150472727167, 3.5675946094059716, 1.6476485611250695, 1.7618583802084016, 3.126699430739032, 2.9903884568490464, 5.26162789463892, 4.07336876775666, 4.498226870910373, 4.0252879994771495, 6.1319409383138135, 2.5629157525195967, 2.8853828033761446, 2.8570883621302867, 3.424284327328676, 2.809751096012216, 2.585970090562972, 3.2191658994194046, 2.635096058086247, 2.578386304393642, 2.570844999481919, 3.1327352960651416, 2.6141351643564184, 2.4669510725052612, 2.4781438418915966, 2.476768891904822, 2.4990861465523606, 2.5958283300239935, 2.1379901126966083, 5.317171059473068, 2.9594969067797425, 1.6978126687189234, 3.360006741935864, 2.0553626041582014, 2.058624814162082, 1.4540474651141713, 2.229936744059472, 1.4156278999431182, 1.3913811347610703, 3.0520827570848708, 1.0964978430175123, 1.025372828671062, 1.6851528435645873, 2.585369893437736, 1.785122926023347, 0.9600670567688601, 1.2821547546729148, 1.1576098373102683, 1.0262797205453997, 1.0455880493845255, 5.589546637568681, 0.7912340586641124, 0.8050817656861571, 0.7506464759138787, 0.6477353988032916, 0.9508919932133769, 1.9874253809436766, 1.1796303031860467, 4.829843071595281, 1.512033240099587, 1.4359296815550135, 1.7052973271818666, 4.854536036666439, 1.452196706936482, 2.163957598869561, 4.328832978269462, 5.693892863041003, 1.819810423933693, 6.025103531290172, 2.948619844454825, 3.5261068440554664, 3.246673536814968, 3.406098814469805, 3.614209074828799, 5.439933057334986, 2.4181611851329707, 3.8405427152094713, 4.2287764132479255, 4.932158836898057, 2.8598470604773523, 3.3727951942352004, 2.642005005064999, 2.7344464044228802, 2.928192412452808, 2.9940676845646013, 3.0037308575844532, 2.6877827949523265, 2.5515293606258904, 3.5698775207605475, 3.0804499474655973, 3.0393577164412875, 2.256367020348264, 2.8451840708700034, 1.9276824577494855, 1.6239896185638882, 1.5708835111847497, 1.7383866254665843, 1.7676722018971271, 3.1485673238606915, 1.6814593799746407, 1.9390640740243237, 1.3062082704224, 1.3867783503076834, 1.7164271952216565, 1.148916436882913, 0.9626422250685412, 1.0819679937677908, 1.0818607993530462, 1.9930685578502894, 0.8829765980576649, 0.941921529117838, 1.499565259707516, 0.8102239980598815, 1.2029161686308993, 0.765283440804492, 0.7652658347450935, 0.7651126776089104, 0.7649871760085083, 3.1791146159461783, 1.045664610899859, 0.9839826387294864, 0.8334876010498954, 26.491352085863657, 1.5501480915826025, 16.22945625983311, 1.9862626473490235, 1.7984374663463165, 1.4441158325641945, 18.52523280818353, 6.689757250986902, 4.729344661398193, 2.2909470348710075, 2.1445785147415752, 1.976454358399898, 2.3173986589617415, 2.029648184464358, 2.1142241102802948, 1.9135871712397552, 1.6059831381685008, 4.963039227091677, 2.2298398670989044, 1.739346855140105, 2.297315888299718, 1.810558975593757, 1.3582097096083485, 1.3511051424084761, 2.0614399846258658, 2.0517563116807187, 1.7733804154901194, 1.3462712210748027, 1.2658237472909828, 1.6550968871518972, 0.9288848142230806, 1.1023957247373029, 1.0272446315677437, 1.1277725822029487, 0.8774055192772819, 1.20054029641149, 0.8982656757333259, 0.813885376914298, 0.8136811970690803, 0.8135998939918352, 0.8212018854062706, 0.7980082230488796, 2.1386757563204775, 0.7842090621057535, 1.0946287449421064, 0.9009189378770329, 0.8051051056478783, 1.2091264546598368, 1.9450182813873547, 1.7555255527438125, 1.1244931787800423, 2.8566612334758337, 1.0779716040879943, 1.222823410411341, 2.1138949164986056, 1.9892090397883613, 1.1930161500039065, 1.9465095550329299, 3.706260869797261, 1.7084868812589646, 1.5329848906583332, 1.4848779059600057, 1.34651866522294, 2.054196479842194, 1.947695288947762, 1.3778707609440404, 1.2844651289367262, 1.6905639329489157, 1.553978144401512, 1.2878380539522674, 5.098908619514713, 2.315366808593172, 1.9005829880650411, 1.6781816260376128, 1.3048460161736177, 1.606461927344637, 2.1797721138465818, 1.1751027444066304, 2.5393373376816584, 1.1521744711771926, 2.1407302519481, 2.1401207360951853, 1.5907030046945365, 1.363924313602168, 1.1245047875783383, 1.1822559544964828, 1.978458726080836, 0.7035416372842285, 0.703479269866526, 0.7033330143784746, 0.7019293581262569, 1.1822185765208337, 0.6790883709649543, 1.5868256060539034, 0.6731698375290724, 0.6733562318659743, 1.2635504322433826, 0.6520935438847804, 0.6519685258828932, 0.651880319523691, 1.2466054667826276, 1.595107659325008, 2.418694541110926, 1.9633956850607182, 0.7512167496833513, 1.7676006456998985, 3.765556941495195, 1.6931642477767883, 1.5586739023107408, 3.5940659397175345, 4.606536758116693, 3.735901765314842, 2.2733332928103485, 2.7562009544001307, 4.407069191065105, 1.6002829515367605, 2.5586951647371574, 2.0356458961580777, 1.9797655393961446, 2.796152063872926, 2.0442616611284437, 2.5369069197650185, 2.293282937813626, 2.1500342530534295, 2.36854462444908, 2.0637190212024326, 1.9190147191405367, 1.7556286499993712, 4.8093241146147125, 3.0734726386784175, 2.945017847063559, 2.008695180787014, 1.154202734469205, 1.2775617705561138, 2.1138159347875383, 1.10827428946834, 1.910477039960114, 3.1508978786860493, 0.7964201110803686, 0.7963982203050459, 0.7963952320404781, 0.7963809161683624, 0.7963671562524454, 0.7963378295629655, 0.7962953684082922, 0.7962801491073537, 0.7962614550801734, 0.7962458883066107, 0.796244498416114, 0.796239494810326, 0.7961270526691452, 0.7961105824667596, 0.7729301277523073, 0.7432418582598107, 0.6910657164873537, 0.7491781500656233, 0.8259338798210079, 0.6920705378219231, 1.9104207493949987, 5.557965836443145, 3.0356615016507433, 1.4620527773253131, 2.226686996175607, 3.8443120236511055, 1.3652712273157734, 1.0336427293590198, 4.412329136093982, 1.723247253967222, 2.5876236285740175, 1.0828226841878001, 1.6069729067090013, 1.0502239145007468, 1.2774821298306545, 1.542594290815534, 2.009317573751424, 0.9201237010214025, 1.4716855524015506, 1.8256441005723676, 1.6441629016737125, 1.587844399759498, 1.8090520047902416, 1.4289624033695867, 1.360120571113205, 1.29449633535662, 2.3459554517515686, 2.6795761830190274, 1.5503228689549031, 1.2835289303644746, 1.3453981510090407, 1.2087532954745905, 1.175792071046868, 1.1498720812131629, 1.1183476755293436, 1.1851786159487137, 0.9509719250176834, 0.8530512079150635, 1.1072135711870044, 0.78432760506909, 0.7840709210144672, 0.7840321634221136, 1.6209465457670702, 0.774083905414244, 2.9949348807356544, 0.8247906674778542, 0.813700420411073, 1.8518582973818318, 0.7505296246211849, 0.7504355184671192, 0.6821736749363627, 0.6589732441619148, 0.8029387289342091, 0.6495480776592675, 1.6760942479566483, 0.5946998968632294, 0.8104670852679137, 1.3072202906420687, 2.1453997344006037, 0.8550410363056551, 2.670686687240173, 1.2682209053087514, 3.736166626946974, 1.6870025383266953, 4.81747407943859, 2.0114738939592023, 1.8751033333853744, 1.475441432637471, 3.6014550273174346, 2.1829580172561256, 1.353627679785466, 3.8069113362405265, 1.4615477197237758, 2.061379529789285, 2.0146944458964624, 1.4522800314384812, 1.3489952635541158, 1.2603596416554619, 1.3322185297355176, 1.2770029677614325, 2.399078136598232, 1.9719563875734423, 5.054042123547293, 1.1977786687212544, 1.4188725221902159, 1.0143372981336927, 0.845835741345235, 0.7593714309821751, 0.7051909335247316, 0.6748252166709624, 0.6519362985883298, 0.6909997533593777, 0.6720063432041258, 0.6838322069112928, 0.6016725399422956, 0.6380160898289791, 0.5980240288534149, 0.6259303601013009, 0.6231483957097758, 0.6100958441863297, 0.9524673664358406, 0.6323050473510591, 0.6211912348313158, 1.0966327774346765, 0.6290651491224843, 0.6418275887814031, 1.5331733305241566, 1.020118827146588, 0.4408687464333653, 0.4244468536145665, 0.6147966885392662, 2.117427138648159, 2.0163715276130505, 3.4395848183630764, 1.8859752268050782, 1.2556067627064205, 1.0508309667019082, 1.579729719538203, 0.929151936224521, 1.7358825449402149, 0.9289681747575281, 1.4581884611667126, 0.8800799160933648, 1.5245136122207386, 3.1661247607970675, 1.312401402582867, 1.476833880801285, 1.5228790301279207, 1.3109172004747693, 1.2795418734281898, 1.209814816169001, 1.3799386084746414, 1.4121318144998032, 1.7367751566305778, 1.8068182600957077, 1.736256992408684, 1.5765940812816583, 1.49328252453396, 2.1887037238124565, 1.5379926758728717, 1.4385608028482775, 1.3942389480468014, 1.3106362995476204, 3.7220529792859876, 3.887108195564608, 2.6449804696512964, 1.6646148599924393, 2.132231410886452, 1.339978192947011, 1.2236853733579927, 1.4221806220007784, 1.3640096692220562, 2.1107075228372225, 1.325493133856287, 2.424065421303827, 1.1251226033920454, 1.4130226887277786, 1.4620934491585764, 0.9743828708749387, 0.8108655785718026, 0.910568886360788, 1.569012085200597, 0.8473729893936447, 0.8584475628166608, 0.6730129528634595, 0.46348217083425847, 0.7176758056938216, 0.4597825168827812, 0.6281289658907045, 0.4560039791835563, 0.4151919638510014, 0.39221660866110275, 0.4303896040690086, 1.4046563130614882, 0.9581206400784921, 0.8622965456809001, 0.9005330313779415, 2.9919549615977146, 2.343226642491296, 1.1274553614935423, 1.7239683271339492, 2.1104350153450033, 1.9561626386291937, 1.3140348367481065, 3.0867571528994846, 1.5264047227533557, 1.1950092764181495, 1.4219657317913967, 1.570962665144903, 1.6495823130725198, 1.98056195056184, 1.6603815970529652, 1.26703792757275, 1.3077996823356193, 1.3063879352638592, 7.81740320099719, 3.4755588874177796, 3.843609036204588, 3.08333757289446, 2.1771682157515744, 4.501444786552779, 1.53150726356345, 1.8130322952178153, 1.8067311254247165, 1.9821501368973857, 1.256227796603409, 4.212055587562213, 3.124229809666821, 0.992300975526336, 0.9558703065292921, 0.9157960825433434, 0.9155799022759977, 0.8439106140327438, 0.8439814796419595, 2.6184164222972703, 1.0392909292137251, 1.1243930500850918, 1.0155206144559334, 0.7463063663198594, 0.5957986244483865, 4.247300323369289, 0.820932548365599, 0.7224950891393038, 0.7986791407023689, 1.7177590132455476, 2.805454180942264, 2.1109242552122818, 2.221186447610138, 2.3231669401634427, 1.718183094798866, 1.7954031311355387, 2.6206129472657396, 1.4387096441554983, 2.8080352460604785, 1.5962204775169304, 1.7056490877007175, 1.1755734657995522, 1.3948767626261822, 1.5290605156504964, 1.5355376446894942, 1.5376280257027477, 4.087006858839066, 2.3767668527607513, 2.622492458451051, 1.9033954212589979, 1.6814449047268152, 1.5610882892607967, 1.3995567828523248, 1.45093220750349, 2.1408270187783995, 1.0214812016852115, 2.7654810114960107, 1.0713729929721958, 0.893419522843558, 0.9599777989589696, 9.976896797231436, 0.8166939112253168, 1.2073958356348624, 0.7497925048594961, 6.065602683604498, 0.8307680411606434, 1.8942875335101237, 0.6852218712339333, 0.6356935356295308, 0.7651917297880554, 0.8066510535964914, 0.6215265246283961, 0.8114796987663555, 0.719018260744329, 0.6315048336120179, 0.6135388145611209, 0.778602203566829, 2.056698576801712, 5.164797761000387, 2.6249071197931864, 2.349078686763829, 1.2033220031052356, 0.9135303677264406, 1.6144705115818283, 1.247967122834001, 0.9499818746007979, 1.5890920537863666, 1.2985577394344192, 1.2790538242746616, 1.1671565304945473, 1.0331700497667258, 1.089180412059926, 5.628146917169563, 3.491261881486544, 2.1620219488870447, 1.765279722755212, 1.3572877154983873, 1.3748978068785174, 1.044730935960559, 1.0331609521136187, 2.3428399438445107, 0.969325429187675, 0.9081344303211862, 0.8321970554207325, 0.7282009027794876, 0.6768595771757514, 0.6767770276675591, 0.6767172321904711, 0.676578120982221, 0.6459323216171686, 0.6689551677866054, 0.6241697077544232, 0.846997170949347, 1.6589939383846037, 0.9378741841582873, 0.4882564110076394, 0.48573303599492956, 0.48549317793319835, 0.6574614422816347, 0.4546329497530623, 0.4546325087834672, 0.4546138410706103, 0.8854176170507104, 0.8874210889108628, 2.3250391184155372, 1.2595817883446414, 1.7889763704658768, 2.274081612747328, 2.230506055692056, 1.1752468824558897, 1.737501225289031, 1.7092490676818264, 2.052651846780857, 0.9874666243480767, 1.4456027541560648, 1.5684732286084595, 1.478840925576465, 1.3805265779734497, 1.2168673567145725, 1.3466448261280686, 1.761784891724619, 1.3014413269197842, 1.1841781042460837, 1.0756236195028903, 2.1998138745587346, 2.4396788226904844, 2.0374403656750792, 1.9770254068266704, 2.227811146787943, 1.4328432151631, 1.2066803454612396, 1.1721745772794268, 1.2246966017386112, 2.3334000639123302, 1.456829130082484, 1.1214401334203614, 1.0241334913764721, 1.0782865251122076, 1.1601888684921222, 0.99831870741905, 1.1251186316941553, 1.0180086531559895, 1.1481406471541484, 1.6360536566598867, 1.6347911118981338, 1.5384180988577454, 1.5383187050619689, 1.5382832155619601, 1.529025907061284, 1.6434252665310072, 0.8917587001522636, 0.8920847164415606, 0.8920293945738997, 0.8920444718124656, 1.5049509204556033, 1.1030286215350482, 2.984153860718507, 1.2442837902957864, 2.5686346761017487, 1.8267161243496204, 5.289658017836294, 1.6841425090656774, 1.84903971572774, 1.8864309194347828, 2.5519622656956273, 1.8942313027749647, 1.2846089086489862, 2.606380987049761, 2.1255395340501733, 1.3178151731644754, 2.862595579962491, 1.6929971877573053, 1.009809533181895, 1.067423084183112, 1.677665760068156, 0.8687526324631525, 1.3344396472851447, 0.7924856079407898, 0.6932069769246226, 0.689484367198081, 1.5224631183880692, 0.5295704935197993, 0.5294417388751296, 0.5294016989856295, 1.0662620373873066, 0.5856227638297548, 0.49627694040155884, 0.5241234735521925, 0.973534603291498, 0.5329220742702868, 0.5194022315816225, 0.5225265529592882, 0.5447815265412076, 0.4882071976720013, 2.569989787480239, 0.5920224911681311, 0.45626658581998614, 1.1948050426412258, 0.842295670477655, 1.6561028495763181, 1.456421390646482, 1.6475662131352686, 1.015428207675779, 1.287491116851177, 1.4440118848935692, 2.220345632409396, 1.4940580067789706, 1.5809741569124482, 1.3781612266246785, 1.5606487430054339, 1.8588228301206053, 1.8080864601401139, 1.2736521650431727, 1.0558819160338078, 1.1282369663522267, 1.0276436739641914, 1.0252905604581877, 1.0240807837968644, 1.8787426892179258, 1.956476795818759, 1.6440060498953262, 1.5062833378861296, 1.764884235053106, 1.5673628444732841, 1.6466152698335075, 1.6288543158515854, 1.0803826513209907, 1.0120672938770452, 0.9209524963356721, 0.8603332856045476, 0.7648400333269408, 0.7150524060450875, 0.6000000869022528, 1.176249674793119, 0.7186360284727836, 2.6006404618019388, 1.377115443549753, 0.7388790182640961, 0.4856233067252678, 0.4855475770975257, 2.3649597775974724, 2.190157384934524, 0.43292121211642176, 0.3984765882456274, 1.0405221261313096, 0.32720226820860626, 1.390006467374878, 1.172658819144828, 0.7220546019578177, 0.7501915560857927, 3.8872927552293555, 1.5754547360280395, 1.9967397510997122, 0.9867426926322875, 1.378624118015017, 1.334997495968999, 1.772505090515191, 1.0832660760762642, 1.730491805444558, 1.0996569923209887, 1.0959997225563276, 1.4221550642795315, 1.2538210339305702, 1.1443989550638678, 1.233820959797565, 3.9619554923316502, 3.180083741886465, 2.0069703754947854, 1.5894016401074424, 2.225124338471373, 1.807117784913474, 0.6613907566502891, 0.5814245461381734, 2.0666818995662255, 1.1803158837295915, 0.4453395302762194, 0.4143277192802154, 0.3575782573833907, 1.7448456557577812, 0.5999353859378022, 0.3892630268395164, 1.583648579921047, 0.3030201141516995, 0.2681738137506196, 0.29452331740130266, 0.457711049661928, 0.2549073237951622, 0.25285739164973037, 0.36753257384429633, 0.5195458910785775, 0.21838344090975553, 0.20651087192643794, 0.38699986122599217, 0.2143212107347157, 1.4881262453074673, 0.8454970634328451, 1.26761907596808, 0.9411945995750589, 1.8713307629740186, 0.8659944753337177, 1.009881237013444, 1.4071198055558587, 1.3892137107238225, 0.8302371853312064, 0.5501310494873671, 1.5510516539141619, 1.1236790589644818, 1.1072497915500155, 1.0540937644573347, 1.0113831007984118, 0.7740106493411453, 1.0043819352627088, 1.0816194469442075, 1.019063324756632, 1.0256826856895167, 0.8926593735618329, 0.93313967879629, 0.8942929965345474, 0.8810273287479347, 2.717824796160265, 1.2290878618095535, 1.1502974037621048, 1.0964391996236773, 0.9207773829957513, 0.8493805942749949, 0.8480197271277888, 1.0722602857187291, 0.631544589259822, 3.332670613104304, 0.628734372950048, 0.9662267810454689, 2.472093791259648, 0.4325788152249389, 0.6454855575056541, 0.6145258431287733, 0.5023817905721525, 0.8491167877641611, 2.1414153974470667, 0.9342249569072673, 1.1141090528026159, 0.297998912733058, 0.3748399633661478, 0.29379472124163875, 0.24400978377154126, 0.2691548070456556, 0.49579583035401137, 0.2428771557978522, 0.28479158362416085, 0.2229087799723947, 0.4636090031735289, 0.767196721362246, 1.7134800898286715, 0.739576264299123, 1.4640432063767066, 1.2838090961492212, 1.9180671162507288, 0.9584406810230295, 1.501634047523503, 1.2212865299757427, 1.268560360543047, 1.7377240562613514, 1.2289825084475685, 1.2692050681146316, 1.2570883737216845, 1.312464364397383, 0.9092762018692605, 1.023671759432438, 1.0274403634292248, 0.9017683997337511, 0.894634517412114, 1.7780159118382912, 1.593012599826855, 1.3074585291749807, 2.8197013055333695, 0.9569244455871175, 0.95715636256884, 0.7490664963625947, 2.0834813127522627, 0.8772128921119997, 0.6179005746273771, 0.48383615631737953, 0.48367988918556304, 0.5346379281978534, 0.47856664235382557, 0.6335419831287121, 0.5932845688159346, 0.4967167592498166, 0.4123953253861108, 2.746024767991373, 0.5827271717392257, 0.6885240560175286, 0.4567681018825853, 0.5608971191212052, 0.36519460537254905, 0.3611715287615655, 0.9116113238633244, 0.34614603008473793, 0.8828259867892165, 0.3514487378777821, 0.4800283609653108, 0.9837827295078773, 0.5040835126569654, 1.745362704531307, 0.48506854515131154, 1.3785230253878051, 1.7058545445459148, 0.9567687993843016, 2.3673541146468575, 1.7256077448891933, 1.4114428182123784, 0.8725517850808625, 1.2664548616916542, 0.6454461752077127, 1.7240097841061608, 1.2010824216272888, 1.5727880108839576, 1.2014831278090066, 1.0802862729224336, 1.2775886361131659, 0.7833370167397968, 1.100098254544435, 0.8448369813478647, 0.8667813366460781, 0.8516747032465061, 2.6968195617893564, 1.9208729200727146, 1.0980505184665872, 1.169291401246081, 0.8230398873175409, 1.1362918409458445, 0.8330875743845825, 0.7352607696544117, 0.6667090696831647, 0.5832287837598522, 0.5188182256542916, 1.4912189464894894, 0.5715018217735353, 0.5323088592399335, 0.5489375518808219, 0.5424638120934475, 0.598210493270935, 0.4464299656801809, 0.522695328660969, 1.6255017553952946, 0.7168638214062294, 0.3404464026368525, 0.3920673238420604, 0.35053998071700504, 0.27481242373781317, 0.33403095615081607, 0.42545321414723203, 0.26039874921421036, 0.2540847875712633, 0.25412752071221784, 0.2810890257158137, 0.34374673557419805, 0.2911339878447849, 0.3815387743390807, 0.5661131676058224, 1.6935297579228052, 0.6100782352353192, 0.6738075078898569, 0.6128475872496001, 0.7991642855451896, 0.8226746946826848, 1.218031018775723, 0.6576696606355945, 0.5646667602913674, 0.7393575485096434, 0.6373164615199713, 0.7615448092136253, 0.5979934659603183, 0.5515896042245206, 1.531632654277713, 1.7964657446188064, 1.481463228353403, 0.9288582892057754, 1.0528673670095956, 0.8175509132647931, 1.0509598734338375, 0.8882423189912017, 1.3089543386557456, 0.7033335098518027, 0.7513783952832714, 0.7204979967072992, 0.9592545471919237, 0.4661993366244017, 0.4802070504836256, 0.9852790539258596, 0.4590023903001392, 0.9772090751360083, 0.4442393241006825, 0.419315264615547, 0.4699447040393446, 0.3864786580274043, 0.44699509322804953, 0.5358938284193774, 0.4472777386999832, 0.3383759014927087, 0.2763211220432506, 0.5644648574871799, 0.3448931712098822, 0.2881257370221221, 0.3768186652260015, 0.6303381607901514, 1.1790403250599781, 2.904605950086574, 1.3309606674412353, 1.13247164935251, 0.9834249500158662, 1.2059770102213339, 1.2784610878285259, 0.6072935435046599, 1.0484171300418308, 0.9481202341374504, 0.6606395091980484, 0.8568367928406169, 0.9077594878423395, 0.919374501680585, 0.9950852142604856, 1.1057235237003702, 1.0005765012626884, 0.8496414937474215, 0.9741402836579104, 0.8453935755130806, 0.853748040797823, 2.4455159585753985, 2.693654637605133, 4.066770226375675, 1.5449721883066387, 1.6342860231593708, 1.1957588558415144, 0.6769019881055903, 0.3499278853968236, 0.34829086559386996, 0.3418453473316476, 0.8496482247715903, 0.31492677425013826, 0.34063511416625586, 0.265710943506581, 0.36250823762909345, 0.20367152728051824, 0.2305967314579064, 0.24860108744901757, 0.2223694493665475, 0.32036678570710114, 0.19476567467772862, 0.24660435977839193, 0.1885959634700589, 0.3683988378677727, 0.24980196727916978, 0.157513457715705, 0.18116107406921553, 0.20965000698984412, 0.20016014097615542, 0.3019068385286106, 0.9051687851417113, 2.302823895928468, 0.960829878210457, 0.8909927585709673, 1.2601457265426845, 0.8913437180454798, 0.5012163378720308, 1.1427846362888592, 1.1977871801023277, 0.6779372301407905, 0.5490520863276863, 0.6996230076947992, 0.6116913258932434, 0.6627176319477424, 0.5906291505558805, 0.5585249674291239, 0.5825061279053391, 0.522144681407657, 0.5382964488122453, 0.4974063195830904, 0.5917958046244968, 0.49551103604590907, 0.5176869097528701, 1.743154221116986, 2.4111791425573217, 1.0026734995096764, 0.9214693290721505, 0.9653214839129269, 0.9754974198624365, 2.1874594446207047, 0.6238681144679421, 0.6159378206952804, 0.6159312098827125, 0.615893671562398, 0.615868106671839, 0.6158549775056206, 0.6158514640667734, 0.6158021372345374, 0.6157414379555066, 0.6155473204592001, 0.613726110940983, 0.6144141902015272, 0.5894847697792226, 0.570822307212193, 0.5564066213927705, 0.5928446805946689, 0.6543418338500079, 0.5839211006763435, 0.5442145725279425, 0.608504863437328, 0.5563636279963511, 0.5382337287914197, 0.5564051882795565, 2.4481902621269778, 1.3059589958740305, 1.6960404855190256, 0.8443935417389737, 0.7369332116492076, 0.7580751912237148, 1.5452619970637953, 0.6831533730511496, 0.8103684753537491, 1.8204631898389148, 1.0585363450495247, 0.6812528337821199, 0.7037903882502924, 0.9472775715008344, 0.9302803864884492, 0.7160909376542562, 0.7623989400197503, 0.6853602749417614, 0.72695620105969, 0.7234477087645751, 0.6591512693372069, 0.6366933682260567, 1.70744528146736, 1.34630029466582, 1.5354243939713608, 1.2026434495711442, 0.9392477232999618, 1.2124868936301154, 0.6476222228485335, 0.5761597300087207, 0.8208388567023882, 0.458560333762387, 0.8205088041576519, 0.6200705140303051, 0.41833721884079716, 0.37730749679982234, 0.32108321065674744, 0.3426562093768486, 0.4110892510760531, 0.26843258492707844, 1.3123868751065617, 0.8660929302869607, 0.27213992790050073, 0.23483409918071602, 0.223414793043992, 0.9007118328223627, 0.6599114308815576, 0.21320392258811716, 0.48476497875745495, 0.18822725700042353, 0.18818541477127027, 0.1932683888129515, 0.29405657951664926, 0.46198415170871626, 1.047223059782636, 0.6500107221854872, 0.4529545596133692, 0.6520979314431566, 0.95344050331123, 0.4930434063138814, 0.7378851298710705, 0.6981514974497776, 0.6809101130120833, 0.5033887835934885, 0.5372769546536622, 0.6234185430970794, 0.5075127918752598, 0.4848151720795185, 0.4732428131854563, 0.4786603081488595, 2.9724074502530327, 0.8953425134860362, 0.6129039710403903, 0.4628896234529053, 0.45211620207100056, 0.4858080121934177, 0.4189149249385302, 0.9269508939595525, 0.5557654708391113, 1.9021578103310466, 0.2810877235066356, 0.3200002416614824, 0.29254992029493915, 0.25497766085010853, 0.24380237098914567, 0.24529817566034712, 0.24094048681272073, 0.22877713223186436, 0.22802412578558312, 0.23135128122769413, 0.22038311679933734, 0.22932232993660465, 1.6639056265189498, 0.22858046349659572, 1.1150404163679688, 0.20734272484734617, 0.20749199679012903, 0.20766379722143288, 0.17133350353164675, 0.19901532168280814, 0.29907901999342007, 1.1871673601757005, 0.4034829517143209, 0.3329572699234134, 0.5703078586553809, 0.3932208938917123, 0.37408120356130453, 0.3380915083160787, 0.32614227790782846, 0.24295521285416508, 0.2908776355615463, 0.2945103957482172, 0.28029641034733616, 0.2687258780333508, 0.27695658263043205, 0.26511063540301144, 1.6707718169366539, 1.343836506977269, 1.1155780515020366, 0.7706502750552793, 1.0108497108225138, 0.5614592688989771, 1.3182937397426646, 1.1443450735623784, 0.2885603202613268, 0.2631108106946488, 0.26015643388933, 0.21054325254225126, 0.22680650438065134, 0.23004681560206972, 0.23013385065159384, 0.2445929715958614, 0.20590791188311341, 0.20589968986601115, 1.108747126246183, 0.2357582408022532, 0.235780417806199, 0.23034527686308434, 0.1834803710390242, 0.2006925619827844, 0.18659882094989225, 0.14163740389412832, 0.154861345286523, 0.14313442306756538, 0.29712196991619133, 0.15790508297250655, 0.6564025931457134, 1.1286184562546002, 0.20801170775788594, 0.8621052198276284, 0.5491177151980777, 0.5644877866724092, 0.40616205469589683, 0.5124100607994361, 0.4399885755681207, 0.6092676256829868, 0.5189134111009623, 0.6148869153267589, 1.0007184719822204, 0.45694482307627843, 0.4841243225689757, 0.4496622377345447, 0.331288021330886, 0.35712965786705614, 0.3656209409289041, 0.31837190573015095, 0.3288825610767736, 0.3439502745028285, 0.3436507727384089, 0.33518115662981796], \"Total\": [89.0, 721.0, 150.0, 86.0, 114.0, 95.0, 134.0, 94.0, 86.0, 246.0, 304.0, 97.0, 114.0, 91.0, 56.0, 55.0, 211.0, 181.0, 44.0, 49.0, 119.0, 64.0, 136.0, 84.0, 29.0, 111.0, 85.0, 174.0, 104.0, 194.0, 114.47645248103385, 22.49599279861991, 20.514882004755048, 19.10757953814087, 25.102300106841593, 65.74529826548574, 19.1851056082349, 27.319566490200476, 17.372722703888417, 12.339594804990776, 16.67375158226286, 10.754448401784913, 10.787729646075409, 19.121164497875675, 7.972453980866858, 12.60462700496331, 8.444762096326668, 25.57645037581228, 6.915666915188694, 8.355411335871308, 16.706916331952957, 6.2002415443123295, 14.37926639584502, 22.33606766696243, 6.479396657788798, 6.105571901346799, 8.038990271823911, 6.399584526791347, 30.46804448814342, 33.55957814665492, 50.57966391359092, 21.96987675090532, 44.4653793661754, 83.2190721755042, 19.733426493873157, 23.442947398215054, 27.098379086938724, 29.48322321233131, 18.9881244023859, 36.95367234706578, 67.74518720826192, 33.08880753488965, 63.185211765460224, 46.97016193141692, 317.32700812039826, 49.072890017708765, 59.81162606536562, 113.00835013022115, 205.59244811158928, 92.7408564347161, 70.74721561452391, 82.64596403310593, 721.0927390421332, 88.19344249214406, 94.65282300138884, 123.44675514663767, 115.58876370221388, 111.26985212281181, 227.8208526547364, 83.14150691979762, 108.01154029419962, 304.41222073151687, 207.3935501157956, 152.09790698609484, 60.938921405699055, 196.2487093248821, 89.82254566550495, 102.92313537791375, 252.2421735776728, 290.03873670359934, 174.24440384009796, 211.94947982013232, 125.86063796932065, 194.07829236392448, 231.99900311675736, 167.9281393745515, 130.2150827169149, 192.49756861171025, 222.5792992753547, 202.47504859303177, 214.2409761577372, 146.3330770749904, 11.058823278235211, 10.459836323331919, 10.837847143155994, 29.605222640557006, 8.94080048279914, 11.354479863930079, 9.478037644609536, 34.246575370701976, 7.92591402566343, 6.423732611553571, 8.917688020726061, 7.561035569661388, 6.518910969944971, 13.347371255018546, 7.992205361597342, 8.400619595374259, 5.296378151388483, 36.45494414555581, 22.328060961458696, 4.703577180062651, 5.132159172945023, 6.998577871905214, 7.835425796664693, 7.728591760020185, 6.059603333953597, 4.821143909344244, 9.598338369495673, 9.020097549013313, 14.568148462811145, 4.4493774073581855, 29.52378550714514, 13.024379909880087, 12.430649266940438, 10.45615283922619, 22.22912845015409, 70.50991928134188, 40.34243107279438, 44.83367604436357, 21.4276748895279, 19.894142026024028, 21.31800955024407, 34.78951523018517, 40.87508046159559, 42.465497166834275, 40.098001868521145, 50.78822187498041, 181.3488447788372, 95.87251304751008, 48.914203878028694, 47.9494971195432, 721.0927390421332, 76.71844290374706, 77.48205630012114, 304.41222073151687, 104.20909941719606, 103.89088799109655, 144.20674915418812, 113.82829806479928, 124.69698169231964, 231.99900311675736, 192.49756861171025, 227.8208526547364, 252.2421735776728, 174.24440384009796, 222.5792992753547, 126.74816752004773, 109.43122033285863, 214.2409761577372, 146.3330770749904, 207.3935501157956, 290.03873670359934, 108.7449928731896, 119.48210683888394, 55.20290484594863, 33.36331531028197, 26.008581469541195, 28.147293588081958, 14.521105933650082, 15.652099550653787, 12.512810211564512, 23.786389261299153, 11.233608760157887, 12.507815735176504, 8.23138800508197, 9.036706489447525, 7.31306088954239, 7.460328234212013, 7.472836993615075, 86.23956706923558, 12.178090620114686, 8.096773051396717, 11.223270942980614, 6.177472400750437, 8.879485287412104, 6.891940449397965, 7.308406858719528, 10.405072900582967, 5.967020541272842, 5.861575757333443, 6.490531540794964, 6.749974300894387, 9.42596139001996, 8.054525834059723, 31.784333185181808, 150.79552285967793, 19.364172465959967, 9.545901801774733, 37.45608045694741, 11.00187599899742, 91.46008013932261, 43.557678010535575, 22.616944915934955, 114.83442998235653, 48.58782624561256, 15.039512034102588, 119.12759222172323, 35.61303069683015, 15.09861783535736, 93.70349485354843, 84.75283611075521, 85.47759545331807, 150.5174504369858, 22.665503303889416, 47.22122535444293, 23.28348502207526, 118.41596725075014, 222.5792992753547, 150.1787253670078, 109.27957693217567, 721.0927390421332, 290.03873670359934, 136.7094865093154, 134.50863095667896, 231.99900311675736, 100.02690146717148, 35.605330588145726, 19.250559023761408, 14.83751473015802, 11.489145332322078, 11.750559907254695, 10.861948425150514, 19.73644856463043, 12.884448398243597, 7.5983173772179295, 7.096149878488787, 8.09360255952169, 21.18085301607052, 5.122210973043901, 14.938862735933391, 5.090147726956638, 5.608867588972714, 6.3097659918665965, 4.224489033426497, 8.63869738794803, 4.130606055590122, 4.129926979179191, 4.496750152750547, 4.057955061339838, 6.29343416915842, 4.588703324408306, 5.42277961980372, 3.9733619088055723, 4.0165340558099585, 4.211288762931037, 9.524957880507637, 9.064873856127605, 29.29559458022444, 8.09677352590293, 5.8699521416881355, 8.298173755419606, 46.97563739050822, 15.60679032375241, 7.269790853984266, 12.649582101570722, 15.458871512278407, 94.04460169473946, 29.330757580619128, 18.897551597242927, 17.776751000405653, 48.60328575297989, 22.398944342464407, 24.85658242115043, 61.072012922457304, 56.85037836399815, 111.14952675235475, 37.483226675115695, 40.199180395848956, 129.9921913732734, 65.8399005127002, 36.45377026269916, 46.853998418399485, 153.77660342764892, 107.47284145147736, 77.77363255805335, 194.5627518288147, 141.16456739670647, 128.3509152995539, 96.12915681723108, 317.32700812039826, 180.96323456874487, 96.44016799845548, 129.2342329771287, 60.41292624938249, 146.17179730780083, 15.170775710109433, 19.974674760748208, 15.273319623056029, 11.082827303187525, 15.394301770311625, 8.617415589942997, 7.273358919022352, 10.562100107905392, 7.8069093342120786, 6.703645991696474, 11.451804481723102, 6.923219371983936, 6.268774651735324, 7.252176598045902, 5.1663044571575165, 5.93158866002244, 4.587320041046581, 5.403114602753005, 4.2867352167762665, 4.231909882827885, 4.227317197890965, 5.165646798634023, 4.248150268103067, 4.207242867958589, 3.752250798724529, 4.645956263198748, 4.641941136929923, 7.067019397958724, 22.823971323009065, 3.0001779510529567, 8.114657898447094, 25.123859523509, 8.199586446478083, 11.219889412146482, 97.20349025221944, 22.68386948719316, 18.744944972660093, 7.323608754477171, 12.80928706806758, 90.71727057908727, 18.175650951021066, 11.839666434695955, 246.6420010965785, 41.7747224585058, 16.490960219249132, 37.311863510060974, 19.631077081827243, 53.26895495889825, 19.94468988692112, 81.05593940323166, 24.652891992553158, 41.462333114811074, 110.06032186178066, 24.97850739346247, 111.45015069769723, 32.6474396080739, 63.81791196987566, 42.51632766163548, 93.82037111188112, 78.10068626211586, 194.07829236392448, 202.47504859303177, 53.014146519277425, 37.219838004454694, 196.2487093248821, 118.90655395153564, 194.5627518288147, 47.83036800261176, 83.14996517215194, 8.614583558150871, 5.011534762896305, 5.200709828758069, 4.786185033573004, 6.559980466308428, 3.375755879808953, 6.2834862592431575, 3.239335433620202, 5.796076015799564, 6.261694636653722, 4.367038809999874, 6.239677840115531, 5.3578757910645445, 6.672184755924926, 3.6219257595082692, 6.436553416944129, 11.741885036181975, 5.498783680659242, 4.059620863912967, 5.655293449305934, 2.6064422802236225, 3.247418211806935, 2.4327794253130333, 6.259622415759586, 3.203593498780378, 3.5595348913565963, 3.6867979125883195, 6.296773067571426, 2.347744298452046, 2.1506217141541204, 5.538440788807396, 8.921683607188575, 18.028400600551755, 10.139873247189538, 15.306890017714057, 21.68429241685305, 8.731199581524123, 8.415909753085455, 6.1001103467488385, 14.04981948853329, 11.187862219395088, 54.30236293203285, 15.97639573927046, 26.22178282878, 117.30249094435945, 18.016866645405965, 64.8304249342435, 11.662655384718049, 13.34451704229039, 33.8681162021995, 77.48205630012114, 95.88262378629875, 214.2409761577372, 25.10286987401668, 721.0927390421332, 181.3488447788372, 39.80040425316657, 58.89411368716911, 304.41222073151687, 144.20674915418812, 24.339348939693622, 290.03873670359934, 150.5174504369858, 180.96323456874487, 192.49756861171025, 222.5792992753547, 118.5705408799632, 231.99900311675736, 252.2421735776728, 105.45930809659926, 202.47504859303177, 96.12915681723108, 95.87251304751008, 153.77660342764892, 14.99223413382834, 9.74284995642404, 7.520516674902403, 19.71262865138516, 5.962634663990014, 17.982168682083326, 8.204190046042434, 4.373917302948499, 8.730672773273936, 3.6626293891869808, 4.052700644001177, 3.8928082660102383, 3.505860096163134, 3.9707183636774817, 3.6310463507402813, 2.9456331745940982, 2.793156837643072, 3.226944036383893, 2.697027554690115, 2.6963641037650237, 2.6490390587397967, 2.9045115893710767, 2.744465080233309, 2.776765522314881, 11.066343781558539, 3.1469403296123852, 2.3013740726830414, 2.6746712055586004, 2.225651405226845, 2.0848991132078725, 21.49462492665699, 14.398525973776263, 5.961113271813756, 11.566698481806418, 15.673030896551904, 7.506258496647407, 23.380056819600874, 7.860394840826756, 21.6360000814948, 6.3805854812770395, 4.9066706522118535, 11.26399612948039, 36.281555186044685, 11.93448890870976, 94.04460169473946, 9.215615571811336, 18.210230012762455, 39.3522046024057, 73.68809412944988, 61.533855718357174, 33.370157161131196, 16.901495811796668, 28.109285202410916, 141.16456739670647, 214.2409761577372, 58.89411368716911, 180.96323456874487, 153.77660342764892, 129.2342329771287, 124.69698169231964, 95.88262378629875, 47.462273958797795, 118.5705408799632, 134.3274666939778, 6.556273811488528, 4.281965662728323, 4.505744695600134, 17.23536328128924, 4.12382682667185, 8.718733337907194, 8.640912356991356, 8.641179313004518, 8.641593296283883, 8.625070866079268, 6.771085842953034, 3.4733912123822828, 8.651977596480664, 8.884540809464204, 8.657458047188, 3.5814729119796285, 3.5540323033541954, 7.770800002120447, 8.664519910561147, 3.31631081948486, 5.817947931964002, 3.3738094681109287, 4.955617222539617, 2.752498757501061, 2.7511515995920712, 3.7097910272537984, 2.6027328350549253, 2.623235996754657, 3.982347397064249, 2.558643776888594, 3.455391735886332, 49.07509431005534, 34.156198665274495, 28.274017747160595, 8.175338853075091, 9.639461435971826, 9.871375717094114, 33.637701446304874, 23.96842932546391, 11.861849519534873, 20.05170953138971, 18.624634228552594, 8.185880563331427, 8.708003906437686, 10.4871684326593, 57.29282247658391, 134.3274666939778, 39.04769847874307, 52.57288400876455, 26.349484814730022, 60.217548767576844, 30.469196004869087, 27.02356487509754, 157.98057543738764, 45.511938670717385, 30.225413976511206, 119.25929287454356, 86.0540947912214, 33.30111946884178, 41.378284783935165, 43.75225699581917, 129.2342329771287, 118.5705408799632, 180.96323456874487, 116.20080753202791, 61.973032765322195, 13.180299164467804, 11.09446512032228, 9.694346173886789, 13.242548383483289, 13.224392101682499, 9.362314878477475, 3.8209827388120305, 11.030749128585917, 13.566900670469119, 7.632819990299754, 4.4554142065080535, 13.901328647311473, 6.165545618083067, 4.012472291493871, 2.5573028287163733, 2.695041629131076, 2.3162548017045843, 3.642507065186175, 25.228473270001594, 7.228853803793146, 2.2185711913377317, 3.1808334851439732, 2.1372655731281567, 3.5042677286322315, 2.2707656099281825, 2.6693684136206786, 4.166737571718582, 5.944084269432413, 5.943718167598439, 5.938731063088943, 5.547291539071186, 5.547409198820306, 5.550012676813655, 5.467378265749713, 5.468752635141039, 23.35608570555053, 8.982238181203842, 5.468854811024258, 5.502274581104761, 5.646847850857761, 5.613796774586044, 19.666717542812606, 19.019460293424256, 17.892885685640895, 20.503917636396572, 22.594108265798404, 26.140668542941942, 7.034219216698996, 28.692337466941666, 30.80290367693955, 53.60824675063076, 16.685841153751735, 32.74920525737522, 128.3509152995539, 104.10450119668758, 211.94947982013232, 31.38532625754215, 97.82560596882612, 246.6420010965785, 78.52034958765057, 45.79938487474051, 153.77660342764892, 96.12915681723108, 4.9547856971503474, 4.515883598380437, 4.714485984616779, 6.408316705725973, 12.526289670286877, 5.552744801390267, 4.292180265494395, 8.06901967084854, 3.1490715225038235, 3.5241767999086266, 2.8251655120210932, 3.3497112615481996, 3.2054050168409804, 3.179814535911121, 3.18973570552278, 4.3713143062743045, 2.768036208177542, 2.288824098768, 3.529531152492197, 1.6263206621539867, 2.3546820522168503, 1.5560549858267732, 1.5102524823143184, 5.079485688330788, 2.1204081671015933, 6.164626836284483, 3.388248358701603, 1.3645043603172533, 1.5691087828982013, 1.4866015323120385, 4.291550111065735, 4.527902389491467, 3.230090305576782, 4.179771142994191, 7.048258693021273, 2.6989746946698068, 9.392535318307235, 11.248075065658494, 18.50622608159241, 9.95806831876807, 96.12915681723108, 31.989081896833724, 14.046627846887349, 33.11389308440074, 49.93262115023119, 83.14150691979762, 102.11529852240533, 20.52302670077442, 135.1546586758995, 27.393869522769734, 63.15812731888022, 721.0927390421332, 180.96323456874487, 134.3274666939778, 111.14952675235475, 211.94947982013232, 86.68437567006143, 120.32343921548738, 128.3509152995539, 119.25929287454356, 7.9068454985695125, 5.872962794016743, 4.753216047656851, 2.925692194176065, 4.4748546875665465, 3.839443451985502, 15.584582849136984, 5.396267917585321, 3.8021104250743525, 2.222157700531611, 2.221790966444273, 1.7623987843583704, 1.7551349505282, 2.9172561006647895, 5.131935915746755, 1.6669350212575278, 2.0467361391778254, 2.0471073872129173, 2.6492160295164817, 2.1241369163469512, 2.138771100914528, 3.8499710501391453, 1.3673694998485961, 14.01819527921535, 1.2842583283160585, 2.859759092893066, 1.9238729856140961, 5.3379366549951, 1.175552746271148, 2.5006908546211655, 3.467515918999905, 5.090068802510449, 3.6633233043579425, 11.445621283102813, 3.7533009696030835, 5.192205562863845, 19.8667880519768, 11.086733108886834, 13.19471157306297, 12.14177587695012, 43.895821114873804, 29.95977128801658, 23.11332726884427, 7.308056861579384, 23.226693157925226, 18.52695766040002, 9.676522567054265, 37.88329848989194, 10.31419398869846, 75.98288653799705, 34.4871012577292, 290.03873670359934, 150.1787253670078, 54.06576788092937, 205.59244811158928, 136.7094865093154, 130.2150827169149, 317.32700812039826, 3.114187448002364, 4.270056860122216, 5.114714251500647, 2.646501531185468, 2.2410795717421483, 2.846233886125437, 1.8947919384196725, 2.4463014310340427, 1.6925425795116846, 2.2696470447143353, 2.2350796483180666, 1.9067934316782358, 1.5485814300127003, 1.6113082989861283, 2.3340133958326157, 2.382330676635272, 2.6219934217857883, 5.886139400135867, 3.834067123972742, 1.3359514614315784, 1.9783707728871727, 1.535415986630928, 1.5347542673570387, 1.5343386754334234, 4.120056642637233, 1.224461469531921, 2.7184514918044327, 2.5251222709024965, 1.7584960531219866, 1.3445023194615053, 2.296489685158264, 2.1946033994969394, 2.8131898101580446, 3.073377526809199, 4.110355056739989, 16.355894792769778, 20.665373833946628, 97.20349025221944, 16.07123722085247, 5.086342837243908, 15.380794123760078, 8.922263277861257, 15.407474981082416, 25.265762326816972, 7.124513531853181, 45.35739913979808, 17.831485705253655, 110.06032186178066, 72.47990909385258, 28.904917642567035, 24.652891992553158, 120.32343921548738, 9.287097444286337, 111.45015069769723, 90.71727057908727, 63.81791196987566, 246.6420010965785, 24.45720297769707, 34.25820373816745, 19.686790484741618, 194.07829236392448, 149.8502066319724, 95.87251304751008, 181.3488447788372, 54.56952918499352, 194.5627518288147, 121.44948838881216, 78.10068626211586, 721.0927390421332, 89.64453813261704, 5.119972987970246, 4.856506839338269, 3.876897732852461, 3.3275795696842136, 3.117435237615477, 4.2873085187978885, 3.194556655139697, 3.1948078246985196, 2.906296618790023, 2.9067099201027045, 2.5268484264786855, 1.9364911197951087, 2.097449277117535, 2.1086007604896486, 1.7872711511161445, 6.463102320770132, 8.072994346471836, 15.711425775801034, 1.7937464801642429, 1.7218990813584898, 2.3674261272517727, 1.6982220942419224, 3.1438903965787546, 1.9446033548177002, 1.2427553915509473, 4.423827884707992, 1.4940508453205832, 2.25375465940446, 1.825585443282453, 7.730879383667791, 4.1063434789718665, 5.451171797851187, 13.310722783180825, 23.756814351017297, 3.663137554518917, 39.239043444299426, 49.3838444575254, 21.490635531664168, 48.914203878028694, 5.052411933767645, 24.908796513209047, 20.421699863605728, 15.609432216417337, 304.41222073151687, 90.71727057908727, 246.6420010965785, 102.9067232145869, 128.3509152995539, 196.2487093248821, 721.0927390421332, 290.03873670359934, 222.5792992753547, 4.744975677507427, 3.4677768838431673, 4.116605908452859, 2.8680543872989324, 4.239383932645477, 2.511186968490965, 3.966823286691512, 3.015161934315639, 2.998605136756835, 4.7880131909051755, 2.105799412850644, 12.213774590692129, 6.649410245428576, 1.824376639808591, 3.3497701701483233, 2.6117225193306663, 2.5673612764137466, 2.202652337767553, 2.4898827324747113, 1.6937191854566684, 1.8510794576755276, 1.705599275276149, 1.59187745858197, 1.5911565012850808, 3.826987602211653, 2.1826573110120475, 3.235530798061925, 4.949348540098701, 1.4864755892964916, 1.7770963556984092, 6.830206813676786, 2.008069920765031, 5.13327737157074, 56.85037836399815, 3.2917826841530715, 4.8450215359207585, 2.925292716357109, 29.330757580619128, 5.462614391365641, 6.93462983637583, 6.848134635562071, 136.7094865093154, 23.6927899210144, 111.14952675235475, 61.072012922457304, 15.002284403427492, 9.828160767712905, 18.989360071941586, 24.37014613093677, 48.60328575297989, 67.07427479763892, 40.540506356895065, 16.49580626247821, 61.493720414798396, 146.3330770749904, 194.5627518288147, 32.27136438589054, 202.47504859303177, 149.8502066319724, 721.0927390421332, 116.20080753202791, 9.84910818115961, 11.365472054098019, 7.7155390009196125, 3.9031103241655676, 4.016206925030058, 3.450122928523624, 4.9653895490173605, 4.1405698136980424, 2.632104438827733, 3.398729011601849, 2.554486105048124, 7.010676819414655, 2.468797484857023, 2.9546190530778147, 3.298840897243131, 2.223939347226369, 6.14257678809609, 2.0364858944738375, 1.9991177627075, 2.062101930692204, 1.8890299745326564, 1.6727794916309988, 1.4191751220252646, 3.1300269697037875, 1.4010614572625002, 1.3860703209797443, 8.000216144965599, 1.5799751967352735, 1.3671252193892485, 2.056371860713164, 86.0540947912214, 21.79982306642481, 4.335818406862359, 13.14686644540241, 13.640930395397161, 8.980079713440196, 21.1845991293837, 17.599960943104374, 17.932504459988206, 9.264737907350964, 18.84153309441144, 41.0552764698075, 24.349463461102125, 75.99057340184021, 37.87862653822822, 14.540065911278296, 24.204963567972456, 32.58462083554595, 134.3274666939778, 29.859235672470827, 114.83442998235653, 77.35977424926405, 48.474576583176194, 149.8502066319724, 4.906055302487817, 4.6167403747419, 4.443329857067615, 3.66551601648646, 5.252090609637915, 2.9223496478343494, 2.9760666160961926, 2.6728615248397984, 3.4580952285800763, 2.728004219064183, 2.841033444677188, 3.1286071547273964, 2.6289251521916444, 2.6048615945569202, 1.9936549181134084, 5.355468877520975, 2.169762959462555, 2.5309143983369715, 3.5462543850290715, 1.520830074033936, 1.5548049695792177, 1.5646311963868749, 2.9339796811538297, 1.3569616327380716, 1.6451791334256571, 4.10328199906592, 2.985594550919479, 2.8293823503451763, 1.3498221945022117, 1.724152848258004, 4.259980992823541, 8.141246998808295, 4.539865682764649, 8.3585120795356, 5.245465987650861, 3.2125710372564042, 20.319439772241445, 41.68138851828696, 9.802037457811618, 8.780769864045718, 24.572527216953684, 19.301889540694958, 49.3838444575254, 24.37014613093677, 44.4465553077603, 28.082294437056255, 16.50098509687637, 23.756814351017297, 118.90655395153564, 194.5627518288147, 48.152948134494615, 58.845995631788696, 180.96323456874487, 61.072012922457304, 21.76382222273881, 214.2409761577372, 44.69368389070661, 7.124410988823219, 4.5611898731404095, 4.420981982531718, 3.8916080780670055, 3.40704329526287, 3.698370023604388, 3.6497449454991178, 3.4083925873648155, 2.6156932999388793, 2.5960509134302105, 4.173426972796036, 3.083903611773906, 2.4399315646279875, 3.006208190892496, 2.6149754082302814, 2.7005531437868484, 2.000388409577844, 2.144790655341649, 2.8265298971233976, 5.737532056863322, 2.0171705354935177, 2.0126356066139888, 2.015711824463591, 9.426698226957448, 1.829844150950539, 2.038358752159152, 11.43683978806444, 5.634851147154047, 3.2298749262692916, 1.5226590764309702, 2.8073946831173813, 4.148323551783441, 4.371821864849868, 5.495743250176283, 3.7949804953552495, 5.334866152188361, 3.5949691591856876, 9.582348756357538, 14.904828007778283, 16.092616738446974, 46.97563739050822, 40.891775817423024, 20.989793225919993, 40.7017042893007, 23.226693157925226, 8.142021294506648, 19.072327748979987, 9.727767276953204, 119.12759222172323, 20.405530649543774, 10.655555113866491, 24.052443078025387, 7.854135887996341, 9.089345021503405, 9.662049240084091, 5.028700377210042, 5.897751561689844, 3.506237082009069, 6.666972286912475, 3.49989765575534, 8.637942989261866, 3.0708629325702392, 5.870047379595575, 5.084126172882673, 3.5782667241883748, 2.7782356365485827, 3.3736071585007315, 2.1048880957372003, 2.7257488343541314, 3.7066520670451437, 5.738830337097179, 4.901012705960364, 3.3158836550918767, 1.8502744594291232, 2.6889828544986267, 2.8036038194784436, 2.202150131749471, 2.7544067592404207, 5.263128319408442, 1.6416362358421446, 1.5389010554887357, 2.2294880464294256, 6.168030048512825, 20.319439772241445, 2.8948756430795686, 29.160045696334127, 3.773690084305395, 24.204963567972456, 21.1845991293837, 8.534945828279206, 114.83442998235653, 9.384369388851702, 134.3274666939778, 25.10286987401668, 84.75283611075521, 15.790542602563766, 17.932504459988206, 150.79552285967793, 86.99356748925817, 24.285652526210786, 17.442326131294443, 91.46008013932261, 128.3509152995539, 43.26078675608247, 32.58462083554595, 150.1787253670078, 9.976498349799694, 3.64060143826142, 4.7174269388491155, 2.8724110224469093, 2.8192723994799325, 2.2743174501337453, 2.3849383207922905, 2.5384451347528594, 2.7336171617716407, 2.8197463408025, 1.9066820376407396, 2.5712915187233967, 4.453405103293498, 1.8465034938546319, 2.4964809692921306, 6.665004452062786, 1.884907615998706, 1.7936808678143492, 2.1392117975904585, 2.1268311765872387, 1.6494505472302081, 1.4326890990887096, 5.137672860186668, 2.1055797836839116, 2.2403383762562465, 6.609390672700142, 1.3815276405071002, 2.156167683606945, 3.503794899667876, 1.2624033716970728, 2.590842383226057, 6.232578513285919, 4.470565935259196, 29.160045696334127, 3.3919725271354566, 5.0760667192353015, 14.904828007778283, 35.597250633140376, 44.414611930636255, 57.051883979433924, 8.96055092744103, 721.0927390421332, 7.488709941363165, 109.43122033285863, 16.905965029090314, 290.03873670359934, 192.49756861171025, 167.9281393745515, 120.32343921548738, 77.48205630012114, 227.8208526547364, 304.41222073151687, 119.04694277577457, 121.44948838881216, 222.5792992753547, 214.2409761577372, 97.20349025221944, 152.69329751765324, 4.998700059086215, 2.7850367212149982, 3.741751684946096, 4.054873883465377, 3.842526668689019, 2.015677490562367, 2.097831672550682, 6.763181957997922, 3.2975865721123814, 1.7432119078101966, 5.070944905957386, 1.5530928482972395, 1.8166948498676683, 1.5112808402299063, 1.511273288473643, 3.5672835041030426, 3.6639448297132677, 1.3661922621159774, 1.3149161743481956, 2.906682359575955, 1.2827878579629515, 1.282755138249963, 1.2827214418291237, 1.2827142630264232, 1.2827131398123952, 1.2827022983552558, 1.2826616673086788, 1.282654732682941, 1.282641693633138, 1.2826357357152505, 5.106970673489331, 2.9555591687415568, 10.583801451594937, 1.6905864880184405, 2.225550062000727, 2.632187763044875, 3.7102770290416993, 1.8144040674860975, 3.5228273573567415, 3.1016527416926394, 2.083957726992114, 3.7541036787330144, 3.042690650167098, 18.38588288830253, 12.36769198434565, 38.31044032826902, 4.729359426261782, 12.41063775128634, 19.35542624383237, 12.86394086643142, 15.379802305724448, 102.25346159932946, 11.352721283266, 4.404410114759952, 721.0927390421332, 11.55034815815152, 31.83734539976018, 90.83811082221301, 70.18404015572338, 18.383729290133, 53.26895495889825, 63.70470711003423, 290.03873670359934, 4.671895496262266, 3.3071448018089593, 2.7452178537853884, 12.32424811175272, 3.750606084218487, 2.0953116952232476, 2.0557780374833112, 2.2353685395998335, 2.228186902752452, 3.4606911201891473, 1.7688026774173153, 1.8927543350904916, 2.562990493680653, 2.4848466368973705, 2.485083431049382, 2.4852948309845466, 2.445237721462505, 2.529446859414076, 2.81336103671635, 1.613860352767321, 2.5775972024561584, 1.5943612261983147, 2.825083004622432, 4.401834655907751, 2.7340692502755943, 5.168229768440865, 1.3215893613605751, 1.4743951631256202, 3.319897481715313, 2.5021811536791954, 6.386430583872399, 3.1073807618808686, 6.514758949492444, 5.548410225666863, 4.813992792681413, 10.53565312899529, 12.788947656070933, 7.505987193847554, 44.83367604436357, 36.948521258148894, 7.031599920723141, 21.49887400172169, 9.05743777437455, 6.807994333918784, 3.9858613028240106, 21.6360000814948, 10.179595977539744, 53.58619463398346, 13.043919032755044, 34.90779179168407, 9.393442314701193, 36.07580281517232, 152.69329751765324, 77.35977424926405, 48.329500322939374, 65.11047073852349, 214.2409761577372, 3.2088464949160604, 2.4961094541024877, 2.453154959729863, 3.6657859537378474, 2.0031124654060735, 3.3506669229026746, 2.686346387160235, 4.144648696996787, 2.2780128832200837, 1.8912906376774525, 4.5912800590684855, 1.7533619416950714, 1.8836007320994834, 5.6382493665364555, 1.8495926628597343, 1.8869461474669793, 1.86247420577955, 1.8695526815476902, 2.043243478090796, 2.314196060432665, 1.8331855432234339, 1.800874142553532, 1.6048881661243104, 1.627686901640232, 1.8061996116732804, 1.8984688076802103, 1.3956635171703262, 1.667207689606367, 1.8694345983902942, 2.359194673258686, 16.70421327221967, 2.6575175683059826, 10.689963909619955, 4.4729557146407695, 5.417681812811504, 4.372562982277899, 4.130381759976921, 5.284775613221774, 7.6499477438680925, 23.88240007365237, 9.188947439429768, 5.079437256375514, 5.468077860482465, 6.24027613735439, 44.88953349074008, 22.853099694317738, 11.948823525682302, 8.550540752435916, 29.68045300318402, 150.79552285967793, 18.892261917507508, 95.7390401940433, 29.128454080756224, 34.52536860987407, 50.49944707867847, 19.133991169886723, 28.133413915814163, 721.0927390421332, 47.22122535444293, 15.268124174099187, 71.7104487727555, 47.90311244996491, 5.324745607473385, 3.0011395992971193, 7.772989658741456, 3.6616205819133367, 2.224127287332187, 2.6107892799973933, 2.5745300405056537, 2.1283708943773214, 1.984277892807802, 4.3805573219969, 1.9313452400410027, 1.79581920863112, 3.8180341093686185, 1.853564166045541, 1.4543178581979115, 2.049232026227182, 2.5129254291850227, 6.843430182666963, 1.5176827360681053, 3.376306423023055, 1.315734345051399, 1.605973813636747, 1.3840701742554458, 3.0456380299616086, 3.2133490774168547, 4.873200591973014, 1.1197482645346717, 3.3467633139958752, 1.0654263101053976, 1.0644252419150915, 1.3951362429791518, 1.3436360128017781, 1.8079918765860068, 11.50430359675292, 2.884405686990378, 32.48397153849272, 8.190347508360567, 21.87656560953142, 8.030533600716758, 23.03704882977843, 61.96581963024848, 16.248329149676156, 39.2753433331353, 124.69698169231964, 19.709929399235676, 45.66881406962795, 59.65922207122891, 54.3698518289934, 71.59823883837922, 21.780744930739417, 18.563251330340062, 116.20080753202791, 290.03873670359934, 721.0927390421332, 62.97073051752207, 48.62689322603554, 153.77660342764892, 67.85003613111519, 252.2421735776728, 2.667899252904641, 3.8922361617147687, 2.18471181068027, 3.0684367390298894, 3.3815663237690186, 2.7776140845344943, 2.363508399362853, 2.1761641568589645, 4.363714840931489, 5.474742139706261, 2.5090668655062625, 2.8163610023469525, 5.448155956813726, 1.9179930826194296, 2.34733176475893, 1.381382715674218, 1.3601351626783613, 2.089588246669374, 2.7551932086847195, 2.5616041048392, 1.2397065910981475, 6.071173655730257, 1.8432672702517736, 1.0998945059944187, 1.0753328046858412, 11.352721283266, 1.386835384494553, 4.525165998167695, 7.160025712461137, 1.0065928525673964, 6.794910085714594, 3.679625768750256, 4.328730760718394, 9.57252742129189, 4.221147145377886, 4.809593084943879, 12.777217834845182, 11.950063874891661, 32.48397153849272, 21.15518938454014, 34.46442509404238, 41.06992924402068, 211.94947982013232, 15.116149738976304, 24.0539997565237, 23.650736783738278, 47.95757512782388, 27.38274027931108, 20.503917636396572, 64.13988589580289, 25.228473270001594, 30.80290367693955, 32.26791162377487, 246.6420010965785, 65.8399005127002, 22.594108265798404, 36.20213586979103, 36.63241994829231, 3.0249898962933126, 3.162619837789995, 2.667797770943229, 6.911232167572377, 3.8572818061191203, 2.214662612956337, 4.502368395092371, 2.7718569581336503, 2.776789491810437, 1.9708974093515854, 3.120134287056888, 1.9808698721278624, 2.019455190518218, 4.479652386324659, 1.6396980144887325, 1.542222772908476, 2.5364210220949954, 3.9171066764383076, 2.7482931184755763, 1.4810271250254212, 2.05157745946569, 1.8571569369123802, 1.6665019508711179, 1.7079058463561319, 9.230618534310892, 1.3463894027977985, 1.4301456283935543, 1.3336348194260463, 1.1645853430407056, 1.7364127242829166, 3.666098381613631, 2.162699052653465, 10.032112482424488, 2.8691291320868, 2.7210023398948033, 3.383496217269515, 17.124483350243644, 2.9056882958364265, 5.9386422410746205, 23.03704882977843, 40.098001868521145, 4.746541245612009, 64.41430871148667, 14.148383312124292, 22.07238306022429, 23.88240007365237, 30.181411133678257, 40.7017042893007, 304.41222073151687, 14.946887769165155, 104.20909941719606, 174.24440384009796, 721.0927390421332, 48.914203878028694, 167.9281393745515, 42.99550599100231, 77.48205630012114, 194.07829236392448, 290.03873670359934, 317.32700812039826, 113.00835013022115, 126.57216632239631, 4.115113655853294, 3.6323360274396457, 3.7452894462518302, 2.810423065511978, 3.692285619890015, 2.504958688971831, 2.143956180656421, 2.0878400851660173, 2.3170566900235, 2.394806695876598, 4.297549652677144, 2.343929522229311, 2.785941609510533, 1.8966535808160505, 2.0280299325564592, 2.5948762727824497, 1.763043926498554, 1.4795987990498094, 1.7077037877899746, 1.7075825635802402, 3.1468035507028143, 1.399933172038933, 1.4983202390244625, 2.3990511273022164, 1.336717169561119, 1.9901079462670248, 1.28224001478576, 1.2822224087263616, 1.2820692515901786, 1.2819437499897763, 5.845957803561736, 1.800014019058243, 1.714004195127618, 1.4160297366112158, 89.82254566550495, 3.0195221833632857, 95.7390401940433, 5.059157944748123, 4.966868714912792, 3.3536790886660865, 721.0927390421332, 85.43142521162275, 70.4017236740694, 16.257708907252105, 20.51280436656087, 17.979034048960745, 50.57966391359092, 31.411664033703552, 74.8405732118578, 100.02690146717148, 12.36769198434565, 5.685292182132189, 2.84633494325666, 2.366919599407757, 3.1382264835570703, 2.494667844833733, 1.8743389614095978, 1.9119795892893576, 2.948366333375533, 2.9810713564101987, 2.592226169779258, 1.9885991529417828, 1.8779432927746549, 2.5712202146366567, 1.448578208243414, 1.7198083205961305, 1.6087318510743454, 1.7687842435532894, 1.4058356718377831, 1.9265329197441243, 1.4479611957693208, 1.3300146287155472, 1.3298104488703295, 1.3297291457930844, 1.351839838980215, 1.3141374748501289, 3.5540607632600523, 1.3148843126478242, 1.8891810428200448, 1.5610545177238775, 1.4237391966331374, 2.153079336539291, 3.7732296167423365, 3.8530437064042378, 2.168881042654859, 9.368828587345028, 2.0673413634967432, 2.7061551535204837, 7.400445340372129, 6.847640681051948, 2.6692095600481887, 8.030533600716758, 39.239043444299426, 6.357894967793203, 5.96033081604538, 6.5381487310475785, 4.518791202472223, 31.0318127371632, 42.5514330184045, 9.713030579633491, 4.554274691049449, 721.0927390421332, 180.96323456874487, 12.54511908077005, 6.289153812022214, 3.0242458511930486, 2.4838244053492824, 2.3112032037388097, 1.821917380665621, 2.2957033505884583, 3.157013030774815, 1.703150497622978, 3.6811775772609767, 1.6783644290825959, 3.2073604385950585, 3.207921399117572, 2.4083084784530095, 2.084119330461621, 1.768834328409542, 1.9589881088952754, 3.4304742845830485, 1.2206130017762318, 1.2205506343585293, 1.220404378870478, 1.2190007226182602, 2.0623237619982477, 1.197495122398178, 2.8120290372449444, 1.2015966248168561, 1.2034136116446634, 2.259876783377815, 1.1691649083767837, 1.1690398903748964, 1.1689516840156942, 2.2486411028650246, 2.9458758714254096, 4.614522223053413, 3.7569357736684514, 1.3598679094978832, 3.857149856958626, 11.207364045778835, 4.715668756446409, 4.178639809722821, 18.216225117221825, 37.44761585283785, 39.80040425316657, 15.286947519858765, 30.10086155247367, 181.3488447788372, 5.653653200117228, 34.78951523018517, 14.52785107476548, 13.824188506436446, 95.87251304751008, 26.11283952209488, 144.20674915418812, 214.2409761577372, 109.27957693217567, 721.0927390421332, 102.9067232145869, 82.64596403310593, 16.12400158015554, 5.614883759296424, 3.612289398290445, 3.4622431310687705, 2.6759040776267122, 1.7351039720694883, 1.9262314778828726, 3.1907720469999084, 1.6912975761110405, 2.9507155876948605, 5.129327855483623, 1.3136453950855809, 1.3136235043102582, 1.3136205160456904, 1.3136062001735747, 1.3135924402576575, 1.3135631135681778, 1.3135206524135044, 1.313505433112566, 1.3134867390853857, 1.3134711723118229, 1.3134697824213262, 1.3134647788155382, 1.3133523366743574, 1.3133358664719719, 1.3108440555300942, 1.2927918356177417, 1.208291000492566, 1.3205583981756266, 1.4793183141476773, 1.2514937663033803, 3.5937087862902084, 11.982968254852992, 6.7187436506502785, 2.8982479821517346, 5.548410225666863, 11.510686200017606, 2.913572384586784, 2.0066011098563274, 22.141778888736745, 4.990307748030991, 12.827397443113059, 2.689347747881496, 7.308056861579384, 3.264818928305711, 6.2785002164639545, 12.433516764870054, 64.41430871148667, 2.5480608013811676, 25.573694928072744, 192.49756861171025, 131.09221200062936, 119.25929287454356, 721.0927390421332, 126.57216632239631, 227.8208526547364, 142.10859243830234, 2.922030191332315, 3.3806613161903787, 2.15545448865808, 1.800746198689006, 1.9079527425919511, 1.725970563799122, 1.6930093393713994, 1.6709693550348337, 1.6464206938356456, 1.7858353133411073, 1.5056058370713643, 1.3820123317219508, 1.8086698353098973, 1.3015448733936217, 1.3012881893389987, 1.3012494317466452, 2.7097994363093907, 1.297360556746757, 5.0668608399356785, 1.3984238415994539, 1.3908728219349655, 3.1729965569049137, 1.2906306819325681, 1.3010365602953546, 1.1993909432608942, 1.1774617213389926, 1.4470644788430338, 1.1784250049978386, 3.09996839375502, 1.1256306386446502, 1.5373795958263075, 2.537114623704301, 4.427513046960832, 1.6411255590210188, 7.763692902284903, 3.053534902831757, 19.8667880519768, 5.284281698918749, 37.88329848989194, 7.814131142677054, 7.0805167698966915, 4.476173110774055, 27.393869522769734, 11.249977068882716, 4.461252242144067, 96.12915681723108, 7.164481970457784, 115.4566963097073, 118.90655395153564, 37.44686991003664, 27.02356487509754, 7.135049326072754, 81.05593940323166, 134.3274666939778, 3.098732695637741, 2.7185876355154894, 7.233639045600278, 1.7421485899757843, 2.1455394337203426, 1.5925628188786969, 1.3708417814157068, 1.287578629740502, 1.222147464713943, 1.1917817478601738, 1.1767281852102298, 1.2658160482497436, 1.2415749551906126, 1.2773677412410234, 1.137822244270618, 1.2115796912836032, 1.150450937268263, 1.2126070113375484, 1.232940340435322, 1.2118560739208522, 1.9681649027403925, 1.3104781168822737, 1.2965598412448358, 2.343134760535572, 1.3465962587010232, 1.3867597024101963, 3.3907934491160705, 2.2887980864175046, 1.0028858886137568, 0.9749462633181692, 1.4157340949968913, 5.000992801904031, 4.832846051899533, 9.169275152613645, 4.99122164003862, 3.0807242907407546, 2.59199546566933, 5.30474168431044, 2.3663572719141155, 7.2858811982940885, 2.5206260808888397, 5.811500115272462, 2.312316656553072, 8.620589291929745, 60.938921405699055, 6.788304081186301, 10.009109382234628, 11.665953354614949, 7.989636222348705, 7.742429227613307, 6.862124893639124, 11.460758204814738, 12.579324323088539, 36.998531425160316, 60.41292624938249, 86.11727961162703, 44.414611930636255, 30.938745046032412, 721.0927390421332, 59.65922207122891, 43.557678010535575, 41.06992924402068, 33.16841798613131, 4.27670963687535, 4.49093421861333, 3.467830524667387, 2.2286388098884613, 2.9664719469255263, 1.9034232532399902, 1.7415215235406367, 2.0288789902358033, 1.9530896845231016, 3.0542053147245363, 1.9378416851686115, 3.5840628515428707, 1.7163232345719777, 2.191926271102462, 2.2827529811333345, 1.552587437286529, 1.3526287109602873, 1.5593312853120371, 2.781617767842452, 1.5285348000282737, 1.5680119066340026, 1.2674504191053892, 0.9891528662623464, 1.535645009218642, 1.0248412255210548, 1.4098700864137934, 1.0361848797919964, 0.9510366907736297, 0.9100527588437466, 1.00584199444737, 3.545649090792773, 2.418327428252719, 2.2251442346901573, 2.403500823449034, 11.947516863638944, 9.779383390462877, 3.5152073525217333, 7.2097690328455455, 11.94796347747765, 27.518796784320866, 8.51625044745365, 194.5627518288147, 14.59481832273514, 6.609390672700142, 18.09261708429065, 33.169657670808945, 90.83811082221301, 721.0927390421332, 207.3935501157956, 12.696316099677778, 40.937073226473444, 94.65282300138884, 8.480868550618101, 4.03618811599333, 4.753401619802992, 4.02623362877192, 2.8880771151515208, 5.980356111640339, 2.0758902823019767, 2.5031197312302815, 2.495818060516528, 2.788450258278963, 1.7728457057634233, 6.0050687428663725, 4.487261113510415, 1.5221105467117093, 1.4856811480752472, 1.446473518931278, 1.4462390973426082, 1.3992687750870285, 1.3994319355850902, 4.51432669844431, 1.8007013173970967, 1.9515499918582482, 1.7718864842254718, 1.3024494966903521, 1.1124165336084009, 8.021419819973488, 1.596289855880747, 1.4109275508059018, 1.689701049672538, 3.80868249045853, 6.774948367253164, 5.462614391365641, 6.061411917518935, 7.093056532150213, 4.698405013108532, 6.393690968236655, 17.932504459988206, 4.739545850703718, 35.653388170135, 12.673984815034208, 17.912158341684357, 3.5506628026498106, 9.371635444051718, 29.914813396436113, 37.483226675115695, 39.04769847874307, 4.783415563499288, 2.9140548931595744, 3.276720871160869, 2.514916981958626, 2.301887296883344, 2.1594335990247044, 2.038881992474376, 2.121441062524544, 3.1650655190213275, 1.5383952986154987, 4.190866818897328, 1.6707837488516177, 1.4103336197738454, 1.5468916358191707, 16.12400158015554, 1.3726317958484748, 2.0326243000182664, 1.2737514560604424, 10.36048919709195, 1.4479894979986727, 3.3301599904708943, 1.2271396312556908, 1.1526076325598182, 1.44220536230779, 1.523539854888692, 1.1813032854295076, 1.5487541137556222, 1.3735645899497455, 1.2072615666138151, 1.1730334566264216, 1.4913929980728362, 4.282187257624997, 14.816753950578999, 7.783012944143027, 7.610437214739212, 3.0028420427146227, 2.7040806301502, 34.78951523018517, 14.349027817255088, 3.9151999933677244, 246.6420010965785, 56.410082561759396, 119.25929287454356, 86.68437567006143, 28.03715164083536, 202.47504859303177, 6.263512466525687, 4.0718918527375605, 2.6795353309348893, 2.3376575199278027, 1.8748010975462326, 1.9758096764881141, 1.5622443180084042, 1.550674334161464, 3.5829578709216903, 1.4868388112355202, 1.4256478123690315, 1.3497104374685778, 1.2457142848273328, 1.1943729592235968, 1.1942904097154043, 1.1942306142383163, 1.1940915030300663, 1.1634457036650139, 1.265204068596945, 1.1912119288247287, 1.6578521913457405, 3.329447498396554, 1.930013876516005, 1.0057697930554843, 1.0032464180427745, 1.0030065599810434, 1.3883168850737617, 0.9721463318009074, 0.9721458908313123, 0.9721272231184553, 1.897278461394251, 1.9806326106368597, 6.807299165463734, 3.3190751416623905, 6.09653231723013, 8.720696036665752, 9.438065251041262, 3.549294948068609, 12.37052171762429, 20.68797445313223, 38.0570099469163, 4.245221983446083, 19.50064953013536, 32.27136438589054, 53.26895495889825, 40.27139869191545, 24.802248805190114, 60.217548767576844, 721.0927390421332, 55.031041368395876, 130.2150827169149, 20.106388931361945, 2.7170090777399887, 3.0460496951461242, 2.5607111619331353, 2.6582511406990026, 3.1501510619514215, 2.0446935537200326, 1.7323599321565402, 1.7008611458174123, 1.778494285906158, 3.432152321868013, 2.224751223523303, 1.7198058681803077, 1.5778558406388283, 1.7297956947718724, 1.8847723063441173, 1.6308830558713818, 1.8723311874767814, 1.696124518639782, 1.9247203129748318, 2.7432146606314767, 2.7441697276181714, 2.5893190045691363, 2.5892065572696943, 2.590098917890615, 2.5765374319838004, 2.8150745889251465, 1.5699348831104443, 1.5708971670373277, 1.5709372641193982, 1.5710524409500968, 2.670859656381769, 1.9647622979960124, 5.748554185650014, 2.3044141224210417, 5.578474027222119, 4.212973544564643, 23.756814351017297, 3.9496551674621245, 5.052411933767645, 5.503507766590479, 49.3838444575254, 304.41222073151687, 10.111198326534476, 3.265639687026766, 2.8117054449439043, 1.836141523403996, 4.197040069791499, 2.5683457914402195, 1.535240787452881, 1.657511403671909, 2.6508574970610397, 1.3931170202250678, 2.1893646043670123, 1.3108119581803104, 1.2115333271641433, 1.2078107174376016, 2.801328362745308, 1.04789684375932, 1.0477680891146501, 1.0477280492251502, 2.1309986495726494, 1.202803603314687, 1.0248104397886475, 1.0825618354145397, 2.0210766204570176, 1.107257156986667, 1.0921581159860236, 1.1043694388744552, 1.1569203178705865, 1.0409208478973344, 5.557816922062079, 1.2849814578718555, 1.0045063237679315, 2.752129396051037, 1.9155348931379952, 4.550373385069521, 3.8984922957481514, 5.3713767752862145, 2.9929095119497524, 4.662602550544529, 8.142020980199343, 22.89126602464723, 10.055403433201098, 12.297182591476846, 10.993553604502136, 16.050647209700404, 29.128454080756224, 104.20909941719606, 20.51280436656087, 16.146958299724115, 40.937073226473444, 37.0885935260055, 194.5627518288147, 101.36993315590264, 2.457674511929323, 2.5616587814871514, 2.165007725146458, 2.024499743546329, 2.4314396191849084, 2.159377580505157, 2.3131383829677277, 2.305351043800609, 1.6041935133257559, 1.5325384828549824, 1.4415156250032484, 1.4367848429420849, 1.3877569236098268, 1.2990504968337506, 1.1195498335183187, 2.1955913681540498, 1.3437141006257598, 4.893897746234301, 2.658032761440386, 1.4738876421640967, 1.0038397123854665, 1.0037639827577245, 4.963238134558363, 4.76850984615339, 0.9611982944035773, 0.9233909493274186, 2.587005476415531, 0.845418673868805, 3.597342786042587, 3.0350937405522855, 1.8755770658680047, 1.957284762391135, 12.542951963007615, 4.770371049598387, 6.535953588761495, 2.856232970541016, 5.106518370707158, 6.246089647023788, 30.181411133678257, 5.658469681409529, 39.96055491116569, 8.586312300088286, 11.688817759562406, 181.3488447788372, 109.43122033285863, 27.340929737508173, 128.3509152995539, 4.689739416499026, 4.248976860013604, 2.6837370473200677, 2.168640327714189, 3.8199971159157187, 3.114681711400158, 1.1790518452649192, 1.0990856347528035, 3.9687249911431017, 2.4672719928579028, 0.9706134830376776, 0.956743543411054, 0.8752393459980206, 4.324504520391797, 1.4926987831534018, 0.9823464239577434, 4.500918479342837, 0.8700297235461452, 0.7858349023652496, 0.872005164398341, 1.3637410790446667, 0.772568412409792, 0.7705184802643603, 1.2636231891973726, 1.8354788674933726, 0.7921437311165822, 0.7521162141527359, 1.4229241913943316, 0.7927723556354468, 5.536241056703039, 3.1833895355164135, 5.08116419132197, 5.106970673489331, 13.328190921546133, 4.63944655347589, 6.158052098262833, 12.778952755742203, 14.22152969916487, 6.026455925228686, 2.9242309924031566, 38.0570099469163, 17.48083751961207, 32.48397153849272, 36.05878238342306, 33.87458283934526, 11.708944030045167, 40.35371157930978, 63.955168902246065, 62.97073051752207, 202.47504859303177, 49.93262115023119, 136.7094865093154, 91.83158345342872, 67.85003613111519, 3.31616435062207, 1.746827088892753, 1.691310179078466, 1.616894760473781, 1.454700933330823, 1.3671198213581943, 1.3657589542109883, 1.8191363659124824, 1.188261755480251, 6.780833493251311, 1.3084203790418374, 2.040428403523384, 5.2913325584995015, 0.9503180423081381, 1.4385077028217752, 1.3777375543296886, 1.1353437640677384, 1.9346308032864863, 5.376599717989294, 2.5093342467439785, 3.0188614583201208, 0.8157404039217708, 1.097382812728154, 0.9122993894389602, 0.7617490108547404, 0.8403630250227088, 1.5733174188086938, 0.774155988951828, 0.9287837696655823, 0.7466680527286949, 1.5821127204549266, 3.1848982444686222, 9.796989184646714, 3.362730355563511, 10.183718857215506, 9.492031302703142, 18.563251330340062, 5.996631538332251, 18.154440667796116, 15.906140028616443, 18.766993304874443, 46.978945829757706, 18.52695766040002, 30.120086567814667, 36.97692191636331, 49.53219876697057, 10.073251633738533, 25.123859523509, 45.08193376962461, 48.419589736699464, 73.68809412944988, 2.387012654711681, 2.2969223224038697, 1.947757748261311, 4.657902643945628, 1.602969182280073, 1.6033941406924805, 1.2902951962941946, 3.626759822470345, 1.7382671506704714, 1.24629960761098, 1.0021243410915783, 1.0019680739597618, 1.1230267101796627, 1.0110921159036244, 1.4050001941963388, 1.3573431025852951, 1.1378393588429772, 0.9462296739915779, 6.38492361917206, 1.3699731447465178, 1.6276079916329946, 1.0814468819253522, 1.3543292128270537, 0.883482790146748, 0.8950867096206657, 2.2747139420223785, 0.8644342148589369, 2.2053495601501374, 0.8838844306949969, 1.2434928099090825, 2.6400666097355927, 1.3665349684671477, 7.45822718431857, 1.339375201581331, 7.034219216698996, 16.57150403735056, 5.179593529670856, 37.44686991003664, 24.802248805190114, 20.57731053336867, 6.152984777206406, 21.071921656426632, 2.5255253362854075, 76.71844290374706, 26.360919961039222, 81.05593940323166, 45.79938487474051, 32.45925202695069, 102.11529852240533, 7.4681230325666474, 136.7094865093154, 17.48083751961207, 109.43122033285863, 211.94947982013232, 3.2302366081551472, 2.4829826717759436, 1.6340269794172684, 1.7487542235302407, 1.35408942222897, 1.8878479992785613, 1.4176632240048173, 1.267297787201609, 1.2186192049470448, 1.1074717741010085, 1.0542590825143816, 3.1081336058211044, 1.1996502579283648, 1.135315395844876, 1.1741053772074939, 1.201359680636317, 1.4237137635264632, 1.0666575083059378, 1.2566884584210298, 3.998730808910993, 1.7988779694341945, 0.8582780505893471, 1.0246035776058484, 0.9464587066493049, 0.7926440716903077, 0.970666273901945, 1.2757607216788267, 0.8163485216261084, 0.8021165567422404, 0.802276499258023, 0.8904985928607009, 1.1008535594110578, 0.9303820468565888, 1.3201207796570074, 2.2051395827000286, 10.03982974215839, 2.9550529739299622, 4.661673161112307, 4.640886469311587, 13.02624631884825, 16.050647209700404, 113.00835013022115, 11.955469896062942, 5.989319649237374, 52.89455506386763, 33.39593725911712, 721.0927390421332, 144.37929035176626, 304.41222073151687, 2.114311939430431, 2.624745232917444, 2.2887002966756373, 1.4474739758843254, 1.7060904272473847, 1.3466725429653565, 1.7324554098313463, 1.479493397748666, 2.226376126106253, 1.2219491965303526, 1.321604266478075, 1.4015787112646363, 1.9444336060067895, 0.9848150233029516, 1.0330758941691964, 2.130841767321986, 1.0012453686832075, 2.1475014734189175, 0.9994297745995244, 0.9591220654977728, 1.1125852805147334, 0.9585965480514704, 1.1490747833980914, 1.4641236448776072, 1.2492424096917474, 0.9601139562323439, 0.7949368087218005, 1.6301519076785822, 1.0231170815004798, 0.8980507275966121, 1.1766480284880467, 1.9962013247469554, 4.037388885542303, 12.041768255665326, 5.088812955164856, 4.508318158076005, 3.7457483067668336, 5.2469731585682755, 15.03835393234454, 2.5576524458977183, 14.52785107476548, 11.930971105245774, 3.5132588727339362, 10.111198326534476, 16.36315622630122, 25.105921808511532, 39.239043444299426, 81.24459709103812, 48.87289443576863, 16.864014879899166, 136.7094865093154, 27.18281222397984, 152.09790698609484, 3.0083789673717902, 3.332291093443496, 5.111774178375513, 2.0628688120143557, 2.220190558112726, 1.7388213611883758, 1.194798611813307, 0.8678245091045403, 0.8661874893015867, 0.8948315408369926, 2.249630862345912, 0.861433881917118, 1.0010757580377803, 0.8918824630979977, 1.2578456620120186, 0.721568150988235, 0.8238390711456888, 0.8895219135699118, 0.7996149299651348, 1.161660855275568, 0.7126622983854454, 0.935694590092578, 0.7245852143732469, 1.5104964609878624, 1.0448396908582054, 0.6754100814234217, 0.7823179583788806, 0.9186254493004908, 0.8815202150230239, 1.3737774248259327, 4.190866818897328, 15.790542602563766, 7.756870019784247, 8.228992819413822, 18.46285616155874, 14.946263415451162, 4.809593084943879, 38.0570099469163, 48.329500322939374, 24.185032527967827, 15.711425775801034, 41.06992924402068, 27.965017418668573, 53.37459991256151, 32.55003050636105, 33.370157161131196, 72.74052506806369, 41.227870366692855, 152.69329751765324, 63.438366719596615, 721.0927390421332, 63.15812731888022, 136.7094865093154, 2.2797556052698504, 3.5983362920671413, 1.521036724904074, 1.439832554466548, 1.5206865684193185, 1.5578838839990758, 3.5041513811647547, 1.1422313398623396, 1.1343010460896779, 1.13429443527711, 1.1342568969567957, 1.1342313320662365, 1.134218202900018, 1.1342146894611709, 1.134165362628935, 1.1341046633499041, 1.1339105458535976, 1.1320893363353806, 1.1504619766145303, 1.116217516469447, 1.0903349710249783, 1.074769846787168, 1.1453489745241197, 1.2667715209785424, 1.1354020297503478, 1.068059339989355, 1.2029719799155365, 1.1020403682447515, 1.0693370715659556, 1.1119401786894914, 4.915201678138889, 2.734097475072105, 4.058566069574773, 1.8068048899110651, 1.6015400103922615, 1.6799249399293805, 5.1178199042510535, 1.4980640891185424, 3.0696433830019814, 57.29282247658391, 13.934045694324027, 1.9137879422509918, 2.7210023398948033, 22.19907390396037, 24.0539997565237, 3.526334600368614, 40.618482808281136, 11.92494139084304, 52.64988239042074, 252.2421735776728, 16.07123722085247, 4.614522223053413, 2.289048624265169, 1.8648056935726696, 2.3061742105959997, 1.8621339575890623, 1.5161402939672206, 2.020864891010643, 1.312212233758434, 1.171059870723302, 1.722412023501279, 0.9770850057232944, 1.8102878533193036, 1.4198703976903504, 0.9763963769863032, 0.8965798915099258, 0.8631775818973436, 0.9420251977213061, 1.1499340728500236, 0.7869379838339282, 3.9776227592485127, 2.734097475072105, 0.8660235177121322, 0.7717763399471721, 0.7419201919508418, 3.0018515998827717, 2.252228983494749, 0.7317093214949669, 1.7496257111130573, 0.7067326559072733, 0.70669081367812, 0.7275992763302168, 1.171163443130123, 2.1275736146883144, 9.99226199783877, 6.894920981124167, 3.876133603140439, 9.248144222142978, 25.14032903709648, 4.871883637458856, 20.691827154388054, 17.576085883669762, 23.57947831757763, 6.5705132441655705, 11.688817759562406, 41.5081931817846, 42.99550599100231, 123.2579475308166, 18.46285616155874, 78.10068626211586, 4.097393061135654, 1.4137940325392226, 1.2153190728268004, 0.9813411425060918, 0.9818748908146893, 1.0716911940365583, 0.9691516140287784, 2.2366819764341352, 1.368811764861907, 4.76850984615339, 0.8063827406102583, 0.9528574381663503, 0.8972567075426462, 0.7832703067580776, 0.7715229660346358, 0.7840642369984782, 0.7777988402056298, 0.7472286512850509, 0.7551008227855195, 0.7758188757336547, 0.7656309270540932, 0.8012565845450156, 5.9411780178747025, 0.8247136609018709, 4.076330337384632, 0.7940962644526581, 0.8410208846458372, 0.8577056824032254, 0.7214273706163082, 0.8644174667680021, 1.458407420693178, 92.7408564347161, 6.158758107843235, 4.341479586937751, 30.35219463886661, 26.146690369698845, 20.72386804167281, 14.929606095593238, 57.096387243688284, 1.8045616840118859, 45.21034048849344, 109.43122033285863, 194.07829236392448, 80.2632770355641, 721.0927390421332, 120.32343921548738, 2.654975000307765, 2.1703091055397348, 1.806276259176485, 1.299958408175381, 1.784322967816837, 1.1593980679241433, 3.2490704148796308, 3.19142841487291, 0.8523854264876107, 0.7820860754222417, 0.779131698616923, 0.7471528427008888, 0.8059206732252177, 0.8546326081543127, 0.8551337423060857, 0.9629048506171898, 0.8120350866841278, 0.8122592768882784, 4.416208319535391, 1.002132359758817, 1.0030440629878974, 0.981988719599432, 0.800843791521795, 0.8784106722765599, 0.8547260564777472, 0.6606126686217213, 0.7224612746980617, 0.6701631645063566, 1.4552677606345952, 0.8002344111161845, 4.28296999176521, 8.545836482967095, 1.164207305342601, 12.41401754939128, 5.91659826052199, 8.086863278312014, 5.106518370707158, 9.253951086670904, 6.847438878876653, 32.27136438589054, 28.158792234882924, 61.072012922457304, 721.0927390421332, 34.46442509404238, 63.19086979975503, 71.17253511329719, 11.44901649187828, 20.571171266783146, 25.07751360214112, 13.934045694324027, 24.448755736833572, 65.15690082291259, 246.6420010965785, 141.16456739670647], \"Category\": [\"Default\", \"Default\", \"Default\", \"Default\", \"Default\", \"Default\", \"Default\", \"Default\", \"Default\", \"Default\", \"Default\", \"Default\", \"Default\", \"Default\", \"Default\", \"Default\", \"Default\", \"Default\", \"Default\", \"Default\", \"Default\", \"Default\", \"Default\", \"Default\", \"Default\", \"Default\", \"Default\", \"Default\", \"Default\", \"Default\", \"Topic1\", \"Topic1\", \"Topic1\", \"Topic1\", \"Topic1\", \"Topic1\", \"Topic1\", \"Topic1\", \"Topic1\", \"Topic1\", \"Topic1\", \"Topic1\", \"Topic1\", \"Topic1\", \"Topic1\", \"Topic1\", \"Topic1\", \"Topic1\", \"Topic1\", \"Topic1\", \"Topic1\", \"Topic1\", \"Topic1\", \"Topic1\", \"Topic1\", \"Topic1\", \"Topic1\", \"Topic1\", \"Topic1\", \"Topic1\", \"Topic1\", \"Topic1\", \"Topic1\", \"Topic1\", \"Topic1\", \"Topic1\", \"Topic1\", \"Topic1\", \"Topic1\", \"Topic1\", \"Topic1\", \"Topic1\", \"Topic1\", \"Topic1\", \"Topic1\", \"Topic1\", \"Topic1\", \"Topic1\", \"Topic1\", \"Topic1\", \"Topic1\", \"Topic1\", \"Topic1\", \"Topic1\", \"Topic1\", \"Topic1\", \"Topic1\", \"Topic1\", \"Topic1\", \"Topic1\", \"Topic1\", \"Topic1\", \"Topic1\", \"Topic1\", \"Topic1\", \"Topic1\", \"Topic1\", \"Topic1\", \"Topic1\", \"Topic1\", \"Topic1\", \"Topic1\", \"Topic1\", \"Topic1\", \"Topic1\", \"Topic1\", \"Topic1\", \"Topic1\", \"Topic1\", \"Topic1\", \"Topic1\", \"Topic1\", \"Topic2\", \"Topic2\", \"Topic2\", \"Topic2\", \"Topic2\", \"Topic2\", \"Topic2\", \"Topic2\", \"Topic2\", \"Topic2\", \"Topic2\", \"Topic2\", \"Topic2\", \"Topic2\", \"Topic2\", \"Topic2\", \"Topic2\", \"Topic2\", \"Topic2\", \"Topic2\", \"Topic2\", \"Topic2\", \"Topic2\", \"Topic2\", \"Topic2\", \"Topic2\", \"Topic2\", \"Topic2\", \"Topic2\", \"Topic2\", \"Topic2\", \"Topic2\", \"Topic2\", \"Topic2\", \"Topic2\", \"Topic2\", \"Topic2\", \"Topic2\", \"Topic2\", \"Topic2\", \"Topic2\", \"Topic2\", \"Topic2\", \"Topic2\", \"Topic2\", \"Topic2\", \"Topic2\", \"Topic2\", \"Topic2\", \"Topic2\", \"Topic2\", \"Topic2\", \"Topic2\", \"Topic2\", \"Topic2\", \"Topic2\", \"Topic2\", \"Topic2\", \"Topic2\", \"Topic2\", \"Topic2\", \"Topic2\", \"Topic2\", \"Topic2\", \"Topic2\", \"Topic2\", \"Topic2\", \"Topic2\", \"Topic2\", \"Topic2\", \"Topic2\", \"Topic2\", \"Topic2\", \"Topic3\", \"Topic3\", \"Topic3\", \"Topic3\", \"Topic3\", \"Topic3\", \"Topic3\", \"Topic3\", \"Topic3\", \"Topic3\", \"Topic3\", \"Topic3\", \"Topic3\", \"Topic3\", \"Topic3\", \"Topic3\", \"Topic3\", \"Topic3\", \"Topic3\", \"Topic3\", \"Topic3\", \"Topic3\", \"Topic3\", \"Topic3\", \"Topic3\", \"Topic3\", \"Topic3\", \"Topic3\", \"Topic3\", \"Topic3\", \"Topic3\", \"Topic3\", \"Topic3\", \"Topic3\", \"Topic3\", \"Topic3\", \"Topic3\", \"Topic3\", \"Topic3\", \"Topic3\", \"Topic3\", \"Topic3\", \"Topic3\", \"Topic3\", \"Topic3\", \"Topic3\", \"Topic3\", \"Topic3\", \"Topic3\", \"Topic3\", \"Topic3\", \"Topic3\", \"Topic3\", \"Topic3\", \"Topic3\", \"Topic3\", \"Topic3\", \"Topic3\", \"Topic3\", \"Topic3\", \"Topic3\", \"Topic3\", \"Topic4\", \"Topic4\", \"Topic4\", \"Topic4\", \"Topic4\", \"Topic4\", \"Topic4\", \"Topic4\", \"Topic4\", \"Topic4\", \"Topic4\", \"Topic4\", \"Topic4\", \"Topic4\", \"Topic4\", \"Topic4\", \"Topic4\", \"Topic4\", \"Topic4\", \"Topic4\", \"Topic4\", \"Topic4\", \"Topic4\", \"Topic4\", \"Topic4\", \"Topic4\", \"Topic4\", \"Topic4\", \"Topic4\", \"Topic4\", \"Topic4\", \"Topic4\", \"Topic4\", \"Topic4\", \"Topic4\", \"Topic4\", \"Topic4\", \"Topic4\", \"Topic4\", \"Topic4\", \"Topic4\", \"Topic4\", \"Topic4\", \"Topic4\", \"Topic4\", \"Topic4\", \"Topic4\", \"Topic4\", \"Topic4\", \"Topic4\", \"Topic4\", \"Topic4\", \"Topic4\", \"Topic4\", \"Topic4\", \"Topic4\", \"Topic4\", \"Topic4\", \"Topic4\", \"Topic4\", \"Topic4\", \"Topic4\", \"Topic4\", \"Topic4\", \"Topic4\", \"Topic4\", \"Topic4\", \"Topic4\", \"Topic4\", \"Topic5\", \"Topic5\", \"Topic5\", \"Topic5\", \"Topic5\", \"Topic5\", \"Topic5\", \"Topic5\", \"Topic5\", \"Topic5\", \"Topic5\", \"Topic5\", \"Topic5\", \"Topic5\", \"Topic5\", \"Topic5\", \"Topic5\", \"Topic5\", \"Topic5\", \"Topic5\", \"Topic5\", \"Topic5\", \"Topic5\", \"Topic5\", \"Topic5\", \"Topic5\", \"Topic5\", \"Topic5\", \"Topic5\", \"Topic5\", \"Topic5\", \"Topic5\", \"Topic5\", \"Topic5\", \"Topic5\", \"Topic5\", \"Topic5\", \"Topic5\", \"Topic5\", \"Topic5\", \"Topic5\", \"Topic5\", \"Topic5\", \"Topic5\", \"Topic5\", \"Topic5\", \"Topic5\", \"Topic5\", \"Topic5\", \"Topic5\", \"Topic5\", \"Topic5\", \"Topic5\", \"Topic5\", \"Topic5\", \"Topic5\", \"Topic5\", \"Topic5\", \"Topic5\", \"Topic5\", \"Topic5\", \"Topic5\", \"Topic5\", \"Topic5\", \"Topic5\", \"Topic5\", \"Topic5\", \"Topic5\", \"Topic5\", \"Topic6\", \"Topic6\", \"Topic6\", \"Topic6\", \"Topic6\", \"Topic6\", \"Topic6\", \"Topic6\", \"Topic6\", \"Topic6\", \"Topic6\", \"Topic6\", \"Topic6\", \"Topic6\", \"Topic6\", \"Topic6\", \"Topic6\", \"Topic6\", \"Topic6\", \"Topic6\", \"Topic6\", \"Topic6\", \"Topic6\", \"Topic6\", \"Topic6\", \"Topic6\", \"Topic6\", \"Topic6\", \"Topic6\", \"Topic6\", \"Topic6\", \"Topic6\", \"Topic6\", \"Topic6\", \"Topic6\", \"Topic6\", \"Topic6\", \"Topic6\", \"Topic6\", \"Topic6\", \"Topic6\", \"Topic6\", \"Topic6\", \"Topic6\", \"Topic6\", \"Topic6\", \"Topic6\", \"Topic6\", \"Topic6\", \"Topic6\", \"Topic6\", \"Topic6\", \"Topic6\", \"Topic6\", \"Topic6\", \"Topic6\", \"Topic6\", \"Topic6\", \"Topic6\", \"Topic6\", \"Topic6\", \"Topic6\", \"Topic6\", \"Topic6\", \"Topic6\", \"Topic6\", \"Topic6\", \"Topic6\", \"Topic6\", \"Topic6\", \"Topic6\", \"Topic6\", \"Topic6\", \"Topic6\", \"Topic7\", \"Topic7\", \"Topic7\", \"Topic7\", \"Topic7\", \"Topic7\", \"Topic7\", \"Topic7\", \"Topic7\", \"Topic7\", \"Topic7\", \"Topic7\", \"Topic7\", \"Topic7\", \"Topic7\", \"Topic7\", \"Topic7\", \"Topic7\", \"Topic7\", \"Topic7\", \"Topic7\", \"Topic7\", \"Topic7\", \"Topic7\", \"Topic7\", \"Topic7\", \"Topic7\", \"Topic7\", \"Topic7\", \"Topic7\", \"Topic7\", \"Topic7\", \"Topic7\", \"Topic7\", \"Topic7\", \"Topic7\", \"Topic7\", \"Topic7\", \"Topic7\", \"Topic7\", \"Topic7\", \"Topic7\", \"Topic7\", \"Topic7\", \"Topic7\", \"Topic7\", \"Topic7\", \"Topic7\", \"Topic7\", \"Topic7\", \"Topic7\", \"Topic7\", \"Topic7\", \"Topic7\", \"Topic7\", \"Topic7\", \"Topic7\", \"Topic7\", \"Topic7\", \"Topic7\", \"Topic7\", \"Topic7\", \"Topic7\", \"Topic7\", \"Topic8\", \"Topic8\", \"Topic8\", \"Topic8\", \"Topic8\", \"Topic8\", \"Topic8\", \"Topic8\", \"Topic8\", \"Topic8\", \"Topic8\", \"Topic8\", \"Topic8\", \"Topic8\", \"Topic8\", \"Topic8\", \"Topic8\", \"Topic8\", \"Topic8\", \"Topic8\", \"Topic8\", \"Topic8\", \"Topic8\", \"Topic8\", \"Topic8\", \"Topic8\", \"Topic8\", \"Topic8\", \"Topic8\", \"Topic8\", \"Topic8\", \"Topic8\", \"Topic8\", \"Topic8\", \"Topic8\", \"Topic8\", \"Topic8\", \"Topic8\", \"Topic8\", \"Topic8\", \"Topic8\", \"Topic8\", \"Topic8\", \"Topic8\", \"Topic8\", \"Topic8\", \"Topic8\", \"Topic8\", \"Topic8\", \"Topic8\", \"Topic8\", \"Topic8\", \"Topic8\", \"Topic8\", \"Topic8\", \"Topic8\", \"Topic8\", \"Topic8\", \"Topic8\", \"Topic8\", \"Topic8\", \"Topic8\", \"Topic8\", \"Topic8\", \"Topic8\", \"Topic8\", \"Topic9\", \"Topic9\", \"Topic9\", \"Topic9\", \"Topic9\", \"Topic9\", \"Topic9\", \"Topic9\", \"Topic9\", \"Topic9\", \"Topic9\", \"Topic9\", \"Topic9\", \"Topic9\", \"Topic9\", \"Topic9\", \"Topic9\", \"Topic9\", \"Topic9\", \"Topic9\", \"Topic9\", \"Topic9\", \"Topic9\", \"Topic9\", \"Topic9\", \"Topic9\", \"Topic9\", \"Topic9\", \"Topic9\", \"Topic9\", \"Topic9\", \"Topic9\", \"Topic9\", \"Topic9\", \"Topic9\", \"Topic9\", \"Topic9\", \"Topic9\", \"Topic9\", \"Topic9\", \"Topic9\", \"Topic9\", \"Topic9\", \"Topic9\", \"Topic9\", \"Topic9\", \"Topic9\", \"Topic9\", \"Topic9\", \"Topic9\", \"Topic9\", \"Topic9\", \"Topic9\", \"Topic9\", \"Topic9\", \"Topic9\", \"Topic9\", \"Topic9\", \"Topic9\", \"Topic9\", \"Topic9\", \"Topic9\", \"Topic9\", \"Topic10\", \"Topic10\", \"Topic10\", \"Topic10\", \"Topic10\", \"Topic10\", \"Topic10\", \"Topic10\", \"Topic10\", \"Topic10\", \"Topic10\", \"Topic10\", \"Topic10\", \"Topic10\", \"Topic10\", \"Topic10\", \"Topic10\", \"Topic10\", \"Topic10\", \"Topic10\", \"Topic10\", \"Topic10\", \"Topic10\", \"Topic10\", \"Topic10\", \"Topic10\", \"Topic10\", \"Topic10\", \"Topic10\", \"Topic10\", \"Topic10\", \"Topic10\", \"Topic10\", \"Topic10\", \"Topic10\", \"Topic10\", \"Topic10\", \"Topic10\", \"Topic10\", \"Topic10\", \"Topic10\", \"Topic10\", \"Topic10\", \"Topic10\", \"Topic10\", \"Topic10\", \"Topic10\", \"Topic10\", \"Topic10\", \"Topic10\", \"Topic10\", \"Topic10\", \"Topic10\", \"Topic10\", \"Topic10\", \"Topic10\", \"Topic10\", \"Topic10\", \"Topic10\", \"Topic10\", \"Topic11\", \"Topic11\", \"Topic11\", \"Topic11\", \"Topic11\", \"Topic11\", \"Topic11\", \"Topic11\", \"Topic11\", \"Topic11\", \"Topic11\", \"Topic11\", \"Topic11\", \"Topic11\", \"Topic11\", \"Topic11\", \"Topic11\", \"Topic11\", \"Topic11\", \"Topic11\", \"Topic11\", \"Topic11\", \"Topic11\", \"Topic11\", \"Topic11\", \"Topic11\", \"Topic11\", \"Topic11\", \"Topic11\", \"Topic11\", \"Topic11\", \"Topic11\", \"Topic11\", \"Topic11\", \"Topic11\", \"Topic11\", \"Topic11\", \"Topic11\", \"Topic11\", \"Topic11\", \"Topic11\", \"Topic11\", \"Topic11\", \"Topic11\", \"Topic11\", \"Topic11\", \"Topic11\", \"Topic11\", \"Topic11\", \"Topic11\", \"Topic11\", \"Topic11\", \"Topic11\", \"Topic11\", \"Topic11\", \"Topic11\", \"Topic11\", \"Topic11\", \"Topic12\", \"Topic12\", \"Topic12\", \"Topic12\", \"Topic12\", \"Topic12\", \"Topic12\", \"Topic12\", \"Topic12\", \"Topic12\", \"Topic12\", \"Topic12\", \"Topic12\", \"Topic12\", \"Topic12\", \"Topic12\", \"Topic12\", \"Topic12\", \"Topic12\", \"Topic12\", \"Topic12\", \"Topic12\", \"Topic12\", \"Topic12\", \"Topic12\", \"Topic12\", \"Topic12\", \"Topic12\", \"Topic12\", \"Topic12\", \"Topic12\", \"Topic12\", \"Topic12\", \"Topic12\", \"Topic12\", \"Topic12\", \"Topic12\", \"Topic12\", \"Topic12\", \"Topic12\", \"Topic12\", \"Topic12\", \"Topic12\", \"Topic12\", \"Topic12\", \"Topic12\", \"Topic12\", \"Topic12\", \"Topic12\", \"Topic12\", \"Topic12\", \"Topic12\", \"Topic12\", \"Topic12\", \"Topic12\", \"Topic12\", \"Topic12\", \"Topic12\", \"Topic12\", \"Topic12\", \"Topic12\", \"Topic12\", \"Topic12\", \"Topic12\", \"Topic12\", \"Topic12\", \"Topic12\", \"Topic12\", \"Topic12\", \"Topic12\", \"Topic13\", \"Topic13\", \"Topic13\", \"Topic13\", \"Topic13\", \"Topic13\", \"Topic13\", \"Topic13\", \"Topic13\", \"Topic13\", \"Topic13\", \"Topic13\", \"Topic13\", \"Topic13\", \"Topic13\", \"Topic13\", \"Topic13\", \"Topic13\", \"Topic13\", \"Topic13\", \"Topic13\", \"Topic13\", \"Topic13\", \"Topic13\", \"Topic13\", \"Topic13\", \"Topic13\", \"Topic13\", \"Topic13\", \"Topic13\", \"Topic13\", \"Topic13\", \"Topic13\", \"Topic13\", \"Topic13\", \"Topic13\", \"Topic13\", \"Topic13\", \"Topic13\", \"Topic13\", \"Topic13\", \"Topic13\", \"Topic13\", \"Topic13\", \"Topic13\", \"Topic13\", \"Topic13\", \"Topic13\", \"Topic13\", \"Topic13\", \"Topic13\", \"Topic13\", \"Topic14\", \"Topic14\", \"Topic14\", \"Topic14\", \"Topic14\", \"Topic14\", \"Topic14\", \"Topic14\", \"Topic14\", \"Topic14\", \"Topic14\", \"Topic14\", \"Topic14\", \"Topic14\", \"Topic14\", \"Topic14\", \"Topic14\", \"Topic14\", \"Topic14\", \"Topic14\", \"Topic14\", \"Topic14\", \"Topic14\", \"Topic14\", \"Topic14\", \"Topic14\", \"Topic14\", \"Topic14\", \"Topic14\", \"Topic14\", \"Topic14\", \"Topic14\", \"Topic14\", \"Topic14\", \"Topic14\", \"Topic14\", \"Topic14\", \"Topic14\", \"Topic14\", \"Topic14\", \"Topic14\", \"Topic14\", \"Topic14\", \"Topic14\", \"Topic14\", \"Topic14\", \"Topic14\", \"Topic14\", \"Topic14\", \"Topic14\", \"Topic14\", \"Topic14\", \"Topic14\", \"Topic14\", \"Topic14\", \"Topic14\", \"Topic14\", \"Topic14\", \"Topic14\", \"Topic14\", \"Topic14\", \"Topic15\", \"Topic15\", \"Topic15\", \"Topic15\", \"Topic15\", \"Topic15\", \"Topic15\", \"Topic15\", \"Topic15\", \"Topic15\", \"Topic15\", \"Topic15\", \"Topic15\", \"Topic15\", \"Topic15\", \"Topic15\", \"Topic15\", \"Topic15\", \"Topic15\", \"Topic15\", \"Topic15\", \"Topic15\", \"Topic15\", \"Topic15\", \"Topic15\", \"Topic15\", \"Topic15\", \"Topic15\", \"Topic15\", \"Topic15\", \"Topic15\", \"Topic15\", \"Topic15\", \"Topic15\", \"Topic15\", \"Topic15\", \"Topic15\", \"Topic15\", \"Topic15\", \"Topic15\", \"Topic15\", \"Topic15\", \"Topic15\", \"Topic15\", \"Topic15\", \"Topic15\", \"Topic15\", \"Topic15\", \"Topic15\", \"Topic15\", \"Topic15\", \"Topic15\", \"Topic15\", \"Topic15\", \"Topic16\", \"Topic16\", \"Topic16\", \"Topic16\", \"Topic16\", \"Topic16\", \"Topic16\", \"Topic16\", \"Topic16\", \"Topic16\", \"Topic16\", \"Topic16\", \"Topic16\", \"Topic16\", \"Topic16\", \"Topic16\", \"Topic16\", \"Topic16\", \"Topic16\", \"Topic16\", \"Topic16\", \"Topic16\", \"Topic16\", \"Topic16\", \"Topic16\", \"Topic16\", \"Topic16\", \"Topic16\", \"Topic16\", \"Topic16\", \"Topic16\", \"Topic16\", \"Topic16\", \"Topic16\", \"Topic16\", \"Topic16\", \"Topic16\", \"Topic16\", \"Topic16\", \"Topic16\", \"Topic16\", \"Topic16\", \"Topic16\", \"Topic16\", \"Topic16\", \"Topic16\", \"Topic16\", \"Topic16\", \"Topic16\", \"Topic16\", \"Topic16\", \"Topic16\", \"Topic16\", \"Topic16\", \"Topic16\", \"Topic16\", \"Topic16\", \"Topic17\", \"Topic17\", \"Topic17\", \"Topic17\", \"Topic17\", \"Topic17\", \"Topic17\", \"Topic17\", \"Topic17\", \"Topic17\", \"Topic17\", \"Topic17\", \"Topic17\", \"Topic17\", \"Topic17\", \"Topic17\", \"Topic17\", \"Topic17\", \"Topic17\", \"Topic17\", \"Topic17\", \"Topic17\", \"Topic17\", \"Topic17\", \"Topic17\", \"Topic17\", \"Topic17\", \"Topic17\", \"Topic17\", \"Topic17\", \"Topic17\", \"Topic17\", \"Topic17\", \"Topic17\", \"Topic17\", \"Topic17\", \"Topic17\", \"Topic17\", \"Topic17\", \"Topic17\", \"Topic17\", \"Topic17\", \"Topic17\", \"Topic17\", \"Topic17\", \"Topic17\", \"Topic17\", \"Topic17\", \"Topic17\", \"Topic17\", \"Topic17\", \"Topic17\", \"Topic18\", \"Topic18\", \"Topic18\", \"Topic18\", \"Topic18\", \"Topic18\", \"Topic18\", \"Topic18\", \"Topic18\", \"Topic18\", \"Topic18\", \"Topic18\", \"Topic18\", \"Topic18\", \"Topic18\", \"Topic18\", \"Topic18\", \"Topic18\", \"Topic18\", \"Topic18\", \"Topic18\", \"Topic18\", \"Topic18\", \"Topic18\", \"Topic18\", \"Topic18\", \"Topic18\", \"Topic18\", \"Topic18\", \"Topic18\", \"Topic18\", \"Topic18\", \"Topic18\", \"Topic18\", \"Topic18\", \"Topic18\", \"Topic18\", \"Topic18\", \"Topic18\", \"Topic18\", \"Topic18\", \"Topic18\", \"Topic18\", \"Topic18\", \"Topic18\", \"Topic18\", \"Topic18\", \"Topic18\", \"Topic18\", \"Topic18\", \"Topic18\", \"Topic18\", \"Topic18\", \"Topic18\", \"Topic19\", \"Topic19\", \"Topic19\", \"Topic19\", \"Topic19\", \"Topic19\", \"Topic19\", \"Topic19\", \"Topic19\", \"Topic19\", \"Topic19\", \"Topic19\", \"Topic19\", \"Topic19\", \"Topic19\", \"Topic19\", \"Topic19\", \"Topic19\", \"Topic19\", \"Topic19\", \"Topic19\", \"Topic19\", \"Topic19\", \"Topic19\", \"Topic19\", \"Topic19\", \"Topic19\", \"Topic19\", \"Topic19\", \"Topic19\", \"Topic19\", \"Topic19\", \"Topic19\", \"Topic19\", \"Topic19\", \"Topic19\", \"Topic19\", \"Topic19\", \"Topic19\", \"Topic19\", \"Topic19\", \"Topic19\", \"Topic19\", \"Topic19\", \"Topic19\", \"Topic19\", \"Topic19\", \"Topic19\", \"Topic19\", \"Topic19\", \"Topic19\", \"Topic19\", \"Topic19\", \"Topic19\", \"Topic19\", \"Topic19\", \"Topic19\", \"Topic19\", \"Topic20\", \"Topic20\", \"Topic20\", \"Topic20\", \"Topic20\", \"Topic20\", \"Topic20\", \"Topic20\", \"Topic20\", \"Topic20\", \"Topic20\", \"Topic20\", \"Topic20\", \"Topic20\", \"Topic20\", \"Topic20\", \"Topic20\", \"Topic20\", \"Topic20\", \"Topic20\", \"Topic20\", \"Topic20\", \"Topic20\", \"Topic20\", \"Topic20\", \"Topic20\", \"Topic20\", \"Topic20\", \"Topic20\", \"Topic20\", \"Topic20\", \"Topic20\", \"Topic20\", \"Topic20\", \"Topic20\", \"Topic20\", \"Topic20\", \"Topic20\", \"Topic20\", \"Topic20\", \"Topic20\", \"Topic20\", \"Topic20\", \"Topic20\", \"Topic20\", \"Topic20\", \"Topic20\", \"Topic20\", \"Topic20\", \"Topic20\", \"Topic20\", \"Topic20\", \"Topic20\", \"Topic20\", \"Topic20\", \"Topic20\", \"Topic20\", \"Topic20\", \"Topic20\", \"Topic20\", \"Topic20\", \"Topic20\", \"Topic20\", \"Topic21\", \"Topic21\", \"Topic21\", \"Topic21\", \"Topic21\", \"Topic21\", \"Topic21\", \"Topic21\", \"Topic21\", \"Topic21\", \"Topic21\", \"Topic21\", \"Topic21\", \"Topic21\", \"Topic21\", \"Topic21\", \"Topic21\", \"Topic21\", \"Topic21\", \"Topic21\", \"Topic21\", \"Topic21\", \"Topic21\", \"Topic21\", \"Topic21\", \"Topic21\", \"Topic21\", \"Topic21\", \"Topic21\", \"Topic21\", \"Topic21\", \"Topic21\", \"Topic21\", \"Topic21\", \"Topic21\", \"Topic21\", \"Topic21\", \"Topic21\", \"Topic21\", \"Topic21\", \"Topic21\", \"Topic21\", \"Topic21\", \"Topic21\", \"Topic21\", \"Topic21\", \"Topic21\", \"Topic21\", \"Topic21\", \"Topic21\", \"Topic21\", \"Topic21\", \"Topic21\", \"Topic21\", \"Topic21\", \"Topic21\", \"Topic21\", \"Topic22\", \"Topic22\", \"Topic22\", \"Topic22\", \"Topic22\", \"Topic22\", \"Topic22\", \"Topic22\", \"Topic22\", \"Topic22\", \"Topic22\", \"Topic22\", \"Topic22\", \"Topic22\", \"Topic22\", \"Topic22\", \"Topic22\", \"Topic22\", \"Topic22\", \"Topic22\", \"Topic22\", \"Topic22\", \"Topic22\", \"Topic22\", \"Topic22\", \"Topic22\", \"Topic22\", \"Topic22\", \"Topic22\", \"Topic22\", \"Topic22\", \"Topic22\", \"Topic22\", \"Topic22\", \"Topic22\", \"Topic22\", \"Topic22\", \"Topic22\", \"Topic22\", \"Topic22\", \"Topic22\", \"Topic22\", \"Topic22\", \"Topic22\", \"Topic22\", \"Topic22\", \"Topic22\", \"Topic22\", \"Topic22\", \"Topic22\", \"Topic22\", \"Topic22\", \"Topic22\", \"Topic22\", \"Topic22\", \"Topic22\", \"Topic22\", \"Topic22\", \"Topic22\", \"Topic22\", \"Topic22\", \"Topic22\", \"Topic23\", \"Topic23\", \"Topic23\", \"Topic23\", \"Topic23\", \"Topic23\", \"Topic23\", \"Topic23\", \"Topic23\", \"Topic23\", \"Topic23\", \"Topic23\", \"Topic23\", \"Topic23\", \"Topic23\", \"Topic23\", \"Topic23\", \"Topic23\", \"Topic23\", \"Topic23\", \"Topic23\", \"Topic23\", \"Topic23\", \"Topic23\", \"Topic23\", \"Topic23\", \"Topic23\", \"Topic23\", \"Topic23\", \"Topic23\", \"Topic23\", \"Topic23\", \"Topic23\", \"Topic23\", \"Topic23\", \"Topic23\", \"Topic23\", \"Topic23\", \"Topic23\", \"Topic23\", \"Topic23\", \"Topic23\", \"Topic23\", \"Topic23\", \"Topic23\", \"Topic23\", \"Topic23\", \"Topic23\", \"Topic23\", \"Topic23\", \"Topic23\", \"Topic23\", \"Topic23\", \"Topic23\", \"Topic23\", \"Topic23\", \"Topic23\", \"Topic23\", \"Topic23\", \"Topic24\", \"Topic24\", \"Topic24\", \"Topic24\", \"Topic24\", \"Topic24\", \"Topic24\", \"Topic24\", \"Topic24\", \"Topic24\", \"Topic24\", \"Topic24\", \"Topic24\", \"Topic24\", \"Topic24\", \"Topic24\", \"Topic24\", \"Topic24\", \"Topic24\", \"Topic24\", \"Topic24\", \"Topic24\", \"Topic24\", \"Topic24\", \"Topic24\", \"Topic24\", \"Topic24\", \"Topic24\", \"Topic24\", \"Topic24\", \"Topic24\", \"Topic24\", \"Topic24\", \"Topic24\", \"Topic24\", \"Topic24\", \"Topic24\", \"Topic24\", \"Topic24\", \"Topic24\", \"Topic24\", \"Topic24\", \"Topic24\", \"Topic24\", \"Topic24\", \"Topic24\", \"Topic24\", \"Topic24\", \"Topic24\", \"Topic24\", \"Topic24\", \"Topic24\", \"Topic24\", \"Topic24\", \"Topic24\", \"Topic24\", \"Topic24\", \"Topic24\", \"Topic25\", \"Topic25\", \"Topic25\", \"Topic25\", \"Topic25\", \"Topic25\", \"Topic25\", \"Topic25\", \"Topic25\", \"Topic25\", \"Topic25\", \"Topic25\", \"Topic25\", \"Topic25\", \"Topic25\", \"Topic25\", \"Topic25\", \"Topic25\", \"Topic25\", \"Topic25\", \"Topic25\", \"Topic25\", \"Topic25\", \"Topic25\", \"Topic25\", \"Topic25\", \"Topic25\", \"Topic25\", \"Topic25\", \"Topic25\", \"Topic25\", \"Topic25\", \"Topic25\", \"Topic25\", \"Topic25\", \"Topic25\", \"Topic25\", \"Topic25\", \"Topic25\", \"Topic25\", \"Topic25\", \"Topic25\", \"Topic25\", \"Topic25\", \"Topic25\", \"Topic25\", \"Topic25\", \"Topic25\", \"Topic25\", \"Topic25\", \"Topic25\", \"Topic25\", \"Topic25\", \"Topic25\", \"Topic25\", \"Topic25\", \"Topic25\", \"Topic25\", \"Topic25\", \"Topic25\", \"Topic25\", \"Topic25\", \"Topic26\", \"Topic26\", \"Topic26\", \"Topic26\", \"Topic26\", \"Topic26\", \"Topic26\", \"Topic26\", \"Topic26\", \"Topic26\", \"Topic26\", \"Topic26\", \"Topic26\", \"Topic26\", \"Topic26\", \"Topic26\", \"Topic26\", \"Topic26\", \"Topic26\", \"Topic26\", \"Topic26\", \"Topic26\", \"Topic26\", \"Topic26\", \"Topic26\", \"Topic26\", \"Topic26\", \"Topic26\", \"Topic26\", \"Topic26\", \"Topic26\", \"Topic26\", \"Topic26\", \"Topic26\", \"Topic26\", \"Topic26\", \"Topic26\", \"Topic26\", \"Topic26\", \"Topic26\", \"Topic26\", \"Topic26\", \"Topic26\", \"Topic26\", \"Topic26\", \"Topic26\", \"Topic26\", \"Topic26\", \"Topic26\", \"Topic26\", \"Topic26\", \"Topic27\", \"Topic27\", \"Topic27\", \"Topic27\", \"Topic27\", \"Topic27\", \"Topic27\", \"Topic27\", \"Topic27\", \"Topic27\", \"Topic27\", \"Topic27\", \"Topic27\", \"Topic27\", \"Topic27\", \"Topic27\", \"Topic27\", \"Topic27\", \"Topic27\", \"Topic27\", \"Topic27\", \"Topic27\", \"Topic27\", \"Topic27\", \"Topic27\", \"Topic27\", \"Topic27\", \"Topic27\", \"Topic27\", \"Topic27\", \"Topic27\", \"Topic27\", \"Topic27\", \"Topic27\", \"Topic27\", \"Topic27\", \"Topic27\", \"Topic27\", \"Topic27\", \"Topic27\", \"Topic27\", \"Topic27\", \"Topic27\", \"Topic27\", \"Topic27\", \"Topic27\", \"Topic27\", \"Topic27\", \"Topic27\", \"Topic27\", \"Topic27\", \"Topic27\", \"Topic27\", \"Topic28\", \"Topic28\", \"Topic28\", \"Topic28\", \"Topic28\", \"Topic28\", \"Topic28\", \"Topic28\", \"Topic28\", \"Topic28\", \"Topic28\", \"Topic28\", \"Topic28\", \"Topic28\", \"Topic28\", \"Topic28\", \"Topic28\", \"Topic28\", \"Topic28\", \"Topic28\", \"Topic28\", \"Topic28\", \"Topic28\", \"Topic28\", \"Topic28\", \"Topic28\", \"Topic28\", \"Topic28\", \"Topic28\", \"Topic28\", \"Topic28\", \"Topic28\", \"Topic28\", \"Topic28\", \"Topic28\", \"Topic28\", \"Topic28\", \"Topic28\", \"Topic28\", \"Topic28\", \"Topic28\", \"Topic28\", \"Topic28\", \"Topic28\", \"Topic28\", \"Topic28\", \"Topic28\", \"Topic28\", \"Topic28\", \"Topic28\", \"Topic28\", \"Topic28\", \"Topic28\", \"Topic28\", \"Topic28\", \"Topic28\", \"Topic28\", \"Topic28\", \"Topic29\", \"Topic29\", \"Topic29\", \"Topic29\", \"Topic29\", \"Topic29\", \"Topic29\", \"Topic29\", \"Topic29\", \"Topic29\", \"Topic29\", \"Topic29\", \"Topic29\", \"Topic29\", \"Topic29\", \"Topic29\", \"Topic29\", \"Topic29\", \"Topic29\", \"Topic29\", \"Topic29\", \"Topic29\", \"Topic29\", \"Topic29\", \"Topic29\", \"Topic29\", \"Topic29\", \"Topic29\", \"Topic29\", \"Topic29\", \"Topic29\", \"Topic29\", \"Topic29\", \"Topic29\", \"Topic29\", \"Topic29\", \"Topic29\", \"Topic29\", \"Topic29\", \"Topic29\", \"Topic29\", \"Topic29\", \"Topic29\", \"Topic29\", \"Topic29\", \"Topic29\", \"Topic29\", \"Topic29\", \"Topic29\", \"Topic29\", \"Topic29\", \"Topic29\", \"Topic29\", \"Topic29\", \"Topic29\", \"Topic29\", \"Topic30\", \"Topic30\", \"Topic30\", \"Topic30\", \"Topic30\", \"Topic30\", \"Topic30\", \"Topic30\", \"Topic30\", \"Topic30\", \"Topic30\", \"Topic30\", \"Topic30\", \"Topic30\", \"Topic30\", \"Topic30\", \"Topic30\", \"Topic30\", \"Topic30\", \"Topic30\", \"Topic30\", \"Topic30\", \"Topic30\", \"Topic30\", \"Topic30\", \"Topic30\", \"Topic30\", \"Topic30\", \"Topic30\", \"Topic30\", \"Topic30\", \"Topic30\", \"Topic30\", \"Topic30\", \"Topic30\", \"Topic30\", \"Topic30\", \"Topic30\", \"Topic30\", \"Topic30\", \"Topic30\", \"Topic30\", \"Topic30\", \"Topic30\", \"Topic30\", \"Topic30\", \"Topic30\", \"Topic30\", \"Topic30\", \"Topic30\", \"Topic30\", \"Topic30\", \"Topic30\", \"Topic30\", \"Topic31\", \"Topic31\", \"Topic31\", \"Topic31\", \"Topic31\", \"Topic31\", \"Topic31\", \"Topic31\", \"Topic31\", \"Topic31\", \"Topic31\", \"Topic31\", \"Topic31\", \"Topic31\", \"Topic31\", \"Topic31\", \"Topic31\", \"Topic31\", \"Topic31\", \"Topic31\", \"Topic31\", \"Topic31\", \"Topic31\", \"Topic31\", \"Topic31\", \"Topic31\", \"Topic31\", \"Topic31\", \"Topic31\", \"Topic31\", \"Topic31\", \"Topic31\", \"Topic31\", \"Topic31\", \"Topic31\", \"Topic31\", \"Topic31\", \"Topic31\", \"Topic31\", \"Topic31\", \"Topic31\", \"Topic31\", \"Topic31\", \"Topic31\", \"Topic31\", \"Topic31\", \"Topic31\", \"Topic31\", \"Topic31\", \"Topic31\", \"Topic31\", \"Topic31\", \"Topic31\", \"Topic31\", \"Topic31\", \"Topic31\", \"Topic31\", \"Topic31\", \"Topic31\", \"Topic31\", \"Topic31\", \"Topic31\", \"Topic31\", \"Topic32\", \"Topic32\", \"Topic32\", \"Topic32\", \"Topic32\", \"Topic32\", \"Topic32\", \"Topic32\", \"Topic32\", \"Topic32\", \"Topic32\", \"Topic32\", \"Topic32\", \"Topic32\", \"Topic32\", \"Topic32\", \"Topic32\", \"Topic32\", \"Topic32\", \"Topic32\", \"Topic32\", \"Topic32\", \"Topic32\", \"Topic32\", \"Topic32\", \"Topic32\", \"Topic32\", \"Topic32\", \"Topic32\", \"Topic32\", \"Topic32\", \"Topic32\", \"Topic32\", \"Topic32\", \"Topic32\", \"Topic32\", \"Topic32\", \"Topic32\", \"Topic32\", \"Topic32\", \"Topic32\", \"Topic32\", \"Topic32\", \"Topic32\", \"Topic32\", \"Topic32\", \"Topic32\", \"Topic32\", \"Topic32\", \"Topic32\", \"Topic32\", \"Topic32\", \"Topic33\", \"Topic33\", \"Topic33\", \"Topic33\", \"Topic33\", \"Topic33\", \"Topic33\", \"Topic33\", \"Topic33\", \"Topic33\", \"Topic33\", \"Topic33\", \"Topic33\", \"Topic33\", \"Topic33\", \"Topic33\", \"Topic33\", \"Topic33\", \"Topic33\", \"Topic33\", \"Topic33\", \"Topic33\", \"Topic33\", \"Topic33\", \"Topic33\", \"Topic33\", \"Topic33\", \"Topic33\", \"Topic33\", \"Topic33\", \"Topic33\", \"Topic33\", \"Topic33\", \"Topic33\", \"Topic33\", \"Topic33\", \"Topic33\", \"Topic33\", \"Topic33\", \"Topic33\", \"Topic33\", \"Topic33\", \"Topic33\", \"Topic33\", \"Topic33\", \"Topic33\", \"Topic34\", \"Topic34\", \"Topic34\", \"Topic34\", \"Topic34\", \"Topic34\", \"Topic34\", \"Topic34\", \"Topic34\", \"Topic34\", \"Topic34\", \"Topic34\", \"Topic34\", \"Topic34\", \"Topic34\", \"Topic34\", \"Topic34\", \"Topic34\", \"Topic34\", \"Topic34\", \"Topic34\", \"Topic34\", \"Topic34\", \"Topic34\", \"Topic34\", \"Topic34\", \"Topic34\", \"Topic34\", \"Topic34\", \"Topic34\", \"Topic34\", \"Topic34\", \"Topic34\", \"Topic34\", \"Topic34\", \"Topic34\", \"Topic34\", \"Topic34\", \"Topic34\", \"Topic34\", \"Topic34\", \"Topic34\", \"Topic34\", \"Topic34\", \"Topic34\", \"Topic34\", \"Topic35\", \"Topic35\", \"Topic35\", \"Topic35\", \"Topic35\", \"Topic35\", \"Topic35\", \"Topic35\", \"Topic35\", \"Topic35\", \"Topic35\", \"Topic35\", \"Topic35\", \"Topic35\", \"Topic35\", \"Topic35\", \"Topic35\", \"Topic35\", \"Topic35\", \"Topic35\", \"Topic35\", \"Topic35\", \"Topic35\", \"Topic35\", \"Topic35\", \"Topic35\", \"Topic35\", \"Topic35\", \"Topic35\", \"Topic35\", \"Topic35\", \"Topic35\", \"Topic35\", \"Topic35\", \"Topic35\", \"Topic35\", \"Topic35\", \"Topic35\", \"Topic35\", \"Topic35\", \"Topic35\", \"Topic35\", \"Topic35\", \"Topic35\", \"Topic35\", \"Topic35\", \"Topic35\", \"Topic35\", \"Topic35\", \"Topic35\", \"Topic35\", \"Topic35\", \"Topic36\", \"Topic36\", \"Topic36\", \"Topic36\", \"Topic36\", \"Topic36\", \"Topic36\", \"Topic36\", \"Topic36\", \"Topic36\", \"Topic36\", \"Topic36\", \"Topic36\", \"Topic36\", \"Topic36\", \"Topic36\", \"Topic36\", \"Topic36\", \"Topic36\", \"Topic36\", \"Topic36\", \"Topic36\", \"Topic36\", \"Topic36\", \"Topic36\", \"Topic36\", \"Topic36\", \"Topic36\", \"Topic36\", \"Topic36\", \"Topic36\", \"Topic36\", \"Topic36\", \"Topic36\", \"Topic36\", \"Topic36\", \"Topic36\", \"Topic36\", \"Topic36\", \"Topic36\", \"Topic36\", \"Topic36\", \"Topic36\", \"Topic37\", \"Topic37\", \"Topic37\", \"Topic37\", \"Topic37\", \"Topic37\", \"Topic37\", \"Topic37\", \"Topic37\", \"Topic37\", \"Topic37\", \"Topic37\", \"Topic37\", \"Topic37\", \"Topic37\", \"Topic37\", \"Topic37\", \"Topic37\", \"Topic37\", \"Topic37\", \"Topic37\", \"Topic37\", \"Topic37\", \"Topic37\", \"Topic37\", \"Topic37\", \"Topic37\", \"Topic37\", \"Topic37\", \"Topic37\", \"Topic37\", \"Topic37\", \"Topic37\", \"Topic37\", \"Topic37\", \"Topic37\", \"Topic37\", \"Topic37\", \"Topic37\", \"Topic37\", \"Topic37\", \"Topic37\", \"Topic37\", \"Topic37\", \"Topic37\", \"Topic37\", \"Topic37\", \"Topic37\", \"Topic37\", \"Topic37\", \"Topic37\", \"Topic38\", \"Topic38\", \"Topic38\", \"Topic38\", \"Topic38\", \"Topic38\", \"Topic38\", \"Topic38\", \"Topic38\", \"Topic38\", \"Topic38\", \"Topic38\", \"Topic38\", \"Topic38\", \"Topic38\", \"Topic38\", \"Topic38\", \"Topic38\", \"Topic38\", \"Topic38\", \"Topic38\", \"Topic38\", \"Topic38\", \"Topic38\", \"Topic38\", \"Topic38\", \"Topic38\", \"Topic38\", \"Topic38\", \"Topic38\", \"Topic38\", \"Topic38\", \"Topic38\", \"Topic38\", \"Topic38\", \"Topic38\", \"Topic38\", \"Topic38\", \"Topic38\", \"Topic38\", \"Topic38\", \"Topic38\", \"Topic38\", \"Topic38\", \"Topic38\", \"Topic38\", \"Topic38\", \"Topic39\", \"Topic39\", \"Topic39\", \"Topic39\", \"Topic39\", \"Topic39\", \"Topic39\", \"Topic39\", \"Topic39\", \"Topic39\", \"Topic39\", \"Topic39\", \"Topic39\", \"Topic39\", \"Topic39\", \"Topic39\", \"Topic39\", \"Topic39\", \"Topic39\", \"Topic39\", \"Topic39\", \"Topic39\", \"Topic39\", \"Topic39\", \"Topic39\", \"Topic39\", \"Topic39\", \"Topic39\", \"Topic39\", \"Topic39\", \"Topic39\", \"Topic39\", \"Topic39\", \"Topic39\", \"Topic39\", \"Topic39\", \"Topic39\", \"Topic39\", \"Topic39\", \"Topic39\", \"Topic39\", \"Topic39\", \"Topic39\", \"Topic39\", \"Topic39\", \"Topic39\", \"Topic39\", \"Topic39\", \"Topic39\", \"Topic39\", \"Topic39\", \"Topic39\", \"Topic39\", \"Topic39\", \"Topic40\", \"Topic40\", \"Topic40\", \"Topic40\", \"Topic40\", \"Topic40\", \"Topic40\", \"Topic40\", \"Topic40\", \"Topic40\", \"Topic40\", \"Topic40\", \"Topic40\", \"Topic40\", \"Topic40\", \"Topic40\", \"Topic40\", \"Topic40\", \"Topic40\", \"Topic40\", \"Topic40\", \"Topic40\", \"Topic40\", \"Topic40\", \"Topic40\", \"Topic40\", \"Topic40\", \"Topic40\", \"Topic40\", \"Topic40\", \"Topic40\", \"Topic40\", \"Topic40\", \"Topic40\", \"Topic40\", \"Topic40\", \"Topic40\", \"Topic40\", \"Topic40\", \"Topic40\", \"Topic40\", \"Topic40\", \"Topic40\", \"Topic40\", \"Topic40\", \"Topic40\", \"Topic40\", \"Topic40\", \"Topic40\", \"Topic40\", \"Topic40\", \"Topic41\", \"Topic41\", \"Topic41\", \"Topic41\", \"Topic41\", \"Topic41\", \"Topic41\", \"Topic41\", \"Topic41\", \"Topic41\", \"Topic41\", \"Topic41\", \"Topic41\", \"Topic41\", \"Topic41\", \"Topic41\", \"Topic41\", \"Topic41\", \"Topic41\", \"Topic41\", \"Topic41\", \"Topic41\", \"Topic41\", \"Topic41\", \"Topic41\", \"Topic41\", \"Topic41\", \"Topic41\", \"Topic41\", \"Topic41\", \"Topic41\", \"Topic41\", \"Topic41\", \"Topic41\", \"Topic41\", \"Topic41\", \"Topic41\", \"Topic41\", \"Topic41\", \"Topic41\", \"Topic41\", \"Topic41\", \"Topic41\", \"Topic41\", \"Topic41\", \"Topic41\", \"Topic41\", \"Topic41\", \"Topic41\", \"Topic41\", \"Topic41\", \"Topic41\", \"Topic41\", \"Topic41\", \"Topic42\", \"Topic42\", \"Topic42\", \"Topic42\", \"Topic42\", \"Topic42\", \"Topic42\", \"Topic42\", \"Topic42\", \"Topic42\", \"Topic42\", \"Topic42\", \"Topic42\", \"Topic42\", \"Topic42\", \"Topic42\", \"Topic42\", \"Topic42\", \"Topic42\", \"Topic42\", \"Topic42\", \"Topic42\", \"Topic42\", \"Topic42\", \"Topic42\", \"Topic42\", \"Topic42\", \"Topic42\", \"Topic42\", \"Topic42\", \"Topic42\", \"Topic42\", \"Topic42\", \"Topic42\", \"Topic42\", \"Topic42\", \"Topic42\", \"Topic42\", \"Topic42\", \"Topic42\", \"Topic42\", \"Topic42\", \"Topic42\", \"Topic42\", \"Topic42\", \"Topic42\", \"Topic42\", \"Topic42\", \"Topic42\", \"Topic43\", \"Topic43\", \"Topic43\", \"Topic43\", \"Topic43\", \"Topic43\", \"Topic43\", \"Topic43\", \"Topic43\", \"Topic43\", \"Topic43\", \"Topic43\", \"Topic43\", \"Topic43\", \"Topic43\", \"Topic43\", \"Topic43\", \"Topic43\", \"Topic43\", \"Topic43\", \"Topic43\", \"Topic43\", \"Topic43\", \"Topic43\", \"Topic43\", \"Topic43\", \"Topic43\", \"Topic43\", \"Topic43\", \"Topic43\", \"Topic43\", \"Topic43\", \"Topic43\", \"Topic43\", \"Topic43\", \"Topic43\", \"Topic43\", \"Topic43\", \"Topic43\", \"Topic43\", \"Topic43\", \"Topic43\", \"Topic43\", \"Topic43\", \"Topic43\", \"Topic43\", \"Topic43\", \"Topic43\", \"Topic43\", \"Topic43\", \"Topic43\", \"Topic43\", \"Topic43\", \"Topic44\", \"Topic44\", \"Topic44\", \"Topic44\", \"Topic44\", \"Topic44\", \"Topic44\", \"Topic44\", \"Topic44\", \"Topic44\", \"Topic44\", \"Topic44\", \"Topic44\", \"Topic44\", \"Topic44\", \"Topic44\", \"Topic44\", \"Topic44\", \"Topic44\", \"Topic44\", \"Topic44\", \"Topic44\", \"Topic44\", \"Topic44\", \"Topic44\", \"Topic44\", \"Topic44\", \"Topic44\", \"Topic44\", \"Topic44\", \"Topic44\", \"Topic44\", \"Topic44\", \"Topic44\", \"Topic44\", \"Topic44\", \"Topic44\", \"Topic44\", \"Topic44\", \"Topic44\", \"Topic44\", \"Topic44\", \"Topic44\", \"Topic44\", \"Topic44\", \"Topic44\", \"Topic44\", \"Topic44\", \"Topic44\", \"Topic44\", \"Topic44\", \"Topic44\", \"Topic44\", \"Topic45\", \"Topic45\", \"Topic45\", \"Topic45\", \"Topic45\", \"Topic45\", \"Topic45\", \"Topic45\", \"Topic45\", \"Topic45\", \"Topic45\", \"Topic45\", \"Topic45\", \"Topic45\", \"Topic45\", \"Topic45\", \"Topic45\", \"Topic45\", \"Topic45\", \"Topic45\", \"Topic45\", \"Topic45\", \"Topic45\", \"Topic45\", \"Topic45\", \"Topic45\", \"Topic45\", \"Topic45\", \"Topic45\", \"Topic45\", \"Topic45\", \"Topic45\", \"Topic45\", \"Topic45\", \"Topic45\", \"Topic45\", \"Topic45\", \"Topic45\", \"Topic45\", \"Topic45\", \"Topic45\", \"Topic45\", \"Topic45\", \"Topic45\", \"Topic45\", \"Topic45\", \"Topic45\", \"Topic45\", \"Topic45\", \"Topic45\", \"Topic45\", \"Topic45\", \"Topic46\", \"Topic46\", \"Topic46\", \"Topic46\", \"Topic46\", \"Topic46\", \"Topic46\", \"Topic46\", \"Topic46\", \"Topic46\", \"Topic46\", \"Topic46\", \"Topic46\", \"Topic46\", \"Topic46\", \"Topic46\", \"Topic46\", \"Topic46\", \"Topic46\", \"Topic46\", \"Topic46\", \"Topic46\", \"Topic46\", \"Topic46\", \"Topic46\", \"Topic46\", \"Topic46\", \"Topic46\", \"Topic46\", \"Topic46\", \"Topic46\", \"Topic46\", \"Topic46\", \"Topic46\", \"Topic46\", \"Topic46\", \"Topic46\", \"Topic46\", \"Topic46\", \"Topic46\", \"Topic46\", \"Topic46\", \"Topic46\", \"Topic46\", \"Topic46\", \"Topic46\", \"Topic46\", \"Topic46\", \"Topic47\", \"Topic47\", \"Topic47\", \"Topic47\", \"Topic47\", \"Topic47\", \"Topic47\", \"Topic47\", \"Topic47\", \"Topic47\", \"Topic47\", \"Topic47\", \"Topic47\", \"Topic47\", \"Topic47\", \"Topic47\", \"Topic47\", \"Topic47\", \"Topic47\", \"Topic47\", \"Topic47\", \"Topic47\", \"Topic47\", \"Topic47\", \"Topic47\", \"Topic47\", \"Topic47\", \"Topic47\", \"Topic47\", \"Topic47\", \"Topic47\", \"Topic47\", \"Topic47\", \"Topic47\", \"Topic47\", \"Topic47\", \"Topic47\", \"Topic47\", \"Topic47\", \"Topic47\", \"Topic47\", \"Topic47\", \"Topic47\", \"Topic47\", \"Topic47\", \"Topic47\", \"Topic48\", \"Topic48\", \"Topic48\", \"Topic48\", \"Topic48\", \"Topic48\", \"Topic48\", \"Topic48\", \"Topic48\", \"Topic48\", \"Topic48\", \"Topic48\", \"Topic48\", \"Topic48\", \"Topic48\", \"Topic48\", \"Topic48\", \"Topic48\", \"Topic48\", \"Topic48\", \"Topic48\", \"Topic48\", \"Topic48\", \"Topic48\", \"Topic48\", \"Topic48\", \"Topic48\", \"Topic48\", \"Topic48\", \"Topic48\", \"Topic48\", \"Topic48\", \"Topic48\", \"Topic48\", \"Topic48\", \"Topic48\", \"Topic48\", \"Topic48\", \"Topic48\", \"Topic48\", \"Topic48\", \"Topic48\", \"Topic48\", \"Topic48\", \"Topic48\", \"Topic48\", \"Topic48\", \"Topic48\", \"Topic48\", \"Topic48\", \"Topic48\", \"Topic48\", \"Topic48\", \"Topic48\"], \"logprob\": [30.0, 29.0, 28.0, 27.0, 26.0, 25.0, 24.0, 23.0, 22.0, 21.0, 20.0, 19.0, 18.0, 17.0, 16.0, 15.0, 14.0, 13.0, 12.0, 11.0, 10.0, 9.0, 8.0, 7.0, 6.0, 5.0, 4.0, 3.0, 2.0, 1.0, -5.662, -7.3063, -7.4007, -7.4735, -7.2009, -6.2403, -7.4727, -7.1236, -7.5872, -7.9327, -7.6337, -8.0735, -8.0779, -7.5124, -8.3906, -7.934, -8.338, -7.2323, -8.5417, -8.3532, -7.6638, -8.6561, -7.8161, -7.3757, -8.6142, -8.6742, -8.3996, -8.6296, -7.0695, -6.9733, -6.5719, -7.3978, -6.7077, -6.0968, -7.5123, -7.3576, -7.2259, -7.1488, -7.5736, -6.9566, -6.4087, -7.0634, -6.4859, -6.7554, -5.0892, -6.7218, -6.5539, -6.0198, -5.5158, -6.1894, -6.4188, -6.2936, -4.5091, -6.265, -6.2092, -6.0027, -6.0605, -6.0935, -5.554, -6.3308, -6.1325, -5.3625, -5.6798, -5.9246, -6.5716, -5.7602, -6.3031, -6.2325, -5.645, -5.5544, -5.8929, -5.7985, -6.1084, -5.8682, -5.8394, -6.0511, -6.1571, -6.0124, -5.9652, -6.0342, -6.0919, -6.189, -7.2244, -7.2835, -7.2494, -6.2522, -7.4505, -7.2141, -7.3991, -6.1166, -7.5863, -7.802, -7.4751, -7.6402, -7.7927, -7.0815, -7.5957, -7.5625, -8.0249, -6.0969, -6.588, -8.148, -8.0672, -7.758, -7.6488, -7.6653, -7.9116, -8.1472, -7.4587, -7.523, -7.0463, -8.2344, -6.3504, -7.1625, -7.2149, -7.3838, -6.6663, -5.5829, -6.1455, -6.0793, -6.7611, -6.8307, -6.7755, -6.3657, -6.2478, -6.2184, -6.3206, -6.1767, -5.3141, -5.7902, -6.2774, -6.2915, -4.5961, -6.0447, -6.0406, -5.2869, -5.9403, -5.965, -5.7829, -5.9387, -5.9035, -5.6067, -5.7036, -5.6608, -5.6792, -5.8458, -5.9074, -6.0667, -6.117, -6.001, -6.1006, -6.0486, -6.0986, -6.165, -6.1755, -5.274, -5.7829, -6.0374, -5.9626, -6.6312, -6.557, -6.7819, -6.1436, -6.8947, -6.8064, -7.2259, -7.1331, -7.3488, -7.3322, -7.3348, -4.8941, -6.8523, -7.2629, -6.9385, -7.5357, -7.1749, -7.4306, -7.3724, -7.0198, -7.5769, -7.5989, -7.5018, -7.4653, -7.1338, -7.2921, -5.9388, -4.44, -6.4374, -7.1289, -5.8176, -6.9957, -5.0963, -5.8179, -6.3963, -5.0406, -5.8411, -6.7726, -5.2475, -6.1581, -6.799, -5.5295, -5.644, -5.6556, -5.3695, -6.5561, -6.1566, -6.5482, -5.7838, -5.6209, -5.827, -5.978, -5.2887, -5.6695, -5.9522, -5.9877, -6.0206, -6.1705, -5.3787, -6.0064, -6.2806, -6.5399, -6.5198, -6.6054, -6.0123, -6.4421, -6.9797, -7.0529, -6.9297, -5.9686, -7.4076, -6.3431, -7.4257, -7.3309, -7.2181, -7.6222, -6.9086, -7.6477, -7.6479, -7.5643, -7.668, -7.2294, -7.5469, -7.3864, -7.6978, -7.6873, -7.64, -6.8269, -6.8779, -5.7343, -7.0077, -7.3246, -7.0048, -5.4879, -6.4786, -7.1472, -6.6719, -6.5105, -5.039, -6.0016, -6.3819, -6.4425, -5.6898, -6.2866, -6.2277, -5.6235, -5.6998, -5.3, -5.9952, -5.9588, -5.2579, -5.6667, -6.0363, -5.9086, -5.3752, -5.6176, -5.7813, -5.4892, -5.6499, -5.7963, -5.9312, -5.6272, -5.798, -5.95, -5.9335, -6.0713, -6.0325, -6.1996, -5.9301, -6.2022, -6.5292, -6.2181, -6.8023, -6.9752, -6.6032, -6.9111, -7.0722, -6.5402, -7.0458, -7.1514, -7.0081, -7.3522, -7.216, -7.4803, -7.3203, -7.5528, -7.5673, -7.5686, -7.371, -7.5706, -7.5823, -7.7156, -7.5159, -7.5201, -7.1073, -5.9387, -7.968, -6.9905, -5.9124, -6.9994, -6.7185, -4.8511, -6.1235, -6.3031, -7.1039, -6.643, -5.05, -6.4114, -6.7432, -4.4668, -5.8196, -6.4995, -5.9232, -6.3826, -5.6841, -6.3955, -5.5494, -6.2936, -6.004, -5.4961, -6.3226, -5.6228, -6.2463, -6.0796, -6.2351, -5.9803, -6.0694, -5.8344, -5.8334, -6.2196, -6.2936, -6.0445, -6.1446, -6.1043, -6.2834, -6.2789, -6.513, -7.0756, -7.0606, -7.1449, -6.8417, -7.5177, -6.8971, -7.5606, -6.9813, -6.9053, -7.2931, -6.9365, -7.0903, -6.8714, -7.4879, -6.9143, -6.314, -7.0732, -7.38, -7.05, -7.8287, -7.6128, -7.9064, -6.9635, -7.6372, -7.5429, -7.5128, -6.9801, -7.9686, -8.065, -7.1278, -6.656, -6.0626, -6.6062, -6.2893, -5.9961, -6.7742, -6.8112, -7.1008, -6.5101, -6.6998, -5.6916, -6.49, -6.1872, -5.3411, -6.47, -5.882, -6.7148, -6.6738, -6.2801, -5.9451, -5.876, -5.5951, -6.4363, -5.2072, -5.7198, -6.2752, -6.2306, -5.7618, -6.0299, -6.5147, -5.8486, -6.0768, -6.048, -6.1048, -6.0817, -6.2161, -6.1157, -6.1558, -6.2634, -6.2005, -6.2993, -6.3024, -6.313, -5.6522, -6.1023, -6.3931, -5.4358, -6.6324, -5.5458, -6.3381, -6.9732, -6.2842, -7.1787, -7.0919, -7.1363, -7.2411, -7.1223, -7.2338, -7.445, -7.4991, -7.3575, -7.542, -7.5424, -7.5642, -7.4833, -7.5483, -7.5419, -6.1627, -7.427, -7.75, -7.6147, -7.7995, -7.873, -5.5523, -5.9604, -6.8295, -6.1903, -5.9215, -6.6375, -5.6167, -6.6453, -5.8346, -6.8419, -7.055, -6.4101, -5.526, -6.3944, -4.9138, -6.5988, -6.209, -5.7671, -5.4896, -5.6341, -5.9671, -6.3732, -6.2136, -5.5873, -5.5467, -6.0157, -5.7111, -5.7958, -5.8545, -5.9687, -6.0364, -6.2089, -6.1367, -6.2013, -6.4275, -6.8631, -6.8142, -5.4797, -6.9141, -6.1806, -6.1914, -6.1915, -6.1915, -6.1937, -6.4362, -7.1044, -6.1925, -6.1673, -6.1977, -7.0824, -7.0902, -6.3162, -6.2108, -7.1717, -6.6127, -7.1669, -6.7995, -7.3882, -7.3942, -7.102, -7.4614, -7.4562, -7.0408, -7.4833, -7.1865, -4.6286, -4.9776, -5.2033, -6.3793, -6.2274, -6.2089, -5.1966, -5.5108, -6.1106, -5.6768, -5.7985, -6.4407, -6.3935, -6.2532, -4.9968, -4.5139, -5.4292, -5.2402, -5.8601, -5.496, -5.7977, -5.8624, -5.1782, -5.7375, -5.8719, -5.4586, -5.6055, -5.877, -5.8644, -5.8769, -5.7614, -5.9143, -5.9667, -6.0665, -6.1534, -5.3403, -5.5304, -5.6768, -5.3691, -5.3771, -5.7242, -6.643, -5.5845, -5.3863, -5.9711, -6.5275, -5.3921, -6.2188, -6.6593, -7.1335, -7.0933, -7.2498, -6.7992, -4.8677, -6.1192, -7.3055, -6.9519, -7.3543, -6.8626, -7.2977, -7.1466, -6.7066, -6.3521, -6.3524, -6.355, -6.4305, -6.4306, -6.4303, -6.4479, -6.4479, -5.072, -5.9805, -6.4482, -6.4426, -6.4302, -6.4382, -5.4151, -5.4537, -5.5127, -5.5324, -5.5323, -5.5404, -6.3095, -5.551, -5.5562, -5.3055, -5.9126, -5.6172, -5.2126, -5.3012, -5.1125, -5.7774, -5.4903, -5.545, -5.7296, -5.8317, -5.7929, -5.8267, -6.2686, -6.3638, -6.3282, -6.028, -5.3744, -6.1974, -6.4698, -5.8788, -6.8235, -6.7111, -6.9457, -6.7818, -6.832, -6.8471, -6.855, -6.5655, -7.0322, -7.2839, -6.8603, -7.6477, -7.2813, -7.7021, -7.747, -6.536, -7.4277, -6.3733, -6.9858, -7.9051, -7.7658, -7.821, -6.7952, -6.7443, -7.0735, -6.9572, -6.5738, -7.3035, -6.4926, -6.454, -6.2438, -6.6413, -5.798, -6.2793, -6.5604, -6.314, -6.22, -6.2742, -6.2544, -6.5475, -6.2509, -6.5206, -6.4328, -6.1586, -6.3154, -6.3957, -6.4275, -6.4122, -6.4835, -6.4756, -6.4885, -6.499, -5.6906, -5.9944, -6.2273, -6.79, -6.3891, -6.5496, -5.1976, -6.2636, -6.6479, -7.1879, -7.1881, -7.4441, -7.4646, -6.9656, -6.4181, -7.5537, -7.3545, -7.3547, -7.1222, -7.365, -7.3618, -6.7785, -7.8415, -5.5305, -7.9636, -7.1689, -7.5717, -6.5589, -8.0789, -7.3265, -7.0434, -6.7278, -7.0532, -6.1976, -7.0775, -6.9564, -6.3305, -6.6108, -6.5944, -6.6413, -6.1272, -6.3239, -6.493, -6.8653, -6.5083, -6.6401, -6.8308, -6.5708, -6.8539, -6.5176, -6.6785, -6.4072, -6.5355, -6.6482, -6.5633, -6.6091, -6.6486, -6.6308, -6.6419, -6.3311, -6.2017, -6.9216, -7.0969, -6.8681, -7.2937, -7.0538, -7.4319, -7.1427, -7.1677, -7.3457, -7.5688, -7.5873, -7.2204, -7.2173, -7.1282, -6.329, -6.7636, -7.8297, -7.4449, -7.7023, -7.703, -7.7048, -6.7198, -7.9385, -7.1501, -7.2459, -7.6078, -7.8805, -7.3675, -7.4317, -7.2268, -7.1543, -6.9357, -5.9052, -5.8441, -4.9179, -6.1689, -6.9072, -6.3568, -6.6483, -6.3924, -6.1535, -6.7749, -5.9519, -6.3887, -5.667, -5.8482, -6.2423, -6.3212, -5.7898, -6.7096, -6.0295, -6.0975, -6.2135, -5.874, -6.4761, -6.4204, -6.5427, -6.0498, -6.1206, -6.2371, -6.1393, -6.3516, -6.2195, -6.3133, -6.3798, -6.2278, -6.3848, -6.0703, -6.1406, -6.4, -6.5725, -6.6405, -6.326, -6.6745, -6.6746, -6.7936, -6.7938, -6.9434, -7.239, -7.18, -7.1934, -7.378, -6.0939, -5.8949, -5.258, -7.4539, -7.5085, -7.2065, -7.5583, -6.949, -7.431, -7.9084, -6.6475, -7.7364, -7.3348, -7.5594, -6.1247, -6.792, -6.5495, -5.9535, -5.5239, -7.0166, -5.7651, -5.6739, -6.1447, -5.7509, -6.9233, -6.3707, -6.4508, -6.5448, -6.1444, -6.438, -6.4005, -6.5293, -6.5542, -6.5369, -6.4775, -6.5312, -6.5615, -6.1611, -6.5213, -6.3639, -6.7377, -6.3512, -6.9217, -6.4729, -6.7536, -6.7776, -6.3116, -7.1485, -5.4098, -6.0241, -7.319, -6.7286, -6.9822, -7.0182, -7.1745, -7.0525, -7.4482, -7.3661, -7.4484, -7.5224, -7.523, -6.6504, -7.2194, -6.8328, -6.4106, -7.6173, -7.4485, -6.1568, -7.3384, -6.562, -4.7036, -6.9487, -6.6786, -7.0502, -5.3984, -6.64, -6.5191, -6.6007, -5.0875, -5.9713, -5.2996, -5.6069, -6.2804, -6.4611, -6.2299, -6.2304, -6.1867, -6.1422, -6.305, -6.4693, -6.2593, -6.1876, -6.2071, -6.5005, -6.4169, -6.4533, -6.4549, -6.494, -5.3312, -5.2441, -5.6392, -6.3225, -6.309, -6.4738, -6.1209, -6.3322, -6.7925, -6.5423, -6.8319, -5.8285, -6.8727, -6.7119, -6.6054, -7.0065, -6.0117, -7.1227, -7.1665, -7.1547, -7.2521, -7.4089, -7.6426, -6.8583, -7.6628, -7.6798, -5.9344, -7.5853, -7.7337, -7.3294, -3.6578, -5.0392, -6.6085, -5.5918, -5.6128, -5.9904, -5.4027, -5.6975, -5.6934, -6.1715, -5.7277, -5.4458, -5.7553, -5.1697, -5.5697, -6.1484, -6.0741, -6.0416, -5.7222, -6.1211, -5.9498, -6.1565, -6.1917, -6.2057, -6.064, -6.1485, -6.1874, -6.4017, -6.0602, -6.6544, -6.6765, -6.8105, -6.5544, -6.7961, -6.7614, -6.6679, -6.8509, -6.871, -7.1787, -6.2135, -7.1323, -7.0046, -6.673, -7.5268, -7.507, -7.5111, -6.9026, -7.7379, -7.5512, -6.6465, -6.9676, -7.0414, -7.789, -7.5632, -6.7087, -6.1227, -6.6919, -6.2803, -6.6789, -7.0497, -5.983, -5.5927, -6.4271, -6.4971, -6.2369, -6.3247, -6.0438, -6.3883, -6.291, -6.3932, -6.5195, -6.4779, -6.2604, -6.2136, -6.4183, -6.4812, -6.4452, -6.548, -6.5987, -6.5343, -6.61, -5.6101, -6.0991, -6.1408, -6.2718, -6.4268, -6.3544, -6.3784, -6.4652, -6.7465, -6.7559, -6.2989, -6.6057, -6.8453, -6.6509, -6.8025, -6.7831, -7.0978, -7.0354, -6.7624, -6.0554, -7.1009, -7.1037, -7.1085, -5.5696, -7.2151, -7.1188, -5.425, -6.1589, -6.7159, -7.482, -6.8918, -6.5375, -6.5093, -6.4151, -6.6902, -6.5249, -6.7662, -6.2697, -6.0767, -6.1558, -5.8165, -5.8758, -6.1138, -5.9071, -6.0916, -6.4473, -6.3047, -6.4891, -6.0472, -6.3886, -6.5034, -6.5208, -5.4835, -5.3414, -5.3174, -6.0158, -5.8661, -6.3929, -5.7607, -6.4067, -5.5063, -6.5407, -5.8937, -6.041, -6.4105, -6.6657, -6.4742, -7.0067, -6.7562, -6.4679, -6.0378, -6.2009, -6.5918, -7.1837, -6.8231, -6.7857, -7.0468, -6.8274, -6.1945, -7.3891, -7.4548, -7.0976, -6.0901, -4.9199, -6.8424, -4.7006, -6.5993, -5.2337, -5.4428, -6.0987, -4.7907, -6.1648, -4.9301, -5.7327, -5.234, -5.9942, -5.9483, -5.3501, -5.6273, -5.9762, -6.1699, -5.9688, -5.9966, -6.1085, -6.1591, -6.1454, -5.2348, -6.2984, -6.0475, -6.6418, -6.6712, -6.8862, -6.8412, -6.7797, -6.7126, -6.7022, -7.1079, -6.8268, -6.2937, -7.1845, -6.8867, -5.9144, -7.2096, -7.2707, -7.1081, -7.1159, -7.3821, -7.5246, -6.2639, -7.1647, -7.1135, -6.0476, -7.6216, -7.182, -6.7059, -7.7434, -7.0636, -6.2692, -6.5752, -5.1967, -6.8544, -6.7048, -6.3276, -6.0812, -6.1256, -6.1047, -6.698, -5.4759, -6.8008, -6.1974, -6.6187, -6.0448, -6.203, -6.2655, -6.377, -6.4463, -6.404, -6.4196, -6.4854, -6.5017, -6.4719, -6.4859, -6.5817, -6.5802, -5.9366, -6.6298, -6.3355, -6.2956, -6.3727, -7.0197, -7.0128, -5.8473, -6.6115, -7.2622, -6.2112, -7.3986, -7.2479, -7.4409, -7.4409, -6.583, -6.5711, -7.587, -7.6491, -6.8603, -7.6902, -7.6902, -7.6902, -7.6903, -7.6903, -7.6903, -7.6903, -7.6903, -7.6903, -7.6904, -6.3175, -6.9185, -5.7464, -7.4343, -7.2047, -7.0651, -6.804, -7.4084, -6.8976, -7.0143, -7.3257, -6.9279, -7.0796, -5.9899, -6.2326, -5.7761, -6.8534, -6.4108, -6.2465, -6.4401, -6.3803, -5.6348, -6.6068, -6.9314, -5.8301, -6.7355, -6.649, -6.6076, -6.6513, -6.7975, -6.7635, -6.7622, -6.786, -5.9938, -6.3904, -6.6282, -5.1299, -6.3723, -6.9597, -6.985, -6.9118, -6.9185, -6.5007, -7.1912, -7.1498, -6.859, -6.9153, -6.9153, -6.9152, -6.9358, -6.9073, -6.8123, -7.3685, -6.9015, -7.3834, -6.8135, -6.4002, -6.8835, -6.2545, -7.6326, -7.5461, -6.7521, -7.0354, -6.1541, -6.8558, -6.2487, -6.4028, -6.5373, -6.0135, -5.8842, -6.2921, -5.4175, -5.7497, -6.4896, -6.077, -6.484, -6.6074, -6.7817, -6.3557, -6.5635, -6.2273, -6.592, -6.4315, -6.6594, -6.5426, -6.4084, -6.4949, -6.5873, -6.5884, -6.6023, -6.4443, -6.7268, -6.7487, -6.3796, -7.0256, -6.5167, -6.743, -6.3158, -6.9178, -7.1269, -6.244, -7.2117, -7.1471, -6.0512, -7.168, -7.1485, -7.1635, -7.1637, -7.0958, -6.9733, -7.2241, -7.2452, -7.3652, -7.3607, -7.2599, -7.2154, -7.5381, -7.3631, -7.2529, -7.0664, -5.1884, -6.9583, -5.7246, -6.5374, -6.3894, -6.5657, -6.6136, -6.4413, -6.1652, -5.318, -6.2184, -6.5758, -6.5364, -6.5269, -5.509, -5.861, -6.2662, -6.4324, -5.9436, -5.5432, -6.2542, -5.7082, -6.1874, -6.1581, -6.1218, -6.3236, -6.2897, -5.9155, -6.2848, -6.4184, -6.2667, -6.3838, -5.8797, -6.4691, -5.5781, -6.3393, -6.8548, -6.6983, -6.7239, -6.9332, -7.0067, -6.2395, -7.0869, -7.1765, -6.4388, -7.1801, -7.4528, -7.1193, -6.9227, -5.9396, -7.4487, -6.6633, -7.6094, -7.414, -7.573, -6.8654, -6.8173, -6.4034, -7.896, -6.8059, -7.9669, -7.9687, -7.7026, -7.7419, -7.4564, -5.7061, -7.0306, -4.9793, -6.185, -5.5646, -6.3888, -5.7678, -5.5996, -6.303, -5.9717, -5.6399, -6.3128, -6.0913, -6.0666, -6.0947, -6.0926, -6.4003, -6.4554, -6.1455, -6.1699, -6.1246, -6.3961, -6.4243, -6.3435, -6.4085, -6.4195, -6.4713, -6.1322, -6.7157, -6.4009, -6.3427, -6.5555, -6.7227, -6.8057, -6.1329, -5.9328, -6.7182, -6.6055, -5.9582, -7.055, -6.8751, -7.4165, -7.4394, -7.0281, -6.7643, -6.8522, -7.5797, -6.0239, -7.2421, -7.7658, -7.8088, -5.4733, -7.5884, -6.4189, -5.9691, -7.9532, -6.067, -6.7226, -6.6011, -5.9558, -6.7283, -6.6613, -6.0877, -6.1323, -5.5672, -5.8232, -5.724, -5.8351, -5.4142, -6.2865, -6.168, -6.1779, -5.9968, -6.1946, -6.2776, -6.0586, -6.2588, -6.2805, -6.2834, -6.0858, -6.2667, -6.3247, -6.3202, -6.3207, -6.2888, -6.2508, -6.4449, -5.5338, -6.1197, -6.6754, -5.9928, -6.4843, -6.4827, -6.8304, -6.4028, -6.8572, -6.8744, -6.0889, -7.1126, -7.1797, -6.6829, -6.2549, -6.6253, -7.2455, -6.9562, -7.0584, -7.1788, -7.1602, -5.4838, -7.4389, -7.4216, -7.4916, -7.639, -7.2551, -6.5179, -7.0395, -5.6299, -6.7913, -6.8429, -6.671, -5.6248, -6.8317, -6.4328, -5.7394, -5.4653, -6.606, -5.4088, -6.1234, -5.9445, -6.0271, -5.9792, -5.9199, -5.511, -6.3217, -5.8591, -5.7628, -5.609, -6.154, -5.989, -6.2332, -6.1988, -6.1304, -6.1081, -6.1049, -6.216, -6.268, -5.9267, -6.0741, -6.0876, -6.3854, -6.1536, -6.5429, -6.7143, -6.7476, -6.6462, -6.6295, -6.0523, -6.6795, -6.537, -6.9321, -6.8722, -6.659, -7.0604, -7.2373, -7.1204, -7.1205, -6.5095, -7.3237, -7.259, -6.794, -7.4096, -7.0145, -7.4667, -7.4667, -7.4669, -7.4671, -6.0426, -7.1545, -7.2153, -7.3813, -3.9224, -6.7609, -4.4124, -6.5129, -6.6123, -6.8317, -4.2801, -5.2986, -5.6454, -6.3702, -6.4363, -6.5179, -6.3588, -6.4913, -6.4505, -6.5502, -6.7255, -5.5835, -6.3836, -6.632, -6.3538, -6.5919, -6.8794, -6.8846, -6.4621, -6.4668, -6.6127, -6.8882, -6.9498, -6.6817, -7.2593, -7.0881, -7.1587, -7.0653, -7.3163, -7.0028, -7.2928, -7.3915, -7.3917, -7.3918, -7.3825, -7.4112, -6.4254, -7.4286, -7.0951, -7.2899, -7.4023, -6.9956, -6.5203, -6.6228, -7.0682, -6.1359, -7.1105, -6.9844, -6.437, -6.4978, -7.0091, -6.5195, -5.8755, -6.6499, -6.7583, -6.7902, -6.888, -6.4657, -6.5189, -6.865, -6.9352, -6.6605, -6.7447, -6.9326, -5.4745, -6.2639, -6.4613, -6.5858, -6.8374, -6.6294, -6.3243, -6.9421, -6.1716, -6.9618, -6.3423, -6.3426, -6.6393, -6.7931, -6.9861, -6.9361, -6.4212, -7.4551, -7.4552, -7.4554, -7.4574, -6.9361, -7.4905, -6.6417, -7.4992, -7.499, -6.8696, -7.531, -7.5312, -7.5314, -6.8831, -6.6365, -6.2203, -6.4288, -7.3895, -6.5339, -5.7776, -6.5769, -6.6596, -5.8242, -5.576, -5.7855, -6.2822, -6.0896, -5.6203, -6.6333, -6.164, -6.3927, -6.4205, -6.0752, -6.3884, -6.1725, -6.2735, -6.338, -6.2412, -6.379, -6.4517, -6.5407, -5.5144, -5.9622, -6.0049, -6.3875, -6.9416, -6.84, -6.3365, -6.9822, -6.4376, -5.9373, -7.3126, -7.3126, -7.3126, -7.3127, -7.3127, -7.3127, -7.3128, -7.3128, -7.3128, -7.3128, -7.3128, -7.3128, -7.313, -7.313, -7.3426, -7.3817, -7.4545, -7.3738, -7.2762, -7.4531, -6.4377, -5.3698, -5.9746, -6.7051, -6.2845, -5.7384, -6.7736, -7.0519, -5.6006, -6.5408, -6.1342, -7.0054, -6.6106, -7.036, -6.8401, -6.6515, -6.3872, -7.1682, -6.6986, -6.4831, -6.5878, -6.6226, -6.4922, -6.728, -6.7774, -6.8269, -6.2105, -6.0775, -6.6247, -6.8136, -6.7665, -6.8736, -6.9012, -6.9235, -6.9513, -6.8933, -7.1135, -7.2221, -6.9613, -7.3061, -7.3064, -7.3065, -6.5802, -7.3193, -5.9663, -7.2558, -7.2693, -6.447, -7.3502, -7.3503, -7.4457, -7.4803, -7.2827, -7.4947, -6.5467, -7.5829, -7.2733, -6.7953, -6.2999, -7.2198, -6.0808, -6.8256, -5.7451, -6.5402, -5.4909, -6.3643, -6.4345, -6.6742, -5.7818, -6.2825, -6.7604, -5.7264, -6.6837, -6.3398, -6.3627, -6.69, -6.7638, -6.8318, -6.7763, -6.8187, -6.148, -6.3441, -5.4029, -6.8427, -6.6733, -7.0089, -7.1906, -7.2984, -7.3724, -7.4164, -7.4509, -7.3927, -7.4206, -7.4032, -7.5312, -7.4725, -7.5372, -7.4916, -7.4961, -7.5173, -7.0718, -7.4815, -7.4992, -6.9309, -7.4866, -7.4666, -6.5958, -7.0032, -7.8421, -7.8801, -7.5096, -6.2729, -6.3218, -5.7878, -6.3887, -6.7955, -6.9735, -6.5659, -7.0966, -6.4716, -7.0968, -6.6459, -7.1509, -6.6014, -5.8706, -6.7513, -6.6332, -6.6025, -6.7524, -6.7766, -6.8327, -6.7011, -6.678, -6.4711, -6.4316, -6.4714, -6.5679, -6.6221, -6.2398, -6.5926, -6.6595, -6.6908, -6.7526, -5.6537, -5.6103, -5.9953, -6.4584, -6.2108, -6.6753, -6.7661, -6.6158, -6.6576, -6.221, -6.6862, -6.0825, -6.8501, -6.6223, -6.5881, -6.9939, -7.1776, -7.0617, -6.5175, -7.1336, -7.1206, -7.364, -7.737, -7.2997, -7.745, -7.433, -7.7532, -7.847, -7.9039, -7.811, -6.6282, -7.0108, -7.1161, -7.0728, -5.8721, -6.1165, -6.848, -6.4234, -6.2211, -6.297, -6.6949, -5.8409, -6.5451, -6.7898, -6.6159, -6.5163, -6.4675, -6.2846, -6.4609, -6.7313, -6.6996, -6.7007, -4.911, -5.7216, -5.621, -5.8414, -6.1893, -5.463, -6.5411, -6.3724, -6.3759, -6.2832, -6.7393, -5.5294, -5.8282, -6.9751, -7.0125, -7.0553, -7.0556, -7.1371, -7.137, -6.0048, -6.9288, -6.8501, -6.952, -7.26, -7.4852, -5.5211, -7.1647, -7.2924, -7.1922, -6.4264, -5.9358, -6.2202, -6.1693, -6.1244, -6.4261, -6.3821, -6.004, -6.6036, -5.9349, -6.4997, -6.4334, -6.8056, -6.6346, -6.5427, -6.5385, -6.5371, -5.5565, -6.0985, -6.0001, -6.3206, -6.4446, -6.5189, -6.6281, -6.5921, -6.2031, -6.943, -5.9471, -6.8953, -7.077, -7.0051, -4.664, -7.1668, -6.7758, -7.2522, -5.1616, -7.1497, -6.3254, -7.3423, -7.4173, -7.2319, -7.1791, -7.4399, -7.1732, -7.2941, -7.4239, -7.4528, -7.2145, -6.2432, -5.3224, -5.9992, -6.1103, -6.7792, -7.0547, -6.4853, -6.7428, -7.0156, -6.5011, -6.703, -6.7182, -6.8097, -6.9316, -6.8788, -5.19, -5.6675, -6.1468, -6.3495, -6.6123, -6.5994, -6.8741, -6.8852, -6.0664, -6.949, -7.0142, -7.1015, -7.235, -7.3081, -7.3082, -7.3083, -7.3085, -7.3549, -7.3198, -7.3891, -7.0839, -6.4116, -6.982, -7.6347, -7.6399, -7.6404, -7.3372, -7.7061, -7.7061, -7.7061, -7.0395, -7.0372, -6.0741, -6.687, -6.3362, -6.0962, -6.1156, -6.7563, -6.3654, -6.3818, -6.1987, -6.9304, -6.5493, -6.4677, -6.5266, -6.5953, -6.7215, -6.6202, -6.3515, -6.6543, -6.7488, -6.8449, -6.1156, -6.0121, -6.1923, -6.2224, -6.103, -6.5443, -6.7161, -6.7451, -6.7013, -6.0567, -6.5277, -6.7894, -6.8802, -6.8286, -6.7554, -6.9057, -6.7861, -6.8861, -6.7659, -6.4117, -6.4125, -6.4732, -6.4733, -6.4733, -6.4794, -6.4072, -7.0186, -7.0182, -7.0183, -7.0182, -6.4952, -6.8059, -5.8107, -6.6854, -5.9606, -6.3015, -5.2382, -6.3827, -6.2893, -6.2693, -5.9671, -6.2652, -6.6535, -5.8931, -6.097, -6.5751, -5.7993, -6.3246, -6.8413, -6.7858, -6.3337, -6.9918, -6.5626, -7.0836, -7.2175, -7.2229, -6.4307, -7.4868, -7.487, -7.4871, -6.7869, -7.3861, -7.5517, -7.4971, -6.8779, -7.4804, -7.5061, -7.5001, -7.4584, -7.5681, -5.9072, -7.3753, -7.6357, -6.6731, -7.0227, -6.3466, -6.4751, -6.3518, -6.8358, -6.5984, -6.4836, -6.0534, -6.4496, -6.393, -6.5303, -6.406, -6.2311, -6.2588, -6.6092, -6.7967, -6.7304, -6.8238, -6.8261, -6.8273, -6.2168, -6.1762, -6.3502, -6.4377, -6.2793, -6.398, -6.3487, -6.3595, -6.7701, -6.8354, -6.9297, -6.9978, -7.1155, -7.1828, -7.3582, -6.685, -7.1778, -5.8916, -6.5274, -7.15, -7.5697, -7.5699, -5.9866, -6.0634, -7.6846, -7.7675, -6.8077, -7.9646, -6.5181, -6.6881, -7.173, -7.1348, -5.4897, -6.3928, -6.1559, -6.8607, -6.5263, -6.5584, -6.275, -6.7674, -6.299, -6.7524, -6.7557, -6.4952, -6.6212, -6.7125, -6.6373, -5.4381, -5.6579, -6.1182, -6.3515, -6.015, -6.2231, -7.2283, -7.3571, -6.0889, -6.6491, -7.6238, -7.6959, -7.8432, -6.2582, -7.3258, -7.7583, -6.3551, -8.0088, -8.131, -8.0372, -7.5964, -8.1817, -8.1898, -7.8158, -7.4696, -8.3363, -8.3922, -7.7642, -8.3551, -6.4173, -6.9827, -6.5777, -6.8754, -6.1882, -6.9587, -6.805, -6.4733, -6.4861, -7.0009, -7.4124, -6.3759, -6.6982, -6.713, -6.7622, -6.8035, -7.071, -6.8105, -6.7364, -6.796, -6.7895, -6.9284, -6.884, -6.9266, -6.9415, -5.8121, -6.6056, -6.6719, -6.7199, -6.8945, -6.9752, -6.9768, -6.7422, -7.2715, -5.6081, -7.276, -6.8463, -5.9069, -7.6499, -7.2497, -7.2988, -7.5003, -6.9755, -6.0505, -6.88, -6.7039, -8.0226, -7.7932, -8.0368, -8.2225, -8.1244, -7.5135, -8.2271, -8.0679, -8.3129, -7.5806, -7.0769, -6.2734, -7.1136, -6.4307, -6.5621, -6.1606, -6.8544, -6.4054, -6.612, -6.574, -6.2593, -6.6057, -6.5735, -6.5831, -6.54, -6.907, -6.7885, -6.7848, -6.9153, -6.9233, -6.2146, -6.3244, -6.522, -5.7534, -6.8341, -6.8338, -7.079, -6.056, -6.9211, -7.2715, -7.5161, -7.5164, -7.4162, -7.527, -7.2465, -7.3121, -7.4898, -7.6758, -5.7799, -7.3301, -7.1633, -7.5736, -7.3683, -7.7974, -7.8085, -6.8826, -7.8509, -6.9147, -7.8357, -7.524, -6.8064, -7.4751, -6.2331, -7.5135, -6.469, -6.256, -6.8342, -5.9283, -6.2445, -6.4454, -6.9264, -6.5538, -7.2279, -6.2454, -6.6068, -6.3372, -6.6065, -6.7128, -6.5451, -7.0342, -6.6946, -6.9587, -6.933, -6.9506, -5.7822, -6.1215, -6.6807, -6.6179, -6.969, -6.6465, -6.9569, -7.0818, -7.1797, -7.3134, -7.4305, -6.3747, -7.3337, -7.4048, -7.374, -7.3859, -7.2881, -7.5807, -7.423, -6.2884, -7.1071, -7.8518, -7.7106, -7.8225, -8.0659, -7.8708, -7.6289, -8.1198, -8.1443, -8.1442, -8.0433, -7.8421, -8.0082, -7.7378, -7.3432, -6.2474, -7.2684, -7.1691, -7.2639, -6.9984, -6.9695, -6.577, -7.1933, -7.3458, -7.0762, -7.2247, -7.0467, -7.2884, -7.3692, -6.2979, -6.1384, -6.3312, -6.798, -6.6727, -6.9257, -6.6745, -6.8427, -6.455, -7.0762, -7.0101, -7.052, -6.7658, -7.4874, -7.4578, -6.7391, -7.5029, -6.7473, -7.5356, -7.5934, -7.4794, -7.6749, -7.5294, -7.348, -7.5288, -7.8078, -8.0104, -7.2961, -7.7887, -7.9686, -7.7002, -7.1857, -6.5595, -5.6579, -6.4383, -6.5998, -6.7409, -6.5369, -6.4786, -7.223, -6.6769, -6.7775, -7.1388, -6.8787, -6.821, -6.8083, -6.7292, -6.6237, -6.7237, -6.8872, -6.7504, -6.8922, -6.8823, -5.7897, -5.693, -5.2811, -6.2489, -6.1927, -6.5051, -7.0742, -7.7339, -7.7386, -7.7573, -6.8469, -7.8393, -7.7609, -8.0093, -7.6986, -8.2752, -8.151, -8.0758, -8.1873, -7.8222, -8.3199, -8.0839, -8.3521, -7.6825, -8.071, -8.5322, -8.3923, -8.2462, -8.2926, -7.8816, -6.7836, -5.8498, -6.7239, -6.7993, -6.4527, -6.7989, -7.3746, -6.5505, -6.5034, -7.0726, -7.2835, -7.0411, -7.1754, -7.0953, -7.2105, -7.2664, -7.2243, -7.3337, -7.3033, -7.3823, -7.2085, -7.3861, -7.3423, -6.1217, -5.7972, -6.6747, -6.7591, -6.7126, -6.7022, -5.8946, -7.1492, -7.162, -7.162, -7.162, -7.1621, -7.1621, -7.1621, -7.1622, -7.1623, -7.1626, -7.1656, -7.1644, -7.2059, -7.238, -7.2636, -7.2002, -7.1015, -7.2153, -7.2858, -7.1741, -7.2637, -7.2968, -7.2636, -5.782, -6.4104, -6.1491, -6.8465, -6.9826, -6.9543, -6.2422, -7.0584, -6.8876, -6.0783, -6.6205, -7.0612, -7.0286, -6.7315, -6.7496, -7.0113, -6.9486, -7.0552, -6.9962, -7.0011, -7.0942, -7.1288, -6.0788, -6.3164, -6.185, -6.4293, -6.6765, -6.4211, -7.0482, -7.1652, -6.8112, -7.3935, -6.8116, -7.0917, -7.4853, -7.5885, -7.7498, -7.6848, -7.5027, -7.9289, -6.3419, -6.7576, -7.9152, -8.0627, -8.1125, -6.7184, -7.0294, -8.1593, -7.3379, -8.2839, -8.2841, -8.2575, -7.8378, -7.386, -6.5676, -7.0446, -7.4058, -7.0414, -6.6615, -7.3209, -6.9178, -6.9731, -6.9981, -7.3002, -7.235, -7.0863, -7.292, -7.3378, -7.3619, -7.3506, -5.478, -6.6779, -7.0569, -7.3376, -7.3611, -7.2893, -7.4374, -6.6432, -7.1547, -5.9243, -7.8364, -7.7068, -7.7964, -7.9339, -7.9787, -7.9726, -7.9905, -8.0423, -8.0456, -8.0311, -8.0797, -8.04, -6.0582, -8.0432, -6.4584, -8.1407, -8.14, -8.1392, -8.3315, -8.1817, -7.7744, -6.3958, -7.4749, -7.6671, -7.1289, -7.5007, -7.5506, -7.6518, -7.6877, -7.9822, -7.8022, -7.7898, -7.8392, -7.8814, -7.8512, -7.8949, -6.0392, -6.257, -6.4431, -6.813, -6.5417, -7.1297, -6.2762, -6.4177, -7.7954, -7.8877, -7.899, -8.1106, -8.0362, -8.022, -8.0216, -7.9607, -8.1328, -8.1329, -6.4493, -7.9975, -7.9974, -8.0207, -8.2482, -8.1585, -8.2313, -8.507, -8.4177, -8.4965, -7.7661, -8.3983, -6.9735, -6.4315, -8.1227, -6.7009, -7.152, -7.1244, -7.4535, -7.2211, -7.3735, -7.048, -7.2085, -7.0388, -6.5518, -7.3357, -7.2779, -7.3518, -7.6573, -7.5822, -7.5587, -7.6971, -7.6646, -7.6198, -7.6206, -7.6456], \"loglift\": [30.0, 29.0, 28.0, 27.0, 26.0, 25.0, 24.0, 23.0, 22.0, 21.0, 20.0, 19.0, 18.0, 17.0, 16.0, 15.0, 14.0, 13.0, 12.0, 11.0, 10.0, 9.0, 8.0, 7.0, 6.0, 5.0, 4.0, 3.0, 2.0, 1.0, 1.4434, 1.4261, 1.4238, 1.4222, 1.4218, 1.4196, 1.4189, 1.4145, 1.4036, 1.4002, 1.3982, 1.3969, 1.3894, 1.3826, 1.3791, 1.3776, 1.3742, 1.3717, 1.3702, 1.3696, 1.3661, 1.365, 1.3638, 1.3638, 1.3629, 1.3623, 1.3618, 1.3599, 1.3595, 1.359, 1.3502, 1.3582, 1.3433, 1.3274, 1.3511, 1.3336, 1.3204, 1.3131, 1.3283, 1.2794, 1.2212, 1.2831, 1.2138, 1.2408, 0.9965, 1.2306, 1.2006, 1.0984, 1.004, 1.1265, 1.1678, 1.1376, 0.7558, 1.1012, 1.0863, 1.0272, 1.0351, 1.0402, 0.8631, 1.0944, 1.031, 0.7648, 0.8312, 0.8966, 1.1642, 0.8061, 1.0448, 0.9792, 0.6703, 0.6213, 0.7923, 0.6908, 0.9021, 0.7093, 0.5596, 0.6711, 0.8194, 0.5732, 0.4753, 0.5009, 0.3867, 0.6708, 2.2181, 2.2147, 2.2132, 2.2056, 2.2046, 2.202, 2.1976, 2.1956, 2.1892, 2.1838, 2.1826, 2.1825, 2.1783, 2.1729, 2.1716, 2.1549, 2.1537, 2.1527, 2.1518, 2.1494, 2.143, 2.142, 2.1383, 2.1355, 2.1325, 2.1255, 2.1254, 2.1233, 2.1205, 2.1185, 2.1101, 2.1164, 2.1107, 2.1147, 2.078, 2.007, 2.0028, 1.9634, 2.0199, 2.0246, 2.0107, 1.9307, 1.8873, 1.8786, 1.8338, 1.7413, 1.3312, 1.4925, 1.6783, 1.6841, 0.6688, 1.4608, 1.4551, 0.8404, 1.259, 1.2373, 1.0915, 1.1723, 1.1163, 0.7923, 0.882, 0.7563, 0.6361, 0.8395, 0.5331, 0.9368, 1.0334, 0.4776, 0.7593, 0.4625, 0.0771, 0.9917, 0.8871, 2.5607, 2.5553, 2.5499, 2.5457, 2.5389, 2.5381, 2.537, 2.533, 2.5321, 2.513, 2.5119, 2.5113, 2.5072, 2.5039, 2.4997, 2.4945, 2.4937, 2.4913, 2.4893, 2.4891, 2.4871, 2.4847, 2.4843, 2.4836, 2.4826, 2.4783, 2.4736, 2.4708, 2.4684, 2.4674, 2.4479, 2.3898, 2.4448, 2.4607, 2.405, 2.452, 2.2335, 2.2537, 2.3307, 2.0616, 2.1212, 2.3624, 1.818, 2.1149, 2.3321, 1.776, 1.762, 1.7419, 1.4621, 2.1688, 1.8343, 2.1498, 1.2877, 0.8195, 1.0069, 1.1738, -0.0238, 0.5062, 0.9756, 0.9564, 0.3783, 1.0698, 2.8945, 2.8817, 2.868, 2.8644, 2.862, 2.855, 2.8509, 2.8476, 2.8381, 2.8333, 2.8249, 2.824, 2.8045, 2.7987, 2.7927, 2.7905, 2.7855, 2.7826, 2.7808, 2.7795, 2.7795, 2.7781, 2.7771, 2.7768, 2.7752, 2.7687, 2.7683, 2.768, 2.7679, 2.7649, 2.7634, 2.734, 2.7466, 2.7513, 2.7248, 2.5081, 2.6194, 2.7148, 2.6362, 2.597, 2.2629, 2.4655, 2.5248, 2.5253, 2.2722, 2.4501, 2.4049, 2.1102, 2.1055, 1.8348, 2.2267, 2.193, 1.7203, 1.9918, 2.2134, 2.09, 1.435, 1.5508, 1.7106, 1.0857, 1.2459, 1.1947, 1.3488, 0.4586, 0.8494, 1.3268, 1.0505, 1.6732, 0.8284, 2.9268, 2.9212, 2.9174, 2.9111, 2.8936, 2.8896, 2.8863, 2.8853, 2.8796, 2.8708, 2.8673, 2.865, 2.8588, 2.8563, 2.8513, 2.8494, 2.8421, 2.8384, 2.8374, 2.8357, 2.8356, 2.8326, 2.8286, 2.8266, 2.8077, 2.7938, 2.7905, 2.783, 2.7792, 2.779, 2.7616, 2.7095, 2.7422, 2.7095, 2.4178, 2.6005, 2.6117, 2.7507, 2.6525, 2.2879, 2.5343, 2.6311, 1.8709, 2.2938, 2.5434, 2.3032, 2.486, 2.1863, 2.4572, 1.9012, 2.3472, 2.1169, 1.6485, 2.305, 1.5093, 2.1136, 1.6101, 1.8607, 1.324, 1.4184, 0.7431, 0.7017, 1.6555, 1.9353, 0.5219, 0.9228, 0.4707, 1.6946, 1.1462, 3.1792, 3.1584, 3.1363, 3.1351, 3.123, 3.1114, 3.1107, 3.1097, 3.1072, 3.1059, 3.0785, 3.0782, 3.0769, 3.0764, 3.0708, 3.0694, 3.0685, 3.068, 3.0646, 3.0632, 3.059, 3.0551, 3.0503, 3.0481, 3.0442, 3.0332, 3.0282, 3.0255, 3.0236, 3.0149, 3.0062, 3.0012, 2.8911, 2.923, 2.8281, 2.773, 2.9046, 2.9044, 2.9366, 2.6929, 2.731, 2.1596, 2.5846, 2.3919, 1.7398, 2.4844, 1.7919, 2.6745, 2.5808, 2.0431, 1.5506, 1.4066, 0.8835, 2.1864, 0.0578, 0.9255, 1.8866, 1.5394, 0.3655, 0.8445, 2.1389, 0.3271, 0.7549, 0.5995, 0.4808, 0.3587, 0.8541, 0.2832, 0.1595, 0.924, 0.3346, 0.9807, 0.9803, 0.4972, 3.486, 3.4669, 3.435, 3.4287, 3.4278, 3.4105, 3.4029, 3.3969, 3.3947, 3.3688, 3.3544, 3.3503, 3.3501, 3.3445, 3.3224, 3.3204, 3.3195, 3.3166, 3.3115, 3.3115, 3.3073, 3.2961, 3.2878, 3.2825, 3.2791, 3.2723, 3.2622, 3.2471, 3.2462, 3.2379, 3.2256, 3.2182, 3.231, 3.2073, 3.1723, 3.1925, 3.0772, 3.1386, 2.9367, 3.1505, 3.2001, 3.014, 2.7284, 2.9718, 2.3881, 3.026, 2.7347, 2.406, 2.0563, 2.092, 2.3709, 2.6452, 2.296, 1.3085, 0.9319, 1.7543, 0.9363, 1.0144, 1.1295, 1.0511, 1.2462, 1.7769, 0.9335, 0.7441, 3.5378, 3.5282, 3.5262, 3.5191, 3.5148, 3.4996, 3.4978, 3.4977, 3.4976, 3.4973, 3.4968, 3.4962, 3.4954, 3.4941, 3.4896, 3.4875, 3.4874, 3.4791, 3.4756, 3.4752, 3.4721, 3.4628, 3.4457, 3.445, 3.4395, 3.4327, 3.4277, 3.4251, 3.423, 3.423, 3.4192, 3.3237, 3.3372, 3.3004, 3.3653, 3.3525, 3.3472, 3.1335, 3.1582, 3.2617, 3.1705, 3.1227, 3.3026, 3.2879, 3.2424, 2.8007, 2.4315, 2.7517, 2.6433, 2.7141, 2.2517, 2.6313, 2.6866, 1.605, 2.2903, 2.5651, 1.6058, 1.7852, 2.4631, 2.2585, 2.1903, 1.2227, 1.1559, 0.6807, 1.0239, 1.5656, 3.9266, 3.9088, 3.8973, 3.8931, 3.8866, 3.8848, 3.8622, 3.8605, 3.8517, 3.8421, 3.8241, 3.8216, 3.8079, 3.797, 3.7732, 3.7609, 3.756, 3.7539, 3.7501, 3.7484, 3.7434, 3.7367, 3.7319, 3.7291, 3.7278, 3.7172, 3.712, 3.7112, 3.711, 3.7092, 3.7019, 3.7017, 3.7016, 3.699, 3.6988, 3.6229, 3.67, 3.6985, 3.6979, 3.6844, 3.6823, 3.4517, 3.4465, 3.4486, 3.2927, 3.1957, 3.0418, 3.5854, 2.9381, 2.8619, 2.5585, 3.1186, 2.7396, 1.7783, 1.8991, 1.3768, 2.622, 1.7722, 0.7928, 1.7528, 2.1897, 1.0174, 1.4533, 3.9767, 3.9743, 3.9668, 3.9601, 3.9435, 3.9341, 3.9191, 3.8789, 3.8751, 3.875, 3.8615, 3.8551, 3.8489, 3.8418, 3.8307, 3.8051, 3.7954, 3.7337, 3.7242, 3.7117, 3.708, 3.7015, 3.6864, 3.6845, 3.6664, 3.6536, 3.6396, 3.6298, 3.6294, 3.6282, 3.5938, 3.5912, 3.5997, 3.4583, 3.3191, 3.5493, 3.1132, 2.9715, 2.6838, 2.906, 1.482, 2.101, 2.6429, 2.0318, 1.7151, 1.151, 0.9652, 2.2766, 0.6884, 2.0148, 1.2673, -0.8937, 0.332, 0.5497, 0.7073, 0.0771, 0.8999, 0.5799, 0.5024, 0.5654, 4.0874, 4.081, 4.0596, 3.9822, 3.9581, 3.9508, 3.9018, 3.8964, 3.8623, 3.8593, 3.8593, 3.8349, 3.8185, 3.8095, 3.7921, 3.781, 3.7749, 3.7746, 3.7492, 3.7274, 3.7237, 3.7191, 3.6913, 3.6749, 3.6319, 3.6261, 3.6196, 3.6119, 3.6051, 3.6027, 3.5588, 3.4906, 3.4941, 3.2105, 3.4456, 3.2421, 2.5261, 2.8291, 2.6715, 2.7078, 1.9367, 2.1219, 2.2123, 2.9914, 2.1921, 2.2863, 2.7452, 1.6404, 2.6583, 0.9976, 1.6266, -0.2315, 0.2984, 1.2073, -0.0435, 0.3187, 0.3279, -0.545, 4.0679, 4.0629, 4.0119, 3.9508, 3.9418, 3.9317, 3.9129, 3.8974, 3.8876, 3.8834, 3.8737, 3.8546, 3.8395, 3.7814, 3.7778, 3.7604, 3.7536, 3.7441, 3.7382, 3.7264, 3.7186, 3.7146, 3.7144, 3.7128, 3.7101, 3.7047, 3.6956, 3.6735, 3.6734, 3.6691, 3.6469, 3.628, 3.5846, 3.5687, 3.4965, 3.1459, 2.9731, 2.351, 2.8998, 3.312, 2.7557, 3.0089, 2.7185, 2.4628, 3.1073, 2.0793, 2.576, 1.4777, 1.7142, 2.2394, 2.3197, 1.2657, 2.9075, 1.1026, 1.2405, 1.4762, 0.4637, 2.1726, 1.8913, 2.323, 0.5276, 0.7155, 1.0456, 0.506, 1.4946, 0.3554, 0.7329, 1.1079, -0.9629, 0.9651, 4.1423, 4.1248, 4.0907, 4.071, 4.0682, 4.064, 4.0097, 4.0096, 3.9853, 3.9849, 3.9754, 3.9459, 3.925, 3.9063, 3.887, 3.8857, 3.8623, 3.8333, 3.8075, 3.7938, 3.7774, 3.7578, 3.7513, 3.7497, 3.7199, 3.7112, 3.7079, 3.6983, 3.6844, 3.6757, 3.6412, 3.6004, 3.3037, 3.154, 3.5307, 2.4109, 2.2721, 2.6334, 2.2047, 3.3026, 2.2598, 2.3783, 2.553, -0.0171, 0.9, -0.0627, 0.6825, 0.4368, 0.0294, -1.2126, -0.3555, -0.1211, 4.1275, 4.0809, 4.0668, 4.0544, 4.0501, 4.0032, 3.9948, 3.9885, 3.97, 3.968, 3.9525, 3.9334, 3.9271, 3.9255, 3.9082, 3.9035, 3.8847, 3.8816, 3.881, 3.8705, 3.8639, 3.8634, 3.8584, 3.8582, 3.8532, 3.8458, 3.8387, 3.8359, 3.832, 3.8222, 3.7675, 3.8101, 3.6479, 3.1017, 3.7055, 3.5892, 3.7221, 3.0686, 3.5078, 3.3901, 3.3211, 1.8403, 2.7092, 1.8352, 2.1268, 2.8571, 3.0993, 2.672, 2.422, 1.7753, 1.4977, 1.8384, 2.5733, 1.4675, 0.6722, 0.3678, 1.8711, 0.1182, 0.3827, -1.19, 0.5964, 4.2271, 4.171, 4.1633, 4.1615, 4.1464, 4.1335, 4.1223, 4.0927, 4.0854, 4.08, 4.0759, 4.0698, 4.0692, 4.0505, 4.0467, 4.0399, 4.0187, 4.0118, 3.9865, 3.9673, 3.9575, 3.9223, 3.8531, 3.8464, 3.8457, 3.8394, 3.8318, 3.803, 3.7993, 3.7953, 3.7329, 3.7246, 3.7703, 3.6777, 3.6198, 3.6603, 3.3897, 3.2803, 3.2657, 3.448, 3.182, 2.685, 2.8979, 2.3454, 2.6416, 3.0204, 2.5851, 2.3203, 1.2232, 2.3281, 1.1524, 1.3407, 1.773, 0.6304, 4.1912, 4.1675, 4.1669, 4.145, 4.1269, 4.1189, 4.0786, 4.052, 4.0506, 4.0461, 4.0401, 4.0372, 4.0283, 4.0173, 3.9771, 3.9541, 3.9388, 3.9126, 3.9069, 3.8997, 3.8973, 3.887, 3.8667, 3.8026, 3.7966, 3.7874, 3.7844, 3.7643, 3.7568, 3.7378, 3.6877, 3.626, 3.6409, 3.4421, 3.5094, 3.629, 2.8512, 2.5229, 3.136, 3.1761, 2.4072, 2.5608, 1.9023, 2.2641, 1.7604, 2.1174, 2.5227, 2.1999, 0.807, 0.3614, 1.5531, 1.2895, 0.2022, 1.1857, 2.1667, -0.0557, 1.4359, 4.2721, 4.229, 4.2185, 4.215, 4.1931, 4.1834, 4.1726, 4.1543, 4.1377, 4.1358, 4.1181, 4.1138, 4.1084, 4.0942, 4.0819, 4.0692, 4.0545, 4.0473, 4.0443, 4.0433, 4.0431, 4.0426, 4.0362, 4.0326, 4.0264, 4.0148, 3.9839, 3.9578, 3.9574, 3.9432, 3.9216, 3.8855, 3.8613, 3.7266, 3.8219, 3.6466, 3.7999, 3.3161, 3.0673, 2.9115, 2.1796, 2.259, 2.6879, 2.2324, 2.6088, 3.3014, 2.5927, 3.0816, 1.0183, 2.4413, 2.9762, 2.1447, 4.3012, 4.2972, 4.2601, 4.2147, 4.2051, 4.1982, 4.1878, 4.1862, 4.1832, 4.183, 4.1821, 4.1786, 4.1604, 4.1582, 4.1556, 4.0947, 4.0867, 4.0676, 4.0607, 4.0553, 4.0552, 4.0467, 4.0334, 4.0291, 4.0094, 4.0051, 3.9905, 3.9609, 3.9599, 3.9463, 3.9362, 3.9143, 3.9403, 3.7723, 3.9183, 3.4255, 3.3497, 3.6028, 2.3115, 3.4419, 2.0153, 2.89, 2.1719, 3.0921, 3.0108, 1.4797, 1.7526, 2.6796, 2.8169, 1.361, 0.9944, 1.97, 2.2028, 0.6885, 4.3106, 4.2552, 4.247, 4.1488, 4.138, 4.1378, 4.1353, 4.1344, 4.1275, 4.1068, 4.0925, 4.0745, 4.0584, 4.0479, 4.0441, 4.0344, 4.0022, 3.9908, 3.9772, 3.9752, 3.9632, 3.9616, 3.9452, 3.9364, 3.9256, 3.9096, 3.9009, 3.8954, 3.8859, 3.8693, 3.8302, 3.7467, 3.773, 3.2762, 3.7699, 3.5163, 2.8165, 2.1923, 1.9266, 1.697, 2.9549, -0.2109, 3.0315, 0.953, 2.3994, 0.1309, 0.3826, 0.4566, 0.6785, 1.0493, 0.0131, -0.2923, 0.5807, 0.5445, -0.0315, -0.0073, 0.6872, 0.2371, 4.2999, 4.1917, 4.1907, 4.1502, 4.1269, 4.125, 4.092, 4.0869, 4.0411, 4.0278, 4.011, 4.0068, 4.0008, 3.9919, 3.9919, 3.9909, 3.9761, 3.9467, 3.9228, 3.9184, 3.9065, 3.9065, 3.9065, 3.9065, 3.9065, 3.9065, 3.9064, 3.9064, 3.9064, 3.9064, 3.8976, 3.8436, 3.74, 3.8863, 3.841, 3.8128, 3.7306, 3.8416, 3.6888, 3.6994, 3.7857, 3.5949, 3.6533, 2.9442, 3.0981, 2.4239, 3.4385, 2.9163, 2.6362, 2.8511, 2.7324, 1.5834, 2.8095, 3.4317, -0.5651, 2.6635, 1.7361, 0.729, 0.9432, 2.1367, 1.1068, 0.9293, -0.6103, 4.3104, 4.2593, 4.2076, 4.2042, 4.1515, 4.1463, 4.14, 4.1295, 4.126, 4.1035, 4.0842, 4.0579, 4.0455, 4.0202, 4.0201, 4.0201, 4.0158, 4.0104, 3.999, 3.9985, 3.9974, 3.9958, 3.9937, 3.9635, 3.9564, 3.9487, 3.9343, 3.9114, 3.8937, 3.8932, 3.8374, 3.8561, 3.723, 3.7294, 3.7369, 3.4775, 3.4129, 3.5379, 2.6253, 2.4864, 3.4057, 2.7007, 3.1581, 3.3202, 3.6812, 2.4157, 2.9619, 1.6371, 2.6854, 1.8615, 2.9462, 1.7175, 0.4089, 1.0024, 1.3804, 1.0813, -0.1237, 4.2355, 4.2042, 4.1996, 4.167, 4.1254, 4.1199, 4.1146, 4.108, 4.1046, 4.0815, 4.0776, 4.0725, 4.0654, 4.065, 4.0628, 4.0622, 4.0603, 4.0563, 4.0354, 4.0334, 4.0156, 4.0122, 4.0074, 3.9978, 3.9946, 3.9892, 3.9743, 3.9715, 3.9672, 3.921, 3.8417, 3.91, 3.7518, 3.8102, 3.7666, 3.8047, 3.8137, 3.7396, 3.6458, 3.3545, 3.4093, 3.6447, 3.6104, 3.4878, 2.5325, 2.8556, 3.0989, 3.2674, 2.5116, 1.2866, 2.6527, 1.5759, 2.2866, 2.1459, 1.8019, 2.5707, 2.219, -0.6506, 1.7061, 2.7015, 1.3064, 1.5927, 4.2937, 4.2776, 4.2169, 4.2085, 4.1915, 4.1877, 4.1762, 4.1572, 4.1538, 4.129, 4.1006, 4.0838, 4.0672, 4.0485, 4.0183, 4.0089, 4.0015, 3.9828, 3.9798, 3.9656, 3.9619, 3.958, 3.9477, 3.8666, 3.8611, 3.8585, 3.8366, 3.8318, 3.8154, 3.8145, 3.8101, 3.8085, 3.7971, 3.6969, 3.7558, 3.3857, 3.5578, 3.1956, 3.3736, 2.9408, 2.1195, 2.7548, 2.2034, 1.3799, 2.5518, 1.933, 1.6905, 1.7552, 1.482, 2.3644, 2.4691, 0.9449, 0.0058, -0.8597, 1.3069, 1.5372, 0.4667, 1.2199, -0.1042, 4.3931, 4.3545, 4.3486, 4.3236, 4.2847, 4.2686, 4.2629, 4.2625, 4.2395, 4.2128, 4.2076, 4.2047, 4.1923, 4.1394, 4.1174, 4.1062, 4.0987, 4.0807, 4.0679, 4.0529, 4.0511, 4.0183, 3.9921, 3.9847, 3.9643, 3.9429, 3.9303, 3.9171, 3.9081, 3.8859, 3.8625, 3.8203, 3.7793, 3.631, 3.6773, 3.6138, 3.2103, 3.2327, 2.7977, 2.9706, 2.5818, 2.2953, 1.0752, 2.8434, 2.4974, 2.5044, 1.9786, 2.3412, 2.5475, 1.6261, 2.359, 2.1376, 2.0882, 0.252, 1.3917, 2.4033, 1.9364, 1.924, 4.45, 4.4435, 4.4196, 4.3788, 4.376, 4.3752, 4.3483, 4.3419, 4.3417, 4.3368, 4.3051, 4.305, 4.2684, 4.2572, 4.2386, 4.2328, 4.2321, 4.2255, 4.2095, 4.2075, 4.1709, 4.1683, 4.1562, 4.1503, 4.1393, 4.1094, 4.0664, 4.0662, 4.0543, 4.0388, 4.0287, 4.0348, 3.91, 4.0004, 4.0018, 3.9558, 3.3804, 3.9474, 3.6314, 2.9692, 2.689, 3.6823, 2.2716, 3.0727, 2.8068, 2.6455, 2.4593, 2.2196, 0.6163, 2.8195, 1.3402, 0.9224, -0.344, 1.8017, 0.7332, 1.8514, 1.2968, 0.4471, 0.0676, -0.0191, 0.9022, 0.7368, 4.5044, 4.4817, 4.4377, 4.4269, 4.3859, 4.3846, 4.3687, 4.362, 4.3592, 4.3429, 4.3354, 4.3143, 4.2841, 4.2735, 4.2664, 4.2332, 4.2183, 4.2167, 4.1901, 4.1901, 4.1898, 4.1856, 4.1823, 4.1766, 4.1458, 4.1431, 4.1304, 4.1304, 4.1303, 4.1302, 4.0374, 4.1034, 4.0915, 4.1165, 3.4255, 3.9798, 2.8717, 3.7116, 3.6306, 3.8039, 0.9849, 2.0994, 1.9461, 2.6869, 2.3884, 2.4386, 1.5634, 1.9072, 1.0798, 0.69, 2.6052, 4.5243, 4.4161, 4.3521, 4.3482, 4.3396, 4.3381, 4.3129, 4.3023, 4.2866, 4.2805, 4.2701, 4.2657, 4.2196, 4.2158, 4.2154, 4.2116, 4.2101, 4.1887, 4.1872, 4.1827, 4.169, 4.1689, 4.1689, 4.1617, 4.1613, 4.1523, 4.1433, 4.1144, 4.1105, 4.0901, 4.0832, 3.9975, 3.8741, 4.0033, 3.4724, 4.009, 3.8658, 3.4072, 3.424, 3.8549, 3.243, 2.3005, 3.3461, 3.3023, 3.1778, 3.4494, 1.945, 1.5761, 2.7072, 3.3944, -1.3955, -0.0973, 2.3838, 4.5324, 4.4751, 4.4746, 4.4222, 4.4084, 4.3852, 4.3718, 4.3711, 4.3709, 4.3661, 4.3379, 4.3375, 4.3275, 4.3182, 4.2892, 4.2372, 4.1918, 4.1912, 4.1912, 4.1911, 4.1903, 4.1858, 4.175, 4.1701, 4.1628, 4.1616, 4.1608, 4.1584, 4.1583, 4.1582, 4.1523, 4.1288, 4.0962, 4.0933, 4.1488, 3.9619, 3.6516, 3.7179, 3.7561, 3.1192, 2.6468, 2.3763, 2.8365, 2.3515, 1.025, 3.4801, 2.1324, 2.777, 2.7988, 1.2075, 2.1948, 0.7019, 0.2051, 0.8138, -0.9763, 0.8329, 0.9795, 2.5247, 4.6059, 4.5992, 4.5989, 4.4739, 4.3531, 4.3501, 4.349, 4.338, 4.326, 4.2734, 4.2603, 4.2603, 4.2603, 4.2603, 4.2603, 4.2602, 4.2602, 4.2602, 4.2602, 4.2602, 4.2602, 4.2602, 4.2601, 4.2601, 4.2325, 4.2072, 4.202, 4.1939, 4.1779, 4.1683, 4.1289, 3.9925, 3.9662, 4.0765, 3.8477, 3.664, 4.0027, 4.0974, 3.1477, 3.6974, 3.1599, 3.851, 3.2461, 3.6265, 3.1685, 2.6738, 1.2932, 3.7421, 1.9056, 0.1026, 0.382, 0.4418, -1.2272, 0.2769, -0.3603, 0.0622, 4.5629, 4.5501, 4.453, 4.4439, 4.4332, 4.4263, 4.418, 4.4088, 4.3958, 4.3725, 4.3231, 4.3, 4.2918, 4.276, 4.2759, 4.2759, 4.2687, 4.2661, 4.2567, 4.2546, 4.2464, 4.244, 4.2404, 4.2323, 4.2182, 4.2021, 4.1935, 4.1869, 4.1676, 4.1445, 4.1423, 4.1194, 4.058, 4.1305, 3.7154, 3.9038, 3.1115, 3.6407, 2.7203, 3.4255, 3.4538, 3.6727, 2.7535, 3.1428, 3.5899, 1.5536, 3.1929, 0.757, 0.7047, 1.5327, 1.7852, 3.0489, 0.6742, 0.1268, 4.5667, 4.5015, 4.464, 4.4479, 4.4091, 4.3715, 4.3397, 4.2946, 4.2727, 4.2538, 4.232, 4.2172, 4.2087, 4.1977, 4.1854, 4.1813, 4.1683, 4.1613, 4.1402, 4.1363, 4.0968, 4.0938, 4.0867, 4.0633, 4.0615, 4.0522, 4.0289, 4.0145, 4.0007, 3.991, 3.9885, 3.9631, 3.9484, 3.8421, 3.8493, 3.925, 3.9197, 3.6112, 3.8877, 3.3882, 3.8244, 3.4399, 3.8566, 3.0901, 1.8652, 3.1792, 2.909, 2.7865, 3.0152, 3.0224, 3.087, 2.7057, 2.6356, 1.7637, 1.3129, 0.9186, 1.4843, 1.7915, -0.9749, 1.1644, 1.4121, 1.4397, 1.5915, 4.7388, 4.7333, 4.6069, 4.5859, 4.5475, 4.5267, 4.5248, 4.5224, 4.5187, 4.5082, 4.4979, 4.4867, 4.4554, 4.4387, 4.4322, 4.4118, 4.366, 4.3398, 4.3051, 4.2878, 4.2753, 4.2447, 4.1196, 4.117, 4.0762, 4.0692, 4.0569, 4.0489, 4.036, 4.0288, 3.9518, 3.9519, 3.9297, 3.896, 3.4931, 3.449, 3.7406, 3.4469, 3.1441, 2.2338, 3.0088, 0.7341, 2.62, 3.1674, 2.3343, 1.8278, 0.8692, -1.0197, 0.0502, 2.5731, 1.434, 0.5948, 4.7969, 4.7288, 4.6659, 4.6115, 4.5958, 4.5943, 4.5742, 4.5558, 4.5552, 4.537, 4.5339, 4.5237, 4.5163, 4.4505, 4.4373, 4.4212, 4.4212, 4.3727, 4.3726, 4.3336, 4.3287, 4.327, 4.3217, 4.3215, 4.2539, 4.2425, 4.2133, 4.209, 4.129, 4.0821, 3.9967, 3.9275, 3.8744, 3.7621, 3.8724, 3.6082, 2.9551, 3.6861, 2.337, 2.8064, 2.5268, 3.773, 2.9735, 1.9046, 1.6833, 1.6438, 4.7241, 4.6776, 4.6587, 4.6028, 4.5674, 4.557, 4.5052, 4.5015, 4.4905, 4.4719, 4.4657, 4.4371, 4.4249, 4.4043, 4.4014, 4.3622, 4.3606, 4.3515, 4.3461, 4.3259, 4.3173, 4.2987, 4.2864, 4.2476, 4.2455, 4.2392, 4.2351, 4.2342, 4.2334, 4.2333, 4.2315, 4.1481, 3.8275, 3.7945, 3.7059, 3.967, 3.7962, 1.8111, 2.4393, 3.4653, -0.1633, 1.11, 0.3463, 0.5737, 1.5805, -0.3438, 4.8209, 4.7741, 4.7133, 4.6471, 4.6049, 4.5653, 4.5255, 4.5218, 4.5031, 4.5001, 4.4769, 4.4443, 4.391, 4.36, 4.3599, 4.3599, 4.3598, 4.3394, 4.2906, 4.2816, 4.2563, 4.2313, 4.2062, 4.2052, 4.2026, 4.2023, 4.1804, 4.1679, 4.1679, 4.1679, 4.1658, 4.125, 3.8536, 3.959, 3.7018, 3.5838, 3.4854, 3.8226, 2.965, 2.4344, 2.0079, 3.4695, 2.326, 1.9038, 1.3438, 1.5547, 1.9132, 1.1275, -1.0865, 1.1835, 0.2278, 1.9998, 4.7305, 4.7197, 4.7131, 4.6456, 4.5953, 4.5861, 4.5801, 4.5694, 4.5686, 4.5558, 4.5183, 4.5141, 4.5095, 4.4691, 4.4565, 4.4509, 4.4324, 4.4312, 4.4251, 4.4249, 4.4237, 4.4211, 4.421, 4.4207, 4.4199, 4.4035, 4.3761, 4.3759, 4.3758, 4.3757, 4.3681, 4.3644, 4.2861, 4.3254, 4.1662, 4.1061, 3.4396, 4.0893, 3.9365, 3.871, 1.9789, -0.1379, 2.8785, 4.7691, 4.7149, 4.6629, 4.612, 4.5779, 4.5757, 4.5546, 4.5372, 4.5224, 4.4995, 4.4914, 4.4363, 4.434, 4.3849, 4.3122, 4.312, 4.312, 4.3022, 4.2749, 4.2695, 4.2693, 4.2642, 4.2634, 4.2514, 4.2463, 4.2415, 4.2375, 4.2233, 4.2197, 4.2055, 4.1602, 4.173, 3.9839, 4.01, 3.8129, 3.9137, 3.7078, 3.265, 2.6615, 3.088, 2.9433, 2.9181, 2.664, 2.2429, 0.9405, 2.2155, 2.2673, 1.4033, 1.4086, -0.2511, 0.3997, 4.7297, 4.7288, 4.723, 4.7027, 4.6779, 4.6779, 4.6584, 4.651, 4.603, 4.5834, 4.5503, 4.4855, 4.4026, 4.4013, 4.3746, 4.3742, 4.3725, 4.3661, 4.3407, 4.3078, 4.2722, 4.2721, 4.257, 4.2203, 4.2007, 4.1579, 4.0876, 4.0491, 4.0474, 4.0474, 4.0438, 4.0393, 3.8269, 3.8904, 3.8125, 3.9355, 3.6889, 3.4553, 2.1635, 3.3452, 1.8588, 2.9432, 2.6314, 0.1501, 0.5292, 1.8248, 0.3537, 4.8622, 4.7411, 4.7403, 4.7201, 4.4904, 4.4865, 4.4527, 4.3941, 4.3784, 4.2935, 4.2518, 4.194, 4.1357, 4.1232, 4.1193, 4.1052, 3.9863, 3.9761, 3.9558, 3.9454, 3.9391, 3.922, 3.9166, 3.7959, 3.7688, 3.7424, 3.7383, 3.7288, 3.7228, 3.7171, 3.7051, 3.6425, 3.3396, 3.0676, 3.3524, 3.2229, 2.8246, 2.7048, 3.0487, 3.3602, 1.8307, 2.2864, 1.652, 1.4984, 1.5195, 2.3143, 1.3376, 0.9511, 0.9071, -0.2544, 1.0066, 0.0438, 0.3992, 0.6869, 4.8348, 4.6823, 4.6483, 4.6453, 4.5764, 4.5578, 4.5572, 4.5052, 4.4017, 4.3235, 4.3009, 4.2863, 4.2728, 4.2468, 4.2324, 4.2264, 4.2185, 4.2103, 4.1132, 4.0457, 4.037, 4.0268, 3.9596, 3.9007, 3.8954, 3.8952, 3.879, 3.8746, 3.8517, 3.8249, 3.8063, 3.6104, 3.2902, 3.5194, 3.0942, 3.0332, 2.7639, 3.2001, 2.5414, 2.467, 2.3396, 1.7367, 2.3207, 1.867, 1.6523, 1.4031, 2.6288, 1.8334, 1.2524, 1.0505, 0.6226, 4.7611, 4.6897, 4.6571, 4.5537, 4.5398, 4.5397, 4.5119, 4.5014, 4.3718, 4.3541, 4.3275, 4.3274, 4.3135, 4.3077, 4.2592, 4.228, 4.2268, 4.2252, 4.2119, 4.2008, 4.1953, 4.1938, 4.1741, 4.1722, 4.1481, 4.1413, 4.1404, 4.1401, 4.1334, 4.1038, 4.0685, 4.0584, 3.6033, 4.04, 3.4259, 2.782, 3.3667, 2.2945, 2.3903, 2.3761, 3.1024, 2.2439, 3.6914, 1.2602, 1.967, 1.1134, 1.4149, 1.6529, 0.6745, 2.8008, 0.2332, 2.0259, 0.2174, -0.4612, 4.891, 4.8148, 4.6739, 4.6689, 4.5736, 4.5638, 4.5398, 4.527, 4.4683, 4.4302, 4.3624, 4.337, 4.3299, 4.314, 4.3112, 4.2764, 4.2044, 4.2004, 4.1942, 4.1713, 4.1514, 4.1468, 4.1108, 4.0782, 4.0122, 4.0047, 3.9733, 3.9288, 3.9219, 3.9218, 3.9183, 3.9075, 3.9096, 3.8302, 3.7117, 3.2917, 3.4938, 3.1373, 3.0469, 2.2803, 2.1005, 0.5412, 2.1712, 2.71, 0.8012, 1.1125, -1.7817, -0.4152, -1.2419, 4.7991, 4.7423, 4.6865, 4.6779, 4.6388, 4.6224, 4.6216, 4.6113, 4.5903, 4.5691, 4.5568, 4.4561, 4.4149, 4.3736, 4.3554, 4.3501, 4.3415, 4.3341, 4.3107, 4.2941, 4.2597, 4.2131, 4.1773, 4.1164, 4.0944, 4.0786, 4.0648, 4.0609, 4.0341, 3.9846, 3.9828, 3.9687, 3.8906, 3.6994, 3.7803, 3.74, 3.7841, 3.6511, 2.6565, 3.6836, 2.4927, 2.5891, 3.4504, 2.6533, 2.2297, 1.8143, 1.4469, 0.8245, 1.2328, 2.1334, 0.1774, 1.6509, -0.0612, 4.9546, 4.949, 4.9331, 4.8727, 4.8554, 4.7874, 4.5936, 4.2535, 4.2507, 4.1995, 4.1881, 4.1555, 4.0838, 3.9509, 3.9177, 3.8969, 3.8885, 3.8869, 3.882, 3.8736, 3.8646, 3.8283, 3.8158, 3.7508, 3.7308, 3.706, 3.6989, 3.6843, 3.6793, 3.6466, 3.6292, 3.2365, 3.0732, 2.9387, 2.4773, 2.3423, 2.9005, 1.6562, 1.4642, 1.5873, 1.8078, 1.0893, 1.3393, 0.773, 1.1524, 1.0717, 0.3345, 0.7929, -0.486, 0.3134, -1.9436, 0.314, -0.4145, 4.9, 4.768, 4.7516, 4.722, 4.7139, 4.7002, 4.6971, 4.5636, 4.5577, 4.5577, 4.5577, 4.5577, 4.5577, 4.5577, 4.5576, 4.5576, 4.5574, 4.5561, 4.5411, 4.5299, 4.5212, 4.51, 4.5098, 4.5078, 4.5034, 4.4941, 4.4868, 4.4849, 4.4818, 4.476, 4.4714, 4.4295, 4.2958, 4.4077, 4.3921, 4.3726, 3.9708, 4.3831, 3.8365, 1.7193, 2.5909, 4.1354, 3.8161, 2.0141, 1.9158, 3.5741, 1.1928, 2.3119, 0.8858, -0.6858, 1.9745, 3.1877, 4.9388, 4.9061, 4.8251, 4.7947, 4.7531, 4.7211, 4.5258, 4.5226, 4.4908, 4.4754, 4.4406, 4.4034, 4.3843, 4.3664, 4.243, 4.2206, 4.2033, 4.1564, 4.1231, 4.0824, 4.0743, 4.0421, 4.0317, 4.0281, 4.0043, 3.9988, 3.9484, 3.9089, 3.9088, 3.9062, 3.8499, 3.7047, 2.9762, 2.8704, 3.0851, 2.5799, 1.9598, 2.9413, 1.8982, 2.0061, 1.6872, 2.6629, 2.152, 1.0335, 0.7926, -0.3064, 1.568, 0.1372, 4.9574, 4.8216, 4.5938, 4.5269, 4.5029, 4.4872, 4.4396, 4.3975, 4.377, 4.3593, 4.2245, 4.1872, 4.1577, 4.1561, 4.1264, 4.1164, 4.1065, 4.0948, 4.081, 4.0684, 4.033, 4.0273, 4.0056, 3.9952, 3.9821, 3.9355, 3.8789, 3.86, 3.8408, 3.8097, 3.694, 0.9201, 2.5529, 2.7104, 1.3039, 1.0813, 1.2638, 1.4906, 0.1132, 3.2732, 0.2322, -0.6394, -1.2618, -0.421, -2.5863, -0.8394, 4.83, 4.8138, 4.8113, 4.7703, 4.7249, 4.5681, 4.3912, 4.2675, 4.2101, 4.2038, 4.1963, 4.0266, 4.0253, 3.9808, 3.9806, 3.9228, 3.9211, 3.9208, 3.9111, 3.8461, 3.8453, 3.8432, 3.8196, 3.8168, 3.7714, 3.7533, 3.7531, 3.7494, 3.7044, 3.6703, 3.4176, 3.2687, 3.571, 2.626, 2.916, 2.6311, 2.7617, 2.3995, 2.5483, 1.3235, 1.2993, 0.6948, -1.2869, 0.9701, 0.4216, 0.2288, 1.7505, 1.2396, 1.0651, 1.5143, 0.9846, 0.0491, -1.2829, -0.7498]}, \"token.table\": {\"Topic\": [33, 41, 9, 17, 1, 2, 3, 4, 7, 16, 20, 31, 1, 28, 4, 1, 2, 3, 4, 6, 22, 23, 2, 11, 1, 2, 3, 4, 5, 6, 7, 8, 9, 10, 11, 12, 13, 14, 15, 16, 17, 19, 20, 21, 22, 23, 29, 35, 39, 40, 41, 43, 44, 31, 1, 31, 1, 2, 3, 4, 8, 9, 15, 1, 2, 4, 5, 11, 16, 17, 1, 2, 3, 4, 5, 6, 9, 10, 14, 19, 21, 22, 18, 1, 18, 26, 24, 30, 1, 2, 3, 4, 5, 6, 7, 8, 10, 11, 12, 13, 14, 15, 16, 19, 20, 21, 23, 25, 17, 1, 2, 33, 4, 6, 19, 1, 2, 3, 4, 7, 8, 9, 15, 18, 27, 29, 12, 2, 3, 4, 10, 26, 32, 33, 1, 4, 5, 7, 8, 10, 23, 33, 4, 1, 2, 3, 5, 7, 8, 11, 12, 13, 14, 19, 34, 11, 6, 35, 15, 18, 43, 1, 2, 3, 4, 5, 6, 28, 9, 2, 4, 8, 21, 40, 1, 3, 7, 8, 10, 13, 30, 35, 1, 2, 3, 4, 5, 6, 7, 8, 39, 1, 2, 6, 11, 12, 1, 2, 3, 4, 5, 6, 7, 8, 10, 1, 3, 4, 11, 32, 35, 1, 2, 3, 4, 5, 6, 7, 8, 10, 11, 12, 14, 15, 17, 19, 21, 22, 23, 25, 28, 43, 2, 21, 33, 2, 9, 43, 25, 33, 11, 3, 23, 25, 4, 17, 28, 2, 4, 5, 11, 12, 14, 16, 32, 8, 37, 33, 10, 4, 33, 33, 13, 19, 22, 4, 6, 28, 1, 3, 4, 10, 13, 16, 22, 22, 14, 12, 4, 20, 1, 2, 3, 4, 5, 6, 7, 8, 12, 14, 16, 17, 20, 31, 4, 17, 33, 14, 4, 33, 4, 17, 1, 2, 4, 17, 32, 1, 2, 3, 5, 6, 7, 8, 9, 10, 12, 13, 14, 16, 19, 24, 26, 27, 31, 32, 38, 9, 45, 1, 19, 37, 16, 1, 5, 11, 26, 40, 6, 15, 31, 3, 5, 27, 18, 38, 7, 2, 7, 9, 11, 13, 25, 43, 28, 7, 6, 1, 2, 3, 4, 6, 7, 9, 19, 23, 25, 32, 35, 37, 22, 2, 32, 1, 2, 3, 16, 31, 21, 12, 18, 1, 2, 6, 27, 20, 46, 15, 39, 1, 2, 3, 4, 5, 6, 7, 10, 11, 13, 14, 19, 20, 23, 24, 38, 39, 41, 2, 3, 6, 7, 13, 14, 21, 24, 39, 41, 1, 2, 5, 16, 27, 41, 1, 2, 3, 4, 6, 7, 13, 14, 17, 20, 23, 1, 2, 3, 4, 6, 7, 8, 14, 23, 24, 41, 6, 2, 34, 22, 17, 7, 14, 21, 38, 1, 19, 1, 2, 3, 4, 6, 7, 8, 17, 25, 34, 3, 9, 1, 38, 24, 1, 2, 3, 4, 6, 10, 13, 28, 30, 40, 44, 2, 3, 4, 6, 7, 12, 13, 23, 25, 1, 2, 3, 4, 8, 10, 11, 12, 16, 20, 23, 27, 29, 39, 34, 41, 9, 13, 1, 11, 37, 11, 1, 2, 3, 4, 5, 6, 7, 8, 9, 10, 11, 12, 13, 14, 15, 17, 19, 20, 21, 22, 23, 25, 26, 28, 29, 31, 32, 4, 17, 29, 1, 3, 6, 14, 43, 5, 43, 8, 38, 2, 1, 4, 13, 27, 13, 15, 6, 1, 2, 3, 4, 5, 6, 7, 8, 9, 13, 16, 17, 19, 23, 25, 29, 38, 1, 5, 8, 15, 22, 3, 7, 8, 10, 1, 3, 4, 6, 21, 44, 7, 37, 1, 1, 4, 6, 8, 10, 32, 1, 4, 6, 8, 10, 1, 3, 5, 11, 46, 36, 3, 38, 48, 19, 32, 6, 45, 17, 1, 3, 10, 29, 30, 28, 21, 2, 6, 31, 1, 16, 16, 10, 45, 1, 4, 6, 8, 4, 13, 31, 36, 13, 8, 11, 23, 44, 3, 17, 2, 27, 2, 3, 5, 6, 12, 44, 35, 27, 3, 41, 22, 27, 39, 22, 1, 2, 3, 4, 5, 6, 7, 9, 10, 12, 17, 20, 22, 31, 40, 38, 23, 2, 20, 1, 2, 3, 4, 5, 6, 7, 8, 10, 11, 13, 15, 17, 19, 21, 24, 26, 31, 32, 1, 44, 4, 2, 33, 48, 1, 7, 18, 2, 7, 18, 21, 27, 1, 2, 3, 4, 5, 7, 8, 10, 22, 26, 26, 12, 15, 30, 45, 2, 47, 1, 3, 5, 10, 28, 34, 32, 36, 36, 6, 36, 8, 14, 28, 42, 20, 28, 8, 16, 42, 26, 10, 2, 30, 1, 2, 3, 46, 8, 15, 1, 2, 12, 41, 1, 27, 19, 1, 28, 29, 4, 28, 1, 2, 3, 4, 5, 7, 9, 11, 12, 13, 14, 16, 17, 21, 31, 18, 6, 16, 24, 3, 9, 9, 37, 13, 36, 1, 2, 9, 17, 37, 42, 11, 12, 13, 26, 9, 41, 26, 32, 9, 5, 1, 2, 3, 4, 6, 12, 19, 22, 19, 4, 5, 18, 31, 3, 9, 25, 1, 2, 20, 20, 26, 25, 10, 12, 2, 5, 48, 26, 13, 6, 17, 27, 2, 11, 1, 1, 2, 3, 4, 5, 6, 7, 8, 9, 10, 11, 12, 13, 14, 15, 16, 17, 19, 20, 21, 22, 23, 24, 25, 26, 35, 37, 38, 41, 1, 3, 36, 13, 36, 11, 2, 11, 13, 21, 46, 42, 34, 1, 2, 3, 17, 25, 1, 2, 3, 4, 5, 6, 7, 10, 12, 18, 32, 16, 17, 2, 22, 25, 28, 5, 8, 30, 40, 1, 2, 4, 5, 6, 7, 8, 13, 16, 21, 30, 35, 2, 4, 16, 32, 2, 22, 27, 29, 16, 9, 2, 3, 9, 29, 33, 34, 10, 1, 3, 27, 28, 14, 29, 31, 10, 23, 13, 4, 22, 3, 17, 36, 7, 5, 3, 3, 24, 25, 42, 28, 3, 7, 30, 19, 30, 9, 1, 4, 5, 6, 8, 10, 12, 16, 30, 2, 13, 12, 20, 30, 5, 13, 15, 12, 3, 23, 4, 6, 7, 17, 1, 2, 6, 7, 11, 12, 17, 7, 36, 1, 2, 3, 4, 5, 6, 7, 8, 9, 10, 11, 12, 13, 14, 16, 17, 18, 19, 20, 21, 22, 24, 26, 28, 33, 37, 43, 24, 2, 3, 16, 14, 2, 3, 4, 17, 19, 20, 30, 1, 46, 2, 4, 37, 38, 8, 1, 2, 3, 8, 10, 13, 14, 16, 17, 18, 32, 4, 21, 4, 8, 26, 9, 38, 33, 3, 5, 31, 2, 10, 22, 23, 27, 41, 27, 1, 10, 4, 20, 36, 2, 3, 10, 13, 17, 25, 26, 1, 4, 6, 18, 23, 25, 44, 6, 9, 37, 37, 33, 29, 4, 33, 4, 5, 8, 14, 17, 28, 33, 4, 16, 8, 9, 38, 2, 3, 10, 17, 28, 30, 21, 29, 1, 2, 3, 4, 5, 6, 8, 10, 40, 41, 28, 26, 26, 1, 2, 3, 4, 45, 31, 41, 1, 2, 23, 17, 39, 6, 41, 1, 2, 3, 4, 5, 6, 7, 8, 9, 10, 11, 14, 15, 16, 18, 19, 20, 21, 23, 24, 27, 29, 32, 33, 36, 10, 1, 2, 3, 4, 5, 6, 7, 10, 13, 30, 40, 10, 10, 22, 5, 31, 16, 3, 38, 44, 20, 29, 37, 1, 22, 6, 3, 7, 8, 21, 11, 24, 32, 35, 1, 2, 37, 1, 2, 4, 5, 6, 8, 9, 28, 35, 1, 2, 3, 4, 5, 6, 7, 9, 12, 13, 14, 16, 19, 22, 42, 1, 2, 3, 4, 5, 6, 7, 8, 9, 10, 11, 12, 13, 14, 15, 16, 17, 18, 19, 20, 21, 22, 23, 24, 25, 30, 32, 34, 37, 38, 39, 41, 42, 4, 7, 17, 42, 43, 7, 22, 35, 1, 15, 24, 1, 2, 4, 6, 24, 45, 1, 2, 4, 9, 24, 12, 7, 16, 1, 2, 3, 4, 5, 6, 8, 11, 17, 20, 35, 19, 4, 8, 32, 10, 21, 46, 36, 45, 1, 2, 3, 4, 5, 6, 12, 15, 16, 23, 25, 26, 11, 27, 26, 11, 1, 2, 3, 4, 6, 7, 8, 11, 14, 16, 28, 35, 41, 1, 2, 3, 6, 7, 10, 13, 14, 18, 19, 39, 1, 2, 3, 6, 7, 9, 15, 16, 23, 27, 37, 27, 28, 1, 3, 4, 5, 8, 10, 34, 17, 30, 6, 14, 34, 1, 2, 3, 5, 6, 11, 21, 45, 4, 13, 2, 3, 6, 7, 8, 14, 20, 32, 46, 1, 2, 3, 4, 5, 6, 7, 8, 9, 10, 11, 12, 13, 14, 16, 19, 20, 21, 22, 23, 25, 29, 41, 44, 2, 3, 6, 39, 24, 1, 2, 3, 4, 5, 6, 7, 9, 12, 13, 14, 15, 16, 21, 27, 8, 14, 45, 46, 42, 1, 2, 3, 4, 5, 6, 7, 9, 10, 14, 17, 18, 19, 22, 23, 25, 27, 28, 35, 1, 22, 1, 26, 7, 45, 10, 32, 41, 25, 22, 19, 18, 8, 15, 18, 14, 17, 17, 19, 1, 2, 3, 5, 6, 10, 19, 37, 34, 1, 19, 43, 35, 6, 7, 18, 18, 21, 22, 3, 25, 23, 1, 2, 3, 6, 31, 3, 5, 6, 42, 1, 41, 2, 3, 4, 16, 28, 31, 1, 2, 3, 6, 19, 22, 37, 8, 3, 9, 38, 1, 2, 3, 6, 24, 45, 1, 3, 4, 28, 1, 2, 3, 4, 5, 6, 8, 13, 20, 22, 25, 29, 1, 2, 4, 8, 23, 42, 24, 3, 17, 20, 2, 3, 4, 9, 18, 21, 24, 9, 4, 1, 2, 3, 4, 5, 6, 7, 8, 9, 10, 17, 20, 21, 23, 24, 25, 28, 29, 32, 37, 41, 1, 3, 17, 1, 2, 3, 6, 13, 19, 25, 2, 16, 37, 3, 20, 12, 12, 2, 8, 30, 4, 1, 2, 6, 9, 10, 13, 15, 17, 22, 24, 41, 2, 3, 4, 8, 9, 1, 2, 3, 4, 5, 6, 7, 8, 9, 10, 11, 14, 15, 17, 21, 24, 26, 27, 29, 30, 31, 32, 37, 2, 7, 21, 10, 26, 30, 1, 2, 3, 4, 5, 6, 7, 17, 18, 22, 24, 26, 32, 1, 2, 48, 1, 2, 3, 6, 14, 18, 19, 22, 23, 27, 37, 3, 14, 19, 31, 16, 1, 2, 3, 4, 5, 6, 7, 10, 11, 12, 13, 14, 15, 19, 20, 21, 23, 28, 1, 2, 5, 6, 31, 8, 19, 34, 3, 6, 8, 12, 13, 20, 21, 2, 3, 4, 7, 11, 14, 22, 1, 28, 29, 6, 17, 3, 41, 1, 2, 3, 4, 5, 6, 7, 10, 11, 12, 13, 14, 21, 23, 26, 2, 25, 3, 5, 6, 29, 3, 31, 2, 5, 6, 10, 32, 37, 13, 16, 12, 3, 5, 21, 18, 1, 2, 3, 25, 7, 12, 3, 1, 2, 3, 4, 5, 6, 7, 9, 10, 11, 12, 14, 17, 18, 19, 22, 2, 6, 26, 37, 1, 2, 3, 4, 5, 6, 10, 11, 12, 15, 16, 18, 19, 24, 3, 14, 40, 24, 11, 38, 5, 35, 4, 1, 13, 2, 35, 19, 6, 45, 2, 3, 4, 21, 10, 1, 2, 3, 4, 6, 8, 9, 13, 19, 24, 29, 38, 47, 1, 10, 17, 15, 6, 32, 27, 43, 1, 2, 3, 4, 5, 6, 7, 8, 9, 10, 11, 12, 13, 14, 16, 17, 19, 25, 26, 29, 34, 19, 45, 10, 28, 3, 5, 37, 2, 5, 10, 12, 17, 5, 6, 8, 13, 20, 40, 7, 42, 2, 3, 4, 6, 11, 15, 23, 25, 4, 2, 4, 5, 6, 7, 9, 14, 15, 24, 30, 4, 5, 27, 4, 5, 30, 32, 10, 17, 3, 4, 5, 31, 42, 34, 26, 23, 6, 28, 27, 6, 21, 29, 34, 1, 2, 3, 5, 8, 14, 16, 30, 2, 3, 4, 7, 21, 2, 3, 41, 1, 2, 14, 22, 41, 3, 12, 14, 45, 17, 32, 18, 42, 6, 3, 4, 10, 1, 3, 4, 5, 18, 28, 16, 43, 2, 16, 20, 42, 1, 25, 37, 42, 36, 26, 2, 21, 25, 5, 2, 5, 7, 24, 42, 3, 5, 7, 31, 1, 2, 3, 5, 6, 10, 12, 42, 1, 2, 3, 4, 5, 7, 9, 12, 23, 3, 3, 30, 1, 2, 1, 3, 4, 8, 15, 2, 3, 8, 19, 21, 32, 1, 2, 3, 4, 5, 6, 8, 15, 17, 21, 28, 1, 2, 3, 4, 5, 6, 9, 10, 13, 17, 31, 36, 15, 39, 1, 17, 5, 32, 46, 1, 8, 15, 32, 1, 5, 1, 2, 4, 28, 31, 46, 1, 2, 3, 4, 5, 6, 7, 8, 9, 10, 11, 12, 13, 14, 15, 16, 17, 18, 19, 20, 21, 22, 23, 24, 25, 27, 29, 32, 33, 35, 27, 25, 45, 4, 34, 5, 15, 1, 2, 3, 4, 5, 6, 8, 9, 10, 13, 16, 20, 23, 32, 35, 42, 1, 3, 4, 6, 7, 23, 41, 35, 4, 9, 11, 29, 9, 38, 5, 5, 21, 43, 1, 2, 3, 4, 5, 6, 7, 8, 9, 10, 11, 12, 13, 14, 15, 16, 17, 18, 19, 20, 22, 24, 25, 27, 29, 35, 37, 36, 28, 31, 1, 4, 6, 7, 9, 10, 11, 21, 30, 2, 3, 5, 13, 32, 18, 18, 1, 2, 3, 4, 5, 7, 23, 44, 19, 1, 2, 3, 4, 5, 6, 7, 8, 9, 10, 11, 12, 13, 14, 15, 16, 17, 18, 19, 20, 21, 22, 23, 24, 25, 26, 27, 28, 29, 30, 31, 32, 33, 35, 36, 37, 38, 39, 40, 41, 42, 43, 44, 48, 44, 1, 2, 3, 4, 6, 7, 8, 18, 22, 31, 1, 1, 2, 3, 4, 6, 7, 8, 13, 19, 22, 23, 31, 44, 1, 3, 4, 5, 6, 12, 18, 19, 22, 2, 28, 32, 9, 10, 11, 34, 20, 17, 29, 1, 11, 12, 1, 2, 3, 4, 5, 13, 14, 20, 13, 4, 14, 17, 31, 34, 4, 7, 5, 7, 4, 5, 7, 11, 17, 27, 15, 1, 2, 3, 4, 6, 7, 21, 24, 32, 6, 29, 25, 45, 2, 45, 1, 2, 6, 10, 22, 28, 25, 45, 13, 27, 1, 2, 4, 6, 7, 32, 41, 1, 2, 3, 4, 5, 6, 8, 9, 10, 11, 12, 13, 16, 17, 19, 25, 32, 1, 2, 3, 4, 5, 6, 7, 8, 12, 16, 21, 27, 8, 20, 33, 1, 6, 16, 22, 43, 7, 38, 43, 30, 20, 1, 2, 3, 4, 5, 12, 10, 31, 35, 14, 3, 1, 3, 6, 9, 24, 26, 9, 22, 1, 2, 21, 34, 35, 2, 3, 4, 5, 16, 23, 40, 16, 1, 2, 3, 5, 6, 7, 9, 16, 41, 5, 1, 1, 2, 3, 4, 5, 6, 7, 17, 19, 23, 24, 1, 28, 2, 3, 22, 1, 2, 3, 6, 14, 18, 19, 28, 3, 6, 45, 1, 2, 3, 4, 5, 6, 8, 17, 19, 20, 35, 27, 5, 16, 35, 3, 7, 30, 36, 14, 17, 19, 39, 47, 34, 1, 2, 3, 4, 6, 8, 10, 11, 14, 16, 39, 2, 3, 39, 1, 2, 3, 4, 5, 6, 7, 8, 10, 11, 14, 15, 4, 5, 14, 23, 28, 24, 31, 7, 12, 33, 1, 2, 3, 6, 7, 8, 10, 19, 20, 23, 24, 7, 2, 24, 1, 2, 3, 5, 6, 11, 13, 27, 30, 1, 2, 6, 13, 16, 1, 2, 7, 20, 12, 1, 9, 29, 1, 3, 4, 5, 6, 8, 10, 11, 13, 35, 41, 31, 1, 3, 12, 16, 26, 35, 1, 2, 3, 6, 7, 8, 9, 15, 21, 24, 3, 15, 11, 1, 1, 2, 3, 4, 5, 6, 7, 8, 9, 10, 11, 12, 13, 14, 15, 16, 17, 19, 20, 23, 27, 28, 40, 23, 39, 4, 1, 14, 39, 30, 3, 4, 14, 1, 7, 14, 16, 18, 17, 19, 3, 4, 9, 16, 1, 2, 3, 4, 5, 6, 7, 8, 9, 11, 12, 13, 18, 19, 20, 23, 25, 28, 32, 37, 38, 40, 38, 1, 2, 3, 4, 8, 9, 35, 38, 36, 16, 3, 4, 37, 31, 3, 16, 29, 48, 5, 1, 2, 3, 4, 5, 6, 7, 9, 10, 11, 12, 13, 14, 16, 17, 19, 20, 21, 23, 30, 32, 33, 34, 41, 2, 23, 19, 29, 3, 12, 4, 7, 10, 18, 22, 23, 21, 1, 2, 3, 4, 5, 13, 16, 19, 29, 32, 1, 2, 38, 1, 2, 4, 5, 8, 14, 16, 39, 38, 1, 2, 3, 6, 9, 11, 22, 23, 34, 18, 19, 20, 32, 23, 2, 3, 6, 7, 8, 20, 16, 8, 2, 23, 16, 1, 2, 3, 4, 5, 6, 7, 22, 23, 25, 29, 2, 11, 26, 28, 1, 37, 4, 5, 30, 2, 3, 6, 8, 11, 13, 27, 43, 1, 9, 2, 9, 15, 18, 33, 1, 6, 22, 30, 31, 1, 2, 3, 4, 5, 6, 7, 8, 9, 10, 11, 12, 14, 15, 16, 17, 20, 21, 24, 25, 26, 33, 24, 2, 3, 8, 15, 23, 12, 19, 1, 2, 3, 4, 5, 6, 7, 8, 9, 10, 11, 12, 13, 14, 15, 17, 19, 20, 21, 23, 25, 26, 29, 37, 41, 15, 40, 1, 2, 4, 5, 6, 7, 9, 11, 23, 24, 31, 44, 36, 28, 5, 20, 2, 31, 2, 47, 28, 20, 44, 45, 5, 3, 28, 34, 20, 34, 44, 3, 16, 4, 27, 1, 24, 35, 11, 43, 1, 2, 33, 19, 13, 4, 10, 22, 1, 2, 3, 4, 7, 21, 22, 48, 2, 4, 5, 6, 11, 24, 12, 20, 39, 7, 12, 1, 2, 3, 4, 5, 6, 7, 11, 13, 16, 17, 18, 19, 20, 25, 28, 40, 14, 39, 23, 29, 29, 2, 28, 36, 2, 1, 9, 17, 37, 35, 13, 18, 22, 34, 26, 6, 1, 2, 3, 5, 12, 22, 30, 12, 44, 2, 3, 7, 12, 23, 15, 32, 18, 45, 35, 22, 5, 28, 25, 6, 7, 21, 9, 41, 1, 2, 6, 7, 21, 44, 6, 29, 4, 1, 2, 3, 4, 5, 6, 7, 8, 9, 10, 11, 13, 16, 19, 21, 22, 23, 25, 26, 29, 32, 43, 2, 3, 5, 16, 15, 45, 22, 35, 33, 15, 26, 18, 29, 4, 38, 1, 4, 9, 14, 1, 34, 6, 18, 1, 4, 15, 1, 4, 6, 7, 8, 9, 15, 16, 24, 21, 11, 29, 31, 5, 6, 38, 1, 2, 3, 8, 44, 30, 38, 7, 1, 2, 4, 24, 29, 29, 16, 18, 28, 38, 1, 2, 3, 4, 5, 6, 7, 10, 13, 16, 17, 18, 22, 26, 29, 1, 4, 31, 2, 3, 5, 12, 34, 8, 30, 43, 2, 20, 1, 3, 4, 6, 8, 10, 11, 23, 33, 27, 1, 2, 3, 4, 5, 6, 7, 8, 9, 10, 11, 12, 13, 14, 15, 16, 17, 19, 20, 21, 22, 23, 25, 26, 27, 29, 30, 31, 32, 34, 37, 39, 41, 43, 1, 5, 6, 4, 5, 17, 5, 13, 2, 45, 31, 45, 30, 45, 1, 2, 3, 5, 6, 7, 8, 13, 30, 42, 1, 4, 21, 6, 45, 21, 1, 2, 3, 5, 6, 7, 16, 21, 25, 28, 17, 27, 6, 1, 2, 3, 4, 5, 6, 7, 8, 10, 11, 12, 13, 15, 16, 20, 23, 24, 29, 32, 34, 38, 1, 2, 3, 4, 5, 6, 7, 8, 9, 10, 11, 13, 17, 20, 21, 23, 24, 30, 39, 37, 2, 4, 9, 10, 13, 16, 34, 1, 2, 3, 4, 5, 6, 8, 10, 12, 13, 20, 22, 35, 1, 40, 1, 2, 3, 4, 5, 6, 7, 8, 10, 11, 13, 19, 24, 36, 38, 41, 18, 45, 17, 36, 40, 8, 10, 30, 3, 5, 12, 1, 2, 3, 4, 5, 6, 7, 8, 10, 11, 12, 13, 15, 16, 19, 20, 21, 22, 30, 32, 34, 41, 1, 2, 3, 4, 5, 7, 10, 11, 12, 13, 21, 25, 10, 1, 2, 4, 6, 14, 20, 25, 47, 1, 2, 3, 6, 7, 9, 11, 13, 18, 21, 32, 2, 39, 21, 33, 45, 2, 14, 2, 5, 6, 8, 44, 9, 9, 3, 6, 38, 1, 2, 3, 4, 5, 6, 7, 8, 9, 11, 12, 14, 17, 22, 25, 29, 41, 23, 4, 7, 3, 5, 21, 35, 1, 41, 1, 38, 1, 2, 3, 4, 5, 6, 7, 10, 12, 15, 19, 25, 26, 27, 28, 37, 1, 5, 1, 2, 4, 19, 4, 28, 45, 9, 21, 1, 2, 3, 11, 22, 26, 28, 2, 10, 36, 36, 39, 2, 8, 4, 23, 30, 8, 16, 20, 2, 6, 17, 19, 2, 13, 15, 24, 33, 37, 37, 1, 3, 6, 13, 14, 18, 22, 27, 37, 46, 1, 2, 3, 4, 5, 6, 7, 8, 9, 11, 12, 13, 19, 20, 21, 25, 27, 36, 41, 38, 1, 3, 25, 35, 22, 5, 32, 3, 19, 35, 2, 4, 13, 22, 34, 34, 6, 27, 29, 40, 2, 3, 6, 25, 1, 2, 3, 6, 7, 9, 13, 19, 20, 31, 41, 23, 25, 42, 45, 21, 2, 3, 17, 1, 2, 3, 4, 15, 19, 33, 23, 1, 2, 3, 6, 7, 12, 14, 25, 28, 31, 38, 24, 2, 26, 35, 20, 6, 16, 46, 32, 15, 48, 5, 45, 40, 27, 30, 28, 10, 2, 3, 4, 6, 14, 18, 19, 20, 32, 3, 2, 4, 23, 46, 21, 11, 14, 7, 25, 2, 3, 18, 23, 28, 1, 2, 3, 6, 14, 20, 12, 19, 20, 1, 2, 3, 6, 11, 12, 11, 1, 40, 1, 2, 3, 4, 5, 6, 7, 8, 12, 16, 19, 24, 28, 30, 31, 38, 1, 25, 42, 1, 4, 5, 15, 20, 23, 24, 38, 29, 23, 11, 20, 25, 1, 15, 16, 9, 1, 2, 3, 4, 5, 6, 7, 10, 11, 12, 13, 15, 16, 17, 19, 39, 20, 14, 33, 28, 22, 30, 2, 20, 11, 17, 41, 9, 1, 3, 5, 6, 10, 25, 1, 2, 3, 12, 14, 15, 31, 37, 1, 6, 13, 26, 4, 14, 26, 2, 11, 1, 2, 3, 25, 46, 14, 30, 18, 1, 17, 38, 29, 18, 37, 25, 30, 47, 39, 4, 9, 2, 3, 4, 6, 15, 28, 1, 2, 3, 6, 8, 10, 12, 13, 15, 20, 22, 23, 26, 43, 15, 18, 17, 1, 2, 3, 4, 5, 6, 7, 8, 9, 10, 12, 15, 16, 18, 19, 9, 9, 8, 1, 4, 8, 10, 31, 1, 2, 3, 4, 5, 6, 7, 8, 9, 10, 11, 12, 13, 14, 15, 16, 21, 25, 26, 28, 31, 37, 38, 2, 22, 31, 38, 13, 2, 7, 16, 20, 23, 24, 36, 40, 1, 4, 8, 16, 33, 1, 3, 4, 7, 9, 23, 10, 5, 10, 8, 2, 3, 8, 15, 18, 6, 13, 4, 1, 3, 6, 7, 3, 1, 3, 4, 7, 19, 3, 6, 25, 43, 1, 2, 3, 4, 5, 6, 7, 8, 9, 10, 11, 12, 13, 14, 15, 16, 19, 20, 23, 25, 26, 35, 1, 2, 3, 4, 5, 6, 7, 8, 10, 12, 13, 15, 20, 23, 30, 39, 31, 9, 1, 7, 20, 15, 15, 37, 6, 34, 37, 36, 1, 2, 3, 5, 6, 7, 9, 15, 18, 22, 40, 6, 38, 7, 8, 25, 17, 20, 38, 24, 1, 2, 3, 4, 5, 6, 7, 8, 9, 10, 11, 12, 13, 14, 16, 17, 19, 20, 24, 25, 26, 29, 32, 1, 2, 3, 4, 5, 6, 7, 9, 10, 13, 16, 17, 19, 9, 14, 26, 20, 32, 1, 2, 3, 5, 6, 11, 20, 9, 11, 16, 24, 35, 2, 6, 13, 43, 1, 3, 4, 6, 10, 21, 23, 24, 28, 5, 12, 1, 2, 3, 4, 5, 6, 8, 16, 28, 12, 21, 37, 1, 2, 20, 19, 21, 25, 19, 21, 9, 19, 12, 39, 3, 2, 4, 5, 12, 2, 4, 7, 8, 11, 14, 16, 48, 8, 5, 33, 1, 2, 3, 4, 5, 6, 7, 8, 9, 10, 11, 12, 13, 16, 17, 18, 19, 22, 23, 25, 26, 28, 29, 41, 3, 12, 18, 30, 6, 1, 25, 1, 2, 22, 23, 45, 31, 12, 40, 2, 4, 11, 46, 34, 11, 46, 1, 2, 3, 8, 16, 23, 30, 41, 36, 3, 35, 14, 35, 1, 2, 3, 4, 5, 6, 7, 8, 9, 10, 11, 12, 13, 14, 15, 16, 17, 18, 19, 20, 21, 22, 23, 25, 26, 27, 28, 29, 38, 3, 6, 28, 17, 3, 5, 8, 15, 17, 18, 22, 40, 2, 3, 5, 6, 10, 18, 22, 23, 26, 37, 15, 1, 2, 3, 6, 7, 10, 44, 21, 1, 18, 22, 10, 1, 2, 3, 4, 6, 17, 28, 38, 16, 1, 2, 3, 4, 5, 6, 8, 10, 15, 16, 21, 29, 10, 22, 1, 5, 40, 12, 33, 4, 7, 2, 12, 3, 4, 6, 10, 13, 14, 21, 1, 2, 3, 4, 5, 6, 7, 8, 9, 10, 11, 13, 16, 20, 21, 22, 27, 31, 41, 2, 11, 13, 2, 23, 1, 2, 3, 4, 5, 6, 7, 8, 9, 10, 14, 15, 19, 20, 21, 23, 37, 31, 3, 6, 1, 3, 4, 7, 37, 22, 20, 32, 1, 2, 3, 7, 10, 15, 16, 18, 22, 3, 3, 1, 2, 3, 7, 9, 12, 13, 14, 15, 16, 17, 19, 21, 27, 1, 2, 3, 5, 6, 7, 8, 9, 12, 13, 17, 22, 24, 25, 27, 29, 37, 24, 37, 13, 41, 2, 33, 2, 6, 13, 22, 44, 1, 2, 3, 4, 5, 6, 7, 8, 10, 12, 13, 17, 19, 23, 24, 25, 26, 28, 29, 14, 1, 2, 3, 4, 5, 6, 7, 8, 9, 10, 11, 13, 14, 15, 16, 17, 18, 20, 22, 26, 27, 30, 32, 39, 11, 1, 2, 3, 27, 24, 1, 2, 3, 4, 5, 6, 7, 8, 9, 10, 11, 12, 13, 14, 16, 17, 18, 19, 20, 21, 22, 39, 1, 2, 3, 5, 7, 9, 11, 16, 19, 23, 24, 29, 39, 1, 6, 30, 31, 41, 20, 1, 2, 3, 4, 5, 6, 7, 8, 11, 13, 15, 19, 25, 26, 37, 4, 2, 3, 7, 15, 20, 23, 24, 39, 29, 2, 7, 8, 45, 27, 10, 11, 16, 24, 10, 36, 1, 3, 4, 6, 11, 33, 13, 3, 5, 36, 38, 34, 27, 13, 2, 12, 18, 30, 6, 37, 1, 2, 3, 5, 6, 14, 43, 6, 18, 19, 26, 37, 20, 1, 2, 3, 4, 5, 6, 7, 9, 11, 16, 17, 23, 24, 1, 2, 7, 20, 33, 48, 39, 32, 9, 2, 4, 11, 28, 31, 34, 21, 29, 15, 47, 5, 3, 7, 10, 5, 7, 12, 30, 1, 3, 4, 5, 6, 7, 12, 19, 34, 28, 2, 27, 40, 15, 46, 13, 20, 10, 15, 2, 3, 6, 15, 23, 17, 29, 21, 1, 2, 3, 4, 6, 7, 8, 11, 14, 29, 2, 3, 4, 8, 15, 18, 46, 1, 2, 3, 4, 5, 6, 7, 8, 10, 11, 14, 21, 40, 1, 2, 3, 4, 6, 8, 10, 14, 18, 35, 48, 4, 1, 2, 3, 4, 5, 6, 8, 10, 11, 12, 18, 20, 23, 26, 27, 4, 38, 1, 2, 3, 4, 5, 6, 7, 8, 9, 10, 11, 12, 13, 14, 15, 16, 17, 18, 19, 20, 23, 25, 26, 29, 30, 35, 43, 2, 3, 5, 29, 4, 13, 2, 30, 1, 3, 5, 11, 12, 7, 32, 48, 1, 2, 3, 4, 6, 7, 8, 10, 12, 13, 18, 25, 26, 1, 2, 3, 4, 5, 6, 7, 8, 9, 10, 13, 14, 15, 16, 17, 18, 20, 21, 23, 25, 27, 28, 36, 38, 1, 2, 3, 4, 5, 6, 7, 8, 9, 10, 11, 12, 13, 14, 15, 16, 17, 19, 21, 23, 25, 26, 27, 29, 31, 35, 22, 23, 5, 36, 6, 18, 31, 5, 10, 11, 40, 1, 2, 3, 4, 5, 6, 7, 8, 10, 11, 12, 14, 16, 17, 20, 21, 23, 26, 27, 32, 38, 5, 12, 19, 1, 2, 3, 5, 6, 10, 12, 32, 37, 27, 27, 2, 24, 41, 1, 2, 3, 4, 5, 6, 7, 8, 9, 11, 13, 14, 15, 17, 20, 23, 25, 26, 35, 12, 1, 2, 3, 4, 5, 6, 7, 8, 9, 10, 11, 13, 14, 15, 17, 19, 20, 21, 22, 24, 25, 26, 39, 2, 21, 10, 5, 17, 1, 2, 3, 4, 5, 6, 7, 8, 9, 10, 11, 12, 13, 14, 16, 17, 19, 20, 21, 23, 25, 26, 28, 38, 2, 3, 6, 9, 21, 23, 2, 13, 26, 1, 2, 3, 4, 5, 6, 7, 11, 14, 15, 18, 28, 29, 43, 2, 3, 5, 10, 11, 16, 32, 7, 43, 1, 2, 3, 5, 10, 42, 45, 1, 2, 4, 5, 6, 7, 9, 15, 21, 24, 8, 14, 3, 15, 18, 15, 23, 22, 17, 18, 22, 6, 24, 1, 2, 8, 25, 28, 35, 25, 25, 35, 36, 3, 2, 8, 15, 3, 3, 13, 14, 26, 13, 25, 1, 28, 48, 1, 4, 6, 8, 10, 13, 26, 8, 1, 3, 4, 6, 7, 16, 29, 35, 39, 44, 1, 2, 4, 21, 23, 2, 25, 16, 45, 36, 5, 22, 3, 27, 5, 29, 31, 5, 43, 19, 25, 1, 2, 4, 23, 25, 40, 17, 1, 2, 8, 26, 8, 14, 1, 2, 3, 4, 5, 6, 7, 8, 9, 10, 11, 13, 14, 19, 20, 21, 22, 23, 24, 39, 29, 6, 14, 3, 12, 20, 25, 36, 45, 7, 16, 18, 1, 2, 3, 4, 5, 6, 7, 8, 9, 10, 13, 14, 15, 16, 17, 19, 21, 22, 23, 26, 27, 30, 32, 34, 1, 2, 3, 4, 5, 7, 9, 15, 19, 4, 31, 20, 35, 1, 2, 3, 4, 5, 6, 8, 11, 12, 19, 20, 35, 31, 7, 19, 6, 21, 11, 1, 3, 5, 11, 3, 25, 5, 11, 3, 5, 14, 31, 32, 40, 14, 4, 14, 1, 4, 6, 11, 16, 17, 29, 24, 1, 2, 13, 21, 2, 33, 1, 2, 3, 4, 5, 6, 7, 8, 9, 10, 11, 12, 13, 14, 15, 16, 17, 19, 20, 21, 22, 25, 26, 27, 28, 34, 41, 3, 4, 6, 18, 20, 21, 33, 3, 4, 8, 15, 29, 37, 23, 10, 13, 7, 8, 15, 19, 20, 11, 1, 2, 3, 5, 10, 45, 1, 2, 3, 5, 6, 10, 12, 13, 15, 19, 21, 23, 29, 11, 2, 3, 39, 1, 2, 3, 4, 5, 6, 7, 8, 9, 10, 11, 12, 13, 14, 15, 16, 17, 18, 19, 20, 21, 22, 23, 24, 25, 26, 27, 28, 29, 30, 31, 32, 33, 34, 37, 39, 41, 43, 1, 40, 16, 34, 28, 1, 2, 3, 4, 7, 8, 14, 16, 28, 43, 1, 46, 1, 1, 3, 2, 3, 4, 5, 6, 8, 10, 11, 14, 16, 30, 33, 33, 3, 41, 1, 2, 3, 5, 6, 9, 11, 12, 22, 26, 34, 23, 31, 6, 4, 17, 1, 2, 3, 4, 5, 6, 7, 8, 9, 10, 11, 13, 14, 16, 17, 18, 19, 21, 23, 25, 29, 31, 32, 38, 41, 9, 2, 6, 7, 9, 17, 18, 28, 43, 32, 8, 26, 26, 26, 9, 45, 32, 36, 43, 16, 33, 4, 46, 45, 5, 15, 2, 4, 2, 30, 2, 3, 4, 7, 8, 14, 17, 21, 30, 32, 38, 4, 27, 1, 2, 3, 4, 6, 7, 9, 13, 16, 17, 25, 26, 35, 36, 42, 45, 2, 7, 1, 2, 3, 4, 5, 6, 7, 8, 9, 10, 11, 12, 13, 14, 15, 16, 17, 18, 19, 20, 21, 22, 24, 27, 31, 32, 36, 37, 38, 40, 1, 2, 3, 4, 6, 8, 12, 13, 19, 29, 38, 21, 1, 3, 6, 13, 17, 3, 7, 46, 1, 4, 7, 11, 14, 1, 4, 8, 10, 8, 5, 11, 26, 1, 2, 1, 3, 5, 6, 16, 17, 22, 23, 1, 2, 3, 4, 5, 6, 7, 8, 9, 10, 12, 13, 14, 15, 16, 17, 19, 20, 21, 23, 27, 30, 32, 1, 3, 4, 5, 6, 10, 11, 12, 15, 16, 17, 18, 20, 21, 22, 29, 46, 18, 1, 2, 3, 4, 5, 6, 7, 8, 9, 10, 13, 15, 16, 18, 19, 20, 21, 29, 31, 38, 26, 31, 32, 1, 2, 3, 4, 5, 6, 7, 8, 9, 10, 11, 12, 13, 20, 21, 23, 24, 25, 27, 29, 34, 13, 20, 37, 1, 2, 3, 4, 5, 6, 7, 8, 9, 10, 11, 12, 13, 14, 17, 19, 24, 25, 29, 34, 5, 12, 20, 1, 3, 4, 7, 19, 21, 5, 12, 1, 6, 9, 38, 1, 2, 4, 5, 6, 7, 8, 10, 13, 23, 45, 1, 2, 4, 8, 11, 16, 9, 3, 14, 31, 9, 20, 1, 30, 1, 3, 4, 5, 8, 11, 14, 40, 27, 17, 19, 47, 22, 2, 5, 5, 27, 29, 35, 18, 1, 4, 7, 35, 39, 3, 7, 1, 2, 3, 4, 5, 6, 7, 8, 10, 11, 15, 16, 21, 24, 31, 32, 34, 1, 3, 20, 37, 24, 8, 15, 1, 2, 3, 4, 5, 6, 7, 9, 10, 20, 41, 29, 12, 1, 2, 3, 4, 5, 6, 7, 9, 10, 11, 12, 13, 14, 16, 17, 18, 19, 20, 22, 23, 25, 26, 29, 30, 31, 32, 35, 38, 12, 4, 33, 6, 22, 40, 1, 2, 3, 4, 5, 6, 7, 15, 16, 23, 25, 31, 25, 15, 1, 29, 38, 21, 20, 3, 11, 16, 1, 2, 3, 4, 7, 10, 44, 42, 1, 2, 3, 20, 1, 2, 3, 4, 5, 6, 7, 20, 21, 31, 37, 45, 37, 31, 48, 1, 2, 3, 4, 5, 6, 7, 10, 21, 25, 27, 38, 1, 2, 3, 4, 6, 7, 8, 10, 11, 14, 16, 23, 33, 39, 1, 2, 3, 4, 6, 7, 18, 25, 28, 9, 32, 19, 1, 2, 3, 4, 10, 11, 14, 23, 14, 18, 4, 1, 4, 10, 13, 16, 41, 3, 26, 30, 25, 26, 3, 20, 24, 23, 29, 12, 3, 8, 5, 1, 2, 3, 4, 5, 6, 7, 8, 9, 10, 11, 12, 13, 14, 16, 17, 18, 20, 23, 25, 29, 30, 38, 7, 1, 2, 4, 6, 21, 37, 1, 2, 4, 9, 20, 21, 5, 12, 7, 22, 38, 2, 14, 22, 42, 31, 1, 3, 4, 5, 6, 8, 10, 12, 17, 25, 35, 46, 22, 32, 2, 28, 25, 37, 4, 16, 31, 24, 43, 1, 16, 4, 8, 1, 3, 7, 13, 14, 2, 3, 4, 7, 1, 2, 3, 4, 5, 6, 7, 11, 21, 34, 34, 14, 14, 1, 9, 21, 1, 20, 40, 1, 2, 4, 3, 4, 13, 13, 1, 2, 3, 4, 5, 6, 7, 8, 13, 14, 16, 19, 21, 25, 28, 44, 1, 2, 3, 4, 5, 6, 7, 8, 9, 10, 11, 12, 13, 14, 16, 17, 19, 20, 22, 23, 24, 25, 26, 29, 1, 18, 30, 35, 1, 2, 3, 4, 5, 6, 7, 8, 12, 13, 14, 17, 18, 19, 20, 21, 22, 23, 26, 1, 2, 3, 4, 5, 6, 15, 5, 2, 1, 2, 3, 4, 5, 6, 8, 9, 10, 11, 12, 13, 15, 16, 19, 20, 23, 25, 29, 21, 27, 44, 41, 2, 27, 31, 20, 26, 1, 2, 3, 4, 5, 6, 7, 8, 9, 10, 11, 12, 13, 14, 16, 17, 18, 20, 23, 28, 1, 2, 3, 6, 7, 12, 13, 19, 20, 29, 30, 47, 15, 2, 6, 16, 3, 5, 10, 22, 9, 1, 2, 3, 4, 5, 6, 7, 9, 11, 12, 13, 14, 16, 19, 20, 28, 31, 39, 2, 3, 20, 35, 1, 2, 3, 9, 23, 27, 28, 31, 1, 13, 26, 45, 23, 2, 6, 24, 38, 3, 1, 2, 3, 4, 5, 6, 7, 8, 9, 10, 11, 12, 13, 14, 15, 16, 18, 20, 21, 23, 24, 37, 6, 7, 21, 26, 26, 5, 14, 5, 7, 10, 17, 8, 40, 1, 2, 3, 4, 6, 13, 14, 16, 18, 19, 20, 22, 25, 32, 15, 10, 15, 15, 21, 1, 43, 1, 2, 37, 2, 35, 35, 3, 4, 13, 16, 36, 38, 36, 43, 2, 32, 4, 19, 34, 8, 25, 16, 8, 48, 42, 21, 14, 28, 31, 17, 20, 2, 12, 13, 40, 2, 41, 9, 2, 3, 7, 9, 18, 20, 22, 38, 7, 1, 2, 6, 8, 16, 19, 27, 13, 8, 1, 2, 4, 5, 6, 7, 9, 24, 23, 1, 2, 3, 4, 11, 17, 23, 24, 1, 3, 4, 5, 6, 7, 10, 11, 14, 20, 29, 32, 35, 4, 5, 34, 17, 1, 3, 27, 26, 1, 2, 3, 4, 5, 6, 7, 10, 13, 15, 16, 21, 25, 2, 7, 12, 12, 42, 48, 1, 3, 6, 11, 13, 14, 41, 4, 24, 11, 45, 2, 1, 1, 2, 3, 4, 6, 7, 9, 10, 11, 21, 23, 30, 1, 3, 31, 15, 1, 2, 3, 4, 5, 6, 7, 8, 9, 13, 15, 16, 20, 21, 24, 38, 39, 1, 2, 3, 4, 6, 22, 32, 35, 41, 1, 2, 3, 4, 5, 11, 12, 17, 19, 20, 21, 1, 2, 3, 4, 5, 6, 7, 8, 11, 14, 16, 35, 1, 2, 3, 4, 5, 6, 7, 8, 10, 12, 13, 14, 15, 16, 18, 19, 20, 22, 30, 38, 40, 6, 1, 45, 1, 2, 3, 4, 6, 7, 28, 1, 3, 5, 6, 10, 23, 15, 30, 41, 1, 2, 3, 4, 5, 6, 7, 8, 9, 10, 11, 12, 13, 14, 15, 16, 17, 19, 20, 21, 22, 23, 24, 26, 27, 29, 30, 32, 38, 42, 24, 1, 2, 3, 5, 6, 7, 8, 10, 24, 20, 42, 25, 32, 1, 2, 6, 20, 1, 2, 3, 4, 5, 6, 7, 10, 11, 12, 13, 15, 20, 22, 23, 1, 3, 5, 15, 23, 31, 3, 6, 10, 20, 26, 27, 8, 4, 7, 27, 33, 1, 4, 8, 14, 33, 2, 3, 4, 5, 6, 7, 8, 10, 13, 14, 17, 25, 1, 2, 3, 6, 10, 11, 13, 18, 19, 25, 40, 7, 4, 5, 11, 2, 3, 14, 19, 20, 43, 45, 1, 5, 7, 10, 37, 25, 20, 2, 6, 21, 31, 45, 29, 40, 4, 17, 28, 4, 6, 13, 18, 27, 7, 25, 25, 16, 2, 11, 1, 2, 4, 6, 7, 8, 14, 17, 30, 44, 22, 1, 4, 6, 7, 11, 14, 22, 15, 20, 1, 2, 3, 4, 6, 7, 12, 17, 18, 19, 22, 8, 29, 41, 3, 4, 5, 15, 31, 26, 35, 39, 12, 28, 45, 45, 4, 5, 21, 31, 1, 2, 3, 4, 6, 7, 10, 19, 22, 25, 31, 42, 24, 3, 39, 28, 9, 34, 1, 2, 18, 37, 38, 7, 7, 2, 15, 19, 38, 46, 26, 48, 4, 1, 2, 3, 4, 5, 6, 7, 8, 9, 10, 11, 12, 13, 15, 16, 17, 18, 19, 20, 22, 23, 24, 27, 29, 30, 31, 32, 45, 36, 19, 2, 4, 7, 24, 30, 43, 42, 40, 1, 2, 3, 4, 5, 7, 8, 12, 14, 17, 1, 2, 3, 4, 5, 6, 7, 8, 10, 13, 26, 30, 35, 45, 18, 29, 23, 1, 2, 3, 4, 5, 6, 7, 8, 9, 14, 15, 17, 20, 21, 23, 24, 25, 1, 7, 11, 23, 1, 2, 3, 4, 5, 8, 10, 13, 15, 17, 46, 11, 27, 1, 4, 6, 8, 10, 30, 16, 30, 14, 34, 34, 1, 2, 7, 9, 15, 21, 23, 11, 5, 6, 20, 24, 1, 3, 4, 7, 1, 3, 26, 38, 36, 1, 2, 3, 4, 8, 9, 13, 14, 2, 4, 6, 8, 23, 25, 27, 1, 2, 3, 4, 5, 6, 7, 8, 9, 12, 13, 15, 37, 1, 2, 3, 4, 5, 6, 7, 8, 9, 10, 11, 12, 13, 16, 21, 22, 29, 32, 38, 1, 2, 3, 4, 5, 6, 7, 8, 10, 12, 13, 16, 17, 19, 20, 25, 34, 9, 24, 1, 2, 3, 4, 5, 7, 9, 11, 12, 14, 17, 18, 19, 22, 27, 38, 3, 17, 31, 1, 2, 4, 6, 7, 10, 11, 13, 14, 17, 19, 20, 25, 37, 27, 15, 2, 3, 6, 7, 8, 9, 11, 13, 20, 23, 1, 2, 3, 4, 5, 6, 7, 8, 9, 10, 11, 12, 13, 15, 16, 17, 19, 20, 21, 27, 34, 4, 28, 1, 4, 2, 3, 4, 5, 14, 16, 22, 31, 1, 3, 8, 11, 12, 16, 22, 28, 16, 24, 44, 1, 2, 4, 16, 17, 1, 7, 14, 21, 23, 27, 23, 16, 1, 3, 4, 6, 13, 25, 29, 2, 3, 8, 15, 18, 1, 2, 4, 5, 8, 11, 15, 17, 21, 43, 7, 7, 1, 2, 3, 4, 5, 6, 7, 8, 9, 10, 11, 12, 13, 14, 15, 16, 17, 18, 19, 20, 21, 22, 23, 25, 26, 27, 28, 29, 30, 32, 36, 37, 38, 22, 6, 2, 3, 4, 6, 8, 10, 21, 30, 10, 1, 2, 3, 4, 5, 6, 7, 8, 9, 12, 5, 5, 7, 1, 3, 4, 6, 7, 8, 15, 18, 36, 1, 2, 3, 4, 6, 9, 19, 1, 2, 3, 4, 8, 9, 10, 16, 25, 1, 4, 6, 7, 23, 24, 20, 1, 2, 4, 5, 8, 15, 19, 1, 2, 3, 4, 5, 6, 7, 10, 11, 16, 19, 21, 22, 32, 34, 1, 2, 3, 4, 5, 6, 7, 8, 10, 11, 13, 14, 20, 21, 24, 25, 37, 1, 11, 29, 17, 39, 9, 30, 8, 1, 3, 4, 6, 7, 9, 13, 28, 40, 1, 2, 3, 8, 13, 14, 20, 22, 26, 2, 39, 2, 6, 31, 18, 1, 3, 10, 22, 29, 12, 19, 1, 2, 3, 4, 5, 6, 7, 8, 9, 10, 11, 12, 13, 14, 15, 16, 17, 18, 19, 20, 21, 22, 23, 29, 30, 31, 35, 45, 5, 7, 26, 31, 32, 28, 4, 17, 25, 2, 41, 1, 2, 3, 7, 12, 31, 1, 6, 19, 20, 26, 37, 22, 4, 5, 6, 7, 10, 30, 21, 2, 17, 2, 6, 14, 18, 22, 28, 30, 20, 19, 21, 36, 18, 28, 12, 18, 19, 31, 12, 27, 2, 4, 4, 5, 9, 42, 1, 6, 29, 9, 28, 2, 30, 1, 2, 3, 4, 5, 6, 7, 8, 9, 15, 19, 20, 22, 35, 13, 33, 27, 1, 2, 3, 4, 5, 6, 7, 8, 10, 12, 13, 14, 16, 17, 19, 20, 21, 22, 23, 24, 25, 29, 31, 37, 39, 1, 2, 3, 4, 5, 6, 7, 8, 9, 10, 11, 12, 13, 14, 16, 17, 18, 19, 20, 21, 22, 23, 25, 26, 27, 28, 30, 31, 41, 6, 31, 2, 32, 38, 9, 1, 2, 3, 4, 5, 6, 7, 8, 9, 10, 11, 12, 13, 14, 16, 17, 18, 19, 20, 24, 25, 34, 2, 7, 1, 2, 3, 4, 9, 6, 2, 25, 7, 19, 7, 26, 2, 3, 4, 6, 7, 8, 13, 18, 22, 30, 1, 5, 6, 25, 43, 33, 5, 7, 24, 36, 36, 19, 41, 20, 19, 1, 2, 3, 4, 5, 6, 7, 8, 9, 10, 11, 12, 13, 14, 15, 17, 18, 19, 21, 22, 23, 25, 32, 33, 34, 33, 35, 5, 4, 17, 28, 24, 6, 7, 35, 11, 9, 17, 20, 36, 16, 35, 20, 21, 40, 27, 24, 5, 27, 1, 2, 3, 4, 5, 6, 7, 9, 11, 12, 13, 17, 20, 21, 23, 31, 4, 6, 7, 21, 36, 43, 32, 32, 37, 8, 1, 2, 3, 4, 5, 6, 7, 9, 10, 11, 13, 14, 17, 30, 35, 41, 1, 39, 2, 1, 6, 2, 30, 3, 6, 13, 15, 17, 18, 19, 22, 27, 16, 23, 22, 2, 4, 11, 16, 17, 48, 1, 2, 3, 4, 7, 23, 31, 22, 30, 35, 7, 40, 39, 17, 36, 1, 19, 2, 8, 11, 20, 25, 27, 28, 36, 24, 33, 2, 35, 21, 37, 6, 1, 2, 3, 4, 13, 16, 23, 32, 33, 6, 43, 3, 23, 45, 19, 4, 23, 3, 5, 12, 30, 37, 43, 45, 40, 43, 24, 1, 2, 3, 5, 6, 8, 11, 13, 15, 21, 25, 29, 2, 4, 6, 7, 1, 2, 3, 6, 10, 11, 46, 13, 10, 4, 6, 8, 15, 10, 1, 1, 2, 3, 4, 5, 6, 7, 9, 11, 12, 14, 15, 16, 17, 19, 22, 23, 25, 29, 30, 32, 38, 1, 3, 4, 6, 9, 14, 17, 22, 24, 25, 26, 30, 26, 11, 38, 1, 2, 3, 4, 5, 6, 15, 1, 2, 3, 6, 10, 23, 26, 40, 43, 13, 18, 13, 25, 26, 14, 17, 1, 2, 3, 20, 4, 2, 14, 18, 22, 31, 2, 24, 1, 2, 3, 6, 20, 15, 1, 3, 21, 40, 28, 1, 3, 6, 14, 21, 24, 43, 29, 2, 3, 4, 7, 14, 43, 12, 42, 2, 1, 2, 3, 4, 5, 6, 7, 8, 9, 12, 13, 14, 15, 17, 18, 20, 21, 42, 1, 3, 4, 5, 7, 8, 14, 17, 24, 32, 14, 20, 1, 2, 9, 27, 30, 1, 2, 3, 4, 7, 16, 18, 25, 26, 30, 33, 4, 21, 6, 1, 2, 3, 4, 5, 6, 7, 8, 9, 10, 11, 12, 13, 14, 15, 16, 17, 18, 19, 20, 21, 22, 23, 25, 27, 29, 32, 35, 36, 37, 38, 40, 41, 42, 43, 22, 2, 31, 14, 16, 6, 8, 10, 11, 43, 12, 1, 2, 3, 4, 5, 6, 7, 8, 10, 11, 13, 14, 15, 19, 21, 23, 27, 29, 30, 34, 1, 3, 18, 23, 39, 6, 10, 30, 11, 9, 1, 7, 9, 18, 38, 44, 9, 38, 4, 20, 8, 12, 12, 1, 2, 3, 5, 6, 7, 10, 17, 18, 22, 23, 26, 30, 23, 17, 18, 11, 6, 20, 45, 1, 2, 6, 21, 28, 4, 40, 2, 4, 10, 34, 2, 3, 4, 5, 6, 7, 10, 11, 12, 13, 16, 17, 36, 5, 18, 8, 1, 2, 3, 4, 5, 6, 7, 9, 10, 11, 13, 14, 16, 21, 23, 24, 30, 1, 2, 3, 4, 5, 7, 9, 11, 12, 25, 29, 1, 3, 4, 7, 11, 14, 17, 18, 22, 17, 47, 2, 22, 1, 2, 3, 4, 5, 7, 11, 26, 40, 29, 23, 2, 3, 6, 18, 22, 37, 1, 1, 2, 3, 5, 7, 11, 16, 11, 9, 17, 1, 13, 27, 26, 14, 16, 7, 20, 25, 2, 7, 23, 28, 43, 1, 3, 4, 5, 6, 7, 9, 15, 18, 19, 21, 29, 31, 1, 3, 4, 6, 8, 10, 1, 4, 6, 8, 10, 20, 38, 5, 6, 28, 34, 6, 29, 12, 22, 1, 2, 3, 4, 5, 6, 7, 8, 9, 10, 11, 12, 13, 14, 16, 17, 19, 20, 21, 24, 25, 38, 27, 1, 2, 3, 4, 5, 6, 7, 8, 17, 22, 23, 24, 48, 3, 33, 1, 2, 3, 4, 5, 6, 8, 9, 12, 17, 19, 20, 22, 25, 30, 39, 22, 1, 3, 1, 2, 16, 23, 20, 1, 2, 3, 4, 5, 6, 7, 8, 9, 10, 12, 14, 16, 21, 32, 1, 2, 3, 4, 5, 6, 7, 8, 9, 10, 11, 12, 13, 14, 15, 16, 17, 18, 19, 20, 21, 22, 23, 25, 26, 28, 29, 30, 32, 33, 37, 45, 1, 2, 3, 4, 8, 41, 32, 1, 7, 10, 11, 1, 7, 11, 33, 4, 33, 2, 4, 14, 14, 9, 20, 42, 6, 35, 22, 3, 30, 1, 2, 3, 4, 5, 9, 28, 8, 30, 14, 43, 26, 20, 19, 40, 22, 21, 36, 13, 1, 2, 8, 9, 20, 22, 24, 25, 37, 38, 27, 21, 2, 11, 14], \"Freq\": [0.6914486006065317, 0.7317778345048187, 0.8634628619131862, 0.49059077502463194, 0.24417512887564663, 0.20347927406303884, 0.04069585481260777, 0.12208756443782331, 0.12208756443782331, 0.16278341925043108, 0.04069585481260777, 0.04069585481260777, 0.355615104522441, 0.711230209044882, 0.9533745549295768, 0.14217968754057064, 0.07108984377028532, 0.07108984377028532, 0.213269531310856, 0.1777246094257133, 0.106634765655428, 0.03554492188514266, 0.9343999992295894, 0.029199999975924668, 0.31453559733084047, 0.0365739066663768, 0.20481387733171008, 0.05851825066620288, 0.00731478133327536, 0.05120346933292752, 0.02194434399982608, 0.02925912533310144, 0.01462956266655072, 0.01462956266655072, 0.02194434399982608, 0.00731478133327536, 0.01462956266655072, 0.08777737599930432, 0.00731478133327536, 0.01462956266655072, 0.00731478133327536, 0.00731478133327536, 0.00731478133327536, 0.00731478133327536, 0.00731478133327536, 0.01462956266655072, 0.00731478133327536, 0.00731478133327536, 0.00731478133327536, 0.00731478133327536, 0.00731478133327536, 0.00731478133327536, 0.00731478133327536, 0.8182318655253775, 0.9785455216064093, 0.7900042043097099, 0.1642746669301332, 0.0410686667325333, 0.0821373334650666, 0.1232060001975999, 0.2464120003951998, 0.0821373334650666, 0.2464120003951998, 0.14701896517780946, 0.19602528690374596, 0.14701896517780946, 0.09801264345187298, 0.04900632172593649, 0.04900632172593649, 0.14701896517780946, 0.5222273424083795, 0.015825070982072108, 0.22155099374900952, 0.015825070982072108, 0.015825070982072108, 0.031650141964144216, 0.015825070982072108, 0.015825070982072108, 0.031650141964144216, 0.031650141964144216, 0.184580792034564, 0.553742376103692, 0.9769240978427752, 0.6679837401117227, 0.03339918700558613, 0.28945962071507986, 0.5425149223549166, 0.8883908856675049, 0.3542195193536258, 0.09277177887833056, 0.09277177887833056, 0.06747038463878585, 0.008433798079848231, 0.08433798079848233, 0.0759041827186341, 0.08433798079848233, 0.016867596159696463, 0.008433798079848231, 0.008433798079848231, 0.008433798079848231, 0.008433798079848231, 0.008433798079848231, 0.008433798079848231, 0.008433798079848231, 0.008433798079848231, 0.016867596159696463, 0.008433798079848231, 0.008433798079848231, 0.9047763632163373, 0.8818574486498322, 0.0339175941788397, 0.5643702397996002, 0.11160028084183678, 0.5580014042091839, 0.22320056168367355, 0.011620597513995494, 0.011620597513995494, 0.046482390055981974, 0.06972358508397296, 0.023241195027990987, 0.1510677676819414, 0.011620597513995494, 0.5694092781857792, 0.03486179254198648, 0.011620597513995494, 0.011620597513995494, 0.6457522869764741, 0.034134825195698035, 0.034134825195698035, 0.8533706298924509, 0.034134825195698035, 0.034134825195698035, 0.034134825195698035, 0.5918206656697046, 0.1682869513373736, 0.30852607745185157, 0.14023912611447797, 0.14023912611447797, 0.028047825222895596, 0.028047825222895596, 0.028047825222895596, 0.0841434756686868, 0.8914455405990016, 0.026801127199941502, 0.053602254399883004, 0.0804033815998245, 0.5092214167988885, 0.026801127199941502, 0.026801127199941502, 0.026801127199941502, 0.053602254399883004, 0.026801127199941502, 0.026801127199941502, 0.026801127199941502, 0.026801127199941502, 0.841535490896073, 0.7981586857612235, 0.7202966489504805, 0.8558374825358103, 0.14263958042263505, 0.6908587074175591, 0.15318134960449156, 0.3063626992089831, 0.03829533740112289, 0.03829533740112289, 0.19147668700561443, 0.07659067480224578, 0.07659067480224578, 0.7207190745186658, 0.29880392208490875, 0.3652047936593329, 0.06640087157442416, 0.06640087157442416, 0.03320043578721208, 0.3076820590374639, 0.1025606863458213, 0.05128034317291065, 0.15384102951873194, 0.05128034317291065, 0.1025606863458213, 0.05128034317291065, 0.05128034317291065, 0.4723305398588122, 0.05904131748235152, 0.05904131748235152, 0.08856197622352728, 0.08856197622352728, 0.02952065874117576, 0.02952065874117576, 0.02952065874117576, 0.02952065874117576, 0.507083748984607, 0.2204711952106987, 0.044094239042139736, 0.022047119521069868, 0.11023559760534934, 0.35155610741527216, 0.02197225671345451, 0.02197225671345451, 0.02197225671345451, 0.02197225671345451, 0.02197225671345451, 0.08788902685381804, 0.2636670805614541, 0.06591677014036353, 0.07578793931665032, 0.5305155752165522, 0.07578793931665032, 0.22736381794995095, 0.07578793931665032, 0.8373592069047759, 0.3751844685987999, 0.03660336279012682, 0.24707269883335603, 0.009150840697531705, 0.03660336279012682, 0.06405588488272193, 0.009150840697531705, 0.01830168139506341, 0.009150840697531705, 0.027452522092595112, 0.009150840697531705, 0.01830168139506341, 0.009150840697531705, 0.009150840697531705, 0.01830168139506341, 0.01830168139506341, 0.009150840697531705, 0.009150840697531705, 0.009150840697531705, 0.01830168139506341, 0.009150840697531705, 0.5329079169331233, 0.39968093769984253, 0.5553391838717007, 0.38117214240633424, 0.19058607120316712, 0.19058607120316712, 0.28163755771280613, 0.28163755771280613, 0.7890354736189266, 0.98911033550164, 0.2552904688593434, 0.7658714065780303, 0.7688960863231991, 0.12814934772053316, 0.06407467386026658, 0.06851746817856895, 0.1370349363571379, 0.2740698727142758, 0.06851746817856895, 0.1370349363571379, 0.06851746817856895, 0.06851746817856895, 0.1370349363571379, 0.8877555809822083, 0.7139470069263839, 0.6913365415350614, 0.6239461127352506, 0.22285308893417466, 0.668559266802524, 0.7146589831805575, 0.22368532630578944, 0.4473706526115789, 0.5998052949456484, 0.7905399498342544, 0.07905399498342543, 0.07905399498342543, 0.4589490994969936, 0.15298303316566453, 0.03824575829141613, 0.07649151658283226, 0.03824575829141613, 0.03824575829141613, 0.07649151658283226, 0.49922309269703374, 0.5904166455612152, 0.963333148723719, 0.8648806200354964, 0.5736537224875826, 0.11187263086719232, 0.20137073556094617, 0.04474905234687693, 0.1789962093875077, 0.08949810469375385, 0.022374526173438464, 0.022374526173438464, 0.04474905234687693, 0.022374526173438464, 0.022374526173438464, 0.06712357852031539, 0.022374526173438464, 0.022374526173438464, 0.7294787870904197, 0.9435542444008006, 0.876964149980885, 0.7451132439413504, 0.7839063806389839, 0.4219813591850882, 0.2109906795925441, 0.9361256048070266, 0.6192190241589712, 0.706788908920916, 0.04157581817181858, 0.08315163634363716, 0.12472745451545575, 0.04157581817181858, 0.40158609492463265, 0.1227068623380822, 0.15617237024846825, 0.022310338606924038, 0.03346550791038606, 0.044620677213848076, 0.03346550791038606, 0.011155169303462019, 0.011155169303462019, 0.03346550791038606, 0.011155169303462019, 0.011155169303462019, 0.011155169303462019, 0.011155169303462019, 0.011155169303462019, 0.011155169303462019, 0.011155169303462019, 0.011155169303462019, 0.011155169303462019, 0.8646261783240244, 0.7476687144630922, 0.8816001743517214, 0.4289449890526112, 0.2144724945263056, 0.2144724945263056, 0.7331366960590998, 0.10795080534322427, 0.48577862404450917, 0.1619262080148364, 0.05397540267161213, 0.05397540267161213, 0.13824300517292618, 0.13824300517292618, 0.6912150258646308, 0.22129812049136097, 0.22129812049136097, 0.22129812049136097, 0.4192545986896299, 0.4192545986896299, 0.716035695900143, 0.16608856419895426, 0.08304428209947713, 0.16608856419895426, 0.08304428209947713, 0.08304428209947713, 0.08304428209947713, 0.24913284629843138, 0.7353655402966597, 0.9307871124547227, 0.7222249280128764, 0.43969924035408686, 0.12213867787613523, 0.04885547115045409, 0.024427735575227046, 0.024427735575227046, 0.04885547115045409, 0.024427735575227046, 0.024427735575227046, 0.024427735575227046, 0.024427735575227046, 0.024427735575227046, 0.024427735575227046, 0.024427735575227046, 0.5348873074665969, 0.9340363870701194, 0.890683275524593, 0.1251621440789492, 0.1251621440789492, 0.1251621440789492, 0.2503242881578984, 0.1251621440789492, 0.8048786473587924, 0.6795625669191032, 0.1698906417297758, 0.8462075875800634, 0.030221699556430837, 0.030221699556430837, 0.030221699556430837, 0.6438765081536287, 0.4948376333560309, 0.25197009171249546, 0.5039401834249909, 0.42877063324661685, 0.03176078764789755, 0.09528236294369263, 0.03176078764789755, 0.03176078764789755, 0.11116275676764141, 0.03176078764789755, 0.015880393823948773, 0.015880393823948773, 0.015880393823948773, 0.015880393823948773, 0.015880393823948773, 0.015880393823948773, 0.04764118147184632, 0.015880393823948773, 0.015880393823948773, 0.015880393823948773, 0.015880393823948773, 0.057205497098069914, 0.22882198839227966, 0.17161649129420975, 0.057205497098069914, 0.057205497098069914, 0.057205497098069914, 0.057205497098069914, 0.057205497098069914, 0.057205497098069914, 0.057205497098069914, 0.1212048849361484, 0.4242170972765194, 0.1212048849361484, 0.1818073274042226, 0.0606024424680742, 0.7367334007852007, 0.22593100653777087, 0.2582068646145953, 0.14524136134570984, 0.016137929038412206, 0.14524136134570984, 0.016137929038412206, 0.016137929038412206, 0.016137929038412206, 0.016137929038412206, 0.016137929038412206, 0.09682757423047322, 0.2207105518282993, 0.16553291387122446, 0.055177637957074824, 0.16553291387122446, 0.036785091971383216, 0.036785091971383216, 0.09196272992845804, 0.036785091971383216, 0.07357018394276643, 0.018392545985691608, 0.018392545985691608, 0.928657775039007, 0.8933783793829929, 0.8465226604668352, 0.8183783881164765, 0.7124042843093099, 0.8557101303851928, 0.8429969449498277, 0.6272104361095489, 0.5109118607648796, 0.39400585347335537, 0.39400585347335537, 0.4668109193893031, 0.09827598302932695, 0.02456899575733174, 0.02456899575733174, 0.04913799151466348, 0.02456899575733174, 0.02456899575733174, 0.1228449787866587, 0.09827598302932695, 0.8675979333740026, 0.0737088023484012, 0.8845056281808144, 0.9040795018413758, 0.7697930160816355, 0.5213783141669553, 0.5245940961781393, 0.07494201373973419, 0.11241302060960129, 0.037471006869867096, 0.037471006869867096, 0.037471006869867096, 0.018735503434933548, 0.018735503434933548, 0.018735503434933548, 0.018735503434933548, 0.018735503434933548, 0.4353717832738673, 0.07915850604979406, 0.03957925302489703, 0.03957925302489703, 0.03957925302489703, 0.15831701209958812, 0.03957925302489703, 0.03957925302489703, 0.03957925302489703, 0.3908988191120549, 0.2970831025251617, 0.015635952764482194, 0.04690785829344658, 0.015635952764482194, 0.03127190552896439, 0.015635952764482194, 0.015635952764482194, 0.015635952764482194, 0.015635952764482194, 0.015635952764482194, 0.015635952764482194, 0.015635952764482194, 0.015635952764482194, 0.6906127436574244, 0.7117436738661811, 0.7421035647025725, 0.5574923831535189, 0.266432137496757, 0.532864274993514, 0.9186561554595081, 0.5194844257147638, 0.636567310158984, 0.07878308294046832, 0.06302646635237466, 0.08508572957570579, 0.0031513233176187327, 0.02205926322333113, 0.006302646635237465, 0.01260529327047493, 0.006302646635237465, 0.0031513233176187327, 0.009453969952856198, 0.006302646635237465, 0.0031513233176187327, 0.0031513233176187327, 0.0031513233176187327, 0.006302646635237465, 0.006302646635237465, 0.0031513233176187327, 0.0031513233176187327, 0.006302646635237465, 0.0031513233176187327, 0.009453969952856198, 0.0031513233176187327, 0.0031513233176187327, 0.0031513233176187327, 0.0031513233176187327, 0.0031513233176187327, 0.15927370638257285, 0.15927370638257285, 0.15927370638257285, 0.46427626449528064, 0.08441386627186921, 0.042206933135934606, 0.21103466567967302, 0.042206933135934606, 0.390983537111903, 0.390983537111903, 0.38654730696031103, 0.38654730696031103, 0.9523107086535787, 0.5876102420536328, 0.1469025605134082, 0.1469025605134082, 0.04896752017113606, 0.6881610043068003, 0.869534234620376, 0.7985058822146623, 0.4384878768319563, 0.07692769768981689, 0.05384938838287182, 0.30771079075926755, 0.0076927697689816886, 0.0076927697689816886, 0.0076927697689816886, 0.0076927697689816886, 0.0076927697689816886, 0.0076927697689816886, 0.0076927697689816886, 0.015385539537963377, 0.0076927697689816886, 0.0076927697689816886, 0.0076927697689816886, 0.0076927697689816886, 0.0076927697689816886, 0.7367904604565357, 0.03349047547529708, 0.03349047547529708, 0.1339619019011883, 0.03349047547529708, 0.133222163937818, 0.6661108196890899, 0.8078924247687087, 0.7225339011431458, 0.7241953623796812, 0.020691296067990892, 0.08276518427196357, 0.020691296067990892, 0.041382592135981784, 0.020691296067990892, 0.8385554845740208, 0.8643637634790509, 0.9749020245577963, 0.2656598430374936, 0.11385421844464014, 0.03795140614821338, 0.3795140614821338, 0.03795140614821338, 0.03795140614821338, 0.32820032397316834, 0.06564006479463366, 0.06564006479463366, 0.36102035637048513, 0.03282003239731683, 0.38781508321279473, 0.09695377080319868, 0.09695377080319868, 0.19390754160639737, 0.659569568844676, 0.7810330308749689, 0.4669656812551487, 0.23348284062757435, 0.23348284062757435, 0.6062624924883143, 0.897408764096725, 0.9159524735252158, 0.8772870194405175, 0.6567458306845321, 0.40647140616954636, 0.3161444270207583, 0.04516348957439404, 0.18065395829757616, 0.5984550207260705, 0.5958181564575973, 0.6196322985971361, 0.20691741248553813, 0.20691741248553813, 0.41383482497107626, 0.878023255675021, 0.460879837421364, 0.7677951121008387, 0.6270111961116889, 0.8816645663446036, 0.09974211908810686, 0.09974211908810686, 0.04987105954405343, 0.5984527145286411, 0.4419365962574455, 0.14731219875248183, 0.14731219875248183, 0.6365789059801888, 0.9623295341636983, 0.06416597798479902, 0.7699917358175882, 0.9385914262818184, 0.9008235769185962, 0.9641138949036581, 0.7075814064572359, 0.8097483462009157, 0.5028665523268859, 0.10027731748847671, 0.050138658744238354, 0.6016639049308603, 0.050138658744238354, 0.050138658744238354, 0.5751022056208019, 0.9579289627131764, 0.8017099367123554, 0.3959572234863499, 0.3959572234863499, 0.31413057963633056, 0.31413057963633056, 0.31413057963633056, 0.48941793316496895, 0.3633999791667414, 0.1211333263889138, 0.1211333263889138, 0.02018888773148563, 0.02018888773148563, 0.04037777546297126, 0.02018888773148563, 0.0605666631944569, 0.02018888773148563, 0.02018888773148563, 0.02018888773148563, 0.02018888773148563, 0.02018888773148563, 0.02018888773148563, 0.02018888773148563, 0.6959984335248927, 0.5395011504421965, 0.8296786147053775, 0.7796330333637725, 0.23644997145499302, 0.23644997145499302, 0.09457998858199722, 0.01576333143033287, 0.04728999429099861, 0.06305332572133147, 0.04728999429099861, 0.04728999429099861, 0.01576333143033287, 0.01576333143033287, 0.01576333143033287, 0.01576333143033287, 0.01576333143033287, 0.01576333143033287, 0.01576333143033287, 0.01576333143033287, 0.01576333143033287, 0.01576333143033287, 0.01576333143033287, 0.8666048123861454, 0.05416280077413409, 0.9260655444605473, 0.45287718678325634, 0.22643859339162817, 0.22643859339162817, 0.31968051082514864, 0.10656017027504953, 0.42624068110019814, 0.23913682928674543, 0.31884910571566055, 0.07971227642891514, 0.07971227642891514, 0.07971227642891514, 0.4599588278057718, 0.0209072194457169, 0.0418144388914338, 0.0209072194457169, 0.27179385279431967, 0.0209072194457169, 0.0418144388914338, 0.0209072194457169, 0.0209072194457169, 0.7481014105087971, 0.7116366302792414, 0.620613696726581, 0.7214641168372682, 0.39414853024651886, 0.9362775667595086, 0.5049503635430823, 0.3366335756953882, 0.06201934395930229, 0.06201934395930229, 0.06201934395930229, 0.06201934395930229, 0.12403868791860458, 0.6201934395930229, 0.41350893527371363, 0.41350893527371363, 0.7488225729948735, 0.9146368698528226, 0.5305680673649618, 0.9046196702593775, 0.6181365979263728, 0.6613218959070444, 0.738503664221745, 0.7795720088592122, 0.8711926998265431, 0.7624171071433546, 0.8664121599481585, 0.5297036627854301, 0.5024853058226139, 0.63730444370655, 0.3784809580475683, 0.3784809580475683, 0.17068646681951813, 0.34137293363903626, 0.34137293363903626, 0.05689548893983938, 0.7261816488914951, 0.10374023555592787, 0.4307050748628576, 0.2153525374314288, 0.2153525374314288, 0.37877832184702026, 0.9269791075676441, 0.8449801169843004, 0.7316313447139072, 0.20038844305635592, 0.20038844305635592, 0.40077688611271184, 0.9498280040089245, 0.5653440709165544, 0.027028099805063193, 0.16216859883037918, 0.08108429941518959, 0.27028099805063194, 0.08108429941518959, 0.027028099805063193, 0.027028099805063193, 0.027028099805063193, 0.027028099805063193, 0.027028099805063193, 0.027028099805063193, 0.054056199610126386, 0.054056199610126386, 0.027028099805063193, 0.054056199610126386, 0.6908759638021619, 0.18672501378868922, 0.7469000551547569, 0.5914418965974456, 0.07193556999987916, 0.86322683999855, 0.9074141108137044, 0.8254003233577709, 0.4870513171247803, 0.24352565856239014, 0.4361194853108144, 0.06230278361583063, 0.06230278361583063, 0.12460556723166126, 0.12460556723166126, 0.06230278361583063, 0.3851927616858196, 0.1925963808429098, 0.4223996637060225, 0.2981799908582626, 0.7108109437548052, 0.14216218875096104, 0.798416360639028, 0.6440861081213622, 0.8109582362565589, 0.9467814069017696, 0.33710468608011607, 0.22473645738674405, 0.08427617152002902, 0.028092057173343007, 0.056184114346686014, 0.056184114346686014, 0.11236822869337203, 0.028092057173343007, 0.7878838792372473, 0.11716535993546165, 0.11716535993546165, 0.4686614397418466, 0.11716535993546165, 0.7947747357310325, 0.06623122797758604, 0.6409980520058094, 0.2600813664887732, 0.3901220497331599, 0.19506102486657995, 0.5715508143532203, 0.41683146666595683, 0.7427271767900127, 0.6289675002781049, 0.7557146581752117, 0.3380320772063964, 0.1690160386031982, 0.1690160386031982, 0.9328548867018608, 0.5807541282913349, 0.21957393170976439, 0.21957393170976439, 0.21957393170976439, 0.2729761795281311, 0.5459523590562622, 0.9413652605728989, 0.46709244148187967, 0.05661726563416724, 0.07077158204270904, 0.04718105469513936, 0.0518991601646533, 0.03302673828659755, 0.01415431640854181, 0.01415431640854181, 0.07077158204270904, 0.018872421878055747, 0.004718105469513937, 0.004718105469513937, 0.009436210939027873, 0.004718105469513937, 0.004718105469513937, 0.009436210939027873, 0.004718105469513937, 0.004718105469513937, 0.004718105469513937, 0.004718105469513937, 0.004718105469513937, 0.004718105469513937, 0.02830863281708362, 0.004718105469513937, 0.004718105469513937, 0.004718105469513937, 0.004718105469513937, 0.004718105469513937, 0.004718105469513937, 0.10328352546517412, 0.8779099664539801, 0.6369690939147381, 0.39585054152711885, 0.39585054152711885, 0.8853088126315891, 0.15219511213800105, 0.15219511213800105, 0.15219511213800105, 0.15219511213800105, 0.15219511213800105, 0.6119849993888247, 0.8362225583164296, 0.0997555941344846, 0.6484113618741498, 0.02493889853362115, 0.02493889853362115, 0.1496333912017269, 0.6972850667014082, 0.1056492525305164, 0.02112985050610328, 0.01056492525305164, 0.02112985050610328, 0.02112985050610328, 0.03169477575915492, 0.01056492525305164, 0.01056492525305164, 0.02112985050610328, 0.01056492525305164, 0.6431674837459733, 0.4957439058345861, 0.4187183854704887, 0.33497470837639093, 0.1256155156411466, 0.5871471730746411, 0.9679329994691419, 0.18599115657692544, 0.18599115657692544, 0.3719823131538509, 0.1866152293198698, 0.33590741277576563, 0.11196913759192188, 0.07464609172794792, 0.03732304586397396, 0.01866152293198698, 0.03732304586397396, 0.01866152293198698, 0.01866152293198698, 0.05598456879596094, 0.01866152293198698, 0.01866152293198698, 0.138700698378034, 0.138700698378034, 0.277401396756068, 0.277401396756068, 0.4807479563351297, 0.3204986375567531, 0.5814601476363214, 0.761342219960738, 0.6816679791093411, 0.7860790648312368, 0.11133082644062944, 0.11133082644062944, 0.6679849586437766, 0.4983551514489095, 0.7172442807835503, 0.7850825176623372, 0.4784950973577214, 0.2676811414125453, 0.0892270471375151, 0.0892270471375151, 0.3569081885500604, 0.8651075604019964, 0.5191484053095754, 0.7211054649641133, 0.6625584524442306, 0.2208528174814102, 0.9329862738969747, 0.3937444049514889, 0.3937444049514889, 0.9669395277837053, 0.23736204118588577, 0.47472408237177155, 0.8190836913111569, 0.9094274107968587, 0.9583378863299813, 0.9367259055671795, 0.919048314299397, 0.4951830596168798, 0.7890805224304509, 0.5488723092562293, 0.12722007230553065, 0.6361003615276533, 0.691054209830046, 0.524471296345438, 0.6451678681721595, 0.72697208055307, 0.07400948058644247, 0.1110142208796637, 0.03700474029322123, 0.03700474029322123, 0.37004740293221233, 0.07400948058644247, 0.03700474029322123, 0.07400948058644247, 0.03700474029322123, 0.22604857739984338, 0.6781457321995301, 0.6507498615298373, 0.32537493076491864, 0.7235825448489497, 0.9925265186471233, 0.953539149584844, 0.597807424710221, 0.7485301890597286, 0.3662848245373778, 0.3662848245373778, 0.1623703971627804, 0.1623703971627804, 0.1623703971627804, 0.1623703971627804, 0.48434664900697727, 0.13838475685913634, 0.034596189214784086, 0.06919237842956817, 0.06919237842956817, 0.13838475685913634, 0.034596189214784086, 0.6885839282993071, 0.7104607486665713, 0.3728890351356147, 0.10653972432446135, 0.20642071587864386, 0.019976198310836503, 0.013317465540557669, 0.03329366385139417, 0.013317465540557669, 0.03329366385139417, 0.03329366385139417, 0.006658732770278834, 0.019976198310836503, 0.006658732770278834, 0.006658732770278834, 0.006658732770278834, 0.006658732770278834, 0.006658732770278834, 0.026634931081115337, 0.006658732770278834, 0.006658732770278834, 0.006658732770278834, 0.006658732770278834, 0.006658732770278834, 0.006658732770278834, 0.006658732770278834, 0.006658732770278834, 0.006658732770278834, 0.006658732770278834, 0.42601562123141107, 0.12283130583636372, 0.24566261167272743, 0.49132522334545486, 0.8354195864785825, 0.23660287910906877, 0.29575359888633596, 0.05915071977726719, 0.05915071977726719, 0.11830143955453438, 0.05915071977726719, 0.05915071977726719, 0.9516988495892201, 0.8737254328278153, 0.4912785179168216, 0.2456392589584108, 0.1228196294792054, 0.6233661909820569, 0.8115875346056162, 0.26390675529376734, 0.11995761604262152, 0.047983046417048605, 0.09596609283409721, 0.023991523208524303, 0.023991523208524303, 0.07197456962557292, 0.16794066245967013, 0.047983046417048605, 0.07197456962557292, 0.023991523208524303, 0.8253332345471333, 0.13755553909118887, 0.8970365823125327, 0.047212451700659616, 0.5555512287194264, 0.6735445598574487, 0.16838613996436216, 0.6264526434945323, 0.20035175195951876, 0.20035175195951876, 0.40070350391903753, 0.21347385976316247, 0.10673692988158123, 0.10673692988158123, 0.10673692988158123, 0.3202107896447437, 0.10673692988158123, 0.8794622756089944, 0.9734536413776987, 0.015210213146526543, 0.1478593960964531, 0.7392969804822654, 0.6348901880156381, 0.5519869048124868, 0.08177583774999805, 0.020443959437499513, 0.12266375662499708, 0.04088791887499903, 0.06133187831249854, 0.020443959437499513, 0.35037553409835476, 0.05839592234972579, 0.11679184469945159, 0.05839592234972579, 0.05839592234972579, 0.29197961174862896, 0.4445173724889253, 0.784605272749171, 0.11208646753559587, 0.7628859301743139, 0.9544461472989603, 0.7145756607175817, 0.8304982434186425, 0.4428078027133837, 0.4428078027133837, 0.6599165380619995, 0.0638628907801935, 0.021287630260064496, 0.021287630260064496, 0.10643815130032248, 0.021287630260064496, 0.6730919358406988, 0.9829988774673177, 0.818438655432644, 0.27944067199918, 0.55888134399836, 0.055888134399836, 0.4579069818161234, 0.06541528311658905, 0.06541528311658905, 0.06541528311658905, 0.1308305662331781, 0.06541528311658905, 0.3996513196215249, 0.8904903849027371, 0.1521697002330384, 0.0190212125291298, 0.11412727517477882, 0.11412727517477882, 0.0190212125291298, 0.0190212125291298, 0.36140303805346624, 0.05706363758738941, 0.0190212125291298, 0.0190212125291298, 0.7950195128702537, 0.8351404743621352, 0.8010061820461719, 0.7027556059029655, 0.1519471580330736, 0.0189933947541342, 0.0379867895082684, 0.0189933947541342, 0.42259045659285127, 0.4534428546247885, 0.8856618295508263, 0.03690257623128443, 0.03690257623128443, 0.7648255481505756, 0.8529258546706358, 0.8518815278642882, 0.623842311539386, 0.2666205332028307, 0.07153233817636921, 0.0390176390052923, 0.2276028941975384, 0.026011759336861534, 0.05852645850793845, 0.08453821784479998, 0.0065029398342153835, 0.05202351867372307, 0.0065029398342153835, 0.013005879668430767, 0.013005879668430767, 0.0065029398342153835, 0.0065029398342153835, 0.013005879668430767, 0.0065029398342153835, 0.0065029398342153835, 0.013005879668430767, 0.01950881950264615, 0.0065029398342153835, 0.0065029398342153835, 0.0065029398342153835, 0.0065029398342153835, 0.0065029398342153835, 0.0065029398342153835, 0.8955995803093288, 0.4130559574907151, 0.10326398937267878, 0.16522238299628605, 0.06195839362360727, 0.020652797874535757, 0.020652797874535757, 0.020652797874535757, 0.06195839362360727, 0.020652797874535757, 0.020652797874535757, 0.020652797874535757, 0.4716073138724559, 0.6862924488623461, 0.42387345619881783, 0.4324667199736742, 0.4324667199736742, 0.8675296085561605, 0.870582101521803, 0.6937142981004778, 0.8369611331254667, 0.3924553132554582, 0.3924553132554582, 0.49478579380819027, 0.972479258001776, 0.8642310105851954, 0.769125779308322, 0.10645724607633471, 0.21291449215266942, 0.21291449215266942, 0.21291449215266942, 0.56201491210891, 0.18733830403630333, 0.5826408335312103, 0.6031900824573888, 0.7860937231057735, 0.08734374701175261, 0.9054940899298827, 0.5269753084602646, 0.23623031068908415, 0.036343124721397564, 0.018171562360698782, 0.018171562360698782, 0.07268624944279513, 0.018171562360698782, 0.018171562360698782, 0.018171562360698782, 0.3946448123873357, 0.35614287947149803, 0.019250966457918812, 0.04812741614479703, 0.019250966457918812, 0.038501932915837624, 0.019250966457918812, 0.009625483228959406, 0.009625483228959406, 0.009625483228959406, 0.009625483228959406, 0.009625483228959406, 0.009625483228959406, 0.009625483228959406, 0.9485334455122976, 0.22704973099075643, 0.0608168922296669, 0.0648713517116447, 0.03243567585582235, 0.33652013700415684, 0.016217837927911174, 0.016217837927911174, 0.028381216373844553, 0.040544594819777936, 0.01216337844593338, 0.008108918963955587, 0.02432675689186676, 0.01216337844593338, 0.0040544594819777935, 0.008108918963955587, 0.0040544594819777935, 0.0040544594819777935, 0.0040544594819777935, 0.008108918963955587, 0.008108918963955587, 0.0040544594819777935, 0.0040544594819777935, 0.0040544594819777935, 0.01216337844593338, 0.0040544594819777935, 0.0040544594819777935, 0.0040544594819777935, 0.008108918963955587, 0.0040544594819777935, 0.0040544594819777935, 0.0040544594819777935, 0.0040544594819777935, 0.0040544594819777935, 0.19920656538643994, 0.09960328269321997, 0.19920656538643994, 0.19920656538643994, 0.7134811566149616, 0.1469011388647963, 0.1469011388647963, 0.2938022777295926, 0.9827089250519658, 0.22098636832436966, 0.4419727366487393, 0.5820237857200049, 0.04157312755142892, 0.04157312755142892, 0.04157312755142892, 0.12471938265428675, 0.04157312755142892, 0.1950846697169514, 0.04877116742923785, 0.04877116742923785, 0.4877116742923785, 0.14631350228771356, 0.5244406569619159, 0.23474283140807958, 0.46948566281615917, 0.17118356588997694, 0.24454795127139564, 0.12227397563569782, 0.04890959025427913, 0.09781918050855826, 0.024454795127139564, 0.024454795127139564, 0.04890959025427913, 0.12227397563569782, 0.024454795127139564, 0.5181309897134863, 0.47018306436744195, 0.12216156737975024, 0.7329694042785014, 0.6511921661561706, 0.5902755017540721, 0.8114085264531264, 0.5523983371851179, 0.5195560067916613, 0.8816672974629415, 0.6661547155082619, 0.12977039912498609, 0.025954079824997218, 0.00865135994166574, 0.00865135994166574, 0.051908159649994436, 0.01730271988333148, 0.025954079824997218, 0.00865135994166574, 0.00865135994166574, 0.00865135994166574, 0.00865135994166574, 0.4885827639715691, 0.6783417573861098, 0.5855816489662709, 0.685575736578025, 0.40691181984969205, 0.07398396724539856, 0.03699198362269928, 0.05548797543404892, 0.11097595086809783, 0.01849599181134964, 0.05548797543404892, 0.05548797543404892, 0.01849599181134964, 0.03699198362269928, 0.01849599181134964, 0.01849599181134964, 0.01849599181134964, 0.4956173600213377, 0.024780868001066884, 0.12390434000533443, 0.07434260400320065, 0.04956173600213377, 0.024780868001066884, 0.024780868001066884, 0.024780868001066884, 0.024780868001066884, 0.024780868001066884, 0.024780868001066884, 0.5640233077372372, 0.04700194231143644, 0.04700194231143644, 0.04700194231143644, 0.07050291346715465, 0.02350097115571822, 0.02350097115571822, 0.02350097115571822, 0.02350097115571822, 0.04700194231143644, 0.02350097115571822, 0.7518714293885198, 0.8052098995777257, 0.06113080457973381, 0.04075386971982255, 0.04075386971982255, 0.04075386971982255, 0.7131927200968945, 0.020376934859911273, 0.8283209104426704, 0.19736085745996026, 0.5920825723798808, 0.8886898540097578, 0.697336845792368, 0.6933825279915884, 0.27028154534543825, 0.18018769689695882, 0.09009384844847941, 0.09009384844847941, 0.045046924224239705, 0.045046924224239705, 0.045046924224239705, 0.045046924224239705, 0.8517957011080594, 0.6260649648464415, 0.9742488164354448, 0.21965675322039538, 0.054914188305098845, 0.43931350644079076, 0.054914188305098845, 0.10982837661019769, 0.054914188305098845, 0.054914188305098845, 0.7042896320866061, 0.43878808755344334, 0.1506287464735701, 0.07203983526996831, 0.04584353153543438, 0.006549075933633483, 0.04584353153543438, 0.019647227800900446, 0.04584353153543438, 0.006549075933633483, 0.006549075933633483, 0.006549075933633483, 0.006549075933633483, 0.013098151867266965, 0.019647227800900446, 0.006549075933633483, 0.013098151867266965, 0.006549075933633483, 0.019647227800900446, 0.006549075933633483, 0.013098151867266965, 0.006549075933633483, 0.006549075933633483, 0.006549075933633483, 0.006549075933633483, 0.17080959605477636, 0.42702399013694087, 0.08540479802738818, 0.08540479802738818, 0.7341933732637385, 0.23771475829256078, 0.05093887677697731, 0.03395925118465154, 0.05093887677697731, 0.01697962559232577, 0.1697962559232577, 0.1697962559232577, 0.08489812796162885, 0.01697962559232577, 0.01697962559232577, 0.01697962559232577, 0.01697962559232577, 0.03395925118465154, 0.01697962559232577, 0.01697962559232577, 0.91515396893373, 0.7657781350036225, 0.3657514075915042, 0.3657514075915042, 0.7957421692695843, 0.30561240485041247, 0.112943714836022, 0.3255436486450046, 0.01993124379459212, 0.013287495863061412, 0.07972497517836848, 0.006643747931530706, 0.006643747931530706, 0.006643747931530706, 0.006643747931530706, 0.013287495863061412, 0.013287495863061412, 0.006643747931530706, 0.013287495863061412, 0.006643747931530706, 0.006643747931530706, 0.006643747931530706, 0.006643747931530706, 0.006643747931530706, 0.6695219812063617, 0.2510707429523857, 0.4026681828724591, 0.4026681828724591, 0.9338167930829288, 0.8816344892263771, 0.7328668409439861, 0.5742105317004231, 0.7750164480748747, 0.7215379545943966, 0.7525820426748437, 0.4637858212989956, 0.8912501769543182, 0.3715196616392251, 0.31844542426219297, 0.10614847475406432, 0.5970558869450565, 0.764615637485761, 0.5270119312728587, 0.9021201311761555, 0.5392493513127304, 0.02696246756563652, 0.1617748053938191, 0.02696246756563652, 0.1348123378281826, 0.02696246756563652, 0.02696246756563652, 0.02696246756563652, 0.8524906040412044, 0.40060304424795384, 0.26706869616530254, 0.13353434808265127, 0.7408996568742032, 0.7768132533224343, 0.923754347059996, 0.5404603597611871, 0.2806370559680079, 0.0935456853226693, 0.4677284266133465, 0.9592396482279297, 0.6000593035473362, 0.6588992391062722, 0.09183225972313065, 0.09183225972313065, 0.7117000128542625, 0.022958064930782663, 0.022958064930782663, 0.21451525352356388, 0.21451525352356388, 0.21451525352356388, 0.21451525352356388, 0.5791960281853697, 0.19306534272845657, 0.22973905726798335, 0.3675824916287734, 0.04594781145359667, 0.13784343436079, 0.04594781145359667, 0.04594781145359667, 0.034330692498392906, 0.17165346249196453, 0.4119683099807149, 0.06866138499678581, 0.034330692498392906, 0.10299207749517872, 0.06866138499678581, 0.8100358070554174, 0.46585773498581823, 0.23292886749290911, 0.11646443374645456, 0.4677673484182022, 0.19695467301819042, 0.09847733650909521, 0.0738580023818214, 0.024619334127273802, 0.024619334127273802, 0.05625324897542755, 0.05625324897542755, 0.6750389877051306, 0.05625324897542755, 0.6435945138117122, 0.06278970866455728, 0.04709228149841796, 0.04709228149841796, 0.01569742716613932, 0.04709228149841796, 0.01569742716613932, 0.01569742716613932, 0.03139485433227864, 0.01569742716613932, 0.01569742716613932, 0.5912620074223686, 0.23030425853833025, 0.30707234471777367, 0.07676808617944342, 0.07676808617944342, 0.07676808617944342, 0.07676808617944342, 0.7496534952819248, 0.8690766091281863, 0.8196951213690851, 0.6880696796507797, 0.044259325848842616, 0.13277797754652787, 0.044259325848842616, 0.4425932584884262, 0.08851865169768523, 0.044259325848842616, 0.08851865169768523, 0.7210573182253487, 0.9685401267784609, 0.15236936565859358, 0.3207776119128286, 0.07217496268038644, 0.03207776119128286, 0.07217496268038644, 0.03207776119128286, 0.08821384327602787, 0.040097201489103576, 0.008019440297820715, 0.008019440297820715, 0.008019440297820715, 0.01603888059564143, 0.008019440297820715, 0.048116641786924284, 0.008019440297820715, 0.01603888059564143, 0.008019440297820715, 0.008019440297820715, 0.008019440297820715, 0.008019440297820715, 0.008019440297820715, 0.10608168161576538, 0.10608168161576538, 0.7425717713103576, 0.1251316564393024, 0.5630924539768608, 0.020855276073217067, 0.1251316564393024, 0.020855276073217067, 0.041710552146434134, 0.041710552146434134, 0.9560379045027503, 0.7408383149076762, 0.7178147890537171, 0.26952165355110497, 0.5390433071022099, 0.6517465902484129, 0.7627784201830069, 0.1907092474810998, 0.6674823661838493, 0.5793841569341999, 0.9574254378220824, 0.41485273332740696, 0.10917177192826498, 0.021834354385652996, 0.15284048069957099, 0.04366870877130599, 0.021834354385652996, 0.021834354385652996, 0.021834354385652996, 0.021834354385652996, 0.04366870877130599, 0.021834354385652996, 0.050847326089017826, 0.050847326089017826, 0.050847326089017826, 0.10169465217803565, 0.5593205869791961, 0.2684989350192727, 0.12991883952545452, 0.060628791778545445, 0.14724135146218179, 0.09527381565199998, 0.06929004774690908, 0.025983767905090906, 0.008661255968363635, 0.008661255968363635, 0.008661255968363635, 0.01732251193672727, 0.008661255968363635, 0.008661255968363635, 0.008661255968363635, 0.008661255968363635, 0.008661255968363635, 0.008661255968363635, 0.008661255968363635, 0.008661255968363635, 0.01732251193672727, 0.008661255968363635, 0.008661255968363635, 0.008661255968363635, 0.20772777257171507, 0.20772777257171507, 0.41545554514343014, 0.9319273079364154, 0.5834291437807969, 0.8485902757993786, 0.3029067341935221, 0.1357857773970961, 0.15667589699664936, 0.010445059799776623, 0.010445059799776623, 0.020890119599553246, 0.04178023919910649, 0.010445059799776623, 0.020890119599553246, 0.05222529899888312, 0.010445059799776623, 0.16712095679642597, 0.010445059799776623, 0.16110819821565903, 0.5638786937548066, 0.08055409910782951, 0.09840358751370167, 0.021867463891933704, 0.7106925764878453, 0.03280119583790055, 0.010933731945966852, 0.04373492778386741, 0.021867463891933704, 0.010933731945966852, 0.010933731945966852, 0.010933731945966852, 0.010933731945966852, 0.6359642055906386, 0.07949552569882982, 0.07949552569882982, 0.07949552569882982, 0.9002257605605288, 0.37776195138682733, 0.3338361430860335, 0.04392580830079388, 0.008785161660158775, 0.008785161660158775, 0.0702812932812702, 0.01757032332031755, 0.01757032332031755, 0.008785161660158775, 0.01757032332031755, 0.008785161660158775, 0.008785161660158775, 0.008785161660158775, 0.008785161660158775, 0.008785161660158775, 0.008785161660158775, 0.008785161660158775, 0.008785161660158775, 0.7548541874208171, 0.0984592418374979, 0.032819747279165964, 0.016409873639582982, 0.04922962091874895, 0.8682083622656113, 0.30028587300954185, 0.6005717460190837, 0.09823572587815857, 0.09823572587815857, 0.09823572587815857, 0.09823572587815857, 0.09823572587815857, 0.09823572587815857, 0.19647145175631714, 0.18186440555038996, 0.2424858740671866, 0.06062146851679665, 0.06062146851679665, 0.06062146851679665, 0.18186440555038996, 0.06062146851679665, 0.6236650914948569, 0.07795813643685712, 0.23387440931057135, 0.8626525922659513, 0.4999029164596274, 0.5356098155529821, 0.13390245388824554, 0.44480119471107904, 0.10534765137893978, 0.1404635351719197, 0.011705294597659975, 0.02341058919531995, 0.0468211783906399, 0.02341058919531995, 0.011705294597659975, 0.02341058919531995, 0.011705294597659975, 0.011705294597659975, 0.011705294597659975, 0.011705294597659975, 0.011705294597659975, 0.08193706218361983, 0.8504165759105755, 0.6992294911415939, 0.23033622063056775, 0.23033622063056775, 0.23033622063056775, 0.7614198511811838, 0.29491622388874356, 0.5898324477774871, 0.16739254382306018, 0.16739254382306018, 0.08369627191153009, 0.16739254382306018, 0.16739254382306018, 0.08369627191153009, 0.44370401890339006, 0.6078365447765924, 0.651570105566199, 0.18983161039117522, 0.09491580519558761, 0.37966322078235043, 0.6031574711400977, 0.09333723842232818, 0.7933665265897895, 0.04666861921116409, 0.6484147540592344, 0.26081963817154846, 0.5216392763430969, 0.9244235179026826, 0.12978916700351092, 0.023598030364274714, 0.43656356173908223, 0.058995075910686784, 0.011799015182137357, 0.011799015182137357, 0.07079409109282414, 0.011799015182137357, 0.011799015182137357, 0.011799015182137357, 0.011799015182137357, 0.011799015182137357, 0.011799015182137357, 0.10619113663923621, 0.011799015182137357, 0.011799015182137357, 0.5966941097747606, 0.09944901829579342, 0.09944901829579342, 0.09944901829579342, 0.06749679427859294, 0.11249465713098823, 0.3149850399667671, 0.04499786285239529, 0.04499786285239529, 0.022498931426197646, 0.04499786285239529, 0.022498931426197646, 0.06749679427859294, 0.022498931426197646, 0.06749679427859294, 0.022498931426197646, 0.04499786285239529, 0.022498931426197646, 0.2973773970147614, 0.2973773970147614, 0.2973773970147614, 0.797109087643407, 0.4707794456676457, 0.7442059285783381, 0.30035013331238747, 0.6007002666247749, 0.8398987271504487, 0.18344679586033094, 0.5503403875809928, 0.4711178844825657, 0.23555894224128285, 0.7238364044840554, 0.8282886506230583, 0.881705642713381, 0.15638503290382902, 0.07819251645191451, 0.3909625822595726, 0.3909625822595726, 0.848448805034499, 0.2209814368073134, 0.05524535920182835, 0.08286803880274253, 0.027622679600914177, 0.13811339800457087, 0.05524535920182835, 0.19335875720639922, 0.027622679600914177, 0.027622679600914177, 0.05524535920182835, 0.027622679600914177, 0.4194182385118358, 0.4194182385118358, 0.6291838184587498, 0.05243198487156248, 0.15729595461468746, 0.7314618923105972, 0.7987702241291282, 0.5160380270759786, 0.7609553940420467, 0.5142885809578567, 0.4138121564132675, 0.2758747709421784, 0.027587477094217838, 0.018391651396145223, 0.027587477094217838, 0.055174954188435675, 0.009195825698072611, 0.009195825698072611, 0.009195825698072611, 0.009195825698072611, 0.027587477094217838, 0.009195825698072611, 0.009195825698072611, 0.009195825698072611, 0.009195825698072611, 0.018391651396145223, 0.009195825698072611, 0.009195825698072611, 0.009195825698072611, 0.009195825698072611, 0.8149031899301741, 0.7778192342006272, 0.4927848815849252, 0.885762423423524, 0.8304583976238423, 0.3341230317880686, 0.3341230317880686, 0.3341230317880686, 0.056080576600825355, 0.5047251894074283, 0.056080576600825355, 0.16824172980247606, 0.056080576600825355, 0.2978184313347284, 0.09927281044490947, 0.09927281044490947, 0.09927281044490947, 0.09927281044490947, 0.09927281044490947, 0.8262081257619787, 0.8808125069561156, 0.2718329046586885, 0.04530548410978141, 0.09061096821956283, 0.18122193643912565, 0.04530548410978141, 0.04530548410978141, 0.04530548410978141, 0.18122193643912565, 0.9509068969806661, 0.14507713348928933, 0.4062159737700101, 0.029015426697857866, 0.05803085339571573, 0.029015426697857866, 0.029015426697857866, 0.029015426697857866, 0.029015426697857866, 0.11606170679143146, 0.029015426697857866, 0.9220363633698575, 0.3695279624670015, 0.3695279624670015, 0.2045118715716223, 0.2045118715716223, 0.10225593578581114, 0.2045118715716223, 0.7079231257390018, 0.7708895499801011, 0.344145222460558, 0.172072611230279, 0.172072611230279, 0.172072611230279, 0.7053861474765899, 0.33301784968215714, 0.9579277714849351, 0.6566768540203745, 0.7940575190410074, 0.8653501331101568, 0.6903320747953455, 0.7389852650201367, 0.9728676751739235, 0.7990451306471673, 0.49046487422570517, 0.04103381221545267, 0.3282704977236214, 0.04103381221545267, 0.12310143664635802, 0.08206762443090534, 0.1641352488618107, 0.12310143664635802, 0.9278785567145696, 0.7360538530756662, 0.022304662214414128, 0.022304662214414128, 0.022304662214414128, 0.1561326355008989, 0.40224036166499516, 0.26816024110999676, 0.26816024110999676, 0.10882639242324976, 0.21765278484649953, 0.10882639242324976, 0.3264791772697493, 0.738372908543101, 0.4355607414541478, 0.24889185225951305, 0.12444592612975652, 0.06222296306487826, 0.28203580624962793, 0.28203580624962793, 0.8571679217724287, 0.8054828665274204, 0.9238107950163691, 0.14187901488209206, 0.2837580297641841, 0.4256370446462762, 0.17857984460529744, 0.13393488345397309, 0.625029456118541, 0.8609637657772512, 0.8999587431581548, 0.44471303078374147, 0.7616014835425249, 0.742571017151662, 0.47855407301418174, 0.47855407301418174, 0.7796409589395592, 0.4534860322880671, 0.430952149600133, 0.2154760748000665, 0.2154760748000665, 0.2154760748000665, 0.7724038623556161, 0.6355655724213592, 0.8042568500350504, 0.05026605312719065, 0.05026605312719065, 0.7995201176370633, 0.25104468322577883, 0.1673631221505192, 0.0836815610752596, 0.25104468322577883, 0.8206008865939833, 0.08554299142349742, 0.17108598284699483, 0.6415724356762307, 0.04277149571174871, 0.41921266923502765, 0.26949385879394633, 0.05988752417643252, 0.05988752417643252, 0.05988752417643252, 0.02994376208821626, 0.02994376208821626, 0.02994376208821626, 0.04003441775955461, 0.04003441775955461, 0.12010325327866384, 0.08006883551910922, 0.52044743087421, 0.04003441775955461, 0.04003441775955461, 0.04003441775955461, 0.6224035894686422, 0.9782093922538043, 0.891005844089892, 0.6303189947205274, 0.8090242493837977, 0.12774067095533648, 0.11363661581212745, 0.17045492371819115, 0.17045492371819115, 0.05681830790606372, 0.3409098474363823, 0.38689814565731995, 0.22108465466132568, 0.05527116366533142, 0.05527116366533142, 0.05527116366533142, 0.05527116366533142, 0.21342895670720424, 0.04268579134144085, 0.04268579134144085, 0.44820080908512894, 0.021342895670720424, 0.04268579134144085, 0.021342895670720424, 0.04268579134144085, 0.021342895670720424, 0.021342895670720424, 0.021342895670720424, 0.30417327326667015, 0.03509691614615425, 0.432861965802569, 0.011698972048718082, 0.011698972048718082, 0.03509691614615425, 0.058494860243590414, 0.011698972048718082, 0.011698972048718082, 0.011698972048718082, 0.011698972048718082, 0.5879374706507348, 0.7686177819330177, 0.523560604710186, 0.9903515981608438, 0.9825373649809935, 0.9512044740441271, 0.4562197247159391, 0.8539273055120168, 0.5513410303464052, 0.07876300433520075, 0.23628901300560226, 0.07876300433520075, 0.9520313449398203, 0.957124850282994, 0.5966509021368158, 0.11933018042736317, 0.0795534536182421, 0.03977672680912105, 0.03977672680912105, 0.03977672680912105, 0.2928771699196513, 0.11051968676213256, 0.05525984338106628, 0.12709763977645244, 0.03315590602863976, 0.06631181205727953, 0.07736378073349279, 0.04973385904295965, 0.005525984338106628, 0.022103937352426512, 0.005525984338106628, 0.011051968676213256, 0.005525984338106628, 0.005525984338106628, 0.005525984338106628, 0.01657795301431988, 0.005525984338106628, 0.005525984338106628, 0.011051968676213256, 0.005525984338106628, 0.005525984338106628, 0.005525984338106628, 0.005525984338106628, 0.005525984338106628, 0.005525984338106628, 0.011051968676213256, 0.005525984338106628, 0.005525984338106628, 0.005525984338106628, 0.005525984338106628, 0.5335214284015893, 0.3675116281004966, 0.3675116281004966, 0.5255939819401123, 0.26279699097005615, 0.9678097838529213, 0.5293722246241216, 0.4183266214592797, 0.20916331072963984, 0.04403438120623997, 0.04403438120623997, 0.011008595301559992, 0.07706016711091994, 0.011008595301559992, 0.011008595301559992, 0.011008595301559992, 0.011008595301559992, 0.011008595301559992, 0.022017190603119983, 0.011008595301559992, 0.022017190603119983, 0.011008595301559992, 0.011008595301559992, 0.10851147079732724, 0.10851147079732724, 0.10851147079732724, 0.10851147079732724, 0.6510688247839634, 0.9396858438928813, 0.8023752827114264, 0.5048891927910126, 0.2736705581088991, 0.13683527905444956, 0.2736705581088991, 0.2736705581088991, 0.6729379697004112, 0.1682344924251028, 0.945199711418969, 0.2669693524771707, 0.2669693524771707, 0.2669693524771707, 0.6420469293130575, 0.04863991888735284, 0.053503910776088126, 0.029183951332411705, 0.05836790266482341, 0.02431995944367642, 0.009727983777470568, 0.004863991888735284, 0.004863991888735284, 0.004863991888735284, 0.014591975666205853, 0.004863991888735284, 0.004863991888735284, 0.004863991888735284, 0.009727983777470568, 0.009727983777470568, 0.004863991888735284, 0.009727983777470568, 0.004863991888735284, 0.004863991888735284, 0.009727983777470568, 0.004863991888735284, 0.009727983777470568, 0.004863991888735284, 0.004863991888735284, 0.004863991888735284, 0.004863991888735284, 0.5814609767892466, 0.6235657133926842, 0.4267786970013749, 0.05033526292140099, 0.05033526292140099, 0.2516763146070049, 0.05033526292140099, 0.05033526292140099, 0.15100578876420295, 0.20134105168560396, 0.05033526292140099, 0.20134105168560396, 0.23484513664085557, 0.23484513664085557, 0.11742256832042779, 0.11742256832042779, 0.11742256832042779, 0.8892558792569178, 0.7867625357794811, 0.23973516101141468, 0.14983447563213417, 0.029966895126426835, 0.05993379025285367, 0.05993379025285367, 0.3296358463906952, 0.029966895126426835, 0.029966895126426835, 0.8240396678612144, 0.5006290875699788, 0.20247048970974213, 0.07349956133298859, 0.011094273408752993, 0.01664141011312949, 0.040216741106729605, 0.008320705056564745, 0.006933920880470621, 0.00970748923265887, 0.006933920880470621, 0.0027735683521882483, 0.005547136704376497, 0.004160352528282373, 0.004160352528282373, 0.004160352528282373, 0.0027735683521882483, 0.004160352528282373, 0.0027735683521882483, 0.00970748923265887, 0.006933920880470621, 0.0027735683521882483, 0.005547136704376497, 0.004160352528282373, 0.0013867841760941242, 0.006933920880470621, 0.026348899345788362, 0.0027735683521882483, 0.0027735683521882483, 0.0027735683521882483, 0.0013867841760941242, 0.0027735683521882483, 0.0027735683521882483, 0.0013867841760941242, 0.0027735683521882483, 0.0013867841760941242, 0.0013867841760941242, 0.0013867841760941242, 0.0013867841760941242, 0.0013867841760941242, 0.0013867841760941242, 0.0013867841760941242, 0.0013867841760941242, 0.0013867841760941242, 0.0013867841760941242, 0.9695236014776115, 0.13782723122756896, 0.5906881338324383, 0.05906881338324384, 0.019689604461081277, 0.05906881338324384, 0.019689604461081277, 0.019689604461081277, 0.019689604461081277, 0.019689604461081277, 0.019689604461081277, 0.9779519489066365, 0.06144387482552904, 0.12288774965105809, 0.18433162447658713, 0.21505356188935165, 0.09216581223829357, 0.03072193741276452, 0.03072193741276452, 0.03072193741276452, 0.03072193741276452, 0.03072193741276452, 0.06144387482552904, 0.03072193741276452, 0.03072193741276452, 0.05293172434123928, 0.15879517302371784, 0.05293172434123928, 0.10586344868247856, 0.15879517302371784, 0.05293172434123928, 0.05293172434123928, 0.05293172434123928, 0.15879517302371784, 0.23931232303708236, 0.4786246460741647, 0.641300543008018, 0.079832099234625, 0.878153091580875, 0.48849415826761955, 0.6456802865724558, 0.661693690761901, 0.8801802970471302, 0.6778016859166109, 0.1966049147685572, 0.1966049147685572, 0.3932098295371144, 0.240878759309717, 0.1204393796548585, 0.04014645988495283, 0.08029291976990566, 0.1204393796548585, 0.1204393796548585, 0.1204393796548585, 0.04014645988495283, 0.8236372628160504, 0.30524531200745963, 0.30524531200745963, 0.10174843733581988, 0.10174843733581988, 0.10174843733581988, 0.09036408227859735, 0.8132767405073762, 0.0507289016439587, 0.9131202295912566, 0.43498208611880096, 0.06214029801697157, 0.06214029801697157, 0.12428059603394313, 0.24856119206788627, 0.6405926177761346, 0.9094103333407577, 0.26222256012115974, 0.0771242823885764, 0.1542485647771528, 0.09254913886629168, 0.2313728471657292, 0.09254913886629168, 0.03084971295543056, 0.01542485647771528, 0.49288301806692597, 0.8137142504493412, 0.773519736471854, 0.28537579893811754, 0.5707515978762351, 0.8947744685043458, 0.8816053124299232, 0.5435784899746331, 0.18119282999154435, 0.030198804998590723, 0.12079521999436289, 0.030198804998590723, 0.623456672146068, 0.6663159778906657, 0.2221053259635552, 0.6193488791659026, 0.12386977583318053, 0.15173977258426108, 0.5310892040449138, 0.03793494314606527, 0.07586988629213054, 0.07586988629213054, 0.03793494314606527, 0.03793494314606527, 0.4828924378848116, 0.11037541437367122, 0.027593853593417806, 0.013796926796708903, 0.09657848757696232, 0.027593853593417806, 0.013796926796708903, 0.013796926796708903, 0.013796926796708903, 0.013796926796708903, 0.08278156078025342, 0.013796926796708903, 0.013796926796708903, 0.013796926796708903, 0.013796926796708903, 0.013796926796708903, 0.013796926796708903, 0.2904489129677083, 0.1774965579247106, 0.04840815216128471, 0.1290884057634259, 0.016136050720428237, 0.032272101440856474, 0.032272101440856474, 0.1290884057634259, 0.016136050720428237, 0.016136050720428237, 0.016136050720428237, 0.016136050720428237, 0.7533245347233075, 0.7605047527046356, 0.9432996104410727, 0.502892844771197, 0.16763094825706568, 0.08381547412853284, 0.08381547412853284, 0.08381547412853284, 0.2218122068888691, 0.2218122068888691, 0.2218122068888691, 0.7683177279878336, 0.5458597476088404, 0.04056319235496053, 0.04056319235496053, 0.08112638470992106, 0.04056319235496053, 0.5273215006144869, 0.16225276941984212, 0.8073003040879296, 0.7828599139574737, 0.8394811836602561, 0.607573522282675, 0.8380559706273822, 0.5562034074115365, 0.05562034074115365, 0.05562034074115365, 0.05562034074115365, 0.05562034074115365, 0.1112406814823073, 0.22356581727979655, 0.4471316345595931, 0.10595391888074457, 0.21190783776148914, 0.10595391888074457, 0.10595391888074457, 0.21190783776148914, 0.1077397469015123, 0.4309589876060492, 0.05386987345075615, 0.05386987345075615, 0.05386987345075615, 0.1077397469015123, 0.1077397469015123, 0.6392621064546102, 0.2894193138329061, 0.024118276152742174, 0.04823655230548435, 0.43412897074935913, 0.024118276152742174, 0.024118276152742174, 0.07235482845822652, 0.024118276152742174, 0.024118276152742174, 0.8429444937237244, 0.9298477826478113, 0.15315136684603808, 0.030630273369207615, 0.06126054673841523, 0.030630273369207615, 0.4288238271689066, 0.030630273369207615, 0.030630273369207615, 0.030630273369207615, 0.030630273369207615, 0.06126054673841523, 0.06126054673841523, 0.2716522034082533, 0.81495661022476, 0.9052270075696441, 0.027431121441504367, 0.027431121441504367, 0.14406900948016982, 0.04116257413719138, 0.6380198991264664, 0.02058128706859569, 0.02058128706859569, 0.02058128706859569, 0.04116257413719138, 0.8350764702885286, 0.22906359903078505, 0.6871907970923552, 0.9304317598687021, 0.13051272596077507, 0.3654356326901702, 0.10441018076862006, 0.026102545192155015, 0.026102545192155015, 0.026102545192155015, 0.026102545192155015, 0.026102545192155015, 0.026102545192155015, 0.13051272596077507, 0.026102545192155015, 0.7113206899158754, 0.19064083197836953, 0.38128166395673907, 0.19064083197836953, 0.12797328093695245, 0.3839198428108574, 0.2559465618739049, 0.7724374072762238, 0.18062797297983324, 0.18062797297983324, 0.18062797297983324, 0.18062797297983324, 0.7073166083492131, 0.7090520895051452, 0.4323565195075479, 0.22363268250390408, 0.014908845500260273, 0.014908845500260273, 0.05963538200104109, 0.04472653650078082, 0.014908845500260273, 0.014908845500260273, 0.05963538200104109, 0.029817691000520546, 0.014908845500260273, 0.6260293901161198, 0.07825367376451497, 0.07825367376451497, 0.5790777634908192, 0.05264343304461992, 0.07896514956692989, 0.01316085826115498, 0.01316085826115498, 0.02632171652230996, 0.01316085826115498, 0.039482574783464945, 0.01316085826115498, 0.039482574783464945, 0.01316085826115498, 0.039482574783464945, 0.14420380374947583, 0.28840760749895167, 0.43261141124842756, 0.7442491794446465, 0.8553113361812709, 0.39672683210806636, 0.39672683210806636, 0.16497806346236923, 0.32995612692473847, 0.32995612692473847, 0.09182422393539795, 0.045912111967698975, 0.13773633590309695, 0.045912111967698975, 0.13773633590309695, 0.045912111967698975, 0.045912111967698975, 0.045912111967698975, 0.045912111967698975, 0.13773633590309695, 0.09182422393539795, 0.7202624722640169, 0.905727746704235, 0.7200424317891461, 0.7913244033366075, 0.07913244033366075, 0.015826488066732147, 0.015826488066732147, 0.031652976133464295, 0.015826488066732147, 0.015826488066732147, 0.562736580273166, 0.768492170373298, 0.3060588181704188, 0.10201960605680625, 0.10201960605680625, 0.10201960605680625, 0.3060588181704188, 0.3463099073058718, 0.25973243047940386, 0.08657747682646795, 0.1731549536529359, 0.8948226974841957, 0.5212547623781824, 0.08687579372969706, 0.34750317491878824, 0.5545414288984455, 0.09242357148307424, 0.03080785716102475, 0.03080785716102475, 0.03080785716102475, 0.03080785716102475, 0.03080785716102475, 0.03080785716102475, 0.03080785716102475, 0.03080785716102475, 0.03080785716102475, 0.8498139269276904, 0.3362375561640147, 0.11207918538800489, 0.3362375561640147, 0.11207918538800489, 0.11207918538800489, 0.8373172821828962, 0.4338675574431924, 0.09297161945211266, 0.030990539817370887, 0.061981079634741774, 0.030990539817370887, 0.030990539817370887, 0.09297161945211266, 0.030990539817370887, 0.030990539817370887, 0.09297161945211266, 0.9578010824135258, 0.8055762716122828, 0.46755821582422025, 0.8952964305344404, 0.3906138347311337, 0.14959678776937035, 0.06648746123083127, 0.008310932653853909, 0.0997311918462469, 0.033243730615415634, 0.008310932653853909, 0.016621865307707817, 0.008310932653853909, 0.033243730615415634, 0.008310932653853909, 0.04986559592312345, 0.008310932653853909, 0.008310932653853909, 0.008310932653853909, 0.008310932653853909, 0.008310932653853909, 0.024932797961561726, 0.008310932653853909, 0.008310932653853909, 0.008310932653853909, 0.008310932653853909, 0.7314647804656425, 0.2312403641352653, 0.4624807282705306, 0.8435591018359, 0.6752604350415441, 0.07502893722683823, 0.15005787445367647, 0.7380620031141119, 0.14602516644562485, 0.14602516644562485, 0.43807549933687456, 0.3351630748997395, 0.5865353810745442, 0.22027083395802768, 0.44054166791605537, 0.6970061432454343, 0.7098679087592671, 0.17746697718981677, 0.05257772747346241, 0.15773318242038725, 0.5783550022080866, 0.05257772747346241, 0.43680248133664573, 0.23520133610434768, 0.07560042946211176, 0.008400047718012418, 0.016800095436024835, 0.05880033402608692, 0.008400047718012418, 0.008400047718012418, 0.008400047718012418, 0.008400047718012418, 0.008400047718012418, 0.008400047718012418, 0.008400047718012418, 0.025200143154037253, 0.008400047718012418, 0.008400047718012418, 0.008400047718012418, 0.008400047718012418, 0.008400047718012418, 0.008400047718012418, 0.008400047718012418, 0.008400047718012418, 0.7205872894503778, 0.24396757524775253, 0.17426255374839467, 0.03485251074967893, 0.03485251074967893, 0.03485251074967893, 0.34852510749678933, 0.03485251074967893, 0.03485251074967893, 0.577247246047271, 0.6698833233682238, 0.9712710329990503, 0.36335500846539975, 0.36335500846539975, 0.7630802736172928, 0.35104813975546684, 0.11701604658515562, 0.11701604658515562, 0.11701604658515562, 0.9415862781582174, 0.23449065207560227, 0.0639519960206188, 0.0639519960206188, 0.1279039920412376, 0.1918559880618564, 0.021317332006872934, 0.0319759980103094, 0.0639519960206188, 0.021317332006872934, 0.010658666003436467, 0.021317332006872934, 0.021317332006872934, 0.010658666003436467, 0.010658666003436467, 0.010658666003436467, 0.010658666003436467, 0.010658666003436467, 0.010658666003436467, 0.010658666003436467, 0.010658666003436467, 0.010658666003436467, 0.010658666003436467, 0.010658666003436467, 0.8904507710595941, 0.298796152036831, 0.597592304073662, 0.709402894296038, 0.8664902742037994, 0.8379391298246538, 0.355468371309016, 0.11695166761413488, 0.11695166761413488, 0.11695166761413488, 0.23390333522826975, 0.3508550028424046, 0.5039616696958586, 0.5653541871952227, 0.45222052482021224, 0.1808882099280849, 0.03014803498801415, 0.03014803498801415, 0.0602960699760283, 0.0602960699760283, 0.03014803498801415, 0.03014803498801415, 0.03014803498801415, 0.0602960699760283, 0.7177745084928658, 0.11962908474881097, 0.03987636158293699, 0.020574740668406137, 0.20574740668406136, 0.5349432573785595, 0.041149481336812274, 0.020574740668406137, 0.08229896267362455, 0.041149481336812274, 0.9222368386499845, 0.6784777695345274, 0.17833480604775964, 0.2496687284668635, 0.17833480604775964, 0.03566696120955193, 0.03566696120955193, 0.03566696120955193, 0.07133392241910386, 0.03566696120955193, 0.03566696120955193, 0.7261091678962978, 0.6051995105270234, 0.15129987763175584, 0.15129987763175584, 0.8930578699450498, 0.7684217132096778, 0.049575594400624375, 0.049575594400624375, 0.024787797200312187, 0.024787797200312187, 0.024787797200312187, 0.8153189789710759, 0.8892025552586308, 0.2922511001961559, 0.5845022003923118, 0.5015913189963176, 0.6375073121760152, 0.02056475200567791, 0.10282376002838955, 0.06169425601703373, 0.02056475200567791, 0.04112950401135582, 0.04112950401135582, 0.02056475200567791, 0.06169425601703373, 0.30629570030058406, 0.30629570030058406, 0.3494786260231418, 0.3494786260231418, 0.08736965650578545, 0.08736965650578545, 0.947332785547608, 0.4692635540621014, 0.1401532006717627, 0.42045960201528815, 0.1401532006717627, 0.4587267787389197, 0.025484821041051094, 0.10193928416420438, 0.025484821041051094, 0.025484821041051094, 0.15290892624630656, 0.10193928416420438, 0.025484821041051094, 0.13833451708143232, 0.830007102488594, 0.05576465921038771, 0.05576465921038771, 0.33458795526232626, 0.27882329605193856, 0.16729397763116313, 0.4187322980740659, 0.1395774326913553, 0.1395774326913553, 0.1395774326913553, 0.3245989921933429, 0.2799663310461302, 0.16590597395326234, 0.06221474023247338, 0.20738246744157793, 0.03110737011623669, 0.05184561686039448, 0.041476493488315586, 0.020738246744157793, 0.010369123372078896, 0.010369123372078896, 0.010369123372078896, 0.010369123372078896, 0.010369123372078896, 0.010369123372078896, 0.010369123372078896, 0.010369123372078896, 0.010369123372078896, 0.010369123372078896, 0.010369123372078896, 0.010369123372078896, 0.010369123372078896, 0.6925022844810955, 0.7239123442426492, 0.13755095831090144, 0.20632643746635215, 0.06877547915545072, 0.2751019166218029, 0.13755095831090144, 0.39602042701979456, 0.8011276771587382, 0.41558966472646314, 0.24935379883587788, 0.07792306213621183, 0.010389741618161578, 0.020779483236323157, 0.06233844970896947, 0.005194870809080789, 0.015584612427242368, 0.005194870809080789, 0.010389741618161578, 0.005194870809080789, 0.005194870809080789, 0.005194870809080789, 0.005194870809080789, 0.005194870809080789, 0.005194870809080789, 0.015584612427242368, 0.010389741618161578, 0.005194870809080789, 0.005194870809080789, 0.005194870809080789, 0.005194870809080789, 0.010389741618161578, 0.005194870809080789, 0.005194870809080789, 0.6769062150048102, 0.9046596256416659, 0.17044100461943507, 0.024348714945633582, 0.21913843451070225, 0.07304614483690075, 0.09739485978253433, 0.07304614483690075, 0.07304614483690075, 0.048697429891267165, 0.024348714945633582, 0.09739485978253433, 0.024348714945633582, 0.024348714945633582, 0.729071635808336, 0.8554673505107626, 0.3799121073502808, 0.3799121073502808, 0.6980340966131847, 0.08725426207664809, 0.49063737098480525, 0.24531868549240263, 0.830969494048962, 0.606504167900839, 0.6648098599583216, 0.9351588255848858, 0.8666488345407759, 0.09652053884489224, 0.09652053884489224, 0.5791232330693535, 0.7795924878078196, 0.7158423614113653, 0.23861412047045508, 0.9571915379523143, 0.6575356557406464, 0.5190701565818605, 0.5190701565818605, 0.5733487303052116, 0.11466974606104233, 0.22933949212208465, 0.2476848350132811, 0.2476848350132811, 0.42681984632029674, 0.21340992316014837, 0.10670496158007418, 0.6962791830175711, 0.7914997904275246, 0.8702134981620976, 0.0669394998586229, 0.7165050799833728, 0.28410309409824946, 0.28410309409824946, 0.14205154704912473, 0.03551288676228118, 0.07102577352456237, 0.03551288676228118, 0.03551288676228118, 0.03551288676228118, 0.13230882430617177, 0.3307720607654294, 0.06615441215308589, 0.06615441215308589, 0.06615441215308589, 0.19846323645925765, 0.5686677534616167, 0.5874323922738044, 0.19581079742460147, 0.754990755384121, 0.5277624311796668, 0.24427283963103877, 0.08142427987701292, 0.04071213993850646, 0.04071213993850646, 0.09499499318984841, 0.04071213993850646, 0.23070212631820328, 0.027141426625670973, 0.013570713312835487, 0.013570713312835487, 0.013570713312835487, 0.04071213993850646, 0.013570713312835487, 0.013570713312835487, 0.013570713312835487, 0.013570713312835487, 0.013570713312835487, 0.5481324295540846, 0.4053059423098606, 0.819309355758642, 0.7572554166339911, 0.7612404410970073, 0.2661743666231356, 0.5323487332462712, 0.7762355691685424, 0.8210376720094191, 0.545774388869387, 0.09096239814489783, 0.09096239814489783, 0.09096239814489783, 0.506121622897121, 0.9765676521629838, 0.809355705832819, 0.7238249172176645, 0.6863288693341987, 0.8631640341867145, 0.9261158844075846, 0.3555683698379072, 0.10159096281083063, 0.050795481405415316, 0.15238644421624595, 0.15238644421624595, 0.050795481405415316, 0.524121996146247, 0.9367556758683333, 0.782507180563906, 0.17384798507616736, 0.08692399253808368, 0.08692399253808368, 0.08692399253808368, 0.4346199626904184, 0.3595030243050414, 0.7190060486100828, 0.795434147981437, 0.8754793929227321, 0.8595158303046395, 0.5267402845675019, 0.9331110501870702, 0.6335102137697375, 0.749682011801396, 0.15658198846242716, 0.15658198846242716, 0.6263279538497086, 0.731414553543586, 0.5752855650607488, 0.5352508367897325, 0.06690635459871656, 0.06690635459871656, 0.06690635459871656, 0.06690635459871656, 0.06690635459871656, 0.3718373723843408, 0.3718373723843408, 0.9864504160516318, 0.5785746940491769, 0.13806896107991723, 0.06574712432377011, 0.019724137297131034, 0.032873562161885056, 0.03944827459426207, 0.006574712432377011, 0.006574712432377011, 0.006574712432377011, 0.013149424864754022, 0.006574712432377011, 0.006574712432377011, 0.006574712432377011, 0.013149424864754022, 0.013149424864754022, 0.006574712432377011, 0.006574712432377011, 0.006574712432377011, 0.006574712432377011, 0.006574712432377011, 0.006574712432377011, 0.006574712432377011, 0.2147444849969607, 0.6442334549908821, 0.04294889699939214, 0.7369405117093872, 0.7137445647486982, 0.6945252049607226, 0.5406595841777709, 0.7014355097548792, 0.8415026374661316, 0.8993051013258704, 0.6674140640662288, 0.950169276956044, 0.6268075470576094, 0.32947911513864264, 0.32947911513864264, 0.04281539349559554, 0.08563078699119107, 0.6850462959295286, 0.04281539349559554, 0.9958379870208436, 0.6705140773036956, 0.8428067406460094, 0.8556181255949196, 0.867595283807316, 0.12499662282615741, 0.6249831141307871, 0.1298578874885286, 0.03246447187213215, 0.1298578874885286, 0.0649289437442643, 0.09739341561639644, 0.3246447187213215, 0.03246447187213215, 0.03246447187213215, 0.09739341561639644, 0.7079438008467638, 0.14883734995652265, 0.44651204986956794, 0.14883734995652265, 0.8192682325270306, 0.4086722084741016, 0.6130083127111523, 0.38675393455715573, 0.12891797818571857, 0.12891797818571857, 0.12891797818571857, 0.12891797818571857, 0.5599620483084226, 0.27798296116787174, 0.9163096828562114, 0.2836183543875386, 0.18907890292502574, 0.1418091771937693, 0.18907890292502574, 0.7613414143227167, 0.761288125154176, 0.7068680554100459, 0.7337433202916152, 0.4848899180752637, 0.3762180867394956, 0.2691656754508947, 0.04749982507956965, 0.12666620021218575, 0.20583257534480184, 0.0791663751326161, 0.03166655005304644, 0.01583327502652322, 0.06333310010609287, 0.01583327502652322, 0.01583327502652322, 0.03166655005304644, 0.03166655005304644, 0.01583327502652322, 0.01583327502652322, 0.6759870343227374, 0.46400540201406437, 0.11600135050351609, 0.23200270100703219, 0.06969113257955173, 0.20907339773865516, 0.48783792805686205, 0.06969113257955173, 0.06969113257955173, 0.22586042986060262, 0.45172085972120524, 0.7619787150835092, 0.2838629028787613, 0.5677258057575226, 0.13233896492231612, 0.13233896492231612, 0.16542370615289514, 0.06616948246115806, 0.3308474123057903, 0.03308474123057903, 0.03308474123057903, 0.03308474123057903, 0.03308474123057903, 0.7023758300430324, 0.3901715324873803, 0.09383872300329399, 0.06420544205488536, 0.07408320237102158, 0.1037164833194302, 0.054327681738749155, 0.01975552063227242, 0.01975552063227242, 0.00987776031613621, 0.00987776031613621, 0.00987776031613621, 0.014816640474204315, 0.004938880158068105, 0.014816640474204315, 0.004938880158068105, 0.00987776031613621, 0.004938880158068105, 0.00987776031613621, 0.004938880158068105, 0.004938880158068105, 0.00987776031613621, 0.004938880158068105, 0.004938880158068105, 0.004938880158068105, 0.004938880158068105, 0.004938880158068105, 0.004938880158068105, 0.004938880158068105, 0.004938880158068105, 0.004938880158068105, 0.004938880158068105, 0.004938880158068105, 0.004938880158068105, 0.004938880158068105, 0.09862056217292157, 0.09862056217292157, 0.690343935210451, 0.18195900981508256, 0.18195900981508256, 0.5458770294452476, 0.9887431128524541, 0.5163979270433243, 0.5671611536213655, 0.28358057681068277, 0.8251804991698307, 0.8807452988435118, 0.7748149908404605, 0.8993289559682773, 0.6238827410525354, 0.05671661282295776, 0.018905537607652588, 0.037811075215305176, 0.018905537607652588, 0.07562215043061035, 0.05671661282295776, 0.037811075215305176, 0.018905537607652588, 0.018905537607652588, 0.8978317543442544, 0.22717800148578704, 0.6815340044573611, 0.3907913989585145, 0.3907913989585145, 0.8048019535325843, 0.2512537293940774, 0.1758776105758542, 0.02512537293940774, 0.02512537293940774, 0.2512537293940774, 0.02512537293940774, 0.02512537293940774, 0.02512537293940774, 0.02512537293940774, 0.10050149175763096, 0.8111681580947477, 0.5300499050271752, 0.7493797283655823, 0.32301092075201376, 0.14996935606343495, 0.06921662587543152, 0.02307220862514384, 0.1268971474382911, 0.03460831293771576, 0.03460831293771576, 0.02307220862514384, 0.04614441725028768, 0.01153610431257192, 0.02307220862514384, 0.01153610431257192, 0.01153610431257192, 0.01153610431257192, 0.01153610431257192, 0.01153610431257192, 0.01153610431257192, 0.01153610431257192, 0.01153610431257192, 0.01153610431257192, 0.01153610431257192, 0.4584798741861685, 0.08914886442508832, 0.03820665618218071, 0.0636777603036345, 0.012735552060726902, 0.050942208242907606, 0.012735552060726902, 0.012735552060726902, 0.10188441648581521, 0.012735552060726902, 0.025471104121453803, 0.012735552060726902, 0.012735552060726902, 0.012735552060726902, 0.012735552060726902, 0.012735552060726902, 0.025471104121453803, 0.012735552060726902, 0.012735552060726902, 0.6033140995498948, 0.5403586855532204, 0.054035868555322046, 0.054035868555322046, 0.21614347422128818, 0.054035868555322046, 0.054035868555322046, 0.7285274922411824, 0.3155226406397704, 0.0498193643115427, 0.0498193643115427, 0.0498193643115427, 0.06642581908205694, 0.03321290954102847, 0.2490968215577135, 0.016606454770514235, 0.016606454770514235, 0.016606454770514235, 0.016606454770514235, 0.016606454770514235, 0.016606454770514235, 0.9237303241575446, 0.5497114008264015, 0.45690799981864616, 0.29242111988393354, 0.018276319992745847, 0.009138159996372923, 0.02741447998911877, 0.018276319992745847, 0.018276319992745847, 0.009138159996372923, 0.009138159996372923, 0.009138159996372923, 0.018276319992745847, 0.02741447998911877, 0.018276319992745847, 0.009138159996372923, 0.009138159996372923, 0.009138159996372923, 0.5299852280710355, 0.6575977066986608, 0.3634045930017894, 0.3634045930017894, 0.4900931580217241, 0.8028689178467578, 0.5906109760072688, 0.19687032533575624, 0.044084189452975785, 0.7053470312476126, 0.044084189452975785, 0.20973170041777614, 0.037011476544313436, 0.061685794240522396, 0.02467431769620896, 0.3454404477469254, 0.01233715884810448, 0.02467431769620896, 0.01233715884810448, 0.02467431769620896, 0.01233715884810448, 0.02467431769620896, 0.02467431769620896, 0.01233715884810448, 0.01233715884810448, 0.01233715884810448, 0.01233715884810448, 0.01233715884810448, 0.01233715884810448, 0.01233715884810448, 0.01233715884810448, 0.01233715884810448, 0.02467431769620896, 0.07181376256849713, 0.02393792085616571, 0.04787584171233142, 0.07181376256849713, 0.5026963379794799, 0.02393792085616571, 0.04787584171233142, 0.02393792085616571, 0.02393792085616571, 0.02393792085616571, 0.02393792085616571, 0.02393792085616571, 0.6990481113722798, 0.6589309352408274, 0.03294654676204137, 0.09883964028612409, 0.03294654676204137, 0.03294654676204137, 0.03294654676204137, 0.03294654676204137, 0.03294654676204137, 0.20052829585363746, 0.028646899407662494, 0.4583503905225999, 0.028646899407662494, 0.028646899407662494, 0.028646899407662494, 0.028646899407662494, 0.028646899407662494, 0.05729379881532499, 0.08594069822298749, 0.4494090694930821, 0.4978050179444661, 0.1659350059814887, 0.7906867039156863, 0.89894384862858, 0.8833225151974674, 0.833477597062495, 0.7287556950350607, 0.36456466372438756, 0.12152155457479585, 0.12152155457479585, 0.12152155457479585, 0.12152155457479585, 0.7492409027524378, 0.719987747815527, 0.16010016770676547, 0.48030050312029643, 0.16010016770676547, 0.4977397624650789, 0.17381388530526565, 0.08690694265263282, 0.023701893450718044, 0.015801262300478694, 0.04740378690143609, 0.007900631150239347, 0.007900631150239347, 0.007900631150239347, 0.007900631150239347, 0.015801262300478694, 0.007900631150239347, 0.007900631150239347, 0.015801262300478694, 0.023701893450718044, 0.007900631150239347, 0.007900631150239347, 0.7857446827514343, 0.20380418228177083, 0.8152167291270833, 0.7958634584336787, 0.04421463657964882, 0.04421463657964882, 0.04421463657964882, 0.21468890108723213, 0.6440667032616963, 0.4589995873224175, 0.3059997248816117, 0.24051125248661331, 0.24051125248661331, 0.14697909874181925, 0.040085208747768886, 0.013361736249256295, 0.08017041749553777, 0.02672347249851259, 0.02672347249851259, 0.013361736249256295, 0.013361736249256295, 0.013361736249256295, 0.013361736249256295, 0.02672347249851259, 0.013361736249256295, 0.013361736249256295, 0.013361736249256295, 0.938363207065546, 0.03909846696106442, 0.13396200724882745, 0.46886702537089614, 0.20094301087324118, 0.06698100362441373, 0.9683808976618897, 0.4334143175231275, 0.21670715876156374, 0.8807602119988306, 0.5779192451855363, 0.28996348302131697, 0.40594887622984377, 0.028996348302131696, 0.08698904490639509, 0.028996348302131696, 0.028996348302131696, 0.028996348302131696, 0.3095888676157105, 0.619177735231421, 0.5781029534426498, 0.75237435973566, 0.7060523271455036, 0.24463817781053995, 0.7339145334316198, 0.9857181608805933, 0.9394741505761561, 0.6844556246997878, 0.8086708868398912, 0.6843808034682399, 0.9533653372523775, 0.2683694168032363, 0.06709235420080907, 0.2683694168032363, 0.20127706260242723, 0.4317445393491662, 0.10793613483729154, 0.4317445393491662, 0.212838185982265, 0.42567637196453, 0.6513636220277216, 0.9542924057414941, 0.31313205411584877, 0.39663393521340845, 0.10437735137194959, 0.020875470274389917, 0.020875470274389917, 0.020875470274389917, 0.06262641082316975, 0.374642746290009, 0.9237347625663114, 0.5362488989853735, 0.5165158709062011, 0.24104073975622717, 0.01721719569687337, 0.005739065232291123, 0.005739065232291123, 0.05165158709062011, 0.011478130464582246, 0.01721719569687337, 0.005739065232291123, 0.005739065232291123, 0.005739065232291123, 0.011478130464582246, 0.011478130464582246, 0.005739065232291123, 0.005739065232291123, 0.02295626092916449, 0.005739065232291123, 0.005739065232291123, 0.005739065232291123, 0.8225579546451827, 0.2416862999965172, 0.5317098599923378, 0.04833725999930344, 0.09667451999860688, 0.8152766673248543, 0.9624164128202962, 0.7393011784365116, 0.5658613403529372, 0.08083733433613388, 0.16167466867226776, 0.25696989255363706, 0.12848494627681853, 0.12848494627681853, 0.12848494627681853, 0.38545483883045556, 0.6500279875399805, 0.27025400607842753, 0.27025400607842753, 0.13512700303921377, 0.7321936253222, 0.8990534368696802, 0.2166702039051719, 0.10833510195258594, 0.6500106117155157, 0.24765883249009485, 0.44317896340332763, 0.03910402618264656, 0.10427740315372415, 0.013034675394215519, 0.013034675394215519, 0.013034675394215519, 0.013034675394215519, 0.013034675394215519, 0.013034675394215519, 0.026069350788431037, 0.7958851372078432, 0.5384574561924487, 0.702388377227634, 0.6675281833825933, 0.8561835347559007, 0.9457790721574251, 0.03377782400562233, 0.7188337113732016, 0.040901877002003734, 0.49082252402404486, 0.16360750800801493, 0.040901877002003734, 0.040901877002003734, 0.08180375400400747, 0.040901877002003734, 0.899229109498933, 0.14602725593583046, 0.4589428043697529, 0.08344414624904598, 0.10430518281130748, 0.04172207312452299, 0.04172207312452299, 0.010430518281130747, 0.020861036562261494, 0.031291554843392244, 0.010430518281130747, 0.9261928150296564, 0.846199658329606, 0.39532270426073296, 0.39532270426073296, 0.19766135213036648, 0.8017635194953399, 0.7129354016421422, 0.11882256694035703, 0.7620718465151046, 0.865094178813061, 0.313339317071858, 0.313339317071858, 0.862636489129085, 0.595264690839126, 0.7642803612798394, 0.32748929742791866, 0.32748929742791866, 0.5104676212475461, 0.8738111421828071, 0.28823602711292634, 0.04117657530184662, 0.16470630120738647, 0.04117657530184662, 0.04117657530184662, 0.16470630120738647, 0.04117657530184662, 0.04117657530184662, 0.04117657530184662, 0.9594001266145661, 0.10812980160989318, 0.5406490080494659, 0.10812980160989318, 0.10812980160989318, 0.8975907710118144, 0.58457471980405, 0.19485823993468332, 0.29555227367950215, 0.5911045473590043, 0.07233697656353621, 0.43402185938121735, 0.07233697656353621, 0.14467395312707243, 0.14467395312707243, 0.12563861558728232, 0.5339641162459497, 0.09422896169046173, 0.03140965389682058, 0.03140965389682058, 0.06281930779364116, 0.1604472367044091, 0.4813417101132273, 0.5504501760836951, 0.04892956729171729, 0.6850139420840421, 0.04892956729171729, 0.07339435093757594, 0.024464783645858645, 0.816685559229784, 0.5674084712694953, 0.5168944887578723, 0.5168944887578723, 0.5109311417921217, 0.12773278544803043, 0.03483621421309921, 0.023224142808732806, 0.08128449983056482, 0.04644828561746561, 0.023224142808732806, 0.011612071404366403, 0.011612071404366403, 0.011612071404366403, 0.011612071404366403, 0.011612071404366403, 0.011612071404366403, 0.011612071404366403, 0.023224142808732806, 0.867546834300252, 0.9401833981306108, 0.48742980450781453, 0.5718356453666099, 0.13713304243207752, 0.04571101414402584, 0.3199770990081809, 0.04571101414402584, 0.04571101414402584, 0.27426608486415505, 0.04571101414402584, 0.04571101414402584, 0.7613215558844979, 0.6664135185408934, 0.210679724088453, 0.210679724088453, 0.421359448176906, 0.2932351301601622, 0.513161477780284, 0.07330878254004056, 0.731612082715755, 0.32315836387431, 0.14050363646709133, 0.18265472740721872, 0.08430218188025479, 0.014050363646709132, 0.05620145458683653, 0.014050363646709132, 0.014050363646709132, 0.014050363646709132, 0.014050363646709132, 0.014050363646709132, 0.014050363646709132, 0.028100727293418264, 0.014050363646709132, 0.014050363646709132, 0.014050363646709132, 0.7795975335110827, 0.5491875840150612, 0.3661250560100408, 0.8322260393769141, 0.5299568306930177, 0.7150907831035298, 0.19720190586673345, 0.5916057176002003, 0.1742909651901265, 0.697163860760506, 0.8378673636489679, 0.9014811009035325, 0.3813623225124263, 0.03813623225124263, 0.03813623225124263, 0.41949855476366893, 0.03813623225124263, 0.8586747257088286, 0.22625352093580411, 0.48482897343386594, 0.03232193156225773, 0.03232193156225773, 0.03232193156225773, 0.03232193156225773, 0.03232193156225773, 0.03232193156225773, 0.6049146373938491, 0.04653189518414224, 0.18612758073656896, 0.04653189518414224, 0.9206451373719747, 0.7964361176984961, 0.8125048571105297, 0.18531326006650017, 0.7412530402660007, 0.33927807444477237, 0.3816878337503689, 0.08481951861119309, 0.08481951861119309, 0.042409759305596546, 0.5627156888783299, 0.8874003395822742, 0.743775660991676, 0.17672622746136182, 0.17672622746136182, 0.17672622746136182, 0.7613127347199059, 0.9314794177059763, 0.7787113427894321, 0.6611592331104017, 0.8337565041813708, 0.7321728609479572, 0.5448169508841325, 0.5159780866117727, 0.25798904330588635, 0.046116330695798916, 0.18446532278319566, 0.046116330695798916, 0.5995122990453859, 0.046116330695798916, 0.046116330695798916, 0.6400425611284862, 0.1353936187002567, 0.024617021581864854, 0.012308510790932427, 0.03692553237279728, 0.012308510790932427, 0.012308510790932427, 0.012308510790932427, 0.012308510790932427, 0.012308510790932427, 0.012308510790932427, 0.012308510790932427, 0.012308510790932427, 0.012308510790932427, 0.7469734642662983, 0.7198813425648124, 0.8219752461605883, 0.2304717264530776, 0.08962789362064127, 0.08962789362064127, 0.05121593921179502, 0.21766774165012884, 0.02560796960589751, 0.03841195440884626, 0.02560796960589751, 0.012803984802948755, 0.012803984802948755, 0.03841195440884626, 0.012803984802948755, 0.012803984802948755, 0.012803984802948755, 0.012803984802948755, 0.6287660166245623, 0.8544895257038163, 0.9699728354568697, 0.02927726266613702, 0.08783178799841106, 0.7319315666534254, 0.02927726266613702, 0.7063473314190373, 0.21505513336774876, 0.39151062741308107, 0.07719927864483289, 0.01102846837783327, 0.01102846837783327, 0.0937419812115828, 0.02205693675566654, 0.01102846837783327, 0.005514234188916635, 0.01102846837783327, 0.01102846837783327, 0.02205693675566654, 0.01102846837783327, 0.005514234188916635, 0.005514234188916635, 0.005514234188916635, 0.005514234188916635, 0.01102846837783327, 0.005514234188916635, 0.02205693675566654, 0.005514234188916635, 0.005514234188916635, 0.005514234188916635, 0.13071984717824536, 0.3921595415347361, 0.7356761186846076, 0.5331692406556521, 0.7738145823600883, 0.3108503956231827, 0.1036167985410609, 0.15542519781159134, 0.05180839927053045, 0.1036167985410609, 0.05180839927053045, 0.05180839927053045, 0.7258276417430826, 0.05369232961724127, 0.10738465923448254, 0.590615625789654, 0.05369232961724127, 0.05369232961724127, 0.7947361564791926, 0.04075570033226628, 0.04075570033226628, 0.02037785016613314, 0.02037785016613314, 0.02037785016613314, 0.6726752113895302, 0.9253921798091032, 0.6426508118983171, 0.810074614406551, 0.047204103032233866, 0.047204103032233866, 0.047204103032233866, 0.4248369272901048, 0.3776328242578709, 0.15472445744613272, 0.6188978297845309, 0.8895312979648875, 0.08877843959682985, 0.08877843959682985, 0.08877843959682985, 0.621449077177809, 0.938296517289814, 0.06945155370912823, 0.06945155370912823, 0.06945155370912823, 0.7639670908004106, 0.5305299800967468, 0.19935980617281263, 0.09967990308640631, 0.4983995154320316, 0.8183646282835954, 0.5298925328796563, 0.13055323273846606, 0.06143681540633696, 0.01535920385158424, 0.04607761155475272, 0.02303880577737636, 0.00767960192579212, 0.02303880577737636, 0.02303880577737636, 0.00767960192579212, 0.02303880577737636, 0.00767960192579212, 0.00767960192579212, 0.00767960192579212, 0.00767960192579212, 0.00767960192579212, 0.01535920385158424, 0.00767960192579212, 0.00767960192579212, 0.00767960192579212, 0.00767960192579212, 0.00767960192579212, 0.4126747986676391, 0.13264547100031257, 0.05895354266680559, 0.014738385666701397, 0.014738385666701397, 0.05895354266680559, 0.014738385666701397, 0.05895354266680559, 0.014738385666701397, 0.014738385666701397, 0.014738385666701397, 0.029476771333402794, 0.014738385666701397, 0.04421515700010419, 0.014738385666701397, 0.014738385666701397, 0.776651597737017, 0.7851383282963273, 0.4834562187892489, 0.08057603646487481, 0.24172810939462444, 0.9820838953155311, 0.25650942060104603, 0.25650942060104603, 0.8221049467905023, 0.4919748327278255, 0.9156183389226373, 0.6565881059613036, 0.6573371679230909, 0.05554961982448656, 0.11109923964897311, 0.03703307988299104, 0.01851653994149552, 0.00925826997074776, 0.00925826997074776, 0.00925826997074776, 0.02777480991224328, 0.00925826997074776, 0.00925826997074776, 0.39165628218880516, 0.19582814109440258, 0.1683886584518427, 0.3367773169036854, 0.3367773169036854, 0.20148136617446052, 0.20148136617446052, 0.40296273234892105, 0.6517976970358906, 0.5248442160681297, 0.10191149826565625, 0.05605132404611094, 0.02038229965313125, 0.08662477352580782, 0.045860174219545316, 0.010191149826565625, 0.0050955749132828125, 0.02038229965313125, 0.010191149826565625, 0.0050955749132828125, 0.015286724739848438, 0.015286724739848438, 0.0050955749132828125, 0.010191149826565625, 0.010191149826565625, 0.0050955749132828125, 0.0050955749132828125, 0.0050955749132828125, 0.0050955749132828125, 0.0050955749132828125, 0.0050955749132828125, 0.0050955749132828125, 0.4706808969520243, 0.07684586072686111, 0.0960573259085764, 0.028817197772572918, 0.028817197772572918, 0.03842293036343056, 0.01921146518171528, 0.12487452368114932, 0.01921146518171528, 0.00960573259085764, 0.00960573259085764, 0.00960573259085764, 0.00960573259085764, 0.928376172932929, 0.606140379020503, 0.8532679762904306, 0.5327503370058727, 0.26637516850293635, 0.3644993895461841, 0.2961557540062746, 0.022781211846636507, 0.04556242369327301, 0.06834363553990952, 0.11390605923318253, 0.022781211846636507, 0.7820739794840376, 0.7813632463967145, 0.2717667672872176, 0.5435335345744352, 0.8372594107037142, 0.6406382923705851, 0.06406382923705851, 0.19219148771117553, 0.06406382923705851, 0.3654380450481168, 0.06644328091783942, 0.13288656183567885, 0.09966492137675913, 0.03322164045891971, 0.03322164045891971, 0.03322164045891971, 0.03322164045891971, 0.09966492137675913, 0.7026152159893586, 0.07806835733215095, 0.2076716044897041, 0.12460296269382246, 0.06230148134691123, 0.06230148134691123, 0.2492059253876449, 0.06230148134691123, 0.04153432089794082, 0.06230148134691123, 0.02076716044897041, 0.306995241958387, 0.4604928629375805, 0.7147894587885205, 0.10877911124259583, 0.48950600059168126, 0.21755822248519166, 0.46746189466904065, 0.907126896396869, 0.7498304524100292, 0.193489849485093, 0.580469548455279, 0.38597484990762854, 0.38597484990762854, 0.321060093023266, 0.642120186046532, 0.9718895519274376, 0.06501614883819368, 0.06501614883819368, 0.4551130418673558, 0.19504844651458106, 0.24561168499629105, 0.4421010329933239, 0.01637411233308607, 0.04912233699925821, 0.01637411233308607, 0.1146187863316025, 0.04912233699925821, 0.01637411233308607, 0.8637092157385866, 0.9652274603856378, 0.7990029302421748, 0.5574555556267236, 0.21947069119162346, 0.03950472441449222, 0.008778827647664939, 0.021947069119162346, 0.030725896766827285, 0.004389413823832469, 0.004389413823832469, 0.013168241471497408, 0.004389413823832469, 0.004389413823832469, 0.004389413823832469, 0.004389413823832469, 0.004389413823832469, 0.008778827647664939, 0.004389413823832469, 0.013168241471497408, 0.004389413823832469, 0.004389413823832469, 0.004389413823832469, 0.004389413823832469, 0.004389413823832469, 0.004389413823832469, 0.004389413823832469, 0.8276359838459839, 0.053395869925547346, 0.053395869925547346, 0.026697934962773673, 0.7673294801787853, 0.27276954841562395, 0.5455390968312479, 0.753069439860061, 0.05792841845077392, 0.08689262767616089, 0.02896420922538696, 0.624399011895477, 0.5080875076105873, 0.33125070951631586, 0.33125070951631586, 0.4351028834431793, 0.29006858896211957, 0.14503429448105978, 0.14503429448105978, 0.8688522686179787, 0.5197848337585561, 0.5370182934071605, 0.3887777261769464, 0.0971944315442366, 0.1943888630884732, 0.0485972157721183, 0.0485972157721183, 0.0485972157721183, 0.0485972157721183, 0.0485972157721183, 0.5895793551772699, 0.2817460973605932, 0.2817460973605932, 0.7790099579571937, 0.7367582707244741, 0.34540544636763004, 0.16803508201668488, 0.08868518217547257, 0.04200877050417122, 0.01867056466852054, 0.08868518217547257, 0.07468225867408217, 0.00933528233426027, 0.004667641167130135, 0.004667641167130135, 0.00933528233426027, 0.014002923501390405, 0.004667641167130135, 0.00933528233426027, 0.004667641167130135, 0.014002923501390405, 0.004667641167130135, 0.004667641167130135, 0.014002923501390405, 0.004667641167130135, 0.00933528233426027, 0.004667641167130135, 0.004667641167130135, 0.00933528233426027, 0.004667641167130135, 0.004667641167130135, 0.00933528233426027, 0.004667641167130135, 0.004667641167130135, 0.1768767847273096, 0.3537535694546192, 0.3537535694546192, 0.4961026610369336, 0.33049765122443614, 0.05508294187073935, 0.05508294187073935, 0.05508294187073935, 0.1101658837414787, 0.05508294187073935, 0.05508294187073935, 0.1101658837414787, 0.019894489856914624, 0.8289370773714427, 0.006631496618971541, 0.006631496618971541, 0.006631496618971541, 0.05305197295177233, 0.03978897971382925, 0.006631496618971541, 0.006631496618971541, 0.006631496618971541, 0.9137883181358621, 0.4134788732839575, 0.12404366198518725, 0.08269577465679151, 0.12404366198518725, 0.08269577465679151, 0.041347887328395755, 0.041347887328395755, 0.89470705370043, 0.679419149124493, 0.05226301147111485, 0.15678903441334455, 0.5666474989426862, 0.11049242935357814, 0.27623107338394537, 0.1473232391381042, 0.018415404892263024, 0.3314772880607344, 0.018415404892263024, 0.03683080978452605, 0.018415404892263024, 0.6391282509956662, 0.13200056224197712, 0.02640011244839542, 0.10560044979358169, 0.10560044979358169, 0.02640011244839542, 0.02640011244839542, 0.18480078713876796, 0.02640011244839542, 0.18480078713876796, 0.02640011244839542, 0.05280022489679084, 0.02640011244839542, 0.7435847531363173, 0.12393079218938621, 0.316054583505815, 0.4214061113410867, 0.10535152783527167, 0.4284465555277024, 0.564064879842084, 0.1567254294977105, 0.626901717990842, 0.24328798514868968, 0.48657597029737937, 0.5347289105390908, 0.048611719139917346, 0.09722343827983469, 0.048611719139917346, 0.048611719139917346, 0.048611719139917346, 0.048611719139917346, 0.23502844673889986, 0.07834281557963328, 0.11751422336944993, 0.10772137142199577, 0.11751422336944993, 0.00979285194745416, 0.03917140778981664, 0.06854996363217913, 0.029378555842362482, 0.03917140778981664, 0.029378555842362482, 0.01958570389490832, 0.00979285194745416, 0.00979285194745416, 0.00979285194745416, 0.00979285194745416, 0.00979285194745416, 0.00979285194745416, 0.00979285194745416, 0.7974478086208272, 0.09381738924950908, 0.04690869462475454, 0.20520394782171889, 0.6156118434651566, 0.1676018879052032, 0.15363506391310294, 0.013966823992100266, 0.23743600786570454, 0.09776776794470186, 0.055867295968401065, 0.027933647984200533, 0.027933647984200533, 0.013966823992100266, 0.013966823992100266, 0.013966823992100266, 0.013966823992100266, 0.013966823992100266, 0.013966823992100266, 0.013966823992100266, 0.055867295968401065, 0.013966823992100266, 0.8054286177562878, 0.2681477427206112, 0.5362954854412224, 0.43351818157105176, 0.30965584397932266, 0.061931168795864536, 0.061931168795864536, 0.061931168795864536, 0.6230963758770358, 0.9922222227336611, 0.5120092579077732, 0.13933103514737072, 0.01741637939342134, 0.5921568993763257, 0.01741637939342134, 0.00870818969671067, 0.04354094848355335, 0.00870818969671067, 0.13062284545066005, 0.01741637939342134, 0.9792044778178118, 0.8852782824518952, 0.14595044265060061, 0.08757026559036037, 0.08757026559036037, 0.20433061971084085, 0.02919008853012012, 0.08757026559036037, 0.02919008853012012, 0.02919008853012012, 0.02919008853012012, 0.05838017706024024, 0.02919008853012012, 0.02919008853012012, 0.05838017706024024, 0.02919008853012012, 0.3742475486124815, 0.3646514576224179, 0.009596090990063628, 0.009596090990063628, 0.019192181980127256, 0.019192181980127256, 0.009596090990063628, 0.028788272970190886, 0.009596090990063628, 0.009596090990063628, 0.009596090990063628, 0.009596090990063628, 0.009596090990063628, 0.03838436396025451, 0.009596090990063628, 0.009596090990063628, 0.019192181980127256, 0.47856318181053853, 0.9544096736568742, 0.5142436875481717, 0.6143985561269519, 0.9440413537483563, 0.9634420552237369, 0.12729589462723548, 0.06364794731361774, 0.6364794731361775, 0.06364794731361774, 0.06364794731361774, 0.46868942540085434, 0.2510836207504577, 0.05858617817510679, 0.01673890805003051, 0.01673890805003051, 0.04184727012507628, 0.008369454025015256, 0.008369454025015256, 0.01673890805003051, 0.008369454025015256, 0.008369454025015256, 0.008369454025015256, 0.008369454025015256, 0.008369454025015256, 0.008369454025015256, 0.008369454025015256, 0.008369454025015256, 0.01673890805003051, 0.008369454025015256, 0.6633142907642692, 0.20892297170811033, 0.03868943920520562, 0.13928198113874024, 0.1547577568208225, 0.06190310272832899, 0.02321366352312337, 0.09285465409249348, 0.08511676625145237, 0.007737887841041124, 0.02321366352312337, 0.007737887841041124, 0.015475775682082247, 0.007737887841041124, 0.007737887841041124, 0.015475775682082247, 0.007737887841041124, 0.015475775682082247, 0.007737887841041124, 0.007737887841041124, 0.007737887841041124, 0.007737887841041124, 0.007737887841041124, 0.007737887841041124, 0.007737887841041124, 0.9000261320434352, 0.3058969873999102, 0.1529484936999551, 0.1529484936999551, 0.1529484936999551, 0.9154525508685949, 0.3791578253177338, 0.11895147460948512, 0.20073061340350612, 0.02230340148927846, 0.0371723358154641, 0.04460680297855692, 0.052041270141649734, 0.00743446716309282, 0.01486893432618564, 0.00743446716309282, 0.00743446716309282, 0.00743446716309282, 0.00743446716309282, 0.00743446716309282, 0.01486893432618564, 0.00743446716309282, 0.00743446716309282, 0.00743446716309282, 0.00743446716309282, 0.00743446716309282, 0.00743446716309282, 0.00743446716309282, 0.471452413984318, 0.083197484820762, 0.083197484820762, 0.027732494940254, 0.027732494940254, 0.027732494940254, 0.027732494940254, 0.055464989880508, 0.027732494940254, 0.055464989880508, 0.027732494940254, 0.027732494940254, 0.027732494940254, 0.7210215450547809, 0.10681800667478235, 0.026704501668695587, 0.026704501668695587, 0.053409003337391174, 0.7807362859562222, 0.3239339453892417, 0.1868849684937933, 0.16196697269462085, 0.01245899789958622, 0.01245899789958622, 0.07475398739751732, 0.02491799579917244, 0.01245899789958622, 0.01245899789958622, 0.01245899789958622, 0.02491799579917244, 0.01245899789958622, 0.01245899789958622, 0.01245899789958622, 0.01245899789958622, 0.9212565957021133, 0.061568826263440374, 0.061568826263440374, 0.18470647879032112, 0.030784413131720187, 0.061568826263440374, 0.33862854444892204, 0.15392206565860092, 0.030784413131720187, 0.7612548584504735, 0.25157356348129717, 0.33543141797506293, 0.16771570898753146, 0.08385785449376573, 0.7397326008341107, 0.19646099862280736, 0.5893829958684221, 0.19646099862280736, 0.7352210482014246, 0.6621409411409112, 0.7288178933946332, 0.11165600269095943, 0.055828001345479716, 0.5024520121093174, 0.11165600269095943, 0.055828001345479716, 0.11165600269095943, 0.6361544925918666, 0.1792604922278296, 0.1792604922278296, 0.5377814766834889, 0.7807441078623731, 0.5985215026704273, 0.46445106923339385, 0.5477694860460611, 0.8869083683995304, 0.5054664240417539, 0.6498143570916016, 0.5906641958462509, 0.5220473944809315, 0.5220473944809315, 0.22201418696851713, 0.05550354674212928, 0.05550354674212928, 0.05550354674212928, 0.44402837393703426, 0.6836922639627724, 0.9459342127816649, 0.16212631782510695, 0.6485052713004278, 0.1799267615366101, 0.1799267615366101, 0.5397802846098303, 0.4798561828043186, 0.3738572143066191, 0.15294158767088964, 0.10196105844725976, 0.10196105844725976, 0.016993509741209962, 0.016993509741209962, 0.033987019482419924, 0.016993509741209962, 0.016993509741209962, 0.05098052922362988, 0.016993509741209962, 0.016993509741209962, 0.6874876359610183, 0.37097201928040946, 0.12365733976013649, 0.12365733976013649, 0.12365733976013649, 0.12365733976013649, 0.12365733976013649, 0.6699275240832242, 0.7092852097767698, 0.8977840924772321, 0.718607311271435, 0.028744292450857398, 0.028744292450857398, 0.0862328773525722, 0.028744292450857398, 0.057488584901714795, 0.540695420486763, 0.360463613657842, 0.44709082942326267, 0.44709082942326267, 0.9462266049010055, 0.16221582044740857, 0.16221582044740857, 0.6488632817896343, 0.22415231099315794, 0.22415231099315794, 0.22415231099315794, 0.22415231099315794, 0.24180653335790517, 0.08060217778596838, 0.026867392595322795, 0.3492761037391963, 0.05373478519064559, 0.026867392595322795, 0.05373478519064559, 0.026867392595322795, 0.026867392595322795, 0.44250200159378167, 0.9257991098583718, 0.777840804383464, 0.6874265198347704, 0.704634674382488, 0.4440045871571706, 0.5459800431279905, 0.27299002156399527, 0.7410221384994055, 0.9072600111496646, 0.011595605520574698, 0.9160528361254011, 0.011595605520574698, 0.023191211041149396, 0.011595605520574698, 0.3432212651692278, 0.3432212651692278, 0.9545119251515024, 0.14500359382536462, 0.024167265637560772, 0.07250179691268231, 0.14500359382536462, 0.024167265637560772, 0.19333812510048617, 0.2416726563756077, 0.024167265637560772, 0.048334531275121544, 0.024167265637560772, 0.05733180267773076, 0.22932721071092305, 0.05733180267773076, 0.17199540803319227, 0.11466360535546152, 0.22932721071092305, 0.8672371717673172, 0.41438435006880164, 0.07673784260533363, 0.06139027408426691, 0.06139027408426691, 0.046042705563200184, 0.046042705563200184, 0.046042705563200184, 0.07673784260533363, 0.015347568521066727, 0.030695137042133454, 0.030695137042133454, 0.015347568521066727, 0.015347568521066727, 0.18592334455568532, 0.15493612046307112, 0.061974448185228445, 0.030987224092614223, 0.030987224092614223, 0.18592334455568532, 0.061974448185228445, 0.09296167227784266, 0.061974448185228445, 0.061974448185228445, 0.030987224092614223, 0.8717059520329271, 0.3693091396507442, 0.14204197678874778, 0.19885876750424686, 0.02840839535774955, 0.014204197678874776, 0.014204197678874776, 0.014204197678874776, 0.014204197678874776, 0.014204197678874776, 0.014204197678874776, 0.014204197678874776, 0.014204197678874776, 0.014204197678874776, 0.07102098839437389, 0.014204197678874776, 0.3501114966159725, 0.3501114966159725, 0.3608038509936355, 0.1076081660858211, 0.12659784245390718, 0.044309244858867516, 0.025319568490781437, 0.031649460613476794, 0.012659784245390718, 0.12659784245390718, 0.012659784245390718, 0.012659784245390718, 0.006329892122695359, 0.012659784245390718, 0.012659784245390718, 0.006329892122695359, 0.006329892122695359, 0.006329892122695359, 0.006329892122695359, 0.006329892122695359, 0.006329892122695359, 0.006329892122695359, 0.006329892122695359, 0.006329892122695359, 0.006329892122695359, 0.006329892122695359, 0.006329892122695359, 0.006329892122695359, 0.006329892122695359, 0.08345177745046677, 0.16690355490093353, 0.08345177745046677, 0.5007106647028006, 0.8645419039578952, 0.12350598627969932, 0.883178896129153, 0.7707957474116416, 0.4088774995701335, 0.040887749957013345, 0.24532649974208007, 0.040887749957013345, 0.12266324987104003, 0.9592790304959914, 0.4160597700836215, 0.7533027617089275, 0.509862839415635, 0.07997848461421725, 0.21994083268909745, 0.019994621153554312, 0.039989242307108624, 0.009997310576777156, 0.009997310576777156, 0.009997310576777156, 0.009997310576777156, 0.009997310576777156, 0.009997310576777156, 0.009997310576777156, 0.019994621153554312, 0.17919622891913994, 0.10128482504125301, 0.03895570193894347, 0.17919622891913994, 0.03895570193894347, 0.06232912310230954, 0.03116456155115477, 0.02337342116336608, 0.1090759654290417, 0.03116456155115477, 0.02337342116336608, 0.015582280775577386, 0.02337342116336608, 0.007791140387788693, 0.007791140387788693, 0.03116456155115477, 0.007791140387788693, 0.007791140387788693, 0.015582280775577386, 0.007791140387788693, 0.007791140387788693, 0.007791140387788693, 0.007791140387788693, 0.007791140387788693, 0.4337665023021159, 0.1801799317254943, 0.08675330046042318, 0.026693323218591747, 0.006673330804647937, 0.033366654023239684, 0.02001999241394381, 0.026693323218591747, 0.006673330804647937, 0.006673330804647937, 0.013346661609295873, 0.026693323218591747, 0.006673330804647937, 0.02001999241394381, 0.026693323218591747, 0.006673330804647937, 0.006673330804647937, 0.006673330804647937, 0.006673330804647937, 0.006673330804647937, 0.006673330804647937, 0.006673330804647937, 0.006673330804647937, 0.006673330804647937, 0.006673330804647937, 0.006673330804647937, 0.4573976425510729, 0.22869882127553645, 0.17395678421128524, 0.5218703526338557, 0.8013234221572283, 0.8517818812468396, 0.8253687373552407, 0.7960560351519844, 0.11940840527279767, 0.03980280175759922, 0.03980280175759922, 0.143950230536281, 0.08996889408517564, 0.02699066822555269, 0.34188179752366743, 0.04498444704258782, 0.017993778817035126, 0.04498444704258782, 0.008996889408517563, 0.03598755763407025, 0.008996889408517563, 0.008996889408517563, 0.08996889408517564, 0.017993778817035126, 0.008996889408517563, 0.008996889408517563, 0.008996889408517563, 0.008996889408517563, 0.008996889408517563, 0.008996889408517563, 0.008996889408517563, 0.008996889408517563, 0.5841320535032747, 0.19471068450109155, 0.06490356150036386, 0.7030001125709854, 0.06803226895848245, 0.04535484597232164, 0.04535484597232164, 0.02267742298616082, 0.01133871149308041, 0.01133871149308041, 0.01133871149308041, 0.01133871149308041, 0.6906262425552688, 0.7519868721512133, 0.3250454978222854, 0.1625227489111427, 0.1625227489111427, 0.4205236607880469, 0.2053720203848601, 0.04889810009163336, 0.009779620018326673, 0.009779620018326673, 0.03911848007330669, 0.019559240036653346, 0.019559240036653346, 0.019559240036653346, 0.009779620018326673, 0.009779620018326673, 0.009779620018326673, 0.009779620018326673, 0.019559240036653346, 0.05867772010996004, 0.009779620018326673, 0.009779620018326673, 0.009779620018326673, 0.009779620018326673, 0.8175607366401316, 0.31169294683098053, 0.07792323670774513, 0.03541965304897506, 0.19126612646446534, 0.03541965304897506, 0.04250358365877007, 0.10625895914692518, 0.03541965304897506, 0.007083930609795013, 0.014167861219590025, 0.007083930609795013, 0.007083930609795013, 0.021251791829385035, 0.007083930609795013, 0.007083930609795013, 0.007083930609795013, 0.007083930609795013, 0.007083930609795013, 0.007083930609795013, 0.014167861219590025, 0.007083930609795013, 0.007083930609795013, 0.007083930609795013, 0.4406584160996437, 0.29377227739976247, 0.849371573591887, 0.1748734822784886, 0.6994939291139544, 0.2427070869101796, 0.3120519688845166, 0.13175527575124035, 0.02773795278973481, 0.006934488197433702, 0.09014834656663813, 0.013868976394867404, 0.006934488197433702, 0.020803464592301105, 0.006934488197433702, 0.006934488197433702, 0.006934488197433702, 0.006934488197433702, 0.006934488197433702, 0.006934488197433702, 0.006934488197433702, 0.006934488197433702, 0.006934488197433702, 0.006934488197433702, 0.006934488197433702, 0.006934488197433702, 0.006934488197433702, 0.020803464592301105, 0.006934488197433702, 0.6829073467824396, 0.09419411679757787, 0.04709705839878894, 0.04709705839878894, 0.02354852919939447, 0.02354852919939447, 0.8445699585018689, 0.3311782259821496, 0.6623564519642992, 0.3236187099170498, 0.1618093549585249, 0.0924624885477285, 0.06934686641079638, 0.04623124427386425, 0.04623124427386425, 0.04623124427386425, 0.023115622136932124, 0.023115622136932124, 0.023115622136932124, 0.0924624885477285, 0.023115622136932124, 0.5848719529192861, 0.5772154332661004, 0.16739880117573194, 0.08369940058786597, 0.08369940058786597, 0.08369940058786597, 0.08369940058786597, 0.16739880117573194, 0.25109820176359793, 0.8690460293872667, 0.44916040388418865, 0.2509311659082451, 0.16728744393883008, 0.16728744393883008, 0.16728744393883008, 0.08364372196941504, 0.08364372196941504, 0.8819037830247968, 0.38217513393222163, 0.10919289540920618, 0.05459644770460309, 0.027298223852301545, 0.05459644770460309, 0.05459644770460309, 0.08189467155690464, 0.08189467155690464, 0.027298223852301545, 0.05459644770460309, 0.19480731852485275, 0.5844219555745582, 0.1627981276421215, 0.8139906382106076, 0.44853346560952506, 0.7245379585377956, 0.7768408092092751, 0.534921093715215, 0.24210837111715008, 0.24210837111715008, 0.48421674223430017, 0.23101459879986633, 0.46202919759973266, 0.24867717505459175, 0.4476189150982651, 0.049735435010918344, 0.049735435010918344, 0.049735435010918344, 0.049735435010918344, 0.7277244143118767, 0.7885126256949525, 0.6401047444837756, 0.5089674211582563, 0.8888922731461343, 0.38031876422906463, 0.07606375284581293, 0.5324462699206904, 0.8649627048260042, 0.12935139075026755, 0.5174055630010702, 0.12935139075026755, 0.12935139075026755, 0.3485378154703937, 0.6970756309407874, 0.756433650279671, 0.108061950039953, 0.108061950039953, 0.5485431300674013, 0.04571192750561677, 0.022855963752808385, 0.22855963752808386, 0.022855963752808385, 0.022855963752808385, 0.022855963752808385, 0.9341504148006959, 0.21021094434793416, 0.10510547217396708, 0.3678691526088848, 0.02627636804349177, 0.02627636804349177, 0.02627636804349177, 0.02627636804349177, 0.05255273608698354, 0.05255273608698354, 0.02627636804349177, 0.11040649959850855, 0.11040649959850855, 0.2208129991970171, 0.33121949879552565, 0.68760759167128, 0.14469199930687, 0.72345999653435, 0.4069009027432803, 0.4069009027432803, 0.4339497793692522, 0.8490142253936748, 0.5968960944251077, 0.5841427998797262, 0.2920713999398631, 0.9507414060792867, 0.19996029580751834, 0.3999205916150367, 0.19650948242950386, 0.19650948242950386, 0.7501870457794705, 0.1500374091558941, 0.282717813884237, 0.21203836041317775, 0.07067945347105925, 0.07067945347105925, 0.21203836041317775, 0.6184694418250084, 0.5563330063318342, 0.06150928188620281, 0.615092818862028, 0.06150928188620281, 0.12301856377240562, 0.7684230870963727, 0.6669767804650384, 0.313461578318756, 0.042744760679830365, 0.19947554983920837, 0.05699301423977382, 0.014248253559943455, 0.05699301423977382, 0.014248253559943455, 0.02849650711988691, 0.02849650711988691, 0.014248253559943455, 0.014248253559943455, 0.02849650711988691, 0.014248253559943455, 0.02849650711988691, 0.02849650711988691, 0.014248253559943455, 0.014248253559943455, 0.02849650711988691, 0.014248253559943455, 0.014248253559943455, 0.7613451202717322, 0.08187477119170676, 0.7368729407253609, 0.7978982278673408, 0.06649151898894506, 0.06649151898894506, 0.6752070796696822, 0.7361035398761355, 0.5558124193142207, 0.0492139552669217, 0.24606977633460847, 0.639781418469982, 0.26035879370627113, 0.2682484541216127, 0.08678626456875704, 0.08678626456875704, 0.007889660415341549, 0.06311728332273239, 0.047337962492049294, 0.007889660415341549, 0.007889660415341549, 0.015779320830683098, 0.015779320830683098, 0.007889660415341549, 0.007889660415341549, 0.015779320830683098, 0.007889660415341549, 0.007889660415341549, 0.007889660415341549, 0.007889660415341549, 0.007889660415341549, 0.007889660415341549, 0.007889660415341549, 0.007889660415341549, 0.007889660415341549, 0.47137769588092454, 0.03186202341164741, 0.28675821070482665, 0.09558607023494221, 0.09558607023494221, 0.12744809364658963, 0.03186202341164741, 0.25489618729317925, 0.03186202341164741, 0.03186202341164741, 0.6862587879103349, 0.27450351516413396, 0.3286564803901712, 0.3286564803901712, 0.05631798112643223, 0.16895394337929667, 0.01877266037547741, 0.03754532075095482, 0.46931650938693525, 0.01877266037547741, 0.01877266037547741, 0.01877266037547741, 0.01877266037547741, 0.01877266037547741, 0.03754532075095482, 0.01877266037547741, 0.7712717671711112, 0.7706518777701624, 0.8385961106682156, 0.25088680313374, 0.50177360626748, 0.5767817788639992, 0.27059368801755307, 0.18039579201170203, 0.09019789600585101, 0.27059368801755307, 0.22323160677662587, 0.6696948203298776, 0.8950353296447857, 0.5697567584185219, 0.06286880400907564, 0.4400816280635295, 0.1257376080181513, 0.06286880400907564, 0.06286880400907564, 0.06286880400907564, 0.5863041890880802, 0.6477841544929825, 0.3068451258124654, 0.31282143712515487, 0.11730803892193307, 0.2737187574845105, 0.07820535928128872, 0.03910267964064436, 0.03910267964064436, 0.03910267964064436, 0.9299446605203775, 0.38332037997509216, 0.2299922279850553, 0.07666407599501843, 0.15332815199003685, 0.563931780589859, 0.2819658902949295, 0.40813659873727814, 0.1554806090427726, 0.06802276645621302, 0.019435076130346576, 0.009717538065173288, 0.04858769032586645, 0.058305228391039736, 0.009717538065173288, 0.009717538065173288, 0.009717538065173288, 0.009717538065173288, 0.009717538065173288, 0.029152614195519868, 0.009717538065173288, 0.009717538065173288, 0.009717538065173288, 0.009717538065173288, 0.009717538065173288, 0.009717538065173288, 0.019435076130346576, 0.009717538065173288, 0.009717538065173288, 0.009717538065173288, 0.009717538065173288, 0.019435076130346576, 0.009717538065173288, 0.009717538065173288, 0.2367053490896819, 0.07890178302989398, 0.07890178302989398, 0.15780356605978796, 0.07890178302989398, 0.07890178302989398, 0.15780356605978796, 0.09174386387935037, 0.09174386387935037, 0.09174386387935037, 0.5504631832761022, 0.04587193193967518, 0.7544728459441391, 0.48798768865675435, 0.9362833136256932, 0.6880631555863451, 0.7477554608744156, 0.6744310814957714, 0.16860777037394284, 0.8793847138104606, 0.5511451489334044, 0.6993596086363717, 0.21529999727373056, 0.28706666303164075, 0.07176666575791019, 0.07176666575791019, 0.07176666575791019, 0.07176666575791019, 0.4395049019978681, 0.15511937717571816, 0.1292661476464318, 0.012926614764643182, 0.03877984429392954, 0.012926614764643182, 0.012926614764643182, 0.012926614764643182, 0.051706459058572726, 0.025853229529286363, 0.03877984429392954, 0.012926614764643182, 0.012926614764643182, 0.5999034078998501, 0.1968052915329684, 0.5904158745989052, 0.1968052915329684, 0.43787254572752365, 0.11377790558274237, 0.12756916686549902, 0.04826941448964828, 0.010343445962067488, 0.05171722981033744, 0.020686891924134976, 0.020686891924134976, 0.006895630641378325, 0.006895630641378325, 0.01379126128275665, 0.006895630641378325, 0.010343445962067488, 0.006895630641378325, 0.0034478153206891626, 0.006895630641378325, 0.0034478153206891626, 0.0034478153206891626, 0.01379126128275665, 0.006895630641378325, 0.006895630641378325, 0.006895630641378325, 0.010343445962067488, 0.0034478153206891626, 0.010343445962067488, 0.0034478153206891626, 0.0034478153206891626, 0.0034478153206891626, 0.0034478153206891626, 0.0034478153206891626, 0.0034478153206891626, 0.0034478153206891626, 0.0034478153206891626, 0.0034478153206891626, 0.0034478153206891626, 0.0034478153206891626, 0.0034478153206891626, 0.0034478153206891626, 0.6279635474927664, 0.3139817737463832, 0.7039691854902643, 0.6464576941554415, 0.8203440584121442, 0.45014726985146286, 0.16368991630962287, 0.06138371861610858, 0.04092247907740572, 0.04092247907740572, 0.02046123953870286, 0.02046123953870286, 0.04092247907740572, 0.02046123953870286, 0.02046123953870286, 0.5028128912802826, 0.2514064456401413, 0.9943697977063954, 0.09089358942885087, 0.9089358942885087, 0.051219408004002265, 0.051219408004002265, 0.12804852001000566, 0.051219408004002265, 0.025609704002001132, 0.4097552640320181, 0.025609704002001132, 0.025609704002001132, 0.051219408004002265, 0.025609704002001132, 0.025609704002001132, 0.051219408004002265, 0.7432755644149858, 0.8530129451529271, 0.7299413158825293, 0.41385900428743544, 0.03183530802211042, 0.03183530802211042, 0.06367061604422083, 0.03183530802211042, 0.09550592406633125, 0.03183530802211042, 0.03183530802211042, 0.03183530802211042, 0.06367061604422083, 0.7280327458329331, 0.6226751591518719, 0.46608325360210723, 0.9364483980698903, 0.9761409723873055, 0.5464946287805634, 0.5400360808591501, 0.16393952454652772, 0.08196976227326386, 0.014465252165870093, 0.03375225505369688, 0.03375225505369688, 0.009643501443913396, 0.004821750721956698, 0.014465252165870093, 0.004821750721956698, 0.004821750721956698, 0.004821750721956698, 0.004821750721956698, 0.009643501443913396, 0.004821750721956698, 0.004821750721956698, 0.004821750721956698, 0.004821750721956698, 0.004821750721956698, 0.004821750721956698, 0.004821750721956698, 0.004821750721956698, 0.009643501443913396, 0.004821750721956698, 0.004821750721956698, 0.8560989719729392, 0.11859572078437104, 0.05929786039218552, 0.05929786039218552, 0.2964893019609276, 0.11859572078437104, 0.05929786039218552, 0.05929786039218552, 0.05929786039218552, 0.7889854979146521, 0.8085514202721025, 0.7799890674857681, 0.7800654279939936, 0.7798959004259685, 0.708359797473983, 0.5534631910638798, 0.2846360135203539, 0.2846360135203539, 0.2846360135203539, 0.2215169762402468, 0.6645509287207404, 0.3331277269132998, 0.3331277269132998, 0.8817528331522883, 0.9821047663637291, 0.8798578670909076, 0.8573170306622062, 0.7469126262381539, 0.9946808736557912, 0.7686179086104891, 0.05277009733852222, 0.017590032446174072, 0.43975081115435183, 0.035180064892348144, 0.017590032446174072, 0.3166205840311333, 0.017590032446174072, 0.017590032446174072, 0.017590032446174072, 0.017590032446174072, 0.017590032446174072, 0.9822897621459532, 0.5653600791869968, 0.7079122906211341, 0.0796401326948776, 0.017697807265528356, 0.03539561453105671, 0.008848903632764178, 0.008848903632764178, 0.008848903632764178, 0.008848903632764178, 0.008848903632764178, 0.008848903632764178, 0.026546710898292532, 0.008848903632764178, 0.008848903632764178, 0.008848903632764178, 0.008848903632764178, 0.8730963420257912, 0.8467748823723732, 0.03387099529489493, 0.26726595667063757, 0.102794598719476, 0.07195621910363319, 0.15933162801518777, 0.08223567897558079, 0.015419189807921398, 0.025698649679869, 0.025698649679869, 0.030838379615842796, 0.005139729935973799, 0.010279459871947599, 0.020558919743895197, 0.005139729935973799, 0.020558919743895197, 0.010279459871947599, 0.020558919743895197, 0.010279459871947599, 0.010279459871947599, 0.005139729935973799, 0.005139729935973799, 0.010279459871947599, 0.015419189807921398, 0.010279459871947599, 0.005139729935973799, 0.005139729935973799, 0.015419189807921398, 0.005139729935973799, 0.005139729935973799, 0.005139729935973799, 0.005139729935973799, 0.2252220976412227, 0.2502467751569141, 0.15014806509414846, 0.050049355031382824, 0.025024677515691412, 0.025024677515691412, 0.050049355031382824, 0.025024677515691412, 0.050049355031382824, 0.025024677515691412, 0.050049355031382824, 0.7566646866546359, 0.5717064418329464, 0.047642203486078866, 0.047642203486078866, 0.047642203486078866, 0.19056881394431546, 0.6004646396679493, 0.2001548798893164, 0.1000774399446582, 0.13781107161368863, 0.24805992890463952, 0.44099542916380363, 0.027562214322737727, 0.027562214322737727, 0.03536816058271112, 0.07073632116542224, 0.7073632116542223, 0.03536816058271112, 0.900808153354852, 0.7601565508320102, 0.08446183898133446, 0.08446183898133446, 0.08044632090614286, 0.8849095299675714, 0.20542866665779183, 0.16434293332623345, 0.04108573333155836, 0.3286858666524669, 0.04108573333155836, 0.04108573333155836, 0.08217146666311673, 0.04108573333155836, 0.2775288569329009, 0.14296941114725198, 0.04204982680801529, 0.1009195843392367, 0.12614948042404586, 0.025229896084809175, 0.033639861446412234, 0.008409965361603058, 0.016819930723206117, 0.008409965361603058, 0.008409965361603058, 0.016819930723206117, 0.016819930723206117, 0.008409965361603058, 0.033639861446412234, 0.016819930723206117, 0.008409965361603058, 0.016819930723206117, 0.016819930723206117, 0.008409965361603058, 0.008409965361603058, 0.016819930723206117, 0.008409965361603058, 0.2376263641323423, 0.1584175760882282, 0.03960439402205705, 0.0792087880441141, 0.0792087880441141, 0.019802197011028526, 0.019802197011028526, 0.019802197011028526, 0.03960439402205705, 0.019802197011028526, 0.03960439402205705, 0.03960439402205705, 0.019802197011028526, 0.03960439402205705, 0.0792087880441141, 0.019802197011028526, 0.5805811770677398, 0.8801514279712946, 0.3421477011696082, 0.013159526968061854, 0.03947858090418556, 0.05263810787224742, 0.05263810787224742, 0.013159526968061854, 0.03947858090418556, 0.06579763484030926, 0.03947858090418556, 0.02631905393612371, 0.013159526968061854, 0.14475479664868038, 0.013159526968061854, 0.02631905393612371, 0.013159526968061854, 0.013159526968061854, 0.02631905393612371, 0.013159526968061854, 0.013159526968061854, 0.013159526968061854, 0.714319811811838, 0.8110692522615682, 0.6742015551749326, 0.42763963101517083, 0.07546581723797133, 0.016770181608438073, 0.06708072643375229, 0.016770181608438073, 0.033540363216876146, 0.04192545402109518, 0.12577636206328555, 0.008385090804219036, 0.025155272412657106, 0.008385090804219036, 0.008385090804219036, 0.008385090804219036, 0.008385090804219036, 0.016770181608438073, 0.008385090804219036, 0.008385090804219036, 0.008385090804219036, 0.008385090804219036, 0.016770181608438073, 0.008385090804219036, 0.18617200800379805, 0.18617200800379805, 0.3723440160075961, 0.48057774781996615, 0.18307723726474903, 0.02288465465809363, 0.02288465465809363, 0.07628218219364542, 0.02288465465809363, 0.015256436438729084, 0.007628218219364542, 0.015256436438729084, 0.007628218219364542, 0.015256436438729084, 0.007628218219364542, 0.007628218219364542, 0.007628218219364542, 0.015256436438729084, 0.007628218219364542, 0.007628218219364542, 0.015256436438729084, 0.015256436438729084, 0.007628218219364542, 0.28072092095244755, 0.28072092095244755, 0.14036046047622378, 0.046219264015223256, 0.046219264015223256, 0.046219264015223256, 0.5546311681826791, 0.046219264015223256, 0.13865779204566978, 0.6935203074194553, 0.10669543191068542, 0.2397242046800031, 0.059931051170000776, 0.4195173581900054, 0.059931051170000776, 0.12217935331883785, 0.12217935331883785, 0.08727096665631275, 0.017454193331262552, 0.017454193331262552, 0.034908386662525104, 0.4189006399503012, 0.017454193331262552, 0.034908386662525104, 0.017454193331262552, 0.034908386662525104, 0.14243850369725355, 0.21365775554588032, 0.14243850369725355, 0.2492673814701937, 0.03560962592431339, 0.10682887777294016, 0.7210726120714654, 0.8645419546238213, 0.8032506808110543, 0.824669485373472, 0.3224087553574029, 0.6448175107148058, 0.8707561227601558, 0.7189729961139165, 0.3729952841290701, 0.15985512176960148, 0.05328504058986716, 0.05328504058986716, 0.05328504058986716, 0.05328504058986716, 0.10657008117973432, 0.05328504058986716, 0.5190671748982191, 0.28540483351202717, 0.5708096670240543, 0.7305606407473312, 0.553648662936867, 0.9226924746133657, 0.8537015916219367, 0.8324581086748001, 0.7520328505724182, 0.8276152016296943, 0.8555573187905511, 0.838394740034496, 0.08645509360972173, 0.08645509360972173, 0.6916407488777738, 0.6725678617233759, 0.745229493328031, 0.06380386835197281, 0.7018425518717009, 0.049658246773481934, 0.19863298709392774, 0.09931649354696387, 0.2979494806408916, 0.049658246773481934, 0.016552748924493977, 0.033105497848987954, 0.016552748924493977, 0.016552748924493977, 0.033105497848987954, 0.016552748924493977, 0.033105497848987954, 0.016552748924493977, 0.016552748924493977, 0.033105497848987954, 0.016552748924493977, 0.016552748924493977, 0.569236078908976, 0.16263887968827886, 0.08131943984413943, 0.16263887968827886, 0.7101362354944355, 0.7091210182465454, 0.10130300260664933, 0.1646426299023101, 0.11760187850165008, 0.11760187850165008, 0.023520375700330016, 0.3292852598046202, 0.023520375700330016, 0.023520375700330016, 0.023520375700330016, 0.023520375700330016, 0.04704075140066003, 0.023520375700330016, 0.5763343385164883, 0.7820573747255593, 0.45852946556060564, 0.11909856248327419, 0.1310084187316016, 0.03572956874498226, 0.01190985624832742, 0.04763942499330968, 0.01786478437249113, 0.01190985624832742, 0.01190985624832742, 0.00595492812416371, 0.00595492812416371, 0.00595492812416371, 0.00595492812416371, 0.00595492812416371, 0.00595492812416371, 0.00595492812416371, 0.01786478437249113, 0.00595492812416371, 0.00595492812416371, 0.01190985624832742, 0.01786478437249113, 0.00595492812416371, 0.00595492812416371, 0.00595492812416371, 0.00595492812416371, 0.00595492812416371, 0.00595492812416371, 0.00595492812416371, 0.590827085891399, 0.2625579849476004, 0.5251159698952008, 0.1889883104008826, 0.1889883104008826, 0.3779766208017652, 0.1340949432838491, 0.18438054701529252, 0.11733307537336797, 0.23466615074673594, 0.05028560373144342, 0.033523735820962276, 0.016761867910481138, 0.016761867910481138, 0.016761867910481138, 0.06704747164192455, 0.016761867910481138, 0.033523735820962276, 0.6098683972071564, 0.7829363393473311, 0.4783562926570667, 0.07972604877617778, 0.31890419510471113, 0.5283305822951347, 0.6766909020642538, 0.9032614670998735, 0.281987666824359, 0.563975333648718, 0.3575896217151759, 0.21455377302910555, 0.10727688651455278, 0.03575896217151759, 0.14303584868607036, 0.03575896217151759, 0.03575896217151759, 0.9287245375233859, 0.05439592719289685, 0.6527511263147622, 0.05439592719289685, 0.1087918543857937, 0.17876337946946513, 0.06500486526162368, 0.0812560815770296, 0.27627067736190064, 0.01625121631540592, 0.03250243263081184, 0.2437682447310888, 0.01625121631540592, 0.01625121631540592, 0.01625121631540592, 0.5446203286912844, 0.6418963635678724, 0.4567535247465643, 0.6454251451941988, 0.4607638596029895, 0.37545906211573926, 0.09386476552893482, 0.06257651035262321, 0.09386476552893482, 0.020858836784207736, 0.156441275881558, 0.10429418392103867, 0.010429418392103868, 0.010429418392103868, 0.010429418392103868, 0.010429418392103868, 0.010429418392103868, 0.32043180653106806, 0.06008096372457527, 0.08010795163276702, 0.16021590326553403, 0.020026987908191754, 0.020026987908191754, 0.04005397581638351, 0.10013493954095878, 0.020026987908191754, 0.020026987908191754, 0.020026987908191754, 0.020026987908191754, 0.020026987908191754, 0.020026987908191754, 0.29374366697276405, 0.08011190917439019, 0.10681587889918692, 0.05340793944959346, 0.13351984862398364, 0.10681587889918692, 0.02670396972479673, 0.02670396972479673, 0.13351984862398364, 0.712530246571841, 0.43806754750289406, 0.5415640984856572, 0.24666687465533385, 0.024666687465533386, 0.37000031198300076, 0.09866674986213354, 0.024666687465533386, 0.024666687465533386, 0.09866674986213354, 0.6848443655640681, 0.6284736914265571, 0.9082032923936593, 0.7550281270255159, 0.6877346486826669, 0.03126066584921213, 0.12504266339684852, 0.03126066584921213, 0.03126066584921213, 0.03126066584921213, 0.9612212042120655, 0.7061998587636719, 0.6641844600876112, 0.5048287189737476, 0.5272444109533919, 0.08808460765032679, 0.17616921530065358, 0.5285076459019608, 0.7512095966398697, 0.7612531267283225, 0.892427036156177, 0.9009531229632313, 0.8441116298151495, 0.8732248281010946, 0.40694120749392626, 0.1701754140429146, 0.06659037940809702, 0.03699465522672057, 0.007398931045344114, 0.03699465522672057, 0.03699465522672057, 0.04439358627206468, 0.007398931045344114, 0.029595724181376456, 0.007398931045344114, 0.007398931045344114, 0.007398931045344114, 0.007398931045344114, 0.007398931045344114, 0.014797862090688228, 0.007398931045344114, 0.007398931045344114, 0.014797862090688228, 0.007398931045344114, 0.007398931045344114, 0.007398931045344114, 0.007398931045344114, 0.8986133207127978, 0.24358214330472225, 0.4600996040200309, 0.027064682589413584, 0.027064682589413584, 0.1353234129470679, 0.9031325683379995, 0.5266688061619301, 0.22175528680502318, 0.055438821701255796, 0.027719410850627898, 0.027719410850627898, 0.055438821701255796, 0.8719688105928214, 0.7437696354443747, 0.7287394597966532, 0.6534125475692858, 0.45545815788151556, 0.18922279263818487, 0.18922279263818487, 0.5676683779145546, 0.8335762805793632, 0.8692243776814094, 0.1860659577229807, 0.2325824471537259, 0.02325824471537259, 0.2325824471537259, 0.02325824471537259, 0.02325824471537259, 0.02325824471537259, 0.04651648943074518, 0.02325824471537259, 0.06977473414611776, 0.02325824471537259, 0.02325824471537259, 0.5369201876175481, 0.9352984746756108, 0.2915048815535848, 0.5830097631071696, 0.7777497602692278, 0.8313909247064104, 0.21811974956710864, 0.10905987478355432, 0.32717962435066295, 0.7306280182566944, 0.46929810337667016, 0.8995762674281333, 0.02248940668570333, 0.11483688004098348, 0.6890212802459008, 0.47394962051924405, 0.05266106894658267, 0.10532213789316534, 0.05266106894658267, 0.2106442757863307, 0.040230792111996115, 0.08046158422399223, 0.6034618816799416, 0.12069237633598834, 0.30717025653704466, 0.0921510769611134, 0.07679256413426117, 0.21501917957593125, 0.030717025653704468, 0.030717025653704468, 0.0921510769611134, 0.030717025653704468, 0.030717025653704468, 0.6318984513844824, 0.656366157269354, 0.5402253241228979, 0.7562726603085259, 0.2844302893436401, 0.14221514467182006, 0.4266454340154602, 0.500280862818252, 0.166760287606084, 0.166760287606084, 0.8203101836884586, 0.048253540216968156, 0.048253540216968156, 0.1502548007781487, 0.37563700194537175, 0.37563700194537175, 0.5595121923024962, 0.39867735313794544, 0.041242484807373664, 0.15122244429370343, 0.054989979743164885, 0.013747494935791221, 0.054989979743164885, 0.0687374746789561, 0.027494989871582443, 0.013747494935791221, 0.013747494935791221, 0.013747494935791221, 0.013747494935791221, 0.027494989871582443, 0.013747494935791221, 0.013747494935791221, 0.013747494935791221, 0.4791880579081546, 0.1030511952490655, 0.0412204780996262, 0.03091535857471965, 0.10820375501151878, 0.0206102390498131, 0.0412204780996262, 0.0206102390498131, 0.015457679287359825, 0.005152559762453275, 0.01030511952490655, 0.025762798812266376, 0.01030511952490655, 0.005152559762453275, 0.005152559762453275, 0.01030511952490655, 0.005152559762453275, 0.01030511952490655, 0.005152559762453275, 0.005152559762453275, 0.005152559762453275, 0.015457679287359825, 0.005152559762453275, 0.005152559762453275, 0.9121578558892774, 0.4468102440421801, 0.22340512202109006, 0.8374567589355175, 0.34099872626723127, 0.1363994905068925, 0.05114980894008469, 0.05967477709676547, 0.025574904470042344, 0.21312420391701953, 0.008524968156680782, 0.008524968156680782, 0.017049936313361564, 0.008524968156680782, 0.008524968156680782, 0.017049936313361564, 0.008524968156680782, 0.017049936313361564, 0.017049936313361564, 0.008524968156680782, 0.008524968156680782, 0.008524968156680782, 0.008524968156680782, 0.43321678042853407, 0.1031468524829843, 0.06188811148979058, 0.08251748198638743, 0.06188811148979058, 0.06188811148979058, 0.08251748198638743, 0.9283525804809095, 0.8758533700391506, 0.5187341736534109, 0.18937914276235637, 0.01646775154455273, 0.008233875772276364, 0.01646775154455273, 0.04940325463365818, 0.008233875772276364, 0.008233875772276364, 0.008233875772276364, 0.008233875772276364, 0.03293550308910546, 0.008233875772276364, 0.01646775154455273, 0.008233875772276364, 0.02470162731682909, 0.008233875772276364, 0.008233875772276364, 0.008233875772276364, 0.008233875772276364, 0.7108934736418776, 0.6708997406920164, 0.9002814927851589, 0.8707303597044926, 0.3145695249970748, 0.3145695249970748, 0.8788719020351314, 0.23269073793645487, 0.6980722138093646, 0.2044498751719686, 0.14431755894491902, 0.060132316227049586, 0.08418524271786942, 0.16837048543573885, 0.04810585298163967, 0.012026463245409917, 0.060132316227049586, 0.036079389736229754, 0.012026463245409917, 0.012026463245409917, 0.012026463245409917, 0.012026463245409917, 0.012026463245409917, 0.012026463245409917, 0.012026463245409917, 0.012026463245409917, 0.012026463245409917, 0.012026463245409917, 0.012026463245409917, 0.7224431882097607, 0.08626187321907591, 0.021565468304768978, 0.021565468304768978, 0.010782734152384489, 0.010782734152384489, 0.021565468304768978, 0.010782734152384489, 0.010782734152384489, 0.010782734152384489, 0.010782734152384489, 0.010782734152384489, 0.6329213281742112, 0.11388523050748223, 0.3416556915224467, 0.3416556915224467, 0.07119146395137066, 0.49834024765959467, 0.21357439185411198, 0.07119146395137066, 0.906169994815118, 0.3887755451841631, 0.16119961629587248, 0.05689398222207265, 0.0948233037034544, 0.0474116518517272, 0.0948233037034544, 0.00948233037034544, 0.00948233037034544, 0.01896466074069088, 0.00948233037034544, 0.00948233037034544, 0.00948233037034544, 0.00948233037034544, 0.00948233037034544, 0.00948233037034544, 0.00948233037034544, 0.00948233037034544, 0.00948233037034544, 0.09448400979303179, 0.28345202937909536, 0.47242004896515893, 0.09448400979303179, 0.7380880689535536, 0.03629941322722395, 0.13309784849982115, 0.01209980440907465, 0.01209980440907465, 0.01209980440907465, 0.0241996088181493, 0.01209980440907465, 0.9094564186623559, 0.019770791710051215, 0.03954158342010243, 0.8692160369721253, 0.7660518661245602, 0.2793286058343684, 0.1396643029171842, 0.5586572116687368, 0.9878983716227039, 0.9590171829593831, 0.38472946351873055, 0.0986485803894181, 0.05918914823365085, 0.1183782964673017, 0.039459432155767235, 0.05918914823365085, 0.05918914823365085, 0.009864858038941809, 0.009864858038941809, 0.009864858038941809, 0.009864858038941809, 0.009864858038941809, 0.009864858038941809, 0.009864858038941809, 0.009864858038941809, 0.009864858038941809, 0.009864858038941809, 0.009864858038941809, 0.009864858038941809, 0.009864858038941809, 0.019729716077883618, 0.009864858038941809, 0.7664868095937742, 0.08516520106597492, 0.08516520106597492, 0.7798851919054192, 0.7707496580773109, 0.2063974313810677, 0.4127948627621354, 0.08890410084949564, 0.35561640339798256, 0.35561640339798256, 0.08890410084949564, 0.8090635836652381, 0.591257601574221, 0.34862423019026056, 0.15339466128371465, 0.19522956890654591, 0.013944969207610422, 0.05577987683044169, 0.013944969207610422, 0.013944969207610422, 0.013944969207610422, 0.013944969207610422, 0.013944969207610422, 0.013944969207610422, 0.04183490762283126, 0.013944969207610422, 0.013944969207610422, 0.8101110003017632, 0.8512626268006142, 0.486293368969362, 0.5002206566588916, 0.6436288801599642, 0.9260121454036123, 0.6830024250333001, 0.9574633346481146, 0.4395243710246525, 0.4395243710246525, 0.8923577373738167, 0.8027522941495441, 0.5333899160336607, 0.04209318577922796, 0.25255911467536774, 0.33674548623382367, 0.12627955733768387, 0.2104659288961398, 0.6525121627856869, 0.48907084300267906, 0.43692920451511763, 0.9203991322573083, 0.6542212843184877, 0.1946406529207597, 0.5839219587622791, 0.3698114578574731, 0.9004404584959583, 0.9030720924711031, 0.6720279677823434, 0.870303674787293, 0.769255380565289, 0.8323901793260916, 0.7998707229274676, 0.6727322044173445, 0.3858031440428351, 0.3858031440428351, 0.6652899177306251, 0.7181233858659793, 0.3927838205358415, 0.09819595513396037, 0.09819595513396037, 0.09819595513396037, 0.46985683446421767, 0.46985683446421767, 0.9104497439898996, 0.06549593051492192, 0.06549593051492192, 0.06549593051492192, 0.2619837220596877, 0.06549593051492192, 0.06549593051492192, 0.19648779154476576, 0.06549593051492192, 0.8532225558788322, 0.06533005717312527, 0.06533005717312527, 0.6533005717312528, 0.06533005717312527, 0.13066011434625055, 0.8479198622153664, 0.5324974422004529, 0.9015562023914876, 0.7269682994919477, 0.08456396171873833, 0.08456396171873833, 0.2959738660155841, 0.04228198085936916, 0.04228198085936916, 0.08456396171873833, 0.12684594257810747, 0.12684594257810747, 0.5568489273273001, 0.14607741808157104, 0.2921548361631421, 0.10955806356117828, 0.14607741808157104, 0.03651935452039276, 0.03651935452039276, 0.03651935452039276, 0.10955806356117828, 0.03633879808908509, 0.14535519235634037, 0.21803278853451055, 0.03633879808908509, 0.03633879808908509, 0.21803278853451055, 0.03633879808908509, 0.03633879808908509, 0.03633879808908509, 0.03633879808908509, 0.03633879808908509, 0.07267759617817018, 0.5581980229886193, 0.25541479405751466, 0.25541479405751466, 0.25541479405751466, 0.8805288750428207, 0.7411748773688484, 0.1288999786728432, 0.0644499893364216, 0.8259147769747047, 0.7971045948104544, 0.0295223924003872, 0.0147611962001936, 0.0147611962001936, 0.0147611962001936, 0.0147611962001936, 0.0147611962001936, 0.0147611962001936, 0.0147611962001936, 0.0147611962001936, 0.0147611962001936, 0.0147611962001936, 0.0147611962001936, 0.36684021730516, 0.18342010865258, 0.3057001810876333, 0.485430219405869, 0.9029575501477238, 0.30778034093085277, 0.4224118694490663, 0.12068910555687608, 0.06034455277843804, 0.06034455277843804, 0.06034455277843804, 0.06034455277843804, 0.12068910555687608, 0.23690242617933613, 0.47380485235867226, 0.7786595406480386, 0.9074077763528083, 0.8970935046625073, 0.9375608642844674, 0.0527937133175888, 0.0527937133175888, 0.0527937133175888, 0.3167622799055328, 0.0791905699763832, 0.0791905699763832, 0.0263968566587944, 0.0527937133175888, 0.0791905699763832, 0.0263968566587944, 0.0263968566587944, 0.131984283293972, 0.8388882086968409, 0.02706090995796261, 0.02706090995796261, 0.6389721300673877, 0.3127764479338186, 0.06255528958676372, 0.06255528958676372, 0.10425881597793954, 0.04170352639117581, 0.04170352639117581, 0.04170352639117581, 0.020851763195587906, 0.020851763195587906, 0.020851763195587906, 0.020851763195587906, 0.020851763195587906, 0.020851763195587906, 0.020851763195587906, 0.06255528958676372, 0.020851763195587906, 0.020851763195587906, 0.4435081708275639, 0.040318924620687625, 0.08063784924137525, 0.040318924620687625, 0.040318924620687625, 0.040318924620687625, 0.040318924620687625, 0.040318924620687625, 0.08063784924137525, 0.03665049029871408, 0.12827671604549928, 0.20157769664292746, 0.14660196119485633, 0.23822818694164152, 0.03665049029871408, 0.05497573544807113, 0.01832524514935704, 0.01832524514935704, 0.01832524514935704, 0.01832524514935704, 0.10164614766603114, 0.05082307383301557, 0.07623461074952335, 0.10164614766603114, 0.05082307383301557, 0.10164614766603114, 0.3303499799146012, 0.025411536916507785, 0.025411536916507785, 0.05082307383301557, 0.025411536916507785, 0.025411536916507785, 0.1726326043627345, 0.054515559272442476, 0.03634370618162831, 0.08177333890866371, 0.27257779636221235, 0.054515559272442476, 0.009085926545407078, 0.054515559272442476, 0.018171853090814157, 0.06360148581784955, 0.009085926545407078, 0.018171853090814157, 0.009085926545407078, 0.009085926545407078, 0.018171853090814157, 0.018171853090814157, 0.009085926545407078, 0.009085926545407078, 0.009085926545407078, 0.009085926545407078, 0.009085926545407078, 0.7465645259397192, 0.5225239316869156, 0.5225239316869156, 0.2952629529288838, 0.08857888587866515, 0.029526295292888385, 0.08857888587866515, 0.2952629529288838, 0.08857888587866515, 0.029526295292888385, 0.700696977837259, 0.06569034167224304, 0.021896780557414345, 0.021896780557414345, 0.021896780557414345, 0.08758712222965738, 0.6919108962801254, 0.23063696542670847, 0.6236769703849085, 0.36016245732547236, 0.14545022315067155, 0.06926201102412931, 0.09696681543378102, 0.07618821212654223, 0.02077860330723879, 0.027704804409651722, 0.02077860330723879, 0.0069262011024129305, 0.02077860330723879, 0.0069262011024129305, 0.0069262011024129305, 0.0069262011024129305, 0.0069262011024129305, 0.0069262011024129305, 0.0069262011024129305, 0.0069262011024129305, 0.0069262011024129305, 0.013852402204825861, 0.0069262011024129305, 0.0069262011024129305, 0.0069262011024129305, 0.0069262011024129305, 0.0069262011024129305, 0.0069262011024129305, 0.0069262011024129305, 0.0069262011024129305, 0.0069262011024129305, 0.0069262011024129305, 0.0069262011024129305, 0.7259019054256324, 0.5456822928693468, 0.10913645857386936, 0.07795461326704954, 0.04677276796022973, 0.03118184530681982, 0.01559092265340991, 0.01559092265340991, 0.01559092265340991, 0.04677276796022973, 0.25007934962052075, 0.5001586992410415, 0.27901296417542426, 0.5580259283508485, 0.31094670299970356, 0.23321002724977766, 0.07773667574992589, 0.23321002724977766, 0.25071331082647413, 0.06267832770661853, 0.0940174915599278, 0.0470087457799639, 0.26638289275312876, 0.015669581926654633, 0.015669581926654633, 0.03133916385330927, 0.015669581926654633, 0.06267832770661853, 0.015669581926654633, 0.015669581926654633, 0.015669581926654633, 0.015669581926654633, 0.015669581926654633, 0.06063928277704208, 0.06063928277704208, 0.6670321105474629, 0.06063928277704208, 0.7167758740641816, 0.6279187157616095, 0.08085582995321565, 0.1617116599064313, 0.08085582995321565, 0.24256748985964693, 0.1617116599064313, 0.08085582995321565, 0.8071648435248012, 0.31280836217074615, 0.15640418108537307, 0.15640418108537307, 0.31280836217074615, 0.05291690803722403, 0.6879198044839123, 0.05291690803722403, 0.10583381607444806, 0.80134046292865, 0.02487612906912057, 0.02487612906912057, 0.49752258138241146, 0.02487612906912057, 0.02487612906912057, 0.12438064534560286, 0.02487612906912057, 0.02487612906912057, 0.02487612906912057, 0.07462838720736172, 0.04975225813824114, 0.02487612906912057, 0.1806869960416643, 0.4517174901041608, 0.025812428005952043, 0.1806869960416643, 0.012906214002976021, 0.012906214002976021, 0.012906214002976021, 0.012906214002976021, 0.038718642008928064, 0.038718642008928064, 0.012906214002976021, 0.6710156002090095, 0.16505598661001283, 0.6602239464400513, 0.11003732440667523, 0.4654764764476235, 0.06649663949251765, 0.06649663949251765, 0.06649663949251765, 0.06649663949251765, 0.06649663949251765, 0.06649663949251765, 0.567902185313944, 0.13105435045706398, 0.043684783485687995, 0.08736956697137599, 0.08736956697137599, 0.9485806558705355, 0.591510701811011, 0.29972696724893033, 0.09990898908297678, 0.09990898908297678, 0.09990898908297678, 0.9171493408671849, 0.34503603768838786, 0.34503603768838786, 0.1874461273203265, 0.5623383819609795, 0.1874461273203265, 0.41181791483157615, 0.10295447870789404, 0.10295447870789404, 0.10295447870789404, 0.10295447870789404, 0.6789711690002255, 0.4623851842784492, 0.5758999493700256, 0.7482617342549658, 0.8251365187525802, 0.9001746924917854, 0.4123424239185041, 0.024255436701088477, 0.24255436701088479, 0.048510873402176954, 0.07276631010326544, 0.024255436701088477, 0.048510873402176954, 0.048510873402176954, 0.024255436701088477, 0.024255436701088477, 0.5703328994544303, 0.462480632516582, 0.03557543327050631, 0.03557543327050631, 0.28460346616405047, 0.03557543327050631, 0.03557543327050631, 0.03557543327050631, 0.7598482683653485, 0.6616903843284834, 0.1113845391383141, 0.044553815655325645, 0.3341536174149423, 0.13366144696597693, 0.06683072348298846, 0.022276907827662822, 0.022276907827662822, 0.022276907827662822, 0.022276907827662822, 0.022276907827662822, 0.15593835479363974, 0.8861207994053809, 0.7474109467234047, 0.513410869956832, 0.38747528867303377, 0.12915842955767792, 0.12915842955767792, 0.12915842955767792, 0.12915842955767792, 0.22217687447340892, 0.22217687447340892, 0.44435374894681784, 0.2120589998254184, 0.4241179996508368, 0.2120589998254184, 0.657446321727088, 0.2914549109786545, 0.14572745548932725, 0.14572745548932725, 0.14572745548932725, 0.3152115799607628, 0.22515112854340202, 0.0450302257086804, 0.0225151128543402, 0.0225151128543402, 0.0225151128543402, 0.0225151128543402, 0.0900604514173608, 0.0450302257086804, 0.0225151128543402, 0.0450302257086804, 0.5559020772901746, 0.7707651528211269, 0.3419702487928944, 0.3419702487928944, 0.819302347522484, 0.23352551858150727, 0.46705103716301455, 0.6217784165795294, 0.1097256029257993, 0.07315040195053286, 0.03657520097526643, 0.03657520097526643, 0.7415571251847286, 0.741739588213377, 0.42775925699667894, 0.08555185139933578, 0.08555185139933578, 0.08555185139933578, 0.08555185139933578, 0.6758588886677894, 0.8625165313501519, 0.9869843247953404, 0.17122335860318239, 0.037222469261561385, 0.044666963113873664, 0.02977797540924911, 0.014888987704624554, 0.037222469261561385, 0.05955595081849822, 0.2977797540924911, 0.007444493852312277, 0.02977797540924911, 0.007444493852312277, 0.007444493852312277, 0.007444493852312277, 0.044666963113873664, 0.014888987704624554, 0.007444493852312277, 0.0967784200800596, 0.007444493852312277, 0.007444493852312277, 0.007444493852312277, 0.007444493852312277, 0.007444493852312277, 0.007444493852312277, 0.007444493852312277, 0.007444493852312277, 0.007444493852312277, 0.007444493852312277, 0.007444493852312277, 0.5340935442877682, 0.5896274170855427, 0.15652859846732303, 0.23479289770098455, 0.15652859846732303, 0.23479289770098455, 0.5528925072323441, 0.6759070378561287, 0.8517123074407613, 0.8807904985686227, 0.3583949048975271, 0.07545155892579518, 0.03772577946289759, 0.03772577946289759, 0.26408045624028315, 0.03772577946289759, 0.03772577946289759, 0.018862889731448795, 0.05658866919434639, 0.018862889731448795, 0.3476412653829807, 0.07449455686778157, 0.17382063269149034, 0.024831518955927192, 0.024831518955927192, 0.024831518955927192, 0.07449455686778157, 0.049663037911854384, 0.049663037911854384, 0.049663037911854384, 0.024831518955927192, 0.024831518955927192, 0.024831518955927192, 0.8312745572596066, 0.8103781199646662, 0.7614103025332704, 0.5177738186150342, 0.12150686647007977, 0.030376716617519943, 0.04556507492627992, 0.3948973160277593, 0.015188358308759971, 0.07594179154379986, 0.060753433235039886, 0.015188358308759971, 0.015188358308759971, 0.015188358308759971, 0.015188358308759971, 0.015188358308759971, 0.015188358308759971, 0.030376716617519943, 0.015188358308759971, 0.04556507492627992, 0.015188358308759971, 0.49235831735716945, 0.06154478966964618, 0.12308957933929236, 0.18463436900893854, 0.2890995507187257, 0.1927330338124838, 0.07227488767968142, 0.024091629226560475, 0.1927330338124838, 0.024091629226560475, 0.024091629226560475, 0.024091629226560475, 0.024091629226560475, 0.024091629226560475, 0.024091629226560475, 0.8938837748439211, 0.760523180922486, 0.5359833206076239, 0.09745151283774979, 0.048725756418874895, 0.048725756418874895, 0.1461772692566247, 0.048725756418874895, 0.622554326987906, 0.311277163493953, 0.4979906275469838, 0.9155494526261455, 0.7952548789274122, 0.09302812788427127, 0.3721125115370851, 0.046514063942135635, 0.046514063942135635, 0.1395421918264069, 0.18605625576854254, 0.046514063942135635, 0.8513590457433001, 0.2270451601790724, 0.2270451601790724, 0.4540903203581448, 0.7210661129507168, 0.04652325888040177, 0.09304651776080354, 0.04652325888040177, 0.7443721420864283, 0.96770423492678, 0.17105836778204853, 0.5131751033461456, 0.8932161571203855, 0.633771460132333, 0.33588601352464165, 0.030535092138603788, 0.15267546069301893, 0.030535092138603788, 0.030535092138603788, 0.2748158292474341, 0.030535092138603788, 0.030535092138603788, 0.26045002744640655, 0.04340833790773442, 0.04340833790773442, 0.13022501372320328, 0.21704168953867212, 0.17363335163093768, 0.5230181355501179, 0.24533453958514737, 0.13288954227528815, 0.1124449973098592, 0.1533340872407171, 0.010222272482714474, 0.06133363489628684, 0.06133363489628684, 0.010222272482714474, 0.10222272482714473, 0.010222272482714474, 0.010222272482714474, 0.010222272482714474, 0.010222272482714474, 0.5800065944190925, 0.09534354976752206, 0.07150766232564154, 0.023835887441880515, 0.06356236651168137, 0.015890591627920343, 0.031781183255840686, 0.023835887441880515, 0.007945295813960172, 0.007945295813960172, 0.007945295813960172, 0.007945295813960172, 0.007945295813960172, 0.007945295813960172, 0.007945295813960172, 0.007945295813960172, 0.007945295813960172, 0.007945295813960172, 0.007945295813960172, 0.020575392867174688, 0.020575392867174688, 0.041150785734349375, 0.020575392867174688, 0.5761110002808912, 0.010287696433587344, 0.010287696433587344, 0.020575392867174688, 0.010287696433587344, 0.15431544650381016, 0.010287696433587344, 0.010287696433587344, 0.010287696433587344, 0.020575392867174688, 0.010287696433587344, 0.010287696433587344, 0.010287696433587344, 0.7927550663076147, 0.11891325994614221, 0.2276851588615545, 0.17514242989350345, 0.1926566728828538, 0.14011394391480275, 0.017514242989350344, 0.017514242989350344, 0.017514242989350344, 0.017514242989350344, 0.017514242989350344, 0.017514242989350344, 0.017514242989350344, 0.03502848597870069, 0.017514242989350344, 0.017514242989350344, 0.017514242989350344, 0.017514242989350344, 0.3684588742139589, 0.3684588742139589, 0.1228196247379863, 0.6650498638060921, 0.16176888579067103, 0.008987160321703947, 0.017974320643407895, 0.02696148096511184, 0.008987160321703947, 0.008987160321703947, 0.008987160321703947, 0.008987160321703947, 0.008987160321703947, 0.017974320643407895, 0.008987160321703947, 0.017974320643407895, 0.008987160321703947, 0.6216076341947098, 0.48494208027064944, 0.7800320942156281, 0.04254720513903426, 0.04254720513903426, 0.01418240171301142, 0.01418240171301142, 0.01418240171301142, 0.01418240171301142, 0.01418240171301142, 0.01418240171301142, 0.01418240171301142, 0.07716281536377799, 0.03306977801304771, 0.03306977801304771, 0.02204651867536514, 0.5070699295333982, 0.01102325933768257, 0.03306977801304771, 0.01102325933768257, 0.01102325933768257, 0.01102325933768257, 0.01102325933768257, 0.04409303735073028, 0.03306977801304771, 0.01102325933768257, 0.01102325933768257, 0.01102325933768257, 0.02204651867536514, 0.01102325933768257, 0.01102325933768257, 0.01102325933768257, 0.01102325933768257, 0.33945761588255036, 0.6789152317651007, 0.9189956385581669, 0.03282127280564882, 0.030149161784506256, 0.12059664713802502, 0.4522374267675938, 0.15074580892253128, 0.030149161784506256, 0.030149161784506256, 0.030149161784506256, 0.030149161784506256, 0.38938573816378214, 0.08653016403639603, 0.08653016403639603, 0.12979524605459403, 0.043265082018198016, 0.043265082018198016, 0.043265082018198016, 0.043265082018198016, 0.20791779727279538, 0.41583559454559077, 0.20791779727279538, 0.09384776197146791, 0.37539104788587163, 0.18769552394293582, 0.09384776197146791, 0.2815432859144037, 0.05561064506064598, 0.8897703209703357, 0.12452472646534296, 0.24904945293068592, 0.3735741793960289, 0.24904945293068592, 0.7225067186625458, 0.7607671897135104, 0.7858004052361939, 0.01671915755821689, 0.01671915755821689, 0.03343831511643378, 0.01671915755821689, 0.03343831511643378, 0.01671915755821689, 0.04131384032831931, 0.08262768065663861, 0.24788304196991584, 0.16525536131327723, 0.37182456295487376, 0.36787952319290596, 0.22072771391574358, 0.0367879523192906, 0.0367879523192906, 0.0367879523192906, 0.0367879523192906, 0.0367879523192906, 0.0735759046385812, 0.0367879523192906, 0.0367879523192906, 0.6355379481397233, 0.7555307944886701, 0.4094845181390269, 0.22844925748808873, 0.11206944706962843, 0.01724145339532745, 0.012931090046495588, 0.05172436018598235, 0.01724145339532745, 0.008620726697663726, 0.004310363348831863, 0.004310363348831863, 0.008620726697663726, 0.004310363348831863, 0.008620726697663726, 0.004310363348831863, 0.004310363348831863, 0.004310363348831863, 0.004310363348831863, 0.004310363348831863, 0.008620726697663726, 0.004310363348831863, 0.008620726697663726, 0.008620726697663726, 0.004310363348831863, 0.008620726697663726, 0.004310363348831863, 0.004310363348831863, 0.008620726697663726, 0.004310363348831863, 0.004310363348831863, 0.004310363348831863, 0.004310363348831863, 0.004310363348831863, 0.004310363348831863, 0.5552858894303739, 0.8841274188192025, 0.1095135536623041, 0.1095135536623041, 0.3285406609869123, 0.0365045178874347, 0.0365045178874347, 0.1095135536623041, 0.0365045178874347, 0.1460180715497388, 0.9004555726652748, 0.3357692349785382, 0.09326923193848284, 0.09326923193848284, 0.03730769277539314, 0.01865384638769657, 0.03730769277539314, 0.01865384638769657, 0.055961539163089706, 0.2425000030400554, 0.01865384638769657, 0.8617084710913658, 0.802146943646052, 0.08912743818289466, 0.24551459537847226, 0.2762039198007813, 0.030689324422309032, 0.030689324422309032, 0.030689324422309032, 0.030689324422309032, 0.12275729768923613, 0.12275729768923613, 0.5622733836844978, 0.17527904956836837, 0.42066971896408406, 0.19280695452520522, 0.017527904956836836, 0.03505580991367367, 0.017527904956836836, 0.07011161982734734, 0.6976058306947653, 0.10824918062504979, 0.02405537347223329, 0.02405537347223329, 0.012027686736116644, 0.012027686736116644, 0.04811074694446658, 0.012027686736116644, 0.012027686736116644, 0.6874542068540239, 0.025461266920519404, 0.025461266920519404, 0.05092253384103881, 0.10184506768207761, 0.025461266920519404, 0.5606507017733876, 0.09008706157181749, 0.12011608209575667, 0.27026118471545246, 0.06005804104787833, 0.30029020523939165, 0.030029020523939166, 0.030029020523939166, 0.28363723776654176, 0.0886366368020443, 0.19500060096449745, 0.10636396416245315, 0.05318198208122658, 0.03545465472081772, 0.01772732736040886, 0.01772732736040886, 0.03545465472081772, 0.01772732736040886, 0.01772732736040886, 0.01772732736040886, 0.01772732736040886, 0.01772732736040886, 0.01772732736040886, 0.6218232641767513, 0.10687587353037913, 0.0485799425138087, 0.029147965508285217, 0.009715988502761739, 0.029147965508285217, 0.009715988502761739, 0.009715988502761739, 0.009715988502761739, 0.009715988502761739, 0.009715988502761739, 0.009715988502761739, 0.009715988502761739, 0.009715988502761739, 0.009715988502761739, 0.009715988502761739, 0.009715988502761739, 0.7238499107049751, 0.08042776785610835, 0.1608555357122167, 0.4968609303709859, 0.9098472115186103, 0.7314282189866941, 0.6093378989213539, 0.8376441966000451, 0.621091369839727, 0.022181834637133108, 0.15527284245993175, 0.044363669274266215, 0.022181834637133108, 0.022181834637133108, 0.06654550391139932, 0.022181834637133108, 0.022181834637133108, 0.33692208130809975, 0.033692208130809975, 0.20215324878485985, 0.033692208130809975, 0.033692208130809975, 0.033692208130809975, 0.033692208130809975, 0.1347688325232399, 0.033692208130809975, 0.6466288522609208, 0.21554295075364027, 0.895733849639821, 0.04478669248199105, 0.43691053655380757, 0.7600042707014194, 0.26471946903426563, 0.6617986725856642, 0.04411991150571094, 0.7094400655175663, 0.7628672501364844, 0.43544719859304937, 0.4463611437443062, 0.3799910974661477, 0.1125899548047845, 0.09851621045418643, 0.049258105227093216, 0.049258105227093216, 0.042221233051794184, 0.042221233051794184, 0.049258105227093216, 0.021110616525897092, 0.007036872175299031, 0.007036872175299031, 0.007036872175299031, 0.007036872175299031, 0.007036872175299031, 0.014073744350598062, 0.007036872175299031, 0.007036872175299031, 0.007036872175299031, 0.007036872175299031, 0.014073744350598062, 0.007036872175299031, 0.007036872175299031, 0.007036872175299031, 0.007036872175299031, 0.007036872175299031, 0.007036872175299031, 0.007036872175299031, 0.32577074116734767, 0.5143171601681789, 0.08571952669469647, 0.08571952669469647, 0.17143905338939294, 0.08571952669469647, 0.4798189745586715, 0.5217927386208608, 0.3130756431725165, 0.5073830810549366, 0.2757282116682478, 0.5514564233364956, 0.09678024777440207, 0.33873086721040724, 0.048390123887201035, 0.1451703716616031, 0.2903407433232062, 0.8390798078553267, 0.2925002302357523, 0.3412502686083777, 0.048750038372625384, 0.048750038372625384, 0.09750007674525077, 0.048750038372625384, 0.6143687701807348, 0.10042108248195988, 0.20084216496391977, 0.10042108248195988, 0.10042108248195988, 0.3012632474458797, 0.10042108248195988, 0.8047334968333324, 0.22873759062329518, 0.6862127718698855, 0.48133514259052884, 0.04375774023550263, 0.04375774023550263, 0.04375774023550263, 0.21878870117751312, 0.04375774023550263, 0.04375774023550263, 0.7795968508532913, 0.6736418381928385, 0.678244221772992, 0.7721712812531525, 0.7133675543258682, 0.8554028038164827, 0.10288049721325186, 0.5486959851373433, 0.30864149163975557, 0.034293499071083956, 0.4556631964705906, 0.4610672417404375, 0.5841600152634315, 0.14604000381585788, 0.16696387211982097, 0.16696387211982097, 0.33392774423964194, 0.16696387211982097, 0.3755540422206631, 0.5007387229608841, 0.761271128968931, 0.2592587887649517, 0.5185175775299034, 0.3864140477680514, 0.3864140477680514, 0.6561533343163471, 0.01620131689669993, 0.15391251051864935, 0.01620131689669993, 0.03240263379339986, 0.024301975345049895, 0.01620131689669993, 0.008100658448349965, 0.01620131689669993, 0.008100658448349965, 0.008100658448349965, 0.008100658448349965, 0.008100658448349965, 0.008100658448349965, 0.1665259870984715, 0.666103948393886, 0.771537616322387, 0.42999255676190046, 0.10546987241329633, 0.09735680530458123, 0.08924373819586613, 0.016226134217430205, 0.03245226843486041, 0.016226134217430205, 0.03245226843486041, 0.008113067108715103, 0.008113067108715103, 0.008113067108715103, 0.008113067108715103, 0.008113067108715103, 0.008113067108715103, 0.016226134217430205, 0.016226134217430205, 0.008113067108715103, 0.008113067108715103, 0.016226134217430205, 0.008113067108715103, 0.008113067108715103, 0.008113067108715103, 0.008113067108715103, 0.008113067108715103, 0.008113067108715103, 0.37739358634642345, 0.17521845080369658, 0.17072567001385822, 0.03144946552886862, 0.017971123159353498, 0.05391336947806049, 0.004492780789838374, 0.008985561579676749, 0.004492780789838374, 0.013478342369515122, 0.004492780789838374, 0.008985561579676749, 0.013478342369515122, 0.004492780789838374, 0.004492780789838374, 0.004492780789838374, 0.013478342369515122, 0.013478342369515122, 0.004492780789838374, 0.004492780789838374, 0.004492780789838374, 0.004492780789838374, 0.008985561579676749, 0.004492780789838374, 0.004492780789838374, 0.004492780789838374, 0.004492780789838374, 0.004492780789838374, 0.004492780789838374, 0.7274335984645326, 0.7426130835716395, 0.28447823974953335, 0.28447823974953335, 0.8137774104309528, 0.8236085603437711, 0.24192158361923158, 0.1488748206887579, 0.055828057758284214, 0.2605309362053263, 0.009304676293047369, 0.055828057758284214, 0.027914028879142107, 0.009304676293047369, 0.009304676293047369, 0.009304676293047369, 0.009304676293047369, 0.009304676293047369, 0.009304676293047369, 0.009304676293047369, 0.018609352586094738, 0.018609352586094738, 0.009304676293047369, 0.009304676293047369, 0.009304676293047369, 0.018609352586094738, 0.009304676293047369, 0.009304676293047369, 0.4733308867500516, 0.41416452590629516, 0.22952741205312507, 0.1530182747020834, 0.03825456867552085, 0.0765091373510417, 0.38254568675520845, 0.8357386878989721, 0.34415253743249213, 0.34415253743249213, 0.9296721499272712, 0.47492857204888483, 0.7402471249487947, 0.5856232204101032, 0.0423538352719139, 0.4658921879910529, 0.0423538352719139, 0.0423538352719139, 0.02117691763595695, 0.14823842345169866, 0.02117691763595695, 0.0423538352719139, 0.06353075290787086, 0.02117691763595695, 0.4683249187460099, 0.1338071196417171, 0.1338071196417171, 0.1338071196417171, 0.586135402924337, 0.7087536134855501, 0.14716898198584977, 0.14716898198584977, 0.4415069459575493, 0.6365159901315887, 0.6365626577459529, 0.4396157167397192, 0.4396157167397192, 0.7319613993796058, 0.7921398361410276, 0.34890451468286254, 0.13682529987563236, 0.08209517992537942, 0.12314276988806913, 0.061571384944034566, 0.061571384944034566, 0.027365059975126473, 0.013682529987563237, 0.006841264993781618, 0.006841264993781618, 0.006841264993781618, 0.006841264993781618, 0.006841264993781618, 0.013682529987563237, 0.006841264993781618, 0.006841264993781618, 0.006841264993781618, 0.006841264993781618, 0.006841264993781618, 0.006841264993781618, 0.006841264993781618, 0.006841264993781618, 0.006841264993781618, 0.006841264993781618, 0.006841264993781618, 0.6569825050883127, 0.527070759694985, 0.8966416414398494, 0.7115655234771251, 0.12937554972311363, 0.06468777486155682, 0.9091781025816619, 0.32805534292790733, 0.16402767146395367, 0.32805534292790733, 0.7313312166979931, 0.9065567427406398, 0.932491940422696, 0.7795521245328791, 0.6131647492442058, 0.48741470862964925, 0.7463980701841317, 0.7398503840608082, 0.7315103667540243, 0.5724665059057802, 0.5293298933951115, 0.806642480713269, 0.503327766962853, 0.33555184464190196, 0.21343921089878778, 0.053359802724696946, 0.44822234288745433, 0.01067196054493939, 0.11739156599433329, 0.01067196054493939, 0.01067196054493939, 0.01067196054493939, 0.01067196054493939, 0.01067196054493939, 0.01067196054493939, 0.01067196054493939, 0.01067196054493939, 0.01067196054493939, 0.01067196054493939, 0.01067196054493939, 0.0989002458171287, 0.0989002458171287, 0.2967007374513861, 0.1978004916342574, 0.0989002458171287, 0.0989002458171287, 0.6548348240892192, 0.6377502592736466, 0.7113120627896716, 0.7266124987521376, 0.44757477585578104, 0.05911364964132957, 0.2786786340234108, 0.02533442127485553, 0.02533442127485553, 0.03377922836647404, 0.00844480709161851, 0.00844480709161851, 0.00844480709161851, 0.00844480709161851, 0.00844480709161851, 0.00844480709161851, 0.00844480709161851, 0.00844480709161851, 0.00844480709161851, 0.00844480709161851, 0.6495560505453319, 0.16238901263633299, 0.94956364782098, 0.22187214987210685, 0.6656164496163205, 0.8990021825042253, 0.6073781772447919, 0.6177514120402614, 0.0842388289145811, 0.0280796096381937, 0.0280796096381937, 0.0561592192763874, 0.0561592192763874, 0.0280796096381937, 0.0280796096381937, 0.0280796096381937, 0.34669186949336916, 0.34669186949336916, 0.5308980735452297, 0.10279851188146497, 0.20559702376292993, 0.10279851188146497, 0.10279851188146497, 0.3083955356443949, 0.5536251694167307, 0.16459202866430037, 0.027432004777383393, 0.054864009554766786, 0.49377608599290107, 0.08229601433215018, 0.027432004777383393, 0.027432004777383393, 0.877958160259788, 0.8492845091072806, 0.644880732188526, 0.3985120759809355, 0.3985120759809355, 0.848139124683963, 0.2531866599996263, 0.5063733199992526, 0.9560876851065467, 0.5575127760706553, 0.38427280926508317, 0.0548961156092976, 0.0548961156092976, 0.0548961156092976, 0.0548961156092976, 0.0548961156092976, 0.2195844624371904, 0.4494884593956155, 0.49413839401026854, 0.7677840887812503, 0.8607372270072945, 0.7903863296210828, 0.7285396301944469, 0.8279443008433666, 0.7957366012609451, 0.501423819738318, 0.06685650929844239, 0.13371301859688478, 0.10028476394766359, 0.033428254649221195, 0.033428254649221195, 0.033428254649221195, 0.033428254649221195, 0.06685650929844239, 0.6134397630611309, 0.6134397630611309, 0.12865062786689882, 0.771903767201393, 0.8958827336476151, 0.7092836582707649, 0.2961816478448146, 0.5923632956896292, 0.050939640032574354, 0.6112756803908923, 0.10187928006514871, 0.6504574424656144, 0.7782213462100593, 0.46565742206823996, 0.8816543607363532, 0.841565417205435, 0.7566561529533241, 0.39038038630203287, 0.7491460906218261, 0.04240449569557506, 0.01413483189852502, 0.02826966379705004, 0.01413483189852502, 0.01413483189852502, 0.01413483189852502, 0.01413483189852502, 0.01413483189852502, 0.01413483189852502, 0.01413483189852502, 0.01413483189852502, 0.07117529166948704, 0.14235058333897407, 0.5694023333558963, 0.14235058333897407, 0.28996955924830436, 0.19331303949886958, 0.19331303949886958, 0.09665651974943479, 0.048328259874717394, 0.048328259874717394, 0.048328259874717394, 0.8046635780449194, 0.6148848891063993, 0.9468600742834895, 0.11135758611399989, 0.22271517222799977, 0.5567879305699994, 0.9526617539682627, 0.9103373781637556, 0.4578595717334976, 0.2255129233911257, 0.0820046994149548, 0.03416862475623116, 0.006833724951246233, 0.0205011748537387, 0.013667449902492466, 0.006833724951246233, 0.006833724951246233, 0.006833724951246233, 0.027334899804984932, 0.006833724951246233, 0.006833724951246233, 0.013667449902492466, 0.013667449902492466, 0.013667449902492466, 0.006833724951246233, 0.006833724951246233, 0.006833724951246233, 0.006833724951246233, 0.006833724951246233, 0.006833724951246233, 0.3902837531720463, 0.30897463792786994, 0.01626182304883526, 0.03252364609767052, 0.01626182304883526, 0.06504729219534104, 0.01626182304883526, 0.01626182304883526, 0.01626182304883526, 0.03252364609767052, 0.01626182304883526, 0.01626182304883526, 0.7178901356627441, 0.3998894937981016, 0.9237842326242528, 0.8892192386372476, 0.024032952395601288, 0.012016476197800644, 0.012016476197800644, 0.012016476197800644, 0.6557258430795224, 0.1639314607698806, 0.468294884259932, 0.14900291771906926, 0.06385839330817254, 0.14900291771906926, 0.021286131102724183, 0.021286131102724183, 0.021286131102724183, 0.042572262205448366, 0.021286131102724183, 0.6260157448402178, 0.6091483473420096, 0.47424814537569693, 0.7202562548938564, 0.4930893691196348, 0.7519463855365919, 0.7704009153492921, 0.0314620411941255, 0.0314620411941255, 0.8809371534355138, 0.7796288183291792, 0.9313553540744387, 0.17959540812312424, 0.05986513604104141, 0.11973027208208283, 0.5387862243693727, 0.5740038511949775, 0.5223280937152134, 0.4178624749721707, 0.4133207865959144, 0.1549952949734679, 0.0516650983244893, 0.1033301966489786, 0.1549952949734679, 0.8826829058036831, 0.40828870223400604, 0.10207217555850151, 0.10207217555850151, 0.20414435111700302, 0.8194005342110711, 0.1833387128076164, 0.06111290426920547, 0.30556452134602735, 0.1833387128076164, 0.06111290426920547, 0.06111290426920547, 0.06111290426920547, 0.7613323912933643, 0.23898744072268444, 0.19915620060223702, 0.2788186808431318, 0.039831240120447406, 0.039831240120447406, 0.039831240120447406, 0.8811942828986108, 0.3217364910334415, 0.9687806162696928, 0.3793383919342633, 0.18392164457418825, 0.034485308357660296, 0.04598041114354706, 0.02299020557177353, 0.06897061671532059, 0.06897061671532059, 0.011495102785886765, 0.011495102785886765, 0.011495102785886765, 0.011495102785886765, 0.011495102785886765, 0.011495102785886765, 0.011495102785886765, 0.06897061671532059, 0.011495102785886765, 0.011495102785886765, 0.011495102785886765, 0.0106332525416601, 0.0106332525416601, 0.5210293745413449, 0.0318997576249803, 0.31899757624980296, 0.0212665050833202, 0.0318997576249803, 0.0106332525416601, 0.0106332525416601, 0.0106332525416601, 0.5856338042342162, 0.14640845105855405, 0.2666672102201843, 0.17777814014678953, 0.08888907007339476, 0.08888907007339476, 0.17777814014678953, 0.026678599701873543, 0.08003579910562063, 0.10671439880749417, 0.5068933943355973, 0.053357199403747085, 0.026678599701873543, 0.026678599701873543, 0.026678599701873543, 0.026678599701873543, 0.026678599701873543, 0.053357199403747085, 0.8825274490270177, 0.7759164225093922, 0.9299636411355762, 0.5058929619511686, 0.2398064040417877, 0.016425096167245735, 0.006570038466898294, 0.00985505770034744, 0.05256030773518635, 0.00985505770034744, 0.01971011540069488, 0.003285019233449147, 0.00985505770034744, 0.006570038466898294, 0.006570038466898294, 0.013140076933796587, 0.003285019233449147, 0.003285019233449147, 0.003285019233449147, 0.003285019233449147, 0.003285019233449147, 0.00985505770034744, 0.003285019233449147, 0.003285019233449147, 0.003285019233449147, 0.006570038466898294, 0.016425096167245735, 0.003285019233449147, 0.003285019233449147, 0.003285019233449147, 0.003285019233449147, 0.006570038466898294, 0.003285019233449147, 0.003285019233449147, 0.003285019233449147, 0.003285019233449147, 0.003285019233449147, 0.003285019233449147, 0.934915398649656, 0.377021185765802, 0.377021185765802, 0.9079962215131296, 0.7902282279140582, 0.514462598960267, 0.08574376649337784, 0.08574376649337784, 0.08574376649337784, 0.08574376649337784, 0.6512892979538663, 0.3614432712821185, 0.0946637139072215, 0.04302896086691887, 0.13769267477414038, 0.02581737652015132, 0.04302896086691887, 0.04302896086691887, 0.06884633738707019, 0.008605792173383774, 0.008605792173383774, 0.008605792173383774, 0.02581737652015132, 0.008605792173383774, 0.008605792173383774, 0.008605792173383774, 0.02581737652015132, 0.008605792173383774, 0.008605792173383774, 0.008605792173383774, 0.008605792173383774, 0.5625273911617105, 0.07031592389521381, 0.07031592389521381, 0.07031592389521381, 0.07031592389521381, 0.28246525853919857, 0.28246525853919857, 0.28246525853919857, 0.7549403211051186, 0.9013503482635234, 0.1266580921465788, 0.2533161842931576, 0.0633290460732894, 0.2533161842931576, 0.0633290460732894, 0.1266580921465788, 0.6729794191463492, 0.1682448547865873, 0.9626858620374988, 0.7796041227042699, 0.8100996411954469, 0.7026829417460803, 0.7357129623352063, 0.26861954819367795, 0.025183082643157308, 0.4700842093389364, 0.016788721762104872, 0.06715488704841949, 0.008394360881052436, 0.016788721762104872, 0.033577443524209744, 0.025183082643157308, 0.016788721762104872, 0.008394360881052436, 0.008394360881052436, 0.008394360881052436, 0.7600318436324889, 0.6485286999127612, 0.8161578514447437, 0.8506636585827382, 0.21144512604541627, 0.42289025209083253, 0.7894083372094839, 0.07493714435905616, 0.37468572179528076, 0.5245600105133931, 0.6024282409367192, 0.8192604851372249, 0.2949489914463346, 0.44242348716950186, 0.31940257857243526, 0.10646752619081175, 0.31940257857243526, 0.9261687883819574, 0.10124768646354487, 0.0809981491708359, 0.18224583563438077, 0.14174676104896283, 0.020249537292708977, 0.020249537292708977, 0.04049907458541795, 0.020249537292708977, 0.020249537292708977, 0.14174676104896283, 0.0809981491708359, 0.020249537292708977, 0.060748611878126926, 0.6666271243337651, 0.8477807089194145, 0.7816641058303452, 0.2392614349435058, 0.031208013253500755, 0.020805342169000506, 0.20805342169000504, 0.05201335542250126, 0.10402671084500252, 0.020805342169000506, 0.07281869759150177, 0.07281869759150177, 0.010402671084500253, 0.010402671084500253, 0.010402671084500253, 0.010402671084500253, 0.010402671084500253, 0.010402671084500253, 0.020805342169000506, 0.04161068433800101, 0.512308532997037, 0.15524500999910215, 0.015524500999910214, 0.015524500999910214, 0.031049001999820428, 0.031049001999820428, 0.031049001999820428, 0.015524500999910214, 0.015524500999910214, 0.09314700599946128, 0.031049001999820428, 0.04305391185911405, 0.1722156474364562, 0.1722156474364562, 0.12916173557734215, 0.12916173557734215, 0.04305391185911405, 0.1722156474364562, 0.04305391185911405, 0.04305391185911405, 0.7405890176986117, 0.8228291831823441, 0.36575923954080897, 0.36575923954080897, 0.27043895169583393, 0.21635116135666715, 0.13521947584791696, 0.05408779033916679, 0.05408779033916679, 0.08113168550875018, 0.05408779033916679, 0.027043895169583394, 0.027043895169583394, 0.7612631547170408, 0.5530998302316927, 0.039836082687703916, 0.19918041343851958, 0.31868866150163133, 0.2390164961262235, 0.07967216537540783, 0.039836082687703916, 0.47001898928253916, 0.3671590111370383, 0.23364664345084257, 0.03337809192154894, 0.06675618384309788, 0.03337809192154894, 0.13351236768619576, 0.03337809192154894, 0.6835989117314649, 0.24106123534411428, 0.7231837060323428, 0.9595920822654225, 0.6693212638191218, 0.4837130517761129, 0.9720266156708557, 0.949758076574149, 0.5799949818894241, 0.9145120318812526, 0.8002080446353522, 0.5855123700955354, 0.4129998283381259, 0.06883330472302097, 0.13766660944604195, 0.13766660944604195, 0.06883330472302097, 0.17050183562027346, 0.07307221526583149, 0.14614443053166298, 0.024357405088610496, 0.04871481017722099, 0.09742962035444198, 0.024357405088610496, 0.19485924070888397, 0.07307221526583149, 0.024357405088610496, 0.024357405088610496, 0.024357405088610496, 0.024357405088610496, 0.04172154906027181, 0.04172154906027181, 0.08344309812054362, 0.04172154906027181, 0.6258232359040772, 0.04172154906027181, 0.08918564203290864, 0.08918564203290864, 0.029728547344302882, 0.5945709468860576, 0.029728547344302882, 0.029728547344302882, 0.029728547344302882, 0.20247349790692637, 0.13498233193795092, 0.06749116596897546, 0.33745582984487726, 0.2782640607427464, 0.5565281214854928, 0.4197570093050089, 0.7445056265116358, 0.2243155333886556, 0.08075359201991601, 0.06280834934882357, 0.1525345627042858, 0.23328815472420183, 0.026917864006638672, 0.01794524267109245, 0.008972621335546225, 0.01794524267109245, 0.008972621335546225, 0.008972621335546225, 0.04486310667773112, 0.008972621335546225, 0.008972621335546225, 0.008972621335546225, 0.008972621335546225, 0.008972621335546225, 0.008972621335546225, 0.008972621335546225, 0.008972621335546225, 0.008972621335546225, 0.008972621335546225, 0.6373026327064418, 0.1264161933161615, 0.04213873110538717, 0.021069365552693585, 0.252832386632323, 0.21069365552693584, 0.021069365552693585, 0.16855492442154868, 0.021069365552693585, 0.021069365552693585, 0.021069365552693585, 0.021069365552693585, 0.021069365552693585, 0.5604366575091081, 0.16721412259272836, 0.8360706129636418, 0.46824848688149795, 0.18512149481361545, 0.07622649786442989, 0.021778999389837114, 0.021778999389837114, 0.03266849908475567, 0.010889499694918557, 0.04355799877967423, 0.010889499694918557, 0.010889499694918557, 0.010889499694918557, 0.010889499694918557, 0.010889499694918557, 0.010889499694918557, 0.010889499694918557, 0.010889499694918557, 0.8012469151594672, 0.8957917979886326, 0.08531350457034596, 0.5580943379952729, 0.1522075467259835, 0.05073584890866117, 0.1522075467259835, 0.44932712010127474, 0.2442987343534152, 0.051431312495455836, 0.025715656247727918, 0.29573004684887105, 0.0642891406193198, 0.025715656247727918, 0.025715656247727918, 0.0642891406193198, 0.025715656247727918, 0.012857828123863959, 0.012857828123863959, 0.025715656247727918, 0.012857828123863959, 0.025715656247727918, 0.012857828123863959, 0.4598755170664599, 0.19822220563209478, 0.07532443814019602, 0.02775110878849327, 0.02775110878849327, 0.043608885239060854, 0.011893332337925687, 0.015857776450567584, 0.007928888225283792, 0.003964444112641896, 0.003964444112641896, 0.003964444112641896, 0.007928888225283792, 0.007928888225283792, 0.003964444112641896, 0.007928888225283792, 0.003964444112641896, 0.007928888225283792, 0.007928888225283792, 0.007928888225283792, 0.003964444112641896, 0.003964444112641896, 0.011893332337925687, 0.007928888225283792, 0.003964444112641896, 0.003964444112641896, 0.003964444112641896, 0.003964444112641896, 0.003964444112641896, 0.003964444112641896, 0.003964444112641896, 0.003964444112641896, 0.14236954981678396, 0.33219561623916255, 0.1898260664223786, 0.04745651660559465, 0.04745651660559465, 0.04745651660559465, 0.5253692253143429, 0.1647205499647534, 0.4118013749118835, 0.0823602749823767, 0.24708082494713013, 0.07133585886641848, 0.14267171773283696, 0.5706868709313478, 0.5124132121503119, 0.37399862709216924, 0.49866483612289236, 0.06665651530853096, 0.5999086377767787, 0.26662606123412386, 0.458157125699372, 0.9357751442525454, 0.33840340894805937, 0.33840340894805937, 0.3012887498229824, 0.3012887498229824, 0.5454985196106346, 0.8487197930250655, 0.5553253427540361, 0.37602017185264724, 0.2875448372990832, 0.11059416819195507, 0.022118833638391015, 0.022118833638391015, 0.022118833638391015, 0.04423766727678203, 0.8594095475708594, 0.7684692815877774, 0.6281890572725308, 0.5009514759874047, 0.5672008422308701, 0.779644580417338, 0.6979881403690933, 0.6951648559395275, 0.5287394650396104, 0.780338438605695, 0.5827247197791801, 0.5888511304797238, 0.06626595393905484, 0.4638616775733838, 0.03313297696952742, 0.09939893090858225, 0.03313297696952742, 0.06626595393905484, 0.03313297696952742, 0.09939893090858225, 0.03313297696952742, 0.06626595393905484, 0.702657993479742, 0.817916385979762, 0.6200574595287205, 0.20668581984290682, 0.7076499905796284], \"Term\": [\"aagrra\", \"abandoned\", \"abdmoulaie\", \"abdominal\", \"absolutely\", \"absolutely\", \"absolutely\", \"absolutely\", \"absolutely\", \"absolutely\", \"absolutely\", \"absolutely\", \"absorbed\", \"absorbed\", \"acadia\", \"accept\", \"accept\", \"accept\", \"accept\", \"accept\", \"accept\", \"accept\", \"accomplishment\", \"accomplishment\", \"account\", \"account\", \"account\", \"account\", \"account\", \"account\", \"account\", \"account\", \"account\", \"account\", \"account\", \"account\", \"account\", \"account\", \"account\", \"account\", \"account\", \"account\", \"account\", \"account\", \"account\", \"account\", \"account\", \"account\", \"account\", \"account\", \"account\", \"account\", \"account\", \"accouting\", \"accrued\", \"acctg\", \"acrobat\", \"acrobat\", \"acrobat\", \"acrobat\", \"acrobat\", \"acrobat\", \"acrobat\", \"active\", \"active\", \"active\", \"active\", \"active\", \"active\", \"active\", \"activity\", \"activity\", \"activity\", \"activity\", \"activity\", \"activity\", \"activity\", \"activity\", \"activity\", \"activity\", \"acton\", \"acton\", \"actualized\", \"actuals\", \"actuals\", \"actuals\", \"additionai\", \"additonal\", \"address\", \"address\", \"address\", \"address\", \"address\", \"address\", \"address\", \"address\", \"address\", \"address\", \"address\", \"address\", \"address\", \"address\", \"address\", \"address\", \"address\", \"address\", \"address\", \"address\", \"adipren\", \"adjustment\", \"adjustment\", \"adlpex\", \"admin\", \"admin\", \"admin\", \"adobe\", \"adobe\", \"adobe\", \"adobe\", \"adobe\", \"adobe\", \"adobe\", \"adobe\", \"adobe\", \"adobe\", \"adobe\", \"aduitstem\", \"adult\", \"adult\", \"adult\", \"adult\", \"adult\", \"adult\", \"adventure\", \"advertisement\", \"advertisement\", \"advertisement\", \"advertisement\", \"advertisement\", \"advertisement\", \"advertisement\", \"advertisement\", \"advertiser\", \"advice\", \"advice\", \"advice\", \"advice\", \"advice\", \"advice\", \"advice\", \"advice\", \"advice\", \"advice\", \"advice\", \"advice\", \"adware\", \"aeopublishing\", \"aepin\", \"aerofoam\", \"aerofoam\", \"aeruginosa\", \"affiliate\", \"affiliate\", \"affiliate\", \"affiliate\", \"affiliate\", \"affiliate\", \"affiliate\", \"affordability\", \"affordable\", \"affordable\", \"affordable\", \"affordable\", \"affordable\", \"africa\", \"africa\", \"africa\", \"africa\", \"africa\", \"africa\", \"africa\", \"africa\", \"after\", \"after\", \"after\", \"after\", \"after\", \"after\", \"after\", \"after\", \"after\", \"agenda\", \"agenda\", \"agenda\", \"agenda\", \"agenda\", \"agent\", \"agent\", \"agent\", \"agent\", \"agent\", \"agent\", \"agent\", \"agent\", \"agent\", \"aging\", \"aging\", \"aging\", \"aging\", \"aging\", \"agreemeent\", \"agreement\", \"agreement\", \"agreement\", \"agreement\", \"agreement\", \"agreement\", \"agreement\", \"agreement\", \"agreement\", \"agreement\", \"agreement\", \"agreement\", \"agreement\", \"agreement\", \"agreement\", \"agreement\", \"agreement\", \"agreement\", \"agreement\", \"agreement\", \"agreement\", \"agrees\", \"agrees\", \"agrra\", \"ahmad\", \"ahmad\", \"ahmad\", \"ahmed\", \"ahmed\", \"aiity\", \"aimee\", \"alamac\", \"alamac\", \"alcohol\", \"alcohol\", \"alcohol\", \"alert\", \"alert\", \"alert\", \"alert\", \"alert\", \"alert\", \"alert\", \"alert\", \"alicia\", \"align\", \"alilum\", \"alison\", \"alium\", \"alium\", \"aliuum\", \"allan\", \"allan\", \"allegedly\", \"allegheny\", \"allegheny\", \"allegheny\", \"allocation\", \"allocation\", \"allocation\", \"allocation\", \"allocation\", \"allocation\", \"allocation\", \"alloy\", \"alpine\", \"altair\", \"althea\", \"alway\", \"always\", \"always\", \"always\", \"always\", \"always\", \"always\", \"always\", \"always\", \"always\", \"always\", \"always\", \"always\", \"always\", \"amaranth\", \"amateur\", \"amazon\", \"ambieen\", \"ambien\", \"ambiien\", \"ambiien\", \"amblen\", \"amend\", \"amendment\", \"amendment\", \"amendment\", \"amendment\", \"amendment\", \"america\", \"america\", \"america\", \"america\", \"america\", \"america\", \"america\", \"america\", \"america\", \"america\", \"america\", \"america\", \"america\", \"america\", \"america\", \"america\", \"america\", \"america\", \"america\", \"amongthe\", \"amonqthe\", \"analogously\", \"analytical\", \"analytical\", \"analytical\", \"ancient\", \"andmanyother\", \"andmanyother\", \"andmanyother\", \"andmanyother\", \"andmanyother\", \"angela\", \"angela\", \"angela\", \"angeles\", \"angeles\", \"angeles\", \"angelides\", \"angelides\", \"anhui\", \"anjam\", \"anjam\", \"anjam\", \"anjam\", \"anjam\", \"anjam\", \"anjam\", \"annex\", \"annoying\", \"anshuman\", \"answer\", \"answer\", \"answer\", \"answer\", \"answer\", \"answer\", \"answer\", \"answer\", \"answer\", \"answer\", \"answer\", \"answer\", \"answer\", \"antagonism\", \"antelope\", \"antidote\", \"anymore\", \"anymore\", \"anymore\", \"anymore\", \"anymore\", \"aopen\", \"apache\", \"apache\", \"apologize\", \"apologize\", \"apologize\", \"apologize\", \"appetizer\", \"applause\", \"applicant\", \"applicant\", \"application\", \"application\", \"application\", \"application\", \"application\", \"application\", \"application\", \"application\", \"application\", \"application\", \"application\", \"application\", \"application\", \"application\", \"application\", \"application\", \"application\", \"application\", \"apply\", \"apply\", \"apply\", \"apply\", \"apply\", \"apply\", \"apply\", \"apply\", \"apply\", \"apply\", \"appointment\", \"appointment\", \"appointment\", \"appointment\", \"appointment\", \"apprehensive\", \"approval\", \"approval\", \"approval\", \"approval\", \"approval\", \"approval\", \"approval\", \"approval\", \"approval\", \"approval\", \"approval\", \"approved\", \"approved\", \"approved\", \"approved\", \"approved\", \"approved\", \"approved\", \"approved\", \"approved\", \"approved\", \"approved\", \"approver\", \"approving\", \"aprovado\", \"arafat\", \"arbitrage\", \"architectonic\", \"argus\", \"armour\", \"arranging\", \"arthurandersen\", \"arthurandersen\", \"article\", \"article\", \"article\", \"article\", \"article\", \"article\", \"article\", \"article\", \"article\", \"artistas\", \"artwork\", \"artwork\", \"ashley\", \"assay\", \"assembled\", \"assistance\", \"assistance\", \"assistance\", \"assistance\", \"assistance\", \"assistance\", \"assistance\", \"assistance\", \"assistance\", \"assistance\", \"assistance\", \"assistant\", \"assistant\", \"assistant\", \"assistant\", \"assistant\", \"assistant\", \"assistant\", \"assistant\", \"assistant\", \"associate\", \"associate\", \"associate\", \"associate\", \"associate\", \"associate\", \"associate\", \"associate\", \"associate\", \"associate\", \"associate\", \"associate\", \"associate\", \"associate\", \"assunto\", \"assuring\", \"atchison\", \"atkinson\", \"atlantic\", \"atlantic\", \"atleast\", \"attach\", \"attached\", \"attached\", \"attached\", \"attached\", \"attached\", \"attached\", \"attached\", \"attached\", \"attached\", \"attached\", \"attached\", \"attached\", \"attached\", \"attached\", \"attached\", \"attached\", \"attached\", \"attached\", \"attached\", \"attached\", \"attached\", \"attached\", \"attached\", \"attached\", \"attached\", \"attached\", \"attached\", \"attack\", \"attack\", \"attack\", \"attempt\", \"attempt\", \"attempt\", \"attempt\", \"attempt\", \"attempting\", \"attempting\", \"attitude\", \"attitude\", \"aucoin\", \"auction\", \"auction\", \"auction\", \"auction\", \"audemars\", \"audition\", \"audrey\", \"august\", \"august\", \"august\", \"august\", \"august\", \"august\", \"august\", \"august\", \"august\", \"august\", \"august\", \"august\", \"august\", \"august\", \"august\", \"august\", \"august\", \"austin\", \"austin\", \"austin\", \"austin\", \"austin\", \"authenticated\", \"authenticated\", \"autodesk\", \"avail\", \"availability\", \"availability\", \"availability\", \"availability\", \"availability\", \"availability\", \"averaged\", \"averaging\", \"avila\", \"avoid\", \"avoid\", \"avoid\", \"avoid\", \"avoid\", \"avoid\", \"award\", \"award\", \"award\", \"award\", \"award\", \"awesome\", \"awesome\", \"awesome\", \"awesome\", \"awful\", \"azure\", \"backed\", \"backed\", \"backed\", \"backgammon\", \"bacteria\", \"balanced\", \"balcony\", \"ballmer\", \"bammel\", \"bammel\", \"bammel\", \"bammel\", \"bammelyoungfamilies\", \"baneberry\", \"bankofamerica\", \"banner\", \"banner\", \"banner\", \"banquet\", \"barclays\", \"bartlett\", \"baseload\", \"baseness\", \"batch\", \"batch\", \"batch\", \"batch\", \"battery\", \"battery\", \"battery\", \"baune\", \"bayer\", \"baylor\", \"baylor\", \"baytown\", \"beaty\", \"beaumont\", \"beaver\", \"belden\", \"beleive\", \"belief\", \"belief\", \"belief\", \"belief\", \"belief\", \"belies\", \"belize\", \"bellamy\", \"belongs\", \"belongs\", \"bench\", \"bench\", \"bench\", \"benedict\", \"benefit\", \"benefit\", \"benefit\", \"benefit\", \"benefit\", \"benefit\", \"benefit\", \"benefit\", \"benefit\", \"benefit\", \"benefit\", \"benefit\", \"benefit\", \"benefit\", \"benefit\", \"benevides\", \"berlin\", \"beside\", \"bethe\", \"better\", \"better\", \"better\", \"better\", \"better\", \"better\", \"better\", \"better\", \"better\", \"better\", \"better\", \"better\", \"better\", \"better\", \"better\", \"better\", \"better\", \"better\", \"better\", \"beverly\", \"beverly\", \"bidder\", \"bidding\", \"bidding\", \"bidding\", \"billed\", \"billed\", \"billed\", \"billing\", \"billing\", \"billing\", \"billing\", \"billing\", \"billion\", \"billion\", \"billion\", \"billion\", \"billion\", \"billion\", \"billion\", \"billion\", \"billion\", \"bimonthly\", \"bingaman\", \"biotechnoiogy\", \"biped\", \"birth\", \"bittersweet\", \"bjorn\", \"bjorn\", \"blackberry\", \"blackberry\", \"blackberry\", \"blackberry\", \"blackberry\", \"blackberry\", \"blake\", \"blake\", \"blanc\", \"blanco\", \"blancpain\", \"blankenship\", \"blocked\", \"blonde\", \"bloodshed\", \"bloodst\", \"bloodstream\", \"bnpparibas\", \"bobby\", \"bodywrap\", \"bolivia\", \"bonnard\", \"booked\", \"booked\", \"border\", \"border\", \"border\", \"border\", \"borland\", \"borland\", \"boston\", \"boston\", \"boston\", \"bother\", \"bouillion\", \"boulevard\", \"braband\", \"brackett\", \"brackett\", \"brackett\", \"brainstorm\", \"brainstorming\", \"brand\", \"brand\", \"brand\", \"brand\", \"brand\", \"brand\", \"brand\", \"brand\", \"brand\", \"brand\", \"brand\", \"brand\", \"brand\", \"brand\", \"brand\", \"brazos\", \"breakdown\", \"breakdown\", \"breast\", \"breath\", \"breath\", \"breathing\", \"breilly\", \"breitling\", \"breitling\", \"brenda\", \"brenda\", \"brenda\", \"brenda\", \"brenda\", \"brenda\", \"brennan\", \"brennan\", \"breslau\", \"brett\", \"bridgeline\", \"bridgeline\", \"bridgette\", \"brindle\", \"brinq\", \"brooklyn\", \"brown\", \"brown\", \"brown\", \"brown\", \"brown\", \"brown\", \"brown\", \"brown\", \"brownbag\", \"browse\", \"browse\", \"browse\", \"browse\", \"bruce\", \"bruce\", \"bruceg\", \"bryan\", \"bryan\", \"bryan\", \"buchanan\", \"buenos\", \"buerkle\", \"buffett\", \"buiiding\", \"bulletin\", \"bulletin\", \"bulletin\", \"burdened\", \"burgher\", \"burlington\", \"burlington\", \"burlington\", \"burst\", \"burst\", \"burton\", \"business\", \"business\", \"business\", \"business\", \"business\", \"business\", \"business\", \"business\", \"business\", \"business\", \"business\", \"business\", \"business\", \"business\", \"business\", \"business\", \"business\", \"business\", \"business\", \"business\", \"business\", \"business\", \"business\", \"business\", \"business\", \"business\", \"business\", \"business\", \"business\", \"buyback\", \"buyback\", \"bvgari\", \"bvlgari\", \"bvlgari\", \"cabinet\", \"cable\", \"cable\", \"cable\", \"cable\", \"cable\", \"caffeine\", \"calculator\", \"calger\", \"calger\", \"calger\", \"calger\", \"calger\", \"california\", \"california\", \"california\", \"california\", \"california\", \"california\", \"california\", \"california\", \"california\", \"california\", \"california\", \"calmly\", \"calorized\", \"calpine\", \"calpine\", \"calpine\", \"camaraderie\", \"camden\", \"camera\", \"camera\", \"camera\", \"canada\", \"canada\", \"canada\", \"canada\", \"canada\", \"canada\", \"canada\", \"canada\", \"canada\", \"canada\", \"canada\", \"canada\", \"cancer\", \"cancer\", \"cancer\", \"cancer\", \"cantekin\", \"cantekin\", \"carbide\", \"cardsoreduce\", \"cared\", \"carefui\", \"careful\", \"careful\", \"careful\", \"carey\", \"caring\", \"carnaval\", \"carnegie\", \"carol\", \"carol\", \"carol\", \"carol\", \"carpenter\", \"carpet\", \"carriage\", \"carrie\", \"carrie\", \"carroll\", \"carrying\", \"carrying\", \"carthage\", \"cartier\", \"cartier\", \"carton\", \"cartridge\", \"cartwheel\", \"cashflow\", \"cashion\", \"cashout\", \"casket\", \"castaneda\", \"castillo\", \"castillo\", \"castro\", \"casually\", \"catalogue\", \"catchy\", \"category\", \"category\", \"category\", \"category\", \"category\", \"category\", \"category\", \"category\", \"category\", \"catherine\", \"catherine\", \"cautioned\", \"cautioned\", \"cctvcameras\", \"cecil\", \"cedric\", \"cefer\", \"ceils\", \"cernosek\", \"cernosek\", \"certificate\", \"certificate\", \"certificate\", \"certificate\", \"chair\", \"chair\", \"chair\", \"chair\", \"chair\", \"chair\", \"chair\", \"championship\", \"chanel\", \"change\", \"change\", \"change\", \"change\", \"change\", \"change\", \"change\", \"change\", \"change\", \"change\", \"change\", \"change\", \"change\", \"change\", \"change\", \"change\", \"change\", \"change\", \"change\", \"change\", \"change\", \"change\", \"change\", \"change\", \"change\", \"change\", \"change\", \"chanqes\", \"charity\", \"charity\", \"charity\", \"charlene\", \"charles\", \"charles\", \"charles\", \"charles\", \"charles\", \"charles\", \"charles\", \"charlie\", \"charm\", \"chase\", \"chase\", \"chase\", \"chauncey\", \"cheaap\", \"cheap\", \"cheap\", \"cheap\", \"cheap\", \"cheap\", \"cheap\", \"cheap\", \"cheap\", \"cheap\", \"cheap\", \"cheap\", \"cheaper\", \"cheaper\", \"cheapest\", \"cheapest\", \"cheating\", \"checkour\", \"checkour\", \"cheeap\", \"chemist\", \"chemist\", \"chemist\", \"cheryl\", \"cheryl\", \"cheryl\", \"cheryl\", \"cheryl\", \"cheryl\", \"chocolate\", \"chokshi\", \"chokshi\", \"chonawee\", \"chonawee\", \"chopard\", \"chris\", \"chris\", \"chris\", \"chris\", \"chris\", \"chris\", \"chris\", \"christie\", \"christie\", \"christie\", \"christie\", \"christie\", \"christie\", \"christina\", \"christine\", \"christine\", \"chuzzle\", \"chuzzles\", \"ciaaliis\", \"ciaiis\", \"cialiis\", \"cialiis\", \"cialis\", \"cialis\", \"cialis\", \"cialis\", \"cialis\", \"cialis\", \"ciall\", \"cialls\", \"cigarette\", \"ciick\", \"ciick\", \"ciick\", \"cindy\", \"cindy\", \"cindy\", \"cindy\", \"cindy\", \"cindy\", \"cisco\", \"citibank\", \"claim\", \"claim\", \"claim\", \"claim\", \"claim\", \"claim\", \"claim\", \"claim\", \"claim\", \"claim\", \"clair\", \"clalis\", \"clara\", \"class\", \"class\", \"class\", \"class\", \"class\", \"classified\", \"clause\", \"clayton\", \"clayton\", \"clayton\", \"cleaning\", \"cleburne\", \"clever\", \"clewlow\", \"click\", \"click\", \"click\", \"click\", \"click\", \"click\", \"click\", \"click\", \"click\", \"click\", \"click\", \"click\", \"click\", \"click\", \"click\", \"click\", \"click\", \"click\", \"click\", \"click\", \"click\", \"click\", \"click\", \"click\", \"click\", \"clickathome\", \"client\", \"client\", \"client\", \"client\", \"client\", \"client\", \"client\", \"client\", \"client\", \"client\", \"client\", \"climax\", \"clock\", \"closet\", \"closure\", \"closure\", \"clustering\", \"clyatt\", \"coaster\", \"cobranza\", \"cocktail\", \"cocktail\", \"coding\", \"cogeneration\", \"cokinos\", \"colette\", \"college\", \"college\", \"college\", \"college\", \"collins\", \"collins\", \"colombia\", \"colorful\", \"columbia\", \"columbia\", \"comerciales\", \"committee\", \"committee\", \"committee\", \"committee\", \"committee\", \"committee\", \"committee\", \"committee\", \"committee\", \"communication\", \"communication\", \"communication\", \"communication\", \"communication\", \"communication\", \"communication\", \"communication\", \"communication\", \"communication\", \"communication\", \"communication\", \"communication\", \"communication\", \"companionway\", \"company\", \"company\", \"company\", \"company\", \"company\", \"company\", \"company\", \"company\", \"company\", \"company\", \"company\", \"company\", \"company\", \"company\", \"company\", \"company\", \"company\", \"company\", \"company\", \"company\", \"company\", \"company\", \"company\", \"company\", \"company\", \"company\", \"company\", \"company\", \"company\", \"company\", \"company\", \"company\", \"company\", \"compare\", \"compare\", \"compare\", \"compare\", \"comparing\", \"comparison\", \"comparison\", \"comparison\", \"compellable\", \"compete\", \"compete\", \"competitive\", \"competitive\", \"competitive\", \"competitive\", \"competitive\", \"competitive\", \"competitor\", \"competitor\", \"competitor\", \"competitor\", \"competitor\", \"compilation\", \"complementary\", \"complementary\", \"completed\", \"completed\", \"completed\", \"completed\", \"completed\", \"completed\", \"completed\", \"completed\", \"completed\", \"completed\", \"completo\", \"complexity\", \"complication\", \"complication\", \"compound\", \"compressor\", \"computron\", \"concentrate\", \"concord\", \"conduciveness\", \"conference\", \"conference\", \"conference\", \"conference\", \"conference\", \"conference\", \"conference\", \"conference\", \"conference\", \"conference\", \"conference\", \"conference\", \"confid\", \"confide\", \"confiden\", \"confidenti\", \"confidential\", \"confidential\", \"confidential\", \"confidential\", \"confidential\", \"confidential\", \"confidential\", \"confidential\", \"confidential\", \"confidential\", \"confidential\", \"confidential\", \"confidential\", \"confirm\", \"confirm\", \"confirm\", \"confirm\", \"confirm\", \"confirm\", \"confirm\", \"confirm\", \"confirm\", \"confirm\", \"confirm\", \"confirmation\", \"confirmation\", \"confirmation\", \"confirmation\", \"confirmation\", \"confirmation\", \"confirmation\", \"confirmation\", \"confirmation\", \"confirmation\", \"confirmation\", \"confirme\", \"congrats\", \"congratulation\", \"congratulation\", \"congratulation\", \"congratulation\", \"congratulation\", \"congratulation\", \"congresso\", \"conoco\", \"conoco\", \"conroe\", \"consciousness\", \"considerado\", \"considered\", \"considered\", \"considered\", \"considered\", \"considered\", \"considered\", \"considered\", \"considered\", \"consists\", \"constantin\", \"constitution\", \"consultation\", \"consultation\", \"consultation\", \"consultation\", \"consultation\", \"consultation\", \"consultation\", \"consulted\", \"contact\", \"contact\", \"contact\", \"contact\", \"contact\", \"contact\", \"contact\", \"contact\", \"contact\", \"contact\", \"contact\", \"contact\", \"contact\", \"contact\", \"contact\", \"contact\", \"contact\", \"contact\", \"contact\", \"contact\", \"contact\", \"contact\", \"contact\", \"contact\", \"contacting\", \"contacting\", \"contacting\", \"contacting\", \"contemporary\", \"content\", \"content\", \"content\", \"content\", \"content\", \"content\", \"content\", \"content\", \"content\", \"content\", \"content\", \"content\", \"content\", \"content\", \"content\", \"contest\", \"contingency\", \"continuation\", \"continuation\", \"contour\", \"contract\", \"contract\", \"contract\", \"contract\", \"contract\", \"contract\", \"contract\", \"contract\", \"contract\", \"contract\", \"contract\", \"contract\", \"contract\", \"contract\", \"contract\", \"contract\", \"contract\", \"contract\", \"contract\", \"contracting\", \"contracting\", \"controlled\", \"controlled\", \"convinient\", \"cooperatively\", \"copacabana\", \"copano\", \"copel\", \"copier\", \"copper\", \"cordially\", \"corei\", \"corel\", \"corel\", \"corel\", \"corey\", \"cormier\", \"cornfield\", \"cornhusker\", \"correct\", \"correct\", \"correct\", \"correct\", \"correct\", \"correct\", \"correct\", \"correct\", \"correio\", \"correlation\", \"correlation\", \"correlation\", \"corrente\", \"corrupted\", \"costco\", \"costos\", \"cotten\", \"cotten\", \"cotten\", \"cotton\", \"coulter\", \"counseling\", \"count\", \"count\", \"count\", \"count\", \"count\", \"counter\", \"counter\", \"counter\", \"counter\", \"counterpart\", \"counterpart\", \"counterparties\", \"counterparties\", \"counterparties\", \"counterparties\", \"counterparties\", \"counterparties\", \"counterparty\", \"counterparty\", \"counterparty\", \"counterparty\", \"counterparty\", \"counterparty\", \"counterparty\", \"countrieswe\", \"county\", \"county\", \"county\", \"couple\", \"couple\", \"couple\", \"couple\", \"couple\", \"couple\", \"coupon\", \"coupon\", \"coupon\", \"coupon\", \"course\", \"course\", \"course\", \"course\", \"course\", \"course\", \"course\", \"course\", \"course\", \"course\", \"course\", \"courtney\", \"coverage\", \"coverage\", \"coverage\", \"coverage\", \"coverage\", \"coverage\", \"cowardice\", \"cowboy\", \"coyote\", \"crease\", \"creative\", \"creative\", \"creative\", \"creative\", \"creative\", \"creative\", \"creative\", \"creativeness\", \"creatorstoll\", \"credit\", \"credit\", \"credit\", \"credit\", \"credit\", \"credit\", \"credit\", \"credit\", \"credit\", \"credit\", \"credit\", \"credit\", \"credit\", \"credit\", \"credit\", \"credit\", \"credit\", \"credit\", \"credit\", \"credit\", \"credit\", \"creek\", \"creek\", \"creek\", \"crenshaw\", \"crenshaw\", \"crenshaw\", \"crenshaw\", \"crenshaw\", \"crenshaw\", \"crenshaw\", \"cription\", \"crosoft\", \"crosstex\", \"crowd\", \"crowd\", \"cryobank\", \"cryogenic\", \"crystal\", \"crystal\", \"culinary\", \"cultivation\", \"curve\", \"curve\", \"curve\", \"curve\", \"curve\", \"curve\", \"curve\", \"curve\", \"curve\", \"curve\", \"curve\", \"custom\", \"custom\", \"custom\", \"custom\", \"custom\", \"customer\", \"customer\", \"customer\", \"customer\", \"customer\", \"customer\", \"customer\", \"customer\", \"customer\", \"customer\", \"customer\", \"customer\", \"customer\", \"customer\", \"customer\", \"customer\", \"customer\", \"customer\", \"customer\", \"customer\", \"customer\", \"customer\", \"customer\", \"customerservice\", \"customerservice\", \"customerservice\", \"customize\", \"cwhite\", \"cyndi\", \"daily\", \"daily\", \"daily\", \"daily\", \"daily\", \"daily\", \"daily\", \"daily\", \"daily\", \"daily\", \"daily\", \"daily\", \"daily\", \"daniel\", \"daniel\", \"daniel\", \"daren\", \"daren\", \"daren\", \"daren\", \"daren\", \"daren\", \"daren\", \"daren\", \"daren\", \"daren\", \"daren\", \"darren\", \"darren\", \"darren\", \"darren\", \"dashboard\", \"david\", \"david\", \"david\", \"david\", \"david\", \"david\", \"david\", \"david\", \"david\", \"david\", \"david\", \"david\", \"david\", \"david\", \"david\", \"david\", \"david\", \"david\", \"davis\", \"davis\", \"davis\", \"davis\", \"davis\", \"deacero\", \"dealbench\", \"dealbench\", \"dealer\", \"dealer\", \"dealer\", \"dealer\", \"dealer\", \"dealer\", \"dealer\", \"death\", \"death\", \"death\", \"death\", \"death\", \"death\", \"death\", \"debbie\", \"debbie\", \"debbie\", \"debra\", \"debugging\", \"deceased\", \"deceased\", \"december\", \"december\", \"december\", \"december\", \"december\", \"december\", \"december\", \"december\", \"december\", \"december\", \"december\", \"december\", \"december\", \"december\", \"december\", \"declassify\", \"declining\", \"dedication\", \"dedication\", \"dedication\", \"deductionhome\", \"deeply\", \"deeply\", \"default\", \"default\", \"default\", \"default\", \"default\", \"default\", \"deferred\", \"defiled\", \"degenerative\", \"degree\", \"degree\", \"degree\", \"deiivery\", \"delainey\", \"delainey\", \"delainey\", \"delek\", \"deleted\", \"deleted\", \"deletion\", \"delivery\", \"delivery\", \"delivery\", \"delivery\", \"delivery\", \"delivery\", \"delivery\", \"delivery\", \"delivery\", \"delivery\", \"delivery\", \"delivery\", \"delivery\", \"delivery\", \"delivery\", \"delivery\", \"delta\", \"delta\", \"delta\", \"delta\", \"demand\", \"demand\", \"demand\", \"demand\", \"demand\", \"demand\", \"demand\", \"demand\", \"demand\", \"demand\", \"demand\", \"demand\", \"demand\", \"demand\", \"demanded\", \"demanded\", \"demanded\", \"demokritos\", \"demonstrated\", \"dendritic\", \"denne\", \"denne\", \"depot\", \"derek\", \"derek\", \"derrick\", \"derrick\", \"descend\", \"describes\", \"desertion\", \"deserve\", \"deserve\", \"deserve\", \"deserve\", \"deserving\", \"design\", \"design\", \"design\", \"design\", \"design\", \"design\", \"design\", \"design\", \"design\", \"design\", \"design\", \"desiqn\", \"desiqn\", \"desire\", \"desire\", \"desire\", \"destinataire\", \"destroyed\", \"destroying\", \"detalles\", \"detect\", \"development\", \"development\", \"development\", \"development\", \"development\", \"development\", \"development\", \"development\", \"development\", \"development\", \"development\", \"development\", \"development\", \"development\", \"development\", \"development\", \"development\", \"development\", \"development\", \"development\", \"devolva\", \"dialup\", \"diamond\", \"diary\", \"dickerson\", \"diesel\", \"diesel\", \"diesel\", \"differ\", \"differ\", \"differ\", \"differ\", \"differ\", \"digital\", \"digital\", \"digital\", \"digital\", \"digital\", \"digital\", \"dimension\", \"dinari\", \"dinner\", \"dinner\", \"dinner\", \"dinner\", \"dinner\", \"dinner\", \"dinner\", \"dinner\", \"dirty\", \"discount\", \"discount\", \"discount\", \"discount\", \"discount\", \"discount\", \"discount\", \"discount\", \"discount\", \"discount\", \"discouunt\", \"discrete\", \"discrete\", \"disease\", \"disease\", \"disease\", \"disease\", \"dislike\", \"disolve\", \"disorder\", \"disorder\", \"disorder\", \"disorder\", \"disparate\", \"dispatch\", \"disputing\", \"disregard\", \"disseminate\", \"dissolvable\", \"distribuidora\", \"distributing\", \"divestment\", \"divorce\", \"doable\", \"doctor\", \"doctor\", \"doctor\", \"doctor\", \"doctor\", \"doctor\", \"doctor\", \"doherty\", \"domain\", \"domain\", \"domain\", \"domain\", \"domain\", \"donahue\", \"donahue\", \"donahue\", \"donald\", \"donald\", \"donald\", \"donald\", \"donated\", \"doorstep\", \"doorstep\", \"doorstep\", \"doorstep\", \"dormant\", \"dormant\", \"downioad\", \"downloadable\", \"downloads\", \"dramatically\", \"dramatically\", \"dramatically\", \"dream\", \"dream\", \"dream\", \"dreamt\", \"dreamweaver\", \"dress\", \"drift\", \"drugstore\", \"drvgs\", \"drvgs\", \"dthat\", \"duane\", \"duffie\", \"duffie\", \"duffie\", \"duffie\", \"dunhill\", \"duplicate\", \"duran\", \"duran\", \"duran\", \"dwide\", \"dynamic\", \"dynamic\", \"dynamic\", \"dynamic\", \"dynegydirect\", \"dysfunction\", \"dysfunction\", \"dysfunction\", \"dysfunction\", \"earlier\", \"earlier\", \"earlier\", \"earlier\", \"earlier\", \"earlier\", \"earlier\", \"earlier\", \"earnings\", \"earnings\", \"earnings\", \"earnings\", \"earnings\", \"earnings\", \"earnings\", \"earnings\", \"easter\", \"eastrans\", \"easttexas\", \"ecommerce\", \"edison\", \"edison\", \"edition\", \"edition\", \"edition\", \"edition\", \"edition\", \"edward\", \"edward\", \"edward\", \"edward\", \"edward\", \"edward\", \"effect\", \"effect\", \"effect\", \"effect\", \"effect\", \"effect\", \"effect\", \"effect\", \"effect\", \"effect\", \"effect\", \"effective\", \"effective\", \"effective\", \"effective\", \"effective\", \"effective\", \"effective\", \"effective\", \"effective\", \"effective\", \"effective\", \"effluent\", \"egpfc\", \"ehronline\", \"eileen\", \"ejaculate\", \"ejaculation\", \"ekrapels\", \"eldridge\", \"element\", \"element\", \"element\", \"element\", \"elena\", \"elisabeth\", \"elizabeth\", \"elizabeth\", \"elizabeth\", \"elizabeth\", \"elizabeth\", \"elizabeth\", \"email\", \"email\", \"email\", \"email\", \"email\", \"email\", \"email\", \"email\", \"email\", \"email\", \"email\", \"email\", \"email\", \"email\", \"email\", \"email\", \"email\", \"email\", \"email\", \"email\", \"email\", \"email\", \"email\", \"email\", \"email\", \"email\", \"email\", \"email\", \"email\", \"email\", \"embarassment\", \"emeet\", \"emeet\", \"emerson\", \"emerson\", \"emotion\", \"empioyees\", \"employee\", \"employee\", \"employee\", \"employee\", \"employee\", \"employee\", \"employee\", \"employee\", \"employee\", \"employee\", \"employee\", \"employee\", \"employee\", \"employee\", \"employee\", \"employee\", \"encoding\", \"encoding\", \"encoding\", \"encoding\", \"encoding\", \"encompasses\", \"encorp\", \"encounter\", \"ending\", \"ending\", \"ending\", \"ending\", \"endlogo\", \"endlogo\", \"endocrine\", \"enerfin\", \"enerfin\", \"enerfin\", \"energy\", \"energy\", \"energy\", \"energy\", \"energy\", \"energy\", \"energy\", \"energy\", \"energy\", \"energy\", \"energy\", \"energy\", \"energy\", \"energy\", \"energy\", \"energy\", \"energy\", \"energy\", \"energy\", \"energy\", \"energy\", \"energy\", \"energy\", \"energy\", \"energy\", \"energy\", \"energy\", \"enfolio\", \"enforceable\", \"enforcement\", \"engine\", \"engine\", \"engine\", \"engine\", \"engine\", \"engine\", \"engine\", \"engine\", \"engine\", \"enhanced\", \"enhanced\", \"enhanced\", \"enhanced\", \"enhanced\", \"enlarge\", \"enlargement\", \"enough\", \"enough\", \"enough\", \"enough\", \"enough\", \"enough\", \"enough\", \"enough\", \"enrico\", \"enron\", \"enron\", \"enron\", \"enron\", \"enron\", \"enron\", \"enron\", \"enron\", \"enron\", \"enron\", \"enron\", \"enron\", \"enron\", \"enron\", \"enron\", \"enron\", \"enron\", \"enron\", \"enron\", \"enron\", \"enron\", \"enron\", \"enron\", \"enron\", \"enron\", \"enron\", \"enron\", \"enron\", \"enron\", \"enron\", \"enron\", \"enron\", \"enron\", \"enron\", \"enron\", \"enron\", \"enron\", \"enron\", \"enron\", \"enron\", \"enron\", \"enron\", \"enron\", \"enron\", \"enronavailso\", \"enronxgate\", \"enronxgate\", \"enronxgate\", \"enronxgate\", \"enronxgate\", \"enronxgate\", \"enronxgate\", \"enronxgate\", \"enronxgate\", \"enronxgate\", \"enserch\", \"enter\", \"enter\", \"enter\", \"enter\", \"enter\", \"enter\", \"enter\", \"enter\", \"enter\", \"enter\", \"enter\", \"enter\", \"enter\", \"entered\", \"entered\", \"entered\", \"entered\", \"entered\", \"entered\", \"entered\", \"entered\", \"entered\", \"enters\", \"enters\", \"entertain\", \"entex\", \"entex\", \"entiaiity\", \"entrada\", \"entree\", \"envision\", \"enymex\", \"eprofile\", \"eprofile\", \"eprofile\", \"equipment\", \"equipment\", \"equipment\", \"equipment\", \"equipment\", \"equipment\", \"equipment\", \"equipment\", \"equistar\", \"equivalent\", \"equivalent\", \"equivalent\", \"equivalent\", \"equivalent\", \"ercot\", \"ercot\", \"erectile\", \"erectile\", \"erection\", \"erection\", \"erection\", \"erection\", \"erection\", \"erequest\", \"eronn\", \"error\", \"error\", \"error\", \"error\", \"error\", \"error\", \"error\", \"error\", \"esaibos\", \"esmtp\", \"esource\", \"espeak\", \"espeak\", \"espinoza\", \"espousing\", \"estate\", \"estate\", \"estate\", \"estate\", \"estate\", \"estoppel\", \"ethink\", \"ethink\", \"eugenio\", \"eugenio\", \"evaluation\", \"evaluation\", \"evaluation\", \"evaluation\", \"evaluation\", \"evaluation\", \"evaluation\", \"event\", \"event\", \"event\", \"event\", \"event\", \"event\", \"event\", \"event\", \"event\", \"event\", \"event\", \"event\", \"event\", \"event\", \"event\", \"event\", \"event\", \"every\", \"every\", \"every\", \"every\", \"every\", \"every\", \"every\", \"every\", \"every\", \"every\", \"every\", \"every\", \"evolution\", \"exccellent\", \"excelled\", \"exception\", \"exception\", \"exception\", \"exception\", \"exception\", \"exempt\", \"exempt\", \"exempt\", \"exertion\", \"exotic\", \"expectation\", \"expectation\", \"expectation\", \"expectation\", \"expectation\", \"expectation\", \"expedia\", \"expeditious\", \"expences\", \"expire\", \"expired\", \"explain\", \"explain\", \"explain\", \"explain\", \"explain\", \"explain\", \"explained\", \"explained\", \"export\", \"export\", \"export\", \"export\", \"export\", \"extended\", \"extended\", \"extended\", \"extended\", \"extended\", \"extended\", \"extended\", \"extender\", \"extra\", \"extra\", \"extra\", \"extra\", \"extra\", \"extra\", \"extra\", \"extra\", \"extra\", \"eyewear\", \"facsimile\", \"factor\", \"factor\", \"factor\", \"factor\", \"factor\", \"factor\", \"factor\", \"factor\", \"factor\", \"factor\", \"factor\", \"factory\", \"factory\", \"faith\", \"faith\", \"faith\", \"farmer\", \"farmer\", \"farmer\", \"farmer\", \"farmer\", \"farmer\", \"farmer\", \"fascism\", \"fatal\", \"fatal\", \"faustus\", \"feedback\", \"feedback\", \"feedback\", \"feedback\", \"feedback\", \"feedback\", \"feedback\", \"feedback\", \"feedback\", \"feedback\", \"feedback\", \"felix\", \"fellow\", \"fellow\", \"fellow\", \"female\", \"female\", \"female\", \"fendi\", \"fernley\", \"fernley\", \"fernley\", \"fernley\", \"festivity\", \"fevereiro\", \"final\", \"final\", \"final\", \"final\", \"final\", \"final\", \"final\", \"final\", \"final\", \"final\", \"final\", \"finalize\", \"finalize\", \"finalize\", \"finance\", \"finance\", \"finance\", \"finance\", \"finance\", \"finance\", \"finance\", \"finance\", \"finance\", \"finance\", \"finance\", \"finance\", \"finish\", \"finish\", \"finish\", \"fiorina\", \"fisticuff\", \"fitting\", \"fitting\", \"fitzpatrick\", \"fitzpatrick\", \"fitzpatrick\", \"fixed\", \"fixed\", \"fixed\", \"fixed\", \"fixed\", \"fixed\", \"fixed\", \"fixed\", \"fixed\", \"fixed\", \"fixed\", \"flame\", \"fleming\", \"flexibie\", \"floor\", \"floor\", \"floor\", \"floor\", \"floor\", \"floor\", \"floor\", \"flores\", \"flowerygaze\", \"folder\", \"folder\", \"folder\", \"folder\", \"folder\", \"followed\", \"followed\", \"followed\", \"followed\", \"footprint\", \"forecasting\", \"forecasting\", \"forecasting\", \"foreign\", \"foreign\", \"foreign\", \"foreign\", \"foreign\", \"foreign\", \"foreign\", \"foreign\", \"foreign\", \"foreign\", \"foreign\", \"foresight\", \"forgot\", \"forgot\", \"forgot\", \"forgot\", \"forgot\", \"formarlities\", \"format\", \"format\", \"format\", \"format\", \"format\", \"format\", \"format\", \"format\", \"format\", \"format\", \"formosa\", \"forrester\", \"fortney\", \"forum\", \"forward\", \"forward\", \"forward\", \"forward\", \"forward\", \"forward\", \"forward\", \"forward\", \"forward\", \"forward\", \"forward\", \"forward\", \"forward\", \"forward\", \"forward\", \"forward\", \"forward\", \"forward\", \"forward\", \"forward\", \"forward\", \"forward\", \"foryou\", \"foward\", \"foward\", \"fraction\", \"francisco\", \"francisco\", \"francisco\", \"franklin\", \"fraud\", \"fraud\", \"fraud\", \"freedom\", \"freedom\", \"freeware\", \"freeware\", \"french\", \"frequency\", \"frequency\", \"fresh\", \"fresh\", \"fresh\", \"fresh\", \"friday\", \"friday\", \"friday\", \"friday\", \"friday\", \"friday\", \"friday\", \"friday\", \"friday\", \"friday\", \"friday\", \"friday\", \"friday\", \"friday\", \"friday\", \"friday\", \"friday\", \"friday\", \"friday\", \"friday\", \"friday\", \"friday\", \"friendship\", \"front\", \"front\", \"front\", \"front\", \"front\", \"front\", \"front\", \"front\", \"frontline\", \"fruit\", \"ftworth\", \"fucking\", \"fucking\", \"fullest\", \"fundamental\", \"fundamental\", \"fundamental\", \"fundamental\", \"funnel\", \"future\", \"future\", \"future\", \"future\", \"future\", \"future\", \"future\", \"future\", \"future\", \"future\", \"future\", \"future\", \"future\", \"future\", \"future\", \"future\", \"future\", \"future\", \"future\", \"future\", \"future\", \"future\", \"future\", \"fuzzy\", \"gappy\", \"gappy\", \"garrick\", \"garven\", \"gatech\", \"gather\", \"gathering\", \"gathering\", \"gathering\", \"gathering\", \"gathering\", \"gemanix\", \"gemlink\", \"generation\", \"generation\", \"generation\", \"generation\", \"generation\", \"generation\", \"generation\", \"generation\", \"generation\", \"generation\", \"generator\", \"generator\", \"generator\", \"generic\", \"generic\", \"generic\", \"generic\", \"generic\", \"generic\", \"generic\", \"genex\", \"geologist\", \"george\", \"george\", \"george\", \"george\", \"george\", \"george\", \"george\", \"george\", \"george\", \"german\", \"gerry\", \"gerry\", \"gerry\", \"geynille\", \"gibner\", \"gibner\", \"gibner\", \"gibner\", \"gibner\", \"gibner\", \"giggle\", \"gillian\", \"giuseppe\", \"giuseppe\", \"giveaway\", \"giving\", \"giving\", \"giving\", \"giving\", \"giving\", \"giving\", \"giving\", \"giving\", \"giving\", \"gordon\", \"gordon\", \"gossett\", \"gossett\", \"gossett\", \"gossett\", \"gotta\", \"gottlob\", \"grade\", \"grade\", \"grade\", \"grant\", \"grant\", \"grant\", \"grant\", \"grant\", \"grant\", \"grant\", \"grant\", \"graph\", \"graph\", \"graphic\", \"graphic\", \"graphic\", \"graphic\", \"graphic\", \"grateful\", \"grateful\", \"grateful\", \"grateful\", \"gratis\", \"great\", \"great\", \"great\", \"great\", \"great\", \"great\", \"great\", \"great\", \"great\", \"great\", \"great\", \"great\", \"great\", \"great\", \"great\", \"great\", \"great\", \"great\", \"great\", \"great\", \"great\", \"greene\", \"greeter\", \"greeting\", \"greeting\", \"greeting\", \"greeting\", \"greeting\", \"greif\", \"griffith\", \"group\", \"group\", \"group\", \"group\", \"group\", \"group\", \"group\", \"group\", \"group\", \"group\", \"group\", \"group\", \"group\", \"group\", \"group\", \"group\", \"group\", \"group\", \"group\", \"group\", \"group\", \"group\", \"group\", \"group\", \"group\", \"groupe\", \"guadalupe\", \"guaranteed\", \"guaranteed\", \"guaranteed\", \"guaranteed\", \"guaranteed\", \"guaranteed\", \"guaranteed\", \"guaranteed\", \"guaranteed\", \"guaranteed\", \"guaranteed\", \"guaranteed\", \"gucci\", \"guidepost\", \"guilty\", \"guilty\", \"haedicke\", \"haedicke\", \"hagelmann\", \"hagelmann\", \"hagen\", \"halliburton\", \"hammer\", \"hamper\", \"handful\", \"handheld\", \"handheld\", \"handheld\", \"handu\", \"handy\", \"handy\", \"hannigan\", \"hanukkah\", \"harlan\", \"harlan\", \"harvard\", \"harvard\", \"harvard\", \"hassle\", \"hassle\", \"having\", \"having\", \"having\", \"hayden\", \"hazard\", \"headcount\", \"headcount\", \"healthiest\", \"heard\", \"heard\", \"heard\", \"heard\", \"heard\", \"heard\", \"heard\", \"heard\", \"heart\", \"heart\", \"heart\", \"heart\", \"heart\", \"heart\", \"heath\", \"hector\", \"hector\", \"hefei\", \"heinrich\", \"hello\", \"hello\", \"hello\", \"hello\", \"hello\", \"hello\", \"hello\", \"hello\", \"hello\", \"hello\", \"hello\", \"hello\", \"hello\", \"hello\", \"hello\", \"hello\", \"hello\", \"helmerich\", \"helsinki\", \"helyette\", \"hereand\", \"hereone\", \"hereto\", \"hereto\", \"hermes\", \"hernandez\", \"herod\", \"herod\", \"herod\", \"herod\", \"herrera\", \"hershey\", \"hesco\", \"hesse\", \"hilarious\", \"hilliard\", \"hitschel\", \"holding\", \"holding\", \"holding\", \"holding\", \"holding\", \"holding\", \"hollomon\", \"holly\", \"holmes\", \"homeowner\", \"homeowner\", \"homeowner\", \"homeowner\", \"homeowner\", \"homepage\", \"homepage\", \"homesite\", \"hoodwinks\", \"hookup\", \"hopelessness\", \"hormonal\", \"horny\", \"hoshino\", \"hosting\", \"hosting\", \"hosting\", \"hotat\", \"hotlist\", \"hotmail\", \"hotmail\", \"hotmail\", \"hotmail\", \"hotmail\", \"hotmail\", \"hourly\", \"hourly\", \"housewife\", \"houston\", \"houston\", \"houston\", \"houston\", \"houston\", \"houston\", \"houston\", \"houston\", \"houston\", \"houston\", \"houston\", \"houston\", \"houston\", \"houston\", \"houston\", \"houston\", \"houston\", \"houston\", \"houston\", \"houston\", \"houston\", \"houston\", \"howard\", \"howard\", \"howard\", \"humanity\", \"humanoid\", \"humiliate\", \"humiliation\", \"hyster\", \"iaagra\", \"iagra\", \"ialis\", \"ianguaqe\", \"ibuyit\", \"identical\", \"identical\", \"identity\", \"identity\", \"identity\", \"identity\", \"iferc\", \"ighting\", \"ignacio\", \"iisted\", \"ikenberry\", \"illustrator\", \"illustrator\", \"image\", \"image\", \"image\", \"image\", \"image\", \"image\", \"image\", \"image\", \"image\", \"imagination\", \"imagine\", \"imagine\", \"imagine\", \"imited\", \"immigration\", \"immigration\", \"impossible\", \"impossible\", \"impossible\", \"impossible\", \"impossible\", \"impress\", \"impressed\", \"impression\", \"improvement\", \"improvement\", \"improvement\", \"improvement\", \"improvementopaint\", \"improvementsecond\", \"inbox\", \"includinq\", \"incorporate\", \"incorrect\", \"increase\", \"increase\", \"increase\", \"increase\", \"increase\", \"increase\", \"increase\", \"increase\", \"increase\", \"increase\", \"increase\", \"increase\", \"increase\", \"increase\", \"increment\", \"indian\", \"indian\", \"indian\", \"indicating\", \"indicating\", \"indicating\", \"indicating\", \"indicating\", \"inexpensive\", \"inexpensive\", \"infection\", \"infinity\", \"infinity\", \"inform\", \"inform\", \"inform\", \"inform\", \"inform\", \"inform\", \"inform\", \"inform\", \"inform\", \"informacion\", \"information\", \"information\", \"information\", \"information\", \"information\", \"information\", \"information\", \"information\", \"information\", \"information\", \"information\", \"information\", \"information\", \"information\", \"information\", \"information\", \"information\", \"information\", \"information\", \"information\", \"information\", \"information\", \"information\", \"information\", \"information\", \"information\", \"information\", \"information\", \"information\", \"information\", \"information\", \"information\", \"information\", \"information\", \"informational\", \"informational\", \"informational\", \"ingredient\", \"ingredient\", \"ingredient\", \"inkjet\", \"innatpenn\", \"innovation\", \"innovation\", \"inquires\", \"inspiring\", \"instinctively\", \"insulted\", \"insurance\", \"insurance\", \"insurance\", \"insurance\", \"insurance\", \"insurance\", \"insurance\", \"insurance\", \"insurance\", \"insurance\", \"insurancemail\", \"intel\", \"intel\", \"intelligence\", \"intelligence\", \"intellinet\", \"intended\", \"intended\", \"intended\", \"intended\", \"intended\", \"intended\", \"intended\", \"intended\", \"intended\", \"intended\", \"intense\", \"inter\", \"intercepted\", \"interest\", \"interest\", \"interest\", \"interest\", \"interest\", \"interest\", \"interest\", \"interest\", \"interest\", \"interest\", \"interest\", \"interest\", \"interest\", \"interest\", \"interest\", \"interest\", \"interest\", \"interest\", \"interest\", \"interest\", \"interest\", \"interested\", \"interested\", \"interested\", \"interested\", \"interested\", \"interested\", \"interested\", \"interested\", \"interested\", \"interested\", \"interested\", \"interested\", \"interested\", \"interested\", \"interested\", \"interested\", \"interested\", \"interested\", \"interested\", \"intermediate\", \"intern\", \"intern\", \"intern\", \"intern\", \"intern\", \"intern\", \"internacionais\", \"international\", \"international\", \"international\", \"international\", \"international\", \"international\", \"international\", \"international\", \"international\", \"international\", \"international\", \"international\", \"international\", \"internship\", \"interruption\", \"interview\", \"interview\", \"interview\", \"interview\", \"interview\", \"interview\", \"interview\", \"interview\", \"interview\", \"interview\", \"interview\", \"interview\", \"interview\", \"interview\", \"interview\", \"interview\", \"intimate\", \"intimidate\", \"intra\", \"intra\", \"intrastate\", \"intuit\", \"invested\", \"invested\", \"investing\", \"investing\", \"investing\", \"investment\", \"investment\", \"investment\", \"investment\", \"investment\", \"investment\", \"investment\", \"investment\", \"investment\", \"investment\", \"investment\", \"investment\", \"investment\", \"investment\", \"investment\", \"investment\", \"investment\", \"investment\", \"investment\", \"investment\", \"investment\", \"investment\", \"investor\", \"investor\", \"investor\", \"investor\", \"investor\", \"investor\", \"investor\", \"investor\", \"investor\", \"investor\", \"investor\", \"investor\", \"invisible\", \"invite\", \"invite\", \"invite\", \"invite\", \"invite\", \"invite\", \"invite\", \"invite\", \"invoice\", \"invoice\", \"invoice\", \"invoice\", \"invoice\", \"invoice\", \"invoice\", \"invoice\", \"invoice\", \"invoice\", \"involuntary\", \"involvement\", \"involvement\", \"iomega\", \"ionaalphonso\", \"irritable\", \"irvin\", \"irvine\", \"island\", \"island\", \"island\", \"island\", \"island\", \"isoverwhelminq\", \"isquite\", \"issuance\", \"issuance\", \"issuance\", \"issue\", \"issue\", \"issue\", \"issue\", \"issue\", \"issue\", \"issue\", \"issue\", \"issue\", \"issue\", \"issue\", \"issue\", \"issue\", \"issue\", \"issue\", \"issue\", \"issue\", \"itinerary\", \"jabber\", \"jabber\", \"jackie\", \"jackie\", \"jackie\", \"jackie\", \"jaesoo\", \"jaesoo\", \"jafry\", \"jafry\", \"january\", \"january\", \"january\", \"january\", \"january\", \"january\", \"january\", \"january\", \"january\", \"january\", \"january\", \"january\", \"january\", \"january\", \"january\", \"january\", \"japan\", \"japan\", \"jason\", \"jason\", \"jason\", \"jason\", \"jasononline\", \"jeanie\", \"jeanie\", \"jeanne\", \"jebel\", \"jeffrey\", \"jeffrey\", \"jeffrey\", \"jeffrey\", \"jeffrey\", \"jeffrey\", \"jeffrey\", \"jenkins\", \"jenkins\", \"jewel\", \"jewelry\", \"jinbaek\", \"joannie\", \"joannie\", \"joaquin\", \"johan\", \"johnny\", \"johnston\", \"joking\", \"jolly\", \"jordan\", \"jordan\", \"jordan\", \"jordan\", \"josey\", \"josey\", \"josey\", \"judgment\", \"judgment\", \"juego\", \"juegos\", \"julie\", \"julie\", \"julie\", \"julie\", \"julie\", \"julie\", \"julie\", \"julio\", \"jutland\", \"kamal\", \"kaminski\", \"kaminski\", \"kaminski\", \"kaminski\", \"kaminski\", \"kaminski\", \"kaminski\", \"kaminski\", \"kaminski\", \"kaminski\", \"kaminski\", \"kaminski\", \"kaminski\", \"kaminski\", \"kaminski\", \"kaminski\", \"kaminski\", \"kaminski\", \"kaminski\", \"kaminsky\", \"karen\", \"karen\", \"karen\", \"karen\", \"karim\", \"karin\", \"karpos\", \"katherine\", \"katherine\", \"katherine\", \"kathy\", \"kathy\", \"kathy\", \"kathy\", \"kathy\", \"kearney\", \"keith\", \"keith\", \"keith\", \"kelliher\", \"kenny\", \"kernel\", \"kernel\", \"kernel\", \"kevin\", \"kevin\", \"kevin\", \"kevin\", \"kevin\", \"kevin\", \"kevin\", \"kevin\", \"kevin\", \"kevin\", \"kevin\", \"keystone\", \"khairuddin\", \"khodorkovsky\", \"kiatsupaibul\", \"kilgore\", \"killen\", \"killen\", \"killer\", \"kimberly\", \"kimberly\", \"kimberly\", \"kimberly\", \"kimberly\", \"kimberly\", \"kimberly\", \"kindness\", \"kitchen\", \"kitchen\", \"kitchen\", \"kitchen\", \"kitchen\", \"kitchen\", \"kitchen\", \"kitchen\", \"kitchen\", \"kitchen\", \"knirel\", \"knock\", \"koenig\", \"koenig\", \"koenig\", \"koepke\", \"kohli\", \"kohli\", \"kowalke\", \"krapels\", \"kuehl\", \"kuehl\", \"labguard\", \"lacima\", \"laing\", \"lamadrid\", \"lamadrid\", \"lamar\", \"lamphier\", \"language\", \"language\", \"language\", \"language\", \"language\", \"language\", \"language\", \"language\", \"language\", \"lannou\", \"laptop\", \"laptop\", \"laptop\", \"laptop\", \"larsen\", \"lasalle\", \"lasalle\", \"laser\", \"laser\", \"lateral\", \"lateral\", \"lateral\", \"lateral\", \"lateral\", \"laura\", \"laura\", \"laura\", \"laura\", \"laura\", \"laura\", \"lauraan\", \"lauraan\", \"laurel\", \"lavorato\", \"lavorato\", \"lavorato\", \"lavorato\", \"lavorato\", \"ldupou\", \"ldwide\", \"leann\", \"leann\", \"legal\", \"legal\", \"legal\", \"legal\", \"legal\", \"legal\", \"legal\", \"legal\", \"legal\", \"legal\", \"legal\", \"legal\", \"legal\", \"legal\", \"legal\", \"legislator\", \"legislature\", \"leland\", \"lenci\", \"lender\", \"lender\", \"lender\", \"lender\", \"lender\", \"lender\", \"lender\", \"lender\", \"lenderscan\", \"leola\", \"leppard\", \"leppard\", \"leppard\", \"lesson\", \"lesson\", \"lesson\", \"letsyou\", \"letter\", \"letter\", \"letter\", \"letter\", \"letter\", \"letter\", \"letter\", \"letter\", \"letter\", \"letter\", \"letter\", \"letter\", \"letter\", \"letter\", \"letter\", \"letter\", \"levbaynes\", \"levitra\", \"levitra\", \"libel\", \"liberation\", \"liberian\", \"liberty\", \"liberty\", \"libido\", \"libido\", \"libor\", \"licciardo\", \"license\", \"license\", \"license\", \"license\", \"license\", \"limestone\", \"limit\", \"limit\", \"limit\", \"limit\", \"limit\", \"limit\", \"limit\", \"limit\", \"linda\", \"linda\", \"linda\", \"linda\", \"lindholm\", \"lindley\", \"lindsay\", \"lined\", \"lined\", \"linux\", \"linux\", \"linux\", \"linux\", \"linux\", \"lipitor\", \"listbot\", \"lnternet\", \"loading\", \"loading\", \"loading\", \"loansrefinancedebt\", \"localized\", \"lodge\", \"lodgepole\", \"logisitics\", \"logodentity\", \"logon\", \"lohman\", \"lohman\", \"lokay\", \"lokay\", \"lokay\", \"lokay\", \"lokay\", \"lokay\", \"london\", \"london\", \"london\", \"london\", \"london\", \"london\", \"london\", \"london\", \"london\", \"london\", \"london\", \"london\", \"london\", \"london\", \"lonely\", \"lonestar\", \"longest\", \"looking\", \"looking\", \"looking\", \"looking\", \"looking\", \"looking\", \"looking\", \"looking\", \"looking\", \"looking\", \"looking\", \"looking\", \"looking\", \"looking\", \"looking\", \"loqodentity\", \"loqos\", \"lotteria\", \"lottery\", \"lottery\", \"lottery\", \"lottery\", \"louisa\", \"louise\", \"louise\", \"louise\", \"louise\", \"louise\", \"louise\", \"louise\", \"louise\", \"louise\", \"louise\", \"louise\", \"louise\", \"louise\", \"louise\", \"louise\", \"louise\", \"louise\", \"louise\", \"louise\", \"louise\", \"louise\", \"louise\", \"louise\", \"louisiana\", \"louisiana\", \"lovely\", \"lover\", \"lowell\", \"lowest\", \"lowest\", \"lowest\", \"lowest\", \"lowest\", \"lowest\", \"lowest\", \"lpplng\", \"lucky\", \"lucky\", \"lucky\", \"lucky\", \"lucky\", \"lunch\", \"lunch\", \"lunch\", \"lunch\", \"lunch\", \"lunch\", \"luther\", \"lydia\", \"lyondell\", \"macrmedia\", \"macromedia\", \"macromedia\", \"macromedia\", \"macromedia\", \"macromedia\", \"magee\", \"magee\", \"magnum\", \"mailer\", \"mailer\", \"mailer\", \"mailer\", \"mailin\", \"mailwisconsin\", \"mailwisconsin\", \"mailwisconsin\", \"mailwisconsin\", \"majesty\", \"majordomo\", \"majordomo\", \"majordomo\", \"makets\", \"management\", \"management\", \"management\", \"management\", \"management\", \"management\", \"management\", \"management\", \"management\", \"management\", \"management\", \"management\", \"management\", \"management\", \"management\", \"management\", \"management\", \"management\", \"management\", \"management\", \"management\", \"management\", \"manager\", \"manager\", \"manager\", \"manager\", \"manager\", \"manager\", \"manager\", \"manager\", \"manager\", \"manager\", \"manager\", \"manager\", \"manager\", \"manager\", \"manager\", \"manager\", \"manpower\", \"mansoor\", \"manual\", \"manual\", \"manual\", \"manus\", \"mapping\", \"mapping\", \"maquina\", \"marathon\", \"marcas\", \"marcello\", \"march\", \"march\", \"march\", \"march\", \"march\", \"march\", \"march\", \"march\", \"march\", \"march\", \"march\", \"marcus\", \"marcus\", \"marie\", \"marie\", \"marie\", \"mariner\", \"mariner\", \"mariner\", \"mario\", \"market\", \"market\", \"market\", \"market\", \"market\", \"market\", \"market\", \"market\", \"market\", \"market\", \"market\", \"market\", \"market\", \"market\", \"market\", \"market\", \"market\", \"market\", \"market\", \"market\", \"market\", \"market\", \"market\", \"marketing\", \"marketing\", \"marketing\", \"marketing\", \"marketing\", \"marketing\", \"marketing\", \"marketing\", \"marketing\", \"marketing\", \"marketing\", \"marketing\", \"marketing\", \"marketinq\", \"marketpoint\", \"marlene\", \"marriage\", \"marriage\", \"martin\", \"martin\", \"martin\", \"martin\", \"martin\", \"martin\", \"martin\", \"martina\", \"martinj\", \"mason\", \"mason\", \"massege\", \"masson\", \"masson\", \"masson\", \"masson\", \"master\", \"master\", \"master\", \"master\", \"master\", \"master\", \"master\", \"master\", \"master\", \"materia\", \"materia\", \"material\", \"material\", \"material\", \"material\", \"material\", \"material\", \"material\", \"material\", \"material\", \"matrix\", \"matrix\", \"mature\", \"maureen\", \"maureen\", \"maureen\", \"mazowita\", \"mccauley\", \"mccormack\", \"mccoy\", \"mccoy\", \"mcfarland\", \"mcfarland\", \"mcloughlin\", \"mcloughlin\", \"mcmills\", \"meaning\", \"meaning\", \"meaning\", \"meaning\", \"medication\", \"medication\", \"medication\", \"medication\", \"medication\", \"medication\", \"medication\", \"medication\", \"medicnes\", \"medlcatlons\", \"medssno\", \"meeting\", \"meeting\", \"meeting\", \"meeting\", \"meeting\", \"meeting\", \"meeting\", \"meeting\", \"meeting\", \"meeting\", \"meeting\", \"meeting\", \"meeting\", \"meeting\", \"meeting\", \"meeting\", \"meeting\", \"meeting\", \"meeting\", \"meeting\", \"meeting\", \"meeting\", \"meeting\", \"meeting\", \"megan\", \"megan\", \"megan\", \"megan\", \"meghan\", \"melinda\", \"melinda\", \"melissa\", \"melissa\", \"melissa\", \"melissa\", \"mellacheruvu\", \"mellencamp\", \"melodick\", \"melodick\", \"memory\", \"memory\", \"memory\", \"memory\", \"mensagem\", \"mental\", \"merchandise\", \"merchant\", \"merchant\", \"merchant\", \"merchant\", \"merchant\", \"merchant\", \"merchant\", \"merchant\", \"mercier\", \"meredith\", \"meredith\", \"meridia\", \"meritocracy\", \"message\", \"message\", \"message\", \"message\", \"message\", \"message\", \"message\", \"message\", \"message\", \"message\", \"message\", \"message\", \"message\", \"message\", \"message\", \"message\", \"message\", \"message\", \"message\", \"message\", \"message\", \"message\", \"message\", \"message\", \"message\", \"message\", \"message\", \"message\", \"message\", \"messaging\", \"messaging\", \"messaging\", \"metabolic\", \"metal\", \"metal\", \"metal\", \"metal\", \"metal\", \"metal\", \"metal\", \"metal\", \"meter\", \"meter\", \"meter\", \"meter\", \"meter\", \"meter\", \"meter\", \"meter\", \"meter\", \"meter\", \"methanol\", \"method\", \"method\", \"method\", \"method\", \"method\", \"method\", \"method\", \"meyer\", \"meyers\", \"meyers\", \"meyers\", \"miami\", \"michelle\", \"michelle\", \"michelle\", \"michelle\", \"michelle\", \"michelle\", \"michelle\", \"michelle\", \"mickey\", \"microsoft\", \"microsoft\", \"microsoft\", \"microsoft\", \"microsoft\", \"microsoft\", \"microsoft\", \"microsoft\", \"microsoft\", \"microsoft\", \"microsoft\", \"microsoft\", \"midcon\", \"midcon\", \"miiiion\", \"miiiion\", \"miiiion\", \"miilennium\", \"milbank\", \"miliions\", \"miliions\", \"millennium\", \"millennium\", \"miller\", \"miller\", \"miller\", \"miller\", \"miller\", \"miller\", \"miller\", \"million\", \"million\", \"million\", \"million\", \"million\", \"million\", \"million\", \"million\", \"million\", \"million\", \"million\", \"million\", \"million\", \"million\", \"million\", \"million\", \"million\", \"million\", \"million\", \"milnthorp\", \"milnthorp\", \"milnthorp\", \"minimal\", \"minimal\", \"minute\", \"minute\", \"minute\", \"minute\", \"minute\", \"minute\", \"minute\", \"minute\", \"minute\", \"minute\", \"minute\", \"minute\", \"minute\", \"minute\", \"minute\", \"minute\", \"minute\", \"misappropriate\", \"missed\", \"missed\", \"missing\", \"missing\", \"missing\", \"missing\", \"missing\", \"misti\", \"misunderstand\", \"misunderstanding\", \"mmbtu\", \"mmbtu\", \"mmbtu\", \"mmbtu\", \"mmbtu\", \"mmbtu\", \"mmbtu\", \"mmbtu\", \"mmbtu\", \"mmbtus\", \"mobil\", \"mobile\", \"mobile\", \"mobile\", \"mobile\", \"mobile\", \"mobile\", \"mobile\", \"mobile\", \"mobile\", \"mobile\", \"mobile\", \"mobile\", \"mobile\", \"mobile\", \"model\", \"model\", \"model\", \"model\", \"model\", \"model\", \"model\", \"model\", \"model\", \"model\", \"model\", \"model\", \"model\", \"model\", \"model\", \"model\", \"model\", \"moderate\", \"modos\", \"modular\", \"mohammed\", \"mojave\", \"molecule\", \"molly\", \"molly\", \"molly\", \"molly\", \"molly\", \"monday\", \"monday\", \"monday\", \"monday\", \"monday\", \"monday\", \"monday\", \"monday\", \"monday\", \"monday\", \"monday\", \"monday\", \"monday\", \"monday\", \"monday\", \"monday\", \"monday\", \"monday\", \"monday\", \"monetary\", \"money\", \"money\", \"money\", \"money\", \"money\", \"money\", \"money\", \"money\", \"money\", \"money\", \"money\", \"money\", \"money\", \"money\", \"money\", \"money\", \"money\", \"money\", \"money\", \"money\", \"money\", \"money\", \"money\", \"money\", \"moneyback\", \"monica\", \"monica\", \"monica\", \"monica\", \"montford\", \"month\", \"month\", \"month\", \"month\", \"month\", \"month\", \"month\", \"month\", \"month\", \"month\", \"month\", \"month\", \"month\", \"month\", \"month\", \"month\", \"month\", \"month\", \"month\", \"month\", \"month\", \"month\", \"monthly\", \"monthly\", \"monthly\", \"monthly\", \"monthly\", \"monthly\", \"monthly\", \"monthly\", \"monthly\", \"monthly\", \"monthly\", \"monthly\", \"monthly\", \"moore\", \"moore\", \"moore\", \"moore\", \"moore\", \"moorer\", \"morning\", \"morning\", \"morning\", \"morning\", \"morning\", \"morning\", \"morning\", \"morning\", \"morning\", \"morning\", \"morning\", \"morning\", \"morning\", \"morning\", \"morning\", \"morrell\", \"mortgage\", \"mortgage\", \"mortgage\", \"mortgage\", \"mortgage\", \"mortgage\", \"mortgage\", \"mortgage\", \"mortgagefkzqeljhyno\", \"mother\", \"mother\", \"mother\", \"mother\", \"motioned\", \"mountain\", \"mountain\", \"mountain\", \"mounting\", \"moussa\", \"movado\", \"movie\", \"movie\", \"movie\", \"movie\", \"movie\", \"movie\", \"mugabe\", \"muller\", \"muller\", \"muller\", \"multitude\", \"mundo\", \"municipal\", \"murdered\", \"mutually\", \"mxarray\", \"mxico\", \"myopia\", \"nahou\", \"nahou\", \"named\", \"named\", \"named\", \"named\", \"named\", \"naomi\", \"nasty\", \"native\", \"native\", \"naveen\", \"naveen\", \"naveen\", \"neale\", \"needed\", \"needed\", \"needed\", \"needed\", \"needed\", \"needed\", \"needed\", \"needed\", \"needed\", \"needed\", \"needed\", \"needed\", \"needsand\", \"nelson\", \"nelson\", \"nelson\", \"nelson\", \"nelson\", \"nelson\", \"nepco\", \"nepool\", \"nesanet\", \"netco\", \"netco\", \"netco\", \"netco\", \"netco\", \"netco\", \"netcoonline\", \"netcoonline\", \"netting\", \"netting\", \"neuro\", \"newco\", \"newco\", \"newco\", \"newest\", \"newest\", \"newest\", \"newest\", \"newsletter\", \"newsletter\", \"newsletter\", \"newsletter\", \"newsletter\", \"newsletter\", \"newsletter\", \"newsletter\", \"newsletter\", \"nicholas\", \"nicki\", \"nkiys\", \"nline\", \"nneeds\", \"noise\", \"nomad\", \"nomad\", \"nominate\", \"nominates\", \"nomination\", \"nomination\", \"nomination\", \"nomination\", \"nomination\", \"nommensen\", \"nommensen\", \"norden\", \"normal\", \"normal\", \"normal\", \"normal\", \"normal\", \"normal\", \"normal\", \"normal\", \"normal\", \"normal\", \"norton\", \"norton\", \"norton\", \"norton\", \"norton\", \"norton\", \"notebook\", \"notice\", \"notice\", \"notice\", \"notice\", \"notice\", \"notice\", \"notice\", \"notice\", \"notice\", \"notice\", \"notice\", \"notice\", \"notice\", \"notification\", \"notification\", \"notification\", \"notification\", \"notification\", \"notification\", \"notification\", \"notification\", \"notification\", \"notification\", \"notification\", \"notifying\", \"november\", \"november\", \"november\", \"november\", \"november\", \"november\", \"november\", \"november\", \"november\", \"november\", \"november\", \"november\", \"november\", \"november\", \"november\", \"nuclear\", \"nuclear\", \"number\", \"number\", \"number\", \"number\", \"number\", \"number\", \"number\", \"number\", \"number\", \"number\", \"number\", \"number\", \"number\", \"number\", \"number\", \"number\", \"number\", \"number\", \"number\", \"number\", \"number\", \"number\", \"number\", \"number\", \"number\", \"number\", \"number\", \"nymex\", \"nymex\", \"nymex\", \"nymex\", \"oasis\", \"oasis\", \"oberg\", \"obese\", \"objective\", \"objective\", \"objective\", \"objective\", \"objective\", \"objectivity\", \"occasion\", \"occurs\", \"october\", \"october\", \"october\", \"october\", \"october\", \"october\", \"october\", \"october\", \"october\", \"october\", \"october\", \"october\", \"october\", \"offer\", \"offer\", \"offer\", \"offer\", \"offer\", \"offer\", \"offer\", \"offer\", \"offer\", \"offer\", \"offer\", \"offer\", \"offer\", \"offer\", \"offer\", \"offer\", \"offer\", \"offer\", \"offer\", \"offer\", \"offer\", \"offer\", \"offer\", \"offer\", \"office\", \"office\", \"office\", \"office\", \"office\", \"office\", \"office\", \"office\", \"office\", \"office\", \"office\", \"office\", \"office\", \"office\", \"office\", \"office\", \"office\", \"office\", \"office\", \"office\", \"office\", \"office\", \"office\", \"office\", \"office\", \"office\", \"offsystem\", \"offsystem\", \"omega\", \"omega\", \"omission\", \"oneok\", \"oneself\", \"oniine\", \"oniine\", \"oniine\", \"oniine\", \"online\", \"online\", \"online\", \"online\", \"online\", \"online\", \"online\", \"online\", \"online\", \"online\", \"online\", \"online\", \"online\", \"online\", \"online\", \"online\", \"online\", \"online\", \"online\", \"online\", \"online\", \"ooking\", \"ooking\", \"ooking\", \"operation\", \"operation\", \"operation\", \"operation\", \"operation\", \"operation\", \"operation\", \"operation\", \"operation\", \"oportunidad\", \"oportunidadhbl\", \"optimization\", \"optimization\", \"optimization\", \"option\", \"option\", \"option\", \"option\", \"option\", \"option\", \"option\", \"option\", \"option\", \"option\", \"option\", \"option\", \"option\", \"option\", \"option\", \"option\", \"option\", \"option\", \"option\", \"oquinn\", \"order\", \"order\", \"order\", \"order\", \"order\", \"order\", \"order\", \"order\", \"order\", \"order\", \"order\", \"order\", \"order\", \"order\", \"order\", \"order\", \"order\", \"order\", \"order\", \"order\", \"order\", \"order\", \"order\", \"oregon\", \"oregon\", \"organising\", \"orgasm\", \"orgasm\", \"original\", \"original\", \"original\", \"original\", \"original\", \"original\", \"original\", \"original\", \"original\", \"original\", \"original\", \"original\", \"original\", \"original\", \"original\", \"original\", \"original\", \"original\", \"original\", \"original\", \"original\", \"original\", \"original\", \"original\", \"origination\", \"origination\", \"origination\", \"origination\", \"origination\", \"origination\", \"originator\", \"orlando\", \"orlando\", \"others\", \"others\", \"others\", \"others\", \"others\", \"others\", \"others\", \"others\", \"others\", \"others\", \"others\", \"others\", \"outage\", \"outing\", \"outlook\", \"outlook\", \"outlook\", \"outlook\", \"outlook\", \"outlook\", \"outlook\", \"outspoken\", \"overtime\", \"ownership\", \"ownership\", \"ownership\", \"ownership\", \"ownership\", \"ownership\", \"oxonian\", \"package\", \"package\", \"package\", \"package\", \"package\", \"package\", \"package\", \"package\", \"package\", \"package\", \"packaging\", \"packaging\", \"pagemaker\", \"pagemaker\", \"painful\", \"painter\", \"paleologo\", \"palestine\", \"palestinian\", \"palestinian\", \"palestinian\", \"paliourg\", \"paliourg\", \"palmer\", \"palmer\", \"palmer\", \"palmer\", \"palmer\", \"palmer\", \"panda\", \"panelist\", \"panenergy\", \"panerai\", \"papayoti\", \"paribas\", \"paribas\", \"paribas\", \"parker\", \"parking\", \"parking\", \"parking\", \"parking\", \"parquet\", \"parquet\", \"parson\", \"parson\", \"parson\", \"participant\", \"participant\", \"participant\", \"participant\", \"participant\", \"participant\", \"participant\", \"partied\", \"password\", \"password\", \"password\", \"password\", \"password\", \"password\", \"password\", \"password\", \"password\", \"password\", \"paste\", \"paste\", \"paste\", \"paste\", \"pastoral\", \"pastoria\", \"pastoria\", \"patch\", \"patch\", \"patek\", \"patented\", \"pathed\", \"pathing\", \"pathing\", \"pathway\", \"patience\", \"patience\", \"patient\", \"patient\", \"patricia\", \"patricia\", \"patrick\", \"patrick\", \"patrick\", \"patrick\", \"patrick\", \"patsy\", \"pattern\", \"paulo\", \"paulo\", \"paulo\", \"paulo\", \"pavel\", \"paxil\", \"payment\", \"payment\", \"payment\", \"payment\", \"payment\", \"payment\", \"payment\", \"payment\", \"payment\", \"payment\", \"payment\", \"payment\", \"payment\", \"payment\", \"payment\", \"payment\", \"payment\", \"payment\", \"payment\", \"payment\", \"paymentshome\", \"paypal\", \"paypal\", \"payroll\", \"payroll\", \"payroll\", \"payton\", \"pecorp\", \"penetration\", \"penis\", \"penis\", \"penis\", \"people\", \"people\", \"people\", \"people\", \"people\", \"people\", \"people\", \"people\", \"people\", \"people\", \"people\", \"people\", \"people\", \"people\", \"people\", \"people\", \"people\", \"people\", \"people\", \"people\", \"people\", \"people\", \"people\", \"pepper\", \"perfect\", \"perfect\", \"perfect\", \"perfect\", \"perfect\", \"perfect\", \"perfect\", \"perfect\", \"perfect\", \"perfectly\", \"perfectly\", \"perfmgmt\", \"perfmgmt\", \"performance\", \"performance\", \"performance\", \"performance\", \"performance\", \"performance\", \"performance\", \"performance\", \"performance\", \"performance\", \"performance\", \"performance\", \"perpetrator\", \"personable\", \"pesquisa\", \"petrie\", \"petrie\", \"petroieum\", \"petroleum\", \"petroleum\", \"petroleum\", \"petroleum\", \"petronas\", \"petronas\", \"pharm\", \"pharmaceutica\", \"pharmaceutical\", \"pharmaceutical\", \"pharmaceutical\", \"pharmaceutical\", \"pharmaceutical\", \"pharmaceutical\", \"pharmacist\", \"pharmacy\", \"pharmacy\", \"phase\", \"phase\", \"phase\", \"phase\", \"phase\", \"phase\", \"phase\", \"pheromone\", \"philippe\", \"philippe\", \"philippe\", \"philippe\", \"phillips\", \"phillips\", \"phone\", \"phone\", \"phone\", \"phone\", \"phone\", \"phone\", \"phone\", \"phone\", \"phone\", \"phone\", \"phone\", \"phone\", \"phone\", \"phone\", \"phone\", \"phone\", \"phone\", \"phone\", \"phone\", \"phone\", \"phone\", \"phone\", \"phone\", \"phone\", \"phone\", \"phone\", \"phone\", \"photo\", \"photo\", \"photo\", \"photo\", \"photo\", \"photo\", \"photo\", \"photoshop\", \"photoshop\", \"photoshop\", \"photoshop\", \"photoshop\", \"physic\", \"piazzet\", \"pierre\", \"piguet\", \"pilis\", \"pinnacle\", \"pinnacle\", \"pittman\", \"pixel\", \"placement\", \"planned\", \"planned\", \"planned\", \"planned\", \"planned\", \"planned\", \"plant\", \"plant\", \"plant\", \"plant\", \"plant\", \"plant\", \"plant\", \"plant\", \"plant\", \"plant\", \"plant\", \"plant\", \"plant\", \"planted\", \"platinum\", \"platinum\", \"platinum\", \"please\", \"please\", \"please\", \"please\", \"please\", \"please\", \"please\", \"please\", \"please\", \"please\", \"please\", \"please\", \"please\", \"please\", \"please\", \"please\", \"please\", \"please\", \"please\", \"please\", \"please\", \"please\", \"please\", \"please\", \"please\", \"please\", \"please\", \"please\", \"please\", \"please\", \"please\", \"please\", \"please\", \"please\", \"please\", \"please\", \"please\", \"please\", \"pleus\", \"pleus\", \"pllls\", \"poder\", \"polariton\", \"policy\", \"policy\", \"policy\", \"policy\", \"policy\", \"policy\", \"policy\", \"policy\", \"policy\", \"policy\", \"politics\", \"politics\", \"ponton\", \"pooling\", \"pooling\", \"popular\", \"popular\", \"popular\", \"popular\", \"popular\", \"popular\", \"popular\", \"popular\", \"popular\", \"popular\", \"popular\", \"popular\", \"pornostars\", \"pornstars\", \"porter\", \"portfolio\", \"portfolio\", \"portfolio\", \"portfolio\", \"portfolio\", \"portfolio\", \"portfolio\", \"portfolio\", \"portfolio\", \"portfolio\", \"portugal\", \"portz\", \"postage\", \"postcard\", \"postfix\", \"poston\", \"power\", \"power\", \"power\", \"power\", \"power\", \"power\", \"power\", \"power\", \"power\", \"power\", \"power\", \"power\", \"power\", \"power\", \"power\", \"power\", \"power\", \"power\", \"power\", \"power\", \"power\", \"power\", \"power\", \"power\", \"power\", \"powerfui\", \"powerful\", \"powerful\", \"powerful\", \"powerful\", \"powerful\", \"powerful\", \"powerful\", \"powerful\", \"powerisk\", \"powerquest\", \"pppwd\", \"pppwe\", \"pppwel\", \"practicable\", \"praveen\", \"prayer\", \"prayer\", \"prayer\", \"preceding\", \"preceding\", \"precious\", \"precious\", \"preconditioned\", \"premature\", \"premiere\", \"prepay\", \"presc\", \"prescri\", \"prescriptdrugs\", \"prescription\", \"prescription\", \"prescription\", \"prescription\", \"prescription\", \"prescription\", \"prescription\", \"prescription\", \"prescription\", \"prescription\", \"prescription\", \"prescrlption\", \"presentaci\\u00f3n\", \"presentation\", \"presentation\", \"presentation\", \"presentation\", \"presentation\", \"presentation\", \"presentation\", \"presentation\", \"presentation\", \"presentation\", \"presentation\", \"presentation\", \"presentation\", \"presentation\", \"presentation\", \"pressuring\", \"presto\", \"presto\", \"price\", \"price\", \"price\", \"price\", \"price\", \"price\", \"price\", \"price\", \"price\", \"price\", \"price\", \"price\", \"price\", \"price\", \"price\", \"price\", \"price\", \"price\", \"price\", \"price\", \"price\", \"price\", \"price\", \"price\", \"price\", \"price\", \"price\", \"price\", \"price\", \"price\", \"pricing\", \"pricing\", \"pricing\", \"pricing\", \"pricing\", \"pricing\", \"pricing\", \"pricing\", \"pricing\", \"pricing\", \"pricing\", \"pricked\", \"primary\", \"primary\", \"primary\", \"primary\", \"primary\", \"printing\", \"printing\", \"printing\", \"privacy\", \"privacy\", \"privacy\", \"privacy\", \"privacy\", \"prize\", \"prize\", \"prize\", \"prize\", \"prlce\", \"prlces\", \"prlces\", \"prlces\", \"probability\", \"probability\", \"producer\", \"producer\", \"producer\", \"producer\", \"producer\", \"producer\", \"producer\", \"producer\", \"product\", \"product\", \"product\", \"product\", \"product\", \"product\", \"product\", \"product\", \"product\", \"product\", \"product\", \"product\", \"product\", \"product\", \"product\", \"product\", \"product\", \"product\", \"product\", \"product\", \"product\", \"product\", \"product\", \"production\", \"production\", \"production\", \"production\", \"production\", \"production\", \"production\", \"production\", \"production\", \"production\", \"production\", \"production\", \"production\", \"production\", \"production\", \"production\", \"productivity\", \"professionai\", \"professional\", \"professional\", \"professional\", \"professional\", \"professional\", \"professional\", \"professional\", \"professional\", \"professional\", \"professional\", \"professional\", \"professional\", \"professional\", \"professional\", \"professional\", \"professional\", \"professional\", \"professional\", \"professional\", \"professional\", \"proffessional\", \"proficient\", \"profiling\", \"program\", \"program\", \"program\", \"program\", \"program\", \"program\", \"program\", \"program\", \"program\", \"program\", \"program\", \"program\", \"program\", \"program\", \"program\", \"program\", \"program\", \"program\", \"program\", \"program\", \"program\", \"programming\", \"programming\", \"programming\", \"project\", \"project\", \"project\", \"project\", \"project\", \"project\", \"project\", \"project\", \"project\", \"project\", \"project\", \"project\", \"project\", \"project\", \"project\", \"project\", \"project\", \"project\", \"project\", \"project\", \"projected\", \"projected\", \"projected\", \"projecthoneypot\", \"projecthoneypot\", \"projecthoneypot\", \"projecthoneypot\", \"projecthoneypot\", \"projecthoneypot\", \"projection\", \"projection\", \"promise\", \"promise\", \"promise\", \"promise\", \"promotion\", \"promotion\", \"promotion\", \"promotion\", \"promotion\", \"promotion\", \"promotion\", \"promotion\", \"promotion\", \"promotion\", \"promotion\", \"promotional\", \"promotional\", \"promotional\", \"promotional\", \"promotional\", \"promotional\", \"promptness\", \"pronghorn\", \"propecia\", \"prosecuted\", \"prospectus\", \"prospectus\", \"prosperous\", \"protea\", \"protect\", \"protect\", \"protect\", \"protect\", \"protect\", \"protect\", \"protect\", \"protect\", \"protects\", \"prudency\", \"prudency\", \"pserc\", \"psychological\", \"ption\", \"pubiisher\", \"publisher\", \"puntual\", \"purged\", \"puthigai\", \"qerman\", \"qmail\", \"qmail\", \"qmail\", \"quadro\", \"qualifies\", \"qualify\", \"qualify\", \"quality\", \"quality\", \"quality\", \"quality\", \"quality\", \"quality\", \"quality\", \"quality\", \"quality\", \"quality\", \"quality\", \"quality\", \"quality\", \"quality\", \"quality\", \"quality\", \"quality\", \"quantitative\", \"quantitative\", \"quantitative\", \"quantitative\", \"quaranteed\", \"quark\", \"quark\", \"quarter\", \"quarter\", \"quarter\", \"quarter\", \"quarter\", \"quarter\", \"quarter\", \"quarter\", \"quarter\", \"quarter\", \"quarter\", \"quentin\", \"quest\", \"question\", \"question\", \"question\", \"question\", \"question\", \"question\", \"question\", \"question\", \"question\", \"question\", \"question\", \"question\", \"question\", \"question\", \"question\", \"question\", \"question\", \"question\", \"question\", \"question\", \"question\", \"question\", \"question\", \"question\", \"question\", \"question\", \"question\", \"question\", \"questionaire\", \"questioning\", \"questioning\", \"questionnaire\", \"questionnaire\", \"questionnaire\", \"quick\", \"quick\", \"quick\", \"quick\", \"quick\", \"quick\", \"quick\", \"quick\", \"quick\", \"quick\", \"quick\", \"quick\", \"rabbit\", \"radisson\", \"rahil\", \"rahil\", \"rahil\", \"rainbow\", \"ramona\", \"ranch\", \"rankin\", \"rankin\", \"rather\", \"rather\", \"rather\", \"rather\", \"rather\", \"rather\", \"rather\", \"rawhide\", \"raymond\", \"raymond\", \"raymond\", \"raymond\", \"ready\", \"ready\", \"ready\", \"ready\", \"ready\", \"ready\", \"ready\", \"ready\", \"ready\", \"ready\", \"realarcade\", \"realise\", \"realnetworks\", \"realtor\", \"receivables\", \"received\", \"received\", \"received\", \"received\", \"received\", \"received\", \"received\", \"received\", \"received\", \"received\", \"received\", \"received\", \"receiving\", \"receiving\", \"receiving\", \"receiving\", \"receiving\", \"receiving\", \"receiving\", \"receiving\", \"receiving\", \"receiving\", \"receiving\", \"receiving\", \"receiving\", \"receiving\", \"recipient\", \"recipient\", \"recipient\", \"recipient\", \"recipient\", \"recipient\", \"recipient\", \"recipient\", \"recipient\", \"recollect\", \"recommending\", \"reconciling\", \"record\", \"record\", \"record\", \"record\", \"record\", \"record\", \"record\", \"recorded\", \"recordson\", \"recoup\", \"recreate\", \"recruiting\", \"recruiting\", \"recruiting\", \"recruiting\", \"recruiting\", \"recruiting\", \"redeliveries\", \"redhat\", \"rediff\", \"referendum\", \"refers\", \"refinance\", \"refinance\", \"refinance\", \"refinancing\", \"refinancingoreduce\", \"refined\", \"reflected\", \"refuge\", \"regalis\", \"regard\", \"regard\", \"regard\", \"regard\", \"regard\", \"regard\", \"regard\", \"regard\", \"regard\", \"regard\", \"regard\", \"regard\", \"regard\", \"regard\", \"regard\", \"regard\", \"regard\", \"regard\", \"regard\", \"regard\", \"regard\", \"regard\", \"regard\", \"regent\", \"register\", \"register\", \"register\", \"register\", \"register\", \"registradas\", \"registration\", \"registration\", \"registration\", \"registration\", \"registration\", \"registration\", \"regulates\", \"reieased\", \"reimbursed\", \"reinhardt\", \"reiterate\", \"reject\", \"reject\", \"reject\", \"rejuvenates\", \"relaxation\", \"release\", \"release\", \"release\", \"release\", \"release\", \"release\", \"release\", \"release\", \"release\", \"release\", \"release\", \"release\", \"relenting\", \"reliantenergy\", \"relied\", \"relied\", \"relocation\", \"remediation\", \"remedy\", \"remedy\", \"remedy\", \"remembered\", \"remind\", \"reminder\", \"reminder\", \"remitted\", \"remitted\", \"remote\", \"remote\", \"remote\", \"remote\", \"remote\", \"removal\", \"removal\", \"removal\", \"removal\", \"remove\", \"remove\", \"remove\", \"remove\", \"remove\", \"remove\", \"remove\", \"remove\", \"remove\", \"remover\", \"removido\", \"renegotiated\", \"renew\", \"renewal\", \"renewal\", \"renewal\", \"rental\", \"rental\", \"rental\", \"replace\", \"replace\", \"replace\", \"replica\", \"replica\", \"replica\", \"replicate\", \"reply\", \"reply\", \"reply\", \"reply\", \"reply\", \"reply\", \"reply\", \"reply\", \"reply\", \"reply\", \"reply\", \"reply\", \"reply\", \"reply\", \"reply\", \"reply\", \"report\", \"report\", \"report\", \"report\", \"report\", \"report\", \"report\", \"report\", \"report\", \"report\", \"report\", \"report\", \"report\", \"report\", \"report\", \"report\", \"report\", \"report\", \"report\", \"report\", \"report\", \"report\", \"report\", \"report\", \"republican\", \"reqards\", \"reqards\", \"reqiured\", \"request\", \"request\", \"request\", \"request\", \"request\", \"request\", \"request\", \"request\", \"request\", \"request\", \"request\", \"request\", \"request\", \"request\", \"request\", \"request\", \"request\", \"request\", \"request\", \"requirement\", \"requirement\", \"requirement\", \"requirement\", \"requirement\", \"requirement\", \"requirement\", \"reschedule\", \"rescheduled\", \"research\", \"research\", \"research\", \"research\", \"research\", \"research\", \"research\", \"research\", \"research\", \"research\", \"research\", \"research\", \"research\", \"research\", \"research\", \"research\", \"research\", \"research\", \"research\", \"resellers\", \"resend\", \"reset\", \"resist\", \"restaurant\", \"restaurant\", \"rested\", \"restraining\", \"restraining\", \"result\", \"result\", \"result\", \"result\", \"result\", \"result\", \"result\", \"result\", \"result\", \"result\", \"result\", \"result\", \"result\", \"result\", \"result\", \"result\", \"result\", \"result\", \"result\", \"result\", \"resume\", \"resume\", \"resume\", \"resume\", \"resume\", \"resume\", \"resume\", \"resume\", \"resume\", \"resume\", \"resume\", \"resume\", \"resumed\", \"retention\", \"retention\", \"retention\", \"reuters\", \"reuters\", \"reuters\", \"reuters\", \"revamping\", \"review\", \"review\", \"review\", \"review\", \"review\", \"review\", \"review\", \"review\", \"review\", \"review\", \"review\", \"review\", \"review\", \"review\", \"review\", \"review\", \"review\", \"review\", \"reviewer\", \"reviewer\", \"reviewer\", \"reviewer\", \"revised\", \"revised\", \"revised\", \"revised\", \"revised\", \"revised\", \"revised\", \"revised\", \"revision\", \"revision\", \"revision\", \"reworking\", \"rewrite\", \"rhythm\", \"rhythm\", \"rhythm\", \"rickards\", \"ricky\", \"right\", \"right\", \"right\", \"right\", \"right\", \"right\", \"right\", \"right\", \"right\", \"right\", \"right\", \"right\", \"right\", \"right\", \"right\", \"right\", \"right\", \"right\", \"right\", \"right\", \"right\", \"right\", \"riqht\", \"riqht\", \"riqht\", \"risckrac\", \"risktrac\", \"rival\", \"rival\", \"river\", \"river\", \"river\", \"river\", \"riverdeep\", \"roadside\", \"robert\", \"robert\", \"robert\", \"robert\", \"robert\", \"robert\", \"robert\", \"robert\", \"robert\", \"robert\", \"robert\", \"robert\", \"robert\", \"robert\", \"robhatah\", \"robin\", \"robot\", \"robotic\", \"robotics\", \"robyn\", \"rockies\", \"rodeo\", \"rodney\", \"rodney\", \"rogers\", \"rolamento\", \"rolete\", \"rolex\", \"rolex\", \"rolex\", \"rolex\", \"rolex\", \"roller\", \"romano\", \"romeo\", \"rosalee\", \"rosenfield\", \"rotation\", \"rotation\", \"rough\", \"roxio\", \"runing\", \"rusty\", \"saave\", \"sabbatical\", \"sabra\", \"sabrae\", \"safari\", \"sager\", \"sager\", \"saguaro\", \"salad\", \"salary\", \"salary\", \"salary\", \"salary\", \"samer\", \"samer\", \"sampies\", \"sample\", \"sample\", \"sample\", \"sample\", \"sample\", \"sample\", \"sample\", \"sample\", \"samson\", \"sandeep\", \"sandeep\", \"sandeep\", \"sandeep\", \"sandeep\", \"sandi\", \"sandoval\", \"sansom\", \"sashok\", \"satisfaction\", \"satisfaction\", \"satisfaction\", \"satisfaction\", \"satisfaction\", \"satisfaction\", \"satisfaction\", \"satisfaction\", \"satisfying\", \"saturday\", \"saturday\", \"saturday\", \"saturday\", \"saturday\", \"saturday\", \"saturday\", \"saturday\", \"saving\", \"saving\", \"saving\", \"saving\", \"saving\", \"saving\", \"saving\", \"saving\", \"saving\", \"saving\", \"saving\", \"saving\", \"savita\", \"scene\", \"scene\", \"scene\", \"sched\", \"scheduling\", \"scheduling\", \"scheduling\", \"schematic\", \"school\", \"school\", \"school\", \"school\", \"school\", \"school\", \"school\", \"school\", \"school\", \"school\", \"school\", \"school\", \"school\", \"schoppe\", \"schoppe\", \"schoppe\", \"scientific\", \"sclerotic\", \"score\", \"screen\", \"screen\", \"screen\", \"screen\", \"screen\", \"screen\", \"screen\", \"scribner\", \"scribner\", \"scription\", \"sculptor\", \"sculpture\", \"seaman\", \"search\", \"search\", \"search\", \"search\", \"search\", \"search\", \"search\", \"search\", \"search\", \"search\", \"search\", \"search\", \"season\", \"season\", \"season\", \"seasonal\", \"second\", \"second\", \"second\", \"second\", \"second\", \"second\", \"second\", \"second\", \"second\", \"second\", \"second\", \"second\", \"second\", \"second\", \"second\", \"second\", \"second\", \"secret\", \"secret\", \"secret\", \"secret\", \"secret\", \"secret\", \"secret\", \"secret\", \"secret\", \"section\", \"section\", \"section\", \"section\", \"section\", \"section\", \"section\", \"section\", \"section\", \"section\", \"section\", \"secure\", \"secure\", \"secure\", \"secure\", \"secure\", \"secure\", \"secure\", \"secure\", \"secure\", \"secure\", \"secure\", \"secure\", \"security\", \"security\", \"security\", \"security\", \"security\", \"security\", \"security\", \"security\", \"security\", \"security\", \"security\", \"security\", \"security\", \"security\", \"security\", \"security\", \"security\", \"security\", \"security\", \"security\", \"security\", \"seekercenter\", \"seksan\", \"seksan\", \"sender\", \"sender\", \"sender\", \"sender\", \"sender\", \"sender\", \"sender\", \"senior\", \"senior\", \"senior\", \"senior\", \"senior\", \"senior\", \"sensor\", \"sensor\", \"sergeev\", \"service\", \"service\", \"service\", \"service\", \"service\", \"service\", \"service\", \"service\", \"service\", \"service\", \"service\", \"service\", \"service\", \"service\", \"service\", \"service\", \"service\", \"service\", \"service\", \"service\", \"service\", \"service\", \"service\", \"service\", \"service\", \"service\", \"service\", \"service\", \"service\", \"service\", \"severai\", \"several\", \"several\", \"several\", \"several\", \"several\", \"several\", \"several\", \"several\", \"several\", \"sevil\", \"sevil\", \"shadow\", \"shadow\", \"shanbhogue\", \"shanbhogue\", \"shanbhogue\", \"shanbhogue\", \"share\", \"share\", \"share\", \"share\", \"share\", \"share\", \"share\", \"share\", \"share\", \"share\", \"share\", \"share\", \"share\", \"share\", \"share\", \"shareholder\", \"shareholder\", \"shareholder\", \"shareholder\", \"shawna\", \"sheer\", \"sheila\", \"sheila\", \"sheila\", \"sheila\", \"sheila\", \"sheila\", \"shiiip\", \"shiip\", \"shiip\", \"shiip\", \"shiip\", \"shipped\", \"shipped\", \"shipped\", \"shipped\", \"shippiing\", \"shipping\", \"shipping\", \"shipping\", \"shipping\", \"shipping\", \"shipping\", \"shipping\", \"shipping\", \"shipping\", \"shipping\", \"shipping\", \"shipping\", \"shirley\", \"shirley\", \"shirley\", \"shirley\", \"shirley\", \"shirley\", \"shirley\", \"shirley\", \"shirley\", \"shirley\", \"shirley\", \"shlpp\", \"shlpplng\", \"shlpplng\", \"shlpplng\", \"shona\", \"shona\", \"shona\", \"shona\", \"shona\", \"shona\", \"shona\", \"shopping\", \"shopping\", \"shopping\", \"shopping\", \"shopping\", \"shoreline\", \"shortcut\", \"shown\", \"shown\", \"shown\", \"shown\", \"showpiece\", \"shults\", \"shults\", \"sidebacks\", \"sidebacks\", \"sidebacks\", \"signature\", \"signature\", \"signature\", \"signature\", \"signature\", \"signin\", \"silence\", \"silent\", \"silicon\", \"simon\", \"simpliest\", \"simply\", \"simply\", \"simply\", \"simply\", \"simply\", \"simply\", \"simply\", \"simply\", \"simply\", \"simply\", \"simulating\", \"single\", \"single\", \"single\", \"single\", \"single\", \"single\", \"single\", \"singular\", \"sistas\", \"sitara\", \"sitara\", \"sitara\", \"sitara\", \"sitara\", \"sitara\", \"sitara\", \"sitara\", \"sitara\", \"sitara\", \"sitara\", \"siteguaaranteed\", \"sithe\", \"skilled\", \"sleeping\", \"sleeping\", \"sleeping\", \"sleeping\", \"sleeping\", \"slide\", \"slide\", \"slide\", \"slone\", \"slone\", \"slone\", \"slutty\", \"smart\", \"smart\", \"smart\", \"smart\", \"smith\", \"smith\", \"smith\", \"smith\", \"smith\", \"smith\", \"smith\", \"smith\", \"smith\", \"smith\", \"smith\", \"smoker\", \"smoothing\", \"smoothly\", \"smoothly\", \"snowshoe\", \"sobre\", \"sobre\", \"socal\", \"socal\", \"socal\", \"socal\", \"socal\", \"socalehr\", \"socaltop\", \"social\", \"social\", \"social\", \"social\", \"social\", \"softgoeshome\", \"softs\", \"softtabs\", \"software\", \"software\", \"software\", \"software\", \"software\", \"software\", \"software\", \"software\", \"software\", \"software\", \"software\", \"software\", \"software\", \"software\", \"software\", \"software\", \"software\", \"software\", \"software\", \"software\", \"software\", \"software\", \"software\", \"software\", \"software\", \"software\", \"software\", \"software\", \"sohne\", \"sokolov\", \"sometimes\", \"sometimes\", \"sometimes\", \"sometimes\", \"sonat\", \"soothe\", \"soothing\", \"sophie\", \"source\", \"source\", \"source\", \"source\", \"source\", \"source\", \"source\", \"source\", \"source\", \"source\", \"south\", \"south\", \"south\", \"south\", \"south\", \"south\", \"south\", \"south\", \"south\", \"south\", \"south\", \"south\", \"south\", \"southbound\", \"spanish\", \"spaoyou\", \"spear\", \"special\", \"special\", \"special\", \"special\", \"special\", \"special\", \"special\", \"special\", \"special\", \"special\", \"special\", \"special\", \"special\", \"special\", \"special\", \"special\", \"special\", \"specialist\", \"specialist\", \"specialist\", \"specialist\", \"specific\", \"specific\", \"specific\", \"specific\", \"specific\", \"specific\", \"specific\", \"specific\", \"specific\", \"specific\", \"specific\", \"speedy\", \"spends\", \"spent\", \"spent\", \"spent\", \"spent\", \"spent\", \"spent\", \"sperm\", \"sperm\", \"spite\", \"spradlin\", \"spradling\", \"spring\", \"spring\", \"spring\", \"spring\", \"spring\", \"spring\", \"spring\", \"spyware\", \"square\", \"square\", \"square\", \"squeeze\", \"squirrelmail\", \"squirrelmail\", \"squirrelmail\", \"squirrelmail\", \"sriram\", \"staffing\", \"staffing\", \"staked\", \"stance\", \"stand\", \"stand\", \"stand\", \"stand\", \"stand\", \"stand\", \"stand\", \"stand\", \"stanford\", \"stanford\", \"stanford\", \"stanford\", \"stanford\", \"stanford\", \"starr\", \"start\", \"start\", \"start\", \"start\", \"start\", \"start\", \"start\", \"start\", \"start\", \"start\", \"start\", \"start\", \"start\", \"state\", \"state\", \"state\", \"state\", \"state\", \"state\", \"state\", \"state\", \"state\", \"state\", \"state\", \"state\", \"state\", \"state\", \"state\", \"state\", \"state\", \"state\", \"state\", \"statement\", \"statement\", \"statement\", \"statement\", \"statement\", \"statement\", \"statement\", \"statement\", \"statement\", \"statement\", \"statement\", \"statement\", \"statement\", \"statement\", \"statement\", \"statement\", \"statement\", \"stationery\", \"stationery\", \"status\", \"status\", \"status\", \"status\", \"status\", \"status\", \"status\", \"status\", \"status\", \"status\", \"status\", \"status\", \"status\", \"status\", \"status\", \"status\", \"steel\", \"steel\", \"steel\", \"steve\", \"steve\", \"steve\", \"steve\", \"steve\", \"steve\", \"steve\", \"steve\", \"steve\", \"steve\", \"steve\", \"steve\", \"steve\", \"steve\", \"sticking\", \"stingray\", \"stinson\", \"stinson\", \"stinson\", \"stinson\", \"stinson\", \"stinson\", \"stinson\", \"stinson\", \"stinson\", \"stinson\", \"stock\", \"stock\", \"stock\", \"stock\", \"stock\", \"stock\", \"stock\", \"stock\", \"stock\", \"stock\", \"stock\", \"stock\", \"stock\", \"stock\", \"stock\", \"stock\", \"stock\", \"stock\", \"stock\", \"stock\", \"stock\", \"stomach\", \"stomach\", \"stone\", \"stone\", \"store\", \"store\", \"store\", \"store\", \"store\", \"store\", \"store\", \"store\", \"strictly\", \"strictly\", \"strictly\", \"strictly\", \"strictly\", \"strictly\", \"strictly\", \"strictly\", \"strike\", \"strike\", \"strike\", \"stronger\", \"stronger\", \"stronger\", \"stronger\", \"stronger\", \"struggle\", \"struggle\", \"stuart\", \"stuart\", \"stuart\", \"stuart\", \"stubbs\", \"stuck\", \"student\", \"student\", \"student\", \"student\", \"student\", \"student\", \"student\", \"studio\", \"studio\", \"studio\", \"studio\", \"studio\", \"study\", \"study\", \"study\", \"study\", \"study\", \"study\", \"study\", \"study\", \"study\", \"study\", \"stuffthatworkd\", \"suarez\", \"subject\", \"subject\", \"subject\", \"subject\", \"subject\", \"subject\", \"subject\", \"subject\", \"subject\", \"subject\", \"subject\", \"subject\", \"subject\", \"subject\", \"subject\", \"subject\", \"subject\", \"subject\", \"subject\", \"subject\", \"subject\", \"subject\", \"subject\", \"subject\", \"subject\", \"subject\", \"subject\", \"subject\", \"subject\", \"subject\", \"subject\", \"subject\", \"subject\", \"subjected\", \"submission\", \"submit\", \"submit\", \"submit\", \"submit\", \"submit\", \"submit\", \"submit\", \"submit\", \"submitting\", \"success\", \"success\", \"success\", \"success\", \"success\", \"success\", \"success\", \"success\", \"success\", \"success\", \"successfu\", \"successfull\", \"successfull\", \"suite\", \"suite\", \"suite\", \"suite\", \"suite\", \"suite\", \"suite\", \"suite\", \"sulfur\", \"summary\", \"summary\", \"summary\", \"summary\", \"summary\", \"summary\", \"summary\", \"summer\", \"summer\", \"summer\", \"summer\", \"summer\", \"summer\", \"summer\", \"summer\", \"summer\", \"sunday\", \"sunday\", \"sunday\", \"sunday\", \"sunday\", \"sunday\", \"supatgiat\", \"super\", \"super\", \"super\", \"super\", \"super\", \"super\", \"super\", \"supply\", \"supply\", \"supply\", \"supply\", \"supply\", \"supply\", \"supply\", \"supply\", \"supply\", \"supply\", \"supply\", \"supply\", \"supply\", \"supply\", \"supply\", \"support\", \"support\", \"support\", \"support\", \"support\", \"support\", \"support\", \"support\", \"support\", \"support\", \"support\", \"support\", \"support\", \"support\", \"support\", \"support\", \"support\", \"supposed\", \"supposed\", \"supposed\", \"suppresses\", \"surech\", \"surethat\", \"surprisingly\", \"surveillance\", \"survey\", \"survey\", \"survey\", \"survey\", \"survey\", \"survey\", \"survey\", \"survey\", \"survey\", \"susan\", \"susan\", \"susan\", \"susan\", \"susan\", \"susan\", \"susan\", \"susan\", \"susan\", \"sutton\", \"sutton\", \"suzanne\", \"suzanne\", \"swelling\", \"swift\", \"swing\", \"swing\", \"swing\", \"switch\", \"syllogistic\", \"symbo\", \"sysiync\", \"system\", \"system\", \"system\", \"system\", \"system\", \"system\", \"system\", \"system\", \"system\", \"system\", \"system\", \"system\", \"system\", \"system\", \"system\", \"system\", \"system\", \"system\", \"system\", \"system\", \"system\", \"system\", \"system\", \"system\", \"system\", \"system\", \"system\", \"taablets\", \"tablet\", \"tablet\", \"tablet\", \"tablet\", \"tablet\", \"tackle\", \"tadalafil\", \"tadalafil\", \"taiichi\", \"takriti\", \"takriti\", \"tammie\", \"tammie\", \"tammie\", \"tammie\", \"tammie\", \"tampered\", \"tanya\", \"tanya\", \"tanya\", \"tanya\", \"tanya\", \"tanya\", \"tapped\", \"targeted\", \"targeted\", \"targeted\", \"targeted\", \"targeted\", \"targeted\", \"targus\", \"taste\", \"taste\", \"taylor\", \"taylor\", \"taylor\", \"taylor\", \"taylor\", \"taylor\", \"taylor\", \"tearful\", \"techlite\", \"technews\", \"technomarine\", \"teleconference\", \"tempestuous\", \"tenaska\", \"tenaska\", \"tenaska\", \"tenaska\", \"tennis\", \"tentative\", \"teresa\", \"teresa\", \"terminated\", \"terminated\", \"terminated\", \"terminated\", \"termination\", \"termination\", \"termsdebt\", \"terri\", \"terri\", \"texaco\", \"texaco\", \"texas\", \"texas\", \"texas\", \"texas\", \"texas\", \"texas\", \"texas\", \"texas\", \"texas\", \"texas\", \"texas\", \"texas\", \"texas\", \"texas\", \"texoma\", \"texoma\", \"tgobk\", \"thank\", \"thank\", \"thank\", \"thank\", \"thank\", \"thank\", \"thank\", \"thank\", \"thank\", \"thank\", \"thank\", \"thank\", \"thank\", \"thank\", \"thank\", \"thank\", \"thank\", \"thank\", \"thank\", \"thank\", \"thank\", \"thank\", \"thank\", \"thank\", \"thank\", \"thanks\", \"thanks\", \"thanks\", \"thanks\", \"thanks\", \"thanks\", \"thanks\", \"thanks\", \"thanks\", \"thanks\", \"thanks\", \"thanks\", \"thanks\", \"thanks\", \"thanks\", \"thanks\", \"thanks\", \"thanks\", \"thanks\", \"thanks\", \"thanks\", \"thanks\", \"thanks\", \"thanks\", \"thanks\", \"thanks\", \"thanks\", \"thanks\", \"thanks\", \"thanksgiving\", \"theft\", \"theresa\", \"theresa\", \"thesepowerfui\", \"thesepowerful\", \"thing\", \"thing\", \"thing\", \"thing\", \"thing\", \"thing\", \"thing\", \"thing\", \"thing\", \"thing\", \"thing\", \"thing\", \"thing\", \"thing\", \"thing\", \"thing\", \"thing\", \"thing\", \"thing\", \"thing\", \"thing\", \"thing\", \"thinkgeek\", \"thinkgeek\", \"thinking\", \"thinking\", \"thinking\", \"thinking\", \"thinking\", \"tholan\", \"thome\", \"thome\", \"thread\", \"thresa\", \"throughput\", \"tiaiity\", \"ticket\", \"ticket\", \"ticket\", \"ticket\", \"ticket\", \"ticket\", \"ticket\", \"ticket\", \"ticket\", \"ticket\", \"tiger\", \"tiger\", \"tiger\", \"tiger\", \"timesheets\", \"tionlimited\", \"tired\", \"tired\", \"tired\", \"tissto\", \"titoni\", \"tlapek\", \"tlapek\", \"toast\", \"tobias\", \"today\", \"today\", \"today\", \"today\", \"today\", \"today\", \"today\", \"today\", \"today\", \"today\", \"today\", \"today\", \"today\", \"today\", \"today\", \"today\", \"today\", \"today\", \"today\", \"today\", \"today\", \"today\", \"today\", \"today\", \"today\", \"todayworldwide\", \"tokyo\", \"toner\", \"tongue\", \"tongue\", \"tongue\", \"tonhawa\", \"tonight\", \"tonight\", \"tonight\", \"tonya\", \"toois\", \"tooth\", \"tophoarse\", \"topica\", \"toronto\", \"torre\", \"torrey\", \"toshiba\", \"towing\", \"trabajo\", \"tractebel\", \"tracy\", \"tracy\", \"trade\", \"trade\", \"trade\", \"trade\", \"trade\", \"trade\", \"trade\", \"trade\", \"trade\", \"trade\", \"trade\", \"trade\", \"trade\", \"trade\", \"trade\", \"trade\", \"trademark\", \"trademark\", \"trademark\", \"trademark\", \"trademark\", \"trademark\", \"tragedy\", \"tragic\", \"trail\", \"tranche\", \"transaction\", \"transaction\", \"transaction\", \"transaction\", \"transaction\", \"transaction\", \"transaction\", \"transaction\", \"transaction\", \"transaction\", \"transaction\", \"transaction\", \"transaction\", \"transaction\", \"transaction\", \"transaction\", \"transactional\", \"transactional\", \"transcolorado\", \"transcript\", \"transcript\", \"transitional\", \"transpiant\", \"transport\", \"transport\", \"transport\", \"transport\", \"transport\", \"transport\", \"transport\", \"transport\", \"transport\", \"trash\", \"trash\", \"traumatized\", \"treatment\", \"treatment\", \"treatment\", \"treatment\", \"treatment\", \"trena\", \"tried\", \"tried\", \"tried\", \"tried\", \"tried\", \"tried\", \"tried\", \"trisha\", \"trivial\", \"troca\", \"truck\", \"truck\", \"trylogos\", \"tudor\", \"tudor\", \"tufco\", \"tulsa\", \"turbine\", \"turbine\", \"turbine\", \"turbine\", \"turbine\", \"turbine\", \"turbine\", \"turbonet\", \"turnaround\", \"tussioneex\", \"tycholiz\", \"tzamouranis\", \"ubsenergy\", \"ubspw\", \"ubswarburg\", \"unable\", \"unable\", \"unable\", \"unable\", \"unable\", \"unable\", \"unable\", \"unable\", \"unable\", \"unacceptable\", \"unacceptable\", \"unaccounted\", \"unaccounted\", \"unanimity\", \"unbeatable\", \"unbelievable\", \"unbelievable\", \"uncertainty\", \"uncertainty\", \"uncertainty\", \"unconfirmed\", \"undercollect\", \"undergraduate\", \"underplays\", \"understandably\", \"unfamiliar\", \"uniimited\", \"university\", \"university\", \"university\", \"university\", \"university\", \"university\", \"university\", \"university\", \"university\", \"university\", \"university\", \"university\", \"unknown\", \"unknown\", \"unknown\", \"unknown\", \"unless\", \"unless\", \"unless\", \"unless\", \"unless\", \"unless\", \"unless\", \"unliquidated\", \"unnoticed\", \"unseen\", \"unsubscribed\", \"unsubscribed\", \"unsubscribed\", \"unsure\", \"unwanted\", \"update\", \"update\", \"update\", \"update\", \"update\", \"update\", \"update\", \"update\", \"update\", \"update\", \"update\", \"update\", \"update\", \"update\", \"update\", \"update\", \"update\", \"update\", \"update\", \"update\", \"update\", \"update\", \"updated\", \"updated\", \"updated\", \"updated\", \"updated\", \"updated\", \"updated\", \"updated\", \"updated\", \"updated\", \"updated\", \"updated\", \"upper\", \"upwards\", \"uranium\", \"utility\", \"utility\", \"utility\", \"utility\", \"utility\", \"vacancy\", \"vacancy\", \"vacation\", \"vacation\", \"vacation\", \"vacation\", \"vacation\", \"vacation\", \"vacation\", \"vacation\", \"vacation\", \"vacheron\", \"vacuum\", \"valenzuela\", \"valero\", \"valet\", \"valium\", \"valiumxanaxcialis\", \"valley\", \"valley\", \"valley\", \"vallfast\", \"vallum\", \"vance\", \"vance\", \"vance\", \"vance\", \"vanek\", \"variant\", \"variant\", \"vasant\", \"vasant\", \"vasant\", \"vasant\", \"vasant\", \"vaughn\", \"vehicle\", \"vehicle\", \"vehicle\", \"vehicle\", \"veldt\", \"verification\", \"verification\", \"verification\", \"verification\", \"verification\", \"verification\", \"verification\", \"verificationno\", \"verify\", \"verify\", \"verify\", \"verify\", \"verify\", \"verify\", \"verizon\", \"vernon\", \"veronica\", \"version\", \"version\", \"version\", \"version\", \"version\", \"version\", \"version\", \"version\", \"version\", \"version\", \"version\", \"version\", \"version\", \"version\", \"version\", \"version\", \"version\", \"version\", \"viagra\", \"viagra\", \"viagra\", \"viagra\", \"viagra\", \"viagra\", \"viagra\", \"viagra\", \"viagra\", \"viagra\", \"vicodin\", \"vicodin\", \"victor\", \"victor\", \"victor\", \"victor\", \"victor\", \"video\", \"video\", \"video\", \"video\", \"video\", \"video\", \"video\", \"video\", \"video\", \"video\", \"video\", \"viewing\", \"viewsonic\", \"villahermosa\", \"vince\", \"vince\", \"vince\", \"vince\", \"vince\", \"vince\", \"vince\", \"vince\", \"vince\", \"vince\", \"vince\", \"vince\", \"vince\", \"vince\", \"vince\", \"vince\", \"vince\", \"vince\", \"vince\", \"vince\", \"vince\", \"vince\", \"vince\", \"vince\", \"vince\", \"vince\", \"vince\", \"vince\", \"vince\", \"vince\", \"vince\", \"vince\", \"vince\", \"vince\", \"vince\", \"vintage\", \"violation\", \"violation\", \"vioxx\", \"virgin\", \"virus\", \"virus\", \"virus\", \"virus\", \"virus\", \"visiongain\", \"visit\", \"visit\", \"visit\", \"visit\", \"visit\", \"visit\", \"visit\", \"visit\", \"visit\", \"visit\", \"visit\", \"visit\", \"visit\", \"visit\", \"visit\", \"visit\", \"visit\", \"visit\", \"visit\", \"visit\", \"visiting\", \"visiting\", \"visiting\", \"visiting\", \"visiting\", \"visitor\", \"visitor\", \"visitor\", \"vista\", \"visuai\", \"visual\", \"visual\", \"visual\", \"visual\", \"visual\", \"visual\", \"visualidentity\", \"visualidentity\", \"vlagra\", \"vlagthe\", \"vmware\", \"vocaiscape\", \"vocalscape\", \"volume\", \"volume\", \"volume\", \"volume\", \"volume\", \"volume\", \"volume\", \"volume\", \"volume\", \"volume\", \"volume\", \"volume\", \"volume\", \"voyage\", \"vvatches\", \"wagner\", \"wakey\", \"walker\", \"walker\", \"wanadoo\", \"warburg\", \"warburg\", \"warburg\", \"warehouse\", \"warplane\", \"warranty\", \"warranty\", \"waste\", \"waste\", \"waste\", \"wasting\", \"watch\", \"watch\", \"watch\", \"watch\", \"watch\", \"watch\", \"watch\", \"watch\", \"watch\", \"watch\", \"watch\", \"watch\", \"watch\", \"waxman\", \"webcam\", \"weblink\", \"website\", \"website\", \"website\", \"website\", \"website\", \"website\", \"website\", \"website\", \"website\", \"website\", \"website\", \"website\", \"website\", \"website\", \"website\", \"website\", \"website\", \"weekly\", \"weekly\", \"weekly\", \"weekly\", \"weekly\", \"weekly\", \"weekly\", \"weekly\", \"weekly\", \"weekly\", \"weekly\", \"weight\", \"weight\", \"weight\", \"weight\", \"weight\", \"weight\", \"weight\", \"weight\", \"weight\", \"weightloss\", \"weird\", \"weissman\", \"weissman\", \"welcome\", \"welcome\", \"welcome\", \"welcome\", \"welcome\", \"welcome\", \"welcome\", \"welcome\", \"welcome\", \"welikely\", \"wellesley\", \"wellhead\", \"wellhead\", \"wellhead\", \"wellhead\", \"wellhead\", \"wellhead\", \"wendy\", \"western\", \"western\", \"western\", \"western\", \"western\", \"western\", \"western\", \"westinghouse\", \"whilst\", \"whilst\", \"whitsel\", \"whitt\", \"whoever\", \"wildest\", \"wiley\", \"willed\", \"williamsburg\", \"willis\", \"williston\", \"wilson\", \"wilson\", \"wilson\", \"wilson\", \"wilson\", \"window\", \"window\", \"window\", \"window\", \"window\", \"window\", \"window\", \"window\", \"window\", \"window\", \"window\", \"window\", \"window\", \"winner\", \"winner\", \"winner\", \"winner\", \"winner\", \"winner\", \"winning\", \"winning\", \"winning\", \"winning\", \"winning\", \"winning\", \"winning\", \"wireless\", \"wireless\", \"wireless\", \"wireless\", \"wisdom\", \"wisdom\", \"witer\", \"withers\", \"within\", \"within\", \"within\", \"within\", \"within\", \"within\", \"within\", \"within\", \"within\", \"within\", \"within\", \"within\", \"within\", \"within\", \"within\", \"within\", \"within\", \"within\", \"within\", \"within\", \"within\", \"within\", \"wlndows\", \"woman\", \"woman\", \"woman\", \"woman\", \"woman\", \"woman\", \"woman\", \"woman\", \"woman\", \"woman\", \"woman\", \"woman\", \"woodrow\", \"wording\", \"wording\", \"working\", \"working\", \"working\", \"working\", \"working\", \"working\", \"working\", \"working\", \"working\", \"working\", \"working\", \"working\", \"working\", \"working\", \"working\", \"working\", \"workorder\", \"worksheet\", \"worksheet\", \"workshop\", \"workshop\", \"workshop\", \"workshop\", \"workspace\", \"world\", \"world\", \"world\", \"world\", \"world\", \"world\", \"world\", \"world\", \"world\", \"world\", \"world\", \"world\", \"world\", \"world\", \"world\", \"would\", \"would\", \"would\", \"would\", \"would\", \"would\", \"would\", \"would\", \"would\", \"would\", \"would\", \"would\", \"would\", \"would\", \"would\", \"would\", \"would\", \"would\", \"would\", \"would\", \"would\", \"would\", \"would\", \"would\", \"would\", \"would\", \"would\", \"would\", \"would\", \"would\", \"would\", \"would\", \"written\", \"written\", \"written\", \"written\", \"written\", \"written\", \"wyndham\", \"wyoming\", \"wyoming\", \"wyoming\", \"wyoming\", \"wysak\", \"wysak\", \"wysak\", \"xaanax\", \"xanaax\", \"xanaax\", \"xanax\", \"xanax\", \"xanax\", \"xenical\", \"xpforyou\", \"yaman\", \"yaman\", \"yannis\", \"yannis\", \"yasser\", \"yellow\", \"yengeni\", \"yesterday\", \"yesterday\", \"yesterday\", \"yesterday\", \"yesterday\", \"yesterday\", \"yesterday\", \"youcheckk\", \"youngwoman\", \"yourpaypal\", \"youth\", \"youyi\", \"yowait\", \"yowman\", \"yvonne\", \"zahwa\", \"zajac\", \"zenith\", \"zimbabwean\", \"zimin\", \"zimin\", \"zimin\", \"zimin\", \"zimin\", \"zimin\", \"zimin\", \"zimin\", \"zimin\", \"zimin\", \"zisman\", \"zonedubai\", \"zufferli\", \"zufferli\", \"zyban\"]}, \"R\": 30, \"lambda.step\": 0.01, \"plot.opts\": {\"xlab\": \"PC1\", \"ylab\": \"PC2\"}, \"topic.order\": [21, 40, 9, 11, 14, 4, 2, 34, 45, 32, 18, 13, 48, 8, 30, 7, 16, 46, 22, 28, 24, 47, 39, 25, 5, 33, 19, 35, 23, 26, 6, 20, 37, 17, 1, 42, 27, 31, 12, 29, 10, 41, 15, 36, 3, 38, 44, 43]};\n",
       "if(typeof(window.LDAvis) !== \"undefined\"){\n",
       "   !function(LDAvis){\n",
       "       new LDAvis(\"#\" + \"ldavis_el1082023875952577767417869892\", ldavis_el1082023875952577767417869892_data);\n",
       "   }(LDAvis);\n",
       "}else{\n",
       "  require.config({paths: {d3: \"https://d3js.org/d3.v5\"}});\n",
       "  require([\"d3\"], function(d3){\n",
       "    window.d3 = d3;\n",
       "    $.getScript(\"https://cdn.jsdelivr.net/gh/bmabey/pyLDAvis/pyLDAvis/js/ldavis.v3.0.0.js\", function(){\n",
       "       new LDAvis(\"#\" + \"ldavis_el1082023875952577767417869892\", ldavis_el1082023875952577767417869892_data);\n",
       "    });\n",
       "  });\n",
       "}\n",
       "</script>"
      ],
      "text/plain": [
       "<IPython.core.display.HTML object>"
      ]
     },
     "execution_count": 87,
     "metadata": {},
     "output_type": "execute_result"
    }
   ],
   "source": [
    "lda_display_good = pyLDAvis.gensim.prepare(lda_model_tfidf_48, tfidf_corp, \n",
    "                                          dictionary, mds='mmds')\n",
    "pyLDAvis.display(lda_display_good, template_type='notebook')"
   ]
  },
  {
   "cell_type": "markdown",
   "metadata": {},
   "source": [
    "The above represents TF-IDF's optimal performance/solution. Our team chose to compare our results proportionally on a more simple and less computationall expensive 2-topics model. The main reasoning behind this decision is the nice parallel between the binary Spam/NoSpam category fix and having them (hopefully) segregated by the 2 models.\n",
    "\n",
    "We will therefore run a very similar analysis (Without computing the coherence and perplexity this time, since we already know them from the list) on 2 models:"
   ]
  },
  {
   "cell_type": "code",
   "execution_count": 47,
   "metadata": {},
   "outputs": [
    {
     "data": {
      "text/html": [
       "\n",
       "\n",
       "<link rel=\"stylesheet\" type=\"text/css\" href=\"https://cdn.jsdelivr.net/gh/bmabey/pyLDAvis/pyLDAvis/js/ldavis.v1.0.0.css\">\n",
       "\n",
       "<div id=\"ldavis_el2033216662928963687417869892\"></div>\n",
       "<script type=\"text/javascript\">\n",
       "\n",
       "var ldavis_el2033216662928963687417869892_data = {\"mdsDat\": {\"x\": [-0.008879536672785654, 0.008879536672785654], \"y\": [0.028030464962730223, -0.028030464962730223], \"topics\": [1, 2], \"cluster\": [1, 1], \"Freq\": [64.13929956320922, 35.86070043679078]}, \"tinfo\": {\"Term\": [\"adobe\", \"meter\", \"daren\", \"volume\", \"account\", \"hplno\", \"prescription\", \"daily\", \"mmbtu\", \"actuals\", \"claim\", \"cialis\", \"window\", \"farmer\", \"delivery\", \"software\", \"ticket\", \"lottery\", \"rolex\", \"medication\", \"macromedia\", \"tenaska\", \"corel\", \"photoshop\", \"microsoft\", \"penis\", \"online\", \"winning\", \"cheap\", \"generic\", \"breathing\", \"amonq\", \"revamping\", \"artwork\", \"errrectlon\", \"chapter\", \"redeliveries\", \"amitava\", \"brinq\", \"needsand\", \"stationery\", \"loqos\", \"viaqra\", \"visualidentity\", \"iasts\", \"stanford\", \"seekercenter\", \"carefui\", \"powerfui\", \"riqht\", \"vibrator\", \"breath\", \"uniimited\", \"quaranteed\", \"toois\", \"eastrans\", \"squirrelmail\", \"sampies\", \"staffing\", \"severai\", \"analyst\", \"competitor\", \"origination\", \"peopie\", \"fresh\", \"christie\", \"interview\", \"employee\", \"shirley\", \"statement\", \"valley\", \"cialls\", \"website\", \"custom\", \"wharton\", \"opportunity\", \"competitive\", \"business\", \"company\", \"market\", \"vince\", \"resume\", \"trading\", \"design\", \"kaminski\", \"stock\", \"research\", \"future\", \"houston\", \"schedule\", \"louise\", \"energy\", \"within\", \"interested\", \"request\", \"marketing\", \"enron\", \"product\", \"message\", \"would\", \"forward\", \"report\", \"please\", \"service\", \"original\", \"information\", \"management\", \"email\", \"subject\", \"group\", \"click\", \"thanks\", \"attached\", \"price\", \"meeting\", \"offer\", \"power\", \"regalis\", \"tadalafil\", \"photoshop\", \"adobe\", \"rolex\", \"eileen\", \"avila\", \"corel\", \"premiere\", \"hplnol\", \"enserch\", \"deceased\", \"averaged\", \"withers\", \"superviagra\", \"aimee\", \"throughput\", \"corei\", \"sidebacks\", \"computron\", \"saxet\", \"levitra\", \"lannou\", \"macromedia\", \"ponton\", \"sandi\", \"foreigner\", \"framemaker\", \"archer\", \"eiements\", \"replica\", \"alias\", \"prescription\", \"hplno\", \"daren\", \"midcon\", \"buyback\", \"penis\", \"farmer\", \"claim\", \"cialis\", \"meter\", \"lottery\", \"window\", \"microsoft\", \"africa\", \"norton\", \"volume\", \"tenaska\", \"actuals\", \"winning\", \"daily\", \"melissa\", \"ticket\", \"account\", \"mmbtu\", \"medication\", \"chokshi\", \"delivery\", \"studio\", \"software\", \"generic\", \"attached\", \"online\", \"cheap\", \"enron\", \"capacity\", \"thanks\", \"price\", \"contract\", \"money\", \"viagra\", \"number\", \"please\", \"meeting\", \"subject\", \"email\", \"question\", \"month\", \"would\", \"click\"], \"Freq\": [74.0, 98.0, 65.0, 79.0, 93.0, 43.0, 42.0, 67.0, 79.0, 56.0, 43.0, 40.0, 39.0, 35.0, 60.0, 133.0, 44.0, 32.0, 23.0, 44.0, 23.0, 30.0, 21.0, 20.0, 27.0, 24.0, 102.0, 26.0, 30.0, 29.0, 17.133954540743364, 8.606040600587317, 16.941531614316766, 17.2609907451845, 14.991073983876825, 13.286852404963097, 16.788605491029323, 9.384951090811253, 10.638809922837225, 8.04170376352577, 34.27332944561142, 9.225086797306561, 16.033361581052993, 8.281340743022653, 8.489286686304908, 22.208103971595637, 7.675290272825711, 11.686393569831194, 6.3933305496994, 15.960431388821958, 5.81420226269816, 16.961542963425533, 6.793968224689652, 6.905050542792598, 13.384262752748644, 33.09957849260408, 21.538220382819297, 14.882354288465118, 9.787818613002656, 6.128026896420425, 40.738509108674045, 25.754771621484725, 30.645564609130503, 16.011385935723247, 20.583877022017827, 20.441953040320655, 65.7992111746589, 67.8123531553449, 65.32520267505139, 82.5650378588155, 19.98151758027323, 20.61257214852232, 90.29963191377203, 25.167627990559904, 25.317086330459215, 57.16761714997221, 19.835348688054776, 139.15032774367972, 171.16103006273332, 103.6474113463183, 184.05155153495076, 49.077148333411074, 75.36884581271727, 37.30149318606825, 106.61263690103331, 77.42258064519586, 78.77427158244649, 68.85292248147289, 84.9362779397048, 58.78027180438467, 107.64297470410173, 107.72528509419121, 68.1131755539424, 62.34001393488577, 87.84498279069884, 63.552597813581826, 338.4602407378146, 80.53102148833517, 120.84768984780065, 133.51520056549305, 78.82403375337799, 105.65518503169923, 150.92944026064677, 90.94411893576817, 81.09435404803789, 108.32671120234372, 76.21551606138182, 110.04721079599791, 111.06114692087922, 88.14420146965138, 88.36364030314903, 97.29492162616503, 107.30662054298078, 94.90337991249748, 89.23474124198944, 82.16934607083095, 81.63330798638438, 10.042843635377393, 9.573173651764874, 18.912692803990087, 69.25788885403743, 22.09442950544824, 8.37119089463111, 8.501259745078189, 19.58847877519186, 13.403812832844274, 10.707171116908805, 9.392580168987624, 7.068436164793588, 6.6649195995364785, 5.212506543390123, 3.7550385494893534, 15.48166262776128, 5.715828926305427, 9.468095284029383, 6.45850303037749, 8.081824001431862, 4.041599408204095, 6.214692803903109, 8.838821581492084, 21.26401942573356, 7.927706442004998, 5.1315456617732575, 7.126400372924727, 3.6541304781087396, 7.230201450938959, 3.431568748532927, 11.999041591600225, 9.38681744533354, 35.95815542959553, 36.91399026533486, 54.21347997958392, 9.963410770723366, 11.953846641679611, 20.817400336737386, 29.102767551305714, 34.8101638181494, 32.944223302093, 75.18777370651563, 26.47736148399548, 31.086265300944152, 22.671180763527246, 12.659916387981982, 13.721877624048608, 56.634272239353145, 24.178740712413862, 40.68468343776404, 20.96485415560138, 46.875892305806275, 17.78024264251988, 31.945034851472812, 58.90010705802124, 50.90903321763404, 31.252855903814275, 20.909905224572903, 39.11653264906308, 19.986568132784342, 65.33945802058398, 22.313273266624595, 74.61674150406604, 50.307654649248526, 22.63297560875362, 111.36671466878398, 27.738127224722728, 52.202107474205214, 50.52161632526807, 40.31076869862245, 41.33802695549305, 34.38290713128676, 40.92401623611011, 53.11568912928509, 41.07887178515371, 42.57503729080613, 37.72019807018304, 35.316683792170316, 34.05371427179864, 35.99682200982971, 34.28017955887871], \"Total\": [74.0, 98.0, 65.0, 79.0, 93.0, 43.0, 42.0, 67.0, 79.0, 56.0, 43.0, 40.0, 39.0, 35.0, 60.0, 133.0, 44.0, 32.0, 23.0, 44.0, 23.0, 30.0, 21.0, 20.0, 27.0, 24.0, 102.0, 26.0, 30.0, 29.0, 17.78480352256376, 8.980449538951726, 17.6858735185181, 18.049143368412302, 15.721099371681431, 13.9360172566325, 17.620279396157656, 9.853047933835454, 11.178616303529257, 8.459823962441737, 36.10917614247449, 9.720593740996154, 16.908112900806213, 8.734577220793026, 8.957383711279212, 23.440341937663863, 8.104862183770713, 12.342125000708604, 6.754482398884067, 16.88958997414779, 6.1547289078049685, 17.96514279428673, 7.199865015703324, 7.320428799147749, 14.195100005035968, 35.110419885632886, 22.85024738086767, 15.789178043803952, 10.385476756662332, 6.502364578575848, 43.25775074808551, 27.405140385062403, 32.72306742520158, 16.997917573296405, 21.909588396318473, 21.7999149793575, 71.04365323618231, 73.40261176554347, 71.13658160611185, 90.38801818848393, 21.327123651732983, 22.02872136651627, 100.0416028592531, 27.04328737135434, 27.2319472247899, 63.11287314713016, 21.2296587081416, 158.48022922205857, 196.83566262784507, 116.87140944282505, 213.0954633226219, 54.10411089562851, 84.66925806545966, 40.82163378901579, 122.03797359938855, 87.46602034910984, 90.24774302426857, 78.54111698238756, 98.29844457743236, 66.50816719376067, 126.77036862932891, 127.2611438996697, 78.28264408822214, 71.25065704433392, 103.70546262117003, 72.9770432679631, 449.8269554065986, 95.85303527354618, 151.06373293094907, 169.51202257532276, 93.83143106573186, 132.7006529604922, 204.04512938993184, 112.54499641491822, 98.58020433552075, 141.5955276653275, 91.35005428312942, 147.76740886618094, 153.63618421168536, 115.88885560845972, 122.64381986202773, 149.49702910037024, 181.92336204704682, 145.42499623776555, 130.31361302714316, 110.61917476143617, 111.46548293197074, 10.614687453832005, 10.258509232272583, 20.292560294844584, 74.3372370311008, 23.92040002559862, 9.091972568182445, 9.245999177479472, 21.379110187451474, 14.662144864622647, 11.72284715394145, 10.29576331105022, 7.758238517808771, 7.328440500588911, 5.76034163250181, 4.150622620103262, 17.113595599930992, 6.322996435398743, 10.500711586102305, 7.167542208809271, 9.001289876971699, 4.502711315440444, 6.928585447185735, 9.860882882963404, 23.79203937342402, 8.879067561161493, 5.751880114312214, 8.046085588367305, 4.133634394163001, 8.181112174805556, 3.883015259087004, 13.627545994711596, 10.687953789303737, 42.090601667083035, 43.36182189941339, 65.77586514683614, 11.397195524316762, 13.789193129096835, 24.81450395529185, 35.471427894258916, 43.07660441757135, 40.64953515460358, 98.71574154935594, 32.4706616113137, 39.08396830843177, 27.989382609782016, 14.803227977046115, 16.2021926073286, 79.2406584227105, 30.550379391850562, 56.10921472451148, 26.37727062583619, 67.58626922342293, 22.044378273735298, 44.42087373546193, 93.4276885499427, 79.8572662544099, 44.34634684187674, 27.109041857117646, 60.693916594575825, 25.66996701194029, 133.94872966742588, 29.92108820693697, 181.92336204704682, 102.87813133370781, 30.603186930330704, 449.8269554065986, 43.245171969956246, 149.49702910037024, 145.42499623776555, 92.6745321691045, 103.24325583260735, 71.25299192253729, 108.75611909474509, 204.04512938993184, 130.31361302714316, 153.63618421168536, 147.76740886618094, 104.8901866686636, 85.16438952878542, 169.51202257532276, 122.64381986202773], \"Category\": [\"Default\", \"Default\", \"Default\", \"Default\", \"Default\", \"Default\", \"Default\", \"Default\", \"Default\", \"Default\", \"Default\", \"Default\", \"Default\", \"Default\", \"Default\", \"Default\", \"Default\", \"Default\", \"Default\", \"Default\", \"Default\", \"Default\", \"Default\", \"Default\", \"Default\", \"Default\", \"Default\", \"Default\", \"Default\", \"Default\", \"Topic1\", \"Topic1\", \"Topic1\", \"Topic1\", \"Topic1\", \"Topic1\", \"Topic1\", \"Topic1\", \"Topic1\", \"Topic1\", \"Topic1\", \"Topic1\", \"Topic1\", \"Topic1\", \"Topic1\", \"Topic1\", \"Topic1\", \"Topic1\", \"Topic1\", \"Topic1\", \"Topic1\", \"Topic1\", \"Topic1\", \"Topic1\", \"Topic1\", \"Topic1\", \"Topic1\", \"Topic1\", \"Topic1\", \"Topic1\", \"Topic1\", \"Topic1\", \"Topic1\", \"Topic1\", \"Topic1\", \"Topic1\", \"Topic1\", \"Topic1\", \"Topic1\", \"Topic1\", \"Topic1\", \"Topic1\", \"Topic1\", \"Topic1\", \"Topic1\", \"Topic1\", \"Topic1\", \"Topic1\", \"Topic1\", \"Topic1\", \"Topic1\", \"Topic1\", \"Topic1\", \"Topic1\", \"Topic1\", \"Topic1\", \"Topic1\", \"Topic1\", \"Topic1\", \"Topic1\", \"Topic1\", \"Topic1\", \"Topic1\", \"Topic1\", \"Topic1\", \"Topic1\", \"Topic1\", \"Topic1\", \"Topic1\", \"Topic1\", \"Topic1\", \"Topic1\", \"Topic1\", \"Topic1\", \"Topic1\", \"Topic1\", \"Topic1\", \"Topic1\", \"Topic1\", \"Topic1\", \"Topic1\", \"Topic1\", \"Topic1\", \"Topic1\", \"Topic1\", \"Topic1\", \"Topic1\", \"Topic2\", \"Topic2\", \"Topic2\", \"Topic2\", \"Topic2\", \"Topic2\", \"Topic2\", \"Topic2\", \"Topic2\", \"Topic2\", \"Topic2\", \"Topic2\", \"Topic2\", \"Topic2\", \"Topic2\", \"Topic2\", \"Topic2\", \"Topic2\", \"Topic2\", \"Topic2\", \"Topic2\", \"Topic2\", \"Topic2\", \"Topic2\", \"Topic2\", \"Topic2\", \"Topic2\", \"Topic2\", \"Topic2\", \"Topic2\", \"Topic2\", \"Topic2\", \"Topic2\", \"Topic2\", \"Topic2\", \"Topic2\", \"Topic2\", \"Topic2\", \"Topic2\", \"Topic2\", \"Topic2\", \"Topic2\", \"Topic2\", \"Topic2\", \"Topic2\", \"Topic2\", \"Topic2\", \"Topic2\", \"Topic2\", \"Topic2\", \"Topic2\", \"Topic2\", \"Topic2\", \"Topic2\", \"Topic2\", \"Topic2\", \"Topic2\", \"Topic2\", \"Topic2\", \"Topic2\", \"Topic2\", \"Topic2\", \"Topic2\", \"Topic2\", \"Topic2\", \"Topic2\", \"Topic2\", \"Topic2\", \"Topic2\", \"Topic2\", \"Topic2\", \"Topic2\", \"Topic2\", \"Topic2\", \"Topic2\", \"Topic2\", \"Topic2\", \"Topic2\", \"Topic2\", \"Topic2\", \"Topic2\"], \"logprob\": [30.0, 29.0, 28.0, 27.0, 26.0, 25.0, 24.0, 23.0, 22.0, 21.0, 20.0, 19.0, 18.0, 17.0, 16.0, 15.0, 14.0, 13.0, 12.0, 11.0, 10.0, 9.0, 8.0, 7.0, 6.0, 5.0, 4.0, 3.0, 2.0, 1.0, -8.5604, -9.249, -8.5717, -8.553, -8.694, -8.8147, -8.5808, -9.1624, -9.037, -9.3168, -7.8671, -9.1795, -8.6268, -9.2875, -9.2627, -8.301, -9.3635, -8.943, -9.5462, -8.6314, -9.6412, -8.5705, -9.4854, -9.4692, -8.8074, -7.902, -8.3316, -8.7013, -9.1203, -9.5886, -7.6943, -8.1529, -7.979, -8.6282, -8.377, -8.3839, -7.2149, -7.1847, -7.2221, -6.9879, -8.4067, -8.3756, -6.8983, -8.1759, -8.17, -7.3555, -8.414, -6.4659, -6.2589, -6.7605, -6.1863, -7.5081, -7.0791, -7.7824, -6.7323, -7.0522, -7.0349, -7.1695, -6.9596, -7.3277, -6.7227, -6.7219, -7.1803, -7.2689, -6.9259, -7.2496, -5.5771, -7.0128, -6.6069, -6.5073, -7.0343, -6.7413, -6.3847, -6.8912, -7.0059, -6.7163, -7.0679, -6.7006, -6.6914, -6.9225, -6.92, -6.8237, -6.7258, -6.8486, -6.9102, -6.9927, -6.9992, -8.5132, -8.5611, -7.8802, -6.5822, -7.7247, -8.6953, -8.6798, -7.8451, -8.2245, -8.4491, -8.5801, -8.8644, -8.9232, -9.169, -9.497, -8.0804, -9.0768, -8.5721, -8.9547, -8.7304, -9.4234, -8.9931, -8.6409, -7.763, -8.7497, -9.1847, -8.8563, -9.5242, -8.8418, -9.587, -8.3352, -8.5808, -7.2377, -7.2115, -6.8271, -8.5211, -8.339, -7.7843, -7.4492, -7.2702, -7.3252, -6.5001, -7.5438, -7.3833, -7.699, -8.2816, -8.2011, -6.7834, -7.6346, -7.1142, -7.7772, -6.9726, -7.942, -7.356, -6.7442, -6.89, -7.3779, -7.7798, -7.1535, -7.825, -6.6405, -7.7149, -6.5077, -6.9019, -7.7007, -6.1072, -7.4973, -6.8649, -6.8977, -7.1234, -7.0983, -7.2825, -7.1083, -6.8476, -7.1046, -7.0688, -7.1899, -7.2557, -7.2921, -7.2366, -7.2855], \"loglift\": [30.0, 29.0, 28.0, 27.0, 26.0, 25.0, 24.0, 23.0, 22.0, 21.0, 20.0, 19.0, 18.0, 17.0, 16.0, 15.0, 14.0, 13.0, 12.0, 11.0, 10.0, 9.0, 8.0, 7.0, 6.0, 5.0, 4.0, 3.0, 2.0, 1.0, 0.4068, 0.4015, 0.4011, 0.3995, 0.3966, 0.3964, 0.3958, 0.3954, 0.3946, 0.3934, 0.3919, 0.3918, 0.391, 0.3908, 0.3904, 0.3901, 0.3897, 0.3895, 0.3892, 0.3875, 0.3872, 0.3866, 0.3861, 0.3857, 0.3853, 0.3851, 0.385, 0.385, 0.3848, 0.3848, 0.3841, 0.382, 0.3785, 0.3843, 0.3817, 0.3798, 0.3674, 0.3649, 0.3589, 0.3536, 0.3789, 0.3777, 0.3417, 0.3722, 0.3712, 0.3452, 0.3762, 0.314, 0.3043, 0.324, 0.2976, 0.3466, 0.3278, 0.3539, 0.309, 0.3221, 0.3081, 0.3125, 0.298, 0.3206, 0.2806, 0.2775, 0.305, 0.3105, 0.2781, 0.3058, 0.1597, 0.2699, 0.2209, 0.2054, 0.2698, 0.2162, 0.1426, 0.231, 0.2489, 0.1763, 0.263, 0.1494, 0.1196, 0.1705, 0.1163, 0.0146, -0.0838, 0.0173, 0.0654, 0.1468, 0.1326, 0.9701, 0.9564, 0.9551, 0.9548, 0.9461, 0.9429, 0.9416, 0.9381, 0.9358, 0.9349, 0.9337, 0.9324, 0.9306, 0.9256, 0.9254, 0.9253, 0.9246, 0.922, 0.9214, 0.9178, 0.9175, 0.9168, 0.9161, 0.9132, 0.9122, 0.9114, 0.9041, 0.9022, 0.902, 0.9019, 0.8983, 0.8957, 0.8681, 0.8645, 0.8322, 0.8911, 0.8827, 0.8499, 0.8276, 0.8125, 0.8154, 0.7533, 0.8215, 0.7966, 0.8148, 0.8691, 0.8594, 0.6897, 0.7916, 0.7041, 0.7959, 0.6596, 0.8106, 0.6958, 0.5642, 0.5753, 0.6756, 0.7659, 0.5862, 0.7753, 0.3077, 0.7321, 0.1343, 0.3101, 0.7238, -0.3705, 0.5815, -0.0266, -0.0317, 0.1931, 0.1102, 0.2969, 0.0481, -0.3203, -0.1289, -0.2578, -0.3399, -0.063, 0.1089, -0.524, -0.2492]}, \"token.table\": {\"Topic\": [1, 2, 1, 2, 1, 2, 1, 2, 1, 2, 1, 2, 1, 1, 1, 2, 1, 2, 1, 2, 1, 2, 1, 2, 1, 2, 1, 2, 1, 2, 1, 2, 1, 2, 1, 2, 1, 2, 1, 2, 1, 2, 1, 2, 1, 2, 1, 2, 1, 2, 1, 2, 1, 2, 1, 2, 1, 2, 1, 2, 1, 2, 1, 2, 1, 2, 1, 2, 1, 2, 1, 2, 1, 2, 1, 2, 1, 2, 1, 2, 1, 2, 1, 2, 2, 1, 2, 1, 2, 1, 2, 1, 2, 1, 2, 1, 2, 1, 2, 1, 2, 1, 2, 1, 2, 2, 1, 2, 1, 2, 1, 2, 1, 2, 1, 2, 1, 2, 1, 2, 1, 1, 2, 1, 2, 1, 2, 1, 2, 1, 2, 1, 2, 1, 1, 2, 1, 2, 1, 2, 1, 2, 1, 2, 1, 2, 1, 2, 1, 2, 1, 2, 1, 2, 1, 2, 1, 2, 1, 2, 1, 2, 1, 2, 1, 2, 1, 1, 2, 1, 2, 1, 2, 1, 2, 1, 2, 1, 2, 1, 2, 1, 2, 1, 2, 1, 2, 1, 2, 1, 2, 1, 2, 1, 1, 2, 1, 2, 1, 2, 1, 2, 1, 1, 2, 1, 2, 1, 2, 1, 2, 1, 2, 1, 2, 1, 2, 1, 2, 1, 2, 1, 2, 1, 2, 1, 2, 1, 2, 2, 1, 2, 1, 1, 2, 1, 1, 2, 1, 2, 1, 2, 1, 2, 1, 2, 1, 2, 1, 2, 1, 2, 1, 2, 1, 2, 1, 2, 2, 1, 2, 1, 2, 1, 2, 1, 2, 1, 2, 1, 2, 1, 2, 1, 1, 2, 1, 2, 1, 2, 1, 1, 2, 1, 1, 2, 1, 2, 1, 2, 1, 2, 1, 2, 1, 2, 1, 2, 1, 2], \"Freq\": [0.374621277088434, 0.6315044385205031, 0.26733576781724594, 0.730717765367139, 0.06726104170253365, 0.9282023754949644, 0.13510566770309826, 0.8781868400701387, 0.11686614822241474, 0.8764961116681106, 0.09356327878220969, 0.8420695090398872, 0.9134229388140821, 1.0021770024945273, 0.9478070239658627, 0.06935173346091678, 0.12223276965686729, 0.855629387598071, 0.9418729550207684, 0.055404291471809905, 0.5881597547231397, 0.4122615103199577, 0.1364546795351126, 0.9551827567457881, 0.1081548874064044, 0.9733939866576395, 0.9462769205155628, 0.05566334826562134, 0.9558722410642282, 0.05622777888613107, 0.9840216088754326, 0.0894565098977666, 0.877081013084835, 0.11988877157274723, 0.14504111888749766, 0.8702467133249859, 0.36998349806807784, 0.6474711216191362, 0.9722798950189727, 0.08102332458491439, 0.9328346657875279, 0.07175651275288676, 0.26141068308383364, 0.7515557138660218, 0.22132836828479288, 0.7746492889967751, 0.9174347706831952, 0.04587173853415976, 0.19680421853714594, 0.811817401465727, 0.9533009043330164, 0.045395281158715065, 0.18571565953644956, 0.8125060104719668, 0.7175249441757322, 0.2772255466133511, 0.8687450115343567, 0.1320898847946975, 0.9420782630071192, 0.04710391315035596, 0.948727123257931, 0.07297900948137931, 0.11109518898600672, 0.8887615118880537, 0.5611034529434137, 0.4316180407257028, 0.09523164137976138, 0.8570847724178524, 0.09354926292366954, 0.9354926292366954, 0.9244438243288907, 0.07395550594631126, 0.3107139991790251, 0.6954075219721038, 0.18243773720363157, 0.820969817416342, 0.12889523797245137, 0.9022666658071596, 0.36247454826413567, 0.6425685173773314, 0.9063821450957186, 0.09798725892926688, 0.9398919211872921, 0.056963146738623766, 0.7725954702288181, 0.10998713343015593, 0.8798970674412474, 0.7444131344254447, 0.25716090098333544, 0.926397554043444, 0.08174096065089212, 0.8486486659678714, 0.15715716036442062, 0.7514000571497139, 0.24676155722963977, 0.09712732993062513, 0.8741459693756262, 0.9541317464744002, 0.06360878309829335, 0.16915022473541602, 0.8175594195545107, 0.12428403712803632, 0.8699882598962542, 0.8419353632649812, 0.1598611449237306, 0.9676714529103729, 0.9584844598691177, 0.04564211713662465, 0.8785207373034036, 0.12732184598600052, 0.26736995475135367, 0.7352673755662226, 0.7593482525818999, 0.24161080763969542, 0.8647135808241928, 0.13225031236134713, 0.13837056971264322, 0.8532851798946332, 0.08530350919603866, 0.9383386011564252, 0.893117930174894, 0.7627359548761085, 0.23305820843436648, 0.870167414195522, 0.12631462464128546, 0.9290062798514197, 0.07037926362510755, 0.8767762758110571, 0.12291256202958745, 0.1014107977823867, 0.9126971800414801, 0.14432960488438254, 0.8659776293062953, 0.9258693696911657, 0.18478219113063682, 0.8007228282327595, 0.8519341007502104, 0.14987729550235182, 0.12609259563310216, 0.882648169431715, 0.8319644755157602, 0.16420351490442636, 0.8898669101006957, 0.11123336376258697, 0.8769881202914668, 0.12332645441598752, 0.2931470329755316, 0.699042924787806, 0.6829677877280718, 0.31462561007697687, 0.18145215756734617, 0.8165347090530578, 0.8009864290544764, 0.1985916766250768, 0.24312231892621167, 0.7597572466444115, 0.17863916720522977, 0.8217401691440569, 0.08774088308535427, 0.8774088308535427, 0.36314791828224596, 0.6386394424963635, 0.6005234869822705, 0.39712037042375953, 0.5988418431950608, 0.3992278954633739, 0.9456461547565087, 0.1234400829857656, 0.8640805809003592, 0.6252521749213985, 0.376990281937902, 0.7412819719261426, 0.2531206733406341, 0.515172654410711, 0.48601193812331234, 0.903143798684625, 0.09506776828259211, 0.8216659779311678, 0.1724484151213562, 0.947343951506375, 0.06111896461331451, 0.16119604918183242, 0.8462792582046201, 0.9412917747722153, 0.058830735923263454, 0.04927914395573113, 0.9363037351588914, 0.7400323666213949, 0.2597464598075095, 0.11262443867125925, 0.900995509370074, 0.7356537453845329, 0.269141614165073, 0.888299005855916, 0.06820284543858492, 0.886636990701604, 0.14254963726717884, 0.855297823603073, 0.6532577098690642, 0.3506962442454976, 0.845043662611638, 0.15648956715030335, 0.9562281380040124, 0.6673646241199112, 0.3336823120599556, 0.9647974142627433, 0.056752789074279025, 0.09420908569841972, 0.9420908569841973, 0.14676156666623136, 0.8805693999973881, 0.7987903422868496, 0.20346546454476358, 0.8485570362041471, 0.1542830974916631, 0.8753681516307401, 0.12188670465744482, 0.9056613109219228, 0.09241441948182885, 0.9612191324448888, 0.056542301908522864, 0.9473290958803945, 0.059208068492524656, 0.08361064187303234, 0.9197170606033558, 0.9500177880308567, 0.06333451920205711, 0.1738561966046081, 0.8692809830230406, 0.8883536429003177, 0.8871090948591794, 0.12028597896395653, 0.9870618177838124, 0.8085654884603795, 0.19547737083657524, 0.9227412470486427, 0.9137352193827569, 0.08434478948148526, 0.13951783901194884, 0.837107034071693, 0.5151224664191769, 0.48526029445284785, 0.9627904518189341, 0.043763202355406094, 0.9628830947587412, 0.09628830947587412, 0.9385528614943315, 0.04266149370428779, 0.9182633015243472, 0.08850730617102143, 0.9415889154005508, 0.055387583258855934, 0.8803418709650215, 0.11433011311234045, 0.2337361788275428, 0.7791205960918093, 0.7224860508580471, 0.27988198366572997, 0.9637108371708544, 0.09748005069333729, 0.9748005069333728, 0.19639690633761897, 0.7855876253504759, 0.6488423253874532, 0.34783299917677907, 0.15815286474013926, 0.9489171884408355, 0.27014326803797645, 0.7203820481012705, 0.9158089760120052, 0.07044684430861578, 0.8857996599192574, 0.10629595919031087, 0.9722404496101793, 0.9377729658530327, 0.04688864829265164, 0.5192764402121466, 0.4771729450598104, 0.946291291870726, 0.05914320574192038, 0.9748601587295335, 0.8634627745285596, 0.1360892416376534, 0.915900082828928, 0.2902550339411133, 0.7193276928105852, 0.8996257299737543, 0.09995841444152825, 0.9180393819668502, 0.07344315055734801, 0.20468750606048675, 0.7931640859843861, 0.18955714072640123, 0.7961399910508852, 0.17360081463878102, 0.868004073193905, 0.8686472051629488, 0.1277422360533748, 0.7905044017775024, 0.21237431689544842], \"Term\": [\"account\", \"account\", \"actuals\", \"actuals\", \"adobe\", \"adobe\", \"africa\", \"africa\", \"aimee\", \"aimee\", \"alias\", \"alias\", \"amitava\", \"amonq\", \"analyst\", \"analyst\", \"archer\", \"archer\", \"artwork\", \"artwork\", \"attached\", \"attached\", \"averaged\", \"averaged\", \"avila\", \"avila\", \"breath\", \"breath\", \"breathing\", \"breathing\", \"brinq\", \"brinq\", \"business\", \"business\", \"buyback\", \"buyback\", \"capacity\", \"capacity\", \"carefui\", \"carefui\", \"chapter\", \"chapter\", \"cheap\", \"cheap\", \"chokshi\", \"chokshi\", \"christie\", \"christie\", \"cialis\", \"cialis\", \"cialls\", \"cialls\", \"claim\", \"claim\", \"click\", \"click\", \"company\", \"company\", \"competitive\", \"competitive\", \"competitor\", \"competitor\", \"computron\", \"computron\", \"contract\", \"contract\", \"corei\", \"corei\", \"corel\", \"corel\", \"custom\", \"custom\", \"daily\", \"daily\", \"daren\", \"daren\", \"deceased\", \"deceased\", \"delivery\", \"delivery\", \"design\", \"design\", \"eastrans\", \"eastrans\", \"eiements\", \"eileen\", \"eileen\", \"email\", \"email\", \"employee\", \"employee\", \"energy\", \"energy\", \"enron\", \"enron\", \"enserch\", \"enserch\", \"errrectlon\", \"errrectlon\", \"farmer\", \"farmer\", \"foreigner\", \"foreigner\", \"forward\", \"forward\", \"framemaker\", \"fresh\", \"fresh\", \"future\", \"future\", \"generic\", \"generic\", \"group\", \"group\", \"houston\", \"houston\", \"hplno\", \"hplno\", \"hplnol\", \"hplnol\", \"iasts\", \"information\", \"information\", \"interested\", \"interested\", \"interview\", \"interview\", \"kaminski\", \"kaminski\", \"lannou\", \"lannou\", \"levitra\", \"levitra\", \"loqos\", \"lottery\", \"lottery\", \"louise\", \"louise\", \"macromedia\", \"macromedia\", \"management\", \"management\", \"market\", \"market\", \"marketing\", \"marketing\", \"medication\", \"medication\", \"meeting\", \"meeting\", \"melissa\", \"melissa\", \"message\", \"message\", \"meter\", \"meter\", \"microsoft\", \"microsoft\", \"midcon\", \"midcon\", \"mmbtu\", \"mmbtu\", \"money\", \"money\", \"month\", \"month\", \"needsand\", \"norton\", \"norton\", \"number\", \"number\", \"offer\", \"offer\", \"online\", \"online\", \"opportunity\", \"opportunity\", \"original\", \"original\", \"origination\", \"origination\", \"penis\", \"penis\", \"peopie\", \"peopie\", \"photoshop\", \"photoshop\", \"please\", \"please\", \"ponton\", \"ponton\", \"power\", \"power\", \"powerfui\", \"premiere\", \"premiere\", \"prescription\", \"prescription\", \"price\", \"price\", \"product\", \"product\", \"quaranteed\", \"question\", \"question\", \"redeliveries\", \"redeliveries\", \"regalis\", \"regalis\", \"replica\", \"replica\", \"report\", \"report\", \"request\", \"request\", \"research\", \"research\", \"resume\", \"resume\", \"revamping\", \"revamping\", \"riqht\", \"riqht\", \"rolex\", \"rolex\", \"sampies\", \"sampies\", \"sandi\", \"sandi\", \"saxet\", \"schedule\", \"schedule\", \"seekercenter\", \"service\", \"service\", \"severai\", \"shirley\", \"shirley\", \"sidebacks\", \"sidebacks\", \"software\", \"software\", \"squirrelmail\", \"squirrelmail\", \"staffing\", \"staffing\", \"stanford\", \"stanford\", \"statement\", \"statement\", \"stationery\", \"stationery\", \"stock\", \"stock\", \"studio\", \"studio\", \"subject\", \"subject\", \"superviagra\", \"tadalafil\", \"tadalafil\", \"tenaska\", \"tenaska\", \"thanks\", \"thanks\", \"throughput\", \"throughput\", \"ticket\", \"ticket\", \"toois\", \"toois\", \"trading\", \"trading\", \"uniimited\", \"valley\", \"valley\", \"viagra\", \"viagra\", \"viaqra\", \"viaqra\", \"vibrator\", \"vince\", \"vince\", \"visualidentity\", \"volume\", \"volume\", \"website\", \"website\", \"wharton\", \"wharton\", \"window\", \"window\", \"winning\", \"winning\", \"withers\", \"withers\", \"within\", \"within\", \"would\", \"would\"]}, \"R\": 30, \"lambda.step\": 0.01, \"plot.opts\": {\"xlab\": \"PC1\", \"ylab\": \"PC2\"}, \"topic.order\": [1, 2]};\n",
       "if(typeof(window.LDAvis) !== \"undefined\"){\n",
       "   !function(LDAvis){\n",
       "       new LDAvis(\"#\" + \"ldavis_el2033216662928963687417869892\", ldavis_el2033216662928963687417869892_data);\n",
       "   }(LDAvis);\n",
       "}else{\n",
       "  require.config({paths: {d3: \"https://d3js.org/d3.v5\"}});\n",
       "  require([\"d3\"], function(d3){\n",
       "    window.d3 = d3;\n",
       "    $.getScript(\"https://cdn.jsdelivr.net/gh/bmabey/pyLDAvis/pyLDAvis/js/ldavis.v3.0.0.js\", function(){\n",
       "       new LDAvis(\"#\" + \"ldavis_el2033216662928963687417869892\", ldavis_el2033216662928963687417869892_data);\n",
       "    });\n",
       "  });\n",
       "}\n",
       "</script>"
      ],
      "text/plain": [
       "<IPython.core.display.HTML object>"
      ]
     },
     "execution_count": 47,
     "metadata": {},
     "output_type": "execute_result"
    }
   ],
   "source": [
    "lda_model_tfidf_2 = gensim.models.LdaMulticore(tfidf_corp, num_topics=2, id2word=dictionary, passes=2, workers=4)\n",
    "lda_display_me = pyLDAvis.gensim.prepare(lda_model_tfidf_2, tfidf_corp, \n",
    "                                          dictionary, mds='mmds')\n",
    "pyLDAvis.display(lda_display_me, template_type='notebook')\n",
    "\n",
    "## We know this has corresponding coherence: gCH[2]= 0.36190237280065074 and corresponding perplexity perplexity[2] = -10.384"
   ]
  },
  {
   "cell_type": "markdown",
   "metadata": {},
   "source": [
    "We will now compare our predictions with the actual spam v.s ham data we extracted at the very start of the project in section 1. The method will be the identical within our team - so that we can properly compare the results. "
   ]
  },
  {
   "cell_type": "code",
   "execution_count": 51,
   "metadata": {},
   "outputs": [],
   "source": [
    "y_pred = [] # model predictions\n",
    "y_actual = list(df_train['spam']) # list of original classification of spam/normal for the data set\n",
    "\n",
    "for i in range(0,len(df_train)): # for each document\n",
    "    for index, score in sorted(lda_model_tfidf_2[tfidf_corp[i]], key=lambda tup: -1*tup[1]): # pull the topic (index) and score (probability) from the model \n",
    "        if score >= 0.5 and index == 0: # if the index is 0 and score (read probability) is >0.5 \n",
    "                                        # assign 0\n",
    "            y_pred.append(0)\n",
    "            break\n",
    "        elif score > 0.5 and index == 1: # same as above for 1\n",
    "            y_pred.append(1)\n",
    "            break\n"
   ]
  },
  {
   "cell_type": "markdown",
   "metadata": {},
   "source": [
    "These values can be most easily read within a confusion matrix as follows:"
   ]
  },
  {
   "cell_type": "code",
   "execution_count": 49,
   "metadata": {},
   "outputs": [],
   "source": [
    "from sklearn.metrics import confusion_matrix, classification_report\n",
    "\n",
    "def classification_eval(y_true,y_pred):\n",
    "    \n",
    "    print(\"Confusion Matrix\")\n",
    "    C = confusion_matrix(y_true,y_pred)\n",
    "    \n",
    "    print('Classification report')\n",
    "    print(classification_report(y_true, y_pred, target_names = ['Normal', 'Spam'], digits=3))"
   ]
  },
  {
   "cell_type": "code",
   "execution_count": 52,
   "metadata": {},
   "outputs": [
    {
     "name": "stdout",
     "output_type": "stream",
     "text": [
      "Confusion Matrix\n",
      "Classification report\n",
      "              precision    recall  f1-score   support\n",
      "\n",
      "      Normal      0.661     0.787     0.719     13553\n",
      "        Spam      0.673     0.520     0.586     11386\n",
      "\n",
      "    accuracy                          0.665     24939\n",
      "   macro avg      0.667     0.654     0.653     24939\n",
      "weighted avg      0.666     0.665     0.658     24939\n",
      "\n"
     ]
    }
   ],
   "source": [
    "classification_eval(y_actual,y_pred)"
   ]
  },
  {
   "cell_type": "markdown",
   "metadata": {},
   "source": [
    "We notice two things:\n",
    "\n",
    "1) The results aren't particularly good, nor bad. Due to sampling, several accuracy results have been obtained for the duration of this project. The overall performance of the model goes beyond the limited scope of this paper alone, but it is discussed in the conclusions section of the report, which can be found [here](https://github.com/xiaozhang-github/DST-Assessment-3/tree/main/Report). With this being said; running the same model several times obtained accuracies varying from the worst of ~ 55.5% to the best of ~ 78.2%. The result we present is somewhat an average of those. To conduct an actual average of performances, one may run the code in several different seeds at once and take the average. Increasing the number of seeds (and hence, iterations) will hopefully stabilize the result. With this method - which is not replicated here for the purpose of not overloading the user with complexity issues and pointlessly long runtimes - the obtained average was around 68%; which the result we chose to portray is pretty close to.\n",
    "\n",
    "2) This result is not exactly final. We still need to run a similar analysis on the test sample 'df_test'. However, we confidently expect the results for that one to be lower than for the training set, due to a restricted (smaller) dictionary. Lastly, for comparison with our colleagues, we will take the weighted average of both of these results - since this is what the other contributors essentially did by _not splitting_ their data.\n",
    "\n",
    "Firstly, let us complete the analogous analysis for df_test: "
   ]
  },
  {
   "cell_type": "code",
   "execution_count": 53,
   "metadata": {},
   "outputs": [
    {
     "data": {
      "text/plain": [
       "[['sitescooper',\n",
       "  'scoop',\n",
       "  'website',\n",
       "  'palmpilot',\n",
       "  'sitescooper',\n",
       "  'automatically',\n",
       "  'retrieves',\n",
       "  'story',\n",
       "  'several',\n",
       "  'website',\n",
       "  'extraneous',\n",
       "  'convert',\n",
       "  'isilo',\n",
       "  'format',\n",
       "  'later',\n",
       "  'reading',\n",
       "  'maintains',\n",
       "  'cache',\n",
       "  'avoid',\n",
       "  'story',\n",
       "  'already',\n",
       "  'handle',\n",
       "  'diffing',\n",
       "  'level',\n",
       "  'netscape',\n",
       "  'style',\n",
       "  'palmpilot',\n",
       "  'still',\n",
       "  'handy',\n",
       "  'simple',\n",
       "  'website',\n",
       "  'conversion',\n",
       "  'included',\n",
       "  'popular',\n",
       "  'including',\n",
       "  'slashdot',\n",
       "  'freshmeat',\n",
       "  'linux',\n",
       "  'today',\n",
       "  'jmason',\n",
       "  'software',\n",
       "  'sitescooper',\n",
       "  'topsites',\n",
       "  'evans',\n",
       "  'avenue',\n",
       "  'francisco',\n",
       "  'phone',\n",
       "  'could',\n",
       "  'please',\n",
       "  'click',\n",
       "  'renew',\n",
       "  'button',\n",
       "  'renew',\n",
       "  'listing',\n",
       "  'topsites',\n",
       "  'directory',\n",
       "  'listing',\n",
       "  'thursday',\n",
       "  'december',\n",
       "  'renew',\n",
       "  'listing',\n",
       "  'website',\n",
       "  'clicking',\n",
       "  'renew',\n",
       "  'cannot',\n",
       "  'access',\n",
       "  'internet',\n",
       "  'renew',\n",
       "  'listing',\n",
       "  'listing',\n",
       "  'currency',\n",
       "  'month',\n",
       "  'category',\n",
       "  'question',\n",
       "  'please',\n",
       "  'click',\n",
       "  'cannot',\n",
       "  'answer',\n",
       "  'please',\n",
       "  'happy',\n",
       "  'regard',\n",
       "  'thomas',\n",
       "  'remove',\n",
       "  'address',\n",
       "  'mailing',\n",
       "  'cancel',\n",
       "  'listing',\n",
       "  'simply',\n",
       "  'click',\n",
       "  'unsubscribe',\n",
       "  'renew',\n",
       "  'listing',\n",
       "  'category',\n",
       "  'following',\n",
       "  'category',\n",
       "  'computer',\n",
       "  'software',\n",
       "  'operating',\n",
       "  'system',\n",
       "  'linux',\n",
       "  'project',\n",
       "  'internet',\n",
       "  'computer',\n",
       "  'software',\n",
       "  'operating',\n",
       "  'system',\n",
       "  'linux',\n",
       "  'project',\n",
       "  'internet',\n",
       "  'computer',\n",
       "  'software',\n",
       "  'operating',\n",
       "  'system',\n",
       "  'linux',\n",
       "  'project',\n",
       "  'internet',\n",
       "  'email',\n",
       "  'headline',\n",
       "  'listing',\n",
       "  'currency',\n",
       "  'month',\n",
       "  'category',\n",
       "  'billed',\n",
       "  'annually',\n",
       "  'refund',\n",
       "  'cancel',\n",
       "  'anytime',\n",
       "  'refund',\n",
       "  'remaining',\n",
       "  'month',\n",
       "  'change',\n",
       "  'change',\n",
       "  'headline',\n",
       "  'description',\n",
       "  'category',\n",
       "  'select',\n",
       "  'category',\n",
       "  'clicking',\n",
       "  'checkboxes',\n",
       "  'category',\n",
       "  'topsitez',\n",
       "  'click',\n",
       "  'category',\n",
       "  'click',\n",
       "  'listing',\n",
       "  'cancel',\n",
       "  'cancel',\n",
       "  'listing',\n",
       "  'click',\n",
       "  'unsubscribe',\n",
       "  'check',\n",
       "  'email',\n",
       "  'invoice',\n",
       "  'local',\n",
       "  'check',\n",
       "  'country',\n",
       "  'credit',\n",
       "  'click',\n",
       "  'credit',\n",
       "  'option',\n",
       "  'enter',\n",
       "  'number',\n",
       "  'accept',\n",
       "  'mastercard',\n",
       "  'american',\n",
       "  'express',\n",
       "  'problem',\n",
       "  'renewing',\n",
       "  'website',\n",
       "  'clicking',\n",
       "  'description',\n",
       "  'sitescooper',\n",
       "  'automatically',\n",
       "  'retrieves',\n",
       "  'story',\n",
       "  'several',\n",
       "  'website',\n",
       "  'extraneous',\n",
       "  'convert',\n",
       "  'isilo',\n",
       "  'format',\n",
       "  'later',\n",
       "  'reading',\n",
       "  'maintains',\n",
       "  'cache',\n",
       "  'avoid',\n",
       "  'story',\n",
       "  'already',\n",
       "  'handle',\n",
       "  'diffing',\n",
       "  'level',\n",
       "  'netscape',\n",
       "  'style',\n",
       "  'palmpilot',\n",
       "  'still',\n",
       "  'handy',\n",
       "  'simple',\n",
       "  'website',\n",
       "  'conversion',\n",
       "  'included',\n",
       "  'popular',\n",
       "  'including',\n",
       "  'slashdot',\n",
       "  'freshmeat',\n",
       "  'linux',\n",
       "  'today',\n",
       "  'email',\n",
       "  'check',\n",
       "  'invoice',\n",
       "  'credit',\n",
       "  'number',\n",
       "  'expiry',\n",
       "  'january',\n",
       "  'february',\n",
       "  'march',\n",
       "  'april',\n",
       "  'august',\n",
       "  'september',\n",
       "  'october',\n",
       "  'november',\n",
       "  'december',\n",
       "  'postal',\n",
       "  'reach',\n",
       "  'million',\n",
       "  'continue',\n",
       "  'topsites',\n",
       "  'directory',\n",
       "  'listing',\n",
       "  'million',\n",
       "  'guaranteed',\n",
       "  'introduce',\n",
       "  'million',\n",
       "  'people',\n",
       "  'often',\n",
       "  'guarantee',\n",
       "  'listing',\n",
       "  'million',\n",
       "  'unpopular',\n",
       "  'category',\n",
       "  'matter',\n",
       "  'autosearch',\n",
       "  'patent',\n",
       "  'pending',\n",
       "  'continually',\n",
       "  'display',\n",
       "  'renewed',\n",
       "  'topsites',\n",
       "  'listing',\n",
       "  'seven',\n",
       "  'display',\n",
       "  'topsites',\n",
       "  'listing',\n",
       "  'million',\n",
       "  'guarantee',\n",
       "  'listing',\n",
       "  'million',\n",
       "  'adverting',\n",
       "  'would',\n",
       "  'display',\n",
       "  'listing',\n",
       "  'million',\n",
       "  'altavista',\n",
       "  'google',\n",
       "  'charge',\n",
       "  'depending',\n",
       "  'category',\n",
       "  'topsites',\n",
       "  'charge',\n",
       "  'month',\n",
       "  'listing',\n",
       "  'please',\n",
       "  'listing',\n",
       "  'expire',\n",
       "  'editor',\n",
       "  'listed',\n",
       "  'website',\n",
       "  'category',\n",
       "  'without',\n",
       "  'charge',\n",
       "  'listing',\n",
       "  'expires',\n",
       "  'however',\n",
       "  'editorial',\n",
       "  'review',\n",
       "  'listed',\n",
       "  'month',\n",
       "  'editor',\n",
       "  'authorize',\n",
       "  'listing',\n",
       "  'listing',\n",
       "  'category',\n",
       "  'topsites',\n",
       "  'massive',\n",
       "  'reach',\n",
       "  'display',\n",
       "  'listing',\n",
       "  'billion',\n",
       "  'guarantee',\n",
       "  'listing',\n",
       "  'million',\n",
       "  'effectiveness',\n",
       "  'least',\n",
       "  'expensive',\n",
       "  'advertising',\n",
       "  'bring',\n",
       "  'potential',\n",
       "  'customer',\n",
       "  'effective',\n",
       "  'topsites',\n",
       "  'exactly',\n",
       "  'highly',\n",
       "  'targeted',\n",
       "  'topsites',\n",
       "  'reach',\n",
       "  'customer',\n",
       "  'searching',\n",
       "  'selling',\n",
       "  'visitor',\n",
       "  'become',\n",
       "  'customer',\n",
       "  'highest',\n",
       "  'return',\n",
       "  'investment',\n",
       "  'independent',\n",
       "  'research',\n",
       "  'confirms',\n",
       "  'highest',\n",
       "  'online',\n",
       "  'listing',\n",
       "  'topsites',\n",
       "  'banner',\n",
       "  'online',\n",
       "  'advertising',\n",
       "  'lower',\n",
       "  'unlike',\n",
       "  'direct',\n",
       "  'nothing',\n",
       "  'mailing',\n",
       "  'printing',\n",
       "  'postage',\n",
       "  'medium',\n",
       "  'return',\n",
       "  'better',\n",
       "  'result',\n",
       "  'topsites',\n",
       "  'cancel',\n",
       "  'listing',\n",
       "  'reason',\n",
       "  'question',\n",
       "  'asked',\n",
       "  'hassle',\n",
       "  'change',\n",
       "  'listing',\n",
       "  'anytime',\n",
       "  'different',\n",
       "  'category',\n",
       "  'change',\n",
       "  'instantly',\n",
       "  'appear',\n",
       "  'directory',\n",
       "  'topsites',\n",
       "  'least',\n",
       "  'expensive',\n",
       "  'found',\n",
       "  'bring',\n",
       "  'buyer',\n",
       "  'tried',\n",
       "  'online',\n",
       "  'advertising',\n",
       "  'company',\n",
       "  'everyone',\n",
       "  'president',\n",
       "  'software',\n",
       "  'topsites',\n",
       "  'online',\n",
       "  'marketing',\n",
       "  'change',\n",
       "  'message',\n",
       "  'always',\n",
       "  'everyone',\n",
       "  'qualified',\n",
       "  'prospect',\n",
       "  'frequently',\n",
       "  'asked',\n",
       "  'question',\n",
       "  'change',\n",
       "  'listing',\n",
       "  'change',\n",
       "  'listing',\n",
       "  'later',\n",
       "  'rewrite',\n",
       "  'headline',\n",
       "  'description',\n",
       "  'renewing',\n",
       "  'change',\n",
       "  'another',\n",
       "  'website',\n",
       "  'receive',\n",
       "  'payment',\n",
       "  'instruction',\n",
       "  'change',\n",
       "  'listing',\n",
       "  'whenever',\n",
       "  'charge',\n",
       "  'change',\n",
       "  'category',\n",
       "  'additional',\n",
       "  'category',\n",
       "  'category',\n",
       "  'listing',\n",
       "  'month',\n",
       "  'category',\n",
       "  'topsitez',\n",
       "  'click',\n",
       "  'category',\n",
       "  'search',\n",
       "  'keywords',\n",
       "  'click',\n",
       "  'listing',\n",
       "  'listing',\n",
       "  'wrong',\n",
       "  'category',\n",
       "  'click',\n",
       "  'unsubscribe',\n",
       "  'cancel',\n",
       "  'listing',\n",
       "  'renew',\n",
       "  'month',\n",
       "  'topsites',\n",
       "  'longer',\n",
       "  'offer',\n",
       "  'listing',\n",
       "  'month',\n",
       "  'additional',\n",
       "  'change',\n",
       "  'listing',\n",
       "  'often',\n",
       "  'cancel',\n",
       "  'listing',\n",
       "  'anytime',\n",
       "  'refund',\n",
       "  'remaining',\n",
       "  'money',\n",
       "  'check',\n",
       "  'country',\n",
       "  'simply',\n",
       "  'convert',\n",
       "  'amount',\n",
       "  'local',\n",
       "  'currency',\n",
       "  'mastercard',\n",
       "  'american',\n",
       "  'express',\n",
       "  'simply',\n",
       "  'select',\n",
       "  'option',\n",
       "  'prefer',\n",
       "  'renewal',\n",
       "  'listed',\n",
       "  'listing',\n",
       "  'start',\n",
       "  'sorry',\n",
       "  'began',\n",
       "  'store',\n",
       "  'listing',\n",
       "  'contact',\n",
       "  'listed',\n",
       "  'originally',\n",
       "  'listing',\n",
       "  'editor',\n",
       "  'select',\n",
       "  'category',\n",
       "  'contract',\n",
       "  'contract',\n",
       "  'service',\n",
       "  'happy',\n",
       "  'answer',\n",
       "  'question',\n",
       "  'email',\n",
       "  'contact',\n",
       "  'customer',\n",
       "  'phone',\n",
       "  'sorry',\n",
       "  'still',\n",
       "  'renew',\n",
       "  'deadline',\n",
       "  'customer',\n",
       "  'month',\n",
       "  'renew',\n",
       "  'worry',\n",
       "  'about',\n",
       "  'deadline',\n",
       "  'listing',\n",
       "  'searched',\n",
       "  'included',\n",
       "  'listing',\n",
       "  'email',\n",
       "  'website',\n",
       "  'clicking',\n",
       "  'listing',\n",
       "  'topsitez',\n",
       "  'click',\n",
       "  'category',\n",
       "  'computer',\n",
       "  'software',\n",
       "  'operating',\n",
       "  'system',\n",
       "  'linux',\n",
       "  'project',\n",
       "  'internet',\n",
       "  'topsitez',\n",
       "  'entering',\n",
       "  'keywords',\n",
       "  'listing',\n",
       "  'search',\n",
       "  'since',\n",
       "  'three',\n",
       "  'million',\n",
       "  'listing',\n",
       "  'probably',\n",
       "  'listing',\n",
       "  'searching',\n",
       "  'definitely',\n",
       "  'search',\n",
       "  'listing',\n",
       "  'keywords',\n",
       "  'display',\n",
       "  'listing',\n",
       "  'change',\n",
       "  'every',\n",
       "  'listing',\n",
       "  'keyword',\n",
       "  'anytime',\n",
       "  'someone',\n",
       "  'search',\n",
       "  'listing',\n",
       "  'display',\n",
       "  'change',\n",
       "  'keywords',\n",
       "  'change',\n",
       "  'headline',\n",
       "  'description',\n",
       "  'listing',\n",
       "  'traffic',\n",
       "  'sorry',\n",
       "  'working',\n",
       "  'adding',\n",
       "  'feature',\n",
       "  'listing',\n",
       "  'internet',\n",
       "  'scoop',\n",
       "  'website',\n",
       "  'palmpilot',\n",
       "  'sitescooper',\n",
       "  'automatically',\n",
       "  'retrieves',\n",
       "  'story',\n",
       "  'several',\n",
       "  'website',\n",
       "  'extraneous',\n",
       "  'convert',\n",
       "  'isilo',\n",
       "  'format',\n",
       "  'later',\n",
       "  'reading',\n",
       "  'maintains',\n",
       "  'cache',\n",
       "  'avoid',\n",
       "  'story',\n",
       "  'already',\n",
       "  'handle',\n",
       "  'diffing',\n",
       "  'level',\n",
       "  'netscape',\n",
       "  'style',\n",
       "  'palmpilot',\n",
       "  'still',\n",
       "  'handy',\n",
       "  'simple',\n",
       "  'website',\n",
       "  'conversion',\n",
       "  'included',\n",
       "  'popular',\n",
       "  'including',\n",
       "  'slashdot',\n",
       "  'freshmeat',\n",
       "  'linux',\n",
       "  'today',\n",
       "  'jmason',\n",
       "  'software',\n",
       "  'sitescooper',\n",
       "  'linux',\n",
       "  'sirobot',\n",
       "  'irobot',\n",
       "  'script',\n",
       "  'downloads',\n",
       "  'recursively',\n",
       "  'advantage',\n",
       "  'ability',\n",
       "  'concurrently',\n",
       "  'sirobot',\n",
       "  'continue',\n",
       "  'aborted',\n",
       "  'downloads',\n",
       "  'convert',\n",
       "  'absolute',\n",
       "  'relative',\n",
       "  'pattern',\n",
       "  'matching',\n",
       "  'filter',\n",
       "  'prevent',\n",
       "  'downloading',\n",
       "  'whole',\n",
       "  'internet',\n",
       "  'karlsruhe',\n",
       "  'linux',\n",
       "  'whatissirobot',\n",
       "  'htmllinux',\n",
       "  'dialin',\n",
       "  'server',\n",
       "  'setup',\n",
       "  'guide',\n",
       "  'guide',\n",
       "  'setting',\n",
       "  'linux',\n",
       "  'dialin',\n",
       "  'server',\n",
       "  'jgentry',\n",
       "  'htmlpretzelgod',\n",
       "  'dpsftp',\n",
       "  'source',\n",
       "  'dpsftp',\n",
       "  'another',\n",
       "  'gnome',\n",
       "  'client',\n",
       "  'dpsftp',\n",
       "  'sourceforge',\n",
       "  'allows',\n",
       "  'spool',\n",
       "  'uploads',\n",
       "  'whilst',\n",
       "  'offline',\n",
       "  'transfer',\n",
       "  'automatically',\n",
       "  'connection',\n",
       "  'network',\n",
       "  'tranchant',\n",
       "  'freeserve',\n",
       "  'htmlez',\n",
       "  'system',\n",
       "  'publish',\n",
       "  'content',\n",
       "  'management',\n",
       "  'system',\n",
       "  'commerce',\n",
       "  'publishing',\n",
       "  'intranet',\n",
       "  'developer',\n",
       "  'nomore']]"
      ]
     },
     "execution_count": 53,
     "metadata": {},
     "output_type": "execute_result"
    }
   ],
   "source": [
    "lister2 = [[] for x in range(len(df_test_lem))]\n",
    "for i in range(len(df_test_lem_list)):\n",
    "    l2 = df_test_lem_list[i]\n",
    "    for token in l2:\n",
    "        if len(token)>4:\n",
    "            lister2[i].append(token)\n",
    "\n",
    "lister2[0:1]"
   ]
  },
  {
   "cell_type": "code",
   "execution_count": 54,
   "metadata": {},
   "outputs": [],
   "source": [
    "dictionary_test = gensim.corpora.Dictionary(lister2)\n",
    "bow_corpus_test = [dictionary_test.doc2bow(doc) for doc in lister2]"
   ]
  },
  {
   "cell_type": "code",
   "execution_count": 55,
   "metadata": {},
   "outputs": [],
   "source": [
    "tfidf2=gensim.models.TfidfModel(bow_corpus_test)\n",
    "tfidf2_corp = tfidf2[bow_corpus_test]"
   ]
  },
  {
   "cell_type": "code",
   "execution_count": 56,
   "metadata": {},
   "outputs": [],
   "source": [
    "lda_model_tfidf_test = gensim.models.LdaMulticore(tfidf2_corp, num_topics=2, id2word=dictionary_test, passes=2, workers=4)"
   ]
  },
  {
   "cell_type": "code",
   "execution_count": 57,
   "metadata": {},
   "outputs": [
    {
     "data": {
      "text/html": [
       "\n",
       "\n",
       "<link rel=\"stylesheet\" type=\"text/css\" href=\"https://cdn.jsdelivr.net/gh/bmabey/pyLDAvis/pyLDAvis/js/ldavis.v1.0.0.css\">\n",
       "\n",
       "<div id=\"ldavis_el2033216662483413127951935655\"></div>\n",
       "<script type=\"text/javascript\">\n",
       "\n",
       "var ldavis_el2033216662483413127951935655_data = {\"mdsDat\": {\"x\": [-0.0003799690861113943, 0.0003799690861113943], \"y\": [-0.006705685761400872, 0.006705685761400872], \"topics\": [1, 2], \"cluster\": [1, 1], \"Freq\": [75.66131751573192, 24.338682484268087]}, \"tinfo\": {\"Term\": [\"email\", \"report\", \"mmbtu\", \"money\", \"weekly\", \"price\", \"vince\", \"october\", \"remove\", \"security\", \"address\", \"shipping\", \"please\", \"order\", \"chokshi\", \"viagra\", \"office\", \"getting\", \"eastrans\", \"online\", \"software\", \"investment\", \"delivery\", \"search\", \"option\", \"london\", \"model\", \"february\", \"company\", \"feedback\", \"breathing\", \"ciick\", \"brian\", \"breath\", \"louise\", \"approval\", \"hplnl\", \"david\", \"revamping\", \"stationery\", \"managing\", \"bring\", \"presentation\", \"susan\", \"carefui\", \"texas\", \"houston\", \"timeline\", \"lottery\", \"drive\", \"discussed\", \"action\", \"identity\", \"tongue\", \"aware\", \"panel\", \"lender\", \"lavorato\", \"custom\", \"speak\", \"thursday\", \"student\", \"tuesday\", \"enron\", \"business\", \"request\", \"kitchen\", \"august\", \"meeting\", \"trading\", \"meter\", \"account\", \"matter\", \"message\", \"people\", \"power\", \"group\", \"market\", \"offer\", \"credit\", \"click\", \"attached\", \"information\", \"subject\", \"would\", \"thanks\", \"please\", \"regard\", \"company\", \"change\", \"vince\", \"energy\", \"kaminski\", \"software\", \"original\", \"product\", \"service\", \"price\", \"email\", \"averaged\", \"camera\", \"diploma\", \"aerofoam\", \"cialls\", \"listbot\", \"joannie\", \"backgammon\", \"eastrans\", \"toner\", \"shlpplng\", \"imagine\", \"errrectlon\", \"enlargement\", \"cartridge\", \"rebel\", \"seekercenter\", \"burst\", \"surbey\", \"dashboard\", \"reflnance\", \"avail\", \"advantaqes\", \"youour\", \"andmanyother\", \"edmondson\", \"throughput\", \"meritocracy\", \"blanchard\", \"resend\", \"grade\", \"baylor\", \"weekly\", \"chokshi\", \"feedback\", \"shipping\", \"remove\", \"cotton\", \"october\", \"mmbtu\", \"email\", \"money\", \"report\", \"proven\", \"hottest\", \"price\", \"getting\", \"security\", \"london\", \"vince\", \"search\", \"viagra\", \"address\", \"order\", \"please\", \"investment\", \"office\", \"online\", \"software\", \"enron\", \"company\", \"delivery\", \"option\", \"attached\", \"number\", \"website\", \"subject\", \"would\", \"thanks\", \"product\", \"energy\", \"question\", \"information\", \"message\", \"service\", \"kaminski\"], \"Freq\": [9.0, 7.0, 6.0, 6.0, 3.0, 9.0, 13.0, 4.0, 3.0, 5.0, 6.0, 2.0, 13.0, 7.0, 2.0, 4.0, 6.0, 3.0, 1.0, 6.0, 9.0, 4.0, 4.0, 3.0, 4.0, 2.0, 3.0, 3.0, 12.0, 1.0, 1.737865956295569, 1.975112938162622, 3.804840628478491, 1.7698278551846987, 8.757297268906795, 3.881552369820001, 4.021875737759958, 5.387337396577845, 1.6669337078778619, 2.260985080426561, 1.9255381128905649, 3.450862390628712, 4.869849639799746, 2.189683383301039, 1.1837427312135065, 5.268210520964677, 5.991638504892965, 1.285089000913127, 2.3927050521814346, 2.1839658400903033, 2.232905075149805, 3.6702273628619464, 2.320825734546925, 2.008821542090012, 1.929617795670635, 1.7908523418835869, 1.54294481805229, 2.0270184916059026, 2.2737340891142814, 2.3157816781609277, 4.583052924024867, 2.660017717977318, 3.646505814074062, 29.65410803177867, 9.984882400406976, 6.683004916650764, 4.8639356917724434, 4.570252175213664, 8.657166459499303, 5.545855637506997, 9.121118589378561, 6.602010685088641, 2.9143096961762214, 9.980424097592854, 5.73368405273579, 7.30935181671092, 7.688929129568628, 6.864175641207669, 7.386164615684918, 5.673033207116601, 7.985450912031662, 10.694449568646274, 8.533836693855495, 9.65821429556179, 9.481547557406294, 9.190010823362341, 11.149510703393192, 6.54135257162602, 9.849788418860543, 7.288497259113237, 10.89912103798583, 7.4871717193576925, 7.150055916534497, 7.776322524229114, 6.166827448217198, 6.452470307325233, 6.391279910853132, 7.00153442120276, 7.055479816036076, 0.5762409541872645, 0.47894088159752024, 0.3688464018503221, 0.3874677283058996, 0.5357121946659448, 0.3499861349091916, 0.29409120600024186, 0.26786327807208393, 0.8564918978610807, 0.40550799937220644, 0.41912084379444425, 0.564952665309975, 0.4562172935174095, 0.5381293205143234, 0.37527280153497156, 0.32421109452685987, 0.32859660569378946, 0.31913333784371917, 0.32489440586766477, 0.2761272511612368, 0.31778060349085613, 0.4435923017048083, 0.31905137165502334, 0.24007181378319137, 0.5777764633996064, 0.37574714780116597, 0.3633654939810155, 0.23001790230887398, 0.28086147349223073, 0.29856018630126263, 0.4453860113696225, 0.637659430083036, 1.513163642861086, 0.9575112593227423, 0.7613551760064626, 1.0459921039966846, 1.4011413294886914, 0.48488397300824704, 1.4948231445358786, 1.990520698335033, 2.7679173115288327, 2.06492094858089, 2.2302754463044305, 0.5922257247667291, 0.5378417012973514, 2.4105373810821265, 1.1277473236906743, 1.6616593237607469, 0.9556189954052381, 3.031177902824346, 1.0339477222562, 1.320882264103541, 1.6635610506677778, 1.751438490597773, 2.6454628871727515, 1.2335662577757094, 1.5816833687563818, 1.5780074983069996, 2.010239119264638, 4.105545838545528, 2.2595786510025597, 1.3198762926521928, 1.1864788672072635, 2.1176598591533473, 1.5598126186912173, 1.4698238188038493, 1.8708239004563643, 1.8546253776428814, 1.7726521752019087, 1.4990322822774211, 1.53339005933435, 1.4326981729749615, 1.5449018417584057, 1.5647260255121342, 1.4356825772131525, 1.4359472069320387], \"Total\": [9.0, 7.0, 6.0, 6.0, 3.0, 9.0, 13.0, 4.0, 3.0, 5.0, 6.0, 2.0, 13.0, 7.0, 2.0, 4.0, 6.0, 3.0, 1.0, 6.0, 9.0, 4.0, 4.0, 3.0, 4.0, 2.0, 3.0, 3.0, 12.0, 1.0, 1.8675688775514445, 2.13366044311244, 4.125805973262286, 1.9276390978008446, 9.556971206727548, 4.243467076177262, 4.397971541060544, 5.894695635724492, 1.8266120400761383, 2.479870874933822, 2.113072772604476, 3.787258336625886, 5.345062437511554, 2.404045089509446, 1.2997099353029866, 5.7911370478223185, 6.5872142392814865, 1.4142155704421733, 2.634365089595097, 2.405967351731601, 2.4615673207119917, 4.0470824875750955, 2.5612505456717902, 2.2172680170421524, 2.132390790916597, 1.9807156902422838, 1.70653963112483, 2.242329836645651, 2.5154235452924434, 2.564097286599722, 5.078723369142259, 2.946553144325203, 4.054236447027548, 33.7596538703242, 11.304920454515432, 7.5064759908811265, 5.432568959026565, 5.106344559400011, 9.802700529633931, 6.236621420479353, 10.426771006808304, 7.489306729116097, 3.2388385523249283, 11.545150123104989, 6.515573303704428, 8.393175060238041, 8.848651894870525, 7.870543202164646, 8.567564974736342, 6.5182051429178, 9.366208405433078, 12.812109427799621, 10.078738535613901, 11.529038196018153, 11.336172935049175, 10.96266299856425, 13.794973590565943, 7.60830942793764, 12.109367069863103, 8.696648325926263, 13.930298940810177, 9.020561778692043, 8.586003123466536, 9.786561643493751, 7.216400681438708, 7.951502589602654, 7.826962488066285, 9.412071802284887, 9.82339712756491, 1.0143079242453878, 0.8612257689606178, 0.7019860454013864, 0.7458415621897092, 1.0439415408696116, 0.6855856190048373, 0.580133169212955, 0.5345821653856351, 1.7172126455399481, 0.8141203900034426, 0.8414536682578957, 1.1379519506591322, 0.9200509748531083, 1.0882697673954145, 0.7591266778600176, 0.6606896199595604, 0.6724702050799598, 0.6551172605742592, 0.6671999247723157, 0.5682793292824689, 0.6601131172425418, 0.9235853839979218, 0.6728375307855168, 0.5073543483115112, 1.224914760037139, 0.7995572047032314, 0.7756272504957603, 0.4925775931743262, 0.6016741840368163, 0.6398189627077524, 0.9561642940913769, 1.3861816334665358, 3.409603214131007, 2.134699001413817, 1.6828017838313745, 2.435996837476157, 3.7282681112476417, 1.0878933086751985, 4.242606647627649, 6.126952530364726, 9.82339712756491, 6.797109673751426, 7.615038295868282, 1.422366761637813, 1.2736148094711857, 9.412071802284887, 3.439060662491788, 5.859254211327723, 2.7591701632480827, 13.930298940810177, 3.1254434060045737, 4.549111575568903, 6.445646289704202, 7.31679963552628, 13.794973590565943, 4.334498253258723, 6.3878916184083865, 6.531772696640923, 9.786561643493751, 33.7596538703242, 12.109367069863103, 4.9301183367006916, 4.185658632021788, 12.812109427799621, 7.362413477643345, 6.683000844947041, 11.529038196018153, 11.336172935049175, 10.96266299856425, 7.951502589602654, 9.020561778692043, 7.600145118322828, 10.078738535613901, 11.545150123104989, 7.826962488066285, 8.586003123466536], \"Category\": [\"Default\", \"Default\", \"Default\", \"Default\", \"Default\", \"Default\", \"Default\", \"Default\", \"Default\", \"Default\", \"Default\", \"Default\", \"Default\", \"Default\", \"Default\", \"Default\", \"Default\", \"Default\", \"Default\", \"Default\", \"Default\", \"Default\", \"Default\", \"Default\", \"Default\", \"Default\", \"Default\", \"Default\", \"Default\", \"Default\", \"Topic1\", \"Topic1\", \"Topic1\", \"Topic1\", \"Topic1\", \"Topic1\", \"Topic1\", \"Topic1\", \"Topic1\", \"Topic1\", \"Topic1\", \"Topic1\", \"Topic1\", \"Topic1\", \"Topic1\", \"Topic1\", \"Topic1\", \"Topic1\", \"Topic1\", \"Topic1\", \"Topic1\", \"Topic1\", \"Topic1\", \"Topic1\", \"Topic1\", \"Topic1\", \"Topic1\", \"Topic1\", \"Topic1\", \"Topic1\", \"Topic1\", \"Topic1\", \"Topic1\", \"Topic1\", \"Topic1\", \"Topic1\", \"Topic1\", \"Topic1\", \"Topic1\", \"Topic1\", \"Topic1\", \"Topic1\", \"Topic1\", \"Topic1\", \"Topic1\", \"Topic1\", \"Topic1\", \"Topic1\", \"Topic1\", \"Topic1\", \"Topic1\", \"Topic1\", \"Topic1\", \"Topic1\", \"Topic1\", \"Topic1\", \"Topic1\", \"Topic1\", \"Topic1\", \"Topic1\", \"Topic1\", \"Topic1\", \"Topic1\", \"Topic1\", \"Topic1\", \"Topic1\", \"Topic1\", \"Topic1\", \"Topic1\", \"Topic2\", \"Topic2\", \"Topic2\", \"Topic2\", \"Topic2\", \"Topic2\", \"Topic2\", \"Topic2\", \"Topic2\", \"Topic2\", \"Topic2\", \"Topic2\", \"Topic2\", \"Topic2\", \"Topic2\", \"Topic2\", \"Topic2\", \"Topic2\", \"Topic2\", \"Topic2\", \"Topic2\", \"Topic2\", \"Topic2\", \"Topic2\", \"Topic2\", \"Topic2\", \"Topic2\", \"Topic2\", \"Topic2\", \"Topic2\", \"Topic2\", \"Topic2\", \"Topic2\", \"Topic2\", \"Topic2\", \"Topic2\", \"Topic2\", \"Topic2\", \"Topic2\", \"Topic2\", \"Topic2\", \"Topic2\", \"Topic2\", \"Topic2\", \"Topic2\", \"Topic2\", \"Topic2\", \"Topic2\", \"Topic2\", \"Topic2\", \"Topic2\", \"Topic2\", \"Topic2\", \"Topic2\", \"Topic2\", \"Topic2\", \"Topic2\", \"Topic2\", \"Topic2\", \"Topic2\", \"Topic2\", \"Topic2\", \"Topic2\", \"Topic2\", \"Topic2\", \"Topic2\", \"Topic2\", \"Topic2\", \"Topic2\", \"Topic2\", \"Topic2\", \"Topic2\", \"Topic2\", \"Topic2\", \"Topic2\", \"Topic2\"], \"logprob\": [30.0, 29.0, 28.0, 27.0, 26.0, 25.0, 24.0, 23.0, 22.0, 21.0, 20.0, 19.0, 18.0, 17.0, 16.0, 15.0, 14.0, 13.0, 12.0, 11.0, 10.0, 9.0, 8.0, 7.0, 6.0, 5.0, 4.0, 3.0, 2.0, 1.0, -8.8309, -8.703, -8.0473, -8.8127, -7.2137, -8.0273, -7.9918, -7.6995, -8.8726, -8.5678, -8.7284, -8.145, -7.8005, -8.5998, -9.2149, -7.7219, -7.5932, -9.1327, -8.5112, -8.6024, -8.5803, -8.0833, -8.5417, -8.686, -8.7263, -8.8009, -8.9499, -8.677, -8.5622, -8.5438, -7.8612, -8.4052, -8.0898, -5.994, -7.0825, -7.484, -7.8017, -7.864, -7.2252, -7.6705, -7.173, -7.4962, -8.3139, -7.083, -7.6372, -7.3944, -7.3438, -7.4573, -7.384, -7.6479, -7.306, -7.0139, -7.2395, -7.1158, -7.1342, -7.1655, -6.9722, -7.5054, -7.0961, -7.3973, -6.9949, -7.3704, -7.4165, -7.3325, -7.5644, -7.5191, -7.5286, -7.4374, -7.4298, -8.8006, -8.9856, -9.2468, -9.1975, -8.8735, -9.2992, -9.4732, -9.5667, -8.4043, -9.152, -9.119, -8.8204, -9.0342, -8.869, -9.2295, -9.3757, -9.3623, -9.3915, -9.3736, -9.5363, -9.3958, -9.0622, -9.3918, -9.6762, -8.7979, -9.2282, -9.2617, -9.719, -9.5193, -9.4582, -9.0582, -8.6993, -7.8352, -8.2928, -8.522, -8.2044, -7.9121, -8.9732, -7.8474, -7.561, -7.2313, -7.5243, -7.4473, -8.7732, -8.8696, -7.3695, -8.1292, -7.7416, -8.2948, -7.1404, -8.216, -7.9711, -7.7404, -7.6889, -7.2765, -8.0395, -7.7909, -7.7932, -7.5511, -6.837, -7.4342, -7.9718, -8.0784, -7.4991, -7.8048, -7.8642, -7.623, -7.6317, -7.6769, -7.8446, -7.8219, -7.8898, -7.8144, -7.8017, -7.8877, -7.8876], \"loglift\": [30.0, 29.0, 28.0, 27.0, 26.0, 25.0, 24.0, 23.0, 22.0, 21.0, 20.0, 19.0, 18.0, 17.0, 16.0, 15.0, 14.0, 13.0, 12.0, 11.0, 10.0, 9.0, 8.0, 7.0, 6.0, 5.0, 4.0, 3.0, 2.0, 1.0, 0.2069, 0.2017, 0.1979, 0.1935, 0.1915, 0.1898, 0.1895, 0.1889, 0.1874, 0.1865, 0.186, 0.1859, 0.1858, 0.1855, 0.1854, 0.1843, 0.1841, 0.1832, 0.1827, 0.1821, 0.1814, 0.1812, 0.1803, 0.1802, 0.179, 0.1781, 0.1781, 0.178, 0.1779, 0.177, 0.1762, 0.1766, 0.1729, 0.1492, 0.1547, 0.1627, 0.1683, 0.168, 0.1546, 0.1615, 0.1451, 0.1528, 0.1733, 0.1333, 0.1511, 0.1406, 0.1384, 0.1421, 0.1305, 0.14, 0.1194, 0.0982, 0.1125, 0.1018, 0.1003, 0.1025, 0.066, 0.1278, 0.0724, 0.1023, 0.0335, 0.0926, 0.0959, 0.049, 0.1217, 0.07, 0.0763, -0.017, -0.0521, 0.8477, 0.8263, 0.7696, 0.7582, 0.7459, 0.7407, 0.7337, 0.7221, 0.7175, 0.7161, 0.7161, 0.7129, 0.7116, 0.7089, 0.7086, 0.7012, 0.697, 0.6939, 0.6935, 0.6914, 0.6821, 0.6797, 0.667, 0.6648, 0.6617, 0.658, 0.6548, 0.6516, 0.6512, 0.6509, 0.6491, 0.6366, 0.6007, 0.6114, 0.62, 0.5677, 0.4344, 0.605, 0.3699, 0.2888, 0.1464, 0.2217, 0.1851, 0.5369, 0.5511, 0.051, 0.2981, 0.1529, 0.3528, -0.112, 0.3069, 0.1765, 0.0587, -0.0166, -0.2384, 0.1564, 0.0172, -0.0074, -0.1697, -0.6938, -0.2657, 0.0953, 0.1524, -0.387, -0.1387, -0.1013, -0.4054, -0.3972, -0.4089, -0.2554, -0.3589, -0.2555, -0.4624, -0.5855, -0.2828, -0.3752]}, \"token.table\": {\"Topic\": [1, 2, 1, 1, 2, 1, 2, 1, 1, 2, 1, 2, 2, 1, 1, 2, 1, 1, 1, 1, 1, 2, 1, 1, 2, 1, 2, 1, 2, 1, 1, 2, 1, 2, 1, 1, 2, 1, 1, 2, 1, 2, 1, 1, 1, 2, 1, 2, 1, 2, 1, 2, 1, 2, 1, 2, 1, 2, 1, 2, 1, 1, 2, 1, 2, 1, 2, 1, 1, 1, 2, 1, 2, 1, 2, 1, 2, 1, 2, 1, 1, 1, 2, 1, 1, 2, 1, 1, 2, 1, 1, 2, 1, 2, 1, 2, 1, 2, 1, 2, 1, 2, 1, 2, 1, 2, 1, 2, 1, 2, 1, 2, 1, 2, 1, 2, 1, 2, 1, 1, 2, 1, 2, 1, 2, 1, 1, 2, 1, 2, 1, 2, 1, 2, 1, 2, 1, 2, 1, 2, 1, 2, 1, 1, 2, 1, 2, 1, 2, 1, 2, 1, 2, 1, 1, 1, 1, 2, 1, 1, 2, 1, 2, 1, 1, 1, 1, 2, 1, 1, 2, 1, 2, 1, 2, 1, 2, 1, 2], \"Freq\": [0.9346659514940382, 0.13352370735629118, 0.9883663138273947, 0.7757174029215084, 0.3102869611686034, 0.8163833375390793, 0.8163833375390793, 0.9426254353323298, 0.8585627575215897, 0.15610231954937995, 0.9791740337607562, 0.19583480675215126, 0.9858939046975972, 0.9379143862932884, 0.7214061821748566, 0.7214061821748566, 1.0375386151285833, 1.0709109709635904, 0.9695075400836626, 0.7921297501645309, 0.8845705761694043, 0.08845705761694043, 0.7694024434512623, 0.8049077917905164, 0.1149868273986452, 0.4684501184184268, 0.4684501184184268, 0.9579080445127148, 0.9579080445127148, 0.9373562726234616, 0.8541343149442865, 0.10676678936803581, 0.8258069924139355, 0.1651613984827871, 0.9192077863019195, 0.9204987981268365, 0.15341646635447276, 0.7950947281792577, 0.8482202150858754, 0.1696440430171751, 0.8113395514714682, 0.20283488786786705, 0.8124904743297915, 0.8312664752331648, 0.5823390612672591, 0.5823390612672591, 0.7125844460016458, 0.30539333400070534, 0.7760048843670777, 0.2217156812477365, 0.9188898101923084, 0.9188898101923084, 0.8886347032832272, 0.11848462710443029, 0.5937804594353565, 0.29689022971767826, 0.5942470525097834, 0.5942470525097834, 0.5815541498912934, 0.2907770749456467, 1.0458453700682049, 0.9040925211034146, 0.11301156513792683, 0.7851667494469599, 0.7851667494469599, 0.9108554514927181, 0.151809241915453, 0.909510205478825, 0.7808685500837718, 0.8787717261882395, 0.8787717261882395, 0.89296889369616, 0.19843753193247998, 0.6921216308587891, 0.230707210286263, 0.8152803929069387, 0.11646862755813409, 0.9203748793086514, 0.18407497586173027, 0.8919294420092284, 1.171962234877453, 0.7248556202295291, 0.36242781011476455, 0.7591962131214701, 0.9417209495896072, 0.1046356610655119, 0.9464889358897434, 0.8893922338263489, 0.12705603340376412, 0.9262579630116223, 0.918114347448712, 0.1020127052720791, 0.866164570695991, 0.1732329141391982, 0.8631627177889805, 0.09590696864322006, 0.6528531076707865, 0.32642655383539326, 0.5903986902908075, 0.29519934514540375, 0.7356067858237788, 0.2942427143295115, 0.8149501543508197, 0.27165005145027327, 0.7071124544806715, 0.23570415149355717, 0.8170349475774379, 0.11671927822534826, 0.782730875644663, 0.3130923502578652, 0.7654889770691709, 0.30619559082766834, 0.7167330792456235, 0.2389110264152078, 0.8200306553246807, 0.27334355177489356, 0.831439420406989, 0.13857323673449817, 1.00973603119959, 0.9208706157275065, 0.1534784359545844, 0.7973918853692218, 0.21747051419160593, 0.8340109612585003, 0.11914442303692861, 0.9354427676859467, 0.7437257329784364, 0.21249306656526754, 0.7545743628186162, 0.1257623938031027, 0.7030535491763951, 0.7030535491763951, 0.789458609880341, 0.13157643498005683, 0.9200467023983102, 0.1314352431997586, 0.5364421067160624, 0.2682210533580312, 0.6565955161004072, 0.2626382064401629, 0.9325281275133106, 0.13321830393047296, 1.094923254703081, 0.6399092033333952, 0.3199546016666976, 0.6826807398570933, 0.34134036992854666, 0.7665809065966724, 0.12776348443277874, 0.4105095641405108, 0.4105095641405108, 0.8174474643317162, 0.20436186608292906, 0.7800016054196689, 0.8064936042500085, 1.018138772001357, 0.8673750429115374, 0.1734750085823075, 0.8319311516774035, 0.8633883050445481, 0.17267766100890963, 0.8209684089694909, 0.1824374242154424, 0.9844993784027354, 0.707105777153434, 0.902010936263813, 0.9620593580199764, 0.16034322633666273, 0.9866222782671414, 0.659469426098837, 0.21982314203294565, 0.78964565274148, 0.21535790529313092, 0.7481668962799034, 0.1496333792559807, 0.5865785179081997, 0.5865785179081997, 0.7939187282662038, 0.1764263840591564], \"Term\": [\"account\", \"account\", \"action\", \"address\", \"address\", \"andmanyother\", \"andmanyother\", \"approval\", \"attached\", \"attached\", \"august\", \"august\", \"averaged\", \"aware\", \"baylor\", \"baylor\", \"breath\", \"breathing\", \"brian\", \"bring\", \"business\", \"business\", \"carefui\", \"change\", \"change\", \"chokshi\", \"chokshi\", \"cialls\", \"cialls\", \"ciick\", \"click\", \"click\", \"company\", \"company\", \"cotton\", \"credit\", \"credit\", \"custom\", \"david\", \"david\", \"delivery\", \"delivery\", \"discussed\", \"drive\", \"eastrans\", \"eastrans\", \"email\", \"email\", \"energy\", \"energy\", \"enlargement\", \"enlargement\", \"enron\", \"enron\", \"february\", \"february\", \"feedback\", \"feedback\", \"getting\", \"getting\", \"grade\", \"group\", \"group\", \"hottest\", \"hottest\", \"houston\", \"houston\", \"hplnl\", \"identity\", \"imagine\", \"imagine\", \"information\", \"information\", \"investment\", \"investment\", \"kaminski\", \"kaminski\", \"kitchen\", \"kitchen\", \"lavorato\", \"lender\", \"london\", \"london\", \"lottery\", \"louise\", \"louise\", \"managing\", \"market\", \"market\", \"matter\", \"meeting\", \"meeting\", \"message\", \"message\", \"meter\", \"meter\", \"mmbtu\", \"mmbtu\", \"model\", \"model\", \"money\", \"money\", \"number\", \"number\", \"october\", \"october\", \"offer\", \"offer\", \"office\", \"office\", \"online\", \"online\", \"option\", \"option\", \"order\", \"order\", \"original\", \"original\", \"panel\", \"people\", \"people\", \"please\", \"please\", \"power\", \"power\", \"presentation\", \"price\", \"price\", \"product\", \"product\", \"proven\", \"proven\", \"question\", \"question\", \"regard\", \"regard\", \"remove\", \"remove\", \"report\", \"report\", \"request\", \"request\", \"revamping\", \"search\", \"search\", \"security\", \"security\", \"service\", \"service\", \"shipping\", \"shipping\", \"software\", \"software\", \"speak\", \"stationery\", \"student\", \"subject\", \"subject\", \"susan\", \"texas\", \"texas\", \"thanks\", \"thanks\", \"thursday\", \"timeline\", \"tongue\", \"trading\", \"trading\", \"tuesday\", \"viagra\", \"viagra\", \"vince\", \"vince\", \"website\", \"website\", \"weekly\", \"weekly\", \"would\", \"would\"]}, \"R\": 30, \"lambda.step\": 0.01, \"plot.opts\": {\"xlab\": \"PC1\", \"ylab\": \"PC2\"}, \"topic.order\": [2, 1]};\n",
       "if(typeof(window.LDAvis) !== \"undefined\"){\n",
       "   !function(LDAvis){\n",
       "       new LDAvis(\"#\" + \"ldavis_el2033216662483413127951935655\", ldavis_el2033216662483413127951935655_data);\n",
       "   }(LDAvis);\n",
       "}else{\n",
       "  require.config({paths: {d3: \"https://d3js.org/d3.v5\"}});\n",
       "  require([\"d3\"], function(d3){\n",
       "    window.d3 = d3;\n",
       "    $.getScript(\"https://cdn.jsdelivr.net/gh/bmabey/pyLDAvis/pyLDAvis/js/ldavis.v3.0.0.js\", function(){\n",
       "       new LDAvis(\"#\" + \"ldavis_el2033216662483413127951935655\", ldavis_el2033216662483413127951935655_data);\n",
       "    });\n",
       "  });\n",
       "}\n",
       "</script>"
      ],
      "text/plain": [
       "<IPython.core.display.HTML object>"
      ]
     },
     "execution_count": 57,
     "metadata": {},
     "output_type": "execute_result"
    }
   ],
   "source": [
    "lda_display_test = pyLDAvis.gensim.prepare(lda_model_tfidf_test, tfidf2_corp, \n",
    "                                          dictionary_test, mds='mmds')\n",
    "pyLDAvis.display(lda_display_test, template_type='notebook')"
   ]
  },
  {
   "cell_type": "code",
   "execution_count": 62,
   "metadata": {},
   "outputs": [],
   "source": [
    "y_pred2 = [] # model predictions\n",
    "y_actual2 = list(df_test['spam']) # list of original classification of spam/normal for the data set\n",
    "\n",
    "for i in range(0,len(df_test)): # for each document\n",
    "    for index, score in sorted(lda_model_tfidf_test[tfidf2_corp[i]], key=lambda tup: -1*tup[1]): # pull the topic (index) and score (probability) from the model \n",
    "        if score >= 0.5 and index == 1: # if the index is 1 and score (read probability) is >0.5 \n",
    "                                        # assign 0\n",
    "            y_pred2.append(0)\n",
    "            break\n",
    "        elif score > 0.5 and index == 0: # same as above for 0\n",
    "            y_pred2.append(1)\n",
    "            break"
   ]
  },
  {
   "cell_type": "markdown",
   "metadata": {},
   "source": [
    "These are the results for df_test:"
   ]
  },
  {
   "cell_type": "code",
   "execution_count": 63,
   "metadata": {},
   "outputs": [
    {
     "name": "stdout",
     "output_type": "stream",
     "text": [
      "Confusion Matrix\n",
      "Classification report\n",
      "              precision    recall  f1-score   support\n",
      "\n",
      "      Normal      0.603     0.897     0.721      1493\n",
      "        Spam      0.723     0.313     0.437      1284\n",
      "\n",
      "    accuracy                          0.627      2777\n",
      "   macro avg      0.663     0.605     0.579      2777\n",
      "weighted avg      0.658     0.627     0.590      2777\n",
      "\n"
     ]
    }
   ],
   "source": [
    "classification_eval(y_actual2,y_pred2)\n",
    "        ## Will likely turn out the sample size for testing is too small for a binary division (i.e. only 2 topic models)"
   ]
  },
  {
   "cell_type": "markdown",
   "metadata": {},
   "source": [
    "Unexpectedly, the weighted average is only slightly worse in this case. However, one may note that there's a much better performance within the Spam detection as opposed to normal e-mails detection. This favouritism is potentially due to a large amount of spam having ended up in the test sample for this seed we ran. Similar results have _not_ been observed often enough in other seeds for us to make this a general statement point. It's a curious fact, nonetheless, since 'df_test' uniformly performed much worse in previous attempts.\n",
    "\n",
    "We will now add the values together to perform the final accuracy classification:"
   ]
  },
  {
   "cell_type": "code",
   "execution_count": 64,
   "metadata": {},
   "outputs": [],
   "source": [
    "y_PRED = y_pred + y_pred2\n",
    "y_true = y_actual + y_actual2\n",
    "\n",
    "Alex_y_pred = y_PRED\n",
    "Alex_y_actual = y_true"
   ]
  },
  {
   "cell_type": "markdown",
   "metadata": {},
   "source": [
    "This is what we ultimately get:"
   ]
  },
  {
   "cell_type": "code",
   "execution_count": 65,
   "metadata": {},
   "outputs": [
    {
     "name": "stdout",
     "output_type": "stream",
     "text": [
      "Confusion Matrix\n",
      "Classification report\n",
      "              precision    recall  f1-score   support\n",
      "\n",
      "      Normal      0.654     0.798     0.719     15046\n",
      "        Spam      0.676     0.499     0.574     12670\n",
      "\n",
      "    accuracy                          0.661     27716\n",
      "   macro avg      0.665     0.648     0.646     27716\n",
      "weighted avg      0.664     0.661     0.653     27716\n",
      "\n"
     ]
    }
   ],
   "source": [
    "classification_eval(y_true,y_PRED)"
   ]
  },
  {
   "cell_type": "markdown",
   "metadata": {},
   "source": [
    "We will now upload our results to the [Data folder](https://github.com/xiaozhang-github/DST-Assessment-3/tree/main/Data) within our repository using pickle(), so they can be processed and added to the [final report](https://github.com/xiaozhang-github/DST-Assessment-3/blob/main/Report/06%20-Report.ipynb). The following blocks of code are commented as the user is not expected to run them."
   ]
  },
  {
   "cell_type": "code",
   "execution_count": 66,
   "metadata": {},
   "outputs": [],
   "source": [
    "# pickle.dump(Alex_y_pred, open(\"D://Datasets/Alex_y_pred.p\",\"wb\"))\n",
    "# pickle.dump(Alex_y_actual, open(\"D://Datasets/Alex_y_actual.p\",\"wb\"))"
   ]
  },
  {
   "cell_type": "code",
   "execution_count": 118,
   "metadata": {},
   "outputs": [],
   "source": [
    "gCH[48], perplexity[48]\n",
    "# optimal_values=[gCH[48],perplexity[48]]\n",
    "# pickle.dump(optimal_values, open(\"D://Datasets/Alex_optimal_values.p\",\"wb\"))"
   ]
  },
  {
   "cell_type": "markdown",
   "metadata": {},
   "source": [
    "This marks the end of our main inquiry. All results have been sent to the main branch and processed in the report. Lastly, we will come back to the 'replies and forwards' discussion we briefly started in section 1."
   ]
  },
  {
   "cell_type": "markdown",
   "metadata": {},
   "source": [
    "## 6. An aside on replies/forwards + Conclusions"
   ]
  },
  {
   "cell_type": "markdown",
   "metadata": {},
   "source": [
    "We recall what our privileged selection looked like:"
   ]
  },
  {
   "cell_type": "code",
   "execution_count": 121,
   "metadata": {},
   "outputs": [
    {
     "data": {
      "text/html": [
       "<div>\n",
       "<style scoped>\n",
       "    .dataframe tbody tr th:only-of-type {\n",
       "        vertical-align: middle;\n",
       "    }\n",
       "\n",
       "    .dataframe tbody tr th {\n",
       "        vertical-align: top;\n",
       "    }\n",
       "\n",
       "    .dataframe thead th {\n",
       "        text-align: right;\n",
       "    }\n",
       "</style>\n",
       "<table border=\"1\" class=\"dataframe\">\n",
       "  <thead>\n",
       "    <tr style=\"text-align: right;\">\n",
       "      <th></th>\n",
       "      <th>E-mails</th>\n",
       "      <th>spam</th>\n",
       "    </tr>\n",
       "  </thead>\n",
       "  <tbody>\n",
       "    <tr>\n",
       "      <th>1876</th>\n",
       "      <td>Subject: enron year end 2000 performance manag...</td>\n",
       "      <td>0.0</td>\n",
       "    </tr>\n",
       "    <tr>\n",
       "      <th>20016</th>\n",
       "      <td>Subject: ref : investment with hst associates ...</td>\n",
       "      <td>1.0</td>\n",
       "    </tr>\n",
       "    <tr>\n",
       "      <th>12573</th>\n",
       "      <td>Subject: fw : new building\\n- - - - - original...</td>\n",
       "      <td>0.0</td>\n",
       "    </tr>\n",
       "    <tr>\n",
       "      <th>6961</th>\n",
       "      <td>Subject: re : martin lin\\nnorma ,\\nthanks for ...</td>\n",
       "      <td>0.0</td>\n",
       "    </tr>\n",
       "    <tr>\n",
       "      <th>5387</th>\n",
       "      <td>Subject: re : worldpower\\nmark ,\\ni agree with...</td>\n",
       "      <td>0.0</td>\n",
       "    </tr>\n",
       "    <tr>\n",
       "      <th>...</th>\n",
       "      <td>...</td>\n",
       "      <td>...</td>\n",
       "    </tr>\n",
       "    <tr>\n",
       "      <th>462</th>\n",
       "      <td>Subject: re : lst rev mar . 2000 josey ranch n...</td>\n",
       "      <td>0.0</td>\n",
       "    </tr>\n",
       "    <tr>\n",
       "      <th>22664</th>\n",
       "      <td>Subject: re : tw agreements\\nhi michelle !\\ni ...</td>\n",
       "      <td>0.0</td>\n",
       "    </tr>\n",
       "    <tr>\n",
       "      <th>14556</th>\n",
       "      <td>Subject: re : remote offices\\nthank you . i wi...</td>\n",
       "      <td>0.0</td>\n",
       "    </tr>\n",
       "    <tr>\n",
       "      <th>12368</th>\n",
       "      <td>Subject: fw : power trading systems - bi - wee...</td>\n",
       "      <td>0.0</td>\n",
       "    </tr>\n",
       "    <tr>\n",
       "      <th>14614</th>\n",
       "      <td>Subject: re : clpartners\\ni understand you are...</td>\n",
       "      <td>0.0</td>\n",
       "    </tr>\n",
       "  </tbody>\n",
       "</table>\n",
       "<p>5965 rows × 2 columns</p>\n",
       "</div>"
      ],
      "text/plain": [
       "                                                 E-mails  spam\n",
       "1876   Subject: enron year end 2000 performance manag...   0.0\n",
       "20016  Subject: ref : investment with hst associates ...   1.0\n",
       "12573  Subject: fw : new building\\n- - - - - original...   0.0\n",
       "6961   Subject: re : martin lin\\nnorma ,\\nthanks for ...   0.0\n",
       "5387   Subject: re : worldpower\\nmark ,\\ni agree with...   0.0\n",
       "...                                                  ...   ...\n",
       "462    Subject: re : lst rev mar . 2000 josey ranch n...   0.0\n",
       "22664  Subject: re : tw agreements\\nhi michelle !\\ni ...   0.0\n",
       "14556  Subject: re : remote offices\\nthank you . i wi...   0.0\n",
       "12368  Subject: fw : power trading systems - bi - wee...   0.0\n",
       "14614  Subject: re : clpartners\\ni understand you are...   0.0\n",
       "\n",
       "[5965 rows x 2 columns]"
      ]
     },
     "execution_count": 121,
     "metadata": {},
     "output_type": "execute_result"
    }
   ],
   "source": [
    "df_train_ok"
   ]
  },
  {
   "cell_type": "markdown",
   "metadata": {},
   "source": [
    "We will simply perform the exact same analysis we did for the rest of the project, to avoid conflicts within the method. We will start with the data cleaning:"
   ]
  },
  {
   "cell_type": "code",
   "execution_count": 122,
   "metadata": {},
   "outputs": [
    {
     "name": "stderr",
     "output_type": "stream",
     "text": [
      "C:\\Users\\axl_a\\anaconda3\\lib\\site-packages\\pandas\\core\\generic.py:6746: SettingWithCopyWarning: \n",
      "A value is trying to be set on a copy of a slice from a DataFrame\n",
      "\n",
      "See the caveats in the documentation: https://pandas.pydata.org/pandas-docs/stable/user_guide/indexing.html#returning-a-view-versus-a-copy\n",
      "  self._update_inplace(new_data)\n"
     ]
    },
    {
     "data": {
      "text/html": [
       "<div>\n",
       "<style scoped>\n",
       "    .dataframe tbody tr th:only-of-type {\n",
       "        vertical-align: middle;\n",
       "    }\n",
       "\n",
       "    .dataframe tbody tr th {\n",
       "        vertical-align: top;\n",
       "    }\n",
       "\n",
       "    .dataframe thead th {\n",
       "        text-align: right;\n",
       "    }\n",
       "</style>\n",
       "<table border=\"1\" class=\"dataframe\">\n",
       "  <thead>\n",
       "    <tr style=\"text-align: right;\">\n",
       "      <th></th>\n",
       "      <th>E-mails</th>\n",
       "      <th>spam</th>\n",
       "    </tr>\n",
       "  </thead>\n",
       "  <tbody>\n",
       "    <tr>\n",
       "      <th>1876</th>\n",
       "      <td>enron year end      performance management p...</td>\n",
       "      <td>0.0</td>\n",
       "    </tr>\n",
       "    <tr>\n",
       "      <th>20016</th>\n",
       "      <td>ref   investment hst associates  \\nre   inve...</td>\n",
       "      <td>1.0</td>\n",
       "    </tr>\n",
       "    <tr>\n",
       "      <th>12573</th>\n",
       "      <td>fw   new building\\n          original messag...</td>\n",
       "      <td>0.0</td>\n",
       "    </tr>\n",
       "    <tr>\n",
       "      <th>6961</th>\n",
       "      <td>martin lin\\nnorma  \\nthanks message   appr...</td>\n",
       "      <td>0.0</td>\n",
       "    </tr>\n",
       "    <tr>\n",
       "      <th>5387</th>\n",
       "      <td>worldpower\\nmark  \\ni agree   seem market ...</td>\n",
       "      <td>0.0</td>\n",
       "    </tr>\n",
       "    <tr>\n",
       "      <th>...</th>\n",
       "      <td>...</td>\n",
       "      <td>...</td>\n",
       "    </tr>\n",
       "    <tr>\n",
       "      <th>462</th>\n",
       "      <td>lst rev mar        josey ranch nom\\nit sta...</td>\n",
       "      <td>0.0</td>\n",
       "    </tr>\n",
       "    <tr>\n",
       "      <th>22664</th>\n",
       "      <td>tw agreements\\nhi michelle  \\ni assuming  ...</td>\n",
       "      <td>0.0</td>\n",
       "    </tr>\n",
       "    <tr>\n",
       "      <th>14556</th>\n",
       "      <td>remote offices\\nthank   ensure get miller ...</td>\n",
       "      <td>0.0</td>\n",
       "    </tr>\n",
       "    <tr>\n",
       "      <th>12368</th>\n",
       "      <td>fw   power trading systems   bi   weekly upd...</td>\n",
       "      <td>0.0</td>\n",
       "    </tr>\n",
       "    <tr>\n",
       "      <th>14614</th>\n",
       "      <td>clpartners\\ni understand swamped   convers...</td>\n",
       "      <td>0.0</td>\n",
       "    </tr>\n",
       "  </tbody>\n",
       "</table>\n",
       "<p>5965 rows × 2 columns</p>\n",
       "</div>"
      ],
      "text/plain": [
       "                                                 E-mails  spam\n",
       "1876     enron year end      performance management p...   0.0\n",
       "20016    ref   investment hst associates  \\nre   inve...   1.0\n",
       "12573    fw   new building\\n          original messag...   0.0\n",
       "6961       martin lin\\nnorma  \\nthanks message   appr...   0.0\n",
       "5387       worldpower\\nmark  \\ni agree   seem market ...   0.0\n",
       "...                                                  ...   ...\n",
       "462        lst rev mar        josey ranch nom\\nit sta...   0.0\n",
       "22664      tw agreements\\nhi michelle  \\ni assuming  ...   0.0\n",
       "14556      remote offices\\nthank   ensure get miller ...   0.0\n",
       "12368    fw   power trading systems   bi   weekly upd...   0.0\n",
       "14614      clpartners\\ni understand swamped   convers...   0.0\n",
       "\n",
       "[5965 rows x 2 columns]"
      ]
     },
     "execution_count": 122,
     "metadata": {},
     "output_type": "execute_result"
    }
   ],
   "source": [
    "lst1 = [' {} '.format(x) for x in l1]\n",
    "lst1.append('Subject:')\n",
    "lst1.append('Subject :')\n",
    "\n",
    "df_train_ok['E-mails'].replace(lst1, \" \", regex=True, inplace=True)\n",
    "df_train_ok['E-mails'].replace(r'[^\\w\\s]', \" \", regex=True, inplace=True)\n",
    "df_train_ok['E-mails'].replace('[0-9999999999]', \" \", regex=True, inplace=True)\n",
    "\n",
    "df_train_ok"
   ]
  },
  {
   "cell_type": "markdown",
   "metadata": {},
   "source": [
    "Now lemmatization:"
   ]
  },
  {
   "cell_type": "code",
   "execution_count": 123,
   "metadata": {},
   "outputs": [],
   "source": [
    "df_train_ok_lem = df_train_ok['E-mails'].apply(lemmatize_text)\n",
    "df_train_ok_lem_list = df_train_ok_lem.values.tolist()"
   ]
  },
  {
   "cell_type": "markdown",
   "metadata": {},
   "source": [
    "Finally, we save the list which will help us define the dictionary."
   ]
  },
  {
   "cell_type": "code",
   "execution_count": 124,
   "metadata": {},
   "outputs": [],
   "source": [
    "lister_re = [[] for x in range(len(df_train_ok_lem))]\n",
    "for i in range(len(df_train_ok_lem_list)):\n",
    "    l_re = df_train_ok_lem_list[i]\n",
    "    for token in l_re:\n",
    "        if len(token)>4:\n",
    "            lister_re[i].append(token)"
   ]
  },
  {
   "cell_type": "code",
   "execution_count": 125,
   "metadata": {},
   "outputs": [
    {
     "data": {
      "text/plain": [
       "5965"
      ]
     },
     "execution_count": 125,
     "metadata": {},
     "output_type": "execute_result"
    }
   ],
   "source": [
    "len(lister_re)"
   ]
  },
  {
   "cell_type": "code",
   "execution_count": 126,
   "metadata": {},
   "outputs": [],
   "source": [
    "dictionary_re = gensim.corpora.Dictionary(lister_re)\n",
    "bow_corpus_re = [dictionary_re.doc2bow(doc) for doc in lister_re]\n",
    "\n",
    "tfidf_re=gensim.models.TfidfModel(bow_corpus_re)\n",
    "tfidf_corp_re = tfidf_re[bow_corpus_re]"
   ]
  },
  {
   "cell_type": "markdown",
   "metadata": {},
   "source": [
    "We are ready to implement and visualise the model. We'll only do so for 2 topics, so we can use the same model to assess performance in a similar fashion to the other classifications:"
   ]
  },
  {
   "cell_type": "code",
   "execution_count": 127,
   "metadata": {},
   "outputs": [
    {
     "data": {
      "text/html": [
       "\n",
       "\n",
       "<link rel=\"stylesheet\" type=\"text/css\" href=\"https://cdn.jsdelivr.net/gh/bmabey/pyLDAvis/pyLDAvis/js/ldavis.v1.0.0.css\">\n",
       "\n",
       "<div id=\"ldavis_el1082023876453290727398985747\"></div>\n",
       "<script type=\"text/javascript\">\n",
       "\n",
       "var ldavis_el1082023876453290727398985747_data = {\"mdsDat\": {\"x\": [-0.0024804219906395257, 0.0024804219906395257], \"y\": [0.00783006864699337, -0.00783006864699337], \"topics\": [1, 2], \"cluster\": [1, 1], \"Freq\": [73.22790423732424, 26.77209576267576]}, \"tinfo\": {\"Term\": [\"louise\", \"mmbtu\", \"daren\", \"volume\", \"number\", \"kitchen\", \"farmer\", \"enronxgate\", \"actual\", \"utility\", \"stone\", \"texas\", \"sitara\", \"thanks\", \"meter\", \"melissa\", \"ticket\", \"blackberry\", \"enron\", \"interview\", \"faith\", \"vince\", \"would\", \"bellamy\", \"original\", \"subject\", \"vance\", \"eileen\", \"charlie\", \"offer\", \"shmuel\", \"sevil\", \"ashley\", \"premature\", \"mellon\", \"maureen\", \"oneok\", \"scholarship\", \"mcloughlin\", \"henwood\", \"diligence\", \"marie\", \"shall\", \"morgan\", \"elpaso\", \"sashok\", \"optimization\", \"posting\", \"independent\", \"villarreal\", \"payment\", \"privileged\", \"transmitted\", \"angela\", \"visited\", \"communication\", \"amonq\", \"riqht\", \"vallum\", \"julian\", \"approval\", \"electricity\", \"update\", \"mailing\", \"company\", \"chris\", \"aimee\", \"sender\", \"raymond\", \"kaminski\", \"meeting\", \"customer\", \"resume\", \"current\", \"enron\", \"houston\", \"review\", \"provide\", \"march\", \"vince\", \"information\", \"management\", \"energy\", \"sally\", \"agreement\", \"system\", \"london\", \"message\", \"group\", \"business\", \"credit\", \"david\", \"market\", \"report\", \"price\", \"email\", \"please\", \"would\", \"option\", \"original\", \"research\", \"contract\", \"shirley\", \"louise\", \"thanks\", \"regard\", \"meter\", \"power\", \"kitchen\", \"subject\", \"copano\", \"enrico\", \"tobias\", \"stone\", \"bellamy\", \"cantekin\", \"averaged\", \"enserch\", \"bauli\", \"faith\", \"cilco\", \"tetco\", \"eileen\", \"dealbench\", \"dribbled\", \"killing\", \"jayant\", \"avila\", \"truong\", \"iferc\", \"ibuyit\", \"burst\", \"aybar\", \"slone\", \"energyclear\", \"impress\", \"albany\", \"krishnaswamy\", \"dincerler\", \"expedia\", \"charlie\", \"mmbtu\", \"cumshot\", \"jeanie\", \"actual\", \"clayton\", \"ponton\", \"daren\", \"scheduling\", \"volume\", \"utility\", \"adult\", \"melissa\", \"killen\", \"sitara\", \"louise\", \"enronxgate\", \"farmer\", \"number\", \"vance\", \"congratulation\", \"blackberry\", \"kitchen\", \"ticket\", \"texas\", \"enron\", \"thanks\", \"vince\", \"meter\", \"would\", \"original\", \"interview\", \"subject\", \"offer\", \"please\", \"power\", \"shirley\", \"message\", \"price\", \"kaminski\", \"business\", \"model\", \"presentation\", \"contract\", \"email\", \"david\", \"research\", \"group\"], \"Freq\": [43.0, 18.0, 22.0, 19.0, 21.0, 30.0, 17.0, 16.0, 10.0, 11.0, 6.0, 17.0, 11.0, 31.0, 30.0, 9.0, 13.0, 11.0, 89.0, 20.0, 5.0, 80.0, 38.0, 4.0, 34.0, 26.0, 8.0, 5.0, 5.0, 18.0, 4.953421923941495, 4.689938558382151, 3.2760279177880083, 4.168063763446557, 3.8140919336722425, 6.538864847378392, 2.2761904841827176, 2.4534426983719264, 2.5725221293491995, 4.464315653999734, 3.455442582727305, 3.9270484118067723, 17.936527501218094, 3.239145947230002, 1.8924091607454872, 1.989254241440243, 3.1915932728768883, 6.107868213533431, 3.586350607720933, 3.2909820043378666, 11.156887917812938, 4.727596253593051, 2.6200356022822144, 3.357695869370274, 2.022442009207645, 22.08266125644162, 2.7427995805278997, 3.7688392047052286, 1.702753076527733, 1.7413583646865418, 11.50033020752659, 6.211951266773645, 16.05434798001399, 14.019055050100317, 28.97603362196553, 15.984202542394597, 8.63167070211741, 8.15877335038956, 5.781860320910281, 42.998814931190125, 30.60025312252492, 15.925300767257175, 16.992558850119316, 11.215143931626168, 72.1653605028605, 21.11015551639437, 14.372850376928964, 14.263759969880052, 15.344562046831154, 64.13759559489536, 25.038474594921592, 17.587295760398206, 25.70993660186229, 15.096416671384015, 17.265136558920727, 17.61317719452303, 15.128164028350836, 31.08343090184088, 25.097807392569656, 27.761368930230095, 18.571978272592045, 25.491012698776583, 20.224753400702514, 19.16613739642297, 26.032054091483896, 23.6301618398734, 26.678597126751853, 28.82158852363526, 18.77087739509362, 25.672799146187085, 21.447986016610116, 21.440514959758946, 21.552685864607948, 28.257298178373507, 22.577547708188312, 18.692037352850903, 21.964267560650413, 20.515279566595922, 20.854455660384325, 19.37535788592675, 0.8510562045822258, 0.8309609401465635, 0.8599988941337614, 4.130916956491054, 3.1454420990616243, 1.7948303048041936, 1.1006508954419976, 2.9875986334485134, 0.67401770928237, 3.290683549009864, 0.5974723392249177, 0.7622073203514261, 3.1109893223700915, 1.1078296868704878, 1.1910117730366758, 0.7747590680262394, 0.6432814456029748, 2.92882970498197, 0.613194288525536, 0.7420188624510498, 2.002192117893207, 1.6229603755382764, 0.5643031260070492, 1.864345145763383, 0.6437271504080815, 1.4249937345124302, 1.0723463457816569, 0.6299701711907406, 0.8422063554898561, 0.9859572748115454, 3.1880803684038894, 9.650769542772194, 1.1790102904103343, 2.1096704463214895, 5.040580342397656, 2.0402329841784566, 2.776013320779095, 9.93331631313716, 3.3192860353528517, 8.212362303440782, 5.270423666826783, 1.6967345814415637, 4.446621396792465, 2.527234213937792, 4.830103749553899, 15.057142706306331, 6.698571717715351, 6.872951375226466, 8.092738042515851, 3.847299308495189, 3.6431886765047286, 4.707469904527575, 9.840975709827292, 5.205060594720613, 6.05409259488858, 17.64503146314672, 8.505856199460847, 15.864143889079307, 8.300752068655646, 9.223732800669909, 8.510193366827759, 6.235818721463561, 7.189927765119007, 5.71713157249917, 7.540684244330507, 6.686904460742007, 6.742907520137608, 7.691311429325913, 7.027923070104187, 7.875857081815157, 6.601583866965067, 5.51454027638799, 5.686270415456836, 5.991895276538307, 6.083913373979377, 6.071025565022715, 5.794146086930128, 5.719059265196562], \"Total\": [43.0, 18.0, 22.0, 19.0, 21.0, 30.0, 17.0, 16.0, 10.0, 11.0, 6.0, 17.0, 11.0, 31.0, 30.0, 9.0, 13.0, 11.0, 89.0, 20.0, 5.0, 80.0, 38.0, 4.0, 34.0, 26.0, 8.0, 5.0, 5.0, 18.0, 5.34799567572556, 5.097373784908984, 3.5624490122954175, 4.55468101727898, 4.181674881243998, 7.204814756059786, 2.5108283476172306, 2.7083600951382407, 2.8514376022413552, 4.953292902916004, 3.8387677421181436, 4.36296024289812, 19.93557518689051, 3.6004158141795752, 2.1068573131099275, 2.214792733810669, 3.563442257197602, 6.827498546305752, 4.0109790753725605, 3.6836978173208554, 12.510570295530483, 5.301548750958497, 2.9387847154365048, 3.7688206039848104, 2.271793108588909, 24.808737847569134, 3.0820672117700956, 4.235808181519248, 1.9142744775426568, 1.9585720507666542, 12.972320841485525, 6.9917141884450515, 18.25064344621398, 15.916795791539602, 33.417420087681, 18.407880460746384, 9.838091590937925, 9.300083919076386, 6.549792967646203, 50.87467201300528, 36.23616461369458, 18.48877735481345, 19.850873296418612, 12.941546652559504, 89.81039196600722, 25.01199615891134, 16.763273478217453, 16.682388496870956, 18.01529358090484, 80.00173948397466, 30.077105781884526, 20.81129571414734, 31.059077681884354, 17.737883198301923, 20.436097005452176, 20.914267347092647, 17.834222663257734, 38.77474233116679, 30.81686665776622, 34.36295279719516, 22.35859056167421, 31.562038263799298, 24.607898187038174, 23.264271998476385, 33.05997716158808, 29.714075213852777, 34.21928137108236, 38.04532132430517, 22.996470157196732, 34.182992513014845, 27.242132103540243, 27.432410236297255, 28.29559338474556, 43.31444088467984, 31.08340390764916, 23.055231395222318, 30.26501962930606, 27.20218402733793, 30.695431370211615, 26.565285651045755, 1.2925581914047584, 1.2746543442857596, 1.3217471109418972, 6.43858637412366, 4.932724830838845, 2.831743688408325, 1.7427737774833554, 4.841433403706206, 1.0942459254476418, 5.400206009319641, 0.985769743501723, 1.2674720101260362, 5.208730114501367, 1.8609146506600367, 2.0131511004379377, 1.3187882655206016, 1.0973499014477635, 4.997272166795167, 1.0594562546782096, 1.2886241532661993, 3.5157888800318364, 2.8524666669900367, 0.9929864415676741, 3.2836945488977536, 1.136747044882257, 2.517699718552983, 1.8967939223181038, 1.1143703396161917, 1.4917380162642466, 1.748303139600969, 5.695428688510283, 18.65078528499871, 2.1495829949147733, 3.9931426488366393, 10.190675984085946, 3.859786209114853, 5.424102463458414, 22.20077775880668, 6.812247659992382, 19.041200378797434, 11.571406186406204, 3.216328291858333, 9.93704716028153, 5.127013496213712, 11.00417872009422, 43.31444088467984, 16.666590636880613, 17.210451596352378, 21.315685246154594, 8.556350393724786, 8.109595716611219, 11.303068282979984, 30.695431370211615, 13.815774951472818, 17.208487070650694, 89.81039196600722, 31.08340390764916, 80.00173948397466, 30.26501962930606, 38.04532132430517, 34.182992513014845, 20.310023024556656, 26.565285651045755, 18.804447269688026, 34.21928137108236, 27.20218402733793, 28.29559338474556, 38.77474233116679, 33.05997716158808, 50.87467201300528, 34.36295279719516, 18.99319660533808, 21.545555218825633, 27.432410236297255, 29.714075213852777, 31.562038263799298, 27.242132103540243, 30.81686665776622], \"Category\": [\"Default\", \"Default\", \"Default\", \"Default\", \"Default\", \"Default\", \"Default\", \"Default\", \"Default\", \"Default\", \"Default\", \"Default\", \"Default\", \"Default\", \"Default\", \"Default\", \"Default\", \"Default\", \"Default\", \"Default\", \"Default\", \"Default\", \"Default\", \"Default\", \"Default\", \"Default\", \"Default\", \"Default\", \"Default\", \"Default\", \"Topic1\", \"Topic1\", \"Topic1\", \"Topic1\", \"Topic1\", \"Topic1\", \"Topic1\", \"Topic1\", \"Topic1\", \"Topic1\", \"Topic1\", \"Topic1\", \"Topic1\", \"Topic1\", \"Topic1\", \"Topic1\", \"Topic1\", \"Topic1\", \"Topic1\", \"Topic1\", \"Topic1\", \"Topic1\", \"Topic1\", \"Topic1\", \"Topic1\", \"Topic1\", \"Topic1\", \"Topic1\", \"Topic1\", \"Topic1\", \"Topic1\", \"Topic1\", \"Topic1\", \"Topic1\", \"Topic1\", \"Topic1\", \"Topic1\", \"Topic1\", \"Topic1\", \"Topic1\", \"Topic1\", \"Topic1\", \"Topic1\", \"Topic1\", \"Topic1\", \"Topic1\", \"Topic1\", \"Topic1\", \"Topic1\", \"Topic1\", \"Topic1\", \"Topic1\", \"Topic1\", \"Topic1\", \"Topic1\", \"Topic1\", \"Topic1\", \"Topic1\", \"Topic1\", \"Topic1\", \"Topic1\", \"Topic1\", \"Topic1\", \"Topic1\", \"Topic1\", \"Topic1\", \"Topic1\", \"Topic1\", \"Topic1\", \"Topic1\", \"Topic1\", \"Topic1\", \"Topic1\", \"Topic1\", \"Topic1\", \"Topic1\", \"Topic1\", \"Topic1\", \"Topic1\", \"Topic1\", \"Topic2\", \"Topic2\", \"Topic2\", \"Topic2\", \"Topic2\", \"Topic2\", \"Topic2\", \"Topic2\", \"Topic2\", \"Topic2\", \"Topic2\", \"Topic2\", \"Topic2\", \"Topic2\", \"Topic2\", \"Topic2\", \"Topic2\", \"Topic2\", \"Topic2\", \"Topic2\", \"Topic2\", \"Topic2\", \"Topic2\", \"Topic2\", \"Topic2\", \"Topic2\", \"Topic2\", \"Topic2\", \"Topic2\", \"Topic2\", \"Topic2\", \"Topic2\", \"Topic2\", \"Topic2\", \"Topic2\", \"Topic2\", \"Topic2\", \"Topic2\", \"Topic2\", \"Topic2\", \"Topic2\", \"Topic2\", \"Topic2\", \"Topic2\", \"Topic2\", \"Topic2\", \"Topic2\", \"Topic2\", \"Topic2\", \"Topic2\", \"Topic2\", \"Topic2\", \"Topic2\", \"Topic2\", \"Topic2\", \"Topic2\", \"Topic2\", \"Topic2\", \"Topic2\", \"Topic2\", \"Topic2\", \"Topic2\", \"Topic2\", \"Topic2\", \"Topic2\", \"Topic2\", \"Topic2\", \"Topic2\", \"Topic2\", \"Topic2\", \"Topic2\", \"Topic2\", \"Topic2\", \"Topic2\", \"Topic2\", \"Topic2\", \"Topic2\", \"Topic2\"], \"logprob\": [30.0, 29.0, 28.0, 27.0, 26.0, 25.0, 24.0, 23.0, 22.0, 21.0, 20.0, 19.0, 18.0, 17.0, 16.0, 15.0, 14.0, 13.0, 12.0, 11.0, 10.0, 9.0, 8.0, 7.0, 6.0, 5.0, 4.0, 3.0, 2.0, 1.0, -8.5864, -8.641, -8.9998, -8.759, -8.8477, -8.3087, -9.3639, -9.2889, -9.2416, -8.6903, -8.9465, -8.8186, -7.2996, -9.0111, -9.5486, -9.4987, -9.0259, -8.3769, -8.9093, -8.9953, -7.7744, -8.633, -9.2233, -8.9752, -9.4821, -7.0916, -9.1775, -8.8597, -9.6542, -9.6318, -7.7441, -8.36, -7.4105, -7.546, -6.82, -7.4148, -8.031, -8.0873, -8.4317, -6.4253, -6.7654, -7.4185, -7.3537, -7.7692, -5.9075, -7.1367, -7.5211, -7.5287, -7.4557, -6.0254, -6.966, -7.3193, -6.9396, -7.472, -7.3378, -7.3178, -7.4699, -6.7498, -6.9637, -6.8628, -7.2648, -6.9481, -7.1795, -7.2333, -6.9271, -7.0239, -6.9026, -6.8253, -7.2541, -6.941, -7.1208, -7.1212, -7.1159, -6.8451, -7.0695, -7.2583, -7.097, -7.1653, -7.1489, -7.2224, -9.3415, -9.3654, -9.331, -7.7617, -8.0343, -8.5953, -9.0843, -8.0858, -9.5747, -7.9891, -9.6953, -9.4518, -8.0453, -9.0778, -9.0054, -9.4354, -9.6214, -8.1056, -9.6693, -9.4786, -8.486, -8.696, -9.7524, -8.5573, -9.6207, -8.8261, -9.1104, -9.6423, -9.352, -9.1944, -8.0208, -6.9132, -9.0156, -8.4337, -7.5627, -8.4672, -8.1592, -6.8843, -7.9805, -7.0746, -7.5181, -8.6515, -7.6881, -8.2531, -7.6054, -6.4684, -7.2783, -7.2526, -7.0893, -7.8329, -7.8874, -7.6311, -6.8937, -7.5306, -7.3795, -6.3098, -7.0395, -6.4162, -7.0639, -6.9584, -7.039, -7.3499, -7.2075, -7.4368, -7.1599, -7.2801, -7.2717, -7.1401, -7.2303, -7.1164, -7.2929, -7.4728, -7.4422, -7.3898, -7.3746, -7.3767, -7.4234, -7.4364], \"loglift\": [30.0, 29.0, 28.0, 27.0, 26.0, 25.0, 24.0, 23.0, 22.0, 21.0, 20.0, 19.0, 18.0, 17.0, 16.0, 15.0, 14.0, 13.0, 12.0, 11.0, 10.0, 9.0, 8.0, 7.0, 6.0, 5.0, 4.0, 3.0, 2.0, 1.0, 0.235, 0.2283, 0.2278, 0.2229, 0.2196, 0.2146, 0.2135, 0.2127, 0.2087, 0.2077, 0.2064, 0.2063, 0.2059, 0.2059, 0.2042, 0.2042, 0.2014, 0.2002, 0.1997, 0.1989, 0.1971, 0.197, 0.1968, 0.1961, 0.1953, 0.1952, 0.195, 0.1948, 0.1945, 0.194, 0.1912, 0.1933, 0.1834, 0.1846, 0.169, 0.1704, 0.1808, 0.1807, 0.1869, 0.1434, 0.1425, 0.1623, 0.1561, 0.1684, 0.0929, 0.142, 0.1577, 0.155, 0.1511, 0.0906, 0.1282, 0.1433, 0.1226, 0.1503, 0.143, 0.1398, 0.147, 0.0905, 0.1063, 0.0983, 0.126, 0.098, 0.1154, 0.1178, 0.0726, 0.0825, 0.0627, 0.0339, 0.1086, 0.0253, 0.0725, 0.0652, 0.0394, -0.1155, -0.0081, 0.1018, -0.009, 0.0295, -0.075, -0.004, 0.8999, 0.89, 0.888, 0.874, 0.8679, 0.8618, 0.8582, 0.8351, 0.8332, 0.8225, 0.8171, 0.8092, 0.8024, 0.7991, 0.7929, 0.7859, 0.7837, 0.7835, 0.771, 0.7659, 0.7548, 0.7539, 0.7527, 0.7518, 0.7492, 0.7486, 0.7475, 0.7474, 0.7461, 0.745, 0.7376, 0.659, 0.7172, 0.6798, 0.6139, 0.6803, 0.648, 0.5136, 0.5988, 0.4768, 0.5314, 0.6783, 0.5137, 0.6104, 0.4944, 0.2612, 0.4063, 0.3999, 0.3493, 0.5185, 0.5176, 0.4419, 0.1803, 0.3416, 0.2731, -0.3094, 0.0219, -0.3002, 0.0242, -0.0992, -0.0727, 0.137, 0.0109, 0.1272, -0.1947, -0.0853, -0.1164, -0.2999, -0.2306, -0.5478, -0.3319, 0.0811, -0.0143, -0.2035, -0.2682, -0.3306, -0.2301, -0.3664]}, \"token.table\": {\"Topic\": [1, 2, 1, 2, 1, 2, 1, 2, 1, 2, 1, 1, 1, 2, 1, 1, 2, 1, 2, 2, 2, 1, 2, 1, 2, 1, 2, 1, 2, 1, 2, 1, 2, 1, 2, 2, 1, 2, 1, 2, 1, 2, 1, 2, 1, 2, 2, 1, 2, 1, 2, 1, 2, 1, 2, 1, 2, 1, 2, 1, 2, 1, 1, 2, 1, 2, 1, 2, 1, 2, 1, 1, 2, 1, 2, 2, 2, 1, 2, 1, 2, 1, 2, 1, 2, 1, 2, 1, 2, 1, 2, 1, 1, 2, 1, 2, 1, 2, 1, 2, 1, 1, 2, 1, 2, 2, 1, 2, 1, 1, 2, 1, 2, 1, 2, 1, 2, 2, 1, 2, 1, 2, 1, 2, 1, 2, 1, 2, 1, 1, 2, 1, 2, 1, 1, 2, 1, 2, 1, 1, 2, 1, 2, 1, 2, 1, 2, 1, 1, 2, 1, 2, 1, 1, 1, 2, 1, 2, 1, 2, 1, 2, 1, 2, 1, 2, 1, 2, 1, 1, 2, 1, 2, 1, 2, 1, 2, 1, 2, 1, 2, 1, 2, 1, 2, 1, 2, 1, 2, 1, 1, 2, 1, 1, 2, 1, 1, 2, 1, 1, 2, 1, 2, 1, 1, 2, 1, 2, 1, 2, 1, 2, 1, 2, 1, 2, 1, 2, 1, 2, 1, 2, 2, 1, 2, 1, 2, 1, 2, 1, 1, 2, 1, 1, 2, 1, 1, 2, 1, 2], \"Freq\": [0.4906445860714387, 0.4906445860714387, 0.6218270706577774, 0.6218270706577774, 0.8318613870087104, 0.14679906829565478, 0.9148115685658071, 0.10164572984064524, 0.5272054007732602, 0.5272054007732602, 0.9733726729071029, 0.7960049880931109, 0.9250465006711799, 0.07708720838926499, 0.8421173158256626, 0.5737979380456627, 0.5737979380456627, 0.40021834577855964, 0.6003275186678395, 1.0070630958679085, 0.9138713489757003, 0.4054554163443749, 0.6081831245165623, 0.6193008681138829, 0.4423577629384878, 0.35057377236776416, 0.7011475447355283, 0.8148310235517789, 0.20370775588794474, 0.3531393056841536, 0.7062786113683072, 0.5267382253511615, 0.5267382253511615, 0.8691929542957956, 0.10864911928697445, 1.014435679926356, 0.5181634141489538, 0.5181634141489538, 0.8867843311970687, 0.12092513607232755, 0.8678108580467755, 0.11969804938576213, 0.4932428372238872, 0.4932428372238872, 0.7655178607752738, 0.2187193887929354, 0.7736595587338279, 0.8497852289745262, 0.17890215346832133, 0.46520650859523943, 0.46520650859523943, 0.8499756864705568, 0.15454103390373758, 0.8653898358419297, 0.16226059422036182, 0.5405216038091187, 0.4504346698409323, 0.7920907956275511, 0.19010179095061228, 0.5373701580807674, 0.5373701580807674, 0.7815007839845682, 0.6703589967521884, 0.6703589967521884, 0.4967337025931445, 0.4967337025931445, 0.38397074834649225, 0.5759561225197384, 0.8581586486924736, 0.1430264414487456, 0.949281181765368, 0.8076980295456457, 0.20192450738641143, 0.8371143620650676, 0.16098353116635916, 0.8797031885872014, 0.7845264125784158, 0.8016889629793804, 0.2004222407448451, 0.6000027370847839, 0.4200019159593487, 0.41310079747641754, 0.6196511962146263, 0.5719831860670564, 0.5719831860670564, 0.37035624132642586, 0.5555343619896388, 0.5810422779446079, 0.40672959456122554, 0.8112440592236427, 0.19469857421367426, 0.8075436034976247, 0.839597122379937, 0.1599232614057023, 0.5688623715033451, 0.5688623715033451, 0.7760214624763623, 0.7760214624763623, 0.39718795400062157, 0.39718795400062157, 0.9972627442910456, 0.8311969968552468, 0.16623939937104937, 0.689314826628839, 0.29542063998378815, 0.9112863624270371, 0.5008586408959568, 0.5008586408959568, 1.021152119074266, 0.8452142942367815, 0.15724917102079655, 0.5851359670138363, 0.5851359670138363, 0.7582718364613613, 0.7582718364613613, 0.6841408985826943, 0.3257813802774735, 0.8973677461160867, 0.8410795515580933, 0.16821591031161867, 0.6464356789124225, 0.34630482798879775, 0.879574016237712, 0.1256534308911017, 0.8649149119419678, 0.1441524853236613, 0.8326258982478713, 0.16652517964957425, 0.916808720985039, 0.8127471858012923, 0.16254943716025846, 0.9715725160195796, 0.1387960737170828, 1.0521008762884618, 0.8554989285009569, 0.16558043777437875, 0.5031675828192752, 0.40253406625542015, 0.9565545178897429, 0.7994895165320667, 0.20631987523408174, 0.726911803443771, 0.264331564888644, 0.48255340793821283, 0.5361704532646809, 0.6844556116660384, 0.31590258999971, 0.8332370911673735, 0.6098795253296037, 0.37531047712591, 0.6913258238095331, 0.31907345714286145, 0.7965498724347264, 0.8418825908966152, 0.8262137567253538, 0.1739397382579692, 0.7606121667112893, 0.2632888269385232, 0.8792564799328014, 0.07993240726661831, 0.7890288433355837, 0.23378632395128404, 0.5530868969033443, 0.5530868969033443, 0.8787991618462522, 0.14646652697437537, 0.7719968359487314, 0.25733227864957714, 0.8782173734725439, 0.742612563821045, 0.27847971143289185, 0.7864494241154235, 0.21173638341569095, 0.9431206303810791, 0.18862412607621581, 0.8392083665133395, 0.11988690950190564, 0.9160594891530164, 0.15267658152550273, 0.8241079724724569, 0.17349641525735937, 0.816702968450693, 0.17193746704225116, 0.7708647737329983, 0.2202470782094281, 0.8563854973104407, 0.15112685246654836, 0.8351590766679248, 0.11930843952398926, 0.944329825286217, 0.8456476926985276, 0.16912953853970553, 0.9030190362593854, 0.44038328459763526, 0.44038328459763526, 0.7384542415870721, 0.8602072916342566, 0.10752591145428207, 0.9808972641564438, 0.9029084855217355, 0.1003231650579706, 0.7775062251163258, 0.24738834435519458, 0.9349297013636145, 0.5452474148791929, 0.4543728457326608, 0.30453502453072945, 0.6090700490614589, 0.3106271910924259, 0.6212543821848518, 0.7152191114968137, 0.2635017779198787, 0.8606564935444527, 0.14344274892407544, 0.7889720577739314, 0.7889720577739314, 0.6392194708830997, 0.34866516593623625, 0.7399447006619518, 0.28954357851989415, 0.6514292561663769, 0.3619051423146538, 0.7565743792603297, 1.0208301357503158, 0.9438804061841436, 0.8766814193238284, 0.10958517741547855, 0.518519521598736, 0.4320996013322801, 1.0447822522125398, 0.5843612954031187, 0.4674890363224949, 0.8143990492091702, 0.7999826055384708, 0.1999956513846177, 0.8803618570892975, 0.5776946716157985, 0.4201415793569443, 0.762248786198933, 0.23655996813070335], \"Term\": [\"actual\", \"actual\", \"adult\", \"adult\", \"agreement\", \"agreement\", \"aimee\", \"aimee\", \"albany\", \"albany\", \"amonq\", \"angela\", \"approval\", \"approval\", \"ashley\", \"averaged\", \"averaged\", \"avila\", \"avila\", \"aybar\", \"bauli\", \"bellamy\", \"bellamy\", \"blackberry\", \"blackberry\", \"burst\", \"burst\", \"business\", \"business\", \"cantekin\", \"cantekin\", \"charlie\", \"charlie\", \"chris\", \"chris\", \"cilco\", \"clayton\", \"clayton\", \"communication\", \"communication\", \"company\", \"company\", \"congratulation\", \"congratulation\", \"contract\", \"contract\", \"copano\", \"credit\", \"credit\", \"cumshot\", \"cumshot\", \"current\", \"current\", \"customer\", \"customer\", \"daren\", \"daren\", \"david\", \"david\", \"dealbench\", \"dealbench\", \"diligence\", \"dincerler\", \"dincerler\", \"dribbled\", \"dribbled\", \"eileen\", \"eileen\", \"electricity\", \"electricity\", \"elpaso\", \"email\", \"email\", \"energy\", \"energy\", \"energyclear\", \"enrico\", \"enron\", \"enron\", \"enronxgate\", \"enronxgate\", \"enserch\", \"enserch\", \"expedia\", \"expedia\", \"faith\", \"faith\", \"farmer\", \"farmer\", \"group\", \"group\", \"henwood\", \"houston\", \"houston\", \"ibuyit\", \"ibuyit\", \"iferc\", \"iferc\", \"impress\", \"impress\", \"independent\", \"information\", \"information\", \"interview\", \"interview\", \"jayant\", \"jeanie\", \"jeanie\", \"julian\", \"kaminski\", \"kaminski\", \"killen\", \"killen\", \"killing\", \"killing\", \"kitchen\", \"kitchen\", \"krishnaswamy\", \"london\", \"london\", \"louise\", \"louise\", \"mailing\", \"mailing\", \"management\", \"management\", \"march\", \"march\", \"marie\", \"market\", \"market\", \"maureen\", \"maureen\", \"mcloughlin\", \"meeting\", \"meeting\", \"melissa\", \"melissa\", \"mellon\", \"message\", \"message\", \"meter\", \"meter\", \"mmbtu\", \"mmbtu\", \"model\", \"model\", \"morgan\", \"number\", \"number\", \"offer\", \"offer\", \"oneok\", \"optimization\", \"option\", \"option\", \"original\", \"original\", \"payment\", \"payment\", \"please\", \"please\", \"ponton\", \"ponton\", \"posting\", \"posting\", \"power\", \"power\", \"premature\", \"presentation\", \"presentation\", \"price\", \"price\", \"privileged\", \"privileged\", \"provide\", \"provide\", \"raymond\", \"raymond\", \"regard\", \"regard\", \"report\", \"report\", \"research\", \"research\", \"resume\", \"resume\", \"review\", \"review\", \"riqht\", \"sally\", \"sally\", \"sashok\", \"scheduling\", \"scheduling\", \"scholarship\", \"sender\", \"sender\", \"sevil\", \"shall\", \"shall\", \"shirley\", \"shirley\", \"shmuel\", \"sitara\", \"sitara\", \"slone\", \"slone\", \"stone\", \"stone\", \"subject\", \"subject\", \"system\", \"system\", \"tetco\", \"tetco\", \"texas\", \"texas\", \"thanks\", \"thanks\", \"ticket\", \"ticket\", \"tobias\", \"transmitted\", \"truong\", \"update\", \"update\", \"utility\", \"utility\", \"vallum\", \"vance\", \"vance\", \"villarreal\", \"vince\", \"vince\", \"visited\", \"volume\", \"volume\", \"would\", \"would\"]}, \"R\": 30, \"lambda.step\": 0.01, \"plot.opts\": {\"xlab\": \"PC1\", \"ylab\": \"PC2\"}, \"topic.order\": [1, 2]};\n",
       "if(typeof(window.LDAvis) !== \"undefined\"){\n",
       "   !function(LDAvis){\n",
       "       new LDAvis(\"#\" + \"ldavis_el1082023876453290727398985747\", ldavis_el1082023876453290727398985747_data);\n",
       "   }(LDAvis);\n",
       "}else{\n",
       "  require.config({paths: {d3: \"https://d3js.org/d3.v5\"}});\n",
       "  require([\"d3\"], function(d3){\n",
       "    window.d3 = d3;\n",
       "    $.getScript(\"https://cdn.jsdelivr.net/gh/bmabey/pyLDAvis/pyLDAvis/js/ldavis.v3.0.0.js\", function(){\n",
       "       new LDAvis(\"#\" + \"ldavis_el1082023876453290727398985747\", ldavis_el1082023876453290727398985747_data);\n",
       "    });\n",
       "  });\n",
       "}\n",
       "</script>"
      ],
      "text/plain": [
       "<IPython.core.display.HTML object>"
      ]
     },
     "execution_count": 127,
     "metadata": {},
     "output_type": "execute_result"
    }
   ],
   "source": [
    "lda_model_tfidf_re = gensim.models.LdaMulticore(tfidf_corp_re, num_topics=2, id2word=dictionary_re, passes=2, workers=4)\n",
    "\n",
    "lda_display_re = pyLDAvis.gensim.prepare(lda_model_tfidf_re, tfidf_corp_re, \n",
    "                                          dictionary_re, mds='mmds')\n",
    "pyLDAvis.display(lda_display_re, template_type='notebook')"
   ]
  },
  {
   "cell_type": "code",
   "execution_count": 130,
   "metadata": {},
   "outputs": [],
   "source": [
    "y_pred_re = [] # model predictions\n",
    "y_actual_re = list(df_train_ok['spam']) # list of original classification of spam/normal for the data set\n",
    "\n",
    "for i in range(0,len(df_train_ok)): # for each document\n",
    "    for index, score in sorted(lda_model_tfidf_re[tfidf_corp_re[i]], key=lambda tup: -1*tup[1]): # pull the topic (index) and score (probability) from the model \n",
    "        if score >= 0.5 and index == 0: # if the index is 1 and score (read probability) is >0.5 \n",
    "                                        # assign 0\n",
    "            y_pred_re.append(0)\n",
    "            break\n",
    "        elif score > 0.5 and index == 1: # same as above for 0\n",
    "            y_pred_re.append(1)\n",
    "            break"
   ]
  },
  {
   "cell_type": "markdown",
   "metadata": {},
   "source": [
    "Finally, this is what our accuracy looks like for the 're and fw' portion of the (training, 90%) dataset:"
   ]
  },
  {
   "cell_type": "code",
   "execution_count": 131,
   "metadata": {},
   "outputs": [
    {
     "name": "stdout",
     "output_type": "stream",
     "text": [
      "Confusion Matrix\n",
      "Classification report\n",
      "              precision    recall  f1-score   support\n",
      "\n",
      "      Normal      0.830     0.800     0.815      4736\n",
      "        Spam      0.325     0.371     0.346      1229\n",
      "\n",
      "    accuracy                          0.711      5965\n",
      "   macro avg      0.578     0.585     0.581      5965\n",
      "weighted avg      0.726     0.711     0.718      5965\n",
      "\n"
     ]
    }
   ],
   "source": [
    "classification_eval(y_actual_re,y_pred_re)"
   ]
  },
  {
   "cell_type": "markdown",
   "metadata": {},
   "source": [
    "This is a certainly interesting result. Firstly, multiple seed runs have proven very similar tendencies to the one we chose to evaluate in the final version of this paper - with slight changes in the values themselves, but rarely in the average(s). We isolated the main cause for this result as being the natural remark that _most e-mails which are either part of a reply chain or forwarded are little likely to be spam_. In fact; most of the e-mails catalogued as spam which went through the selection of 'df_train_ok' were **not**, in fact, replies nor forwards - but simply spam e-mails which got past our otherwise trivial selection. These were not too many either. This entails that within this restricted sample of e-mails, spam e-mails and spam-like terms are rarely encountered by our model, and therefore harder to spot. This explains the low rate of spam detection and why the model isn't accustomed to noticing spam-like behaviour. In the same mindset, the model is, however, excellent at detecting normal behaviour. This is not entirely its merit per se, but rather a natural occurence due to the high density of normal e-mail within this restricted dataset. \n",
    "\n",
    "One last thing to note is the following:"
   ]
  },
  {
   "cell_type": "code",
   "execution_count": 132,
   "metadata": {},
   "outputs": [
    {
     "data": {
      "text/html": [
       "<div>\n",
       "<style scoped>\n",
       "    .dataframe tbody tr th:only-of-type {\n",
       "        vertical-align: middle;\n",
       "    }\n",
       "\n",
       "    .dataframe tbody tr th {\n",
       "        vertical-align: top;\n",
       "    }\n",
       "\n",
       "    .dataframe thead th {\n",
       "        text-align: right;\n",
       "    }\n",
       "</style>\n",
       "<table border=\"1\" class=\"dataframe\">\n",
       "  <thead>\n",
       "    <tr style=\"text-align: right;\">\n",
       "      <th></th>\n",
       "      <th>E-mails</th>\n",
       "      <th>spam</th>\n",
       "    </tr>\n",
       "  </thead>\n",
       "  <tbody>\n",
       "    <tr>\n",
       "      <th>20016</th>\n",
       "      <td>ref   investment hst associates  \\nre   inve...</td>\n",
       "      <td>1.0</td>\n",
       "    </tr>\n",
       "    <tr>\n",
       "      <th>4811</th>\n",
       "      <td>goldeditor   resource opportunities profiles...</td>\n",
       "      <td>1.0</td>\n",
       "    </tr>\n",
       "    <tr>\n",
       "      <th>18736</th>\n",
       "      <td>hello lanigel free teen action  \\ndear lanig...</td>\n",
       "      <td>1.0</td>\n",
       "    </tr>\n",
       "    <tr>\n",
       "      <th>15807</th>\n",
       "      <td>\\nhow   exciting news  \\nwe finally able sa...</td>\n",
       "      <td>1.0</td>\n",
       "    </tr>\n",
       "    <tr>\n",
       "      <th>16481</th>\n",
       "      <td>last longer bed\\nhello  \\ndid ejaculate with...</td>\n",
       "      <td>1.0</td>\n",
       "    </tr>\n",
       "    <tr>\n",
       "      <th>9878</th>\n",
       "      <td>term insurance out\\naggressive underwriting ...</td>\n",
       "      <td>1.0</td>\n",
       "    </tr>\n",
       "    <tr>\n",
       "      <th>15512</th>\n",
       "      <td>award notification   file claim  \\nallianz l...</td>\n",
       "      <td>1.0</td>\n",
       "    </tr>\n",
       "    <tr>\n",
       "      <th>24606</th>\n",
       "      <td>please complete return\\ndear applicant  \\nyo...</td>\n",
       "      <td>1.0</td>\n",
       "    </tr>\n",
       "    <tr>\n",
       "      <th>18545</th>\n",
       "      <td>fw   keep wraps   one works treat        \\nt...</td>\n",
       "      <td>1.0</td>\n",
       "    </tr>\n",
       "    <tr>\n",
       "      <th>3833</th>\n",
       "      <td>injections\\n</td>\n",
       "      <td>1.0</td>\n",
       "    </tr>\n",
       "  </tbody>\n",
       "</table>\n",
       "</div>"
      ],
      "text/plain": [
       "                                                 E-mails  spam\n",
       "20016    ref   investment hst associates  \\nre   inve...   1.0\n",
       "4811     goldeditor   resource opportunities profiles...   1.0\n",
       "18736    hello lanigel free teen action  \\ndear lanig...   1.0\n",
       "15807     \\nhow   exciting news  \\nwe finally able sa...   1.0\n",
       "16481    last longer bed\\nhello  \\ndid ejaculate with...   1.0\n",
       "9878     term insurance out\\naggressive underwriting ...   1.0\n",
       "15512    award notification   file claim  \\nallianz l...   1.0\n",
       "24606    please complete return\\ndear applicant  \\nyo...   1.0\n",
       "18545    fw   keep wraps   one works treat        \\nt...   1.0\n",
       "3833                                        injections\\n   1.0"
      ]
     },
     "execution_count": 132,
     "metadata": {},
     "output_type": "execute_result"
    }
   ],
   "source": [
    "df_train_ok.loc[df_train_ok['spam'] == 1].head(10)"
   ]
  },
  {
   "cell_type": "markdown",
   "metadata": {},
   "source": [
    "The e-mails which went through and really were, in fact, either forwards or part of a reply chain, and which are SPAM exhibit much more sophisticated traits that the other spam e-mails. For instance, in this small sample above, e-mails 18736,15807,16481 and others certainly got through our selection, as they're evident spam to the naked eye. However, e-mails like 18545 which we can see as a 'fw' and 24606 which invites receivers to a response by re-direction to a site or attaching a file exhibit advanced phishing tactics, as opposed to simple spam dumps. This highlights interesting features of this restricted subset of e-mails, which could potentially be studied more closely (though they offer fewer datapoints) to properly identify less obvious spam.\n",
    "\n",
    "Lastly, we will import our findings to the main branch. Once again, the reader is _not_ expected to run the following code:"
   ]
  },
  {
   "cell_type": "code",
   "execution_count": 133,
   "metadata": {},
   "outputs": [],
   "source": [
    "# pickle.dump(y_pred_re, open(\"D://Datasets/y_pred_re.p\",\"wb\"))\n",
    "# pickle.dump(y_actual_re, open(\"D://Datasets/y_actual_re.p\",\"wb\"))"
   ]
  },
  {
   "cell_type": "markdown",
   "metadata": {},
   "source": [
    "**Conclusions**\n",
    "\n",
    "TF-IDF was neither an excellent nor awful choice for examining the given datasets. Results consistently scored better than guessing and correctly identified certain patters, with overlaps being notable in the visualisations provided (once the number of topics has been adequately increased to reflect this). Proportionally to the coherence and perplexity attained by only 2 topics - one may expect the accuracy of TF-IDF's optimal solution we found to yield anywhere between an 8% to 18% increase in overall accuracy, which would in the best case place it in the low 90's. This would, indeed, be a model performing much better than commercial spam filters - since it already performs almost as good as them with the hard-set option of 2 topics. The complexity of our procedure is not too high either, making the bag of words approach a suitable choice for the purpose of filtering certain subtypes of text; in our case spam."
   ]
  },
  {
   "cell_type": "markdown",
   "metadata": {},
   "source": [
    "## 7. References"
   ]
  },
  {
   "cell_type": "markdown",
   "metadata": {},
   "source": [
    "[Enron e-mails](http://www.enron-mail.com/email/)\n",
    "\n",
    "[Using RegEx for Data cleaning](https://www.w3schools.com/python/python_regex.asp#search)\n",
    "\n",
    "[RegEx cleaning extended to dataframes](https://kanoki.org/2019/11/12/how-to-use-regex-in-pandas/)\n",
    "\n",
    "[Intro to bag of words](https://stackabuse.com/python-for-nlp-creating-bag-of-words-model-from-scratch/)\n",
    "\n",
    "[Lemmatization with nltk](https://www.geeksforgeeks.org/python-lemmatization-with-nltk/)\n",
    "\n",
    "[What is tf-idf?](https://en.wikipedia.org/wiki/Tf%E2%80%93idf)\n",
    "\n",
    "[How to manually implement tf-idf (1)](https://towardsdatascience.com/natural-language-processing-feature-engineering-using-tf-idf-e8b9d00e7e76)\n",
    "\n",
    "[How to manually implement tf-idf (2)](https://www.freecodecamp.org/news/how-to-process-textual-data-using-tf-idf-in-python-cd2bbc0a94a3/)\n",
    "\n",
    "[Using Gensim for topic modelling](https://radimrehurek.com/gensim/)\n",
    "\n",
    "[Importing with pickles](https://docs.python.org/3/library/pickle.html)"
   ]
  }
 ],
 "metadata": {
  "kernelspec": {
   "display_name": "Python 3",
   "language": "python",
   "name": "python3"
  },
  "language_info": {
   "codemirror_mode": {
    "name": "ipython",
    "version": 3
   },
   "file_extension": ".py",
   "mimetype": "text/x-python",
   "name": "python",
   "nbconvert_exporter": "python",
   "pygments_lexer": "ipython3",
   "version": "3.8.3"
  }
 },
 "nbformat": 4,
 "nbformat_minor": 4
}
