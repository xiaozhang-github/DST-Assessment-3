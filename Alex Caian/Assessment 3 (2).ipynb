{
 "cells": [
  {
   "cell_type": "code",
   "execution_count": 115,
   "metadata": {},
   "outputs": [],
   "source": [
    "import glob\n",
    "import os\n",
    "import re\n",
    "import random\n",
    "import numpy as np\n",
    "import pandas as pd\n",
    "import math\n",
    "from pathlib import Path\n",
    "import matplotlib.pyplot as plt\n",
    "\n",
    "import gensim\n",
    "import pickle\n",
    "from nltk.stem import WordNetLemmatizer, SnowballStemmer\n",
    "from nltk.stem.porter import *"
   ]
  },
  {
   "cell_type": "code",
   "execution_count": 116,
   "metadata": {},
   "outputs": [],
   "source": [
    "os.chdir(\"D://Datasets\")"
   ]
  },
  {
   "cell_type": "code",
   "execution_count": 3,
   "metadata": {},
   "outputs": [],
   "source": [
    "corpus = []\n",
    "\n",
    "for path in Path('All enron unzip').rglob('*.txt'):\n",
    "        with open(path, errors='ignore') as f_input:\n",
    "            corpus.append(f_input.read())"
   ]
  },
  {
   "cell_type": "code",
   "execution_count": 134,
   "metadata": {},
   "outputs": [
    {
     "data": {
      "text/html": [
       "<div>\n",
       "<style scoped>\n",
       "    .dataframe tbody tr th:only-of-type {\n",
       "        vertical-align: middle;\n",
       "    }\n",
       "\n",
       "    .dataframe tbody tr th {\n",
       "        vertical-align: top;\n",
       "    }\n",
       "\n",
       "    .dataframe thead th {\n",
       "        text-align: right;\n",
       "    }\n",
       "</style>\n",
       "<table border=\"1\" class=\"dataframe\">\n",
       "  <thead>\n",
       "    <tr style=\"text-align: right;\">\n",
       "      <th></th>\n",
       "      <th>0</th>\n",
       "    </tr>\n",
       "  </thead>\n",
       "  <tbody>\n",
       "    <tr>\n",
       "      <th>0</th>\n",
       "      <td>Legitimate\\n----------\\n- Owner: farmer-d\\n- T...</td>\n",
       "    </tr>\n",
       "    <tr>\n",
       "      <th>1</th>\n",
       "      <td>Subject: christmas tree farm pictures\\n</td>\n",
       "    </tr>\n",
       "    <tr>\n",
       "      <th>2</th>\n",
       "      <td>Subject: vastar resources , inc .\\ngary , prod...</td>\n",
       "    </tr>\n",
       "    <tr>\n",
       "      <th>3</th>\n",
       "      <td>Subject: calpine daily gas nomination\\n- calpi...</td>\n",
       "    </tr>\n",
       "    <tr>\n",
       "      <th>4</th>\n",
       "      <td>Subject: re : issue\\nfyi - see note below - al...</td>\n",
       "    </tr>\n",
       "  </tbody>\n",
       "</table>\n",
       "</div>"
      ],
      "text/plain": [
       "                                                   0\n",
       "0  Legitimate\\n----------\\n- Owner: farmer-d\\n- T...\n",
       "1            Subject: christmas tree farm pictures\\n\n",
       "2  Subject: vastar resources , inc .\\ngary , prod...\n",
       "3  Subject: calpine daily gas nomination\\n- calpi...\n",
       "4  Subject: re : issue\\nfyi - see note below - al..."
      ]
     },
     "execution_count": 134,
     "metadata": {},
     "output_type": "execute_result"
    }
   ],
   "source": [
    "df = pd.DataFrame(corpus)\n",
    "df.head()"
   ]
  },
  {
   "cell_type": "code",
   "execution_count": 135,
   "metadata": {},
   "outputs": [
    {
     "data": {
      "text/plain": [
       "27721"
      ]
     },
     "execution_count": 135,
     "metadata": {},
     "output_type": "execute_result"
    }
   ],
   "source": [
    "len(df)"
   ]
  },
  {
   "cell_type": "code",
   "execution_count": 136,
   "metadata": {},
   "outputs": [],
   "source": [
    "df = df.drop([0,5173,11031,16544,21720]) # Removed the summary bits\n",
    "df.columns=[\"E-mails\"]"
   ]
  },
  {
   "cell_type": "code",
   "execution_count": 137,
   "metadata": {},
   "outputs": [],
   "source": [
    "random.seed(a=5)\n",
    "df = df.sample(frac=1)\t# Shuffle the entire dataframe\n",
    "ten_off_df = math.floor(len(df)/10)"
   ]
  },
  {
   "cell_type": "code",
   "execution_count": 138,
   "metadata": {},
   "outputs": [],
   "source": [
    "#################[Failed FOR loop attempt]\n",
    "# df_temp = df\n",
    "# for i in range(1,9):\n",
    " #    locals()['df_{}.index.values'.format(i)] = df_temp.sample(ten_off_df)\n",
    " #    c_df = locals()['df_{}'.format(i)]\n",
    " #    locals()['l_{}'.format(i)] = list(c_df.index.values)\n",
    " #    loc_l = locals()['l_{}'.format(i)]\n",
    " #    df_temp = df_temp.drop(loc_l)"
   ]
  },
  {
   "cell_type": "code",
   "execution_count": 139,
   "metadata": {},
   "outputs": [],
   "source": [
    "################# [Good For loop attempt]\n",
    "df_temp = df\n",
    "for i in range(0,9):\n",
    "    a = df_temp.sample(ten_off_df)\n",
    "    locals()['df_{}'.format(i)] = a\n",
    "    l = list(a.index.values)\n",
    "    df_temp = df_temp.drop(l)"
   ]
  },
  {
   "cell_type": "code",
   "execution_count": 140,
   "metadata": {},
   "outputs": [],
   "source": [
    "df_test = df_temp\n",
    "\n",
    "frames=[df_0, df_1, df_2, df_3, df_4, df_5, df_6, df_7, df_8]\n",
    "df_train = pd.concat(frames)"
   ]
  },
  {
   "cell_type": "code",
   "execution_count": 141,
   "metadata": {},
   "outputs": [
    {
     "data": {
      "text/plain": [
       "True"
      ]
     },
     "execution_count": 141,
     "metadata": {},
     "output_type": "execute_result"
    }
   ],
   "source": [
    "len(df_train)+len(df_test)==len(df)\t## Check if the split was properly done"
   ]
  },
  {
   "cell_type": "code",
   "execution_count": 142,
   "metadata": {},
   "outputs": [
    {
     "name": "stderr",
     "output_type": "stream",
     "text": [
      "[nltk_data] Downloading package stopwords to\n",
      "[nltk_data]     C:\\Users\\axl_a\\AppData\\Roaming\\nltk_data...\n",
      "[nltk_data]   Package stopwords is already up-to-date!\n"
     ]
    },
    {
     "data": {
      "text/plain": [
       "True"
      ]
     },
     "execution_count": 142,
     "metadata": {},
     "output_type": "execute_result"
    }
   ],
   "source": [
    "import nltk\n",
    "from nltk.corpus import stopwords\n",
    "\n",
    "nltk.download('stopwords')"
   ]
  },
  {
   "cell_type": "code",
   "execution_count": 145,
   "metadata": {},
   "outputs": [
    {
     "data": {
      "text/html": [
       "<div>\n",
       "<style scoped>\n",
       "    .dataframe tbody tr th:only-of-type {\n",
       "        vertical-align: middle;\n",
       "    }\n",
       "\n",
       "    .dataframe tbody tr th {\n",
       "        vertical-align: top;\n",
       "    }\n",
       "\n",
       "    .dataframe thead th {\n",
       "        text-align: right;\n",
       "    }\n",
       "</style>\n",
       "<table border=\"1\" class=\"dataframe\">\n",
       "  <thead>\n",
       "    <tr style=\"text-align: right;\">\n",
       "      <th></th>\n",
       "      <th>E-mails</th>\n",
       "    </tr>\n",
       "  </thead>\n",
       "  <tbody>\n",
       "    <tr>\n",
       "      <th>21346</th>\n",
       "      <td>Subject: failure notice\\nhi . this is the qmai...</td>\n",
       "    </tr>\n",
       "    <tr>\n",
       "      <th>6721</th>\n",
       "      <td>Subject: re : anita dupont resume\\noooopppss !...</td>\n",
       "    </tr>\n",
       "    <tr>\n",
       "      <th>25652</th>\n",
       "      <td>Subject: hey , its me , diehlmys 5644 from aim...</td>\n",
       "    </tr>\n",
       "    <tr>\n",
       "      <th>17648</th>\n",
       "      <td>Subject: uk submission of positions\\njust to f...</td>\n",
       "    </tr>\n",
       "    <tr>\n",
       "      <th>24535</th>\n",
       "      <td>Subject: = ? utf - 8 ? q ? each tablets at 0 ....</td>\n",
       "    </tr>\n",
       "    <tr>\n",
       "      <th>...</th>\n",
       "      <td>...</td>\n",
       "    </tr>\n",
       "    <tr>\n",
       "      <th>7412</th>\n",
       "      <td>Subject: research meeting\\nall\\njohn sherriff ...</td>\n",
       "    </tr>\n",
       "    <tr>\n",
       "      <th>13309</th>\n",
       "      <td>Subject: tables report dated october 15 , 2001...</td>\n",
       "    </tr>\n",
       "    <tr>\n",
       "      <th>18103</th>\n",
       "      <td>Subject: when size does matter , you know wher...</td>\n",
       "    </tr>\n",
       "    <tr>\n",
       "      <th>14260</th>\n",
       "      <td>Subject: latest commercial info\\n- - - - - ori...</td>\n",
       "    </tr>\n",
       "    <tr>\n",
       "      <th>10182</th>\n",
       "      <td>Subject: logo , stationer , website design and...</td>\n",
       "    </tr>\n",
       "  </tbody>\n",
       "</table>\n",
       "<p>2777 rows × 1 columns</p>\n",
       "</div>"
      ],
      "text/plain": [
       "                                                 E-mails\n",
       "21346  Subject: failure notice\\nhi . this is the qmai...\n",
       "6721   Subject: re : anita dupont resume\\noooopppss !...\n",
       "25652  Subject: hey , its me , diehlmys 5644 from aim...\n",
       "17648  Subject: uk submission of positions\\njust to f...\n",
       "24535  Subject: = ? utf - 8 ? q ? each tablets at 0 ....\n",
       "...                                                  ...\n",
       "7412   Subject: research meeting\\nall\\njohn sherriff ...\n",
       "13309  Subject: tables report dated october 15 , 2001...\n",
       "18103  Subject: when size does matter , you know wher...\n",
       "14260  Subject: latest commercial info\\n- - - - - ori...\n",
       "10182  Subject: logo , stationer , website design and...\n",
       "\n",
       "[2777 rows x 1 columns]"
      ]
     },
     "execution_count": 145,
     "metadata": {},
     "output_type": "execute_result"
    }
   ],
   "source": [
    "df_test"
   ]
  },
  {
   "cell_type": "code",
   "execution_count": 146,
   "metadata": {},
   "outputs": [
    {
     "data": {
      "text/html": [
       "<div>\n",
       "<style scoped>\n",
       "    .dataframe tbody tr th:only-of-type {\n",
       "        vertical-align: middle;\n",
       "    }\n",
       "\n",
       "    .dataframe tbody tr th {\n",
       "        vertical-align: top;\n",
       "    }\n",
       "\n",
       "    .dataframe thead th {\n",
       "        text-align: right;\n",
       "    }\n",
       "</style>\n",
       "<table border=\"1\" class=\"dataframe\">\n",
       "  <thead>\n",
       "    <tr style=\"text-align: right;\">\n",
       "      <th></th>\n",
       "      <th>E-mails</th>\n",
       "    </tr>\n",
       "  </thead>\n",
       "  <tbody>\n",
       "    <tr>\n",
       "      <th>771</th>\n",
       "      <td>Subject: please re - map hpl zone 4 from a / s...</td>\n",
       "    </tr>\n",
       "    <tr>\n",
       "      <th>646</th>\n",
       "      <td>Subject: fw : special prayer request\\n- - - - ...</td>\n",
       "    </tr>\n",
       "    <tr>\n",
       "      <th>1335</th>\n",
       "      <td>Subject: eastrans nomination changes effective...</td>\n",
       "    </tr>\n",
       "    <tr>\n",
       "      <th>25094</th>\n",
       "      <td>Subject: watch this micro - cap issue trade\\nm...</td>\n",
       "    </tr>\n",
       "    <tr>\n",
       "      <th>8915</th>\n",
       "      <td>Subject: eprm article\\nhi vince ,\\n?\\ni ' m so...</td>\n",
       "    </tr>\n",
       "    <tr>\n",
       "      <th>...</th>\n",
       "      <td>...</td>\n",
       "    </tr>\n",
       "    <tr>\n",
       "      <th>5904</th>\n",
       "      <td>Subject: re : test\\nshirley ,\\nplease , remind...</td>\n",
       "    </tr>\n",
       "    <tr>\n",
       "      <th>25578</th>\n",
       "      <td>Subject: response needed\\ndear friend\\ni am mr...</td>\n",
       "    </tr>\n",
       "    <tr>\n",
       "      <th>3922</th>\n",
       "      <td>Subject: absentminded volition cavil corpus de...</td>\n",
       "    </tr>\n",
       "    <tr>\n",
       "      <th>14250</th>\n",
       "      <td>Subject: 11 / 30 and 12 / 3 dpr - update\\nwith...</td>\n",
       "    </tr>\n",
       "    <tr>\n",
       "      <th>11933</th>\n",
       "      <td>Subject: re - regulation is here ; cautious on...</td>\n",
       "    </tr>\n",
       "  </tbody>\n",
       "</table>\n",
       "<p>24939 rows × 1 columns</p>\n",
       "</div>"
      ],
      "text/plain": [
       "                                                 E-mails\n",
       "771    Subject: please re - map hpl zone 4 from a / s...\n",
       "646    Subject: fw : special prayer request\\n- - - - ...\n",
       "1335   Subject: eastrans nomination changes effective...\n",
       "25094  Subject: watch this micro - cap issue trade\\nm...\n",
       "8915   Subject: eprm article\\nhi vince ,\\n?\\ni ' m so...\n",
       "...                                                  ...\n",
       "5904   Subject: re : test\\nshirley ,\\nplease , remind...\n",
       "25578  Subject: response needed\\ndear friend\\ni am mr...\n",
       "3922   Subject: absentminded volition cavil corpus de...\n",
       "14250  Subject: 11 / 30 and 12 / 3 dpr - update\\nwith...\n",
       "11933  Subject: re - regulation is here ; cautious on...\n",
       "\n",
       "[24939 rows x 1 columns]"
      ]
     },
     "execution_count": 146,
     "metadata": {},
     "output_type": "execute_result"
    }
   ],
   "source": [
    "df_train"
   ]
  },
  {
   "cell_type": "code",
   "execution_count": 147,
   "metadata": {},
   "outputs": [],
   "source": [
    "df_0_ok = df_0[df_0['E-mails'].str.contains(\"re :\") | df_0['E-mails'].str.contains(\"fw :\")]\n",
    "df_1_ok = df_1[df_1['E-mails'].str.contains(\"re :\") | df_1['E-mails'].str.contains(\"fw :\")]\n",
    "df_2_ok = df_2[df_2['E-mails'].str.contains(\"re :\") | df_2['E-mails'].str.contains(\"fw :\")]\n",
    "df_3_ok = df_3[df_3['E-mails'].str.contains(\"re :\") | df_3['E-mails'].str.contains(\"fw :\")]\n",
    "df_4_ok = df_4[df_4['E-mails'].str.contains(\"re :\") | df_4['E-mails'].str.contains(\"fw :\")]\n",
    "df_5_ok = df_5[df_5['E-mails'].str.contains(\"re :\") | df_5['E-mails'].str.contains(\"fw :\")]\n",
    "df_6_ok = df_6[df_6['E-mails'].str.contains(\"re :\") | df_6['E-mails'].str.contains(\"fw :\")]\n",
    "df_7_ok = df_7[df_7['E-mails'].str.contains(\"re :\") | df_7['E-mails'].str.contains(\"fw :\")]\n",
    "df_8_ok = df_8[df_8['E-mails'].str.contains(\"re :\") | df_8['E-mails'].str.contains(\"fw :\")]\n",
    "df_train_ok = df_train[df_train['E-mails'].str.contains(\"re :\") | df_train['E-mails'].str.contains(\"fw :\")]"
   ]
  },
  {
   "cell_type": "code",
   "execution_count": 148,
   "metadata": {},
   "outputs": [
    {
     "data": {
      "text/html": [
       "<div>\n",
       "<style scoped>\n",
       "    .dataframe tbody tr th:only-of-type {\n",
       "        vertical-align: middle;\n",
       "    }\n",
       "\n",
       "    .dataframe tbody tr th {\n",
       "        vertical-align: top;\n",
       "    }\n",
       "\n",
       "    .dataframe thead th {\n",
       "        text-align: right;\n",
       "    }\n",
       "</style>\n",
       "<table border=\"1\" class=\"dataframe\">\n",
       "  <thead>\n",
       "    <tr style=\"text-align: right;\">\n",
       "      <th></th>\n",
       "      <th>E-mails</th>\n",
       "    </tr>\n",
       "  </thead>\n",
       "  <tbody>\n",
       "    <tr>\n",
       "      <th>646</th>\n",
       "      <td>Subject: fw : special prayer request\\n- - - - ...</td>\n",
       "    </tr>\n",
       "    <tr>\n",
       "      <th>27232</th>\n",
       "      <td>Subject: re : [ 5 ]\\nthis is going to be our f...</td>\n",
       "    </tr>\n",
       "    <tr>\n",
       "      <th>25119</th>\n",
       "      <td>Subject: re :\\nwelcome to offshorepharm , your...</td>\n",
       "    </tr>\n",
       "    <tr>\n",
       "      <th>12054</th>\n",
       "      <td>Subject: re : hello\\ni am back in the office t...</td>\n",
       "    </tr>\n",
       "    <tr>\n",
       "      <th>4463</th>\n",
       "      <td>Subject: re : the hstoett lady sucklng huge cc...</td>\n",
       "    </tr>\n",
       "    <tr>\n",
       "      <th>...</th>\n",
       "      <td>...</td>\n",
       "    </tr>\n",
       "    <tr>\n",
       "      <th>8548</th>\n",
       "      <td>Subject: re : vacation in march , april\\nstins...</td>\n",
       "    </tr>\n",
       "    <tr>\n",
       "      <th>12871</th>\n",
       "      <td>Subject: re : amendment to im ii ppa\\ni would ...</td>\n",
       "    </tr>\n",
       "    <tr>\n",
       "      <th>17773</th>\n",
       "      <td>Subject: re : general alarm - - - enron metals...</td>\n",
       "    </tr>\n",
       "    <tr>\n",
       "      <th>9113</th>\n",
       "      <td>Subject: re : test\\ndear vince : the email add...</td>\n",
       "    </tr>\n",
       "    <tr>\n",
       "      <th>12246</th>\n",
       "      <td>Subject: re : pwc\\ni will talk to george .\\ni ...</td>\n",
       "    </tr>\n",
       "  </tbody>\n",
       "</table>\n",
       "<p>650 rows × 1 columns</p>\n",
       "</div>"
      ],
      "text/plain": [
       "                                                 E-mails\n",
       "646    Subject: fw : special prayer request\\n- - - - ...\n",
       "27232  Subject: re : [ 5 ]\\nthis is going to be our f...\n",
       "25119  Subject: re :\\nwelcome to offshorepharm , your...\n",
       "12054  Subject: re : hello\\ni am back in the office t...\n",
       "4463   Subject: re : the hstoett lady sucklng huge cc...\n",
       "...                                                  ...\n",
       "8548   Subject: re : vacation in march , april\\nstins...\n",
       "12871  Subject: re : amendment to im ii ppa\\ni would ...\n",
       "17773  Subject: re : general alarm - - - enron metals...\n",
       "9113   Subject: re : test\\ndear vince : the email add...\n",
       "12246  Subject: re : pwc\\ni will talk to george .\\ni ...\n",
       "\n",
       "[650 rows x 1 columns]"
      ]
     },
     "execution_count": 148,
     "metadata": {},
     "output_type": "execute_result"
    }
   ],
   "source": [
    "df_0_ok"
   ]
  },
  {
   "cell_type": "code",
   "execution_count": 149,
   "metadata": {},
   "outputs": [],
   "source": [
    "for i in range(0,9):\n",
    "    locals()['y_{}'.format(i)] = np.array([len(locals()['df_{}_ok'.format(i)]), len(locals()['df_{}'.format(i)]) - len(locals()['df_{}_ok'.format(i)])])\n",
    "\n",
    "y=np.array([len(df_train_ok), len(df_train)-len(df_train_ok)])"
   ]
  },
  {
   "cell_type": "code",
   "execution_count": 150,
   "metadata": {},
   "outputs": [
    {
     "data": {
      "image/png": "[encoded data removed]",
      "text/plain": [
       "<Figure size 432x288 with 1 Axes>"
      ]
     },
     "metadata": {},
     "output_type": "display_data"
    }
   ],
   "source": [
    "plt.pie(y, labels=[\"Replies or Forwards\", \"Neither\"])\n",
    "plt.show()"
   ]
  },
  {
   "cell_type": "code",
   "execution_count": 151,
   "metadata": {},
   "outputs": [
    {
     "data": {
      "image/png": "[encoded data removed]",
      "text/plain": [
       "<Figure size 432x288 with 8 Axes>"
      ]
     },
     "metadata": {},
     "output_type": "display_data"
    }
   ],
   "source": [
    "for i in range(1,9):\n",
    "    plt.subplot(3,3,i)\n",
    "    plt.pie(locals()['y_{}'.format(i)], labels=[\"Re or Fw\", \"Neither\"], autopct = '%.2f', colors = ['red', 'blue']) \n",
    "    plt.title('{}'.format(i))\n",
    "    \n",
    "plt.show()    "
   ]
  },
  {
   "cell_type": "code",
   "execution_count": 152,
   "metadata": {},
   "outputs": [],
   "source": [
    "l1 = stopwords.words('english')\n",
    "lst1 = [' {} '.format(x) for x in l1]\n",
    "lst1.append('Subject:')\n",
    "lst1.append('Subject :')\n",
    "lst1.remove(' re ')\n",
    "# lst2 = [ '.{} '.format(x) for x in l1]\n",
    "# lst3 = [ ' {}.'.format(x) for x in l1]"
   ]
  },
  {
   "cell_type": "code",
   "execution_count": 153,
   "metadata": {},
   "outputs": [],
   "source": [
    "# Remove too common words from the list we procurred:\n",
    "for i in range(0,9):\n",
    "    locals()['df_{}'.format(i)]['E-mails'].replace(lst1, \" \", regex=True, inplace=True)\n",
    "    \n",
    "   #  locals()['df_{}'.format(i)]['E-mails'].replace(lst2, \" \", regex=True, inplace=True)\n",
    "   #  locals()['df_{}'.format(i)]['E-mails'].replace(lst3, \" \", regex=True, inplace=True)\n",
    "df_train['E-mails'].replace(lst1, \" \", regex=True, inplace=True)\n",
    "df_test['E-mails'].replace(lst1, \" \", regex=True, inplace=True)"
   ]
  },
  {
   "cell_type": "code",
   "execution_count": 154,
   "metadata": {},
   "outputs": [],
   "source": [
    "# Remove punctuation and often used symbols, but NOT ':' since we'll need later\n",
    "# \"[?!.,;()\"\\/|&-`#$%^]\"\n",
    "for i in range(0,9):\n",
    "    locals()['df_{}'.format(i)]['E-mails'].replace(r'[^\\w\\s]', \" \", regex=True, inplace=True)\n",
    "    \n",
    "df_train['E-mails'].replace(r'[^\\w\\s]', \" \", regex=True, inplace=True)\n",
    "df_test['E-mails'].replace(r'[^\\w\\s]', \" \", regex=True, inplace=True)"
   ]
  },
  {
   "cell_type": "code",
   "execution_count": 155,
   "metadata": {},
   "outputs": [],
   "source": [
    "# Remove all numbers from the e-mails, as they're (mostly) redundant\n",
    "# \"[0-9999999999]\"\n",
    "\n",
    "for i in range(0,9):\n",
    "    locals()['df_{}'.format(i)]['E-mails'].replace('[0-9999999999]', \" \", regex=True, inplace=True)\n",
    "\n",
    "df_train['E-mails'].replace('[0-9999999999]', \" \", regex=True, inplace=True)\n",
    "df_test['E-mails'].replace('[0-9999999999]', \" \", regex=True, inplace=True)"
   ]
  },
  {
   "cell_type": "code",
   "execution_count": 156,
   "metadata": {},
   "outputs": [
    {
     "data": {
      "text/html": [
       "<div>\n",
       "<style scoped>\n",
       "    .dataframe tbody tr th:only-of-type {\n",
       "        vertical-align: middle;\n",
       "    }\n",
       "\n",
       "    .dataframe tbody tr th {\n",
       "        vertical-align: top;\n",
       "    }\n",
       "\n",
       "    .dataframe thead th {\n",
       "        text-align: right;\n",
       "    }\n",
       "</style>\n",
       "<table border=\"1\" class=\"dataframe\">\n",
       "  <thead>\n",
       "    <tr style=\"text-align: right;\">\n",
       "      <th></th>\n",
       "      <th>E-mails</th>\n",
       "    </tr>\n",
       "  </thead>\n",
       "  <tbody>\n",
       "    <tr>\n",
       "      <th>771</th>\n",
       "      <td>please re   map hpl zone     east beaumont  ...</td>\n",
       "    </tr>\n",
       "    <tr>\n",
       "      <th>646</th>\n",
       "      <td>fw   special prayer request\\n          origi...</td>\n",
       "    </tr>\n",
       "    <tr>\n",
       "      <th>1335</th>\n",
       "      <td>eastrans nomination changes effective       ...</td>\n",
       "    </tr>\n",
       "    <tr>\n",
       "      <th>25094</th>\n",
       "      <td>watch micro   cap issue trade\\nmoyer  \\nbefo...</td>\n",
       "    </tr>\n",
       "    <tr>\n",
       "      <th>8915</th>\n",
       "      <td>eprm article\\nhi vince  \\n \\ni   sorry   aro...</td>\n",
       "    </tr>\n",
       "    <tr>\n",
       "      <th>...</th>\n",
       "      <td>...</td>\n",
       "    </tr>\n",
       "    <tr>\n",
       "      <th>5904</th>\n",
       "      <td>re   test\\nshirley  \\nplease   remind making...</td>\n",
       "    </tr>\n",
       "    <tr>\n",
       "      <th>25578</th>\n",
       "      <td>response needed\\ndear friend\\ni mr   olsom b...</td>\n",
       "    </tr>\n",
       "    <tr>\n",
       "      <th>3922</th>\n",
       "      <td>absentminded volition cavil corpus deacon fo...</td>\n",
       "    </tr>\n",
       "    <tr>\n",
       "      <th>14250</th>\n",
       "      <td>dpr   update\\nwith events yes...</td>\n",
       "    </tr>\n",
       "    <tr>\n",
       "      <th>11933</th>\n",
       "      <td>re   regulation   cautious group   much risk...</td>\n",
       "    </tr>\n",
       "  </tbody>\n",
       "</table>\n",
       "<p>24939 rows × 1 columns</p>\n",
       "</div>"
      ],
      "text/plain": [
       "                                                 E-mails\n",
       "771      please re   map hpl zone     east beaumont  ...\n",
       "646      fw   special prayer request\\n          origi...\n",
       "1335     eastrans nomination changes effective       ...\n",
       "25094    watch micro   cap issue trade\\nmoyer  \\nbefo...\n",
       "8915     eprm article\\nhi vince  \\n \\ni   sorry   aro...\n",
       "...                                                  ...\n",
       "5904     re   test\\nshirley  \\nplease   remind making...\n",
       "25578    response needed\\ndear friend\\ni mr   olsom b...\n",
       "3922     absentminded volition cavil corpus deacon fo...\n",
       "14250                   dpr   update\\nwith events yes...\n",
       "11933    re   regulation   cautious group   much risk...\n",
       "\n",
       "[24939 rows x 1 columns]"
      ]
     },
     "execution_count": 156,
     "metadata": {},
     "output_type": "execute_result"
    }
   ],
   "source": [
    "df_train"
   ]
  },
  {
   "cell_type": "code",
   "execution_count": 157,
   "metadata": {},
   "outputs": [
    {
     "data": {
      "text/html": [
       "<div>\n",
       "<style scoped>\n",
       "    .dataframe tbody tr th:only-of-type {\n",
       "        vertical-align: middle;\n",
       "    }\n",
       "\n",
       "    .dataframe tbody tr th {\n",
       "        vertical-align: top;\n",
       "    }\n",
       "\n",
       "    .dataframe thead th {\n",
       "        text-align: right;\n",
       "    }\n",
       "</style>\n",
       "<table border=\"1\" class=\"dataframe\">\n",
       "  <thead>\n",
       "    <tr style=\"text-align: right;\">\n",
       "      <th></th>\n",
       "      <th>E-mails</th>\n",
       "    </tr>\n",
       "  </thead>\n",
       "  <tbody>\n",
       "    <tr>\n",
       "      <th>21346</th>\n",
       "      <td>failure notice\\nhi   qmail   send program se...</td>\n",
       "    </tr>\n",
       "    <tr>\n",
       "      <th>6721</th>\n",
       "      <td>re   anita dupont resume\\noooopppss  \\npleas...</td>\n",
       "    </tr>\n",
       "    <tr>\n",
       "      <th>25652</th>\n",
       "      <td>hey     diehlmys      aim\\nwould reflnance k...</td>\n",
       "    </tr>\n",
       "    <tr>\n",
       "      <th>17648</th>\n",
       "      <td>uk submission positions\\njust follow james  ...</td>\n",
       "    </tr>\n",
       "    <tr>\n",
       "      <th>24535</th>\n",
       "      <td>utf       q   tablets           \\n    ut...</td>\n",
       "    </tr>\n",
       "    <tr>\n",
       "      <th>...</th>\n",
       "      <td>...</td>\n",
       "    </tr>\n",
       "    <tr>\n",
       "      <th>7412</th>\n",
       "      <td>research meeting\\nall\\njohn sherriff suggest...</td>\n",
       "    </tr>\n",
       "    <tr>\n",
       "      <th>13309</th>\n",
       "      <td>tables report dated october          \\nif wo...</td>\n",
       "    </tr>\n",
       "    <tr>\n",
       "      <th>18103</th>\n",
       "      <td>size matter   know go        \\ndid know  \\nt...</td>\n",
       "    </tr>\n",
       "    <tr>\n",
       "      <th>14260</th>\n",
       "      <td>latest commercial info\\n          original m...</td>\n",
       "    </tr>\n",
       "    <tr>\n",
       "      <th>10182</th>\n",
       "      <td>logo   stationer   website design much  \\nlt...</td>\n",
       "    </tr>\n",
       "  </tbody>\n",
       "</table>\n",
       "<p>2777 rows × 1 columns</p>\n",
       "</div>"
      ],
      "text/plain": [
       "                                                 E-mails\n",
       "21346    failure notice\\nhi   qmail   send program se...\n",
       "6721     re   anita dupont resume\\noooopppss  \\npleas...\n",
       "25652    hey     diehlmys      aim\\nwould reflnance k...\n",
       "17648    uk submission positions\\njust follow james  ...\n",
       "24535        utf       q   tablets           \\n    ut...\n",
       "...                                                  ...\n",
       "7412     research meeting\\nall\\njohn sherriff suggest...\n",
       "13309    tables report dated october          \\nif wo...\n",
       "18103    size matter   know go        \\ndid know  \\nt...\n",
       "14260    latest commercial info\\n          original m...\n",
       "10182    logo   stationer   website design much  \\nlt...\n",
       "\n",
       "[2777 rows x 1 columns]"
      ]
     },
     "execution_count": 157,
     "metadata": {},
     "output_type": "execute_result"
    }
   ],
   "source": [
    "df_test"
   ]
  },
  {
   "cell_type": "code",
   "execution_count": 158,
   "metadata": {},
   "outputs": [
    {
     "data": {
      "text/html": [
       "<div>\n",
       "<style scoped>\n",
       "    .dataframe tbody tr th:only-of-type {\n",
       "        vertical-align: middle;\n",
       "    }\n",
       "\n",
       "    .dataframe tbody tr th {\n",
       "        vertical-align: top;\n",
       "    }\n",
       "\n",
       "    .dataframe thead th {\n",
       "        text-align: right;\n",
       "    }\n",
       "</style>\n",
       "<table border=\"1\" class=\"dataframe\">\n",
       "  <thead>\n",
       "    <tr style=\"text-align: right;\">\n",
       "      <th></th>\n",
       "      <th>E-mails</th>\n",
       "    </tr>\n",
       "  </thead>\n",
       "  <tbody>\n",
       "    <tr>\n",
       "      <th>10051</th>\n",
       "      <td>cool medz\\nhello   welcome medzonli decapita...</td>\n",
       "    </tr>\n",
       "    <tr>\n",
       "      <th>26684</th>\n",
       "      <td>re   ppharmacy     nct\\nhello   want spend l...</td>\n",
       "    </tr>\n",
       "    <tr>\n",
       "      <th>23118</th>\n",
       "      <td>transcripts steve cooper   voicemails\\non ja...</td>\n",
       "    </tr>\n",
       "    <tr>\n",
       "      <th>13177</th>\n",
       "      <td>re   ecp interest rate swap\\nyes   took     ...</td>\n",
       "    </tr>\n",
       "    <tr>\n",
       "      <th>24011</th>\n",
       "      <td>xãnax here\\nsa     _     ord   ering onl   i...</td>\n",
       "    </tr>\n",
       "    <tr>\n",
       "      <th>...</th>\n",
       "      <td>...</td>\n",
       "    </tr>\n",
       "    <tr>\n",
       "      <th>15194</th>\n",
       "      <td>neglect   prize      \\nfrom   desk managin...</td>\n",
       "    </tr>\n",
       "    <tr>\n",
       "      <th>16089</th>\n",
       "      <td>consultation prize winner notice\\npowerball ...</td>\n",
       "    </tr>\n",
       "    <tr>\n",
       "      <th>371</th>\n",
       "      <td>estimate file updates\\ndave  \\nplease steve ...</td>\n",
       "    </tr>\n",
       "    <tr>\n",
       "      <th>14267</th>\n",
       "      <td>deal issues\\nsome things ready  \\nplease for...</td>\n",
       "    </tr>\n",
       "    <tr>\n",
       "      <th>3956</th>\n",
       "      <td>lagrangian\\nchaney    \\n     new softwares  ...</td>\n",
       "    </tr>\n",
       "  </tbody>\n",
       "</table>\n",
       "<p>2771 rows × 1 columns</p>\n",
       "</div>"
      ],
      "text/plain": [
       "                                                 E-mails\n",
       "10051    cool medz\\nhello   welcome medzonli decapita...\n",
       "26684    re   ppharmacy     nct\\nhello   want spend l...\n",
       "23118    transcripts steve cooper   voicemails\\non ja...\n",
       "13177    re   ecp interest rate swap\\nyes   took     ...\n",
       "24011    xãnax here\\nsa     _     ord   ering onl   i...\n",
       "...                                                  ...\n",
       "15194      neglect   prize      \\nfrom   desk managin...\n",
       "16089    consultation prize winner notice\\npowerball ...\n",
       "371      estimate file updates\\ndave  \\nplease steve ...\n",
       "14267    deal issues\\nsome things ready  \\nplease for...\n",
       "3956     lagrangian\\nchaney    \\n     new softwares  ...\n",
       "\n",
       "[2771 rows x 1 columns]"
      ]
     },
     "execution_count": 158,
     "metadata": {},
     "output_type": "execute_result"
    }
   ],
   "source": [
    "df_4"
   ]
  },
  {
   "cell_type": "code",
   "execution_count": 159,
   "metadata": {},
   "outputs": [],
   "source": [
    "w_tokenizer = nltk.tokenize.WhitespaceTokenizer()\n",
    "lemmatizer = nltk.stem.WordNetLemmatizer()"
   ]
  },
  {
   "cell_type": "code",
   "execution_count": 160,
   "metadata": {},
   "outputs": [
    {
     "name": "stderr",
     "output_type": "stream",
     "text": [
      "[nltk_data] Downloading package wordnet to\n",
      "[nltk_data]     C:\\Users\\axl_a\\AppData\\Roaming\\nltk_data...\n",
      "[nltk_data]   Package wordnet is already up-to-date!\n"
     ]
    }
   ],
   "source": [
    "# nltk.download('wordnet')\n",
    "def lemmatize_text(text):\n",
    "    return [lemmatizer.lemmatize(w) for w in w_tokenizer.tokenize(text)]"
   ]
  },
  {
   "cell_type": "code",
   "execution_count": 161,
   "metadata": {},
   "outputs": [],
   "source": [
    "for i in range(0,9):\n",
    "    locals()['df_{}_lem'.format(i)] = locals()['df_{}'.format(i)]['E-mails'].apply(lemmatize_text)\n",
    "\n",
    "df_train_lem = df_train['E-mails'].apply(lemmatize_text)\n",
    "df_test_lem = df_test['E-mails'].apply(lemmatize_text)"
   ]
  },
  {
   "cell_type": "code",
   "execution_count": 259,
   "metadata": {},
   "outputs": [
    {
     "name": "stderr",
     "output_type": "stream",
     "text": [
      "<>:3: DeprecationWarning: invalid escape sequence \\w\n",
      "<>:5: DeprecationWarning: invalid escape sequence \\w\n",
      "<>:3: DeprecationWarning: invalid escape sequence \\w\n",
      "<>:5: DeprecationWarning: invalid escape sequence \\w\n",
      "<ipython-input-259-2ce21cc39b79>:3: DeprecationWarning: invalid escape sequence \\w\n",
      "  locals()['df{}'.format(i)] = locals()['df_{}'.format(i)].stack().str.split(\"[^\\w+]\").explode().tolist()\n",
      "<ipython-input-259-2ce21cc39b79>:5: DeprecationWarning: invalid escape sequence \\w\n",
      "  dftrain = df_train.stack().str.split(\"[^\\w+]\").explode().tolist()\n"
     ]
    }
   ],
   "source": [
    "## All words used in df_1\n",
    "for i in range(0,9):\n",
    "    locals()['df{}'.format(i)] = locals()['df_{}'.format(i)].stack().str.split(\"[^\\w+]\").explode().tolist()\n",
    "\n",
    "dftrain = df_train.stack().str.split(\"[^\\w+]\").explode().tolist()\n",
    "## Ignore the warnings please"
   ]
  },
  {
   "cell_type": "code",
   "execution_count": 262,
   "metadata": {},
   "outputs": [],
   "source": [
    "## Remove the identings\n",
    "for i in range(0,9):\n",
    "    locals()['d{}'.format(i)]= list(filter(None, locals()['d{}'.format(i)])) # our 'bow'\n",
    "    ## Remove fewer than 4 characters terms\n",
    "    locals()['d{}'.format(i)] = [token for token in locals()['d{}'.format(i)] if len(token)>4]\n",
    "    ## Read unique terms => dictionary\n",
    "    locals()['d{}_u'.format(i)] = np.unique(locals()['d{}'.format(i)]) # our dictionary, finally!\n",
    "\n",
    "dftrain = list(filter(None, dftrain))\n",
    "dftrain = [token for token in dftrain if len(token)>4]\n",
    "dftrain_u = np.unique(dftrain)"
   ]
  },
  {
   "cell_type": "code",
   "execution_count": 255,
   "metadata": {},
   "outputs": [
    {
     "data": {
      "text/plain": [
       "array(['aabvmmq', 'aaghpdvvu', 'aagrra', ..., 'þettit', 'þeyin',\n",
       "       'þöyledir'], dtype='<U24')"
      ]
     },
     "execution_count": 255,
     "metadata": {},
     "output_type": "execute_result"
    }
   ],
   "source": [
    "d5_u"
   ]
  },
  {
   "cell_type": "code",
   "execution_count": 264,
   "metadata": {},
   "outputs": [
    {
     "data": {
      "text/plain": [
       "100589"
      ]
     },
     "execution_count": 264,
     "metadata": {},
     "output_type": "execute_result"
    }
   ],
   "source": [
    "len(dftrain_u)"
   ]
  },
  {
   "cell_type": "code",
   "execution_count": 34,
   "metadata": {},
   "outputs": [],
   "source": [
    "def countX(lst, x): \n",
    "    return lst.count(x)"
   ]
  },
  {
   "cell_type": "code",
   "execution_count": 266,
   "metadata": {},
   "outputs": [],
   "source": [
    "## WARNING: Immense runtime expected, ~ 1 hour \n",
    "v = np.zeros(len(dftrain))\n",
    "i = 0\n",
    "for x in dftrain_u:\n",
    "    v[i] = countX(dftrain,x)\n",
    "    i = i + 1"
   ]
  },
  {
   "cell_type": "code",
   "execution_count": 268,
   "metadata": {},
   "outputs": [
    {
     "data": {
      "text/plain": [
       "2620892"
      ]
     },
     "execution_count": 268,
     "metadata": {},
     "output_type": "execute_result"
    }
   ],
   "source": [
    "v ## Number of occurences of every element\n",
    "len(v)"
   ]
  },
  {
   "cell_type": "code",
   "execution_count": 270,
   "metadata": {},
   "outputs": [
    {
     "data": {
      "text/plain": [
       "1.000000000000923"
      ]
     },
     "execution_count": 270,
     "metadata": {},
     "output_type": "execute_result"
    }
   ],
   "source": [
    "v1 = v/len(dftrain) \n",
    "\t## This stores the term frequencies of all terms in dftrain\n",
    "\t## They're stored in indices corresponding to the indices of df1_u, i.e. v1[i] is the term frequency of term on the ith position in df1_u\n",
    "sum(v1) # should be very, VERY close to 1"
   ]
  },
  {
   "cell_type": "code",
   "execution_count": 274,
   "metadata": {},
   "outputs": [
    {
     "data": {
      "text/plain": [
       "[['call',\n",
       "  'hello',\n",
       "  'hot',\n",
       "  'lil',\n",
       "  'horny',\n",
       "  'toy',\n",
       "  'i',\n",
       "  'one',\n",
       "  'dream',\n",
       "  'i',\n",
       "  'open',\n",
       "  'minded',\n",
       "  'person',\n",
       "  'love',\n",
       "  'talk',\n",
       "  'subject',\n",
       "  'fantasy',\n",
       "  'way',\n",
       "  'life',\n",
       "  'ultimate',\n",
       "  'sex',\n",
       "  'play',\n",
       "  'ummmmmmmmmmmmmm',\n",
       "  'i',\n",
       "  'wet',\n",
       "  'ready',\n",
       "  'it',\n",
       "  'look',\n",
       "  'imagination',\n",
       "  'matter',\n",
       "  'with',\n",
       "  'sexy',\n",
       "  'voice',\n",
       "  'make',\n",
       "  'dream',\n",
       "  'come',\n",
       "  'true',\n",
       "  'hurry',\n",
       "  'call',\n",
       "  'let',\n",
       "  'cummmmm',\n",
       "  'toll',\n",
       "  'free',\n",
       "  'teen',\n",
       "  'for',\n",
       "  'phone',\n",
       "  'billing',\n",
       "  'sign',\n",
       "  'free',\n",
       "  'personalized',\n",
       "  'e',\n",
       "  'mail',\n",
       "  'mail',\n",
       "  'com',\n",
       "  'http',\n",
       "  'www',\n",
       "  'mail',\n",
       "  'com',\n",
       "  'sr',\n",
       "  'signup'],\n",
       " ['enron',\n",
       "  'hpl',\n",
       "  'actuals',\n",
       "  'july',\n",
       "  'teco',\n",
       "  'tap',\n",
       "  'enron',\n",
       "  'hpl',\n",
       "  'iferc',\n",
       "  'l',\n",
       "  'hpl',\n",
       "  'lsk',\n",
       "  'ic',\n",
       "  'enron']]"
      ]
     },
     "execution_count": 274,
     "metadata": {},
     "output_type": "execute_result"
    }
   ],
   "source": [
    "df_1_lem_list = df_1_lem.values.tolist()\n",
    "df_1_lem_list[0:2]"
   ]
  },
  {
   "cell_type": "code",
   "execution_count": 275,
   "metadata": {},
   "outputs": [
    {
     "data": {
      "text/plain": [
       "[['hello',\n",
       "  'horny',\n",
       "  'dream',\n",
       "  'minded',\n",
       "  'person',\n",
       "  'subject',\n",
       "  'fantasy',\n",
       "  'ultimate',\n",
       "  'ummmmmmmmmmmmmm',\n",
       "  'ready',\n",
       "  'imagination',\n",
       "  'matter',\n",
       "  'voice',\n",
       "  'dream',\n",
       "  'hurry',\n",
       "  'cummmmm',\n",
       "  'phone',\n",
       "  'billing',\n",
       "  'personalized',\n",
       "  'signup'],\n",
       " ['enron', 'actuals', 'enron', 'iferc', 'enron']]"
      ]
     },
     "execution_count": 275,
     "metadata": {},
     "output_type": "execute_result"
    }
   ],
   "source": [
    "lister = [[] for x in range(len(df_1_lem))]\n",
    "for i in range(len(df_1_lem_list)):\n",
    "    l = df_1_lem_list[i]\n",
    "    for token in l:\n",
    "        if len(token)>4:\n",
    "            lister[i].append(token)\n",
    "\n",
    "lister[0:2]"
   ]
  },
  {
   "cell_type": "code",
   "execution_count": 176,
   "metadata": {},
   "outputs": [],
   "source": [
    "dictionary = gensim.corpora.Dictionary(lister)"
   ]
  },
  {
   "cell_type": "code",
   "execution_count": 177,
   "metadata": {},
   "outputs": [],
   "source": [
    "bow_corpus = [dictionary.doc2bow(doc) for doc in lister]"
   ]
  },
  {
   "cell_type": "code",
   "execution_count": 178,
   "metadata": {},
   "outputs": [],
   "source": [
    "tfidf=gensim.models.TfidfModel(bow_corpus)\n",
    "tfidf_corp = tfidf[bow_corpus]"
   ]
  },
  {
   "cell_type": "code",
   "execution_count": 278,
   "metadata": {},
   "outputs": [
    {
     "data": {
      "text/plain": [
       "[[(0, 1),\n",
       "  (1, 1),\n",
       "  (2, 2),\n",
       "  (3, 1),\n",
       "  (4, 1),\n",
       "  (5, 1),\n",
       "  (6, 1),\n",
       "  (7, 1),\n",
       "  (8, 1),\n",
       "  (9, 1),\n",
       "  (10, 1),\n",
       "  (11, 1),\n",
       "  (12, 1),\n",
       "  (13, 1),\n",
       "  (14, 1),\n",
       "  (15, 1),\n",
       "  (16, 1),\n",
       "  (17, 1),\n",
       "  (18, 1)],\n",
       " [(19, 1), (20, 3), (21, 1)]]"
      ]
     },
     "execution_count": 278,
     "metadata": {},
     "output_type": "execute_result"
    }
   ],
   "source": [
    "bow_corpus[0:2]"
   ]
  },
  {
   "cell_type": "code",
   "execution_count": 205,
   "metadata": {},
   "outputs": [],
   "source": [
    "lda_model_tfidf = gensim.models.LdaMulticore(tfidf_corp, num_topics=6, id2word=dictionary, passes=2, workers=4)"
   ]
  },
  {
   "cell_type": "code",
   "execution_count": 202,
   "metadata": {},
   "outputs": [],
   "source": [
    "# !python -m pip install pyLDAvis\n",
    "import pyLDAvis.gensim\n",
    "pyLDAvis.enable_notebook()"
   ]
  },
  {
   "cell_type": "code",
   "execution_count": 203,
   "metadata": {},
   "outputs": [
    {
     "data": {
      "text/html": [
       "\n",
       "\n",
       "<link rel=\"stylesheet\" type=\"text/css\" href=\"https://cdn.jsdelivr.net/gh/bmabey/pyLDAvis/pyLDAvis/js/ldavis.v1.0.0.css\">\n",
       "\n",
       "<div id=\"ldavis_el2328422281397602087951935655\"></div>\n",
       "<script type=\"text/javascript\">\n",
       "\n",
       "var ldavis_el2328422281397602087951935655_data = {\"mdsDat\": {\"x\": [-0.017993596784612504, 0.015979258145644513, 0.017663831302982907, -0.023930493487547565, -0.027233968932697507, 0.01037361130662215, 0.034577461394536664, -0.02889611686991239, 0.02142216106312512, -0.001962147138141397], \"y\": [0.032470636805123736, -0.03572989316192915, 0.03547296173058293, -0.03049395037262205, 0.012030586449329665, 0.0175730926480177, -0.009247349320590834, -0.008115745008734205, -0.0004652684871077756, -0.013495071282070012], \"topics\": [1, 2, 3, 4, 5, 6, 7, 8, 9, 10], \"cluster\": [1, 1, 1, 1, 1, 1, 1, 1, 1, 1], \"Freq\": [12.971748767019733, 12.537978289208674, 11.949264366113063, 10.992444414754594, 10.842321100395067, 9.003903525560387, 8.411336370959411, 8.245253119085627, 8.004156998158567, 7.041593048744867]}, \"tinfo\": {\"Term\": [\"actuals\", \"hplno\", \"iferc\", \"attached\", \"adobe\", \"enron\", \"carroll\", \"software\", \"midwest\", \"eastrans\", \"request\", \"mmbtu\", \"search\", \"tenaska\", \"statement\", \"daily\", \"julie\", \"chokshi\", \"engine\", \"weekly\", \"feedback\", \"blackberry\", \"localized\", \"congratulation\", \"lottery\", \"website\", \"august\", \"coupon\", \"resume\", \"stock\", \"techlite\", \"listbot\", \"cdnow\", \"berkeley\", \"pagel\", \"internship\", \"dailyupdate\", \"pubiisher\", \"humorous\", \"fastow\", \"myfantasysweeps\", \"vinoble\", \"karlene\", \"specially\", \"lotsonet\", \"nella\", \"knudsen\", \"lorena\", \"promptness\", \"hotat\", \"catchy\", \"creativeness\", \"surethat\", \"affordability\", \"letsyou\", \"mmmnan\", \"blanchard\", \"jacqueline\", \"materia\", \"bitran\", \"advice\", \"statement\", \"rating\", \"shmuel\", \"stock\", \"rolex\", \"expectation\", \"publisher\", \"partnership\", \"differ\", \"investing\", \"company\", \"schoppe\", \"share\", \"security\", \"projection\", \"looking\", \"performance\", \"enron\", \"without\", \"percent\", \"wharton\", \"market\", \"within\", \"investment\", \"information\", \"interested\", \"louise\", \"budget\", \"vince\", \"energy\", \"might\", \"website\", \"office\", \"steve\", \"kaminski\", \"please\", \"future\", \"would\", \"software\", \"business\", \"report\", \"service\", \"program\", \"product\", \"group\", \"carefui\", \"artwork\", \"revamping\", \"breathing\", \"brinq\", \"coupon\", \"breath\", \"thinkpad\", \"pizdet\", \"scholarship\", \"loqos\", \"logodentity\", \"desiqn\", \"dsktotalinter\", \"ivanhoe\", \"endorsement\", \"ciick\", \"omaha\", \"annex\", \"accessory\", \"powerfui\", \"businessweek\", \"thinkgeek\", \"discountherbals\", \"amonqthe\", \"checkour\", \"visualidentity\", \"endlogo\", \"fresh\", \"ricki\", \"bundle\", \"sighting\", \"spamassassin\", \"custom\", \"college\", \"thinking\", \"virus\", \"clair\", \"stand\", \"expires\", \"instant\", \"manual\", \"download\", \"chart\", \"creative\", \"review\", \"offer\", \"marketing\", \"enron\", \"adobe\", \"click\", \"business\", \"email\", \"report\", \"service\", \"system\", \"price\", \"power\", \"company\", \"please\", \"message\", \"change\", \"mmbtu\", \"subject\", \"would\", \"meeting\", \"future\", \"account\", \"thanks\", \"vince\", \"attached\", \"phone\", \"information\", \"group\", \"kiodex\", \"aybar\", \"nepel\", \"eletrobolt\", \"dynegydirect\", \"diamant\", \"wysak\", \"centana\", \"crash\", \"keyspan\", \"pgypsb\", \"cnbxj\", \"xlwdm\", \"gqlbthijg\", \"bkmtvvwd\", \"brrdigh\", \"truong\", \"tesdrop\", \"scotiabank\", \"krishnaswamy\", \"jayant\", \"charm\", \"rollinginthedough\", \"garage\", \"samira\", \"safepaym\", \"routing\", \"wyoming\", \"mybill\", \"raider\", \"father\", \"easttexas\", \"cleburne\", \"adobe\", \"excelled\", \"production\", \"xanaax\", \"fernley\", \"premiere\", \"cornhusker\", \"request\", \"iaagra\", \"studio\", \"graphic\", \"completed\", \"email\", \"energy\", \"software\", \"advertisement\", \"would\", \"enron\", \"please\", \"transaction\", \"account\", \"meeting\", \"resource\", \"report\", \"thanks\", \"houston\", \"approval\", \"website\", \"thank\", \"agreement\", \"information\", \"vince\", \"market\", \"group\", \"visit\", \"price\", \"company\", \"subject\", \"month\", \"contract\", \"mmbtu\", \"message\", \"business\", \"iferc\", \"actuals\", \"enserch\", \"avila\", \"nominates\", \"eileen\", \"ponton\", \"bellamy\", \"creoleart\", \"methanol\", \"crescendo\", \"softwaremad\", \"mypersonalnirvana\", \"cowtrap\", \"mockups\", \"charlie\", \"shijie\", \"stroud\", \"sidebacks\", \"feedback\", \"vetoed\", \"shahalam\", \"stratify\", \"millenium\", \"dissolve\", \"converted\", \"tamarchenko\", \"internetstore\", \"buyonlinrmeds\", \"dorothy\", \"convinient\", \"masson\", \"stone\", \"utility\", \"storage\", \"resume\", \"tanya\", \"actual\", \"enron\", \"baylor\", \"daily\", \"answer\", \"melissa\", \"cialis\", \"jones\", \"viagra\", \"crenshaw\", \"texas\", \"vince\", \"december\", \"research\", \"kaminski\", \"david\", \"model\", \"group\", \"information\", \"please\", \"number\", \"message\", \"conference\", \"online\", \"subject\", \"attached\", \"contact\", \"energy\", \"email\", \"thanks\", \"would\", \"company\", \"business\", \"exactiy\", \"kabila\", \"enlargement\", \"viaqra\", \"crosstex\", \"msnbc\", \"errrectlon\", \"tournament\", \"housewife\", \"fundy\", \"contingency\", \"aepin\", \"entonces\", \"roaring\", \"unsolder\", \"cialls\", \"barber\", \"hasta\", \"dolores\", \"rxand\", \"cyberhand\", \"jobsonline\", \"heartland\", \"idleness\", \"rowdy\", \"acadia\", \"cilco\", \"hollerin\", \"insured\", \"ricky\", \"anonymous\", \"lottery\", \"imagine\", \"kernel\", \"congratulation\", \"prize\", \"lotto\", \"winner\", \"louisiana\", \"claim\", \"tried\", \"promotion\", \"video\", \"batch\", \"announcement\", \"effect\", \"money\", \"sitara\", \"award\", \"thing\", \"inform\", \"calpine\", \"agent\", \"click\", \"great\", \"start\", \"program\", \"email\", \"company\", \"business\", \"number\", \"meter\", \"million\", \"international\", \"daily\", \"please\", \"credit\", \"enron\", \"louise\", \"information\", \"order\", \"message\", \"account\", \"subject\", \"report\", \"address\", \"attached\", \"copano\", \"hplno\", \"afeet\", \"kinja\", \"guadalupe\", \"sdsnom\", \"quotetalk\", \"graand\", \"internecie\", \"habiba\", \"skydive\", \"markus\", \"juanita\", \"acadian\", \"bodyhtml\", \"rndlen\", \"regis\", \"digitalgogetter\", \"thambo\", \"lorriain\", \"nside\", \"bombet\", \"needsand\", \"killing\", \"mercurio\", \"flexibie\", \"creditex\", \"confirms\", \"dunham\", \"amitava\", \"contemporary\", \"variant\", \"clayton\", \"rhythm\", \"dynamic\", \"remembered\", \"tiscali\", \"turnaround\", \"moore\", \"summary\", \"kevin\", \"hedge\", \"competitive\", \"corporate\", \"standard\", \"enron\", \"attached\", \"business\", \"vince\", \"meter\", \"account\", \"position\", \"please\", \"company\", \"order\", \"would\", \"subject\", \"number\", \"april\", \"report\", \"question\", \"information\", \"thanks\", \"louise\", \"america\", \"price\", \"product\", \"email\", \"group\", \"contract\", \"thank\", \"offer\", \"regard\", \"localized\", \"hplnol\", \"homesite\", \"blackberry\", \"enronoptions\", \"midcon\", \"officialisation\", \"nowbuy\", \"native\", \"mobil\", \"dreamweaver\", \"french\", \"diabetic\", \"pepper\", \"averaged\", \"lindsay\", \"energyclear\", \"bennington\", \"analyse\", \"abler\", \"nerissa\", \"remover\", \"downioad\", \"panhandle\", \"iisted\", \"ajrule\", \"rogervas\", \"nicki\", \"lamar\", \"handheld\", \"german\", \"spanish\", \"browse\", \"wireless\", \"softtabs\", \"beaumont\", \"tricoli\", \"mmbtu\", \"survey\", \"transport\", \"outlook\", \"delivery\", \"software\", \"version\", \"enron\", \"louise\", \"macromedia\", \"original\", \"system\", \"today\", \"california\", \"would\", \"message\", \"window\", \"kitchen\", \"subject\", \"online\", \"company\", \"price\", \"please\", \"david\", \"houston\", \"project\", \"business\", \"update\", \"offer\", \"email\", \"thanks\", \"question\", \"month\", \"power\", \"egmnom\", \"loaded\", \"reliantenergy\", \"zhendong\", \"chokshi\", \"talon\", \"mainoemstore\", \"southtrust\", \"wininstall\", \"marketpoint\", \"eyeforenergy\", \"wacog\", \"pierre\", \"pserc\", \"entergy\", \"benoit\", \"shiloh\", \"armandina\", \"hotties\", \"tenaska\", \"geoff\", \"wassup\", \"wassupsouthparkl\", \"orangestar\", \"patsy\", \"excerpt\", \"bollerslev\", \"stefanie\", \"corey\", \"irvine\", \"megan\", \"equistar\", \"henwood\", \"philippe\", \"attached\", \"stinson\", \"august\", \"turbine\", \"software\", \"lonestar\", \"fertility\", \"sperm\", \"julie\", \"insurance\", \"volume\", \"partner\", \"enron\", \"document\", \"vince\", \"final\", \"thanks\", \"trading\", \"please\", \"meeting\", \"forwarded\", \"subject\", \"price\", \"message\", \"would\", \"energy\", \"regard\", \"visit\", \"daily\", \"louise\", \"original\", \"business\", \"report\", \"group\", \"friday\", \"seekercenter\", \"eastrans\", \"schlitterbahn\", \"iteration\", \"exclusiverewards\", \"cotton\", \"covenant\", \"inquiring\", \"midtex\", \"netcoonline\", \"redeliveries\", \"enehou\", \"anitha\", \"requisition\", \"karthik\", \"gloria\", \"kucho\", \"engine\", \"enside\", \"harrd\", \"glide\", \"r\\u00e1dio\", \"gsvdvs\", \"copier\", \"depot\", \"undeservedly\", \"iasts\", \"vanessa\", \"multitude\", \"visitor\", \"search\", \"squirrelmail\", \"submit\", \"valley\", \"slide\", \"carthage\", \"approver\", \"invisible\", \"suggestion\", \"website\", \"request\", \"mailwisconsin\", \"currency\", \"effective\", \"mmbtu\", \"cartwheel\", \"transcript\", \"lender\", \"dramatically\", \"enron\", \"viagra\", \"meter\", \"deliver\", \"presentation\", \"vince\", \"february\", \"click\", \"listed\", \"management\", \"think\", \"please\", \"thing\", \"email\", \"offer\", \"thanks\", \"would\", \"online\", \"message\", \"kaminski\", \"price\", \"change\", \"subject\", \"contract\", \"carroll\", \"midwest\", \"aerofoam\", \"gbhzivjwl\", \"cheer\", \"pepsi\", \"notwill\", \"unsub\", \"embroidery\", \"highstar\", \"prizemama\", \"particia\", \"stern\", \"adclick\", \"freightmart\", \"hovad\", \"enronanywhere\", \"myloaniq\", \"stefano\", \"johansen\", \"amateur\", \"stink\", \"jameika\", \"berkeland\", \"freeport\", \"unresolved\", \"xtreme\", \"epower\", \"borealis\", \"finer\", \"goodbye\", \"transwestern\", \"posting\", \"faster\", \"julie\", \"weekly\", \"origination\", \"social\", \"attached\", \"linux\", \"article\", \"marketing\", \"enron\", \"vince\", \"report\", \"volume\", \"power\", \"please\", \"thanks\", \"check\", \"paypal\", \"order\", \"october\", \"subject\", \"prescription\", \"hello\", \"online\", \"contract\", \"company\", \"information\", \"would\", \"thank\", \"update\", \"account\", \"message\", \"price\"], \"Freq\": [5.0, 4.0, 3.0, 11.0, 6.0, 30.0, 1.0, 8.0, 1.0, 2.0, 7.0, 7.0, 3.0, 2.0, 5.0, 6.0, 2.0, 1.0, 2.0, 3.0, 3.0, 1.0, 1.0, 3.0, 3.0, 7.0, 4.0, 1.0, 3.0, 5.0, 0.5188495111625864, 0.44484624013596935, 0.438748170482996, 0.573211217180938, 0.3845571746578614, 0.7306638821791468, 0.3834933125478193, 0.4355627224492222, 0.40231183928643016, 0.8016712772175908, 0.36343925998418586, 0.45856205475245426, 0.34690111034048043, 0.43086990549517, 0.336654654862844, 0.3312805764063441, 0.37254703169090253, 0.33430407472810275, 0.3953591459553873, 0.39530643408040017, 0.39531817431711297, 0.3952423097418065, 0.39514144501776394, 0.394865698442789, 0.39483494736591696, 0.31258570952143394, 0.3114590937603332, 0.3114430030805746, 0.47824134346548697, 0.3051502362025217, 1.1592488515534798, 2.5304181534197068, 0.7936597873608743, 0.47365612548293196, 2.475532963953207, 0.877471370614811, 0.7255706456795453, 0.7413673427594837, 0.8464067042727813, 0.6124068019805595, 0.706368922382238, 3.6393027005677623, 0.7012011919948652, 1.3715380764082508, 1.7529382001023568, 0.5832441731762215, 1.4767100966368918, 1.2232922599874947, 4.218678733925117, 1.1104188828557076, 0.7163593870639365, 0.6403439169383914, 1.61356621478316, 1.3386331130627143, 1.2766435905072244, 1.8168346469945762, 1.2064547343076133, 1.6396737598573243, 0.8192069596136665, 1.7435062011985036, 1.4043561500830906, 0.9712007125159812, 1.270829253173995, 1.2082306685920854, 1.012877778109936, 1.2332922002917177, 1.4757698049878851, 1.0891007584092574, 1.3218141810572206, 1.2075775061841052, 1.2382269137981414, 1.201830988086303, 1.1166319114762897, 1.1080913362310651, 1.1078453276160887, 1.133382905056136, 0.7564035407594174, 0.919775161607367, 0.9134441535173984, 0.9032593230357123, 0.6732067939453024, 1.203528387810942, 0.9068060677165268, 0.4246251404808326, 0.415065957074174, 0.46286106767566193, 0.5700139369003616, 0.5668381508498631, 0.5441536849924106, 0.38152553666643113, 0.3716677430828225, 0.3682528788032671, 0.8262142684394893, 0.41137160657190225, 0.4610484681881669, 0.42059998013168126, 0.41208354185006846, 0.4019996593496912, 0.5935092123355048, 0.34752161957874456, 0.4196797838398648, 0.4196192150510795, 0.4194783486954215, 0.41931760955599656, 0.9177544163107655, 0.33231309336645876, 0.5460920014380833, 0.5293182774956328, 0.5293027248822499, 0.893957074562365, 0.658513779264385, 0.903882752423276, 0.6825142842253825, 0.6254934497686178, 0.9056649091101309, 0.61176711641285, 0.9125863980882004, 0.6645423178251939, 1.1676441309641374, 0.8224704663868874, 0.9382169321362601, 1.6197088336396739, 1.8617964357838785, 1.4561402706244804, 4.008302468289831, 1.6246239202868171, 1.7679915969949778, 2.029386789415324, 2.036046764079475, 1.8808526497459364, 1.4886477670945175, 1.414184273513026, 1.6732850522435045, 1.4990919806060656, 1.8458870339296098, 1.8276547628632105, 1.5741490079960627, 1.2466072836086355, 1.2783908347268385, 1.405484832813942, 1.3531596203488074, 1.2581707092610286, 1.1342679922355345, 1.1929312978700677, 1.2512718003735, 1.2771462800425828, 1.2592729863339673, 1.1191010836646156, 1.1976546841566997, 1.1264907639077797, 0.5587605574517553, 0.41314802506013193, 0.40848008310358225, 0.37346335429415034, 0.36754643729992614, 0.3606571742168579, 0.7402770185817746, 0.34695907301798407, 0.482591306153018, 0.3437657900857415, 0.33816360096681897, 0.33815105686782954, 0.3381199024863131, 0.3380448300339365, 0.3380413714858563, 0.3378708046781531, 0.33341388905208647, 0.3314392502398306, 0.3292889665929284, 0.3517324183445982, 0.35146193792568814, 0.32712992678064845, 0.41291223991720144, 0.3275845337116397, 0.32164450483262536, 0.31631142369289844, 0.32956035282204993, 0.672147409334699, 0.30828487471611193, 0.3061051934105277, 0.7122563012163954, 0.45902415566080235, 0.8458383839060883, 2.925268293420953, 0.8039144679509184, 1.3214610450629583, 0.7195114567273174, 0.6486936223628911, 0.7226184955479084, 0.622725251346396, 1.8057754767261749, 0.5156051238920778, 0.7137518762219498, 0.838467614073627, 0.7525169849305023, 1.8546625479186354, 1.5542550379823568, 1.5218967523484734, 0.8000511050525269, 1.6631949107027657, 2.969111703560655, 1.851122751407306, 1.0382995027824033, 1.3715762851070232, 1.3858237464747691, 0.965179647836253, 1.4690961418616637, 1.4727728529588997, 1.2367481369518503, 0.994968287144108, 1.2002148897068228, 1.1358447222229657, 0.9543449499598733, 1.2417575419093378, 1.2976765550175735, 1.1110549475355915, 1.1339896229098323, 1.0396721620871379, 1.172452959573987, 1.2848636774344748, 1.1539800308136077, 1.025538009342211, 1.022579358703539, 1.017037337341695, 1.0606920095718753, 1.058575597737124, 2.1716743827115104, 3.621666722154691, 0.8612958318264484, 0.7324404298088955, 0.41956778276114876, 0.6390583113601566, 0.6390753304479102, 0.6268210822478059, 0.3708602141466863, 0.42904499055624373, 0.34826351177022835, 0.34777225605472656, 0.3147605537465495, 0.305181004167084, 0.2977059885176364, 0.7158083874217963, 0.36788424737176045, 0.2877582054712388, 0.3561841800602769, 1.6595635679794498, 0.2772873758614434, 0.2745364953598655, 0.27279875559707345, 0.2900066693718741, 0.31588424280311833, 0.28480597451602885, 0.48690382870953297, 0.2695166725004294, 0.2640876592596153, 0.3193034128840574, 0.42444498869531355, 0.47152468409122184, 0.6917546592269942, 1.3870371682881797, 0.9690376666875751, 1.3019080953581272, 0.6091014848020245, 0.967975413002675, 7.088464391911171, 0.7039673444917239, 1.8640664414802257, 1.0120115197883395, 0.790778277004748, 0.9920218184445861, 0.9148772732599666, 1.2829560028481648, 0.8585468198894013, 1.2260663941671872, 2.011634961754772, 1.0859576885171212, 1.2296434327001087, 1.4093405565350428, 1.1596628629231711, 1.1174798671346409, 1.4081453822597338, 1.534976371364246, 1.607381731881261, 1.2812259140996003, 1.3631178252343645, 1.0191033787054804, 1.2060739657292536, 1.3199162092678163, 1.3202179066869277, 1.13947458872171, 1.1875247761335317, 1.2479335483487195, 1.216991028749707, 1.215489207884367, 1.1545193612924922, 1.088837600974814, 0.615140338931369, 0.3759302511441458, 0.44535020858988067, 0.6408362305388627, 0.5119207178677802, 0.42798184469461953, 0.7906737481397766, 0.4580475974904865, 0.32855869838034446, 0.30954352340276875, 0.5353776577193151, 0.394905053460019, 0.30269247448822173, 0.29694653067694565, 0.29460770577266665, 0.9667830343894462, 0.2907477455732112, 0.3027298086152372, 0.28611527528860653, 0.2801739188285224, 0.2801421636504405, 0.27727216801443444, 0.2751846199663656, 0.33762735458997484, 0.26621436744975596, 0.2684943145179679, 0.32267016759297534, 0.25675844750365895, 0.39325059622894276, 0.4014149147788456, 0.314308145040238, 1.378225138541576, 0.6951079468926444, 0.6393313090640246, 1.2690108372247475, 1.071116652006169, 0.42752975058282183, 0.8227301894640573, 0.5451145175938541, 1.2597134192028177, 0.8168192930689097, 1.0461457746998226, 0.925922812399771, 0.5901281674405052, 0.7229546727501726, 0.8445105057249138, 1.7434020154282548, 1.0702161498738332, 0.7205543299714918, 1.3233195141152143, 0.6639251590089565, 0.6625371464015036, 0.8259519328491223, 1.4788455671466367, 1.1682116830056357, 1.0810683014146514, 1.2863002988422336, 1.6410231220441418, 1.7366584609047677, 1.533200768486246, 1.291224319020663, 1.2215814028657601, 1.0240901970835459, 0.9440782065910219, 1.1268869138931503, 1.487135885261964, 1.081635959468645, 1.9792184086543525, 1.2311950277433195, 1.239489530070347, 1.1071421170003524, 1.1896035649469905, 1.0976308060612718, 1.127443513673365, 1.1183081840427735, 1.0232740765538308, 1.0356870386829113, 0.4463793141887874, 2.4788371048285707, 0.32680826310352074, 0.40611494603448345, 0.3669687406914218, 0.3560479248510148, 0.2839533113889761, 0.2804150961184271, 0.2803034080717268, 0.2800590594451126, 0.2625560533532277, 0.2857544672887621, 0.2677367654483335, 0.2467494852758615, 0.2448851428978034, 0.24444612614238498, 0.2932300998649271, 0.23299652944976706, 0.24060972447011789, 0.22432763419243956, 0.22337040558330362, 0.2224505304208974, 0.4159285196726588, 0.35259130390347176, 0.21330123178195756, 0.23315802209210698, 0.20371907991313942, 0.3075965746779233, 0.23206591982509467, 0.32070583506153527, 0.49877945730188106, 0.4980343325666175, 0.5403558290773671, 0.49414866405597263, 0.5305295560946225, 0.49572404463765124, 0.3722865808883097, 0.4908747978455858, 0.5799489107050594, 0.6604687119699313, 0.7842891002556819, 0.3840442711260474, 0.4812678470938059, 0.6507449851604348, 0.6151184838283302, 2.4771586403163823, 1.3729306916354216, 1.29966912423211, 1.3530056268359838, 1.040411136166054, 0.9699738699021889, 0.7364991087828288, 1.1775681113763947, 1.1327019475023812, 0.8632485781422081, 1.0040965537343896, 0.9679921930261808, 0.8664628773943548, 0.7216510516588384, 0.938129539490787, 0.8188385978900502, 0.9004787543611553, 0.8857165729352945, 0.8556797687789348, 0.68535156779645, 0.8092395480334258, 0.7419486581429364, 0.8217162610962537, 0.7612208028945533, 0.731745251855834, 0.7255597196339149, 0.7007634840925037, 0.687964364868201, 0.8515230760357236, 0.32302406613179674, 0.4415050778782468, 0.8761328391325208, 0.2910095984613636, 0.6106836739236361, 0.27793402912588977, 0.2754194735238702, 0.429116262523168, 0.4615107316153277, 0.42741258400792315, 0.4635958993292591, 0.2629616600970476, 0.2986339530152806, 0.3039758838165005, 0.3585060202080392, 0.24892129638566118, 0.24498960424654323, 0.24603811988957036, 0.24034184698873978, 0.23810859716283847, 0.3374673468944499, 0.2963371538592294, 0.2704463568345086, 0.2734728816067875, 0.2258082948759922, 0.22325262252889538, 0.23796279502075535, 0.23315016502529018, 0.4792089012527353, 0.33695528111529716, 0.4111953127773296, 0.4577579011816515, 0.44425870184814265, 0.32690378268620707, 0.37418892832685813, 0.31890501070460825, 1.1500197478133287, 0.7215084501813113, 0.6059914186094826, 0.49505770616348715, 0.8001159380575215, 1.146742387709944, 0.7363091645281674, 1.7062888102602836, 0.9744052605001859, 0.4718505109826473, 0.8027152583027054, 0.7687144151728428, 0.7564984910935868, 0.6091598811681043, 0.9071546504221535, 0.8811776782644232, 0.5922225645324126, 0.6567141791860701, 0.8149534410710257, 0.7154623564770862, 0.8316470714337313, 0.7433259071072518, 0.7661288520340944, 0.6202084220217601, 0.6555860191712346, 0.6308606731942438, 0.6853364574222945, 0.6047508058426031, 0.6381204064622807, 0.6722452567678511, 0.6507002369216047, 0.6262929274220441, 0.6227860245876833, 0.6136015330124965, 0.5288557774275976, 0.499948838994291, 0.4321315843873682, 0.335021426587633, 0.8815898007236497, 0.297368782018723, 0.47835632860519844, 0.2831516683930931, 0.28242760092861435, 0.2769575381975399, 0.26996543561594594, 0.2666957205149661, 0.3791404676892194, 0.24877440206497506, 0.263717155197239, 0.28543525849634643, 0.23922485206058242, 0.23900859209277217, 0.23522406159635967, 1.0471088691886765, 0.26698241933549016, 0.22958575247414328, 0.2295551450027839, 0.22633416320861577, 0.22036756243969638, 0.2184189120168386, 0.21338778997187402, 0.2125217462664857, 0.22285013898731953, 0.22188998109555452, 0.6258947577042087, 0.44199351621424243, 0.4246469212239846, 0.38119446387674355, 2.7298718853032753, 0.9417795446740005, 1.2240493731790854, 0.6035240296274835, 1.7707140396321757, 0.3446564161361483, 0.3885218849440717, 0.40244930718700256, 0.683869172273323, 0.6180202659668654, 0.976184388030769, 0.6558318951363885, 2.2426216997945443, 0.6205257981180081, 1.228664661663595, 0.7304396521236991, 1.0787425999714055, 0.8611168116322737, 1.2196213660539825, 0.9602520627721973, 0.795765011571669, 1.0610498147821956, 0.9959040848257927, 1.0045834242660725, 0.9543645186774451, 0.8383773544389493, 0.7714489665590659, 0.7481863034320588, 0.7454514046483901, 0.7856446208622638, 0.7300255421275348, 0.7658315864318075, 0.7186768372271654, 0.6980899792510044, 0.6645028250981511, 0.6480439827932377, 1.0042271711994217, 0.29510624046335765, 0.2717455485463817, 0.2584305651351806, 0.5688795010175407, 0.2488577743098521, 0.24700776726614682, 0.23761216658453208, 0.23417456380054394, 0.4488096348122217, 0.22659353948846866, 0.22581338435845752, 0.255418976217525, 0.21940089199549317, 0.23228640488922364, 0.21140540050280204, 0.9164063891974991, 0.20790033786229367, 0.20787608614500008, 0.2077777370655433, 0.2067840417955414, 0.2052348185601803, 0.27924854079765793, 0.4999421835459281, 0.19649785701191755, 0.2981213044185935, 0.35488095024921934, 0.21781182533983243, 0.35353760000744155, 1.142670462027754, 0.4955263117169641, 0.7818099833570635, 0.5206274826413163, 0.5027436522018466, 0.4475358956407044, 0.3928035389297087, 0.37249751536451947, 0.49384814436228536, 1.5416422845948063, 1.5026731763958052, 0.344327757551617, 0.4174659357968248, 0.7604030164043791, 1.1222234144507057, 0.35664729898080494, 0.41070741059120275, 0.46649783350642693, 0.3446716575669767, 2.2908709775103686, 0.8393424113543686, 0.9798819772335559, 0.4677948866866844, 0.6394780335441014, 1.0961599706861127, 0.6411142062647402, 0.8838724622311668, 0.5269482634304669, 0.6892510151939883, 0.6870083840630294, 0.9619003309214539, 0.7064249083263009, 0.8832372474252084, 0.762996460852974, 0.8323395303315881, 0.8382622446465867, 0.7521686850271968, 0.8141799768045257, 0.7404949857675729, 0.7727585584874419, 0.7076188503385655, 0.7384997626031816, 0.6667714567477184, 0.8804848143241368, 0.82109225463119, 0.4278101167841175, 0.2616937793465214, 0.2928848371857463, 0.2566086937840314, 0.24057119836167631, 0.23320379056482848, 0.24751602578323734, 0.2217006432267714, 0.2657348932343171, 0.21209267788567063, 0.21095168660940808, 0.25940053876753894, 0.20952068792458986, 0.20457121629000052, 0.20393130424304462, 0.20140360232282642, 0.20093411350396706, 0.22386089028056314, 0.26594918394481665, 0.1965212582885219, 0.1904464692679534, 0.2525791452538751, 0.18997060737089833, 0.18501343628143294, 0.18330409259765063, 0.18324426006910763, 0.18808961113429137, 0.17783731788240872, 0.274481943057934, 0.44694141816398414, 0.4351962556077436, 0.33194510994076737, 0.6889124130078402, 0.7806751632334967, 0.5954349488903787, 0.45827585685843386, 1.193084364525189, 0.45945843489622223, 0.42997560464332907, 0.6719521961497632, 1.602799015415473, 0.9873177916903578, 0.8785842782944832, 0.6799758045462143, 0.7581224893820542, 0.912308537664552, 0.7833028124891751, 0.5470412869424098, 0.3701021525271371, 0.5956428341720318, 0.49523524600377045, 0.6383669151752719, 0.4617705035539352, 0.48448855393195894, 0.5304185520728488, 0.5173824367988421, 0.6028255197531562, 0.5599256453137967, 0.5327434639389055, 0.4918801276649093, 0.4758565915483484, 0.48820347620834664, 0.48520586491080947, 0.47014576352392645], \"Total\": [5.0, 4.0, 3.0, 11.0, 6.0, 30.0, 1.0, 8.0, 1.0, 2.0, 7.0, 7.0, 3.0, 2.0, 5.0, 6.0, 2.0, 1.0, 2.0, 3.0, 3.0, 1.0, 1.0, 3.0, 3.0, 7.0, 4.0, 1.0, 3.0, 5.0, 0.8731503734003975, 0.7499733173178811, 0.7438721969522877, 0.9854894728673999, 0.6896791312306522, 1.3114206992757649, 0.6886168554150737, 0.7906720217294076, 0.731560473135887, 1.466920317808643, 0.6685631297848983, 0.8494555458061419, 0.6520256407757423, 0.8171996229297039, 0.6417720504191791, 0.6364051865495839, 0.7173307392945883, 0.6446495325589117, 0.768835408954603, 0.7687847232088597, 0.7688416409221762, 0.7687326220566791, 0.7686225592329614, 0.7683543396629089, 0.7683548209307379, 0.6177067357347749, 0.6165832624391132, 0.6165681216246168, 0.950283200287076, 0.6102671799170739, 2.333630032328558, 5.419334941704429, 1.6376884225095325, 0.9542817907134874, 5.758667680035003, 1.8672297378532414, 1.5285598342716096, 1.607062647785138, 1.879964156027823, 1.30260289905664, 1.5810316525225028, 13.479669630719211, 1.635342403301222, 4.033218201333379, 5.870689067500893, 1.3044839614382058, 4.852884861377959, 3.734941018065919, 30.58351484963818, 3.7102187836301863, 1.8437144149568785, 1.5547201374087998, 7.446022090881721, 5.451221312990062, 5.172347264909848, 10.025231855341453, 5.013720441302005, 9.09313900887484, 2.4986074482055463, 12.243453348865264, 8.515881970611526, 3.7523458707993997, 7.3214338635436045, 6.458746780695482, 4.2699329168006095, 7.262094789298949, 13.286592134452105, 5.552220025074657, 10.674173251645236, 8.773442627623293, 10.72272146349387, 9.946598201870051, 7.016869740596968, 6.829696845039639, 6.964270198443064, 8.188079233313289, 1.136985607577634, 1.399035141089377, 1.38988807474005, 1.4012993724255436, 1.054851942965612, 1.9097748886300048, 1.4443843508358154, 0.731527594719551, 0.7219488644036152, 0.8085044510118754, 0.999107446001335, 0.9942548271606594, 0.9587522741141399, 0.6884015372538494, 0.6785414503057616, 0.6751315538249856, 1.5234816795396142, 0.7630223576143143, 0.8587867924871532, 0.7842123049699322, 0.7688980814633889, 0.7529643689179225, 1.1133745672352604, 0.6544100938436131, 0.8011214898994802, 0.8011380685296499, 0.8009296371885822, 0.8008528529485262, 1.7593515299997722, 0.6391873937794823, 1.0556926295656166, 1.0232109225377304, 1.0234740440960721, 1.8460057794368285, 1.3173977686859129, 1.9357412870699997, 1.4280227260179166, 1.2873059104123756, 2.0338303763113927, 1.2558403955874942, 2.100771104062423, 1.4205213905288252, 3.074795265050756, 1.9335304855172257, 2.4807506331904587, 5.998737383001051, 7.489506590241161, 5.220152224544968, 30.58351484963818, 6.999318144935272, 8.29030218428483, 10.72272146349387, 11.225749955400033, 9.946598201870051, 7.016869740596968, 6.524627970057173, 9.528552219229077, 7.620577392895625, 13.479669630719211, 13.286592134452105, 9.91862427569398, 6.36792236547661, 7.006699806147543, 10.2904607357463, 10.674173251645236, 8.093320066651705, 5.552220025074657, 7.743305443888977, 10.023285140287589, 12.243453348865264, 11.343925118982815, 5.7735767295475595, 10.025231855341453, 8.188079233313289, 0.8670654968497785, 0.7214442323474357, 0.7168005149089964, 0.681765459492096, 0.6758460870897497, 0.6689628870028584, 1.385621193228484, 0.6552558249290541, 0.9128967480989167, 0.6520609320576559, 0.6464596365132391, 0.6464479775168575, 0.6464164193250385, 0.6463418415136977, 0.646339632352064, 0.6461703402865282, 0.6417101551268027, 0.6397318544430569, 0.6375824967384246, 0.68259248905481, 0.6822933203603332, 0.6354224562861785, 0.8047213149934406, 0.6407949706603562, 0.6299430150539449, 0.6246106225051952, 0.655437896951431, 1.3368450513244763, 0.6165774199577144, 0.6144047647267725, 1.4695773318310692, 0.9415314631977026, 1.8134316745341776, 6.999318144935272, 1.7308565151587179, 3.1521002376342473, 1.5830456930953705, 1.453802695137169, 1.7347335187245314, 1.5389608095143976, 7.210084634467433, 1.2141307479520274, 2.1187225198863544, 2.772630923990548, 2.3815133943808124, 11.225749955400033, 8.515881970611526, 8.773442627623293, 2.8579307502292512, 10.674173251645236, 30.58351484963818, 13.286592134452105, 4.608671466719873, 7.743305443888977, 8.093320066651705, 4.116555864704138, 9.946598201870051, 10.023285140287589, 6.966454448545836, 4.534326793433077, 7.3214338635436045, 6.707460187469214, 4.359668541899722, 10.025231855341453, 12.243453348865264, 7.446022090881721, 8.188079233313289, 6.079142466569033, 9.528552219229077, 13.479669630719211, 10.2904607357463, 6.721627010463917, 6.6922207775774885, 7.006699806147543, 9.91862427569398, 10.72272146349387, 3.085849315714073, 5.3179745345521106, 1.3838484039273649, 1.2621395055165139, 0.7310576791626388, 1.1327029263122055, 1.1329613705068549, 1.1302770716392465, 0.6823450812926023, 0.8124071585344013, 0.6597506361097627, 0.6592744222818898, 0.6262677582777881, 0.6166627120679373, 0.6091890520765292, 1.468416725161343, 0.7557658430260661, 0.5992426931423954, 0.7483568875159475, 3.496281514791981, 0.5887700047063005, 0.586021992982035, 0.5842887767899334, 0.621153811205769, 0.677629590352804, 0.612217291636697, 1.049242956403865, 0.5809979389713669, 0.5755679812462555, 0.6994158642686751, 0.9476713495163589, 1.0589805409724338, 1.600358813321166, 3.3830381008020316, 2.365188202670488, 3.2889488249478194, 1.4959749537906617, 2.620377447560578, 30.58351484963818, 1.8458274591757227, 6.463419171247037, 3.0344792769219673, 2.23155995688441, 3.3386101663990084, 2.9966795586396917, 5.081169076088943, 2.810863835199563, 5.050553149004603, 12.243453348865264, 4.397520137664385, 5.469720333737639, 7.262094789298949, 5.107057864389893, 4.940686589371636, 8.188079233313289, 10.025231855341453, 13.286592134452105, 7.70484138329115, 9.91862427569398, 4.371060089889306, 7.255761755936597, 10.2904607357463, 11.343925118982815, 6.785671385398042, 8.515881970611526, 11.225749955400033, 10.023285140287589, 10.674173251645236, 13.479669630719211, 10.72272146349387, 1.0845363317069605, 0.6868456655559205, 0.8199387081225118, 1.2060415059937004, 0.9788010490750791, 0.8223290172614914, 1.5273533882301544, 0.8860693591928069, 0.6478036094138317, 0.620465103702916, 1.0857247260659122, 0.8041104612820736, 0.6174015866727608, 0.6078708858790636, 0.6055257399075622, 1.9884581745808914, 0.6016637203230639, 0.6289888657798641, 0.59703161413361, 0.5910904238256566, 0.5910570685914005, 0.5881851074449841, 0.5861003806694786, 0.7192890169936503, 0.5771326919778821, 0.5829700433624238, 0.7106903711223536, 0.5676744951391921, 0.8698393478206438, 0.8885940378790677, 0.6958384175170184, 3.1458930114763883, 1.6380541611112016, 1.5066519038341017, 3.313213845246309, 2.742060853351882, 0.9978506686825137, 2.294360453187843, 1.3644196090473792, 4.137626163376851, 2.3628705907358385, 3.291010623652496, 2.7992747623816934, 1.5833343430547497, 2.1313664754605934, 2.7086643957429537, 7.802394570909834, 3.8211319608169503, 2.1580620181643155, 5.816145501294454, 1.9714156790126924, 1.9782777936310683, 2.923469446949202, 8.29030218428483, 5.494421425985716, 4.7890365975967635, 6.829696845039639, 11.225749955400033, 13.479669630719211, 10.72272146349387, 7.70484138329115, 7.455242781341165, 5.008703107288605, 4.126507238326073, 6.463419171247037, 13.286592134452105, 5.918237829405982, 30.58351484963818, 9.09313900887484, 10.025231855341453, 7.242028165587021, 9.91862427569398, 7.743305443888977, 10.2904607357463, 9.946598201870051, 6.195604342321189, 11.343925118982815, 0.7627560450138737, 4.2846662677028435, 0.6432011948493922, 0.8249244922480268, 0.7719820141212076, 0.7514393712805081, 0.6003310581904777, 0.5967846652759929, 0.5966739929080953, 0.5964345108606907, 0.5789265137156402, 0.6320650642466881, 0.5932353759236302, 0.5631173597779331, 0.5612669630659269, 0.560839947069405, 0.6818915876241003, 0.5493984398857071, 0.5725264829807957, 0.5407022855563269, 0.5397456307487384, 0.5388188334373428, 1.0082624831080502, 0.8755329378659015, 0.5296671738682125, 0.5795592882988515, 0.5200878487013548, 0.7857719738803058, 0.5930806648092197, 0.8238671804668, 1.2983320163688645, 1.2978009188658062, 1.415708508594868, 1.3114936803849189, 1.41820108193608, 1.3848895004158555, 1.0183381781199823, 1.496782355139953, 1.8995003952645466, 2.3275960218947116, 3.2349306560472906, 1.0988854310230787, 1.6067536242951008, 2.7419339240141203, 2.5096484701038277, 30.58351484963818, 11.343925118982815, 10.72272146349387, 12.243453348865264, 7.455242781341165, 7.743305443888977, 4.472363055608941, 13.286592134452105, 13.479669630719211, 7.242028165587021, 10.674173251645236, 10.2904607357463, 7.70484138329115, 4.757049298383, 9.946598201870051, 7.100421120205771, 10.025231855341453, 10.023285140287589, 9.09313900887484, 4.435789690238032, 9.528552219229077, 6.964270198443064, 11.225749955400033, 8.188079233313289, 6.6922207775774885, 6.707460187469214, 7.489506590241161, 6.778381613837121, 1.4576245533081047, 0.641445883654248, 0.9028468428490857, 1.819955975253557, 0.6094099363757861, 1.291969339439382, 0.5963343494384634, 0.593828579167318, 0.9255368717861574, 0.998131867403777, 0.9360105848531703, 1.0234614560995747, 0.5813632351197406, 0.6679320219510911, 0.6812934407690235, 0.8166183074195549, 0.5673182307554837, 0.5644934262487872, 0.571381432380524, 0.5587466252853511, 0.5565148011321955, 0.7928507789255805, 0.7034296104472408, 0.6465034059909793, 0.6564234655949683, 0.5442094874678821, 0.5416547792067723, 0.5787494542527387, 0.5681089342326757, 1.191452437312269, 0.8537039775608892, 1.067699874251244, 1.2634426430744279, 1.256808370948145, 0.868223691183706, 1.051837611431751, 0.8557945704038241, 7.006699806147543, 3.4808692157067354, 2.61017677749091, 1.8573370554074244, 4.384556177553861, 8.773442627623293, 4.83948527232789, 30.58351484963818, 9.09313900887484, 1.9292022806479532, 6.588015926227123, 6.524627970057173, 6.362074281641927, 3.7231551806801413, 10.674173251645236, 9.91862427569398, 3.508756095126529, 5.1742986884097455, 10.2904607357463, 7.255761755936597, 13.479669630719211, 9.528552219229077, 13.286592134452105, 5.107057864389893, 6.966454448545836, 6.025539958402087, 10.72272146349387, 5.165148793332962, 7.489506590241161, 11.225749955400033, 10.023285140287589, 7.100421120205771, 6.721627010463917, 7.620577392895625, 0.9252303428760761, 0.9479504612905797, 0.8426590815301352, 0.6536501108515572, 1.7249312563638273, 0.6160059057150609, 0.9999347502129061, 0.6017758267415505, 0.6010551016547345, 0.5955785593742671, 0.588607022848893, 0.5853308082532296, 0.8564330153542434, 0.5673963180464755, 0.6135655675767835, 0.6646997636864623, 0.5578560011978451, 0.5576433785912311, 0.55385072674932, 2.478771734237524, 0.6348386508767405, 0.5482235151127461, 0.5481903410252138, 0.5449586490803854, 0.538992622241335, 0.5370471428747586, 0.5320126313008382, 0.531144070623307, 0.5616538752050277, 0.5626121878532168, 1.6240233901411494, 1.1446994198283622, 1.1016918602641845, 1.0256560691055476, 11.343925118982815, 3.2519749244724823, 4.614572403415486, 1.9740155115245213, 8.773442627623293, 0.9517222238148298, 1.1481850881451114, 1.2111279822256455, 2.723083014028716, 2.50716179008209, 5.891396192623663, 2.9926024834801566, 30.58351484963818, 3.021172947380531, 12.243453348865264, 4.312765884288657, 10.023285140287589, 6.316994934838231, 13.286592134452105, 8.093320066651705, 5.418278503797698, 10.2904607357463, 9.528552219229077, 9.91862427569398, 10.674173251645236, 8.515881970611526, 6.778381613837121, 6.079142466569033, 6.463419171247037, 9.09313900887484, 6.588015926227123, 10.72272146349387, 9.946598201870051, 8.188079233313289, 4.935680665834059, 1.2151799625237558, 2.0886117581468695, 0.6145579590560966, 0.5911802732064975, 0.5778753306507073, 1.2852534906361992, 0.5699697622770008, 0.5664489344704833, 0.5570508470162429, 0.5536112919992006, 1.0776415582594436, 0.54603329259854, 0.5452465349904526, 0.6246760676537723, 0.5388371990010173, 0.5741328059023427, 0.5308401764432585, 2.3059991515934577, 0.5273339536369953, 0.5273193062581223, 0.5272222502510884, 0.5262253047195988, 0.5246708730376257, 0.7172256921611331, 1.3026381705500902, 0.5159321937307314, 0.7860685447693123, 0.938133614882594, 0.5768849184959212, 0.9424868568186404, 3.1475708688033146, 1.350508284278026, 2.2466153984500843, 1.4524297572831875, 1.402314026456808, 1.2534030022758833, 1.165223908785917, 1.1072892888193733, 1.5999255910512338, 7.3214338635436045, 7.210084634467433, 1.0150432339042053, 1.3741606993357867, 3.566594627543478, 7.006699806147543, 1.0729472202169472, 1.3740658942243429, 1.742573819030093, 1.018228901754523, 30.58351484963818, 5.081169076088943, 7.455242781341165, 1.8016999572395354, 3.684415757747401, 12.243453348865264, 3.8132894636391086, 8.29030218428483, 2.5457239339475413, 5.153571763369192, 5.24454270541376, 13.286592134452105, 5.816145501294454, 11.225749955400033, 7.489506590241161, 10.023285140287589, 10.674173251645236, 7.255761755936597, 9.91862427569398, 7.262094789298949, 9.528552219229077, 6.36792236547661, 10.2904607357463, 6.6922207775774885, 1.5737029489891003, 1.5704695583881099, 0.8593677475452648, 0.5837634153740472, 0.6573723811879129, 0.5786700257420467, 0.5626439308482866, 0.5552711876465417, 0.600925403072688, 0.543757960491397, 0.6663531123745072, 0.5341438369278121, 0.5330008415468976, 0.6571486973493377, 0.5315729416763978, 0.5266222145584938, 0.5259817411346344, 0.5234554414289218, 0.5229828013652209, 0.5836436025231718, 0.6947043502996877, 0.5203132428719281, 0.5124953563375225, 0.6849353071988753, 0.520443093328144, 0.5070596068236713, 0.5053627536615977, 0.5052946036643253, 0.525238241903788, 0.4998848357251131, 0.7983204010880796, 1.4395803033825045, 1.4801352151909393, 1.0695060196728507, 2.723083014028716, 3.227298157728052, 2.6212702075136467, 1.879991845953298, 11.343925118982815, 2.426985222983305, 2.17041679306994, 5.220152224544968, 30.58351484963818, 12.243453348865264, 9.946598201870051, 5.891396192623663, 7.620577392895625, 13.286592134452105, 10.023285140287589, 4.977429291083344, 1.8244384860143703, 7.242028165587021, 4.375773683115666, 10.2904607357463, 3.790315132133994, 4.605817368223166, 7.255761755936597, 6.6922207775774885, 13.479669630719211, 10.025231855341453, 10.674173251645236, 6.707460187469214, 5.165148793332962, 7.743305443888977, 9.91862427569398, 9.528552219229077], \"Category\": [\"Default\", \"Default\", \"Default\", \"Default\", \"Default\", \"Default\", \"Default\", \"Default\", \"Default\", \"Default\", \"Default\", \"Default\", \"Default\", \"Default\", \"Default\", \"Default\", \"Default\", \"Default\", \"Default\", \"Default\", \"Default\", \"Default\", \"Default\", \"Default\", \"Default\", \"Default\", \"Default\", \"Default\", \"Default\", \"Default\", \"Topic1\", \"Topic1\", \"Topic1\", \"Topic1\", \"Topic1\", \"Topic1\", \"Topic1\", \"Topic1\", \"Topic1\", \"Topic1\", \"Topic1\", \"Topic1\", \"Topic1\", \"Topic1\", \"Topic1\", \"Topic1\", \"Topic1\", \"Topic1\", \"Topic1\", \"Topic1\", \"Topic1\", \"Topic1\", \"Topic1\", \"Topic1\", \"Topic1\", \"Topic1\", \"Topic1\", \"Topic1\", \"Topic1\", \"Topic1\", \"Topic1\", \"Topic1\", \"Topic1\", \"Topic1\", \"Topic1\", \"Topic1\", \"Topic1\", \"Topic1\", \"Topic1\", \"Topic1\", \"Topic1\", \"Topic1\", \"Topic1\", \"Topic1\", \"Topic1\", \"Topic1\", \"Topic1\", \"Topic1\", \"Topic1\", \"Topic1\", \"Topic1\", \"Topic1\", \"Topic1\", \"Topic1\", \"Topic1\", \"Topic1\", \"Topic1\", \"Topic1\", \"Topic1\", \"Topic1\", \"Topic1\", \"Topic1\", \"Topic1\", \"Topic1\", \"Topic1\", \"Topic1\", \"Topic1\", \"Topic1\", \"Topic1\", \"Topic1\", \"Topic1\", \"Topic1\", \"Topic1\", \"Topic1\", \"Topic1\", \"Topic1\", \"Topic2\", \"Topic2\", \"Topic2\", \"Topic2\", \"Topic2\", \"Topic2\", \"Topic2\", \"Topic2\", \"Topic2\", \"Topic2\", \"Topic2\", \"Topic2\", \"Topic2\", \"Topic2\", \"Topic2\", \"Topic2\", \"Topic2\", \"Topic2\", \"Topic2\", \"Topic2\", \"Topic2\", \"Topic2\", \"Topic2\", \"Topic2\", \"Topic2\", \"Topic2\", \"Topic2\", \"Topic2\", \"Topic2\", \"Topic2\", \"Topic2\", \"Topic2\", \"Topic2\", \"Topic2\", \"Topic2\", \"Topic2\", \"Topic2\", \"Topic2\", \"Topic2\", \"Topic2\", \"Topic2\", \"Topic2\", \"Topic2\", \"Topic2\", \"Topic2\", \"Topic2\", \"Topic2\", \"Topic2\", \"Topic2\", \"Topic2\", \"Topic2\", \"Topic2\", \"Topic2\", \"Topic2\", \"Topic2\", \"Topic2\", \"Topic2\", \"Topic2\", \"Topic2\", \"Topic2\", \"Topic2\", \"Topic2\", \"Topic2\", \"Topic2\", \"Topic2\", \"Topic2\", \"Topic2\", \"Topic2\", \"Topic2\", \"Topic2\", \"Topic2\", \"Topic2\", \"Topic2\", \"Topic2\", \"Topic3\", \"Topic3\", \"Topic3\", \"Topic3\", \"Topic3\", \"Topic3\", \"Topic3\", \"Topic3\", \"Topic3\", \"Topic3\", \"Topic3\", \"Topic3\", \"Topic3\", \"Topic3\", \"Topic3\", \"Topic3\", \"Topic3\", \"Topic3\", \"Topic3\", \"Topic3\", \"Topic3\", \"Topic3\", \"Topic3\", \"Topic3\", \"Topic3\", \"Topic3\", \"Topic3\", \"Topic3\", \"Topic3\", \"Topic3\", \"Topic3\", \"Topic3\", \"Topic3\", \"Topic3\", \"Topic3\", \"Topic3\", \"Topic3\", \"Topic3\", \"Topic3\", \"Topic3\", \"Topic3\", \"Topic3\", \"Topic3\", \"Topic3\", \"Topic3\", \"Topic3\", \"Topic3\", \"Topic3\", \"Topic3\", \"Topic3\", \"Topic3\", \"Topic3\", \"Topic3\", \"Topic3\", \"Topic3\", \"Topic3\", \"Topic3\", \"Topic3\", \"Topic3\", \"Topic3\", \"Topic3\", \"Topic3\", \"Topic3\", \"Topic3\", \"Topic3\", \"Topic3\", \"Topic3\", \"Topic3\", \"Topic3\", \"Topic3\", \"Topic3\", \"Topic3\", \"Topic3\", \"Topic3\", \"Topic3\", \"Topic3\", \"Topic4\", \"Topic4\", \"Topic4\", \"Topic4\", \"Topic4\", \"Topic4\", \"Topic4\", \"Topic4\", \"Topic4\", \"Topic4\", \"Topic4\", \"Topic4\", \"Topic4\", \"Topic4\", \"Topic4\", \"Topic4\", \"Topic4\", \"Topic4\", \"Topic4\", \"Topic4\", \"Topic4\", \"Topic4\", \"Topic4\", \"Topic4\", \"Topic4\", \"Topic4\", \"Topic4\", \"Topic4\", \"Topic4\", \"Topic4\", \"Topic4\", \"Topic4\", \"Topic4\", \"Topic4\", \"Topic4\", \"Topic4\", \"Topic4\", \"Topic4\", \"Topic4\", \"Topic4\", \"Topic4\", \"Topic4\", \"Topic4\", \"Topic4\", \"Topic4\", \"Topic4\", \"Topic4\", \"Topic4\", \"Topic4\", \"Topic4\", \"Topic4\", \"Topic4\", \"Topic4\", \"Topic4\", \"Topic4\", \"Topic4\", \"Topic4\", \"Topic4\", \"Topic4\", \"Topic4\", \"Topic4\", \"Topic4\", \"Topic4\", \"Topic4\", \"Topic4\", \"Topic4\", \"Topic4\", \"Topic4\", \"Topic4\", \"Topic4\", \"Topic5\", \"Topic5\", \"Topic5\", \"Topic5\", \"Topic5\", \"Topic5\", \"Topic5\", \"Topic5\", \"Topic5\", \"Topic5\", \"Topic5\", \"Topic5\", \"Topic5\", \"Topic5\", \"Topic5\", \"Topic5\", \"Topic5\", \"Topic5\", \"Topic5\", \"Topic5\", \"Topic5\", \"Topic5\", \"Topic5\", \"Topic5\", \"Topic5\", \"Topic5\", \"Topic5\", \"Topic5\", \"Topic5\", \"Topic5\", \"Topic5\", \"Topic5\", \"Topic5\", \"Topic5\", \"Topic5\", \"Topic5\", \"Topic5\", \"Topic5\", \"Topic5\", \"Topic5\", \"Topic5\", \"Topic5\", \"Topic5\", \"Topic5\", \"Topic5\", \"Topic5\", \"Topic5\", \"Topic5\", \"Topic5\", \"Topic5\", \"Topic5\", \"Topic5\", \"Topic5\", \"Topic5\", \"Topic5\", \"Topic5\", \"Topic5\", \"Topic5\", \"Topic5\", \"Topic5\", \"Topic5\", \"Topic5\", \"Topic5\", \"Topic5\", \"Topic5\", \"Topic5\", \"Topic5\", \"Topic5\", \"Topic5\", \"Topic5\", \"Topic5\", \"Topic5\", \"Topic5\", \"Topic5\", \"Topic5\", \"Topic5\", \"Topic5\", \"Topic6\", \"Topic6\", \"Topic6\", \"Topic6\", \"Topic6\", \"Topic6\", \"Topic6\", \"Topic6\", \"Topic6\", \"Topic6\", \"Topic6\", \"Topic6\", \"Topic6\", \"Topic6\", \"Topic6\", \"Topic6\", \"Topic6\", \"Topic6\", \"Topic6\", \"Topic6\", \"Topic6\", \"Topic6\", \"Topic6\", \"Topic6\", \"Topic6\", \"Topic6\", \"Topic6\", \"Topic6\", \"Topic6\", \"Topic6\", \"Topic6\", \"Topic6\", \"Topic6\", \"Topic6\", \"Topic6\", \"Topic6\", \"Topic6\", \"Topic6\", \"Topic6\", \"Topic6\", \"Topic6\", \"Topic6\", \"Topic6\", \"Topic6\", \"Topic6\", \"Topic6\", \"Topic6\", \"Topic6\", \"Topic6\", \"Topic6\", \"Topic6\", \"Topic6\", \"Topic6\", \"Topic6\", \"Topic6\", \"Topic6\", \"Topic6\", \"Topic6\", \"Topic6\", \"Topic6\", \"Topic6\", \"Topic6\", \"Topic6\", \"Topic6\", \"Topic6\", \"Topic6\", \"Topic6\", \"Topic6\", \"Topic6\", \"Topic6\", \"Topic6\", \"Topic6\", \"Topic6\", \"Topic7\", \"Topic7\", \"Topic7\", \"Topic7\", \"Topic7\", \"Topic7\", \"Topic7\", \"Topic7\", \"Topic7\", \"Topic7\", \"Topic7\", \"Topic7\", \"Topic7\", \"Topic7\", \"Topic7\", \"Topic7\", \"Topic7\", \"Topic7\", \"Topic7\", \"Topic7\", \"Topic7\", \"Topic7\", \"Topic7\", \"Topic7\", \"Topic7\", \"Topic7\", \"Topic7\", \"Topic7\", \"Topic7\", \"Topic7\", \"Topic7\", \"Topic7\", \"Topic7\", \"Topic7\", \"Topic7\", \"Topic7\", \"Topic7\", \"Topic7\", \"Topic7\", \"Topic7\", \"Topic7\", \"Topic7\", \"Topic7\", \"Topic7\", \"Topic7\", \"Topic7\", \"Topic7\", \"Topic7\", \"Topic7\", \"Topic7\", \"Topic7\", \"Topic7\", \"Topic7\", \"Topic7\", \"Topic7\", \"Topic7\", \"Topic7\", \"Topic7\", \"Topic7\", \"Topic7\", \"Topic7\", \"Topic7\", \"Topic7\", \"Topic7\", \"Topic7\", \"Topic7\", \"Topic7\", \"Topic7\", \"Topic7\", \"Topic7\", \"Topic7\", \"Topic8\", \"Topic8\", \"Topic8\", \"Topic8\", \"Topic8\", \"Topic8\", \"Topic8\", \"Topic8\", \"Topic8\", \"Topic8\", \"Topic8\", \"Topic8\", \"Topic8\", \"Topic8\", \"Topic8\", \"Topic8\", \"Topic8\", \"Topic8\", \"Topic8\", \"Topic8\", \"Topic8\", \"Topic8\", \"Topic8\", \"Topic8\", \"Topic8\", \"Topic8\", \"Topic8\", \"Topic8\", \"Topic8\", \"Topic8\", \"Topic8\", \"Topic8\", \"Topic8\", \"Topic8\", \"Topic8\", \"Topic8\", \"Topic8\", \"Topic8\", \"Topic8\", \"Topic8\", \"Topic8\", \"Topic8\", \"Topic8\", \"Topic8\", \"Topic8\", \"Topic8\", \"Topic8\", \"Topic8\", \"Topic8\", \"Topic8\", \"Topic8\", \"Topic8\", \"Topic8\", \"Topic8\", \"Topic8\", \"Topic8\", \"Topic8\", \"Topic8\", \"Topic8\", \"Topic8\", \"Topic8\", \"Topic8\", \"Topic8\", \"Topic8\", \"Topic8\", \"Topic8\", \"Topic8\", \"Topic8\", \"Topic8\", \"Topic9\", \"Topic9\", \"Topic9\", \"Topic9\", \"Topic9\", \"Topic9\", \"Topic9\", \"Topic9\", \"Topic9\", \"Topic9\", \"Topic9\", \"Topic9\", \"Topic9\", \"Topic9\", \"Topic9\", \"Topic9\", \"Topic9\", \"Topic9\", \"Topic9\", \"Topic9\", \"Topic9\", \"Topic9\", \"Topic9\", \"Topic9\", \"Topic9\", \"Topic9\", \"Topic9\", \"Topic9\", \"Topic9\", \"Topic9\", \"Topic9\", \"Topic9\", \"Topic9\", \"Topic9\", \"Topic9\", \"Topic9\", \"Topic9\", \"Topic9\", \"Topic9\", \"Topic9\", \"Topic9\", \"Topic9\", \"Topic9\", \"Topic9\", \"Topic9\", \"Topic9\", \"Topic9\", \"Topic9\", \"Topic9\", \"Topic9\", \"Topic9\", \"Topic9\", \"Topic9\", \"Topic9\", \"Topic9\", \"Topic9\", \"Topic9\", \"Topic9\", \"Topic9\", \"Topic9\", \"Topic9\", \"Topic9\", \"Topic9\", \"Topic9\", \"Topic9\", \"Topic9\", \"Topic9\", \"Topic9\", \"Topic9\", \"Topic9\", \"Topic9\", \"Topic9\", \"Topic9\", \"Topic10\", \"Topic10\", \"Topic10\", \"Topic10\", \"Topic10\", \"Topic10\", \"Topic10\", \"Topic10\", \"Topic10\", \"Topic10\", \"Topic10\", \"Topic10\", \"Topic10\", \"Topic10\", \"Topic10\", \"Topic10\", \"Topic10\", \"Topic10\", \"Topic10\", \"Topic10\", \"Topic10\", \"Topic10\", \"Topic10\", \"Topic10\", \"Topic10\", \"Topic10\", \"Topic10\", \"Topic10\", \"Topic10\", \"Topic10\", \"Topic10\", \"Topic10\", \"Topic10\", \"Topic10\", \"Topic10\", \"Topic10\", \"Topic10\", \"Topic10\", \"Topic10\", \"Topic10\", \"Topic10\", \"Topic10\", \"Topic10\", \"Topic10\", \"Topic10\", \"Topic10\", \"Topic10\", \"Topic10\", \"Topic10\", \"Topic10\", \"Topic10\", \"Topic10\", \"Topic10\", \"Topic10\", \"Topic10\", \"Topic10\", \"Topic10\", \"Topic10\", \"Topic10\", \"Topic10\", \"Topic10\", \"Topic10\", \"Topic10\", \"Topic10\", \"Topic10\", \"Topic10\"], \"logprob\": [30.0, 29.0, 28.0, 27.0, 26.0, 25.0, 24.0, 23.0, 22.0, 21.0, 20.0, 19.0, 18.0, 17.0, 16.0, 15.0, 14.0, 13.0, 12.0, 11.0, 10.0, 9.0, 8.0, 7.0, 6.0, 5.0, 4.0, 3.0, 2.0, 1.0, -8.2806, -8.4345, -8.4483, -8.181, -8.5801, -7.9383, -8.5829, -8.4556, -8.535, -7.8455, -8.6366, -8.4041, -8.6832, -8.4664, -8.7132, -8.7292, -8.6119, -8.7202, -8.5524, -8.5526, -8.5525, -8.5527, -8.553, -8.5537, -8.5537, -8.7873, -8.7909, -8.791, -8.3621, -8.8114, -7.4767, -6.6961, -7.8556, -8.3717, -6.718, -7.7552, -7.9453, -7.9237, -7.7912, -8.1148, -7.9721, -6.3327, -7.9794, -7.3085, -7.0632, -8.1636, -7.2346, -7.4229, -6.1849, -7.5197, -7.958, -8.0702, -7.146, -7.3328, -7.3802, -7.0274, -7.4368, -7.13, -7.8239, -7.0686, -7.2849, -7.6537, -7.3848, -7.4353, -7.6117, -7.4148, -7.2353, -7.5391, -7.3455, -7.4358, -7.4108, -7.4406, -7.5141, -7.5218, -7.522, -7.4993, -7.8696, -7.6741, -7.681, -7.6922, -7.9862, -7.4052, -7.6883, -8.447, -8.4698, -8.3608, -8.1525, -8.1581, -8.199, -8.554, -8.5802, -8.5894, -7.7813, -8.4787, -8.3647, -8.4565, -8.477, -8.5018, -8.1122, -8.6474, -8.4587, -8.4589, -8.4592, -8.4596, -7.6763, -8.6921, -8.1954, -8.2266, -8.2266, -7.7025, -8.0082, -7.6915, -7.9724, -8.0597, -7.6895, -8.0819, -7.6819, -7.9991, -7.4355, -7.7859, -7.6542, -7.1082, -6.9689, -7.2147, -6.2021, -7.1052, -7.0206, -6.8827, -6.8794, -6.9587, -7.1926, -7.2439, -7.0757, -7.1856, -6.9775, -6.9874, -7.1367, -7.37, -7.3448, -7.2501, -7.288, -7.3608, -7.4645, -7.414, -7.3663, -7.3458, -7.3599, -7.4779, -7.4101, -7.4713, -8.1244, -8.4263, -8.4377, -8.5273, -8.5433, -8.5622, -7.8431, -8.6009, -8.2709, -8.6101, -8.6266, -8.6266, -8.6267, -8.6269, -8.6269, -8.6274, -8.6407, -8.6467, -8.6532, -8.5872, -8.588, -8.6598, -8.4269, -8.6584, -8.6767, -8.6934, -8.6524, -7.9396, -8.7191, -8.7262, -7.8817, -8.321, -7.7098, -6.469, -7.7606, -7.2636, -7.8715, -7.9751, -7.8672, -8.016, -6.9514, -8.2048, -7.8796, -7.7185, -7.8267, -6.9247, -7.1014, -7.1224, -7.7654, -7.0336, -6.4541, -6.9266, -7.5048, -7.2264, -7.2161, -7.5778, -7.1577, -7.1552, -7.3299, -7.5474, -7.3599, -7.415, -7.5891, -7.3258, -7.2818, -7.437, -7.4166, -7.5034, -7.3833, -7.2917, -7.3991, -7.5171, -7.52, -7.5255, -7.4834, -7.4854, -6.6834, -6.172, -7.6082, -7.7703, -8.3274, -7.9067, -7.9066, -7.926, -8.4508, -8.3051, -8.5137, -8.5151, -8.6148, -8.6457, -8.6705, -7.7932, -8.4589, -8.7045, -8.4912, -6.9523, -8.7416, -8.7516, -8.7579, -8.6967, -8.6113, -8.7148, -8.1786, -8.77, -8.7904, -8.6005, -8.3159, -8.2107, -7.8274, -7.1317, -7.4903, -7.1951, -7.9547, -7.4914, -5.5004, -7.8099, -6.8361, -7.447, -7.6936, -7.4669, -7.5479, -7.2097, -7.6114, -7.2551, -6.7599, -7.3764, -7.2522, -7.1158, -7.3108, -7.3478, -7.1166, -7.0304, -6.9843, -7.2111, -7.1491, -7.44, -7.2715, -7.1813, -7.1811, -7.3283, -7.287, -7.2374, -7.2625, -7.2637, -7.3152, -7.3738, -7.931, -8.4235, -8.254, -7.8901, -8.1147, -8.2938, -7.68, -8.2259, -8.5582, -8.6178, -8.0699, -8.3743, -8.6402, -8.6593, -8.6673, -7.4789, -8.6804, -8.6401, -8.6965, -8.7175, -8.7176, -8.7279, -8.7355, -8.531, -8.7686, -8.7601, -8.5763, -8.8048, -8.3785, -8.3579, -8.6025, -7.1243, -7.8088, -7.8925, -7.2069, -7.3764, -8.2949, -7.6403, -8.0519, -7.2143, -7.6475, -7.4, -7.5221, -7.9726, -7.7696, -7.6141, -6.8893, -7.3773, -7.7729, -7.165, -7.8547, -7.8568, -7.6364, -7.0539, -7.2897, -7.3672, -7.1934, -6.9498, -6.8932, -7.0178, -7.1896, -7.245, -7.4213, -7.5027, -7.3257, -7.0483, -7.3667, -6.7624, -7.2372, -7.2304, -7.3434, -7.2715, -7.352, -7.3252, -7.3333, -7.4221, -7.4101, -8.0659, -6.3516, -8.3777, -8.1605, -8.2618, -8.292, -8.5183, -8.5308, -8.5312, -8.5321, -8.5966, -8.512, -8.5771, -8.6587, -8.6663, -8.6681, -8.4861, -8.7161, -8.6839, -8.754, -8.7583, -8.7624, -8.1366, -8.3018, -8.8044, -8.7154, -8.8504, -8.4383, -8.7201, -8.3966, -7.9549, -7.9564, -7.8749, -7.9643, -7.8932, -7.9611, -8.2474, -7.9709, -7.8042, -7.6741, -7.5023, -8.2163, -7.9907, -7.689, -7.7453, -6.3522, -6.9424, -6.9972, -6.957, -7.2197, -7.2898, -7.5652, -7.0959, -7.1347, -7.4064, -7.2553, -7.2919, -7.4027, -7.5856, -7.3232, -7.4592, -7.3642, -7.3807, -7.4152, -7.6372, -7.471, -7.5578, -7.4557, -7.5322, -7.5717, -7.5802, -7.6149, -7.6334, -7.352, -8.3213, -8.0088, -7.3235, -8.4257, -7.6844, -8.4716, -8.4807, -8.0373, -7.9645, -8.0413, -7.96, -8.527, -8.3998, -8.3821, -8.2171, -8.5819, -8.5978, -8.5935, -8.617, -8.6263, -8.2776, -8.4075, -8.4989, -8.4878, -8.6793, -8.6907, -8.6269, -8.6473, -7.9269, -8.2791, -8.08, -7.9727, -8.0026, -8.3094, -8.1743, -8.3341, -7.0515, -7.5177, -7.6922, -7.8943, -7.4143, -7.0543, -7.4974, -6.6569, -7.2172, -7.9424, -7.411, -7.4543, -7.4703, -7.6869, -7.2887, -7.3178, -7.7151, -7.6118, -7.3959, -7.5261, -7.3756, -7.4879, -7.4577, -7.669, -7.6135, -7.6519, -7.5691, -7.6942, -7.6405, -7.5884, -7.621, -7.6592, -7.6648, -7.6797, -7.8084, -7.8646, -8.0103, -8.2649, -7.2974, -8.3841, -7.9087, -8.4331, -8.4357, -8.4552, -8.4808, -8.493, -8.1412, -8.5625, -8.5042, -8.4251, -8.6017, -8.6026, -8.6185, -7.1253, -8.4919, -8.6428, -8.6429, -8.6571, -8.6838, -8.6927, -8.716, -8.72, -8.6726, -8.6769, -7.6399, -7.9878, -8.0278, -8.1358, -6.1671, -7.2313, -6.9692, -7.6763, -6.5999, -8.2365, -8.1167, -8.0815, -7.5513, -7.6526, -7.1954, -7.5932, -6.3637, -7.6485, -6.9654, -7.4854, -7.0955, -7.3208, -6.9728, -7.2119, -7.3998, -7.1121, -7.1754, -7.1667, -7.218, -7.3476, -7.4308, -7.4614, -7.4651, -7.4126, -7.486, -7.4381, -7.5017, -7.5307, -7.58, -7.5754, -7.1374, -8.3621, -8.4445, -8.4948, -7.7057, -8.5325, -8.54, -8.5788, -8.5933, -7.9428, -8.6262, -8.6297, -8.5065, -8.6585, -8.6014, -8.6956, -7.2289, -8.7123, -8.7125, -8.7129, -8.7177, -8.7252, -8.4173, -7.8349, -8.7687, -8.3519, -8.1776, -8.6658, -8.1814, -7.0083, -7.8438, -7.3878, -7.7944, -7.8293, -7.9456, -8.0761, -8.1292, -7.8472, -6.7088, -6.7344, -8.2078, -8.0152, -7.4156, -7.0263, -8.1727, -8.0315, -7.9041, -8.2068, -6.3127, -7.3168, -7.162, -7.9014, -7.5887, -7.0498, -7.5862, -7.2651, -7.7823, -7.5138, -7.5171, -7.1805, -7.4892, -7.2658, -7.4121, -7.3252, -7.3181, -7.4264, -7.3472, -7.4421, -7.3994, -7.4875, -7.4448, -7.547, -7.1408, -7.2106, -7.8626, -8.3541, -8.2415, -8.3737, -8.4383, -8.4694, -8.4098, -8.5199, -8.3388, -8.5643, -8.5696, -8.3629, -8.5765, -8.6004, -8.6035, -8.616, -8.6183, -8.5103, -8.338, -8.6405, -8.6719, -8.3896, -8.6744, -8.7008, -8.7101, -8.7105, -8.6844, -8.7404, -8.3064, -7.8188, -7.8455, -8.1163, -7.3862, -7.2611, -7.532, -7.7938, -6.837, -7.7912, -7.8575, -7.4111, -6.5418, -7.0263, -7.143, -7.3992, -7.2904, -7.1053, -7.2578, -7.6168, -8.0075, -7.5316, -7.7162, -7.4624, -7.7862, -7.7382, -7.6476, -7.6725, -7.5196, -7.5935, -7.6432, -7.723, -7.7562, -7.7305, -7.7367, -7.7682], \"loglift\": [30.0, 29.0, 28.0, 27.0, 26.0, 25.0, 24.0, 23.0, 22.0, 21.0, 20.0, 19.0, 18.0, 17.0, 16.0, 15.0, 14.0, 13.0, 12.0, 11.0, 10.0, 9.0, 8.0, 7.0, 6.0, 5.0, 4.0, 3.0, 2.0, 1.0, 1.5219, 1.5201, 1.5145, 1.5005, 1.4583, 1.4575, 1.457, 1.4462, 1.4444, 1.4382, 1.4329, 1.4259, 1.4114, 1.4023, 1.3972, 1.3895, 1.3872, 1.3857, 1.3773, 1.3772, 1.3772, 1.3772, 1.377, 1.3767, 1.3766, 1.3613, 1.3595, 1.3594, 1.3558, 1.3493, 1.3427, 1.2808, 1.318, 1.3419, 1.1981, 1.2872, 1.2973, 1.2687, 1.2444, 1.2877, 1.2367, 0.733, 1.1956, 0.9638, 0.8337, 1.2374, 0.8526, 0.9262, 0.0615, 0.836, 1.097, 1.1554, 0.5132, 0.6382, 0.6433, 0.3344, 0.6179, 0.3294, 0.9272, 0.0933, 0.24, 0.6908, 0.2913, 0.3661, 0.6036, 0.2694, -0.1552, 0.4136, -0.0464, 0.0593, -0.1163, -0.071, 0.2044, 0.2238, 0.204, 0.0649, 1.6688, 1.657, 1.6567, 1.6373, 1.6273, 1.6147, 1.6109, 1.5325, 1.5229, 1.5186, 1.5152, 1.5145, 1.51, 1.4862, 1.4745, 1.4703, 1.4645, 1.4586, 1.4544, 1.4534, 1.4527, 1.4488, 1.4473, 1.4435, 1.4299, 1.4297, 1.4296, 1.4294, 1.4256, 1.4223, 1.4172, 1.4173, 1.417, 1.3513, 1.383, 1.3149, 1.3381, 1.3546, 1.2674, 1.3572, 1.2426, 1.3167, 1.1082, 1.2216, 1.1041, 0.7671, 0.6844, 0.7997, 0.0443, 0.6159, 0.5312, 0.4118, 0.3692, 0.4109, 0.526, 0.5474, 0.3369, 0.4504, 0.0882, 0.0927, 0.2357, 0.4456, 0.3751, 0.0856, 0.011, 0.215, 0.4882, 0.206, -0.0043, -0.184, -0.1217, 0.4356, -0.0483, 0.0928, 1.6851, 1.5671, 1.5621, 1.5226, 1.5154, 1.5067, 1.4976, 1.4887, 1.487, 1.4843, 1.4765, 1.4765, 1.4765, 1.4764, 1.4763, 1.4761, 1.4697, 1.4669, 1.4638, 1.4615, 1.4611, 1.4606, 1.4572, 1.4535, 1.4523, 1.4441, 1.437, 1.4369, 1.4313, 1.4278, 1.4002, 1.4061, 1.3619, 1.2521, 1.3576, 1.2552, 1.336, 1.3175, 1.2488, 1.2197, 0.74, 1.2681, 1.0365, 0.9285, 0.9724, 0.324, 0.4236, 0.3727, 0.8513, 0.2654, -0.2077, 0.1535, 0.6341, 0.3936, 0.3598, 0.674, 0.2119, 0.2067, 0.3959, 0.6078, 0.3162, 0.3487, 0.6054, 0.0359, -0.1199, 0.2221, 0.1476, 0.3585, 0.0293, -0.226, -0.0635, 0.2444, 0.2459, 0.1945, -0.111, -0.1909, 1.8566, 1.8238, 1.7338, 1.6638, 1.6527, 1.6356, 1.6354, 1.6184, 1.5983, 1.5695, 1.5691, 1.5684, 1.52, 1.5045, 1.4919, 1.4894, 1.488, 1.4744, 1.4655, 1.4628, 1.455, 1.4497, 1.4463, 1.4463, 1.4447, 1.4427, 1.4402, 1.4398, 1.4289, 1.4239, 1.4047, 1.3989, 1.3692, 1.3164, 1.3157, 1.2812, 1.3094, 1.2121, 0.746, 1.244, 0.9646, 1.1099, 1.1705, 0.9944, 1.0215, 0.8316, 1.022, 0.7923, 0.4019, 0.8094, 0.7155, 0.5684, 0.7255, 0.7215, 0.4476, 0.3314, 0.0958, 0.4139, 0.2233, 0.7519, 0.4135, 0.1543, 0.0571, 0.4237, 0.2379, 0.0112, 0.0994, 0.0353, -0.2495, -0.0793, 1.6547, 1.619, 1.6113, 1.5894, 1.5736, 1.5687, 1.5633, 1.5619, 1.5428, 1.5263, 1.5147, 1.5106, 1.5089, 1.5053, 1.5013, 1.5006, 1.4945, 1.4904, 1.4861, 1.4752, 1.4751, 1.4697, 1.4657, 1.4654, 1.4479, 1.4464, 1.4321, 1.4283, 1.4279, 1.4271, 1.427, 1.3964, 1.3645, 1.3645, 1.262, 1.2817, 1.3741, 1.1961, 1.3042, 1.0325, 1.1595, 1.0756, 1.1154, 1.2348, 1.1405, 1.0563, 0.7231, 0.949, 1.1248, 0.7412, 1.1334, 1.1278, 0.9577, 0.4979, 0.6735, 0.7333, 0.5522, 0.2988, 0.1725, 0.2767, 0.4355, 0.4129, 0.6343, 0.7467, 0.475, 0.0318, 0.5221, -0.516, 0.2222, 0.1313, 0.3436, 0.1009, 0.268, 0.0104, 0.0363, 0.4209, -0.1719, 1.8717, 1.8603, 1.7304, 1.6989, 1.6638, 1.6606, 1.6588, 1.6522, 1.652, 1.6515, 1.6168, 1.6137, 1.6119, 1.5824, 1.5781, 1.5771, 1.5636, 1.5497, 1.5406, 1.5278, 1.5252, 1.5228, 1.522, 1.498, 1.498, 1.497, 1.4703, 1.4696, 1.4692, 1.464, 1.4508, 1.4498, 1.4444, 1.4314, 1.4242, 1.3802, 1.4012, 1.2926, 1.2211, 1.1479, 0.9905, 1.3562, 1.202, 0.9692, 1.0014, -0.1058, 0.2958, 0.2973, 0.2048, 0.4382, 0.3302, 0.6037, -0.0158, -0.0691, 0.2806, 0.0438, 0.0438, 0.2223, 0.5217, 0.0464, 0.2475, -0.0024, -0.0188, 0.0441, 0.54, -0.0584, 0.1682, -0.2071, 0.032, 0.1942, 0.1835, 0.0384, 0.1198, 1.9381, 1.7896, 1.7602, 1.7445, 1.7365, 1.7262, 1.7122, 1.7073, 1.7069, 1.7042, 1.6917, 1.6837, 1.6822, 1.6706, 1.6685, 1.6524, 1.6518, 1.6409, 1.633, 1.632, 1.6266, 1.6214, 1.6111, 1.6041, 1.6, 1.5959, 1.5893, 1.5868, 1.585, 1.5648, 1.546, 1.5214, 1.4603, 1.4357, 1.4988, 1.4421, 1.4885, 0.6685, 0.9019, 1.0153, 1.1534, 0.7745, 0.4408, 0.5927, -0.4106, 0.2421, 1.0674, 0.3706, 0.337, 0.3462, 0.6653, 0.0103, 0.0547, 0.6965, 0.4114, -0.0603, 0.159, -0.3099, -0.0753, -0.3776, 0.3673, 0.1123, 0.2189, -0.2746, 0.3307, 0.0129, -0.3398, -0.259, 0.0475, 0.0967, -0.0437, 1.9362, 1.8557, 1.8277, 1.8272, 1.8243, 1.7672, 1.7582, 1.7416, 1.7403, 1.7299, 1.7161, 1.7095, 1.6807, 1.671, 1.6511, 1.6502, 1.6488, 1.6483, 1.6392, 1.6338, 1.6293, 1.6251, 1.6251, 1.6168, 1.6011, 1.5959, 1.582, 1.5795, 1.5711, 1.5651, 1.5421, 1.5439, 1.5422, 1.5058, 1.0711, 1.2563, 1.1685, 1.3105, 0.8952, 1.4798, 1.4119, 1.3938, 1.1138, 1.0951, 0.6979, 0.9775, -0.1173, 0.9127, 0.1965, 0.7198, 0.2664, 0.5028, 0.1073, 0.3639, 0.5773, 0.2236, 0.2371, 0.2057, 0.081, 0.1773, 0.3223, 0.4006, 0.3356, 0.0468, 0.2956, -0.1436, -0.132, 0.0334, 0.4903, 1.8965, 1.7929, 1.7916, 1.748, 1.7205, 1.7102, 1.6965, 1.6952, 1.6732, 1.6648, 1.6493, 1.6457, 1.6437, 1.6309, 1.6267, 1.6203, 1.6045, 1.6024, 1.5944, 1.5943, 1.5941, 1.5912, 1.5866, 1.5819, 1.5676, 1.5599, 1.5557, 1.5531, 1.5512, 1.5447, 1.5119, 1.5226, 1.4696, 1.4993, 1.4994, 1.4953, 1.4379, 1.4358, 1.3497, 0.9673, 0.957, 1.4441, 1.3338, 0.9797, 0.6937, 1.4238, 1.3176, 1.2073, 1.442, -0.0663, 0.7245, 0.496, 1.1768, 0.774, 0.112, 0.7422, 0.2867, 0.9501, 0.5134, 0.4926, -0.1004, 0.417, -0.0172, 0.2412, 0.0368, -0.019, 0.2586, 0.0252, 0.2421, 0.0131, 0.3281, -0.1091, 0.219, 2.0726, 2.0048, 1.9558, 1.851, 1.8449, 1.8402, 1.8037, 1.7858, 1.7663, 1.7562, 1.734, 1.7297, 1.7264, 1.7238, 1.7223, 1.7078, 1.7059, 1.6982, 1.6968, 1.6951, 1.6932, 1.6797, 1.6634, 1.6557, 1.6455, 1.6451, 1.6392, 1.639, 1.6264, 1.6198, 1.5857, 1.4837, 1.4292, 1.4834, 1.2789, 1.2341, 1.1712, 1.2418, 0.4012, 0.989, 1.0344, 0.6032, -0.2954, 0.1356, 0.2267, 0.4941, 0.3456, -0.0252, 0.1042, 0.4452, 1.0581, 0.1553, 0.4745, -0.1267, 0.5482, 0.4014, 0.0375, 0.0934, -0.454, -0.2317, -0.3442, 0.0406, 0.2688, -0.1105, -0.3643, -0.3557]}, \"token.table\": {\"Topic\": [1, 2, 3, 4, 5, 6, 9, 1, 4, 4, 2, 3, 4, 5, 6, 7, 8, 9, 1, 2, 3, 5, 1, 3, 1, 4, 5, 2, 3, 1, 5, 6, 5, 4, 2, 3, 5, 9, 2, 3, 4, 6, 2, 1, 2, 3, 4, 5, 6, 8, 10, 2, 4, 8, 4, 5, 5, 4, 4, 1, 7, 2, 2, 2, 1, 2, 1, 2, 3, 4, 5, 6, 7, 8, 9, 1, 5, 7, 5, 2, 10, 1, 2, 4, 5, 6, 9, 4, 2, 2, 3, 9, 10, 8, 4, 5, 5, 2, 5, 2, 6, 3, 1, 2, 3, 4, 5, 7, 8, 9, 2, 1, 2, 3, 4, 5, 6, 7, 8, 9, 10, 3, 2, 3, 4, 4, 5, 1, 2, 3, 4, 5, 6, 5, 1, 2, 3, 5, 6, 7, 8, 9, 10, 3, 6, 9, 2, 2, 1, 2, 3, 4, 5, 7, 4, 5, 2, 2, 4, 5, 8, 9, 1, 2, 4, 5, 7, 1, 3, 4, 8, 2, 7, 2, 1, 3, 8, 2, 6, 9, 5, 1, 3, 9, 8, 4, 1, 2, 3, 4, 5, 6, 7, 8, 9, 1, 2, 3, 4, 5, 8, 9, 9, 1, 2, 3, 4, 5, 6, 7, 8, 9, 10, 4, 5, 5, 3, 1, 2, 1, 3, 3, 4, 9, 4, 3, 1, 8, 2, 3, 4, 8, 2, 1, 3, 4, 5, 7, 8, 1, 2, 3, 4, 1, 3, 1, 2, 3, 4, 5, 9, 1, 2, 3, 4, 5, 6, 8, 1, 2, 4, 1, 2, 3, 4, 5, 6, 7, 8, 9, 3, 6, 3, 2, 4, 5, 5, 1, 2, 3, 4, 5, 6, 9, 10, 2, 8, 1, 2, 3, 4, 2, 3, 4, 5, 1, 1, 1, 2, 3, 5, 1, 4, 8, 10, 1, 3, 4, 6, 8, 9, 5, 6, 3, 1, 2, 5, 7, 8, 9, 7, 2, 1, 2, 3, 5, 2, 4, 5, 1, 2, 3, 4, 5, 6, 7, 8, 9, 5, 3, 1, 2, 4, 5, 9, 2, 1, 2, 3, 5, 6, 7, 8, 9, 1, 2, 5, 10, 1, 2, 3, 4, 5, 6, 7, 8, 8, 4, 1, 2, 3, 4, 5, 6, 7, 8, 9, 1, 2, 4, 5, 6, 7, 9, 7, 10, 1, 3, 1, 2, 3, 4, 5, 2, 3, 4, 5, 7, 9, 1, 3, 4, 9, 1, 2, 3, 4, 5, 6, 8, 9, 1, 2, 3, 5, 7, 8, 6, 1, 2, 3, 4, 5, 6, 9, 2, 3, 4, 1, 2, 4, 5, 6, 7, 9, 1, 2, 3, 4, 5, 6, 7, 1, 2, 4, 5, 6, 7, 9, 10, 1, 2, 3, 4, 5, 6, 9, 10, 1, 2, 4, 5, 7, 8, 1, 10, 8, 1, 1, 1, 4, 1, 2, 3, 4, 5, 1, 2, 3, 4, 5, 6, 7, 8, 9, 10, 4, 1, 3, 6, 1, 2, 3, 4, 5, 7, 8, 10, 3, 2, 4, 5, 5, 8, 9, 1, 2, 3, 4, 5, 6, 7, 8, 9, 5, 1, 2, 3, 4, 5, 6, 7, 3, 1, 2, 3, 4, 5, 8, 1, 2, 3, 4, 5, 7, 1, 2, 5, 1, 1, 2, 3, 4, 5, 6, 7, 8, 1, 1, 2, 3, 4, 5, 6, 8, 1, 2, 3, 4, 5, 6, 7, 8, 9, 10, 1, 2, 3, 4, 6, 9, 1, 2, 3, 4, 1, 2, 3, 1, 2, 4, 2, 1, 2, 3, 4, 1, 1, 9, 1, 2, 3, 4, 5, 9, 1, 2, 3, 4, 5, 8, 9, 1, 3, 2, 3, 5, 9, 1, 2, 3, 5, 6, 7, 8, 2, 2, 6, 2, 5, 1, 2, 1, 6, 7, 8, 1, 3, 4, 4, 3, 1, 2, 3, 4, 5, 6, 7, 8, 9, 10, 9, 6, 2, 3, 7, 1, 2, 3, 4, 5, 6, 7, 4, 1, 8, 3, 4, 5, 1, 2, 3, 4, 5, 6, 7, 1, 2, 3, 4, 5, 6, 7, 8, 9, 10, 2, 3, 5, 9, 1, 2, 3, 4, 9, 2, 2, 1, 2, 3, 4, 5, 7, 1, 2, 3, 4, 5, 6, 7, 8, 1, 2, 3, 7, 5, 8, 2, 3, 4, 5, 7, 4, 9, 1, 2, 3, 7, 8, 4, 5, 9, 5, 2, 5, 1, 2, 3, 4, 5, 6, 7, 8, 9, 10, 2, 1, 3, 4, 7, 8, 2, 4, 5, 6, 7, 8, 10, 1, 2, 3, 4, 5, 6, 9, 2, 4, 10, 1, 2, 4, 7, 5, 1, 2, 5, 9, 1, 1, 2, 3, 4, 5, 6, 7, 8, 9, 10, 3, 3, 3], \"Freq\": [0.12914381425947763, 0.12914381425947763, 0.12914381425947763, 0.12914381425947763, 0.12914381425947763, 0.12914381425947763, 0.12914381425947763, 0.38162441099122685, 0.38162441099122685, 0.752166068869092, 0.16140475484678046, 0.16140475484678046, 0.16140475484678046, 0.16140475484678046, 0.16140475484678046, 0.16140475484678046, 0.16140475484678046, 0.16140475484678046, 0.14287105962222948, 0.28574211924445897, 0.4286131788666885, 0.14287105962222948, 0.34990350970532935, 0.34990350970532935, 0.4285169397662291, 0.3420593298977535, 0.3420593298977535, 0.2293752358440192, 0.2293752358440192, 0.22543900180856824, 0.22543900180856824, 0.22543900180856824, 0.46918256973329636, 0.329545832659089, 0.2205399049420674, 0.2205399049420674, 0.2205399049420674, 0.2205399049420674, 0.2102143444971059, 0.2102143444971059, 0.2102143444971059, 0.2102143444971059, 0.7147783287425767, 0.0881529091131437, 0.0881529091131437, 0.0881529091131437, 0.0881529091131437, 0.0881529091131437, 0.0881529091131437, 0.2644587273394311, 0.0881529091131437, 0.21670480221739458, 0.21670480221739458, 0.21670480221739458, 0.7923054429635045, 0.46337871274460274, 0.6315785445989163, 0.541762446445868, 0.8847388176685695, 1.014724182786428, 0.5494638406627829, 0.6923364957681344, 0.7136233838948172, 0.9480003394491542, 0.4002229324651143, 0.9472454121532209, 0.09325990639638997, 0.18651981279277993, 0.09325990639638997, 0.09325990639638997, 0.18651981279277993, 0.09325990639638997, 0.09325990639638997, 0.09325990639638997, 0.09325990639638997, 0.26858939567953255, 0.26858939567953255, 0.26858939567953255, 0.5054901810147354, 0.8795186089738779, 0.6354439385414954, 0.15703709037369123, 0.15703709037369123, 0.15703709037369123, 0.15703709037369123, 0.15703709037369123, 0.15703709037369123, 0.6810055911683549, 0.5171886388605332, 0.20090692233266236, 0.20090692233266236, 0.20090692233266236, 0.20090692233266236, 0.5797332480994114, 0.2995258356499256, 0.2995258356499256, 0.5029022047249099, 0.6563912211285621, 0.24168447329805834, 0.7768161335324406, 0.7063600973851102, 0.5514406823498732, 0.12062286485715912, 0.24124572971431824, 0.12062286485715912, 0.12062286485715912, 0.12062286485715912, 0.12062286485715912, 0.12062286485715912, 0.12062286485715912, 0.7590721828817784, 0.2967431776580254, 0.1483715888290127, 0.07418579441450635, 0.07418579441450635, 0.1483715888290127, 0.07418579441450635, 0.07418579441450635, 0.07418579441450635, 0.07418579441450635, 0.07418579441450635, 0.41990106054389736, 0.22877745430979063, 0.22877745430979063, 0.22877745430979063, 0.30182174972942577, 0.30182174972942577, 0.14736935274406024, 0.14736935274406024, 0.14736935274406024, 0.14736935274406024, 0.14736935274406024, 0.14736935274406024, 0.9210437747176184, 0.1494272280063643, 0.1494272280063643, 0.1494272280063643, 0.1494272280063643, 0.1494272280063643, 0.1494272280063643, 0.1494272280063643, 0.1494272280063643, 0.1494272280063643, 0.6497891264141672, 0.3647060898302122, 0.7780566302955544, 0.5236219231667454, 0.4031037971413975, 0.1689692149631592, 0.1689692149631592, 0.1689692149631592, 0.1689692149631592, 0.1689692149631592, 0.1689692149631592, 0.35576251950639326, 1.0216580794891392, 0.5417101133372809, 0.15471687252601046, 0.3094337450520209, 0.15471687252601046, 0.15471687252601046, 0.15471687252601046, 0.19580745441964234, 0.19580745441964234, 0.19580745441964234, 0.19580745441964234, 0.19580745441964234, 0.2274008915695656, 0.2274008915695656, 0.2274008915695656, 0.2274008915695656, 0.22807325519498733, 0.22807325519498733, 1.0430222978338923, 0.7676936699006363, 0.33099727073454605, 0.33099727073454605, 0.3252249056600173, 0.7051186272082334, 0.4787869244245061, 0.36918564055836534, 0.280379494848496, 0.280379494848496, 0.280379494848496, 1.080811938021296, 0.882844015646492, 0.08908090808836876, 0.17816181617673751, 0.17816181617673751, 0.08908090808836876, 0.17816181617673751, 0.08908090808836876, 0.08908090808836876, 0.08908090808836876, 0.08908090808836876, 0.11742764912090368, 0.11742764912090368, 0.23485529824180737, 0.11742764912090368, 0.11742764912090368, 0.11742764912090368, 0.11742764912090368, 0.433651503865036, 0.1307894144824666, 0.1307894144824666, 0.09809206086184995, 0.22888147534431655, 0.0653947072412333, 0.0653947072412333, 0.0653947072412333, 0.0653947072412333, 0.0653947072412333, 0.0653947072412333, 0.7226225048654157, 0.6547273261748325, 0.9220530200459877, 0.5777486413472587, 0.6542105697004139, 0.7962795300370876, 0.6817002858709114, 0.6804677633085265, 0.2622407791318515, 0.2622407791318515, 0.2622407791318515, 0.5720363167377827, 0.6878512492409764, 0.23186976219668806, 0.23186976219668806, 0.18456046497039513, 0.18456046497039513, 0.18456046497039513, 0.18456046497039513, 0.5683912412888454, 0.20260630046879552, 0.20260630046879552, 0.20260630046879552, 0.20260630046879552, 0.20260630046879552, 0.20260630046879552, 0.1801081361120147, 0.1801081361120147, 0.1801081361120147, 0.1801081361120147, 0.3606682704673639, 0.3606682704673639, 0.1820027847282568, 0.1820027847282568, 0.1820027847282568, 0.1820027847282568, 0.1820027847282568, 0.1820027847282568, 0.12212876445204501, 0.12212876445204501, 0.12212876445204501, 0.12212876445204501, 0.12212876445204501, 0.12212876445204501, 0.12212876445204501, 0.21711672870472076, 0.21711672870472076, 0.21711672870472076, 0.14354504251567138, 0.14354504251567138, 0.14354504251567138, 0.14354504251567138, 0.14354504251567138, 0.14354504251567138, 0.14354504251567138, 0.14354504251567138, 0.14354504251567138, 0.23339040604815514, 0.4667808120963103, 0.8236345234537392, 0.3240598933031821, 0.6481197866063642, 0.610480424726392, 0.5072496940375413, 0.19949663298155026, 0.09974831649077513, 0.09974831649077513, 0.19949663298155026, 0.09974831649077513, 0.09974831649077513, 0.09974831649077513, 0.09974831649077513, 0.47601568684290396, 0.3988573868490784, 0.1994526842306971, 0.1994526842306971, 0.1994526842306971, 0.1994526842306971, 0.24233569511576875, 0.24233569511576875, 0.24233569511576875, 0.24233569511576875, 0.7625318103887275, 0.6324984059645619, 0.193335820041354, 0.193335820041354, 0.193335820041354, 0.193335820041354, 0.333702680060306, 0.333702680060306, 0.36723081699978416, 0.36723081699978416, 0.1377013147051659, 0.1377013147051659, 0.1377013147051659, 0.1377013147051659, 0.1377013147051659, 0.1377013147051659, 0.6637233175461547, 0.3091256370922905, 1.1533154111577488, 0.19326290580015534, 0.19326290580015534, 0.19326290580015534, 0.19326290580015534, 0.19326290580015534, 0.39281557071639905, 0.6860477190305846, 1.0057783705770353, 0.20606299728200303, 0.20606299728200303, 0.20606299728200303, 0.20606299728200303, 1.0008933513629963, 0.3178747644474703, 0.3178747644474703, 0.21994604921886865, 0.10997302460943433, 0.10997302460943433, 0.10997302460943433, 0.10997302460943433, 0.10997302460943433, 0.10997302460943433, 0.10997302460943433, 0.10997302460943433, 0.7329123631535811, 0.5183489621752542, 0.19404018143452442, 0.19404018143452442, 0.19404018143452442, 0.19404018143452442, 0.19404018143452442, 0.7039668720706308, 0.2685997940362234, 0.1342998970181117, 0.1342998970181117, 0.1342998970181117, 0.1342998970181117, 0.1342998970181117, 0.1342998970181117, 0.1342998970181117, 0.1915652948391114, 0.1915652948391114, 0.1915652948391114, 0.1915652948391114, 0.12355868688802653, 0.12355868688802653, 0.12355868688802653, 0.12355868688802653, 0.12355868688802653, 0.12355868688802653, 0.12355868688802653, 0.12355868688802653, 0.6157546782088444, 0.44811702097224804, 0.10082043358074802, 0.20164086716149604, 0.10082043358074802, 0.10082043358074802, 0.10082043358074802, 0.10082043358074802, 0.10082043358074802, 0.10082043358074802, 0.10082043358074802, 0.13413379407345127, 0.13413379407345127, 0.13413379407345127, 0.13413379407345127, 0.13413379407345127, 0.13413379407345127, 0.13413379407345127, 0.7740121761975598, 0.6367522341702533, 0.26649995347762545, 0.26649995347762545, 0.19965248060816618, 0.19965248060816618, 0.19965248060816618, 0.19965248060816618, 0.19965248060816618, 0.14272054286136526, 0.14272054286136526, 0.14272054286136526, 0.14272054286136526, 0.14272054286136526, 0.14272054286136526, 0.2024010189497127, 0.2024010189497127, 0.2024010189497127, 0.2024010189497127, 0.12816578178811464, 0.12816578178811464, 0.12816578178811464, 0.12816578178811464, 0.25633156357622927, 0.12816578178811464, 0.12816578178811464, 0.12816578178811464, 0.14877350356442665, 0.14877350356442665, 0.14877350356442665, 0.14877350356442665, 0.14877350356442665, 0.14877350356442665, 0.5264542205376737, 0.12978852519516068, 0.12978852519516068, 0.12978852519516068, 0.12978852519516068, 0.12978852519516068, 0.12978852519516068, 0.12978852519516068, 0.2285310147228578, 0.2285310147228578, 0.2285310147228578, 0.1335201442112357, 0.2670402884224714, 0.1335201442112357, 0.1335201442112357, 0.1335201442112357, 0.1335201442112357, 0.1335201442112357, 0.1548287979006849, 0.1548287979006849, 0.1548287979006849, 0.1548287979006849, 0.1548287979006849, 0.1548287979006849, 0.1548287979006849, 0.13782150429371656, 0.13782150429371656, 0.13782150429371656, 0.13782150429371656, 0.13782150429371656, 0.13782150429371656, 0.13782150429371656, 0.13782150429371656, 0.1380828653431428, 0.1380828653431428, 0.1380828653431428, 0.1380828653431428, 0.1380828653431428, 0.1380828653431428, 0.1380828653431428, 0.1380828653431428, 0.15179076844956688, 0.15179076844956688, 0.15179076844956688, 0.15179076844956688, 0.15179076844956688, 0.15179076844956688, 0.38149443622164003, 0.38149443622164003, 0.3341573114104618, 0.5319250352692364, 0.5423833495511226, 0.26774184522941524, 0.26774184522941524, 0.1732028596558314, 0.1732028596558314, 0.1732028596558314, 0.1732028596558314, 0.1732028596558314, 0.07526384417317983, 0.15052768834635966, 0.15052768834635966, 0.15052768834635966, 0.07526384417317983, 0.07526384417317983, 0.07526384417317983, 0.07526384417317983, 0.07526384417317983, 0.07526384417317983, 0.8826426266878176, 0.22359544329610412, 0.22359544329610412, 0.22359544329610412, 0.13122365254531265, 0.13122365254531265, 0.13122365254531265, 0.13122365254531265, 0.13122365254531265, 0.13122365254531265, 0.13122365254531265, 0.13122365254531265, 0.5764574150473862, 0.2638303056972964, 0.2638303056972964, 0.2638303056972964, 0.2714134521592063, 0.2714134521592063, 0.2714134521592063, 0.10494773780868324, 0.2098954756173665, 0.10494773780868324, 0.10494773780868324, 0.10494773780868324, 0.10494773780868324, 0.10494773780868324, 0.10494773780868324, 0.10494773780868324, 0.36468920767298246, 0.1435900634963245, 0.1435900634963245, 0.1435900634963245, 0.1435900634963245, 0.1435900634963245, 0.1435900634963245, 0.1435900634963245, 0.31724879433102426, 0.1464193832741336, 0.1464193832741336, 0.1464193832741336, 0.1464193832741336, 0.1464193832741336, 0.1464193832741336, 0.1659602304363757, 0.1659602304363757, 0.1659602304363757, 0.1659602304363757, 0.1659602304363757, 0.1659602304363757, 0.7665866576830049, 0.3038580285377991, 0.3038580285377991, 0.6222532776666828, 0.1408367170158803, 0.1408367170158803, 0.1408367170158803, 0.1408367170158803, 0.1408367170158803, 0.1408367170158803, 0.1408367170158803, 0.1408367170158803, 0.6106167609511688, 0.1475278402677476, 0.1475278402677476, 0.1475278402677476, 0.1475278402677476, 0.1475278402677476, 0.1475278402677476, 0.1475278402677476, 0.1005368850439732, 0.2010737700879464, 0.1005368850439732, 0.1005368850439732, 0.1005368850439732, 0.1005368850439732, 0.1005368850439732, 0.1005368850439732, 0.1005368850439732, 0.1005368850439732, 0.1386946271364905, 0.1386946271364905, 0.277389254272981, 0.1386946271364905, 0.1386946271364905, 0.277389254272981, 0.1828247038211307, 0.1828247038211307, 0.1828247038211307, 0.1828247038211307, 0.24292151810063467, 0.24292151810063467, 0.24292151810063467, 0.30404851313424297, 0.30404851313424297, 0.30404851313424297, 0.7194823944273566, 0.16670174674319876, 0.33340349348639753, 0.16670174674319876, 0.16670174674319876, 0.5355527387592394, 0.6114927356994637, 0.3177053167924995, 0.34067551134187124, 0.17033775567093562, 0.17033775567093562, 0.17033775567093562, 0.17033775567093562, 0.822923378297929, 0.14251369014510504, 0.14251369014510504, 0.14251369014510504, 0.14251369014510504, 0.14251369014510504, 0.14251369014510504, 0.14251369014510504, 0.247940961803009, 0.247940961803009, 0.9773156032383201, 0.2617025557490043, 0.2617025557490043, 0.7131070367503027, 0.11398034300144479, 0.11398034300144479, 0.22796068600288957, 0.11398034300144479, 0.11398034300144479, 0.11398034300144479, 0.22796068600288957, 0.9770643484009365, 0.4916830880526162, 0.3984621798281687, 0.2088102647830715, 0.2088102647830715, 0.5535734610004514, 0.18452448700015045, 0.23419571676767315, 0.23419571676767315, 0.23419571676767315, 0.30750544614430403, 0.34730255523059517, 0.17365127761529758, 0.624859869971745, 0.422799335321781, 0.47198252277680924, 0.09717737870825047, 0.09717737870825047, 0.09717737870825047, 0.09717737870825047, 0.09717737870825047, 0.09717737870825047, 0.09717737870825047, 0.09717737870825047, 0.09717737870825047, 0.09717737870825047, 0.4451140149265821, 0.4296278179690216, 0.2872845654435097, 0.2872845654435097, 0.2872845654435097, 0.1532654435761243, 0.1532654435761243, 0.1532654435761243, 0.1532654435761243, 0.1532654435761243, 0.1532654435761243, 0.1532654435761243, 0.6684603893040407, 1.1452780992414848, 0.40342561042943403, 0.1979981143643814, 0.1979981143643814, 0.1979981143643814, 0.14908772799996434, 0.14908772799996434, 0.14908772799996434, 0.14908772799996434, 0.14908772799996434, 0.14908772799996434, 0.14908772799996434, 0.09976768953530019, 0.09976768953530019, 0.09976768953530019, 0.09976768953530019, 0.09976768953530019, 0.09976768953530019, 0.09976768953530019, 0.09976768953530019, 0.09976768953530019, 0.09976768953530019, 0.1719351759300791, 0.1719351759300791, 0.1719351759300791, 0.1719351759300791, 0.19067439358778307, 0.19067439358778307, 0.19067439358778307, 0.19067439358778307, 0.19067439358778307, 0.8981703277839435, 0.5165979600061288, 0.1571814404754041, 0.1571814404754041, 0.1571814404754041, 0.1571814404754041, 0.1571814404754041, 0.1571814404754041, 0.1583031188587788, 0.1583031188587788, 0.1583031188587788, 0.1583031188587788, 0.1583031188587788, 0.1583031188587788, 0.1583031188587788, 0.1583031188587788, 0.2169822707522542, 0.2169822707522542, 0.2169822707522542, 0.38311581369644704, 0.4232140363169795, 0.5065816322931047, 0.1936052648262086, 0.1936052648262086, 0.1936052648262086, 0.1936052648262086, 0.1936052648262086, 0.2955922960970867, 0.6885014541911681, 0.20663354545533721, 0.20663354545533721, 0.20663354545533721, 0.20663354545533721, 0.20663354545533721, 0.19680510233477921, 0.19680510233477921, 0.19680510233477921, 0.8291588598155787, 0.35723538590730364, 0.35723538590730364, 0.1633526051034745, 0.08167630255173725, 0.08167630255173725, 0.1633526051034745, 0.08167630255173725, 0.08167630255173725, 0.08167630255173725, 0.08167630255173725, 0.08167630255173725, 0.08167630255173725, 0.7002689675594516, 0.16449688512800775, 0.16449688512800775, 0.16449688512800775, 0.16449688512800775, 0.16449688512800775, 0.16973905120352498, 0.16973905120352498, 0.16973905120352498, 0.16973905120352498, 0.16973905120352498, 0.16973905120352498, 0.16973905120352498, 0.1365852671263489, 0.1365852671263489, 0.1365852671263489, 0.1365852671263489, 0.1365852671263489, 0.1365852671263489, 0.2731705342526978, 0.3098567133022436, 0.3098567133022436, 0.3098567133022436, 0.6432025777106526, 0.2850012861791521, 0.2850012861791521, 0.2850012861791521, 0.43585130601888405, 0.18344512955602013, 0.18344512955602013, 0.18344512955602013, 0.18344512955602013, 0.2695258846761513, 0.09368407055280535, 0.09368407055280535, 0.1873681411056107, 0.09368407055280535, 0.09368407055280535, 0.09368407055280535, 0.09368407055280535, 0.09368407055280535, 0.09368407055280535, 0.09368407055280535, 0.7480298475947172, 0.7216979683098016, 0.6316937055965036], \"Term\": [\"account\", \"account\", \"account\", \"account\", \"account\", \"account\", \"account\", \"actual\", \"actual\", \"actuals\", \"address\", \"address\", \"address\", \"address\", \"address\", \"address\", \"address\", \"address\", \"adobe\", \"adobe\", \"adobe\", \"adobe\", \"advertisement\", \"advertisement\", \"advice\", \"agent\", \"agent\", \"agreement\", \"agreement\", \"america\", \"america\", \"america\", \"announcement\", \"answer\", \"approval\", \"approval\", \"approval\", \"approval\", \"april\", \"april\", \"april\", \"april\", \"artwork\", \"attached\", \"attached\", \"attached\", \"attached\", \"attached\", \"attached\", \"attached\", \"attached\", \"august\", \"august\", \"august\", \"avila\", \"award\", \"batch\", \"baylor\", \"bellamy\", \"berkeley\", \"blackberry\", \"breath\", \"breathing\", \"brinq\", \"budget\", \"bundle\", \"business\", \"business\", \"business\", \"business\", \"business\", \"business\", \"business\", \"business\", \"business\", \"california\", \"california\", \"california\", \"calpine\", \"carefui\", \"carroll\", \"change\", \"change\", \"change\", \"change\", \"change\", \"change\", \"charlie\", \"chart\", \"check\", \"check\", \"check\", \"check\", \"chokshi\", \"cialis\", \"cialis\", \"cialls\", \"ciick\", \"claim\", \"clair\", \"clayton\", \"cleburne\", \"click\", \"click\", \"click\", \"click\", \"click\", \"click\", \"click\", \"click\", \"college\", \"company\", \"company\", \"company\", \"company\", \"company\", \"company\", \"company\", \"company\", \"company\", \"company\", \"completed\", \"conference\", \"conference\", \"conference\", \"congratulation\", \"congratulation\", \"contact\", \"contact\", \"contact\", \"contact\", \"contact\", \"contact\", \"contingency\", \"contract\", \"contract\", \"contract\", \"contract\", \"contract\", \"contract\", \"contract\", \"contract\", \"contract\", \"cornhusker\", \"corporate\", \"cotton\", \"coupon\", \"creative\", \"credit\", \"credit\", \"credit\", \"credit\", \"credit\", \"credit\", \"crenshaw\", \"crosstex\", \"custom\", \"daily\", \"daily\", \"daily\", \"daily\", \"daily\", \"david\", \"david\", \"david\", \"david\", \"david\", \"december\", \"december\", \"december\", \"december\", \"delivery\", \"delivery\", \"desiqn\", \"differ\", \"document\", \"document\", \"download\", \"dynamic\", \"eastrans\", \"effect\", \"effective\", \"effective\", \"effective\", \"egmnom\", \"eileen\", \"email\", \"email\", \"email\", \"email\", \"email\", \"email\", \"email\", \"email\", \"email\", \"energy\", \"energy\", \"energy\", \"energy\", \"energy\", \"energy\", \"energy\", \"engine\", \"enron\", \"enron\", \"enron\", \"enron\", \"enron\", \"enron\", \"enron\", \"enron\", \"enron\", \"enron\", \"enserch\", \"errrectlon\", \"exactiy\", \"excelled\", \"expectation\", \"expires\", \"fastow\", \"father\", \"february\", \"february\", \"february\", \"feedback\", \"fernley\", \"final\", \"final\", \"forwarded\", \"forwarded\", \"forwarded\", \"forwarded\", \"fresh\", \"friday\", \"friday\", \"friday\", \"friday\", \"friday\", \"friday\", \"future\", \"future\", \"future\", \"future\", \"graphic\", \"graphic\", \"great\", \"great\", \"great\", \"great\", \"great\", \"great\", \"group\", \"group\", \"group\", \"group\", \"group\", \"group\", \"group\", \"hello\", \"hello\", \"hello\", \"houston\", \"houston\", \"houston\", \"houston\", \"houston\", \"houston\", \"houston\", \"houston\", \"houston\", \"hplno\", \"hplno\", \"iaagra\", \"iferc\", \"iferc\", \"imagine\", \"inform\", \"information\", \"information\", \"information\", \"information\", \"information\", \"information\", \"information\", \"information\", \"instant\", \"insurance\", \"interested\", \"interested\", \"interested\", \"interested\", \"international\", \"international\", \"international\", \"international\", \"internship\", \"investing\", \"investment\", \"investment\", \"investment\", \"investment\", \"jones\", \"jones\", \"julie\", \"julie\", \"kaminski\", \"kaminski\", \"kaminski\", \"kaminski\", \"kaminski\", \"kaminski\", \"kernel\", \"kevin\", \"kiodex\", \"kitchen\", \"kitchen\", \"kitchen\", \"kitchen\", \"kitchen\", \"listed\", \"localized\", \"logodentity\", \"looking\", \"looking\", \"looking\", \"looking\", \"loqos\", \"lottery\", \"lottery\", \"louise\", \"louise\", \"louise\", \"louise\", \"louise\", \"louise\", \"louise\", \"louise\", \"louise\", \"louisiana\", \"macromedia\", \"management\", \"management\", \"management\", \"management\", \"management\", \"manual\", \"market\", \"market\", \"market\", \"market\", \"market\", \"market\", \"market\", \"market\", \"marketing\", \"marketing\", \"marketing\", \"marketing\", \"meeting\", \"meeting\", \"meeting\", \"meeting\", \"meeting\", \"meeting\", \"meeting\", \"meeting\", \"megan\", \"melissa\", \"message\", \"message\", \"message\", \"message\", \"message\", \"message\", \"message\", \"message\", \"message\", \"meter\", \"meter\", \"meter\", \"meter\", \"meter\", \"meter\", \"meter\", \"midcon\", \"midwest\", \"might\", \"might\", \"million\", \"million\", \"million\", \"million\", \"million\", \"mmbtu\", \"mmbtu\", \"mmbtu\", \"mmbtu\", \"mmbtu\", \"mmbtu\", \"model\", \"model\", \"model\", \"model\", \"money\", \"money\", \"money\", \"money\", \"money\", \"money\", \"money\", \"money\", \"month\", \"month\", \"month\", \"month\", \"month\", \"month\", \"moore\", \"number\", \"number\", \"number\", \"number\", \"number\", \"number\", \"number\", \"october\", \"october\", \"october\", \"offer\", \"offer\", \"offer\", \"offer\", \"offer\", \"offer\", \"offer\", \"office\", \"office\", \"office\", \"office\", \"office\", \"office\", \"office\", \"online\", \"online\", \"online\", \"online\", \"online\", \"online\", \"online\", \"online\", \"order\", \"order\", \"order\", \"order\", \"order\", \"order\", \"order\", \"order\", \"original\", \"original\", \"original\", \"original\", \"original\", \"original\", \"origination\", \"origination\", \"partner\", \"partnership\", \"percent\", \"performance\", \"performance\", \"phone\", \"phone\", \"phone\", \"phone\", \"phone\", \"please\", \"please\", \"please\", \"please\", \"please\", \"please\", \"please\", \"please\", \"please\", \"please\", \"ponton\", \"position\", \"position\", \"position\", \"power\", \"power\", \"power\", \"power\", \"power\", \"power\", \"power\", \"power\", \"premiere\", \"prescription\", \"prescription\", \"prescription\", \"presentation\", \"presentation\", \"presentation\", \"price\", \"price\", \"price\", \"price\", \"price\", \"price\", \"price\", \"price\", \"price\", \"prize\", \"product\", \"product\", \"product\", \"product\", \"product\", \"product\", \"product\", \"production\", \"program\", \"program\", \"program\", \"program\", \"program\", \"program\", \"project\", \"project\", \"project\", \"project\", \"project\", \"project\", \"projection\", \"promotion\", \"promotion\", \"publisher\", \"question\", \"question\", \"question\", \"question\", \"question\", \"question\", \"question\", \"question\", \"rating\", \"regard\", \"regard\", \"regard\", \"regard\", \"regard\", \"regard\", \"regard\", \"report\", \"report\", \"report\", \"report\", \"report\", \"report\", \"report\", \"report\", \"report\", \"report\", \"request\", \"request\", \"request\", \"request\", \"request\", \"request\", \"research\", \"research\", \"research\", \"research\", \"resource\", \"resource\", \"resource\", \"resume\", \"resume\", \"resume\", \"revamping\", \"review\", \"review\", \"review\", \"review\", \"rolex\", \"schoppe\", \"search\", \"security\", \"security\", \"security\", \"security\", \"security\", \"seekercenter\", \"service\", \"service\", \"service\", \"service\", \"service\", \"service\", \"service\", \"share\", \"share\", \"sighting\", \"sitara\", \"sitara\", \"slide\", \"software\", \"software\", \"software\", \"software\", \"software\", \"software\", \"software\", \"spamassassin\", \"stand\", \"standard\", \"start\", \"start\", \"statement\", \"statement\", \"steve\", \"steve\", \"steve\", \"stinson\", \"stock\", \"stock\", \"stone\", \"storage\", \"studio\", \"subject\", \"subject\", \"subject\", \"subject\", \"subject\", \"subject\", \"subject\", \"subject\", \"subject\", \"subject\", \"submit\", \"summary\", \"survey\", \"survey\", \"survey\", \"system\", \"system\", \"system\", \"system\", \"system\", \"system\", \"system\", \"tanya\", \"techlite\", \"tenaska\", \"texas\", \"texas\", \"texas\", \"thank\", \"thank\", \"thank\", \"thank\", \"thank\", \"thank\", \"thank\", \"thanks\", \"thanks\", \"thanks\", \"thanks\", \"thanks\", \"thanks\", \"thanks\", \"thanks\", \"thanks\", \"thanks\", \"thing\", \"thing\", \"thing\", \"thing\", \"think\", \"think\", \"think\", \"think\", \"think\", \"thinkgeek\", \"thinking\", \"today\", \"today\", \"today\", \"today\", \"today\", \"today\", \"trading\", \"trading\", \"trading\", \"trading\", \"trading\", \"trading\", \"trading\", \"trading\", \"transaction\", \"transaction\", \"transaction\", \"transport\", \"tried\", \"turbine\", \"update\", \"update\", \"update\", \"update\", \"update\", \"utility\", \"valley\", \"version\", \"version\", \"version\", \"version\", \"version\", \"viagra\", \"viagra\", \"viagra\", \"viaqra\", \"video\", \"video\", \"vince\", \"vince\", \"vince\", \"vince\", \"vince\", \"vince\", \"vince\", \"vince\", \"vince\", \"vince\", \"virus\", \"visit\", \"visit\", \"visit\", \"visit\", \"visit\", \"volume\", \"volume\", \"volume\", \"volume\", \"volume\", \"volume\", \"volume\", \"website\", \"website\", \"website\", \"website\", \"website\", \"website\", \"website\", \"weekly\", \"weekly\", \"weekly\", \"wharton\", \"window\", \"window\", \"window\", \"winner\", \"within\", \"within\", \"within\", \"within\", \"without\", \"would\", \"would\", \"would\", \"would\", \"would\", \"would\", \"would\", \"would\", \"would\", \"would\", \"wyoming\", \"wysak\", \"xanaax\"]}, \"R\": 30, \"lambda.step\": 0.01, \"plot.opts\": {\"xlab\": \"PC1\", \"ylab\": \"PC2\"}, \"topic.order\": [10, 4, 6, 2, 5, 8, 9, 7, 1, 3]};\n",
       "if(typeof(window.LDAvis) !== \"undefined\"){\n",
       "   !function(LDAvis){\n",
       "       new LDAvis(\"#\" + \"ldavis_el2328422281397602087951935655\", ldavis_el2328422281397602087951935655_data);\n",
       "   }(LDAvis);\n",
       "}else{\n",
       "  require.config({paths: {d3: \"https://d3js.org/d3.v5\"}});\n",
       "  require([\"d3\"], function(d3){\n",
       "    window.d3 = d3;\n",
       "    $.getScript(\"https://cdn.jsdelivr.net/gh/bmabey/pyLDAvis/pyLDAvis/js/ldavis.v3.0.0.js\", function(){\n",
       "       new LDAvis(\"#\" + \"ldavis_el2328422281397602087951935655\", ldavis_el2328422281397602087951935655_data);\n",
       "    });\n",
       "  });\n",
       "}\n",
       "</script>"
      ],
      "text/plain": [
       "<IPython.core.display.HTML object>"
      ]
     },
     "execution_count": 203,
     "metadata": {},
     "output_type": "execute_result"
    }
   ],
   "source": [
    "lda_display = pyLDAvis.gensim.prepare(lda_model_tfidf, tfidf_corp, \n",
    "                                          dictionary, mds='mmds')\n",
    "pyLDAvis.display(lda_display, template_type='notebook')"
   ]
  },
  {
   "cell_type": "code",
   "execution_count": 194,
   "metadata": {},
   "outputs": [],
   "source": [
    "from gensim.models.coherencemodel import CoherenceModel\n",
    "def getCoherence(m,t,d):\n",
    "    coherence_model_lda = CoherenceModel(model=m,texts=t, dictionary=d, coherence='c_v')\n",
    "    coherence_lda = coherence_model_lda.get_coherence()\n",
    "    return(coherence_lda) # Need high coherence"
   ]
  },
  {
   "cell_type": "code",
   "execution_count": 185,
   "metadata": {},
   "outputs": [],
   "source": [
    "perplexity = lda_model_tfidf.log_perplexity(tfidf_corp) # Need low perplexity"
   ]
  },
  {
   "cell_type": "code",
   "execution_count": 199,
   "metadata": {},
   "outputs": [
    {
     "data": {
      "text/plain": [
       "-11.18450272818756"
      ]
     },
     "execution_count": 199,
     "metadata": {},
     "output_type": "execute_result"
    }
   ],
   "source": [
    "perplexity"
   ]
  },
  {
   "cell_type": "code",
   "execution_count": 206,
   "metadata": {},
   "outputs": [
    {
     "data": {
      "text/plain": [
       "0.3254622928925399"
      ]
     },
     "execution_count": 206,
     "metadata": {},
     "output_type": "execute_result"
    }
   ],
   "source": [
    "getCoherence(m=lda_model_tfidf, t=lister, d =dictionary)"
   ]
  },
  {
   "cell_type": "code",
   "execution_count": 208,
   "metadata": {},
   "outputs": [],
   "source": [
    "gCH = [0] * 20\n",
    "for i in range(1,20):\n",
    "    locals()['lda_model_tfidf_{}'.format(i)] = gensim.models.LdaMulticore(tfidf_corp, num_topics=i, id2word=dictionary, passes=2, workers=4)"
   ]
  },
  {
   "cell_type": "code",
   "execution_count": 211,
   "metadata": {},
   "outputs": [],
   "source": [
    "for i in range(1,20):\n",
    "    gCH[i]=getCoherence(m=locals()['lda_model_tfidf_{}'.format(i)], t=lister, d =dictionary)"
   ]
  },
  {
   "cell_type": "code",
   "execution_count": 212,
   "metadata": {},
   "outputs": [
    {
     "data": {
      "text/plain": [
       "[0,\n",
       " 0.3046639797205001,\n",
       " 0.2826470786449432,\n",
       " 0.29089393092560334,\n",
       " 0.3156667655043869,\n",
       " 0.35671059224410706,\n",
       " 0.3415964487498513,\n",
       " 0.327230236677002,\n",
       " 0.3593646465638992,\n",
       " 0.3248551440422413,\n",
       " 0.3409905926804197,\n",
       " 0.33560914689298293,\n",
       " 0.33564492542214763,\n",
       " 0.31756473207253805,\n",
       " 0.3212423547461851,\n",
       " 0.33763443663919995,\n",
       " 0.3614819470636016,\n",
       " 0.35697747804138935,\n",
       " 0.34387060136093256,\n",
       " 0.35421030695551936]"
      ]
     },
     "execution_count": 212,
     "metadata": {},
     "output_type": "execute_result"
    }
   ],
   "source": [
    "gCH"
   ]
  },
  {
   "cell_type": "code",
   "execution_count": 216,
   "metadata": {},
   "outputs": [
    {
     "data": {
      "text/plain": [
       "20"
      ]
     },
     "execution_count": 216,
     "metadata": {},
     "output_type": "execute_result"
    }
   ],
   "source": [
    "len(gCH)"
   ]
  },
  {
   "cell_type": "code",
   "execution_count": 217,
   "metadata": {},
   "outputs": [
    {
     "data": {
      "text/plain": [
       "[<matplotlib.lines.Line2D at 0x206bcb04df0>]"
      ]
     },
     "execution_count": 217,
     "metadata": {},
     "output_type": "execute_result"
    },
    {
     "data": {
      "image/png": "[encoded data removed]",
      "text/plain": [
       "<Figure size 432x288 with 1 Axes>"
      ]
     },
     "metadata": {
      "needs_background": "light"
     },
     "output_type": "display_data"
    }
   ],
   "source": [
    "plt.plot(gCH)"
   ]
  },
  {
   "cell_type": "code",
   "execution_count": 229,
   "metadata": {},
   "outputs": [
    {
     "name": "stdout",
     "output_type": "stream",
     "text": [
      "The maximum number is 0.3614819470636016 and its corresponding number of topics is 16\n"
     ]
    }
   ],
   "source": [
    "print(\"The maximum number is\", max(gCH), \"and its corresponding number of topics is\", np.argmax(gCH))"
   ]
  },
  {
   "cell_type": "code",
   "execution_count": 230,
   "metadata": {},
   "outputs": [
    {
     "data": {
      "text/html": [
       "\n",
       "\n",
       "<link rel=\"stylesheet\" type=\"text/css\" href=\"https://cdn.jsdelivr.net/gh/bmabey/pyLDAvis/pyLDAvis/js/ldavis.v1.0.0.css\">\n",
       "\n",
       "<div id=\"ldavis_el2328422288433984169424502837\"></div>\n",
       "<script type=\"text/javascript\">\n",
       "\n",
       "var ldavis_el2328422288433984169424502837_data = {\"mdsDat\": {\"x\": [0.05890173701967102, 0.015629837180984374, -0.021401446555956972, -0.011540651099286217, 0.023930694173516235, 0.03769096833095212, 0.01350890436942047, -0.03214502858935579, -0.04980692947799646, 0.01839828429134615, 0.04095971390799637, -0.0017907676607421224, -0.038938430611483055, -0.030845694693394248, 0.0006528491720224575, -0.023204039757694382], \"y\": [0.0014026810463357302, -0.05241061756382189, -0.028531194497222294, 0.0465747574962197, -0.029209893086830897, -0.01582391026537031, 0.04551110562970427, -0.04391877030954215, 0.011841435842621068, 0.02049198729116218, 0.025568748970682707, 0.014000496583374086, -0.010726126354111201, 0.032317491394720795, -0.02419145058307757, 0.007103258405155783], \"topics\": [1, 2, 3, 4, 5, 6, 7, 8, 9, 10, 11, 12, 13, 14, 15, 16], \"cluster\": [1, 1, 1, 1, 1, 1, 1, 1, 1, 1, 1, 1, 1, 1, 1, 1], \"Freq\": [13.959214099510199, 11.218209497385017, 7.447488779607643, 6.216918367941647, 6.127882289294382, 5.828763628848769, 5.765540081612977, 5.7219564088128765, 5.252616233804627, 5.187865679195084, 5.125645423612609, 4.835206355874937, 4.72796147259107, 4.542538464150748, 4.1980277913277515, 3.844165426429671]}, \"tinfo\": {\"Term\": [\"hplno\", \"actuals\", \"iferc\", \"enron\", \"lottery\", \"adobe\", \"agent\", \"mmbtu\", \"statement\", \"software\", \"attached\", \"meter\", \"daily\", \"utility\", \"claim\", \"prize\", \"winning\", \"eastrans\", \"texas\", \"stanford\", \"tenaska\", \"cialis\", \"search\", \"congratulation\", \"actual\", \"winner\", \"enserch\", \"hplnl\", \"stationery\", \"website\", \"squirrelmail\", \"softwaremad\", \"mailwisconsin\", \"cowtrap\", \"statement\", \"johansen\", \"mybill\", \"stefano\", \"soussan\", \"vinoble\", \"orion\", \"stink\", \"rating\", \"outsourcing\", \"mariner\", \"iasts\", \"coliseum\", \"igsupdate\", \"lorriain\", \"nside\", \"publisher\", \"realmoney\", \"belief\", \"contest\", \"projection\", \"expectation\", \"differ\", \"kponton\", \"uncertainty\", \"materially\", \"errrectlon\", \"feedback\", \"outlook\", \"stock\", \"advice\", \"murphy\", \"investing\", \"meaning\", \"social\", \"cialls\", \"imagine\", \"sport\", \"projecthoneypot\", \"qmail\", \"performance\", \"security\", \"within\", \"subscriber\", \"request\", \"viagra\", \"company\", \"ready\", \"registered\", \"provided\", \"click\", \"report\", \"investment\", \"email\", \"looking\", \"enron\", \"money\", \"message\", \"price\", \"market\", \"forward\", \"option\", \"information\", \"credit\", \"louise\", \"please\", \"order\", \"energy\", \"business\", \"would\", \"subject\", \"listbot\", \"enerfin\", \"iteration\", \"endorsement\", \"payback\", \"quotetalk\", \"myfantasysweeps\", \"hesse\", \"comparative\", \"complexity\", \"enside\", \"stefanie\", \"rowdy\", \"hanover\", \"inclement\", \"unresolved\", \"recorder\", \"clair\", \"pavel\", \"organizational\", \"weird\", \"anger\", \"creditex\", \"freedombuilder\", \"telesys\", \"motown\", \"patton\", \"millicent\", \"tardiness\", \"gloria\", \"percent\", \"reinhardt\", \"bloomberg\", \"brown\", \"announcement\", \"president\", \"weekend\", \"enronxgate\", \"quarter\", \"interview\", \"video\", \"partnership\", \"enron\", \"industry\", \"financial\", \"share\", \"market\", \"turbine\", \"model\", \"count\", \"company\", \"service\", \"houston\", \"transaction\", \"investment\", \"analyst\", \"weather\", \"trading\", \"contract\", \"energy\", \"report\", \"price\", \"management\", \"account\", \"group\", \"please\", \"business\", \"would\", \"thanks\", \"month\", \"information\", \"subject\", \"vince\", \"email\", \"meter\", \"iferc\", \"creoleart\", \"talon\", \"gbhzivjwl\", \"actuals\", \"localized\", \"diabetic\", \"habiba\", \"scotiabank\", \"hotties\", \"duplicate\", \"hovad\", \"vitro\", \"dreamweaver\", \"bedroom\", \"creditor\", \"heartland\", \"corey\", \"jameika\", \"r\\u00e1dio\", \"homesite\", \"gsvdvs\", \"discard\", \"bbbbb\", \"berkeley\", \"christie\", \"german\", \"valve\", \"stingray\", \"native\", \"severson\", \"patrick\", \"wharton\", \"daily\", \"enron\", \"weekly\", \"software\", \"industrial\", \"bankruptcy\", \"stanford\", \"kaminski\", \"vince\", \"report\", \"summer\", \"power\", \"status\", \"graphic\", \"subject\", \"suite\", \"application\", \"steve\", \"project\", \"please\", \"email\", \"message\", \"regard\", \"professional\", \"business\", \"would\", \"thanks\", \"attached\", \"louise\", \"information\", \"energy\", \"hplnl\", \"crescendo\", \"centana\", \"killing\", \"energyclear\", \"particia\", \"nerissa\", \"stroud\", \"enronanywhere\", \"kerrville\", \"teleconference\", \"xtreme\", \"tycholiz\", \"finer\", \"submitting\", \"experiencing\", \"robin\", \"sidebacks\", \"aircraft\", \"edmondson\", \"dukepower\", \"judds\", \"rossman\", \"lineinc\", \"econnect\", \"snapshot\", \"retroactive\", \"ripley\", \"submit\", \"kopper\", \"enqines\", \"metric\", \"visitor\", \"cialis\", \"tadalafil\", \"amitava\", \"search\", \"quickly\", \"invested\", \"congratulation\", \"alliance\", \"website\", \"volume\", \"engine\", \"promotion\", \"medication\", \"video\", \"money\", \"product\", \"david\", \"sheet\", \"month\", \"effort\", \"meter\", \"online\", \"brand\", \"enron\", \"attached\", \"simply\", \"louise\", \"original\", \"power\", \"company\", \"please\", \"business\", \"vince\", \"thanks\", \"price\", \"message\", \"would\", \"thinkpad\", \"schlitterbahn\", \"aepin\", \"rollinginthedough\", \"unsub\", \"netcoonline\", \"roaring\", \"unsolder\", \"crosoft\", \"karthik\", \"stratify\", \"jobsonline\", \"ejrhxw\", \"digitalgogetter\", \"buyonlinrmeds\", \"freeport\", \"swbell\", \"couplez\", \"rubbed\", \"internally\", \"emessaging\", \"gaming\", \"tamara\", \"folosko\", \"vlagr\", \"blackjack\", \"lyfdad\", \"interruptible\", \"promos\", \"hillings\", \"coupon\", \"moore\", \"bobby\", \"oasis\", \"goodbye\", \"jackie\", \"invited\", \"verification\", \"availability\", \"kevin\", \"difference\", \"attached\", \"method\", \"download\", \"offer\", \"sitara\", \"window\", \"please\", \"vince\", \"report\", \"advertisement\", \"instant\", \"discussion\", \"request\", \"order\", \"enron\", \"adobe\", \"marketing\", \"thanks\", \"price\", \"email\", \"review\", \"professional\", \"program\", \"people\", \"would\", \"message\", \"information\", \"january\", \"first\", \"subject\", \"system\", \"volume\", \"seekercenter\", \"eletrobolt\", \"dynegydirect\", \"wysak\", \"covenant\", \"byrdshot\", \"refianance\", \"businessweek\", \"nebraska\", \"wyoming\", \"ajrule\", \"idleness\", \"excerpt\", \"internetstore\", \"kucho\", \"golfboxx\", \"emerson\", \"dripping\", \"wmeon\", \"ashland\", \"amendment\", \"filthy\", \"kiodex\", \"vibrator\", \"bichromate\", \"dentist\", \"hadix\", \"bizarre\", \"skewness\", \"ksiazki\", \"miracle\", \"nomad\", \"legislature\", \"mortgage\", \"gretan\", \"cubic\", \"wellesley\", \"search\", \"limit\", \"click\", \"article\", \"mailing\", \"enter\", \"product\", \"power\", \"different\", \"website\", \"control\", \"report\", \"trading\", \"enron\", \"email\", \"thing\", \"please\", \"louise\", \"energy\", \"offer\", \"price\", \"vince\", \"forward\", \"would\", \"message\", \"subject\", \"month\", \"group\", \"company\", \"thanks\", \"southtrust\", \"nowbuy\", \"calpine\", \"knudsen\", \"winding\", \"shiloh\", \"shahalam\", \"patsy\", \"barely\", \"borealis\", \"salal\", \"lnside\", \"mihura\", \"ricky\", \"unsuccessful\", \"jinbaek\", \"laptop\", \"subtracted\", \"midsection\", \"cortisol\", \"resubmitted\", \"petronas\", \"vanheuser\", \"proverb\", \"wearable\", \"archer\", \"naprosyn\", \"rxonlinenation\", \"taker\", \"hinet\", \"parra\", \"cokinos\", \"foreigner\", \"tenaska\", \"vance\", \"cleburne\", \"storage\", \"aimee\", \"margin\", \"meter\", \"faster\", \"survey\", \"megan\", \"pharmacy\", \"cotten\", \"enron\", \"entex\", \"prescription\", \"ticket\", \"demand\", \"shipping\", \"thanks\", \"daren\", \"please\", \"online\", \"nomination\", \"texas\", \"october\", \"approved\", \"williams\", \"daily\", \"energy\", \"click\", \"mmbtu\", \"louise\", \"software\", \"attached\", \"request\", \"month\", \"vince\", \"email\", \"would\", \"subject\", \"business\", \"regard\", \"netherlands\", \"hplno\", \"lottery\", \"pizdet\", \"agent\", \"dailyupdate\", \"batch\", \"embroidery\", \"contingency\", \"prize\", \"ricki\", \"pepper\", \"guadalupe\", \"remitted\", \"exhibit\", \"panhandle\", \"millenium\", \"cyberhand\", \"rogervas\", \"winning\", \"thambo\", \"glide\", \"harrd\", \"tobacco\", \"torre\", \"istediginiz\", \"complication\", \"californian\", \"xported\", \"leschber\", \"winner\", \"drawn\", \"claim\", \"correspondence\", \"inform\", \"avoid\", \"award\", \"lucky\", \"category\", \"ballot\", \"promotion\", \"international\", \"attached\", \"approved\", \"number\", \"february\", \"participant\", \"holiday\", \"august\", \"congratulation\", \"program\", \"account\", \"enron\", \"contact\", \"payment\", \"april\", \"please\", \"message\", \"email\", \"smartmortgageusa\", \"egmnom\", \"aerofoam\", \"cotton\", \"dsktotalinter\", \"notwill\", \"nominate\", \"ivanhoe\", \"exclude\", \"pserc\", \"fundy\", \"handy\", \"juanita\", \"valley\", \"benoit\", \"mockups\", \"samira\", \"bottle\", \"bennington\", \"blonde\", \"fabulous\", \"cplex\", \"lamar\", \"eastrans\", \"calculator\", \"pinnacle\", \"roller\", \"andreas\", \"saave\", \"botox\", \"imaqe\", \"contributeto\", \"visual\", \"cartwheel\", \"clayton\", \"chokshi\", \"adobe\", \"carthage\", \"sample\", \"software\", \"mmbtu\", \"packaqes\", \"redeliveries\", \"reliantenergy\", \"location\", \"enron\", \"professionai\", \"offer\", \"thanks\", \"company\", \"answer\", \"email\", \"interest\", \"meeting\", \"please\", \"question\", \"information\", \"vince\", \"attached\", \"would\", \"subject\", \"price\", \"message\", \"cdnow\", \"benin\", \"aybar\", \"keyspan\", \"clickpaper\", \"analyse\", \"safepaym\", \"truong\", \"ideaglobal\", \"jayant\", \"krishnaswamy\", \"epower\", \"bodisen\", \"qualifies\", \"managerlpc\", \"copier\", \"saudi\", \"acock\", \"timeshare\", \"aiesec\", \"equate\", \"crash\", \"brooklyn\", \"bijoya\", \"urplea\", \"rfuler\", \"xualpow\", \"epowe\", \"kilims\", \"pazirik\", \"cable\", \"hoping\", \"phelim\", \"consideyellow\", \"tonight\", \"wiggs\", \"dealsuwant\", \"blackberry\", \"accrued\", \"square\", \"sender\", \"brent\", \"paypal\", \"compare\", \"stress\", \"pound\", \"handheld\", \"broker\", \"shirley\", \"louise\", \"draft\", \"technical\", \"removed\", \"calger\", \"account\", \"friday\", \"enron\", \"would\", \"enronxgate\", \"number\", \"problem\", \"meeting\", \"please\", \"credit\", \"final\", \"today\", \"order\", \"click\", \"information\", \"subject\", \"product\", \"email\", \"global\", \"review\", \"company\", \"vince\", \"message\", \"customer\", \"thanks\", \"ponton\", \"eileen\", \"bellamy\", \"enserch\", \"avila\", \"hplnol\", \"contemporary\", \"variant\", \"remembered\", \"rhythm\", \"satisfactory\", \"stone\", \"charlie\", \"eyeforenergy\", \"turnaround\", \"wacog\", \"discountherbals\", \"charm\", \"dynamic\", \"uniimited\", \"scheduling\", \"needsand\", \"nella\", \"dolores\", \"orangestar\", \"blanchard\", \"jacqueline\", \"bambos\", \"zhendong\", \"allex\", \"additionai\", \"severai\", \"utility\", \"satisfaction\", \"actual\", \"melissa\", \"fiexible\", \"format\", \"improvement\", \"texas\", \"sometimes\", \"competitor\", \"stanford\", \"yates\", \"competitive\", \"corporate\", \"business\", \"adobe\", \"mmbtu\", \"creative\", \"enron\", \"company\", \"meter\", \"energy\", \"jones\", \"subject\", \"vince\", \"david\", \"attached\", \"please\", \"freelotto\", \"nepel\", \"kinja\", \"brinq\", \"diamant\", \"housewife\", \"revamping\", \"artwork\", \"loqos\", \"breathing\", \"freightmart\", \"fujita\", \"lastest\", \"lorena\", \"rxand\", \"carefui\", \"routing\", \"breath\", \"vchhzpop\", \"masayuki\", \"logodentity\", \"nazareth\", \"wqxtxqft\", \"undeservedly\", \"swallowed\", \"saguoro\", \"priceson\", \"charitywerks\", \"resending\", \"catchy\", \"promptness\", \"jason\", \"surethat\", \"japanese\", \"creativeness\", \"letsyou\", \"stationery\", \"ciick\", \"fresh\", \"visuai\", \"custom\", \"sampies\", \"thinking\", \"house\", \"budget\", \"stand\", \"offer\", \"identity\", \"business\", \"creative\", \"front\", \"address\", \"click\", \"account\", \"number\", \"prescription\", \"please\", \"company\", \"success\", \"information\", \"enron\", \"original\", \"marketing\", \"email\", \"price\", \"subject\", \"would\", \"thanks\", \"market\", \"visit\", \"online\", \"vince\", \"expedia\", \"baylor\", \"officialisation\", \"pagel\", \"mypersonalnirvana\", \"bloody\", \"referral\", \"armandina\", \"abler\", \"lotsonet\", \"bodyhtml\", \"rndlen\", \"myloaniq\", \"martinj\", \"mmmnan\", \"bollerslev\", \"erect\", \"bombet\", \"amateur\", \"sundae\", \"knight\", \"longz\", \"rxonlinesale\", \"winhundred\", \"anonymous\", \"macbarron\", \"garage\", \"realizable\", \"sukaly\", \"cirque\", \"theatre\", \"martin\", \"regalis\", \"ercot\", \"collins\", \"hottest\", \"dinner\", \"mmbtu\", \"delivery\", \"enron\", \"vince\", \"cialis\", \"actuals\", \"november\", \"daily\", \"capacity\", \"finance\", \"would\", \"march\", \"kaminski\", \"software\", \"great\", \"meeting\", \"message\", \"please\", \"update\", \"subject\", \"meter\", \"today\", \"interested\", \"second\", \"thought\", \"regard\", \"company\", \"model\", \"thanks\", \"information\", \"attached\", \"osman\", \"wininstall\", \"idash\", \"karlene\", \"anitha\", \"requisition\", \"bitran\", \"angler\", \"yfdjedbe\", \"searcher\", \"proforma\", \"heartwarmers\", \"rupee\", \"godbole\", \"mingle\", \"blest\", \"ursuline\", \"teeth\", \"sarcasm\", \"resumevalet\", \"amatuer\", \"martinisblue\", \"curvetrade\", \"whitening\", \"unipal\", \"gucci\", \"chanel\", \"technomarine\", \"movado\", \"dunhill\", \"roseville\", \"accrual\", \"sezgen\", \"carroll\", \"midwest\", \"xanaax\", \"rodrigo\", \"executive\", \"krishna\", \"sdsnom\", \"elizabeth\", \"iaagra\", \"probability\", \"pooling\", \"enrollment\", \"summary\", \"contract\", \"marketing\", \"website\", \"visit\", \"interview\", \"vince\", \"issue\", \"enron\", \"quality\", \"point\", \"think\", \"report\", \"attached\", \"please\", \"group\", \"world\", \"question\", \"business\", \"would\", \"today\", \"thanks\", \"email\", \"following\", \"company\", \"contact\", \"power\", \"afeet\", \"pepsi\", \"humorous\", \"aicohol\", \"wassup\", \"wassupsouthparkl\", \"berkeland\", \"thebestmortage\", \"slide\", \"swpvfdwt\", \"apodaca\", \"entergy\", \"nineteenshots\", \"ispvip\", \"bundle\", \"dunham\", \"cllck\", \"outtage\", \"prudency\", \"xlwdm\", \"cnbxj\", \"pgypsb\", \"brrdigh\", \"gqlbthijg\", \"bkmtvvwd\", \"newvatrfacs\", \"mlcrosoft\", \"reiterate\", \"ecourse\", \"mulong\", \"backoffice\", \"likewise\", \"shona\", \"exactiy\", \"request\", \"resume\", \"cialls\", \"analyst\", \"loaded\", \"submitted\", \"enron\", \"access\", \"columbia\", \"requested\", \"shankman\", \"thank\", \"group\", \"kaminski\", \"information\", \"company\", \"would\", \"email\", \"meeting\", \"approval\", \"discus\", \"minute\", \"order\", \"vince\", \"please\", \"business\", \"program\", \"price\", \"today\", \"account\", \"thanks\", \"process\", \"money\", \"cilco\", \"enronoptions\", \"highstar\", \"skydive\", \"midtex\", \"entonces\", \"belize\", \"telesal\", \"acadian\", \"raider\", \"vetoed\", \"hasta\", \"majordomo\", \"anvasetc\", \"kernel\", \"imbalance\", \"mortal\", \"cecks\", \"penalty\", \"friee\", \"cpproved\", \"aredit\", \"andel\", \"infolink\", \"infolinkca\", \"bluff\", \"chocolate\", \"hershey\", \"ghirardelli\", \"sweepsatstake\", \"memorandum\", \"epson\", \"iferc\", \"export\", \"albany\", \"ranabir\", \"actuals\", \"notification\", \"foster\", \"enron\", \"outage\", \"billing\", \"recipient\", \"delivery\", \"christine\", \"energy\", \"transcript\", \"derivative\", \"please\", \"survey\", \"think\", \"contract\", \"december\", \"daily\", \"kitchen\", \"group\", \"message\", \"credit\", \"email\", \"original\", \"market\", \"vince\", \"louise\", \"subject\", \"information\", \"approval\", \"question\", \"attached\", \"address\", \"thanks\"], \"Freq\": [4.0, 5.0, 2.0, 31.0, 2.0, 6.0, 3.0, 7.0, 6.0, 8.0, 11.0, 7.0, 6.0, 3.0, 4.0, 2.0, 2.0, 2.0, 4.0, 2.0, 3.0, 3.0, 3.0, 3.0, 2.0, 2.0, 1.0, 1.0, 2.0, 7.0, 1.481749268551234, 0.6240542316762575, 1.011357332546769, 0.5443683553117649, 4.393077527158106, 0.5591718865159137, 0.5043841990222034, 0.4992395502625239, 0.4982435521627707, 0.6672820434752562, 0.4896990870892432, 0.4922081455004788, 1.291771024265723, 0.560998551071161, 0.5397947997608231, 0.6984423768005251, 0.46090928760127686, 0.45888650816311866, 0.45649070641742273, 0.45452872387560184, 1.2089506446255123, 0.4580908576415908, 0.9806220644418836, 0.5515189168600912, 0.964604839922141, 1.104546853731592, 0.9245214076879276, 0.417115320738074, 0.94429322534698, 0.6043433391770366, 1.0920546306962144, 2.4944681822226196, 1.3353062195290093, 3.5822280380729326, 1.483910251904589, 0.9007167292385027, 1.0579799583833351, 0.8228622631785496, 1.323941945663231, 1.2488162213145173, 1.0902090472755457, 0.913934410598107, 1.0755841229873244, 0.7310654270157314, 1.9252563424204265, 2.616245135167147, 2.4343149121001564, 1.0635111933150831, 2.725180603581093, 2.2119280741620466, 4.054314142442948, 1.6690493710740395, 1.05153420473664, 1.525786487131533, 2.488364892105926, 2.9045404262206596, 1.9451943895681987, 2.7208363190263603, 1.7240363159062728, 3.754558764693353, 1.9934640469361293, 2.1967819511644024, 2.1555208676565165, 1.9666565918197172, 1.7462085848626925, 1.5987172383008803, 1.8949274130657445, 1.6340692226225673, 1.7582245655434279, 1.882946191791987, 1.6607713734100915, 1.6479996642204549, 1.6767097800125361, 1.6654633802980954, 1.6049236522670576, 0.5755338126500669, 0.5306657980425444, 0.5213788382449724, 0.49351785577433666, 0.6160587937254208, 0.4925802590162083, 0.4660098636399158, 0.5004026361908838, 0.4561020139926751, 0.41451476341524407, 0.3939854556822707, 0.3918194535848937, 0.3902834895025639, 0.4071263442827543, 0.3848679559847826, 0.3842469888266741, 0.38363455136642566, 0.8005940395740753, 0.3874876297764992, 0.5412362325579964, 0.37942033946447623, 0.3857888283504301, 0.3469309522408192, 0.34668122021072295, 0.3387243521202419, 0.3355296066141895, 0.33295077744817747, 0.3328133488116587, 0.32902554449427257, 0.39218414326500123, 1.0819922250878353, 0.5100100652409867, 0.579413150160199, 0.8951966866147043, 1.0464307550826393, 1.1857185049621783, 1.2719363816979266, 1.2405990448444566, 0.9411886113203196, 1.370300651264323, 1.0995500025499945, 0.8254626184951457, 5.5701477173940255, 1.0598143921841554, 1.4767401481425637, 1.37186774487842, 2.03540979465253, 0.8970668293128929, 1.5283606426566225, 0.9204854111367127, 2.6906672658597652, 1.7933486171889008, 1.798470352865889, 1.3466504533548045, 1.4310011766520372, 1.146206264448457, 0.8937405048422682, 1.4310345738980392, 1.4461795034144784, 1.5715675050482676, 1.7317539939251965, 1.5728350542275449, 1.2089386617904618, 1.3632033241772328, 1.3934481381591763, 1.552050113253569, 1.4348061949820232, 1.4190172346229295, 1.37821219083959, 1.2586510809318605, 1.335262301701904, 1.3440968009706937, 1.3154081543433525, 1.261978848493362, 1.2105960516622678, 1.4973743745152797, 0.3824576110073832, 0.37908677559402304, 0.37632778044195225, 2.651048217882931, 0.8780870571611433, 0.33090899120781087, 0.3305111684408938, 0.3100745677616604, 0.29693368831464223, 0.3854278179888321, 0.29127770719438506, 0.41412436484175214, 0.48982151432327, 0.3554437446270025, 0.4507286784807373, 0.2755806274296917, 0.28779105256144855, 0.2695998392632193, 0.2673409710040725, 0.4581036084258976, 0.2649139510301227, 0.2788099136225533, 0.2579880643457365, 0.4314874621661537, 0.6956502648249413, 0.40378264945781883, 0.24370550164636554, 0.23892793317727049, 0.43389910230577566, 0.33297180507163343, 0.47010648277893946, 0.62577469912919, 1.7439815154278708, 5.754883137950676, 1.1182660089869723, 1.9908551260840543, 0.710709363742302, 0.7590934671518659, 0.7383240872319827, 1.551327859799976, 1.923017157482605, 1.5174766220442324, 0.6718147036515526, 1.1525929096055079, 0.8085615152811282, 0.6648360567791053, 1.2425552574573169, 0.70490451130022, 0.7747574263834573, 0.7329350206558659, 0.8636560166173554, 1.129216040443239, 1.0596696271529014, 1.0113893333481216, 0.8366422528832549, 0.7509821527920165, 0.9385600867220458, 0.9305542243074651, 0.9070238647407592, 0.8761761940075538, 0.7707115206001588, 0.7740563522891827, 0.7202876303089806, 0.8283002305746731, 0.306541171673432, 0.28047745636642996, 0.38454917861819315, 0.2678366684045607, 0.25933001719231547, 0.2556722074400142, 0.25175302763599494, 0.24918668276800673, 0.2487557692098963, 0.23880761260751027, 0.22271543182741965, 0.2640007180105192, 0.21524289318128736, 0.37706695748407787, 0.40684303579425873, 0.2219416610842123, 0.27874763276111414, 0.21159629397923185, 0.23378301542543253, 0.201946180922871, 0.201756515549859, 0.19792423536143935, 0.19752269772925962, 0.19682410193699987, 0.2423404782781549, 0.2621047212043625, 0.2173967754859646, 0.8536552677346719, 0.20981895763421188, 0.22347472168151972, 0.3202778230539783, 0.3421578466949831, 0.9271408958674113, 0.3621577539525998, 0.30104685957653315, 0.855196354229098, 0.6842197253674799, 0.3204002394064712, 0.8684922667539936, 0.32857377304542545, 1.3460975238619166, 1.166694331387771, 0.5558698071413664, 0.6783056388579378, 0.6555707000832841, 0.5989526515027955, 0.9784520270520526, 0.8864564523346193, 0.6991045941503989, 0.4514898447411888, 0.7639565276887446, 0.5226725830771942, 0.7657403904305318, 0.744941892128654, 0.46749416908164615, 1.2315369537429826, 0.8255048191768217, 0.4345164718689114, 0.7482170293912911, 0.667085548933715, 0.6395003406035445, 0.7591537280300649, 0.7048224032044272, 0.6673437486132614, 0.6894178790045095, 0.6562717807618403, 0.6456424082903145, 0.6291625281241437, 0.6274834304735707, 0.3346326339026878, 0.33213029511010506, 0.38120585360355697, 0.3368508821867881, 0.2865626955621437, 0.26134961366682313, 0.2558081736562562, 0.2537800134816865, 0.28536118781058156, 0.24387274058107675, 0.2381189435488585, 0.23811863386740045, 0.3032803986298802, 0.2346763977731687, 0.2296740991046583, 0.23115850086816034, 0.24010462105795405, 0.21532583925470605, 0.2152054717025292, 0.2732997988405502, 0.2106903723497004, 0.22878383529487872, 0.27821830052179497, 0.26482970128108807, 0.20474469950135274, 0.20820470005013336, 0.20114810127670682, 0.21998945901953557, 0.1974506595081719, 0.18840073972420768, 0.614990720688254, 0.6922488121198065, 0.3775896469120437, 0.377387593837088, 0.296327627603484, 0.6481088440935123, 0.33925781093742785, 0.4008495396985055, 0.5107924820226273, 0.7604874592381541, 0.4480228939122396, 1.5180214582579081, 0.44256847439138813, 0.5889112626847144, 0.9049842082071111, 0.6625147187710941, 0.608203178796164, 1.136744800211894, 1.053803322050543, 0.9872715828233151, 0.5166936592760234, 0.4401940340409851, 0.5552415684497873, 0.8098774288701187, 0.761510477858433, 1.348740789588785, 0.7004813840009348, 0.6520170240942587, 0.8339805561140242, 0.8192564978147134, 0.8345634892295368, 0.6743930859994106, 0.6126801028710717, 0.6823341631699229, 0.6358196140289266, 0.7800543161786433, 0.7447076686954489, 0.7291667270154893, 0.5848222287124597, 0.6082979413223311, 0.6654932913404571, 0.5996750581926048, 0.5926730478143768, 0.6185443174810499, 0.2906943688124802, 0.2863657888009214, 0.5797548120111987, 0.26696774229304293, 0.24672582044318087, 0.24658140322745029, 0.2963405918983988, 0.2436950673109809, 0.5290331186146793, 0.23200179842728474, 0.2806896004147242, 0.2264623953438785, 0.22497484178670565, 0.2249646391241443, 0.22125301224316526, 0.3347096459118833, 0.21450221034711084, 0.21440247329537926, 0.2137188413464852, 0.36665857408873276, 0.23668632014688926, 0.29074163311542184, 0.20116370187345314, 0.20039569042395328, 0.2490971495187583, 0.19805231825051245, 0.2087511622675009, 0.19316485459331956, 0.18789761623679588, 0.2889864270325255, 0.3325191262263694, 0.3196919960876271, 0.6446100048125831, 0.2315886575401549, 0.2809363655997709, 0.263894062997888, 0.6382975291163592, 0.41705517477266746, 1.054190617945425, 0.475139869986885, 0.6619504608133061, 0.47111846777648425, 0.7771507321916226, 0.7405733032140094, 0.4365240775669956, 0.6948408457031984, 0.47952155204531816, 0.804973687561478, 0.6086912768682613, 1.0650060829478587, 0.7378624477378668, 0.5740299132753975, 0.7528239963073564, 0.6559981042932633, 0.6229729157200802, 0.5551097851893888, 0.6044214224183746, 0.6356069182934879, 0.5378544317126028, 0.6075620215396209, 0.5966087536460042, 0.5671225768281558, 0.5092065870578661, 0.5106198031051432, 0.5109361659804706, 0.4807890387234119, 0.2945187490226144, 0.2839399001746283, 0.8492113830695555, 0.28632436602994327, 0.25702287776280236, 0.24693040485388862, 0.22823687594323186, 0.22633017736888014, 0.2589065316216006, 0.21784709971549943, 0.2020873087797838, 0.2008262065872538, 0.18784378066295054, 0.3078559443696366, 0.2976694914023507, 0.1865267619249799, 0.3232561450340922, 0.18284963321209818, 0.1826932337603907, 0.18260090921319339, 0.1823515759861763, 0.18058609913708132, 0.1785743881778885, 0.19671228780600788, 0.1747664740821961, 0.2943582041709252, 0.17258064307968055, 0.1706925656950232, 0.17137271590608574, 0.16919916217444264, 0.19788290637976697, 0.25391393372920784, 0.2688158387741324, 0.8481645172671365, 0.5459835062757059, 0.49578268600857966, 0.5685290256115735, 0.44038952049275176, 0.42892895963714656, 1.385151843377983, 0.28725288264949683, 0.7877605564800821, 0.48620090518687403, 0.5160711476291463, 0.4633420306958368, 2.472553035573781, 0.36378610473421813, 0.6167379878095153, 0.656697471602888, 0.5327598657511868, 0.5197454288628073, 0.9900917816543191, 0.7521851311594175, 1.111542094540615, 0.8366271671811985, 0.6066515542053673, 0.6170900686820864, 0.5861834497561987, 0.48142953656379467, 0.4375789393051278, 0.6134844448078675, 0.6772927722866403, 0.6654647939029404, 0.6077878970757629, 0.6457198697112904, 0.6247990822864794, 0.6598112099968448, 0.5921645335049417, 0.575064083131679, 0.5993350424343897, 0.5907202920442086, 0.5822976869030216, 0.5802756852863662, 0.5789163649268566, 0.5579997096579379, 0.5980203225601066, 2.562348524651057, 1.5693060247921014, 0.31550600491589215, 1.4074700706204413, 0.2784836395104662, 0.6643654718117776, 0.2950566908427389, 0.45295029437810297, 1.1637918551931807, 0.2501948131433286, 0.2958765592923068, 0.3263914488988123, 0.3789514360324459, 0.31830164907410025, 0.28290679667307334, 0.2451329377647682, 0.23235010872719683, 0.23160886752312906, 1.019420876062444, 0.2336545165913612, 0.22245532597686501, 0.22234523206039744, 0.21798782104991193, 0.2126094782373986, 0.2099617432055049, 0.3196379179284171, 0.23019457604606253, 0.2042890542653203, 0.22119673800200412, 0.8691042996835453, 0.335325617538457, 1.3309552192826177, 0.4094564150834337, 0.6229712633136931, 0.6031855358530973, 0.6468487095178839, 0.4781640094366106, 0.6041640257668404, 0.36953401608754255, 0.7982328393704566, 0.9434272621113725, 1.855441901271596, 0.6859176966455317, 1.2022891846542805, 0.7817324742079625, 0.6088070027311432, 0.5878664458172476, 0.8389596495038615, 0.6766538771671804, 0.8970653153681732, 0.8182006897186568, 1.383928899817266, 0.7491146540996091, 0.6427926372286179, 0.6326269834860985, 0.7789856993407557, 0.7098821033740002, 0.6461844657066846, 0.4609527229474283, 0.5241221085283443, 0.4894149919673079, 0.5793532774711105, 0.26620738572991964, 0.2639055601486939, 0.4239618313108458, 0.2587169326384083, 0.2482253899241223, 0.24023541080645014, 0.23810291730858524, 0.2814614626673453, 0.2406664993538577, 0.6091616605388791, 0.2689998086112348, 0.2321331469255062, 0.2309654626088942, 0.3558518678825866, 0.22302502585507267, 0.31253885902679107, 0.23268569027917788, 0.2143074038259596, 0.2228511328819077, 0.8510920572656919, 0.26178230908889755, 0.3604533954561347, 0.20303124327521987, 0.24634630332484264, 0.35882827078435825, 0.22861361202997607, 0.30617957900176707, 0.3293874857821214, 0.5602966250216891, 0.36993049009854884, 0.44390735050652846, 0.4769698439885836, 1.1726031276730935, 0.3863653548613887, 0.4570933896956484, 1.1703417950711865, 0.9334507230757288, 0.3019985220311091, 0.3434661562614678, 0.29289090772620935, 0.44148858274545844, 1.1547803286399814, 0.36681892558940876, 0.5868657145341114, 0.6432519710502212, 0.7142634808714041, 0.4231952639800717, 0.6000534912050615, 0.4672023485636178, 0.5364959232252652, 0.5768515932160362, 0.4773006412236856, 0.501134113857961, 0.5069783753105057, 0.5001363649170121, 0.4758257604668308, 0.46879238575510257, 0.45568873216276107, 0.44393206135922353, 0.2898479904681924, 0.27729975370472637, 0.2734639945428809, 0.24344706679426195, 0.2640523164517963, 0.23217782159970857, 0.22338919368571286, 0.2126270213849878, 0.1969446808731387, 0.22149191878242652, 0.22133871245756032, 0.19492898567970027, 0.1898648588185775, 0.18166356551262716, 0.1815109907944207, 0.2587421728381426, 0.21377535379507706, 0.17207880336255402, 0.21551053221183333, 0.19326211611905264, 0.19998082600372463, 0.26079656287732156, 0.17507642048689442, 0.15564208615681252, 0.15511921117938335, 0.15505656294899897, 0.15497316703569672, 0.1549539685766613, 0.1525114979549319, 0.15243930412201034, 0.4052262007705322, 0.28730526122705574, 0.24564381859113008, 0.17504734274633174, 0.3417698475406422, 0.18619298370928028, 0.1749426390460926, 0.597262225357704, 0.1878229936586327, 0.22342587454040624, 0.4198342379396589, 0.3350669278224643, 0.4434296326955776, 0.35746493935675444, 0.2683483857804341, 0.2629895012000176, 0.31540196172471474, 0.3361429710627777, 0.5277297683924701, 0.7820412085952707, 0.47572265633805905, 0.31933379660148487, 0.45427052940374407, 0.29491454841909986, 0.5961098411313069, 0.49244454990923675, 0.9551259826102249, 0.6391277841986942, 0.4050367187726034, 0.5543608792631304, 0.4440351647256882, 0.5500822089104029, 0.6402517580425088, 0.5074126267086418, 0.448629352397734, 0.484792527972251, 0.5038104190056271, 0.5211230197260711, 0.5381843124985703, 0.5422121515876244, 0.4741697619867316, 0.5086398503656674, 0.4031208770169414, 0.4328661185650081, 0.4920039029686446, 0.47542611105274707, 0.46134557269848325, 0.42038323521516735, 0.4175693202919636, 0.6005206645436363, 0.6002266397228528, 0.5888655922347954, 0.7393659856838838, 0.6366583543058792, 0.30321374401279483, 0.5641279460444812, 0.563983971372507, 0.5981745885509235, 0.5574582969943347, 0.3476892721835952, 0.6323590360590658, 0.6094838296473645, 0.25303433212501875, 0.6165915252869882, 0.2504744605734488, 0.23379280247293835, 0.2276756214926621, 0.5183831848274366, 0.3199702388008313, 0.6712533439192223, 0.37318833104051286, 0.21303457006120563, 0.2121007834006782, 0.21067566021238798, 0.19960856690003453, 0.1994819709176117, 0.3008842931621191, 0.23745012178582425, 0.21527689198052638, 0.28604840260146497, 0.33853637794475144, 1.0622125388956225, 0.6227817297310839, 0.8391578591482729, 0.6925030070521571, 0.2893423000771612, 0.6294632471545826, 0.5268744408002582, 1.1211910073675018, 0.4726875454889885, 0.5540109113092947, 0.5992450498918792, 0.354954200221775, 0.4514842255281906, 0.6042438015222349, 1.1972679399088058, 0.9042917746851451, 0.9413524659591153, 0.5203740102638191, 1.4867344575840475, 1.0899456306492024, 0.8030298713102781, 0.7551940157407134, 0.5960244820086802, 0.7054334585291566, 0.7093095656531829, 0.6223124580164778, 0.5906926152802305, 0.5918909913117593, 0.29731907954491293, 0.27680065764737255, 0.3466609004935856, 0.3620756739966366, 0.2433402822894267, 0.23684576980727745, 0.4667651199827159, 0.46670745239229294, 0.3454962639640412, 0.46119326673331684, 0.21330139882181695, 0.2127135714806099, 0.24146575239041088, 0.20744307359780498, 0.20033323282031013, 0.358332656411469, 0.21015222857670257, 0.4449052379732864, 0.18835265762582404, 0.18777964703454464, 0.31280764801536964, 0.2047777468761896, 0.1809862227277683, 0.18052238292737247, 0.20599374221507832, 0.17859338425650872, 0.176537321403357, 0.17232956435006938, 0.21283103920717264, 0.2270100024673837, 0.22699060962977227, 0.4288882202314226, 0.22692612233585935, 0.2932731516118994, 0.22688711452045765, 0.22690788462717779, 0.6330762293608673, 0.3857970684906028, 0.4014697689552877, 0.3440148111114565, 0.39638960077770014, 0.2806151599420861, 0.38432032500980917, 0.41497189330463646, 0.4170433949002165, 0.3852310553149564, 0.7047013314998102, 0.4321208041136858, 0.8561310037302516, 0.40005344760313444, 0.3702712915401929, 0.5819356061001402, 0.651225659535345, 0.6177421593847834, 0.5996627477946713, 0.4494275233057725, 0.6458404928922304, 0.6346396963674742, 0.41820629873636606, 0.5652548335039469, 0.7190329272768919, 0.5063292188202219, 0.47931439624901223, 0.5391112891421252, 0.5092676002496491, 0.49052070185020336, 0.489187594209038, 0.4790682205028382, 0.45525745901493064, 0.43444590093741264, 0.41804737965243455, 0.41769364363167344, 0.4763480881901855, 0.7121754921795227, 0.24655397380536692, 0.23654186134867322, 0.22722235461251308, 0.24346077224271057, 0.25130270852369996, 0.21238906686551187, 0.2116776070470851, 0.20592817153388973, 0.20188116548668375, 0.20172965934289896, 0.20127991959995073, 0.25754930140161875, 0.19041155306612498, 0.1882001715635734, 0.19736456641833322, 0.18263241309505415, 0.2597357468392148, 0.17745218453495987, 0.23816631130839921, 0.18536762573215967, 0.1642494504360579, 0.16343334820219269, 0.20359473798518377, 0.16091580482198567, 0.18045292933761337, 0.15130031264234406, 0.15128359809357814, 0.14865760020786326, 0.19295705177350775, 0.5459372602353944, 0.2686048621930986, 0.2404870378902071, 0.23850157974271005, 0.253721115840791, 0.45747118292048444, 0.8155827469928574, 0.6164779125848826, 1.7158035377889733, 0.8555205050190977, 0.42187929445863065, 0.5274690197096599, 0.5063310128566727, 0.5882397304980899, 0.4219823403577152, 0.4109128562059248, 0.6198801215169272, 0.4213686264385044, 0.5206337141414187, 0.5410675595364538, 0.46189472789278135, 0.5213994337945658, 0.542630711956716, 0.5564165763690295, 0.4265442500806801, 0.5124603323768433, 0.46176148937149447, 0.4388409883004045, 0.3987819384738926, 0.36356780533054217, 0.36425228728078535, 0.4200805092573252, 0.4907845927503026, 0.4031844572172026, 0.4368294211371614, 0.4301745327775619, 0.4292469024726912, 0.32605860377418155, 0.2441683342827554, 0.2843531432932313, 0.2053056666653895, 0.19859203164038183, 0.2262074296462733, 0.1793423558393122, 0.1725096189417732, 0.17231108799497266, 0.1837421547312734, 0.16580323604585345, 0.16523748649925235, 0.1635924218847276, 0.15919867512927144, 0.15465410495822318, 0.1545778897771325, 0.15455928467473865, 0.1764872708777918, 0.15041588767622766, 0.150186626484587, 0.14981731050644595, 0.1497767820612986, 0.1495212462494517, 0.1481290878978096, 0.14758228779930008, 0.15974179177228742, 0.1597376909280694, 0.15969665118173454, 0.15963666198730816, 0.15960723608223207, 0.20981722138833112, 0.24046023198500818, 0.19879605124890937, 0.4409180955710122, 0.41795282534459083, 0.3789039397477966, 0.1717959781353695, 0.5369723053417307, 0.2678666225871146, 0.1934176636229605, 0.27113993105056733, 0.27596191863734354, 0.20685758055132764, 0.1937911639230645, 0.23183754441195814, 0.3630585281224865, 0.6097214487254259, 0.5018314721111475, 0.5614840007923632, 0.4840497941929586, 0.38735055188742334, 0.6075663037854281, 0.43101905414792796, 0.821027913082714, 0.37369517889947784, 0.352091096781342, 0.40746484843126046, 0.5169846027980294, 0.5069129293984989, 0.5209399035678519, 0.43194507277206695, 0.34560894554293287, 0.40689256675112123, 0.4350694360691878, 0.4266465733479842, 0.37943661123798245, 0.41463429281284025, 0.40021914712971757, 0.35542448835168416, 0.39019831167682906, 0.3567178090533686, 0.35819557383240225, 0.24488232388252612, 0.23307530936961057, 0.22305181104880584, 0.2551793651467821, 0.18273164290146418, 0.1825849484342929, 0.22635916761051972, 0.1768294953557526, 0.41101425154755084, 0.16675334440605258, 0.18985972879995958, 0.1909187023877813, 0.1581736660309364, 0.15410425427768024, 0.24876137613131474, 0.171238673354227, 0.14592362689822633, 0.14498323744548247, 0.14012378553199278, 0.158624260671552, 0.15856250473099423, 0.15855246601548506, 0.1585546357666758, 0.15852040191455524, 0.15847383423233266, 0.13686814619532753, 0.16989028388757643, 0.16181005330655268, 0.13113929908805497, 0.13079014272644113, 0.24327524221390764, 0.16534663202739494, 0.30720469486447666, 0.23475299956364504, 0.7807554766581734, 0.40458013886990163, 0.36247172929452265, 0.458695623661321, 0.2367273188538002, 0.2791132058547896, 1.0605327999574246, 0.4562811631096203, 0.19051217780468432, 0.3422678933935079, 0.23644228105070736, 0.4379986659963521, 0.4692659571422239, 0.43868673749395953, 0.49120968277140764, 0.5464042957283761, 0.48242714712496526, 0.4700656985011147, 0.4142128698229235, 0.34736335637651833, 0.3213356768394311, 0.3394818557178891, 0.3864137475536846, 0.438506908515271, 0.4448408847646329, 0.41453218005149134, 0.35322731630127285, 0.37478515409201824, 0.3470987045912798, 0.3536580649509971, 0.36271011262534525, 0.3329945503843815, 0.33253302019776465, 0.24510951761471841, 0.2206924885754575, 0.19005726704356077, 0.18518201353231312, 0.18511481360038018, 0.1824199815336642, 0.4129608718024986, 0.1740901923362451, 0.17329075156912885, 0.1721778465203101, 0.16912054102311003, 0.1825116948704652, 0.3663627258875974, 0.15524454099143015, 0.42949647029663524, 0.30209899828672393, 0.14484615951347396, 0.14355108171882383, 0.15901676192743341, 0.143328703810037, 0.14332807684615168, 0.14329656087281809, 0.1432479226040813, 0.13470824179271815, 0.1345770827140059, 0.13432053968870808, 0.16383629512718342, 0.13016802541911418, 0.13015826774174413, 0.12945542356535256, 0.24188084787585065, 0.1429881917764934, 0.6403431886609388, 0.19730846642678548, 0.22581481884038246, 0.1775426616907382, 0.680637927977665, 0.42003740434556114, 0.19056362427048584, 1.342401240645109, 0.25133300839370903, 0.20510493011973377, 0.2758169371286761, 0.3700040261677744, 0.19018695143257094, 0.43560882068885737, 0.22151370529949185, 0.2587273674742395, 0.4552674764138568, 0.3053407018100244, 0.33334920957677294, 0.36104702583167797, 0.31054775167376203, 0.3345482117788567, 0.3130327186179657, 0.3335485311094393, 0.34847924334480807, 0.31461955538121833, 0.3538608187610717, 0.31498213477742953, 0.3235265398941257, 0.3424692911668691, 0.3210713846411449, 0.3210720204355075, 0.3162990061899523, 0.28771325012485194, 0.29923997232587374, 0.3039290263936604, 0.29102280703540245, 0.2940009914563713], \"Total\": [4.0, 5.0, 2.0, 31.0, 2.0, 6.0, 3.0, 7.0, 6.0, 8.0, 11.0, 7.0, 6.0, 3.0, 4.0, 2.0, 2.0, 2.0, 4.0, 2.0, 3.0, 3.0, 3.0, 3.0, 2.0, 2.0, 1.0, 1.0, 2.0, 7.0, 2.08482831188586, 0.9280598376569947, 1.510866155943822, 0.8483738602416716, 6.887334347159763, 0.8947652845755073, 0.8083897039521101, 0.8032450538880908, 0.8022490356031686, 1.079289440317609, 0.7937045792467619, 0.7979304262484711, 2.1024896650681013, 0.9222729210505901, 0.8916290686428222, 1.1558024572527494, 0.7649147925311836, 0.7628920130930253, 0.7604962254800494, 0.7585342446639153, 2.0179508557297643, 0.7647161016103768, 1.649692300286933, 0.9332645430047039, 1.6463214492926306, 1.8973576133738377, 1.5926248126879432, 0.7211216792960243, 1.636951658899132, 1.0549663406958003, 1.9319079834942603, 4.55529607490531, 2.4030075520960366, 7.09187534004692, 2.750176889596924, 1.6048761374844371, 1.9203982507105963, 1.4530389625230034, 2.514246882945974, 2.3919836125585583, 2.069075514511674, 1.6869521769190616, 2.069404239451192, 1.284848950139317, 4.369686505847873, 6.677359652763295, 6.126194827929175, 2.0790666699586517, 8.138035156455873, 6.092217761714853, 14.667749287086144, 4.19292497235876, 2.1069046698845164, 3.872213315543749, 8.733013901808608, 11.348208064507304, 6.134277656663749, 11.694112319969545, 5.182981979623022, 31.836794569294092, 8.137788134479683, 10.558323959867739, 10.274972257676032, 8.365815991301153, 6.693768563926551, 5.32482743265149, 10.174081405209174, 6.525460511822049, 9.358382793039162, 13.481431015671747, 7.609245653709697, 8.869713297864044, 10.78048909160216, 10.954882940883529, 10.702475306317005, 0.8864601444427271, 0.8415921093650648, 0.832305153575727, 0.8044441711050913, 1.0044317408839167, 0.8035065743469628, 0.7769361859543049, 0.8382567219696956, 0.8023058460697327, 0.7299108938270009, 0.70491175726049, 0.7027457662020001, 0.7012098048333185, 0.7342783758331672, 0.6957942654289325, 0.6951732931624922, 0.6945608506846617, 1.4502191576522918, 0.7020347840238889, 0.9858117626229631, 0.6967747068916659, 0.7310973162166984, 0.6578572530432333, 0.657607503973632, 0.649650635883151, 0.6464559219449438, 0.6438770927789318, 0.643739664142413, 0.6399518282571817, 0.763226419794892, 2.151728825725432, 1.0060570120658543, 1.1564912208884561, 1.987116120389859, 2.4092575049071066, 2.917952510573077, 3.1913079034877523, 3.155933004250526, 2.378630242068205, 3.9256796849490705, 2.9801380269121958, 2.029711628532833, 31.836794569294092, 3.06804013023381, 5.034316138612199, 4.581570802776882, 8.365815991301153, 2.4275865009703357, 5.48315046197468, 2.565685352619728, 14.667749287086144, 7.587812804842808, 7.769656835362798, 4.966820838410107, 6.134277656663749, 4.189552964936324, 2.579759811898931, 6.724154673818517, 7.243806858637296, 8.869713297864044, 11.348208064507304, 10.274972257676032, 5.455745645052446, 7.714696919467098, 8.285458844720745, 13.481431015671747, 10.78048909160216, 10.954882940883529, 10.226170619669036, 6.984131716159857, 10.174081405209174, 10.702475306317005, 12.468709883378045, 11.694112319969545, 7.548858902132462, 2.718800431212748, 0.7050118293168511, 0.7016410376147735, 0.6988821077922486, 5.028373974245773, 1.6822420203214257, 0.6534632192557831, 0.6530653867503616, 0.6326287775641263, 0.61948790662411, 0.8116651473342188, 0.6138319255038528, 0.8747254716129075, 1.0510437239086392, 0.7646613657451464, 0.9697371941607549, 0.5981348251132961, 0.6302686998198866, 0.5921540646852976, 0.5898951893135403, 1.014045239264143, 0.5874681681341732, 0.6264006559848051, 0.5805422889576591, 0.9812021548718662, 1.6107326318049804, 0.9365875693390614, 0.5708130364907048, 0.5614821514867382, 1.025111838031844, 0.8083035043270225, 1.2465211330515775, 1.7769089484756215, 6.546251535209711, 31.836794569294092, 3.93341968764996, 8.960230445277151, 2.219586026098006, 2.4899876615345895, 2.431737682292521, 7.432350120543943, 12.468709883378045, 11.348208064507304, 2.631492710481678, 7.843503094220362, 4.081888795166021, 2.7269319838996875, 10.702475306317005, 3.184669867930675, 4.328712860546414, 4.0481659726158385, 6.401603042027283, 13.481431015671747, 11.694112319969545, 10.558323959867739, 6.63664204464217, 4.755840532856954, 10.78048909160216, 10.954882940883529, 10.226170619669036, 11.402933223843554, 9.358382793039162, 10.174081405209174, 8.869713297864044, 1.4970490452773197, 0.6326328341313869, 0.6065690928607312, 0.8404502962561594, 0.5939282888883651, 0.5854216470126524, 0.581763873104253, 0.5778446448986144, 0.5752783032518113, 0.5748473896937009, 0.5648992210423276, 0.5488070448463569, 0.6636902859455925, 0.5413345136650918, 0.9624562618771855, 1.0388315768791905, 0.5704778528386756, 0.7176153578693436, 0.5478230836636983, 0.6090598589997028, 0.5280377684027646, 0.5278481198166471, 0.5240158313951897, 0.5236143055709903, 0.5229156987359943, 0.6474615462340082, 0.7021570046861765, 0.5899682817627511, 2.3211933142747774, 0.5777163883592144, 0.6160655166731049, 0.8901636116489935, 0.9553085724602617, 3.0000469127671967, 1.0787976641898809, 0.8663973722267404, 3.1385119398988692, 2.3932289206165596, 0.9391163938635261, 3.472185337972488, 0.9739806483492668, 7.159437866868884, 6.5384713406286465, 2.18475399477706, 3.16832524894485, 3.0940528754369216, 2.9801380269121958, 8.137788134479683, 7.071701044025841, 5.03350612073754, 2.1066698518399347, 6.984131716159857, 2.954320014375693, 7.548858902132462, 7.76042006248633, 2.4248986685441123, 31.836794569294092, 11.402933223843554, 2.0406461886948386, 9.358382793039162, 6.8437143631859305, 7.843503094220362, 14.667749287086144, 13.481431015671747, 10.78048909160216, 12.468709883378045, 10.226170619669036, 10.274972257676032, 10.558323959867739, 10.954882940883529, 0.6607160467527656, 0.6582136957972491, 0.7782728763936517, 0.7111988087296933, 0.6126460929162629, 0.5874329095983868, 0.5818915306318403, 0.5798633390953963, 0.6522783882473006, 0.5699560628837642, 0.5642022708362334, 0.5642019264516338, 0.7192589893795341, 0.5607597233868785, 0.5557574247183682, 0.5656991665556731, 0.5954849120749888, 0.541409164868416, 0.541288803581509, 0.6912137559389141, 0.5367736966590705, 0.588319260233902, 0.7166010629276428, 0.6859994637496718, 0.5308280218040403, 0.5402407376175, 0.5272314120507254, 0.581884520939338, 0.5235339851218818, 0.5144840350552473, 1.7422063201786253, 2.1098652787092935, 1.1128451036291802, 1.1396178865991415, 0.8455479910957203, 2.3330336895826993, 1.0184871501441501, 1.2956944086778213, 1.8347582445081052, 3.253400883180326, 1.528225694108064, 11.402933223843554, 1.5860628106877654, 2.9366943735987237, 7.097860450909522, 3.9046359992139847, 3.5058599952064387, 13.481431015671747, 12.468709883378045, 11.348208064507304, 2.7759865456478217, 1.9840869115135935, 3.3752941723890104, 8.138035156455873, 7.609245653709697, 31.836794569294092, 6.385888485279467, 5.333119253200585, 10.226170619669036, 10.274972257676032, 11.694112319969545, 6.266787772166386, 4.755840532856954, 6.749756723160531, 5.5408884228234125, 10.954882940883529, 10.558323959867739, 10.174081405209174, 4.353440747193378, 5.4536281889705185, 10.702475306317005, 6.685366871511315, 6.5384713406286465, 1.2405491325508955, 0.6176511822986835, 0.6133225716264111, 1.2471322578345874, 0.5961424894126859, 0.5736825883821379, 0.5735381848475226, 0.6918865701555932, 0.585718040489564, 1.2731864577437155, 0.5589585970063159, 0.6837480145642943, 0.5534191781693681, 0.5519316246121954, 0.5519214074353644, 0.5482097733102481, 0.8360792049974324, 0.5414590040910142, 0.5413592812285455, 0.5406756241719749, 0.9310330685850092, 0.6073467235982658, 0.7585311007271981, 0.5281204543610526, 0.5273524587507091, 0.655611226157076, 0.5250091010760022, 0.5593859139473448, 0.5201216059771092, 0.5148543840218868, 0.8051113079029935, 0.9376248047996919, 0.9881632281104284, 2.631936915596012, 0.6494677673692403, 0.8630654347461869, 0.7899118169583841, 3.1385119398988692, 1.6827069884589498, 8.733013901808608, 2.160955852621067, 4.024435578164655, 2.44826084022311, 7.071701044025841, 7.843503094220362, 2.416091791012894, 7.159437866868884, 3.085130280953082, 11.348208064507304, 6.724154673818517, 31.836794569294092, 11.694112319969545, 5.951976315381879, 13.481431015671747, 9.358382793039162, 8.869713297864044, 7.097860450909522, 10.274972257676032, 12.468709883378045, 6.693768563926551, 10.954882940883529, 10.558323959867739, 10.702475306317005, 6.984131716159857, 8.285458844720745, 14.667749287086144, 10.226170619669036, 0.6216239970199052, 0.6110451817738095, 1.8343487381688268, 0.6313781455130948, 0.5841281217518591, 0.5740356712115602, 0.5553421212253589, 0.553435425366171, 0.6465727934079483, 0.5691995729923143, 0.5291925252990667, 0.5279314612014584, 0.5149490115745078, 0.8440050727035946, 0.8192990723066041, 0.5136319784442629, 0.8933331641296148, 0.509954881209389, 0.5097984817576816, 0.5097061572104843, 0.5094568068810741, 0.5076913222318032, 0.5056796333984271, 0.5639112654202879, 0.5018717049891382, 0.852005850071608, 0.49968586507897034, 0.497797790915498, 0.5021875484062067, 0.4963043786937257, 0.5821280128434588, 0.7673804438580579, 0.8221033543064692, 3.065791495367046, 2.051847419976115, 1.8478686680560825, 2.230959198552443, 1.6099317902711505, 1.5668963942541871, 7.548858902132462, 0.9366847483473769, 3.706331530283282, 2.0485519919770945, 2.2326300434365027, 1.9151928344510145, 31.836794569294092, 1.3914223957777248, 3.508799882098984, 4.003613459261505, 2.915929140308542, 2.887836267733801, 10.226170619669036, 6.0604479891841665, 13.481431015671747, 7.76042006248633, 4.123317891112825, 4.743232004456944, 4.450675329271816, 2.9748475993209884, 2.363553213540012, 6.546251535209711, 8.869713297864044, 8.733013901808608, 7.113637380319598, 9.358382793039162, 8.960230445277151, 11.402933223843554, 8.138035156455873, 6.984131716159857, 12.468709883378045, 11.694112319969545, 10.954882940883529, 10.702475306317005, 10.78048909160216, 6.63664204464217, 1.0350440268015662, 4.530117011539323, 2.8962964627637913, 0.6423062406703083, 3.016465852384082, 0.6052838525306729, 1.4748585784944612, 0.6574145040368132, 1.0160937215394954, 2.668803648937823, 0.5769950197969128, 0.6828030415776817, 0.7557347121869799, 0.8791572078567186, 0.7385950870146406, 0.6641046069500147, 0.5888983223588676, 0.5591503051191701, 0.5584090741767133, 2.490453567950878, 0.5729871459842052, 0.5492555591948195, 0.549145475233695, 0.5468040546348814, 0.539409651744949, 0.5367619498590891, 0.819526634584984, 0.5913356506486767, 0.5310892609189045, 0.5795344251024578, 2.287923956586884, 0.9117803308764033, 4.341650387290023, 1.1551467425133504, 1.9207914806251347, 1.8889031204443212, 2.1882512138370833, 1.479521902989281, 2.0098932060730035, 1.067429572415504, 3.16832524894485, 4.042359291373464, 11.402933223843554, 2.9748475993209884, 7.826885382527643, 3.817906615318558, 2.532945282229824, 2.4278166756819664, 5.006999010485942, 3.472185337972488, 6.749756723160531, 7.714696919467098, 31.836794569294092, 6.93624553177177, 4.465421250685504, 4.860455931871247, 13.481431015671747, 10.558323959867739, 11.694112319969545, 0.7893862792662286, 0.9397910677358696, 0.9948726897294645, 1.2376180816562279, 0.5946409420487199, 0.5923391698504237, 0.9547483088271015, 0.5871504889572084, 0.5766589462429225, 0.5686689783130389, 0.5665364736273856, 0.6721149453742558, 0.5749644429605408, 1.460188774795719, 0.6491679101821394, 0.5605667032443065, 0.5593990189276944, 0.8773363423979428, 0.5579031966853083, 0.7822092626661113, 0.5858123152599387, 0.542740961485461, 0.5693735473002118, 2.1847794619692333, 0.6814967350073873, 0.9429573436263845, 0.5314647978089007, 0.6498364436339837, 0.9532495291175743, 0.6124046006405152, 0.8343060965295672, 0.9431636267885166, 1.8681746281703089, 1.0945274769018123, 1.5070421241542482, 1.693193244473562, 6.385888485279467, 1.2576205068513981, 1.6549120349456894, 8.960230445277151, 7.113637380319598, 0.8818614231606768, 1.1696237027379692, 0.8496082854217625, 2.4689112058382494, 31.836794569294092, 1.5424443989963939, 7.097860450909522, 10.226170619669036, 14.667749287086144, 2.790848924483397, 11.694112319969545, 4.321529506609581, 8.293210396158193, 13.481431015671747, 7.309728045269634, 10.174081405209174, 12.468709883378045, 11.402933223843554, 10.954882940883529, 10.702475306317005, 10.274972257676032, 10.558323959867739, 0.6185840313759775, 0.6060357331017103, 0.6214664028699485, 0.5721830750758058, 0.6374797547282564, 0.5656129331199743, 0.5521252019672567, 0.5622529909812307, 0.5256806558552907, 0.5925793553541199, 0.5924619582837279, 0.5236649939612441, 0.5186008859077741, 0.5103995404947791, 0.5102469858275194, 0.7312763478401304, 0.6137874896811877, 0.500814778344706, 0.6330620235486993, 0.5755580301986071, 0.5973805564812064, 0.7814991222952218, 0.5367435746359611, 0.48437806113896453, 0.4838552194609273, 0.4837925712305429, 0.48370917860323387, 0.4836899768582052, 0.4812474729370839, 0.48117528796795755, 1.2810448331679065, 0.9080529655957923, 0.795131709800423, 0.5542589771723935, 1.1827605911781949, 0.5945612763305645, 0.5541020132641435, 2.318690606431238, 0.607189147386198, 0.7613157213806304, 1.755988376518944, 1.3118247113049195, 1.9774484932145024, 1.6432064811784404, 1.032118999336605, 1.0042058181326154, 1.441899105752487, 1.6509845639804812, 4.02579959852978, 9.358382793039162, 3.5645115864470314, 1.5701876976884377, 3.5839844643639593, 1.3134697186035018, 7.714696919467098, 5.019928173343613, 31.836794569294092, 10.954882940883529, 3.155933004250526, 7.826885382527643, 4.2655613403911845, 8.293210396158193, 13.481431015671747, 6.525460511822049, 4.6262121223530865, 6.501840328883836, 7.609245653709697, 8.733013901808608, 10.174081405209174, 10.702475306317005, 7.071701044025841, 11.694112319969545, 3.8959228832961967, 6.266787772166386, 14.667749287086144, 12.468709883378045, 10.558323959867739, 5.735068444404642, 10.226170619669036, 0.9674199128753712, 0.9671500154948736, 0.959500172882308, 1.2396747309779685, 1.1485802094964344, 0.6322523781682402, 1.2103256904777668, 1.2100879876120691, 1.2867178482325987, 1.2391097300278813, 0.7794168246866461, 1.4195760939989317, 1.3938004089709748, 0.582073019919803, 1.4195783081647364, 0.5795130441742252, 0.562831403583469, 0.5567141436628188, 1.29623168902943, 0.8047310527413182, 1.6989057963456837, 0.9461445163512224, 0.5420731177686826, 0.5411393311081553, 0.539714207919865, 0.5286471162630227, 0.5285205399107729, 0.7991299682995046, 0.6342497856069125, 0.5786150305235492, 0.772154834153597, 0.9181629171672998, 3.216747036394328, 1.871678060355541, 2.637699928062956, 2.1961929588933486, 0.7914672855513558, 2.0945267750871466, 1.7227626421718685, 4.743232004456944, 1.5761627739327029, 2.0213901402151264, 2.431737682292521, 1.05666479340162, 1.6277543846562847, 2.779824118539799, 10.78048909160216, 6.385888485279467, 7.113637380319598, 2.155304221805735, 31.836794569294092, 14.667749287086144, 7.548858902132462, 8.869713297864044, 3.2096581925866876, 10.702475306317005, 12.468709883378045, 5.03350612073754, 11.402933223843554, 13.481431015671747, 0.6269867442860256, 0.6064684523948052, 0.7797121547431448, 0.8514708241779714, 0.5730080062944388, 0.5727016577047556, 1.1463627739707314, 1.1534109246607935, 0.862797495332467, 1.1542641360756898, 0.5429690770396607, 0.5423812282782263, 0.6189365892278865, 0.5411540768462172, 0.5300009110381538, 0.9508157906129634, 0.5596072291157603, 1.1869086453658504, 0.5180203464392082, 0.5174472972483446, 0.8630911363931044, 0.5687619210372573, 0.5106539311570119, 0.5101900522728005, 0.582958810909318, 0.5082610624743524, 0.5062049996212008, 0.5019972105556352, 0.6245954187408603, 0.6714930159756345, 0.6714954986048723, 1.3479256378233997, 0.6712996848893327, 0.9017038003845691, 0.6712930163492908, 0.671430910644379, 2.413475578170266, 1.316233997082766, 1.5006068817628826, 1.267329950545711, 1.7227403811632236, 0.9757026530338867, 1.763132951734424, 2.085446337311708, 2.267858280104936, 1.9548397956025685, 7.097860450909522, 2.5158446550807354, 10.78048909160216, 2.155304221805735, 1.8455001260717585, 6.186987277787797, 8.733013901808608, 7.714696919467098, 7.826885382527643, 3.508799882098984, 13.481431015671747, 14.667749287086144, 2.819535183860336, 10.174081405209174, 31.836794569294092, 6.8437143631859305, 5.333119253200585, 11.694112319969545, 10.274972257676032, 10.702475306317005, 10.954882940883529, 10.226170619669036, 8.365815991301153, 6.020326923489264, 7.76042006248633, 12.468709883378045, 0.8062879769636838, 1.5686459205519636, 0.5764938578887385, 0.5664817532524083, 0.5571622401676571, 0.6016338220100056, 0.6369857504219011, 0.5423289769432018, 0.5416175210734766, 0.5358680556172614, 0.5318210815414639, 0.531669586320009, 0.5312198080294058, 0.6854633504131449, 0.5203514371494966, 0.518140055646945, 0.5468127908043388, 0.5125722651045596, 0.7328786555312251, 0.5073920686183315, 0.6956583303338396, 0.5527107738553164, 0.4941894989141169, 0.4933732107884475, 0.6167049104050021, 0.4908556889053573, 0.5508365813439016, 0.4812401905208475, 0.48122346203077215, 0.4785974522173686, 0.6227212583826106, 1.8329950487834406, 0.8814127076174253, 0.7947487940594608, 0.8194574967276523, 0.9052076099967312, 2.306848252909907, 7.113637380319598, 4.5940889096790025, 31.836794569294092, 12.468709883378045, 3.0000469127671967, 5.028373974245773, 4.602776885548717, 6.546251535209711, 3.094654772915259, 3.0241163500219925, 10.954882940883529, 3.927551616386771, 7.432350120543943, 8.960230445277151, 5.687372110821463, 8.293210396158193, 10.558323959867739, 13.481431015671747, 5.361322225372625, 10.702475306317005, 7.548858902132462, 6.501840328883836, 4.6568828335337304, 3.239452190083662, 3.291888195920873, 6.63664204464217, 14.667749287086144, 5.48315046197468, 10.226170619669036, 10.174081405209174, 11.402933223843554, 0.7271514626153474, 0.5747066338102664, 0.6825117114437401, 0.5358439767878352, 0.529130326631587, 0.607421986196389, 0.5098806481528919, 0.5030479184692843, 0.5028493982629089, 0.5392777801337686, 0.4963415322986068, 0.49984467798219295, 0.49634978317938055, 0.4897369735529729, 0.4851924044857343, 0.48511619364150227, 0.4850975858577609, 0.556493212782926, 0.48095417412133395, 0.4807249076510048, 0.4803555804728503, 0.48031506839483307, 0.48005953790115563, 0.4786673633986658, 0.4781205801300664, 0.5236811355482032, 0.5237165860133515, 0.5236651450826171, 0.5235893248372144, 0.5235751051985769, 0.7052299478740305, 0.847373446869306, 0.678303662023993, 1.7840996565602876, 1.799208023455676, 1.6387781913378716, 0.5815797577768277, 3.1469052202350034, 1.1259529539269657, 0.7050969967071825, 1.216753807711881, 1.311381331550384, 0.8069789560682687, 0.7230766318533284, 1.0192197471746698, 2.4794019728643026, 7.243806858637296, 5.333119253200585, 7.159437866868884, 6.020326923489264, 3.9256796849490705, 12.468709883378045, 5.633522974174213, 31.836794569294092, 3.9318170262963568, 3.4733173155668475, 5.345168269626634, 11.348208064507304, 11.402933223843554, 13.481431015671747, 8.285458844720745, 3.9148600962123377, 7.309728045269634, 10.78048909160216, 10.954882940883529, 6.501840328883836, 10.226170619669036, 11.694112319969545, 6.010996264572573, 14.667749287086144, 6.93624553177177, 7.843503094220362, 0.5766067013752609, 0.5647995953813206, 0.5730869831105415, 0.6656459960836448, 0.5144559464212343, 0.5143092607478954, 0.6423269170114744, 0.5085537608899129, 1.20648353357455, 0.49847760994021295, 0.5725355535567668, 0.5889243840239011, 0.4898979062077226, 0.4858285198118406, 0.7872604722329801, 0.5476674410077251, 0.4776478835160346, 0.4767075029796428, 0.47184801748254024, 0.5380069452768542, 0.5379045513992599, 0.5379759744321508, 0.5380735644971559, 0.5379639085008199, 0.5379662671929833, 0.4685923796176475, 0.5888176744904448, 0.5708594741609163, 0.4628635310386024, 0.46251437681545277, 0.8723025234401806, 0.5927786999243234, 1.2974556810887727, 1.0831818735458767, 8.138035156455873, 2.815878477573811, 2.3919836125585583, 4.189552964936324, 1.2473757770982257, 1.7884607620452484, 31.836794569294092, 5.230744547861248, 0.8077257078098877, 2.972926183970574, 1.3468313574826296, 6.824783608239406, 8.285458844720745, 7.432350120543943, 10.174081405209174, 14.667749287086144, 10.954882940883529, 11.694112319969545, 8.293210396158193, 4.544142650883072, 3.4830972775444073, 4.506294102918488, 7.609245653709697, 12.468709883378045, 13.481431015671747, 10.78048909160216, 6.749756723160531, 10.274972257676032, 6.501840328883836, 7.714696919467098, 10.226170619669036, 5.630842573084467, 8.137788134479683, 0.577616806456347, 0.5531997774170861, 0.5225645558851895, 0.5176893023739417, 0.5176221053021575, 0.5179273890690732, 1.1743391715208895, 0.5065974844638669, 0.5057980389211192, 0.504685139370173, 0.5016278298647388, 0.5416425558484368, 1.097647519355374, 0.4877518298330588, 1.363380617375003, 0.959476865413712, 0.4773534159742219, 0.4760583705604525, 0.5273577870675372, 0.47583596045608345, 0.47583538526879593, 0.4758038791460839, 0.47575522926061475, 0.4672155080806806, 0.46708437155563454, 0.4668278285303368, 0.5757481014020529, 0.4626753142607428, 0.46266555658337283, 0.46196272504590563, 0.8810005993982126, 0.5128961936386124, 2.718800431212748, 0.7455682092350094, 0.9203498751164231, 0.6757194970395463, 5.028373974245773, 2.6573219670559696, 0.7759530237490229, 31.836794569294092, 1.3729765742713465, 0.9606620574501846, 1.8597807493196967, 4.5940889096790025, 0.8547448270291493, 8.869713297864044, 1.315878396446604, 2.105521858358954, 13.481431015671747, 3.706331530283282, 5.345168269626634, 7.243806858637296, 4.685898315065681, 6.546251535209711, 5.273720897699902, 8.285458844720745, 10.558323959867739, 6.525460511822049, 11.694112319969545, 6.8437143631859305, 8.365815991301153, 12.468709883378045, 9.358382793039162, 10.702475306317005, 10.174081405209174, 4.544142650883072, 7.309728045269634, 11.402933223843554, 6.186987277787797, 10.226170619669036], \"Category\": [\"Default\", \"Default\", \"Default\", \"Default\", \"Default\", \"Default\", \"Default\", \"Default\", \"Default\", \"Default\", \"Default\", \"Default\", \"Default\", \"Default\", \"Default\", \"Default\", \"Default\", \"Default\", \"Default\", \"Default\", \"Default\", \"Default\", \"Default\", \"Default\", \"Default\", \"Default\", \"Default\", \"Default\", \"Default\", \"Default\", \"Topic1\", \"Topic1\", \"Topic1\", \"Topic1\", \"Topic1\", \"Topic1\", \"Topic1\", \"Topic1\", \"Topic1\", \"Topic1\", \"Topic1\", \"Topic1\", \"Topic1\", \"Topic1\", \"Topic1\", \"Topic1\", \"Topic1\", \"Topic1\", \"Topic1\", \"Topic1\", \"Topic1\", \"Topic1\", \"Topic1\", \"Topic1\", \"Topic1\", \"Topic1\", \"Topic1\", \"Topic1\", \"Topic1\", \"Topic1\", \"Topic1\", \"Topic1\", \"Topic1\", \"Topic1\", \"Topic1\", \"Topic1\", \"Topic1\", \"Topic1\", \"Topic1\", \"Topic1\", \"Topic1\", \"Topic1\", \"Topic1\", \"Topic1\", \"Topic1\", \"Topic1\", \"Topic1\", \"Topic1\", \"Topic1\", \"Topic1\", \"Topic1\", \"Topic1\", \"Topic1\", \"Topic1\", \"Topic1\", \"Topic1\", \"Topic1\", \"Topic1\", \"Topic1\", \"Topic1\", \"Topic1\", \"Topic1\", \"Topic1\", \"Topic1\", \"Topic1\", \"Topic1\", \"Topic1\", \"Topic1\", \"Topic1\", \"Topic1\", \"Topic1\", \"Topic1\", \"Topic1\", \"Topic1\", \"Topic1\", \"Topic2\", \"Topic2\", \"Topic2\", \"Topic2\", \"Topic2\", \"Topic2\", \"Topic2\", \"Topic2\", \"Topic2\", \"Topic2\", \"Topic2\", \"Topic2\", \"Topic2\", \"Topic2\", \"Topic2\", \"Topic2\", \"Topic2\", \"Topic2\", \"Topic2\", \"Topic2\", \"Topic2\", \"Topic2\", \"Topic2\", \"Topic2\", \"Topic2\", \"Topic2\", \"Topic2\", \"Topic2\", \"Topic2\", \"Topic2\", \"Topic2\", \"Topic2\", \"Topic2\", \"Topic2\", \"Topic2\", \"Topic2\", \"Topic2\", \"Topic2\", \"Topic2\", \"Topic2\", \"Topic2\", \"Topic2\", \"Topic2\", \"Topic2\", \"Topic2\", \"Topic2\", \"Topic2\", \"Topic2\", \"Topic2\", \"Topic2\", \"Topic2\", \"Topic2\", \"Topic2\", \"Topic2\", \"Topic2\", \"Topic2\", \"Topic2\", \"Topic2\", \"Topic2\", \"Topic2\", \"Topic2\", \"Topic2\", \"Topic2\", \"Topic2\", \"Topic2\", \"Topic2\", \"Topic2\", \"Topic2\", \"Topic2\", \"Topic2\", \"Topic2\", \"Topic2\", \"Topic2\", \"Topic2\", \"Topic2\", \"Topic3\", \"Topic3\", \"Topic3\", \"Topic3\", \"Topic3\", \"Topic3\", \"Topic3\", \"Topic3\", \"Topic3\", \"Topic3\", \"Topic3\", \"Topic3\", \"Topic3\", \"Topic3\", \"Topic3\", \"Topic3\", \"Topic3\", \"Topic3\", \"Topic3\", \"Topic3\", \"Topic3\", \"Topic3\", \"Topic3\", \"Topic3\", \"Topic3\", \"Topic3\", \"Topic3\", \"Topic3\", \"Topic3\", \"Topic3\", \"Topic3\", \"Topic3\", \"Topic3\", \"Topic3\", \"Topic3\", \"Topic3\", \"Topic3\", \"Topic3\", \"Topic3\", \"Topic3\", \"Topic3\", \"Topic3\", \"Topic3\", \"Topic3\", \"Topic3\", \"Topic3\", \"Topic3\", \"Topic3\", \"Topic3\", \"Topic3\", \"Topic3\", \"Topic3\", \"Topic3\", \"Topic3\", \"Topic3\", \"Topic3\", \"Topic3\", \"Topic3\", \"Topic3\", \"Topic3\", \"Topic3\", \"Topic3\", \"Topic3\", \"Topic3\", \"Topic4\", \"Topic4\", \"Topic4\", \"Topic4\", \"Topic4\", \"Topic4\", \"Topic4\", \"Topic4\", \"Topic4\", \"Topic4\", \"Topic4\", \"Topic4\", \"Topic4\", \"Topic4\", \"Topic4\", \"Topic4\", \"Topic4\", \"Topic4\", \"Topic4\", \"Topic4\", \"Topic4\", \"Topic4\", \"Topic4\", \"Topic4\", \"Topic4\", \"Topic4\", \"Topic4\", \"Topic4\", \"Topic4\", \"Topic4\", \"Topic4\", \"Topic4\", \"Topic4\", \"Topic4\", \"Topic4\", \"Topic4\", \"Topic4\", \"Topic4\", \"Topic4\", \"Topic4\", \"Topic4\", \"Topic4\", \"Topic4\", \"Topic4\", \"Topic4\", \"Topic4\", \"Topic4\", \"Topic4\", \"Topic4\", \"Topic4\", \"Topic4\", \"Topic4\", \"Topic4\", \"Topic4\", \"Topic4\", \"Topic4\", \"Topic4\", \"Topic4\", \"Topic4\", \"Topic4\", \"Topic4\", \"Topic4\", \"Topic4\", \"Topic4\", \"Topic4\", \"Topic4\", \"Topic4\", \"Topic4\", \"Topic4\", \"Topic4\", \"Topic5\", \"Topic5\", \"Topic5\", \"Topic5\", \"Topic5\", \"Topic5\", \"Topic5\", \"Topic5\", \"Topic5\", \"Topic5\", \"Topic5\", \"Topic5\", \"Topic5\", \"Topic5\", \"Topic5\", \"Topic5\", \"Topic5\", \"Topic5\", \"Topic5\", \"Topic5\", \"Topic5\", \"Topic5\", \"Topic5\", \"Topic5\", \"Topic5\", \"Topic5\", \"Topic5\", \"Topic5\", \"Topic5\", \"Topic5\", \"Topic5\", \"Topic5\", \"Topic5\", \"Topic5\", \"Topic5\", \"Topic5\", \"Topic5\", \"Topic5\", \"Topic5\", \"Topic5\", \"Topic5\", \"Topic5\", \"Topic5\", \"Topic5\", \"Topic5\", \"Topic5\", \"Topic5\", \"Topic5\", \"Topic5\", \"Topic5\", \"Topic5\", \"Topic5\", \"Topic5\", \"Topic5\", \"Topic5\", \"Topic5\", \"Topic5\", \"Topic5\", \"Topic5\", \"Topic5\", \"Topic5\", \"Topic5\", \"Topic5\", \"Topic5\", \"Topic5\", \"Topic5\", \"Topic5\", \"Topic5\", \"Topic5\", \"Topic5\", \"Topic5\", \"Topic5\", \"Topic5\", \"Topic6\", \"Topic6\", \"Topic6\", \"Topic6\", \"Topic6\", \"Topic6\", \"Topic6\", \"Topic6\", \"Topic6\", \"Topic6\", \"Topic6\", \"Topic6\", \"Topic6\", \"Topic6\", \"Topic6\", \"Topic6\", \"Topic6\", \"Topic6\", \"Topic6\", \"Topic6\", \"Topic6\", \"Topic6\", \"Topic6\", \"Topic6\", \"Topic6\", \"Topic6\", \"Topic6\", \"Topic6\", \"Topic6\", \"Topic6\", \"Topic6\", \"Topic6\", \"Topic6\", \"Topic6\", \"Topic6\", \"Topic6\", \"Topic6\", \"Topic6\", \"Topic6\", \"Topic6\", \"Topic6\", \"Topic6\", \"Topic6\", \"Topic6\", \"Topic6\", \"Topic6\", \"Topic6\", \"Topic6\", \"Topic6\", \"Topic6\", \"Topic6\", \"Topic6\", \"Topic6\", \"Topic6\", \"Topic6\", \"Topic6\", \"Topic6\", \"Topic6\", \"Topic6\", \"Topic6\", \"Topic6\", \"Topic6\", \"Topic6\", \"Topic6\", \"Topic6\", \"Topic6\", \"Topic6\", \"Topic7\", \"Topic7\", \"Topic7\", \"Topic7\", \"Topic7\", \"Topic7\", \"Topic7\", \"Topic7\", \"Topic7\", \"Topic7\", \"Topic7\", \"Topic7\", \"Topic7\", \"Topic7\", \"Topic7\", \"Topic7\", \"Topic7\", \"Topic7\", \"Topic7\", \"Topic7\", \"Topic7\", \"Topic7\", \"Topic7\", \"Topic7\", \"Topic7\", \"Topic7\", \"Topic7\", \"Topic7\", \"Topic7\", \"Topic7\", \"Topic7\", \"Topic7\", \"Topic7\", \"Topic7\", \"Topic7\", \"Topic7\", \"Topic7\", \"Topic7\", \"Topic7\", \"Topic7\", \"Topic7\", \"Topic7\", \"Topic7\", \"Topic7\", \"Topic7\", \"Topic7\", \"Topic7\", \"Topic7\", \"Topic7\", \"Topic7\", \"Topic7\", \"Topic7\", \"Topic7\", \"Topic7\", \"Topic7\", \"Topic7\", \"Topic7\", \"Topic7\", \"Topic7\", \"Topic7\", \"Topic7\", \"Topic7\", \"Topic7\", \"Topic7\", \"Topic7\", \"Topic7\", \"Topic7\", \"Topic7\", \"Topic7\", \"Topic7\", \"Topic7\", \"Topic7\", \"Topic7\", \"Topic7\", \"Topic7\", \"Topic8\", \"Topic8\", \"Topic8\", \"Topic8\", \"Topic8\", \"Topic8\", \"Topic8\", \"Topic8\", \"Topic8\", \"Topic8\", \"Topic8\", \"Topic8\", \"Topic8\", \"Topic8\", \"Topic8\", \"Topic8\", \"Topic8\", \"Topic8\", \"Topic8\", \"Topic8\", \"Topic8\", \"Topic8\", \"Topic8\", \"Topic8\", \"Topic8\", \"Topic8\", \"Topic8\", \"Topic8\", \"Topic8\", \"Topic8\", \"Topic8\", \"Topic8\", \"Topic8\", \"Topic8\", \"Topic8\", \"Topic8\", \"Topic8\", \"Topic8\", \"Topic8\", \"Topic8\", \"Topic8\", \"Topic8\", \"Topic8\", \"Topic8\", \"Topic8\", \"Topic8\", \"Topic8\", \"Topic8\", \"Topic8\", \"Topic8\", \"Topic8\", \"Topic8\", \"Topic8\", \"Topic8\", \"Topic8\", \"Topic8\", \"Topic8\", \"Topic8\", \"Topic8\", \"Topic9\", \"Topic9\", \"Topic9\", \"Topic9\", \"Topic9\", \"Topic9\", \"Topic9\", \"Topic9\", \"Topic9\", \"Topic9\", \"Topic9\", \"Topic9\", \"Topic9\", \"Topic9\", \"Topic9\", \"Topic9\", \"Topic9\", \"Topic9\", \"Topic9\", \"Topic9\", \"Topic9\", \"Topic9\", \"Topic9\", \"Topic9\", \"Topic9\", \"Topic9\", \"Topic9\", \"Topic9\", \"Topic9\", \"Topic9\", \"Topic9\", \"Topic9\", \"Topic9\", \"Topic9\", \"Topic9\", \"Topic9\", \"Topic9\", \"Topic9\", \"Topic9\", \"Topic9\", \"Topic9\", \"Topic9\", \"Topic9\", \"Topic9\", \"Topic9\", \"Topic9\", \"Topic9\", \"Topic9\", \"Topic9\", \"Topic9\", \"Topic9\", \"Topic9\", \"Topic9\", \"Topic9\", \"Topic9\", \"Topic9\", \"Topic9\", \"Topic9\", \"Topic9\", \"Topic9\", \"Topic9\", \"Topic9\", \"Topic9\", \"Topic10\", \"Topic10\", \"Topic10\", \"Topic10\", \"Topic10\", \"Topic10\", \"Topic10\", \"Topic10\", \"Topic10\", \"Topic10\", \"Topic10\", \"Topic10\", \"Topic10\", \"Topic10\", \"Topic10\", \"Topic10\", \"Topic10\", \"Topic10\", \"Topic10\", \"Topic10\", \"Topic10\", \"Topic10\", \"Topic10\", \"Topic10\", \"Topic10\", \"Topic10\", \"Topic10\", \"Topic10\", \"Topic10\", \"Topic10\", \"Topic10\", \"Topic10\", \"Topic10\", \"Topic10\", \"Topic10\", \"Topic10\", \"Topic10\", \"Topic10\", \"Topic10\", \"Topic10\", \"Topic10\", \"Topic10\", \"Topic10\", \"Topic10\", \"Topic10\", \"Topic10\", \"Topic10\", \"Topic10\", \"Topic10\", \"Topic10\", \"Topic10\", \"Topic10\", \"Topic10\", \"Topic10\", \"Topic10\", \"Topic10\", \"Topic10\", \"Topic10\", \"Topic10\", \"Topic10\", \"Topic10\", \"Topic10\", \"Topic10\", \"Topic10\", \"Topic10\", \"Topic10\", \"Topic10\", \"Topic10\", \"Topic10\", \"Topic10\", \"Topic10\", \"Topic10\", \"Topic10\", \"Topic10\", \"Topic10\", \"Topic10\", \"Topic10\", \"Topic10\", \"Topic10\", \"Topic11\", \"Topic11\", \"Topic11\", \"Topic11\", \"Topic11\", \"Topic11\", \"Topic11\", \"Topic11\", \"Topic11\", \"Topic11\", \"Topic11\", \"Topic11\", \"Topic11\", \"Topic11\", \"Topic11\", \"Topic11\", \"Topic11\", \"Topic11\", \"Topic11\", \"Topic11\", \"Topic11\", \"Topic11\", \"Topic11\", \"Topic11\", \"Topic11\", \"Topic11\", \"Topic11\", \"Topic11\", \"Topic11\", \"Topic11\", \"Topic11\", \"Topic11\", \"Topic11\", \"Topic11\", \"Topic11\", \"Topic11\", \"Topic11\", \"Topic11\", \"Topic11\", \"Topic11\", \"Topic11\", \"Topic11\", \"Topic11\", \"Topic11\", \"Topic11\", \"Topic11\", \"Topic11\", \"Topic11\", \"Topic11\", \"Topic11\", \"Topic11\", \"Topic11\", \"Topic11\", \"Topic11\", \"Topic11\", \"Topic11\", \"Topic11\", \"Topic11\", \"Topic11\", \"Topic11\", \"Topic12\", \"Topic12\", \"Topic12\", \"Topic12\", \"Topic12\", \"Topic12\", \"Topic12\", \"Topic12\", \"Topic12\", \"Topic12\", \"Topic12\", \"Topic12\", \"Topic12\", \"Topic12\", \"Topic12\", \"Topic12\", \"Topic12\", \"Topic12\", \"Topic12\", \"Topic12\", \"Topic12\", \"Topic12\", \"Topic12\", \"Topic12\", \"Topic12\", \"Topic12\", \"Topic12\", \"Topic12\", \"Topic12\", \"Topic12\", \"Topic12\", \"Topic12\", \"Topic12\", \"Topic12\", \"Topic12\", \"Topic12\", \"Topic12\", \"Topic12\", \"Topic12\", \"Topic12\", \"Topic12\", \"Topic12\", \"Topic12\", \"Topic12\", \"Topic12\", \"Topic12\", \"Topic12\", \"Topic12\", \"Topic12\", \"Topic12\", \"Topic12\", \"Topic12\", \"Topic12\", \"Topic12\", \"Topic12\", \"Topic12\", \"Topic12\", \"Topic12\", \"Topic12\", \"Topic12\", \"Topic12\", \"Topic12\", \"Topic12\", \"Topic12\", \"Topic12\", \"Topic12\", \"Topic12\", \"Topic12\", \"Topic12\", \"Topic12\", \"Topic12\", \"Topic12\", \"Topic13\", \"Topic13\", \"Topic13\", \"Topic13\", \"Topic13\", \"Topic13\", \"Topic13\", \"Topic13\", \"Topic13\", \"Topic13\", \"Topic13\", \"Topic13\", \"Topic13\", \"Topic13\", \"Topic13\", \"Topic13\", \"Topic13\", \"Topic13\", \"Topic13\", \"Topic13\", \"Topic13\", \"Topic13\", \"Topic13\", \"Topic13\", \"Topic13\", \"Topic13\", \"Topic13\", \"Topic13\", \"Topic13\", \"Topic13\", \"Topic13\", \"Topic13\", \"Topic13\", \"Topic13\", \"Topic13\", \"Topic13\", \"Topic13\", \"Topic13\", \"Topic13\", \"Topic13\", \"Topic13\", \"Topic13\", \"Topic13\", \"Topic13\", \"Topic13\", \"Topic13\", \"Topic13\", \"Topic13\", \"Topic13\", \"Topic13\", \"Topic13\", \"Topic13\", \"Topic13\", \"Topic13\", \"Topic13\", \"Topic13\", \"Topic13\", \"Topic13\", \"Topic13\", \"Topic13\", \"Topic13\", \"Topic13\", \"Topic13\", \"Topic13\", \"Topic13\", \"Topic13\", \"Topic13\", \"Topic13\", \"Topic14\", \"Topic14\", \"Topic14\", \"Topic14\", \"Topic14\", \"Topic14\", \"Topic14\", \"Topic14\", \"Topic14\", \"Topic14\", \"Topic14\", \"Topic14\", \"Topic14\", \"Topic14\", \"Topic14\", \"Topic14\", \"Topic14\", \"Topic14\", \"Topic14\", \"Topic14\", \"Topic14\", \"Topic14\", \"Topic14\", \"Topic14\", \"Topic14\", \"Topic14\", \"Topic14\", \"Topic14\", \"Topic14\", \"Topic14\", \"Topic14\", \"Topic14\", \"Topic14\", \"Topic14\", \"Topic14\", \"Topic14\", \"Topic14\", \"Topic14\", \"Topic14\", \"Topic14\", \"Topic14\", \"Topic14\", \"Topic14\", \"Topic14\", \"Topic14\", \"Topic14\", \"Topic14\", \"Topic14\", \"Topic14\", \"Topic14\", \"Topic14\", \"Topic14\", \"Topic14\", \"Topic14\", \"Topic14\", \"Topic14\", \"Topic14\", \"Topic14\", \"Topic14\", \"Topic14\", \"Topic14\", \"Topic14\", \"Topic14\", \"Topic14\", \"Topic14\", \"Topic14\", \"Topic14\", \"Topic14\", \"Topic14\", \"Topic14\", \"Topic14\", \"Topic14\", \"Topic15\", \"Topic15\", \"Topic15\", \"Topic15\", \"Topic15\", \"Topic15\", \"Topic15\", \"Topic15\", \"Topic15\", \"Topic15\", \"Topic15\", \"Topic15\", \"Topic15\", \"Topic15\", \"Topic15\", \"Topic15\", \"Topic15\", \"Topic15\", \"Topic15\", \"Topic15\", \"Topic15\", \"Topic15\", \"Topic15\", \"Topic15\", \"Topic15\", \"Topic15\", \"Topic15\", \"Topic15\", \"Topic15\", \"Topic15\", \"Topic15\", \"Topic15\", \"Topic15\", \"Topic15\", \"Topic15\", \"Topic15\", \"Topic15\", \"Topic15\", \"Topic15\", \"Topic15\", \"Topic15\", \"Topic15\", \"Topic15\", \"Topic15\", \"Topic15\", \"Topic15\", \"Topic15\", \"Topic15\", \"Topic15\", \"Topic15\", \"Topic15\", \"Topic15\", \"Topic15\", \"Topic15\", \"Topic15\", \"Topic15\", \"Topic15\", \"Topic15\", \"Topic15\", \"Topic15\", \"Topic15\", \"Topic15\", \"Topic15\", \"Topic15\", \"Topic15\", \"Topic15\", \"Topic15\", \"Topic16\", \"Topic16\", \"Topic16\", \"Topic16\", \"Topic16\", \"Topic16\", \"Topic16\", \"Topic16\", \"Topic16\", \"Topic16\", \"Topic16\", \"Topic16\", \"Topic16\", \"Topic16\", \"Topic16\", \"Topic16\", \"Topic16\", \"Topic16\", \"Topic16\", \"Topic16\", \"Topic16\", \"Topic16\", \"Topic16\", \"Topic16\", \"Topic16\", \"Topic16\", \"Topic16\", \"Topic16\", \"Topic16\", \"Topic16\", \"Topic16\", \"Topic16\", \"Topic16\", \"Topic16\", \"Topic16\", \"Topic16\", \"Topic16\", \"Topic16\", \"Topic16\", \"Topic16\", \"Topic16\", \"Topic16\", \"Topic16\", \"Topic16\", \"Topic16\", \"Topic16\", \"Topic16\", \"Topic16\", \"Topic16\", \"Topic16\", \"Topic16\", \"Topic16\", \"Topic16\", \"Topic16\", \"Topic16\", \"Topic16\", \"Topic16\", \"Topic16\", \"Topic16\", \"Topic16\", \"Topic16\", \"Topic16\", \"Topic16\", \"Topic16\", \"Topic16\", \"Topic16\", \"Topic16\", \"Topic16\", \"Topic16\", \"Topic16\"], \"logprob\": [30.0, 29.0, 28.0, 27.0, 26.0, 25.0, 24.0, 23.0, 22.0, 21.0, 20.0, 19.0, 18.0, 17.0, 16.0, 15.0, 14.0, 13.0, 12.0, 11.0, 10.0, 9.0, 8.0, 7.0, 6.0, 5.0, 4.0, 3.0, 2.0, 1.0, -7.3046, -8.1693, -7.6865, -8.306, -6.2178, -8.2791, -8.3822, -8.3925, -8.3945, -8.1024, -8.4118, -8.4067, -7.4418, -8.2759, -8.3144, -8.0567, -8.4724, -8.4768, -8.482, -8.4863, -7.5081, -8.4785, -7.7174, -8.2929, -7.7339, -7.5984, -7.7763, -8.5722, -7.7551, -8.2014, -7.6098, -6.7837, -7.4087, -6.4218, -7.3031, -7.8024, -7.6415, -7.8928, -7.4172, -7.4756, -7.6115, -7.7878, -7.625, -8.0111, -7.0428, -6.7361, -6.8082, -7.6362, -6.6953, -6.904, -6.298, -7.1856, -7.6476, -7.2753, -6.7862, -6.6315, -7.0325, -6.6969, -7.1532, -6.3749, -7.008, -6.9108, -6.9298, -7.0215, -7.1404, -7.2286, -7.0586, -7.2068, -7.1335, -7.065, -7.1905, -7.1983, -7.181, -7.1877, -7.2247, -8.0317, -8.1128, -8.1305, -8.1854, -7.9636, -8.1873, -8.2428, -8.1716, -8.2643, -8.3599, -8.4107, -8.4162, -8.4201, -8.3779, -8.4341, -8.4357, -8.4373, -7.7016, -8.4273, -8.0931, -8.4483, -8.4317, -8.5379, -8.5386, -8.5618, -8.5713, -8.579, -8.5794, -8.5908, -8.4152, -7.4004, -8.1525, -8.025, -7.5899, -7.4338, -7.3089, -7.2387, -7.2636, -7.5398, -7.1642, -7.3843, -7.671, -5.7618, -7.4211, -7.0894, -7.1631, -6.7685, -7.5878, -7.055, -7.5621, -6.4894, -6.8951, -6.8923, -7.1816, -7.1208, -7.3428, -7.5916, -7.1208, -7.1103, -7.0271, -6.9301, -7.0263, -7.2895, -7.1694, -7.1474, -7.0396, -7.1182, -7.1293, -7.1584, -7.2492, -7.1901, -7.1835, -7.2051, -7.2465, -7.2881, -6.6658, -8.0307, -8.0396, -8.0469, -6.0946, -7.1996, -8.1755, -8.1767, -8.2405, -8.2838, -8.023, -8.303, -7.9512, -7.7833, -8.104, -7.8665, -8.3584, -8.3151, -8.3804, -8.3888, -7.8502, -8.3979, -8.3468, -8.4244, -7.9101, -7.4325, -7.9764, -8.4814, -8.5012, -7.9045, -8.1693, -7.8244, -7.5383, -6.5134, -5.3195, -6.9578, -6.381, -7.4111, -7.3452, -7.3729, -6.6305, -6.4157, -6.6525, -7.4673, -6.9275, -7.2821, -7.4778, -6.8524, -7.4193, -7.3248, -7.3803, -7.2161, -6.948, -7.0116, -7.0582, -7.2479, -7.3559, -7.133, -7.1415, -7.1671, -7.2018, -7.33, -7.3257, -7.3977, -7.0773, -8.0714, -8.1602, -7.8446, -8.2063, -8.2386, -8.2528, -8.2683, -8.2785, -8.2802, -8.3211, -8.3908, -8.2208, -8.4249, -7.8643, -7.7883, -8.3943, -8.1664, -8.442, -8.3423, -8.4887, -8.4897, -8.5088, -8.5109, -8.5144, -8.3064, -8.228, -8.415, -7.0472, -8.4505, -8.3874, -8.0275, -7.9614, -6.9646, -7.9046, -8.0894, -7.0454, -7.2684, -8.0271, -7.03, -8.002, -6.5917, -6.7348, -7.4762, -7.2771, -7.3112, -7.4015, -6.9107, -7.0095, -7.2469, -7.6842, -7.1582, -7.5378, -7.1559, -7.1834, -7.6493, -6.6807, -7.0807, -7.7225, -7.179, -7.2938, -7.336, -7.1645, -7.2388, -7.2934, -7.2609, -7.3101, -7.3265, -7.3523, -7.355, -7.9693, -7.9768, -7.839, -7.9626, -8.1243, -8.2164, -8.2379, -8.2458, -8.1285, -8.2856, -8.3095, -8.3095, -8.0676, -8.3241, -8.3456, -8.3392, -8.3012, -8.4101, -8.4107, -8.1717, -8.4319, -8.3495, -8.1539, -8.2032, -8.4605, -8.4438, -8.4782, -8.3887, -8.4968, -8.5437, -7.3607, -7.2423, -7.8485, -7.849, -8.0908, -7.3082, -7.9555, -7.7887, -7.5463, -7.1483, -7.6774, -6.4571, -7.6897, -7.404, -6.9744, -7.2862, -7.3718, -6.7464, -6.8221, -6.8873, -7.5348, -7.6951, -7.4629, -7.0854, -7.147, -6.5754, -7.2305, -7.3022, -7.0561, -7.0739, -7.0554, -7.2685, -7.3644, -7.2568, -7.3274, -7.1229, -7.1693, -7.1904, -7.411, -7.3716, -7.2818, -7.3859, -7.3976, -7.3049, -8.06, -8.075, -7.3696, -8.1451, -8.224, -8.2246, -8.0407, -8.2363, -7.4612, -8.2855, -8.095, -8.3097, -8.3163, -8.3163, -8.3329, -7.919, -8.3639, -8.3644, -8.3676, -7.8278, -8.2655, -8.0598, -8.4281, -8.432, -8.2144, -8.4437, -8.3911, -8.4687, -8.4963, -8.0659, -7.9255, -7.9649, -7.2636, -8.2873, -8.0941, -8.1567, -7.2734, -7.699, -6.7717, -7.5686, -7.2371, -7.5771, -7.0766, -7.1248, -7.6534, -7.1886, -7.5595, -7.0414, -7.3209, -6.7615, -7.1285, -7.3796, -7.1084, -7.2461, -7.2977, -7.4131, -7.328, -7.2777, -7.4447, -7.3228, -7.341, -7.3917, -7.4994, -7.4966, -7.496, -7.5568, -8.036, -8.0726, -6.977, -8.0642, -8.1722, -8.2122, -8.291, -8.2993, -8.1649, -8.3375, -8.4126, -8.4189, -8.4857, -7.9917, -8.0254, -8.4928, -7.9429, -8.5127, -8.5135, -8.514, -8.5154, -8.5251, -8.5363, -8.4396, -8.5579, -8.0365, -8.5705, -8.5815, -8.5775, -8.5903, -8.4337, -8.1843, -8.1273, -6.9783, -7.4188, -7.5152, -7.3783, -7.6337, -7.66, -6.4878, -8.061, -7.0521, -7.5347, -7.4751, -7.5829, -5.9083, -7.8248, -7.2969, -7.2341, -7.4433, -7.468, -6.8235, -7.0984, -6.7078, -6.992, -7.3134, -7.2963, -7.3477, -7.5446, -7.6401, -7.3022, -7.2032, -7.2209, -7.3115, -7.251, -7.2839, -7.2294, -7.3376, -7.3669, -7.3255, -7.34, -7.3544, -7.3578, -7.3602, -7.397, -7.3201, -5.8651, -6.3554, -7.9596, -6.4642, -8.0844, -7.2149, -8.0266, -7.598, -6.6543, -8.1915, -8.0238, -7.9257, -7.7763, -7.9508, -8.0686, -8.212, -8.2655, -8.2687, -6.7868, -8.2599, -8.309, -8.3095, -8.3293, -8.3543, -8.3668, -7.9466, -8.2748, -8.3942, -8.3147, -6.9463, -7.8986, -6.5201, -7.6989, -7.2793, -7.3115, -7.2416, -7.5438, -7.3099, -7.8015, -7.0314, -6.8642, -6.1879, -7.183, -6.6218, -7.0522, -7.3022, -7.3373, -6.9816, -7.1966, -6.9146, -7.0066, -6.4811, -7.0949, -7.2479, -7.2639, -7.0558, -7.1487, -7.2427, -7.4949, -7.3664, -7.435, -7.2663, -8.0439, -8.0526, -7.5785, -8.0724, -8.1138, -8.1465, -8.1555, -7.9882, -8.1448, -7.2161, -8.0335, -8.1809, -8.1859, -7.7537, -8.2209, -7.8834, -8.1785, -8.2608, -8.2217, -6.8816, -8.0607, -7.7408, -8.3148, -8.1214, -7.7453, -8.1961, -7.904, -7.8309, -7.2997, -7.7149, -7.5326, -7.4607, -6.5612, -7.6714, -7.5033, -6.5631, -6.7893, -7.9177, -7.7891, -7.9484, -7.538, -6.5765, -7.7233, -7.2534, -7.1616, -7.0569, -7.5803, -7.2311, -7.4814, -7.3431, -7.2706, -7.46, -7.4113, -7.3997, -7.4133, -7.4631, -7.478, -7.5064, -7.5325, -7.9464, -7.9907, -8.0046, -8.1209, -8.0396, -8.1683, -8.2068, -8.2562, -8.3328, -8.2154, -8.2161, -8.3431, -8.3695, -8.4136, -8.4144, -8.0599, -8.2508, -8.4678, -8.2428, -8.3517, -8.3175, -8.052, -8.4505, -8.5682, -8.5716, -8.572, -8.5725, -8.5726, -8.5885, -8.589, -7.6113, -7.9552, -8.1119, -8.4507, -7.7816, -8.389, -8.4513, -7.2234, -8.3803, -8.2067, -7.5759, -7.8014, -7.5212, -7.7367, -8.0235, -8.0436, -7.8619, -7.7982, -7.3472, -6.9539, -7.4509, -7.8495, -7.4971, -7.9291, -7.2253, -7.4164, -6.7539, -7.1557, -7.6118, -7.2979, -7.5199, -7.3057, -7.1539, -7.3864, -7.5096, -7.432, -7.3936, -7.3598, -7.3276, -7.3201, -7.4542, -7.384, -7.6165, -7.5453, -7.4173, -7.4516, -7.4816, -7.5746, -7.5813, -7.2059, -7.2064, -7.2255, -6.9979, -7.1475, -7.8893, -7.2684, -7.2687, -7.2098, -7.2803, -7.7524, -7.1542, -7.1911, -8.0702, -7.1795, -8.0803, -8.1493, -8.1758, -7.353, -7.8355, -7.0946, -7.6816, -8.2422, -8.2466, -8.2534, -8.3073, -8.308, -7.897, -8.1337, -8.2318, -7.9475, -7.7791, -6.6356, -7.1695, -6.8713, -7.0634, -7.9361, -7.1588, -7.3367, -6.5816, -7.4453, -7.2865, -7.208, -7.7317, -7.4912, -7.1997, -6.5159, -6.7965, -6.7564, -7.3491, -6.2994, -6.6098, -6.9153, -6.9767, -7.2134, -7.0449, -7.0394, -7.1703, -7.2224, -7.2204, -7.8506, -7.9221, -7.697, -7.6535, -8.0509, -8.078, -7.3995, -7.3997, -7.7004, -7.4115, -8.1827, -8.1854, -8.0586, -8.2105, -8.2454, -7.6639, -8.1975, -7.4475, -8.307, -8.3101, -7.7998, -8.2234, -8.3469, -8.3495, -8.2175, -8.3603, -8.3718, -8.396, -8.1849, -8.1204, -8.1205, -7.4842, -8.1207, -7.8643, -8.1209, -8.1208, -7.0948, -7.5901, -7.5502, -7.7047, -7.563, -7.9084, -7.5939, -7.5172, -7.5122, -7.5915, -6.9876, -7.4767, -6.7929, -7.5538, -7.6311, -7.179, -7.0665, -7.1193, -7.149, -7.4374, -7.0748, -7.0923, -7.5094, -7.2081, -6.9675, -7.3182, -7.373, -7.2554, -7.3124, -7.3499, -7.3526, -7.3735, -7.4245, -7.4713, -7.5098, -7.5106, -7.3568, -6.9546, -8.0154, -8.0568, -8.097, -8.028, -7.9963, -8.1645, -8.1679, -8.1954, -8.2153, -8.216, -8.2182, -7.9717, -8.2737, -8.2854, -8.2379, -8.3155, -7.9633, -8.3442, -8.05, -8.3006, -8.4215, -8.4265, -8.2068, -8.4421, -8.3275, -8.5037, -8.5038, -8.5213, -8.2605, -7.2204, -7.9297, -8.0403, -8.0486, -7.9867, -7.3972, -6.819, -7.0989, -6.0753, -6.7712, -7.4782, -7.2548, -7.2957, -7.1458, -7.478, -7.5046, -7.0934, -7.4794, -7.2679, -7.2294, -7.3876, -7.2664, -7.2265, -7.2014, -7.4672, -7.2837, -7.3879, -7.4388, -7.5345, -7.627, -7.6251, -7.4825, -7.3269, -7.5235, -7.4434, -7.4587, -7.4609, -7.6958, -7.9851, -7.8327, -8.1584, -8.1917, -8.0615, -8.2936, -8.3325, -8.3336, -8.2694, -8.3721, -8.3755, -8.3855, -8.4128, -8.4417, -8.4422, -8.4423, -8.3097, -8.4695, -8.471, -8.4735, -8.4738, -8.4755, -8.4848, -8.4885, -8.4094, -8.4094, -8.4097, -8.41, -8.4102, -8.1367, -8.0004, -8.1906, -7.3941, -7.4476, -7.5456, -8.3366, -7.197, -7.8924, -8.2181, -7.8803, -7.8627, -8.1509, -8.2161, -8.0369, -7.5884, -7.0699, -7.2647, -7.1523, -7.3007, -7.5236, -7.0735, -7.4168, -6.7724, -7.5595, -7.619, -7.473, -7.2349, -7.2546, -7.2273, -7.4146, -7.6376, -7.4744, -7.4074, -7.427, -7.5442, -7.4555, -7.4909, -7.6096, -7.5163, -7.606, -7.6018, -7.9033, -7.9527, -7.9967, -7.8621, -8.196, -8.1968, -7.9819, -8.2289, -7.3854, -8.2875, -8.1578, -8.1522, -8.3404, -8.3664, -7.8876, -8.261, -8.421, -8.4274, -8.4615, -8.3375, -8.3379, -8.338, -8.338, -8.3382, -8.3385, -8.485, -8.2689, -8.3176, -8.5278, -8.5305, -7.9099, -8.296, -7.6765, -7.9455, -6.7438, -7.4012, -7.5111, -7.2757, -7.9371, -7.7724, -6.4375, -7.2809, -8.1543, -7.5685, -7.9384, -7.3218, -7.2529, -7.3203, -7.2072, -7.1007, -7.2252, -7.2512, -7.3777, -7.5537, -7.6316, -7.5766, -7.4471, -7.3207, -7.3063, -7.3769, -7.5369, -7.4777, -7.5544, -7.5357, -7.5105, -7.5959, -7.5973, -7.8143, -7.9192, -8.0687, -8.0947, -8.095, -8.1097, -7.2926, -8.1564, -8.161, -8.1675, -8.1854, -8.1092, -7.4124, -8.271, -7.2534, -7.6052, -8.3403, -8.3493, -8.247, -8.3509, -8.3509, -8.3511, -8.3514, -8.4129, -8.4139, -8.4158, -8.2171, -8.4472, -8.4472, -8.4527, -7.8276, -8.3532, -6.854, -8.0312, -7.8963, -8.1368, -6.793, -7.2757, -8.066, -6.1138, -7.7892, -7.9925, -7.6963, -7.4025, -8.068, -7.2393, -7.9155, -7.7602, -7.1951, -7.5946, -7.5068, -7.427, -7.5777, -7.5032, -7.5697, -7.5062, -7.4624, -7.5646, -7.4471, -7.5635, -7.5367, -7.4798, -7.5443, -7.5443, -7.5593, -7.654, -7.6148, -7.5992, -7.6426, -7.6324], \"loglift\": [30.0, 29.0, 28.0, 27.0, 26.0, 25.0, 24.0, 23.0, 22.0, 21.0, 20.0, 19.0, 18.0, 17.0, 16.0, 15.0, 14.0, 13.0, 12.0, 11.0, 10.0, 9.0, 8.0, 7.0, 6.0, 5.0, 4.0, 3.0, 2.0, 1.0, 1.6276, 1.5722, 1.5676, 1.5253, 1.5194, 1.4989, 1.4973, 1.4935, 1.4927, 1.4882, 1.4861, 1.4859, 1.4819, 1.4719, 1.4672, 1.4653, 1.4625, 1.4607, 1.4586, 1.4569, 1.4567, 1.4566, 1.4489, 1.443, 1.4345, 1.428, 1.4252, 1.4216, 1.4189, 1.4119, 1.3986, 1.3668, 1.3815, 1.2861, 1.352, 1.3914, 1.3729, 1.4004, 1.3277, 1.3191, 1.3283, 1.3561, 1.3146, 1.4051, 1.1494, 1.032, 1.0461, 1.2987, 0.875, 0.9559, 0.6832, 1.0479, 1.2741, 1.0377, 0.7135, 0.6062, 0.8205, 0.5109, 0.8683, -0.1686, 0.5624, 0.3991, 0.4074, 0.5212, 0.6253, 0.7659, 0.2884, 0.5844, 0.2971, 0.0006, 0.4469, 0.286, 0.1081, 0.0853, 0.0716, 1.7557, 1.7265, 1.7199, 1.699, 1.6988, 1.6983, 1.6765, 1.6717, 1.6229, 1.6218, 1.6059, 1.6034, 1.6017, 1.5979, 1.5955, 1.5948, 1.594, 1.5935, 1.5933, 1.588, 1.5798, 1.5484, 1.5478, 1.5474, 1.5364, 1.5318, 1.5281, 1.5279, 1.5224, 1.5218, 1.5002, 1.5083, 1.4965, 1.3902, 1.3537, 1.2871, 1.2677, 1.2539, 1.2605, 1.1351, 1.1906, 1.2879, 0.4444, 1.1247, 0.9612, 0.9818, 0.7742, 1.1921, 0.9101, 1.1626, 0.4918, 0.7452, 0.7243, 0.8825, 0.7321, 0.8915, 1.1276, 0.6403, 0.5764, 0.4571, 0.3077, 0.3108, 0.6807, 0.4543, 0.4049, 0.0259, 0.1709, 0.1438, 0.1835, 0.474, 0.1569, 0.1129, -0.0614, -0.0388, 0.3573, 2.0008, 1.9857, 1.9816, 1.9783, 1.9572, 1.9472, 1.9169, 1.9163, 1.8842, 1.8619, 1.8526, 1.8518, 1.8495, 1.8338, 1.8312, 1.8311, 1.8224, 1.8134, 1.8105, 1.8059, 1.8027, 1.8009, 1.7878, 1.7862, 1.7758, 1.7577, 1.7559, 1.7462, 1.7429, 1.7375, 1.7104, 1.6221, 1.5537, 1.2746, 0.8867, 1.3396, 1.0931, 1.4585, 1.4094, 1.4053, 1.0306, 0.728, 0.5853, 1.232, 0.6796, 0.9782, 1.1859, 0.444, 1.0893, 0.8768, 0.8883, 0.5942, 0.1175, 0.1962, 0.2517, 0.5263, 0.7515, 0.1561, 0.1315, 0.1748, 0.0312, 0.1006, 0.0213, 0.0865, 2.186, 2.0534, 2.0066, 1.996, 1.9815, 1.9637, 1.9557, 1.947, 1.9412, 1.9403, 1.9169, 1.876, 1.856, 1.8556, 1.8408, 1.8405, 1.8338, 1.8323, 1.8266, 1.8204, 1.8167, 1.8161, 1.8043, 1.803, 1.8008, 1.7952, 1.7925, 1.7796, 1.7776, 1.7651, 1.7638, 1.7557, 1.7511, 1.6036, 1.6864, 1.7208, 1.4777, 1.5258, 1.7025, 1.3921, 1.6913, 1.1067, 1.0544, 1.4092, 1.2365, 1.2262, 1.1734, 0.6596, 0.7013, 0.8038, 1.2376, 0.565, 1.0458, 0.4896, 0.4344, 1.1317, -0.4745, 0.1523, 1.2311, 0.2516, 0.4497, 0.2711, -0.1833, -0.1732, -0.0043, -0.1172, 0.0318, 0.0107, -0.0424, -0.0819, 2.112, 2.1083, 2.0786, 2.045, 2.0325, 1.9824, 1.9705, 1.966, 1.9656, 1.9434, 1.9297, 1.9297, 1.9288, 1.9212, 1.9087, 1.8974, 1.884, 1.8703, 1.87, 1.8644, 1.8571, 1.8478, 1.8462, 1.8405, 1.8396, 1.8388, 1.8287, 1.8196, 1.8172, 1.7877, 1.751, 1.6779, 1.7115, 1.6871, 1.7438, 1.5115, 1.693, 1.6191, 1.5136, 1.3388, 1.5653, 0.7759, 1.5159, 1.1856, 0.7327, 1.0184, 1.0406, 0.3192, 0.3215, 0.3505, 1.111, 1.2866, 0.9875, 0.4849, 0.4905, -0.3691, 0.5822, 0.6907, 0.2858, 0.2633, 0.1524, 0.5631, 0.743, 0.5006, 0.6273, 0.1501, 0.1406, 0.1566, 0.7849, 0.5989, 0.0146, 0.381, 0.3915, 2.1464, 2.0887, 2.0807, 2.0764, 2.039, 1.9986, 1.9982, 1.9945, 1.9654, 1.9641, 1.963, 1.952, 1.9488, 1.9449, 1.9449, 1.935, 1.9269, 1.9164, 1.9161, 1.9142, 1.9105, 1.9, 1.8834, 1.8772, 1.8748, 1.8746, 1.8675, 1.8567, 1.8518, 1.8344, 1.8178, 1.8057, 1.7139, 1.4355, 1.8112, 1.72, 1.746, 1.2497, 1.4474, 0.728, 1.3277, 1.0374, 1.1943, 0.6341, 0.4823, 1.1313, 0.5099, 0.9808, 0.1964, 0.4402, -0.5553, 0.0793, 0.5036, -0.0429, 0.1845, 0.1865, 0.294, 0.0092, -0.134, 0.321, -0.0497, -0.031, -0.0953, 0.2238, 0.0557, -0.5148, -0.2149, 2.1063, 2.0869, 2.0831, 2.0625, 2.0323, 2.0097, 1.9641, 1.9591, 1.9381, 1.8928, 1.8906, 1.8867, 1.8448, 1.8447, 1.8408, 1.8403, 1.8368, 1.8276, 1.8271, 1.8267, 1.8259, 1.8196, 1.8124, 1.8001, 1.7984, 1.7905, 1.7902, 1.7829, 1.7781, 1.7772, 1.7743, 1.7473, 1.7354, 1.5683, 1.5294, 1.5376, 1.4861, 1.557, 1.5577, 1.1577, 1.6713, 1.3047, 1.415, 1.3886, 1.4342, 0.2979, 1.5118, 1.1147, 1.0455, 1.1534, 1.1383, 0.5184, 0.7667, 0.3577, 0.6259, 0.9368, 0.8138, 0.8261, 1.0321, 1.1666, 0.4858, 0.281, 0.2789, 0.3933, 0.1796, 0.1902, 0.0036, 0.2328, 0.3564, -0.1819, -0.1322, -0.0813, -0.0615, -0.0711, 0.3773, 2.3123, 2.291, 2.2481, 2.15, 2.0986, 2.0845, 2.0634, 2.0597, 2.0529, 2.0309, 2.0253, 2.0246, 2.0213, 2.0193, 2.0191, 2.0075, 1.9844, 1.9827, 1.9808, 1.9676, 1.9638, 1.957, 1.9567, 1.9412, 1.9298, 1.9222, 1.9193, 1.9174, 1.9055, 1.8977, 1.8929, 1.8606, 1.6785, 1.8237, 1.7349, 1.7193, 1.6421, 1.7313, 1.6589, 1.8001, 1.4823, 1.4058, 1.0451, 1.3937, 0.9875, 1.2749, 1.4352, 1.4426, 1.0744, 1.2255, 0.8427, 0.6171, -0.2748, 0.6352, 0.9226, 0.8219, 0.0098, 0.1613, -0.0349, 2.4085, 2.3625, 2.237, 2.1874, 2.1428, 2.138, 2.1346, 2.1269, 2.1035, 2.0848, 2.0796, 2.076, 2.0755, 2.0722, 2.0655, 2.0648, 2.0618, 2.0441, 2.0295, 2.0291, 2.0231, 2.0172, 2.0084, 2.0037, 1.9897, 1.9848, 1.9842, 1.9765, 1.9694, 1.9611, 1.944, 1.8944, 1.7422, 1.8617, 1.7242, 1.6795, 1.2516, 1.7663, 1.6598, 0.9109, 0.9156, 1.8748, 1.7211, 1.8815, 1.2251, -0.3703, 1.5102, 0.4537, 0.1803, -0.0757, 1.0602, -0.0234, 0.7218, 0.2083, -0.205, 0.2176, -0.0643, -0.2561, -0.1803, -0.19, -0.1816, -0.1692, -0.2226, 2.2008, 2.177, 2.1379, 2.1043, 2.0775, 2.0684, 2.054, 1.9864, 1.9771, 1.9747, 1.9743, 1.9706, 1.954, 1.9258, 1.9253, 1.9199, 1.9041, 1.8906, 1.8813, 1.8676, 1.8645, 1.8614, 1.8385, 1.8235, 1.8213, 1.821, 1.8206, 1.8205, 1.8097, 1.8094, 1.8079, 1.8081, 1.7842, 1.8063, 1.7174, 1.7978, 1.806, 1.6024, 1.7855, 1.7329, 1.5279, 1.594, 1.4638, 1.4335, 1.6118, 1.619, 1.439, 1.3673, 0.927, 0.4767, 0.9449, 1.3661, 0.8933, 1.4651, 0.3984, 0.6371, -0.5477, 0.1174, 0.9058, 0.3113, 0.6964, 0.2457, -0.0884, 0.4047, 0.6256, 0.3627, 0.2439, 0.14, 0.0195, -0.0237, 0.2566, -0.1763, 0.6904, 0.2863, -0.4361, -0.3079, -0.1717, 0.3457, -0.2394, 2.4941, 2.4939, 2.4827, 2.4541, 2.3809, 2.2361, 2.2076, 2.2075, 2.2049, 2.1722, 2.1637, 2.1623, 2.1437, 2.1378, 2.137, 2.1321, 2.0924, 2.0768, 2.0544, 2.0486, 2.0423, 2.0406, 2.037, 2.0343, 2.0302, 1.997, 1.9966, 1.9941, 1.9884, 1.9822, 1.9779, 1.9732, 1.8629, 1.8705, 1.8256, 1.8167, 1.9646, 1.7687, 1.7862, 1.5286, 1.7666, 1.6766, 1.5702, 1.88, 1.6885, 1.4447, 0.7732, 1.0162, 0.9485, 1.5498, -0.0931, 0.3714, 0.7302, 0.5075, 1.2873, 0.2515, 0.1042, 0.8805, 0.0106, -0.1548, 2.2831, 2.2449, 2.2187, 2.1741, 2.1728, 2.1463, 2.1307, 2.1245, 2.114, 2.1118, 2.0949, 2.0932, 2.088, 2.0704, 2.0563, 2.0534, 2.0498, 2.048, 2.0175, 2.0156, 2.0143, 2.0077, 1.992, 1.9903, 1.989, 1.9834, 1.9758, 1.9601, 1.9526, 1.9447, 1.9446, 1.8841, 1.9447, 1.9061, 1.9445, 1.9444, 1.691, 1.802, 1.7108, 1.7253, 1.56, 1.7831, 1.5059, 1.4147, 1.3358, 1.405, 0.7195, 1.2676, 0.4962, 1.3452, 1.423, 0.6654, 0.4332, 0.5044, 0.4603, 0.9742, -0.0093, -0.1111, 1.1209, 0.1389, -0.7612, 0.4253, 0.6199, -0.0477, 0.0248, -0.0535, -0.0795, -0.0316, 0.1182, 0.4004, 0.108, -0.367, 2.5254, 2.262, 2.2023, 2.1784, 2.1547, 2.147, 2.1216, 2.1142, 2.1122, 2.0953, 2.083, 2.0826, 2.0812, 2.0728, 2.0464, 2.0389, 2.0326, 2.0197, 2.0144, 2.0011, 1.9798, 1.9592, 1.9501, 1.9468, 1.9434, 1.9364, 1.9357, 1.8946, 1.8945, 1.8825, 1.88, 1.8405, 1.8634, 1.8563, 1.8174, 1.7797, 1.4338, 0.8858, 1.0432, 0.1309, 0.3724, 1.09, 0.7969, 0.8445, 0.6422, 1.0592, 1.0557, 0.1797, 0.8194, 0.3931, 0.2447, 0.541, 0.285, 0.0834, -0.1359, 0.5204, 0.0127, 0.2576, 0.356, 0.594, 0.8645, 0.8503, 0.2918, -0.3457, 0.4416, -0.1015, -0.1117, -0.2279, 2.2896, 2.2357, 2.2161, 2.1323, 2.1117, 2.1039, 2.0468, 2.0215, 2.0207, 2.015, 1.9952, 1.9848, 1.9818, 1.968, 1.9483, 1.948, 1.9479, 1.9433, 1.9293, 1.9283, 1.9266, 1.9264, 1.9252, 1.9188, 1.9162, 1.9044, 1.9043, 1.9041, 1.9039, 1.9037, 1.8794, 1.8321, 1.8644, 1.6939, 1.632, 1.6273, 1.8722, 1.3235, 1.6558, 1.7982, 1.5904, 1.5331, 1.7304, 1.775, 1.6109, 1.1705, 0.6168, 0.7283, 0.5461, 0.571, 0.7757, 0.0702, 0.5213, -0.5661, 0.7383, 0.8027, 0.5177, 0.0029, -0.0216, -0.1617, 0.1377, 0.6645, 0.2033, -0.1183, -0.1539, 0.2505, -0.1136, -0.2831, 0.2637, -0.5351, 0.1241, 0.0053, 2.3142, 2.2854, 2.2269, 2.2118, 2.1355, 2.1349, 2.1276, 2.1142, 2.0937, 2.0755, 2.0668, 2.0441, 2.0401, 2.0223, 2.0185, 2.0079, 1.9848, 1.9803, 1.9564, 1.9492, 1.949, 1.9488, 1.9487, 1.9486, 1.9483, 1.9398, 1.9276, 1.9098, 1.9094, 1.9075, 1.8936, 1.8938, 1.7299, 1.6414, 0.8265, 1.2304, 1.2836, 0.9586, 1.5087, 1.3131, -0.2313, 0.7314, 1.726, 1.0088, 1.4307, 0.4245, 0.2995, 0.3407, 0.1398, -0.1195, 0.0478, -0.0434, 0.1737, 0.5993, 0.7874, 0.5847, 0.1903, -0.177, -0.2408, -0.0878, 0.2204, -0.1406, 0.2403, 0.088, -0.1685, 0.3427, -0.027, 2.4014, 2.3397, 2.2472, 2.2306, 2.2303, 2.2151, 2.2135, 2.1905, 2.1874, 2.1832, 2.1714, 2.1708, 2.1613, 2.1138, 2.1035, 2.103, 2.066, 2.0598, 2.0597, 2.0587, 2.0587, 2.0585, 2.0583, 2.0149, 2.0142, 2.0129, 2.0018, 1.9904, 1.9904, 1.9865, 1.966, 1.9813, 1.8127, 1.9292, 1.8536, 1.922, 1.2588, 1.4139, 1.8545, 0.0925, 1.5607, 1.7145, 1.3501, 0.7396, 1.7558, 0.245, 1.4768, 1.1621, -0.1296, 0.7622, 0.4839, 0.2597, 0.5446, 0.2847, 0.4344, 0.0461, -0.1525, 0.2265, -0.2393, 0.18, 0.006, -0.3362, -0.1138, -0.248, -0.2123, 0.499, 0.0629, -0.3662, 0.2018, -0.2905]}, \"token.table\": {\"Topic\": [1, 2, 1, 2, 5, 7, 8, 10, 12, 1, 11, 3, 13, 16, 1, 5, 8, 12, 1, 3, 5, 9, 11, 2, 5, 1, 1, 8, 3, 1, 2, 2, 1, 3, 1, 8, 2, 8, 1, 2, 3, 4, 5, 7, 8, 9, 11, 14, 2, 3, 8, 5, 11, 8, 8, 1, 3, 8, 13, 1, 11, 1, 10, 2, 2, 1, 2, 3, 4, 7, 8, 11, 12, 7, 1, 3, 8, 11, 3, 4, 1, 1, 8, 2, 1, 1, 3, 5, 6, 7, 10, 12, 1, 2, 3, 4, 5, 6, 8, 9, 11, 12, 15, 11, 1, 4, 8, 1, 2, 3, 7, 8, 11, 1, 1, 2, 3, 14, 1, 2, 11, 2, 9, 2, 5, 1, 11, 1, 2, 10, 1, 2, 2, 3, 7, 13, 1, 2, 7, 1, 3, 4, 11, 1, 1, 13, 2, 7, 2, 1, 1, 1, 1, 5, 5, 11, 9, 1, 4, 9, 11, 1, 2, 3, 5, 6, 7, 8, 9, 10, 12, 2, 1, 2, 3, 6, 7, 11, 4, 1, 2, 3, 4, 5, 6, 7, 8, 9, 10, 11, 12, 13, 14, 15, 16, 2, 11, 1, 2, 14, 1, 3, 8, 1, 2, 1, 1, 1, 2, 1, 2, 5, 1, 2, 5, 11, 1, 2, 6, 1, 2, 3, 2, 3, 1, 2, 1, 2, 4, 6, 1, 2, 8, 1, 2, 7, 4, 2, 8, 1, 1, 3, 16, 1, 11, 3, 2, 8, 1, 2, 3, 5, 8, 9, 10, 12, 1, 2, 1, 2, 8, 2, 1, 1, 2, 1, 3, 2, 2, 5, 1, 3, 5, 1, 1, 11, 1, 2, 3, 13, 5, 1, 2, 1, 3, 2, 1, 8, 1, 2, 3, 4, 6, 7, 10, 1, 3, 6, 1, 1, 2, 2, 1, 1, 2, 3, 4, 1, 2, 3, 5, 14, 13, 1, 1, 4, 1, 2, 3, 9, 10, 13, 1, 11, 1, 2, 3, 4, 5, 6, 8, 13, 1, 2, 3, 4, 7, 11, 1, 1, 2, 7, 9, 11, 13, 1, 2, 1, 2, 4, 7, 8, 1, 2, 4, 5, 6, 7, 2, 5, 6, 1, 1, 8, 1, 7, 11, 1, 1, 2, 13, 1, 3, 4, 8, 10, 12, 1, 7, 1, 3, 5, 6, 7, 9, 12, 1, 2, 4, 5, 7, 8, 1, 2, 1, 2, 5, 7, 10, 2, 1, 2, 3, 4, 12, 1, 1, 8, 2, 2, 1, 8, 1, 1, 2, 4, 5, 2, 1, 7, 1, 2, 3, 4, 5, 6, 7, 8, 9, 10, 11, 12, 13, 14, 2, 11, 1, 2, 3, 4, 6, 7, 2, 1, 2, 3, 4, 5, 6, 7, 11, 12, 8, 1, 3, 1, 2, 1, 2, 4, 6, 1, 3, 5, 1, 5, 8, 1, 2, 3, 4, 1, 1, 4, 8, 1, 1, 1, 1, 3, 2, 1, 2, 3, 5, 4, 1, 1, 2, 1, 2, 3, 7, 1, 2, 11, 1, 1, 2, 3, 4, 5, 6, 14, 1, 3, 5, 7, 15, 1, 1, 2, 5, 7, 11, 11, 11, 4, 6, 1, 1, 2, 3, 6, 1, 2, 1, 2, 7, 3, 10, 2, 5, 1, 1, 3, 4, 7, 9, 13, 1, 1, 1, 3, 11, 1, 12, 1, 3, 3, 1, 2, 11, 7, 1, 2, 3, 4, 5, 6, 7, 10, 11, 13, 4, 1, 3, 3, 1, 2, 3, 7, 1, 2, 3, 5, 1, 2, 7, 1, 7, 11, 1, 2, 3, 8, 1, 2, 3, 4, 5, 7, 9, 11, 1, 6, 1, 2, 3, 1, 2, 7, 1, 2, 1, 2, 6, 1, 2, 2, 11, 1, 1, 3, 5, 1, 11, 9, 7, 11, 1, 2, 2, 4, 1, 2, 3, 4, 5, 6, 7, 9, 11, 13, 14, 1, 1, 2, 3, 8, 9, 1, 2, 3, 4, 5, 2, 1, 2, 4, 6, 14, 2, 1, 2, 3, 3, 3, 5, 8, 8, 1, 1, 1, 2, 3, 4, 5, 6, 7, 8, 10, 13, 6, 6, 1], \"Freq\": [0.3823547454286908, 0.1911773727143454, 0.12962272017149784, 0.12962272017149784, 0.12962272017149784, 0.12962272017149784, 0.12962272017149784, 0.12962272017149784, 0.12962272017149784, 0.37911818147349635, 0.37911818147349635, 0.5966143360389146, 0.19887144534630485, 0.19887144534630485, 0.16162955491926556, 0.16162955491926556, 0.16162955491926556, 0.16162955491926556, 0.15659528072016385, 0.15659528072016385, 0.15659528072016385, 0.15659528072016385, 0.15659528072016385, 0.36023229347699653, 0.36023229347699653, 0.3636129747808926, 0.33151378100622086, 0.33151378100622086, 0.6211443280038444, 0.23868895043679172, 0.23868895043679172, 0.41506563659684725, 0.23101555409562782, 0.23101555409562782, 0.22006351402847535, 0.33615167386331013, 0.2057420155674585, 0.2057420155674585, 0.08769673384642805, 0.08769673384642805, 0.08769673384642805, 0.08769673384642805, 0.1753934676928561, 0.08769673384642805, 0.1753934676928561, 0.08769673384642805, 0.08769673384642805, 0.08769673384642805, 0.19972043092194408, 0.19972043092194408, 0.19972043092194408, 0.5450309341807034, 0.8706401100524137, 0.529407775960883, 0.4569859226749871, 0.4016084157556411, 0.4016084157556411, 0.6780311106308254, 0.6374924939390575, 0.6061736481561251, 1.0422092963214709, 0.43127789331890565, 0.43127789331890565, 0.8646844713890398, 0.503241853729115, 0.18552033984784327, 0.09276016992392164, 0.09276016992392164, 0.09276016992392164, 0.09276016992392164, 0.09276016992392164, 0.09276016992392164, 0.09276016992392164, 0.545152608766351, 0.3231378209783218, 0.5605068059527472, 0.49753887270151703, 0.7174628401338233, 0.6208355007245393, 0.33332812088515495, 0.4180630647926393, 0.2303271592128774, 0.2303271592128774, 0.6895509514705794, 0.5411640000649928, 0.22901601010686584, 0.11450800505343292, 0.11450800505343292, 0.11450800505343292, 0.11450800505343292, 0.11450800505343292, 0.11450800505343292, 0.27270714284172426, 0.2045303571312932, 0.06817678571043106, 0.06817678571043106, 0.06817678571043106, 0.06817678571043106, 0.06817678571043106, 0.06817678571043106, 0.06817678571043106, 0.06817678571043106, 0.06817678571043106, 0.4947090520059502, 0.2880030593597085, 0.2880030593597085, 0.2880030593597085, 0.14417021361476567, 0.14417021361476567, 0.14417021361476567, 0.14417021361476567, 0.14417021361476567, 0.8262238898731941, 1.0715075457387861, 0.1380489595477867, 0.1380489595477867, 0.1380489595477867, 0.1380489595477867, 0.32413542020373687, 0.35973498946591104, 0.35973498946591104, 0.5221406335757557, 0.8080037087546117, 0.3897594063819776, 0.5739848308537141, 1.1787256148075278, 0.46397162399755804, 0.30649177883716244, 0.15324588941858122, 0.15324588941858122, 0.1743658353329051, 0.1743658353329051, 0.1527591774653622, 0.3055183549307244, 0.1527591774653622, 0.1527591774653622, 0.16500430360670681, 0.16500430360670681, 0.16500430360670681, 0.19866867666656854, 0.19866867666656854, 0.19866867666656854, 0.19866867666656854, 0.2134062527103692, 0.21767101587719856, 0.21767101587719856, 0.3429438617613964, 0.3429438617613964, 0.47494163787945715, 0.6278942736753271, 0.4334918860564751, 0.2871007957334464, 0.29627047271325885, 0.29627047271325885, 0.34051892120274213, 0.7714670212612705, 0.457712102025464, 0.3384873660043629, 0.3384873660043629, 1.0640662955109637, 1.0339657591674831, 0.2565393522753348, 0.08551311742511161, 0.08551311742511161, 0.08551311742511161, 0.08551311742511161, 0.08551311742511161, 0.08551311742511161, 0.08551311742511161, 0.08551311742511161, 0.08551311742511161, 1.1882240682537355, 0.22548643150411965, 0.22548643150411965, 0.11274321575205982, 0.11274321575205982, 0.11274321575205982, 0.11274321575205982, 0.4577174374737983, 0.12564078934811843, 0.18846118402217765, 0.18846118402217765, 0.031410197337029606, 0.031410197337029606, 0.031410197337029606, 0.06282039467405921, 0.031410197337029606, 0.031410197337029606, 0.031410197337029606, 0.031410197337029606, 0.031410197337029606, 0.06282039467405921, 0.031410197337029606, 0.031410197337029606, 0.031410197337029606, 0.3168635071318572, 0.8066632117370891, 0.5176229968216657, 0.3177725193532592, 0.3177725193532592, 0.5270487719085402, 0.261923640559386, 0.261923640559386, 0.4390493981319477, 0.21952469906597386, 0.21615956500744238, 0.33067510778569337, 0.19863671101824534, 0.19863671101824534, 0.18336416883395382, 0.18336416883395382, 0.18336416883395382, 0.16636177365369026, 0.16636177365369026, 0.16636177365369026, 0.47743481338804716, 0.2987853525110232, 0.1493926762555116, 0.1493926762555116, 0.19920603751067856, 0.19920603751067856, 0.19920603751067856, 0.25667859194223497, 0.3667124834444664, 0.1758281294971508, 0.1758281294971508, 0.1206933760388142, 0.1206933760388142, 0.1206933760388142, 0.1206933760388142, 0.6935298010869685, 1.1929519606478642, 0.4118927141478271, 0.257411626070434, 0.257411626070434, 0.128705813035217, 0.6679807873727716, 0.22074484995702184, 0.6622345498710654, 0.762554701627289, 0.8651997525398246, 0.3678092693085016, 0.3678092693085016, 0.48330763811489585, 0.5804630165066214, 0.45053446374321554, 0.32594097780715525, 0.5206187189431636, 0.19657794353561897, 0.09828897176780949, 0.09828897176780949, 0.09828897176780949, 0.09828897176780949, 0.09828897176780949, 0.09828897176780949, 0.09828897176780949, 0.23139955390112366, 0.23139955390112366, 0.24738028659007003, 0.24738028659007003, 0.24738028659007003, 0.25473295843111393, 0.5207253233176892, 0.32603675802437354, 0.16301837901218677, 0.17750881723289402, 0.17750881723289402, 1.2014824078690693, 0.42862647224732797, 0.42862647224732797, 0.22970336753628506, 0.22970336753628506, 0.22970336753628506, 1.1176115314693036, 0.31155965526475343, 0.31155965526475343, 0.13454694461121727, 0.13454694461121727, 0.26909388922243455, 0.13454694461121727, 0.30737066715936373, 0.18961943936702136, 1.128082301577867, 0.8016830359863996, 0.5944447873255063, 0.40503684281366376, 0.3858782468978346, 0.6905370447096771, 0.21371213854252846, 0.10685606927126423, 0.10685606927126423, 0.10685606927126423, 0.10685606927126423, 0.10685606927126423, 0.10685606927126423, 0.2484820493650566, 0.2484820493650566, 0.2484820493650566, 0.6618719971097048, 0.18329300247104663, 0.18329300247104663, 0.2546115487897699, 1.1215426180778658, 0.2390681317972589, 0.2390681317972589, 0.11953406589862944, 0.11953406589862944, 0.18750752655678313, 0.18750752655678313, 0.18750752655678313, 0.18750752655678313, 0.18750752655678313, 0.5455552106721184, 0.9478975408262339, 0.6882127911172022, 0.3232006821663598, 0.12058056557485233, 0.12058056557485233, 0.12058056557485233, 0.12058056557485233, 0.12058056557485233, 0.12058056557485233, 0.4881496803187709, 0.4553333967994758, 0.18942400399931028, 0.09471200199965514, 0.09471200199965514, 0.09471200199965514, 0.09471200199965514, 0.09471200199965514, 0.09471200199965514, 0.09471200199965514, 0.13247035253467407, 0.13247035253467407, 0.13247035253467407, 0.13247035253467407, 0.13247035253467407, 0.13247035253467407, 0.22191183645833343, 0.140575059781171, 0.140575059781171, 0.140575059781171, 0.140575059781171, 0.140575059781171, 0.140575059781171, 0.1823769030113144, 0.3647538060226288, 0.24576702747101892, 0.12288351373550946, 0.12288351373550946, 0.12288351373550946, 0.12288351373550946, 0.14318172117032155, 0.14318172117032155, 0.14318172117032155, 0.14318172117032155, 0.14318172117032155, 0.14318172117032155, 0.47396391138857374, 0.47396391138857374, 0.3799483164183463, 0.6231010460205669, 1.2370271356885578, 0.9661424771370768, 0.2425231394735161, 0.2425231394735161, 0.2425231394735161, 0.37631871952193047, 0.2172601507450183, 0.2172601507450183, 0.2172601507450183, 0.12776474307805136, 0.12776474307805136, 0.12776474307805136, 0.12776474307805136, 0.12776474307805136, 0.12776474307805136, 0.22468500306527908, 0.22468500306527908, 0.14088752616598144, 0.14088752616598144, 0.14088752616598144, 0.14088752616598144, 0.14088752616598144, 0.14088752616598144, 0.14088752616598144, 0.25771800803257394, 0.12885900401628697, 0.12885900401628697, 0.12885900401628697, 0.12885900401628697, 0.12885900401628697, 0.3755990265029308, 0.1877995132514654, 0.2628381433611557, 0.13141907168057784, 0.13141907168057784, 0.13141907168057784, 0.13141907168057784, 1.0143924407427296, 0.1461194823353898, 0.1461194823353898, 0.1461194823353898, 0.1461194823353898, 0.1461194823353898, 0.41614517571022386, 1.0842777416264902, 0.3947973163951143, 0.4926808251686694, 0.9955878127865446, 0.22394303781451438, 0.22394303781451438, 0.5057021729928445, 0.18047647302929093, 0.18047647302929093, 0.18047647302929093, 0.18047647302929093, 0.46474257724500245, 0.4576987381871528, 0.44790224109892507, 0.14835220368483595, 0.14835220368483595, 0.07417610184241798, 0.07417610184241798, 0.07417610184241798, 0.07417610184241798, 0.07417610184241798, 0.07417610184241798, 0.07417610184241798, 0.07417610184241798, 0.07417610184241798, 0.07417610184241798, 0.07417610184241798, 0.07417610184241798, 0.2879091972156306, 1.0336772963746363, 0.1274940531019704, 0.1274940531019704, 0.1274940531019704, 0.1274940531019704, 0.1274940531019704, 0.284997729594597, 0.34270605720159686, 0.19464772749200154, 0.19464772749200154, 0.09732386374600077, 0.09732386374600077, 0.09732386374600077, 0.09732386374600077, 0.09732386374600077, 0.09732386374600077, 0.09732386374600077, 0.3746997274969994, 0.2344357331193114, 0.2344357331193114, 0.1775933152136092, 0.1775933152136092, 0.14140869272815174, 0.14140869272815174, 0.14140869272815174, 0.14140869272815174, 0.2102677735073835, 0.2102677735073835, 0.2102677735073835, 0.14815348774996387, 0.14815348774996387, 0.14815348774996387, 0.15621087303209547, 0.15621087303209547, 0.15621087303209547, 0.15621087303209547, 0.4832308646788126, 0.6074147915825714, 0.31562416148185257, 0.31562416148185257, 0.516500470666646, 0.49555220691356416, 0.7783016049408527, 0.2543353348622042, 0.2543353348622042, 0.4204100251960582, 0.13680399514276498, 0.13680399514276498, 0.13680399514276498, 0.13680399514276498, 0.41784552718106605, 0.47562659480069747, 0.4769939870578904, 0.2384969935289452, 0.5376977906486007, 0.15067861024798082, 0.15067861024798082, 0.15067861024798082, 0.47462992241353374, 0.993979454451178, 0.7771711578988146, 0.2790190666123514, 0.264358917544243, 0.17623927836282868, 0.17623927836282868, 0.08811963918141434, 0.08811963918141434, 0.08811963918141434, 0.08811963918141434, 0.3686393511854162, 0.12287978372847207, 0.12287978372847207, 0.12287978372847207, 0.12287978372847207, 0.3363689301778836, 0.3191427686258815, 0.15957138431294074, 0.15957138431294074, 0.15957138431294074, 0.8070310286220567, 0.5342799176745394, 0.5886141551526767, 0.3186223341346353, 0.3186223341346353, 0.30869416843413083, 0.44927937927658407, 0.14975979309219467, 0.14975979309219467, 0.8060946348362171, 0.26358056681676834, 0.26358056681676834, 0.21826575274006502, 0.21826575274006502, 0.3462800198103819, 0.24839785874219858, 0.24839785874219858, 0.25610581887820094, 0.25610581887820094, 0.3977334154346401, 0.11160427246902897, 0.22320854493805795, 0.11160427246902897, 0.11160427246902897, 0.11160427246902897, 0.11160427246902897, 1.0775167283659504, 0.5927850318948188, 0.479655803933052, 0.4112285660093279, 0.4112285660093279, 0.5807762188355996, 0.4143402191615017, 0.24498462603494991, 0.24498462603494991, 0.24702544479761568, 0.5640257066297412, 0.1410064266574353, 0.7044356440118754, 0.44823769105631767, 0.18687265728326646, 0.09343632864163323, 0.09343632864163323, 0.09343632864163323, 0.09343632864163323, 0.09343632864163323, 0.09343632864163323, 0.09343632864163323, 0.09343632864163323, 0.09343632864163323, 0.43081289001232337, 0.48098505663596053, 0.31400428976011163, 0.3800124530145312, 0.2698085672663956, 0.2698085672663956, 0.2698085672663956, 0.2698085672663956, 0.14958042231928206, 0.14958042231928206, 0.14958042231928206, 0.14958042231928206, 0.3261800424168366, 0.3261800424168366, 0.3261800424168366, 0.21082671036549702, 0.21082671036549702, 0.21082671036549702, 0.14652479219893838, 0.14652479219893838, 0.14652479219893838, 0.14652479219893838, 0.09778831560629334, 0.09778831560629334, 0.09778831560629334, 0.09778831560629334, 0.09778831560629334, 0.09778831560629334, 0.09778831560629334, 0.09778831560629334, 0.16801142125106724, 0.16801142125106724, 0.1870848492614155, 0.1870848492614155, 0.1870848492614155, 0.30377702415262614, 0.24977436262901792, 0.24977436262901792, 0.15380260809506358, 0.15380260809506358, 0.14871757841824293, 0.14871757841824293, 0.14871757841824293, 0.2013360321489073, 0.2013360321489073, 0.4119317682810841, 0.7044345452790294, 0.6108915889871244, 0.18652115242532313, 0.18652115242532313, 0.18652115242532313, 0.31087306172539647, 0.31087306172539647, 0.684842958157859, 0.48736567361896754, 0.8263861886385246, 0.32828767424706023, 0.16414383712353012, 0.3355549276474714, 0.3355549276474714, 0.08020075928890553, 0.08020075928890553, 0.16040151857781107, 0.08020075928890553, 0.08020075928890553, 0.08020075928890553, 0.08020075928890553, 0.08020075928890553, 0.08020075928890553, 0.08020075928890553, 0.08020075928890553, 0.9265355173916313, 0.16610393633248402, 0.16610393633248402, 0.16610393633248402, 0.16610393633248402, 0.5352818654749639, 0.15294094718840723, 0.15294094718840723, 0.15294094718840723, 0.15294094718840723, 0.15294094718840723, 0.38763298636856885, 0.13967577044388, 0.13967577044388, 0.13967577044388, 0.13967577044388, 0.13967577044388, 0.313351149510553, 0.2542317066088248, 0.2542317066088248, 0.2542317066088248, 0.562775037436714, 0.28523671834223263, 0.28523671834223263, 0.4370774636635197, 0.4015332840847905, 0.3264669270526703, 0.2554369697572358, 0.18256698960570517, 0.09128349480285258, 0.09128349480285258, 0.09128349480285258, 0.09128349480285258, 0.09128349480285258, 0.09128349480285258, 0.09128349480285258, 0.09128349480285258, 0.09128349480285258, 0.7854309114881378, 0.8018395753280518, 0.6102107077612599], \"Term\": [\"access\", \"access\", \"account\", \"account\", \"account\", \"account\", \"account\", \"account\", \"account\", \"actual\", \"actual\", \"actuals\", \"actuals\", \"actuals\", \"address\", \"address\", \"address\", \"address\", \"adobe\", \"adobe\", \"adobe\", \"adobe\", \"adobe\", \"advertisement\", \"advertisement\", \"advice\", \"agent\", \"agent\", \"aimee\", \"analyst\", \"analyst\", \"announcement\", \"application\", \"application\", \"approval\", \"approved\", \"april\", \"april\", \"attached\", \"attached\", \"attached\", \"attached\", \"attached\", \"attached\", \"attached\", \"attached\", \"attached\", \"attached\", \"august\", \"august\", \"august\", \"availability\", \"avila\", \"avoid\", \"award\", \"bankruptcy\", \"bankruptcy\", \"batch\", \"baylor\", \"belief\", \"bellamy\", \"blackberry\", \"blackberry\", \"bloomberg\", \"brown\", \"business\", \"business\", \"business\", \"business\", \"business\", \"business\", \"business\", \"business\", \"calpine\", \"capacity\", \"carroll\", \"category\", \"charlie\", \"christie\", \"cialis\", \"cialls\", \"claim\", \"claim\", \"clair\", \"cleburne\", \"click\", \"click\", \"click\", \"click\", \"click\", \"click\", \"click\", \"company\", \"company\", \"company\", \"company\", \"company\", \"company\", \"company\", \"company\", \"company\", \"company\", \"company\", \"competitor\", \"congratulation\", \"congratulation\", \"congratulation\", \"contact\", \"contact\", \"contact\", \"contact\", \"contact\", \"contemporary\", \"contest\", \"contract\", \"contract\", \"contract\", \"contract\", \"control\", \"corporate\", \"corporate\", \"cotten\", \"cotton\", \"count\", \"coupon\", \"cowtrap\", \"creative\", \"credit\", \"credit\", \"credit\", \"customer\", \"customer\", \"daily\", \"daily\", \"daily\", \"daily\", \"daren\", \"daren\", \"daren\", \"david\", \"david\", \"david\", \"david\", \"december\", \"delivery\", \"delivery\", \"demand\", \"demand\", \"derivative\", \"differ\", \"dinner\", \"discus\", \"discussion\", \"discussion\", \"download\", \"dynamic\", \"eastrans\", \"effort\", \"effort\", \"egmnom\", \"eileen\", \"email\", \"email\", \"email\", \"email\", \"email\", \"email\", \"email\", \"email\", \"email\", \"email\", \"enerfin\", \"energy\", \"energy\", \"energy\", \"energy\", \"energy\", \"energy\", \"engine\", \"enron\", \"enron\", \"enron\", \"enron\", \"enron\", \"enron\", \"enron\", \"enron\", \"enron\", \"enron\", \"enron\", \"enron\", \"enron\", \"enron\", \"enron\", \"enron\", \"enronxgate\", \"enserch\", \"errrectlon\", \"executive\", \"executive\", \"expectation\", \"february\", \"february\", \"feedback\", \"feedback\", \"final\", \"finance\", \"financial\", \"financial\", \"first\", \"first\", \"first\", \"following\", \"following\", \"following\", \"format\", \"forward\", \"forward\", \"forward\", \"friday\", \"friday\", \"friday\", \"global\", \"graphic\", \"great\", \"great\", \"group\", \"group\", \"group\", \"group\", \"handheld\", \"hesse\", \"holiday\", \"houston\", \"houston\", \"houston\", \"hplnl\", \"hplno\", \"hplno\", \"iaagra\", \"iasts\", \"iferc\", \"iferc\", \"imagine\", \"improvement\", \"industrial\", \"industry\", \"inform\", \"information\", \"information\", \"information\", \"information\", \"information\", \"information\", \"information\", \"information\", \"interest\", \"interest\", \"international\", \"international\", \"international\", \"interview\", \"investing\", \"investment\", \"investment\", \"issue\", \"issue\", \"iteration\", \"jackie\", \"jackie\", \"january\", \"january\", \"january\", \"johansen\", \"jones\", \"jones\", \"kaminski\", \"kaminski\", \"kaminski\", \"kaminski\", \"kevin\", \"kitchen\", \"listbot\", \"loaded\", \"localized\", \"location\", \"looking\", \"lottery\", \"louise\", \"louise\", \"louise\", \"louise\", \"louise\", \"louise\", \"louise\", \"mailing\", \"mailing\", \"mailing\", \"mailwisconsin\", \"management\", \"management\", \"march\", \"mariner\", \"market\", \"market\", \"market\", \"market\", \"marketing\", \"marketing\", \"marketing\", \"marketing\", \"marketing\", \"martin\", \"materially\", \"meaning\", \"medication\", \"meeting\", \"meeting\", \"meeting\", \"meeting\", \"meeting\", \"meeting\", \"megan\", \"melissa\", \"message\", \"message\", \"message\", \"message\", \"message\", \"message\", \"message\", \"message\", \"meter\", \"meter\", \"meter\", \"meter\", \"meter\", \"meter\", \"minute\", \"mmbtu\", \"mmbtu\", \"mmbtu\", \"mmbtu\", \"mmbtu\", \"mmbtu\", \"model\", \"model\", \"money\", \"money\", \"money\", \"money\", \"money\", \"month\", \"month\", \"month\", \"month\", \"month\", \"month\", \"moore\", \"moore\", \"mortgage\", \"murphy\", \"mybill\", \"netherlands\", \"nomination\", \"nomination\", \"nomination\", \"notification\", \"november\", \"november\", \"november\", \"number\", \"number\", \"number\", \"number\", \"number\", \"number\", \"october\", \"october\", \"offer\", \"offer\", \"offer\", \"offer\", \"offer\", \"offer\", \"offer\", \"online\", \"online\", \"online\", \"online\", \"online\", \"online\", \"option\", \"option\", \"order\", \"order\", \"order\", \"order\", \"order\", \"organizational\", \"original\", \"original\", \"original\", \"original\", \"original\", \"outlook\", \"outsourcing\", \"participant\", \"partnership\", \"payback\", \"payment\", \"payment\", \"paypal\", \"people\", \"people\", \"people\", \"people\", \"percent\", \"performance\", \"pharmacy\", \"please\", \"please\", \"please\", \"please\", \"please\", \"please\", \"please\", \"please\", \"please\", \"please\", \"please\", \"please\", \"please\", \"please\", \"point\", \"ponton\", \"power\", \"power\", \"power\", \"power\", \"power\", \"prescription\", \"president\", \"price\", \"price\", \"price\", \"price\", \"price\", \"price\", \"price\", \"price\", \"price\", \"prize\", \"problem\", \"problem\", \"process\", \"process\", \"product\", \"product\", \"product\", \"product\", \"professional\", \"professional\", \"professional\", \"program\", \"program\", \"program\", \"project\", \"project\", \"project\", \"project\", \"projecthoneypot\", \"projection\", \"promotion\", \"promotion\", \"provided\", \"publisher\", \"qmail\", \"quality\", \"quality\", \"quarter\", \"question\", \"question\", \"question\", \"question\", \"quickly\", \"rating\", \"ready\", \"ready\", \"recipient\", \"regard\", \"regard\", \"regard\", \"registered\", \"reinhardt\", \"remembered\", \"removed\", \"report\", \"report\", \"report\", \"report\", \"report\", \"report\", \"report\", \"request\", \"request\", \"request\", \"request\", \"request\", \"requested\", \"review\", \"review\", \"review\", \"review\", \"rhythm\", \"satisfaction\", \"scheduling\", \"search\", \"search\", \"second\", \"security\", \"security\", \"security\", \"seekercenter\", \"service\", \"service\", \"share\", \"share\", \"shipping\", \"shirley\", \"shirley\", \"sitara\", \"sitara\", \"social\", \"software\", \"software\", \"software\", \"software\", \"software\", \"software\", \"softwaremad\", \"sport\", \"squirrelmail\", \"stanford\", \"stanford\", \"statement\", \"stationery\", \"status\", \"status\", \"steve\", \"stock\", \"stock\", \"stone\", \"storage\", \"subject\", \"subject\", \"subject\", \"subject\", \"subject\", \"subject\", \"subject\", \"subject\", \"subject\", \"subject\", \"submit\", \"subscriber\", \"suite\", \"summer\", \"survey\", \"survey\", \"survey\", \"survey\", \"system\", \"system\", \"system\", \"system\", \"tenaska\", \"tenaska\", \"tenaska\", \"texas\", \"texas\", \"texas\", \"thank\", \"thank\", \"thank\", \"thank\", \"thanks\", \"thanks\", \"thanks\", \"thanks\", \"thanks\", \"thanks\", \"thanks\", \"thanks\", \"thing\", \"thing\", \"think\", \"think\", \"think\", \"thought\", \"ticket\", \"ticket\", \"today\", \"today\", \"trading\", \"trading\", \"trading\", \"transaction\", \"transaction\", \"turbine\", \"turnaround\", \"uncertainty\", \"update\", \"update\", \"update\", \"utility\", \"utility\", \"valley\", \"vance\", \"variant\", \"viagra\", \"viagra\", \"video\", \"video\", \"vince\", \"vince\", \"vince\", \"vince\", \"vince\", \"vince\", \"vince\", \"vince\", \"vince\", \"vince\", \"vince\", \"vinoble\", \"visit\", \"visit\", \"visit\", \"visit\", \"visual\", \"volume\", \"volume\", \"volume\", \"volume\", \"volume\", \"weather\", \"website\", \"website\", \"website\", \"website\", \"website\", \"weekend\", \"weekly\", \"weekly\", \"weekly\", \"wharton\", \"window\", \"window\", \"winner\", \"winning\", \"within\", \"world\", \"would\", \"would\", \"would\", \"would\", \"would\", \"would\", \"would\", \"would\", \"would\", \"would\", \"wyoming\", \"wysak\", \"xanaax\"]}, \"R\": 30, \"lambda.step\": 0.01, \"plot.opts\": {\"xlab\": \"PC1\", \"ylab\": \"PC2\"}, \"topic.order\": [8, 2, 5, 10, 11, 12, 1, 13, 6, 14, 3, 9, 4, 7, 15, 16]};\n",
       "if(typeof(window.LDAvis) !== \"undefined\"){\n",
       "   !function(LDAvis){\n",
       "       new LDAvis(\"#\" + \"ldavis_el2328422288433984169424502837\", ldavis_el2328422288433984169424502837_data);\n",
       "   }(LDAvis);\n",
       "}else{\n",
       "  require.config({paths: {d3: \"https://d3js.org/d3.v5\"}});\n",
       "  require([\"d3\"], function(d3){\n",
       "    window.d3 = d3;\n",
       "    $.getScript(\"https://cdn.jsdelivr.net/gh/bmabey/pyLDAvis/pyLDAvis/js/ldavis.v3.0.0.js\", function(){\n",
       "       new LDAvis(\"#\" + \"ldavis_el2328422288433984169424502837\", ldavis_el2328422288433984169424502837_data);\n",
       "    });\n",
       "  });\n",
       "}\n",
       "</script>"
      ],
      "text/plain": [
       "<IPython.core.display.HTML object>"
      ]
     },
     "execution_count": 230,
     "metadata": {},
     "output_type": "execute_result"
    }
   ],
   "source": [
    "lda_display_good = pyLDAvis.gensim.prepare(lda_model_tfidf_16, tfidf_corp, \n",
    "                                          dictionary, mds='mmds')\n",
    "pyLDAvis.display(lda_display_good, template_type='notebook')"
   ]
  },
  {
   "cell_type": "code",
   "execution_count": null,
   "metadata": {},
   "outputs": [],
   "source": []
  }
 ],
 "metadata": {
  "kernelspec": {
   "display_name": "Python 3",
   "language": "python",
   "name": "python3"
  },
  "language_info": {
   "codemirror_mode": {
    "name": "ipython",
    "version": 3
   },
   "file_extension": ".py",
   "mimetype": "text/x-python",
   "name": "python",
   "nbconvert_exporter": "python",
   "pygments_lexer": "ipython3",
   "version": "3.8.3"
  }
 },
 "nbformat": 4,
 "nbformat_minor": 4
}
