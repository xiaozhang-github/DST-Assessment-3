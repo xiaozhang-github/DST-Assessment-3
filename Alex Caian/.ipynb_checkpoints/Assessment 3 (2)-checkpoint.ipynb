{
 "cells": [
  {
   "cell_type": "code",
   "execution_count": 1,
   "metadata": {},
   "outputs": [],
   "source": [
    "import glob\n",
    "import os\n",
    "import re\n",
    "import random\n",
    "import numpy as np\n",
    "import pandas as pd\n",
    "import math\n",
    "from pathlib import Path\n",
    "import matplotlib.pyplot as plt\n",
    "\n",
    "import gensim\n",
    "import pickle\n",
    "from nltk.stem import WordNetLemmatizer, SnowballStemmer\n",
    "from nltk.stem.porter import *"
   ]
  },
  {
   "cell_type": "code",
   "execution_count": 2,
   "metadata": {},
   "outputs": [],
   "source": [
    "os.chdir(\"D://Datasets\")"
   ]
  },
  {
   "cell_type": "code",
   "execution_count": 3,
   "metadata": {},
   "outputs": [],
   "source": [
    "corpus = []\n",
    "\n",
    "for path in Path('All enron unzip').rglob('*.txt'):\n",
    "        with open(path, errors='ignore') as f_input:\n",
    "            corpus.append(f_input.read())"
   ]
  },
  {
   "cell_type": "code",
   "execution_count": 4,
   "metadata": {},
   "outputs": [
    {
     "data": {
      "text/html": [
       "<div>\n",
       "<style scoped>\n",
       "    .dataframe tbody tr th:only-of-type {\n",
       "        vertical-align: middle;\n",
       "    }\n",
       "\n",
       "    .dataframe tbody tr th {\n",
       "        vertical-align: top;\n",
       "    }\n",
       "\n",
       "    .dataframe thead th {\n",
       "        text-align: right;\n",
       "    }\n",
       "</style>\n",
       "<table border=\"1\" class=\"dataframe\">\n",
       "  <thead>\n",
       "    <tr style=\"text-align: right;\">\n",
       "      <th></th>\n",
       "      <th>0</th>\n",
       "    </tr>\n",
       "  </thead>\n",
       "  <tbody>\n",
       "    <tr>\n",
       "      <th>0</th>\n",
       "      <td>Legitimate\\n----------\\n- Owner: farmer-d\\n- T...</td>\n",
       "    </tr>\n",
       "    <tr>\n",
       "      <th>1</th>\n",
       "      <td>Subject: christmas tree farm pictures\\n</td>\n",
       "    </tr>\n",
       "    <tr>\n",
       "      <th>2</th>\n",
       "      <td>Subject: vastar resources , inc .\\ngary , prod...</td>\n",
       "    </tr>\n",
       "    <tr>\n",
       "      <th>3</th>\n",
       "      <td>Subject: calpine daily gas nomination\\n- calpi...</td>\n",
       "    </tr>\n",
       "    <tr>\n",
       "      <th>4</th>\n",
       "      <td>Subject: re : issue\\nfyi - see note below - al...</td>\n",
       "    </tr>\n",
       "  </tbody>\n",
       "</table>\n",
       "</div>"
      ],
      "text/plain": [
       "                                                   0\n",
       "0  Legitimate\\n----------\\n- Owner: farmer-d\\n- T...\n",
       "1            Subject: christmas tree farm pictures\\n\n",
       "2  Subject: vastar resources , inc .\\ngary , prod...\n",
       "3  Subject: calpine daily gas nomination\\n- calpi...\n",
       "4  Subject: re : issue\\nfyi - see note below - al..."
      ]
     },
     "execution_count": 4,
     "metadata": {},
     "output_type": "execute_result"
    }
   ],
   "source": [
    "df = pd.DataFrame(corpus)\n",
    "df.head()"
   ]
  },
  {
   "cell_type": "code",
   "execution_count": 5,
   "metadata": {},
   "outputs": [
    {
     "data": {
      "text/plain": [
       "27721"
      ]
     },
     "execution_count": 5,
     "metadata": {},
     "output_type": "execute_result"
    }
   ],
   "source": [
    "len(df)"
   ]
  },
  {
   "cell_type": "code",
   "execution_count": 6,
   "metadata": {},
   "outputs": [],
   "source": [
    "df = df.drop([0,5173,11031,16544,21720]) # Removed the summary bits\n",
    "df.columns=[\"E-mails\"]"
   ]
  },
  {
   "cell_type": "code",
   "execution_count": 7,
   "metadata": {},
   "outputs": [],
   "source": [
    "random.seed(a=5)\n",
    "df = df.sample(frac=1)\t# Shuffle the entire dataframe\n",
    "ten_off_df = math.floor(len(df)/10)"
   ]
  },
  {
   "cell_type": "code",
   "execution_count": 8,
   "metadata": {},
   "outputs": [],
   "source": [
    "#################[Failed FOR loop attempt]\n",
    "# df_temp = df\n",
    "# for i in range(1,9):\n",
    " #    locals()['df_{}.index.values'.format(i)] = df_temp.sample(ten_off_df)\n",
    " #    c_df = locals()['df_{}'.format(i)]\n",
    " #    locals()['l_{}'.format(i)] = list(c_df.index.values)\n",
    " #    loc_l = locals()['l_{}'.format(i)]\n",
    " #    df_temp = df_temp.drop(loc_l)"
   ]
  },
  {
   "cell_type": "code",
   "execution_count": 9,
   "metadata": {},
   "outputs": [],
   "source": [
    "################# [Good For loop attempt]\n",
    "df_temp = df\n",
    "for i in range(0,9):\n",
    "    a = df_temp.sample(ten_off_df)\n",
    "    locals()['df_{}'.format(i)] = a\n",
    "    l = list(a.index.values)\n",
    "    df_temp = df_temp.drop(l)"
   ]
  },
  {
   "cell_type": "code",
   "execution_count": 10,
   "metadata": {},
   "outputs": [],
   "source": [
    "df_test = df_temp\n",
    "\n",
    "frames=[df_0, df_1, df_2, df_3, df_4, df_5, df_6, df_7, df_8]\n",
    "df_train = pd.concat(frames)"
   ]
  },
  {
   "cell_type": "code",
   "execution_count": 11,
   "metadata": {},
   "outputs": [
    {
     "data": {
      "text/plain": [
       "True"
      ]
     },
     "execution_count": 11,
     "metadata": {},
     "output_type": "execute_result"
    }
   ],
   "source": [
    "len(df_train)+len(df_test)==len(df)\t## Check if the split was properly done"
   ]
  },
  {
   "cell_type": "code",
   "execution_count": 12,
   "metadata": {},
   "outputs": [
    {
     "name": "stderr",
     "output_type": "stream",
     "text": [
      "[nltk_data] Downloading package stopwords to\n",
      "[nltk_data]     C:\\Users\\corri\\AppData\\Roaming\\nltk_data...\n",
      "[nltk_data]   Package stopwords is already up-to-date!\n"
     ]
    },
    {
     "data": {
      "text/plain": [
       "True"
      ]
     },
     "execution_count": 12,
     "metadata": {},
     "output_type": "execute_result"
    }
   ],
   "source": [
    "import nltk\n",
    "from nltk.corpus import stopwords\n",
    "\n",
    "nltk.download('stopwords')"
   ]
  },
  {
   "cell_type": "code",
   "execution_count": 13,
   "metadata": {},
   "outputs": [
    {
     "data": {
      "text/html": [
       "<div>\n",
       "<style scoped>\n",
       "    .dataframe tbody tr th:only-of-type {\n",
       "        vertical-align: middle;\n",
       "    }\n",
       "\n",
       "    .dataframe tbody tr th {\n",
       "        vertical-align: top;\n",
       "    }\n",
       "\n",
       "    .dataframe thead th {\n",
       "        text-align: right;\n",
       "    }\n",
       "</style>\n",
       "<table border=\"1\" class=\"dataframe\">\n",
       "  <thead>\n",
       "    <tr style=\"text-align: right;\">\n",
       "      <th></th>\n",
       "      <th>E-mails</th>\n",
       "    </tr>\n",
       "  </thead>\n",
       "  <tbody>\n",
       "    <tr>\n",
       "      <th>14643</th>\n",
       "      <td>Subject: re : org charts\\ni have received a co...</td>\n",
       "    </tr>\n",
       "    <tr>\n",
       "      <th>12887</th>\n",
       "      <td>Subject: fw : status of cpuc proposed decision...</td>\n",
       "    </tr>\n",
       "    <tr>\n",
       "      <th>13700</th>\n",
       "      <td>Subject: trade count and volume for november 1...</td>\n",
       "    </tr>\n",
       "    <tr>\n",
       "      <th>19080</th>\n",
       "      <td>Subject: next big mover set to skyrocket\\nnews...</td>\n",
       "    </tr>\n",
       "    <tr>\n",
       "      <th>8704</th>\n",
       "      <td>Subject: henwood &amp; psim\\nstinson / vince ,\\nth...</td>\n",
       "    </tr>\n",
       "    <tr>\n",
       "      <th>...</th>\n",
       "      <td>...</td>\n",
       "    </tr>\n",
       "    <tr>\n",
       "      <th>13726</th>\n",
       "      <td>Subject: ena trading track\\nall ,\\nthank you f...</td>\n",
       "    </tr>\n",
       "    <tr>\n",
       "      <th>18947</th>\n",
       "      <td>Subject: you have been hand selected . . . fre...</td>\n",
       "    </tr>\n",
       "    <tr>\n",
       "      <th>21556</th>\n",
       "      <td>Subject: two stocks you should own\\nquest oil ...</td>\n",
       "    </tr>\n",
       "    <tr>\n",
       "      <th>20655</th>\n",
       "      <td>Subject: save your money by getting an oem sof...</td>\n",
       "    </tr>\n",
       "    <tr>\n",
       "      <th>26165</th>\n",
       "      <td>Subject: personal letter\\npersonal letter\\nfro...</td>\n",
       "    </tr>\n",
       "  </tbody>\n",
       "</table>\n",
       "<p>2777 rows × 1 columns</p>\n",
       "</div>"
      ],
      "text/plain": [
       "                                                 E-mails\n",
       "14643  Subject: re : org charts\\ni have received a co...\n",
       "12887  Subject: fw : status of cpuc proposed decision...\n",
       "13700  Subject: trade count and volume for november 1...\n",
       "19080  Subject: next big mover set to skyrocket\\nnews...\n",
       "8704   Subject: henwood & psim\\nstinson / vince ,\\nth...\n",
       "...                                                  ...\n",
       "13726  Subject: ena trading track\\nall ,\\nthank you f...\n",
       "18947  Subject: you have been hand selected . . . fre...\n",
       "21556  Subject: two stocks you should own\\nquest oil ...\n",
       "20655  Subject: save your money by getting an oem sof...\n",
       "26165  Subject: personal letter\\npersonal letter\\nfro...\n",
       "\n",
       "[2777 rows x 1 columns]"
      ]
     },
     "execution_count": 13,
     "metadata": {},
     "output_type": "execute_result"
    }
   ],
   "source": [
    "df_test"
   ]
  },
  {
   "cell_type": "code",
   "execution_count": 14,
   "metadata": {},
   "outputs": [
    {
     "data": {
      "text/html": [
       "<div>\n",
       "<style scoped>\n",
       "    .dataframe tbody tr th:only-of-type {\n",
       "        vertical-align: middle;\n",
       "    }\n",
       "\n",
       "    .dataframe tbody tr th {\n",
       "        vertical-align: top;\n",
       "    }\n",
       "\n",
       "    .dataframe thead th {\n",
       "        text-align: right;\n",
       "    }\n",
       "</style>\n",
       "<table border=\"1\" class=\"dataframe\">\n",
       "  <thead>\n",
       "    <tr style=\"text-align: right;\">\n",
       "      <th></th>\n",
       "      <th>E-mails</th>\n",
       "    </tr>\n",
       "  </thead>\n",
       "  <tbody>\n",
       "    <tr>\n",
       "      <th>14693</th>\n",
       "      <td>Subject: london apartment\\nthe original apartm...</td>\n",
       "    </tr>\n",
       "    <tr>\n",
       "      <th>4387</th>\n",
       "      <td>Subject: your contact info\\n? \" ? ? ? Ž ?  ? ³...</td>\n",
       "    </tr>\n",
       "    <tr>\n",
       "      <th>16269</th>\n",
       "      <td>Subject: re :\\nytterbium is tmk in despond of ...</td>\n",
       "    </tr>\n",
       "    <tr>\n",
       "      <th>21192</th>\n",
       "      <td>Subject: software store\\nhttp : / / myself . m...</td>\n",
       "    </tr>\n",
       "    <tr>\n",
       "      <th>18845</th>\n",
       "      <td>Subject: get the money you need while mortgage...</td>\n",
       "    </tr>\n",
       "    <tr>\n",
       "      <th>...</th>\n",
       "      <td>...</td>\n",
       "    </tr>\n",
       "    <tr>\n",
       "      <th>26364</th>\n",
       "      <td>Subject: congratulations\\nhello aynoway @ em ....</td>\n",
       "    </tr>\n",
       "    <tr>\n",
       "      <th>5074</th>\n",
       "      <td>Subject: customer reciept # 4359 bn winkle\\nsi...</td>\n",
       "    </tr>\n",
       "    <tr>\n",
       "      <th>13471</th>\n",
       "      <td>Subject: g hodges nymex brokers _ 102401 . xls...</td>\n",
       "    </tr>\n",
       "    <tr>\n",
       "      <th>10410</th>\n",
       "      <td>Subject: need a graphic artist ? come here .\\n...</td>\n",
       "    </tr>\n",
       "    <tr>\n",
       "      <th>5379</th>\n",
       "      <td>Subject: template for pricing the right of fir...</td>\n",
       "    </tr>\n",
       "  </tbody>\n",
       "</table>\n",
       "<p>24939 rows × 1 columns</p>\n",
       "</div>"
      ],
      "text/plain": [
       "                                                 E-mails\n",
       "14693  Subject: london apartment\\nthe original apartm...\n",
       "4387   Subject: your contact info\\n? \" ? ? ? Ž ?  ? ³...\n",
       "16269  Subject: re :\\nytterbium is tmk in despond of ...\n",
       "21192  Subject: software store\\nhttp : / / myself . m...\n",
       "18845  Subject: get the money you need while mortgage...\n",
       "...                                                  ...\n",
       "26364  Subject: congratulations\\nhello aynoway @ em ....\n",
       "5074   Subject: customer reciept # 4359 bn winkle\\nsi...\n",
       "13471  Subject: g hodges nymex brokers _ 102401 . xls...\n",
       "10410  Subject: need a graphic artist ? come here .\\n...\n",
       "5379   Subject: template for pricing the right of fir...\n",
       "\n",
       "[24939 rows x 1 columns]"
      ]
     },
     "execution_count": 14,
     "metadata": {},
     "output_type": "execute_result"
    }
   ],
   "source": [
    "df_train"
   ]
  },
  {
   "cell_type": "code",
   "execution_count": 15,
   "metadata": {},
   "outputs": [],
   "source": [
    "df_0_ok = df_0[df_0['E-mails'].str.contains(\"re :\") | df_0['E-mails'].str.contains(\"fw :\")]\n",
    "df_1_ok = df_1[df_1['E-mails'].str.contains(\"re :\") | df_1['E-mails'].str.contains(\"fw :\")]\n",
    "df_2_ok = df_2[df_2['E-mails'].str.contains(\"re :\") | df_2['E-mails'].str.contains(\"fw :\")]\n",
    "df_3_ok = df_3[df_3['E-mails'].str.contains(\"re :\") | df_3['E-mails'].str.contains(\"fw :\")]\n",
    "df_4_ok = df_4[df_4['E-mails'].str.contains(\"re :\") | df_4['E-mails'].str.contains(\"fw :\")]\n",
    "df_5_ok = df_5[df_5['E-mails'].str.contains(\"re :\") | df_5['E-mails'].str.contains(\"fw :\")]\n",
    "df_6_ok = df_6[df_6['E-mails'].str.contains(\"re :\") | df_6['E-mails'].str.contains(\"fw :\")]\n",
    "df_7_ok = df_7[df_7['E-mails'].str.contains(\"re :\") | df_7['E-mails'].str.contains(\"fw :\")]\n",
    "df_8_ok = df_8[df_8['E-mails'].str.contains(\"re :\") | df_8['E-mails'].str.contains(\"fw :\")]\n",
    "df_train_ok = df_train[df_train['E-mails'].str.contains(\"re :\") | df_train['E-mails'].str.contains(\"fw :\")]"
   ]
  },
  {
   "cell_type": "code",
   "execution_count": 16,
   "metadata": {},
   "outputs": [
    {
     "data": {
      "text/html": [
       "<div>\n",
       "<style scoped>\n",
       "    .dataframe tbody tr th:only-of-type {\n",
       "        vertical-align: middle;\n",
       "    }\n",
       "\n",
       "    .dataframe tbody tr th {\n",
       "        vertical-align: top;\n",
       "    }\n",
       "\n",
       "    .dataframe thead th {\n",
       "        text-align: right;\n",
       "    }\n",
       "</style>\n",
       "<table border=\"1\" class=\"dataframe\">\n",
       "  <thead>\n",
       "    <tr style=\"text-align: right;\">\n",
       "      <th></th>\n",
       "      <th>E-mails</th>\n",
       "    </tr>\n",
       "  </thead>\n",
       "  <tbody>\n",
       "    <tr>\n",
       "      <th>16269</th>\n",
       "      <td>Subject: re :\\nytterbium is tmk in despond of ...</td>\n",
       "    </tr>\n",
       "    <tr>\n",
       "      <th>7149</th>\n",
       "      <td>Subject: re : current var issues\\nhere are the...</td>\n",
       "    </tr>\n",
       "    <tr>\n",
       "      <th>12794</th>\n",
       "      <td>Subject: re : end of quarter funds flow target...</td>\n",
       "    </tr>\n",
       "    <tr>\n",
       "      <th>7131</th>\n",
       "      <td>Subject: re : hi :\\nthanks vince :\\ncould you ...</td>\n",
       "    </tr>\n",
       "    <tr>\n",
       "      <th>21131</th>\n",
       "      <td>Subject: webmaster link exchange\\nhello object...</td>\n",
       "    </tr>\n",
       "    <tr>\n",
       "      <th>...</th>\n",
       "      <td>...</td>\n",
       "    </tr>\n",
       "    <tr>\n",
       "      <th>4647</th>\n",
       "      <td>Subject: re : where the investigation was\\ntue...</td>\n",
       "    </tr>\n",
       "    <tr>\n",
       "      <th>11491</th>\n",
       "      <td>Subject: fw : hot list 04 - 12 - 01\\nlouise ,\\...</td>\n",
       "    </tr>\n",
       "    <tr>\n",
       "      <th>6893</th>\n",
       "      <td>Subject: budget\\nhi dale\\nfollowing discussion...</td>\n",
       "    </tr>\n",
       "    <tr>\n",
       "      <th>13430</th>\n",
       "      <td>Subject: advisory / gov . gray davis to speak ...</td>\n",
       "    </tr>\n",
       "    <tr>\n",
       "      <th>1226</th>\n",
       "      <td>Subject: re : cornhusker\\njohn ,\\ni did some p...</td>\n",
       "    </tr>\n",
       "  </tbody>\n",
       "</table>\n",
       "<p>683 rows × 1 columns</p>\n",
       "</div>"
      ],
      "text/plain": [
       "                                                 E-mails\n",
       "16269  Subject: re :\\nytterbium is tmk in despond of ...\n",
       "7149   Subject: re : current var issues\\nhere are the...\n",
       "12794  Subject: re : end of quarter funds flow target...\n",
       "7131   Subject: re : hi :\\nthanks vince :\\ncould you ...\n",
       "21131  Subject: webmaster link exchange\\nhello object...\n",
       "...                                                  ...\n",
       "4647   Subject: re : where the investigation was\\ntue...\n",
       "11491  Subject: fw : hot list 04 - 12 - 01\\nlouise ,\\...\n",
       "6893   Subject: budget\\nhi dale\\nfollowing discussion...\n",
       "13430  Subject: advisory / gov . gray davis to speak ...\n",
       "1226   Subject: re : cornhusker\\njohn ,\\ni did some p...\n",
       "\n",
       "[683 rows x 1 columns]"
      ]
     },
     "execution_count": 16,
     "metadata": {},
     "output_type": "execute_result"
    }
   ],
   "source": [
    "df_0_ok"
   ]
  },
  {
   "cell_type": "code",
   "execution_count": 17,
   "metadata": {},
   "outputs": [],
   "source": [
    "for i in range(0,9):\n",
    "    locals()['y_{}'.format(i)] = np.array([len(locals()['df_{}_ok'.format(i)]), len(locals()['df_{}'.format(i)]) - len(locals()['df_{}_ok'.format(i)])])\n",
    "\n",
    "y=np.array([len(df_train_ok), len(df_train)-len(df_train_ok)])"
   ]
  },
  {
   "cell_type": "code",
   "execution_count": 18,
   "metadata": {},
   "outputs": [
    {
     "data": {
      "image/png": "[encoded data removed]",
      "text/plain": [
       "<Figure size 432x288 with 1 Axes>"
      ]
     },
     "metadata": {},
     "output_type": "display_data"
    }
   ],
   "source": [
    "plt.pie(y, labels=[\"Replies or Forwards\", \"Neither\"])\n",
    "plt.show()"
   ]
  },
  {
   "cell_type": "code",
   "execution_count": 19,
   "metadata": {},
   "outputs": [
    {
     "data": {
      "image/png": "[encoded data removed]",
      "text/plain": [
       "<Figure size 432x288 with 8 Axes>"
      ]
     },
     "metadata": {},
     "output_type": "display_data"
    }
   ],
   "source": [
    "for i in range(1,9):\n",
    "    plt.subplot(3,3,i)\n",
    "    plt.pie(locals()['y_{}'.format(i)], labels=[\"Re or Fw\", \"Neither\"], autopct = '%.2f', colors = ['red', 'blue']) \n",
    "    plt.title('{}'.format(i))\n",
    "    \n",
    "plt.show()    "
   ]
  },
  {
   "cell_type": "code",
   "execution_count": 20,
   "metadata": {},
   "outputs": [],
   "source": [
    "l1 = stopwords.words('english')\n",
    "lst1 = [' {} '.format(x) for x in l1]\n",
    "lst1.append('Subject:')\n",
    "lst1.append('Subject :')\n",
    "lst1.remove(' re ')\n",
    "# lst2 = [ '.{} '.format(x) for x in l1]\n",
    "# lst3 = [ ' {}.'.format(x) for x in l1]"
   ]
  },
  {
   "cell_type": "code",
   "execution_count": 21,
   "metadata": {},
   "outputs": [],
   "source": [
    "# Remove too common words from the list we procurred:\n",
    "for i in range(0,9):\n",
    "    locals()['df_{}'.format(i)]['E-mails'].replace(lst1, \" \", regex=True, inplace=True)\n",
    "    \n",
    "   #  locals()['df_{}'.format(i)]['E-mails'].replace(lst2, \" \", regex=True, inplace=True)\n",
    "   #  locals()['df_{}'.format(i)]['E-mails'].replace(lst3, \" \", regex=True, inplace=True)\n",
    "df_train['E-mails'].replace(lst1, \" \", regex=True, inplace=True)\n",
    "df_test['E-mails'].replace(lst1, \" \", regex=True, inplace=True)"
   ]
  },
  {
   "cell_type": "code",
   "execution_count": 22,
   "metadata": {},
   "outputs": [],
   "source": [
    "# Remove punctuation and often used symbols, but NOT ':' since we'll need later\n",
    "# \"[?!.,;()\"\\/|&-`#$%^]\"\n",
    "for i in range(0,9):\n",
    "    locals()['df_{}'.format(i)]['E-mails'].replace(r'[^\\w\\s]', \" \", regex=True, inplace=True)\n",
    "    \n",
    "df_train['E-mails'].replace(r'[^\\w\\s]', \" \", regex=True, inplace=True)\n",
    "df_test['E-mails'].replace(r'[^\\w\\s]', \" \", regex=True, inplace=True)"
   ]
  },
  {
   "cell_type": "code",
   "execution_count": 23,
   "metadata": {},
   "outputs": [],
   "source": [
    "# Remove all numbers from the e-mails, as they're (mostly) redundant\n",
    "# \"[0-9999999999]\"\n",
    "\n",
    "for i in range(0,9):\n",
    "    locals()['df_{}'.format(i)]['E-mails'].replace('[0-9999999999]', \" \", regex=True, inplace=True)\n",
    "\n",
    "df_train['E-mails'].replace('[0-9999999999]', \" \", regex=True, inplace=True)\n",
    "df_test['E-mails'].replace('[0-9999999999]', \" \", regex=True, inplace=True)"
   ]
  },
  {
   "cell_type": "code",
   "execution_count": 24,
   "metadata": {},
   "outputs": [
    {
     "data": {
      "text/html": [
       "<div>\n",
       "<style scoped>\n",
       "    .dataframe tbody tr th:only-of-type {\n",
       "        vertical-align: middle;\n",
       "    }\n",
       "\n",
       "    .dataframe tbody tr th {\n",
       "        vertical-align: top;\n",
       "    }\n",
       "\n",
       "    .dataframe thead th {\n",
       "        text-align: right;\n",
       "    }\n",
       "</style>\n",
       "<table border=\"1\" class=\"dataframe\">\n",
       "  <thead>\n",
       "    <tr style=\"text-align: right;\">\n",
       "      <th></th>\n",
       "      <th>E-mails</th>\n",
       "    </tr>\n",
       "  </thead>\n",
       "  <tbody>\n",
       "    <tr>\n",
       "      <th>14693</th>\n",
       "      <td>london apartment\\nthe original apartment int...</td>\n",
       "    </tr>\n",
       "    <tr>\n",
       "      <th>4387</th>\n",
       "      <td>contact info\\n          Ž      ³            ...</td>\n",
       "    </tr>\n",
       "    <tr>\n",
       "      <th>16269</th>\n",
       "      <td>re  \\nytterbium tmk despond biracial camden ...</td>\n",
       "    </tr>\n",
       "    <tr>\n",
       "      <th>21192</th>\n",
       "      <td>software store\\nhttp         mainoemstore   ...</td>\n",
       "    </tr>\n",
       "    <tr>\n",
       "      <th>18845</th>\n",
       "      <td>get money need mortgage rates  \\niieo\\nmortg...</td>\n",
       "    </tr>\n",
       "    <tr>\n",
       "      <th>...</th>\n",
       "      <td>...</td>\n",
       "    </tr>\n",
       "    <tr>\n",
       "      <th>26364</th>\n",
       "      <td>congratulations\\nhello aynoway   em   ca  \\n...</td>\n",
       "    </tr>\n",
       "    <tr>\n",
       "      <th>5074</th>\n",
       "      <td>customer reciept        bn winkle\\nsimply vi...</td>\n",
       "    </tr>\n",
       "    <tr>\n",
       "      <th>13471</th>\n",
       "      <td>g hodges nymex brokers _          xls\\nlouis...</td>\n",
       "    </tr>\n",
       "    <tr>\n",
       "      <th>10410</th>\n",
       "      <td>need graphic artist   come  \\nthinking breat...</td>\n",
       "    </tr>\n",
       "    <tr>\n",
       "      <th>5379</th>\n",
       "      <td>template pricing right first refusal\\nshelle...</td>\n",
       "    </tr>\n",
       "  </tbody>\n",
       "</table>\n",
       "<p>24939 rows × 1 columns</p>\n",
       "</div>"
      ],
      "text/plain": [
       "                                                 E-mails\n",
       "14693    london apartment\\nthe original apartment int...\n",
       "4387     contact info\\n          Ž      ³            ...\n",
       "16269    re  \\nytterbium tmk despond biracial camden ...\n",
       "21192    software store\\nhttp         mainoemstore   ...\n",
       "18845    get money need mortgage rates  \\niieo\\nmortg...\n",
       "...                                                  ...\n",
       "26364    congratulations\\nhello aynoway   em   ca  \\n...\n",
       "5074     customer reciept        bn winkle\\nsimply vi...\n",
       "13471    g hodges nymex brokers _          xls\\nlouis...\n",
       "10410    need graphic artist   come  \\nthinking breat...\n",
       "5379     template pricing right first refusal\\nshelle...\n",
       "\n",
       "[24939 rows x 1 columns]"
      ]
     },
     "execution_count": 24,
     "metadata": {},
     "output_type": "execute_result"
    }
   ],
   "source": [
    "df_train"
   ]
  },
  {
   "cell_type": "code",
   "execution_count": 25,
   "metadata": {},
   "outputs": [
    {
     "data": {
      "text/html": [
       "<div>\n",
       "<style scoped>\n",
       "    .dataframe tbody tr th:only-of-type {\n",
       "        vertical-align: middle;\n",
       "    }\n",
       "\n",
       "    .dataframe tbody tr th {\n",
       "        vertical-align: top;\n",
       "    }\n",
       "\n",
       "    .dataframe thead th {\n",
       "        text-align: right;\n",
       "    }\n",
       "</style>\n",
       "<table border=\"1\" class=\"dataframe\">\n",
       "  <thead>\n",
       "    <tr style=\"text-align: right;\">\n",
       "      <th></th>\n",
       "      <th>E-mails</th>\n",
       "    </tr>\n",
       "  </thead>\n",
       "  <tbody>\n",
       "    <tr>\n",
       "      <th>14643</th>\n",
       "      <td>re   org charts\\ni received couple revised c...</td>\n",
       "    </tr>\n",
       "    <tr>\n",
       "      <th>12887</th>\n",
       "      <td>fw   status cpuc proposed decisions direct a...</td>\n",
       "    </tr>\n",
       "    <tr>\n",
       "      <th>13700</th>\n",
       "      <td>trade count volume november         \\nlindsa...</td>\n",
       "    </tr>\n",
       "    <tr>\n",
       "      <th>19080</th>\n",
       "      <td>next big mover set skyrocket\\nnewsletter   j...</td>\n",
       "    </tr>\n",
       "    <tr>\n",
       "      <th>8704</th>\n",
       "      <td>henwood   psim\\nstinson   vince  \\nthe henwo...</td>\n",
       "    </tr>\n",
       "    <tr>\n",
       "      <th>...</th>\n",
       "      <td>...</td>\n",
       "    </tr>\n",
       "    <tr>\n",
       "      <th>13726</th>\n",
       "      <td>ena trading track\\nall  \\nthank time yesterd...</td>\n",
       "    </tr>\n",
       "    <tr>\n",
       "      <th>18947</th>\n",
       "      <td>hand selected       free info  \\nyou   hand ...</td>\n",
       "    </tr>\n",
       "    <tr>\n",
       "      <th>21556</th>\n",
       "      <td>two stocks own\\nquest oil corporation   miss...</td>\n",
       "    </tr>\n",
       "    <tr>\n",
       "      <th>20655</th>\n",
       "      <td>save money getting oem software  \\nneed soft...</td>\n",
       "    </tr>\n",
       "    <tr>\n",
       "      <th>26165</th>\n",
       "      <td>personal letter\\npersonal letter\\nfrom franc...</td>\n",
       "    </tr>\n",
       "  </tbody>\n",
       "</table>\n",
       "<p>2777 rows × 1 columns</p>\n",
       "</div>"
      ],
      "text/plain": [
       "                                                 E-mails\n",
       "14643    re   org charts\\ni received couple revised c...\n",
       "12887    fw   status cpuc proposed decisions direct a...\n",
       "13700    trade count volume november         \\nlindsa...\n",
       "19080    next big mover set skyrocket\\nnewsletter   j...\n",
       "8704     henwood   psim\\nstinson   vince  \\nthe henwo...\n",
       "...                                                  ...\n",
       "13726    ena trading track\\nall  \\nthank time yesterd...\n",
       "18947    hand selected       free info  \\nyou   hand ...\n",
       "21556    two stocks own\\nquest oil corporation   miss...\n",
       "20655    save money getting oem software  \\nneed soft...\n",
       "26165    personal letter\\npersonal letter\\nfrom franc...\n",
       "\n",
       "[2777 rows x 1 columns]"
      ]
     },
     "execution_count": 25,
     "metadata": {},
     "output_type": "execute_result"
    }
   ],
   "source": [
    "df_test"
   ]
  },
  {
   "cell_type": "code",
   "execution_count": 26,
   "metadata": {},
   "outputs": [
    {
     "data": {
      "text/html": [
       "<div>\n",
       "<style scoped>\n",
       "    .dataframe tbody tr th:only-of-type {\n",
       "        vertical-align: middle;\n",
       "    }\n",
       "\n",
       "    .dataframe tbody tr th {\n",
       "        vertical-align: top;\n",
       "    }\n",
       "\n",
       "    .dataframe thead th {\n",
       "        text-align: right;\n",
       "    }\n",
       "</style>\n",
       "<table border=\"1\" class=\"dataframe\">\n",
       "  <thead>\n",
       "    <tr style=\"text-align: right;\">\n",
       "      <th></th>\n",
       "      <th>E-mails</th>\n",
       "    </tr>\n",
       "  </thead>\n",
       "  <tbody>\n",
       "    <tr>\n",
       "      <th>16639</th>\n",
       "      <td>transition\\ndear friends colleagues  \\ni wan...</td>\n",
       "    </tr>\n",
       "    <tr>\n",
       "      <th>22547</th>\n",
       "      <td>team development training\\nagi consulting co...</td>\n",
       "    </tr>\n",
       "    <tr>\n",
       "      <th>6041</th>\n",
       "      <td>churn list\\nvince  \\nhere new location    nd...</td>\n",
       "    </tr>\n",
       "    <tr>\n",
       "      <th>4504</th>\n",
       "      <td>bu   cialis soft   tabs online less\\nnew cla...</td>\n",
       "    </tr>\n",
       "    <tr>\n",
       "      <th>6671</th>\n",
       "      <td>re   time\\ndavid  \\ni scheduled        pm   ...</td>\n",
       "    </tr>\n",
       "    <tr>\n",
       "      <th>...</th>\n",
       "      <td>...</td>\n",
       "    </tr>\n",
       "    <tr>\n",
       "      <th>26716</th>\n",
       "      <td>lottery award final notification  \\nde la pr...</td>\n",
       "    </tr>\n",
       "    <tr>\n",
       "      <th>8701</th>\n",
       "      <td>siam invitation\\ndear dr   kaminski\\nhere em...</td>\n",
       "    </tr>\n",
       "    <tr>\n",
       "      <th>18029</th>\n",
       "      <td>fw   clara carrington\\nevidently   need get ...</td>\n",
       "    </tr>\n",
       "    <tr>\n",
       "      <th>20020</th>\n",
       "      <td>new penis enlargement patches  \\nnew penis e...</td>\n",
       "    </tr>\n",
       "    <tr>\n",
       "      <th>26641</th>\n",
       "      <td>bussiness co   operations  \\nfrom   mr   che...</td>\n",
       "    </tr>\n",
       "  </tbody>\n",
       "</table>\n",
       "<p>2771 rows × 1 columns</p>\n",
       "</div>"
      ],
      "text/plain": [
       "                                                 E-mails\n",
       "16639    transition\\ndear friends colleagues  \\ni wan...\n",
       "22547    team development training\\nagi consulting co...\n",
       "6041     churn list\\nvince  \\nhere new location    nd...\n",
       "4504     bu   cialis soft   tabs online less\\nnew cla...\n",
       "6671     re   time\\ndavid  \\ni scheduled        pm   ...\n",
       "...                                                  ...\n",
       "26716    lottery award final notification  \\nde la pr...\n",
       "8701     siam invitation\\ndear dr   kaminski\\nhere em...\n",
       "18029    fw   clara carrington\\nevidently   need get ...\n",
       "20020    new penis enlargement patches  \\nnew penis e...\n",
       "26641    bussiness co   operations  \\nfrom   mr   che...\n",
       "\n",
       "[2771 rows x 1 columns]"
      ]
     },
     "execution_count": 26,
     "metadata": {},
     "output_type": "execute_result"
    }
   ],
   "source": [
    "df_4"
   ]
  },
  {
   "cell_type": "code",
   "execution_count": 27,
   "metadata": {},
   "outputs": [],
   "source": [
    "w_tokenizer = nltk.tokenize.WhitespaceTokenizer()\n",
    "lemmatizer = nltk.stem.WordNetLemmatizer()"
   ]
  },
  {
   "cell_type": "code",
   "execution_count": 28,
   "metadata": {},
   "outputs": [],
   "source": [
    "# nltk.download('wordnet')\n",
    "def lemmatize_text(text):\n",
    "    return [lemmatizer.lemmatize(w) for w in w_tokenizer.tokenize(text)]"
   ]
  },
  {
   "cell_type": "code",
   "execution_count": 29,
   "metadata": {},
   "outputs": [],
   "source": [
    "for i in range(0,9):\n",
    "    locals()['df_{}_lem'.format(i)] = locals()['df_{}'.format(i)]['E-mails'].apply(lemmatize_text)\n",
    "\n",
    "df_train_lem = df_train['E-mails'].apply(lemmatize_text)\n",
    "df_test_lem = df_test['E-mails'].apply(lemmatize_text)"
   ]
  },
  {
   "cell_type": "code",
   "execution_count": 30,
   "metadata": {},
   "outputs": [],
   "source": [
    "## All words used in df_1\n",
    "for i in range(0,9):\n",
    "    locals()['df{}'.format(i)] = locals()['df_{}'.format(i)].stack().str.split(\"[^\\w+]\").explode().tolist()\n",
    "\n",
    "dftrain = df_train.stack().str.split(\"[^\\w+]\").explode().tolist()\n",
    "## Ignore the warnings please"
   ]
  },
  {
   "cell_type": "code",
   "execution_count": 31,
   "metadata": {},
   "outputs": [
    {
     "ename": "KeyError",
     "evalue": "'d0'",
     "output_type": "error",
     "traceback": [
      "\u001b[1;31m---------------------------------------------------------------------------\u001b[0m",
      "\u001b[1;31mKeyError\u001b[0m                                  Traceback (most recent call last)",
      "\u001b[1;32m<ipython-input-31-f72beeca1bda>\u001b[0m in \u001b[0;36m<module>\u001b[1;34m\u001b[0m\n\u001b[0;32m      1\u001b[0m \u001b[1;31m## Remove the identings\u001b[0m\u001b[1;33m\u001b[0m\u001b[1;33m\u001b[0m\u001b[1;33m\u001b[0m\u001b[0m\n\u001b[0;32m      2\u001b[0m \u001b[1;32mfor\u001b[0m \u001b[0mi\u001b[0m \u001b[1;32min\u001b[0m \u001b[0mrange\u001b[0m\u001b[1;33m(\u001b[0m\u001b[1;36m0\u001b[0m\u001b[1;33m,\u001b[0m\u001b[1;36m9\u001b[0m\u001b[1;33m)\u001b[0m\u001b[1;33m:\u001b[0m\u001b[1;33m\u001b[0m\u001b[1;33m\u001b[0m\u001b[0m\n\u001b[1;32m----> 3\u001b[1;33m     \u001b[0mlocals\u001b[0m\u001b[1;33m(\u001b[0m\u001b[1;33m)\u001b[0m\u001b[1;33m[\u001b[0m\u001b[1;34m'd{}'\u001b[0m\u001b[1;33m.\u001b[0m\u001b[0mformat\u001b[0m\u001b[1;33m(\u001b[0m\u001b[0mi\u001b[0m\u001b[1;33m)\u001b[0m\u001b[1;33m]\u001b[0m\u001b[1;33m=\u001b[0m \u001b[0mlist\u001b[0m\u001b[1;33m(\u001b[0m\u001b[0mfilter\u001b[0m\u001b[1;33m(\u001b[0m\u001b[1;32mNone\u001b[0m\u001b[1;33m,\u001b[0m \u001b[0mlocals\u001b[0m\u001b[1;33m(\u001b[0m\u001b[1;33m)\u001b[0m\u001b[1;33m[\u001b[0m\u001b[1;34m'd{}'\u001b[0m\u001b[1;33m.\u001b[0m\u001b[0mformat\u001b[0m\u001b[1;33m(\u001b[0m\u001b[0mi\u001b[0m\u001b[1;33m)\u001b[0m\u001b[1;33m]\u001b[0m\u001b[1;33m)\u001b[0m\u001b[1;33m)\u001b[0m \u001b[1;31m# our 'bow'\u001b[0m\u001b[1;33m\u001b[0m\u001b[1;33m\u001b[0m\u001b[0m\n\u001b[0m\u001b[0;32m      4\u001b[0m     \u001b[1;31m## Remove fewer than 4 characters terms\u001b[0m\u001b[1;33m\u001b[0m\u001b[1;33m\u001b[0m\u001b[1;33m\u001b[0m\u001b[0m\n\u001b[0;32m      5\u001b[0m     \u001b[0mlocals\u001b[0m\u001b[1;33m(\u001b[0m\u001b[1;33m)\u001b[0m\u001b[1;33m[\u001b[0m\u001b[1;34m'd{}'\u001b[0m\u001b[1;33m.\u001b[0m\u001b[0mformat\u001b[0m\u001b[1;33m(\u001b[0m\u001b[0mi\u001b[0m\u001b[1;33m)\u001b[0m\u001b[1;33m]\u001b[0m \u001b[1;33m=\u001b[0m \u001b[1;33m[\u001b[0m\u001b[0mtoken\u001b[0m \u001b[1;32mfor\u001b[0m \u001b[0mtoken\u001b[0m \u001b[1;32min\u001b[0m \u001b[0mlocals\u001b[0m\u001b[1;33m(\u001b[0m\u001b[1;33m)\u001b[0m\u001b[1;33m[\u001b[0m\u001b[1;34m'd{}'\u001b[0m\u001b[1;33m.\u001b[0m\u001b[0mformat\u001b[0m\u001b[1;33m(\u001b[0m\u001b[0mi\u001b[0m\u001b[1;33m)\u001b[0m\u001b[1;33m]\u001b[0m \u001b[1;32mif\u001b[0m \u001b[0mlen\u001b[0m\u001b[1;33m(\u001b[0m\u001b[0mtoken\u001b[0m\u001b[1;33m)\u001b[0m\u001b[1;33m>\u001b[0m\u001b[1;36m4\u001b[0m\u001b[1;33m]\u001b[0m\u001b[1;33m\u001b[0m\u001b[1;33m\u001b[0m\u001b[0m\n",
      "\u001b[1;31mKeyError\u001b[0m: 'd0'"
     ]
    }
   ],
   "source": [
    "## Remove the identings\n",
    "for i in range(0,9):\n",
    "    locals()['d{}'.format(i)]= list(filter(None, locals()['d{}'.format(i)])) # our 'bow'\n",
    "    ## Remove fewer than 4 characters terms\n",
    "    locals()['d{}'.format(i)] = [token for token in locals()['d{}'.format(i)] if len(token)>4]\n",
    "    ## Read unique terms => dictionary\n",
    "    locals()['d{}_u'.format(i)] = np.unique(locals()['d{}'.format(i)]) # our dictionary, finally!\n",
    "\n",
    "dftrain = list(filter(None, dftrain))\n",
    "dftrain = [token for token in dftrain if len(token)>4]\n",
    "dftrain_u = np.unique(dftrain)"
   ]
  },
  {
   "cell_type": "code",
   "execution_count": null,
   "metadata": {},
   "outputs": [],
   "source": [
    "d5_u"
   ]
  },
  {
   "cell_type": "code",
   "execution_count": null,
   "metadata": {},
   "outputs": [],
   "source": [
    "len(dftrain_u)"
   ]
  },
  {
   "cell_type": "code",
   "execution_count": null,
   "metadata": {},
   "outputs": [],
   "source": [
    "def countX(lst, x): \n",
    "    return lst.count(x)"
   ]
  },
  {
   "cell_type": "code",
   "execution_count": null,
   "metadata": {},
   "outputs": [],
   "source": [
    "## WARNING: Immense runtime expected, ~ 1 hour \n",
    "v = np.zeros(len(dftrain))\n",
    "i = 0\n",
    "for x in dftrain_u:\n",
    "    v[i] = countX(dftrain,x)\n",
    "    i = i + 1"
   ]
  },
  {
   "cell_type": "code",
   "execution_count": null,
   "metadata": {},
   "outputs": [],
   "source": [
    "v ## Number of occurences of every element\n",
    "len(v)"
   ]
  },
  {
   "cell_type": "code",
   "execution_count": null,
   "metadata": {},
   "outputs": [],
   "source": [
    "v1 = v/len(dftrain) \n",
    "\t## This stores the term frequencies of all terms in dftrain\n",
    "\t## They're stored in indices corresponding to the indices of df1_u, i.e. v1[i] is the term frequency of term on the ith position in df1_u\n",
    "sum(v1) # should be very, VERY close to 1"
   ]
  },
  {
   "cell_type": "code",
   "execution_count": null,
   "metadata": {},
   "outputs": [],
   "source": [
    "df_1_lem_list = df_1_lem.values.tolist()\n",
    "df_1_lem_list[0:2]"
   ]
  },
  {
   "cell_type": "code",
   "execution_count": null,
   "metadata": {},
   "outputs": [],
   "source": [
    "lister = [[] for x in range(len(df_1_lem))]\n",
    "for i in range(len(df_1_lem_list)):\n",
    "    l = df_1_lem_list[i]\n",
    "    for token in l:\n",
    "        if len(token)>4:\n",
    "            lister[i].append(token)\n",
    "\n",
    "lister[0:2]"
   ]
  },
  {
   "cell_type": "code",
   "execution_count": null,
   "metadata": {},
   "outputs": [],
   "source": [
    "dictionary = gensim.corpora.Dictionary(lister)"
   ]
  },
  {
   "cell_type": "code",
   "execution_count": null,
   "metadata": {},
   "outputs": [],
   "source": [
    "bow_corpus = [dictionary.doc2bow(doc) for doc in lister]"
   ]
  },
  {
   "cell_type": "code",
   "execution_count": null,
   "metadata": {},
   "outputs": [],
   "source": [
    "tfidf=gensim.models.TfidfModel(bow_corpus)\n",
    "tfidf_corp = tfidf[bow_corpus]"
   ]
  },
  {
   "cell_type": "code",
   "execution_count": null,
   "metadata": {},
   "outputs": [],
   "source": [
    "bow_corpus[0:2]"
   ]
  },
  {
   "cell_type": "code",
   "execution_count": null,
   "metadata": {},
   "outputs": [],
   "source": [
    "lda_model_tfidf = gensim.models.LdaMulticore(tfidf_corp, num_topics=6, id2word=dictionary, passes=2, workers=4)"
   ]
  },
  {
   "cell_type": "code",
   "execution_count": null,
   "metadata": {},
   "outputs": [],
   "source": [
    "# !python -m pip install pyLDAvis\n",
    "import pyLDAvis.gensim\n",
    "pyLDAvis.enable_notebook()"
   ]
  },
  {
   "cell_type": "code",
   "execution_count": null,
   "metadata": {},
   "outputs": [],
   "source": [
    "lda_display = pyLDAvis.gensim.prepare(lda_model_tfidf, tfidf_corp, \n",
    "                                          dictionary, mds='mmds')\n",
    "pyLDAvis.display(lda_display, template_type='notebook')"
   ]
  },
  {
   "cell_type": "code",
   "execution_count": null,
   "metadata": {},
   "outputs": [],
   "source": [
    "from gensim.models.coherencemodel import CoherenceModel\n",
    "def getCoherence(m,t,d):\n",
    "    coherence_model_lda = CoherenceModel(model=m,texts=t, dictionary=d, coherence='c_v')\n",
    "    coherence_lda = coherence_model_lda.get_coherence()\n",
    "    return(coherence_lda) # Need high coherence"
   ]
  },
  {
   "cell_type": "code",
   "execution_count": null,
   "metadata": {},
   "outputs": [],
   "source": [
    "perplexity = lda_model_tfidf.log_perplexity(tfidf_corp) # Need low perplexity"
   ]
  },
  {
   "cell_type": "code",
   "execution_count": null,
   "metadata": {},
   "outputs": [],
   "source": [
    "perplexity"
   ]
  },
  {
   "cell_type": "code",
   "execution_count": null,
   "metadata": {},
   "outputs": [],
   "source": [
    "getCoherence(m=lda_model_tfidf, t=lister, d =dictionary)"
   ]
  },
  {
   "cell_type": "code",
   "execution_count": null,
   "metadata": {},
   "outputs": [],
   "source": [
    "gCH = [0] * 20\n",
    "for i in range(1,20):\n",
    "    locals()['lda_model_tfidf_{}'.format(i)] = gensim.models.LdaMulticore(tfidf_corp, num_topics=i, id2word=dictionary, passes=2, workers=4)"
   ]
  },
  {
   "cell_type": "code",
   "execution_count": null,
   "metadata": {},
   "outputs": [],
   "source": [
    "for i in range(1,20):\n",
    "    gCH[i]=getCoherence(m=locals()['lda_model_tfidf_{}'.format(i)], t=lister, d =dictionary)"
   ]
  },
  {
   "cell_type": "code",
   "execution_count": null,
   "metadata": {},
   "outputs": [],
   "source": [
    "gCH"
   ]
  },
  {
   "cell_type": "code",
   "execution_count": null,
   "metadata": {},
   "outputs": [],
   "source": [
    "len(gCH)"
   ]
  },
  {
   "cell_type": "code",
   "execution_count": null,
   "metadata": {},
   "outputs": [],
   "source": [
    "plt.plot(gCH)"
   ]
  },
  {
   "cell_type": "code",
   "execution_count": null,
   "metadata": {},
   "outputs": [],
   "source": [
    "print(\"The maximum number is\", max(gCH), \"and its corresponding number of topics is\", np.argmax(gCH))"
   ]
  },
  {
   "cell_type": "code",
   "execution_count": null,
   "metadata": {},
   "outputs": [],
   "source": [
    "lda_display_good = pyLDAvis.gensim.prepare(lda_model_tfidf_16, tfidf_corp, \n",
    "                                          dictionary, mds='mmds')\n",
    "pyLDAvis.display(lda_display_good, template_type='notebook')"
   ]
  },
  {
   "cell_type": "code",
   "execution_count": null,
   "metadata": {},
   "outputs": [],
   "source": []
  }
 ],
 "metadata": {
  "kernelspec": {
   "display_name": "Python 3",
   "language": "python",
   "name": "python3"
  },
  "language_info": {
   "codemirror_mode": {
    "name": "ipython",
    "version": 3
   },
   "file_extension": ".py",
   "mimetype": "text/x-python",
   "name": "python",
   "nbconvert_exporter": "python",
   "pygments_lexer": "ipython3",
   "version": "3.8.5"
  }
 },
 "nbformat": 4,
 "nbformat_minor": 4
}
