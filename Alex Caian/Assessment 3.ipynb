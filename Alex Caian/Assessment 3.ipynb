{
 "cells": [
  {
   "cell_type": "code",
   "execution_count": 1,
   "metadata": {},
   "outputs": [],
   "source": [
    "import glob\n",
    "import os\n",
    "import re\n",
    "import random\n",
    "import numpy as np\n",
    "import pandas as pd\n",
    "import math\n",
    "from pathlib import Path\n",
    "import matplotlib.pyplot as plt"
   ]
  },
  {
   "cell_type": "code",
   "execution_count": 2,
   "metadata": {},
   "outputs": [],
   "source": [
    "os.chdir(\"D://Datasets\")"
   ]
  },
  {
   "cell_type": "code",
   "execution_count": 3,
   "metadata": {},
   "outputs": [],
   "source": [
    "corpus = []\n",
    "\n",
    "for path in Path('All enron unzip').rglob('*.txt'):\n",
    "        with open(path, errors='ignore') as f_input:\n",
    "            corpus.append(f_input.read())"
   ]
  },
  {
   "cell_type": "code",
   "execution_count": 4,
   "metadata": {},
   "outputs": [
    {
     "data": {
      "text/html": [
       "<div>\n",
       "<style scoped>\n",
       "    .dataframe tbody tr th:only-of-type {\n",
       "        vertical-align: middle;\n",
       "    }\n",
       "\n",
       "    .dataframe tbody tr th {\n",
       "        vertical-align: top;\n",
       "    }\n",
       "\n",
       "    .dataframe thead th {\n",
       "        text-align: right;\n",
       "    }\n",
       "</style>\n",
       "<table border=\"1\" class=\"dataframe\">\n",
       "  <thead>\n",
       "    <tr style=\"text-align: right;\">\n",
       "      <th></th>\n",
       "      <th>0</th>\n",
       "    </tr>\n",
       "  </thead>\n",
       "  <tbody>\n",
       "    <tr>\n",
       "      <th>0</th>\n",
       "      <td>Legitimate\\n----------\\n- Owner: farmer-d\\n- T...</td>\n",
       "    </tr>\n",
       "    <tr>\n",
       "      <th>1</th>\n",
       "      <td>Subject: christmas tree farm pictures\\n</td>\n",
       "    </tr>\n",
       "    <tr>\n",
       "      <th>2</th>\n",
       "      <td>Subject: vastar resources , inc .\\ngary , prod...</td>\n",
       "    </tr>\n",
       "    <tr>\n",
       "      <th>3</th>\n",
       "      <td>Subject: calpine daily gas nomination\\n- calpi...</td>\n",
       "    </tr>\n",
       "    <tr>\n",
       "      <th>4</th>\n",
       "      <td>Subject: re : issue\\nfyi - see note below - al...</td>\n",
       "    </tr>\n",
       "  </tbody>\n",
       "</table>\n",
       "</div>"
      ],
      "text/plain": [
       "                                                   0\n",
       "0  Legitimate\\n----------\\n- Owner: farmer-d\\n- T...\n",
       "1            Subject: christmas tree farm pictures\\n\n",
       "2  Subject: vastar resources , inc .\\ngary , prod...\n",
       "3  Subject: calpine daily gas nomination\\n- calpi...\n",
       "4  Subject: re : issue\\nfyi - see note below - al..."
      ]
     },
     "execution_count": 4,
     "metadata": {},
     "output_type": "execute_result"
    }
   ],
   "source": [
    "df = pd.DataFrame(corpus)\n",
    "df.head()"
   ]
  },
  {
   "cell_type": "code",
   "execution_count": 5,
   "metadata": {},
   "outputs": [
    {
     "data": {
      "text/plain": [
       "27721"
      ]
     },
     "execution_count": 5,
     "metadata": {},
     "output_type": "execute_result"
    }
   ],
   "source": [
    "len(df)"
   ]
  },
  {
   "cell_type": "code",
   "execution_count": 6,
   "metadata": {},
   "outputs": [],
   "source": [
    "df = df.drop([0,5173,11031,16544,21720]) # Removed the summary bits\n",
    "df.columns=[\"E-mails\"]"
   ]
  },
  {
   "cell_type": "code",
   "execution_count": 7,
   "metadata": {},
   "outputs": [],
   "source": [
    "df = df.sample(frac=1)\t# Shuffle the entire dataframe\n",
    "ten_off_df = math.floor(len(df)/10)"
   ]
  },
  {
   "cell_type": "code",
   "execution_count": 8,
   "metadata": {},
   "outputs": [],
   "source": [
    "#################[Failed FOR loop attempt]\n",
    "# df_temp = df\n",
    "# for i in range(1,9):\n",
    " #    locals()['df_{}.index.values'.format(i)] = df_temp.sample(ten_off_df)\n",
    " #    c_df = locals()['df_{}'.format(i)]\n",
    " #    locals()['l_{}'.format(i)] = list(c_df.index.values)\n",
    " #    loc_l = locals()['l_{}'.format(i)]\n",
    " #    df_temp = df_temp.drop(loc_l)"
   ]
  },
  {
   "cell_type": "code",
   "execution_count": 9,
   "metadata": {},
   "outputs": [],
   "source": [
    "################# [Good For loop attempt]\n",
    "df_temp = df\n",
    "random.seed(a=5)\n",
    "for i in range(0,9):\n",
    "    a = df_temp.sample(ten_off_df)\n",
    "    locals()['df_{}'.format(i)] = a\n",
    "    l = list(a.index.values)\n",
    "    df_temp = df_temp.drop(l)"
   ]
  },
  {
   "cell_type": "code",
   "execution_count": 10,
   "metadata": {},
   "outputs": [],
   "source": [
    "df_test = df_temp\n",
    "\n",
    "frames=[df_0, df_1, df_2, df_3, df_4, df_5, df_6, df_7, df_8]\n",
    "df_train = pd.concat(frames)"
   ]
  },
  {
   "cell_type": "code",
   "execution_count": 11,
   "metadata": {},
   "outputs": [
    {
     "data": {
      "text/plain": [
       "True"
      ]
     },
     "execution_count": 11,
     "metadata": {},
     "output_type": "execute_result"
    }
   ],
   "source": [
    "len(df_train)+len(df_test)==len(df)\t## Check if the split was properly done"
   ]
  },
  {
   "cell_type": "code",
   "execution_count": 12,
   "metadata": {},
   "outputs": [
    {
     "name": "stderr",
     "output_type": "stream",
     "text": [
      "[nltk_data] Downloading package stopwords to\n",
      "[nltk_data]     C:\\Users\\axl_a\\AppData\\Roaming\\nltk_data...\n",
      "[nltk_data]   Package stopwords is already up-to-date!\n"
     ]
    },
    {
     "data": {
      "text/plain": [
       "True"
      ]
     },
     "execution_count": 12,
     "metadata": {},
     "output_type": "execute_result"
    }
   ],
   "source": [
    "import nltk\n",
    "from nltk.corpus import stopwords\n",
    "\n",
    "nltk.download('stopwords')"
   ]
  },
  {
   "cell_type": "code",
   "execution_count": 13,
   "metadata": {},
   "outputs": [
    {
     "data": {
      "text/html": [
       "<div>\n",
       "<style scoped>\n",
       "    .dataframe tbody tr th:only-of-type {\n",
       "        vertical-align: middle;\n",
       "    }\n",
       "\n",
       "    .dataframe tbody tr th {\n",
       "        vertical-align: top;\n",
       "    }\n",
       "\n",
       "    .dataframe thead th {\n",
       "        text-align: right;\n",
       "    }\n",
       "</style>\n",
       "<table border=\"1\" class=\"dataframe\">\n",
       "  <thead>\n",
       "    <tr style=\"text-align: right;\">\n",
       "      <th></th>\n",
       "      <th>E-mails</th>\n",
       "    </tr>\n",
       "  </thead>\n",
       "  <tbody>\n",
       "    <tr>\n",
       "      <th>5558</th>\n",
       "      <td>Subject: re : aiesec polska - eurolds 2000\\ndr...</td>\n",
       "    </tr>\n",
       "    <tr>\n",
       "      <th>3248</th>\n",
       "      <td>Subject: cleburne imbalance\\ndaren - -\\nbad ne...</td>\n",
       "    </tr>\n",
       "    <tr>\n",
       "      <th>14565</th>\n",
       "      <td>Subject: re :\\nhi louise .\\nthis spreadsheet h...</td>\n",
       "    </tr>\n",
       "    <tr>\n",
       "      <th>9494</th>\n",
       "      <td>Subject: schedule and more . .\\ndr . kaminski ...</td>\n",
       "    </tr>\n",
       "    <tr>\n",
       "      <th>17538</th>\n",
       "      <td>Subject: request submitted : access request fo...</td>\n",
       "    </tr>\n",
       "    <tr>\n",
       "      <th>...</th>\n",
       "      <td>...</td>\n",
       "    </tr>\n",
       "    <tr>\n",
       "      <th>27027</th>\n",
       "      <td>Subject: notice : congrats . you have been acc...</td>\n",
       "    </tr>\n",
       "    <tr>\n",
       "      <th>4991</th>\n",
       "      <td>Subject: re : oem photoshop , photoshop , font...</td>\n",
       "    </tr>\n",
       "    <tr>\n",
       "      <th>12386</th>\n",
       "      <td>Subject: trading systems workshop .\\nwe will b...</td>\n",
       "    </tr>\n",
       "    <tr>\n",
       "      <th>9865</th>\n",
       "      <td>Subject: urgent assistance ( confidential )\\nd...</td>\n",
       "    </tr>\n",
       "    <tr>\n",
       "      <th>17065</th>\n",
       "      <td>Subject: re : update on prc process for vp ' s...</td>\n",
       "    </tr>\n",
       "  </tbody>\n",
       "</table>\n",
       "<p>2777 rows × 1 columns</p>\n",
       "</div>"
      ],
      "text/plain": [
       "                                                 E-mails\n",
       "5558   Subject: re : aiesec polska - eurolds 2000\\ndr...\n",
       "3248   Subject: cleburne imbalance\\ndaren - -\\nbad ne...\n",
       "14565  Subject: re :\\nhi louise .\\nthis spreadsheet h...\n",
       "9494   Subject: schedule and more . .\\ndr . kaminski ...\n",
       "17538  Subject: request submitted : access request fo...\n",
       "...                                                  ...\n",
       "27027  Subject: notice : congrats . you have been acc...\n",
       "4991   Subject: re : oem photoshop , photoshop , font...\n",
       "12386  Subject: trading systems workshop .\\nwe will b...\n",
       "9865   Subject: urgent assistance ( confidential )\\nd...\n",
       "17065  Subject: re : update on prc process for vp ' s...\n",
       "\n",
       "[2777 rows x 1 columns]"
      ]
     },
     "execution_count": 13,
     "metadata": {},
     "output_type": "execute_result"
    }
   ],
   "source": [
    "df_test"
   ]
  },
  {
   "cell_type": "code",
   "execution_count": 14,
   "metadata": {},
   "outputs": [
    {
     "data": {
      "text/html": [
       "<div>\n",
       "<style scoped>\n",
       "    .dataframe tbody tr th:only-of-type {\n",
       "        vertical-align: middle;\n",
       "    }\n",
       "\n",
       "    .dataframe tbody tr th {\n",
       "        vertical-align: top;\n",
       "    }\n",
       "\n",
       "    .dataframe thead th {\n",
       "        text-align: right;\n",
       "    }\n",
       "</style>\n",
       "<table border=\"1\" class=\"dataframe\">\n",
       "  <thead>\n",
       "    <tr style=\"text-align: right;\">\n",
       "      <th></th>\n",
       "      <th>E-mails</th>\n",
       "    </tr>\n",
       "  </thead>\n",
       "  <tbody>\n",
       "    <tr>\n",
       "      <th>18489</th>\n",
       "      <td>Subject: re : doctor approved pill lgw\\na man ...</td>\n",
       "    </tr>\n",
       "    <tr>\n",
       "      <th>20145</th>\n",
       "      <td>Subject: you don _ t know how to attract custo...</td>\n",
       "    </tr>\n",
       "    <tr>\n",
       "      <th>5857</th>\n",
       "      <td>Subject: last minute things\\ntff participants ...</td>\n",
       "    </tr>\n",
       "    <tr>\n",
       "      <th>23861</th>\n",
       "      <td>Subject: arturo how could you do this ?\\ntake ...</td>\n",
       "    </tr>\n",
       "    <tr>\n",
       "      <th>24469</th>\n",
       "      <td>Subject: anal s 3 x\\nplease let\\nthe image loa...</td>\n",
       "    </tr>\n",
       "    <tr>\n",
       "      <th>...</th>\n",
       "      <td>...</td>\n",
       "    </tr>\n",
       "    <tr>\n",
       "      <th>6420</th>\n",
       "      <td>Subject: re : visit to houston and vince kamin...</td>\n",
       "    </tr>\n",
       "    <tr>\n",
       "      <th>2505</th>\n",
       "      <td>Subject: enron / hpl actuals for january 30 , ...</td>\n",
       "    </tr>\n",
       "    <tr>\n",
       "      <th>22159</th>\n",
       "      <td>Subject: re : migration request\\ni have replac...</td>\n",
       "    </tr>\n",
       "    <tr>\n",
       "      <th>3591</th>\n",
       "      <td>Subject: welcome to aol instant messenger !\\nw...</td>\n",
       "    </tr>\n",
       "    <tr>\n",
       "      <th>9031</th>\n",
       "      <td>Subject: re : i am zhendong\\nzhendong ,\\nthank...</td>\n",
       "    </tr>\n",
       "  </tbody>\n",
       "</table>\n",
       "<p>24939 rows × 1 columns</p>\n",
       "</div>"
      ],
      "text/plain": [
       "                                                 E-mails\n",
       "18489  Subject: re : doctor approved pill lgw\\na man ...\n",
       "20145  Subject: you don _ t know how to attract custo...\n",
       "5857   Subject: last minute things\\ntff participants ...\n",
       "23861  Subject: arturo how could you do this ?\\ntake ...\n",
       "24469  Subject: anal s 3 x\\nplease let\\nthe image loa...\n",
       "...                                                  ...\n",
       "6420   Subject: re : visit to houston and vince kamin...\n",
       "2505   Subject: enron / hpl actuals for january 30 , ...\n",
       "22159  Subject: re : migration request\\ni have replac...\n",
       "3591   Subject: welcome to aol instant messenger !\\nw...\n",
       "9031   Subject: re : i am zhendong\\nzhendong ,\\nthank...\n",
       "\n",
       "[24939 rows x 1 columns]"
      ]
     },
     "execution_count": 14,
     "metadata": {},
     "output_type": "execute_result"
    }
   ],
   "source": [
    "df_train"
   ]
  },
  {
   "cell_type": "code",
   "execution_count": 15,
   "metadata": {},
   "outputs": [],
   "source": [
    "l1 = stopwords.words('english')\n",
    "lst1 = [' {} '.format(x) for x in l1]\n",
    "lst1.append('Subject:')\n",
    "lst1.append('Subject :')\n",
    "lst1.remove(' re ')\n",
    "# lst2 = [ '.{} '.format(x) for x in l1]\n",
    "# lst3 = [ ' {}.'.format(x) for x in l1]"
   ]
  },
  {
   "cell_type": "code",
   "execution_count": 16,
   "metadata": {},
   "outputs": [],
   "source": [
    "# Remove too common words from the list we procurred:\n",
    "for i in range(0,9):\n",
    "    locals()['df_{}'.format(i)]['E-mails'].replace(lst1, \" \", regex=True, inplace=True)\n",
    "   #  locals()['df_{}'.format(i)]['E-mails'].replace(lst2, \" \", regex=True, inplace=True)\n",
    "   #  locals()['df_{}'.format(i)]['E-mails'].replace(lst3, \" \", regex=True, inplace=True)\n",
    "df_train['E-mails'].replace(lst1, \" \", regex=True, inplace=True)\n",
    "df_test['E-mails'].replace(lst1, \" \", regex=True, inplace=True)"
   ]
  },
  {
   "cell_type": "code",
   "execution_count": 17,
   "metadata": {},
   "outputs": [],
   "source": [
    "# Remove punctuation and often used symbols, but NOT ':' since we'll need later\n",
    "# \"[?!.,;()\\/|]\"\n",
    "for i in range(0,9):\n",
    "    locals()['df_{}'.format(i)]['E-mails'].replace('[?!.,;()\\/|]', \" \", regex=True, inplace=True)\n",
    "df_train['E-mails'].replace('[?!.,;()\\/|]', \" \", regex=True, inplace=True)\n",
    "df_test['E-mails'].replace('[?!.,;()\\/|]', \" \", regex=True, inplace=True)"
   ]
  },
  {
   "cell_type": "code",
   "execution_count": 18,
   "metadata": {},
   "outputs": [
    {
     "data": {
      "text/html": [
       "<div>\n",
       "<style scoped>\n",
       "    .dataframe tbody tr th:only-of-type {\n",
       "        vertical-align: middle;\n",
       "    }\n",
       "\n",
       "    .dataframe tbody tr th {\n",
       "        vertical-align: top;\n",
       "    }\n",
       "\n",
       "    .dataframe thead th {\n",
       "        text-align: right;\n",
       "    }\n",
       "</style>\n",
       "<table border=\"1\" class=\"dataframe\">\n",
       "  <thead>\n",
       "    <tr style=\"text-align: right;\">\n",
       "      <th></th>\n",
       "      <th>E-mails</th>\n",
       "    </tr>\n",
       "  </thead>\n",
       "  <tbody>\n",
       "    <tr>\n",
       "      <th>18489</th>\n",
       "      <td>re : doctor approved pill lgw\\na man endowed...</td>\n",
       "    </tr>\n",
       "    <tr>\n",
       "      <th>20145</th>\n",
       "      <td>_ know attract customers website  \\nsubmitti...</td>\n",
       "    </tr>\n",
       "    <tr>\n",
       "      <th>5857</th>\n",
       "      <td>last minute things\\ntff participants  \\nwe l...</td>\n",
       "    </tr>\n",
       "    <tr>\n",
       "      <th>23861</th>\n",
       "      <td>arturo could  \\ntake next level      \\nfill ...</td>\n",
       "    </tr>\n",
       "    <tr>\n",
       "      <th>24469</th>\n",
       "      <td>anal 3 x\\nplease let\\nthe image load      \\n...</td>\n",
       "    </tr>\n",
       "    <tr>\n",
       "      <th>...</th>\n",
       "      <td>...</td>\n",
       "    </tr>\n",
       "    <tr>\n",
       "      <th>6420</th>\n",
       "      <td>re : visit houston vince kaminski ' research...</td>\n",
       "    </tr>\n",
       "    <tr>\n",
       "      <th>2505</th>\n",
       "      <td>enron   hpl actuals january 30   2001\\nteco ...</td>\n",
       "    </tr>\n",
       "    <tr>\n",
       "      <th>22159</th>\n",
       "      <td>re : migration request\\ni replace old basis ...</td>\n",
       "    </tr>\n",
       "    <tr>\n",
       "      <th>3591</th>\n",
       "      <td>welcome aol instant messenger  \\nwelcome aol...</td>\n",
       "    </tr>\n",
       "    <tr>\n",
       "      <th>9031</th>\n",
       "      <td>re : zhendong\\nzhendong  \\nthanks   please  ...</td>\n",
       "    </tr>\n",
       "  </tbody>\n",
       "</table>\n",
       "<p>24939 rows × 1 columns</p>\n",
       "</div>"
      ],
      "text/plain": [
       "                                                 E-mails\n",
       "18489    re : doctor approved pill lgw\\na man endowed...\n",
       "20145    _ know attract customers website  \\nsubmitti...\n",
       "5857     last minute things\\ntff participants  \\nwe l...\n",
       "23861    arturo could  \\ntake next level      \\nfill ...\n",
       "24469    anal 3 x\\nplease let\\nthe image load      \\n...\n",
       "...                                                  ...\n",
       "6420     re : visit houston vince kaminski ' research...\n",
       "2505     enron   hpl actuals january 30   2001\\nteco ...\n",
       "22159    re : migration request\\ni replace old basis ...\n",
       "3591     welcome aol instant messenger  \\nwelcome aol...\n",
       "9031     re : zhendong\\nzhendong  \\nthanks   please  ...\n",
       "\n",
       "[24939 rows x 1 columns]"
      ]
     },
     "execution_count": 18,
     "metadata": {},
     "output_type": "execute_result"
    }
   ],
   "source": [
    "df_train"
   ]
  },
  {
   "cell_type": "code",
   "execution_count": 19,
   "metadata": {},
   "outputs": [
    {
     "data": {
      "text/html": [
       "<div>\n",
       "<style scoped>\n",
       "    .dataframe tbody tr th:only-of-type {\n",
       "        vertical-align: middle;\n",
       "    }\n",
       "\n",
       "    .dataframe tbody tr th {\n",
       "        vertical-align: top;\n",
       "    }\n",
       "\n",
       "    .dataframe thead th {\n",
       "        text-align: right;\n",
       "    }\n",
       "</style>\n",
       "<table border=\"1\" class=\"dataframe\">\n",
       "  <thead>\n",
       "    <tr style=\"text-align: right;\">\n",
       "      <th></th>\n",
       "      <th>E-mails</th>\n",
       "    </tr>\n",
       "  </thead>\n",
       "  <tbody>\n",
       "    <tr>\n",
       "      <th>5558</th>\n",
       "      <td>re : aiesec polska - eurolds 2000\\ndrogi pan...</td>\n",
       "    </tr>\n",
       "    <tr>\n",
       "      <th>3248</th>\n",
       "      <td>cleburne imbalance\\ndaren - -\\nbad news     ...</td>\n",
       "    </tr>\n",
       "    <tr>\n",
       "      <th>14565</th>\n",
       "      <td>re :\\nhi louise  \\nthis spreadsheet life - -...</td>\n",
       "    </tr>\n",
       "    <tr>\n",
       "      <th>9494</th>\n",
       "      <td>schedule    \\ndr   kaminski  \\ni think ' abl...</td>\n",
       "    </tr>\n",
       "    <tr>\n",
       "      <th>17538</th>\n",
       "      <td>request submitted : access request dan   har...</td>\n",
       "    </tr>\n",
       "    <tr>\n",
       "      <th>...</th>\n",
       "      <td>...</td>\n",
       "    </tr>\n",
       "    <tr>\n",
       "      <th>27027</th>\n",
       "      <td>notice : congrats   accepted\\nwe tried conta...</td>\n",
       "    </tr>\n",
       "    <tr>\n",
       "      <th>4991</th>\n",
       "      <td>re : oem photoshop   photoshop   font - size...</td>\n",
       "    </tr>\n",
       "    <tr>\n",
       "      <th>12386</th>\n",
       "      <td>trading systems workshop  \\nwe holding tradi...</td>\n",
       "    </tr>\n",
       "    <tr>\n",
       "      <th>9865</th>\n",
       "      <td>urgent assistance   confidential  \\ndear sir...</td>\n",
       "    </tr>\n",
       "    <tr>\n",
       "      <th>17065</th>\n",
       "      <td>re : update prc process vp ' s\\nthanks updat...</td>\n",
       "    </tr>\n",
       "  </tbody>\n",
       "</table>\n",
       "<p>2777 rows × 1 columns</p>\n",
       "</div>"
      ],
      "text/plain": [
       "                                                 E-mails\n",
       "5558     re : aiesec polska - eurolds 2000\\ndrogi pan...\n",
       "3248     cleburne imbalance\\ndaren - -\\nbad news     ...\n",
       "14565    re :\\nhi louise  \\nthis spreadsheet life - -...\n",
       "9494     schedule    \\ndr   kaminski  \\ni think ' abl...\n",
       "17538    request submitted : access request dan   har...\n",
       "...                                                  ...\n",
       "27027    notice : congrats   accepted\\nwe tried conta...\n",
       "4991     re : oem photoshop   photoshop   font - size...\n",
       "12386    trading systems workshop  \\nwe holding tradi...\n",
       "9865     urgent assistance   confidential  \\ndear sir...\n",
       "17065    re : update prc process vp ' s\\nthanks updat...\n",
       "\n",
       "[2777 rows x 1 columns]"
      ]
     },
     "execution_count": 19,
     "metadata": {},
     "output_type": "execute_result"
    }
   ],
   "source": [
    "df_test"
   ]
  },
  {
   "cell_type": "code",
   "execution_count": 20,
   "metadata": {},
   "outputs": [
    {
     "data": {
      "text/html": [
       "<div>\n",
       "<style scoped>\n",
       "    .dataframe tbody tr th:only-of-type {\n",
       "        vertical-align: middle;\n",
       "    }\n",
       "\n",
       "    .dataframe tbody tr th {\n",
       "        vertical-align: top;\n",
       "    }\n",
       "\n",
       "    .dataframe thead th {\n",
       "        text-align: right;\n",
       "    }\n",
       "</style>\n",
       "<table border=\"1\" class=\"dataframe\">\n",
       "  <thead>\n",
       "    <tr style=\"text-align: right;\">\n",
       "      <th></th>\n",
       "      <th>E-mails</th>\n",
       "    </tr>\n",
       "  </thead>\n",
       "  <tbody>\n",
       "    <tr>\n",
       "      <th>23839</th>\n",
       "      <td>winning notification   congratulation  \\nfro...</td>\n",
       "    </tr>\n",
       "    <tr>\n",
       "      <th>10331</th>\n",
       "      <td>commercialization nasa technology\\nhey   tho...</td>\n",
       "    </tr>\n",
       "    <tr>\n",
       "      <th>8411</th>\n",
       "      <td>re : durasoft - - java class\\nwhat think opt...</td>\n",
       "    </tr>\n",
       "    <tr>\n",
       "      <th>23855</th>\n",
       "      <td>cheap vicodin online - fda pharm  \\nprescrip...</td>\n",
       "    </tr>\n",
       "    <tr>\n",
       "      <th>18074</th>\n",
       "      <td>xxx site passwords\\nstop\\npaying porn\\nyou w...</td>\n",
       "    </tr>\n",
       "    <tr>\n",
       "      <th>...</th>\n",
       "      <td>...</td>\n",
       "    </tr>\n",
       "    <tr>\n",
       "      <th>1910</th>\n",
       "      <td>enron   hpl actuals october 24   2000\\nteco ...</td>\n",
       "    </tr>\n",
       "    <tr>\n",
       "      <th>20186</th>\n",
       "      <td>perfect logo charset = koi 8 - r \" &gt;\\nthinki...</td>\n",
       "    </tr>\n",
       "    <tr>\n",
       "      <th>25581</th>\n",
       "      <td>'    \\nand good morning   :  \\nsau bul\\n</td>\n",
       "    </tr>\n",
       "    <tr>\n",
       "      <th>8886</th>\n",
       "      <td>re : astros season tickets\\ncathy  \\nthanks ...</td>\n",
       "    </tr>\n",
       "    <tr>\n",
       "      <th>12838</th>\n",
       "      <td>fw : cancellation master tasking letter\\nfyi...</td>\n",
       "    </tr>\n",
       "  </tbody>\n",
       "</table>\n",
       "<p>2771 rows × 1 columns</p>\n",
       "</div>"
      ],
      "text/plain": [
       "                                                 E-mails\n",
       "23839    winning notification   congratulation  \\nfro...\n",
       "10331    commercialization nasa technology\\nhey   tho...\n",
       "8411     re : durasoft - - java class\\nwhat think opt...\n",
       "23855    cheap vicodin online - fda pharm  \\nprescrip...\n",
       "18074    xxx site passwords\\nstop\\npaying porn\\nyou w...\n",
       "...                                                  ...\n",
       "1910     enron   hpl actuals october 24   2000\\nteco ...\n",
       "20186    perfect logo charset = koi 8 - r \" >\\nthinki...\n",
       "25581           '    \\nand good morning   :  \\nsau bul\\n\n",
       "8886     re : astros season tickets\\ncathy  \\nthanks ...\n",
       "12838    fw : cancellation master tasking letter\\nfyi...\n",
       "\n",
       "[2771 rows x 1 columns]"
      ]
     },
     "execution_count": 20,
     "metadata": {},
     "output_type": "execute_result"
    }
   ],
   "source": [
    "df_4"
   ]
  },
  {
   "cell_type": "code",
   "execution_count": 21,
   "metadata": {},
   "outputs": [],
   "source": [
    "df_0_ok = df_0[df_0['E-mails'].str.contains(\"re :\") | df_0['E-mails'].str.contains(\"fw :\")]\n",
    "df_1_ok = df_1[df_1['E-mails'].str.contains(\"re :\") | df_1['E-mails'].str.contains(\"fw :\")]\n",
    "df_2_ok = df_2[df_2['E-mails'].str.contains(\"re :\") | df_2['E-mails'].str.contains(\"fw :\")]\n",
    "df_3_ok = df_3[df_3['E-mails'].str.contains(\"re :\") | df_3['E-mails'].str.contains(\"fw :\")]\n",
    "df_4_ok = df_4[df_4['E-mails'].str.contains(\"re :\") | df_4['E-mails'].str.contains(\"fw :\")]\n",
    "df_5_ok = df_5[df_5['E-mails'].str.contains(\"re :\") | df_5['E-mails'].str.contains(\"fw :\")]\n",
    "df_6_ok = df_6[df_6['E-mails'].str.contains(\"re :\") | df_6['E-mails'].str.contains(\"fw :\")]\n",
    "df_7_ok = df_7[df_7['E-mails'].str.contains(\"re :\") | df_7['E-mails'].str.contains(\"fw :\")]\n",
    "df_8_ok = df_8[df_8['E-mails'].str.contains(\"re :\") | df_8['E-mails'].str.contains(\"fw :\")]\n",
    "df_train_ok = df_train[df_train['E-mails'].str.contains(\"re :\") | df_train['E-mails'].str.contains(\"fw :\")]"
   ]
  },
  {
   "cell_type": "code",
   "execution_count": 22,
   "metadata": {},
   "outputs": [
    {
     "data": {
      "text/html": [
       "<div>\n",
       "<style scoped>\n",
       "    .dataframe tbody tr th:only-of-type {\n",
       "        vertical-align: middle;\n",
       "    }\n",
       "\n",
       "    .dataframe tbody tr th {\n",
       "        vertical-align: top;\n",
       "    }\n",
       "\n",
       "    .dataframe thead th {\n",
       "        text-align: right;\n",
       "    }\n",
       "</style>\n",
       "<table border=\"1\" class=\"dataframe\">\n",
       "  <thead>\n",
       "    <tr style=\"text-align: right;\">\n",
       "      <th></th>\n",
       "      <th>E-mails</th>\n",
       "    </tr>\n",
       "  </thead>\n",
       "  <tbody>\n",
       "    <tr>\n",
       "      <th>18489</th>\n",
       "      <td>re : doctor approved pill lgw\\na man endowed...</td>\n",
       "    </tr>\n",
       "    <tr>\n",
       "      <th>7790</th>\n",
       "      <td>re : update   event time change\\nthis fine -...</td>\n",
       "    </tr>\n",
       "    <tr>\n",
       "      <th>9067</th>\n",
       "      <td>re : prc feedback forms\\ngina  \\ni shall gla...</td>\n",
       "    </tr>\n",
       "    <tr>\n",
       "      <th>8648</th>\n",
       "      <td>fw : mckinsey partner specializing agricultu...</td>\n",
       "    </tr>\n",
       "    <tr>\n",
       "      <th>13344</th>\n",
       "      <td>re :\\ncalling error unfair   prepared offer ...</td>\n",
       "    </tr>\n",
       "    <tr>\n",
       "      <th>...</th>\n",
       "      <td>...</td>\n",
       "    </tr>\n",
       "    <tr>\n",
       "      <th>6400</th>\n",
       "      <td>re : hello\\nshijie  \\nthanks message   assis...</td>\n",
       "    </tr>\n",
       "    <tr>\n",
       "      <th>5963</th>\n",
       "      <td>re : confirm participation real options conf...</td>\n",
       "    </tr>\n",
       "    <tr>\n",
       "      <th>1283</th>\n",
       "      <td>re : august spot tickets\\nvance  \\ndeal # 34...</td>\n",
       "    </tr>\n",
       "    <tr>\n",
       "      <th>9955</th>\n",
       "      <td>re : favorite programs incredibly low prices...</td>\n",
       "    </tr>\n",
       "    <tr>\n",
       "      <th>13161</th>\n",
       "      <td>fw : positive note enron  \\nmove carly fiori...</td>\n",
       "    </tr>\n",
       "  </tbody>\n",
       "</table>\n",
       "<p>593 rows × 1 columns</p>\n",
       "</div>"
      ],
      "text/plain": [
       "                                                 E-mails\n",
       "18489    re : doctor approved pill lgw\\na man endowed...\n",
       "7790     re : update   event time change\\nthis fine -...\n",
       "9067     re : prc feedback forms\\ngina  \\ni shall gla...\n",
       "8648     fw : mckinsey partner specializing agricultu...\n",
       "13344    re :\\ncalling error unfair   prepared offer ...\n",
       "...                                                  ...\n",
       "6400     re : hello\\nshijie  \\nthanks message   assis...\n",
       "5963     re : confirm participation real options conf...\n",
       "1283     re : august spot tickets\\nvance  \\ndeal # 34...\n",
       "9955     re : favorite programs incredibly low prices...\n",
       "13161    fw : positive note enron  \\nmove carly fiori...\n",
       "\n",
       "[593 rows x 1 columns]"
      ]
     },
     "execution_count": 22,
     "metadata": {},
     "output_type": "execute_result"
    }
   ],
   "source": [
    "df_0_ok"
   ]
  },
  {
   "cell_type": "code",
   "execution_count": 23,
   "metadata": {},
   "outputs": [],
   "source": [
    "for i in range(0,9):\n",
    "    locals()['y_{}'.format(i)] = np.array([len(locals()['df_{}_ok'.format(i)]), len(locals()['df_{}'.format(i)]) - len(locals()['df_{}_ok'.format(i)])])\n",
    "\n",
    "y=np.array([len(df_train_ok), len(df_train)-len(df_train_ok)])"
   ]
  },
  {
   "cell_type": "code",
   "execution_count": 24,
   "metadata": {},
   "outputs": [
    {
     "data": {
      "image/png": "[encoded data removed]",
      "text/plain": [
       "<Figure size 432x288 with 1 Axes>"
      ]
     },
     "metadata": {},
     "output_type": "display_data"
    }
   ],
   "source": [
    "plt.pie(y, labels=[\"Replies or Forwards\", \"Neither\"])\n",
    "plt.show()"
   ]
  },
  {
   "cell_type": "code",
   "execution_count": 25,
   "metadata": {},
   "outputs": [
    {
     "data": {
      "image/png": "[encoded data removed]",
      "text/plain": [
       "<Figure size 432x288 with 8 Axes>"
      ]
     },
     "metadata": {},
     "output_type": "display_data"
    }
   ],
   "source": [
    "for i in range(1,9):\n",
    "    plt.subplot(3,3,i)\n",
    "    plt.pie(locals()['y_{}'.format(i)], labels=[\"Re or Fw\", \"Neither\"], autopct = '%.2f', colors = ['red', 'blue']) \n",
    "    plt.title('{}'.format(i))\n",
    "    \n",
    "plt.show()    "
   ]
  }
 ],
 "metadata": {
  "kernelspec": {
   "display_name": "Python 3",
   "language": "python",
   "name": "python3"
  },
  "language_info": {
   "codemirror_mode": {
    "name": "ipython",
    "version": 3
   },
   "file_extension": ".py",
   "mimetype": "text/x-python",
   "name": "python",
   "nbconvert_exporter": "python",
   "pygments_lexer": "ipython3",
   "version": "3.8.3"
  }
 },
 "nbformat": 4,
 "nbformat_minor": 4
}
