{
 "cells": [
  {
   "cell_type": "markdown",
   "metadata": {},
   "source": [
    "# NMF topic model \n",
    "\n",
    "In this assessment, we study the **Non-negative Matrix Factorisation(NMF)** topic model, which will be explained in detail in the individual reflection. \n",
    "\n",
    "The data studied is the email text, which is in the '[Data/All enron unzip](https://github.com/xiaozhang-github/DST-Assessment-3/tree/main/Data/All%20enron%20unzip)' folder.\n",
    "\n",
    "This report is divided into the following parts：\n",
    "\n",
    "1. Date importing and EDA\n",
    "\n",
    "2. Data Cleaning\n",
    "\n",
    "3. TF-IDF and dictionary\n",
    "\n",
    "4. NMF model\n",
    "\n",
    "5. Parameter study\n",
    "\n",
    "6. Classification\n",
    "\n",
    "7. References"
   ]
  },
  {
   "cell_type": "code",
   "execution_count": 1,
   "metadata": {},
   "outputs": [],
   "source": [
    "import numpy as np\n",
    "import pandas as pd\n",
    "import re\n",
    "import operator\n",
    "import pickle\n",
    "from itertools import combinations\n",
    "import matplotlib\n",
    "import matplotlib.pyplot as plt\n",
    "from pathlib import Path\n",
    "\n",
    "import nltk\n",
    "from nltk.corpus import wordnet as wn\n",
    "import gensim\n",
    "\n",
    "from sklearn.feature_extraction.text import TfidfVectorizer\n",
    "from sklearn import decomposition\n",
    "from sklearn.tree import DecisionTreeClassifier\n",
    "from sklearn.metrics import accuracy_score\n",
    "from sklearn import decomposition\n",
    "from sklearn.metrics import confusion_matrix, classification_report\n",
    "\n",
    "np.random.seed(2021)"
   ]
  },
  {
   "cell_type": "markdown",
   "metadata": {},
   "source": [
    "## 1. Date importing and EDA\n",
    "\n",
    "The data of this assessment is tens of thousands of emails, each email is a txt file, which is placed in different folders. Now we need to read them, and treat each txt file (ie each email) as an element of the list or data frame. "
   ]
  },
  {
   "cell_type": "code",
   "execution_count": 2,
   "metadata": {},
   "outputs": [],
   "source": [
    "##The following address is the file storage location of my github desktop, please change it to your data storage address.\n",
    "\n",
    "corpus = []\n",
    "for path in Path(r'C:\\Users\\xiao\\Documents\\GitHub\\DST-Assessment-3\\Data\\All enron unzip').rglob('*.txt'):\n",
    "        with open(path, errors='ignore') as f_input:\n",
    "            corpus.append(f_input.read())"
   ]
  },
  {
   "cell_type": "code",
   "execution_count": 3,
   "metadata": {},
   "outputs": [],
   "source": [
    "df = pd.DataFrame(corpus)\n",
    "df.columns = ['E-mails']"
   ]
  },
  {
   "cell_type": "code",
   "execution_count": 4,
   "metadata": {},
   "outputs": [
    {
     "data": {
      "text/plain": [
       "27721"
      ]
     },
     "execution_count": 4,
     "metadata": {},
     "output_type": "execute_result"
    }
   ],
   "source": [
    "len(df)"
   ]
  },
  {
   "cell_type": "code",
   "execution_count": 5,
   "metadata": {},
   "outputs": [
    {
     "data": {
      "text/html": [
       "<div>\n",
       "<style scoped>\n",
       "    .dataframe tbody tr th:only-of-type {\n",
       "        vertical-align: middle;\n",
       "    }\n",
       "\n",
       "    .dataframe tbody tr th {\n",
       "        vertical-align: top;\n",
       "    }\n",
       "\n",
       "    .dataframe thead th {\n",
       "        text-align: right;\n",
       "    }\n",
       "</style>\n",
       "<table border=\"1\" class=\"dataframe\">\n",
       "  <thead>\n",
       "    <tr style=\"text-align: right;\">\n",
       "      <th></th>\n",
       "      <th>E-mails</th>\n",
       "    </tr>\n",
       "  </thead>\n",
       "  <tbody>\n",
       "    <tr>\n",
       "      <th>0</th>\n",
       "      <td>Legitimate\\n----------\\n- Owner: farmer-d\\n- T...</td>\n",
       "    </tr>\n",
       "    <tr>\n",
       "      <th>1</th>\n",
       "      <td>Subject: christmas tree farm pictures\\n</td>\n",
       "    </tr>\n",
       "    <tr>\n",
       "      <th>2</th>\n",
       "      <td>Subject: vastar resources , inc .\\ngary , prod...</td>\n",
       "    </tr>\n",
       "    <tr>\n",
       "      <th>3</th>\n",
       "      <td>Subject: calpine daily gas nomination\\n- calpi...</td>\n",
       "    </tr>\n",
       "    <tr>\n",
       "      <th>4</th>\n",
       "      <td>Subject: re : issue\\nfyi - see note below - al...</td>\n",
       "    </tr>\n",
       "    <tr>\n",
       "      <th>5</th>\n",
       "      <td>Subject: meter 7268 nov allocation\\nfyi .\\n- -...</td>\n",
       "    </tr>\n",
       "    <tr>\n",
       "      <th>6</th>\n",
       "      <td>Subject: mcmullen gas for 11 / 99\\njackie ,\\ns...</td>\n",
       "    </tr>\n",
       "    <tr>\n",
       "      <th>7</th>\n",
       "      <td>Subject: meter 1517 - jan 1999\\ngeorge ,\\ni ne...</td>\n",
       "    </tr>\n",
       "    <tr>\n",
       "      <th>8</th>\n",
       "      <td>Subject: duns number changes\\nfyi\\n- - - - - -...</td>\n",
       "    </tr>\n",
       "    <tr>\n",
       "      <th>9</th>\n",
       "      <td>Subject: king ranch\\nthere are two fields of g...</td>\n",
       "    </tr>\n",
       "  </tbody>\n",
       "</table>\n",
       "</div>"
      ],
      "text/plain": [
       "                                             E-mails\n",
       "0  Legitimate\\n----------\\n- Owner: farmer-d\\n- T...\n",
       "1            Subject: christmas tree farm pictures\\n\n",
       "2  Subject: vastar resources , inc .\\ngary , prod...\n",
       "3  Subject: calpine daily gas nomination\\n- calpi...\n",
       "4  Subject: re : issue\\nfyi - see note below - al...\n",
       "5  Subject: meter 7268 nov allocation\\nfyi .\\n- -...\n",
       "6  Subject: mcmullen gas for 11 / 99\\njackie ,\\ns...\n",
       "7  Subject: meter 1517 - jan 1999\\ngeorge ,\\ni ne...\n",
       "8  Subject: duns number changes\\nfyi\\n- - - - - -...\n",
       "9  Subject: king ranch\\nthere are two fields of g..."
      ]
     },
     "execution_count": 5,
     "metadata": {},
     "output_type": "execute_result"
    }
   ],
   "source": [
    "df.head(10)"
   ]
  },
  {
   "cell_type": "markdown",
   "metadata": {},
   "source": [
    "A total of 27721 txt files has been read, but please note that this contains 5 'Summary.txt', we need to delete them."
   ]
  },
  {
   "cell_type": "code",
   "execution_count": 6,
   "metadata": {},
   "outputs": [],
   "source": [
    "df = df.drop([0,5173,11031,16544,21720]) # removing unnecessary entries\n",
    "nlist = np.arange(0,27717,1) # reindexing\n",
    "df = df.reindex(nlist)\n",
    "df = df.drop(0)"
   ]
  },
  {
   "cell_type": "code",
   "execution_count": 7,
   "metadata": {},
   "outputs": [
    {
     "data": {
      "text/plain": [
       "27716"
      ]
     },
     "execution_count": 7,
     "metadata": {},
     "output_type": "execute_result"
    }
   ],
   "source": [
    "len(df)"
   ]
  },
  {
   "cell_type": "code",
   "execution_count": 8,
   "metadata": {},
   "outputs": [
    {
     "data": {
      "text/html": [
       "<div>\n",
       "<style scoped>\n",
       "    .dataframe tbody tr th:only-of-type {\n",
       "        vertical-align: middle;\n",
       "    }\n",
       "\n",
       "    .dataframe tbody tr th {\n",
       "        vertical-align: top;\n",
       "    }\n",
       "\n",
       "    .dataframe thead th {\n",
       "        text-align: right;\n",
       "    }\n",
       "</style>\n",
       "<table border=\"1\" class=\"dataframe\">\n",
       "  <thead>\n",
       "    <tr style=\"text-align: right;\">\n",
       "      <th></th>\n",
       "      <th>E-mails</th>\n",
       "    </tr>\n",
       "  </thead>\n",
       "  <tbody>\n",
       "    <tr>\n",
       "      <th>1</th>\n",
       "      <td>Subject: christmas tree farm pictures\\n</td>\n",
       "    </tr>\n",
       "    <tr>\n",
       "      <th>2</th>\n",
       "      <td>Subject: vastar resources , inc .\\ngary , prod...</td>\n",
       "    </tr>\n",
       "    <tr>\n",
       "      <th>3</th>\n",
       "      <td>Subject: calpine daily gas nomination\\n- calpi...</td>\n",
       "    </tr>\n",
       "    <tr>\n",
       "      <th>4</th>\n",
       "      <td>Subject: re : issue\\nfyi - see note below - al...</td>\n",
       "    </tr>\n",
       "    <tr>\n",
       "      <th>5</th>\n",
       "      <td>Subject: meter 7268 nov allocation\\nfyi .\\n- -...</td>\n",
       "    </tr>\n",
       "    <tr>\n",
       "      <th>6</th>\n",
       "      <td>Subject: mcmullen gas for 11 / 99\\njackie ,\\ns...</td>\n",
       "    </tr>\n",
       "    <tr>\n",
       "      <th>7</th>\n",
       "      <td>Subject: meter 1517 - jan 1999\\ngeorge ,\\ni ne...</td>\n",
       "    </tr>\n",
       "    <tr>\n",
       "      <th>8</th>\n",
       "      <td>Subject: duns number changes\\nfyi\\n- - - - - -...</td>\n",
       "    </tr>\n",
       "    <tr>\n",
       "      <th>9</th>\n",
       "      <td>Subject: king ranch\\nthere are two fields of g...</td>\n",
       "    </tr>\n",
       "    <tr>\n",
       "      <th>10</th>\n",
       "      <td>Subject: re : entex transistion\\nthanks so muc...</td>\n",
       "    </tr>\n",
       "  </tbody>\n",
       "</table>\n",
       "</div>"
      ],
      "text/plain": [
       "                                              E-mails\n",
       "1             Subject: christmas tree farm pictures\\n\n",
       "2   Subject: vastar resources , inc .\\ngary , prod...\n",
       "3   Subject: calpine daily gas nomination\\n- calpi...\n",
       "4   Subject: re : issue\\nfyi - see note below - al...\n",
       "5   Subject: meter 7268 nov allocation\\nfyi .\\n- -...\n",
       "6   Subject: mcmullen gas for 11 / 99\\njackie ,\\ns...\n",
       "7   Subject: meter 1517 - jan 1999\\ngeorge ,\\ni ne...\n",
       "8   Subject: duns number changes\\nfyi\\n- - - - - -...\n",
       "9   Subject: king ranch\\nthere are two fields of g...\n",
       "10  Subject: re : entex transistion\\nthanks so muc..."
      ]
     },
     "execution_count": 8,
     "metadata": {},
     "output_type": "execute_result"
    }
   ],
   "source": [
    "df.head(10)"
   ]
  },
  {
   "cell_type": "markdown",
   "metadata": {},
   "source": [
    "Finally, we read the contents of 27716 emails, which will be the object of our data analysis.\n",
    "\n",
    "These emails are classified as normal emails or spam, and then we mark them below, spam is 0 and normal email is 1. "
   ]
  },
  {
   "cell_type": "code",
   "execution_count": 9,
   "metadata": {},
   "outputs": [],
   "source": [
    "z1 = np.arange(3673,5173)\n",
    "z2 = np.arange(9534,11031)\n",
    "z3 = np.arange(15043,16544)\n",
    "z4 = np.arange(18043,21719)\n",
    "z5 = np.arange(23220,27716)\n",
    "ze = np.concatenate((z1,z2,z3,z4,z5))"
   ]
  },
  {
   "cell_type": "code",
   "execution_count": 10,
   "metadata": {},
   "outputs": [],
   "source": [
    "z = np.zeros(27716)\n",
    "df['label'] = z\n",
    "for i in ze:\n",
    "    df.iloc[i,1] = 1"
   ]
  },
  {
   "cell_type": "code",
   "execution_count": 11,
   "metadata": {},
   "outputs": [
    {
     "data": {
      "text/html": [
       "<div>\n",
       "<style scoped>\n",
       "    .dataframe tbody tr th:only-of-type {\n",
       "        vertical-align: middle;\n",
       "    }\n",
       "\n",
       "    .dataframe tbody tr th {\n",
       "        vertical-align: top;\n",
       "    }\n",
       "\n",
       "    .dataframe thead th {\n",
       "        text-align: right;\n",
       "    }\n",
       "</style>\n",
       "<table border=\"1\" class=\"dataframe\">\n",
       "  <thead>\n",
       "    <tr style=\"text-align: right;\">\n",
       "      <th></th>\n",
       "      <th>E-mails</th>\n",
       "      <th>label</th>\n",
       "    </tr>\n",
       "  </thead>\n",
       "  <tbody>\n",
       "    <tr>\n",
       "      <th>1</th>\n",
       "      <td>Subject: christmas tree farm pictures\\n</td>\n",
       "      <td>0.0</td>\n",
       "    </tr>\n",
       "    <tr>\n",
       "      <th>2</th>\n",
       "      <td>Subject: vastar resources , inc .\\ngary , prod...</td>\n",
       "      <td>0.0</td>\n",
       "    </tr>\n",
       "    <tr>\n",
       "      <th>3</th>\n",
       "      <td>Subject: calpine daily gas nomination\\n- calpi...</td>\n",
       "      <td>0.0</td>\n",
       "    </tr>\n",
       "    <tr>\n",
       "      <th>4</th>\n",
       "      <td>Subject: re : issue\\nfyi - see note below - al...</td>\n",
       "      <td>0.0</td>\n",
       "    </tr>\n",
       "    <tr>\n",
       "      <th>5</th>\n",
       "      <td>Subject: meter 7268 nov allocation\\nfyi .\\n- -...</td>\n",
       "      <td>0.0</td>\n",
       "    </tr>\n",
       "    <tr>\n",
       "      <th>...</th>\n",
       "      <td>...</td>\n",
       "      <td>...</td>\n",
       "    </tr>\n",
       "    <tr>\n",
       "      <th>27712</th>\n",
       "      <td>Subject: make big bucks in the medical field b...</td>\n",
       "      <td>1.0</td>\n",
       "    </tr>\n",
       "    <tr>\n",
       "      <th>27713</th>\n",
       "      <td>Subject: proposal\\ndear sir ,\\nfirst i must so...</td>\n",
       "      <td>1.0</td>\n",
       "    </tr>\n",
       "    <tr>\n",
       "      <th>27714</th>\n",
       "      <td>Subject: cure premature ejaculation\\nhello ,\\n...</td>\n",
       "      <td>1.0</td>\n",
       "    </tr>\n",
       "    <tr>\n",
       "      <th>27715</th>\n",
       "      <td>Subject: need your vics ?\\nbrand name meds suc...</td>\n",
       "      <td>1.0</td>\n",
       "    </tr>\n",
       "    <tr>\n",
       "      <th>27716</th>\n",
       "      <td>Subject: = ? iso - 8859 - 1 ? q ? good _ news ...</td>\n",
       "      <td>1.0</td>\n",
       "    </tr>\n",
       "  </tbody>\n",
       "</table>\n",
       "<p>27716 rows × 2 columns</p>\n",
       "</div>"
      ],
      "text/plain": [
       "                                                 E-mails  label\n",
       "1                Subject: christmas tree farm pictures\\n    0.0\n",
       "2      Subject: vastar resources , inc .\\ngary , prod...    0.0\n",
       "3      Subject: calpine daily gas nomination\\n- calpi...    0.0\n",
       "4      Subject: re : issue\\nfyi - see note below - al...    0.0\n",
       "5      Subject: meter 7268 nov allocation\\nfyi .\\n- -...    0.0\n",
       "...                                                  ...    ...\n",
       "27712  Subject: make big bucks in the medical field b...    1.0\n",
       "27713  Subject: proposal\\ndear sir ,\\nfirst i must so...    1.0\n",
       "27714  Subject: cure premature ejaculation\\nhello ,\\n...    1.0\n",
       "27715  Subject: need your vics ?\\nbrand name meds suc...    1.0\n",
       "27716  Subject: = ? iso - 8859 - 1 ? q ? good _ news ...    1.0\n",
       "\n",
       "[27716 rows x 2 columns]"
      ]
     },
     "execution_count": 11,
     "metadata": {},
     "output_type": "execute_result"
    }
   ],
   "source": [
    "df"
   ]
  },
  {
   "cell_type": "markdown",
   "metadata": {},
   "source": [
    "Then we add the index."
   ]
  },
  {
   "cell_type": "code",
   "execution_count": 12,
   "metadata": {},
   "outputs": [],
   "source": [
    "df['index'] = df.index"
   ]
  },
  {
   "cell_type": "code",
   "execution_count": 13,
   "metadata": {},
   "outputs": [
    {
     "data": {
      "text/html": [
       "<div>\n",
       "<style scoped>\n",
       "    .dataframe tbody tr th:only-of-type {\n",
       "        vertical-align: middle;\n",
       "    }\n",
       "\n",
       "    .dataframe tbody tr th {\n",
       "        vertical-align: top;\n",
       "    }\n",
       "\n",
       "    .dataframe thead th {\n",
       "        text-align: right;\n",
       "    }\n",
       "</style>\n",
       "<table border=\"1\" class=\"dataframe\">\n",
       "  <thead>\n",
       "    <tr style=\"text-align: right;\">\n",
       "      <th></th>\n",
       "      <th>E-mails</th>\n",
       "      <th>label</th>\n",
       "      <th>index</th>\n",
       "    </tr>\n",
       "  </thead>\n",
       "  <tbody>\n",
       "    <tr>\n",
       "      <th>1</th>\n",
       "      <td>Subject: christmas tree farm pictures\\n</td>\n",
       "      <td>0.0</td>\n",
       "      <td>1</td>\n",
       "    </tr>\n",
       "    <tr>\n",
       "      <th>2</th>\n",
       "      <td>Subject: vastar resources , inc .\\ngary , prod...</td>\n",
       "      <td>0.0</td>\n",
       "      <td>2</td>\n",
       "    </tr>\n",
       "    <tr>\n",
       "      <th>3</th>\n",
       "      <td>Subject: calpine daily gas nomination\\n- calpi...</td>\n",
       "      <td>0.0</td>\n",
       "      <td>3</td>\n",
       "    </tr>\n",
       "    <tr>\n",
       "      <th>4</th>\n",
       "      <td>Subject: re : issue\\nfyi - see note below - al...</td>\n",
       "      <td>0.0</td>\n",
       "      <td>4</td>\n",
       "    </tr>\n",
       "    <tr>\n",
       "      <th>5</th>\n",
       "      <td>Subject: meter 7268 nov allocation\\nfyi .\\n- -...</td>\n",
       "      <td>0.0</td>\n",
       "      <td>5</td>\n",
       "    </tr>\n",
       "    <tr>\n",
       "      <th>6</th>\n",
       "      <td>Subject: mcmullen gas for 11 / 99\\njackie ,\\ns...</td>\n",
       "      <td>0.0</td>\n",
       "      <td>6</td>\n",
       "    </tr>\n",
       "    <tr>\n",
       "      <th>7</th>\n",
       "      <td>Subject: meter 1517 - jan 1999\\ngeorge ,\\ni ne...</td>\n",
       "      <td>0.0</td>\n",
       "      <td>7</td>\n",
       "    </tr>\n",
       "    <tr>\n",
       "      <th>8</th>\n",
       "      <td>Subject: duns number changes\\nfyi\\n- - - - - -...</td>\n",
       "      <td>0.0</td>\n",
       "      <td>8</td>\n",
       "    </tr>\n",
       "    <tr>\n",
       "      <th>9</th>\n",
       "      <td>Subject: king ranch\\nthere are two fields of g...</td>\n",
       "      <td>0.0</td>\n",
       "      <td>9</td>\n",
       "    </tr>\n",
       "    <tr>\n",
       "      <th>10</th>\n",
       "      <td>Subject: re : entex transistion\\nthanks so muc...</td>\n",
       "      <td>0.0</td>\n",
       "      <td>10</td>\n",
       "    </tr>\n",
       "  </tbody>\n",
       "</table>\n",
       "</div>"
      ],
      "text/plain": [
       "                                              E-mails  label  index\n",
       "1             Subject: christmas tree farm pictures\\n    0.0      1\n",
       "2   Subject: vastar resources , inc .\\ngary , prod...    0.0      2\n",
       "3   Subject: calpine daily gas nomination\\n- calpi...    0.0      3\n",
       "4   Subject: re : issue\\nfyi - see note below - al...    0.0      4\n",
       "5   Subject: meter 7268 nov allocation\\nfyi .\\n- -...    0.0      5\n",
       "6   Subject: mcmullen gas for 11 / 99\\njackie ,\\ns...    0.0      6\n",
       "7   Subject: meter 1517 - jan 1999\\ngeorge ,\\ni ne...    0.0      7\n",
       "8   Subject: duns number changes\\nfyi\\n- - - - - -...    0.0      8\n",
       "9   Subject: king ranch\\nthere are two fields of g...    0.0      9\n",
       "10  Subject: re : entex transistion\\nthanks so muc...    0.0     10"
      ]
     },
     "execution_count": 13,
     "metadata": {},
     "output_type": "execute_result"
    }
   ],
   "source": [
    "df.head(10)"
   ]
  },
  {
   "cell_type": "code",
   "execution_count": 14,
   "metadata": {},
   "outputs": [
    {
     "data": {
      "text/plain": [
       "'Subject: re : issue\\nfyi - see note below - already done .\\nstella\\n- - - - - - - - - - - - - - - - - - - - - - forwarded by stella l morris / hou / ect on 12 / 14 / 99 10 : 18\\nam - - - - - - - - - - - - - - - - - - - - - - - - - - -\\nfrom : sherlyn schumack on 12 / 14 / 99 10 : 06 am\\nto : stella l morris / hou / ect @ ect\\ncc : howard b camp / hou / ect @ ect\\nsubject : re : issue\\nstella ,\\nthis has already been taken care of . you did this for me yesterday .\\nthanks .\\nhoward b camp\\n12 / 14 / 99 09 : 10 am\\nto : stella l morris / hou / ect @ ect\\ncc : sherlyn schumack / hou / ect @ ect , howard b camp / hou / ect @ ect , stacey\\nneuweiler / hou / ect @ ect , daren j farmer / hou / ect @ ect\\nsubject : issue\\nstella ,\\ncan you work with stacey or daren to resolve\\nhc\\n- - - - - - - - - - - - - - - - - - - - - - forwarded by howard b camp / hou / ect on 12 / 14 / 99 09 : 08\\nam - - - - - - - - - - - - - - - - - - - - - - - - - - -\\nfrom : sherlyn schumack 12 / 13 / 99 01 : 14 pm\\nto : howard b camp / hou / ect @ ect\\ncc :\\nsubject : issue\\ni have to create accounting arrangement for purchase from unocal energy at\\nmeter 986782 . deal not tracked for 5 / 99 . volume on deal 114427 expired 4 / 99 .'"
      ]
     },
     "execution_count": 14,
     "metadata": {},
     "output_type": "execute_result"
    }
   ],
   "source": [
    "example1 = df[df['index'] == 4].values[0][0]\n",
    "example1"
   ]
  },
  {
   "cell_type": "markdown",
   "metadata": {},
   "source": [
    "Selecting the content of one of the emails, we find that the content is very complicated, which includes various English words, numbers and symbols. In the next part, we will clean the data to make the topic model get better results."
   ]
  },
  {
   "cell_type": "markdown",
   "metadata": {},
   "source": [
    "## 2. Data Cleaning\n",
    "\n",
    "First, we remove the symbols in the text, which is completely unnecessary to consider in the topic model. "
   ]
  },
  {
   "cell_type": "code",
   "execution_count": 15,
   "metadata": {},
   "outputs": [],
   "source": [
    "df['E-mails'] = [re.sub(r'[^\\w\\s]','',str(x)) for x in df['E-mails']]"
   ]
  },
  {
   "cell_type": "code",
   "execution_count": 16,
   "metadata": {},
   "outputs": [
    {
     "data": {
      "text/plain": [
       "'Subject re  issue\\nfyi  see note below  already done \\nstella\\n                      forwarded by stella l morris  hou  ect on 12  14  99 10  18\\nam                           \\nfrom  sherlyn schumack on 12  14  99 10  06 am\\nto  stella l morris  hou  ect  ect\\ncc  howard b camp  hou  ect  ect\\nsubject  re  issue\\nstella \\nthis has already been taken care of  you did this for me yesterday \\nthanks \\nhoward b camp\\n12  14  99 09  10 am\\nto  stella l morris  hou  ect  ect\\ncc  sherlyn schumack  hou  ect  ect  howard b camp  hou  ect  ect  stacey\\nneuweiler  hou  ect  ect  daren j farmer  hou  ect  ect\\nsubject  issue\\nstella \\ncan you work with stacey or daren to resolve\\nhc\\n                      forwarded by howard b camp  hou  ect on 12  14  99 09  08\\nam                           \\nfrom  sherlyn schumack 12  13  99 01  14 pm\\nto  howard b camp  hou  ect  ect\\ncc \\nsubject  issue\\ni have to create accounting arrangement for purchase from unocal energy at\\nmeter 986782  deal not tracked for 5  99  volume on deal 114427 expired 4  99 '"
      ]
     },
     "execution_count": 16,
     "metadata": {},
     "output_type": "execute_result"
    }
   ],
   "source": [
    "example2 = df[df['index'] == 4].values[0][0]\n",
    "example2"
   ]
  },
  {
   "cell_type": "markdown",
   "metadata": {},
   "source": [
    "As shown above, for the same example, there are no symbols after processing. Please note that'/n' means line break, is not the real content. \n",
    "\n",
    "Then we will need the stopwords from NLTK  for text pre-processing."
   ]
  },
  {
   "cell_type": "code",
   "execution_count": 17,
   "metadata": {},
   "outputs": [],
   "source": [
    "#nltk.download('stopwords')\n",
    "#nltk.download('punkt')\n",
    "#nltk.download('wordnet')"
   ]
  },
  {
   "cell_type": "markdown",
   "metadata": {},
   "source": [
    "We have already downloaded the stopwords. Let’s import them and make it available in 'en_stop'. By the way, because these texts are emails,'subject' is also considered as a stop word. "
   ]
  },
  {
   "cell_type": "code",
   "execution_count": 18,
   "metadata": {},
   "outputs": [],
   "source": [
    "en_stop = nltk.corpus.stopwords.words('english')\n",
    "en_stop.append('Subject')\n",
    "#en_stop.append('enron')"
   ]
  },
  {
   "cell_type": "code",
   "execution_count": 19,
   "metadata": {},
   "outputs": [],
   "source": [
    "## a lemma lookup and word standardization\n",
    "\n",
    "def get_lemma(word):   \n",
    "    lemma = wn.morphy(word)\n",
    "    if lemma is None:\n",
    "        return word\n",
    "    else:\n",
    "        return lemma"
   ]
  },
  {
   "cell_type": "code",
   "execution_count": 20,
   "metadata": {},
   "outputs": [],
   "source": [
    "## date cleaning\n",
    "\n",
    "def prepare_text(text):\n",
    "    tokens = nltk.word_tokenize(text) # Divide sentences into words\n",
    "    tokens = [token for token in tokens if len(token) > 3] # Only keep words longer than 3\n",
    "    tokens = [token for token in tokens if token not in en_stop] # Only keep words that are not stop words \n",
    "    tokens = [get_lemma(token) for token in tokens]\n",
    "    return tokens"
   ]
  },
  {
   "cell_type": "markdown",
   "metadata": {},
   "source": [
    "After preparing the function, we perform data cleaning."
   ]
  },
  {
   "cell_type": "code",
   "execution_count": 21,
   "metadata": {},
   "outputs": [],
   "source": [
    "text = df['E-mails']"
   ]
  },
  {
   "cell_type": "code",
   "execution_count": 22,
   "metadata": {},
   "outputs": [
    {
     "data": {
      "text/plain": [
       "1                   Subject christmas tree farm pictures\\n\n",
       "2        Subject vastar resources  inc \\ngary  producti...\n",
       "3        Subject calpine daily gas nomination\\n calpine...\n",
       "4        Subject re  issue\\nfyi  see note below  alread...\n",
       "5        Subject meter 7268 nov allocation\\nfyi \\n     ...\n",
       "                               ...                        \n",
       "27712    Subject make big bucks in the medical field ba...\n",
       "27713    Subject proposal\\ndear sir \\nfirst i must soli...\n",
       "27714    Subject cure premature ejaculation\\nhello \\ndi...\n",
       "27715    Subject need your vics \\nbrand name meds such ...\n",
       "27716    Subject   iso  8859  1  q  good _ news _ c  ed...\n",
       "Name: E-mails, Length: 27716, dtype: object"
      ]
     },
     "execution_count": 22,
     "metadata": {},
     "output_type": "execute_result"
    }
   ],
   "source": [
    "text"
   ]
  },
  {
   "cell_type": "code",
   "execution_count": 23,
   "metadata": {},
   "outputs": [],
   "source": [
    "text_new = df['E-mails'].map(prepare_text)"
   ]
  },
  {
   "cell_type": "code",
   "execution_count": 24,
   "metadata": {},
   "outputs": [
    {
     "data": {
      "text/plain": [
       "1                         [christmas, tree, farm, picture]\n",
       "2        [vastar, resource, gary, production, high, isl...\n",
       "3        [calpine, daily, nomination, calpine, daily, n...\n",
       "4        [issue, note, already, do, stella, forward, st...\n",
       "5        [meter, 7268, allocation, forward, lauri, alle...\n",
       "                               ...                        \n",
       "27712    [make, buck, medical, field, bait, excel, prob...\n",
       "27713    [proposal, dear, first, must, solicit, strict,...\n",
       "27714    [cure, premature, ejaculation, hello, ejaculat...\n",
       "27715    [need, vics, brand, name, med, vics, vals, xan...\n",
       "27716    [8859, good, news, edaliss, edumm, eoggra, hel...\n",
       "Name: E-mails, Length: 27716, dtype: object"
      ]
     },
     "execution_count": 24,
     "metadata": {},
     "output_type": "execute_result"
    }
   ],
   "source": [
    "text_new"
   ]
  },
  {
   "cell_type": "markdown",
   "metadata": {},
   "source": [
    "By comparing 'text' and 'text_new', the sentence is divided into words, and according to the cleaning rules, some words are removed. \n",
    "\n",
    "The following example (the same email example as before) has also undergone such changes."
   ]
  },
  {
   "cell_type": "code",
   "execution_count": 25,
   "metadata": {},
   "outputs": [
    {
     "data": {
      "text/plain": [
       "['issue',\n",
       " 'note',\n",
       " 'already',\n",
       " 'do',\n",
       " 'stella',\n",
       " 'forward',\n",
       " 'stella',\n",
       " 'morris',\n",
       " 'sherlyn',\n",
       " 'schumack',\n",
       " 'stella',\n",
       " 'morris',\n",
       " 'howard',\n",
       " 'camp',\n",
       " 'subject',\n",
       " 'issue',\n",
       " 'stella',\n",
       " 'already',\n",
       " 'take',\n",
       " 'care',\n",
       " 'yesterday',\n",
       " 'thanks',\n",
       " 'howard',\n",
       " 'camp',\n",
       " 'stella',\n",
       " 'morris',\n",
       " 'sherlyn',\n",
       " 'schumack',\n",
       " 'howard',\n",
       " 'camp',\n",
       " 'stacey',\n",
       " 'neuweiler',\n",
       " 'daren',\n",
       " 'farmer',\n",
       " 'subject',\n",
       " 'issue',\n",
       " 'stella',\n",
       " 'work',\n",
       " 'stacey',\n",
       " 'daren',\n",
       " 'resolve',\n",
       " 'forward',\n",
       " 'howard',\n",
       " 'camp',\n",
       " 'sherlyn',\n",
       " 'schumack',\n",
       " 'howard',\n",
       " 'camp',\n",
       " 'subject',\n",
       " 'issue',\n",
       " 'create',\n",
       " 'accounting',\n",
       " 'arrangement',\n",
       " 'purchase',\n",
       " 'unocal',\n",
       " 'energy',\n",
       " 'meter',\n",
       " '986782',\n",
       " 'deal',\n",
       " 'track',\n",
       " 'volume',\n",
       " 'deal',\n",
       " '114427',\n",
       " 'expire']"
      ]
     },
     "execution_count": 25,
     "metadata": {},
     "output_type": "execute_result"
    }
   ],
   "source": [
    "example3 = text_new[4]\n",
    "example3"
   ]
  },
  {
   "cell_type": "markdown",
   "metadata": {},
   "source": [
    "In this way, we have completed the data cleaning, and then we can apply the data to the topic model."
   ]
  },
  {
   "cell_type": "markdown",
   "metadata": {},
   "source": [
    "## 3. TF-IDF and dictionary\n",
    "\n",
    "In order to meet the input requirements of the function in the 'sklearn', we need to change the data format, which means that the cleaned words are recombined into sentences."
   ]
  },
  {
   "cell_type": "code",
   "execution_count": 26,
   "metadata": {},
   "outputs": [
    {
     "data": {
      "text/html": [
       "<div>\n",
       "<style scoped>\n",
       "    .dataframe tbody tr th:only-of-type {\n",
       "        vertical-align: middle;\n",
       "    }\n",
       "\n",
       "    .dataframe tbody tr th {\n",
       "        vertical-align: top;\n",
       "    }\n",
       "\n",
       "    .dataframe thead th {\n",
       "        text-align: right;\n",
       "    }\n",
       "</style>\n",
       "<table border=\"1\" class=\"dataframe\">\n",
       "  <thead>\n",
       "    <tr style=\"text-align: right;\">\n",
       "      <th></th>\n",
       "      <th>E-mails</th>\n",
       "    </tr>\n",
       "  </thead>\n",
       "  <tbody>\n",
       "    <tr>\n",
       "      <th>0</th>\n",
       "      <td>christmas tree farm picture</td>\n",
       "    </tr>\n",
       "    <tr>\n",
       "      <th>1</th>\n",
       "      <td>vastar resource gary production high island la...</td>\n",
       "    </tr>\n",
       "    <tr>\n",
       "      <th>2</th>\n",
       "      <td>calpine daily nomination calpine daily nomination</td>\n",
       "    </tr>\n",
       "    <tr>\n",
       "      <th>3</th>\n",
       "      <td>issue note already do stella forward stella mo...</td>\n",
       "    </tr>\n",
       "    <tr>\n",
       "      <th>4</th>\n",
       "      <td>meter 7268 allocation forward lauri allen kimb...</td>\n",
       "    </tr>\n",
       "    <tr>\n",
       "      <th>...</th>\n",
       "      <td>...</td>\n",
       "    </tr>\n",
       "    <tr>\n",
       "      <th>27711</th>\n",
       "      <td>make buck medical field bait excel problem see...</td>\n",
       "    </tr>\n",
       "    <tr>\n",
       "      <th>27712</th>\n",
       "      <td>proposal dear first must solicit strict confid...</td>\n",
       "    </tr>\n",
       "    <tr>\n",
       "      <th>27713</th>\n",
       "      <td>cure premature ejaculation hello ejaculate wit...</td>\n",
       "    </tr>\n",
       "    <tr>\n",
       "      <th>27714</th>\n",
       "      <td>need vics brand name med vics vals xanies othe...</td>\n",
       "    </tr>\n",
       "    <tr>\n",
       "      <th>27715</th>\n",
       "      <td>8859 good news edaliss edumm eoggra hello welc...</td>\n",
       "    </tr>\n",
       "  </tbody>\n",
       "</table>\n",
       "<p>27716 rows × 1 columns</p>\n",
       "</div>"
      ],
      "text/plain": [
       "                                                 E-mails\n",
       "0                            christmas tree farm picture\n",
       "1      vastar resource gary production high island la...\n",
       "2      calpine daily nomination calpine daily nomination\n",
       "3      issue note already do stella forward stella mo...\n",
       "4      meter 7268 allocation forward lauri allen kimb...\n",
       "...                                                  ...\n",
       "27711  make buck medical field bait excel problem see...\n",
       "27712  proposal dear first must solicit strict confid...\n",
       "27713  cure premature ejaculation hello ejaculate wit...\n",
       "27714  need vics brand name med vics vals xanies othe...\n",
       "27715  8859 good news edaliss edumm eoggra hello welc...\n",
       "\n",
       "[27716 rows x 1 columns]"
      ]
     },
     "execution_count": 26,
     "metadata": {},
     "output_type": "execute_result"
    }
   ],
   "source": [
    "text2 = [[' '.join(i)] for i in text_new]\n",
    "df2 = pd.DataFrame(text2)\n",
    "df2.columns = ['E-mails']\n",
    "df2"
   ]
  },
  {
   "cell_type": "code",
   "execution_count": 27,
   "metadata": {},
   "outputs": [
    {
     "data": {
      "text/plain": [
       "0                              christmas tree farm picture\n",
       "1        vastar resource gary production high island la...\n",
       "2        calpine daily nomination calpine daily nomination\n",
       "3        issue note already do stella forward stella mo...\n",
       "4        meter 7268 allocation forward lauri allen kimb...\n",
       "                               ...                        \n",
       "27711    make buck medical field bait excel problem see...\n",
       "27712    proposal dear first must solicit strict confid...\n",
       "27713    cure premature ejaculation hello ejaculate wit...\n",
       "27714    need vics brand name med vics vals xanies othe...\n",
       "27715    8859 good news edaliss edumm eoggra hello welc...\n",
       "Name: E-mails, Length: 27716, dtype: object"
      ]
     },
     "execution_count": 27,
     "metadata": {},
     "output_type": "execute_result"
    }
   ],
   "source": [
    "text_processed = df2['E-mails']\n",
    "text_processed"
   ]
  },
  {
   "cell_type": "markdown",
   "metadata": {},
   "source": [
    "When processing text, how to convert the text into a vector that the model can handle? **TF-IDF(term frequency-inverse document frequency)** is one of the solutions to this problem. The importance of a word is proportional to its frequency in the text (TF) and inversely proportional to its frequency in the corpus (IDF).\n",
    "\n",
    "We use the 'sklearn.feature_extraction.text.TfidfVectorizer' function to calculate TF-IDF. By the way, when building the vocabulary we ignore terms that have a document frequency strictly lower than the given threshold. This value is also called cut-off."
   ]
  },
  {
   "cell_type": "code",
   "execution_count": 28,
   "metadata": {},
   "outputs": [
    {
     "name": "stdout",
     "output_type": "stream",
     "text": [
      "Created 27716 X 14930 document-term matrix\n"
     ]
    }
   ],
   "source": [
    "# Set the minimum term-document frequency to 10\n",
    "vectorizer = TfidfVectorizer(min_df = 10) \n",
    "A = vectorizer.fit_transform(text_processed)\n",
    "print( \"Created %d X %d document-term matrix\" % (A.shape[0], A.shape[1]) )"
   ]
  },
  {
   "cell_type": "code",
   "execution_count": 29,
   "metadata": {},
   "outputs": [
    {
     "data": {
      "text/plain": [
       "14930"
      ]
     },
     "execution_count": 29,
     "metadata": {},
     "output_type": "execute_result"
    }
   ],
   "source": [
    "terms = vectorizer.get_feature_names()\n",
    "len(terms)"
   ]
  },
  {
   "cell_type": "markdown",
   "metadata": {},
   "source": [
    "We also get the dictionary, which has 14930 distinct terms. And I list a few of them above."
   ]
  },
  {
   "cell_type": "code",
   "execution_count": 30,
   "metadata": {},
   "outputs": [
    {
     "data": {
      "text/plain": [
       "['amongthe',\n",
       " 'amonq',\n",
       " 'amonqthe',\n",
       " 'amortization',\n",
       " 'amortize',\n",
       " 'amount',\n",
       " 'amphetamine',\n",
       " 'ample',\n",
       " 'amplify',\n",
       " 'amputate',\n",
       " 'amro',\n",
       " 'amsterdam',\n",
       " 'amtrak',\n",
       " 'amulet',\n",
       " 'amuse',\n",
       " 'anadarko',\n",
       " 'anaheim',\n",
       " 'anaiog',\n",
       " 'anal',\n",
       " 'analgesic',\n",
       " 'analog',\n",
       " 'analogous',\n",
       " 'analogy',\n",
       " 'analyse',\n",
       " 'analysis',\n",
       " 'analyst',\n",
       " 'analytic',\n",
       " 'analytical',\n",
       " 'analytics',\n",
       " 'analyze',\n",
       " 'anatol',\n",
       " 'anax',\n",
       " 'ancestry',\n",
       " 'anchor',\n",
       " 'anchorage',\n",
       " 'anchorite',\n",
       " 'ancient',\n",
       " 'ancillary',\n",
       " 'andersen',\n",
       " 'anderson',\n",
       " 'andmanyother',\n",
       " 'andre',\n",
       " 'andrea',\n",
       " 'andreas',\n",
       " 'andrei',\n",
       " 'andrew',\n",
       " 'andrews',\n",
       " 'andy',\n",
       " 'anecdotal',\n",
       " 'anew',\n",
       " 'ange',\n",
       " 'angeies',\n",
       " 'angel',\n",
       " 'angela',\n",
       " 'angeles',\n",
       " 'angelica',\n",
       " 'angelides',\n",
       " 'angelopoulos',\n",
       " 'anger',\n",
       " 'angie',\n",
       " 'angle',\n",
       " 'anglo',\n",
       " 'angola',\n",
       " 'angry',\n",
       " 'angus',\n",
       " 'anheuser',\n",
       " 'aniline',\n",
       " 'animal',\n",
       " 'animate',\n",
       " 'animation',\n",
       " 'aninherent',\n",
       " 'aniseikonic',\n",
       " 'anita',\n",
       " 'anjam',\n",
       " 'ankara',\n",
       " 'anna',\n",
       " 'anne',\n",
       " 'annette',\n",
       " 'annex',\n",
       " 'annie',\n",
       " 'anniversary',\n",
       " 'announce',\n",
       " 'announcement',\n",
       " 'annoy',\n",
       " 'annoying',\n",
       " 'annua',\n",
       " 'annuaiized',\n",
       " 'annuaily',\n",
       " 'annual',\n",
       " 'annualiy',\n",
       " 'annualized',\n",
       " 'annually',\n",
       " 'annuity',\n",
       " 'annum',\n",
       " 'ano',\n",
       " 'anomaly',\n",
       " 'anonymity',\n",
       " 'anonymous',\n",
       " 'anonymously',\n",
       " 'another']"
      ]
     },
     "execution_count": 30,
     "metadata": {},
     "output_type": "execute_result"
    }
   ],
   "source": [
    "terms[1000:1100]"
   ]
  },
  {
   "cell_type": "markdown",
   "metadata": {},
   "source": [
    " Then we can look at the terms with the highest TF-IDF scores across all documents in the document-term matrix."
   ]
  },
  {
   "cell_type": "code",
   "execution_count": 31,
   "metadata": {},
   "outputs": [],
   "source": [
    "## look at the terms with the highest TF-IDF scores across all documents in the document-term matrix\n",
    "\n",
    "def rank_terms( A, terms ):\n",
    "    # get the sums over each column\n",
    "    sums = A.sum(axis=0)\n",
    "    # map weights to the terms\n",
    "    weights = {}\n",
    "    for col, term in enumerate(terms):\n",
    "        weights[term] = sums[0,col]\n",
    "    # rank the terms by their weight over all documents\n",
    "    return sorted(weights.items(), key=operator.itemgetter(1), reverse=True)"
   ]
  },
  {
   "cell_type": "markdown",
   "metadata": {},
   "source": [
    "For example, according to the TF-IDF, we can get the top 20 terms. "
   ]
  },
  {
   "cell_type": "code",
   "execution_count": 32,
   "metadata": {},
   "outputs": [
    {
     "name": "stdout",
     "output_type": "stream",
     "text": [
      "01. enron (1040.71)\n",
      "02. please (607.10)\n",
      "03. 2000 (499.62)\n",
      "04. 2001 (439.48)\n",
      "05. http (428.72)\n",
      "06. need (408.94)\n",
      "07. vince (406.64)\n",
      "08. would (394.01)\n",
      "09. company (386.36)\n",
      "10. subject (385.36)\n",
      "11. know (370.26)\n",
      "12. deal (363.22)\n",
      "13. email (359.49)\n",
      "14. thanks (352.30)\n",
      "15. price (348.55)\n",
      "16. message (347.68)\n",
      "17. attach (335.99)\n",
      "18. time (327.86)\n",
      "19. business (321.66)\n",
      "20. information (319.20)\n"
     ]
    }
   ],
   "source": [
    "ranking = rank_terms( A, terms )\n",
    "for i, pair in enumerate( ranking[0:20] ):\n",
    "    print( \"%02d. %s (%.2f)\" % ( i+1, pair[0], pair[1] ) )"
   ]
  },
  {
   "cell_type": "markdown",
   "metadata": {},
   "source": [
    "## 4. NMF model\n",
    "\n",
    "**Non-negative Matrix Factorisation (NMF)** is one of the methods for topic model.\n",
    "\n",
    "### 4.1 Modeling\n",
    "\n",
    "Now we apply NMF by using 'sklearn' library."
   ]
  },
  {
   "cell_type": "code",
   "execution_count": 33,
   "metadata": {},
   "outputs": [],
   "source": [
    "## Generate 10 topics  \n",
    "k=10"
   ]
  },
  {
   "cell_type": "code",
   "execution_count": 34,
   "metadata": {},
   "outputs": [],
   "source": [
    "model = decomposition.NMF( init=\"nndsvd\", n_components=k ) \n",
    "# apply the model and extract the two factor matrices\n",
    "W = model.fit_transform(A)\n",
    "H = model.components_"
   ]
  },
  {
   "cell_type": "markdown",
   "metadata": {},
   "source": [
    "### 4.2 Output\n",
    "\n",
    "NMF produces two outputs: W and H.\n",
    "\n",
    "The W factor contains the document membership weights relative to each of the k topics. Each row corresponds to a single document, and each column correspond to a topic."
   ]
  },
  {
   "cell_type": "code",
   "execution_count": 35,
   "metadata": {},
   "outputs": [
    {
     "data": {
      "text/plain": [
       "(27716, 10)"
      ]
     },
     "execution_count": 35,
     "metadata": {},
     "output_type": "execute_result"
    }
   ],
   "source": [
    "W.shape"
   ]
  },
  {
   "cell_type": "markdown",
   "metadata": {},
   "source": [
    "For example, the second document is mainly related to the fifth topic（0.021 is the largest）, but it is also less related to some other topics."
   ]
  },
  {
   "cell_type": "code",
   "execution_count": 36,
   "metadata": {},
   "outputs": [
    {
     "data": {
      "text/plain": [
       "array([0.005, 0.008, 0.   , 0.002, 0.021, 0.009, 0.003, 0.   , 0.002,\n",
       "       0.003])"
      ]
     },
     "execution_count": 36,
     "metadata": {},
     "output_type": "execute_result"
    }
   ],
   "source": [
    "W[1,:].round(3)"
   ]
  },
  {
   "cell_type": "markdown",
   "metadata": {},
   "source": [
    "The H factor contains the term weights relative to each of the k topics. In this case, each row corresponds to a topic, and each column corresponds to a unique term in the corpus vocabulary."
   ]
  },
  {
   "cell_type": "code",
   "execution_count": 37,
   "metadata": {},
   "outputs": [
    {
     "data": {
      "text/plain": [
       "(10, 14930)"
      ]
     },
     "execution_count": 37,
     "metadata": {},
     "output_type": "execute_result"
    }
   ],
   "source": [
    "H.shape"
   ]
  },
  {
   "cell_type": "markdown",
   "metadata": {},
   "source": [
    "For example, the second topic is related to the second terms in the dictionary, although the association is very small."
   ]
  },
  {
   "cell_type": "code",
   "execution_count": 38,
   "metadata": {},
   "outputs": [
    {
     "data": {
      "text/plain": [
       "array([0.e+00, 8.e-05, 0.e+00, ..., 0.e+00, 0.e+00, 0.e+00])"
      ]
     },
     "execution_count": 38,
     "metadata": {},
     "output_type": "execute_result"
    }
   ],
   "source": [
    "H[1,:].round(5)"
   ]
  },
  {
   "cell_type": "markdown",
   "metadata": {},
   "source": [
    "And for the term \"enron\", we see that it is strongly associated with the second topic. Again, in some cases each term can be associated with multiple topics."
   ]
  },
  {
   "cell_type": "code",
   "execution_count": 39,
   "metadata": {},
   "outputs": [
    {
     "data": {
      "text/plain": [
       "array([0.31, 3.61, 0.  , 0.  , 0.  , 0.  , 0.  , 0.  , 0.  , 0.  ])"
      ]
     },
     "execution_count": 39,
     "metadata": {},
     "output_type": "execute_result"
    }
   ],
   "source": [
    "term_index = terms.index('enron')\n",
    "H[:,term_index].round(2)"
   ]
  },
  {
   "cell_type": "markdown",
   "metadata": {},
   "source": [
    "### 4.3 Topic content\n",
    "\n",
    "The top ranked terms from the H factor for each topic can give us an insight into the content of that topic. which is often called the topic descriptor."
   ]
  },
  {
   "cell_type": "code",
   "execution_count": 40,
   "metadata": {},
   "outputs": [],
   "source": [
    "## extract the descriptor for a specified topic\n",
    "\n",
    "def get_descriptor( terms, H, topic_index, top ):\n",
    "    # reverse sort the values to sort the indices\n",
    "    top_indices = np.argsort( H[topic_index,:] )[::-1]\n",
    "    # get the terms corresponding to the top-ranked indices\n",
    "    top_terms = []\n",
    "    for term_index in top_indices[0:top]:\n",
    "        top_terms.append( terms[term_index] )\n",
    "    return top_terms"
   ]
  },
  {
   "cell_type": "markdown",
   "metadata": {},
   "source": [
    "Then we can get the top 10 terms of each topics."
   ]
  },
  {
   "cell_type": "code",
   "execution_count": 41,
   "metadata": {},
   "outputs": [
    {
     "name": "stdout",
     "output_type": "stream",
     "text": [
      "Topic 01: vince, kaminski, would, meeting, subject, 2001, please, thanks, group, louise\n",
      "Topic 02: enron, 2000, teco, corp, actuals, iferc, daily, request, communications, subject\n",
      "Topic 03: adobe, software, 2004, professional, studio, windows, macromedia, corel, photoshop, need\n",
      "Topic 04: company, statement, security, report, investment, stock, within, information, market, price\n",
      "Topic 05: deal, meter, volume, daren, mmbtu, flow, 2000, sitara, thanks, contract\n",
      "Topic 06: http, click, email, free, save, receive, viagra, online, remove, order\n",
      "Topic 07: claim, lottery, program, winning, number, prize, account, international, address, part\n",
      "Topic 08: logo, business, stationery, offer, competitor, creative, identity, custom, breathing, revamp\n",
      "Topic 09: hplno, attach, file, hplo, 2001, 2000, hplnl, march, noms, please\n",
      "Topic 10: website, submit, search, engine, online, visitor, vain, dramatically, sales, stream\n"
     ]
    }
   ],
   "source": [
    "descriptors = []\n",
    "for topic_index in range(k):\n",
    "    descriptors.append( get_descriptor( terms, H, topic_index, 10 ) )\n",
    "    str_descriptor = \", \".join( descriptors[topic_index] )\n",
    "    print(\"Topic %02d: %s\" % ( topic_index+1, str_descriptor ) )"
   ]
  },
  {
   "cell_type": "code",
   "execution_count": 42,
   "metadata": {},
   "outputs": [],
   "source": [
    "plt.style.use(\"ggplot\")\n",
    "matplotlib.rcParams.update({\"font.size\": 18})"
   ]
  },
  {
   "cell_type": "markdown",
   "metadata": {},
   "source": [
    "For instance, we can also get the top 10 terms of the first topic."
   ]
  },
  {
   "cell_type": "code",
   "execution_count": 43,
   "metadata": {},
   "outputs": [],
   "source": [
    "## draw the top terms of a topic \n",
    "\n",
    "def plot_top_term_weights( terms, H, topic_index, top ):\n",
    "    # get the top terms and their weights\n",
    "    top_indices = np.argsort( H[topic_index,:] )[::-1]\n",
    "    top_terms = []\n",
    "    top_weights = []\n",
    "    for term_index in top_indices[0:top]:\n",
    "        top_terms.append( terms[term_index] )\n",
    "        top_weights.append( H[topic_index,term_index] )\n",
    "    # note we reverse the ordering for the plot\n",
    "    top_terms.reverse()\n",
    "    top_weights.reverse()\n",
    "    # create the plot\n",
    "    fig = plt.figure(figsize=(13,8))\n",
    "    # add the horizontal bar chart\n",
    "    ypos = np.arange(top)\n",
    "    ax = plt.barh(ypos, top_weights, align=\"center\", color=\"blue\", tick_label=top_terms)\n",
    "    plt.xlabel(\"Term Weight\",fontsize=20)\n",
    "    plt.tight_layout()\n",
    "    plt.show()"
   ]
  },
  {
   "cell_type": "code",
   "execution_count": 44,
   "metadata": {},
   "outputs": [
    {
     "data": {
      "image/png": "[encoded data removed]",
      "text/plain": [
       "<Figure size 936x576 with 1 Axes>"
      ]
     },
     "metadata": {},
     "output_type": "display_data"
    }
   ],
   "source": [
    "plot_top_term_weights( terms, H, 0, 10 )"
   ]
  },
  {
   "cell_type": "markdown",
   "metadata": {},
   "source": [
    "## 5. Parameter study\n",
    "\n",
    "In the topic model, the most important parameter is the number of topics, we now set the number of topics from 2 to 50, and output the model results separately. "
   ]
  },
  {
   "cell_type": "code",
   "execution_count": 45,
   "metadata": {},
   "outputs": [
    {
     "name": "stdout",
     "output_type": "stream",
     "text": [
      "Applying NMF for k=2 ...\n",
      "Applying NMF for k=3 ...\n",
      "Applying NMF for k=4 ...\n",
      "Applying NMF for k=5 ...\n"
     ]
    },
    {
     "name": "stderr",
     "output_type": "stream",
     "text": [
      "D:\\anaconda\\lib\\site-packages\\sklearn\\decomposition\\_nmf.py:1077: ConvergenceWarning: Maximum number of iterations 200 reached. Increase it to improve convergence.\n",
      "  \" improve convergence.\" % max_iter, ConvergenceWarning)\n"
     ]
    },
    {
     "name": "stdout",
     "output_type": "stream",
     "text": [
      "Applying NMF for k=6 ...\n",
      "Applying NMF for k=7 ...\n",
      "Applying NMF for k=8 ...\n",
      "Applying NMF for k=9 ...\n",
      "Applying NMF for k=10 ...\n",
      "Applying NMF for k=11 ...\n",
      "Applying NMF for k=12 ...\n",
      "Applying NMF for k=13 ...\n",
      "Applying NMF for k=14 ...\n",
      "Applying NMF for k=15 ...\n",
      "Applying NMF for k=16 ...\n",
      "Applying NMF for k=17 ...\n",
      "Applying NMF for k=18 ...\n",
      "Applying NMF for k=19 ...\n",
      "Applying NMF for k=20 ...\n",
      "Applying NMF for k=21 ...\n",
      "Applying NMF for k=22 ...\n",
      "Applying NMF for k=23 ...\n",
      "Applying NMF for k=24 ...\n",
      "Applying NMF for k=25 ...\n",
      "Applying NMF for k=26 ...\n",
      "Applying NMF for k=27 ...\n",
      "Applying NMF for k=28 ...\n",
      "Applying NMF for k=29 ...\n",
      "Applying NMF for k=30 ...\n",
      "Applying NMF for k=31 ...\n",
      "Applying NMF for k=32 ...\n",
      "Applying NMF for k=33 ...\n",
      "Applying NMF for k=34 ...\n",
      "Applying NMF for k=35 ...\n",
      "Applying NMF for k=36 ...\n",
      "Applying NMF for k=37 ...\n",
      "Applying NMF for k=38 ...\n",
      "Applying NMF for k=39 ...\n",
      "Applying NMF for k=40 ...\n",
      "Applying NMF for k=41 ...\n",
      "Applying NMF for k=42 ...\n",
      "Applying NMF for k=43 ...\n",
      "Applying NMF for k=44 ...\n",
      "Applying NMF for k=45 ...\n",
      "Applying NMF for k=46 ...\n",
      "Applying NMF for k=47 ...\n",
      "Applying NMF for k=48 ...\n",
      "Applying NMF for k=49 ...\n",
      "Applying NMF for k=50 ...\n"
     ]
    }
   ],
   "source": [
    "kmin, kmax = 2, 50\n",
    "\n",
    "topic_models = []\n",
    "# try each value of k\n",
    "for k in range(kmin,kmax+1):\n",
    "    print(\"Applying NMF for k=%d ...\" % k )\n",
    "    # run NMF\n",
    "    model = decomposition.NMF( init=\"nndsvd\", n_components=k ) \n",
    "    W = model.fit_transform( A )\n",
    "    H = model.components_    \n",
    "    # store for later\n",
    "    topic_models.append( (k,W,H) )"
   ]
  },
  {
   "cell_type": "markdown",
   "metadata": {},
   "source": [
    "**Coherence** and perplexity are the appropriate performance metrics of the topic model to get the optinal parameters. But I didn't find a function to directly calculate them of NMF model in 'sklearn', so we need to write the calculation function ourselves, which is more difficult. Fortunately, I found a reference for coherence. \n",
    "\n",
    "This measure relies on the use of a word embedding model constructed from our corpus. So in this step we will use the '**gensim**' implementation of 'Word2Vec' to build a **Word2Vec** model."
   ]
  },
  {
   "cell_type": "code",
   "execution_count": 46,
   "metadata": {},
   "outputs": [],
   "source": [
    "## define a class that will generate documents in a form that can be consumed by Gensim's Word2Vec implementation\n",
    "\n",
    "class TokenGenerator:\n",
    "    def __init__( self, documents, stopwords ):\n",
    "        self.documents = documents\n",
    "        self.stopwords = stopwords\n",
    "        self.tokenizer = re.compile( r\"(?u)\\b\\w\\w+\\b\" )\n",
    "\n",
    "    def __iter__( self ):\n",
    "        print(\"Building Word2Vec model ...\")\n",
    "        for doc in self.documents:\n",
    "            tokens = []\n",
    "            for tok in self.tokenizer.findall( doc ):\n",
    "                if tok in self.stopwords:\n",
    "                    tokens.append( \"<stopword>\" )\n",
    "                elif len(tok) >= 2:\n",
    "                    tokens.append( tok )\n",
    "            yield tokens"
   ]
  },
  {
   "cell_type": "markdown",
   "metadata": {},
   "source": [
    "Now we build a Word2Vec model using 'gensim'."
   ]
  },
  {
   "cell_type": "code",
   "execution_count": 47,
   "metadata": {},
   "outputs": [
    {
     "name": "stdout",
     "output_type": "stream",
     "text": [
      "Building Word2Vec model ...\n",
      "Building Word2Vec model ...\n",
      "Building Word2Vec model ...\n",
      "Building Word2Vec model ...\n",
      "Building Word2Vec model ...\n",
      "Building Word2Vec model ...\n"
     ]
    }
   ],
   "source": [
    "docgen = TokenGenerator(text_processed, en_stop)\n",
    "# the model has 100 dimensions, the minimum document-term frequency is 20\n",
    "w2v_model = gensim.models.Word2Vec(docgen, size=100, min_count=10, sg=1)"
   ]
  },
  {
   "cell_type": "code",
   "execution_count": 48,
   "metadata": {},
   "outputs": [
    {
     "data": {
      "text/plain": [
       "17698"
      ]
     },
     "execution_count": 48,
     "metadata": {},
     "output_type": "execute_result"
    }
   ],
   "source": [
    "len(w2v_model.wv.vocab)"
   ]
  },
  {
   "cell_type": "markdown",
   "metadata": {},
   "source": [
    "We can see that model has 17698 terms."
   ]
  },
  {
   "cell_type": "code",
   "execution_count": 49,
   "metadata": {},
   "outputs": [],
   "source": [
    "## calculate the coherence of model\n",
    "\n",
    "def calculate_coherence( w2v_model, term_rankings ):\n",
    "    overall_coherence = 0.0\n",
    "    for topic_index in range(len(term_rankings)):\n",
    "        # check each pair of terms\n",
    "        pair_scores = []\n",
    "        b = 0\n",
    "        for pair in combinations( term_rankings[topic_index], 2 ):\n",
    "            a = w2v_model.similarity(pair[0], pair[1])\n",
    "            pair_scores.append(a)\n",
    "            b += a\n",
    "        # get the mean for all pairs in this topic\n",
    "        #b = sum(pair_scores)\n",
    "        c = len(pair_scores)\n",
    "        topic_score = b/c \n",
    "        overall_coherence += topic_score\n",
    "    # get the mean score across all topics\n",
    "    return overall_coherence / len(term_rankings)"
   ]
  },
  {
   "cell_type": "markdown",
   "metadata": {},
   "source": [
    "In this way, we get the function to calculate the coherence, and then calculate and compare all the coherences of the 49 NMF topic models established above. "
   ]
  },
  {
   "cell_type": "code",
   "execution_count": 50,
   "metadata": {},
   "outputs": [
    {
     "name": "stderr",
     "output_type": "stream",
     "text": [
      "D:\\anaconda\\lib\\site-packages\\ipykernel_launcher.py:10: DeprecationWarning: Call to deprecated `similarity` (Method will be removed in 4.0.0, use self.wv.similarity() instead).\n",
      "  # Remove the CWD from sys.path while we load stuff.\n"
     ]
    },
    {
     "name": "stdout",
     "output_type": "stream",
     "text": [
      "K=02: Coherence=0.3358\n",
      "K=03: Coherence=0.3853\n",
      "K=04: Coherence=0.4025\n",
      "K=05: Coherence=0.3879\n",
      "K=06: Coherence=0.3839\n",
      "K=07: Coherence=0.3884\n",
      "K=08: Coherence=0.3947\n",
      "K=09: Coherence=0.4013\n",
      "K=10: Coherence=0.4148\n",
      "K=11: Coherence=0.4185\n",
      "K=12: Coherence=0.4284\n",
      "K=13: Coherence=0.4218\n",
      "K=14: Coherence=0.4210\n",
      "K=15: Coherence=0.4177\n",
      "K=16: Coherence=0.4235\n",
      "K=17: Coherence=0.4166\n",
      "K=18: Coherence=0.4278\n",
      "K=19: Coherence=0.4281\n",
      "K=20: Coherence=0.4291\n",
      "K=21: Coherence=0.4304\n",
      "K=22: Coherence=0.4364\n",
      "K=23: Coherence=0.4362\n",
      "K=24: Coherence=0.4369\n",
      "K=25: Coherence=0.4322\n",
      "K=26: Coherence=0.4327\n",
      "K=27: Coherence=0.4305\n",
      "K=28: Coherence=0.4374\n",
      "K=29: Coherence=0.4378\n",
      "K=30: Coherence=0.4375\n",
      "K=31: Coherence=0.4399\n",
      "K=32: Coherence=0.4391\n",
      "K=33: Coherence=0.4379\n",
      "K=34: Coherence=0.4340\n",
      "K=35: Coherence=0.4429\n",
      "K=36: Coherence=0.4353\n",
      "K=37: Coherence=0.4423\n",
      "K=38: Coherence=0.4371\n",
      "K=39: Coherence=0.4399\n",
      "K=40: Coherence=0.4348\n",
      "K=41: Coherence=0.4387\n",
      "K=42: Coherence=0.4346\n",
      "K=43: Coherence=0.4319\n",
      "K=44: Coherence=0.4327\n",
      "K=45: Coherence=0.4292\n",
      "K=46: Coherence=0.4288\n",
      "K=47: Coherence=0.4332\n",
      "K=48: Coherence=0.4349\n",
      "K=49: Coherence=0.4306\n",
      "K=50: Coherence=0.4305\n"
     ]
    }
   ],
   "source": [
    "k_values = []\n",
    "coherences = []\n",
    "\n",
    "for (k,W,H) in topic_models:\n",
    "    # Get all of the topic descriptors - the term_rankings, based on top 10 terms\n",
    "    term_rankings = []\n",
    "    for topic_index in range(k):\n",
    "        term_rankings.append( get_descriptor( terms, H, topic_index, 10 ) )\n",
    "    # Now calculate the coherence based on our Word2vec model\n",
    "    k_values.append( k )\n",
    "    a = calculate_coherence( w2v_model, term_rankings )\n",
    "    coherences.append( a )\n",
    "    print(\"K=%02d: Coherence=%.4f\" % ( k, coherences[-1] ) )"
   ]
  },
  {
   "cell_type": "code",
   "execution_count": 51,
   "metadata": {},
   "outputs": [],
   "source": [
    "plt.style.use(\"ggplot\")\n",
    "matplotlib.rcParams.update({\"font.size\": 10})"
   ]
  },
  {
   "cell_type": "code",
   "execution_count": 52,
   "metadata": {},
   "outputs": [
    {
     "data": {
      "image/png": "[encoded data removed]",
      "text/plain": [
       "<Figure size 1080x648 with 1 Axes>"
      ]
     },
     "metadata": {},
     "output_type": "display_data"
    }
   ],
   "source": [
    "fig = plt.figure(figsize=(15,9))\n",
    "# create the line plot\n",
    "ax = plt.plot( k_values, coherences )\n",
    "plt.xticks(k_values)\n",
    "plt.xlabel(\"Number of Topics\")\n",
    "plt.ylabel(\"Coherence\")\n",
    "# add the points\n",
    "plt.scatter( k_values, coherences, s=120)\n",
    "# find and annotate the maximum point on the plot\n",
    "ymax = max(coherences)\n",
    "xpos = coherences.index(ymax)\n",
    "best_k = k_values[xpos]\n",
    "plt.annotate( \"k=%d\" % best_k, xy=(best_k, ymax), xytext=(best_k, ymax), textcoords=\"offset points\", fontsize=16)\n",
    "# show the plot\n",
    "plt.show()"
   ]
  },
  {
   "cell_type": "markdown",
   "metadata": {},
   "source": [
    "The higher the coherence, the better the effect of the topic model.\n",
    "\n",
    "We can see that when the number of topics is less than 18, the coherence is low, indicating that it is inappropriate to divide such a large amount of email text into a small number of topics. When the number of topics is greater than 18, the coherence is stable in a range. When the number of topics is equal to 35, the coherence is the highest, that is, the topic model works best, so we choose 35 as the number of topics.\n",
    "\n",
    "### Optinal NMF model"
   ]
  },
  {
   "cell_type": "code",
   "execution_count": 53,
   "metadata": {},
   "outputs": [],
   "source": [
    "k=35"
   ]
  },
  {
   "cell_type": "code",
   "execution_count": 54,
   "metadata": {},
   "outputs": [],
   "source": [
    "model = decomposition.NMF( init=\"nndsvd\", n_components=k ) \n",
    "# apply the model and extract the two factor matrices\n",
    "W = model.fit_transform(A)\n",
    "H = model.components_"
   ]
  },
  {
   "cell_type": "code",
   "execution_count": 55,
   "metadata": {},
   "outputs": [
    {
     "name": "stdout",
     "output_type": "stream",
     "text": [
      "Topic 01: vince, kaminski, shirley, crenshaw, research, interview, resume, subject, stinson, would\n",
      "Topic 02: enron, corp, communications, enronxgate, development, subject, forward, mark, america, mary\n",
      "Topic 03: software, need, visit, might, site, getting, best, save, popular, money\n",
      "Topic 04: statement, company, security, within, stock, investment, information, report, advice, news\n",
      "Topic 05: deal, meter, daren, volume, flow, sitara, ticket, thanks, aimee, contract\n",
      "Topic 06: online, price, prescription, med, drug, pharmacy, viagra, shipping, cheap, order\n",
      "Topic 07: claim, lottery, program, winning, prize, international, number, congratulations, part, agent\n",
      "Topic 08: offer, logo, business, breathing, revamp, artwork, breath, custom, ciick, fresh\n",
      "Topic 09: website, submit, search, engine, online, visitor, vain, dramatically, sales, stream\n",
      "Topic 10: louise, kitchen, message, original, sent, subject, john, david, 2002, monday\n",
      "Topic 11: hplo, file, attach, 2000, june, august, noms, july, sept, revision\n",
      "Topic 12: email, click, remove, list, free, receive, mail, mailing, please, address\n",
      "Topic 13: 0000, 2005, squirrelmail, message, projecthoneypot, dose, mailwisconsin, user, content, qmail\n",
      "Topic 14: adobe, photoshop, 2004, premiere, professional, studio, macromedia, corel, graphics, windows\n",
      "Topic 15: hplno, file, attach, march, april, 2001, hplnl, february, noms, revision\n",
      "Topic 16: account, bank, money, transaction, transfer, fund, funds, country, deposit, million\n",
      "Topic 17: mmbtu, nomination, eastrans, delivery, fuel, redeliveries, cotton, valley, effective, capacity\n",
      "Topic 18: save, shop, andmanyother, nice, hello, total, customer, worldwide, welcome, shlpplng\n",
      "Topic 19: energy, say, power, company, market, price, california, billion, state, dynegy\n",
      "Topic 20: medication, stop, promotional, material, need, quality, drvgs, generic, getting, pill\n",
      "Topic 21: rate, loan, mortgage, credit, home, rates, application, form, refinance, fix\n",
      "Topic 22: thing, cialls, errrectlon, imagine, minutes, effect, ship, real, hours, great\n",
      "Topic 23: teco, actuals, enron, iferc, 2000, daily, katy, july, november, october\n",
      "Topic 24: risk, management, group, global, business, operations, trading, model, market, sally\n",
      "Topic 25: logo, business, company, image, stationery, satisfaction, website, format, change, provide\n",
      "Topic 26: soft, tab, cialis, pill, hours, tadalafil, tongue, viagra, sidebacks, alcohol\n",
      "Topic 27: viagra, men, convinient, sais, erectile, joke, dysfunction, woman, struggle, privacy\n",
      "Topic 28: report, weekly, attach, please, update, question, call, status, deal, 5426\n",
      "Topic 29: software, localize, 2004, version, windows, language, dreamweaver, homesite, norton, spanish\n",
      "Topic 30: 2001, subject, trade, april, forward, march, count, enronxgate, original, january\n",
      "Topic 31: request, resource, approval, access, approver, review, submit, type, date, upon\n",
      "Topic 32: http, info, want, html, watch, site, rolex, kernel, majordomo, penis\n",
      "Topic 33: 2000, chokshi, hplnl, forward, corp, subject, feedback, attach, file, reliantenergy\n",
      "Topic 34: meeting, would, know, time, like, week, schedule, please, thanks, call\n",
      "Topic 35: flow, texas, utility, noms, actual, enserch, avila, melissa, charlie, ponton\n"
     ]
    }
   ],
   "source": [
    "descriptors = []\n",
    "for topic_index in range(k):\n",
    "    descriptors.append( get_descriptor( terms, H, topic_index, 10 ) )\n",
    "    str_descriptor = \", \".join( descriptors[topic_index] )\n",
    "    print(\"Topic %02d: %s\" % ( topic_index+1, str_descriptor ) )"
   ]
  },
  {
   "cell_type": "markdown",
   "metadata": {},
   "source": [
    "## 6. Classification\n",
    "\n",
    "Since the input of the topic model is a large number of email texts, they are all different and distinctive. We think that if we divide the  training set and the test set according to the cross-validation method, their distribution may be different. Therefore, we set the test set and training set to entire data to evaluate the classification performance. "
   ]
  },
  {
   "cell_type": "code",
   "execution_count": 56,
   "metadata": {},
   "outputs": [],
   "source": [
    "train_x = W\n",
    "train_y = list(df['label'])\n",
    "test_x = W\n",
    "test_y = list(df['label'])"
   ]
  },
  {
   "cell_type": "code",
   "execution_count": 57,
   "metadata": {},
   "outputs": [
    {
     "data": {
      "text/plain": [
       "(27716, 35)"
      ]
     },
     "execution_count": 57,
     "metadata": {},
     "output_type": "execute_result"
    }
   ],
   "source": [
    "W.shape"
   ]
  },
  {
   "cell_type": "markdown",
   "metadata": {},
   "source": [
    "As mentioned above, the W factor contains the document membership weights relative to each of the k topics, each row corresponds to a single document, and each column correspond to a topic. Using W as the input of the classifier is actually equivalent to reducing the dimensionality of the text so that it only retains k features. \n",
    "\n",
    "In the previous assessment, we found that the performance of the decision tree is very good, the classifier is not the focus of this assessment, so we only choose one."
   ]
  },
  {
   "cell_type": "code",
   "execution_count": 58,
   "metadata": {},
   "outputs": [
    {
     "name": "stdout",
     "output_type": "stream",
     "text": [
      "------------------------------------------\n",
      "Accuracy =  99.97835185452446  %\n"
     ]
    }
   ],
   "source": [
    "clf_tree = DecisionTreeClassifier(random_state=10)\n",
    "clf_tree.fit(train_x, train_y)\n",
    "pre_tree = clf_tree.predict(test_x)\n",
    "acc_tree = accuracy_score(pre_tree, test_y)\n",
    "print(\"------------------------------------------\")\n",
    "print(\"Accuracy = \",acc_tree*100,\" %\")"
   ]
  },
  {
   "cell_type": "code",
   "execution_count": 59,
   "metadata": {},
   "outputs": [],
   "source": [
    "def classification_eval(y_true,y_pred):\n",
    "    \n",
    "    print(\"Confusion Matrix\")\n",
    "    C = confusion_matrix(y_true,y_pred)\n",
    "    \n",
    "    print('Classification report')\n",
    "    print(classification_report(y_true, y_pred, target_names = ['Normal', 'Spam'], digits=5))"
   ]
  },
  {
   "cell_type": "code",
   "execution_count": 60,
   "metadata": {},
   "outputs": [
    {
     "name": "stdout",
     "output_type": "stream",
     "text": [
      "Confusion Matrix\n",
      "Classification report\n",
      "              precision    recall  f1-score   support\n",
      "\n",
      "      Normal    1.00000   0.99960   0.99980     15046\n",
      "        Spam    0.99953   1.00000   0.99976     12670\n",
      "\n",
      "    accuracy                        0.99978     27716\n",
      "   macro avg    0.99976   0.99980   0.99978     27716\n",
      "weighted avg    0.99978   0.99978   0.99978     27716\n",
      "\n"
     ]
    }
   ],
   "source": [
    "classification_eval(test_y,pre_tree)"
   ]
  },
  {
   "cell_type": "markdown",
   "metadata": {},
   "source": [
    "We can see that the classifier has a great effect on normal mail and spam. I think this is mainly due to the output W of the NMF model, which is very suitable as the input of various machine learning algorithms, such as decision trees, random forests, SVM, etc.\n",
    "\n",
    "You can also see in the '[06 -Report.ipynb](https://github.com/xiaozhang-github/DST-Assessment-3/blob/main/Report/06%20-Report.ipynb)' that although the NMF model has the lowest coherence, it has the best classification performance. Therefore, I recommend using the method in 'gensim' when studying topic models, and using the NMF topic model in 'sklearn' when focusing more on classification. \n",
    "\n",
    "Finally, we save the output result in the '[Data](https://github.com/xiaozhang-github/DST-Assessment-3/tree/main/Data)' folder. "
   ]
  },
  {
   "cell_type": "code",
   "execution_count": 61,
   "metadata": {},
   "outputs": [],
   "source": [
    "pickle.dump(pre_tree, open('Xiao_pred.p','wb'))"
   ]
  },
  {
   "cell_type": "code",
   "execution_count": 62,
   "metadata": {},
   "outputs": [],
   "source": [
    "pickle.dump(test_y, open('Xiao_actual.p','wb'))"
   ]
  },
  {
   "cell_type": "code",
   "execution_count": 64,
   "metadata": {},
   "outputs": [
    {
     "data": {
      "text/plain": [
       "0.4429066365436902"
      ]
     },
     "execution_count": 64,
     "metadata": {},
     "output_type": "execute_result"
    }
   ],
   "source": [
    "coherences[33]"
   ]
  },
  {
   "cell_type": "code",
   "execution_count": 66,
   "metadata": {},
   "outputs": [],
   "source": [
    "pickle.dump(coherences[33], open('Xiao_opt_value.p','wb'))"
   ]
  },
  {
   "cell_type": "markdown",
   "metadata": {},
   "source": [
    "## 7. References\n",
    "\n",
    "[stop words](https://www.machinelearningplus.com/nlp/topic-modeling-gensim-python/)\n",
    "\n",
    "[workshop in block 07](https://dsbristol.github.io/dst/assets/workshops/block07-TopicModels_part2.ipynb)\n",
    "\n",
    "[Matt's notebook](https://github.com/xiaozhang-github/DST-Assessment-3/blob/main/Matt%20Corrie/Assessment%203.ipynb)\n",
    "\n",
    "[NMF topic model with Python](https://github.com/derekgreene/topic-model-tutorial/blob/master/2%20-%20NMF%20Topic%20Models.ipynb)\n",
    "\n",
    "[NMF topic model](https://iq.opengenus.org/topic-modeling-nmf/)\n",
    "\n",
    "[sklearn.decomposition.NMF](https://scikit-learn.org/stable/modules/generated/sklearn.decomposition.NMF.html)\n",
    "\n",
    "[sklearn.feature_extraction.text.TfidfVectorizer](https://scikit-learn.org/stable/modules/generated/sklearn.feature_extraction.text.TfidfVectorizer.html)\n",
    "\n",
    "[Coherence calculation function for NMF](https://github.com/derekgreene/topic-model-tutorial/blob/master/3%20-%20Parameter%20Selection%20for%20NMF.ipynb)"
   ]
  }
 ],
 "metadata": {
  "kernelspec": {
   "display_name": "Python 3",
   "language": "python",
   "name": "python3"
  },
  "language_info": {
   "codemirror_mode": {
    "name": "ipython",
    "version": 3
   },
   "file_extension": ".py",
   "mimetype": "text/x-python",
   "name": "python",
   "nbconvert_exporter": "python",
   "pygments_lexer": "ipython3",
   "version": "3.6.10"
  }
 },
 "nbformat": 4,
 "nbformat_minor": 4
}
