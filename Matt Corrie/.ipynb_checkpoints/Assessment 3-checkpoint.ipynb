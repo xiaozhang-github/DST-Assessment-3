{
 "cells": [
  {
   "cell_type": "markdown",
   "metadata": {},
   "source": [
    "# Assessment 3"
   ]
  },
  {
   "cell_type": "markdown",
   "metadata": {},
   "source": [
    "Compare without reply/forward"
   ]
  },
  {
   "cell_type": "code",
   "execution_count": 1,
   "metadata": {},
   "outputs": [],
   "source": [
    "import glob\n",
    "import os\n",
    "import numpy as np\n",
    "import pandas as pd\n",
    "import math\n",
    "\n",
    "import gensim\n",
    "from gensim.utils import simple_preprocess\n",
    "from gensim.parsing.preprocessing import STOPWORDS\n",
    "from nltk.stem import WordNetLemmatizer, SnowballStemmer\n",
    "from nltk.stem.porter import *\n",
    "np.random.seed(2021)\n",
    "\n",
    "import nltk\n",
    "import re"
   ]
  },
  {
   "cell_type": "markdown",
   "metadata": {},
   "source": [
    "First we need to import the data. References 1 & 2 introduced me to glob which then allows us to import all the text documents in one smooth process. We do this below."
   ]
  },
  {
   "cell_type": "code",
   "execution_count": 2,
   "metadata": {},
   "outputs": [],
   "source": [
    "from pathlib import Path\n",
    "\n",
    "corpus = []\n",
    "\n",
    "for path in Path(r'C:\\Users\\corri\\OneDrive\\Documents\\GitHub\\DST-Assessment-3\\Data\\All enron unzip').rglob('*.txt'):\n",
    "        with open(path, errors='ignore') as f_input:\n",
    "            corpus.append(f_input.read())"
   ]
  },
  {
   "cell_type": "code",
   "execution_count": 3,
   "metadata": {},
   "outputs": [],
   "source": [
    "df = pd.DataFrame(corpus)"
   ]
  },
  {
   "cell_type": "code",
   "execution_count": 4,
   "metadata": {},
   "outputs": [
    {
     "data": {
      "text/html": [
       "<div>\n",
       "<style scoped>\n",
       "    .dataframe tbody tr th:only-of-type {\n",
       "        vertical-align: middle;\n",
       "    }\n",
       "\n",
       "    .dataframe tbody tr th {\n",
       "        vertical-align: top;\n",
       "    }\n",
       "\n",
       "    .dataframe thead th {\n",
       "        text-align: right;\n",
       "    }\n",
       "</style>\n",
       "<table border=\"1\" class=\"dataframe\">\n",
       "  <thead>\n",
       "    <tr style=\"text-align: right;\">\n",
       "      <th></th>\n",
       "      <th>0</th>\n",
       "    </tr>\n",
       "  </thead>\n",
       "  <tbody>\n",
       "    <tr>\n",
       "      <th>0</th>\n",
       "      <td>Legitimate\\n----------\\n- Owner: farmer-d\\n- T...</td>\n",
       "    </tr>\n",
       "    <tr>\n",
       "      <th>1</th>\n",
       "      <td>Subject: christmas tree farm pictures\\n</td>\n",
       "    </tr>\n",
       "    <tr>\n",
       "      <th>2</th>\n",
       "      <td>Subject: vastar resources , inc .\\ngary , prod...</td>\n",
       "    </tr>\n",
       "    <tr>\n",
       "      <th>3</th>\n",
       "      <td>Subject: calpine daily gas nomination\\n- calpi...</td>\n",
       "    </tr>\n",
       "    <tr>\n",
       "      <th>4</th>\n",
       "      <td>Subject: re : issue\\nfyi - see note below - al...</td>\n",
       "    </tr>\n",
       "  </tbody>\n",
       "</table>\n",
       "</div>"
      ],
      "text/plain": [
       "                                                   0\n",
       "0  Legitimate\\n----------\\n- Owner: farmer-d\\n- T...\n",
       "1            Subject: christmas tree farm pictures\\n\n",
       "2  Subject: vastar resources , inc .\\ngary , prod...\n",
       "3  Subject: calpine daily gas nomination\\n- calpi...\n",
       "4  Subject: re : issue\\nfyi - see note below - al..."
      ]
     },
     "execution_count": 4,
     "metadata": {},
     "output_type": "execute_result"
    }
   ],
   "source": [
    "df.head()"
   ]
  },
  {
   "cell_type": "code",
   "execution_count": 5,
   "metadata": {},
   "outputs": [
    {
     "name": "stdout",
     "output_type": "stream",
     "text": [
      "27721\n"
     ]
    }
   ],
   "source": [
    "print(len(df))"
   ]
  },
  {
   "cell_type": "markdown",
   "metadata": {},
   "source": [
    "While importing the files, we've also imported the summary sheets along with them. These need to be removed as they wont contribute to our overall corpus and we do this below along with reindexing the data set (we could just remove them from the data but this is easy)."
   ]
  },
  {
   "cell_type": "code",
   "execution_count": 6,
   "metadata": {},
   "outputs": [],
   "source": [
    "df = df.drop([0,5173,11031,16544,21720]) # removing unnecessary entries\n",
    "nlist = np.arange(0,27717,1) # reindexing\n",
    "df = df.reindex(nlist)\n",
    "df = df.drop(0)\n",
    "df.columns = ['E-mails']"
   ]
  },
  {
   "cell_type": "code",
   "execution_count": 7,
   "metadata": {},
   "outputs": [
    {
     "data": {
      "text/html": [
       "<div>\n",
       "<style scoped>\n",
       "    .dataframe tbody tr th:only-of-type {\n",
       "        vertical-align: middle;\n",
       "    }\n",
       "\n",
       "    .dataframe tbody tr th {\n",
       "        vertical-align: top;\n",
       "    }\n",
       "\n",
       "    .dataframe thead th {\n",
       "        text-align: right;\n",
       "    }\n",
       "</style>\n",
       "<table border=\"1\" class=\"dataframe\">\n",
       "  <thead>\n",
       "    <tr style=\"text-align: right;\">\n",
       "      <th></th>\n",
       "      <th>E-mails</th>\n",
       "    </tr>\n",
       "  </thead>\n",
       "  <tbody>\n",
       "    <tr>\n",
       "      <th>1</th>\n",
       "      <td>Subject: christmas tree farm pictures\\n</td>\n",
       "    </tr>\n",
       "    <tr>\n",
       "      <th>2</th>\n",
       "      <td>Subject: vastar resources , inc .\\ngary , prod...</td>\n",
       "    </tr>\n",
       "    <tr>\n",
       "      <th>3</th>\n",
       "      <td>Subject: calpine daily gas nomination\\n- calpi...</td>\n",
       "    </tr>\n",
       "    <tr>\n",
       "      <th>4</th>\n",
       "      <td>Subject: re : issue\\nfyi - see note below - al...</td>\n",
       "    </tr>\n",
       "    <tr>\n",
       "      <th>5</th>\n",
       "      <td>Subject: meter 7268 nov allocation\\nfyi .\\n- -...</td>\n",
       "    </tr>\n",
       "  </tbody>\n",
       "</table>\n",
       "</div>"
      ],
      "text/plain": [
       "                                             E-mails\n",
       "1            Subject: christmas tree farm pictures\\n\n",
       "2  Subject: vastar resources , inc .\\ngary , prod...\n",
       "3  Subject: calpine daily gas nomination\\n- calpi...\n",
       "4  Subject: re : issue\\nfyi - see note below - al...\n",
       "5  Subject: meter 7268 nov allocation\\nfyi .\\n- -..."
      ]
     },
     "execution_count": 7,
     "metadata": {},
     "output_type": "execute_result"
    }
   ],
   "source": [
    "df.head()"
   ]
  },
  {
   "cell_type": "markdown",
   "metadata": {},
   "source": [
    "We're going to assign a binary variable for spam vs normal data to our data set to allow us to perform performance analysis later on. This is done simply since we know where the splits will be for spam/normal data will be in our data frame and we do this below by first creating a list of the positions where spam emails are found and then assigning the binary values to our data frame."
   ]
  },
  {
   "cell_type": "code",
   "execution_count": 8,
   "metadata": {},
   "outputs": [],
   "source": [
    "z1 = np.arange(3673,5173)\n",
    "z2 = np.arange(9534,11031)\n",
    "z3 = np.arange(15043,16544)\n",
    "z4 = np.arange(18043,21719)\n",
    "z5 = np.arange(23220,27716)\n",
    "ze = np.concatenate((z1,z2,z3,z4,z5))"
   ]
  },
  {
   "cell_type": "code",
   "execution_count": 9,
   "metadata": {},
   "outputs": [],
   "source": [
    "z = np.zeros(27716)\n",
    "df['spam'] = z\n",
    "for i in ze:\n",
    "    df.iloc[i,1] = 1"
   ]
  },
  {
   "cell_type": "code",
   "execution_count": 10,
   "metadata": {},
   "outputs": [
    {
     "data": {
      "text/html": [
       "<div>\n",
       "<style scoped>\n",
       "    .dataframe tbody tr th:only-of-type {\n",
       "        vertical-align: middle;\n",
       "    }\n",
       "\n",
       "    .dataframe tbody tr th {\n",
       "        vertical-align: top;\n",
       "    }\n",
       "\n",
       "    .dataframe thead th {\n",
       "        text-align: right;\n",
       "    }\n",
       "</style>\n",
       "<table border=\"1\" class=\"dataframe\">\n",
       "  <thead>\n",
       "    <tr style=\"text-align: right;\">\n",
       "      <th></th>\n",
       "      <th>E-mails</th>\n",
       "      <th>spam</th>\n",
       "    </tr>\n",
       "  </thead>\n",
       "  <tbody>\n",
       "    <tr>\n",
       "      <th>1</th>\n",
       "      <td>Subject: christmas tree farm pictures\\n</td>\n",
       "      <td>0.0</td>\n",
       "    </tr>\n",
       "    <tr>\n",
       "      <th>2</th>\n",
       "      <td>Subject: vastar resources , inc .\\ngary , prod...</td>\n",
       "      <td>0.0</td>\n",
       "    </tr>\n",
       "    <tr>\n",
       "      <th>3</th>\n",
       "      <td>Subject: calpine daily gas nomination\\n- calpi...</td>\n",
       "      <td>0.0</td>\n",
       "    </tr>\n",
       "    <tr>\n",
       "      <th>4</th>\n",
       "      <td>Subject: re : issue\\nfyi - see note below - al...</td>\n",
       "      <td>0.0</td>\n",
       "    </tr>\n",
       "    <tr>\n",
       "      <th>5</th>\n",
       "      <td>Subject: meter 7268 nov allocation\\nfyi .\\n- -...</td>\n",
       "      <td>0.0</td>\n",
       "    </tr>\n",
       "  </tbody>\n",
       "</table>\n",
       "</div>"
      ],
      "text/plain": [
       "                                             E-mails  spam\n",
       "1            Subject: christmas tree farm pictures\\n   0.0\n",
       "2  Subject: vastar resources , inc .\\ngary , prod...   0.0\n",
       "3  Subject: calpine daily gas nomination\\n- calpi...   0.0\n",
       "4  Subject: re : issue\\nfyi - see note below - al...   0.0\n",
       "5  Subject: meter 7268 nov allocation\\nfyi .\\n- -...   0.0"
      ]
     },
     "execution_count": 10,
     "metadata": {},
     "output_type": "execute_result"
    }
   ],
   "source": [
    "df.head()"
   ]
  },
  {
   "cell_type": "code",
   "execution_count": 11,
   "metadata": {},
   "outputs": [],
   "source": [
    "df_temp = df"
   ]
  },
  {
   "cell_type": "code",
   "execution_count": 12,
   "metadata": {},
   "outputs": [],
   "source": [
    "for i in range(0,9):\n",
    "    if i == 8:\n",
    "        a = df_temp\n",
    "        locals()['df_{}'.format(i)] = a\n",
    "    else:\n",
    "        a = df_temp.sample(n = 2771)\n",
    "        locals()['df_{}'.format(i)] = a\n",
    "        l = list(a.index.values)\n",
    "        df_temp = df_temp.drop(l)"
   ]
  },
  {
   "cell_type": "code",
   "execution_count": 13,
   "metadata": {},
   "outputs": [],
   "source": [
    "df_test = df_temp\n",
    "\n",
    "frames=[df_0, df_1, df_2, df_3, df_4, df_5, df_6, df_7, df_8]\n",
    "df_train = pd.concat(frames)"
   ]
  },
  {
   "cell_type": "markdown",
   "metadata": {},
   "source": [
    "### Pre-Processing for LDA Model"
   ]
  },
  {
   "cell_type": "markdown",
   "metadata": {},
   "source": [
    "In this section we perform pre-processing for our model. This involves techniques such as removing common words, symbols and punctuation. For sake of comparison, we print the first entry to determine the impact the techniques have."
   ]
  },
  {
   "cell_type": "code",
   "execution_count": 14,
   "metadata": {},
   "outputs": [
    {
     "name": "stdout",
     "output_type": "stream",
     "text": [
      "Subject: paypal notification ( your account is suspended )\n",
      "dear paypal member ,\n",
      "paypal is committed to maintaining a safe environment\n",
      "for its community of\n",
      "buyers and sellers . to protect the security of your\n",
      "account , paypal employs\n",
      "some of the most advanced security systems in the\n",
      "world and our anti - fraud\n",
      "teams regularly screen the paypal system for unusual\n",
      "activity .\n",
      "recently , our account review team identified some\n",
      "unusual activity in your\n",
      "account . in accordance with paypal ' s user agreement\n",
      "and to ensure that your\n",
      "account has not been compromised , access to it was\n",
      "flagged . you\n",
      "will remain flagged until this issue has been\n",
      "resolved .\n",
      "this is a fraud prevention measure meant to ensure\n",
      "that your account is not\n",
      "compromised .\n",
      "in order to secure your account and quickly restore\n",
      "full access , we may\n",
      "require some specific information from you for the\n",
      "following reason :\n",
      "our system requires further account verification .\n",
      "case id number : pp - 056 - 245 - 481\n",
      "we encourage you to log in and restore full access as\n",
      "soon as possible .\n",
      "should your account remain flagged for an extended\n",
      "period of time ,\n",
      "it may result in further limitations on the use of\n",
      "your account or\n",
      "may result in eventual account closure .\n",
      "please click on the link below to log in and\n",
      "restore full access to your account .\n",
      "thank you for your prompt attention to this matter .\n",
      "please understand that\n",
      "this is a security measure meant to help protect you\n",
      "and your account . we\n",
      "apologize for any inconvenience .\n",
      "sincerely ,\n",
      "paypal account review department\n",
      "paypal email id pp 562\n",
      "\n"
     ]
    }
   ],
   "source": [
    "email_sample = df_train.iloc[170].values[0] # some of the emails are less tasteful than other emails sorry!\n",
    "print(email_sample)"
   ]
  },
  {
   "cell_type": "code",
   "execution_count": 15,
   "metadata": {},
   "outputs": [
    {
     "data": {
      "text/html": [
       "<div>\n",
       "<style scoped>\n",
       "    .dataframe tbody tr th:only-of-type {\n",
       "        vertical-align: middle;\n",
       "    }\n",
       "\n",
       "    .dataframe tbody tr th {\n",
       "        vertical-align: top;\n",
       "    }\n",
       "\n",
       "    .dataframe thead th {\n",
       "        text-align: right;\n",
       "    }\n",
       "</style>\n",
       "<table border=\"1\" class=\"dataframe\">\n",
       "  <thead>\n",
       "    <tr style=\"text-align: right;\">\n",
       "      <th></th>\n",
       "      <th>E-mails</th>\n",
       "      <th>spam</th>\n",
       "    </tr>\n",
       "  </thead>\n",
       "  <tbody>\n",
       "    <tr>\n",
       "      <th>15773</th>\n",
       "      <td>Subject: january giveaway\\nspecial offfer for ...</td>\n",
       "      <td>1.0</td>\n",
       "    </tr>\n",
       "    <tr>\n",
       "      <th>25178</th>\n",
       "      <td>Subject: unfaithful bitches\\nwives looking for...</td>\n",
       "      <td>1.0</td>\n",
       "    </tr>\n",
       "    <tr>\n",
       "      <th>3695</th>\n",
       "      <td>Subject: re : 1 / 2 price sildenafil citrate t...</td>\n",
       "      <td>1.0</td>\n",
       "    </tr>\n",
       "    <tr>\n",
       "      <th>4894</th>\n",
       "      <td>Subject: can we go over guillermo ' s budget t...</td>\n",
       "      <td>1.0</td>\n",
       "    </tr>\n",
       "    <tr>\n",
       "      <th>13018</th>\n",
       "      <td>Subject: competitive analysis update # 24 - us...</td>\n",
       "      <td>0.0</td>\n",
       "    </tr>\n",
       "  </tbody>\n",
       "</table>\n",
       "</div>"
      ],
      "text/plain": [
       "                                                 E-mails  spam\n",
       "15773  Subject: january giveaway\\nspecial offfer for ...   1.0\n",
       "25178  Subject: unfaithful bitches\\nwives looking for...   1.0\n",
       "3695   Subject: re : 1 / 2 price sildenafil citrate t...   1.0\n",
       "4894   Subject: can we go over guillermo ' s budget t...   1.0\n",
       "13018  Subject: competitive analysis update # 24 - us...   0.0"
      ]
     },
     "execution_count": 15,
     "metadata": {},
     "output_type": "execute_result"
    }
   ],
   "source": [
    "df_train.head()"
   ]
  },
  {
   "cell_type": "markdown",
   "metadata": {},
   "source": [
    "We use stop words from nltk to remove the majority of the stop words in the data. Some of the words we need to remove are case specific and therefore aren't removed by the stop word processing, such as 'Subject:' which appears in every email and therefore provides no insight for topic modelling."
   ]
  },
  {
   "cell_type": "code",
   "execution_count": 16,
   "metadata": {},
   "outputs": [],
   "source": [
    "en_stop = nltk.corpus.stopwords.words('english')\n",
    "en_stop.append('Subject')"
   ]
  },
  {
   "cell_type": "code",
   "execution_count": 17,
   "metadata": {},
   "outputs": [],
   "source": [
    "import nltk\n",
    "from nltk.corpus import wordnet as wn\n",
    "\n",
    "# Function to lemmatize a word\n",
    "def get_lemma(word):\n",
    "   \n",
    "    lemma = wn.morphy(word) \n",
    "    if lemma is None:\n",
    "        return word\n",
    "    else:\n",
    "        return lemma\n",
    "\n",
    "def prepare_text_for_lda(text):\n",
    "    \n",
    "    tokens = nltk.word_tokenize(text) # splits text block into sole words\n",
    "    tokens = [token for token in tokens if len(token) > 4] # removes words length less than 4, likely to be unimportant\n",
    "    tokens = [token for token in tokens if token not in en_stop] # removes stop words\n",
    "    tokens = [get_lemma(token) for token in tokens] # lemmatize (standardise) words\n",
    "    return tokens"
   ]
  },
  {
   "cell_type": "code",
   "execution_count": 18,
   "metadata": {},
   "outputs": [
    {
     "name": "stdout",
     "output_type": "stream",
     "text": [
      "original document: \n",
      "['Subject:', 'paypal', 'notification', '(', 'your', 'account', 'is', 'suspended', ')\\ndear', 'paypal', 'member', ',\\npaypal', 'is', 'committed', 'to', 'maintaining', 'a', 'safe', 'environment\\nfor', 'its', 'community', 'of\\nbuyers', 'and', 'sellers', '.', 'to', 'protect', 'the', 'security', 'of', 'your\\naccount', ',', 'paypal', 'employs\\nsome', 'of', 'the', 'most', 'advanced', 'security', 'systems', 'in', 'the\\nworld', 'and', 'our', 'anti', '-', 'fraud\\nteams', 'regularly', 'screen', 'the', 'paypal', 'system', 'for', 'unusual\\nactivity', '.\\nrecently', ',', 'our', 'account', 'review', 'team', 'identified', 'some\\nunusual', 'activity', 'in', 'your\\naccount', '.', 'in', 'accordance', 'with', 'paypal', \"'\", 's', 'user', 'agreement\\nand', 'to', 'ensure', 'that', 'your\\naccount', 'has', 'not', 'been', 'compromised', ',', 'access', 'to', 'it', 'was\\nflagged', '.', 'you\\nwill', 'remain', 'flagged', 'until', 'this', 'issue', 'has', 'been\\nresolved', '.\\nthis', 'is', 'a', 'fraud', 'prevention', 'measure', 'meant', 'to', 'ensure\\nthat', 'your', 'account', 'is', 'not\\ncompromised', '.\\nin', 'order', 'to', 'secure', 'your', 'account', 'and', 'quickly', 'restore\\nfull', 'access', ',', 'we', 'may\\nrequire', 'some', 'specific', 'information', 'from', 'you', 'for', 'the\\nfollowing', 'reason', ':\\nour', 'system', 'requires', 'further', 'account', 'verification', '.\\ncase', 'id', 'number', ':', 'pp', '-', '056', '-', '245', '-', '481\\nwe', 'encourage', 'you', 'to', 'log', 'in', 'and', 'restore', 'full', 'access', 'as\\nsoon', 'as', 'possible', '.\\nshould', 'your', 'account', 'remain', 'flagged', 'for', 'an', 'extended\\nperiod', 'of', 'time', ',\\nit', 'may', 'result', 'in', 'further', 'limitations', 'on', 'the', 'use', 'of\\nyour', 'account', 'or\\nmay', 'result', 'in', 'eventual', 'account', 'closure', '.\\nplease', 'click', 'on', 'the', 'link', 'below', 'to', 'log', 'in', 'and\\nrestore', 'full', 'access', 'to', 'your', 'account', '.\\nthank', 'you', 'for', 'your', 'prompt', 'attention', 'to', 'this', 'matter', '.\\nplease', 'understand', 'that\\nthis', 'is', 'a', 'security', 'measure', 'meant', 'to', 'help', 'protect', 'you\\nand', 'your', 'account', '.', 'we\\napologize', 'for', 'any', 'inconvenience', '.\\nsincerely', ',\\npaypal', 'account', 'review', 'department\\npaypal', 'email', 'id', 'pp', '562\\n']\n",
      "\n",
      "\n",
      " method removing stop words: \n",
      "['paypal', 'notification', 'account', 'suspend', 'paypal', 'member', 'paypal', 'commit', 'maintain', 'environment', 'community', 'buyer', 'sellers', 'protect', 'security', 'account', 'paypal', 'employ', 'advance', 'security', 'system', 'world', 'fraud', 'team', 'regularly', 'screen', 'paypal', 'system', 'unusual', 'activity', 'recently', 'account', 'review', 'identify', 'unusual', 'activity', 'account', 'accordance', 'paypal', 'agreement', 'ensure', 'account', 'compromise', 'access', 'flag', 'remain', 'flag', 'issue', 'resolve', 'fraud', 'prevention', 'measure', 'mean', 'ensure', 'account', 'compromise', 'order', 'secure', 'account', 'quickly', 'restore', 'access', 'require', 'specific', 'information', 'following', 'reason', 'system', 'require', 'account', 'verification', 'number', 'encourage', 'restore', 'access', 'possible', 'account', 'remain', 'flag', 'extend', 'period', 'result', 'limitation', 'account', 'result', 'eventual', 'account', 'closure', 'please', 'click', 'restore', 'access', 'account', 'thank', 'prompt', 'attention', 'matter', 'please', 'understand', 'security', 'measure', 'mean', 'protect', 'account', 'apologize', 'inconvenience', 'sincerely', 'paypal', 'account', 'review', 'department', 'paypal', 'email']\n"
     ]
    }
   ],
   "source": [
    "print('original document: ')\n",
    "words = []\n",
    "for word in email_sample.split(' '):\n",
    "    words.append(word)\n",
    "print(words)\n",
    "\n",
    "print('\\n\\n method removing stop words: ')\n",
    "print(prepare_text_for_lda(email_sample))"
   ]
  },
  {
   "cell_type": "code",
   "execution_count": 19,
   "metadata": {},
   "outputs": [],
   "source": [
    "#processed_text = df_train['E-mails'].map(prepare_text_for_lda)\n",
    "#processed_text.head()"
   ]
  },
  {
   "cell_type": "markdown",
   "metadata": {},
   "source": [
    "When running the above code, we identify entries in the code that are classified as NaN. The pre-processor cannot handle these exceptions so we remove them as they are immaterial to the final result anyway."
   ]
  },
  {
   "cell_type": "code",
   "execution_count": 20,
   "metadata": {},
   "outputs": [],
   "source": [
    "place = []\n",
    "\n",
    "for j in range(1,len(df_train)):\n",
    "    try:\n",
    "        a = df_train.iloc[j,0]\n",
    "        prepare_text_for_lda(a)\n",
    "    except Exception:\n",
    "        place.append(j)\n",
    "\n",
    "for j in place:\n",
    "    df_train.iloc[j,0] = \"\""
   ]
  },
  {
   "cell_type": "code",
   "execution_count": 21,
   "metadata": {},
   "outputs": [
    {
     "data": {
      "text/plain": [
       "15773    [january, giveaway, special, offfer, wlndows, ...\n",
       "25178    [unfaithful, bitch, wife, looking, search, com...\n",
       "3695                   [price, sildenafil, citrate, today]\n",
       "4894     [guillermo, budget, today, glory, become, eigh...\n",
       "13018    [competitive, analysis, update, response, terr...\n",
       "Name: E-mails, dtype: object"
      ]
     },
     "execution_count": 21,
     "metadata": {},
     "output_type": "execute_result"
    }
   ],
   "source": [
    "processed_text = df_train['E-mails'].map(prepare_text_for_lda) \n",
    "processed_text.head()"
   ]
  },
  {
   "cell_type": "markdown",
   "metadata": {},
   "source": [
    "### Creating a Dictionary and a Corpus"
   ]
  },
  {
   "cell_type": "code",
   "execution_count": 22,
   "metadata": {},
   "outputs": [
    {
     "name": "stdout",
     "output_type": "stream",
     "text": [
      "0 20251\n",
      "1 ashman\n",
      "2 attention\n",
      "3 attorney\n",
      "4 cherie\n",
      "5 complementary\n",
      "6 confirmation\n",
      "7 contents\n",
      "8 downcast\n",
      "9 dragnet\n",
      "10 email\n"
     ]
    }
   ],
   "source": [
    "dictionary = gensim.corpora.Dictionary(processed_text)\n",
    "\n",
    "count = 0\n",
    "for k,v  in dictionary.iteritems():\n",
    "    print(k, v)\n",
    "    count += 1\n",
    "    if count > 10:\n",
    "        break"
   ]
  },
  {
   "cell_type": "code",
   "execution_count": 23,
   "metadata": {},
   "outputs": [],
   "source": [
    "bow_corpus = [dictionary.doc2bow(doc) for doc in processed_text]"
   ]
  },
  {
   "cell_type": "markdown",
   "metadata": {},
   "source": [
    "### LDA Model"
   ]
  },
  {
   "cell_type": "code",
   "execution_count": 24,
   "metadata": {},
   "outputs": [],
   "source": [
    "lda_model = gensim.models.LdaMulticore(bow_corpus, num_topics = 2, id2word=dictionary, passes=2, workers = 2)"
   ]
  },
  {
   "cell_type": "code",
   "execution_count": 25,
   "metadata": {},
   "outputs": [],
   "source": [
    "import pyLDAvis.gensim\n",
    "pyLDAvis.enable_notebook()"
   ]
  },
  {
   "cell_type": "code",
   "execution_count": 26,
   "metadata": {},
   "outputs": [
    {
     "name": "stderr",
     "output_type": "stream",
     "text": [
      "C:\\Users\\corri\\anaconda3\\lib\\site-packages\\ipykernel\\ipkernel.py:287: DeprecationWarning: `should_run_async` will not call `transform_cell` automatically in the future. Please pass the result to `transformed_cell` argument and any exception that happen during thetransform in `preprocessing_exc_tuple` in IPython 7.17 and above.\n",
      "  and should_run_async(code)\n"
     ]
    }
   ],
   "source": [
    "lda_display = pyLDAvis.gensim.prepare(lda_model, bow_corpus, \n",
    "                                          dictionary, mds='mmds')"
   ]
  },
  {
   "cell_type": "code",
   "execution_count": 27,
   "metadata": {},
   "outputs": [
    {
     "name": "stderr",
     "output_type": "stream",
     "text": [
      "C:\\Users\\corri\\anaconda3\\lib\\site-packages\\ipykernel\\ipkernel.py:287: DeprecationWarning: `should_run_async` will not call `transform_cell` automatically in the future. Please pass the result to `transformed_cell` argument and any exception that happen during thetransform in `preprocessing_exc_tuple` in IPython 7.17 and above.\n",
      "  and should_run_async(code)\n"
     ]
    },
    {
     "data": {
      "text/html": [
       "\n",
       "\n",
       "<link rel=\"stylesheet\" type=\"text/css\" href=\"https://cdn.rawgit.com/bmabey/pyLDAvis/files/ldavis.v1.0.0.css\">\n",
       "\n",
       "<div id=\"ldavis_el106562871223781296703687787\"></div>\n",
       "<script type=\"text/javascript\">\n",
       "\n",
       "var ldavis_el106562871223781296703687787_data = {\"mdsDat\": {\"x\": [-0.005260848729174097, 0.005260848729174097], \"y\": [-0.09284333832822513, 0.09284333832822513], \"topics\": [1, 2], \"cluster\": [1, 1], \"Freq\": [53.17377086315476, 46.82622913684524]}, \"tinfo\": {\"Term\": [\"company\", \"please\", \"vince\", \"statement\", \"subject\", \"stock\", \"market\", \"investor\", \"billion\", \"dynegy\", \"investment\", \"thanks\", \"message\", \"share\", \"kaminski\", \"energy\", \"attach\", \"security\", \"original\", \"email\", \"adobe\", \"louise\", \"rating\", \"contact\", \"copyright\", \"percent\", \"address\", \"stocks\", \"meter\", \"receive\", \"qmail\", \"sitara\", \"gpgfin\", \"errrectlon\", \"approver\", \"cotten\", \"viaqra\", \"mailwisconsin\", \"lannou\", \"ibuyit\", \"utexas\", \"papayoti\", \"reveffo\", \"squirrelmail\", \"luong\", \"iferc\", \"photoshop\", \"katherine\", \"cialls\", \"duffie\", \"unclaimed\", \"barrister\", \"enerfin\", \"pagemaker\", \"heartwarmers\", \"aimee\", \"macromedia\", \"bengalla\", \"gibner\", \"framemaker\", \"vince\", \"kaminski\", \"adobe\", \"meter\", \"daren\", \"shirley\", \"crenshaw\", \"enronxgate\", \"lottery\", \"stinson\", \"farmer\", \"corel\", \"ticket\", \"vasant\", \"invoice\", \"anita\", \"premiere\", \"anjam\", \"michelle\", \"attach\", \"louise\", \"thanks\", \"thank\", \"unify\", \"sincerely\", \"subject\", \"original\", \"please\", \"message\", \"kitchen\", \"presentation\", \"address\", \"contact\", \"reply\", \"request\", \"kevin\", \"feedback\", \"email\", \"receive\", \"meeting\", \"program\", \"click\", \"account\", \"regard\", \"software\", \"visit\", \"check\", \"enron\", \"would\", \"question\", \"forward\", \"order\", \"office\", \"process\", \"group\", \"money\", \"information\", \"change\", \"business\", \"price\", \"offer\", \"system\", \"labguard\", \"medica\", \"aerofoam\", \"certificao\", \"eyewear\", \"vinoble\", \"xanaax\", \"iaagra\", \"pubiisher\", \"pubiication\", \"0424040\", \"ambieen\", \"homeland\", \"deveiopment\", \"initia\", \"microcap\", \"potentia\", \"000000\", \"techlite\", \"cialiis\", \"width\", \"shouid\", \"1226030\", \"wysak\", \"reieases\", \"sharehoider\", \"otcbb\", \"newsietter\", \"biotec\", \"emerson\", \"investor\", \"billion\", \"statement\", \"stocks\", \"shareholder\", \"ooking\", \"uncertainty\", \"technoiogy\", \"reuters\", \"dynegy\", \"downgrade\", \"couid\", \"resuits\", \"materially\", \"piease\", \"inherent\", \"beiieves\", \"rating\", \"pians\", \"stock\", \"partnership\", \"copyright\", \"percent\", \"losses\", \"investing\", \"growth\", \"company\", \"merger\", \"projection\", \"bond\", \"earnings\", \"expectation\", \"bloomberg\", \"investment\", \"bankruptcy\", \"acquisition\", \"share\", \"chief\", \"market\", \"cent\", \"natural\", \"advice\", \"assets\", \"security\", \"energy\", \"jones\", \"california\", \"financial\", \"industry\", \"exchange\", \"utility\", \"power\", \"trading\", \"expect\", \"enron\", \"price\", \"report\", \"within\", \"business\", \"million\", \"state\", \"information\", \"product\", \"could\", \"credit\", \"include\", \"future\", \"would\", \"provide\", \"base\", \"interest\"], \"Freq\": [25150.0, 18285.0, 8010.0, 6829.0, 12736.0, 6692.0, 10822.0, 4396.0, 4572.0, 4709.0, 6053.0, 7419.0, 8772.0, 6357.0, 4478.0, 10304.0, 4243.0, 7521.0, 4502.0, 9142.0, 2894.0, 3675.0, 2564.0, 5591.0, 2542.0, 2543.0, 4917.0, 2215.0, 2507.0, 6734.0, 210.63817770147378, 877.4060244814605, 155.88881153044562, 97.85285482523219, 120.52644933081744, 287.1288944881936, 104.27880028437362, 221.61103850236685, 200.63642930137544, 115.6096494097829, 142.73202071429228, 123.82787127047817, 71.75953735302839, 337.39148255301495, 119.8553782640305, 164.9921592177623, 599.2057695054399, 248.43331288289286, 139.650768431776, 98.13129389474315, 279.7947311265893, 88.31698377418826, 70.98723138177603, 107.49036658756303, 97.47354218609685, 323.5248299851392, 616.0962276751035, 74.12872652079068, 591.6597638650278, 120.54304849751526, 7879.909808147233, 4416.669274264646, 2864.3244548577077, 2477.431032993252, 1664.8224628865325, 1631.2735123971604, 1057.4638230956482, 1236.253458715718, 1158.1488315229785, 971.128054931897, 1135.429430877544, 559.1097430002135, 1469.5235829130984, 414.19641611750666, 681.2747624502022, 362.5767655696751, 485.7168776627077, 337.072262677444, 737.9519000291781, 4076.7332828789945, 3520.185303839827, 6949.574477766076, 3018.226502898157, 424.651867662015, 1008.6146435130498, 11609.752037676199, 4224.25751526113, 16311.969494356415, 7953.261536902835, 1924.4176869591527, 1567.360872545178, 4441.935051565896, 5004.844658462499, 1756.7814461445569, 3741.0349375651463, 1404.120686996699, 1060.5056176135226, 7675.836072769974, 5737.349407967951, 4509.718176819201, 3814.6954797528974, 3438.0032186488156, 4044.1950915609764, 4746.362479116236, 3477.8664788084393, 2385.560815808178, 2070.59228367901, 31545.83287329, 9057.71783439787, 3826.863725151925, 6298.338892637241, 4272.663664974622, 3346.1970411155703, 3062.1744255168833, 4356.285219228393, 3967.433251345527, 5590.254241253065, 3947.32978153331, 5232.059833579532, 4809.041999894684, 3653.4742331722605, 3662.9168798343153, 138.7604932466914, 154.15185694422698, 265.9490238922512, 87.71077928209182, 101.74953408893164, 314.0411034457495, 171.4285567827254, 120.78950815758297, 308.65819961419265, 208.41218981607105, 63.916979900641984, 93.16540072788487, 244.24438553820372, 165.9852437116003, 80.84161234114454, 182.43071437179978, 317.8633145019195, 104.69394112845158, 141.9975766878991, 110.15394751456272, 335.50986183226405, 343.00558126542046, 56.80571583379452, 552.5932154357225, 98.67498772812462, 135.71514305320895, 183.82433692611815, 391.87773306419604, 55.22185312883908, 277.8513476864965, 4327.761628803005, 4454.32519306605, 6617.456423775276, 2170.163062010982, 1428.6300709077827, 726.3667277017596, 1174.774663471476, 428.6736372872529, 1207.1829183233638, 4552.606032535293, 924.9048168081882, 377.4764836567444, 401.38992662126134, 480.6755163988949, 373.15482428147305, 535.9815165633044, 252.7592294035577, 2482.590328215805, 249.4108539321762, 6380.849900513024, 2074.7116855824693, 2446.720437911446, 2445.3711872653485, 710.6160709954013, 1193.4517513074925, 1653.4586527063357, 22478.016354826894, 1111.1557644944412, 986.3780422568827, 919.0533644241552, 1506.258273963518, 1331.3486763615747, 758.2324155487989, 5523.403229731048, 1446.4212871074726, 1286.4845650139457, 5609.31914966032, 2032.9492998580524, 9208.486996098818, 1228.7273008535453, 2538.600756900224, 1837.267383096332, 2152.1989011098763, 5904.948065170501, 7749.096892871706, 3018.010988558781, 2384.518463594106, 4368.719445699097, 2534.7843811611983, 2261.0265476148975, 1848.6234585447116, 5915.594190087345, 4695.385042389749, 3089.583463967217, 25291.969514218807, 7275.062985626716, 5923.019533245944, 3867.8668908155873, 7199.115823867077, 4489.676092613353, 4051.377197603956, 5685.439256121375, 3791.9529394515093, 3767.2027355063665, 3426.0038310900627, 3766.8258288473035, 3113.2458708049057, 4836.5408158347245, 3575.8278310822525, 3138.214762071766, 3150.217813622361], \"Total\": [25150.0, 18285.0, 8010.0, 6829.0, 12736.0, 6692.0, 10822.0, 4396.0, 4572.0, 4709.0, 6053.0, 7419.0, 8772.0, 6357.0, 4478.0, 10304.0, 4243.0, 7521.0, 4502.0, 9142.0, 2894.0, 3675.0, 2564.0, 5591.0, 2542.0, 2543.0, 4917.0, 2215.0, 2507.0, 6734.0, 211.62967287689244, 882.1396663648293, 156.74999543364208, 98.42655707310864, 121.2805668521772, 289.07205020197176, 104.99728869997573, 223.13993182834412, 202.0404802821598, 116.4358188859205, 143.76330708009257, 124.7292683628593, 72.2852230671686, 339.88457040137644, 120.74357842810088, 166.23384086209646, 604.1772433972069, 250.51509914274087, 140.8241674265737, 98.9566638143304, 282.21451647487095, 89.08587071822042, 71.60563073778484, 108.4287767306617, 98.3250784026828, 326.37156705771497, 621.5765677182407, 74.79212233101045, 597.015501284605, 121.65315960439344, 8010.898794690078, 4478.687837514753, 2894.969288617434, 2507.9288945977964, 1684.8527421658791, 1652.7115888623625, 1067.2089557085228, 1251.8451397453857, 1176.1511838894398, 985.8047587228192, 1155.4335564808457, 565.2798265863424, 1502.0633894092566, 418.17997742546976, 691.4915056884338, 366.098050862745, 492.09325831242217, 340.6318391796507, 752.2997516341256, 4243.783765693516, 3675.8034114970624, 7419.26753566666, 3181.350649492358, 430.65216836339016, 1041.172719643087, 12736.356040628734, 4502.575512084791, 18285.37161505554, 8772.839819166406, 2037.3583900423232, 1656.7257292585728, 4917.72362692733, 5591.564218435593, 1872.1002269893954, 4203.4460287908, 1486.2298751255166, 1105.0715403387383, 9142.329597632672, 6734.985774320239, 5202.596136917249, 4431.282111869377, 3972.309411743562, 4759.893919605405, 5739.585465873435, 4071.3043686487713, 2682.739575886704, 2292.2880442717137, 56837.80238750881, 13894.258650232594, 4887.211735736459, 9304.387872681451, 5802.324928723706, 4229.2947478223, 3897.014294416324, 6754.705053115624, 5868.013590482423, 11275.69349737444, 5891.676722436207, 12431.175657446609, 12084.1049855214, 5253.18107739799, 5987.184009891901, 139.35666220671, 154.91181073605387, 267.43078945649665, 88.20751384483732, 102.35646613680919, 315.9312823064535, 172.57452475895826, 121.6436038335737, 310.8410164401926, 209.9918680888684, 64.40747666011596, 93.88223294138463, 246.212581455212, 167.32745750412704, 81.49767289850355, 183.94062722528784, 320.5147588172952, 105.56823446660398, 143.205059923055, 111.09139193352787, 338.3947239382687, 345.95815456741934, 57.29626952956376, 557.3922236729502, 99.53234227957236, 136.90626893806063, 185.45017659345223, 395.3534247130682, 55.71171368710074, 280.3279547537542, 4396.169101748651, 4572.725003410404, 6829.711869517292, 2215.18869358811, 1452.1308803829652, 734.2812594414272, 1195.2608313523392, 432.71503198376485, 1232.1618235558124, 4709.652127294634, 941.7683763784348, 381.32122881476505, 405.9233047616557, 487.3238530295785, 377.9767609515517, 544.982071437091, 255.07966598904812, 2564.2321121985024, 251.75012127444523, 6692.703148176647, 2146.393041193891, 2542.8926854779997, 2543.0520355882486, 725.7440489904033, 1232.0969683949493, 1724.0036102426739, 25150.98588282417, 1152.432502623757, 1019.4319834705159, 948.2656380797889, 1579.4028967062288, 1392.8494728575592, 779.5688418338722, 6053.608453518742, 1527.498577124498, 1355.3753038529967, 6357.837191993312, 2192.9896041162015, 10822.631858399098, 1295.2131784375265, 2858.283852619393, 2011.8054640327168, 2415.0392678309154, 7521.522876481815, 10304.088838624884, 3556.4776387361644, 2743.9405647595595, 5552.435396662761, 2952.863156698804, 2600.970966440842, 2049.7467670879023, 8338.75731056977, 6321.246314767826, 3918.6146470094113, 56837.80238750881, 12084.1049855214, 9290.06824077259, 5323.771819159712, 12431.175657446609, 6631.1376791000175, 5963.687298945396, 11275.69349737444, 5995.051801383119, 6584.278557357375, 5425.2301488839075, 6956.514585980942, 4504.344628266124, 13894.258650232594, 7025.952688494599, 4627.075384686244, 6325.199864713675], \"Category\": [\"Default\", \"Default\", \"Default\", \"Default\", \"Default\", \"Default\", \"Default\", \"Default\", \"Default\", \"Default\", \"Default\", \"Default\", \"Default\", \"Default\", \"Default\", \"Default\", \"Default\", \"Default\", \"Default\", \"Default\", \"Default\", \"Default\", \"Default\", \"Default\", \"Default\", \"Default\", \"Default\", \"Default\", \"Default\", \"Default\", \"Topic1\", \"Topic1\", \"Topic1\", \"Topic1\", \"Topic1\", \"Topic1\", \"Topic1\", \"Topic1\", \"Topic1\", \"Topic1\", \"Topic1\", \"Topic1\", \"Topic1\", \"Topic1\", \"Topic1\", \"Topic1\", \"Topic1\", \"Topic1\", \"Topic1\", \"Topic1\", \"Topic1\", \"Topic1\", \"Topic1\", \"Topic1\", \"Topic1\", \"Topic1\", \"Topic1\", \"Topic1\", \"Topic1\", \"Topic1\", \"Topic1\", \"Topic1\", \"Topic1\", \"Topic1\", \"Topic1\", \"Topic1\", \"Topic1\", \"Topic1\", \"Topic1\", \"Topic1\", \"Topic1\", \"Topic1\", \"Topic1\", \"Topic1\", \"Topic1\", \"Topic1\", \"Topic1\", \"Topic1\", \"Topic1\", \"Topic1\", \"Topic1\", \"Topic1\", \"Topic1\", \"Topic1\", \"Topic1\", \"Topic1\", \"Topic1\", \"Topic1\", \"Topic1\", \"Topic1\", \"Topic1\", \"Topic1\", \"Topic1\", \"Topic1\", \"Topic1\", \"Topic1\", \"Topic1\", \"Topic1\", \"Topic1\", \"Topic1\", \"Topic1\", \"Topic1\", \"Topic1\", \"Topic1\", \"Topic1\", \"Topic1\", \"Topic1\", \"Topic1\", \"Topic1\", \"Topic1\", \"Topic1\", \"Topic1\", \"Topic1\", \"Topic1\", \"Topic1\", \"Topic1\", \"Topic1\", \"Topic1\", \"Topic1\", \"Topic1\", \"Topic1\", \"Topic1\", \"Topic2\", \"Topic2\", \"Topic2\", \"Topic2\", \"Topic2\", \"Topic2\", \"Topic2\", \"Topic2\", \"Topic2\", \"Topic2\", \"Topic2\", \"Topic2\", \"Topic2\", \"Topic2\", \"Topic2\", \"Topic2\", \"Topic2\", \"Topic2\", \"Topic2\", \"Topic2\", \"Topic2\", \"Topic2\", \"Topic2\", \"Topic2\", \"Topic2\", \"Topic2\", \"Topic2\", \"Topic2\", \"Topic2\", \"Topic2\", \"Topic2\", \"Topic2\", \"Topic2\", \"Topic2\", \"Topic2\", \"Topic2\", \"Topic2\", \"Topic2\", \"Topic2\", \"Topic2\", \"Topic2\", \"Topic2\", \"Topic2\", \"Topic2\", \"Topic2\", \"Topic2\", \"Topic2\", \"Topic2\", \"Topic2\", \"Topic2\", \"Topic2\", \"Topic2\", \"Topic2\", \"Topic2\", \"Topic2\", \"Topic2\", \"Topic2\", \"Topic2\", \"Topic2\", \"Topic2\", \"Topic2\", \"Topic2\", \"Topic2\", \"Topic2\", \"Topic2\", \"Topic2\", \"Topic2\", \"Topic2\", \"Topic2\", \"Topic2\", \"Topic2\", \"Topic2\", \"Topic2\", \"Topic2\", \"Topic2\", \"Topic2\", \"Topic2\", \"Topic2\", \"Topic2\", \"Topic2\", \"Topic2\", \"Topic2\", \"Topic2\", \"Topic2\", \"Topic2\", \"Topic2\", \"Topic2\", \"Topic2\", \"Topic2\", \"Topic2\", \"Topic2\", \"Topic2\", \"Topic2\", \"Topic2\", \"Topic2\", \"Topic2\", \"Topic2\", \"Topic2\", \"Topic2\", \"Topic2\", \"Topic2\"], \"logprob\": [30.0, 29.0, 28.0, 27.0, 26.0, 25.0, 24.0, 23.0, 22.0, 21.0, 20.0, 19.0, 18.0, 17.0, 16.0, 15.0, 14.0, 13.0, 12.0, 11.0, 10.0, 9.0, 8.0, 7.0, 6.0, 5.0, 4.0, 3.0, 2.0, 1.0, -8.889399528503418, -7.462500095367432, -9.190400123596191, -9.656000137329102, -9.447600364685059, -8.57960033416748, -9.592399597167969, -8.838600158691406, -8.937999725341797, -9.489299774169922, -9.278499603271484, -9.420599937438965, -9.96619987487793, -8.418299674987793, -9.453200340270996, -9.133600234985352, -7.843900203704834, -8.724300384521484, -9.300399780273438, -9.653200149536133, -8.605400085449219, -9.758600234985352, -9.97700023651123, -9.562100410461426, -9.659899711608887, -8.460200309753418, -7.816100120544434, -9.933699607849121, -7.856599807739258, -9.447500228881836, -5.267399787902832, -5.846399784088135, -6.279399871826172, -6.424499988555908, -6.822000026702881, -6.842400074005127, -7.275899887084961, -7.119699954986572, -7.184899806976318, -7.361000061035156, -7.204699993133545, -7.9131999015808105, -6.946800231933594, -8.213199615478516, -7.7154998779296875, -8.34630012512207, -8.053899765014648, -8.41919994354248, -7.6356000900268555, -5.926400184631348, -6.073200225830078, -5.393099784851074, -6.227099895477295, -8.188199996948242, -7.323200225830078, -4.879899978637695, -5.890900135040283, -4.53980016708374, -5.258200168609619, -6.67710018157959, -6.882400035858154, -5.840700149536133, -5.72130012512207, -6.7683000564575195, -6.012400150299072, -6.992300033569336, -7.2729997634887695, -5.293700218200684, -5.584700107574463, -5.825500011444092, -5.9928998947143555, -6.09689998626709, -5.934500217437744, -5.774400234222412, -6.085299968719482, -6.462299823760986, -6.603899955749512, -3.8803000450134277, -5.1280999183654785, -5.989699840545654, -5.491499900817871, -5.879499912261963, -6.123899936676025, -6.212600231170654, -5.860099792480469, -5.95359992980957, -5.6107001304626465, -5.958700180053711, -5.6768999099731445, -5.761199951171875, -6.036099910736084, -6.0335001945495605, -9.17959976196289, -9.074399948120117, -8.52910041809082, -9.638299942016602, -9.489899635314941, -8.362899780273438, -8.968199729919434, -9.318300247192383, -8.38010025024414, -8.772899627685547, -9.95479965209961, -9.57800006866455, -8.6141996383667, -9.000499725341797, -9.719900131225586, -8.906000137329102, -8.350799560546875, -9.461299896240234, -9.156599998474121, -9.410499572753906, -8.296699523925781, -8.2746000289917, -10.072699546813965, -7.797800064086914, -9.520500183105469, -9.201800346374512, -8.89840030670166, -8.141400337219238, -10.10099983215332, -8.485300064086914, -5.73960018157959, -5.710700035095215, -5.314899921417236, -6.429800033569336, -6.847899913787842, -7.5243000984191895, -7.043499946594238, -8.0516996383667, -7.016300201416016, -5.688899993896484, -7.282700061798096, -8.178899765014648, -8.117400169372559, -7.93720006942749, -8.190400123596191, -7.8282999992370605, -8.579899787902832, -6.295300006866455, -8.593299865722656, -5.35129976272583, -6.474800109863281, -6.309899806976318, -6.310400009155273, -7.546199798583984, -7.0278000831604, -6.7017998695373535, -4.092100143432617, -7.0991997718811035, -7.218299865722656, -7.289000034332275, -6.795000076293945, -6.918399810791016, -7.481400012969971, -5.49560022354126, -6.8354997634887695, -6.952700138092041, -5.480199813842773, -6.495100021362305, -4.984499931335449, -6.998600006103516, -6.2729997634887695, -6.59630012512207, -6.4380998611450195, -5.428800106048584, -5.1570000648498535, -6.099999904632568, -6.335599899291992, -5.730199813842773, -6.274499893188477, -6.388800144195557, -6.590199947357178, -5.427000045776367, -5.6579999923706055, -6.076600074768066, -3.974100112915039, -5.220200061798096, -5.42579984664917, -5.851900100708008, -5.2307000160217285, -5.7027997970581055, -5.805600166320801, -5.466700077056885, -5.871699810028076, -5.878300189971924, -5.973199844360352, -5.878399848937988, -6.068999767303467, -5.628399848937988, -5.9303998947143555, -6.060999870300293, -6.057199954986572], \"loglift\": [30.0, 29.0, 28.0, 27.0, 26.0, 25.0, 24.0, 23.0, 22.0, 21.0, 20.0, 19.0, 18.0, 17.0, 16.0, 15.0, 14.0, 13.0, 12.0, 11.0, 10.0, 9.0, 8.0, 7.0, 6.0, 5.0, 4.0, 3.0, 2.0, 1.0, 0.6269, 0.6262, 0.6261, 0.6258, 0.6254, 0.6249, 0.6247, 0.6247, 0.6246, 0.6245, 0.6244, 0.6244, 0.6243, 0.6242, 0.6242, 0.6241, 0.6233, 0.6233, 0.6232, 0.6232, 0.623, 0.6229, 0.6229, 0.6229, 0.6229, 0.6228, 0.6227, 0.6227, 0.6226, 0.6224, 0.6151, 0.6177, 0.621, 0.6194, 0.6196, 0.6185, 0.6224, 0.6191, 0.6162, 0.6166, 0.6141, 0.6206, 0.6097, 0.622, 0.6167, 0.6219, 0.6186, 0.6211, 0.6123, 0.5914, 0.5883, 0.5662, 0.579, 0.6176, 0.5998, 0.539, 0.5678, 0.5174, 0.5335, 0.5746, 0.5762, 0.5298, 0.5208, 0.568, 0.5151, 0.5748, 0.5904, 0.4568, 0.4713, 0.4887, 0.4818, 0.4871, 0.4687, 0.4416, 0.4741, 0.5142, 0.5299, 0.0428, 0.2037, 0.387, 0.2414, 0.3256, 0.3974, 0.3905, 0.193, 0.2402, -0.07, 0.2311, -0.2338, -0.2898, 0.2684, 0.1402, 0.7544, 0.7538, 0.7532, 0.7531, 0.7528, 0.7527, 0.7521, 0.7517, 0.7517, 0.7512, 0.7511, 0.7511, 0.7507, 0.7507, 0.7506, 0.7505, 0.7504, 0.7504, 0.7503, 0.7503, 0.7502, 0.7502, 0.7501, 0.7501, 0.7501, 0.75, 0.7499, 0.7499, 0.7499, 0.7499, 0.743, 0.7325, 0.7272, 0.7382, 0.7424, 0.7479, 0.7414, 0.7493, 0.7382, 0.7248, 0.7407, 0.7486, 0.7475, 0.745, 0.7459, 0.7421, 0.7496, 0.7264, 0.7494, 0.711, 0.7248, 0.7202, 0.7196, 0.7377, 0.7269, 0.7169, 0.6464, 0.7223, 0.7258, 0.7274, 0.7113, 0.7136, 0.731, 0.6671, 0.7042, 0.7066, 0.6335, 0.6829, 0.5972, 0.706, 0.6401, 0.668, 0.6435, 0.5167, 0.4738, 0.5946, 0.6183, 0.519, 0.6061, 0.6187, 0.6555, 0.4154, 0.4614, 0.521, -0.051, 0.2513, 0.3086, 0.4392, 0.2125, 0.3687, 0.3721, 0.074, 0.3007, 0.2004, 0.2991, 0.1453, 0.3894, -0.2965, 0.0833, 0.3705, 0.0617]}, \"token.table\": {\"Topic\": [1, 2, 2, 2, 1, 2, 1, 2, 1, 2, 1, 2, 1, 2, 1, 2, 1, 2, 1, 2, 1, 2, 1, 2, 1, 2, 1, 2, 1, 2, 1, 2, 1, 2, 1, 2, 1, 2, 1, 2, 1, 2, 2, 1, 2, 1, 2, 1, 2, 1, 2, 1, 2, 2, 1, 2, 1, 2, 1, 2, 1, 2, 1, 2, 1, 2, 1, 2, 1, 2, 1, 2, 1, 2, 1, 2, 1, 2, 1, 2, 1, 2, 1, 2, 1, 2, 1, 2, 1, 2, 1, 2, 1, 2, 1, 2, 1, 2, 1, 2, 1, 2, 1, 2, 1, 2, 1, 2, 1, 2, 1, 2, 1, 2, 1, 2, 1, 2, 1, 2, 1, 2, 1, 2, 1, 2, 1, 2, 1, 2, 1, 2, 1, 2, 1, 2, 1, 2, 1, 2, 1, 2, 1, 2, 1, 2, 1, 2, 1, 2, 1, 2, 1, 2, 1, 2, 1, 2, 1, 2, 1, 2, 1, 2, 1, 2, 1, 2, 1, 2, 1, 2, 1, 2, 1, 2, 1, 2, 1, 2, 1, 2, 1, 2, 1, 2, 1, 2, 1, 2, 1, 2, 1, 2, 1, 2, 1, 2, 1, 2, 1, 2, 1, 2, 1, 2, 1, 2, 1, 2, 1, 2, 1, 2, 1, 2, 1, 2, 1, 2, 1, 2, 1, 2, 1, 2, 1, 2, 1, 2, 1, 2, 1, 2, 1, 2, 1, 2, 1, 2, 1, 2, 1, 2, 1, 2, 1, 2, 1, 2, 1, 2, 1, 2, 1, 2, 1, 2, 1, 2, 1, 2, 1, 2, 1, 2, 1, 2, 1, 2, 1, 2, 1, 2, 1, 2, 1, 2, 1, 2, 1, 2, 1, 2, 1, 2, 1, 2, 1, 2, 1, 2, 1, 2, 1, 2, 1, 2, 1, 2, 1, 2, 1, 2, 1, 2, 1, 2, 1, 2, 1, 2, 1, 2, 1, 2, 1, 2, 1, 2, 1, 2, 1, 2, 1, 2, 1, 2, 1, 2, 1, 2, 1, 2, 1, 2, 1, 2, 1, 2, 1, 2, 1, 2, 1, 2, 1, 2, 1, 2, 1, 2, 1, 2, 1, 2, 1, 2, 1, 2, 1, 2, 1, 2, 1, 2, 1, 2, 1, 2, 1, 2], \"Freq\": [0.00947254640614782, 0.9946173726455211, 0.9936734571629587, 0.9948291654588282, 0.849598765918558, 0.15042352037529363, 0.0509084087660813, 0.9488146909156602, 0.9032634480875515, 0.09679275130339364, 0.9893023774935367, 0.010708231041305739, 0.08698654175499052, 0.9131101554509576, 0.003739285226029187, 0.9946498701237637, 0.9927335365666349, 0.009191977190431804, 0.010651642687539717, 0.9906027699411938, 0.9915376472083253, 0.010926034679981546, 0.9893379339159918, 0.011742883488617113, 0.9976866297754102, 0.008245344047730663, 0.10890092078553046, 0.8910828195074584, 0.9606992780730758, 0.03935167511361385, 0.05302787263637374, 0.9466457263234127, 0.9878109658752168, 0.011225124612218371, 0.3218015433524144, 0.6781821645667403, 0.007840687701409606, 0.9918469942283152, 0.9894090138597121, 0.013370392079185299, 0.02580518179247471, 0.9740362686752742, 0.9872250620202062, 0.02693796733922717, 0.9723323449111522, 0.030582147908179168, 0.9691377216419537, 0.4208773284340079, 0.579108541169041, 0.13083373765840214, 0.8691879228838136, 0.05095686262211967, 0.9488785479179556, 0.9976474357365706, 0.669928135223264, 0.3299570040217951, 0.9034641196926805, 0.09684646768313619, 0.0729597621893341, 0.9270449783182264, 0.009001597536903267, 0.9901757290593594, 0.9941475427006986, 0.0071010538764335615, 0.8654914921370543, 0.13443061570715154, 0.1062781400479977, 0.8937224212491178, 0.8950983668395207, 0.10497956869826146, 0.03775228130869959, 0.9622899204415406, 0.9888907647310438, 0.01061421214380369, 0.9928320631464577, 0.0069186903355153845, 0.010489843464611003, 0.988667746539587, 0.42783730601012326, 0.5721203875541833, 0.36846363106111535, 0.6314939469811812, 0.9904339673557696, 0.009370236209609929, 0.9882169274091227, 0.011870473602511984, 0.005976305472611006, 0.992066708453427, 0.018051147635019776, 0.9821947977878409, 0.9903324973028056, 0.010105433645946996, 0.0333357954593104, 0.9667380683200014, 0.046219998806028596, 0.9535249068750556, 0.8396109457689684, 0.1603530024097587, 0.007134500737740696, 0.9916956025459568, 0.9915421352825923, 0.013965382187078764, 0.247959818671456, 0.7520315596419227, 0.555017940083708, 0.4449855366955285, 0.987342571982499, 0.012781133617896427, 0.9956662400291844, 0.010159859592134534, 0.13072041340978696, 0.8692907491750833, 0.2115543564950108, 0.7885439825929836, 0.04451306563142195, 0.9555950057326228, 0.009769778478512578, 0.9965174048082831, 0.9823152474962895, 0.0173095197796703, 0.9601188350889672, 0.040721345503302094, 0.21323976154889293, 0.7868619241614132, 0.6768849371049454, 0.32307337582366874, 0.9946309688419318, 0.008220090651586213, 0.3088129605516981, 0.6911105292576825, 0.9915990434522838, 0.008374991921049695, 0.9952153399968705, 0.0063795855128004515, 0.6448838203513838, 0.35501180009242844, 0.041183208421475354, 0.9588146974746304, 0.9865234950817323, 0.010170345310120952, 0.008123061738678109, 0.9910135321187293, 0.008220736384694314, 0.9947091025480119, 0.99625700329941, 0.008588422442236293, 0.9925776793960983, 0.006015622299370292, 0.4585629715243638, 0.5415068068126264, 0.14155752495733975, 0.8584888176240582, 0.4957566469239022, 0.5041818493313747, 0.016514304729818803, 0.9835185927980975, 0.01227028900868606, 0.993893409703571, 0.5019604230551414, 0.49800797877911673, 0.03165335278018356, 0.9682679453015124, 0.08755108693756536, 0.9123484021814594, 0.015468012814373279, 0.9844935214795228, 0.9848277157389104, 0.014461493623185174, 0.15127326941135627, 0.8485924295231845, 0.9862263592032385, 0.013843340337469048, 0.989960289214712, 0.007983550719473483, 0.9446721691564893, 0.055173160876661055, 0.9443601132739496, 0.05546397754675484, 0.007175832028157245, 0.997440651913857, 0.994850139532896, 0.004949503181755702, 0.020668443676344014, 0.9796842302587062, 0.9845673038142807, 0.01530415498156913, 0.9576137801576261, 0.042439701620622064, 0.993841673091181, 0.008282013942426508, 0.9910283495101628, 0.008044061278491582, 0.994891403707961, 0.00896298561899064, 0.14913193215081286, 0.8508096847860501, 0.014364164521154948, 0.9870233049536471, 0.006455285721912112, 0.9941140011744654, 0.8668748988600832, 0.1332027283614274, 0.035576920910035774, 0.9640477836841401, 0.906547955272674, 0.09347030344820731, 0.98766755522279, 0.011962061629666412, 0.9809919495479507, 0.018609603378958412, 0.010873073720415386, 0.9894497085578001, 0.3228706903112556, 0.6771085471730676, 0.6760379707426452, 0.32395971322958617, 0.1119552908318553, 0.8882952606940019, 0.00758814724363974, 0.9915179065022593, 0.6953881745514486, 0.30457735540167474, 0.7911484537044583, 0.2087818543398197, 0.010895007733256946, 0.9887219517930679, 0.7364289405522658, 0.26368740441024263, 0.938129741225416, 0.06174244035527123, 0.010784567783855186, 0.9921802361146771, 0.9868229009517391, 0.009222643934128402, 0.99415318976507, 0.008017364433589275, 0.03354464844889329, 0.9667381323812996, 0.038536372291466316, 0.9614431658432158, 0.9914309195624517, 0.008275717191673219, 0.007944385448059829, 0.9890759882834488, 0.013228326491323338, 0.986833156252721, 0.89207921738759, 0.1079004595332096, 0.00935994339564908, 0.9921539999388025, 0.29057087402324716, 0.709458229765386, 0.9876176756956226, 0.012192810811057069, 0.9458415308738355, 0.05372041879245141, 0.39796079277380614, 0.6020305193240674, 0.7857297327308397, 0.2142665992260781, 0.36746971885910074, 0.6325216404510713, 0.8609246497263987, 0.1392373548836666, 0.0323709678870934, 0.967205282929518, 0.4910366113978497, 0.5089701224228147, 0.009524178332246664, 0.9905145465536531, 0.006434157315866358, 0.9940773053013522, 0.9970246474970514, 0.004725235296194557, 0.7830640878552616, 0.2168925876996544, 0.03197838433186746, 0.968321076780816, 0.8518206559358374, 0.14818145627051868, 0.8268889849657054, 0.1730090101287285, 0.010046985503376788, 0.994651564834302, 0.9385181277529713, 0.06142833505497536, 0.36243006108639625, 0.6375625933515667, 0.8899840688750723, 0.10990982085546201, 0.012317597785955722, 0.9878713424336489, 0.020289542754907137, 0.9795791242069166, 0.9960541995297771, 0.013834086104580237, 0.21498305948865906, 0.7850803749415781, 0.11780735765666454, 0.8822182497947015, 0.007304267421475211, 0.9933803693206288, 0.016527435869741, 0.9840710774108289, 0.9868630503902331, 0.0127063912067412, 0.008671568975592302, 0.9914493862093866, 0.969099536478332, 0.03169502943883544, 0.9941736364877354, 0.005668036696053223, 0.8542716744005844, 0.14565356610682764, 0.991513088111149, 0.005884350671282784, 0.3206070177988899, 0.6792777348866647, 0.031040840968153998, 0.9688549277654481, 0.9849820579665289, 0.015215994716269757, 0.04661793494979692, 0.9534264195982505, 0.020314296533858734, 0.9796005217438546, 0.9115637128048494, 0.08848684791826573, 0.6118068183553517, 0.3881624476816372, 0.006982993481775759, 0.9915850744121578, 0.009243958966856685, 0.9914145991953794, 0.9486536796821112, 0.05123609999608487, 0.9367501531100275, 0.06334857150528243, 0.978653770782692, 0.02196977852777472, 0.25722775526106384, 0.7427332785674629, 0.016732749434591316, 0.9830490292822398, 0.992153073830034, 0.007086807670214529, 0.9868753282147165, 0.013932357574795997, 0.9946905292066819, 0.0069558778266201535, 0.09806089377838752, 0.9020626497325299, 0.9900043578097549, 0.009565259495746424, 0.9905017671187165, 0.009524055453064582, 0.9836599115723641, 0.01635272188020047, 0.0063304905592096415, 0.9938870177959137, 0.8893893471606817, 0.11070772678404127, 0.008865386448954422, 0.9929232822828952, 0.2734903090248918, 0.7265525517227207, 0.6519239513256339, 0.34812940522875807, 0.008970344019248015, 0.9921200485288303, 0.0057945980230670775, 0.9908762619444703], \"Term\": [\"000000\", \"000000\", \"0424040\", \"1226030\", \"account\", \"account\", \"acquisition\", \"acquisition\", \"address\", \"address\", \"adobe\", \"adobe\", \"advice\", \"advice\", \"aerofoam\", \"aerofoam\", \"aimee\", \"aimee\", \"ambieen\", \"ambieen\", \"anita\", \"anita\", \"anjam\", \"anjam\", \"approver\", \"approver\", \"assets\", \"assets\", \"attach\", \"attach\", \"bankruptcy\", \"bankruptcy\", \"barrister\", \"barrister\", \"base\", \"base\", \"beiieves\", \"beiieves\", \"bengalla\", \"bengalla\", \"billion\", \"billion\", \"biotec\", \"bloomberg\", \"bloomberg\", \"bond\", \"bond\", \"business\", \"business\", \"california\", \"california\", \"cent\", \"cent\", \"certificao\", \"change\", \"change\", \"check\", \"check\", \"chief\", \"chief\", \"cialiis\", \"cialiis\", \"cialls\", \"cialls\", \"click\", \"click\", \"company\", \"company\", \"contact\", \"contact\", \"copyright\", \"copyright\", \"corel\", \"corel\", \"cotten\", \"cotten\", \"couid\", \"couid\", \"could\", \"could\", \"credit\", \"credit\", \"crenshaw\", \"crenshaw\", \"daren\", \"daren\", \"deveiopment\", \"deveiopment\", \"downgrade\", \"downgrade\", \"duffie\", \"duffie\", \"dynegy\", \"dynegy\", \"earnings\", \"earnings\", \"email\", \"email\", \"emerson\", \"emerson\", \"enerfin\", \"enerfin\", \"energy\", \"energy\", \"enron\", \"enron\", \"enronxgate\", \"enronxgate\", \"errrectlon\", \"errrectlon\", \"exchange\", \"exchange\", \"expect\", \"expect\", \"expectation\", \"expectation\", \"eyewear\", \"eyewear\", \"farmer\", \"farmer\", \"feedback\", \"feedback\", \"financial\", \"financial\", \"forward\", \"forward\", \"framemaker\", \"framemaker\", \"future\", \"future\", \"gibner\", \"gibner\", \"gpgfin\", \"gpgfin\", \"group\", \"group\", \"growth\", \"growth\", \"heartwarmers\", \"heartwarmers\", \"homeland\", \"homeland\", \"iaagra\", \"iaagra\", \"ibuyit\", \"ibuyit\", \"iferc\", \"iferc\", \"include\", \"include\", \"industry\", \"industry\", \"information\", \"information\", \"inherent\", \"inherent\", \"initia\", \"initia\", \"interest\", \"interest\", \"investing\", \"investing\", \"investment\", \"investment\", \"investor\", \"investor\", \"invoice\", \"invoice\", \"jones\", \"jones\", \"kaminski\", \"kaminski\", \"katherine\", \"katherine\", \"kevin\", \"kevin\", \"kitchen\", \"kitchen\", \"labguard\", \"labguard\", \"lannou\", \"lannou\", \"losses\", \"losses\", \"lottery\", \"lottery\", \"louise\", \"louise\", \"luong\", \"luong\", \"macromedia\", \"macromedia\", \"mailwisconsin\", \"mailwisconsin\", \"market\", \"market\", \"materially\", \"materially\", \"medica\", \"medica\", \"meeting\", \"meeting\", \"merger\", \"merger\", \"message\", \"message\", \"meter\", \"meter\", \"michelle\", \"michelle\", \"microcap\", \"microcap\", \"million\", \"million\", \"money\", \"money\", \"natural\", \"natural\", \"newsietter\", \"newsietter\", \"offer\", \"offer\", \"office\", \"office\", \"ooking\", \"ooking\", \"order\", \"order\", \"original\", \"original\", \"otcbb\", \"otcbb\", \"pagemaker\", \"pagemaker\", \"papayoti\", \"papayoti\", \"partnership\", \"partnership\", \"percent\", \"percent\", \"photoshop\", \"photoshop\", \"pians\", \"pians\", \"piease\", \"piease\", \"please\", \"please\", \"potentia\", \"potentia\", \"power\", \"power\", \"premiere\", \"premiere\", \"presentation\", \"presentation\", \"price\", \"price\", \"process\", \"process\", \"product\", \"product\", \"program\", \"program\", \"projection\", \"projection\", \"provide\", \"provide\", \"pubiication\", \"pubiication\", \"pubiisher\", \"pubiisher\", \"qmail\", \"qmail\", \"question\", \"question\", \"rating\", \"rating\", \"receive\", \"receive\", \"regard\", \"regard\", \"reieases\", \"reieases\", \"reply\", \"reply\", \"report\", \"report\", \"request\", \"request\", \"resuits\", \"resuits\", \"reuters\", \"reuters\", \"reveffo\", \"reveffo\", \"security\", \"security\", \"share\", \"share\", \"sharehoider\", \"sharehoider\", \"shareholder\", \"shareholder\", \"shirley\", \"shirley\", \"shouid\", \"shouid\", \"sincerely\", \"sincerely\", \"sitara\", \"sitara\", \"software\", \"software\", \"squirrelmail\", \"squirrelmail\", \"state\", \"state\", \"statement\", \"statement\", \"stinson\", \"stinson\", \"stock\", \"stock\", \"stocks\", \"stocks\", \"subject\", \"subject\", \"system\", \"system\", \"techlite\", \"techlite\", \"technoiogy\", \"technoiogy\", \"thank\", \"thank\", \"thanks\", \"thanks\", \"ticket\", \"ticket\", \"trading\", \"trading\", \"uncertainty\", \"uncertainty\", \"unclaimed\", \"unclaimed\", \"unify\", \"unify\", \"utexas\", \"utexas\", \"utility\", \"utility\", \"vasant\", \"vasant\", \"viaqra\", \"viaqra\", \"vince\", \"vince\", \"vinoble\", \"vinoble\", \"visit\", \"visit\", \"width\", \"width\", \"within\", \"within\", \"would\", \"would\", \"wysak\", \"wysak\", \"xanaax\", \"xanaax\"]}, \"R\": 30, \"lambda.step\": 0.01, \"plot.opts\": {\"xlab\": \"PC1\", \"ylab\": \"PC2\"}, \"topic.order\": [2, 1]};\n",
       "if(typeof(window.LDAvis) !== \"undefined\"){\n",
       "   !function(LDAvis){\n",
       "       new LDAvis(\"#\" + \"ldavis_el106562871223781296703687787\", ldavis_el106562871223781296703687787_data);\n",
       "   }(LDAvis);\n",
       "}else{\n",
       "  require.config({paths: {d3: \"https://cdnjs.cloudflare.com/ajax/libs/d3/3.5.5/d3.min\"}});\n",
       "  require([\"d3\"], function(d3){\n",
       "    window.d3 = d3;\n",
       "    $.getScript(\"https://cdn.rawgit.com/bmabey/pyLDAvis/files/ldavis.v1.0.0.js\", function(){\n",
       "       new LDAvis(\"#\" + \"ldavis_el106562871223781296703687787\", ldavis_el106562871223781296703687787_data);\n",
       "    });\n",
       "  });\n",
       "}\n",
       "</script>"
      ],
      "text/plain": [
       "<IPython.core.display.HTML object>"
      ]
     },
     "execution_count": 27,
     "metadata": {},
     "output_type": "execute_result"
    }
   ],
   "source": [
    "pyLDAvis.display(lda_display, template_type='notebook')"
   ]
  },
  {
   "cell_type": "markdown",
   "metadata": {},
   "source": [
    "### Classification"
   ]
  },
  {
   "cell_type": "markdown",
   "metadata": {},
   "source": [
    "Here we look at classification using our LDA model and we want to see how well the model identifies spam vs non-spam emails. We need to generate a classification output from the Bag of Words Corpus for each document. We do this by using only 2 topics and creating a list of the assignment of a document to a topic. In the case where the LDA model produces probablities for both topics, we take the largest one to be the topic assignment."
   ]
  },
  {
   "cell_type": "code",
   "execution_count": 28,
   "metadata": {},
   "outputs": [
    {
     "name": "stderr",
     "output_type": "stream",
     "text": [
      "C:\\Users\\corri\\anaconda3\\lib\\site-packages\\ipykernel\\ipkernel.py:287: DeprecationWarning: `should_run_async` will not call `transform_cell` automatically in the future. Please pass the result to `transformed_cell` argument and any exception that happen during thetransform in `preprocessing_exc_tuple` in IPython 7.17 and above.\n",
      "  and should_run_async(code)\n"
     ]
    }
   ],
   "source": [
    "a = np.zeros(len(df_train))"
   ]
  },
  {
   "cell_type": "code",
   "execution_count": 29,
   "metadata": {},
   "outputs": [
    {
     "name": "stderr",
     "output_type": "stream",
     "text": [
      "C:\\Users\\corri\\anaconda3\\lib\\site-packages\\ipykernel\\ipkernel.py:287: DeprecationWarning: `should_run_async` will not call `transform_cell` automatically in the future. Please pass the result to `transformed_cell` argument and any exception that happen during thetransform in `preprocessing_exc_tuple` in IPython 7.17 and above.\n",
      "  and should_run_async(code)\n"
     ]
    }
   ],
   "source": [
    "y_pred = []\n",
    "y_actual = list(df_train['spam'])\n",
    "\n",
    "for i in range(0,len(df_train)):\n",
    "    for index, score in sorted(lda_model[bow_corpus[i]], key=lambda tup: -1*tup[1]):\n",
    "        if score >= 0.5 and index == 0:\n",
    "            y_pred.append(0)\n",
    "            break\n",
    "        elif score > 0.5 and index == 1:\n",
    "            y_pred.append(1)\n",
    "            break"
   ]
  },
  {
   "cell_type": "markdown",
   "metadata": {},
   "source": [
    "As a check to ensure the above code has worked and will be compatible with our confusion matrix, we check the length of both the lists."
   ]
  },
  {
   "cell_type": "code",
   "execution_count": 30,
   "metadata": {},
   "outputs": [
    {
     "name": "stdout",
     "output_type": "stream",
     "text": [
      "27716 27716\n"
     ]
    },
    {
     "name": "stderr",
     "output_type": "stream",
     "text": [
      "C:\\Users\\corri\\anaconda3\\lib\\site-packages\\ipykernel\\ipkernel.py:287: DeprecationWarning: `should_run_async` will not call `transform_cell` automatically in the future. Please pass the result to `transformed_cell` argument and any exception that happen during thetransform in `preprocessing_exc_tuple` in IPython 7.17 and above.\n",
      "  and should_run_async(code)\n"
     ]
    }
   ],
   "source": [
    "print(len(y_actual), len(y_pred))"
   ]
  },
  {
   "cell_type": "markdown",
   "metadata": {},
   "source": [
    "Next we define our confusion matrix and classification report. We use sklearn metrics to generate this, in a similar way to project 1 and evaluate."
   ]
  },
  {
   "cell_type": "code",
   "execution_count": 32,
   "metadata": {},
   "outputs": [
    {
     "name": "stderr",
     "output_type": "stream",
     "text": [
      "C:\\Users\\corri\\anaconda3\\lib\\site-packages\\ipykernel\\ipkernel.py:287: DeprecationWarning: `should_run_async` will not call `transform_cell` automatically in the future. Please pass the result to `transformed_cell` argument and any exception that happen during thetransform in `preprocessing_exc_tuple` in IPython 7.17 and above.\n",
      "  and should_run_async(code)\n"
     ]
    }
   ],
   "source": [
    "from sklearn.metrics import confusion_matrix, classification_report\n",
    "\n",
    "def classification_eval(y_true,y_pred):\n",
    "    \n",
    "    print(\"Confusion Matrix\")\n",
    "    C = confusion_matrix(y_true,y_pred)\n",
    "    \n",
    "    print('Classification report')\n",
    "    print(classification_report(y_true, y_pred, target_names = ['Normal', 'Spam'], digits=3))"
   ]
  },
  {
   "cell_type": "code",
   "execution_count": 33,
   "metadata": {},
   "outputs": [
    {
     "name": "stdout",
     "output_type": "stream",
     "text": [
      "Confusion Matrix\n",
      "Classification report\n",
      "              precision    recall  f1-score   support\n",
      "\n",
      "      Normal      0.290     0.113     0.163     15046\n",
      "        Spam      0.389     0.672     0.493     12670\n",
      "\n",
      "    accuracy                          0.369     27716\n",
      "   macro avg      0.340     0.392     0.328     27716\n",
      "weighted avg      0.336     0.369     0.314     27716\n",
      "\n"
     ]
    },
    {
     "name": "stderr",
     "output_type": "stream",
     "text": [
      "C:\\Users\\corri\\anaconda3\\lib\\site-packages\\ipykernel\\ipkernel.py:287: DeprecationWarning: `should_run_async` will not call `transform_cell` automatically in the future. Please pass the result to `transformed_cell` argument and any exception that happen during thetransform in `preprocessing_exc_tuple` in IPython 7.17 and above.\n",
      "  and should_run_async(code)\n"
     ]
    }
   ],
   "source": [
    "classification_eval(y_actual,y_pred)"
   ]
  },
  {
   "cell_type": "markdown",
   "metadata": {},
   "source": [
    "### Perplexity and Coherence"
   ]
  },
  {
   "cell_type": "code",
   "execution_count": 34,
   "metadata": {},
   "outputs": [
    {
     "name": "stderr",
     "output_type": "stream",
     "text": [
      "C:\\Users\\corri\\anaconda3\\lib\\site-packages\\ipykernel\\ipkernel.py:287: DeprecationWarning: `should_run_async` will not call `transform_cell` automatically in the future. Please pass the result to `transformed_cell` argument and any exception that happen during thetransform in `preprocessing_exc_tuple` in IPython 7.17 and above.\n",
      "  and should_run_async(code)\n"
     ]
    }
   ],
   "source": [
    "from gensim.models.coherencemodel import CoherenceModel\n",
    "def getCoherence(m,c,d):\n",
    "    coherence_model_lda = CoherenceModel(model=m,corpus=c, dictionary=d, coherence='u_mass')\n",
    "    coherence_lda = coherence_model_lda.get_coherence()\n",
    "    return(coherence_lda)"
   ]
  },
  {
   "cell_type": "code",
   "execution_count": 35,
   "metadata": {},
   "outputs": [
    {
     "name": "stderr",
     "output_type": "stream",
     "text": [
      "C:\\Users\\corri\\anaconda3\\lib\\site-packages\\ipykernel\\ipkernel.py:287: DeprecationWarning: `should_run_async` will not call `transform_cell` automatically in the future. Please pass the result to `transformed_cell` argument and any exception that happen during thetransform in `preprocessing_exc_tuple` in IPython 7.17 and above.\n",
      "  and should_run_async(code)\n"
     ]
    },
    {
     "name": "stdout",
     "output_type": "stream",
     "text": [
      "lda_model perplexity: -10.20536763618399\n",
      "lda_model coherence: -1.4227806482839416\n"
     ]
    }
   ],
   "source": [
    "print(\"lda_model perplexity: {}\".format(lda_model.log_perplexity(bow_corpus[0:1000])))\n",
    "print(\"lda_model coherence: {}\".format(getCoherence(lda_model,bow_corpus[0:1000],dictionary)))"
   ]
  },
  {
   "cell_type": "markdown",
   "metadata": {},
   "source": [
    "### References"
   ]
  },
  {
   "cell_type": "markdown",
   "metadata": {},
   "source": [
    "1. [Loading .txt files](https://stackoverflow.com/questions/42407976/loading-multiple-text-files-from-a-folder-into-a-python-list-variable)\n",
    "2. [Using Glob to retrieve the data](https://stackoverflow.com/questions/2186525/how-to-use-glob-to-find-files-recursively)\n",
    "3. [WordNet guidance](https://www.nltk.org/howto/wordnet.html)\n",
    "4. [Lemmatisation](https://www.geeksforgeeks.org/python-lemmatization-with-nltk/)\n",
    "5. [Stop Words](https://www.geeksforgeeks.org/removing-stop-words-nltk-python/)\n",
    "6. [Adding Stop Words](https://stackoverflow.com/questions/5511708/adding-words-to-nltk-stoplist)\n",
    "7. [Classificaiton Report](https://scikit-learn.org/stable/modules/generated/sklearn.metrics.classification_report.html)\n",
    "8. [Filtering Extereme values from a Dictionary](https://stackoverflow.com/questions/51634656/filtering-tokens-by-frequency-using-filter-extremes-in-gensim)\n",
    "9. [General LDA - used for index, score function in Classification](https://towardsdatascience.com/topic-modeling-and-latent-dirichlet-allocation-in-python-9bf156893c24)"
   ]
  },
  {
   "cell_type": "code",
   "execution_count": null,
   "metadata": {},
   "outputs": [],
   "source": []
  }
 ],
 "metadata": {
  "kernelspec": {
   "display_name": "Python 3",
   "language": "python",
   "name": "python3"
  },
  "language_info": {
   "codemirror_mode": {
    "name": "ipython",
    "version": 3
   },
   "file_extension": ".py",
   "mimetype": "text/x-python",
   "name": "python",
   "nbconvert_exporter": "python",
   "pygments_lexer": "ipython3",
   "version": "3.8.5"
  }
 },
 "nbformat": 4,
 "nbformat_minor": 4
}
