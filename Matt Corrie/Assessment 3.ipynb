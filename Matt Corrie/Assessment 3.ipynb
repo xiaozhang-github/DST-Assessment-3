{
 "cells": [
  {
   "cell_type": "markdown",
   "metadata": {},
   "source": [
    "# Assessment 3"
   ]
  },
  {
   "cell_type": "markdown",
   "metadata": {},
   "source": [
    "Compare without reply/forward"
   ]
  },
  {
   "cell_type": "code",
   "execution_count": 1,
   "metadata": {},
   "outputs": [],
   "source": [
    "import glob\n",
    "import os\n",
    "import numpy as np\n",
    "import pandas as pd\n",
    "import math\n",
    "\n",
    "import gensim\n",
    "from gensim.utils import simple_preprocess\n",
    "from gensim.parsing.preprocessing import STOPWORDS\n",
    "from nltk.stem import WordNetLemmatizer, SnowballStemmer\n",
    "from nltk.stem.porter import *\n",
    "np.random.seed(2021)\n",
    "\n",
    "import nltk\n",
    "import re"
   ]
  },
  {
   "cell_type": "markdown",
   "metadata": {},
   "source": [
    "First we need to import the data. References 1 & 2 introduced me to glob which then allows us to import all the text documents in one smooth process. We do this below."
   ]
  },
  {
   "cell_type": "code",
   "execution_count": 2,
   "metadata": {},
   "outputs": [],
   "source": [
    "from pathlib import Path\n",
    "\n",
    "corpus = []\n",
    "\n",
    "for path in Path(r'C:\\Users\\corri\\OneDrive\\Documents\\GitHub\\DST-Assessment-3\\Data\\All enron unzip').rglob('*.txt'):\n",
    "        with open(path, errors='ignore') as f_input:\n",
    "            corpus.append(f_input.read())"
   ]
  },
  {
   "cell_type": "code",
   "execution_count": 3,
   "metadata": {},
   "outputs": [],
   "source": [
    "df = pd.DataFrame(corpus)"
   ]
  },
  {
   "cell_type": "code",
   "execution_count": 4,
   "metadata": {},
   "outputs": [
    {
     "data": {
      "text/html": [
       "<div>\n",
       "<style scoped>\n",
       "    .dataframe tbody tr th:only-of-type {\n",
       "        vertical-align: middle;\n",
       "    }\n",
       "\n",
       "    .dataframe tbody tr th {\n",
       "        vertical-align: top;\n",
       "    }\n",
       "\n",
       "    .dataframe thead th {\n",
       "        text-align: right;\n",
       "    }\n",
       "</style>\n",
       "<table border=\"1\" class=\"dataframe\">\n",
       "  <thead>\n",
       "    <tr style=\"text-align: right;\">\n",
       "      <th></th>\n",
       "      <th>0</th>\n",
       "    </tr>\n",
       "  </thead>\n",
       "  <tbody>\n",
       "    <tr>\n",
       "      <th>0</th>\n",
       "      <td>Legitimate\\n----------\\n- Owner: farmer-d\\n- T...</td>\n",
       "    </tr>\n",
       "    <tr>\n",
       "      <th>1</th>\n",
       "      <td>Subject: christmas tree farm pictures\\n</td>\n",
       "    </tr>\n",
       "    <tr>\n",
       "      <th>2</th>\n",
       "      <td>Subject: vastar resources , inc .\\ngary , prod...</td>\n",
       "    </tr>\n",
       "    <tr>\n",
       "      <th>3</th>\n",
       "      <td>Subject: calpine daily gas nomination\\n- calpi...</td>\n",
       "    </tr>\n",
       "    <tr>\n",
       "      <th>4</th>\n",
       "      <td>Subject: re : issue\\nfyi - see note below - al...</td>\n",
       "    </tr>\n",
       "  </tbody>\n",
       "</table>\n",
       "</div>"
      ],
      "text/plain": [
       "                                                   0\n",
       "0  Legitimate\\n----------\\n- Owner: farmer-d\\n- T...\n",
       "1            Subject: christmas tree farm pictures\\n\n",
       "2  Subject: vastar resources , inc .\\ngary , prod...\n",
       "3  Subject: calpine daily gas nomination\\n- calpi...\n",
       "4  Subject: re : issue\\nfyi - see note below - al..."
      ]
     },
     "execution_count": 4,
     "metadata": {},
     "output_type": "execute_result"
    }
   ],
   "source": [
    "df.head()"
   ]
  },
  {
   "cell_type": "code",
   "execution_count": 5,
   "metadata": {},
   "outputs": [
    {
     "name": "stdout",
     "output_type": "stream",
     "text": [
      "27721\n"
     ]
    }
   ],
   "source": [
    "print(len(df))"
   ]
  },
  {
   "cell_type": "markdown",
   "metadata": {},
   "source": [
    "While importing the files, we've also imported the summary sheets along with them. These need to be removed as they wont contribute to our overall corpus and we do this below along with reindexing the data set (we could just remove them from the data but this is easy)."
   ]
  },
  {
   "cell_type": "code",
   "execution_count": 6,
   "metadata": {},
   "outputs": [],
   "source": [
    "df = df.drop([0,5173,11031,16544,21720]) # removing unnecessary entries\n",
    "nlist = np.arange(0,27717,1) # reindexing\n",
    "df = df.reindex(nlist)\n",
    "df = df.drop(0)\n",
    "df.columns = ['E-mails']"
   ]
  },
  {
   "cell_type": "code",
   "execution_count": 7,
   "metadata": {},
   "outputs": [
    {
     "data": {
      "text/html": [
       "<div>\n",
       "<style scoped>\n",
       "    .dataframe tbody tr th:only-of-type {\n",
       "        vertical-align: middle;\n",
       "    }\n",
       "\n",
       "    .dataframe tbody tr th {\n",
       "        vertical-align: top;\n",
       "    }\n",
       "\n",
       "    .dataframe thead th {\n",
       "        text-align: right;\n",
       "    }\n",
       "</style>\n",
       "<table border=\"1\" class=\"dataframe\">\n",
       "  <thead>\n",
       "    <tr style=\"text-align: right;\">\n",
       "      <th></th>\n",
       "      <th>E-mails</th>\n",
       "    </tr>\n",
       "  </thead>\n",
       "  <tbody>\n",
       "    <tr>\n",
       "      <th>1</th>\n",
       "      <td>Subject: christmas tree farm pictures\\n</td>\n",
       "    </tr>\n",
       "    <tr>\n",
       "      <th>2</th>\n",
       "      <td>Subject: vastar resources , inc .\\ngary , prod...</td>\n",
       "    </tr>\n",
       "    <tr>\n",
       "      <th>3</th>\n",
       "      <td>Subject: calpine daily gas nomination\\n- calpi...</td>\n",
       "    </tr>\n",
       "    <tr>\n",
       "      <th>4</th>\n",
       "      <td>Subject: re : issue\\nfyi - see note below - al...</td>\n",
       "    </tr>\n",
       "    <tr>\n",
       "      <th>5</th>\n",
       "      <td>Subject: meter 7268 nov allocation\\nfyi .\\n- -...</td>\n",
       "    </tr>\n",
       "  </tbody>\n",
       "</table>\n",
       "</div>"
      ],
      "text/plain": [
       "                                             E-mails\n",
       "1            Subject: christmas tree farm pictures\\n\n",
       "2  Subject: vastar resources , inc .\\ngary , prod...\n",
       "3  Subject: calpine daily gas nomination\\n- calpi...\n",
       "4  Subject: re : issue\\nfyi - see note below - al...\n",
       "5  Subject: meter 7268 nov allocation\\nfyi .\\n- -..."
      ]
     },
     "execution_count": 7,
     "metadata": {},
     "output_type": "execute_result"
    }
   ],
   "source": [
    "df.head()"
   ]
  },
  {
   "cell_type": "markdown",
   "metadata": {},
   "source": [
    "We're going to assign a binary variable for spam vs normal data to our data set to allow us to perform performance analysis later on. This is done simply since we know where the splits will be for spam/normal data will be in our data frame and we do this below by first creating a list of the positions where spam emails are found and then assigning the binary values to our data frame."
   ]
  },
  {
   "cell_type": "code",
   "execution_count": 8,
   "metadata": {},
   "outputs": [],
   "source": [
    "z1 = np.arange(3673,5173)\n",
    "z2 = np.arange(9534,11031)\n",
    "z3 = np.arange(15043,16544)\n",
    "z4 = np.arange(18043,21719)\n",
    "z5 = np.arange(23220,27716)\n",
    "ze = np.concatenate((z1,z2,z3,z4,z5))"
   ]
  },
  {
   "cell_type": "code",
   "execution_count": 9,
   "metadata": {},
   "outputs": [],
   "source": [
    "z = np.zeros(27716)\n",
    "df['spam'] = z\n",
    "for i in ze:\n",
    "    df.iloc[i,1] = 1"
   ]
  },
  {
   "cell_type": "code",
   "execution_count": 10,
   "metadata": {},
   "outputs": [
    {
     "data": {
      "text/html": [
       "<div>\n",
       "<style scoped>\n",
       "    .dataframe tbody tr th:only-of-type {\n",
       "        vertical-align: middle;\n",
       "    }\n",
       "\n",
       "    .dataframe tbody tr th {\n",
       "        vertical-align: top;\n",
       "    }\n",
       "\n",
       "    .dataframe thead th {\n",
       "        text-align: right;\n",
       "    }\n",
       "</style>\n",
       "<table border=\"1\" class=\"dataframe\">\n",
       "  <thead>\n",
       "    <tr style=\"text-align: right;\">\n",
       "      <th></th>\n",
       "      <th>E-mails</th>\n",
       "      <th>spam</th>\n",
       "    </tr>\n",
       "  </thead>\n",
       "  <tbody>\n",
       "    <tr>\n",
       "      <th>1</th>\n",
       "      <td>Subject: christmas tree farm pictures\\n</td>\n",
       "      <td>0.0</td>\n",
       "    </tr>\n",
       "    <tr>\n",
       "      <th>2</th>\n",
       "      <td>Subject: vastar resources , inc .\\ngary , prod...</td>\n",
       "      <td>0.0</td>\n",
       "    </tr>\n",
       "    <tr>\n",
       "      <th>3</th>\n",
       "      <td>Subject: calpine daily gas nomination\\n- calpi...</td>\n",
       "      <td>0.0</td>\n",
       "    </tr>\n",
       "    <tr>\n",
       "      <th>4</th>\n",
       "      <td>Subject: re : issue\\nfyi - see note below - al...</td>\n",
       "      <td>0.0</td>\n",
       "    </tr>\n",
       "    <tr>\n",
       "      <th>5</th>\n",
       "      <td>Subject: meter 7268 nov allocation\\nfyi .\\n- -...</td>\n",
       "      <td>0.0</td>\n",
       "    </tr>\n",
       "  </tbody>\n",
       "</table>\n",
       "</div>"
      ],
      "text/plain": [
       "                                             E-mails  spam\n",
       "1            Subject: christmas tree farm pictures\\n   0.0\n",
       "2  Subject: vastar resources , inc .\\ngary , prod...   0.0\n",
       "3  Subject: calpine daily gas nomination\\n- calpi...   0.0\n",
       "4  Subject: re : issue\\nfyi - see note below - al...   0.0\n",
       "5  Subject: meter 7268 nov allocation\\nfyi .\\n- -...   0.0"
      ]
     },
     "execution_count": 10,
     "metadata": {},
     "output_type": "execute_result"
    }
   ],
   "source": [
    "df.head()"
   ]
  },
  {
   "cell_type": "code",
   "execution_count": 11,
   "metadata": {},
   "outputs": [],
   "source": [
    "df_temp = df"
   ]
  },
  {
   "cell_type": "code",
   "execution_count": 12,
   "metadata": {},
   "outputs": [],
   "source": [
    "for i in range(0,9):\n",
    "    if i == 8:\n",
    "        a = df_temp\n",
    "        locals()['df_{}'.format(i)] = a\n",
    "    else:\n",
    "        a = df_temp.sample(n = 2771)\n",
    "        locals()['df_{}'.format(i)] = a\n",
    "        l = list(a.index.values)\n",
    "        df_temp = df_temp.drop(l)"
   ]
  },
  {
   "cell_type": "code",
   "execution_count": 13,
   "metadata": {},
   "outputs": [],
   "source": [
    "df_test = df_temp\n",
    "\n",
    "frames=[df_0, df_1, df_2, df_3, df_4, df_5, df_6, df_7, df_8]\n",
    "df_train = pd.concat(frames)"
   ]
  },
  {
   "cell_type": "markdown",
   "metadata": {},
   "source": [
    "### Pre-Processing for LDA Model"
   ]
  },
  {
   "cell_type": "markdown",
   "metadata": {},
   "source": [
    "In this section we perform pre-processing for our model. This involves techniques such as removing common words, symbols and punctuation. For sake of comparison, we print the first entry to determine the impact the techniques have."
   ]
  },
  {
   "cell_type": "code",
   "execution_count": 14,
   "metadata": {},
   "outputs": [
    {
     "name": "stdout",
     "output_type": "stream",
     "text": [
      "Subject: paypal notification ( your account is suspended )\n",
      "dear paypal member ,\n",
      "paypal is committed to maintaining a safe environment\n",
      "for its community of\n",
      "buyers and sellers . to protect the security of your\n",
      "account , paypal employs\n",
      "some of the most advanced security systems in the\n",
      "world and our anti - fraud\n",
      "teams regularly screen the paypal system for unusual\n",
      "activity .\n",
      "recently , our account review team identified some\n",
      "unusual activity in your\n",
      "account . in accordance with paypal ' s user agreement\n",
      "and to ensure that your\n",
      "account has not been compromised , access to it was\n",
      "flagged . you\n",
      "will remain flagged until this issue has been\n",
      "resolved .\n",
      "this is a fraud prevention measure meant to ensure\n",
      "that your account is not\n",
      "compromised .\n",
      "in order to secure your account and quickly restore\n",
      "full access , we may\n",
      "require some specific information from you for the\n",
      "following reason :\n",
      "our system requires further account verification .\n",
      "case id number : pp - 056 - 245 - 481\n",
      "we encourage you to log in and restore full access as\n",
      "soon as possible .\n",
      "should your account remain flagged for an extended\n",
      "period of time ,\n",
      "it may result in further limitations on the use of\n",
      "your account or\n",
      "may result in eventual account closure .\n",
      "please click on the link below to log in and\n",
      "restore full access to your account .\n",
      "thank you for your prompt attention to this matter .\n",
      "please understand that\n",
      "this is a security measure meant to help protect you\n",
      "and your account . we\n",
      "apologize for any inconvenience .\n",
      "sincerely ,\n",
      "paypal account review department\n",
      "paypal email id pp 562\n",
      "\n"
     ]
    }
   ],
   "source": [
    "email_sample = df_train.iloc[170].values[0] # some of the emails are less tasteful than other emails sorry!\n",
    "print(email_sample)"
   ]
  },
  {
   "cell_type": "code",
   "execution_count": 15,
   "metadata": {},
   "outputs": [
    {
     "data": {
      "text/html": [
       "<div>\n",
       "<style scoped>\n",
       "    .dataframe tbody tr th:only-of-type {\n",
       "        vertical-align: middle;\n",
       "    }\n",
       "\n",
       "    .dataframe tbody tr th {\n",
       "        vertical-align: top;\n",
       "    }\n",
       "\n",
       "    .dataframe thead th {\n",
       "        text-align: right;\n",
       "    }\n",
       "</style>\n",
       "<table border=\"1\" class=\"dataframe\">\n",
       "  <thead>\n",
       "    <tr style=\"text-align: right;\">\n",
       "      <th></th>\n",
       "      <th>E-mails</th>\n",
       "      <th>spam</th>\n",
       "    </tr>\n",
       "  </thead>\n",
       "  <tbody>\n",
       "    <tr>\n",
       "      <th>15773</th>\n",
       "      <td>Subject: january giveaway\\nspecial offfer for ...</td>\n",
       "      <td>1.0</td>\n",
       "    </tr>\n",
       "    <tr>\n",
       "      <th>25178</th>\n",
       "      <td>Subject: unfaithful bitches\\nwives looking for...</td>\n",
       "      <td>1.0</td>\n",
       "    </tr>\n",
       "    <tr>\n",
       "      <th>3695</th>\n",
       "      <td>Subject: re : 1 / 2 price sildenafil citrate t...</td>\n",
       "      <td>1.0</td>\n",
       "    </tr>\n",
       "    <tr>\n",
       "      <th>4894</th>\n",
       "      <td>Subject: can we go over guillermo ' s budget t...</td>\n",
       "      <td>1.0</td>\n",
       "    </tr>\n",
       "    <tr>\n",
       "      <th>13018</th>\n",
       "      <td>Subject: competitive analysis update # 24 - us...</td>\n",
       "      <td>0.0</td>\n",
       "    </tr>\n",
       "  </tbody>\n",
       "</table>\n",
       "</div>"
      ],
      "text/plain": [
       "                                                 E-mails  spam\n",
       "15773  Subject: january giveaway\\nspecial offfer for ...   1.0\n",
       "25178  Subject: unfaithful bitches\\nwives looking for...   1.0\n",
       "3695   Subject: re : 1 / 2 price sildenafil citrate t...   1.0\n",
       "4894   Subject: can we go over guillermo ' s budget t...   1.0\n",
       "13018  Subject: competitive analysis update # 24 - us...   0.0"
      ]
     },
     "execution_count": 15,
     "metadata": {},
     "output_type": "execute_result"
    }
   ],
   "source": [
    "df_train.head()"
   ]
  },
  {
   "cell_type": "markdown",
   "metadata": {},
   "source": [
    "We use stop words from nltk to remove the majority of the stop words in the data. Some of the words we need to remove are case specific and therefore aren't removed by the stop word processing, such as 'Subject:' which appears in every email and therefore provides no insight for topic modelling."
   ]
  },
  {
   "cell_type": "code",
   "execution_count": 16,
   "metadata": {},
   "outputs": [],
   "source": [
    "en_stop = nltk.corpus.stopwords.words('english')\n",
    "en_stop.append('Subject')"
   ]
  },
  {
   "cell_type": "code",
   "execution_count": 17,
   "metadata": {},
   "outputs": [],
   "source": [
    "import nltk\n",
    "from nltk.corpus import wordnet as wn\n",
    "\n",
    "# Function to lemmatize a word\n",
    "def get_lemma(word):\n",
    "   \n",
    "    lemma = wn.morphy(word) \n",
    "    if lemma is None:\n",
    "        return word\n",
    "    else:\n",
    "        return lemma\n",
    "\n",
    "def prepare_text_for_lda(text):\n",
    "    \n",
    "    tokens = nltk.word_tokenize(text) # splits text block into sole words\n",
    "    tokens = [token for token in tokens if len(token) > 4] # removes words length less than 4, likely to be unimportant\n",
    "    tokens = [token for token in tokens if token not in en_stop] # removes stop words\n",
    "    tokens = [get_lemma(token) for token in tokens] # lemmatize (standardise) words\n",
    "    return tokens"
   ]
  },
  {
   "cell_type": "code",
   "execution_count": 18,
   "metadata": {},
   "outputs": [
    {
     "name": "stdout",
     "output_type": "stream",
     "text": [
      "original document: \n",
      "['Subject:', 'paypal', 'notification', '(', 'your', 'account', 'is', 'suspended', ')\\ndear', 'paypal', 'member', ',\\npaypal', 'is', 'committed', 'to', 'maintaining', 'a', 'safe', 'environment\\nfor', 'its', 'community', 'of\\nbuyers', 'and', 'sellers', '.', 'to', 'protect', 'the', 'security', 'of', 'your\\naccount', ',', 'paypal', 'employs\\nsome', 'of', 'the', 'most', 'advanced', 'security', 'systems', 'in', 'the\\nworld', 'and', 'our', 'anti', '-', 'fraud\\nteams', 'regularly', 'screen', 'the', 'paypal', 'system', 'for', 'unusual\\nactivity', '.\\nrecently', ',', 'our', 'account', 'review', 'team', 'identified', 'some\\nunusual', 'activity', 'in', 'your\\naccount', '.', 'in', 'accordance', 'with', 'paypal', \"'\", 's', 'user', 'agreement\\nand', 'to', 'ensure', 'that', 'your\\naccount', 'has', 'not', 'been', 'compromised', ',', 'access', 'to', 'it', 'was\\nflagged', '.', 'you\\nwill', 'remain', 'flagged', 'until', 'this', 'issue', 'has', 'been\\nresolved', '.\\nthis', 'is', 'a', 'fraud', 'prevention', 'measure', 'meant', 'to', 'ensure\\nthat', 'your', 'account', 'is', 'not\\ncompromised', '.\\nin', 'order', 'to', 'secure', 'your', 'account', 'and', 'quickly', 'restore\\nfull', 'access', ',', 'we', 'may\\nrequire', 'some', 'specific', 'information', 'from', 'you', 'for', 'the\\nfollowing', 'reason', ':\\nour', 'system', 'requires', 'further', 'account', 'verification', '.\\ncase', 'id', 'number', ':', 'pp', '-', '056', '-', '245', '-', '481\\nwe', 'encourage', 'you', 'to', 'log', 'in', 'and', 'restore', 'full', 'access', 'as\\nsoon', 'as', 'possible', '.\\nshould', 'your', 'account', 'remain', 'flagged', 'for', 'an', 'extended\\nperiod', 'of', 'time', ',\\nit', 'may', 'result', 'in', 'further', 'limitations', 'on', 'the', 'use', 'of\\nyour', 'account', 'or\\nmay', 'result', 'in', 'eventual', 'account', 'closure', '.\\nplease', 'click', 'on', 'the', 'link', 'below', 'to', 'log', 'in', 'and\\nrestore', 'full', 'access', 'to', 'your', 'account', '.\\nthank', 'you', 'for', 'your', 'prompt', 'attention', 'to', 'this', 'matter', '.\\nplease', 'understand', 'that\\nthis', 'is', 'a', 'security', 'measure', 'meant', 'to', 'help', 'protect', 'you\\nand', 'your', 'account', '.', 'we\\napologize', 'for', 'any', 'inconvenience', '.\\nsincerely', ',\\npaypal', 'account', 'review', 'department\\npaypal', 'email', 'id', 'pp', '562\\n']\n",
      "\n",
      "\n",
      " method removing stop words: \n",
      "['paypal', 'notification', 'account', 'suspend', 'paypal', 'member', 'paypal', 'commit', 'maintain', 'environment', 'community', 'buyer', 'sellers', 'protect', 'security', 'account', 'paypal', 'employ', 'advance', 'security', 'system', 'world', 'fraud', 'team', 'regularly', 'screen', 'paypal', 'system', 'unusual', 'activity', 'recently', 'account', 'review', 'identify', 'unusual', 'activity', 'account', 'accordance', 'paypal', 'agreement', 'ensure', 'account', 'compromise', 'access', 'flag', 'remain', 'flag', 'issue', 'resolve', 'fraud', 'prevention', 'measure', 'mean', 'ensure', 'account', 'compromise', 'order', 'secure', 'account', 'quickly', 'restore', 'access', 'require', 'specific', 'information', 'following', 'reason', 'system', 'require', 'account', 'verification', 'number', 'encourage', 'restore', 'access', 'possible', 'account', 'remain', 'flag', 'extend', 'period', 'result', 'limitation', 'account', 'result', 'eventual', 'account', 'closure', 'please', 'click', 'restore', 'access', 'account', 'thank', 'prompt', 'attention', 'matter', 'please', 'understand', 'security', 'measure', 'mean', 'protect', 'account', 'apologize', 'inconvenience', 'sincerely', 'paypal', 'account', 'review', 'department', 'paypal', 'email']\n"
     ]
    }
   ],
   "source": [
    "print('original document: ')\n",
    "words = []\n",
    "for word in email_sample.split(' '):\n",
    "    words.append(word)\n",
    "print(words)\n",
    "\n",
    "print('\\n\\n method removing stop words: ')\n",
    "print(prepare_text_for_lda(email_sample))"
   ]
  },
  {
   "cell_type": "code",
   "execution_count": 19,
   "metadata": {},
   "outputs": [],
   "source": [
    "#processed_text = df_train['E-mails'].map(prepare_text_for_lda)\n",
    "#processed_text.head()"
   ]
  },
  {
   "cell_type": "markdown",
   "metadata": {},
   "source": [
    "When running the above code, we identify entries in the code that are classified as NaN. The pre-processor cannot handle these exceptions so we remove them as they are immaterial to the final result anyway."
   ]
  },
  {
   "cell_type": "code",
   "execution_count": 20,
   "metadata": {},
   "outputs": [],
   "source": [
    "place = []\n",
    "\n",
    "for j in range(1,len(df_train)):\n",
    "    try:\n",
    "        a = df_train.iloc[j,0]\n",
    "        prepare_text_for_lda(a)\n",
    "    except Exception:\n",
    "        place.append(j)\n",
    "\n",
    "for j in place:\n",
    "    df_train.iloc[j,0] = \"\""
   ]
  },
  {
   "cell_type": "code",
   "execution_count": 21,
   "metadata": {},
   "outputs": [
    {
     "data": {
      "text/plain": [
       "15773    [january, giveaway, special, offfer, wlndows, ...\n",
       "25178    [unfaithful, bitch, wife, looking, search, com...\n",
       "3695                   [price, sildenafil, citrate, today]\n",
       "4894     [guillermo, budget, today, glory, become, eigh...\n",
       "13018    [competitive, analysis, update, response, terr...\n",
       "Name: E-mails, dtype: object"
      ]
     },
     "execution_count": 21,
     "metadata": {},
     "output_type": "execute_result"
    }
   ],
   "source": [
    "processed_text = df_train['E-mails'].map(prepare_text_for_lda) \n",
    "processed_text.head()"
   ]
  },
  {
   "cell_type": "markdown",
   "metadata": {},
   "source": [
    "### Creating a Dictionary and a Corpus"
   ]
  },
  {
   "cell_type": "code",
   "execution_count": 22,
   "metadata": {},
   "outputs": [
    {
     "name": "stdout",
     "output_type": "stream",
     "text": [
      "0 20251\n",
      "1 ashman\n",
      "2 attention\n",
      "3 attorney\n",
      "4 cherie\n",
      "5 complementary\n",
      "6 confirmation\n",
      "7 contents\n",
      "8 downcast\n",
      "9 dragnet\n",
      "10 email\n"
     ]
    }
   ],
   "source": [
    "dictionary = gensim.corpora.Dictionary(processed_text)\n",
    "\n",
    "count = 0\n",
    "for k,v  in dictionary.iteritems():\n",
    "    print(k, v)\n",
    "    count += 1\n",
    "    if count > 10:\n",
    "        break"
   ]
  },
  {
   "cell_type": "code",
   "execution_count": 23,
   "metadata": {},
   "outputs": [],
   "source": [
    "bow_corpus = [dictionary.doc2bow(doc) for doc in processed_text]"
   ]
  },
  {
   "cell_type": "markdown",
   "metadata": {},
   "source": [
    "### LDA Model"
   ]
  },
  {
   "cell_type": "code",
   "execution_count": 24,
   "metadata": {},
   "outputs": [],
   "source": [
    "lda_model = gensim.models.LdaMulticore(bow_corpus, num_topics = 2, id2word=dictionary, passes=2, workers = 2)"
   ]
  },
  {
   "cell_type": "code",
   "execution_count": 25,
   "metadata": {},
   "outputs": [],
   "source": [
    "import pyLDAvis.gensim\n",
    "pyLDAvis.enable_notebook()"
   ]
  },
  {
   "cell_type": "code",
   "execution_count": 26,
   "metadata": {},
   "outputs": [
    {
     "name": "stderr",
     "output_type": "stream",
     "text": [
      "C:\\Users\\corri\\anaconda3\\lib\\site-packages\\ipykernel\\ipkernel.py:287: DeprecationWarning: `should_run_async` will not call `transform_cell` automatically in the future. Please pass the result to `transformed_cell` argument and any exception that happen during thetransform in `preprocessing_exc_tuple` in IPython 7.17 and above.\n",
      "  and should_run_async(code)\n"
     ]
    }
   ],
   "source": [
    "lda_display = pyLDAvis.gensim.prepare(lda_model, bow_corpus, \n",
    "                                          dictionary, mds='mmds')"
   ]
  },
  {
   "cell_type": "code",
   "execution_count": 27,
   "metadata": {},
   "outputs": [
    {
     "name": "stderr",
     "output_type": "stream",
     "text": [
      "C:\\Users\\corri\\anaconda3\\lib\\site-packages\\ipykernel\\ipkernel.py:287: DeprecationWarning: `should_run_async` will not call `transform_cell` automatically in the future. Please pass the result to `transformed_cell` argument and any exception that happen during thetransform in `preprocessing_exc_tuple` in IPython 7.17 and above.\n",
      "  and should_run_async(code)\n"
     ]
    },
    {
     "data": {
      "text/html": [
       "\n",
       "\n",
       "<link rel=\"stylesheet\" type=\"text/css\" href=\"https://cdn.rawgit.com/bmabey/pyLDAvis/files/ldavis.v1.0.0.css\">\n",
       "\n",
       "<div id=\"ldavis_el600027388167243203275206180\"></div>\n",
       "<script type=\"text/javascript\">\n",
       "\n",
       "var ldavis_el600027388167243203275206180_data = {\"mdsDat\": {\"x\": [0.07099595863620667, -0.07099595863620667], \"y\": [-0.06006013974403377, 0.06006013974403377], \"topics\": [1, 2], \"cluster\": [1, 1], \"Freq\": [53.173923173025386, 46.82607682697463]}, \"tinfo\": {\"Term\": [\"company\", \"please\", \"vince\", \"statement\", \"subject\", \"stock\", \"market\", \"investor\", \"billion\", \"dynegy\", \"investment\", \"thanks\", \"message\", \"share\", \"kaminski\", \"energy\", \"attach\", \"security\", \"original\", \"email\", \"adobe\", \"louise\", \"rating\", \"contact\", \"copyright\", \"percent\", \"address\", \"stocks\", \"meter\", \"receive\", \"qmail\", \"sitara\", \"gpgfin\", \"errrectlon\", \"approver\", \"cotten\", \"viaqra\", \"mailwisconsin\", \"lannou\", \"ibuyit\", \"utexas\", \"papayoti\", \"reveffo\", \"squirrelmail\", \"luong\", \"iferc\", \"photoshop\", \"katherine\", \"cialls\", \"duffie\", \"unclaimed\", \"barrister\", \"enerfin\", \"pagemaker\", \"heartwarmers\", \"aimee\", \"macromedia\", \"bengalla\", \"gibner\", \"framemaker\", \"vince\", \"kaminski\", \"adobe\", \"meter\", \"daren\", \"shirley\", \"crenshaw\", \"enronxgate\", \"lottery\", \"stinson\", \"farmer\", \"corel\", \"ticket\", \"vasant\", \"invoice\", \"anita\", \"premiere\", \"anjam\", \"michelle\", \"attach\", \"louise\", \"thanks\", \"thank\", \"unify\", \"sincerely\", \"subject\", \"original\", \"please\", \"message\", \"kitchen\", \"presentation\", \"address\", \"contact\", \"reply\", \"request\", \"kevin\", \"feedback\", \"email\", \"receive\", \"meeting\", \"program\", \"click\", \"account\", \"regard\", \"software\", \"visit\", \"check\", \"enron\", \"would\", \"question\", \"forward\", \"order\", \"office\", \"process\", \"group\", \"money\", \"information\", \"change\", \"business\", \"price\", \"offer\", \"system\", \"labguard\", \"medica\", \"aerofoam\", \"certificao\", \"eyewear\", \"vinoble\", \"xanaax\", \"iaagra\", \"pubiisher\", \"pubiication\", \"0424040\", \"ambieen\", \"homeland\", \"deveiopment\", \"initia\", \"microcap\", \"potentia\", \"000000\", \"techlite\", \"cialiis\", \"width\", \"shouid\", \"1226030\", \"wysak\", \"reieases\", \"sharehoider\", \"otcbb\", \"newsietter\", \"biotec\", \"emerson\", \"investor\", \"billion\", \"statement\", \"stocks\", \"shareholder\", \"ooking\", \"uncertainty\", \"technoiogy\", \"reuters\", \"dynegy\", \"downgrade\", \"couid\", \"resuits\", \"materially\", \"piease\", \"inherent\", \"beiieves\", \"rating\", \"pians\", \"stock\", \"partnership\", \"copyright\", \"percent\", \"losses\", \"investing\", \"growth\", \"company\", \"merger\", \"projection\", \"bond\", \"earnings\", \"expectation\", \"bloomberg\", \"investment\", \"bankruptcy\", \"acquisition\", \"share\", \"chief\", \"market\", \"cent\", \"natural\", \"advice\", \"assets\", \"security\", \"energy\", \"jones\", \"california\", \"financial\", \"industry\", \"exchange\", \"utility\", \"power\", \"trading\", \"expect\", \"enron\", \"price\", \"report\", \"within\", \"business\", \"million\", \"state\", \"information\", \"product\", \"could\", \"credit\", \"include\", \"future\", \"would\", \"provide\", \"base\", \"interest\"], \"Freq\": [25150.0, 18285.0, 8010.0, 6829.0, 12736.0, 6692.0, 10822.0, 4396.0, 4572.0, 4709.0, 6053.0, 7419.0, 8772.0, 6357.0, 4478.0, 10304.0, 4243.0, 7521.0, 4502.0, 9142.0, 2894.0, 3675.0, 2564.0, 5591.0, 2542.0, 2543.0, 4917.0, 2215.0, 2507.0, 6734.0, 210.63791389284083, 877.4048022556377, 155.8885910103939, 97.852734887104, 120.52628316355866, 287.12847178316645, 104.27865428200303, 221.61073941860352, 200.6361590776291, 115.6095136298888, 142.7318403312773, 123.82769232447122, 71.75944272981111, 337.3909592344029, 119.85522129243785, 164.99192030319716, 599.2048621454434, 248.43295721831927, 139.65052363202201, 98.131163636209, 279.794354120163, 88.31685319649281, 70.98713454619879, 107.49021866706934, 97.47316544676362, 323.5244003602174, 616.0954131718896, 74.12863312537684, 591.6589683049472, 120.54289349583367, 7879.899649590675, 4416.664137482475, 2864.321808852729, 2477.4274565756627, 1664.8202943145832, 1631.2712477203547, 1057.4624051125302, 1236.251752398289, 1158.1465456889314, 971.1269232952601, 1135.427880459082, 559.1089876131495, 1469.5215664386005, 414.19586821893427, 681.2740457142387, 362.57629216117095, 485.716401226462, 337.07178291649745, 737.9507675140414, 4076.7285954182325, 3520.1761758679827, 6949.568769693406, 3018.224475651861, 424.6519723238047, 1008.614953424325, 11609.744736593962, 4224.253961954352, 16311.960720692767, 7953.278627512366, 1924.412526370748, 1567.3610931096787, 4441.9392373589, 5004.84440856864, 1756.7798967766346, 3741.0406733171762, 1404.114213845675, 1060.5044751766245, 7675.833868265256, 5737.351612195695, 4509.730383875801, 3814.6978687454603, 3438.007374777645, 4044.2041861884377, 4746.36291187767, 3477.8700375764715, 2385.5688947426042, 2070.5658394360557, 31545.743928445172, 9057.756589247314, 3826.865081671249, 6298.335588347121, 4272.709347539916, 3346.1454330643915, 3062.1714568339166, 4356.277774807922, 3967.4200679143178, 5590.25104323358, 3947.355675968273, 5232.114668429857, 4809.086372762975, 3653.4722467823904, 3662.9174109320393, 138.76037482469127, 154.1517276260413, 265.9488051036573, 87.71081710470358, 101.74944792539237, 314.04084573048476, 171.42841043643924, 120.78940902179427, 308.657939824883, 208.4120015094315, 63.916923772355666, 93.16531311129182, 244.2441981792495, 165.98511506928324, 80.841545225215, 182.43055182335553, 317.8630443551989, 104.69384538844842, 141.9974575282957, 110.15384380706544, 335.5095147099292, 343.0052880899681, 56.80567793897892, 552.5927497121231, 98.67490177354897, 135.7150345359828, 183.82418942655812, 391.8773984249461, 55.22182038541858, 277.8511097680212, 4327.757578828831, 4454.319478234941, 6617.449313004244, 2170.160703286754, 1428.6288707458089, 726.3660884235439, 1174.7724874538014, 428.6732612982235, 1207.1814984879102, 4552.602191185293, 924.9039234304206, 377.4762350195571, 401.3896002073875, 480.67512792993864, 373.15439388478535, 535.9809873787896, 252.75901435071, 2482.588049911335, 249.41063018813205, 6380.84543911463, 2074.7076008268155, 2446.716396443517, 2445.3729463208474, 710.6152479665702, 1193.4488096086363, 1653.4570346107967, 22477.995881930816, 1111.1543436755314, 986.3771839204918, 919.0520201209, 1506.2577612354119, 1331.3460694247713, 758.2315943036646, 5523.375239527529, 1446.4181492533003, 1286.4820256681626, 5609.3203306540445, 2032.946760802136, 9208.46769853924, 1228.7265942080958, 2538.5879573742354, 1837.2683002226252, 2152.1951909420422, 5904.936379078483, 7749.091741007387, 3018.0105718415102, 2384.5268433128317, 4368.716829035682, 2534.7980682863454, 2261.0215435794753, 1848.6186992534267, 5915.55803161084, 4695.374783874297, 3089.5699689772377, 25291.997537196625, 7275.0036073035535, 5923.039745446977, 3867.8543108675044, 7199.045413590801, 4489.669322892286, 4051.356814796523, 5685.431417011354, 3791.9077094249337, 3767.1807705183437, 3425.9456925786435, 3766.819843619716, 3113.2275992857235, 4836.485608967536, 3575.8140078371957, 3138.194842820133, 3150.186889670717], \"Total\": [25150.0, 18285.0, 8010.0, 6829.0, 12736.0, 6692.0, 10822.0, 4396.0, 4572.0, 4709.0, 6053.0, 7419.0, 8772.0, 6357.0, 4478.0, 10304.0, 4243.0, 7521.0, 4502.0, 9142.0, 2894.0, 3675.0, 2564.0, 5591.0, 2542.0, 2543.0, 4917.0, 2215.0, 2507.0, 6734.0, 211.6294079087358, 882.1384186464597, 156.7497710417887, 98.42643656939323, 121.28039968552477, 289.0716259193794, 104.99714181409247, 223.13963113754622, 202.04020855145774, 116.43568072493342, 143.7631204362613, 124.72908862685631, 72.2851279962891, 339.88404463447057, 120.7434207094342, 166.233599209391, 604.1763152784401, 250.51474634510097, 140.82394910061794, 98.95652651139054, 282.2141803991365, 89.08574429444076, 71.60553334422713, 108.42863241272225, 98.32493807921222, 326.37113398726245, 621.5757408979376, 74.79202838424929, 597.0146717834663, 121.65300428124479, 8010.887436630897, 4478.682278729541, 2894.965904094763, 2507.9258088820075, 1684.8504656123298, 1652.7094869905725, 1067.207521940088, 1251.8432970479528, 1176.1497329117335, 985.8034178036155, 1155.4318479881567, 565.2790119684676, 1502.0614580214594, 418.17939790700893, 691.4906333386671, 366.0975669194081, 492.0926375290195, 340.63134141625557, 752.2986874952062, 4243.777360021291, 3675.797928674893, 7419.259125060163, 3181.3468678508716, 430.65163179583556, 1041.1713106325033, 12736.340062477559, 4502.569017089625, 18285.34749386785, 8772.82808322475, 2037.3550160918414, 1656.7236226906568, 4917.717022767854, 5591.557439037358, 1872.0978521803925, 4203.440352327344, 1486.2280352002444, 1105.0700424529782, 9142.318080550636, 6734.976666216801, 5202.588388730179, 4431.276386020296, 3972.303840814131, 4759.887292704272, 5739.577812030019, 4071.298634646316, 2682.735663863821, 2292.2852579940104, 56837.7414656418, 13894.24219821485, 4887.204865657957, 9304.376671269212, 5802.315664096404, 4229.290866254629, 3897.0091587621064, 6754.697170671923, 5868.00613113044, 11275.682460244934, 5891.668722223256, 12431.160082020659, 12084.089980066528, 5253.174514690327, 5987.176981484437, 139.35654306043656, 154.9116840291418, 267.43056796382507, 88.20747213726902, 102.35637914953934, 315.93102166730495, 172.57438256402602, 121.64350532038975, 310.84075352297947, 209.99167753235264, 64.40741985228439, 93.88214577133819, 246.21239330677375, 167.3273274083022, 81.49760488242877, 183.94050426715572, 320.514484974198, 105.5681466164097, 143.2049390977117, 111.09128986913373, 338.3943991512086, 345.95785699473663, 57.29623095536601, 557.3917501554888, 99.53225513288558, 136.90615879509664, 185.45003531477087, 395.35308578536774, 55.711680218882734, 280.3277136803758, 4396.165681338663, 4572.72066172578, 6829.706411871115, 2215.186903007086, 1452.1296085664464, 734.280609481224, 1195.2599203255916, 432.7146498524234, 1232.1607393284676, 4709.6481465659435, 941.7675632726153, 381.32097486169374, 405.9229732673751, 487.3234162025145, 377.9763666039143, 544.9815854076257, 255.079447507648, 2564.230340158044, 251.7498938083532, 6692.696934027604, 2146.3915577125963, 2542.890753981067, 2543.049894083721, 725.74346386289, 1232.0958551349609, 1724.0021219641656, 25150.96612931024, 1152.4314502024536, 1019.4311864668891, 948.2648360770888, 1579.4013427313382, 1392.8480816324347, 779.568087268417, 6053.602528263347, 1527.4973447886757, 1355.3738902079692, 6357.831800670576, 2192.9873011537434, 10822.62216562061, 1295.2120062849876, 2858.280885520299, 2011.8038459222096, 2415.036777556903, 7521.515109701955, 10304.079620971474, 3556.4742283640144, 2743.9384113365095, 5552.4304784610595, 2952.86065286489, 2600.968737335969, 2049.7448075430334, 8338.748372806003, 6321.240002166675, 3918.611442910522, 56837.7414656418, 12084.089980066528, 9290.059674373668, 5323.766878644425, 12431.160082020659, 6631.131351414026, 5963.681466481854, 11275.682460244934, 5995.044012864021, 6584.270532527733, 5425.222387384218, 6956.508132011144, 4504.339858741616, 13894.24219821485, 7025.944479209661, 4627.070492698496, 6325.192266940554], \"Category\": [\"Default\", \"Default\", \"Default\", \"Default\", \"Default\", \"Default\", \"Default\", \"Default\", \"Default\", \"Default\", \"Default\", \"Default\", \"Default\", \"Default\", \"Default\", \"Default\", \"Default\", \"Default\", \"Default\", \"Default\", \"Default\", \"Default\", \"Default\", \"Default\", \"Default\", \"Default\", \"Default\", \"Default\", \"Default\", \"Default\", \"Topic1\", \"Topic1\", \"Topic1\", \"Topic1\", \"Topic1\", \"Topic1\", \"Topic1\", \"Topic1\", \"Topic1\", \"Topic1\", \"Topic1\", \"Topic1\", \"Topic1\", \"Topic1\", \"Topic1\", \"Topic1\", \"Topic1\", \"Topic1\", \"Topic1\", \"Topic1\", \"Topic1\", \"Topic1\", \"Topic1\", \"Topic1\", \"Topic1\", \"Topic1\", \"Topic1\", \"Topic1\", \"Topic1\", \"Topic1\", \"Topic1\", \"Topic1\", \"Topic1\", \"Topic1\", \"Topic1\", \"Topic1\", \"Topic1\", \"Topic1\", \"Topic1\", \"Topic1\", \"Topic1\", \"Topic1\", \"Topic1\", \"Topic1\", \"Topic1\", \"Topic1\", \"Topic1\", \"Topic1\", \"Topic1\", \"Topic1\", \"Topic1\", \"Topic1\", \"Topic1\", \"Topic1\", \"Topic1\", \"Topic1\", \"Topic1\", \"Topic1\", \"Topic1\", \"Topic1\", \"Topic1\", \"Topic1\", \"Topic1\", \"Topic1\", \"Topic1\", \"Topic1\", \"Topic1\", \"Topic1\", \"Topic1\", \"Topic1\", \"Topic1\", \"Topic1\", \"Topic1\", \"Topic1\", \"Topic1\", \"Topic1\", \"Topic1\", \"Topic1\", \"Topic1\", \"Topic1\", \"Topic1\", \"Topic1\", \"Topic1\", \"Topic1\", \"Topic1\", \"Topic1\", \"Topic1\", \"Topic1\", \"Topic1\", \"Topic1\", \"Topic1\", \"Topic1\", \"Topic2\", \"Topic2\", \"Topic2\", \"Topic2\", \"Topic2\", \"Topic2\", \"Topic2\", \"Topic2\", \"Topic2\", \"Topic2\", \"Topic2\", \"Topic2\", \"Topic2\", \"Topic2\", \"Topic2\", \"Topic2\", \"Topic2\", \"Topic2\", \"Topic2\", \"Topic2\", \"Topic2\", \"Topic2\", \"Topic2\", \"Topic2\", \"Topic2\", \"Topic2\", \"Topic2\", \"Topic2\", \"Topic2\", \"Topic2\", \"Topic2\", \"Topic2\", \"Topic2\", \"Topic2\", \"Topic2\", \"Topic2\", \"Topic2\", \"Topic2\", \"Topic2\", \"Topic2\", \"Topic2\", \"Topic2\", \"Topic2\", \"Topic2\", \"Topic2\", \"Topic2\", \"Topic2\", \"Topic2\", \"Topic2\", \"Topic2\", \"Topic2\", \"Topic2\", \"Topic2\", \"Topic2\", \"Topic2\", \"Topic2\", \"Topic2\", \"Topic2\", \"Topic2\", \"Topic2\", \"Topic2\", \"Topic2\", \"Topic2\", \"Topic2\", \"Topic2\", \"Topic2\", \"Topic2\", \"Topic2\", \"Topic2\", \"Topic2\", \"Topic2\", \"Topic2\", \"Topic2\", \"Topic2\", \"Topic2\", \"Topic2\", \"Topic2\", \"Topic2\", \"Topic2\", \"Topic2\", \"Topic2\", \"Topic2\", \"Topic2\", \"Topic2\", \"Topic2\", \"Topic2\", \"Topic2\", \"Topic2\", \"Topic2\", \"Topic2\", \"Topic2\", \"Topic2\", \"Topic2\", \"Topic2\", \"Topic2\", \"Topic2\", \"Topic2\", \"Topic2\", \"Topic2\", \"Topic2\", \"Topic2\"], \"logprob\": [30.0, 29.0, 28.0, 27.0, 26.0, 25.0, 24.0, 23.0, 22.0, 21.0, 20.0, 19.0, 18.0, 17.0, 16.0, 15.0, 14.0, 13.0, 12.0, 11.0, 10.0, 9.0, 8.0, 7.0, 6.0, 5.0, 4.0, 3.0, 2.0, 1.0, -8.889399528503418, -7.462500095367432, -9.190400123596191, -9.656000137329102, -9.447600364685059, -8.57960033416748, -9.592399597167969, -8.838600158691406, -8.937999725341797, -9.489299774169922, -9.278499603271484, -9.420599937438965, -9.96619987487793, -8.418299674987793, -9.453200340270996, -9.133600234985352, -7.843900203704834, -8.724300384521484, -9.300399780273438, -9.653200149536133, -8.605400085449219, -9.758600234985352, -9.97700023651123, -9.562100410461426, -9.659899711608887, -8.460200309753418, -7.816100120544434, -9.933699607849121, -7.856599807739258, -9.447500228881836, -5.267399787902832, -5.846399784088135, -6.279399871826172, -6.424499988555908, -6.822000026702881, -6.842400074005127, -7.275899887084961, -7.119699954986572, -7.184899806976318, -7.361000061035156, -7.204699993133545, -7.9131999015808105, -6.946800231933594, -8.213199615478516, -7.7154998779296875, -8.34630012512207, -8.053899765014648, -8.41919994354248, -7.6356000900268555, -5.926499843597412, -6.073200225830078, -5.393099784851074, -6.227099895477295, -8.188199996948242, -7.323200225830078, -4.879899978637695, -5.890900135040283, -4.53980016708374, -5.258200168609619, -6.67710018157959, -6.882400035858154, -5.840700149536133, -5.72130012512207, -6.7683000564575195, -6.012400150299072, -6.992300033569336, -7.2729997634887695, -5.293700218200684, -5.584799766540527, -5.825500011444092, -5.9928998947143555, -6.09689998626709, -5.934500217437744, -5.774400234222412, -6.085299968719482, -6.462299823760986, -6.603899955749512, -3.8803000450134277, -5.1280999183654785, -5.989699840545654, -5.491499900817871, -5.879499912261963, -6.123899936676025, -6.212600231170654, -5.860099792480469, -5.95359992980957, -5.6107001304626465, -5.958700180053711, -5.6768999099731445, -5.761199951171875, -6.036099910736084, -6.0335001945495605, -9.17959976196289, -9.074399948120117, -8.52910041809082, -9.638299942016602, -9.489899635314941, -8.362899780273438, -8.968199729919434, -9.318300247192383, -8.38010025024414, -8.772899627685547, -9.95479965209961, -9.57800006866455, -8.6141996383667, -9.000499725341797, -9.719900131225586, -8.906000137329102, -8.350799560546875, -9.461299896240234, -9.156599998474121, -9.410499572753906, -8.296699523925781, -8.2746000289917, -10.072699546813965, -7.797800064086914, -9.520500183105469, -9.201800346374512, -8.89840030670166, -8.141400337219238, -10.10099983215332, -8.485300064086914, -5.73960018157959, -5.710700035095215, -5.314899921417236, -6.429800033569336, -6.847899913787842, -7.5243000984191895, -7.043499946594238, -8.0516996383667, -7.016300201416016, -5.688899993896484, -7.282700061798096, -8.178899765014648, -8.117400169372559, -7.93720006942749, -8.190400123596191, -7.8282999992370605, -8.579899787902832, -6.295300006866455, -8.593299865722656, -5.35129976272583, -6.474800109863281, -6.309899806976318, -6.310400009155273, -7.546199798583984, -7.0278000831604, -6.7017998695373535, -4.092100143432617, -7.0991997718811035, -7.218299865722656, -7.289000034332275, -6.795000076293945, -6.918399810791016, -7.481400012969971, -5.49560022354126, -6.8354997634887695, -6.952700138092041, -5.480199813842773, -6.495100021362305, -4.984499931335449, -6.998600006103516, -6.2729997634887695, -6.59630012512207, -6.4380998611450195, -5.428800106048584, -5.1570000648498535, -6.099999904632568, -6.335599899291992, -5.730199813842773, -6.274499893188477, -6.388800144195557, -6.590199947357178, -5.427000045776367, -5.6579999923706055, -6.076600074768066, -3.974100112915039, -5.220200061798096, -5.42579984664917, -5.851900100708008, -5.2307000160217285, -5.7027997970581055, -5.805600166320801, -5.466700077056885, -5.871799945831299, -5.878300189971924, -5.973199844360352, -5.878399848937988, -6.068999767303467, -5.628399848937988, -5.9303998947143555, -6.060999870300293, -6.057199954986572], \"loglift\": [30.0, 29.0, 28.0, 27.0, 26.0, 25.0, 24.0, 23.0, 22.0, 21.0, 20.0, 19.0, 18.0, 17.0, 16.0, 15.0, 14.0, 13.0, 12.0, 11.0, 10.0, 9.0, 8.0, 7.0, 6.0, 5.0, 4.0, 3.0, 2.0, 1.0, 0.6269, 0.6262, 0.6261, 0.6258, 0.6254, 0.6249, 0.6247, 0.6247, 0.6246, 0.6245, 0.6244, 0.6243, 0.6243, 0.6242, 0.6242, 0.6241, 0.6233, 0.6233, 0.6232, 0.6232, 0.623, 0.6229, 0.6229, 0.6229, 0.6229, 0.6228, 0.6227, 0.6227, 0.6226, 0.6224, 0.6151, 0.6177, 0.621, 0.6194, 0.6196, 0.6185, 0.6224, 0.6191, 0.6162, 0.6166, 0.6141, 0.6206, 0.6097, 0.622, 0.6167, 0.6219, 0.6186, 0.6211, 0.6123, 0.5914, 0.5883, 0.5662, 0.579, 0.6176, 0.5998, 0.539, 0.5678, 0.5174, 0.5335, 0.5746, 0.5762, 0.5298, 0.5208, 0.568, 0.5151, 0.5748, 0.5904, 0.4568, 0.4713, 0.4887, 0.4818, 0.4871, 0.4687, 0.4416, 0.4741, 0.5142, 0.5299, 0.0428, 0.2037, 0.387, 0.2414, 0.3256, 0.3974, 0.3905, 0.193, 0.2402, -0.07, 0.2311, -0.2338, -0.2898, 0.2684, 0.1402, 0.7544, 0.7538, 0.7532, 0.7531, 0.7528, 0.7527, 0.7521, 0.7517, 0.7517, 0.7512, 0.7511, 0.7511, 0.7507, 0.7507, 0.7506, 0.7505, 0.7504, 0.7504, 0.7503, 0.7503, 0.7502, 0.7502, 0.7501, 0.7501, 0.7501, 0.75, 0.7499, 0.7499, 0.7499, 0.7499, 0.743, 0.7325, 0.7272, 0.7382, 0.7424, 0.7479, 0.7414, 0.7493, 0.7382, 0.7248, 0.7407, 0.7486, 0.7475, 0.745, 0.7459, 0.7421, 0.7496, 0.7264, 0.7494, 0.711, 0.7248, 0.7202, 0.7196, 0.7377, 0.7269, 0.7169, 0.6464, 0.7223, 0.7258, 0.7274, 0.7113, 0.7136, 0.731, 0.6671, 0.7042, 0.7066, 0.6335, 0.683, 0.5972, 0.706, 0.6401, 0.668, 0.6435, 0.5168, 0.4738, 0.5946, 0.6183, 0.519, 0.6061, 0.6187, 0.6555, 0.4154, 0.4614, 0.521, -0.051, 0.2513, 0.3086, 0.4392, 0.2125, 0.3687, 0.3721, 0.074, 0.3007, 0.2004, 0.299, 0.1453, 0.3893, -0.2966, 0.0833, 0.3705, 0.0617]}, \"token.table\": {\"Topic\": [1, 2, 2, 2, 1, 2, 1, 2, 1, 2, 1, 2, 1, 2, 1, 2, 1, 2, 1, 2, 1, 2, 1, 2, 1, 2, 1, 2, 1, 2, 1, 2, 1, 2, 1, 2, 1, 2, 1, 2, 1, 2, 2, 1, 2, 1, 2, 1, 2, 1, 2, 1, 2, 2, 1, 2, 1, 2, 1, 2, 1, 2, 1, 2, 1, 2, 1, 2, 1, 2, 1, 2, 1, 2, 1, 2, 1, 2, 1, 2, 1, 2, 1, 2, 1, 2, 1, 2, 1, 2, 1, 2, 1, 2, 1, 2, 1, 2, 1, 2, 1, 2, 1, 2, 1, 2, 1, 2, 1, 2, 1, 2, 1, 2, 1, 2, 1, 2, 1, 2, 1, 2, 1, 2, 1, 2, 1, 2, 1, 2, 1, 2, 1, 2, 1, 2, 1, 2, 1, 2, 1, 2, 1, 2, 1, 2, 1, 2, 1, 2, 1, 2, 1, 2, 1, 2, 1, 2, 1, 2, 1, 2, 1, 2, 1, 2, 1, 2, 1, 2, 1, 2, 1, 2, 1, 2, 1, 2, 1, 2, 1, 2, 1, 2, 1, 2, 1, 2, 1, 2, 1, 2, 1, 2, 1, 2, 1, 2, 1, 2, 1, 2, 1, 2, 1, 2, 1, 2, 1, 2, 1, 2, 1, 2, 1, 2, 1, 2, 1, 2, 1, 2, 1, 2, 1, 2, 1, 2, 1, 2, 1, 2, 1, 2, 1, 2, 1, 2, 1, 2, 1, 2, 1, 2, 1, 2, 1, 2, 1, 2, 1, 2, 1, 2, 1, 2, 1, 2, 1, 2, 1, 2, 1, 2, 1, 2, 1, 2, 1, 2, 1, 2, 1, 2, 1, 2, 1, 2, 1, 2, 1, 2, 1, 2, 1, 2, 1, 2, 1, 2, 1, 2, 1, 2, 1, 2, 1, 2, 1, 2, 1, 2, 1, 2, 1, 2, 1, 2, 1, 2, 1, 2, 1, 2, 1, 2, 1, 2, 1, 2, 1, 2, 1, 2, 1, 2, 1, 2, 1, 2, 1, 2, 1, 2, 1, 2, 1, 2, 1, 2, 1, 2, 1, 2, 1, 2, 1, 2, 1, 2, 1, 2, 1, 2, 1, 2, 1, 2, 1, 2, 1, 2, 1, 2, 1, 2, 1, 2, 1, 2, 1, 2], \"Freq\": [0.009472554288876358, 0.9946182003320176, 0.9936743335904653, 0.9948298352190604, 0.8495999487631671, 0.15042372980079813, 0.05090846186317829, 0.9488156805224244, 0.9032646611089254, 0.09679288128947514, 0.9893035340931084, 0.01070824356036535, 0.086986611718987, 0.9131108898730236, 0.0037392883229985453, 0.9946506939176131, 0.9927348538509077, 0.009191989387508405, 0.010651652577643743, 0.9906036897208681, 0.991538957919133, 0.010926049123075847, 0.9893393796320755, 0.011742900648451935, 0.9976880049352423, 0.008245355412687953, 0.10890103307911352, 0.8910837383507692, 0.9607007281785267, 0.03935173451209564, 0.05302791541755909, 0.9466464900467957, 0.987812367702152, 0.011225140542069908, 0.3218018835783111, 0.6781828815773944, 0.007840694417138543, 0.9918478437680258, 0.9894102566629135, 0.013370408873823155, 0.025805206293853494, 0.9740371934985038, 0.9872256550854929, 0.02693799341322881, 0.9723332860584495, 0.030582173773279573, 0.9691385412980665, 0.4208778557656181, 0.5791092667539535, 0.13083384033577464, 0.8691886050162188, 0.05095690873751668, 0.9488794066425456, 0.9976479074590625, 0.6699290449091266, 0.32995745206570615, 0.9034652178552777, 0.09684658540022774, 0.07295983880792337, 0.9270459518531762, 0.00900160580706198, 0.9901766387768179, 0.9941490839741383, 0.007101064885529559, 0.865492705939477, 0.1344308042384179, 0.10627822351861703, 0.8937231231767578, 0.8950994520878356, 0.10497969597913276, 0.03775230998410196, 0.9622906513655989, 0.9888921898115371, 0.010614227439837608, 0.9928335203678649, 0.006918700490368397, 0.010489850450662495, 0.9886684049749401, 0.4278378274530801, 0.5721210848476226, 0.36846415819717615, 0.6314948504169712, 0.9904352979807228, 0.009370248798303907, 0.9882182626782161, 0.011870489641780373, 0.005976310119146643, 0.9920674797783429, 0.018051163220068323, 0.9821956457978351, 0.9903338713967448, 0.010105447667313722, 0.033335823635673736, 0.9667388854345385, 0.0462200442819413, 0.9535258450493643, 0.8396120034731585, 0.16035320441527492, 0.0071345068731961375, 0.9916964553742632, 0.9915434839188172, 0.013965401181955172, 0.2479600404872564, 0.7520322323818981, 0.5550185349829468, 0.4449860136558895, 0.9873440253382242, 0.012781152431562772, 0.9956674590256798, 0.010159872030874283, 0.13072052544093382, 0.8692914941822099, 0.21155452947492695, 0.7885446273552765, 0.04451311009262062, 0.955595960214162, 0.009769786781330283, 0.9965182516956889, 0.9823167000081114, 0.017309545374592273, 0.9601201364981773, 0.04072140069973419, 0.21323995043125035, 0.7868626211436932, 0.6768857519974939, 0.3230737647673018, 0.9946322387588955, 0.00822010114676773, 0.3088132875454486, 0.6911112610560615, 0.9916004211948662, 0.008375003557389073, 0.9952167646765568, 0.006379594645362544, 0.644884572903316, 0.3550122143760679, 0.041183243973684495, 0.9588155251901475, 0.9865249029890584, 0.010170359824629467, 0.008123067946088547, 0.9910142894228027, 0.008220743042270594, 0.9947099081147418, 0.9962581854443513, 0.00858843263314096, 0.9925791222998358, 0.0060156310442414295, 0.45856339696073395, 0.541507309200967, 0.14155764498892046, 0.8584895455667784, 0.49575713219211853, 0.5041823428465463, 0.016514319457726884, 0.9835194699268456, 0.012270299249194306, 0.9938942391847387, 0.501961026006206, 0.49800857698253503, 0.03165338138056477, 0.9682688201798403, 0.08755117263241365, 0.9123492951864539, 0.015468024849166635, 0.9844942874587235, 0.9848289581479709, 0.0144615118670774, 0.15127341447022974, 0.8485932432549318, 0.9862275832732125, 0.01384335751934326, 0.9899616833667878, 0.007983561962635385, 0.9446733386447218, 0.05517322918010483, 0.9443616771762808, 0.05546406939756743, 0.007175838163309756, 0.997441504700056, 0.994851477540458, 0.004949509838509741, 0.02066846034018689, 0.9796850201248586, 0.9845685184429697, 0.015304173861807819, 0.9576152085348563, 0.042439764923703854, 0.9938429712768928, 0.008282024760640773, 0.9910296677764759, 0.008044071978705162, 0.9948927443693598, 0.008962997697021259, 0.14913206571389598, 0.850810446774197, 0.014364177396907695, 0.9870241897018002, 0.006455291001883893, 0.9941148142901196, 0.8668761898922351, 0.13320292673953857, 0.035576953399525255, 0.9640486640700624, 0.9065491680165931, 0.09347042848907411, 0.9876687704347228, 0.011962076347614729, 0.9809933371772667, 0.018609629702549774, 0.010873080988704882, 0.9894503699721442, 0.32287099840714995, 0.6771091932966387, 0.6760388301154994, 0.3239601250440041, 0.1119554070494194, 0.888296182807737, 0.007588153748795229, 0.9915187565092433, 0.6953890432888737, 0.30457773590533754, 0.7911491798063885, 0.20878204595607922, 0.010895017377146965, 0.988722826976087, 0.7364301164172244, 0.263687825443097, 0.9381310944857684, 0.061742529419281156, 0.01078457599970434, 0.9921809919727992, 0.98682421440783, 0.009222656209418971, 0.9941546223508657, 0.00801737598670053, 0.033544671633320346, 0.9667388005436072, 0.03853640474297894, 0.961443975475342, 0.9914324425709165, 0.008275729904598635, 0.007944392626129636, 0.9890768819531397, 0.01322834029260765, 0.9868341858285307, 0.8920803941773802, 0.10790060187052299, 0.009359951392653925, 0.992154847621316, 0.29057118546732885, 0.7094589901876672, 0.9876189215924609, 0.012192826192499517, 0.9458427335363648, 0.053720487099385116, 0.39796128694281074, 0.6020312668972652, 0.7857307682008762, 0.2142668815962546, 0.3674701962609208, 0.6325224621976449, 0.8609257621653859, 0.13923753479843856, 0.032370993195107466, 0.967206039102302, 0.49103718513700606, 0.5089707171159228, 0.009524186974942696, 0.9905154453940405, 0.0064341627580443575, 0.9940781461178533, 0.9970258958102495, 0.004725241212370851, 0.7830651886300201, 0.21689289259153938, 0.031978406430892635, 0.9683217459500782, 0.8518218079028047, 0.14818165666498154, 0.8268900876389369, 0.17300924083975228, 0.010046994300138175, 0.9946524357136792, 0.9385193182897248, 0.06142841297855342, 0.36243039528451704, 0.637563181250429, 0.8899852707386934, 0.1099099692812821, 0.012317607845039553, 0.9878721491721721, 0.02028956060848449, 0.9795799861776311, 0.9960555095606424, 0.013834104299453366, 0.21498328148197718, 0.7850811856221863, 0.11780745755510569, 0.8822189978993161, 0.007304273297862882, 0.993381168509352, 0.016527450344940617, 0.9840719392883392, 0.9868643054563065, 0.012706407366390213, 0.008671576434367964, 0.9914502389960704, 0.9691008479546374, 0.03169507233151936, 0.9941750426714845, 0.0056680447130643356, 0.8542728775537594, 0.14565377124478993, 0.9915146218835538, 0.005884359773789637, 0.320607331351643, 0.6792783992183608, 0.03104086577301629, 0.9688557019813623, 0.9849833977684945, 0.015216015413519482, 0.046617978234409795, 0.9534273048518234, 0.02031431295432142, 0.9796013135750552, 0.9115648563910553, 0.0884869589278828, 0.6118075365615483, 0.38816290334945075, 0.006982999373490039, 0.9915859110355856, 0.00924396713021894, 0.9914154747159813, 0.9486548073391259, 0.05123616090002568, 0.9367512150269643, 0.06334864331837026, 0.9786550291599311, 0.02196980677705968, 0.2572280121372817, 0.7427340202856934, 0.016732762188287845, 0.9830497785619109, 0.9921542553389592, 0.007086816109563994, 0.9868765578055098, 0.013932374933724843, 0.9946918205869103, 0.006955886857251121, 0.09806098752406772, 0.9020635120995086, 0.9900057297706992, 0.009565272751407722, 0.9905031527824061, 0.009524068776753904, 0.9836613062327656, 0.016352745065544707, 0.006330495781785318, 0.993887837740295, 0.8893906440873692, 0.11070788822043112, 0.008865394957850577, 0.9929242352792647, 0.27349056282696155, 0.7265532259716259, 0.651924723261538, 0.3480578451857803, 0.008970351639767202, 0.9921208913582527, 0.00579460279760233, 0.9908770783899985], \"Term\": [\"000000\", \"000000\", \"0424040\", \"1226030\", \"account\", \"account\", \"acquisition\", \"acquisition\", \"address\", \"address\", \"adobe\", \"adobe\", \"advice\", \"advice\", \"aerofoam\", \"aerofoam\", \"aimee\", \"aimee\", \"ambieen\", \"ambieen\", \"anita\", \"anita\", \"anjam\", \"anjam\", \"approver\", \"approver\", \"assets\", \"assets\", \"attach\", \"attach\", \"bankruptcy\", \"bankruptcy\", \"barrister\", \"barrister\", \"base\", \"base\", \"beiieves\", \"beiieves\", \"bengalla\", \"bengalla\", \"billion\", \"billion\", \"biotec\", \"bloomberg\", \"bloomberg\", \"bond\", \"bond\", \"business\", \"business\", \"california\", \"california\", \"cent\", \"cent\", \"certificao\", \"change\", \"change\", \"check\", \"check\", \"chief\", \"chief\", \"cialiis\", \"cialiis\", \"cialls\", \"cialls\", \"click\", \"click\", \"company\", \"company\", \"contact\", \"contact\", \"copyright\", \"copyright\", \"corel\", \"corel\", \"cotten\", \"cotten\", \"couid\", \"couid\", \"could\", \"could\", \"credit\", \"credit\", \"crenshaw\", \"crenshaw\", \"daren\", \"daren\", \"deveiopment\", \"deveiopment\", \"downgrade\", \"downgrade\", \"duffie\", \"duffie\", \"dynegy\", \"dynegy\", \"earnings\", \"earnings\", \"email\", \"email\", \"emerson\", \"emerson\", \"enerfin\", \"enerfin\", \"energy\", \"energy\", \"enron\", \"enron\", \"enronxgate\", \"enronxgate\", \"errrectlon\", \"errrectlon\", \"exchange\", \"exchange\", \"expect\", \"expect\", \"expectation\", \"expectation\", \"eyewear\", \"eyewear\", \"farmer\", \"farmer\", \"feedback\", \"feedback\", \"financial\", \"financial\", \"forward\", \"forward\", \"framemaker\", \"framemaker\", \"future\", \"future\", \"gibner\", \"gibner\", \"gpgfin\", \"gpgfin\", \"group\", \"group\", \"growth\", \"growth\", \"heartwarmers\", \"heartwarmers\", \"homeland\", \"homeland\", \"iaagra\", \"iaagra\", \"ibuyit\", \"ibuyit\", \"iferc\", \"iferc\", \"include\", \"include\", \"industry\", \"industry\", \"information\", \"information\", \"inherent\", \"inherent\", \"initia\", \"initia\", \"interest\", \"interest\", \"investing\", \"investing\", \"investment\", \"investment\", \"investor\", \"investor\", \"invoice\", \"invoice\", \"jones\", \"jones\", \"kaminski\", \"kaminski\", \"katherine\", \"katherine\", \"kevin\", \"kevin\", \"kitchen\", \"kitchen\", \"labguard\", \"labguard\", \"lannou\", \"lannou\", \"losses\", \"losses\", \"lottery\", \"lottery\", \"louise\", \"louise\", \"luong\", \"luong\", \"macromedia\", \"macromedia\", \"mailwisconsin\", \"mailwisconsin\", \"market\", \"market\", \"materially\", \"materially\", \"medica\", \"medica\", \"meeting\", \"meeting\", \"merger\", \"merger\", \"message\", \"message\", \"meter\", \"meter\", \"michelle\", \"michelle\", \"microcap\", \"microcap\", \"million\", \"million\", \"money\", \"money\", \"natural\", \"natural\", \"newsietter\", \"newsietter\", \"offer\", \"offer\", \"office\", \"office\", \"ooking\", \"ooking\", \"order\", \"order\", \"original\", \"original\", \"otcbb\", \"otcbb\", \"pagemaker\", \"pagemaker\", \"papayoti\", \"papayoti\", \"partnership\", \"partnership\", \"percent\", \"percent\", \"photoshop\", \"photoshop\", \"pians\", \"pians\", \"piease\", \"piease\", \"please\", \"please\", \"potentia\", \"potentia\", \"power\", \"power\", \"premiere\", \"premiere\", \"presentation\", \"presentation\", \"price\", \"price\", \"process\", \"process\", \"product\", \"product\", \"program\", \"program\", \"projection\", \"projection\", \"provide\", \"provide\", \"pubiication\", \"pubiication\", \"pubiisher\", \"pubiisher\", \"qmail\", \"qmail\", \"question\", \"question\", \"rating\", \"rating\", \"receive\", \"receive\", \"regard\", \"regard\", \"reieases\", \"reieases\", \"reply\", \"reply\", \"report\", \"report\", \"request\", \"request\", \"resuits\", \"resuits\", \"reuters\", \"reuters\", \"reveffo\", \"reveffo\", \"security\", \"security\", \"share\", \"share\", \"sharehoider\", \"sharehoider\", \"shareholder\", \"shareholder\", \"shirley\", \"shirley\", \"shouid\", \"shouid\", \"sincerely\", \"sincerely\", \"sitara\", \"sitara\", \"software\", \"software\", \"squirrelmail\", \"squirrelmail\", \"state\", \"state\", \"statement\", \"statement\", \"stinson\", \"stinson\", \"stock\", \"stock\", \"stocks\", \"stocks\", \"subject\", \"subject\", \"system\", \"system\", \"techlite\", \"techlite\", \"technoiogy\", \"technoiogy\", \"thank\", \"thank\", \"thanks\", \"thanks\", \"ticket\", \"ticket\", \"trading\", \"trading\", \"uncertainty\", \"uncertainty\", \"unclaimed\", \"unclaimed\", \"unify\", \"unify\", \"utexas\", \"utexas\", \"utility\", \"utility\", \"vasant\", \"vasant\", \"viaqra\", \"viaqra\", \"vince\", \"vince\", \"vinoble\", \"vinoble\", \"visit\", \"visit\", \"width\", \"width\", \"within\", \"within\", \"would\", \"would\", \"wysak\", \"wysak\", \"xanaax\", \"xanaax\"]}, \"R\": 30, \"lambda.step\": 0.01, \"plot.opts\": {\"xlab\": \"PC1\", \"ylab\": \"PC2\"}, \"topic.order\": [2, 1]};\n",
       "if(typeof(window.LDAvis) !== \"undefined\"){\n",
       "   !function(LDAvis){\n",
       "       new LDAvis(\"#\" + \"ldavis_el600027388167243203275206180\", ldavis_el600027388167243203275206180_data);\n",
       "   }(LDAvis);\n",
       "}else{\n",
       "  require.config({paths: {d3: \"https://cdnjs.cloudflare.com/ajax/libs/d3/3.5.5/d3.min\"}});\n",
       "  require([\"d3\"], function(d3){\n",
       "    window.d3 = d3;\n",
       "    $.getScript(\"https://cdn.rawgit.com/bmabey/pyLDAvis/files/ldavis.v1.0.0.js\", function(){\n",
       "       new LDAvis(\"#\" + \"ldavis_el600027388167243203275206180\", ldavis_el600027388167243203275206180_data);\n",
       "    });\n",
       "  });\n",
       "}\n",
       "</script>"
      ],
      "text/plain": [
       "<IPython.core.display.HTML object>"
      ]
     },
     "execution_count": 27,
     "metadata": {},
     "output_type": "execute_result"
    }
   ],
   "source": [
    "pyLDAvis.display(lda_display, template_type='notebook')"
   ]
  },
  {
   "cell_type": "markdown",
   "metadata": {},
   "source": [
    "### Classification"
   ]
  },
  {
   "cell_type": "markdown",
   "metadata": {},
   "source": [
    "Here we look at classification using our LDA model and we want to see how well the model identifies spam vs non-spam emails. We need to generate a classification output from the Bag of Words Corpus for each document. We do this by using only 2 topics and creating a list of the assignment of a document to a topic. In the case where the LDA model produces probablities for both topics, we take the largest one to be the topic assignment."
   ]
  },
  {
   "cell_type": "code",
   "execution_count": 30,
   "metadata": {},
   "outputs": [
    {
     "name": "stderr",
     "output_type": "stream",
     "text": [
      "C:\\Users\\corri\\anaconda3\\lib\\site-packages\\ipykernel\\ipkernel.py:287: DeprecationWarning: `should_run_async` will not call `transform_cell` automatically in the future. Please pass the result to `transformed_cell` argument and any exception that happen during thetransform in `preprocessing_exc_tuple` in IPython 7.17 and above.\n",
      "  and should_run_async(code)\n"
     ]
    }
   ],
   "source": [
    "y_pred = []\n",
    "y_actual = list(df_train['spam'])\n",
    "\n",
    "for i in range(0,len(df_train)):\n",
    "    for index, score in sorted(lda_model[bow_corpus[4310]], key=lambda tup: -1*tup[1]):\n",
    "        if score > 0.5:\n",
    "            y_pred.append(index)"
   ]
  },
  {
   "cell_type": "code",
   "execution_count": 31,
   "metadata": {},
   "outputs": [
    {
     "name": "stdout",
     "output_type": "stream",
     "text": [
      "27716 27716\n"
     ]
    },
    {
     "name": "stderr",
     "output_type": "stream",
     "text": [
      "C:\\Users\\corri\\anaconda3\\lib\\site-packages\\ipykernel\\ipkernel.py:287: DeprecationWarning: `should_run_async` will not call `transform_cell` automatically in the future. Please pass the result to `transformed_cell` argument and any exception that happen during thetransform in `preprocessing_exc_tuple` in IPython 7.17 and above.\n",
      "  and should_run_async(code)\n"
     ]
    }
   ],
   "source": [
    "print(len(y_actual), len(y_pred))"
   ]
  },
  {
   "cell_type": "code",
   "execution_count": 53,
   "metadata": {},
   "outputs": [
    {
     "name": "stdout",
     "output_type": "stream",
     "text": [
      "[\"Subject: can we go over guillermo ' s budget today ?\\nfrom guts to glory\\nbecome eight inc hes in lenght .\\nhttp : / / www . gosafeandnatural . com / ab / ng /\\nalexander land\\nspectrometer exports\\nexplain .\\ntel : 906 . 9799305\\nemail : cwkqlhix @ madrid . com\\n\"\n",
      " 1.0]\n"
     ]
    },
    {
     "name": "stderr",
     "output_type": "stream",
     "text": [
      "C:\\Users\\corri\\anaconda3\\lib\\site-packages\\ipykernel\\ipkernel.py:287: DeprecationWarning: `should_run_async` will not call `transform_cell` automatically in the future. Please pass the result to `transformed_cell` argument and any exception that happen during thetransform in `preprocessing_exc_tuple` in IPython 7.17 and above.\n",
      "  and should_run_async(code)\n"
     ]
    }
   ],
   "source": [
    "print(df_train.iloc[3].values)"
   ]
  },
  {
   "cell_type": "code",
   "execution_count": 54,
   "metadata": {},
   "outputs": [
    {
     "name": "stdout",
     "output_type": "stream",
     "text": [
      "\n",
      "Score: 0.8113676905632019\t \n",
      "Topic: 0.021*\"enron\" + 0.011*\"please\" + 0.008*\"subject\" + 0.006*\"would\" + 0.005*\"message\" + 0.005*\"vince\" + 0.005*\"email\" + 0.005*\"thanks\" + 0.004*\"forward\" + 0.004*\"receive\"\n",
      "1 0.8113677\n",
      "\n",
      "Score: 0.18863233923912048\t \n",
      "Topic: 0.019*\"enron\" + 0.017*\"company\" + 0.007*\"market\" + 0.006*\"energy\" + 0.005*\"price\" + 0.005*\"business\" + 0.005*\"statement\" + 0.005*\"stock\" + 0.004*\"report\" + 0.004*\"power\"\n",
      "0 0.18863234\n"
     ]
    },
    {
     "name": "stderr",
     "output_type": "stream",
     "text": [
      "C:\\Users\\corri\\anaconda3\\lib\\site-packages\\ipykernel\\ipkernel.py:287: DeprecationWarning: `should_run_async` will not call `transform_cell` automatically in the future. Please pass the result to `transformed_cell` argument and any exception that happen during thetransform in `preprocessing_exc_tuple` in IPython 7.17 and above.\n",
      "  and should_run_async(code)\n"
     ]
    }
   ],
   "source": [
    "for index, score in sorted(lda_model[bow_corpus[3]], key=lambda tup: -1*tup[1]):\n",
    "    print(\"\\nScore: {}\\t \\nTopic: {}\".format(score, lda_model.print_topic(index, 10)))\n",
    "    print(index, score)"
   ]
  },
  {
   "cell_type": "code",
   "execution_count": 33,
   "metadata": {},
   "outputs": [
    {
     "name": "stderr",
     "output_type": "stream",
     "text": [
      "C:\\Users\\corri\\anaconda3\\lib\\site-packages\\ipykernel\\ipkernel.py:287: DeprecationWarning: `should_run_async` will not call `transform_cell` automatically in the future. Please pass the result to `transformed_cell` argument and any exception that happen during thetransform in `preprocessing_exc_tuple` in IPython 7.17 and above.\n",
      "  and should_run_async(code)\n"
     ]
    }
   ],
   "source": [
    "from sklearn.metrics import confusion_matrix, classification_report\n",
    "\n",
    "def classification_eval(y_true,y_pred):\n",
    "    \n",
    "    print(\"Confusion Matrix\")\n",
    "    C = confusion_matrix(y_true,y_pred)\n",
    "    \n",
    "    print('Classification report')\n",
    "    print(classification_report(y_true, y_pred, target_names = ['Normal', 'Spam'], digits=3))"
   ]
  },
  {
   "cell_type": "code",
   "execution_count": 34,
   "metadata": {},
   "outputs": [
    {
     "name": "stdout",
     "output_type": "stream",
     "text": [
      "Confusion Matrix\n",
      "Classification report\n",
      "              precision    recall  f1-score   support\n",
      "\n",
      "      Normal      0.000     0.000     0.000     15046\n",
      "        Spam      0.457     1.000     0.627     12670\n",
      "\n",
      "    accuracy                          0.457     27716\n",
      "   macro avg      0.229     0.500     0.314     27716\n",
      "weighted avg      0.209     0.457     0.287     27716\n",
      "\n"
     ]
    },
    {
     "name": "stderr",
     "output_type": "stream",
     "text": [
      "C:\\Users\\corri\\anaconda3\\lib\\site-packages\\ipykernel\\ipkernel.py:287: DeprecationWarning: `should_run_async` will not call `transform_cell` automatically in the future. Please pass the result to `transformed_cell` argument and any exception that happen during thetransform in `preprocessing_exc_tuple` in IPython 7.17 and above.\n",
      "  and should_run_async(code)\n",
      "C:\\Users\\corri\\anaconda3\\lib\\site-packages\\sklearn\\metrics\\_classification.py:1221: UndefinedMetricWarning: Precision and F-score are ill-defined and being set to 0.0 in labels with no predicted samples. Use `zero_division` parameter to control this behavior.\n",
      "  _warn_prf(average, modifier, msg_start, len(result))\n"
     ]
    }
   ],
   "source": [
    "classification_eval(y_actual,y_pred)"
   ]
  },
  {
   "cell_type": "markdown",
   "metadata": {},
   "source": [
    "### Perplexity and Coherence"
   ]
  },
  {
   "cell_type": "code",
   "execution_count": 35,
   "metadata": {},
   "outputs": [
    {
     "name": "stderr",
     "output_type": "stream",
     "text": [
      "C:\\Users\\corri\\anaconda3\\lib\\site-packages\\ipykernel\\ipkernel.py:287: DeprecationWarning: `should_run_async` will not call `transform_cell` automatically in the future. Please pass the result to `transformed_cell` argument and any exception that happen during thetransform in `preprocessing_exc_tuple` in IPython 7.17 and above.\n",
      "  and should_run_async(code)\n"
     ]
    }
   ],
   "source": [
    "from gensim.models.coherencemodel import CoherenceModel\n",
    "def getCoherence(m,c,d):\n",
    "    coherence_model_lda = CoherenceModel(model=m,corpus=c, dictionary=d, coherence='u_mass')\n",
    "    coherence_lda = coherence_model_lda.get_coherence()\n",
    "    return(coherence_lda)"
   ]
  },
  {
   "cell_type": "code",
   "execution_count": 36,
   "metadata": {},
   "outputs": [
    {
     "name": "stderr",
     "output_type": "stream",
     "text": [
      "C:\\Users\\corri\\anaconda3\\lib\\site-packages\\ipykernel\\ipkernel.py:287: DeprecationWarning: `should_run_async` will not call `transform_cell` automatically in the future. Please pass the result to `transformed_cell` argument and any exception that happen during thetransform in `preprocessing_exc_tuple` in IPython 7.17 and above.\n",
      "  and should_run_async(code)\n"
     ]
    },
    {
     "name": "stdout",
     "output_type": "stream",
     "text": [
      "lda_model perplexity: -10.205340596467028\n",
      "lda_model coherence: -1.4227806482839416\n"
     ]
    }
   ],
   "source": [
    "print(\"lda_model perplexity: {}\".format(lda_model.log_perplexity(bow_corpus[0:1000])))\n",
    "print(\"lda_model coherence: {}\".format(getCoherence(lda_model,bow_corpus[0:1000],dictionary)))"
   ]
  },
  {
   "cell_type": "markdown",
   "metadata": {},
   "source": [
    "### References"
   ]
  },
  {
   "cell_type": "markdown",
   "metadata": {},
   "source": [
    "1. [Loading .txt files](https://stackoverflow.com/questions/42407976/loading-multiple-text-files-from-a-folder-into-a-python-list-variable)\n",
    "2. [Using Glob to retrieve the data](https://stackoverflow.com/questions/2186525/how-to-use-glob-to-find-files-recursively)\n",
    "3. [WordNet guidance](https://www.nltk.org/howto/wordnet.html)\n",
    "4. [Lemmatisation](https://www.geeksforgeeks.org/python-lemmatization-with-nltk/)\n",
    "5. [Stop Words](https://www.geeksforgeeks.org/removing-stop-words-nltk-python/)\n",
    "6. [Adding Stop Words](https://stackoverflow.com/questions/5511708/adding-words-to-nltk-stoplist)\n",
    "7. [Classificaiton Report](https://scikit-learn.org/stable/modules/generated/sklearn.metrics.classification_report.html)\n",
    "8. [Filtering Extereme values from a Dictionary](https://stackoverflow.com/questions/51634656/filtering-tokens-by-frequency-using-filter-extremes-in-gensim)\n",
    "9. [General LDA - used for index, score function in Classification](https://towardsdatascience.com/topic-modeling-and-latent-dirichlet-allocation-in-python-9bf156893c24)"
   ]
  },
  {
   "cell_type": "code",
   "execution_count": null,
   "metadata": {},
   "outputs": [],
   "source": []
  }
 ],
 "metadata": {
  "kernelspec": {
   "display_name": "Python 3",
   "language": "python",
   "name": "python3"
  },
  "language_info": {
   "codemirror_mode": {
    "name": "ipython",
    "version": 3
   },
   "file_extension": ".py",
   "mimetype": "text/x-python",
   "name": "python",
   "nbconvert_exporter": "python",
   "pygments_lexer": "ipython3",
   "version": "3.8.5"
  }
 },
 "nbformat": 4,
 "nbformat_minor": 4
}
