{
 "cells": [
  {
   "cell_type": "markdown",
   "metadata": {},
   "source": [
    "# Assessment 3"
   ]
  },
  {
   "cell_type": "code",
   "execution_count": 1,
   "metadata": {},
   "outputs": [
    {
     "data": {
      "text/html": [
       "\n",
       "    <div class=\"bk-root\">\n",
       "        <a href=\"https://bokeh.org\" target=\"_blank\" class=\"bk-logo bk-logo-small bk-logo-notebook\"></a>\n",
       "        <span id=\"1001\">Loading BokehJS ...</span>\n",
       "    </div>"
      ]
     },
     "metadata": {},
     "output_type": "display_data"
    },
    {
     "data": {
      "application/javascript": [
       "\n",
       "(function(root) {\n",
       "  function now() {\n",
       "    return new Date();\n",
       "  }\n",
       "\n",
       "  var force = true;\n",
       "\n",
       "  if (typeof root._bokeh_onload_callbacks === \"undefined\" || force === true) {\n",
       "    root._bokeh_onload_callbacks = [];\n",
       "    root._bokeh_is_loading = undefined;\n",
       "  }\n",
       "\n",
       "  var JS_MIME_TYPE = 'application/javascript';\n",
       "  var HTML_MIME_TYPE = 'text/html';\n",
       "  var EXEC_MIME_TYPE = 'application/vnd.bokehjs_exec.v0+json';\n",
       "  var CLASS_NAME = 'output_bokeh rendered_html';\n",
       "\n",
       "  /**\n",
       "   * Render data to the DOM node\n",
       "   */\n",
       "  function render(props, node) {\n",
       "    var script = document.createElement(\"script\");\n",
       "    node.appendChild(script);\n",
       "  }\n",
       "\n",
       "  /**\n",
       "   * Handle when an output is cleared or removed\n",
       "   */\n",
       "  function handleClearOutput(event, handle) {\n",
       "    var cell = handle.cell;\n",
       "\n",
       "    var id = cell.output_area._bokeh_element_id;\n",
       "    var server_id = cell.output_area._bokeh_server_id;\n",
       "    // Clean up Bokeh references\n",
       "    if (id != null && id in Bokeh.index) {\n",
       "      Bokeh.index[id].model.document.clear();\n",
       "      delete Bokeh.index[id];\n",
       "    }\n",
       "\n",
       "    if (server_id !== undefined) {\n",
       "      // Clean up Bokeh references\n",
       "      var cmd = \"from bokeh.io.state import curstate; print(curstate().uuid_to_server['\" + server_id + \"'].get_sessions()[0].document.roots[0]._id)\";\n",
       "      cell.notebook.kernel.execute(cmd, {\n",
       "        iopub: {\n",
       "          output: function(msg) {\n",
       "            var id = msg.content.text.trim();\n",
       "            if (id in Bokeh.index) {\n",
       "              Bokeh.index[id].model.document.clear();\n",
       "              delete Bokeh.index[id];\n",
       "            }\n",
       "          }\n",
       "        }\n",
       "      });\n",
       "      // Destroy server and session\n",
       "      var cmd = \"import bokeh.io.notebook as ion; ion.destroy_server('\" + server_id + \"')\";\n",
       "      cell.notebook.kernel.execute(cmd);\n",
       "    }\n",
       "  }\n",
       "\n",
       "  /**\n",
       "   * Handle when a new output is added\n",
       "   */\n",
       "  function handleAddOutput(event, handle) {\n",
       "    var output_area = handle.output_area;\n",
       "    var output = handle.output;\n",
       "\n",
       "    // limit handleAddOutput to display_data with EXEC_MIME_TYPE content only\n",
       "    if ((output.output_type != \"display_data\") || (!output.data.hasOwnProperty(EXEC_MIME_TYPE))) {\n",
       "      return\n",
       "    }\n",
       "\n",
       "    var toinsert = output_area.element.find(\".\" + CLASS_NAME.split(' ')[0]);\n",
       "\n",
       "    if (output.metadata[EXEC_MIME_TYPE][\"id\"] !== undefined) {\n",
       "      toinsert[toinsert.length - 1].firstChild.textContent = output.data[JS_MIME_TYPE];\n",
       "      // store reference to embed id on output_area\n",
       "      output_area._bokeh_element_id = output.metadata[EXEC_MIME_TYPE][\"id\"];\n",
       "    }\n",
       "    if (output.metadata[EXEC_MIME_TYPE][\"server_id\"] !== undefined) {\n",
       "      var bk_div = document.createElement(\"div\");\n",
       "      bk_div.innerHTML = output.data[HTML_MIME_TYPE];\n",
       "      var script_attrs = bk_div.children[0].attributes;\n",
       "      for (var i = 0; i < script_attrs.length; i++) {\n",
       "        toinsert[toinsert.length - 1].firstChild.setAttribute(script_attrs[i].name, script_attrs[i].value);\n",
       "        toinsert[toinsert.length - 1].firstChild.textContent = bk_div.children[0].textContent\n",
       "      }\n",
       "      // store reference to server id on output_area\n",
       "      output_area._bokeh_server_id = output.metadata[EXEC_MIME_TYPE][\"server_id\"];\n",
       "    }\n",
       "  }\n",
       "\n",
       "  function register_renderer(events, OutputArea) {\n",
       "\n",
       "    function append_mime(data, metadata, element) {\n",
       "      // create a DOM node to render to\n",
       "      var toinsert = this.create_output_subarea(\n",
       "        metadata,\n",
       "        CLASS_NAME,\n",
       "        EXEC_MIME_TYPE\n",
       "      );\n",
       "      this.keyboard_manager.register_events(toinsert);\n",
       "      // Render to node\n",
       "      var props = {data: data, metadata: metadata[EXEC_MIME_TYPE]};\n",
       "      render(props, toinsert[toinsert.length - 1]);\n",
       "      element.append(toinsert);\n",
       "      return toinsert\n",
       "    }\n",
       "\n",
       "    /* Handle when an output is cleared or removed */\n",
       "    events.on('clear_output.CodeCell', handleClearOutput);\n",
       "    events.on('delete.Cell', handleClearOutput);\n",
       "\n",
       "    /* Handle when a new output is added */\n",
       "    events.on('output_added.OutputArea', handleAddOutput);\n",
       "\n",
       "    /**\n",
       "     * Register the mime type and append_mime function with output_area\n",
       "     */\n",
       "    OutputArea.prototype.register_mime_type(EXEC_MIME_TYPE, append_mime, {\n",
       "      /* Is output safe? */\n",
       "      safe: true,\n",
       "      /* Index of renderer in `output_area.display_order` */\n",
       "      index: 0\n",
       "    });\n",
       "  }\n",
       "\n",
       "  // register the mime type if in Jupyter Notebook environment and previously unregistered\n",
       "  if (root.Jupyter !== undefined) {\n",
       "    var events = require('base/js/events');\n",
       "    var OutputArea = require('notebook/js/outputarea').OutputArea;\n",
       "\n",
       "    if (OutputArea.prototype.mime_types().indexOf(EXEC_MIME_TYPE) == -1) {\n",
       "      register_renderer(events, OutputArea);\n",
       "    }\n",
       "  }\n",
       "\n",
       "  \n",
       "  if (typeof (root._bokeh_timeout) === \"undefined\" || force === true) {\n",
       "    root._bokeh_timeout = Date.now() + 5000;\n",
       "    root._bokeh_failed_load = false;\n",
       "  }\n",
       "\n",
       "  var NB_LOAD_WARNING = {'data': {'text/html':\n",
       "     \"<div style='background-color: #fdd'>\\n\"+\n",
       "     \"<p>\\n\"+\n",
       "     \"BokehJS does not appear to have successfully loaded. If loading BokehJS from CDN, this \\n\"+\n",
       "     \"may be due to a slow or bad network connection. Possible fixes:\\n\"+\n",
       "     \"</p>\\n\"+\n",
       "     \"<ul>\\n\"+\n",
       "     \"<li>re-rerun `output_notebook()` to attempt to load from CDN again, or</li>\\n\"+\n",
       "     \"<li>use INLINE resources instead, as so:</li>\\n\"+\n",
       "     \"</ul>\\n\"+\n",
       "     \"<code>\\n\"+\n",
       "     \"from bokeh.resources import INLINE\\n\"+\n",
       "     \"output_notebook(resources=INLINE)\\n\"+\n",
       "     \"</code>\\n\"+\n",
       "     \"</div>\"}};\n",
       "\n",
       "  function display_loaded() {\n",
       "    var el = document.getElementById(\"1001\");\n",
       "    if (el != null) {\n",
       "      el.textContent = \"BokehJS is loading...\";\n",
       "    }\n",
       "    if (root.Bokeh !== undefined) {\n",
       "      if (el != null) {\n",
       "        el.textContent = \"BokehJS \" + root.Bokeh.version + \" successfully loaded.\";\n",
       "      }\n",
       "    } else if (Date.now() < root._bokeh_timeout) {\n",
       "      setTimeout(display_loaded, 100)\n",
       "    }\n",
       "  }\n",
       "\n",
       "\n",
       "  function run_callbacks() {\n",
       "    try {\n",
       "      root._bokeh_onload_callbacks.forEach(function(callback) {\n",
       "        if (callback != null)\n",
       "          callback();\n",
       "      });\n",
       "    } finally {\n",
       "      delete root._bokeh_onload_callbacks\n",
       "    }\n",
       "    console.debug(\"Bokeh: all callbacks have finished\");\n",
       "  }\n",
       "\n",
       "  function load_libs(css_urls, js_urls, callback) {\n",
       "    if (css_urls == null) css_urls = [];\n",
       "    if (js_urls == null) js_urls = [];\n",
       "\n",
       "    root._bokeh_onload_callbacks.push(callback);\n",
       "    if (root._bokeh_is_loading > 0) {\n",
       "      console.debug(\"Bokeh: BokehJS is being loaded, scheduling callback at\", now());\n",
       "      return null;\n",
       "    }\n",
       "    if (js_urls == null || js_urls.length === 0) {\n",
       "      run_callbacks();\n",
       "      return null;\n",
       "    }\n",
       "    console.debug(\"Bokeh: BokehJS not loaded, scheduling load and callback at\", now());\n",
       "    root._bokeh_is_loading = css_urls.length + js_urls.length;\n",
       "\n",
       "    function on_load() {\n",
       "      root._bokeh_is_loading--;\n",
       "      if (root._bokeh_is_loading === 0) {\n",
       "        console.debug(\"Bokeh: all BokehJS libraries/stylesheets loaded\");\n",
       "        run_callbacks()\n",
       "      }\n",
       "    }\n",
       "\n",
       "    function on_error() {\n",
       "      console.error(\"failed to load \" + url);\n",
       "    }\n",
       "\n",
       "    for (var i = 0; i < css_urls.length; i++) {\n",
       "      var url = css_urls[i];\n",
       "      const element = document.createElement(\"link\");\n",
       "      element.onload = on_load;\n",
       "      element.onerror = on_error;\n",
       "      element.rel = \"stylesheet\";\n",
       "      element.type = \"text/css\";\n",
       "      element.href = url;\n",
       "      console.debug(\"Bokeh: injecting link tag for BokehJS stylesheet: \", url);\n",
       "      document.body.appendChild(element);\n",
       "    }\n",
       "\n",
       "    const hashes = {\"https://cdn.bokeh.org/bokeh/release/bokeh-2.2.3.min.js\": \"T2yuo9Oe71Cz/I4X9Ac5+gpEa5a8PpJCDlqKYO0CfAuEszu1JrXLl8YugMqYe3sM\", \"https://cdn.bokeh.org/bokeh/release/bokeh-widgets-2.2.3.min.js\": \"98GDGJ0kOMCUMUePhksaQ/GYgB3+NH9h996V88sh3aOiUNX3N+fLXAtry6xctSZ6\", \"https://cdn.bokeh.org/bokeh/release/bokeh-tables-2.2.3.min.js\": \"89bArO+nlbP3sgakeHjCo1JYxYR5wufVgA3IbUvDY+K7w4zyxJqssu7wVnfeKCq8\"};\n",
       "\n",
       "    for (var i = 0; i < js_urls.length; i++) {\n",
       "      var url = js_urls[i];\n",
       "      var element = document.createElement('script');\n",
       "      element.onload = on_load;\n",
       "      element.onerror = on_error;\n",
       "      element.async = false;\n",
       "      element.src = url;\n",
       "      if (url in hashes) {\n",
       "        element.crossOrigin = \"anonymous\";\n",
       "        element.integrity = \"sha384-\" + hashes[url];\n",
       "      }\n",
       "      console.debug(\"Bokeh: injecting script tag for BokehJS library: \", url);\n",
       "      document.head.appendChild(element);\n",
       "    }\n",
       "  };\n",
       "\n",
       "  function inject_raw_css(css) {\n",
       "    const element = document.createElement(\"style\");\n",
       "    element.appendChild(document.createTextNode(css));\n",
       "    document.body.appendChild(element);\n",
       "  }\n",
       "\n",
       "  \n",
       "  var js_urls = [\"https://cdn.bokeh.org/bokeh/release/bokeh-2.2.3.min.js\", \"https://cdn.bokeh.org/bokeh/release/bokeh-widgets-2.2.3.min.js\", \"https://cdn.bokeh.org/bokeh/release/bokeh-tables-2.2.3.min.js\"];\n",
       "  var css_urls = [];\n",
       "  \n",
       "\n",
       "  var inline_js = [\n",
       "    function(Bokeh) {\n",
       "      Bokeh.set_log_level(\"info\");\n",
       "    },\n",
       "    function(Bokeh) {\n",
       "    \n",
       "    \n",
       "    }\n",
       "  ];\n",
       "\n",
       "  function run_inline_js() {\n",
       "    \n",
       "    if (root.Bokeh !== undefined || force === true) {\n",
       "      \n",
       "    for (var i = 0; i < inline_js.length; i++) {\n",
       "      inline_js[i].call(root, root.Bokeh);\n",
       "    }\n",
       "    if (force === true) {\n",
       "        display_loaded();\n",
       "      }} else if (Date.now() < root._bokeh_timeout) {\n",
       "      setTimeout(run_inline_js, 100);\n",
       "    } else if (!root._bokeh_failed_load) {\n",
       "      console.log(\"Bokeh: BokehJS failed to load within specified timeout.\");\n",
       "      root._bokeh_failed_load = true;\n",
       "    } else if (force !== true) {\n",
       "      var cell = $(document.getElementById(\"1001\")).parents('.cell').data().cell;\n",
       "      cell.output_area.append_execute_result(NB_LOAD_WARNING)\n",
       "    }\n",
       "\n",
       "  }\n",
       "\n",
       "  if (root._bokeh_is_loading === 0) {\n",
       "    console.debug(\"Bokeh: BokehJS loaded, going straight to plotting\");\n",
       "    run_inline_js();\n",
       "  } else {\n",
       "    load_libs(css_urls, js_urls, function() {\n",
       "      console.debug(\"Bokeh: BokehJS plotting callback run at\", now());\n",
       "      run_inline_js();\n",
       "    });\n",
       "  }\n",
       "}(window));"
      ],
      "application/vnd.bokehjs_load.v0+json": "\n(function(root) {\n  function now() {\n    return new Date();\n  }\n\n  var force = true;\n\n  if (typeof root._bokeh_onload_callbacks === \"undefined\" || force === true) {\n    root._bokeh_onload_callbacks = [];\n    root._bokeh_is_loading = undefined;\n  }\n\n  \n\n  \n  if (typeof (root._bokeh_timeout) === \"undefined\" || force === true) {\n    root._bokeh_timeout = Date.now() + 5000;\n    root._bokeh_failed_load = false;\n  }\n\n  var NB_LOAD_WARNING = {'data': {'text/html':\n     \"<div style='background-color: #fdd'>\\n\"+\n     \"<p>\\n\"+\n     \"BokehJS does not appear to have successfully loaded. If loading BokehJS from CDN, this \\n\"+\n     \"may be due to a slow or bad network connection. Possible fixes:\\n\"+\n     \"</p>\\n\"+\n     \"<ul>\\n\"+\n     \"<li>re-rerun `output_notebook()` to attempt to load from CDN again, or</li>\\n\"+\n     \"<li>use INLINE resources instead, as so:</li>\\n\"+\n     \"</ul>\\n\"+\n     \"<code>\\n\"+\n     \"from bokeh.resources import INLINE\\n\"+\n     \"output_notebook(resources=INLINE)\\n\"+\n     \"</code>\\n\"+\n     \"</div>\"}};\n\n  function display_loaded() {\n    var el = document.getElementById(\"1001\");\n    if (el != null) {\n      el.textContent = \"BokehJS is loading...\";\n    }\n    if (root.Bokeh !== undefined) {\n      if (el != null) {\n        el.textContent = \"BokehJS \" + root.Bokeh.version + \" successfully loaded.\";\n      }\n    } else if (Date.now() < root._bokeh_timeout) {\n      setTimeout(display_loaded, 100)\n    }\n  }\n\n\n  function run_callbacks() {\n    try {\n      root._bokeh_onload_callbacks.forEach(function(callback) {\n        if (callback != null)\n          callback();\n      });\n    } finally {\n      delete root._bokeh_onload_callbacks\n    }\n    console.debug(\"Bokeh: all callbacks have finished\");\n  }\n\n  function load_libs(css_urls, js_urls, callback) {\n    if (css_urls == null) css_urls = [];\n    if (js_urls == null) js_urls = [];\n\n    root._bokeh_onload_callbacks.push(callback);\n    if (root._bokeh_is_loading > 0) {\n      console.debug(\"Bokeh: BokehJS is being loaded, scheduling callback at\", now());\n      return null;\n    }\n    if (js_urls == null || js_urls.length === 0) {\n      run_callbacks();\n      return null;\n    }\n    console.debug(\"Bokeh: BokehJS not loaded, scheduling load and callback at\", now());\n    root._bokeh_is_loading = css_urls.length + js_urls.length;\n\n    function on_load() {\n      root._bokeh_is_loading--;\n      if (root._bokeh_is_loading === 0) {\n        console.debug(\"Bokeh: all BokehJS libraries/stylesheets loaded\");\n        run_callbacks()\n      }\n    }\n\n    function on_error() {\n      console.error(\"failed to load \" + url);\n    }\n\n    for (var i = 0; i < css_urls.length; i++) {\n      var url = css_urls[i];\n      const element = document.createElement(\"link\");\n      element.onload = on_load;\n      element.onerror = on_error;\n      element.rel = \"stylesheet\";\n      element.type = \"text/css\";\n      element.href = url;\n      console.debug(\"Bokeh: injecting link tag for BokehJS stylesheet: \", url);\n      document.body.appendChild(element);\n    }\n\n    const hashes = {\"https://cdn.bokeh.org/bokeh/release/bokeh-2.2.3.min.js\": \"T2yuo9Oe71Cz/I4X9Ac5+gpEa5a8PpJCDlqKYO0CfAuEszu1JrXLl8YugMqYe3sM\", \"https://cdn.bokeh.org/bokeh/release/bokeh-widgets-2.2.3.min.js\": \"98GDGJ0kOMCUMUePhksaQ/GYgB3+NH9h996V88sh3aOiUNX3N+fLXAtry6xctSZ6\", \"https://cdn.bokeh.org/bokeh/release/bokeh-tables-2.2.3.min.js\": \"89bArO+nlbP3sgakeHjCo1JYxYR5wufVgA3IbUvDY+K7w4zyxJqssu7wVnfeKCq8\"};\n\n    for (var i = 0; i < js_urls.length; i++) {\n      var url = js_urls[i];\n      var element = document.createElement('script');\n      element.onload = on_load;\n      element.onerror = on_error;\n      element.async = false;\n      element.src = url;\n      if (url in hashes) {\n        element.crossOrigin = \"anonymous\";\n        element.integrity = \"sha384-\" + hashes[url];\n      }\n      console.debug(\"Bokeh: injecting script tag for BokehJS library: \", url);\n      document.head.appendChild(element);\n    }\n  };\n\n  function inject_raw_css(css) {\n    const element = document.createElement(\"style\");\n    element.appendChild(document.createTextNode(css));\n    document.body.appendChild(element);\n  }\n\n  \n  var js_urls = [\"https://cdn.bokeh.org/bokeh/release/bokeh-2.2.3.min.js\", \"https://cdn.bokeh.org/bokeh/release/bokeh-widgets-2.2.3.min.js\", \"https://cdn.bokeh.org/bokeh/release/bokeh-tables-2.2.3.min.js\"];\n  var css_urls = [];\n  \n\n  var inline_js = [\n    function(Bokeh) {\n      Bokeh.set_log_level(\"info\");\n    },\n    function(Bokeh) {\n    \n    \n    }\n  ];\n\n  function run_inline_js() {\n    \n    if (root.Bokeh !== undefined || force === true) {\n      \n    for (var i = 0; i < inline_js.length; i++) {\n      inline_js[i].call(root, root.Bokeh);\n    }\n    if (force === true) {\n        display_loaded();\n      }} else if (Date.now() < root._bokeh_timeout) {\n      setTimeout(run_inline_js, 100);\n    } else if (!root._bokeh_failed_load) {\n      console.log(\"Bokeh: BokehJS failed to load within specified timeout.\");\n      root._bokeh_failed_load = true;\n    } else if (force !== true) {\n      var cell = $(document.getElementById(\"1001\")).parents('.cell').data().cell;\n      cell.output_area.append_execute_result(NB_LOAD_WARNING)\n    }\n\n  }\n\n  if (root._bokeh_is_loading === 0) {\n    console.debug(\"Bokeh: BokehJS loaded, going straight to plotting\");\n    run_inline_js();\n  } else {\n    load_libs(css_urls, js_urls, function() {\n      console.debug(\"Bokeh: BokehJS plotting callback run at\", now());\n      run_inline_js();\n    });\n  }\n}(window));"
     },
     "metadata": {},
     "output_type": "display_data"
    }
   ],
   "source": [
    "import glob\n",
    "import os\n",
    "import numpy as np\n",
    "import pandas as pd\n",
    "import math\n",
    "\n",
    "import pickle\n",
    "import gensim\n",
    "from gensim.utils import simple_preprocess\n",
    "from gensim.parsing.preprocessing import STOPWORDS\n",
    "from gensim import corpora, models\n",
    "from nltk.stem import WordNetLemmatizer, SnowballStemmer\n",
    "from nltk.stem.porter import *\n",
    "np.random.seed(2021)\n",
    "\n",
    "import nltk\n",
    "import re\n",
    "from pprint import pprint\n",
    "import matplotlib.pyplot as plt\n",
    "from IPython.display import display, clear_output\n",
    "\n",
    "from timeit import Timer\n",
    "from functools import partial\n",
    "\n",
    "from sklearn.manifold import TSNE\n",
    "from bokeh.io import output_notebook\n",
    "from bokeh.plotting import figure, show\n",
    "from bokeh.models import HoverTool, CustomJS, ColumnDataSource, Slider\n",
    "from bokeh.layouts import column\n",
    "from bokeh.palettes import all_palettes\n",
    "output_notebook()"
   ]
  },
  {
   "cell_type": "markdown",
   "metadata": {},
   "source": [
    "First we need to import the data. References 1 & 2 introduced me to glob which then allows us to import all the text documents in one smooth process. We do this below."
   ]
  },
  {
   "cell_type": "code",
   "execution_count": 2,
   "metadata": {},
   "outputs": [],
   "source": [
    "from pathlib import Path\n",
    "\n",
    "corpus = []\n",
    "\n",
    "for path in Path(r'C:\\Users\\corri\\OneDrive\\Documents\\GitHub\\DST-Assessment-3\\Data\\All enron unzip').rglob('*.txt'):\n",
    "        with open(path, errors='ignore') as f_input:\n",
    "            corpus.append(f_input.read())"
   ]
  },
  {
   "cell_type": "code",
   "execution_count": 3,
   "metadata": {},
   "outputs": [],
   "source": [
    "df = pd.DataFrame(corpus)"
   ]
  },
  {
   "cell_type": "code",
   "execution_count": 4,
   "metadata": {},
   "outputs": [
    {
     "data": {
      "text/html": [
       "<div>\n",
       "<style scoped>\n",
       "    .dataframe tbody tr th:only-of-type {\n",
       "        vertical-align: middle;\n",
       "    }\n",
       "\n",
       "    .dataframe tbody tr th {\n",
       "        vertical-align: top;\n",
       "    }\n",
       "\n",
       "    .dataframe thead th {\n",
       "        text-align: right;\n",
       "    }\n",
       "</style>\n",
       "<table border=\"1\" class=\"dataframe\">\n",
       "  <thead>\n",
       "    <tr style=\"text-align: right;\">\n",
       "      <th></th>\n",
       "      <th>0</th>\n",
       "    </tr>\n",
       "  </thead>\n",
       "  <tbody>\n",
       "    <tr>\n",
       "      <th>0</th>\n",
       "      <td>Legitimate\\n----------\\n- Owner: farmer-d\\n- T...</td>\n",
       "    </tr>\n",
       "    <tr>\n",
       "      <th>1</th>\n",
       "      <td>Subject: christmas tree farm pictures\\n</td>\n",
       "    </tr>\n",
       "    <tr>\n",
       "      <th>2</th>\n",
       "      <td>Subject: vastar resources , inc .\\ngary , prod...</td>\n",
       "    </tr>\n",
       "    <tr>\n",
       "      <th>3</th>\n",
       "      <td>Subject: calpine daily gas nomination\\n- calpi...</td>\n",
       "    </tr>\n",
       "    <tr>\n",
       "      <th>4</th>\n",
       "      <td>Subject: re : issue\\nfyi - see note below - al...</td>\n",
       "    </tr>\n",
       "  </tbody>\n",
       "</table>\n",
       "</div>"
      ],
      "text/plain": [
       "                                                   0\n",
       "0  Legitimate\\n----------\\n- Owner: farmer-d\\n- T...\n",
       "1            Subject: christmas tree farm pictures\\n\n",
       "2  Subject: vastar resources , inc .\\ngary , prod...\n",
       "3  Subject: calpine daily gas nomination\\n- calpi...\n",
       "4  Subject: re : issue\\nfyi - see note below - al..."
      ]
     },
     "execution_count": 4,
     "metadata": {},
     "output_type": "execute_result"
    }
   ],
   "source": [
    "df.head()"
   ]
  },
  {
   "cell_type": "code",
   "execution_count": 5,
   "metadata": {},
   "outputs": [
    {
     "name": "stdout",
     "output_type": "stream",
     "text": [
      "27721\n"
     ]
    }
   ],
   "source": [
    "print(len(df))"
   ]
  },
  {
   "cell_type": "markdown",
   "metadata": {},
   "source": [
    "While importing the files, we've also imported the summary sheets along with them. These need to be removed as they wont contribute to our overall corpus and we do this below along with reindexing the data set (we could just remove them from the data but this is easy)."
   ]
  },
  {
   "cell_type": "code",
   "execution_count": 6,
   "metadata": {},
   "outputs": [],
   "source": [
    "df = df.drop([0,5173,11031,16544,21720]) # removing unnecessary entries\n",
    "nlist = np.arange(0,27717,1) # reindexing\n",
    "df = df.reindex(nlist)\n",
    "df = df.drop(0)\n",
    "df.columns = ['E-mails']"
   ]
  },
  {
   "cell_type": "code",
   "execution_count": 7,
   "metadata": {},
   "outputs": [
    {
     "data": {
      "text/html": [
       "<div>\n",
       "<style scoped>\n",
       "    .dataframe tbody tr th:only-of-type {\n",
       "        vertical-align: middle;\n",
       "    }\n",
       "\n",
       "    .dataframe tbody tr th {\n",
       "        vertical-align: top;\n",
       "    }\n",
       "\n",
       "    .dataframe thead th {\n",
       "        text-align: right;\n",
       "    }\n",
       "</style>\n",
       "<table border=\"1\" class=\"dataframe\">\n",
       "  <thead>\n",
       "    <tr style=\"text-align: right;\">\n",
       "      <th></th>\n",
       "      <th>E-mails</th>\n",
       "    </tr>\n",
       "  </thead>\n",
       "  <tbody>\n",
       "    <tr>\n",
       "      <th>1</th>\n",
       "      <td>Subject: christmas tree farm pictures\\n</td>\n",
       "    </tr>\n",
       "    <tr>\n",
       "      <th>2</th>\n",
       "      <td>Subject: vastar resources , inc .\\ngary , prod...</td>\n",
       "    </tr>\n",
       "    <tr>\n",
       "      <th>3</th>\n",
       "      <td>Subject: calpine daily gas nomination\\n- calpi...</td>\n",
       "    </tr>\n",
       "    <tr>\n",
       "      <th>4</th>\n",
       "      <td>Subject: re : issue\\nfyi - see note below - al...</td>\n",
       "    </tr>\n",
       "    <tr>\n",
       "      <th>5</th>\n",
       "      <td>Subject: meter 7268 nov allocation\\nfyi .\\n- -...</td>\n",
       "    </tr>\n",
       "  </tbody>\n",
       "</table>\n",
       "</div>"
      ],
      "text/plain": [
       "                                             E-mails\n",
       "1            Subject: christmas tree farm pictures\\n\n",
       "2  Subject: vastar resources , inc .\\ngary , prod...\n",
       "3  Subject: calpine daily gas nomination\\n- calpi...\n",
       "4  Subject: re : issue\\nfyi - see note below - al...\n",
       "5  Subject: meter 7268 nov allocation\\nfyi .\\n- -..."
      ]
     },
     "execution_count": 7,
     "metadata": {},
     "output_type": "execute_result"
    }
   ],
   "source": [
    "df.head()"
   ]
  },
  {
   "cell_type": "markdown",
   "metadata": {},
   "source": [
    "We're going to assign a binary variable for spam vs normal data to our data set to allow us to perform performance analysis later on. This is done simply since we know where the splits will be for spam/normal data will be in our data frame and we do this below by first creating a list of the positions where spam emails are found and then assigning the binary values to our data frame."
   ]
  },
  {
   "cell_type": "code",
   "execution_count": 8,
   "metadata": {},
   "outputs": [],
   "source": [
    "z1 = np.arange(3673,5173)\n",
    "z2 = np.arange(9534,11031)\n",
    "z3 = np.arange(15043,16544)\n",
    "z4 = np.arange(18043,21719)\n",
    "z5 = np.arange(23220,27716)\n",
    "ze = np.concatenate((z1,z2,z3,z4,z5))"
   ]
  },
  {
   "cell_type": "code",
   "execution_count": 9,
   "metadata": {},
   "outputs": [],
   "source": [
    "z = np.zeros(27716)\n",
    "df['spam'] = z\n",
    "for i in ze:\n",
    "    df.iloc[i,1] = 1"
   ]
  },
  {
   "cell_type": "code",
   "execution_count": 10,
   "metadata": {},
   "outputs": [
    {
     "data": {
      "text/html": [
       "<div>\n",
       "<style scoped>\n",
       "    .dataframe tbody tr th:only-of-type {\n",
       "        vertical-align: middle;\n",
       "    }\n",
       "\n",
       "    .dataframe tbody tr th {\n",
       "        vertical-align: top;\n",
       "    }\n",
       "\n",
       "    .dataframe thead th {\n",
       "        text-align: right;\n",
       "    }\n",
       "</style>\n",
       "<table border=\"1\" class=\"dataframe\">\n",
       "  <thead>\n",
       "    <tr style=\"text-align: right;\">\n",
       "      <th></th>\n",
       "      <th>E-mails</th>\n",
       "      <th>spam</th>\n",
       "    </tr>\n",
       "  </thead>\n",
       "  <tbody>\n",
       "    <tr>\n",
       "      <th>1</th>\n",
       "      <td>Subject: christmas tree farm pictures\\n</td>\n",
       "      <td>0.0</td>\n",
       "    </tr>\n",
       "    <tr>\n",
       "      <th>2</th>\n",
       "      <td>Subject: vastar resources , inc .\\ngary , prod...</td>\n",
       "      <td>0.0</td>\n",
       "    </tr>\n",
       "    <tr>\n",
       "      <th>3</th>\n",
       "      <td>Subject: calpine daily gas nomination\\n- calpi...</td>\n",
       "      <td>0.0</td>\n",
       "    </tr>\n",
       "    <tr>\n",
       "      <th>4</th>\n",
       "      <td>Subject: re : issue\\nfyi - see note below - al...</td>\n",
       "      <td>0.0</td>\n",
       "    </tr>\n",
       "    <tr>\n",
       "      <th>5</th>\n",
       "      <td>Subject: meter 7268 nov allocation\\nfyi .\\n- -...</td>\n",
       "      <td>0.0</td>\n",
       "    </tr>\n",
       "  </tbody>\n",
       "</table>\n",
       "</div>"
      ],
      "text/plain": [
       "                                             E-mails  spam\n",
       "1            Subject: christmas tree farm pictures\\n   0.0\n",
       "2  Subject: vastar resources , inc .\\ngary , prod...   0.0\n",
       "3  Subject: calpine daily gas nomination\\n- calpi...   0.0\n",
       "4  Subject: re : issue\\nfyi - see note below - al...   0.0\n",
       "5  Subject: meter 7268 nov allocation\\nfyi .\\n- -...   0.0"
      ]
     },
     "execution_count": 10,
     "metadata": {},
     "output_type": "execute_result"
    }
   ],
   "source": [
    "df.head()"
   ]
  },
  {
   "cell_type": "markdown",
   "metadata": {},
   "source": [
    "### Pre-Processing for LDA Model"
   ]
  },
  {
   "cell_type": "markdown",
   "metadata": {},
   "source": [
    "In this section we perform pre-processing for our model. This involves techniques such as removing common words, symbols and punctuation using regex. For sake of comparison, we print the first entry to determine the impact the techniques have."
   ]
  },
  {
   "cell_type": "code",
   "execution_count": 12,
   "metadata": {},
   "outputs": [
    {
     "name": "stdout",
     "output_type": "stream",
     "text": [
      "Subject: vastar resources , inc .\n",
      "gary , production from the high island larger block a - 1 # 2 commenced on\n",
      "saturday at 2 : 00 p . m . at about 6 , 500 gross . carlos expects between 9 , 500 and\n",
      "10 , 000 gross for tomorrow . vastar owns 68 % of the gross production .\n",
      "george x 3 - 6992\n",
      "- - - - - - - - - - - - - - - - - - - - - - forwarded by george weissman / hou / ect on 12 / 13 / 99 10 : 16\n",
      "am - - - - - - - - - - - - - - - - - - - - - - - - - - -\n",
      "daren j farmer\n",
      "12 / 10 / 99 10 : 38 am\n",
      "to : carlos j rodriguez / hou / ect @ ect\n",
      "cc : george weissman / hou / ect @ ect , melissa graves / hou / ect @ ect\n",
      "subject : vastar resources , inc .\n",
      "carlos ,\n",
      "please call linda and get everything set up .\n",
      "i ' m going to estimate 4 , 500 coming up tomorrow , with a 2 , 000 increase each\n",
      "following day based on my conversations with bill fischer at bmar .\n",
      "d .\n",
      "- - - - - - - - - - - - - - - - - - - - - - forwarded by daren j farmer / hou / ect on 12 / 10 / 99 10 : 34\n",
      "am - - - - - - - - - - - - - - - - - - - - - - - - - - -\n",
      "enron north america corp .\n",
      "from : george weissman 12 / 10 / 99 10 : 00 am\n",
      "to : daren j farmer / hou / ect @ ect\n",
      "cc : gary bryan / hou / ect @ ect , melissa graves / hou / ect @ ect\n",
      "subject : vastar resources , inc .\n",
      "darren ,\n",
      "the attached appears to be a nomination from vastar resources , inc . for the\n",
      "high island larger block a - 1 # 2 ( previously , erroneously referred to as the\n",
      "# 1 well ) . vastar now expects the well to commence production sometime\n",
      "tomorrow . i told linda harris that we ' d get her a telephone number in gas\n",
      "control so she can provide notification of the turn - on tomorrow . linda ' s\n",
      "numbers , for the record , are 281 . 584 . 3359 voice and 713 . 312 . 1689 fax .\n",
      "would you please see that someone contacts linda and advises her how to\n",
      "submit future nominations via e - mail , fax or voice ? thanks .\n",
      "george x 3 - 6992\n",
      "- - - - - - - - - - - - - - - - - - - - - - forwarded by george weissman / hou / ect on 12 / 10 / 99 09 : 44\n",
      "am - - - - - - - - - - - - - - - - - - - - - - - - - - -\n",
      "\" linda harris \" on 12 / 10 / 99 09 : 38 : 43 am\n",
      "to : george weissman / hou / ect @ ect\n",
      "cc :\n",
      "subject : hi a - 1 # 2\n",
      "effective 12 - 11 - 99\n",
      "| - - - - - - - - + - - - - - - - - - - + - - - - - - - - - - - |\n",
      "| | | |\n",
      "| mscf / d | min ftp | time |\n",
      "| | | |\n",
      "| - - - - - - - - + - - - - - - - - - - + - - - - - - - - - - - |\n",
      "| | | |\n",
      "| 4 , 500 | 9 , 925 | 24 hours |\n",
      "| | | |\n",
      "| - - - - - - - - + - - - - - - - - - - + - - - - - - - - - - - |\n",
      "| | | |\n",
      "| 6 , 000 | 9 , 908 | 24 hours |\n",
      "| | | |\n",
      "| - - - - - - - - + - - - - - - - - - - + - - - - - - - - - - - |\n",
      "| | | |\n",
      "| 8 , 000 | 9 , 878 | 24 hours |\n",
      "| | | |\n",
      "| - - - - - - - - + - - - - - - - - - - + - - - - - - - - - - - |\n",
      "| | | |\n",
      "| 10 , 000 | 9 , 840 | 24 hours |\n",
      "| | | |\n",
      "| - - - - - - - - + - - - - - - - - - - + - - - - - - - - - - - |\n",
      "| | | |\n",
      "| 12 , 000 | 9 , 793 | 24 hours |\n",
      "| | | |\n",
      "| - - - - - - - - + - - - - - - - - - - + - - - - - - - - - - - |\n",
      "| | | |\n",
      "| 14 , 000 | 9 , 738 | 24 hours |\n",
      "| | | |\n",
      "| - - - - - - - - + - - - - - - - - - - + - - - - - - - - - - - |\n",
      "| | | |\n",
      "| 16 , 000 | 9 , 674 | 24 hours |\n",
      "| | | |\n",
      "| - - - - - - - - + - - - - - - - - - - + - - - - - - - - - - - |\n",
      "| | | |\n",
      "| 18 , 000 | 9 , 602 | 24 hours |\n",
      "| | | |\n",
      "| - - - - - - - - + - - - - - - - - - - + - - - - - - - - - - - |\n",
      "| | | |\n",
      "| 20 , 000 | 9 , 521 | 24 hours |\n",
      "| | | |\n",
      "| - - - - - - - - + - - - - - - - - - - + - - - - - - - - - - - |\n",
      "| | | |\n",
      "| 22 , 000 | 9 , 431 | 24 hours |\n",
      "| | | |\n",
      "| - - - - - - - - + - - - - - - - - - - + - - - - - - - - - - - |\n",
      "| | | |\n",
      "| 24 , 000 | 9 , 332 | 24 hours |\n",
      "| | | |\n",
      "| - - - - - - - - + - - - - - - - - - - + - - - - - - - - - - - |\n",
      "| | | |\n",
      "| 26 , 000 | 9 , 224 | 24 hours |\n",
      "| | | |\n",
      "| - - - - - - - - + - - - - - - - - - - + - - - - - - - - - - - |\n",
      "| | | |\n",
      "| 28 , 000 | 9 , 108 | 24 hours |\n",
      "| | | |\n",
      "| - - - - - - - - + - - - - - - - - - - + - - - - - - - - - - - |\n",
      "| | | |\n",
      "| 30 , 000 | 8 , 982 | 24 hours |\n",
      "| | | |\n",
      "| - - - - - - - - + - - - - - - - - - - + - - - - - - - - - - - |\n",
      "| | | |\n",
      "| 32 , 000 | 8 , 847 | 24 hours |\n",
      "| | | |\n",
      "| - - - - - - - - + - - - - - - - - - - + - - - - - - - - - - - |\n",
      "| | | |\n",
      "| 34 , 000 | 8 , 703 | 24 hours |\n",
      "| | | |\n",
      "| - - - - - - - - + - - - - - - - - - - + - - - - - - - - - - - |\n",
      "| | | |\n",
      "| 36 , 000 | 8 , 549 | 24 hours |\n",
      "| | | |\n",
      "| - - - - - - - - + - - - - - - - - - - + - - - - - - - - - - - |\n"
     ]
    }
   ],
   "source": [
    "email_sample = df.iloc[1].values[0] # some of the emails are less tasteful than other emails sorry!\n",
    "print(email_sample)"
   ]
  },
  {
   "cell_type": "markdown",
   "metadata": {},
   "source": [
    "Obviously within emails, there are a multitude of words/symbols that need removing as they will contribute nothing to our modelling. We do this using regex."
   ]
  },
  {
   "cell_type": "code",
   "execution_count": 13,
   "metadata": {},
   "outputs": [],
   "source": [
    "df['E-mails'] = [re.sub(r'[^\\w\\s]','',str(x)) for x in df['E-mails']]"
   ]
  },
  {
   "cell_type": "markdown",
   "metadata": {},
   "source": [
    "We now check this sample email."
   ]
  },
  {
   "cell_type": "code",
   "execution_count": 14,
   "metadata": {},
   "outputs": [
    {
     "name": "stdout",
     "output_type": "stream",
     "text": [
      "Subject vastar resources  inc \n",
      "gary  production from the high island larger block a  1  2 commenced on\n",
      "saturday at 2  00 p  m  at about 6  500 gross  carlos expects between 9  500 and\n",
      "10  000 gross for tomorrow  vastar owns 68  of the gross production \n",
      "george x 3  6992\n",
      "                      forwarded by george weissman  hou  ect on 12  13  99 10  16\n",
      "am                           \n",
      "daren j farmer\n",
      "12  10  99 10  38 am\n",
      "to  carlos j rodriguez  hou  ect  ect\n",
      "cc  george weissman  hou  ect  ect  melissa graves  hou  ect  ect\n",
      "subject  vastar resources  inc \n",
      "carlos \n",
      "please call linda and get everything set up \n",
      "i  m going to estimate 4  500 coming up tomorrow  with a 2  000 increase each\n",
      "following day based on my conversations with bill fischer at bmar \n",
      "d \n",
      "                      forwarded by daren j farmer  hou  ect on 12  10  99 10  34\n",
      "am                           \n",
      "enron north america corp \n",
      "from  george weissman 12  10  99 10  00 am\n",
      "to  daren j farmer  hou  ect  ect\n",
      "cc  gary bryan  hou  ect  ect  melissa graves  hou  ect  ect\n",
      "subject  vastar resources  inc \n",
      "darren \n",
      "the attached appears to be a nomination from vastar resources  inc  for the\n",
      "high island larger block a  1  2  previously  erroneously referred to as the\n",
      " 1 well   vastar now expects the well to commence production sometime\n",
      "tomorrow  i told linda harris that we  d get her a telephone number in gas\n",
      "control so she can provide notification of the turn  on tomorrow  linda  s\n",
      "numbers  for the record  are 281  584  3359 voice and 713  312  1689 fax \n",
      "would you please see that someone contacts linda and advises her how to\n",
      "submit future nominations via e  mail  fax or voice  thanks \n",
      "george x 3  6992\n",
      "                      forwarded by george weissman  hou  ect on 12  10  99 09  44\n",
      "am                           \n",
      " linda harris  on 12  10  99 09  38  43 am\n",
      "to  george weissman  hou  ect  ect\n",
      "cc \n",
      "subject  hi a  1  2\n",
      "effective 12  11  99\n",
      "                                \n",
      "   \n",
      " mscf  d  min ftp  time \n",
      "   \n",
      "                                \n",
      "   \n",
      " 4  500  9  925  24 hours \n",
      "   \n",
      "                                \n",
      "   \n",
      " 6  000  9  908  24 hours \n",
      "   \n",
      "                                \n",
      "   \n",
      " 8  000  9  878  24 hours \n",
      "   \n",
      "                                \n",
      "   \n",
      " 10  000  9  840  24 hours \n",
      "   \n",
      "                                \n",
      "   \n",
      " 12  000  9  793  24 hours \n",
      "   \n",
      "                                \n",
      "   \n",
      " 14  000  9  738  24 hours \n",
      "   \n",
      "                                \n",
      "   \n",
      " 16  000  9  674  24 hours \n",
      "   \n",
      "                                \n",
      "   \n",
      " 18  000  9  602  24 hours \n",
      "   \n",
      "                                \n",
      "   \n",
      " 20  000  9  521  24 hours \n",
      "   \n",
      "                                \n",
      "   \n",
      " 22  000  9  431  24 hours \n",
      "   \n",
      "                                \n",
      "   \n",
      " 24  000  9  332  24 hours \n",
      "   \n",
      "                                \n",
      "   \n",
      " 26  000  9  224  24 hours \n",
      "   \n",
      "                                \n",
      "   \n",
      " 28  000  9  108  24 hours \n",
      "   \n",
      "                                \n",
      "   \n",
      " 30  000  8  982  24 hours \n",
      "   \n",
      "                                \n",
      "   \n",
      " 32  000  8  847  24 hours \n",
      "   \n",
      "                                \n",
      "   \n",
      " 34  000  8  703  24 hours \n",
      "   \n",
      "                                \n",
      "   \n",
      " 36  000  8  549  24 hours \n",
      "   \n",
      "                                \n"
     ]
    }
   ],
   "source": [
    "email_sample = df.iloc[1].values[0] # some of the emails are less tasteful than other emails sorry!\n",
    "print(email_sample)"
   ]
  },
  {
   "cell_type": "markdown",
   "metadata": {},
   "source": [
    "### Creating a Dictionary and a Corpus"
   ]
  },
  {
   "cell_type": "markdown",
   "metadata": {},
   "source": [
    "We use stop words from nltk to remove the majority of the stop words in the data. Some of the words we need to remove are case specific and therefore aren't removed by the stop word processing, such as 'Subject:' which appears in every email and therefore provides no insight for topic modelling."
   ]
  },
  {
   "cell_type": "code",
   "execution_count": 15,
   "metadata": {},
   "outputs": [],
   "source": [
    "en_stop = nltk.corpus.stopwords.words('english')\n",
    "en_stop.append('Subject')"
   ]
  },
  {
   "cell_type": "code",
   "execution_count": 16,
   "metadata": {},
   "outputs": [],
   "source": [
    "import nltk\n",
    "from nltk.corpus import wordnet as wn\n",
    "\n",
    "def sentence_to_words(text):\n",
    "    tokens = nltk.word_tokenize(text)\n",
    "    return tokens\n",
    "\n",
    "def get_lemma(word):\n",
    "   \n",
    "    lemma = wn.morphy(word) \n",
    "    if lemma is None:\n",
    "        return word\n",
    "    else:\n",
    "        return lemma\n",
    "\n",
    "def prepare_text_for_lda(text):\n",
    "    tokens = nltk.word_tokenize(text)\n",
    "    tokens = [token for token in tokens if len(token) > 4] # removes words length less than 4, likely to be unimportant\n",
    "    tokens = [token for token in tokens if token not in en_stop] # removes stop words\n",
    "    tokens = [get_lemma(token) for token in tokens] # lemmatize (standardise) words\n",
    "    return tokens"
   ]
  },
  {
   "cell_type": "markdown",
   "metadata": {},
   "source": [
    "When running the below code, we identify entries in the code that are classified as NaN. The pre-processor cannot handle these exceptions so we remove them as they are immaterial to the final result anyway."
   ]
  },
  {
   "cell_type": "code",
   "execution_count": 17,
   "metadata": {},
   "outputs": [],
   "source": [
    "place = []\n",
    "\n",
    "for j in range(1,len(df)):\n",
    "    try:\n",
    "        a = df.iloc[j,0]\n",
    "        sentence_to_words(a)\n",
    "    except Exception:\n",
    "        place.append(j)\n",
    "\n",
    "for j in place:\n",
    "    df.iloc[j,0] = \"\""
   ]
  },
  {
   "cell_type": "markdown",
   "metadata": {},
   "source": [
    "We first need to tokenize our text to allow us to perform subsequent actions on it. We do this here with the tokenize function above."
   ]
  },
  {
   "cell_type": "code",
   "execution_count": 18,
   "metadata": {},
   "outputs": [],
   "source": [
    "words = df['E-mails'].map(sentence_to_words)"
   ]
  },
  {
   "cell_type": "markdown",
   "metadata": {},
   "source": [
    "We're going to build a bigram model found in link [10]. "
   ]
  },
  {
   "cell_type": "code",
   "execution_count": 19,
   "metadata": {},
   "outputs": [
    {
     "data": {
      "text/plain": [
       "1               [Subject, christmas, tree, farm, pictures]\n",
       "2        [Subject, vastar, resources, inc, gary, produc...\n",
       "3        [Subject, calpine, daily, gas, nomination, cal...\n",
       "4        [Subject, re, issue, fyi, see, note, below, al...\n",
       "5        [Subject, meter, 7268, nov, allocation, fyi, f...\n",
       "                               ...                        \n",
       "27712    [Subject, make, big, bucks, in, the, medical, ...\n",
       "27713    [Subject, proposal, dear, sir, first, i, must,...\n",
       "27714    [Subject, cure, premature, ejaculation, hello,...\n",
       "27715    [Subject, need, your, vics, brand, name, meds,...\n",
       "27716    [Subject, iso, 8859, 1, q, good, _, news, _, c...\n",
       "Name: E-mails, Length: 27716, dtype: object"
      ]
     },
     "execution_count": 19,
     "metadata": {},
     "output_type": "execute_result"
    }
   ],
   "source": [
    "words"
   ]
  },
  {
   "cell_type": "code",
   "execution_count": 20,
   "metadata": {},
   "outputs": [],
   "source": [
    "bigram = gensim.models.Phrases(words, min_count=10, threshold=100) \n",
    "trigram = gensim.models.Phrases(bigram[words], threshold=100)  \n",
    "\n",
    "bigram_mod = gensim.models.phrases.Phraser(bigram)\n",
    "trigram_mod = gensim.models.phrases.Phraser(trigram)"
   ]
  },
  {
   "cell_type": "markdown",
   "metadata": {},
   "source": [
    "We want to check that this has worked correctly:"
   ]
  },
  {
   "cell_type": "code",
   "execution_count": 21,
   "metadata": {},
   "outputs": [
    {
     "name": "stdout",
     "output_type": "stream",
     "text": [
      "['Subject', 'vastar', 'resources', 'inc', 'gary', 'production', 'from', 'the', 'high', 'island', 'larger', 'block', 'a', '1', '2', 'commenced', 'on', 'saturday', 'at', '2', '00', 'p', 'm', 'at', 'about', '6', '500', 'gross', 'carlos', 'expects', 'between', '9', '500', 'and', '10', '000', 'gross', 'for', 'tomorrow', 'vastar', 'owns', '68', 'of', 'the', 'gross', 'production', 'george', 'x', '3', '6992_forwarded', 'by', 'george_weissman', 'hou', 'ect', 'on', '12', '13', '99', '10', '16', 'am', 'daren_j_farmer', '12', '10', '99', '10', '38', 'am', 'to', 'carlos_j_rodriguez', 'hou', 'ect', 'ect', 'cc', 'george_weissman', 'hou', 'ect', 'ect', 'melissa_graves', 'hou', 'ect', 'ect', 'subject', 'vastar', 'resources', 'inc', 'carlos', 'please', 'call', 'linda', 'and', 'get', 'everything', 'set', 'up', 'i', 'm', 'going', 'to', 'estimate', '4', '500', 'coming', 'up', 'tomorrow', 'with', 'a', '2', '000', 'increase', 'each', 'following', 'day', 'based', 'on', 'my', 'conversations', 'with', 'bill', 'fischer', 'at', 'bmar', 'd', 'forwarded', 'by', 'daren_j_farmer', 'hou', 'ect', 'on', '12', '10', '99', '10', '34', 'am', 'enron', 'north_america', 'corp', 'from', 'george_weissman', '12', '10', '99', '10', '00', 'am', 'to', 'daren_j_farmer', 'hou', 'ect', 'ect', 'cc', 'gary_bryan', 'hou', 'ect', 'ect', 'melissa_graves', 'hou', 'ect', 'ect', 'subject', 'vastar', 'resources', 'inc', 'darren', 'the', 'attached', 'appears', 'to', 'be', 'a', 'nomination', 'from', 'vastar', 'resources', 'inc', 'for', 'the', 'high', 'island', 'larger', 'block', 'a', '1', '2', 'previously', 'erroneously', 'referred', 'to', 'as', 'the', '1', 'well', 'vastar', 'now', 'expects', 'the', 'well', 'to', 'commence', 'production', 'sometime', 'tomorrow', 'i', 'told', 'linda', 'harris', 'that', 'we', 'd', 'get', 'her', 'a', 'telephone', 'number', 'in', 'gas', 'control', 'so', 'she', 'can', 'provide', 'notification', 'of', 'the', 'turn', 'on', 'tomorrow', 'linda', 's', 'numbers', 'for', 'the', 'record', 'are', '281', '584', '3359', 'voice', 'and', '713', '312', '1689', 'fax', 'would', 'you', 'please', 'see', 'that', 'someone', 'contacts', 'linda', 'and', 'advises', 'her', 'how', 'to', 'submit', 'future', 'nominations', 'via', 'e', 'mail', 'fax', 'or', 'voice', 'thanks', 'george', 'x', '3', '6992_forwarded', 'by', 'george_weissman', 'hou', 'ect', 'on', '12', '10', '99', '09', '44', 'am', 'linda', 'harris', 'on', '12', '10', '99', '09', '38', '43', 'am', 'to', 'george_weissman', 'hou', 'ect', 'ect', 'cc', 'subject', 'hi', 'a', '1', '2', 'effective', '12', '11', '99', 'mscf', 'd', 'min', 'ftp', 'time', '4', '500', '9', '925', '24_hours', '6', '000', '9', '908', '24_hours', '8', '000', '9', '878', '24_hours', '10', '000', '9', '840', '24_hours', '12', '000', '9', '793', '24_hours', '14', '000', '9', '738', '24_hours', '16', '000', '9', '674', '24_hours', '18', '000', '9', '602', '24_hours', '20', '000', '9', '521', '24_hours', '22', '000', '9', '431', '24_hours', '24', '000', '9', '332', '24_hours', '26', '000', '9', '224', '24_hours', '28', '000', '9', '108', '24_hours', '30', '000', '8', '982', '24_hours', '32', '000', '8', '847', '24_hours', '34', '000', '8', '703', '24_hours', '36', '000', '8', '549', '24_hours']\n"
     ]
    }
   ],
   "source": [
    "print(trigram_mod[bigram_mod[words[2]]])"
   ]
  },
  {
   "cell_type": "markdown",
   "metadata": {},
   "source": [
    "From this, we can see that it has worked correctly as many words have been combined into bigrams/trigrams e.g. '24 hours' and 'via_email'. Adjustment of the min_count and threshold variables allows us to control which words are turned into bigrams/trigrams and only identify those that actually should be together. As I'm not 100% sure how to empirically figure these out I'm working 'by eye' and finding combinations that produce the 'most sensible' results. The current settings seen to combine 'correct' words such as those given above and names."
   ]
  },
  {
   "cell_type": "code",
   "execution_count": 22,
   "metadata": {},
   "outputs": [],
   "source": [
    "def make_bigrams(texts):\n",
    "    return [bigram_mod[doc] for doc in texts]\n",
    "\n",
    "def make_trigrams(texts):\n",
    "    return [trigram_mod[bigram_mod[doc]] for doc in texts]"
   ]
  },
  {
   "cell_type": "markdown",
   "metadata": {},
   "source": [
    "We now process our text using the above functions and create a bag of words."
   ]
  },
  {
   "cell_type": "code",
   "execution_count": 23,
   "metadata": {},
   "outputs": [],
   "source": [
    "#df['E-mails'] = df['E-mails'].map(make_bigrams) # currently not compatible with this, going to look into it"
   ]
  },
  {
   "cell_type": "code",
   "execution_count": 24,
   "metadata": {},
   "outputs": [
    {
     "name": "stdout",
     "output_type": "stream",
     "text": [
      "original document: \n",
      "['Subject', 'vastar', 'resources', '', 'inc', '\\ngary', '', 'production', 'from', 'the', 'high', 'island', 'larger', 'block', 'a', '', '1', '', '2', 'commenced', 'on\\nsaturday', 'at', '2', '', '00', 'p', '', 'm', '', 'at', 'about', '6', '', '500', 'gross', '', 'carlos', 'expects', 'between', '9', '', '500', 'and\\n10', '', '000', 'gross', 'for', 'tomorrow', '', 'vastar', 'owns', '68', '', 'of', 'the', 'gross', 'production', '\\ngeorge', 'x', '3', '', '6992\\n', '', '', '', '', '', '', '', '', '', '', '', '', '', '', '', '', '', '', '', '', '', 'forwarded', 'by', 'george', 'weissman', '', 'hou', '', 'ect', 'on', '12', '', '13', '', '99', '10', '', '16\\nam', '', '', '', '', '', '', '', '', '', '', '', '', '', '', '', '', '', '', '', '', '', '', '', '', '', '', '\\ndaren', 'j', 'farmer\\n12', '', '10', '', '99', '10', '', '38', 'am\\nto', '', 'carlos', 'j', 'rodriguez', '', 'hou', '', 'ect', '', 'ect\\ncc', '', 'george', 'weissman', '', 'hou', '', 'ect', '', 'ect', '', 'melissa', 'graves', '', 'hou', '', 'ect', '', 'ect\\nsubject', '', 'vastar', 'resources', '', 'inc', '\\ncarlos', '\\nplease', 'call', 'linda', 'and', 'get', 'everything', 'set', 'up', '\\ni', '', 'm', 'going', 'to', 'estimate', '4', '', '500', 'coming', 'up', 'tomorrow', '', 'with', 'a', '2', '', '000', 'increase', 'each\\nfollowing', 'day', 'based', 'on', 'my', 'conversations', 'with', 'bill', 'fischer', 'at', 'bmar', '\\nd', '\\n', '', '', '', '', '', '', '', '', '', '', '', '', '', '', '', '', '', '', '', '', '', 'forwarded', 'by', 'daren', 'j', 'farmer', '', 'hou', '', 'ect', 'on', '12', '', '10', '', '99', '10', '', '34\\nam', '', '', '', '', '', '', '', '', '', '', '', '', '', '', '', '', '', '', '', '', '', '', '', '', '', '', '\\nenron', 'north', 'america', 'corp', '\\nfrom', '', 'george', 'weissman', '12', '', '10', '', '99', '10', '', '00', 'am\\nto', '', 'daren', 'j', 'farmer', '', 'hou', '', 'ect', '', 'ect\\ncc', '', 'gary', 'bryan', '', 'hou', '', 'ect', '', 'ect', '', 'melissa', 'graves', '', 'hou', '', 'ect', '', 'ect\\nsubject', '', 'vastar', 'resources', '', 'inc', '\\ndarren', '\\nthe', 'attached', 'appears', 'to', 'be', 'a', 'nomination', 'from', 'vastar', 'resources', '', 'inc', '', 'for', 'the\\nhigh', 'island', 'larger', 'block', 'a', '', '1', '', '2', '', 'previously', '', 'erroneously', 'referred', 'to', 'as', 'the\\n', '1', 'well', '', '', 'vastar', 'now', 'expects', 'the', 'well', 'to', 'commence', 'production', 'sometime\\ntomorrow', '', 'i', 'told', 'linda', 'harris', 'that', 'we', '', 'd', 'get', 'her', 'a', 'telephone', 'number', 'in', 'gas\\ncontrol', 'so', 'she', 'can', 'provide', 'notification', 'of', 'the', 'turn', '', 'on', 'tomorrow', '', 'linda', '', 's\\nnumbers', '', 'for', 'the', 'record', '', 'are', '281', '', '584', '', '3359', 'voice', 'and', '713', '', '312', '', '1689', 'fax', '\\nwould', 'you', 'please', 'see', 'that', 'someone', 'contacts', 'linda', 'and', 'advises', 'her', 'how', 'to\\nsubmit', 'future', 'nominations', 'via', 'e', '', 'mail', '', 'fax', 'or', 'voice', '', 'thanks', '\\ngeorge', 'x', '3', '', '6992\\n', '', '', '', '', '', '', '', '', '', '', '', '', '', '', '', '', '', '', '', '', '', 'forwarded', 'by', 'george', 'weissman', '', 'hou', '', 'ect', 'on', '12', '', '10', '', '99', '09', '', '44\\nam', '', '', '', '', '', '', '', '', '', '', '', '', '', '', '', '', '', '', '', '', '', '', '', '', '', '', '\\n', 'linda', 'harris', '', 'on', '12', '', '10', '', '99', '09', '', '38', '', '43', 'am\\nto', '', 'george', 'weissman', '', 'hou', '', 'ect', '', 'ect\\ncc', '\\nsubject', '', 'hi', 'a', '', '1', '', '2\\neffective', '12', '', '11', '', '99\\n', '', '', '', '', '', '', '', '', '', '', '', '', '', '', '', '', '', '', '', '', '', '', '', '', '', '', '', '', '', '', '', '\\n', '', '', '\\n', 'mscf', '', 'd', '', 'min', 'ftp', '', 'time', '\\n', '', '', '\\n', '', '', '', '', '', '', '', '', '', '', '', '', '', '', '', '', '', '', '', '', '', '', '', '', '', '', '', '', '', '', '', '\\n', '', '', '\\n', '4', '', '500', '', '9', '', '925', '', '24', 'hours', '\\n', '', '', '\\n', '', '', '', '', '', '', '', '', '', '', '', '', '', '', '', '', '', '', '', '', '', '', '', '', '', '', '', '', '', '', '', '\\n', '', '', '\\n', '6', '', '000', '', '9', '', '908', '', '24', 'hours', '\\n', '', '', '\\n', '', '', '', '', '', '', '', '', '', '', '', '', '', '', '', '', '', '', '', '', '', '', '', '', '', '', '', '', '', '', '', '\\n', '', '', '\\n', '8', '', '000', '', '9', '', '878', '', '24', 'hours', '\\n', '', '', '\\n', '', '', '', '', '', '', '', '', '', '', '', '', '', '', '', '', '', '', '', '', '', '', '', '', '', '', '', '', '', '', '', '\\n', '', '', '\\n', '10', '', '000', '', '9', '', '840', '', '24', 'hours', '\\n', '', '', '\\n', '', '', '', '', '', '', '', '', '', '', '', '', '', '', '', '', '', '', '', '', '', '', '', '', '', '', '', '', '', '', '', '\\n', '', '', '\\n', '12', '', '000', '', '9', '', '793', '', '24', 'hours', '\\n', '', '', '\\n', '', '', '', '', '', '', '', '', '', '', '', '', '', '', '', '', '', '', '', '', '', '', '', '', '', '', '', '', '', '', '', '\\n', '', '', '\\n', '14', '', '000', '', '9', '', '738', '', '24', 'hours', '\\n', '', '', '\\n', '', '', '', '', '', '', '', '', '', '', '', '', '', '', '', '', '', '', '', '', '', '', '', '', '', '', '', '', '', '', '', '\\n', '', '', '\\n', '16', '', '000', '', '9', '', '674', '', '24', 'hours', '\\n', '', '', '\\n', '', '', '', '', '', '', '', '', '', '', '', '', '', '', '', '', '', '', '', '', '', '', '', '', '', '', '', '', '', '', '', '\\n', '', '', '\\n', '18', '', '000', '', '9', '', '602', '', '24', 'hours', '\\n', '', '', '\\n', '', '', '', '', '', '', '', '', '', '', '', '', '', '', '', '', '', '', '', '', '', '', '', '', '', '', '', '', '', '', '', '\\n', '', '', '\\n', '20', '', '000', '', '9', '', '521', '', '24', 'hours', '\\n', '', '', '\\n', '', '', '', '', '', '', '', '', '', '', '', '', '', '', '', '', '', '', '', '', '', '', '', '', '', '', '', '', '', '', '', '\\n', '', '', '\\n', '22', '', '000', '', '9', '', '431', '', '24', 'hours', '\\n', '', '', '\\n', '', '', '', '', '', '', '', '', '', '', '', '', '', '', '', '', '', '', '', '', '', '', '', '', '', '', '', '', '', '', '', '\\n', '', '', '\\n', '24', '', '000', '', '9', '', '332', '', '24', 'hours', '\\n', '', '', '\\n', '', '', '', '', '', '', '', '', '', '', '', '', '', '', '', '', '', '', '', '', '', '', '', '', '', '', '', '', '', '', '', '\\n', '', '', '\\n', '26', '', '000', '', '9', '', '224', '', '24', 'hours', '\\n', '', '', '\\n', '', '', '', '', '', '', '', '', '', '', '', '', '', '', '', '', '', '', '', '', '', '', '', '', '', '', '', '', '', '', '', '\\n', '', '', '\\n', '28', '', '000', '', '9', '', '108', '', '24', 'hours', '\\n', '', '', '\\n', '', '', '', '', '', '', '', '', '', '', '', '', '', '', '', '', '', '', '', '', '', '', '', '', '', '', '', '', '', '', '', '\\n', '', '', '\\n', '30', '', '000', '', '8', '', '982', '', '24', 'hours', '\\n', '', '', '\\n', '', '', '', '', '', '', '', '', '', '', '', '', '', '', '', '', '', '', '', '', '', '', '', '', '', '', '', '', '', '', '', '\\n', '', '', '\\n', '32', '', '000', '', '8', '', '847', '', '24', 'hours', '\\n', '', '', '\\n', '', '', '', '', '', '', '', '', '', '', '', '', '', '', '', '', '', '', '', '', '', '', '', '', '', '', '', '', '', '', '', '\\n', '', '', '\\n', '34', '', '000', '', '8', '', '703', '', '24', 'hours', '\\n', '', '', '\\n', '', '', '', '', '', '', '', '', '', '', '', '', '', '', '', '', '', '', '', '', '', '', '', '', '', '', '', '', '', '', '', '\\n', '', '', '\\n', '36', '', '000', '', '8', '', '549', '', '24', 'hours', '\\n', '', '', '\\n', '', '', '', '', '', '', '', '', '', '', '', '', '', '', '', '', '', '', '', '', '', '', '', '', '', '', '', '', '', '', '', '']\n",
      "\n",
      "\n",
      " method removing stop words: \n",
      "['vastar', 'resource', 'production', 'island', 'larger', 'block', 'commence', 'saturday', 'gross', 'carlos', 'expect', 'gross', 'tomorrow', 'vastar', 'gross', 'production', 'george', 'forward', 'george', 'weissman', 'daren', 'farmer', 'carlos', 'rodriguez', 'george', 'weissman', 'melissa', 'graves', 'subject', 'vastar', 'resource', 'carlos', 'please', 'linda', 'everything', 'going', 'estimate', 'coming', 'tomorrow', 'increase', 'following', 'base', 'conversation', 'fischer', 'forward', 'daren', 'farmer', 'enron', 'north', 'america', 'george', 'weissman', 'daren', 'farmer', 'bryan', 'melissa', 'graves', 'subject', 'vastar', 'resource', 'darren', 'attach', 'appear', 'nomination', 'vastar', 'resource', 'island', 'larger', 'block', 'previously', 'erroneously', 'refer', 'vastar', 'expect', 'commence', 'production', 'sometime', 'tomorrow', 'linda', 'harris', 'telephone', 'number', 'control', 'provide', 'notification', 'tomorrow', 'linda', 'numbers', 'record', 'voice', 'would', 'please', 'someone', 'contact', 'linda', 'advise', 'submit', 'future', 'nomination', 'voice', 'thanks', 'george', 'forward', 'george', 'weissman', 'linda', 'harris', 'george', 'weissman', 'subject', 'effective', 'hours', 'hours', 'hours', 'hours', 'hours', 'hours', 'hours', 'hours', 'hours', 'hours', 'hours', 'hours', 'hours', 'hours', 'hours', 'hours', 'hours']\n"
     ]
    }
   ],
   "source": [
    "print('original document: ')\n",
    "words = []\n",
    "for word in email_sample.split(' '):\n",
    "    words.append(word)\n",
    "print(words)\n",
    "\n",
    "print('\\n\\n method removing stop words: ')\n",
    "print(prepare_text_for_lda(email_sample))"
   ]
  },
  {
   "cell_type": "code",
   "execution_count": 25,
   "metadata": {},
   "outputs": [
    {
     "data": {
      "text/plain": [
       "1                                 [christmas, picture]\n",
       "2    [vastar, resource, production, island, larger,...\n",
       "3    [calpine, daily, nomination, calpine, daily, n...\n",
       "4    [issue, already, stella, forward, stella, morr...\n",
       "5    [meter, allocation, forward, lauri, allen, kim...\n",
       "Name: E-mails, dtype: object"
      ]
     },
     "execution_count": 25,
     "metadata": {},
     "output_type": "execute_result"
    }
   ],
   "source": [
    "processed_text = df['E-mails'].map(prepare_text_for_lda) \n",
    "processed_text.head()"
   ]
  },
  {
   "cell_type": "code",
   "execution_count": 26,
   "metadata": {},
   "outputs": [
    {
     "name": "stdout",
     "output_type": "stream",
     "text": [
      "0 christmas\n",
      "1 picture\n",
      "2 advise\n",
      "3 america\n",
      "4 appear\n",
      "5 attach\n",
      "6 base\n",
      "7 block\n",
      "8 bryan\n",
      "9 carlos\n",
      "10 coming\n"
     ]
    }
   ],
   "source": [
    "dictionary = gensim.corpora.Dictionary(processed_text)\n",
    "\n",
    "count = 0\n",
    "for k,v  in dictionary.iteritems():\n",
    "    print(k, v)\n",
    "    count += 1\n",
    "    if count > 10:\n",
    "        break"
   ]
  },
  {
   "cell_type": "code",
   "execution_count": 27,
   "metadata": {},
   "outputs": [],
   "source": [
    "bow_corpus = [dictionary.doc2bow(doc) for doc in processed_text]"
   ]
  },
  {
   "cell_type": "markdown",
   "metadata": {},
   "source": [
    "### Bigram/Trigram"
   ]
  },
  {
   "cell_type": "markdown",
   "metadata": {},
   "source": [
    "In this section we create our bigram's and trigram's from the text using the functions already learned above."
   ]
  },
  {
   "cell_type": "code",
   "execution_count": 28,
   "metadata": {},
   "outputs": [],
   "source": [
    "def make_bigrams(texts):\n",
    "    return [bigram_mod[doc] for doc in texts]\n",
    "\n",
    "def make_trigrams(texts):\n",
    "    return [trigram_mod[bigram_mod[doc]] for doc in texts]"
   ]
  },
  {
   "cell_type": "code",
   "execution_count": 29,
   "metadata": {},
   "outputs": [],
   "source": [
    "words_bigrams = make_bigrams(processed_text)"
   ]
  },
  {
   "cell_type": "markdown",
   "metadata": {},
   "source": [
    "### LDA Model"
   ]
  },
  {
   "cell_type": "markdown",
   "metadata": {},
   "source": [
    "We finally create our LDA Model. We use a chunksize of 2772 with 10 passes of the data which allows us to perform a sort of 10-fold CV (not completely but similar), since chunksize defines the number of documents to be used in each training chunk and passes gives the number of training passes to complete. We do this for 2 topics initially to understand how well the model performs at differentiating spam from normal mail."
   ]
  },
  {
   "cell_type": "code",
   "execution_count": 30,
   "metadata": {},
   "outputs": [],
   "source": [
    "lda_model = gensim.models.LdaMulticore(bow_corpus, num_topics = 2, id2word=dictionary, chunksize = 2772, passes=10, workers = 8)"
   ]
  },
  {
   "cell_type": "code",
   "execution_count": 31,
   "metadata": {},
   "outputs": [],
   "source": [
    "import pyLDAvis.gensim\n",
    "pyLDAvis.enable_notebook()"
   ]
  },
  {
   "cell_type": "code",
   "execution_count": 32,
   "metadata": {},
   "outputs": [
    {
     "name": "stderr",
     "output_type": "stream",
     "text": [
      "C:\\Users\\corri\\anaconda3\\lib\\site-packages\\ipykernel\\ipkernel.py:287: DeprecationWarning: `should_run_async` will not call `transform_cell` automatically in the future. Please pass the result to `transformed_cell` argument and any exception that happen during thetransform in `preprocessing_exc_tuple` in IPython 7.17 and above.\n",
      "  and should_run_async(code)\n"
     ]
    }
   ],
   "source": [
    "lda_display = pyLDAvis.gensim.prepare(lda_model, bow_corpus, dictionary, mds='mmds')"
   ]
  },
  {
   "cell_type": "code",
   "execution_count": 33,
   "metadata": {},
   "outputs": [
    {
     "name": "stderr",
     "output_type": "stream",
     "text": [
      "C:\\Users\\corri\\anaconda3\\lib\\site-packages\\ipykernel\\ipkernel.py:287: DeprecationWarning: `should_run_async` will not call `transform_cell` automatically in the future. Please pass the result to `transformed_cell` argument and any exception that happen during thetransform in `preprocessing_exc_tuple` in IPython 7.17 and above.\n",
      "  and should_run_async(code)\n"
     ]
    },
    {
     "data": {
      "text/html": [
       "\n",
       "\n",
       "<link rel=\"stylesheet\" type=\"text/css\" href=\"https://cdn.rawgit.com/bmabey/pyLDAvis/files/ldavis.v1.0.0.css\">\n",
       "\n",
       "<div id=\"ldavis_el1958418132032735367255053101\"></div>\n",
       "<script type=\"text/javascript\">\n",
       "\n",
       "var ldavis_el1958418132032735367255053101_data = {\"mdsDat\": {\"x\": [-0.0061532267635917865, 0.0061532267635917865], \"y\": [-0.10859200551697443, 0.10859200551697443], \"topics\": [1, 2], \"cluster\": [1, 1], \"Freq\": [55.44609939598843, 44.55390060401157]}, \"tinfo\": {\"Term\": [\"company\", \"statement\", \"please\", \"market\", \"investment\", \"subject\", \"stock\", \"thanks\", \"message\", \"vince\", \"security\", \"email\", \"click\", \"investor\", \"share\", \"attach\", \"energy\", \"expect\", \"business\", \"lottery\", \"program\", \"original\", \"kaminski\", \"trading\", \"thank\", \"billion\", \"stocks\", \"within\", \"dynegy\", \"address\", \"newsietter\", \"lauraan\", \"ooking\", \"confiict\", \"pubiisher\", \"invoive\", \"reiease\", \"iaagra\", \"pubiication\", \"biosphere\", \"actua\", \"investing\", \"resuiting\", \"syslync\", \"abacha\", \"resuits\", \"uncertainty\", \"fiiings\", \"additiona\", \"sysiync\", \"prediction\", \"goais\", \"miilennium\", \"beiiefs\", \"materialiy\", \"simiiar\", \"projection\", \"environmenta\", \"symbo\", \"corei\", \"statement\", \"investment\", \"risk\", \"investor\", \"expectation\", \"dynegy\", \"partnership\", \"rating\", \"stocks\", \"meaning\", \"shareholder\", \"differ\", \"publisher\", \"foresee\", \"couid\", \"inherent\", \"earnings\", \"technoiogy\", \"bankruptcy\", \"market\", \"invest\", \"company\", \"stock\", \"billion\", \"percent\", \"anticipate\", \"belief\", \"reader\", \"expect\", \"revenue\", \"assets\", \"share\", \"advice\", \"involve\", \"certain\", \"trading\", \"security\", \"government\", \"energy\", \"within\", \"power\", \"business\", \"project\", \"industry\", \"trade\", \"technology\", \"financial\", \"exchange\", \"state\", \"report\", \"future\", \"position\", \"enron\", \"information\", \"provide\", \"looking\", \"price\", \"million\", \"base\", \"forward\", \"include\", \"product\", \"would\", \"interest\", \"could\", \"money\", \"please\", \"saave\", \"intuit\", \"vmware\", \"countrieswe\", \"riverdeep\", \"macrmedia\", \"lottery\", \"roxio\", \"cheaap\", \"rolex\", \"lotto\", \"replica\", \"vibrator\", \"powerquest\", \"certificao\", \"empresas\", \"aimee\", \"unscrupulous\", \"ciick\", \"orgasm\", \"daren\", \"siteguaaranteed\", \"hplno\", \"squirrelmail\", \"youcheckk\", \"autodesk\", \"shiiip\", \"lannou\", \"projecthoneypot\", \"cotten\", \"ticket\", \"serial\", \"penis\", \"batch\", \"mail\", \"meter\", \"congratulations\", \"prize\", \"sitara\", \"winnings\", \"promotion\", \"lucky\", \"shirley\", \"mmbtu\", \"crenshaw\", \"winning\", \"viagra\", \"winner\", \"unwarranted\", \"dysfunction\", \"kaminski\", \"promotional\", \"coordinator\", \"vince\", \"nomination\", \"attach\", \"click\", \"cialis\", \"pill\", \"check\", \"thank\", \"thanks\", \"original\", \"subject\", \"message\", \"please\", \"prescription\", \"agent\", \"program\", \"email\", \"software\", \"address\", \"visit\", \"order\", \"receive\", \"remove\", \"claim\", \"enron\", \"contact\", \"offer\", \"phone\", \"would\", \"number\", \"online\", \"question\", \"system\", \"meeting\", \"price\", \"information\", \"forward\", \"change\", \"regard\", \"money\"], \"Freq\": [27330.0, 10486.0, 17527.0, 9595.0, 6992.0, 9640.0, 6809.0, 6116.0, 7305.0, 4707.0, 9946.0, 10777.0, 4122.0, 4154.0, 6323.0, 3411.0, 8516.0, 4334.0, 11535.0, 2100.0, 5055.0, 3291.0, 2588.0, 4746.0, 3040.0, 3335.0, 3058.0, 7026.0, 2801.0, 5442.0, 722.658993155001, 894.6898537566062, 1403.773236138504, 292.14687697321045, 536.1809606152688, 467.58361976037503, 340.49933336054596, 239.39431354585955, 368.1922081894934, 208.54570122289118, 326.1535689255336, 1857.4637728881291, 229.1365724150024, 272.9260158146023, 198.2000952328295, 744.2096064764067, 1692.9826116139916, 262.59838165507205, 364.8316150168732, 296.614558096024, 779.6179156945094, 239.20307007954665, 159.314144049065, 207.82699032784623, 207.11718418496136, 174.56090011962826, 1596.9511671003438, 130.1824792519614, 215.97880395176276, 141.82943128816677, 10416.514160481018, 6898.885498002181, 2037.5905837075218, 4098.867066098168, 2116.3612792528806, 2770.514761809639, 1647.9126926811232, 1617.5914550290518, 3007.660926898043, 1576.77930623839, 1269.0255061160376, 1569.9886906536515, 1159.5761769803491, 662.1058900248817, 725.5656990515035, 896.2841754246, 1085.2120351445383, 777.1130831181479, 1189.7376856405492, 9281.326708299595, 1043.862076426542, 25694.113231518255, 6545.089305804811, 3249.6130609335078, 1889.4145801854945, 2010.129441139865, 1520.1210582210367, 1244.237551595269, 4139.135468460055, 2046.3433985338672, 1989.3900878433763, 5921.558152832537, 2958.716327681521, 2423.7998882519005, 1798.9356196749948, 4432.458746675663, 8913.785289080466, 1965.7450026076524, 7477.157877089525, 6196.258254999365, 5649.739109020835, 9697.35895540642, 4601.168552131817, 2910.8946548155186, 3163.8027877742684, 3104.7338563830795, 3796.3793137844805, 2434.740674890245, 5077.829175351865, 7892.226184775022, 4793.255187164872, 3459.156720513714, 23657.042833749416, 9261.08991695314, 5743.734333540545, 3988.140183301013, 8335.378596648041, 4960.770642737556, 4011.9644766739584, 5922.922064038389, 4907.715758336479, 4700.612000848134, 5878.391253642545, 4312.397828458048, 4244.1785221597, 4249.130677454723, 4207.196715407561, 445.7862668169755, 219.8309016481374, 200.50261339740246, 200.490408148382, 204.9457153541843, 200.4920293035954, 2093.131112258968, 215.37974981719245, 197.69002090594884, 530.118686482545, 317.1842722820815, 306.08591822696786, 159.58853167634314, 215.22823702362678, 145.02672857952882, 206.99481827599504, 194.68495815933105, 182.26804589667825, 256.6642002856274, 305.26716030832534, 1033.5133559968235, 137.6916720617083, 120.37818159775094, 178.5506065545598, 123.24648033645147, 222.61677302952177, 130.7168474126876, 120.86188213832132, 221.84191673941706, 173.07963629057392, 1517.1468142825154, 490.044698573454, 468.15172414114096, 887.400313669552, 992.7336624527652, 1570.1717826102529, 1219.0227806219175, 1536.2348547842105, 535.3365329256237, 235.90329530940772, 1561.6067165006875, 861.3129821188912, 929.3892771990041, 1946.2605618657724, 594.3166192731488, 1471.817823798213, 1086.3109899153246, 1421.404890564666, 332.66772075168575, 259.75550103601125, 2444.4653358889273, 978.4253838071694, 485.0682365514612, 4301.0277897441765, 558.3804902915199, 3140.342074503068, 3750.712453469517, 985.3243495725834, 855.1823321208244, 2273.370925277962, 2727.480426568186, 5263.30766019976, 2929.4616080560877, 7803.676215433287, 5977.847286702388, 13320.564452363094, 1002.0891814836262, 1654.4475550131929, 4060.873210544272, 7814.932324661237, 3747.6186184994895, 4142.889502527018, 2128.829919024529, 4346.9374146704295, 4587.860905924656, 1900.1191303779694, 3031.0343239594276, 16521.132405776305, 3686.0507957520067, 3336.40331890271, 2456.682957864139, 5190.17544785823, 3339.7329853713686, 2695.7794258268236, 2701.351429465144, 3398.594857826091, 2575.823182482806, 4184.020781778738, 3701.2766855163272, 3147.828159331287, 2682.196306678756, 2681.608069577873, 2601.9769254953126], \"Total\": [27330.0, 10486.0, 17527.0, 9595.0, 6992.0, 9640.0, 6809.0, 6116.0, 7305.0, 4707.0, 9946.0, 10777.0, 4122.0, 4154.0, 6323.0, 3411.0, 8516.0, 4334.0, 11535.0, 2100.0, 5055.0, 3291.0, 2588.0, 4746.0, 3040.0, 3335.0, 3058.0, 7026.0, 2801.0, 5442.0, 724.3831682984217, 896.8554144653166, 1408.3564358365352, 293.1080946341205, 538.0668213885659, 469.2389915974675, 341.72117981854103, 240.27233891051046, 369.543369289976, 209.31386427904772, 327.3620228013616, 1864.5389228207014, 230.01152455792803, 273.97078105457484, 198.96726952406064, 747.1662013988669, 1699.7157106073878, 263.6539214775008, 366.3166326439582, 297.8446765800191, 782.9161096824221, 240.26824970489778, 160.0282701994646, 208.79223860337495, 208.07982523354192, 175.37833065920864, 1604.433317832075, 130.79403276036774, 216.9939805614778, 142.4995581272746, 10486.111933021373, 6992.934479145018, 2048.6383977830083, 4154.823432438645, 2134.2635297334473, 2801.9573513416826, 1660.0645367493998, 1629.9319424013208, 3058.9832350364713, 1593.4156977020834, 1280.0425741443732, 1587.0771549911547, 1171.266586935157, 665.8014498858898, 730.4025559677751, 904.2706271308042, 1097.1803462745386, 783.4163517900641, 1204.6410994490461, 9595.60642945829, 1055.689805914437, 27330.623281748103, 6809.849536592226, 3335.942510897395, 1926.2983908516596, 2053.4151192079034, 1546.1498465028271, 1262.0743630741933, 4334.650346284842, 2098.8970812021944, 2045.1327505221873, 6323.793966872094, 3084.7247999694027, 2517.5170356931244, 1849.834228649717, 4746.584849402411, 9946.324908447039, 2029.0231254713115, 8516.946557211735, 7026.097272642643, 6377.391980535194, 11535.745836903538, 5214.9042629816195, 3139.3322881256026, 3471.5349052675956, 3400.707306532301, 4287.001441757395, 2579.9249350349937, 6118.296430051679, 10291.29962190378, 5731.470853240256, 3926.6065776172895, 40178.17523952572, 12962.366602469468, 7474.641978503002, 4719.220288740323, 12519.399378426779, 6502.346290885513, 4912.043714829792, 9070.750223369676, 7001.502786267998, 7058.066694123072, 11068.566701500775, 6098.768211973976, 5980.74463237186, 6851.1076029500355, 17527.761167770655, 446.5830699354544, 220.5375480913918, 201.1532454312943, 201.14879225528313, 205.62063114470303, 201.15285391986234, 2100.1462778948203, 216.1175857654225, 198.3819526864961, 531.9844813467625, 318.33306420924146, 307.2779726257734, 160.23491551009252, 216.1154371815051, 145.630664607247, 207.89599560838357, 195.56380875330194, 183.09330918424655, 257.82850297142505, 306.67059341742566, 1038.5145711281793, 138.35819535158737, 120.96449658079322, 179.43749981444498, 123.90071162797605, 223.80499482676586, 131.44095610717577, 121.54729247238996, 223.1112850654472, 174.09784783200854, 1533.630365642109, 492.94798692347325, 470.91937408591264, 898.5185902511586, 1008.2620298610498, 1602.2403372831047, 1242.0403199716493, 1573.001721341876, 542.7114605491969, 237.36722690828879, 1605.7208500056606, 880.2931787265663, 954.4415045890547, 2032.9557447709196, 606.0576980470919, 1529.2647916865783, 1122.6855314124896, 1477.6356872888769, 336.1732378961065, 261.81947355821103, 2588.1014695030517, 1019.6421596661987, 495.3055912493946, 4707.413175632001, 574.17085945147, 3411.580778920088, 4122.280675821699, 1035.0420041807313, 894.3271414352528, 2507.900206325324, 3040.048822116255, 6116.830751962496, 3291.4617205911854, 9640.6846595157, 7305.925027799315, 17527.761167770655, 1063.8482350239558, 1852.1994211978397, 5055.142496003306, 10777.936661539174, 4775.497406861374, 5442.348576033312, 2523.707628765402, 5878.54476835745, 6310.489292636244, 2215.21554796115, 4270.3107227496785, 40178.17523952572, 5888.670925054191, 5189.676663836843, 3394.296870798705, 11068.566701500775, 5575.2125777225865, 3979.2204270803354, 4024.7717996666806, 6279.40221024941, 3908.936560926256, 12519.399378426779, 12962.366602469468, 9070.750223369676, 5011.636432119393, 5139.534863936257, 6851.1076029500355], \"Category\": [\"Default\", \"Default\", \"Default\", \"Default\", \"Default\", \"Default\", \"Default\", \"Default\", \"Default\", \"Default\", \"Default\", \"Default\", \"Default\", \"Default\", \"Default\", \"Default\", \"Default\", \"Default\", \"Default\", \"Default\", \"Default\", \"Default\", \"Default\", \"Default\", \"Default\", \"Default\", \"Default\", \"Default\", \"Default\", \"Default\", \"Topic1\", \"Topic1\", \"Topic1\", \"Topic1\", \"Topic1\", \"Topic1\", \"Topic1\", \"Topic1\", \"Topic1\", \"Topic1\", \"Topic1\", \"Topic1\", \"Topic1\", \"Topic1\", \"Topic1\", \"Topic1\", \"Topic1\", \"Topic1\", \"Topic1\", \"Topic1\", \"Topic1\", \"Topic1\", \"Topic1\", \"Topic1\", \"Topic1\", \"Topic1\", \"Topic1\", \"Topic1\", \"Topic1\", \"Topic1\", \"Topic1\", \"Topic1\", \"Topic1\", \"Topic1\", \"Topic1\", \"Topic1\", \"Topic1\", \"Topic1\", \"Topic1\", \"Topic1\", \"Topic1\", \"Topic1\", \"Topic1\", \"Topic1\", \"Topic1\", \"Topic1\", \"Topic1\", \"Topic1\", \"Topic1\", \"Topic1\", \"Topic1\", \"Topic1\", \"Topic1\", \"Topic1\", \"Topic1\", \"Topic1\", \"Topic1\", \"Topic1\", \"Topic1\", \"Topic1\", \"Topic1\", \"Topic1\", \"Topic1\", \"Topic1\", \"Topic1\", \"Topic1\", \"Topic1\", \"Topic1\", \"Topic1\", \"Topic1\", \"Topic1\", \"Topic1\", \"Topic1\", \"Topic1\", \"Topic1\", \"Topic1\", \"Topic1\", \"Topic1\", \"Topic1\", \"Topic1\", \"Topic1\", \"Topic1\", \"Topic1\", \"Topic1\", \"Topic1\", \"Topic1\", \"Topic1\", \"Topic1\", \"Topic1\", \"Topic1\", \"Topic1\", \"Topic1\", \"Topic1\", \"Topic1\", \"Topic1\", \"Topic1\", \"Topic1\", \"Topic2\", \"Topic2\", \"Topic2\", \"Topic2\", \"Topic2\", \"Topic2\", \"Topic2\", \"Topic2\", \"Topic2\", \"Topic2\", \"Topic2\", \"Topic2\", \"Topic2\", \"Topic2\", \"Topic2\", \"Topic2\", \"Topic2\", \"Topic2\", \"Topic2\", \"Topic2\", \"Topic2\", \"Topic2\", \"Topic2\", \"Topic2\", \"Topic2\", \"Topic2\", \"Topic2\", \"Topic2\", \"Topic2\", \"Topic2\", \"Topic2\", \"Topic2\", \"Topic2\", \"Topic2\", \"Topic2\", \"Topic2\", \"Topic2\", \"Topic2\", \"Topic2\", \"Topic2\", \"Topic2\", \"Topic2\", \"Topic2\", \"Topic2\", \"Topic2\", \"Topic2\", \"Topic2\", \"Topic2\", \"Topic2\", \"Topic2\", \"Topic2\", \"Topic2\", \"Topic2\", \"Topic2\", \"Topic2\", \"Topic2\", \"Topic2\", \"Topic2\", \"Topic2\", \"Topic2\", \"Topic2\", \"Topic2\", \"Topic2\", \"Topic2\", \"Topic2\", \"Topic2\", \"Topic2\", \"Topic2\", \"Topic2\", \"Topic2\", \"Topic2\", \"Topic2\", \"Topic2\", \"Topic2\", \"Topic2\", \"Topic2\", \"Topic2\", \"Topic2\", \"Topic2\", \"Topic2\", \"Topic2\", \"Topic2\", \"Topic2\", \"Topic2\", \"Topic2\", \"Topic2\", \"Topic2\", \"Topic2\", \"Topic2\", \"Topic2\", \"Topic2\", \"Topic2\", \"Topic2\"], \"logprob\": [30.0, 29.0, 28.0, 27.0, 26.0, 25.0, 24.0, 23.0, 22.0, 21.0, 20.0, 19.0, 18.0, 17.0, 16.0, 15.0, 14.0, 13.0, 12.0, 11.0, 10.0, 9.0, 8.0, 7.0, 6.0, 5.0, 4.0, 3.0, 2.0, 1.0, -7.698500156402588, -7.485000133514404, -7.034599781036377, -8.60420036315918, -7.997000217437744, -8.133899688720703, -8.45110034942627, -8.803400039672852, -8.372900009155273, -8.941300392150879, -8.494099617004395, -6.754499912261963, -8.847200393676758, -8.672300338745117, -8.992199897766113, -7.6691999435424805, -6.8471999168396, -8.71090030670166, -8.381999969482422, -8.589099884033203, -7.622700214385986, -8.804200172424316, -9.210599899291992, -8.94480037689209, -8.948200225830078, -9.119199752807617, -6.905600070953369, -9.412500381469727, -8.906299591064453, -9.326899528503418, -5.030300140380859, -5.442399978637695, -6.6620001792907715, -5.9629998207092285, -6.624000072479248, -6.354700088500977, -6.874199867248535, -6.8927998542785645, -6.272600173950195, -6.918300151824951, -7.135499954223633, -6.922699928283691, -7.2256999015808105, -7.786099910736084, -7.694499969482422, -7.4832000732421875, -7.291999816894531, -7.625899791717529, -7.199999809265137, -5.145699977874756, -7.3308000564575195, -4.127500057220459, -5.494999885559082, -6.195199966430664, -6.737500190734863, -6.67549991607666, -6.954899787902832, -7.155200004577637, -5.953199863433838, -6.657700061798096, -6.6859002113342285, -5.595099925994873, -6.289000034332275, -6.488399982452393, -6.786499977111816, -5.884799957275391, -5.186100006103516, -6.69789981842041, -5.3618998527526855, -5.549799919128418, -5.642099857330322, -5.101900100708008, -5.847400188446045, -6.305300235748291, -6.2220001220703125, -6.240799903869629, -6.039700031280518, -6.48390007019043, -5.748799800872803, -5.3078999519348145, -5.80649995803833, -6.132699966430664, -4.210100173950195, -5.147900104522705, -5.6255998611450195, -5.9903998374938965, -5.253200054168701, -5.772200107574463, -5.984399795532227, -5.594900131225586, -5.782899856567383, -5.826000213623047, -5.602399826049805, -5.912199974060059, -5.928199768066406, -5.927000045776367, -5.9369001388549805, -7.962900161743164, -8.669899940490723, -8.761899948120117, -8.76200008392334, -8.739999771118164, -8.76200008392334, -6.416399955749512, -8.690400123596191, -8.776100158691406, -7.789700031280518, -8.303299903869629, -8.338899612426758, -8.99020004272461, -8.691100120544434, -9.08590030670166, -8.73009967803955, -8.791399955749512, -8.8572998046875, -8.515000343322754, -8.34160041809082, -7.122099876403809, -9.137800216674805, -9.272100448608398, -8.877900123596191, -9.248600006103516, -8.657299995422363, -9.18970012664795, -9.268099784851074, -8.660799980163574, -8.909000396728516, -6.7382001876831055, -7.868299961090088, -7.914000034332275, -7.274499893188477, -7.162300109863281, -6.703800201416016, -6.956999778747559, -6.7256999015808105, -7.779900074005127, -8.59939956665039, -6.7093000411987305, -7.304299831390381, -7.2281999588012695, -6.489099979400635, -7.6753997802734375, -6.768499851226807, -7.072199821472168, -6.803400039672852, -8.255599975585938, -8.503000259399414, -6.261199951171875, -7.176799774169922, -7.878499984741211, -5.696199893951416, -7.73769998550415, -6.010700225830078, -5.833099842071533, -7.1697998046875, -7.311500072479248, -6.333799839019775, -6.151599884033203, -5.49429988861084, -6.0802001953125, -5.100399971008301, -5.367000102996826, -4.565700054168701, -7.152900218963623, -6.651599884033203, -5.753600120544434, -5.098999977111816, -5.833899974822998, -5.73360013961792, -6.399400234222412, -5.685500144958496, -5.6315999031066895, -6.5131001472473145, -6.04610013961792, -4.350399971008301, -5.850500106811523, -5.950099945068359, -6.256199836730957, -5.508299827575684, -5.949100017547607, -6.163300037384033, -6.161300182342529, -5.931700229644775, -6.208799839019775, -5.723700046539307, -5.84630012512207, -6.008299827575684, -6.168399810791016, -6.168600082397461, -6.198699951171875], \"loglift\": [30.0, 29.0, 28.0, 27.0, 26.0, 25.0, 24.0, 23.0, 22.0, 21.0, 20.0, 19.0, 18.0, 17.0, 16.0, 15.0, 14.0, 13.0, 12.0, 11.0, 10.0, 9.0, 8.0, 7.0, 6.0, 5.0, 4.0, 3.0, 2.0, 1.0, 0.5874, 0.5873, 0.5865, 0.5865, 0.5862, 0.5862, 0.5862, 0.5861, 0.5861, 0.5861, 0.5861, 0.586, 0.5859, 0.5859, 0.5859, 0.5858, 0.5858, 0.5857, 0.5857, 0.5856, 0.5855, 0.5853, 0.5853, 0.5851, 0.5851, 0.5851, 0.5851, 0.5851, 0.5851, 0.585, 0.5831, 0.5762, 0.5844, 0.5762, 0.5813, 0.5785, 0.5824, 0.5822, 0.5728, 0.5793, 0.5811, 0.5789, 0.5797, 0.5842, 0.5831, 0.5809, 0.5788, 0.5817, 0.5773, 0.5565, 0.5785, 0.528, 0.5501, 0.5635, 0.5704, 0.5685, 0.5728, 0.5755, 0.5436, 0.5644, 0.5621, 0.524, 0.5481, 0.5518, 0.5619, 0.5213, 0.4802, 0.5581, 0.4596, 0.4641, 0.4686, 0.4162, 0.4645, 0.5142, 0.4969, 0.4987, 0.4682, 0.5318, 0.4034, 0.3243, 0.411, 0.463, 0.0601, 0.2535, 0.3264, 0.4214, 0.183, 0.3192, 0.3873, 0.1635, 0.2344, 0.1833, -0.0431, 0.2432, 0.2468, 0.1121, -0.8372, 0.8067, 0.8053, 0.8052, 0.8052, 0.8052, 0.8052, 0.8051, 0.8051, 0.805, 0.805, 0.8049, 0.8046, 0.8044, 0.8044, 0.8043, 0.8041, 0.804, 0.804, 0.8039, 0.8039, 0.8036, 0.8036, 0.8036, 0.8035, 0.8032, 0.8031, 0.8029, 0.8028, 0.8028, 0.8026, 0.7977, 0.8026, 0.8026, 0.796, 0.7929, 0.7883, 0.7898, 0.7848, 0.7948, 0.8023, 0.7806, 0.7867, 0.7819, 0.7649, 0.7889, 0.7702, 0.7755, 0.7697, 0.798, 0.8006, 0.7514, 0.7672, 0.7876, 0.7182, 0.7806, 0.7256, 0.714, 0.7592, 0.7637, 0.7103, 0.7, 0.6582, 0.692, 0.5971, 0.6078, 0.534, 0.7487, 0.6956, 0.5895, 0.487, 0.5661, 0.5357, 0.6383, 0.5066, 0.4897, 0.655, 0.4657, -0.0802, 0.34, 0.3667, 0.4852, 0.0511, 0.296, 0.4191, 0.4098, 0.1946, 0.3914, -0.2875, -0.4449, -0.2499, 0.1833, 0.1579, -0.1597]}, \"token.table\": {\"Topic\": [1, 2, 1, 2, 1, 2, 1, 2, 1, 2, 1, 2, 1, 2, 1, 2, 1, 2, 1, 2, 1, 2, 1, 2, 1, 2, 1, 2, 1, 2, 1, 2, 1, 2, 1, 2, 1, 2, 1, 2, 1, 2, 1, 2, 1, 2, 1, 2, 1, 2, 1, 2, 1, 2, 1, 2, 1, 2, 1, 2, 1, 2, 1, 2, 1, 2, 1, 2, 1, 2, 1, 2, 1, 2, 1, 2, 1, 2, 1, 2, 1, 2, 1, 2, 1, 2, 1, 2, 1, 2, 1, 2, 1, 2, 1, 2, 1, 2, 1, 2, 1, 2, 1, 2, 1, 2, 1, 2, 1, 2, 1, 2, 1, 2, 1, 2, 1, 2, 1, 2, 1, 2, 1, 2, 1, 2, 1, 2, 1, 2, 1, 2, 1, 2, 1, 2, 1, 2, 1, 2, 1, 2, 1, 2, 1, 2, 1, 2, 1, 2, 1, 2, 1, 2, 1, 2, 1, 2, 1, 2, 1, 2, 1, 2, 1, 2, 1, 2, 1, 2, 1, 2, 1, 2, 1, 2, 1, 2, 1, 2, 1, 2, 1, 2, 1, 2, 1, 2, 1, 2, 1, 2, 1, 2, 1, 2, 1, 2, 1, 2, 1, 2, 1, 2, 1, 2, 1, 2, 1, 2, 1, 2, 1, 2, 1, 2, 1, 2, 1, 2, 1, 2, 1, 2, 1, 2, 1, 2, 1, 2, 1, 2, 1, 2, 1, 2, 1, 2, 1, 2, 1, 2, 1, 2, 1, 2, 1, 2, 1, 2, 1, 2, 1, 2, 1, 2, 1, 2, 1, 2, 1, 2, 1, 2, 1, 2, 1, 2, 1, 2, 1, 2, 1, 2, 1, 2, 1, 2, 1, 2, 1, 2, 1, 2, 1, 2, 1, 2, 1, 2, 1, 2, 1, 2, 1, 2, 1, 2, 1, 2, 1, 2, 1, 2, 1, 2, 1, 2, 1, 2, 1, 2, 1, 2, 1, 2, 1, 2, 1, 2, 1, 2, 1, 2, 1, 2, 1, 2, 1, 2, 1, 2, 1, 2, 1, 2, 1, 2, 1, 2, 1, 2, 1, 2, 1, 2, 1, 2, 1, 2, 1, 2, 1, 2, 1, 2, 1, 2, 1, 2, 1, 2, 1, 2, 1, 2], \"Freq\": [0.9951385495394575, 0.0050259522704013005, 0.9958393988719086, 0.003054722082429168, 0.9964057524921673, 0.0027298787739511434, 0.2386837193266999, 0.7612522318479736, 0.9592427823802467, 0.040846431422747916, 0.10689993622390348, 0.8929923965370523, 0.005113420557591363, 0.997117008730316, 0.97885711525069, 0.02094072435610929, 0.972553003951526, 0.027382085581340098, 0.07943531681104826, 0.9203944457073489, 0.0044681755238485206, 0.9964031418182201, 0.9878460900464525, 0.012451841471173772, 0.8167679753922996, 0.1832231250880034, 0.01224237330128609, 0.9871804652946148, 0.9962056127724177, 0.004789450061405854, 0.9830871202024989, 0.01681596389820064, 0.974237412480386, 0.025779820761019444, 0.9985005088882727, 0.004777514396594606, 0.8406045120185225, 0.15933083356605593, 0.9725195761531436, 0.027570038012123578, 0.006866685685304749, 0.9956694243691886, 0.46471846702077685, 0.5351545420994949, 0.005040781111678563, 0.9980746601123556, 0.09370388798058733, 0.906335903744149, 0.04830721825591667, 0.9516521996415583, 0.003878547129100111, 0.9967866121787284, 0.2901428210830992, 0.7097844154179771, 0.09024130796864015, 0.9099331886837881, 0.9401176012388612, 0.05989618250284175, 0.9962195017660508, 0.003411710622486475, 0.018517917357566135, 0.9814496199510051, 0.3741081863866806, 0.6259476963328664, 0.020189556057252006, 0.9791934687767222, 0.996494318060773, 0.007017565620146289, 0.005743896391900981, 0.9936940757988698, 0.993972425299167, 0.006845540119140269, 0.7096106356102523, 0.29043206268968147, 0.004971444216930093, 0.9942888433860186, 0.019800095005257364, 0.9801047027602395, 0.0048145689420306375, 0.9956528572119359, 0.9892398709555807, 0.01071151452627062, 0.9889515265723587, 0.011063694451007983, 0.007638851200865067, 0.9930506561124587, 0.9888985012209736, 0.010937126280784961, 0.27491347305587716, 0.7250924036218966, 0.004810097457979485, 0.9956901738017534, 0.877896784930374, 0.12210948994618015, 0.5888022504498205, 0.41119338799008687, 0.9939291361875621, 0.0076456087399043235, 0.9438259101778758, 0.05620318561634168, 0.9548636382049752, 0.045217026597771236, 0.9914427016724929, 0.008433822604019316, 0.9975197733686788, 0.003792850849310566, 0.8854673952346245, 0.11453226845632261, 0.9942904151282017, 0.006007797070261038, 0.6529779625879364, 0.34704957390289104, 0.836260032150439, 0.16365781559714412, 0.9947215260174598, 0.004162014753211128, 0.9689391783266778, 0.03104942433091592, 0.008266888452944467, 0.9920266143533361, 0.9947045968076069, 0.0041619439196971, 0.700992365471314, 0.29907864981600074, 0.9272672443789208, 0.07262690886925248, 0.7144528683701694, 0.28551884956678514, 0.9908538142424835, 0.00884690905573646, 0.7070280178108858, 0.2928460203641563, 0.004534375251082393, 0.9975625552381264, 0.9889268553613517, 0.011366975348981054, 0.9959566825189702, 0.003754279363291756, 0.9865672301913943, 0.013442139388025954, 0.9865641865782298, 0.01347831042897801, 0.9973595723721733, 0.004262220394752878, 0.9628534645973599, 0.037338376927455376, 0.055639240461329294, 0.9443215533853389, 0.008227250312689234, 0.9954972878353973, 0.9979312000179842, 0.0022300138547887917, 0.8450548514370149, 0.1548984695086404, 0.003333101162370831, 0.9965972475488785, 0.0031413639123038014, 0.9958123602003051, 0.021583718310171883, 0.9780832350030522, 0.0049713438338706934, 0.9942687667741387, 0.01586889075075552, 0.9848630322187646, 0.9672134917400889, 0.032723309600946875, 0.99481052412299, 0.00480584794262314, 0.9896977934096187, 0.010668904557998425, 0.3410134647168933, 0.659002764524169, 0.18177027480393118, 0.8182399870315517, 0.019972034940938965, 0.979877964289818, 0.9935744465763272, 0.006248895890417152, 0.7629553668887101, 0.23714516745462427, 0.04279483221598779, 0.9572269366932441, 0.6201916896138681, 0.37979260446582364, 0.9980905570988476, 0.002760969729180768, 0.027866269659323158, 0.971836154368895, 0.4008815751583365, 0.5990802957623462, 0.3570549997675647, 0.642814613720775, 0.32242496325878905, 0.6775196422024126, 0.9969067235213452, 0.00355023761937801, 0.26060871531443025, 0.7394687241983213, 0.0032608278115497263, 0.9945524825226665, 0.10998153122527596, 0.8898781904940146, 0.9927324893205516, 0.00722863463097489, 0.006370517258550276, 0.993800692333843, 0.9806372724865491, 0.019207823759662422, 0.27634589303889645, 0.723861257139199, 0.04360820352316626, 0.9560260003155681, 0.24001924488426182, 0.7599943810561568, 0.8809133106731974, 0.1189322104898477, 0.8859420931384947, 0.11415324669111931, 0.0046271567317986055, 0.9948386973367003, 0.9962753229287811, 0.003831828165110696, 0.05827898938856056, 0.9418636672151239, 0.6657667630895084, 0.33420133614475145, 0.023521906872699744, 0.9764769988234272, 0.6660464123857468, 0.3339441382670081, 0.19663145020855013, 0.8033403614657164, 0.8822789006234565, 0.11773945772284336, 0.004482068218587245, 0.9950191445263685, 0.9953670135433743, 0.004362911142644721, 0.02740202320960389, 0.9727718239409381, 0.04021018512359494, 0.9591600256311184, 0.7684648999269381, 0.23158299821962566, 0.9958235773707932, 0.002706042329811938, 0.9961588016461744, 0.003717010453903636, 0.9903808517541356, 0.010245319156077265, 0.3287142888721211, 0.6710939487857892, 0.99267948428341, 0.007362270588010458, 0.9856788446045546, 0.014262234085917992, 0.2730374650996685, 0.7270434648156001, 0.47825339550619794, 0.5218371060812135, 0.9949632041553438, 0.002926362365162776, 0.14219835188946786, 0.8577043447301236, 0.003254382315317722, 0.995840988487223, 0.7668613576464957, 0.23310952825569478, 0.9956022874946282, 0.004347608242334621, 0.9957623867448246, 0.004015170914293648, 0.9747976774678746, 0.025251357236460093, 0.9948070885547586, 0.005369420006919698, 0.004863325214172026, 0.9969816689052653, 0.003759508162600599, 0.9962696630891588, 0.004627110729829345, 0.9948288069133091, 0.002239225056481725, 0.9986943751908494, 0.896210417621656, 0.1038574558450943, 0.006085834772798716, 0.9940196795571236, 0.9364631471270354, 0.06356943349291932, 0.9913732758836131, 0.008593464172355984, 0.007607978742825098, 0.9966452153100879, 0.026193328642768972, 0.973344092365295, 0.9978427742025677, 0.005701958709728959, 0.01289819823026466, 0.9857908647416561, 0.007227616676112761, 0.997411101303561, 0.21526553412488147, 0.7848397100195095, 0.005572971095975439, 0.9975618261796035, 0.8299695933426862, 0.16998195688782858, 0.9934091936589255, 0.006675496165510684, 0.9611078724766124, 0.038914222491413644, 0.9833332741243797, 0.016672206442933296, 0.1905466328251713, 0.8094860765202161, 0.9954193173520028, 0.004608422765518531, 0.9971640366726777, 0.003357454668931575, 0.9964566255903711, 0.0036500242695617986, 0.4588016348590562, 0.5412935636535688, 0.9918097806161397, 0.007658762784680615, 0.9130453520759381, 0.08704071633316511, 0.1029588728059021, 0.8970250675453515, 0.13961478331340238, 0.860412885923228, 0.010432761608303857, 0.9891562099873094, 0.9114124116105092, 0.08872156219217346, 0.9337239595659989, 0.0661528256551723, 0.9960489212604925, 0.004118335764219402, 0.0054616960305944404, 0.9940286775681881, 0.011898627103791616, 0.9905607063906521, 0.03206596949254984, 0.9673234130252536, 0.006240837066107569, 0.9985339305772111, 0.08624694388452354, 0.9136652848456547, 0.1565157530522797, 0.8436000968311479, 0.004971334157974394, 0.9992381657528532, 0.0378983808267024, 0.9616714134775735, 0.0372728126024117, 0.9625540377324565, 0.0042128815044309735, 0.9942400350457098, 0.8818551408511275, 0.11813101467179403, 0.5310534018106435, 0.46889539901280025, 0.008070978663969238, 0.9927303756682163], \"Term\": [\"abacha\", \"abacha\", \"actua\", \"actua\", \"additiona\", \"additiona\", \"address\", \"address\", \"advice\", \"advice\", \"agent\", \"agent\", \"aimee\", \"aimee\", \"anticipate\", \"anticipate\", \"assets\", \"assets\", \"attach\", \"attach\", \"autodesk\", \"autodesk\", \"bankruptcy\", \"bankruptcy\", \"base\", \"base\", \"batch\", \"batch\", \"beiiefs\", \"beiiefs\", \"belief\", \"belief\", \"billion\", \"billion\", \"biosphere\", \"biosphere\", \"business\", \"business\", \"certain\", \"certain\", \"certificao\", \"certificao\", \"change\", \"change\", \"cheaap\", \"cheaap\", \"check\", \"check\", \"cialis\", \"cialis\", \"ciick\", \"ciick\", \"claim\", \"claim\", \"click\", \"click\", \"company\", \"company\", \"confiict\", \"confiict\", \"congratulations\", \"congratulations\", \"contact\", \"contact\", \"coordinator\", \"coordinator\", \"corei\", \"corei\", \"cotten\", \"cotten\", \"couid\", \"couid\", \"could\", \"could\", \"countrieswe\", \"countrieswe\", \"crenshaw\", \"crenshaw\", \"daren\", \"daren\", \"differ\", \"differ\", \"dynegy\", \"dynegy\", \"dysfunction\", \"dysfunction\", \"earnings\", \"earnings\", \"email\", \"email\", \"empresas\", \"empresas\", \"energy\", \"energy\", \"enron\", \"enron\", \"environmenta\", \"environmenta\", \"exchange\", \"exchange\", \"expect\", \"expect\", \"expectation\", \"expectation\", \"fiiings\", \"fiiings\", \"financial\", \"financial\", \"foresee\", \"foresee\", \"forward\", \"forward\", \"future\", \"future\", \"goais\", \"goais\", \"government\", \"government\", \"hplno\", \"hplno\", \"iaagra\", \"iaagra\", \"include\", \"include\", \"industry\", \"industry\", \"information\", \"information\", \"inherent\", \"inherent\", \"interest\", \"interest\", \"intuit\", \"intuit\", \"invest\", \"invest\", \"investing\", \"investing\", \"investment\", \"investment\", \"investor\", \"investor\", \"invoive\", \"invoive\", \"involve\", \"involve\", \"kaminski\", \"kaminski\", \"lannou\", \"lannou\", \"lauraan\", \"lauraan\", \"looking\", \"looking\", \"lottery\", \"lottery\", \"lotto\", \"lotto\", \"lucky\", \"lucky\", \"macrmedia\", \"macrmedia\", \"mail\", \"mail\", \"market\", \"market\", \"materialiy\", \"materialiy\", \"meaning\", \"meaning\", \"meeting\", \"meeting\", \"message\", \"message\", \"meter\", \"meter\", \"miilennium\", \"miilennium\", \"million\", \"million\", \"mmbtu\", \"mmbtu\", \"money\", \"money\", \"newsietter\", \"newsietter\", \"nomination\", \"nomination\", \"number\", \"number\", \"offer\", \"offer\", \"online\", \"online\", \"ooking\", \"ooking\", \"order\", \"order\", \"orgasm\", \"orgasm\", \"original\", \"original\", \"partnership\", \"partnership\", \"penis\", \"penis\", \"percent\", \"percent\", \"phone\", \"phone\", \"pill\", \"pill\", \"please\", \"please\", \"position\", \"position\", \"power\", \"power\", \"powerquest\", \"powerquest\", \"prediction\", \"prediction\", \"prescription\", \"prescription\", \"price\", \"price\", \"prize\", \"prize\", \"product\", \"product\", \"program\", \"program\", \"project\", \"project\", \"projecthoneypot\", \"projecthoneypot\", \"projection\", \"projection\", \"promotion\", \"promotion\", \"promotional\", \"promotional\", \"provide\", \"provide\", \"pubiication\", \"pubiication\", \"pubiisher\", \"pubiisher\", \"publisher\", \"publisher\", \"question\", \"question\", \"rating\", \"rating\", \"reader\", \"reader\", \"receive\", \"receive\", \"regard\", \"regard\", \"reiease\", \"reiease\", \"remove\", \"remove\", \"replica\", \"replica\", \"report\", \"report\", \"resuiting\", \"resuiting\", \"resuits\", \"resuits\", \"revenue\", \"revenue\", \"risk\", \"risk\", \"riverdeep\", \"riverdeep\", \"rolex\", \"rolex\", \"roxio\", \"roxio\", \"saave\", \"saave\", \"security\", \"security\", \"serial\", \"serial\", \"share\", \"share\", \"shareholder\", \"shareholder\", \"shiiip\", \"shiiip\", \"shirley\", \"shirley\", \"simiiar\", \"simiiar\", \"sitara\", \"sitara\", \"siteguaaranteed\", \"siteguaaranteed\", \"software\", \"software\", \"squirrelmail\", \"squirrelmail\", \"state\", \"state\", \"statement\", \"statement\", \"stock\", \"stock\", \"stocks\", \"stocks\", \"subject\", \"subject\", \"symbo\", \"symbo\", \"sysiync\", \"sysiync\", \"syslync\", \"syslync\", \"system\", \"system\", \"technoiogy\", \"technoiogy\", \"technology\", \"technology\", \"thank\", \"thank\", \"thanks\", \"thanks\", \"ticket\", \"ticket\", \"trade\", \"trade\", \"trading\", \"trading\", \"uncertainty\", \"uncertainty\", \"unscrupulous\", \"unscrupulous\", \"unwarranted\", \"unwarranted\", \"viagra\", \"viagra\", \"vibrator\", \"vibrator\", \"vince\", \"vince\", \"visit\", \"visit\", \"vmware\", \"vmware\", \"winner\", \"winner\", \"winning\", \"winning\", \"winnings\", \"winnings\", \"within\", \"within\", \"would\", \"would\", \"youcheckk\", \"youcheckk\"]}, \"R\": 30, \"lambda.step\": 0.01, \"plot.opts\": {\"xlab\": \"PC1\", \"ylab\": \"PC2\"}, \"topic.order\": [2, 1]};\n",
       "if(typeof(window.LDAvis) !== \"undefined\"){\n",
       "   !function(LDAvis){\n",
       "       new LDAvis(\"#\" + \"ldavis_el1958418132032735367255053101\", ldavis_el1958418132032735367255053101_data);\n",
       "   }(LDAvis);\n",
       "}else{\n",
       "  require.config({paths: {d3: \"https://cdnjs.cloudflare.com/ajax/libs/d3/3.5.5/d3.min\"}});\n",
       "  require([\"d3\"], function(d3){\n",
       "    window.d3 = d3;\n",
       "    $.getScript(\"https://cdn.rawgit.com/bmabey/pyLDAvis/files/ldavis.v1.0.0.js\", function(){\n",
       "       new LDAvis(\"#\" + \"ldavis_el1958418132032735367255053101\", ldavis_el1958418132032735367255053101_data);\n",
       "    });\n",
       "  });\n",
       "}\n",
       "</script>"
      ],
      "text/plain": [
       "<IPython.core.display.HTML object>"
      ]
     },
     "execution_count": 33,
     "metadata": {},
     "output_type": "execute_result"
    }
   ],
   "source": [
    "pyLDAvis.display(lda_display, template_type='notebook')"
   ]
  },
  {
   "cell_type": "markdown",
   "metadata": {},
   "source": [
    "### Classification"
   ]
  },
  {
   "cell_type": "markdown",
   "metadata": {},
   "source": [
    "Here we look at classification using our LDA model and we want to see how well the model identifies spam vs non-spam emails. We need to generate a classification output from the Bag of Words Corpus for each document. We do this by using only 2 topics and creating a list of the assignment of a document to a topic. In the case where the LDA model produces probablities for both topics, we take the largest one to be the topic assignment."
   ]
  },
  {
   "cell_type": "code",
   "execution_count": 35,
   "metadata": {},
   "outputs": [
    {
     "name": "stderr",
     "output_type": "stream",
     "text": [
      "C:\\Users\\corri\\anaconda3\\lib\\site-packages\\ipykernel\\ipkernel.py:287: DeprecationWarning: `should_run_async` will not call `transform_cell` automatically in the future. Please pass the result to `transformed_cell` argument and any exception that happen during thetransform in `preprocessing_exc_tuple` in IPython 7.17 and above.\n",
      "  and should_run_async(code)\n"
     ]
    }
   ],
   "source": [
    "y_pred = []\n",
    "y_actual = list(df['spam'])\n",
    "\n",
    "for i in range(0,len(df)):\n",
    "    for index, score in sorted(lda_model[bow_corpus[i]], key=lambda tup: -1*tup[1]):\n",
    "        if score >= 0.5 and index == 0:\n",
    "            y_pred.append(0)\n",
    "            break\n",
    "        elif score > 0.5 and index == 1:\n",
    "            y_pred.append(1)\n",
    "            break"
   ]
  },
  {
   "cell_type": "markdown",
   "metadata": {},
   "source": [
    "As a check to ensure the above code has worked and will be compatible with our confusion matrix, we check the length of both the lists."
   ]
  },
  {
   "cell_type": "code",
   "execution_count": 36,
   "metadata": {},
   "outputs": [
    {
     "name": "stdout",
     "output_type": "stream",
     "text": [
      "27716 27716\n"
     ]
    },
    {
     "name": "stderr",
     "output_type": "stream",
     "text": [
      "C:\\Users\\corri\\anaconda3\\lib\\site-packages\\ipykernel\\ipkernel.py:287: DeprecationWarning: `should_run_async` will not call `transform_cell` automatically in the future. Please pass the result to `transformed_cell` argument and any exception that happen during thetransform in `preprocessing_exc_tuple` in IPython 7.17 and above.\n",
      "  and should_run_async(code)\n"
     ]
    }
   ],
   "source": [
    "print(len(y_actual), len(y_pred))"
   ]
  },
  {
   "cell_type": "markdown",
   "metadata": {},
   "source": [
    "Next we define our confusion matrix and classification report. We use sklearn metrics to generate this, in a similar way to project 1 and evaluate."
   ]
  },
  {
   "cell_type": "code",
   "execution_count": 37,
   "metadata": {},
   "outputs": [
    {
     "name": "stderr",
     "output_type": "stream",
     "text": [
      "C:\\Users\\corri\\anaconda3\\lib\\site-packages\\ipykernel\\ipkernel.py:287: DeprecationWarning: `should_run_async` will not call `transform_cell` automatically in the future. Please pass the result to `transformed_cell` argument and any exception that happen during thetransform in `preprocessing_exc_tuple` in IPython 7.17 and above.\n",
      "  and should_run_async(code)\n"
     ]
    }
   ],
   "source": [
    "from sklearn.metrics import confusion_matrix, classification_report\n",
    "\n",
    "def classification_eval(y_true,y_pred):\n",
    "    \n",
    "    print(\"Confusion Matrix\")\n",
    "    C = confusion_matrix(y_true,y_pred)\n",
    "    \n",
    "    print('Classification report')\n",
    "    print(classification_report(y_true, y_pred, target_names = ['Normal', 'Spam'], digits=3))"
   ]
  },
  {
   "cell_type": "code",
   "execution_count": 38,
   "metadata": {},
   "outputs": [
    {
     "name": "stdout",
     "output_type": "stream",
     "text": [
      "Confusion Matrix\n",
      "Classification report\n",
      "              precision    recall  f1-score   support\n",
      "\n",
      "      Normal      0.540     0.749     0.628     15046\n",
      "        Spam      0.449     0.243     0.315     12670\n",
      "\n",
      "    accuracy                          0.518     27716\n",
      "   macro avg      0.494     0.496     0.471     27716\n",
      "weighted avg      0.498     0.518     0.485     27716\n",
      "\n"
     ]
    },
    {
     "name": "stderr",
     "output_type": "stream",
     "text": [
      "C:\\Users\\corri\\anaconda3\\lib\\site-packages\\ipykernel\\ipkernel.py:287: DeprecationWarning: `should_run_async` will not call `transform_cell` automatically in the future. Please pass the result to `transformed_cell` argument and any exception that happen during thetransform in `preprocessing_exc_tuple` in IPython 7.17 and above.\n",
      "  and should_run_async(code)\n"
     ]
    }
   ],
   "source": [
    "classification_eval(y_actual,y_pred)"
   ]
  },
  {
   "cell_type": "markdown",
   "metadata": {},
   "source": [
    "The results here aren't particularly confidence inspiring. We choose the spam/normal assignment based on the 'look' or understanding of the topics and the keywords contained within them. This leads to to the above result which isn't particularly strong. It is noted in the LDA block that it shouldn't be used for classification and should be a keyword generator so this may be the reason why. The later models we consider should improve upon this result when we get the 'correct' amount of topics."
   ]
  },
  {
   "cell_type": "markdown",
   "metadata": {},
   "source": [
    "### Perplexity and Coherence"
   ]
  },
  {
   "cell_type": "markdown",
   "metadata": {},
   "source": [
    "In this section we review the perplexity and coherence of the model above. This also helps us define coherence functions which will be used later to evaluate the 'correct' number of topics, k."
   ]
  },
  {
   "cell_type": "code",
   "execution_count": 39,
   "metadata": {},
   "outputs": [
    {
     "name": "stderr",
     "output_type": "stream",
     "text": [
      "C:\\Users\\corri\\anaconda3\\lib\\site-packages\\ipykernel\\ipkernel.py:287: DeprecationWarning: `should_run_async` will not call `transform_cell` automatically in the future. Please pass the result to `transformed_cell` argument and any exception that happen during thetransform in `preprocessing_exc_tuple` in IPython 7.17 and above.\n",
      "  and should_run_async(code)\n"
     ]
    }
   ],
   "source": [
    "from gensim.models.coherencemodel import CoherenceModel\n",
    "def getCoherence(m,c,d):\n",
    "    coherence_model_lda = CoherenceModel(model=m,corpus=c, dictionary=d, coherence='u_mass')\n",
    "    coherence_lda = coherence_model_lda.get_coherence()\n",
    "    return(coherence_lda)"
   ]
  },
  {
   "cell_type": "code",
   "execution_count": 40,
   "metadata": {},
   "outputs": [
    {
     "name": "stderr",
     "output_type": "stream",
     "text": [
      "C:\\Users\\corri\\anaconda3\\lib\\site-packages\\ipykernel\\ipkernel.py:287: DeprecationWarning: `should_run_async` will not call `transform_cell` automatically in the future. Please pass the result to `transformed_cell` argument and any exception that happen during thetransform in `preprocessing_exc_tuple` in IPython 7.17 and above.\n",
      "  and should_run_async(code)\n"
     ]
    }
   ],
   "source": [
    "from gensim.models.coherencemodel import CoherenceModel\n",
    "def getCoherence2(m,t,d):\n",
    "    coherence_model_lda2 = CoherenceModel(model=m,texts = t, dictionary=d, coherence='c_v')\n",
    "    coherence_lda2 = coherence_model_lda2.get_coherence()\n",
    "    return(coherence_lda2)"
   ]
  },
  {
   "cell_type": "code",
   "execution_count": 41,
   "metadata": {},
   "outputs": [
    {
     "name": "stderr",
     "output_type": "stream",
     "text": [
      "C:\\Users\\corri\\anaconda3\\lib\\site-packages\\ipykernel\\ipkernel.py:287: DeprecationWarning: `should_run_async` will not call `transform_cell` automatically in the future. Please pass the result to `transformed_cell` argument and any exception that happen during thetransform in `preprocessing_exc_tuple` in IPython 7.17 and above.\n",
      "  and should_run_async(code)\n"
     ]
    },
    {
     "name": "stdout",
     "output_type": "stream",
     "text": [
      "lda_model perplexity: -8.43029808763541\n",
      "lda_model coherence using u_mass: -1.4790972104814555\n",
      "lda_model coherence using c_v: 0.42470925610898275\n"
     ]
    }
   ],
   "source": [
    "print(\"lda_model perplexity: {}\".format(lda_model.log_perplexity(bow_corpus)))\n",
    "print(\"lda_model coherence using u_mass: {}\".format(getCoherence(lda_model,bow_corpus,dictionary)))\n",
    "print(\"lda_model coherence using c_v: {}\".format(getCoherence2(lda_model,processed_text, dictionary)))"
   ]
  },
  {
   "cell_type": "markdown",
   "metadata": {},
   "source": [
    "### Choosing K (Number of Topics)"
   ]
  },
  {
   "cell_type": "markdown",
   "metadata": {},
   "source": [
    "Now that we've reviewed the accuracy when using just two topics, we want to understand how many topics there actually are within our emails. We'll use code from [10] with amendments to test the coherence of a range of topic numbers and find the best k. After this, we'll look at the words within these topics and see if we can discern a label for each topic. We're going to use u_mass coherence in the first function and c_v coherence in the second."
   ]
  },
  {
   "cell_type": "code",
   "execution_count": 42,
   "metadata": {},
   "outputs": [
    {
     "name": "stderr",
     "output_type": "stream",
     "text": [
      "C:\\Users\\corri\\anaconda3\\lib\\site-packages\\ipykernel\\ipkernel.py:287: DeprecationWarning: `should_run_async` will not call `transform_cell` automatically in the future. Please pass the result to `transformed_cell` argument and any exception that happen during thetransform in `preprocessing_exc_tuple` in IPython 7.17 and above.\n",
      "  and should_run_async(code)\n"
     ]
    }
   ],
   "source": [
    "def compute_coherence_values(dictionary, corpus, limit, start, step):\n",
    "    \n",
    "    coherence_values = []\n",
    "    model_list = []\n",
    "    for num_topics in range(start, limit, step):\n",
    "        \n",
    "        clear_output(wait=True) # outputting num_topics\n",
    "        display('Currently finding u_mass coherence with topic: '+str(num_topics)+' of '+str(limit-2)+'.')\n",
    "        \n",
    "        model = gensim.models.LdaMulticore(bow_corpus, num_topics = num_topics, id2word=dictionary, chunksize = 2772, passes=10, workers = 8)\n",
    "        model_list.append(model)\n",
    "        coherencescore = getCoherence(model,bow_corpus,dictionary)\n",
    "        coherence_values.append(coherencescore)\n",
    "\n",
    "    return model_list, coherence_values"
   ]
  },
  {
   "cell_type": "code",
   "execution_count": 43,
   "metadata": {},
   "outputs": [
    {
     "name": "stderr",
     "output_type": "stream",
     "text": [
      "C:\\Users\\corri\\anaconda3\\lib\\site-packages\\ipykernel\\ipkernel.py:287: DeprecationWarning: `should_run_async` will not call `transform_cell` automatically in the future. Please pass the result to `transformed_cell` argument and any exception that happen during thetransform in `preprocessing_exc_tuple` in IPython 7.17 and above.\n",
      "  and should_run_async(code)\n"
     ]
    }
   ],
   "source": [
    "def compute_coherence_values2(dictionary, corpus, text, limit, start, step):\n",
    "    \n",
    "    coherence_values2 = []\n",
    "    model_list = []\n",
    "    for num_topics in range(start, limit, step):\n",
    "        \n",
    "        clear_output(wait=True) # outputting num_topics\n",
    "        display('Currently finding c_v coherence with topic: '+str(num_topics)+' of '+str(limit-2)+'.')\n",
    "        \n",
    "        model = gensim.models.LdaMulticore(bow_corpus, num_topics = num_topics, id2word=dictionary, chunksize = 2772, passes=10, workers = 8)\n",
    "        model_list.append(model)\n",
    "        coherencescore = getCoherence2(model,processed_text,dictionary)\n",
    "        coherence_values2.append(coherencescore)\n",
    "\n",
    "    return model_list, coherence_values2"
   ]
  },
  {
   "cell_type": "code",
   "execution_count": 44,
   "metadata": {},
   "outputs": [
    {
     "name": "stderr",
     "output_type": "stream",
     "text": [
      "C:\\Users\\corri\\anaconda3\\lib\\site-packages\\ipykernel\\ipkernel.py:287: DeprecationWarning: `should_run_async` will not call `transform_cell` automatically in the future. Please pass the result to `transformed_cell` argument and any exception that happen during thetransform in `preprocessing_exc_tuple` in IPython 7.17 and above.\n",
      "  and should_run_async(code)\n"
     ]
    }
   ],
   "source": [
    "def compute_perplexity_values(corpus, limit, start, step):\n",
    "        \n",
    "    perplexity_values = []\n",
    "    model_list = []\n",
    "    for num_topics in range(start, limit, step):\n",
    "        \n",
    "        clear_output(wait=True) # outputting num_topics\n",
    "        display('Currently finding perplexity with topic: '+str(num_topics)+' of '+str(limit-2)+'.')\n",
    "        \n",
    "        model = gensim.models.LdaMulticore(bow_corpus, num_topics = num_topics, id2word=dictionary, chunksize = 2772, passes=10, workers = 8)\n",
    "        model_list.append(model)\n",
    "        perplexityscore = lda_model.log_perplexity(bow_corpus)\n",
    "        perplexity_values.append(perplexityscore)\n",
    "        \n",
    "    return model_list, perplexity_values"
   ]
  },
  {
   "cell_type": "markdown",
   "metadata": {},
   "source": [
    "For sake of sanity, I'll output the results from the finding the best k tests here since they are insanely time consuming running and will be better to import using pickle. \n",
    "\n",
    "Due to the size of the model_list file (over 300mb), we don't save these since the only use for them is to pull a model from and subsequently use. We instead identify the best model and use it, without saving the rest. If you want to reproduce them, the code can be run with the below commented code uncommented and it will produce the model list"
   ]
  },
  {
   "cell_type": "code",
   "execution_count": 45,
   "metadata": {},
   "outputs": [
    {
     "name": "stdout",
     "output_type": "stream",
     "text": [
      "Reading u_mass coherence values...\n"
     ]
    },
    {
     "name": "stderr",
     "output_type": "stream",
     "text": [
      "C:\\Users\\corri\\anaconda3\\lib\\site-packages\\ipykernel\\ipkernel.py:287: DeprecationWarning: `should_run_async` will not call `transform_cell` automatically in the future. Please pass the result to `transformed_cell` argument and any exception that happen during thetransform in `preprocessing_exc_tuple` in IPython 7.17 and above.\n",
      "  and should_run_async(code)\n"
     ]
    }
   ],
   "source": [
    "try:\n",
    "    print('Reading u_mass coherence values...')\n",
    "    coherence_values=pickle.load(open('../Data/Matt_u_mass_values.p','rb'))\n",
    "    #model_list = pickle.load(open('../Data/Matt_u_mass_models.p','rb')) # uncomment to produce all models\n",
    "except FileNotFoundError:\n",
    "    print('File not found.')\n",
    "    print('Calculating u_mass coherence values.')\n",
    "    model_list, coherence_values = compute_coherence_values(dictionary=dictionary, corpus=bow_corpus, start=2, limit=40, step=2)\n",
    "    \n",
    "    pickle.dump(coherence_values, open('../Data/Matt_u_mass_values.p','wb'))\n",
    "    #pickle.dump(model_list, open('../Data/Matt_u_mass_models.p','wb'))\n"
   ]
  },
  {
   "cell_type": "code",
   "execution_count": 46,
   "metadata": {},
   "outputs": [
    {
     "name": "stdout",
     "output_type": "stream",
     "text": [
      "Reading c_v coherence values...\n"
     ]
    },
    {
     "name": "stderr",
     "output_type": "stream",
     "text": [
      "C:\\Users\\corri\\anaconda3\\lib\\site-packages\\ipykernel\\ipkernel.py:287: DeprecationWarning: `should_run_async` will not call `transform_cell` automatically in the future. Please pass the result to `transformed_cell` argument and any exception that happen during thetransform in `preprocessing_exc_tuple` in IPython 7.17 and above.\n",
      "  and should_run_async(code)\n"
     ]
    }
   ],
   "source": [
    "try:\n",
    "    print('Reading c_v coherence values...')\n",
    "    coherence_values2=pickle.load(open('../Data/Matt_c_v_values.p','rb'))\n",
    "    #model_list2 = pickle.load(open('../Data/Matt_c_v_models.p','rb')) # uncomment to produce all models\n",
    "except FileNotFoundError:\n",
    "    print('File not found.')\n",
    "    print('Calculating c_v coherence values.')\n",
    "    model_list2, coherence_values2 = compute_coherence_values2(dictionary=dictionary, corpus=bow_corpus, text = processed_text, start=2, limit=40, step=2)\n",
    "    \n",
    "    pickle.dump(coherence_values2, open('../Data/Matt_c_v_values.p','wb'))\n",
    "    #pickle.dump(model_list2, open('../Data/Matt_c_v_models.p','wb'))\n",
    "    #pickle.dump(model_list2[3], open('../Data/Matt_opt_model.p','wb'))\n"
   ]
  },
  {
   "cell_type": "code",
   "execution_count": 47,
   "metadata": {
    "scrolled": true
   },
   "outputs": [
    {
     "name": "stdout",
     "output_type": "stream",
     "text": [
      "Reading perplexity values...\n"
     ]
    },
    {
     "name": "stderr",
     "output_type": "stream",
     "text": [
      "C:\\Users\\corri\\anaconda3\\lib\\site-packages\\ipykernel\\ipkernel.py:287: DeprecationWarning: `should_run_async` will not call `transform_cell` automatically in the future. Please pass the result to `transformed_cell` argument and any exception that happen during thetransform in `preprocessing_exc_tuple` in IPython 7.17 and above.\n",
      "  and should_run_async(code)\n"
     ]
    }
   ],
   "source": [
    "try:\n",
    "    print('Reading perplexity values...')\n",
    "    perplexity_values=pickle.load(open('../Data/Matt_perp_values.p','rb'))\n",
    "    #model_list3 = pickle.load(open('../Data/Matt_perp_models.p','rb')) # uncomment to produce all models\n",
    "except FileNotFoundError:\n",
    "    print('File not found.')\n",
    "    print('Calculating perplexity values.')\n",
    "    model_list3, perplexity_values = compute_perplexity_values(corpus = bow_corpus, start=2, limit=40, step=2)\n",
    "    \n",
    "    pickle.dump(perplexity_values, open('../Data/Matt_perp_values.p','wb'))\n",
    "    #pickle.dump(model_list3, open('../Data/Matt_perp_models.p','wb'))\n",
    "    "
   ]
  },
  {
   "cell_type": "code",
   "execution_count": 48,
   "metadata": {
    "scrolled": false
   },
   "outputs": [
    {
     "name": "stderr",
     "output_type": "stream",
     "text": [
      "C:\\Users\\corri\\anaconda3\\lib\\site-packages\\ipykernel\\ipkernel.py:287: DeprecationWarning: `should_run_async` will not call `transform_cell` automatically in the future. Please pass the result to `transformed_cell` argument and any exception that happen during thetransform in `preprocessing_exc_tuple` in IPython 7.17 and above.\n",
      "  and should_run_async(code)\n"
     ]
    },
    {
     "data": {
      "image/png": "[encoded data removed]",
      "text/plain": [
       "<Figure size 720x720 with 3 Axes>"
      ]
     },
     "metadata": {
      "needs_background": "light"
     },
     "output_type": "display_data"
    }
   ],
   "source": [
    "limit=40; start=2; step=2;\n",
    "x = range(start, limit, step)\n",
    "\n",
    "fig = plt.figure(figsize= (10,10))\n",
    "ax1 = fig.add_subplot(221)\n",
    "ax2 = fig.add_subplot(222)\n",
    "ax3 = fig.add_subplot(223)\n",
    "\n",
    "ax1.plot(x, coherence_values, 'b')\n",
    "ax2.plot(x, coherence_values2, 'r')\n",
    "ax3.plot(x, perplexity_values, 'k')\n",
    "\n",
    "plt.xlabel(\"Number of Topics\")\n",
    "\n",
    "ax1.title.set_text(\"Coherence score (u_mass)\")\n",
    "ax2.title.set_text(\"Coherence score (c_v)\")\n",
    "ax3.title.set_text(\"Perplexity score\")\n",
    "\n",
    "plt.show()"
   ]
  },
  {
   "cell_type": "code",
   "execution_count": 49,
   "metadata": {},
   "outputs": [
    {
     "name": "stdout",
     "output_type": "stream",
     "text": [
      "The number of topics that maximises u_mass coherence is: 2 with a u_mass coherence of: -1.456460695864691\n",
      "The number of topics that maximises c_v coherence is: 8 with a c_v coherence of: 0.5619032894646473\n",
      "The number of topics that maximises perplexity is: 26 with a perplexity of: -8.426745764168075\n"
     ]
    },
    {
     "name": "stderr",
     "output_type": "stream",
     "text": [
      "C:\\Users\\corri\\anaconda3\\lib\\site-packages\\ipykernel\\ipkernel.py:287: DeprecationWarning: `should_run_async` will not call `transform_cell` automatically in the future. Please pass the result to `transformed_cell` argument and any exception that happen during thetransform in `preprocessing_exc_tuple` in IPython 7.17 and above.\n",
      "  and should_run_async(code)\n"
     ]
    }
   ],
   "source": [
    "cm1 = coherence_values.index(max(coherence_values))\n",
    "cm2 = coherence_values2.index(max(coherence_values2))\n",
    "pm = perplexity_values.index(min(perplexity_values))\n",
    "\n",
    "print('The number of topics that maximises u_mass coherence is: '+str(2*cm1+2)+' with a u_mass coherence of: '+str(max(coherence_values)))\n",
    "print('The number of topics that maximises c_v coherence is: '+str(2*cm2+2)+' with a c_v coherence of: '+str(max(coherence_values2)))\n",
    "print('The number of topics that maximises perplexity is: '+str(2*pm+2)+ ' with a perplexity of: '+str(min(perplexity_values)))"
   ]
  },
  {
   "cell_type": "markdown",
   "metadata": {},
   "source": [
    "Here we see that the maximum is in different positions. When using u_mass coherence, we get a maximum coherence at **k = 2**, when using c_v coherence we get a maximum coherence at **k = 8** and when using perplexity we get a maximum coherence at **k=12**. From the paper given in reference [15], c_v is the best option for evaluating topic models (u_mass is faster but not as accurate) and thus we will use the model with k = 8 topics."
   ]
  },
  {
   "cell_type": "markdown",
   "metadata": {},
   "source": [
    "###### Aside - Timing"
   ]
  },
  {
   "cell_type": "markdown",
   "metadata": {},
   "source": [
    "*As an aside, after the block 8 work, I wanted to time this last function to see how slow/fast it was when changing the number of topics. We normally look at how the function changes with the size of the input i.e. n but I wanted to consider this variable and see if it had an impact. We use the timing function defined in that workshop.*"
   ]
  },
  {
   "cell_type": "code",
   "execution_count": 50,
   "metadata": {},
   "outputs": [
    {
     "name": "stderr",
     "output_type": "stream",
     "text": [
      "C:\\Users\\corri\\anaconda3\\lib\\site-packages\\ipykernel\\ipkernel.py:287: DeprecationWarning: `should_run_async` will not call `transform_cell` automatically in the future. Please pass the result to `transformed_cell` argument and any exception that happen during thetransform in `preprocessing_exc_tuple` in IPython 7.17 and above.\n",
      "  and should_run_async(code)\n"
     ]
    }
   ],
   "source": [
    "def time_fun(fun,l,rep=5):\n",
    "    t=Timer(partial(fun,l))\n",
    "    return([l,t.timeit(rep)/rep])"
   ]
  },
  {
   "cell_type": "markdown",
   "metadata": {},
   "source": [
    "We also define a new function for our calculation that only takes t as an input."
   ]
  },
  {
   "cell_type": "code",
   "execution_count": 51,
   "metadata": {},
   "outputs": [
    {
     "name": "stderr",
     "output_type": "stream",
     "text": [
      "C:\\Users\\corri\\anaconda3\\lib\\site-packages\\ipykernel\\ipkernel.py:287: DeprecationWarning: `should_run_async` will not call `transform_cell` automatically in the future. Please pass the result to `transformed_cell` argument and any exception that happen during thetransform in `preprocessing_exc_tuple` in IPython 7.17 and above.\n",
      "  and should_run_async(code)\n"
     ]
    }
   ],
   "source": [
    "def compute_coherence_values_t(t):\n",
    "    \n",
    "    coherence_values = []\n",
    "    model_list = []\n",
    "    for num_topics in range(t, t+2, 2):\n",
    "        \n",
    "        clear_output(wait=True) # outputting num_topics\n",
    "        display('Currently finding u_mass coherence with number of topics: '+str(num_topics)+'.')\n",
    "        \n",
    "        model = gensim.models.LdaMulticore(bow_corpus, num_topics = t, id2word=dictionary, chunksize = 2772, passes=10, workers = 2)\n",
    "        model_list.append(model)\n",
    "        coherencescore = getCoherence(model,bow_corpus,dictionary)\n",
    "        coherence_values.append(coherencescore)\n",
    "\n",
    "    return model_list, coherence_values"
   ]
  },
  {
   "cell_type": "code",
   "execution_count": 52,
   "metadata": {},
   "outputs": [
    {
     "name": "stderr",
     "output_type": "stream",
     "text": [
      "C:\\Users\\corri\\anaconda3\\lib\\site-packages\\ipykernel\\ipkernel.py:287: DeprecationWarning: `should_run_async` will not call `transform_cell` automatically in the future. Please pass the result to `transformed_cell` argument and any exception that happen during thetransform in `preprocessing_exc_tuple` in IPython 7.17 and above.\n",
      "  and should_run_async(code)\n"
     ]
    }
   ],
   "source": [
    "ti = np.arange(2,20)"
   ]
  },
  {
   "cell_type": "markdown",
   "metadata": {},
   "source": [
    "Similarly, the code here is arduous and long and therefore we will save it to a pickle document."
   ]
  },
  {
   "cell_type": "code",
   "execution_count": 53,
   "metadata": {},
   "outputs": [
    {
     "name": "stdout",
     "output_type": "stream",
     "text": [
      "Reading corpus from pickle...\n"
     ]
    },
    {
     "name": "stderr",
     "output_type": "stream",
     "text": [
      "C:\\Users\\corri\\anaconda3\\lib\\site-packages\\ipykernel\\ipkernel.py:287: DeprecationWarning: `should_run_async` will not call `transform_cell` automatically in the future. Please pass the result to `transformed_cell` argument and any exception that happen during thetransform in `preprocessing_exc_tuple` in IPython 7.17 and above.\n",
      "  and should_run_async(code)\n"
     ]
    }
   ],
   "source": [
    "try:\n",
    "    print(\"Reading corpus from pickle...\")\n",
    "    times=pickle.load(open('../data/Matt_times.p', 'rb'))\n",
    "except FileNotFoundError:\n",
    "    print('File not found.')\n",
    "    print('Creating times.')\n",
    "    times=np.array(\n",
    "        [time_fun(compute_coherence_values_t, t) for t in ti])\n",
    "    pickle.dump(times, open('../Data/Matt_times.p','wb'))"
   ]
  },
  {
   "cell_type": "code",
   "execution_count": 54,
   "metadata": {},
   "outputs": [
    {
     "name": "stderr",
     "output_type": "stream",
     "text": [
      "C:\\Users\\corri\\anaconda3\\lib\\site-packages\\ipykernel\\ipkernel.py:287: DeprecationWarning: `should_run_async` will not call `transform_cell` automatically in the future. Please pass the result to `transformed_cell` argument and any exception that happen during thetransform in `preprocessing_exc_tuple` in IPython 7.17 and above.\n",
      "  and should_run_async(code)\n"
     ]
    },
    {
     "data": {
      "image/png": "[encoded data removed]",
      "text/plain": [
       "<Figure size 432x288 with 1 Axes>"
      ]
     },
     "metadata": {
      "needs_background": "light"
     },
     "output_type": "display_data"
    }
   ],
   "source": [
    "plt.plot(times[:,0],\n",
    "         times[:,1])\n",
    "plt.legend(['Times'])\n",
    "plt.xlabel('Number of Topics')\n",
    "plt.ylabel('Time')\n",
    "plt.title('Time taken to perform LDA topic modelling with k topics')\n",
    "plt.show()"
   ]
  },
  {
   "cell_type": "markdown",
   "metadata": {},
   "source": [
    "This is an unexpected output, we expect some form of upward trend as the number of topics we model increases. Despite seeing a large spike towards the end, there is an initial decrease as the number of topics increases up to 20. This time discrepency is small though and only varies between roughly 8 minutes."
   ]
  },
  {
   "cell_type": "markdown",
   "metadata": {},
   "source": [
    "### Optimal Solution"
   ]
  },
  {
   "cell_type": "markdown",
   "metadata": {},
   "source": [
    "Below we create our optimal solution (or in this case import it) with 8 topics since this had the best c_v coherence."
   ]
  },
  {
   "cell_type": "code",
   "execution_count": 55,
   "metadata": {},
   "outputs": [
    {
     "name": "stderr",
     "output_type": "stream",
     "text": [
      "C:\\Users\\corri\\anaconda3\\lib\\site-packages\\ipykernel\\ipkernel.py:287: DeprecationWarning: `should_run_async` will not call `transform_cell` automatically in the future. Please pass the result to `transformed_cell` argument and any exception that happen during thetransform in `preprocessing_exc_tuple` in IPython 7.17 and above.\n",
      "  and should_run_async(code)\n"
     ]
    },
    {
     "name": "stdout",
     "output_type": "stream",
     "text": [
      "[(0,\n",
      "  '0.013*\"market\" + 0.011*\"power\" + 0.010*\"price\" + 0.009*\"business\" + '\n",
      "  '0.008*\"would\" + 0.008*\"energy\" + 0.008*\"company\" + 0.007*\"enron\" + '\n",
      "  '0.005*\"state\" + 0.005*\"trading\"'),\n",
      " (1,\n",
      "  '0.029*\"vince\" + 0.023*\"enron\" + 0.016*\"kaminski\" + 0.013*\"would\" + '\n",
      "  '0.012*\"please\" + 0.012*\"subject\" + 0.009*\"research\" + 0.008*\"forward\" + '\n",
      "  '0.007*\"thanks\" + 0.007*\"group\"'),\n",
      " (2,\n",
      "  '0.048*\"enron\" + 0.015*\"subject\" + 0.013*\"please\" + 0.009*\"louise\" + '\n",
      "  '0.008*\"thanks\" + 0.008*\"message\" + 0.007*\"original\" + 0.007*\"forward\" + '\n",
      "  '0.006*\"attach\" + 0.006*\"would\"'),\n",
      " (3,\n",
      "  '0.012*\"please\" + 0.011*\"email\" + 0.009*\"information\" + 0.008*\"receive\" + '\n",
      "  '0.008*\"account\" + 0.007*\"business\" + 0.007*\"money\" + 0.006*\"click\" + '\n",
      "  '0.006*\"address\" + 0.006*\"contact\"'),\n",
      " (4,\n",
      "  '0.073*\"enron\" + 0.030*\"company\" + 0.015*\"dynegy\" + 0.012*\"share\" + '\n",
      "  '0.011*\"stock\" + 0.011*\"billion\" + 0.010*\"jones\" + 0.009*\"energy\" + '\n",
      "  '0.009*\"investor\" + 0.008*\"credit\"'),\n",
      " (5,\n",
      "  '0.027*\"company\" + 0.017*\"statement\" + 0.012*\"security\" + '\n",
      "  '0.011*\"information\" + 0.009*\"within\" + 0.009*\"report\" + 0.008*\"investment\" '\n",
      "  '+ 0.007*\"stock\" + 0.007*\"forward\" + 0.007*\"price\"'),\n",
      " (6,\n",
      "  '0.012*\"claim\" + 0.010*\"message\" + 0.010*\"email\" + 0.010*\"please\" + '\n",
      "  '0.009*\"program\" + 0.009*\"number\" + 0.009*\"lottery\" + 0.008*\"address\" + '\n",
      "  '0.008*\"international\" + 0.007*\"agent\"'),\n",
      " (7,\n",
      "  '0.016*\"software\" + 0.015*\"adobe\" + 0.011*\"price\" + 0.006*\"professional\" + '\n",
      "  '0.006*\"windows\" + 0.006*\"online\" + 0.005*\"viagra\" + 0.005*\"download\" + '\n",
      "  '0.005*\"offer\" + 0.004*\"medication\"')]\n"
     ]
    }
   ],
   "source": [
    "optimal_model = pickle.load(open('../Data/Matt_opt_model.p','rb'))\n",
    "model_topics = optimal_model.show_topics(formatted=False)\n",
    "pprint(optimal_model.print_topics(num_words=10))"
   ]
  },
  {
   "cell_type": "code",
   "execution_count": 56,
   "metadata": {},
   "outputs": [
    {
     "name": "stderr",
     "output_type": "stream",
     "text": [
      "C:\\Users\\corri\\anaconda3\\lib\\site-packages\\ipykernel\\ipkernel.py:287: DeprecationWarning: `should_run_async` will not call `transform_cell` automatically in the future. Please pass the result to `transformed_cell` argument and any exception that happen during thetransform in `preprocessing_exc_tuple` in IPython 7.17 and above.\n",
      "  and should_run_async(code)\n"
     ]
    }
   ],
   "source": [
    "lda_opt_display = pyLDAvis.gensim.prepare(optimal_model, bow_corpus, dictionary, mds='mmds')"
   ]
  },
  {
   "cell_type": "code",
   "execution_count": 57,
   "metadata": {},
   "outputs": [
    {
     "name": "stderr",
     "output_type": "stream",
     "text": [
      "C:\\Users\\corri\\anaconda3\\lib\\site-packages\\ipykernel\\ipkernel.py:287: DeprecationWarning: `should_run_async` will not call `transform_cell` automatically in the future. Please pass the result to `transformed_cell` argument and any exception that happen during thetransform in `preprocessing_exc_tuple` in IPython 7.17 and above.\n",
      "  and should_run_async(code)\n"
     ]
    },
    {
     "data": {
      "text/html": [
       "\n",
       "\n",
       "<link rel=\"stylesheet\" type=\"text/css\" href=\"https://cdn.rawgit.com/bmabey/pyLDAvis/files/ldavis.v1.0.0.css\">\n",
       "\n",
       "<div id=\"ldavis_el1958418132018596325285432822\"></div>\n",
       "<script type=\"text/javascript\">\n",
       "\n",
       "var ldavis_el1958418132018596325285432822_data = {\"mdsDat\": {\"x\": [0.001902391840194105, 0.019337389326355786, 0.09985195573519645, -0.2363053211777643, 0.2688525050226569, -0.18302053665742135, -0.16862795415295495, 0.1980095700637374], \"y\": [0.11261479495949644, 0.2634826953216999, -0.04871734132166651, 0.2017584745275781, 0.10992642431595437, -0.04390441803287906, -0.33285758073155663, -0.26230304903862667], \"topics\": [1, 2, 3, 4, 5, 6, 7, 8], \"cluster\": [1, 1, 1, 1, 1, 1, 1, 1], \"Freq\": [21.152694967914677, 17.8124658850552, 17.247646405254564, 12.019704106919992, 11.282807714241667, 10.29805054758802, 6.038744625254171, 4.147885747771717]}, \"tinfo\": {\"Term\": [\"enron\", \"company\", \"vince\", \"please\", \"statement\", \"kaminski\", \"dynegy\", \"subject\", \"email\", \"price\", \"message\", \"software\", \"stock\", \"adobe\", \"louise\", \"billion\", \"share\", \"market\", \"address\", \"security\", \"claim\", \"investor\", \"forward\", \"program\", \"jones\", \"thanks\", \"energy\", \"power\", \"research\", \"investment\", \"legislature\", \"crore\", \"hydro\", \"revamp\", \"breathing\", \"commissioner\", \"generator\", \"toner\", \"republican\", \"vibrator\", \"fiorina\", \"legislative\", \"eprofile\", \"carefui\", \"scientech\", \"reportedly\", \"convinient\", \"maharashtra\", \"deshmukh\", \"mitigation\", \"bailout\", \"angelides\", \"brinq\", \"socal\", \"legislator\", \"stakeholder\", \"modular\", \"carly\", \"ceraweek\", \"loqos\", \"senate\", \"governor\", \"edison\", \"california\", \"assembly\", \"heating\", \"senator\", \"power\", \"electric\", \"restructure\", \"market\", \"likely\", \"chairman\", \"struggle\", \"generation\", \"wholesale\", \"northwest\", \"plant\", \"utility\", \"president\", \"capacity\", \"electricity\", \"average\", \"india\", \"demand\", \"commodity\", \"pipeline\", \"metal\", \"price\", \"natural\", \"state\", \"energy\", \"business\", \"value\", \"would\", \"increase\", \"continue\", \"trading\", \"issue\", \"operations\", \"million\", \"company\", \"include\", \"years\", \"expect\", \"could\", \"financial\", \"group\", \"base\", \"management\", \"enron\", \"report\", \"contract\", \"project\", \"provide\", \"billion\", \"meter\", \"sitara\", \"calger\", \"lavorato\", \"tenaska\", \"belden\", \"presto\", \"colwell\", \"daren\", \"schoppe\", \"tammie\", \"duran\", \"actuals\", \"aimee\", \"delainey\", \"megan\", \"cotten\", \"chokshi\", \"lokay\", \"clynes\", \"milnthorp\", \"leslie\", \"melissa\", \"bridgeline\", \"eastrans\", \"jacoby\", \"killen\", \"haedicke\", \"wynne\", \"hplno\", \"nomination\", \"louise\", \"richter\", \"kitchen\", \"enronxgate\", \"unify\", \"wellhead\", \"sally\", \"netco\", \"redmond\", \"mmbtu\", \"brian\", \"oxley\", \"origination\", \"turbine\", \"jackie\", \"scott\", \"original\", \"laura\", \"kevin\", \"david\", \"attach\", \"farmer\", \"subject\", \"robert\", \"allocation\", \"enron\", \"thanks\", \"volume\", \"steve\", \"taylor\", \"draft\", \"meeting\", \"please\", \"message\", \"change\", \"question\", \"contract\", \"forward\", \"request\", \"development\", \"deal\", \"update\", \"agreement\", \"would\", \"review\", \"issue\", \"regard\", \"group\", \"office\", \"report\", \"following\", \"nigeria\", \"foreigner\", \"majordomo\", \"kernel\", \"nigerian\", \"utmost\", \"zimbabwe\", \"abacha\", \"lagos\", \"deceased\", \"ehronline\", \"ubswenergy\", \"listinfo\", \"modality\", \"seekercenter\", \"ubswarburg\", \"optout\", \"mugabe\", \"cdnow\", \"recollect\", \"leone\", \"jabber\", \"promptness\", \"creativeness\", \"affordability\", \"netcoonline\", \"care\", \"consignment\", \"hotat\", \"letsyou\", \"paypal\", \"clickathome\", \"cards\", \"husband\", \"engine\", \"father\", \"linux\", \"mortgage\", \"search\", \"addressee\", \"directory\", \"casino\", \"urgently\", \"mail\", \"account\", \"visitor\", \"click\", \"instructions\", \"beneficiary\", \"death\", \"password\", \"guide\", \"mother\", \"website\", \"family\", \"mailing\", \"broadcast\", \"deposit\", \"unsubscribe\", \"child\", \"sender\", \"domain\", \"remove\", \"email\", \"reply\", \"receive\", \"assistance\", \"money\", \"address\", \"confidential\", \"submit\", \"transfer\", \"contact\", \"people\", \"information\", \"please\", \"order\", \"online\", \"country\", \"internet\", \"business\", \"transaction\", \"access\", \"offer\", \"message\", \"program\", \"provide\", \"request\", \"interest\", \"would\", \"company\", \"million\", \"product\", \"regard\", \"report\", \"include\", \"wysak\", \"plaintiff\", \"usted\", \"empresas\", \"roxxy\", \"extel\", \"embattle\", \"empresa\", \"curso\", \"viastar\", \"informacin\", \"updatel\", \"dynergy\", \"oust\", \"afxnews\", \"afxpress\", \"janus\", \"newswires\", \"cheddar\", \"clique\", \"tumble\", \"shipman\", \"horas\", \"recibir\", \"desea\", \"nuestra\", \"neariy\", \"exxonmobiie\", \"coale\", \"oaxaca\", \"fastow\", \"chevrontexaco\", \"fitch\", \"dynegy\", \"osprey\", \"moody\", \"dealings\", \"downgrade\", \"rival\", \"rolete\", \"bloomberg\", \"rating\", \"plunge\", \"partnership\", \"reuters\", \"infusion\", \"meade\", \"jones\", \"takeover\", \"merger\", \"copyright\", \"english\", \"lawsuit\", \"collapse\", \"citigroup\", \"percent\", \"billion\", \"spokesman\", \"investor\", \"share\", \"enron\", \"earnings\", \"stock\", \"cent\", \"company\", \"chief\", \"analyst\", \"shareholder\", \"credit\", \"financial\", \"street\", \"reserve\", \"energy\", \"trading\", \"trader\", \"million\", \"right\", \"houston\", \"exchange\", \"investment\", \"executive\", \"security\", \"ooking\", \"technoiogy\", \"lauraan\", \"resuits\", \"couid\", \"newsietter\", \"piease\", \"shouid\", \"vinoble\", \"internationa\", \"pubiisher\", \"potentia\", \"emerson\", \"nomad\", \"pians\", \"beiieves\", \"inciude\", \"invoive\", \"completeness\", \"imited\", \"piaced\", \"additiona\", \"maiiings\", \"pubiication\", \"nationa\", \"specuiative\", \"microcap\", \"technoiogies\", \"otcbb\", \"currentiy\", \"publisher\", \"differ\", \"inherent\", \"materia\", \"projection\", \"statement\", \"patent\", \"symbol\", \"advice\", \"meaning\", \"rocket\", \"pertain\", \"investing\", \"herein\", \"subscriber\", \"deciding\", \"reader\", \"prediction\", \"expectation\", \"newsletter\", \"anticipate\", \"within\", \"stocks\", \"security\", \"risk\", \"technology\", \"company\", \"section\", \"looking\", \"belief\", \"investment\", \"performance\", \"uncertainty\", \"future\", \"information\", \"report\", \"event\", \"stock\", \"product\", \"forward\", \"estimate\", \"price\", \"provide\", \"expect\", \"result\", \"market\", \"share\", \"include\", \"project\", \"investor\", \"base\", \"business\", \"could\", \"kaminski\", \"anjam\", \"vkamins\", \"crenshaw\", \"zimin\", \"upenn\", \"internship\", \"localize\", \"vince\", \"jinbaek\", \"utexas\", \"leppard\", \"stinson\", \"vkaminski\", \"duffie\", \"wharton\", \"piazze\", \"homesite\", \"gibner\", \"giuseppe\", \"cantekin\", \"botanical\", \"ragga\", \"dagga\", \"marketpoint\", \"bambos\", \"christie\", \"stochastic\", \"nesbitt\", \"lacima\", \"shirley\", \"dinner\", \"penis\", \"berkeley\", \"faculty\", \"vasant\", \"simulation\", \"masson\", \"baylor\", \"stanford\", \"modeling\", \"kirstee\", \"student\", \"seminar\", \"shmuel\", \"resume\", \"interview\", \"shanbhogue\", \"university\", \"speaker\", \"research\", \"lunch\", \"presentation\", \"model\", \"professor\", \"conference\", \"school\", \"summer\", \"subject\", \"would\", \"forward\", \"thanks\", \"meeting\", \"enron\", \"please\", \"group\", \"regard\", \"houston\", \"finance\", \"thank\", \"visit\", \"schedule\", \"interest\", \"option\", \"think\", \"program\", \"energy\", \"contact\", \"message\", \"adobe\", \"cialis\", \"macromedia\", \"photoshop\", \"corel\", \"acrobat\", \"corei\", \"saave\", \"computron\", \"symantec\", \"norton\", \"impotence\", \"tadalafil\", \"painter\", \"illustrator\", \"quark\", \"audition\", \"regalis\", \"borland\", \"premiere\", \"quickbooks\", \"autodesk\", \"drvgs\", \"intuit\", \"framemaker\", \"roxio\", \"powerquest\", \"eiements\", \"sidebacks\", \"systemworks\", \"medication\", \"xanax\", \"dreamweaver\", \"studio\", \"erection\", \"pill\", \"height\", \"width\", \"prescription\", \"windows\", \"pharmacy\", \"color\", \"drug\", \"orgasm\", \"generic\", \"alias\", \"software\", \"viagra\", \"download\", \"discreet\", \"graphics\", \"cheap\", \"sexual\", \"shipping\", \"microsoft\", \"professional\", \"popular\", \"edition\", \"coupon\", \"super\", \"price\", \"quality\", \"online\", \"suite\", \"offer\", \"brand\", \"version\", \"available\", \"office\", \"order\", \"hours\", \"system\", \"product\", \"review\", \"squirrelmail\", \"rolex\", \"andmanyother\", \"mailwisconsin\", \"qmail\", \"lottery\", \"lotto\", \"replica\", \"winnings\", \"successfull\", \"shlpp\", \"iaagra\", \"disqualify\", \"miiiion\", \"unscrupulous\", \"alium\", \"cartier\", \"contemporary\", \"omega\", \"ambieen\", \"piils\", \"shlpplng\", \"medlcatlons\", \"contributeto\", \"medlcations\", \"shareware\", \"needsand\", \"breitling\", \"chanel\", \"removido\", \"projecthoneypot\", \"congratulations\", \"prize\", \"unwarranted\", \"batch\", \"serial\", \"winning\", \"prlces\", \"winner\", \"lucky\", \"encoding\", \"complication\", \"agent\", \"ballot\", \"remit\", \"category\", \"promotion\", \"claim\", \"draw\", \"unnecessary\", \"tiscali\", \"award\", \"notification\", \"international\", \"avoid\", \"program\", \"numbers\", \"participant\", \"number\", \"address\", \"message\", \"email\", \"inform\", \"please\", \"total\", \"order\", \"receive\", \"contact\", \"company\", \"names\", \"million\"], \"Freq\": [61010.0, 26796.0, 8650.0, 18199.0, 6458.0, 4811.0, 5370.0, 13049.0, 8941.0, 11794.0, 9165.0, 4026.0, 7384.0, 2653.0, 4547.0, 5516.0, 7332.0, 10685.0, 4843.0, 7529.0, 2682.0, 4947.0, 9105.0, 4305.0, 4131.0, 7457.0, 10859.0, 8430.0, 3932.0, 6242.0, 208.8170152802924, 160.75841210257673, 212.43451746830303, 141.3657973604716, 138.1564503008916, 158.4666886458522, 450.6985593217449, 155.66558518252157, 242.26282264655705, 90.7936907512909, 89.32969874682395, 96.24324645675676, 78.49009963754283, 74.9116736850593, 77.82684755384304, 149.51716024954064, 74.11734768114908, 267.8736015031374, 77.02071994291603, 93.98629085278785, 155.77238353327618, 66.64731527453453, 65.25409310164989, 443.68550300931975, 63.75064445003536, 66.98709362587915, 77.16784192544165, 56.85272015688788, 55.73454885578389, 55.34289297554389, 465.95186214070367, 363.42870103200755, 673.2367740428992, 2396.132327082731, 320.83572816241855, 73.5643751568704, 115.90443180292161, 6740.074632150047, 779.7473566767873, 331.7170575417883, 7829.843587764981, 984.9394030851694, 1554.1220981100466, 261.1075119534413, 697.225000023527, 971.9588385290386, 302.35611015625, 1508.1669588708266, 1488.7047464957373, 1966.3991191503249, 1242.8521120884277, 1362.7487957594433, 1017.0680130985635, 809.0646009598796, 1199.6505160131965, 908.1356770080013, 1365.7786416148474, 583.7328556206768, 5950.882805018357, 1823.2382301270577, 3122.2481565031367, 5009.783947982318, 5278.760088522991, 1818.0565638234475, 5153.657816850185, 1630.3278525069459, 1864.3876559050852, 2838.4014957015265, 2300.1951350448244, 1246.2512580062821, 2555.2053918516303, 4701.777787503044, 2266.516214976242, 1524.2707912989263, 1650.2199477067427, 2130.6954654847586, 1976.3120443988958, 2068.58100680154, 1751.3321532682924, 1798.0939774656972, 4268.52271109466, 1950.2610319828182, 1666.0948961942588, 1596.3499819853562, 1596.57773353786, 1563.2331510497709, 2147.063633784534, 759.0235870455498, 620.5425990291584, 684.8504423134362, 340.1598611574252, 336.46414270499355, 358.5676804752876, 302.0083571238722, 1448.8918460091345, 299.7727962590197, 396.6614337862951, 264.8263977284717, 256.8363856101043, 272.90464508391716, 269.5904449497258, 252.5789236743368, 243.3217927612951, 237.601297621475, 249.52653873533873, 216.84764574176342, 219.2594982859653, 293.21075866303573, 461.7870845161551, 193.59721378469487, 206.1755327289542, 187.8746774041656, 183.0336739182192, 193.21414591146365, 171.27663401870424, 169.22401004018127, 697.7675327175812, 4407.452183880495, 242.40686993657178, 2392.149594902969, 1371.0765318691788, 377.7416653387468, 305.4378501092134, 1296.294054436028, 553.6675007145719, 349.98627473481616, 1540.5295482575343, 966.427648690078, 427.70995653636777, 662.3465531719356, 577.9319823170797, 344.03786091522875, 897.3254226656857, 3809.8722614666817, 526.088222995184, 1319.2371232209111, 2281.55809359549, 3239.185461902632, 883.4894461519368, 7817.110626945108, 1282.1938191980619, 504.2292467212422, 24748.973571327286, 4272.682856853461, 1738.75505930654, 1272.6942127280786, 605.0268453070047, 932.7424091273163, 2785.0173306827924, 6772.706748789096, 3925.981847293295, 2732.3858610410994, 2416.625173573853, 2283.1317262870184, 3401.0100190707853, 2126.2457200714016, 1721.6056574360955, 1349.2275681044089, 1658.3636695924813, 1615.3152439972046, 3018.5021311739706, 1752.9238325537192, 1825.4345431736722, 1885.8820873860043, 1901.1485415494296, 1609.7989474261374, 1688.7237429395777, 1519.970171834807, 403.1388522741185, 257.14503337846725, 247.46989367012472, 239.31201020703998, 143.11863944660905, 135.34275709472777, 131.83660783684488, 117.61988493485875, 114.2645855757123, 216.79896126084105, 102.4519463721572, 97.26203033857787, 126.79865980329812, 92.26864044507008, 88.23134257664006, 87.70803510227915, 88.83293878239856, 80.91283579043323, 72.35204632868624, 71.45142655500877, 70.08010777634132, 72.51252632568269, 67.27608285107189, 67.27608285107189, 67.27608285107189, 67.10204858094396, 69.27948232631938, 69.26927514351945, 65.32764346469553, 65.32764346469553, 479.35005047375984, 66.83985743378571, 340.7616112282444, 417.726885796206, 613.9950979326046, 459.5069985684327, 414.29718581274966, 589.0080875637465, 1266.25193961442, 145.58721955593347, 346.83949445696334, 143.98192906411012, 108.48027246601005, 656.4805234295279, 3805.1765768513756, 222.82458948446975, 3073.0462719168727, 432.2477466778462, 313.74323442462264, 411.65581216505814, 620.007741754085, 440.8460754889153, 262.28916496736025, 2363.8373032405657, 1189.4811136821863, 1141.0550645143653, 257.4930442102691, 924.4870092050618, 752.5231452810168, 632.9358781597587, 548.814495608682, 381.3821591801725, 1574.6514577620167, 5452.598510514865, 1375.290332179662, 4022.8392461160092, 883.4770734598192, 3548.8037691500094, 2987.566894026444, 921.8205900883376, 1047.54486274943, 1268.8944097227375, 2737.31833829658, 2203.441272044683, 4282.4118721743525, 5902.1113570412845, 2538.1528443732595, 1853.8870853492306, 1331.1016993716037, 1519.1994043206066, 3632.070143246733, 1330.4288187980508, 1376.0264612187907, 1932.3755457060977, 2531.6518716140945, 1648.1109726041598, 2019.1167766515266, 1607.4612530287384, 1735.867641506041, 1895.0100142473905, 2068.9932701019957, 1566.565349188585, 1453.4051880053817, 1406.071213620915, 1402.4861336250838, 1389.9391615580307, 437.885679360516, 171.18337108977485, 76.47472936126454, 75.2589317754051, 74.12439648730509, 70.71798050086171, 103.85939981068778, 64.17851459601458, 63.81755214452564, 61.764639783070955, 61.11551664910961, 193.63838853948582, 68.240231963493, 203.06447324003548, 63.92729269262886, 63.9237033774046, 86.89697973990316, 419.3961011757973, 55.04847299568474, 51.30355039963869, 129.85264758086933, 60.07305684791105, 48.95369509563205, 47.95051165276288, 44.42418539174753, 44.172621648816644, 42.75450532273906, 42.41464643611211, 177.91133636852152, 38.36403131327344, 1538.5884239961456, 326.4066559798235, 325.5329342105824, 5045.526591636403, 128.9308370309066, 857.3125058789614, 439.09168927586893, 995.773769104528, 515.0446558690079, 85.30302215720154, 938.60934954067, 2619.1792601821057, 425.0582911855441, 2471.0805347678247, 1334.0091994068448, 193.00821739207277, 115.88727556003293, 3380.297957185105, 346.6781029560435, 1085.1054507343695, 2419.525018461084, 654.3050595183433, 512.5945913077456, 407.07652569927683, 359.12271127326136, 2174.5079452007526, 3713.265760745633, 528.0750565173926, 3054.3680266133315, 4268.5148492009475, 25152.389650484645, 1315.8136836638048, 3962.9688509239627, 1120.2919200961112, 10283.613249021164, 1556.3890145234739, 1912.4260809799628, 1103.7512294830212, 2771.6366408793656, 2766.263084094992, 1274.0376739309008, 1343.6722392368215, 3238.5357304457275, 2432.822818066624, 1308.2138264627943, 2317.000180342941, 1739.0218990144822, 1640.806973881818, 1296.4481919151142, 1502.187901435635, 1261.4995624439753, 1300.8581633462848, 681.4483757240145, 395.2140355009056, 391.98701695667773, 374.72842105481305, 357.8580549406094, 351.9948187250528, 354.89600964410545, 325.9389524451654, 315.6450683159828, 298.9736303295582, 286.7658156281639, 288.67370606365597, 251.45089164260267, 241.33570118318806, 231.80591322447935, 228.82520013042597, 248.0612424171959, 220.8707742053606, 233.85470872438648, 205.78802430421726, 206.5062531864756, 191.16821313178716, 187.38212330786598, 183.39608608309433, 178.37926177624524, 183.62294984320215, 173.29027671102256, 195.13986728099496, 166.78082136816326, 161.70201015822786, 720.4681874454709, 860.2820256604291, 492.17476472693596, 449.32048546151873, 897.0549065221438, 5606.497788229509, 425.4956191807747, 425.8670120873295, 1662.2672187600738, 837.9784433142596, 338.8268299149202, 419.11632878422574, 997.746628199955, 551.600876349184, 714.2113608209146, 380.0131631760369, 676.7545854791077, 420.45369055568426, 1074.710352289665, 1116.5871486795565, 1009.1580319994249, 2967.3418923934896, 1509.9790636863902, 3893.169820698894, 988.9616268496443, 1672.553269586948, 8643.564904867777, 1244.4624301628298, 1902.8306129619348, 796.1806972136876, 2664.0219306838276, 1408.1073257986698, 825.0316367606329, 1983.1405727943784, 3436.93322768986, 2868.108184218114, 1409.288323530796, 2370.067351961534, 1988.5383409739702, 2186.3639927982504, 1092.2608000476564, 2180.950822270023, 1734.861809953563, 1373.6075748897185, 1419.1287632711717, 1641.91452507267, 1445.2025234560913, 1392.8014683474412, 1273.8322174540003, 1247.7891864646424, 1214.1244844571947, 1300.9504682811803, 1145.3657575892828, 4807.300669481064, 368.59585404814555, 303.9476819378136, 1123.3247261443598, 525.702206257693, 227.77253704334126, 230.91922950501012, 186.6259109220218, 8611.387612720702, 152.4655967292456, 156.991096953218, 175.90033257116605, 1044.5420215223849, 117.79411083085657, 103.21416585327324, 558.5969522696086, 93.50549548264578, 89.64633947456402, 627.2603142978242, 87.76785107629964, 87.42528109954598, 87.33904639318473, 84.18150891150698, 84.18148306952126, 82.34790804244534, 83.01066883631559, 473.90146349004004, 78.67633039473942, 76.00169348629234, 74.2223263312703, 1699.359747012635, 559.0904308289955, 345.54359682293193, 277.5510582881324, 184.3632727919737, 441.8764208936732, 275.3789187920901, 213.02749623296202, 367.34358587593755, 586.1520549113097, 292.01016614046995, 123.85570175624454, 945.3947984704055, 475.65520400921906, 172.4823509433658, 1132.7762773710278, 1600.4539914752613, 270.12670747357555, 1211.3511435158193, 509.82540706853234, 2770.2768571965976, 531.9626857192087, 1319.0372477706542, 1644.2239753913561, 480.49661389467315, 1633.3817807729229, 807.3186568279758, 756.9556587780678, 3437.964856344907, 3727.463457120844, 2498.813619449363, 2199.5774828047447, 1756.4749458284164, 6791.190051342648, 3466.702247061475, 1953.584106187164, 1704.21225172396, 1524.5416768035934, 906.7761904445299, 1058.4198569758355, 988.2551444890125, 970.788167322316, 1302.0070346186756, 1048.1860860692898, 976.8469759272409, 1002.9887975976827, 1095.7726211730026, 1002.7279658217743, 995.7222379479571, 2652.771037009341, 729.9630969883166, 589.1237320938529, 545.5929658793863, 539.4262346230774, 378.9559704960209, 217.94049790194083, 212.55387704111726, 207.462934386135, 169.0044920302393, 354.30916953071534, 156.8041897756232, 147.99262969713786, 138.86821726528044, 138.60878661316875, 132.47682795438976, 132.3744902399859, 147.5633164186278, 121.75122933848091, 447.2646673434102, 118.9644006235443, 111.58736678098397, 112.43257729805063, 107.82993606712671, 106.412563773853, 103.81747936487743, 103.42671699635407, 103.29077856742826, 101.92055436034634, 99.15779975927195, 757.2839733387995, 175.17670891131837, 134.1844029311744, 695.1541306753877, 246.28452914278844, 649.8303026391922, 335.58126677041014, 280.7664390720933, 754.252837324018, 1030.8796198752973, 310.09846871306627, 416.1167443669322, 447.2415933710807, 170.46628475097936, 480.1756681005164, 224.6685611190727, 2820.193517286125, 901.7124926086381, 896.7080672474518, 230.89918020419606, 476.44200842732965, 645.1374365190934, 325.7135067212229, 582.9447970903575, 715.1654473782266, 1108.5614007083498, 444.3173411685788, 476.50828043191893, 375.53233449308345, 449.73523918278784, 1957.4749064411928, 678.3451257260133, 996.2467592916369, 488.02780958085555, 799.8797385519327, 501.0455709506166, 561.3165647048169, 642.4751607835137, 643.4468942556834, 616.0110117313828, 512.2764936015187, 559.2134792128386, 529.907715915148, 509.94978050381053, 303.97237659065996, 295.38512070184476, 309.3036159065129, 200.79236565433501, 177.33248118578484, 1055.0567321967274, 171.8112478931368, 170.06836888744942, 116.17881177640245, 104.72329911825202, 101.27486680450988, 100.27914015344204, 94.42418917153066, 95.50907004516473, 89.2953440967728, 89.0927902551859, 84.83897916391379, 80.82916946804147, 78.76128834777501, 74.82569288060333, 64.02430630779139, 145.1189399678078, 62.58275996982964, 56.776889608731686, 55.85153983540877, 49.99004176375647, 48.01448952801328, 47.97933578489991, 47.75791091994215, 46.72382116804481, 351.0383673348833, 719.2349255623195, 825.7516276506507, 165.9693008817336, 451.07251379421547, 242.78315790651055, 771.855513041135, 129.01050396238278, 723.9776415341277, 415.1293450133484, 144.20336052024555, 184.23423097614946, 861.0448754721813, 233.91697587119216, 206.78657153494342, 591.2403828177078, 708.700626943008, 1434.5056524736708, 378.1166586409738, 173.7373898983552, 227.41308928950266, 549.5179830795747, 426.04640724697754, 934.5930566246643, 464.3569925755156, 1124.6185649256372, 690.2762906530138, 493.8662075467217, 1062.7115603773648, 939.0996193817796, 1198.3244591206549, 1160.519071801123, 444.07668298349336, 1157.8679827271048, 527.1887362517509, 613.380385097133, 594.2749016646183, 541.1435926119489, 621.294293450072, 400.0729121802406, 438.9475950384218], \"Total\": [61010.0, 26796.0, 8650.0, 18199.0, 6458.0, 4811.0, 5370.0, 13049.0, 8941.0, 11794.0, 9165.0, 4026.0, 7384.0, 2653.0, 4547.0, 5516.0, 7332.0, 10685.0, 4843.0, 7529.0, 2682.0, 4947.0, 9105.0, 4305.0, 4131.0, 7457.0, 10859.0, 8430.0, 3932.0, 6242.0, 209.8209942160012, 161.62683966193362, 213.67158112584298, 142.21078585351017, 139.00268119065603, 159.44875071398914, 453.49779271916026, 156.71281548192562, 244.01317479101598, 91.63752662977015, 90.17555687212753, 97.18527345482448, 79.33841517939483, 75.7555865577317, 78.70920014066023, 151.21485207380306, 74.961776113734, 270.95183037955, 77.96537877226733, 95.1626185112374, 157.732161721257, 67.4929779609668, 66.09798893523873, 449.4748982180943, 64.59958352039284, 67.91491178675177, 78.3009089461311, 57.69886970027825, 56.57894853913722, 56.18680390414317, 474.2282433218242, 373.8188759090033, 699.1279162408274, 2597.952419730925, 337.92285714094544, 74.75251505191665, 119.72622638396713, 8430.452626685037, 881.2580961917927, 365.1729142679343, 10685.118971271835, 1176.7729105907495, 1931.1681651139043, 287.1743847193814, 834.7240916535932, 1200.30217702396, 340.2088281976969, 2008.6963034539783, 2001.3040408464535, 2762.7881718595, 1653.2707770490836, 1859.1168031342152, 1345.554648140771, 1046.9602184443725, 1649.9739101030289, 1204.9555184448352, 1948.900507192502, 735.1959397101755, 11794.524436991202, 2926.6236783171075, 5689.240603468277, 10859.405532644585, 12654.940720388699, 3409.2013809719097, 14818.434908305264, 3027.8873378722815, 3709.4828870522833, 6948.447601174035, 5079.160393617667, 2190.1988636786873, 7267.78180809501, 26796.753538529432, 6976.057022773353, 3336.161965125081, 3930.9202064857104, 6717.0138613849085, 6123.290991210976, 6946.2176291482165, 4719.4665223240345, 5143.94821188043, 61010.95152710517, 9161.67718928504, 4764.976869674906, 5261.327168963733, 6951.082730716489, 5516.9537900446085, 2148.071307007395, 760.069827283644, 621.4094333594659, 685.8413213174387, 340.99963361880526, 337.3255995857753, 359.5591627398251, 302.8637294388207, 1453.116894923126, 300.64698394002073, 397.8562237874265, 265.68288319427586, 257.6706226914538, 273.8101323277525, 270.4850980198272, 253.42380434345935, 244.1561375346969, 238.43521306489765, 250.4175963393606, 217.681672967605, 220.10725950113476, 294.43939417830705, 463.7288912071657, 194.43633587637297, 207.07479891874038, 188.71134424356904, 183.87106941687685, 194.10480585317117, 172.11028068424372, 170.05830693311933, 705.5629695476349, 4547.194549310245, 243.98370918710285, 2490.112359394775, 1420.614115371849, 383.6386279579751, 309.2199457886948, 1359.0534740121439, 568.3054090747207, 355.5532308887785, 1650.551037285849, 1020.6970113772442, 441.29950290147684, 701.3143311781943, 609.9833275632933, 351.364860791249, 993.5430689956747, 4932.036451996123, 560.1802864872874, 1550.9205850311564, 2873.125229035267, 4277.507939375906, 1018.9997640450139, 13049.322338018283, 1621.627643246134, 543.4399123443236, 61010.95152710517, 7457.303282186688, 2505.286779537973, 1729.3441218382404, 681.1853050431065, 1194.6526259546656, 5384.6314964122375, 18199.666587385145, 9165.66520536361, 5907.929385713403, 5067.108510276813, 4764.976869674906, 9105.272044515565, 4384.8528785594135, 3533.424206192173, 2308.41537974358, 3629.9553085648645, 3453.3646012622225, 14818.434908305264, 4255.802245866506, 5079.160393617667, 5943.112444715659, 6946.2176291482165, 4337.885429360607, 9161.67718928504, 3830.250603728461, 403.9645826835915, 257.96988101156285, 248.2982199637774, 240.14352043525443, 143.94226698082315, 136.16709699330832, 132.6607527754191, 118.44334011528807, 115.08822110901127, 218.41726945543823, 103.27722342364274, 98.09608281268983, 127.92299528856046, 93.09217563119219, 89.05460151920612, 88.53135415912324, 89.67258249662042, 81.73667917877806, 73.17533976274909, 72.2748121900357, 70.90403398520544, 73.38238665337806, 68.09930799798734, 68.09931029901999, 68.09931071268667, 67.9254935139123, 70.13728858584403, 70.13902313711728, 66.15086427922743, 66.15086815854208, 485.5417532028925, 67.68647082445496, 352.46005901139245, 437.23322359678036, 656.2515663913109, 487.4355726409119, 438.5316151498711, 630.9159844442896, 1391.7841590374826, 150.36688517332232, 369.15806797799263, 149.00717711843473, 111.27927124334987, 733.1507295768827, 4669.593717063202, 236.00644224299188, 3813.2796970745417, 474.62214495890066, 339.4327812466032, 454.1535882605679, 708.9392116194188, 492.47939226874496, 282.09228016603066, 3039.8871600396164, 1445.989716510431, 1416.8080065986123, 276.8089318261099, 1134.4463599032551, 903.2719440501502, 747.5148339224846, 638.8400013626061, 428.2741368943513, 2108.4175074564077, 8941.925844124682, 1849.3669881480603, 6583.976953237895, 1114.1668027626815, 5793.522988218508, 4843.05175219641, 1225.090928536379, 1462.5980445650391, 1909.4646938671399, 5683.9721179741755, 4442.161348513779, 11198.037377342169, 18199.666587385145, 5562.314545728598, 3588.900170503078, 2244.415774011589, 3005.320594276904, 12654.940720388699, 2473.4347716558705, 2650.062409805123, 5248.985350479564, 9165.66520536361, 4305.026778747908, 6951.082730716489, 4384.8528785594135, 6434.180212609676, 14818.434908305264, 26796.753538529432, 7267.78180809501, 5800.857358516593, 5943.112444715659, 9161.67718928504, 6976.057022773353, 438.73276460694103, 173.02090620595942, 77.32135747862306, 76.10566235240712, 74.97133639413917, 71.63914352982148, 105.21709259159368, 65.02523972239783, 64.66480427974469, 62.6114228580315, 61.962475898359465, 196.32439637987713, 69.19450845860874, 206.12565973965692, 64.90280318080016, 64.90315569780061, 88.24370911186789, 425.90566996448433, 55.913325030535326, 52.15080445682288, 132.11071560761926, 61.12959676006849, 49.81747866350382, 48.79809697247175, 45.27102197684779, 45.02521928951353, 43.60624091613936, 43.261836171927854, 181.77000914584326, 39.21214380162045, 1595.1344448994419, 334.25494816029084, 335.0105767921657, 5370.105587165281, 132.54550381472166, 903.9387562073307, 458.67599548168107, 1064.5737638822343, 544.8957198373183, 87.34459143447954, 1019.4028975786465, 2957.7057435180027, 456.8083173233302, 2823.2459583502086, 1517.2129978136056, 203.62585801669897, 120.14683923640476, 4131.376100661684, 376.8978397327507, 1293.5548210756297, 3051.604186001913, 764.2381703025667, 597.0222159868013, 468.20232912533976, 409.6708318543609, 3043.626803755452, 5516.9537900446085, 641.4796996177992, 4947.726528862753, 7332.220591422088, 61010.95152710517, 1953.5768233701024, 7384.926753319074, 1613.7905956576624, 26796.753538529432, 2572.183079375014, 3451.4365575989546, 1699.4021426584252, 5974.027343155361, 6123.290991210976, 2232.9652040937813, 2501.216186589204, 10859.405532644585, 6948.447601174035, 2544.225102984665, 7267.78180809501, 4940.017380699817, 5778.009860732979, 2881.891423126998, 6242.115279396055, 2790.0027673405543, 7529.616640654811, 682.2729524153493, 396.0388926670518, 392.81152166880446, 375.55278499491476, 358.68236223566794, 352.8191725696217, 355.75239002735333, 326.7693684706976, 316.46924210981433, 299.7992762257118, 287.59001922596843, 289.50349810860166, 252.29470154121793, 242.1616088723598, 232.63066710474268, 229.64943278009198, 248.98546677807536, 221.6949485091675, 234.7510481713312, 206.61253824591637, 207.3520156328788, 191.99258433034933, 188.21281560299468, 184.22071490018914, 179.20353782760256, 184.4770399925971, 174.11520851220516, 196.08092367638534, 167.60561839713276, 162.52635131146508, 736.3745154255746, 898.233170454666, 506.1515319743213, 463.7030264493044, 950.8984704473592, 6458.0957468386305, 442.17636138223384, 445.1948437356915, 1884.7526579682599, 909.8986127579482, 353.16013503965667, 445.7253590576006, 1163.648785215085, 604.6142570174959, 818.7592296969946, 403.4718166593712, 783.111006478217, 453.59122419519167, 1337.6082427320787, 1418.006903853319, 1296.4474085292238, 5036.67492762627, 2212.975067345765, 7529.616640654811, 1348.4689038543174, 2748.3027099109686, 26796.753538529432, 1946.795481807311, 3626.4205288918715, 1086.4760296224251, 6242.115279396055, 2514.5480736876766, 1161.143029732561, 4343.02759903496, 11198.037377342169, 9161.67718928504, 2966.313965168657, 7384.926753319074, 5800.857358516593, 9105.272044515565, 2194.1260727759486, 11794.524436991202, 6951.082730716489, 3930.9202064857104, 4417.706016887617, 10685.118971271835, 7332.220591422088, 6976.057022773353, 5261.327168963733, 4947.726528862753, 4719.4665223240345, 12654.940720388699, 6717.0138613849085, 4811.576213912727, 369.58338534211606, 304.8381642446401, 1126.6434054652611, 527.515539874377, 228.64516541859362, 231.9080672829597, 187.459155556684, 8650.65453377293, 153.29866857300615, 157.89225702623426, 177.03779974903065, 1051.710979561624, 118.66941308348588, 104.05388307610733, 563.6839625118444, 94.36553197850543, 90.47607984485516, 633.1729680363765, 88.60291318711555, 88.26986269279614, 88.1845950833425, 85.01223928106751, 85.01224050200994, 83.17770136932667, 83.84720660248963, 478.7654489007916, 79.51737529429181, 76.8519211144832, 75.05412349988752, 1739.5441950560237, 566.2566929421433, 350.3318360736919, 280.88986218151683, 186.53524999603576, 451.63197661007246, 280.2945232399984, 216.624752912057, 375.7324534968563, 606.0498632366478, 299.8953032309344, 125.62516421970759, 1003.8026487966903, 506.06056844401553, 176.9719305444134, 1285.207823896401, 1925.9570265765785, 284.1976361802272, 1501.7833563815377, 578.726159776066, 3932.7933168864565, 613.4605265406417, 1784.6966119982324, 2323.8478246070263, 563.7244353895738, 2611.4294024154847, 1175.1343397605956, 1152.1054640848174, 13049.322338018283, 14818.434908305264, 9105.272044515565, 7457.303282186688, 5384.6314964122375, 61010.95152710517, 18199.666587385145, 6946.2176291482165, 5943.112444715659, 5778.009860732979, 1959.3679719420295, 3185.2647531799753, 2666.2397627876117, 2619.3583107266772, 6434.180212609676, 3379.2928634365067, 3452.2687607691773, 4305.026778747908, 10859.405532644585, 5683.9721179741755, 9165.66520536361, 2653.700453671709, 730.8617136610618, 589.9498364916395, 546.4119339432087, 540.2459212997201, 379.77490823555695, 218.76375673206434, 213.371275213959, 208.28231604349068, 169.82198308624433, 356.1804548439259, 157.63496752957752, 148.81051956238443, 139.68581088692113, 139.4268003226064, 133.2947267392973, 133.19209203158925, 148.51167635440493, 122.56896014235834, 450.2909190682473, 119.7819188807323, 112.40473565473982, 113.2809094300313, 108.64852700855292, 107.22998830098501, 104.63487569163318, 104.24407581617962, 104.10818604677597, 102.73867474019045, 99.97533023594295, 766.3439683898941, 176.90429341130573, 135.40579326644612, 719.5104492020592, 251.1965741283677, 677.1114540639513, 345.14742955019597, 287.8403610756489, 795.4580261486781, 1103.2232750348699, 320.4645108034042, 446.2903117379944, 482.27820971410637, 174.23976315104105, 531.7228523014912, 237.02165728180483, 4026.007180201297, 1131.8076909052613, 1128.8334592930858, 247.12225340998893, 588.5069044041817, 881.0075676637852, 382.83640746802894, 812.9048475042283, 1065.7902615048324, 2195.2695736594696, 609.3600990317315, 677.102299594029, 480.24735860233477, 673.4344269430547, 11794.524436991202, 1533.4230211188499, 3588.900170503078, 841.9154893106701, 5248.985350479564, 1015.7027145372346, 1792.4360779883868, 3522.347949991673, 4337.885429360607, 5562.314545728598, 1574.4038345086376, 5681.448288843763, 5800.857358516593, 4255.802245866506, 304.79926835524657, 296.21227175411434, 310.2210067206809, 201.61923205508882, 178.15937084206433, 1060.0749853228333, 172.63886329979044, 170.89572567450057, 117.01154543013071, 105.55391435682608, 102.10769069290579, 101.10597780365082, 95.25887580632406, 96.36353192142268, 90.12231865622476, 89.92452130470018, 85.66640613895862, 81.66397888856456, 79.58849700914813, 75.65252505512058, 64.85431314254357, 147.01358757437882, 63.41085838224178, 57.603729795332754, 56.68241360721411, 50.817487047076064, 48.841329402056495, 48.80618620456184, 48.58488557611601, 47.554630658384966, 363.8666564993771, 758.1648830562993, 877.7237552977377, 171.2060208804336, 476.9186982804621, 254.95327055155641, 842.8701847852917, 133.3413030783535, 828.0943763031597, 461.801310277909, 154.0352445840324, 202.7775999923516, 1159.1073018064058, 274.08518568260945, 239.11970699975979, 862.6133158465258, 1099.0318024226183, 2682.462103940872, 525.686359334365, 199.62644607037086, 284.7434656367385, 935.1326776796775, 764.5859976638201, 2754.6877407294173, 929.4787587174972, 4305.026778747908, 1944.63979829088, 1096.9022357887582, 4653.713518133303, 4843.05175219641, 9165.66520536361, 8941.925844124682, 1215.9359909242216, 18199.666587385145, 2740.3360555101217, 5562.314545728598, 6583.976953237895, 5683.9721179741755, 26796.753538529432, 1221.0031131724575, 7267.78180809501], \"Category\": [\"Default\", \"Default\", \"Default\", \"Default\", \"Default\", \"Default\", \"Default\", \"Default\", \"Default\", \"Default\", \"Default\", \"Default\", \"Default\", \"Default\", \"Default\", \"Default\", \"Default\", \"Default\", \"Default\", \"Default\", \"Default\", \"Default\", \"Default\", \"Default\", \"Default\", \"Default\", \"Default\", \"Default\", \"Default\", \"Default\", \"Topic1\", \"Topic1\", \"Topic1\", \"Topic1\", \"Topic1\", \"Topic1\", \"Topic1\", \"Topic1\", \"Topic1\", \"Topic1\", \"Topic1\", \"Topic1\", \"Topic1\", \"Topic1\", \"Topic1\", \"Topic1\", \"Topic1\", \"Topic1\", \"Topic1\", \"Topic1\", \"Topic1\", \"Topic1\", \"Topic1\", \"Topic1\", \"Topic1\", \"Topic1\", \"Topic1\", \"Topic1\", \"Topic1\", \"Topic1\", \"Topic1\", \"Topic1\", \"Topic1\", \"Topic1\", \"Topic1\", \"Topic1\", \"Topic1\", \"Topic1\", \"Topic1\", \"Topic1\", \"Topic1\", \"Topic1\", \"Topic1\", \"Topic1\", \"Topic1\", \"Topic1\", \"Topic1\", \"Topic1\", \"Topic1\", \"Topic1\", \"Topic1\", \"Topic1\", \"Topic1\", \"Topic1\", \"Topic1\", \"Topic1\", \"Topic1\", \"Topic1\", \"Topic1\", \"Topic1\", \"Topic1\", \"Topic1\", \"Topic1\", \"Topic1\", \"Topic1\", \"Topic1\", \"Topic1\", \"Topic1\", \"Topic1\", \"Topic1\", \"Topic1\", \"Topic1\", \"Topic1\", \"Topic1\", \"Topic1\", \"Topic1\", \"Topic1\", \"Topic1\", \"Topic1\", \"Topic1\", \"Topic1\", \"Topic1\", \"Topic1\", \"Topic1\", \"Topic1\", \"Topic1\", \"Topic2\", \"Topic2\", \"Topic2\", \"Topic2\", \"Topic2\", \"Topic2\", \"Topic2\", \"Topic2\", \"Topic2\", \"Topic2\", \"Topic2\", \"Topic2\", \"Topic2\", \"Topic2\", \"Topic2\", \"Topic2\", \"Topic2\", \"Topic2\", \"Topic2\", \"Topic2\", \"Topic2\", \"Topic2\", \"Topic2\", \"Topic2\", \"Topic2\", \"Topic2\", \"Topic2\", \"Topic2\", \"Topic2\", \"Topic2\", \"Topic2\", \"Topic2\", \"Topic2\", \"Topic2\", \"Topic2\", \"Topic2\", \"Topic2\", \"Topic2\", \"Topic2\", \"Topic2\", \"Topic2\", \"Topic2\", \"Topic2\", \"Topic2\", \"Topic2\", \"Topic2\", \"Topic2\", \"Topic2\", \"Topic2\", \"Topic2\", \"Topic2\", \"Topic2\", \"Topic2\", \"Topic2\", \"Topic2\", \"Topic2\", \"Topic2\", \"Topic2\", \"Topic2\", \"Topic2\", \"Topic2\", \"Topic2\", \"Topic2\", \"Topic2\", \"Topic2\", \"Topic2\", \"Topic2\", \"Topic2\", \"Topic2\", \"Topic2\", \"Topic2\", \"Topic2\", \"Topic2\", \"Topic2\", \"Topic2\", \"Topic2\", \"Topic2\", \"Topic2\", \"Topic2\", \"Topic2\", \"Topic2\", \"Topic2\", \"Topic3\", \"Topic3\", \"Topic3\", \"Topic3\", \"Topic3\", \"Topic3\", \"Topic3\", \"Topic3\", \"Topic3\", \"Topic3\", \"Topic3\", \"Topic3\", \"Topic3\", \"Topic3\", \"Topic3\", \"Topic3\", \"Topic3\", \"Topic3\", \"Topic3\", \"Topic3\", \"Topic3\", \"Topic3\", \"Topic3\", \"Topic3\", \"Topic3\", \"Topic3\", \"Topic3\", \"Topic3\", \"Topic3\", \"Topic3\", \"Topic3\", \"Topic3\", \"Topic3\", \"Topic3\", \"Topic3\", \"Topic3\", \"Topic3\", \"Topic3\", \"Topic3\", \"Topic3\", \"Topic3\", \"Topic3\", \"Topic3\", \"Topic3\", \"Topic3\", \"Topic3\", \"Topic3\", \"Topic3\", \"Topic3\", \"Topic3\", \"Topic3\", \"Topic3\", \"Topic3\", \"Topic3\", \"Topic3\", \"Topic3\", \"Topic3\", \"Topic3\", \"Topic3\", \"Topic3\", \"Topic3\", \"Topic3\", \"Topic3\", \"Topic3\", \"Topic3\", \"Topic3\", \"Topic3\", \"Topic3\", \"Topic3\", \"Topic3\", \"Topic3\", \"Topic3\", \"Topic3\", \"Topic3\", \"Topic3\", \"Topic3\", \"Topic3\", \"Topic3\", \"Topic3\", \"Topic3\", \"Topic3\", \"Topic3\", \"Topic3\", \"Topic3\", \"Topic3\", \"Topic3\", \"Topic3\", \"Topic3\", \"Topic3\", \"Topic3\", \"Topic3\", \"Topic3\", \"Topic3\", \"Topic3\", \"Topic3\", \"Topic3\", \"Topic4\", \"Topic4\", \"Topic4\", \"Topic4\", \"Topic4\", \"Topic4\", \"Topic4\", \"Topic4\", \"Topic4\", \"Topic4\", \"Topic4\", \"Topic4\", \"Topic4\", \"Topic4\", \"Topic4\", \"Topic4\", \"Topic4\", \"Topic4\", \"Topic4\", \"Topic4\", \"Topic4\", \"Topic4\", \"Topic4\", \"Topic4\", \"Topic4\", \"Topic4\", \"Topic4\", \"Topic4\", \"Topic4\", \"Topic4\", \"Topic4\", \"Topic4\", \"Topic4\", \"Topic4\", \"Topic4\", \"Topic4\", \"Topic4\", \"Topic4\", \"Topic4\", \"Topic4\", \"Topic4\", \"Topic4\", \"Topic4\", \"Topic4\", \"Topic4\", \"Topic4\", \"Topic4\", \"Topic4\", \"Topic4\", \"Topic4\", \"Topic4\", \"Topic4\", \"Topic4\", \"Topic4\", \"Topic4\", \"Topic4\", \"Topic4\", \"Topic4\", \"Topic4\", \"Topic4\", \"Topic4\", \"Topic4\", \"Topic4\", \"Topic4\", \"Topic4\", \"Topic4\", \"Topic4\", \"Topic4\", \"Topic4\", \"Topic4\", \"Topic4\", \"Topic4\", \"Topic4\", \"Topic4\", \"Topic4\", \"Topic4\", \"Topic4\", \"Topic4\", \"Topic4\", \"Topic4\", \"Topic4\", \"Topic4\", \"Topic5\", \"Topic5\", \"Topic5\", \"Topic5\", \"Topic5\", \"Topic5\", \"Topic5\", \"Topic5\", \"Topic5\", \"Topic5\", \"Topic5\", \"Topic5\", \"Topic5\", \"Topic5\", \"Topic5\", \"Topic5\", \"Topic5\", \"Topic5\", \"Topic5\", \"Topic5\", \"Topic5\", \"Topic5\", \"Topic5\", \"Topic5\", \"Topic5\", \"Topic5\", \"Topic5\", \"Topic5\", \"Topic5\", \"Topic5\", \"Topic5\", \"Topic5\", \"Topic5\", \"Topic5\", \"Topic5\", \"Topic5\", \"Topic5\", \"Topic5\", \"Topic5\", \"Topic5\", \"Topic5\", \"Topic5\", \"Topic5\", \"Topic5\", \"Topic5\", \"Topic5\", \"Topic5\", \"Topic5\", \"Topic5\", \"Topic5\", \"Topic5\", \"Topic5\", \"Topic5\", \"Topic5\", \"Topic5\", \"Topic5\", \"Topic5\", \"Topic5\", \"Topic5\", \"Topic5\", \"Topic5\", \"Topic5\", \"Topic5\", \"Topic5\", \"Topic5\", \"Topic5\", \"Topic5\", \"Topic5\", \"Topic5\", \"Topic5\", \"Topic5\", \"Topic5\", \"Topic5\", \"Topic5\", \"Topic5\", \"Topic5\", \"Topic5\", \"Topic5\", \"Topic5\", \"Topic5\", \"Topic5\", \"Topic5\", \"Topic5\", \"Topic6\", \"Topic6\", \"Topic6\", \"Topic6\", \"Topic6\", \"Topic6\", \"Topic6\", \"Topic6\", \"Topic6\", \"Topic6\", \"Topic6\", \"Topic6\", \"Topic6\", \"Topic6\", \"Topic6\", \"Topic6\", \"Topic6\", \"Topic6\", \"Topic6\", \"Topic6\", \"Topic6\", \"Topic6\", \"Topic6\", \"Topic6\", \"Topic6\", \"Topic6\", \"Topic6\", \"Topic6\", \"Topic6\", \"Topic6\", \"Topic6\", \"Topic6\", \"Topic6\", \"Topic6\", \"Topic6\", \"Topic6\", \"Topic6\", \"Topic6\", \"Topic6\", \"Topic6\", \"Topic6\", \"Topic6\", \"Topic6\", \"Topic6\", \"Topic6\", \"Topic6\", \"Topic6\", \"Topic6\", \"Topic6\", \"Topic6\", \"Topic6\", \"Topic6\", \"Topic6\", \"Topic6\", \"Topic6\", \"Topic6\", \"Topic6\", \"Topic6\", \"Topic6\", \"Topic6\", \"Topic6\", \"Topic6\", \"Topic6\", \"Topic6\", \"Topic6\", \"Topic6\", \"Topic6\", \"Topic6\", \"Topic6\", \"Topic6\", \"Topic6\", \"Topic6\", \"Topic6\", \"Topic6\", \"Topic6\", \"Topic6\", \"Topic6\", \"Topic6\", \"Topic6\", \"Topic7\", \"Topic7\", \"Topic7\", \"Topic7\", \"Topic7\", \"Topic7\", \"Topic7\", \"Topic7\", \"Topic7\", \"Topic7\", \"Topic7\", \"Topic7\", \"Topic7\", \"Topic7\", \"Topic7\", \"Topic7\", \"Topic7\", \"Topic7\", \"Topic7\", \"Topic7\", \"Topic7\", \"Topic7\", \"Topic7\", \"Topic7\", \"Topic7\", \"Topic7\", \"Topic7\", \"Topic7\", \"Topic7\", \"Topic7\", \"Topic7\", \"Topic7\", \"Topic7\", \"Topic7\", \"Topic7\", \"Topic7\", \"Topic7\", \"Topic7\", \"Topic7\", \"Topic7\", \"Topic7\", \"Topic7\", \"Topic7\", \"Topic7\", \"Topic7\", \"Topic7\", \"Topic7\", \"Topic7\", \"Topic7\", \"Topic7\", \"Topic7\", \"Topic7\", \"Topic7\", \"Topic7\", \"Topic7\", \"Topic7\", \"Topic7\", \"Topic7\", \"Topic7\", \"Topic7\", \"Topic7\", \"Topic7\", \"Topic7\", \"Topic7\", \"Topic7\", \"Topic7\", \"Topic7\", \"Topic7\", \"Topic7\", \"Topic7\", \"Topic7\", \"Topic7\", \"Topic7\", \"Topic7\", \"Topic8\", \"Topic8\", \"Topic8\", \"Topic8\", \"Topic8\", \"Topic8\", \"Topic8\", \"Topic8\", \"Topic8\", \"Topic8\", \"Topic8\", \"Topic8\", \"Topic8\", \"Topic8\", \"Topic8\", \"Topic8\", \"Topic8\", \"Topic8\", \"Topic8\", \"Topic8\", \"Topic8\", \"Topic8\", \"Topic8\", \"Topic8\", \"Topic8\", \"Topic8\", \"Topic8\", \"Topic8\", \"Topic8\", \"Topic8\", \"Topic8\", \"Topic8\", \"Topic8\", \"Topic8\", \"Topic8\", \"Topic8\", \"Topic8\", \"Topic8\", \"Topic8\", \"Topic8\", \"Topic8\", \"Topic8\", \"Topic8\", \"Topic8\", \"Topic8\", \"Topic8\", \"Topic8\", \"Topic8\", \"Topic8\", \"Topic8\", \"Topic8\", \"Topic8\", \"Topic8\", \"Topic8\", \"Topic8\", \"Topic8\", \"Topic8\", \"Topic8\", \"Topic8\", \"Topic8\", \"Topic8\", \"Topic8\", \"Topic8\", \"Topic8\", \"Topic8\", \"Topic8\", \"Topic8\", \"Topic8\", \"Topic8\", \"Topic8\", \"Topic8\"], \"logprob\": [30.0, 29.0, 28.0, 27.0, 26.0, 25.0, 24.0, 23.0, 22.0, 21.0, 20.0, 19.0, 18.0, 17.0, 16.0, 15.0, 14.0, 13.0, 12.0, 11.0, 10.0, 9.0, 8.0, 7.0, 6.0, 5.0, 4.0, 3.0, 2.0, 1.0, -7.976399898529053, -8.237899780273438, -7.959199905395508, -8.366499900817871, -8.38949966430664, -8.252300262451172, -7.206999778747559, -8.270099639892578, -7.8277997970581055, -8.809300422668457, -8.825499534606934, -8.75100040435791, -8.954899787902832, -9.001500129699707, -8.963399887084961, -8.310400009155273, -9.012200355529785, -7.72730016708374, -8.973799705505371, -8.774700164794922, -8.269399642944336, -9.118399620056152, -9.139599800109863, -7.222700119018555, -9.1628999710083, -9.113300323486328, -8.97189998626709, -9.277400016784668, -9.297200202941895, -9.304300308227539, -7.173799991607666, -7.422299861907959, -6.805699825286865, -5.536200046539307, -7.546899795532227, -9.019700050354004, -8.565099716186523, -4.501999855041504, -6.658899784088135, -7.513599872589111, -4.352099895477295, -6.425300121307373, -5.969200134277344, -7.752900123596191, -6.770699977874756, -6.438499927520752, -7.606200218200684, -5.999199867248535, -6.012199878692627, -5.73390007019043, -6.192699909210205, -6.100599765777588, -6.393199920654297, -6.622000217437744, -6.228099822998047, -6.506400108337402, -6.098400115966797, -6.948400020599365, -4.626500129699707, -5.809500217437744, -5.271500110626221, -4.798699855804443, -4.746399879455566, -5.812300205230713, -4.770400047302246, -5.921299934387207, -5.787199974060059, -5.366799831390381, -5.577099800109863, -6.189899921417236, -5.4720001220703125, -4.862100124359131, -5.591800212860107, -5.98859977722168, -5.909200191497803, -5.653600215911865, -5.728899955749512, -5.683199882507324, -5.849699974060059, -5.823400020599365, -4.958799839019775, -5.742099761962891, -5.899600028991699, -5.942399978637695, -5.942200183868408, -5.9633002281188965, -5.474100112915039, -6.513899803161621, -6.715400218963623, -6.616799831390381, -7.3165998458862305, -7.327499866485596, -7.263899803161621, -7.435500144958496, -5.867400169372559, -7.44290018081665, -7.162899971008301, -7.56689977645874, -7.597499847412109, -7.536900043487549, -7.549099922180176, -7.614200115203857, -7.651599884033203, -7.6753997802734375, -7.626399993896484, -7.7667999267578125, -7.75570011138916, -7.465099811553955, -7.010900020599365, -7.880199909210205, -7.817200183868408, -7.910200119018555, -7.936299800872803, -7.882199764251709, -8.002699851989746, -8.014699935913086, -6.598100185394287, -4.754899978637695, -7.655399799346924, -5.366000175476074, -5.922599792480469, -7.2118000984191895, -7.424200057983398, -5.978700160980225, -6.829400062561035, -7.288099765777588, -5.806099891662598, -6.27239990234375, -7.087500095367432, -6.650199890136719, -6.786499977111816, -7.305200099945068, -6.34660005569458, -4.900599956512451, -6.880499839782715, -5.96120023727417, -5.413400173187256, -5.062900066375732, -6.362100124359131, -4.1819000244140625, -5.98960018157959, -6.922900199890137, -3.029400110244751, -4.785999774932861, -5.684999942779541, -5.997099876403809, -6.740699768066406, -6.307799816131592, -5.214000225067139, -4.325300216674805, -4.87060022354126, -5.232999801635742, -5.355800151824951, -5.412700176239014, -5.014100074768066, -5.48390007019043, -5.695000171661377, -5.938700199127197, -5.732399940490723, -5.758699893951416, -5.133500099182129, -5.6768999099731445, -5.63640022277832, -5.603799819946289, -5.595799922943115, -5.7621002197265625, -5.714200019836426, -5.819499969482422, -7.114500045776367, -7.5640997886657715, -7.602499961853027, -7.636000156402588, -8.150099754333496, -8.205900192260742, -8.232199668884277, -8.34630012512207, -8.375200271606445, -7.734799861907959, -8.484399795532227, -8.536299705505371, -8.271200180053711, -8.58899974822998, -8.63379955291748, -8.639699935913086, -8.626999855041504, -8.720399856567383, -8.832200050354004, -8.84469985961914, -8.864100456237793, -8.829999923706055, -8.904899597167969, -8.904899597167969, -8.904899597167969, -8.907500267028809, -8.87559986114502, -8.875699996948242, -8.934300422668457, -8.934300422668457, -6.941299915313721, -8.911399841308594, -7.282599925994873, -7.07889986038208, -6.69379997253418, -6.98360013961792, -7.087200164794922, -6.735300064086914, -5.969900131225586, -8.133000373840332, -7.264900207519531, -8.144100189208984, -8.427200317382812, -6.6269001960754395, -4.86959981918335, -7.707399845123291, -5.0833001136779785, -7.0447998046875, -7.365200042724609, -7.093599796295166, -6.684000015258789, -7.025100231170654, -7.544300079345703, -5.345699787139893, -6.03249979019165, -6.073999881744385, -7.56279993057251, -6.2845001220703125, -6.490300178527832, -6.663400173187256, -6.806000232696533, -7.169899940490723, -5.751999855041504, -4.509900093078613, -5.88730001449585, -4.814000129699707, -6.329899787902832, -4.9394001960754395, -5.111499786376953, -6.287399768829346, -6.1595001220703125, -5.967800140380859, -5.198999881744385, -5.415999889373779, -4.751500129699707, -4.430699825286865, -5.274600028991699, -5.588699817657471, -5.920000076293945, -5.787799835205078, -4.916200160980225, -5.920499801635742, -5.8867998123168945, -5.5472002029418945, -5.277100086212158, -5.706399917602539, -5.503300189971924, -5.731299877166748, -5.6545000076293945, -5.566800117492676, -5.478899955749512, -5.7571001052856445, -5.832099914550781, -5.865200042724609, -5.867700099945068, -5.876699924468994, -6.6707000732421875, -7.609899997711182, -8.41569995880127, -8.431699752807617, -8.446900367736816, -8.493900299072266, -8.109600067138672, -8.590999603271484, -8.596599578857422, -8.629300117492676, -8.639900207519531, -7.486599922180176, -8.529600143432617, -7.4390997886657715, -8.594900131225586, -8.594900131225586, -8.2878999710083, -6.713799953460693, -8.744400024414062, -8.814900398254395, -7.886199951171875, -8.657099723815918, -8.861700057983398, -8.882499694824219, -8.958800315856934, -8.964500427246094, -8.997099876403809, -9.00510025024414, -7.571300029754639, -9.105500221252441, -5.414000034332275, -6.9644999504089355, -6.967199802398682, -4.226399898529053, -7.8933000564575195, -5.998799800872803, -6.667900085449219, -5.849100112915039, -6.508399963378906, -8.306400299072266, -5.908199787139893, -4.881999969482422, -6.700399875640869, -4.940199851989746, -5.556700229644775, -7.4899001121521, -8.0, -4.6269001960754395, -6.904200077056885, -5.763199806213379, -4.961299896240234, -6.269000053405762, -6.5131001472473145, -6.743599891662598, -6.86899995803833, -5.0680999755859375, -4.5329999923706055, -6.483399868011475, -4.728300094604492, -4.393599987030029, -2.6198999881744385, -5.570400238037109, -4.467899799346924, -5.731299877166748, -3.5143001079559326, -5.402500152587891, -5.196499824523926, -5.746200084686279, -4.825399875640869, -4.827400207519531, -5.602700233459473, -5.549499988555908, -4.6697001457214355, -4.9558000564575195, -5.576200008392334, -5.0046000480651855, -5.291500091552734, -5.349699974060059, -5.58519983291626, -5.437900066375732, -5.612599849700928, -5.5817999839782715, -6.16510009765625, -6.70989990234375, -6.718100070953369, -6.763199806213379, -6.809199810028076, -6.825699806213379, -6.817500114440918, -6.902599811553955, -6.934700012207031, -6.988999843597412, -7.030700206756592, -7.024099826812744, -7.162099838256836, -7.203199863433838, -7.243500232696533, -7.256400108337402, -7.1757001876831055, -7.291800022125244, -7.2347002029418945, -7.362500190734863, -7.359000205993652, -7.436200141906738, -7.456200122833252, -7.477700233459473, -7.50540018081665, -7.476500034332275, -7.53439998626709, -7.415599822998047, -7.572700023651123, -7.603600025177002, -6.109499931335449, -5.93209981918335, -6.490499973297119, -6.581600189208984, -5.890200138092041, -4.057700157165527, -6.636099815368652, -6.635200023651123, -5.273399829864502, -5.958399772644043, -6.863900184631348, -6.651199817657471, -5.783899784088135, -6.376500129699707, -6.118199825286865, -6.749100208282471, -6.171999931335449, -6.6479997634887695, -5.709499835968018, -5.671299934387207, -5.772500038146973, -4.693900108337402, -5.369500160217285, -4.422399997711182, -5.792699813842773, -5.267199993133545, -3.624799966812134, -5.562900066375732, -5.138299942016602, -6.009500026702881, -4.801799774169922, -5.4394001960754395, -5.973899841308594, -5.09689998626709, -4.546999931335449, -4.72790002822876, -5.438499927520752, -4.918700218200684, -5.094200134277344, -4.9994001388549805, -5.693299770355225, -5.001800060272217, -5.2307000160217285, -5.464200019836426, -5.431600093841553, -5.285699844360352, -5.413300037384033, -5.450300216674805, -5.539599895477295, -5.560200214385986, -5.587600231170654, -5.518499851226807, -5.645899772644043, -4.120100021362305, -6.688300132751465, -6.881199836730957, -5.573999881744385, -6.3333001136779785, -7.1697001457214355, -7.156000137329102, -7.368899822235107, -3.5371999740600586, -7.571100234985352, -7.541800022125244, -7.428100109100342, -5.646699905395508, -7.829100131988525, -7.96120023727417, -6.272600173950195, -8.0600004196167, -8.10219955444336, -6.156700134277344, -8.123299598693848, -8.12720012664795, -8.128199577331543, -8.16510009765625, -8.16510009765625, -8.187100410461426, -8.179100036621094, -6.436999797821045, -8.23270034790039, -8.26729965209961, -8.291000366210938, -5.159999847412109, -6.271699905395508, -6.752900123596191, -6.9720001220703125, -7.381100177764893, -6.506999969482422, -6.979899883270264, -7.236599922180176, -6.691699981689453, -6.224400043487549, -6.921199798583984, -7.778900146484375, -5.746399879455566, -6.433300018310547, -7.447700023651123, -5.5655999183654785, -5.21999979019165, -6.999100208282471, -5.498499870300293, -6.363999843597412, -4.671299934387207, -6.321499824523926, -5.413400173187256, -5.192999839782715, -6.4232001304626465, -5.1996002197265625, -5.904300212860107, -5.968699932098389, -4.455399990081787, -4.374499797821045, -4.774499893188477, -4.9019999504089355, -5.126999855041504, -3.774600028991699, -4.4471001625061035, -5.020599842071533, -5.157199859619141, -5.268599987030029, -5.788099765777588, -5.633500099182129, -5.702099800109863, -5.719900131225586, -5.426400184631348, -5.643199920654297, -5.713699817657471, -5.687300205230713, -5.598800182342529, -5.6875, -5.6946001052856445, -4.1809000968933105, -5.47130012512207, -5.6855998039245605, -5.762400150299072, -5.773799896240234, -6.1269001960754395, -6.679999828338623, -6.705100059509277, -6.729300022125244, -6.934299945831299, -6.1940999031066895, -7.009300231933594, -7.0671000480651855, -7.13070011138916, -7.132599830627441, -7.1778998374938965, -7.178599834442139, -7.070000171661377, -7.26230001449585, -5.961100101470947, -7.285399913787842, -7.3495001792907715, -7.341899871826172, -7.383699893951416, -7.396900177001953, -7.421599864959717, -7.4253997802734375, -7.426700115203857, -7.440100193023682, -7.467599868774414, -5.434500217437744, -6.898499965667725, -7.16510009765625, -5.520100116729736, -6.557799816131592, -5.587600231170654, -6.2484002113342285, -6.426700115203857, -5.438499927520752, -5.126100063323975, -6.327400207519531, -6.033299922943115, -5.96120023727417, -6.9257001876831055, -5.890100002288818, -6.649600028991699, -4.119699954986572, -5.260000228881836, -5.265500068664551, -6.622300148010254, -5.897900104522705, -5.594799995422363, -6.278299808502197, -5.696199893951416, -5.491799831390381, -5.053500175476074, -5.967700004577637, -5.897799968719482, -6.135900020599365, -5.955599784851074, -4.484899997711182, -5.544600009918213, -5.160299777984619, -5.873899936676025, -5.379799842834473, -5.847599983215332, -5.734000205993652, -5.598899841308594, -5.597400188446045, -5.640999794006348, -5.825399875640869, -5.73769998550415, -5.791600227355957, -5.829999923706055, -5.971700191497803, -6.000400066375732, -5.954400062561035, -6.38640022277832, -6.5106000900268555, -4.72730016708374, -6.542300224304199, -6.552499771118164, -6.933499813079834, -7.037399768829346, -7.070799827575684, -7.080699920654297, -7.140900135040283, -7.129499912261963, -7.196700096130371, -7.198999881744385, -7.247900009155273, -7.296299934387207, -7.322299957275391, -7.373499870300293, -7.529399871826172, -6.711100101470947, -7.552199840545654, -7.649499893188477, -7.665999889373779, -7.776800155639648, -7.817200183868408, -7.81790018081665, -7.822500228881836, -7.844399929046631, -5.8277997970581055, -5.110499858856201, -4.972400188446045, -6.576900005340576, -5.577000141143799, -6.196499824523926, -5.039899826049805, -6.828800201416016, -5.103899955749512, -5.660099983215332, -6.717400074005127, -6.472499847412109, -4.930500030517578, -6.233699798583984, -6.35699987411499, -5.30649995803833, -5.125199794769287, -4.420100212097168, -5.753499984741211, -6.531099796295166, -6.261899948120117, -5.3796000480651855, -5.634099960327148, -4.848599910736084, -5.547999858856201, -4.66349983215332, -5.151599884033203, -5.486400127410889, -4.720099925994873, -4.843800067901611, -4.599999904632568, -4.6321001052856445, -5.592700004577637, -4.634300231933594, -5.42110013961792, -5.269700050354004, -5.301300048828125, -5.394999980926514, -5.256899833679199, -5.697000026702881, -5.604300022125244], \"loglift\": [30.0, 29.0, 28.0, 27.0, 26.0, 25.0, 24.0, 23.0, 22.0, 21.0, 20.0, 19.0, 18.0, 17.0, 16.0, 15.0, 14.0, 13.0, 12.0, 11.0, 10.0, 9.0, 8.0, 7.0, 6.0, 5.0, 4.0, 3.0, 2.0, 1.0, 1.5486, 1.548, 1.5476, 1.5474, 1.5473, 1.5472, 1.5472, 1.5467, 1.5462, 1.5442, 1.544, 1.5437, 1.5427, 1.5422, 1.5421, 1.5421, 1.5421, 1.542, 1.5412, 1.541, 1.5409, 1.5408, 1.5406, 1.5404, 1.5402, 1.5396, 1.5388, 1.5386, 1.5384, 1.5383, 1.5358, 1.5252, 1.5157, 1.4725, 1.5015, 1.5374, 1.521, 1.3296, 1.431, 1.4573, 1.2425, 1.3755, 1.3362, 1.4582, 1.3734, 1.3424, 1.4354, 1.2668, 1.2575, 1.2134, 1.2681, 1.2428, 1.2735, 1.2956, 1.2347, 1.2706, 1.1979, 1.3227, 0.8693, 1.0802, 0.9534, 0.7798, 0.679, 0.9247, 0.4972, 0.9343, 0.8654, 0.6581, 0.7613, 0.9896, 0.5081, -0.1869, 0.4292, 0.7701, 0.6854, 0.4052, 0.4225, 0.3421, 0.5621, 0.5023, -1.1064, 0.0063, 0.5026, 0.3607, 0.0824, 0.2923, 1.7248, 1.7239, 1.7239, 1.7238, 1.7228, 1.7227, 1.7225, 1.7224, 1.7224, 1.7224, 1.7223, 1.722, 1.722, 1.722, 1.722, 1.7219, 1.7218, 1.7218, 1.7217, 1.7214, 1.7214, 1.7211, 1.7211, 1.7209, 1.7209, 1.7208, 1.7207, 1.7207, 1.7204, 1.7204, 1.7142, 1.6941, 1.7188, 1.6851, 1.6898, 1.7098, 1.713, 1.678, 1.6992, 1.7095, 1.6563, 1.6706, 1.694, 1.6681, 1.6713, 1.7042, 1.6234, 1.4671, 1.6625, 1.5635, 1.4947, 1.4472, 1.5826, 1.2129, 1.4904, 1.6504, 0.823, 1.1683, 1.36, 1.4187, 1.6067, 1.4778, 1.066, 0.7368, 0.8774, 0.9542, 0.9849, 0.9895, 0.7405, 1.0015, 1.0063, 1.1882, 0.9419, 0.9655, 0.1342, 0.8383, 0.7019, 0.5774, 0.4295, 0.734, 0.0342, 0.801, 1.7554, 1.7543, 1.7542, 1.754, 1.7518, 1.7514, 1.7513, 1.7505, 1.7503, 1.7501, 1.7495, 1.749, 1.7487, 1.7486, 1.7482, 1.7482, 1.7481, 1.7474, 1.7462, 1.746, 1.7458, 1.7456, 1.7453, 1.7453, 1.7453, 1.7453, 1.7452, 1.745, 1.745, 1.745, 1.7447, 1.7449, 1.7237, 1.7119, 1.6909, 1.6985, 1.7006, 1.6888, 1.663, 1.7252, 1.6951, 1.7232, 1.732, 1.647, 1.5528, 1.7, 1.5417, 1.664, 1.6788, 1.6592, 1.6235, 1.6467, 1.6847, 1.506, 1.5622, 1.541, 1.6852, 1.5528, 1.5749, 1.5911, 1.6056, 1.6415, 1.4656, 1.2628, 1.4613, 1.2648, 1.5255, 1.2674, 1.2744, 1.4731, 1.4237, 1.3488, 1.0268, 1.0564, 0.7963, 0.6314, 0.9729, 1.0969, 1.2351, 1.0753, 0.5092, 1.1374, 1.1021, 0.7582, 0.4709, 0.7973, 0.5213, 0.754, 0.4474, -0.2992, -0.8037, 0.2229, 0.3734, 0.3161, -0.1193, 0.1443, 2.1167, 2.1079, 2.1076, 2.1074, 2.1073, 2.1057, 2.1056, 2.1055, 2.1054, 2.105, 2.1049, 2.1048, 2.1047, 2.1037, 2.1035, 2.1034, 2.1032, 2.1032, 2.103, 2.1022, 2.1014, 2.1012, 2.1011, 2.1011, 2.0997, 2.0995, 2.0989, 2.0988, 2.0972, 2.0968, 2.0825, 2.0949, 2.0899, 2.0563, 2.091, 2.0657, 2.075, 2.0518, 2.0623, 2.095, 2.036, 1.9971, 2.0466, 1.9854, 1.9899, 2.0651, 2.0825, 1.918, 2.035, 1.9429, 1.8865, 1.9633, 1.9662, 1.9787, 1.9869, 1.7824, 1.7227, 1.9241, 1.6363, 1.5776, 1.2325, 1.7234, 1.4962, 1.7536, 1.1609, 1.6162, 1.5282, 1.6871, 1.3506, 1.324, 1.5575, 1.4973, 0.9087, 1.0692, 1.4535, 0.9754, 1.0746, 0.8598, 1.3198, 0.6942, 1.3249, 0.3628, 2.1807, 2.1798, 2.1798, 2.1797, 2.1796, 2.1796, 2.1795, 2.1793, 2.1793, 2.1791, 2.179, 2.179, 2.1785, 2.1785, 2.1783, 2.1783, 2.1782, 2.1782, 2.1781, 2.1779, 2.1778, 2.1776, 2.1775, 2.1774, 2.1773, 2.1772, 2.1771, 2.1771, 2.177, 2.1768, 2.1601, 2.1387, 2.1539, 2.1504, 2.1236, 2.0405, 2.1434, 2.1375, 2.0563, 2.0995, 2.1405, 2.1203, 2.0281, 2.0901, 2.0453, 2.122, 2.0359, 2.106, 1.9631, 1.9429, 1.9314, 1.6528, 1.7996, 1.5223, 1.8718, 1.6853, 1.0504, 1.7344, 1.537, 1.871, 1.3304, 1.602, 1.8402, 1.398, 1.0007, 1.0205, 1.4377, 1.0454, 1.1113, 0.7553, 1.4844, 0.494, 0.7939, 1.1305, 1.0463, 0.3089, 0.5579, 0.5707, 0.7635, 0.8043, 0.8242, -0.0931, 0.413, 2.2723, 2.2705, 2.2703, 2.2703, 2.2698, 2.2694, 2.2689, 2.2688, 2.2687, 2.2678, 2.2675, 2.2668, 2.2664, 2.2658, 2.2651, 2.2642, 2.2641, 2.264, 2.2638, 2.2637, 2.2636, 2.2636, 2.2634, 2.2634, 2.2632, 2.2632, 2.263, 2.2626, 2.2621, 2.2621, 2.2498, 2.2605, 2.2595, 2.2613, 2.2615, 2.2514, 2.2555, 2.2565, 2.2506, 2.2398, 2.2466, 2.259, 2.2133, 2.2113, 2.2475, 2.147, 2.0881, 2.2224, 2.0583, 2.1465, 1.9228, 2.1307, 1.9709, 1.9273, 2.1135, 1.804, 1.8978, 1.8532, 0.9394, 0.8931, 0.9802, 1.0523, 1.153, 0.0778, 0.615, 1.0047, 1.0241, 0.9409, 1.5027, 1.1715, 1.2807, 1.2806, 0.6755, 1.1026, 1.0108, 0.8164, -0.0204, 0.5383, 0.0535, 2.8066, 2.8057, 2.8056, 2.8055, 2.8055, 2.8048, 2.8032, 2.8031, 2.803, 2.8021, 2.8017, 2.8017, 2.8015, 2.8011, 2.8011, 2.8008, 2.8008, 2.8006, 2.8003, 2.8002, 2.8001, 2.7997, 2.7995, 2.7994, 2.7993, 2.7991, 2.7991, 2.7991, 2.799, 2.7988, 2.7951, 2.7972, 2.7979, 2.7725, 2.7872, 2.7658, 2.7789, 2.7821, 2.7538, 2.7392, 2.7741, 2.737, 2.7316, 2.7851, 2.705, 2.7534, 2.451, 2.5797, 2.5768, 2.7391, 2.5957, 2.4954, 2.6454, 2.4745, 2.408, 2.1237, 2.4911, 2.4556, 2.561, 2.4032, 1.011, 1.9914, 1.5254, 2.2617, 0.9256, 2.1003, 1.6459, 1.1054, 0.8987, 0.6065, 1.6842, 0.4885, 0.4139, 0.6852, 3.1799, 3.1798, 3.1796, 3.1785, 3.1779, 3.1778, 3.1778, 3.1777, 3.1754, 3.1747, 3.1744, 3.1744, 3.1738, 3.1737, 3.1734, 3.1733, 3.1729, 3.1723, 3.1721, 3.1716, 3.1697, 3.1696, 3.1694, 3.1681, 3.1678, 3.1662, 3.1655, 3.1655, 3.1654, 3.1649, 3.1467, 3.1299, 3.1215, 3.1515, 3.1269, 3.1337, 3.0946, 3.1496, 3.0482, 3.076, 3.1166, 3.0867, 2.8853, 3.0241, 3.0373, 2.8048, 2.7438, 2.5567, 2.8531, 3.0437, 2.9578, 2.6509, 2.5978, 2.1016, 2.4886, 1.8402, 2.1468, 2.3846, 1.7057, 1.5422, 1.148, 1.1407, 2.1753, 0.4277, 1.5343, 0.9778, 0.7775, 0.8309, -0.5817, 2.0668, 0.3757]}, \"token.table\": {\"Topic\": [3, 1, 2, 3, 4, 5, 6, 7, 8, 1, 2, 3, 4, 5, 6, 8, 7, 2, 5, 1, 2, 3, 4, 5, 6, 7, 8, 2, 3, 6, 8, 7, 1, 2, 3, 4, 5, 6, 8, 3, 4, 4, 1, 2, 3, 5, 6, 8, 1, 2, 3, 4, 5, 6, 2, 7, 8, 8, 1, 2, 3, 8, 8, 1, 2, 3, 4, 5, 6, 8, 1, 6, 1, 2, 3, 4, 5, 6, 1, 2, 5, 8, 1, 2, 3, 5, 6, 8, 1, 2, 3, 6, 8, 7, 7, 1, 2, 3, 4, 5, 6, 7, 8, 1, 2, 3, 4, 5, 7, 1, 2, 3, 4, 5, 6, 7, 8, 1, 2, 3, 4, 5, 6, 8, 1, 4, 1, 7, 8, 6, 1, 2, 3, 4, 5, 6, 7, 2, 3, 8, 2, 6, 7, 5, 2, 1, 2, 3, 4, 5, 1, 3, 4, 8, 5, 6, 1, 2, 3, 4, 5, 8, 1, 2, 4, 5, 7, 6, 1, 3, 4, 5, 6, 7, 8, 1, 8, 1, 2, 3, 4, 6, 8, 2, 1, 3, 5, 1, 2, 3, 4, 5, 6, 7, 8, 2, 1, 2, 3, 4, 5, 6, 7, 6, 1, 2, 3, 6, 7, 1, 3, 4, 8, 3, 1, 1, 8, 3, 5, 1, 2, 3, 4, 7, 8, 3, 1, 2, 3, 4, 5, 8, 1, 1, 2, 3, 4, 5, 6, 8, 8, 1, 2, 3, 4, 5, 6, 7, 8, 1, 3, 4, 5, 6, 7, 8, 4, 1, 4, 1, 2, 3, 4, 5, 8, 1, 3, 4, 5, 6, 7, 8, 2, 2, 3, 6, 7, 1, 2, 3, 4, 1, 2, 3, 4, 8, 1, 3, 4, 6, 7, 8, 3, 4, 2, 1, 4, 1, 3, 4, 1, 2, 3, 6, 7, 8, 2, 1, 1, 2, 3, 4, 5, 6, 1, 2, 3, 4, 5, 6, 8, 5, 1, 3, 5, 8, 7, 1, 2, 3, 4, 6, 1, 2, 3, 6, 8, 1, 2, 3, 6, 8, 3, 1, 2, 3, 4, 5, 6, 7, 8, 8, 1, 2, 3, 4, 5, 6, 8, 1, 2, 3, 4, 5, 6, 8, 1, 1, 2, 3, 4, 7, 8, 7, 7, 2, 5, 1, 2, 3, 4, 5, 6, 7, 8, 1, 3, 4, 5, 6, 7, 8, 1, 4, 7, 8, 3, 1, 2, 3, 4, 6, 8, 2, 6, 1, 5, 4, 6, 2, 3, 1, 2, 3, 4, 5, 6, 7, 8, 1, 2, 3, 4, 5, 6, 7, 8, 1, 2, 3, 4, 1, 3, 4, 3, 6, 1, 2, 3, 5, 2, 1, 2, 3, 4, 5, 6, 7, 1, 3, 4, 5, 7, 8, 4, 1, 1, 2, 3, 4, 5, 6, 7, 8, 1, 2, 5, 1, 2, 3, 6, 3, 4, 5, 6, 7, 8, 1, 3, 7, 8, 8, 1, 3, 6, 7, 8, 1, 2, 4, 1, 2, 3, 6, 7, 8, 1, 2, 3, 6, 1, 2, 3, 4, 5, 6, 8, 6, 7, 1, 3, 5, 6, 7, 8, 7, 6, 2, 1, 2, 4, 4, 1, 2, 3, 4, 5, 2, 1, 2, 4, 1, 2, 3, 4, 7, 3, 7, 1, 2, 3, 4, 5, 6, 1, 2, 4, 5, 6, 1, 2, 3, 4, 5, 6, 7, 8, 1, 4, 5, 4, 4, 6, 7, 8, 1, 2, 3, 4, 5, 6, 8, 1, 3, 4, 5, 8, 1, 2, 3, 4, 6, 7, 8, 1, 2, 3, 4, 6, 8, 2, 6, 1, 1, 7, 1, 2, 3, 4, 5, 6, 8, 1, 2, 3, 4, 5, 6, 8, 1, 2, 3, 4, 5, 6, 7, 1, 2, 3, 4, 5, 6, 7, 8, 1, 2, 3, 4, 5, 6, 1, 2, 3, 4, 5, 4, 4, 6, 7, 1, 2, 3, 4, 5, 6, 7, 2, 3, 1, 2, 4, 1, 3, 5, 6, 7, 1, 2, 3, 4, 5, 6, 8, 1, 2, 3, 4, 5, 6, 8, 1, 1, 4, 1, 2, 3, 4, 5, 6, 7, 8, 3, 1, 2, 3, 4, 5, 6, 7, 8, 7, 1, 2, 3, 4, 5, 6, 7, 8, 1, 2, 3, 5, 6, 1, 2, 7, 1, 3, 6, 7, 2, 6, 6, 1, 2, 3, 4, 1, 3, 4, 7, 1, 2, 3, 4, 5, 6, 7, 8, 1, 3, 4, 5, 6, 7, 2, 1, 4, 7, 1, 2, 3, 5, 6, 4, 3, 1, 2, 3, 4, 5, 6, 7, 8, 1, 2, 3, 4, 5, 6, 2, 1, 3, 4, 7, 1, 8, 7, 5, 7, 5, 1, 2, 3, 4, 5, 6, 7, 8, 1, 2, 3, 4, 5, 6, 7, 1, 2, 3, 4, 5, 6, 7, 8, 1, 2, 3, 4, 5, 6, 8, 4, 1, 2, 3, 4, 5, 6, 7, 8, 1, 4, 1, 4, 5, 2, 3, 6, 8, 1, 2, 3, 4, 5, 6, 7, 8, 5, 1, 2, 3, 4, 5, 6, 7, 8, 1, 3, 4, 5, 6, 7, 8, 6, 1, 2, 3, 4, 5, 6, 7, 7, 1, 3, 4, 5, 1, 2, 3, 4, 5, 6, 8, 1, 2, 3, 4, 5, 5, 1, 2, 3, 4, 5, 6, 7, 8, 3, 2, 4, 6, 7, 2, 1, 4, 6, 1, 2, 3, 4, 5, 6, 8, 2, 6, 3, 1, 2, 3, 4, 5, 6, 2, 2, 6, 1, 2, 3, 7, 6, 3, 1, 2, 3, 4, 6, 5, 2, 1, 2, 3, 4, 5, 1, 1, 1, 3, 6, 2, 3, 1, 2, 3, 4, 6, 7, 3, 7, 8, 3, 6, 2, 1, 2, 3, 4, 5, 6, 7, 8, 1, 3, 8, 8, 1, 2, 3, 3, 4, 6, 7, 8, 1, 2, 3, 4, 6, 7, 1, 4, 5, 2, 3, 4, 6, 8, 3, 4, 5, 6, 7, 8, 8, 3, 1, 2, 3, 4, 5, 6, 7, 8, 1, 2, 3, 4, 5, 6, 6, 1, 2, 6, 4, 5, 1, 3, 4, 1, 2, 3, 4, 5, 5, 6, 7, 8, 8, 1, 2, 3, 4, 6, 8, 2, 2, 4, 1, 2, 3, 4, 5, 1, 2, 3, 5, 6, 7, 8, 1, 2, 3, 4, 5, 6, 7, 8, 2, 5, 1, 2, 3, 4, 6, 7, 8, 8, 1, 2, 3, 4, 5, 7, 8, 2, 1, 1, 2, 3, 1, 2, 3, 5, 6, 7, 8, 1, 2, 6, 1, 1, 2, 3, 4, 5, 6, 7, 8, 1, 2, 4, 8, 1, 3, 4, 6, 7, 1, 3, 6, 7, 3, 1, 2, 3, 4, 5, 6, 8, 5, 1, 2, 3, 4, 5, 6, 7, 8, 4, 8, 6, 2, 3, 3, 5, 1, 2, 3, 4, 5, 6, 7, 1, 4, 3, 3, 5, 1, 2, 4, 1, 2, 4, 4, 7, 1, 2, 3, 7, 8, 4, 1, 2, 3, 4, 5, 6, 8, 1, 2, 3, 4, 5, 6, 8, 4, 1, 2, 3, 4, 5, 6, 7, 8, 1, 2, 3, 4, 5, 6, 7, 8, 8, 1, 2, 3, 4, 5, 6, 7, 8, 5, 1, 2, 3, 4, 5, 6, 8, 1, 2, 3, 4, 5, 6, 7, 8, 3, 1, 2, 3, 4, 5, 6, 7, 8, 3, 6, 7, 1, 2, 3, 4, 6, 7, 8, 1, 2, 1, 3, 4, 5, 1, 3, 4, 2, 3, 5, 7, 1, 2, 3, 4, 6, 8, 1, 2, 3, 4, 5, 1, 2, 3, 6, 7, 1, 3, 4, 5, 3, 8, 1, 6, 1, 2, 3, 4, 5, 6, 7, 1, 2, 3, 4, 5, 1, 2, 3, 4, 5, 6, 7, 1, 2, 3, 4, 5, 6, 5, 7, 7, 5, 5, 6, 5, 8, 6, 7, 8, 1, 2, 4, 6, 1, 4, 1, 2, 3, 4, 5, 6, 8, 1, 2, 3, 4, 5, 6, 7, 8, 1, 4, 1, 3, 4, 5, 6, 7, 8, 5, 1, 2, 3, 4, 5, 6, 7, 8, 7, 1, 5, 4, 7, 1, 6, 7, 1, 2, 3, 4, 5, 6, 1, 2, 3, 4, 5, 6, 8, 2, 1, 2, 3, 4, 5, 6, 7, 8, 3, 4, 8, 7, 8, 1, 2, 3, 4, 5, 6, 7, 8, 1, 2, 3, 4, 5, 6, 7, 8, 1, 4, 5, 6, 7, 1, 2, 3, 4, 5, 6, 7, 8, 1, 2, 3, 4, 5, 6, 7, 8, 7, 8, 1, 4, 5, 1, 2, 3, 5, 6, 8, 3, 1, 2, 3, 4, 5, 6, 7, 8, 5, 5, 1, 5, 7, 8, 1, 2, 3, 4, 5, 6, 7, 8, 7, 1, 2, 3, 4, 6, 7, 8, 7, 6, 1, 2, 3, 4, 5, 1, 2, 3, 5, 6, 8, 1, 2, 3, 4, 5, 6, 7, 8, 4, 3, 2, 4, 7, 1, 2, 3, 4, 5, 6, 7, 8, 3, 8, 1, 2, 3, 4, 5, 6, 7, 8, 8, 8, 1, 2, 3, 6, 7, 8, 1, 2, 3, 4, 5, 6, 7, 8, 1, 4, 1, 4, 1, 2, 3, 4, 6, 7, 8, 1, 2, 3, 4, 5, 6, 1, 2, 3, 4, 6, 8, 1, 2, 4, 5, 5, 1, 2, 3, 4, 5, 6, 7, 8, 1, 2, 3, 4, 6, 7, 1, 2, 4, 1, 1, 2, 3, 4, 5, 6, 7, 2, 7, 1, 2, 3, 4, 5, 6, 7, 8, 1, 2, 3, 4, 5, 6, 1, 3, 4, 1, 2, 3, 4, 5, 6, 8, 1, 5, 4, 5, 8, 7, 4, 7, 2, 3, 6, 8, 1, 2, 3, 4, 5, 6, 1, 3, 4, 5, 6, 7, 8, 2, 1, 1, 2, 3, 4, 6, 7, 1, 3, 4, 5, 6, 7, 8, 1, 2, 3, 4, 5, 6, 7, 8, 1, 2, 3, 4, 5, 6, 7, 8, 3, 1, 3, 6, 1, 2, 3, 4, 1, 3, 2, 3, 6, 8, 7, 8, 1, 3, 5, 6, 7, 2, 6, 1, 2, 3, 4, 5, 6, 8, 1, 2, 4, 5, 8, 4, 1, 3, 4, 6, 7, 8, 2, 6, 7, 8, 7, 8, 6, 7, 5, 7, 1, 2, 6, 2, 1, 2, 1, 2, 3, 4, 5, 6, 7, 8, 1, 2, 3, 6, 7, 5, 1, 4, 8, 1, 1, 2, 3, 4, 6, 1, 2, 3, 4, 5, 6, 8, 1, 2, 3, 4, 5, 1, 2, 3, 4, 6, 8, 2, 6, 6, 1, 2, 3, 4, 5, 6, 7, 8, 1, 3, 4, 5, 1, 2, 3, 4, 5, 6, 7, 8, 1, 2, 3, 4, 1, 3, 4, 5, 6, 4, 5, 7, 1, 2, 3, 4, 5, 6, 7, 8, 1, 2, 3, 4, 6, 7, 8, 1, 3, 5, 8, 8, 1, 2, 3, 4, 5, 6, 7, 8, 1, 2, 3, 4, 6, 7, 8, 1, 2, 3, 4, 5, 6, 7, 8, 7, 1, 4, 5, 1, 2, 3, 4, 5, 6, 7, 8, 7, 7, 1, 4, 2, 2, 3, 4, 6, 8, 5, 5, 1, 2, 3, 4, 5, 6, 7, 8, 2, 1, 2, 3, 4, 5, 6, 7, 8, 1, 2, 3, 4, 5, 6, 7, 8, 1, 2, 3, 4, 5, 6, 7, 3, 8, 1, 1, 2, 3, 4, 5, 6, 7, 8, 1, 2, 3, 4, 5, 6, 1, 2, 3, 4, 5, 6, 8, 1, 2, 3, 4, 5, 8, 1, 2, 3, 4, 5, 6, 8, 1, 4, 1, 2, 7, 3, 3, 1, 4, 5, 2, 3, 4, 1, 2, 3, 4, 5, 6, 1, 3, 8, 8, 1, 3, 7, 8, 4, 8, 1, 2, 3, 4, 5, 6, 7, 8, 1, 4, 6, 1, 3, 4, 6, 1, 2, 3, 4, 5, 7, 3, 1, 2, 3, 4, 5, 6, 7, 8, 2, 6, 1, 2, 3, 5, 6, 7, 8, 1, 6, 7, 8, 4, 1, 1, 2, 5, 6, 5, 1, 2, 3, 4, 5, 6, 7, 8, 3, 4, 6, 6, 6, 1, 2, 3, 4, 5, 6, 7, 1, 3, 4, 5, 6, 7, 8, 1, 2, 2, 4, 6, 1, 2, 3, 4, 5, 7, 8, 5, 7, 4, 6, 7, 8, 1, 3, 4, 5, 6, 8, 1, 3, 4, 5, 8, 8, 1, 2, 3, 4, 5, 6, 7, 8, 1, 2, 3, 4, 5, 6, 7, 8, 2, 4, 6, 7, 1, 2, 3, 4, 5, 6, 7, 8, 3, 2, 6], \"Freq\": [0.9962569434899714, 0.19508974508944432, 0.1233933203950644, 0.5192330546287726, 0.020376878597350084, 0.07471522152361698, 0.04943279807875669, 0.014716634542530617, 0.0030187968292370495, 0.06745768884538195, 0.033407617332951056, 0.8148460509735819, 0.013491537769076389, 0.013919840555396275, 0.0002141513931599427, 0.056964270580544756, 0.9979595591526644, 0.997397364571681, 0.994830090267229, 0.05760830448971943, 0.03406942738639321, 0.6169663577608662, 0.002890739293390939, 0.00887869925827217, 0.0852768091550327, 0.0006194441342980584, 0.19388601403529226, 0.00665040044453496, 0.9709584649021041, 0.00665040044453496, 0.01330080088906992, 0.999736046443848, 0.03183441590934232, 0.0005305735984890387, 0.06260768462170657, 0.005305735984890387, 0.8818133206887823, 0.0026528679924451935, 0.014325487159204045, 0.9838572417080005, 0.9860899200565311, 0.9860845641773437, 0.03450931586546144, 0.007764596069728824, 0.14839005822148418, 0.06556770014437674, 0.000862732896636536, 0.7428130240040575, 0.2704608715971138, 0.4676598582755233, 0.06804957690077273, 0.021428377407051842, 0.16679385657380894, 0.005212308017931529, 0.9970412624220101, 0.9492803424814814, 0.050628284932345675, 0.9897189188078351, 0.0515236355740084, 0.9274254403321512, 0.018401298419288715, 0.0018401298419288715, 0.9913747088461998, 0.25264842202593474, 0.1040146599854479, 0.0002897344289288242, 0.5539722281119119, 0.011299642728224145, 0.0776488269529249, 0.996064074662164, 0.992695862949596, 0.998421505497126, 0.09641733183902024, 0.04550898062801755, 0.05399370582985133, 0.01774078905837972, 0.7782807026045713, 0.007713386547121619, 0.9499209456142618, 0.00887776584686226, 0.02663329754058678, 0.0147962764114371, 0.01974569691490442, 0.09962601625247229, 0.7925204716300274, 0.005385190067701205, 0.06641734416831487, 0.015258038525153414, 0.004675619609233975, 0.7572165957154423, 0.01145526804262324, 0.15569813298749138, 0.07106941806035642, 0.991049828759304, 0.9963993006844213, 0.18851062116153794, 0.09652652288392002, 0.2952575994096377, 0.005678030757877648, 0.03293257839569036, 0.18311649194155416, 0.18226478732787252, 0.015614584584163533, 0.755822144723179, 0.037159397479015685, 0.023782014386570037, 0.0037159397479015685, 0.03938896132775663, 0.13971933452109897, 0.24314703039780786, 0.02044156450247057, 0.16568425965160358, 0.030124410845746106, 0.0075311027114365265, 0.0279726672139071, 0.005379359079597519, 0.49920452258664977, 0.09303492656878491, 0.005346834860274994, 0.23953820174031976, 0.011763036692604988, 0.06095391740713494, 0.002138733944109998, 0.5881518346302494, 0.9890183352440318, 0.006339861123359178, 0.13864302773373527, 0.007297001459670277, 0.8537491707814224, 0.9898958279372843, 0.3710165103868021, 0.11971692082726625, 0.095773536661813, 0.11251271674208563, 0.25723246351203755, 0.006568539018841157, 0.037080462203135565, 0.010483967221305391, 0.04403266232948264, 0.9456538433617462, 0.002661468262039193, 0.9767588521683838, 0.01863027783427435, 0.9971720688693628, 0.9960702668655949, 0.20156910417628582, 0.017487730499312466, 0.011965289289003268, 0.0358958678670098, 0.7326438672343539, 0.014730457033751912, 0.92507270171962, 0.017676548440502295, 0.04124527969450535, 0.010680342738967695, 0.9897117604776731, 0.283308517613551, 0.0003625188964984658, 0.006344080688723152, 0.6730163313494018, 0.03262670068486192, 0.004350226757981589, 0.06572474941864777, 0.003923865636934195, 0.9211274582703023, 0.00882869768310194, 0.9953580405536808, 0.9865668705262756, 0.05710332282258933, 0.16737180827310666, 0.0049227002433266664, 0.23924323182567597, 0.003938160194661333, 0.493254564381332, 0.03347436165462133, 0.9927866053944617, 0.9834818848335565, 0.007837781350222102, 0.9464120980393187, 0.0019594453375555254, 0.022533621381888542, 0.016655285369221964, 0.003918890675111051, 0.9977558933395536, 0.9833884668364946, 0.9284382491004525, 0.0650268034389422, 0.4171493266258346, 0.06084580062547692, 0.2870025297035483, 0.06029265698342713, 0.10280569690096815, 0.03279351592152328, 0.007506949427818581, 0.031687228637423695, 0.999341121428987, 0.922264773520432, 0.006928533356998237, 0.01000788151566412, 0.0023095111189994125, 0.02348002970982736, 0.03348791122549148, 0.0015396740793329417, 0.9856138589768105, 0.7518429632069259, 0.24496894617763879, 0.0012097231910006853, 0.0012097231910006853, 0.0006048615955003427, 0.008511602728588977, 0.9674855101496138, 0.019860406366707613, 0.0028372009095296593, 0.9837848224706882, 0.9900259955461386, 0.9878876362065914, 0.9922209163545667, 0.9663964030775853, 0.026844344529932927, 0.19359775339905866, 0.017389019766382515, 0.07883022294093407, 0.001159267984425501, 0.022026091704084517, 0.685127378795471, 0.9839380347729193, 0.25591920111028504, 0.0006196590825914893, 0.0037179544955489355, 0.6940181725024679, 0.03470090862512339, 0.010534204404055317, 0.9897674213804671, 0.8046942923317825, 0.020195030502535082, 0.03883659712025977, 0.12634839596457845, 0.008802962013925547, 0.0005178212949367969, 0.0005178212949367969, 0.9879615734568379, 0.2322302638413012, 0.46242935919419453, 0.17011036090416012, 0.01878830851777291, 0.04417791462287144, 0.022681381453888018, 0.0018619044477072254, 0.04756319543688457, 0.08739993029138786, 0.06810384178549704, 0.007945448208307988, 0.004540256119033136, 0.007945448208307988, 0.7321162991940932, 0.09080512238066271, 0.9836653422053412, 0.02094209835494544, 0.9753034376731733, 0.31996167247938334, 0.04043258072643484, 0.02332648888063548, 0.6049336116378135, 0.010496919996285967, 0.00038877481467725804, 0.0013377660945571247, 0.84680593785466, 0.024079789702028245, 0.021404257512913995, 0.045484047214942244, 0.05886170816051349, 0.0013377660945571247, 0.9981747114475948, 0.00417741089001273, 0.00417741089001273, 0.9900463809330169, 0.9988209620986366, 0.09275739702530031, 0.02440984132244745, 0.00488196826448949, 0.8763133034758634, 0.14948953031279766, 0.0018639592308328885, 0.2933871829330967, 0.020503551539161776, 0.534956299249039, 0.03854949326501671, 0.8058679782543969, 0.02150379896415898, 0.006031553367995811, 0.11984434300756895, 0.008129484974255224, 0.9898580792277482, 0.9779331408439602, 0.9968684870971822, 0.01650437282859434, 0.9792594544965975, 0.1260138968343437, 0.0021358287599041307, 0.8692823052809812, 0.04481387893479859, 0.0044813878934798585, 0.0044813878934798585, 0.0044813878934798585, 0.9321286818438106, 0.008962775786959717, 0.9971481251966978, 0.9909140039824593, 0.7535547877915875, 0.1709606677148315, 0.0008299061539554927, 0.030706527696353233, 0.034026152312175206, 0.008299061539554927, 0.17546901691801128, 0.015561586570567994, 0.07721084559833377, 0.3837778328338639, 0.3225763892469778, 0.0022390772043982725, 0.023174449065522122, 0.996800661052712, 0.049315111730177205, 0.01972604469207088, 0.01972604469207088, 0.9073980558352606, 0.9938433753385817, 0.1995075951576912, 0.08309625364533396, 0.00842450497786796, 0.08271332160088542, 0.6253280285844717, 0.06203621154129148, 0.03509943547730965, 0.7525971979088255, 0.023671712298650695, 0.1265212209065813, 0.02242256319162388, 0.00395692291616892, 0.02242256319162388, 0.00131897430538964, 0.9483425255751511, 0.9837604932864469, 0.05928952377058988, 0.1692478393688649, 0.4815294556679659, 0.016889597275895042, 0.0008796665247862, 0.17646110487211172, 0.0005277999148717201, 0.09517991798186684, 0.9918693786709732, 0.5024959156722827, 0.16606088200328656, 0.11430164605421023, 0.04448059339373747, 0.15932139815575058, 0.01078317415605757, 0.0026957935390143923, 0.34963443591986715, 0.479120898682507, 0.11206770034886497, 0.00944390733276952, 0.04575048441208345, 0.003777562933107808, 0.9895192586056872, 0.9871697795383774, 0.16712521313852996, 0.00032769649635005875, 0.03801279357660682, 0.7930255211671422, 0.00032769649635005875, 0.001310785985400235, 0.9965087602102218, 0.9976937886051548, 0.9952647615318185, 0.9980975863117028, 0.3172540721183851, 0.12818195968743762, 0.12312018659873508, 0.11478314857028385, 0.1704626525460117, 0.13324373277614016, 0.002084259507112807, 0.010867924572802492, 0.14480382991566068, 0.5930273772853673, 0.021831962048822685, 0.11094201122769079, 0.004901052704837746, 0.05836708221215861, 0.06549588614646805, 0.004164520562529705, 0.12285335659462629, 0.7829298657555844, 0.0916194523756535, 0.9838572476844041, 0.21476299425880183, 0.0769999823531168, 0.18965430436104636, 0.4640085893105212, 0.03381303572897737, 0.020756516982144525, 0.002662776869280226, 0.9967661414005645, 0.996121685833586, 0.996761440177437, 0.9897192253630167, 0.9880930028895544, 0.9971668522074792, 0.002064527644321903, 0.006961061006977258, 0.7942570608961051, 0.03132477453139766, 0.0657820265159351, 0.01809875861814087, 0.07831193632849416, 0.0013922122013954516, 0.003828583553837492, 0.10483381895804275, 0.5843835610512383, 0.024259065544009892, 0.21443281150508745, 0.002165987995000883, 0.0008663951980003534, 0.06238045425602544, 0.006931161584002827, 0.017441505722571676, 0.010900941076607296, 0.013081129291928756, 0.9571026265261207, 0.05064366019454169, 0.9071820869630947, 0.03963416884790219, 0.9935111840791171, 0.004578392553359986, 0.024784878613820116, 0.01982790289105609, 0.012392439306910058, 0.9418253873251644, 0.9982065628628767, 0.7272842271336695, 0.09333480914882092, 0.04727347476368852, 0.0036364211356683476, 0.10303193217726984, 0.0006060701892780579, 0.02545494794967843, 0.01674825771543778, 0.8144942173191848, 0.014103795970894974, 0.0810968268326461, 0.0017629744963618718, 0.07140046710265581, 0.9719241598411936, 0.9876178531103255, 0.1661278028749868, 0.4873459566451912, 0.050093051292798396, 0.00990540562286974, 0.1553733624844425, 0.12678919197273267, 0.0025471043030236475, 0.0016980695353490984, 0.03005901016362287, 0.01113296672726773, 0.9574351385450247, 0.008829917707499609, 0.0017659835414999218, 0.0017659835414999218, 0.9871847996984562, 0.9399767473609338, 0.002708866707092028, 0.008126600121276084, 0.035215267192196364, 0.010835466828368112, 0.005417733414184056, 0.028326060900661296, 0.024279480771995397, 0.9347600097218227, 0.012139740385997699, 0.9867846875614662, 0.03735924871864713, 0.8896171101127849, 0.021014577404239013, 0.002334953044915446, 0.04903401394322436, 0.059178614143424645, 0.0046967154082083054, 0.9355857093150944, 0.011516313494234168, 0.0008858702687872437, 0.13642402139323553, 0.05580982693359635, 0.7946256311021576, 0.0008858702687872437, 0.05022380455745708, 0.7809801608684576, 0.1046329261613689, 0.0636168191061123, 0.03994777423289172, 0.005706824890413102, 0.034240949342478615, 0.1616933718950379, 0.013315924744297238, 0.022827299561652407, 0.7190599361920509, 0.007385208386411058, 0.9896179237790819, 0.012440951880361314, 0.03524936366102373, 0.010367459900301095, 0.002073491980060219, 0.926850915086918, 0.012440951880361314, 0.9886926275885659, 0.9898717563924405, 0.9974297057226057, 0.058658064517923034, 0.0014897286226774103, 0.9396463287537766, 0.9827369471188125, 0.2789754636113179, 0.00921386852294261, 0.011261394861374301, 0.6736361653440264, 0.02610596081500406, 0.9948096102260993, 0.9626278458721605, 0.025746361405198946, 0.01001247387979959, 0.14916505240132352, 0.0014768817069437973, 0.01772258048332557, 0.12848870850411037, 0.7044725742121913, 0.9876330580809326, 0.9893554379453114, 0.8850982514323984, 0.00794318943593178, 0.0068084480879415255, 0.09645301457917162, 0.0011347413479902543, 0.0034042240439707628, 0.733143822756144, 0.001075779637206374, 0.21461803762267162, 0.000537889818603187, 0.05056164294869958, 0.00044733092957019, 0.031984161464268586, 0.6098238897365615, 0.00089466185914038, 0.10422810658985428, 0.09528148799845047, 0.027510852168566687, 0.12983780230774766, 0.009504159213765379, 0.9884325582315993, 0.9948682967446052, 0.9842332034949087, 0.9854720093324022, 0.01947606217071561, 0.03895212434143122, 0.9348509841943493, 0.4613512208324278, 0.07468180441019939, 0.002486323944605898, 0.29826678728068534, 0.06234227075919234, 0.10092633493659497, 9.208607202244068e-05, 0.001523805886664685, 0.9356168144121166, 0.016761864753311536, 0.00304761177332937, 0.0411427589399465, 0.08243503458490944, 0.00785095567475328, 0.03140382269901312, 0.8557541685481076, 0.00785095567475328, 0.010467940899671041, 0.0026169852249177603, 0.06997104442967789, 0.40564848409231624, 0.0008031344991928359, 0.41225385558567773, 0.11130788538813365, 1.6390499983527264e-05, 0.9650755860898493, 0.03449212525047601, 0.9831303010481305, 0.01592378404793013, 0.979312718947703, 0.26616519772774, 0.18595102854951698, 0.004101860923886404, 0.04284165853836911, 0.4976924587648837, 0.00045576232487626713, 0.0027345739492576028, 0.13417325498023294, 0.08461680150763434, 0.12271121812262509, 0.017193055286411758, 0.4750002921285131, 0.16619953443531366, 0.0003371187311061129, 0.2508769047292935, 0.018043705457708524, 0.055866088051751396, 0.4497046590998125, 0.2088905901065487, 0.0010409830071754919, 0.01492075643618205, 0.3713257965645392, 0.06845871345929246, 0.03082434218585943, 0.4519708778647528, 0.021146932429833794, 0.018996396928494766, 0.036200680939207, 0.000358422583556505, 0.4197490443274909, 0.09030964287046016, 0.05749289940485632, 0.06563348693120766, 0.34953647691271056, 0.017298748493496593, 0.15251102189930282, 0.010466442679363919, 0.0022428091455779825, 0.03065172498956576, 0.8036732771654437, 0.9910782918621099, 0.9708325793913795, 0.9864087350991856, 0.00536091703858253, 0.006915678504362215, 0.0020747035513086643, 0.8222741741686673, 0.05325072448358905, 0.001383135700872443, 0.04011093532530084, 0.0739977599966757, 0.8665360200819378, 0.1324828569774197, 0.011911221690907546, 0.023195536977030484, 0.9648089569635112, 0.02256708500038747, 0.943714463652567, 0.018463978636680655, 0.014360872272973843, 0.0020515531818534063, 0.2291555268993058, 0.03674654328897554, 0.132695850765745, 0.0831900910569863, 0.014290322390157154, 0.46290437170973353, 0.04082949254330616, 0.3227022858845412, 0.029559268089626493, 0.12525943991571006, 0.4517178758889883, 0.027109604988276234, 0.037398190013947334, 0.0062058131900873306, 0.9869636860264194, 0.026864823451778454, 0.9731036050310863, 0.1749232803064649, 0.39684087472511437, 0.2271391848755589, 0.025846872761701528, 0.00678806759398222, 0.10312641152396065, 0.00026107952284547, 0.06500880118852202, 0.9962403323684156, 0.040306319043049064, 0.37351986666324216, 0.06347970683074212, 0.002416182612934821, 0.24008069053979633, 0.27445637953291446, 0.00010982648240612824, 0.005710977085118669, 0.9885294373292988, 0.2419970806157292, 0.02970278154084592, 0.21643887324337338, 0.017269059035375536, 0.4565939208953292, 0.03614989691405279, 0.0011512706023583692, 0.0009210164818866952, 0.8350064493996322, 0.0551080296590862, 0.019168010316203896, 0.08865204771244302, 0.0011980006447627435, 0.9944921612425419, 0.002205082397433574, 0.002205082397433574, 0.015045431967749873, 0.06394308586293695, 0.016926110963718606, 0.9027259180649924, 0.007896736361797342, 0.9902507397693866, 0.9931953344937735, 0.9710585082609984, 0.0026750923092589488, 0.01872564616481264, 0.0026750923092589488, 0.006796861634188803, 0.17501918708036168, 0.008496077042736003, 0.8088265344684675, 0.29785994485947487, 0.2736741204339593, 0.054130178476153964, 0.03383136154759623, 0.054274141716782034, 0.2813041721872469, 0.00014396324062806906, 0.004894750181354348, 0.04061083633949508, 0.8954689412858665, 0.016244334535798034, 0.03248866907159607, 0.014213792718823278, 0.002030541816974754, 0.9943081993858158, 0.9899332477122139, 0.026075813491437574, 0.9734970370136695, 0.0016539471049407668, 0.011577629734585367, 0.07277367261739373, 0.9129788019273032, 0.9947380584385229, 0.9835905251442862, 0.9826024301909412, 0.09273351398154195, 0.08765222554419719, 0.398881142331564, 0.021595475858715248, 0.010797737929357624, 0.06224578335747336, 0.3252024599900649, 0.0006351610546680955, 0.20110730649611466, 0.2403941899510355, 0.008307358616018506, 0.28400782268513264, 0.0022499096251716788, 0.26393170602975463, 0.9937767995447847, 0.004574217813430423, 0.9560115230069585, 0.009148435626860846, 0.02973241578729775, 0.9921768673352097, 0.9890612026343424, 0.9969388932284262, 0.9970353287795762, 0.9959719119461335, 0.9960420710862063, 0.3249686739370641, 0.1393337234525039, 0.19925295843516502, 0.04071067639970278, 0.19968300079149992, 0.053181904733414546, 0.012901270690046656, 0.0301029649434422, 0.5383291444210117, 0.0815750298601165, 0.1707461151323086, 0.003632896066644864, 0.14003163020522022, 0.01717369049686663, 0.04788817542395503, 0.7727132184659833, 0.03629555290693123, 0.0009551461291297693, 0.12607928904512955, 0.02674409161563354, 0.024833799357374002, 0.007641169033038154, 0.003820584516519077, 0.03536370361676366, 0.17188404781171174, 0.2681062181177896, 0.037008527040799176, 0.001644823424035519, 0.12089452166661065, 0.36515080013588525, 0.9844667940651973, 0.08599721250694432, 0.11662757999384142, 0.3823884360900681, 0.010805464915202765, 0.3069287844095199, 0.061617940425536435, 0.008930136293556004, 0.026701107517732456, 0.049109676430092286, 0.9478167551007811, 0.013829850465324943, 0.011854157541707093, 0.9720409184199816, 0.040031844703843904, 0.9101977322137139, 0.02528327033926983, 0.021069391949391527, 0.19893754257791257, 0.06589806097893354, 0.2698090421212939, 0.07910875716574804, 0.15681873473524513, 0.20235678159097042, 0.0001554199551389942, 0.026887652239045996, 0.9973339621236775, 0.24394779490399165, 0.007623368590749739, 0.11870673948453164, 0.02795235149941571, 0.19639249559979088, 0.02214407066836829, 0.04392512378479611, 0.3394214110643336, 0.07852739586233157, 0.5054369250630578, 0.08884243514933275, 0.20763175855124957, 0.052240682840618884, 0.04791502120413452, 0.01896636255996991, 0.9960843652676742, 0.04880690415356079, 0.020249672999881604, 0.014538226769145767, 0.07632569053801527, 0.008307558153797582, 0.8307558153797582, 0.0005192223846123489, 0.994030963636517, 0.04468702297522572, 0.04468702297522572, 0.05242131541324556, 0.8576470947937552, 0.23421547577401572, 0.0048060631143778875, 0.09259681600368064, 0.24062355992651957, 0.4267784045567564, 0.0006408084152503851, 0.00016020210381259626, 0.12834177400381833, 0.0012126781795636379, 0.0008084521197090918, 0.6172531933978916, 0.2522370613492367, 0.9968652938921666, 0.45283074795001876, 0.35931135435164535, 0.07954070529209026, 0.025397898471979315, 0.039573469712153815, 0.03917970384437119, 0.001968829338913125, 0.0021657122728044377, 0.9947891221474675, 0.9790392790711517, 0.0056920888318090215, 0.0056920888318090215, 0.008538133247713532, 0.9962305167904961, 0.011332252577147282, 0.9859059742118136, 0.9915285071612499, 0.058576124299417116, 0.06414327660886585, 0.0012102505020540725, 0.818129339388553, 0.016943507028757018, 0.03582341486080055, 0.005083052108627105, 0.000623496306953523, 0.9990489158418617, 0.9952381790973088, 0.006447783398141634, 0.8504626302148814, 0.003223891699070817, 0.006447783398141634, 0.00193433501944249, 0.13089000298227516, 0.9952626075453885, 0.007960188599245022, 0.9870633863063828, 0.0317254760420534, 0.9605992239568574, 0.006023824564946848, 0.0012047649129893695, 0.9859551554167559, 0.9905444614702966, 0.005355418732801268, 0.9389834178178224, 0.0017851395776004228, 0.05176904775041226, 0.0017851395776004228, 0.9979340685696875, 0.9987733003374271, 0.08374897727609082, 0.020099754546261794, 0.023449713637305428, 0.8592645068526917, 0.015074815909696346, 0.9878039808636702, 0.9907184615175798, 0.9960871684024335, 0.987249893491334, 0.9941379764632082, 0.9951114076215107, 0.9826023725677518, 0.8370349037908444, 0.04418864466713088, 0.028892575359277882, 0.05948471397498387, 0.018695195820709217, 0.011896942794996774, 0.944059642902856, 0.04104607143055896, 0.0114016865084886, 0.9927847586239016, 0.9975506368023451, 0.9983324001768842, 0.077762630603178, 0.06452643816008387, 0.12078025604323392, 0.0598386200031547, 0.5247598795668359, 0.11278338977553122, 0.039432823320051255, 0.00027575400923112765, 0.9788775331273888, 0.0037733179778615825, 0.9952126166609924, 0.9962994236200394, 0.025070403028454643, 0.969169001284207, 0.005497895400976895, 0.054135836004785616, 0.012992600641148547, 0.004330866880382849, 0.02815063472248852, 0.8986548776794412, 0.0048902901983233805, 0.09617570723369315, 0.021191257526067982, 0.009780580396646761, 0.8672114618360128, 0.9983899707519404, 0.9891057005394092, 0.007381385824920965, 0.993556147602866, 0.055923016026543405, 0.8947682564246945, 0.0313714480148902, 0.008183856003884401, 0.008183856003884401, 0.8053314173027892, 0.0014116238690671152, 0.1849227268477921, 0.004234871607201346, 0.0007058119345335576, 0.003529059672667788, 0.9969287054177469, 0.9947715293167757, 0.349536956038428, 0.2365886960504821, 0.07815008694518802, 0.05190565476210249, 0.09059189183198411, 0.1817669932680368, 0.007776128054247563, 0.0036936608257675924, 0.7327948356075258, 0.02255473248804773, 0.028825135295928218, 0.03013536871847041, 0.15367166284387707, 0.03200713075067354, 0.9858411407151368, 0.009232555251024054, 0.004616277625512027, 0.9832671342340616, 0.030191737386753046, 0.9682921490465799, 0.024969445880279082, 0.008323148626759693, 0.9654852407041246, 0.04505996539078893, 0.005495117730584015, 0.017584376737868848, 0.009891211915051228, 0.9209817316458809, 0.005219588285406734, 0.005219588285406734, 0.9878070830132244, 0.9879607524841311, 0.9935206935732502, 0.13947101124754568, 0.5172127381150663, 0.010957110071378423, 0.005014270710630804, 0.3261133099210256, 0.0011142823801401787, 0.998327685338963, 0.9962717630064732, 0.0021564323874598986, 0.15306657033318236, 0.0015461269730624482, 0.0007730634865312241, 0.8387738828863781, 0.006184507892249793, 0.020074920464291664, 0.42833770512396235, 0.27624836204123093, 0.03033058635365806, 0.10866641729583966, 0.005673347087734601, 0.13070518867511638, 0.7943460626703419, 0.05848780940894641, 0.020402724212423166, 0.013601816141615444, 0.023123087440746256, 0.08705162330633884, 0.0013601816141615443, 0.0013601816141615443, 0.9995012702772482, 0.9935949965443313, 0.01688887640480508, 0.00656789637964642, 0.00562962546826836, 0.22143193508522216, 0.00093827091137806, 0.670863701635313, 0.07693821473300091, 0.9962274948398622, 0.3515515555453504, 0.006329303935454449, 0.21560911449689396, 0.31880428735756433, 0.04072769488901124, 0.006604491063082903, 0.060403574514445724, 0.9949694548755714, 0.9877828234507848, 0.06603855169437148, 0.9336275978075821, 0.9882678042081741, 0.18891082081686522, 0.07401517353189253, 0.0025819246580892742, 0.018503793382973133, 0.7074473563164612, 0.0025819246580892742, 0.0051638493161785485, 0.016672485184437015, 0.006668994073774806, 0.9736731347711216, 0.9833857746526787, 0.14274561465998434, 0.005178196420555658, 0.6125806365517344, 0.040562538627685996, 0.06904261894074212, 0.003969950589092672, 0.0571327671734641, 0.06887001239339026, 0.04314451585595564, 0.005531348186660979, 0.9480730791936919, 0.002212539274664392, 0.011094979636893485, 0.9335632865900375, 0.050719906911513075, 0.0015849970909847836, 0.0015849970909847836, 0.010634817791661276, 0.928774087138418, 0.03190445337498383, 0.028359514111096735, 0.9909871652949496, 0.05077792131005236, 0.16134274996903733, 0.36445443520924675, 0.02293196446260429, 0.02293196446260429, 0.049958922579245064, 0.32759949232291846, 0.9932839616773615, 0.6229020879952277, 0.03416906681268391, 0.005808741358156265, 0.27301084383334445, 0.04441978685648909, 0.018109605410722474, 0.00034169066812683914, 0.0013667626725073565, 0.9860973818562979, 0.982774232144036, 0.9889147713924531, 0.9748279554509046, 0.024634641473488567, 0.9863748724369188, 0.9976782084611344, 0.026798177002339038, 0.0007052151842720799, 0.11777093577343736, 0.0105782277640812, 0.7877253608319134, 0.0070521518427208, 0.05007027808331768, 0.014087626493679532, 0.9837859168086206, 0.9976122097705109, 0.993453854794793, 0.9952031666878622, 0.009921155590815635, 0.9892809431984734, 0.0014173079415450908, 0.8876900743578189, 0.08524176210720777, 0.02645433996430586, 0.0028075656213033596, 0.9938782299413893, 0.002615794699498771, 0.0889370197829582, 0.33482172153584266, 0.015694768196992625, 0.5571642709932382, 0.9772301100207567, 0.11152383961275321, 0.15600444616350448, 0.2542055920267573, 0.02535609455550073, 0.1252762976767536, 0.09906067449225285, 0.22841973315675657, 0.1270158104431912, 0.2751152169518514, 0.21032172660431256, 0.00874197885641397, 0.0035996383526410466, 0.020569362015091693, 0.3548214947603317, 0.9690875406416735, 0.2560494858072347, 0.028576951540986016, 0.3680711358478999, 0.003619747195191562, 0.06725109262645376, 0.09620907018798626, 0.15241040821859209, 0.027814899499893058, 0.13439727938732873, 0.3711485760096042, 0.12333198022679395, 0.019133746465091396, 0.03388747867913778, 0.13693307711161795, 0.1482289033379972, 0.03296537041575988, 0.9926057529509511, 0.0991947346225842, 0.002507732055065331, 0.5165928033434581, 0.012260023380319396, 0.04374599251613966, 0.009473654430246807, 0.27752234742723, 0.03845189151100174, 0.9981342475751928, 0.5688981127070817, 0.26298981775223035, 0.014153965885970732, 0.015980284064805665, 0.07624878396635845, 0.05615928399917419, 0.005022374991796066, 0.363685554838296, 0.21128680728604016, 0.07102077555833283, 0.0020714392871180407, 0.0011836795926388804, 0.31012405327138665, 0.03166342910309005, 0.008581677046631883, 0.9924995748098838, 0.21142277919235467, 0.05986716451620247, 0.45628487550186747, 0.0003595625496468617, 0.02175353425363513, 0.02948412907104266, 0.1107452652912334, 0.11020592146676311, 0.011478436172266172, 0.011478436172266172, 0.9756670746426246, 0.02798032847955692, 0.7725003732399411, 0.07137011322321765, 0.0016220480278004014, 0.08657681348384642, 0.008921264152902206, 0.031021668531682676, 0.05418397758414654, 0.9439419252817107, 0.007544578814214982, 0.015089157628429963, 0.9732506670337326, 0.9963866462059895, 0.009702819156654547, 0.004851409578327273, 0.9848361444004364, 0.9698628645306994, 0.0022660347302119145, 0.027192416762542974, 0.9950903324928521, 0.2589109500681999, 0.039201305820185196, 0.039201305820185196, 0.018233165497760558, 0.19509487082603796, 0.45035918779468576, 0.05135932261627399, 0.0038962244743380265, 0.03577442471892188, 0.8752336978262967, 0.03364921136928296, 0.015516139916810176, 0.04372730340191959, 0.8745460680383917, 0.03385339618213129, 0.031032279833620353, 0.013569246400337026, 0.004523082133445675, 0.020353869600505538, 0.9611549533572059, 0.9865268987481723, 0.01029777556104564, 0.011417746228346215, 0.9876350487519476, 0.18842179163078723, 0.11841082723750786, 0.4959297574224902, 0.07969093696212506, 0.004277197181582984, 0.11188247364456541, 0.001350693846815679, 0.21224678373935904, 0.000657110785570771, 0.007556774034063867, 0.7146079793082135, 0.06472541237872095, 0.09862607225333296, 0.17537942686983804, 0.10379598733112863, 0.013521316357311776, 0.5599415715027936, 0.031019490466774075, 0.018293545659892402, 0.004487068010284652, 0.01570473803599628, 0.013461204030853956, 0.01121767002571163, 0.9400407481546346, 0.013461204030853956, 0.028084233032347354, 0.9673458044475199, 0.9992461110059658, 0.9983023283771592, 0.9972889769324407, 0.9961264248625368, 0.9978850738647308, 0.9868271962010318, 0.031014096533089525, 0.9599601307861043, 0.00886117043802558, 0.7009080222200763, 0.22628143323503194, 0.07234848545609865, 0.0005131098259297777, 0.005779648378500728, 0.9883198727236245, 0.7507356873246469, 0.20461032326951584, 0.0004978353364221797, 0.012445883410554491, 0.023896096148264625, 0.002987012018533078, 0.004480518027799617, 0.00478030735246012, 0.37214967469209653, 0.3242916551059728, 0.0005494606152253012, 0.04142933038798771, 0.19049799529861192, 0.002692357014603976, 0.06362753924308988, 0.06786216192744607, 0.930368349005309, 0.055796236173037486, 0.0886175515689419, 0.0082053288489761, 0.00984639461877132, 0.018051723467747423, 0.7286332017890778, 0.09025861733873711, 0.998260822021526, 0.799482578036887, 0.10414624681252031, 0.025977252906539804, 0.04056721686774709, 0.014589963961207287, 0.011150053758971422, 0.00011861759318054705, 0.003914380574958053, 0.9880657408448479, 0.07054810210840763, 0.9259438401728501, 0.004441573026030477, 0.9926915713178117, 0.04902835689373076, 0.0012571373562495066, 0.947881566612128, 0.020731815005001337, 0.19555144423636395, 0.042023949334462164, 0.0005603193244594956, 0.0011206386489189912, 0.7390611889620746, 0.7115999771624836, 0.027870395850209177, 0.13319877497242827, 0.007601017050057048, 0.047415868264641586, 0.06225594917189582, 0.009772736207216205, 0.9984448658308015, 0.504556163480052, 0.08054585032869255, 0.01568524453769276, 0.014498253059164658, 0.18491631533355624, 0.008817650983351605, 0.16592445167710665, 0.025011606154699263, 0.0011393106247429572, 0.05696553123714786, 0.9410705760376826, 0.02249865518591154, 0.9674421729941962, 0.1763532417321159, 0.09188296954371239, 0.2504802152852047, 0.00034477662117715716, 0.3428803497606828, 0.031029895905944144, 0.09136580461194664, 0.015687336263560652, 0.041452767847688456, 0.0004555249214031698, 0.21956301211632784, 0.0009110498428063396, 0.18129891871846157, 0.031431219576818714, 0.5051771378361153, 0.019132046698933133, 0.024834829078013976, 0.10820889812563234, 0.008869581813576421, 0.8514798541033364, 0.005321749088145852, 0.04599274526640393, 0.014634055312037614, 0.3828083040355236, 0.0006968597767636959, 0.05389048940305915, 0.232983452031329, 0.00789774413665522, 0.261322416286386, 0.3033455150659918, 0.26172103649490647, 0.03611256131737997, 0.018626478995280197, 0.24214422693864257, 0.13266614631332221, 0.004941718917115154, 0.0005701983365902101, 0.03297911414980269, 0.9646390888817286, 0.054685123192527704, 0.0010516369844716866, 0.9433183750711029, 0.025476969764004122, 0.15741127747045405, 0.15923106102502577, 0.0072791342182868925, 0.00545935066371517, 0.6451132700956759, 0.9838572809283197, 0.22974838048509139, 0.16918227642483874, 0.29045834702529716, 0.011221273436341345, 0.2496014027186184, 0.03308837038921166, 0.00028772495990618833, 0.01654418519460583, 0.9933736284714207, 0.9979484015907213, 0.002716009256300967, 0.9777633322683482, 0.017654060165956286, 0.9934925070930336, 0.1056459944639399, 0.021520480353765532, 0.25955003578177827, 0.07303920604914363, 0.0567358118417455, 0.02738970226842886, 0.4421480509046373, 0.01369485113421443, 0.9902867369852555, 0.17860284581720165, 0.47699787661897947, 0.16419620742531688, 0.07519081133298766, 0.10459614174930042, 0.00019735121084773664, 0.00019735121084773664, 0.9934721459796376, 0.9880930170805071, 0.08722977279447867, 0.004733398523731401, 0.005409598312835887, 0.8854836238323243, 0.016904994727612147, 0.012769581728868423, 0.03447787066794474, 0.052355285088360536, 0.8645006830443922, 0.020431330766189477, 0.015323498074642106, 0.06591760619492534, 0.11558363666898201, 0.6110288703276144, 0.022934466671506285, 0.02445330552392392, 0.05558950199848543, 0.014125201327484004, 0.09021902783360751, 0.9836449160523212, 0.9823615980255503, 0.9843814360091819, 0.014062591942988313, 0.9965546388878954, 0.06410782288643514, 0.31734213638797026, 0.2365763752712016, 0.002860454039552224, 0.06225694086084252, 0.2867184519645288, 0.02136927429547838, 0.008749624120983273, 0.1338241853902579, 0.8656751992432307, 0.03035451933673683, 0.028931651242827292, 0.747005749302508, 0.03320025552455591, 0.011857234115912824, 0.006640051104911181, 0.11667518370058219, 0.02513733632573519, 0.988336978950184, 0.994758642025918, 0.010814511196627243, 0.014058864555615416, 0.743497644768123, 0.06110198826094392, 0.02487337575224266, 0.14599590115446778, 0.21284312464977545, 0.1843548910428055, 0.15302874910717187, 0.11864639820220817, 0.31304311871566975, 0.00032745096099965455, 0.013971241002651926, 0.003711110891329418, 0.9919660532206841, 0.006613107021471228, 0.9917497291171259, 0.004098139376517049, 0.044015159765954937, 0.48485093089336895, 0.3664889209527958, 0.03648925161944451, 0.05792668694586816, 0.0006841734678645846, 0.009122312904861127, 0.1258647378886123, 0.017290509447324517, 0.026444308566496322, 0.014747787469776794, 0.1111169504188355, 0.7043339877807193, 0.33343779097211435, 0.029185801847679074, 0.06916635232395178, 0.5373385984011052, 0.030385218361967257, 0.00039980550476272704, 0.9091583384971573, 0.021907429843304994, 0.049291717147436236, 0.01916900111289187, 0.9985280764329247, 0.2969867154999907, 0.05183685811699534, 0.1761095005022811, 0.04572508881935833, 0.3212074308647004, 0.02422071536470961, 0.017429860589557384, 0.06632401497065342, 0.06380291068521377, 0.021008275469521602, 0.010115095596436328, 0.021008275469521602, 0.8815694854432584, 0.002334252829946845, 0.118638582888092, 0.0019773097148015335, 0.8792437198484152, 0.991485977338193, 0.13299490138427686, 0.4119082369728575, 0.1146669821122387, 0.09140462303619028, 0.07025702387614625, 0.05874333100012229, 0.11983639524024947, 0.9918695014773236, 0.004098634303625304, 0.2491894066626974, 0.038258974702883676, 0.18603173413730212, 0.3520230529540461, 0.042509971892092976, 0.040485687516279026, 0.034210405951255775, 0.05708481939795342, 0.23582301311588516, 0.005191072615758479, 0.016314799649526646, 0.006674236220260901, 0.7334244024264479, 0.0022247454067536336, 0.03486905715771186, 0.018352135346164138, 0.945134970327453, 0.04809982138924416, 0.7905637310386028, 0.06659975269279961, 0.05549979391066634, 0.014183280666059176, 0.021583253187481354, 0.0030833218839259077, 0.03964207341360294, 0.9599044919436713, 0.9731569935130064, 0.01144890580603537, 0.9959074222450829, 0.9939324657535389, 0.98704389649622, 0.9982599569056955, 0.9536048616056292, 0.0014716124407494278, 0.04341256700210812, 0.0014716124407494278, 0.1152954136756561, 0.48676043853132955, 0.012598505467869706, 0.0019088644648287433, 0.012598505467869706, 0.37070147906974193, 0.14126044519626443, 0.10637081716586178, 0.04765412609030607, 0.012764498059903413, 0.6867299956228036, 0.0017019330746537882, 0.0025528996119806827, 0.9978480278380248, 0.9909896157070225, 0.040259955756557275, 0.902829507840797, 0.010064988939139319, 0.017110481196536843, 0.02616897124176223, 0.003019496681741796, 0.012933039856157205, 0.90962380321639, 0.010059030999233382, 0.002874008856923823, 0.0007185022142309558, 0.05891718156693838, 0.004311013285385735, 0.14279876987485005, 0.08115901309433923, 0.10941056828540668, 0.010786957436589391, 0.638998811957962, 0.01130062207642698, 0.0030819878390255405, 0.0025683231991879504, 0.061092087678981256, 0.0038514577015009922, 0.17969042310796007, 0.17278436102251002, 0.5170249942049435, 0.0021249421801384782, 0.01739796409988379, 0.0459518746454946, 0.9881578099141943, 0.021736528561831444, 0.037544912970436134, 0.9405988723119788, 0.9826491917390077, 0.002108689252658815, 0.012652135515952888, 0.002108689252658815, 0.9688771082451312, 0.025057166592546497, 0.010957360192019025, 0.8593701064883492, 0.010957360192019025, 0.1174002877716324, 0.04314516137095637, 0.9531158375583998, 0.023508735910263704, 0.05224163535614157, 0.007836245303421235, 0.06530204419517696, 0.8515386563051075, 0.04574281536865388, 0.9500430884258881, 0.12438250985887445, 0.008319444190122083, 0.06832854982378958, 0.5822247089775603, 0.19707535827420347, 0.00013638433098560793, 0.019639343661927544, 0.14122613710758353, 0.0005884422379482647, 0.6496402306948843, 0.20772010999573745, 0.9839132728794959, 0.981521279054038, 0.12055531505425086, 0.12178547133031466, 0.009841250208510274, 0.0024603125521275686, 0.7171811089451863, 0.02829359434946704, 0.022419666088876786, 0.9766926329487605, 0.0005748632330481227, 0.9891517408200208, 0.006802092354178272, 0.9863033913558494, 0.9719055415787216, 0.022602454455319106, 0.9976455306251676, 0.9928101589585574, 0.010703027534474123, 0.0035676758448247078, 0.9811108573267947, 0.9985924618433185, 0.9878193459972979, 0.011124091734203806, 0.024590120078983584, 0.0007451551539085935, 0.12220544524100933, 0.015151488129474734, 0.07078973962131638, 0.035270677285006755, 0.7004458446740779, 0.030551361310252333, 0.06220558616864658, 0.0017279329491290717, 0.015551396542161646, 0.8812458040558265, 0.03974245782996865, 0.9974140955827552, 0.17459632793793922, 0.8230969745645705, 0.9973777221987455, 0.9865285581224852, 0.0066001169914266565, 0.0016500292478566641, 0.009900175487139984, 0.014850263230709976, 0.9669171392440051, 0.5487551358078906, 0.023377460942488614, 0.21918566763370903, 0.007909667236180359, 0.16416953774649898, 0.003866948426577064, 0.03234175047682635, 0.06054416275748195, 0.00774222030146828, 0.0003096888120587312, 0.06317651765998117, 0.8680577402006235, 0.03411698068356967, 0.7361172272912574, 0.0028912695494550567, 0.0358517424132427, 0.18677601289479667, 0.0046260312791280905, 0.0057049894092585495, 0.9936189887791973, 0.993493556692773, 0.11063075197500209, 0.009478766999082186, 0.0033852739282436385, 0.5366336231051816, 0.32092396839749693, 0.004739383499541093, 0.004468561585281603, 0.009749588913341678, 0.06868581677348416, 0.003615042988078114, 0.2449191624422922, 0.6823393639997439, 0.16883379969774331, 0.04164865615885976, 0.04881401635823348, 0.5705418058751326, 0.04209649117132062, 0.10479339291584068, 0.01119587531152144, 0.012091545336443155, 0.9088554337986716, 0.010446614181593927, 0.04875086618077166, 0.03133984254478178, 0.0019924235131253167, 0.04981058782813291, 0.004981058782813292, 0.0009962117565626583, 0.9414201099517121, 0.027796677619039586, 0.0055593355238079175, 0.9659345472616256, 0.019464612293313414, 0.5990349381764998, 0.05954332185789182, 0.0013027496416784569, 0.04007870956457841, 0.26346195694650204, 0.0030652932745375457, 0.01402371673100927, 0.051962328462295725, 0.2064818841528067, 0.7165331609011305, 0.0027348593927524066, 0.018460300901078745, 0.0006837148481881017, 0.003418574240940508, 0.01954176444022654, 0.1062583441437318, 0.8720512381451092, 0.0012213602775141587, 0.9947523087116071, 0.007126606026588943, 0.17697738299362542, 0.14728319121617148, 0.007126606026588943, 0.013065444382079728, 0.05463731287051523, 0.5796306234959007, 0.013065444382079728, 0.27514842163500286, 0.013887617495773016, 0.015623569682744642, 0.0008679760934858135, 0.6570579027687607, 0.03732297201988998, 0.0008679760934858135, 0.03563821366980608, 0.002969851139150507, 0.057912097213434884, 0.013364330126177281, 0.01781910683490304, 0.19304032404478294, 0.6682165063088641, 0.010394478987026775, 0.9951597368532266, 0.01796966005461989, 0.02470828257510235, 0.9568843979085092, 0.2295189419501657, 0.21191779609509165, 0.22406258673509274, 0.0015841031269566651, 0.13535281162551951, 0.03133003962203182, 0.09839040532986398, 0.06776441154203512, 0.9902442909301609, 0.9945533449868466, 0.0769439273532669, 0.9206738893649522, 0.9978479065143796, 0.8881577384610706, 0.09248584714553297, 0.01614832251747401, 0.0014680293197703647, 0.0014680293197703647, 0.9944873593202299, 0.9973767913043702, 0.1731978061526636, 0.017465324990184564, 0.06767813433696519, 0.034566789043073615, 0.6087393480953912, 0.06767813433696519, 0.030200457795527477, 0.00036386093729551174, 0.997068519962333, 0.003139456458059446, 0.18303031150486568, 0.3801881770709989, 0.003767347749671335, 0.0006278912916118891, 0.33215449326268937, 0.020720412623192342, 0.07597484628503859, 0.00026819346408740193, 0.5729953360227342, 0.049749887588213054, 0.0077776104585346555, 0.03915624575676068, 0.2950128104961421, 0.029769474513701613, 0.005363869281748038, 0.23491797892911048, 0.31196875870117385, 0.10891388418908206, 0.03533907944432982, 0.01853853347899269, 0.2830023001402478, 0.006951950054622259, 0.2001801863039686, 0.7972088121228224, 0.9954514537963373, 0.24011653558946855, 0.2320883231533465, 0.2718644665868603, 0.03284268723868111, 0.028828581020620084, 0.001459674988385827, 0.0010947562412893703, 0.19231217971983272, 0.3238707137325838, 0.13009855126879274, 0.0019652349134258724, 0.5141054533522083, 0.016901020255462505, 0.012970550428610759, 0.40843655488176683, 0.15341556289780248, 0.0041735941126043825, 0.35015015434367114, 0.05526414273241666, 0.028207739519671, 0.0002878340767313367, 0.21104255749204207, 0.19729649052895887, 0.5377137959088428, 0.03396087132055849, 0.012937474788784188, 0.006468737394392094, 0.09164872257762545, 0.0869353597022047, 0.664584165434324, 0.0026185349307892986, 0.003142241916947158, 0.023043107390945824, 0.12778450462251775, 0.007569408699367659, 0.9840231309177957, 0.049181672095598594, 0.9475668823751996, 0.0016393890698532866, 0.9939981245721352, 0.9888264364767475, 0.1782726112972293, 0.1102362040871756, 0.710506784155624, 0.985302241361908, 0.007819859058427841, 0.007819859058427841, 0.06791925051411093, 0.0006658750050403033, 0.025303250191531526, 0.07724150058467517, 0.02197387516633001, 0.8063746311038072, 0.05510291956067965, 0.07514034485547225, 0.8716280003234781, 0.987546717916725, 0.002214172612327876, 0.8336359885414453, 0.15056373763829556, 0.012177949367803318, 0.02920458038968084, 0.9695920689374039, 0.2198374173139604, 0.4567549347199829, 0.2082670269290151, 0.05675000998330306, 0.004683253251049281, 0.03057888887449825, 0.017906556548129605, 0.004958738736405122, 0.0101872209306586, 0.9881604302738843, 0.9971783115666912, 0.01797279922535008, 0.9705311581689043, 0.9829108344484463, 0.9943489500812822, 0.7440148870984271, 0.03747556516613971, 0.0009993484044303923, 0.1963719614705721, 0.008494461437658335, 0.0129915292575951, 0.9914289353369583, 0.533262719576195, 0.11351632149394249, 0.14519529493411248, 0.1017833683679536, 0.06394459453663943, 0.028452411330523054, 0.0014666191407486109, 0.012612924610438054, 0.019927729802379272, 0.9786729525168488, 0.04240039627259299, 0.18912808337380296, 0.13110648847446518, 0.001115799901910342, 0.1841069838152064, 0.3129818724858509, 0.1383591878368824, 0.0035341693046816577, 0.0017670846523408289, 0.7969551782057138, 0.19791348106217282, 0.9902346436141872, 0.9930429524539018, 0.00011559818925792384, 0.0017339728388688575, 0.0025431601636743246, 0.9954160076999822, 0.9985172584018401, 0.029254683351676258, 0.008626380988314794, 0.44144567057593537, 0.0003750600429702084, 0.0007501200859404168, 0.37055932245456596, 0.1380220958130367, 0.010876741246136044, 0.944889460985135, 0.004237172470785359, 0.04660889717863895, 0.9972504615794515, 0.9943590090648301, 0.18361171413870375, 0.6941321106243604, 0.005987338504522948, 0.023151042217488732, 0.0307350043232178, 0.009978897507538246, 0.05228942293950042, 0.006579191577538475, 0.7776604444650478, 0.0023027170521384664, 0.12533359955210796, 0.020395493890369275, 0.0006579191577538475, 0.06710775409089245, 0.009701832112893672, 0.9863529314775235, 0.0035480874621441356, 0.0035480874621441356, 0.991690445669286, 0.809796081858308, 0.15079536092217463, 0.0033324941640259587, 0.009164358951071387, 0.005831864787045428, 0.016662470820129793, 0.004165617705032448, 0.020844887692532833, 0.9762355736002876, 0.017222261739718518, 0.0027193044852187134, 0.9345343080868312, 0.045321741420311895, 0.031397387476619666, 0.043473305736858, 0.026567020172524332, 0.02294424469445283, 0.0012075918260238334, 0.8742964820412553, 0.0498297374354259, 0.017796334798366394, 0.005932111599455465, 0.009491378559128743, 0.9159180309559237, 0.9913551656256457, 0.10304417248635084, 0.06671067814145257, 0.19159465597173134, 0.0033752426440615884, 0.5890791132312195, 0.027200484837437505, 0.0061548542332887785, 0.012706795836467156, 0.34781001042905996, 0.2037327166250159, 0.12788125140921006, 0.05020773142398537, 0.012956833915867192, 0.25151104168977617, 0.002159472319311199, 0.003779076558794598, 0.9935490158994008, 0.9983298156279768, 0.005652774054923482, 0.9892354596116092, 0.45681235381593993, 0.01828448397819707, 0.2940504718460873, 0.09951555214362995, 0.07343768155177512, 0.04466210020903875, 0.0017984738339210232, 0.011090588642512977, 0.9950192294134069, 0.0018956787514508877, 0.9971270232631668], \"Term\": [\"abacha\", \"access\", \"access\", \"access\", \"access\", \"access\", \"access\", \"access\", \"access\", \"account\", \"account\", \"account\", \"account\", \"account\", \"account\", \"account\", \"acrobat\", \"actuals\", \"additiona\", \"address\", \"address\", \"address\", \"address\", \"address\", \"address\", \"address\", \"address\", \"addressee\", \"addressee\", \"addressee\", \"addressee\", \"adobe\", \"advice\", \"advice\", \"advice\", \"advice\", \"advice\", \"advice\", \"advice\", \"affordability\", \"afxnews\", \"afxpress\", \"agent\", \"agent\", \"agent\", \"agent\", \"agent\", \"agent\", \"agreement\", \"agreement\", \"agreement\", \"agreement\", \"agreement\", \"agreement\", \"aimee\", \"alias\", \"alias\", \"alium\", \"allocation\", \"allocation\", \"allocation\", \"allocation\", \"ambieen\", \"analyst\", \"analyst\", \"analyst\", \"analyst\", \"analyst\", \"analyst\", \"andmanyother\", \"angelides\", \"anjam\", \"anticipate\", \"anticipate\", \"anticipate\", \"anticipate\", \"anticipate\", \"anticipate\", \"assembly\", \"assembly\", \"assembly\", \"assembly\", \"assistance\", \"assistance\", \"assistance\", \"assistance\", \"assistance\", \"assistance\", \"attach\", \"attach\", \"attach\", \"attach\", \"attach\", \"audition\", \"autodesk\", \"available\", \"available\", \"available\", \"available\", \"available\", \"available\", \"available\", \"available\", \"average\", \"average\", \"average\", \"average\", \"average\", \"average\", \"avoid\", \"avoid\", \"avoid\", \"avoid\", \"avoid\", \"avoid\", \"avoid\", \"avoid\", \"award\", \"award\", \"award\", \"award\", \"award\", \"award\", \"award\", \"bailout\", \"bailout\", \"ballot\", \"ballot\", \"ballot\", \"bambos\", \"base\", \"base\", \"base\", \"base\", \"base\", \"base\", \"base\", \"batch\", \"batch\", \"batch\", \"baylor\", \"baylor\", \"baylor\", \"beiieves\", \"belden\", \"belief\", \"belief\", \"belief\", \"belief\", \"belief\", \"beneficiary\", \"beneficiary\", \"beneficiary\", \"beneficiary\", \"berkeley\", \"berkeley\", \"billion\", \"billion\", \"billion\", \"billion\", \"billion\", \"billion\", \"bloomberg\", \"bloomberg\", \"bloomberg\", \"bloomberg\", \"borland\", \"botanical\", \"brand\", \"brand\", \"brand\", \"brand\", \"brand\", \"brand\", \"brand\", \"breathing\", \"breitling\", \"brian\", \"brian\", \"brian\", \"brian\", \"brian\", \"brian\", \"bridgeline\", \"brinq\", \"broadcast\", \"broadcast\", \"business\", \"business\", \"business\", \"business\", \"business\", \"business\", \"business\", \"business\", \"calger\", \"california\", \"california\", \"california\", \"california\", \"california\", \"california\", \"california\", \"cantekin\", \"capacity\", \"capacity\", \"capacity\", \"capacity\", \"capacity\", \"cards\", \"cards\", \"cards\", \"cards\", \"care\", \"carefui\", \"carly\", \"cartier\", \"casino\", \"casino\", \"category\", \"category\", \"category\", \"category\", \"category\", \"category\", \"cdnow\", \"cent\", \"cent\", \"cent\", \"cent\", \"cent\", \"cent\", \"ceraweek\", \"chairman\", \"chairman\", \"chairman\", \"chairman\", \"chairman\", \"chairman\", \"chairman\", \"chanel\", \"change\", \"change\", \"change\", \"change\", \"change\", \"change\", \"change\", \"change\", \"cheap\", \"cheap\", \"cheap\", \"cheap\", \"cheap\", \"cheap\", \"cheap\", \"cheddar\", \"chevrontexaco\", \"chevrontexaco\", \"chief\", \"chief\", \"chief\", \"chief\", \"chief\", \"chief\", \"child\", \"child\", \"child\", \"child\", \"child\", \"child\", \"child\", \"chokshi\", \"christie\", \"christie\", \"christie\", \"cialis\", \"citigroup\", \"citigroup\", \"citigroup\", \"citigroup\", \"claim\", \"claim\", \"claim\", \"claim\", \"claim\", \"click\", \"click\", \"click\", \"click\", \"click\", \"click\", \"clickathome\", \"clique\", \"clynes\", \"coale\", \"coale\", \"collapse\", \"collapse\", \"collapse\", \"color\", \"color\", \"color\", \"color\", \"color\", \"color\", \"colwell\", \"commissioner\", \"commodity\", \"commodity\", \"commodity\", \"commodity\", \"commodity\", \"commodity\", \"company\", \"company\", \"company\", \"company\", \"company\", \"company\", \"company\", \"completeness\", \"complication\", \"complication\", \"complication\", \"complication\", \"computron\", \"conference\", \"conference\", \"conference\", \"conference\", \"conference\", \"confidential\", \"confidential\", \"confidential\", \"confidential\", \"confidential\", \"congratulations\", \"congratulations\", \"congratulations\", \"congratulations\", \"congratulations\", \"consignment\", \"contact\", \"contact\", \"contact\", \"contact\", \"contact\", \"contact\", \"contact\", \"contact\", \"contemporary\", \"continue\", \"continue\", \"continue\", \"continue\", \"continue\", \"continue\", \"continue\", \"contract\", \"contract\", \"contract\", \"contract\", \"contract\", \"contract\", \"contributeto\", \"convinient\", \"copyright\", \"copyright\", \"copyright\", \"copyright\", \"copyright\", \"copyright\", \"corei\", \"corel\", \"cotten\", \"couid\", \"could\", \"could\", \"could\", \"could\", \"could\", \"could\", \"could\", \"could\", \"country\", \"country\", \"country\", \"country\", \"country\", \"country\", \"country\", \"coupon\", \"coupon\", \"coupon\", \"coupon\", \"creativeness\", \"credit\", \"credit\", \"credit\", \"credit\", \"credit\", \"credit\", \"crenshaw\", \"crenshaw\", \"crore\", \"currentiy\", \"curso\", \"dagga\", \"daren\", \"daren\", \"david\", \"david\", \"david\", \"david\", \"david\", \"david\", \"david\", \"david\", \"deal\", \"deal\", \"deal\", \"deal\", \"deal\", \"deal\", \"deal\", \"deal\", \"dealings\", \"dealings\", \"dealings\", \"dealings\", \"death\", \"death\", \"death\", \"deceased\", \"deceased\", \"deciding\", \"deciding\", \"deciding\", \"deciding\", \"delainey\", \"demand\", \"demand\", \"demand\", \"demand\", \"demand\", \"demand\", \"demand\", \"deposit\", \"deposit\", \"deposit\", \"deposit\", \"deposit\", \"deposit\", \"desea\", \"deshmukh\", \"development\", \"development\", \"development\", \"development\", \"development\", \"development\", \"development\", \"development\", \"differ\", \"differ\", \"differ\", \"dinner\", \"dinner\", \"dinner\", \"dinner\", \"directory\", \"directory\", \"directory\", \"directory\", \"directory\", \"directory\", \"discreet\", \"discreet\", \"discreet\", \"discreet\", \"disqualify\", \"domain\", \"domain\", \"domain\", \"domain\", \"domain\", \"downgrade\", \"downgrade\", \"downgrade\", \"download\", \"download\", \"download\", \"download\", \"download\", \"download\", \"draft\", \"draft\", \"draft\", \"draft\", \"draw\", \"draw\", \"draw\", \"draw\", \"draw\", \"draw\", \"draw\", \"dreamweaver\", \"dreamweaver\", \"drug\", \"drug\", \"drug\", \"drug\", \"drug\", \"drug\", \"drvgs\", \"duffie\", \"duran\", \"dynegy\", \"dynegy\", \"dynegy\", \"dynergy\", \"earnings\", \"earnings\", \"earnings\", \"earnings\", \"earnings\", \"eastrans\", \"edison\", \"edison\", \"edison\", \"edition\", \"edition\", \"edition\", \"edition\", \"edition\", \"ehronline\", \"eiements\", \"electric\", \"electric\", \"electric\", \"electric\", \"electric\", \"electric\", \"electricity\", \"electricity\", \"electricity\", \"electricity\", \"electricity\", \"email\", \"email\", \"email\", \"email\", \"email\", \"email\", \"email\", \"email\", \"embattle\", \"embattle\", \"emerson\", \"empresa\", \"empresas\", \"encoding\", \"encoding\", \"encoding\", \"energy\", \"energy\", \"energy\", \"energy\", \"energy\", \"energy\", \"energy\", \"engine\", \"engine\", \"engine\", \"engine\", \"engine\", \"english\", \"english\", \"english\", \"english\", \"english\", \"english\", \"english\", \"enron\", \"enron\", \"enron\", \"enron\", \"enron\", \"enron\", \"enronxgate\", \"enronxgate\", \"eprofile\", \"erection\", \"erection\", \"estimate\", \"estimate\", \"estimate\", \"estimate\", \"estimate\", \"estimate\", \"estimate\", \"event\", \"event\", \"event\", \"event\", \"event\", \"event\", \"event\", \"exchange\", \"exchange\", \"exchange\", \"exchange\", \"exchange\", \"exchange\", \"exchange\", \"executive\", \"executive\", \"executive\", \"executive\", \"executive\", \"executive\", \"executive\", \"executive\", \"expect\", \"expect\", \"expect\", \"expect\", \"expect\", \"expect\", \"expectation\", \"expectation\", \"expectation\", \"expectation\", \"expectation\", \"extel\", \"exxonmobiie\", \"faculty\", \"faculty\", \"family\", \"family\", \"family\", \"family\", \"family\", \"family\", \"family\", \"farmer\", \"farmer\", \"fastow\", \"fastow\", \"fastow\", \"father\", \"father\", \"father\", \"father\", \"father\", \"finance\", \"finance\", \"finance\", \"finance\", \"finance\", \"finance\", \"finance\", \"financial\", \"financial\", \"financial\", \"financial\", \"financial\", \"financial\", \"financial\", \"fiorina\", \"fitch\", \"fitch\", \"following\", \"following\", \"following\", \"following\", \"following\", \"following\", \"following\", \"following\", \"foreigner\", \"forward\", \"forward\", \"forward\", \"forward\", \"forward\", \"forward\", \"forward\", \"forward\", \"framemaker\", \"future\", \"future\", \"future\", \"future\", \"future\", \"future\", \"future\", \"future\", \"generation\", \"generation\", \"generation\", \"generation\", \"generation\", \"generator\", \"generator\", \"generator\", \"generic\", \"generic\", \"generic\", \"generic\", \"gibner\", \"gibner\", \"giuseppe\", \"governor\", \"governor\", \"governor\", \"governor\", \"graphics\", \"graphics\", \"graphics\", \"graphics\", \"group\", \"group\", \"group\", \"group\", \"group\", \"group\", \"group\", \"group\", \"guide\", \"guide\", \"guide\", \"guide\", \"guide\", \"guide\", \"haedicke\", \"heating\", \"height\", \"height\", \"herein\", \"herein\", \"herein\", \"herein\", \"homesite\", \"horas\", \"hotat\", \"hours\", \"hours\", \"hours\", \"hours\", \"hours\", \"hours\", \"hours\", \"hours\", \"houston\", \"houston\", \"houston\", \"houston\", \"houston\", \"houston\", \"hplno\", \"husband\", \"husband\", \"husband\", \"husband\", \"hydro\", \"iaagra\", \"illustrator\", \"imited\", \"impotence\", \"inciude\", \"include\", \"include\", \"include\", \"include\", \"include\", \"include\", \"include\", \"include\", \"increase\", \"increase\", \"increase\", \"increase\", \"increase\", \"increase\", \"increase\", \"india\", \"india\", \"india\", \"india\", \"india\", \"india\", \"india\", \"india\", \"inform\", \"inform\", \"inform\", \"inform\", \"inform\", \"inform\", \"inform\", \"informacin\", \"information\", \"information\", \"information\", \"information\", \"information\", \"information\", \"information\", \"information\", \"infusion\", \"infusion\", \"inherent\", \"inherent\", \"inherent\", \"instructions\", \"instructions\", \"instructions\", \"instructions\", \"interest\", \"interest\", \"interest\", \"interest\", \"interest\", \"interest\", \"interest\", \"interest\", \"internationa\", \"international\", \"international\", \"international\", \"international\", \"international\", \"international\", \"international\", \"international\", \"internet\", \"internet\", \"internet\", \"internet\", \"internet\", \"internet\", \"internet\", \"internship\", \"interview\", \"interview\", \"interview\", \"interview\", \"interview\", \"interview\", \"interview\", \"intuit\", \"investing\", \"investing\", \"investing\", \"investing\", \"investment\", \"investment\", \"investment\", \"investment\", \"investment\", \"investment\", \"investment\", \"investor\", \"investor\", \"investor\", \"investor\", \"investor\", \"invoive\", \"issue\", \"issue\", \"issue\", \"issue\", \"issue\", \"issue\", \"issue\", \"issue\", \"jabber\", \"jackie\", \"jackie\", \"jackie\", \"jackie\", \"jacoby\", \"janus\", \"janus\", \"jinbaek\", \"jones\", \"jones\", \"jones\", \"jones\", \"jones\", \"jones\", \"jones\", \"kaminski\", \"kaminski\", \"kernel\", \"kevin\", \"kevin\", \"kevin\", \"kevin\", \"kevin\", \"kevin\", \"killen\", \"kirstee\", \"kirstee\", \"kitchen\", \"kitchen\", \"kitchen\", \"kitchen\", \"lacima\", \"lagos\", \"laura\", \"laura\", \"laura\", \"laura\", \"laura\", \"lauraan\", \"lavorato\", \"lawsuit\", \"lawsuit\", \"lawsuit\", \"lawsuit\", \"lawsuit\", \"legislative\", \"legislator\", \"legislature\", \"leone\", \"leppard\", \"leslie\", \"letsyou\", \"likely\", \"likely\", \"likely\", \"likely\", \"likely\", \"likely\", \"linux\", \"linux\", \"linux\", \"listinfo\", \"localize\", \"lokay\", \"looking\", \"looking\", \"looking\", \"looking\", \"looking\", \"looking\", \"looking\", \"looking\", \"loqos\", \"lottery\", \"lottery\", \"lotto\", \"louise\", \"louise\", \"louise\", \"lucky\", \"lucky\", \"lucky\", \"lucky\", \"lucky\", \"lunch\", \"lunch\", \"lunch\", \"lunch\", \"lunch\", \"macromedia\", \"maharashtra\", \"maharashtra\", \"maiiings\", \"mail\", \"mail\", \"mail\", \"mail\", \"mail\", \"mailing\", \"mailing\", \"mailing\", \"mailing\", \"mailing\", \"mailing\", \"mailwisconsin\", \"majordomo\", \"management\", \"management\", \"management\", \"management\", \"management\", \"management\", \"management\", \"management\", \"market\", \"market\", \"market\", \"market\", \"market\", \"market\", \"marketpoint\", \"masson\", \"masson\", \"masson\", \"materia\", \"materia\", \"meade\", \"meade\", \"meade\", \"meaning\", \"meaning\", \"meaning\", \"meaning\", \"meaning\", \"medication\", \"medication\", \"medication\", \"medlcations\", \"medlcatlons\", \"meeting\", \"meeting\", \"meeting\", \"meeting\", \"meeting\", \"meeting\", \"megan\", \"melissa\", \"melissa\", \"merger\", \"merger\", \"merger\", \"merger\", \"merger\", \"message\", \"message\", \"message\", \"message\", \"message\", \"message\", \"message\", \"metal\", \"metal\", \"metal\", \"metal\", \"metal\", \"metal\", \"metal\", \"metal\", \"meter\", \"microcap\", \"microsoft\", \"microsoft\", \"microsoft\", \"microsoft\", \"microsoft\", \"microsoft\", \"microsoft\", \"miiiion\", \"million\", \"million\", \"million\", \"million\", \"million\", \"million\", \"million\", \"milnthorp\", \"mitigation\", \"mmbtu\", \"mmbtu\", \"modality\", \"model\", \"model\", \"model\", \"model\", \"model\", \"model\", \"model\", \"modeling\", \"modeling\", \"modeling\", \"modular\", \"money\", \"money\", \"money\", \"money\", \"money\", \"money\", \"money\", \"money\", \"moody\", \"moody\", \"moody\", \"moody\", \"mortgage\", \"mortgage\", \"mortgage\", \"mortgage\", \"mortgage\", \"mother\", \"mother\", \"mother\", \"mother\", \"mugabe\", \"names\", \"names\", \"names\", \"names\", \"names\", \"names\", \"names\", \"nationa\", \"natural\", \"natural\", \"natural\", \"natural\", \"natural\", \"natural\", \"natural\", \"natural\", \"neariy\", \"needsand\", \"nesbitt\", \"netco\", \"netco\", \"netcoonline\", \"newsietter\", \"newsletter\", \"newsletter\", \"newsletter\", \"newsletter\", \"newsletter\", \"newsletter\", \"newsletter\", \"newswires\", \"newswires\", \"nigeria\", \"nigerian\", \"nomad\", \"nomination\", \"nomination\", \"nomination\", \"northwest\", \"northwest\", \"northwest\", \"norton\", \"norton\", \"notification\", \"notification\", \"notification\", \"notification\", \"notification\", \"nuestra\", \"number\", \"number\", \"number\", \"number\", \"number\", \"number\", \"number\", \"numbers\", \"numbers\", \"numbers\", \"numbers\", \"numbers\", \"numbers\", \"numbers\", \"oaxaca\", \"offer\", \"offer\", \"offer\", \"offer\", \"offer\", \"offer\", \"offer\", \"offer\", \"office\", \"office\", \"office\", \"office\", \"office\", \"office\", \"office\", \"office\", \"omega\", \"online\", \"online\", \"online\", \"online\", \"online\", \"online\", \"online\", \"online\", \"ooking\", \"operations\", \"operations\", \"operations\", \"operations\", \"operations\", \"operations\", \"operations\", \"option\", \"option\", \"option\", \"option\", \"option\", \"option\", \"option\", \"option\", \"optout\", \"order\", \"order\", \"order\", \"order\", \"order\", \"order\", \"order\", \"order\", \"orgasm\", \"orgasm\", \"orgasm\", \"original\", \"original\", \"original\", \"original\", \"original\", \"original\", \"original\", \"origination\", \"origination\", \"osprey\", \"osprey\", \"osprey\", \"otcbb\", \"oust\", \"oust\", \"oust\", \"oxley\", \"oxley\", \"oxley\", \"painter\", \"participant\", \"participant\", \"participant\", \"participant\", \"participant\", \"participant\", \"partnership\", \"partnership\", \"partnership\", \"partnership\", \"partnership\", \"password\", \"password\", \"password\", \"password\", \"password\", \"patent\", \"patent\", \"patent\", \"patent\", \"paypal\", \"paypal\", \"penis\", \"penis\", \"people\", \"people\", \"people\", \"people\", \"people\", \"people\", \"people\", \"percent\", \"percent\", \"percent\", \"percent\", \"percent\", \"performance\", \"performance\", \"performance\", \"performance\", \"performance\", \"performance\", \"performance\", \"pertain\", \"pertain\", \"pertain\", \"pertain\", \"pertain\", \"pertain\", \"pharmacy\", \"pharmacy\", \"photoshop\", \"piaced\", \"pians\", \"piazze\", \"piease\", \"piils\", \"pill\", \"pill\", \"pill\", \"pipeline\", \"pipeline\", \"pipeline\", \"pipeline\", \"plaintiff\", \"plaintiff\", \"plant\", \"plant\", \"plant\", \"plant\", \"plant\", \"plant\", \"plant\", \"please\", \"please\", \"please\", \"please\", \"please\", \"please\", \"please\", \"please\", \"plunge\", \"plunge\", \"popular\", \"popular\", \"popular\", \"popular\", \"popular\", \"popular\", \"popular\", \"potentia\", \"power\", \"power\", \"power\", \"power\", \"power\", \"power\", \"power\", \"power\", \"powerquest\", \"prediction\", \"prediction\", \"premiere\", \"premiere\", \"prescription\", \"prescription\", \"prescription\", \"presentation\", \"presentation\", \"presentation\", \"presentation\", \"presentation\", \"presentation\", \"president\", \"president\", \"president\", \"president\", \"president\", \"president\", \"president\", \"presto\", \"price\", \"price\", \"price\", \"price\", \"price\", \"price\", \"price\", \"price\", \"prize\", \"prize\", \"prize\", \"prlces\", \"prlces\", \"product\", \"product\", \"product\", \"product\", \"product\", \"product\", \"product\", \"product\", \"professional\", \"professional\", \"professional\", \"professional\", \"professional\", \"professional\", \"professional\", \"professional\", \"professor\", \"professor\", \"professor\", \"professor\", \"professor\", \"program\", \"program\", \"program\", \"program\", \"program\", \"program\", \"program\", \"program\", \"project\", \"project\", \"project\", \"project\", \"project\", \"project\", \"project\", \"project\", \"projecthoneypot\", \"projecthoneypot\", \"projection\", \"projection\", \"projection\", \"promotion\", \"promotion\", \"promotion\", \"promotion\", \"promotion\", \"promotion\", \"promptness\", \"provide\", \"provide\", \"provide\", \"provide\", \"provide\", \"provide\", \"provide\", \"provide\", \"pubiication\", \"pubiisher\", \"publisher\", \"publisher\", \"publisher\", \"qmail\", \"quality\", \"quality\", \"quality\", \"quality\", \"quality\", \"quality\", \"quality\", \"quality\", \"quark\", \"question\", \"question\", \"question\", \"question\", \"question\", \"question\", \"question\", \"quickbooks\", \"ragga\", \"rating\", \"rating\", \"rating\", \"rating\", \"rating\", \"reader\", \"reader\", \"reader\", \"reader\", \"reader\", \"reader\", \"receive\", \"receive\", \"receive\", \"receive\", \"receive\", \"receive\", \"receive\", \"receive\", \"recibir\", \"recollect\", \"redmond\", \"redmond\", \"regalis\", \"regard\", \"regard\", \"regard\", \"regard\", \"regard\", \"regard\", \"regard\", \"regard\", \"remit\", \"remit\", \"remove\", \"remove\", \"remove\", \"remove\", \"remove\", \"remove\", \"remove\", \"remove\", \"removido\", \"replica\", \"reply\", \"reply\", \"reply\", \"reply\", \"reply\", \"reply\", \"report\", \"report\", \"report\", \"report\", \"report\", \"report\", \"report\", \"report\", \"reportedly\", \"reportedly\", \"republican\", \"republican\", \"request\", \"request\", \"request\", \"request\", \"request\", \"request\", \"request\", \"research\", \"research\", \"research\", \"research\", \"research\", \"research\", \"reserve\", \"reserve\", \"reserve\", \"reserve\", \"reserve\", \"reserve\", \"restructure\", \"restructure\", \"restructure\", \"restructure\", \"resuits\", \"result\", \"result\", \"result\", \"result\", \"result\", \"result\", \"result\", \"result\", \"resume\", \"resume\", \"resume\", \"resume\", \"resume\", \"resume\", \"reuters\", \"reuters\", \"reuters\", \"revamp\", \"review\", \"review\", \"review\", \"review\", \"review\", \"review\", \"review\", \"richter\", \"richter\", \"right\", \"right\", \"right\", \"right\", \"right\", \"right\", \"right\", \"right\", \"risk\", \"risk\", \"risk\", \"risk\", \"risk\", \"risk\", \"rival\", \"rival\", \"rival\", \"robert\", \"robert\", \"robert\", \"robert\", \"robert\", \"robert\", \"robert\", \"rocket\", \"rocket\", \"rolete\", \"rolete\", \"rolex\", \"roxio\", \"roxxy\", \"saave\", \"sally\", \"sally\", \"sally\", \"sally\", \"schedule\", \"schedule\", \"schedule\", \"schedule\", \"schedule\", \"schedule\", \"school\", \"school\", \"school\", \"school\", \"school\", \"school\", \"school\", \"schoppe\", \"scientech\", \"scott\", \"scott\", \"scott\", \"scott\", \"scott\", \"scott\", \"search\", \"search\", \"search\", \"search\", \"search\", \"search\", \"search\", \"section\", \"section\", \"section\", \"section\", \"section\", \"section\", \"section\", \"section\", \"security\", \"security\", \"security\", \"security\", \"security\", \"security\", \"security\", \"security\", \"seekercenter\", \"seminar\", \"seminar\", \"seminar\", \"senate\", \"senate\", \"senate\", \"senate\", \"senator\", \"senator\", \"sender\", \"sender\", \"sender\", \"sender\", \"serial\", \"serial\", \"sexual\", \"sexual\", \"sexual\", \"sexual\", \"sexual\", \"shanbhogue\", \"shanbhogue\", \"share\", \"share\", \"share\", \"share\", \"share\", \"share\", \"share\", \"shareholder\", \"shareholder\", \"shareholder\", \"shareholder\", \"shareware\", \"shipman\", \"shipping\", \"shipping\", \"shipping\", \"shipping\", \"shipping\", \"shipping\", \"shirley\", \"shirley\", \"shirley\", \"shlpp\", \"shlpplng\", \"shlpplng\", \"shmuel\", \"shmuel\", \"shouid\", \"sidebacks\", \"simulation\", \"simulation\", \"simulation\", \"sitara\", \"socal\", \"socal\", \"software\", \"software\", \"software\", \"software\", \"software\", \"software\", \"software\", \"software\", \"speaker\", \"speaker\", \"speaker\", \"speaker\", \"speaker\", \"specuiative\", \"spokesman\", \"spokesman\", \"squirrelmail\", \"stakeholder\", \"stanford\", \"stanford\", \"stanford\", \"stanford\", \"stanford\", \"state\", \"state\", \"state\", \"state\", \"state\", \"state\", \"state\", \"statement\", \"statement\", \"statement\", \"statement\", \"statement\", \"steve\", \"steve\", \"steve\", \"steve\", \"steve\", \"steve\", \"stinson\", \"stinson\", \"stochastic\", \"stock\", \"stock\", \"stock\", \"stock\", \"stock\", \"stock\", \"stock\", \"stock\", \"stocks\", \"stocks\", \"stocks\", \"stocks\", \"street\", \"street\", \"street\", \"street\", \"street\", \"street\", \"street\", \"street\", \"struggle\", \"struggle\", \"struggle\", \"struggle\", \"student\", \"student\", \"student\", \"student\", \"student\", \"studio\", \"studio\", \"studio\", \"subject\", \"subject\", \"subject\", \"subject\", \"subject\", \"subject\", \"subject\", \"subject\", \"submit\", \"submit\", \"submit\", \"submit\", \"submit\", \"submit\", \"submit\", \"subscriber\", \"subscriber\", \"subscriber\", \"subscriber\", \"successfull\", \"suite\", \"suite\", \"suite\", \"suite\", \"suite\", \"suite\", \"suite\", \"suite\", \"summer\", \"summer\", \"summer\", \"summer\", \"summer\", \"summer\", \"summer\", \"super\", \"super\", \"super\", \"super\", \"super\", \"super\", \"super\", \"super\", \"symantec\", \"symbol\", \"symbol\", \"symbol\", \"system\", \"system\", \"system\", \"system\", \"system\", \"system\", \"system\", \"system\", \"systemworks\", \"tadalafil\", \"takeover\", \"takeover\", \"tammie\", \"taylor\", \"taylor\", \"taylor\", \"taylor\", \"taylor\", \"technoiogies\", \"technoiogy\", \"technology\", \"technology\", \"technology\", \"technology\", \"technology\", \"technology\", \"technology\", \"technology\", \"tenaska\", \"thank\", \"thank\", \"thank\", \"thank\", \"thank\", \"thank\", \"thank\", \"thank\", \"thanks\", \"thanks\", \"thanks\", \"thanks\", \"thanks\", \"thanks\", \"thanks\", \"thanks\", \"think\", \"think\", \"think\", \"think\", \"think\", \"think\", \"think\", \"tiscali\", \"tiscali\", \"toner\", \"total\", \"total\", \"total\", \"total\", \"total\", \"total\", \"total\", \"total\", \"trader\", \"trader\", \"trader\", \"trader\", \"trader\", \"trader\", \"trading\", \"trading\", \"trading\", \"trading\", \"trading\", \"trading\", \"trading\", \"transaction\", \"transaction\", \"transaction\", \"transaction\", \"transaction\", \"transaction\", \"transfer\", \"transfer\", \"transfer\", \"transfer\", \"transfer\", \"transfer\", \"transfer\", \"tumble\", \"tumble\", \"turbine\", \"turbine\", \"turbine\", \"ubswarburg\", \"ubswenergy\", \"uncertainty\", \"uncertainty\", \"uncertainty\", \"unify\", \"unify\", \"unify\", \"university\", \"university\", \"university\", \"university\", \"university\", \"university\", \"unnecessary\", \"unnecessary\", \"unnecessary\", \"unscrupulous\", \"unsubscribe\", \"unsubscribe\", \"unsubscribe\", \"unsubscribe\", \"unwarranted\", \"unwarranted\", \"update\", \"update\", \"update\", \"update\", \"update\", \"update\", \"update\", \"update\", \"updatel\", \"updatel\", \"upenn\", \"urgently\", \"urgently\", \"usted\", \"utexas\", \"utility\", \"utility\", \"utility\", \"utility\", \"utility\", \"utility\", \"utmost\", \"value\", \"value\", \"value\", \"value\", \"value\", \"value\", \"value\", \"value\", \"vasant\", \"vasant\", \"version\", \"version\", \"version\", \"version\", \"version\", \"version\", \"version\", \"viagra\", \"viagra\", \"viagra\", \"viagra\", \"viastar\", \"vibrator\", \"vince\", \"vince\", \"vince\", \"vince\", \"vinoble\", \"visit\", \"visit\", \"visit\", \"visit\", \"visit\", \"visit\", \"visit\", \"visit\", \"visitor\", \"visitor\", \"visitor\", \"vkamins\", \"vkaminski\", \"volume\", \"volume\", \"volume\", \"volume\", \"volume\", \"volume\", \"volume\", \"website\", \"website\", \"website\", \"website\", \"website\", \"website\", \"website\", \"wellhead\", \"wellhead\", \"wharton\", \"wharton\", \"wharton\", \"wholesale\", \"wholesale\", \"wholesale\", \"wholesale\", \"wholesale\", \"wholesale\", \"wholesale\", \"width\", \"width\", \"windows\", \"windows\", \"windows\", \"windows\", \"winner\", \"winner\", \"winner\", \"winner\", \"winner\", \"winner\", \"winning\", \"winning\", \"winning\", \"winning\", \"winning\", \"winnings\", \"within\", \"within\", \"within\", \"within\", \"within\", \"within\", \"within\", \"within\", \"would\", \"would\", \"would\", \"would\", \"would\", \"would\", \"would\", \"would\", \"wynne\", \"wysak\", \"xanax\", \"xanax\", \"years\", \"years\", \"years\", \"years\", \"years\", \"years\", \"years\", \"years\", \"zimbabwe\", \"zimin\", \"zimin\"]}, \"R\": 30, \"lambda.step\": 0.01, \"plot.opts\": {\"xlab\": \"PC1\", \"ylab\": \"PC2\"}, \"topic.order\": [1, 3, 4, 5, 6, 2, 8, 7]};\n",
       "if(typeof(window.LDAvis) !== \"undefined\"){\n",
       "   !function(LDAvis){\n",
       "       new LDAvis(\"#\" + \"ldavis_el1958418132018596325285432822\", ldavis_el1958418132018596325285432822_data);\n",
       "   }(LDAvis);\n",
       "}else{\n",
       "  require.config({paths: {d3: \"https://cdnjs.cloudflare.com/ajax/libs/d3/3.5.5/d3.min\"}});\n",
       "  require([\"d3\"], function(d3){\n",
       "    window.d3 = d3;\n",
       "    $.getScript(\"https://cdn.rawgit.com/bmabey/pyLDAvis/files/ldavis.v1.0.0.js\", function(){\n",
       "       new LDAvis(\"#\" + \"ldavis_el1958418132018596325285432822\", ldavis_el1958418132018596325285432822_data);\n",
       "    });\n",
       "  });\n",
       "}\n",
       "</script>"
      ],
      "text/plain": [
       "<IPython.core.display.HTML object>"
      ]
     },
     "execution_count": 57,
     "metadata": {},
     "output_type": "execute_result"
    }
   ],
   "source": [
    "pyLDAvis.display(lda_opt_display, template_type='notebook')"
   ]
  },
  {
   "cell_type": "markdown",
   "metadata": {},
   "source": [
    "We see that there is some overlap in topics which is a downfall of this piece of LDA since we would prefer to see distinct topics but this does a much better job of creating topics and finding commonality between the documents. Topics 7 and 8 are definitely a grouping of spam emails while the others appear to be normal emails but since we know that we have a (somewhat) 1:1 ratio the other topics must also contain spam emails."
   ]
  },
  {
   "cell_type": "markdown",
   "metadata": {},
   "source": [
    "The cells below delve deeper into the topics and try to extract meaningful data. We first look at each document and determine the dominant topic, the topic contribution i.e. 'how much' of the topic is in that document and then look at the keywords for that document. After this we take a look at each topic individually and determine what the key words are and what the most influentiatl document is from that topic."
   ]
  },
  {
   "cell_type": "code",
   "execution_count": 58,
   "metadata": {},
   "outputs": [
    {
     "name": "stderr",
     "output_type": "stream",
     "text": [
      "C:\\Users\\corri\\anaconda3\\lib\\site-packages\\ipykernel\\ipkernel.py:287: DeprecationWarning: `should_run_async` will not call `transform_cell` automatically in the future. Please pass the result to `transformed_cell` argument and any exception that happen during thetransform in `preprocessing_exc_tuple` in IPython 7.17 and above.\n",
      "  and should_run_async(code)\n"
     ]
    }
   ],
   "source": [
    "def format_topics_sentences(ldamodel, corpus, texts):\n",
    "    \n",
    "    sent_topics_df = pd.DataFrame()\n",
    "\n",
    "    # Get main topic in each document\n",
    "    for i, row in enumerate(ldamodel[corpus]):\n",
    "        row = sorted(row, key=lambda x: (x[1]), reverse=True)\n",
    "        \n",
    "        # Get the Dominant topic, Perc Contribution and Keywords for each document\n",
    "        for j, (topic_num, prop_topic) in enumerate(row):\n",
    "            if j == 0:  # => dominant topic\n",
    "                wp = ldamodel.show_topic(topic_num)\n",
    "                topic_keywords = \", \".join([word for word, prop in wp])\n",
    "                sent_topics_df = sent_topics_df.append(pd.Series([int(topic_num), round(prop_topic,4), topic_keywords]), ignore_index=True)\n",
    "            else:\n",
    "                break\n",
    "    sent_topics_df.columns = ['Dominant_Topic', 'Perc_Contribution', 'Topic_Keywords']\n",
    "\n",
    "    # Add original text to the end of the output\n",
    "    contents = pd.Series(texts)\n",
    "    sent_topics_df = pd.concat([sent_topics_df, contents], axis=1)\n",
    "    return(sent_topics_df)"
   ]
  },
  {
   "cell_type": "code",
   "execution_count": 59,
   "metadata": {},
   "outputs": [
    {
     "name": "stderr",
     "output_type": "stream",
     "text": [
      "C:\\Users\\corri\\anaconda3\\lib\\site-packages\\ipykernel\\ipkernel.py:287: DeprecationWarning: `should_run_async` will not call `transform_cell` automatically in the future. Please pass the result to `transformed_cell` argument and any exception that happen during thetransform in `preprocessing_exc_tuple` in IPython 7.17 and above.\n",
      "  and should_run_async(code)\n"
     ]
    },
    {
     "data": {
      "text/html": [
       "<div>\n",
       "<style scoped>\n",
       "    .dataframe tbody tr th:only-of-type {\n",
       "        vertical-align: middle;\n",
       "    }\n",
       "\n",
       "    .dataframe tbody tr th {\n",
       "        vertical-align: top;\n",
       "    }\n",
       "\n",
       "    .dataframe thead th {\n",
       "        text-align: right;\n",
       "    }\n",
       "</style>\n",
       "<table border=\"1\" class=\"dataframe\">\n",
       "  <thead>\n",
       "    <tr style=\"text-align: right;\">\n",
       "      <th></th>\n",
       "      <th>Document_No</th>\n",
       "      <th>Dominant_Topic</th>\n",
       "      <th>Topic_Perc_Contrib</th>\n",
       "      <th>Keywords</th>\n",
       "      <th>Text</th>\n",
       "    </tr>\n",
       "  </thead>\n",
       "  <tbody>\n",
       "    <tr>\n",
       "      <th>0</th>\n",
       "      <td>0</td>\n",
       "      <td>7.0</td>\n",
       "      <td>0.7079</td>\n",
       "      <td>software, adobe, price, professional, windows,...</td>\n",
       "      <td>NaN</td>\n",
       "    </tr>\n",
       "    <tr>\n",
       "      <th>1</th>\n",
       "      <td>1</td>\n",
       "      <td>2.0</td>\n",
       "      <td>0.9349</td>\n",
       "      <td>enron, subject, please, louise, thanks, messag...</td>\n",
       "      <td>[christmas, picture]</td>\n",
       "    </tr>\n",
       "    <tr>\n",
       "      <th>2</th>\n",
       "      <td>2</td>\n",
       "      <td>2.0</td>\n",
       "      <td>0.8750</td>\n",
       "      <td>enron, subject, please, louise, thanks, messag...</td>\n",
       "      <td>[vastar, resource, production, island, larger,...</td>\n",
       "    </tr>\n",
       "    <tr>\n",
       "      <th>3</th>\n",
       "      <td>3</td>\n",
       "      <td>2.0</td>\n",
       "      <td>0.9835</td>\n",
       "      <td>enron, subject, please, louise, thanks, messag...</td>\n",
       "      <td>[calpine, daily, nomination, calpine, daily, n...</td>\n",
       "    </tr>\n",
       "    <tr>\n",
       "      <th>4</th>\n",
       "      <td>4</td>\n",
       "      <td>2.0</td>\n",
       "      <td>0.9841</td>\n",
       "      <td>enron, subject, please, louise, thanks, messag...</td>\n",
       "      <td>[issue, already, stella, forward, stella, morr...</td>\n",
       "    </tr>\n",
       "    <tr>\n",
       "      <th>5</th>\n",
       "      <td>5</td>\n",
       "      <td>2.0</td>\n",
       "      <td>0.9444</td>\n",
       "      <td>enron, subject, please, louise, thanks, messag...</td>\n",
       "      <td>[meter, allocation, forward, lauri, allen, kim...</td>\n",
       "    </tr>\n",
       "    <tr>\n",
       "      <th>6</th>\n",
       "      <td>6</td>\n",
       "      <td>2.0</td>\n",
       "      <td>0.7545</td>\n",
       "      <td>enron, subject, please, louise, thanks, messag...</td>\n",
       "      <td>[mcmullen, jackie, since, inlet, river, plant,...</td>\n",
       "    </tr>\n",
       "    <tr>\n",
       "      <th>7</th>\n",
       "      <td>7</td>\n",
       "      <td>2.0</td>\n",
       "      <td>0.9216</td>\n",
       "      <td>enron, subject, please, louise, thanks, messag...</td>\n",
       "      <td>[meter, george, following, 27049, receipt, pac...</td>\n",
       "    </tr>\n",
       "    <tr>\n",
       "      <th>8</th>\n",
       "      <td>8</td>\n",
       "      <td>2.0</td>\n",
       "      <td>0.9900</td>\n",
       "      <td>enron, subject, please, louise, thanks, messag...</td>\n",
       "      <td>[number, change, forward, payne, antoine, pier...</td>\n",
       "    </tr>\n",
       "    <tr>\n",
       "      <th>9</th>\n",
       "      <td>9</td>\n",
       "      <td>2.0</td>\n",
       "      <td>0.7995</td>\n",
       "      <td>enron, subject, please, louise, thanks, messag...</td>\n",
       "      <td>[ranch, fields, difficulty, unify, system, ran...</td>\n",
       "    </tr>\n",
       "  </tbody>\n",
       "</table>\n",
       "</div>"
      ],
      "text/plain": [
       "   Document_No  Dominant_Topic  Topic_Perc_Contrib  \\\n",
       "0            0             7.0              0.7079   \n",
       "1            1             2.0              0.9349   \n",
       "2            2             2.0              0.8750   \n",
       "3            3             2.0              0.9835   \n",
       "4            4             2.0              0.9841   \n",
       "5            5             2.0              0.9444   \n",
       "6            6             2.0              0.7545   \n",
       "7            7             2.0              0.9216   \n",
       "8            8             2.0              0.9900   \n",
       "9            9             2.0              0.7995   \n",
       "\n",
       "                                            Keywords  \\\n",
       "0  software, adobe, price, professional, windows,...   \n",
       "1  enron, subject, please, louise, thanks, messag...   \n",
       "2  enron, subject, please, louise, thanks, messag...   \n",
       "3  enron, subject, please, louise, thanks, messag...   \n",
       "4  enron, subject, please, louise, thanks, messag...   \n",
       "5  enron, subject, please, louise, thanks, messag...   \n",
       "6  enron, subject, please, louise, thanks, messag...   \n",
       "7  enron, subject, please, louise, thanks, messag...   \n",
       "8  enron, subject, please, louise, thanks, messag...   \n",
       "9  enron, subject, please, louise, thanks, messag...   \n",
       "\n",
       "                                                Text  \n",
       "0                                                NaN  \n",
       "1                               [christmas, picture]  \n",
       "2  [vastar, resource, production, island, larger,...  \n",
       "3  [calpine, daily, nomination, calpine, daily, n...  \n",
       "4  [issue, already, stella, forward, stella, morr...  \n",
       "5  [meter, allocation, forward, lauri, allen, kim...  \n",
       "6  [mcmullen, jackie, since, inlet, river, plant,...  \n",
       "7  [meter, george, following, 27049, receipt, pac...  \n",
       "8  [number, change, forward, payne, antoine, pier...  \n",
       "9  [ranch, fields, difficulty, unify, system, ran...  "
      ]
     },
     "execution_count": 59,
     "metadata": {},
     "output_type": "execute_result"
    }
   ],
   "source": [
    "df_topic_sents_keywords = format_topics_sentences(ldamodel=optimal_model, corpus=bow_corpus, texts=processed_text)\n",
    "\n",
    "df_dominant_topic = df_topic_sents_keywords.reset_index()\n",
    "df_dominant_topic.columns = ['Document_No', 'Dominant_Topic', 'Topic_Perc_Contrib', 'Keywords', 'Text']\n",
    "\n",
    "df_dominant_topic.head(10)"
   ]
  },
  {
   "cell_type": "code",
   "execution_count": 60,
   "metadata": {},
   "outputs": [
    {
     "name": "stderr",
     "output_type": "stream",
     "text": [
      "C:\\Users\\corri\\anaconda3\\lib\\site-packages\\ipykernel\\ipkernel.py:287: DeprecationWarning: `should_run_async` will not call `transform_cell` automatically in the future. Please pass the result to `transformed_cell` argument and any exception that happen during thetransform in `preprocessing_exc_tuple` in IPython 7.17 and above.\n",
      "  and should_run_async(code)\n"
     ]
    },
    {
     "data": {
      "text/html": [
       "<div>\n",
       "<style scoped>\n",
       "    .dataframe tbody tr th:only-of-type {\n",
       "        vertical-align: middle;\n",
       "    }\n",
       "\n",
       "    .dataframe tbody tr th {\n",
       "        vertical-align: top;\n",
       "    }\n",
       "\n",
       "    .dataframe thead th {\n",
       "        text-align: right;\n",
       "    }\n",
       "</style>\n",
       "<table border=\"1\" class=\"dataframe\">\n",
       "  <thead>\n",
       "    <tr style=\"text-align: right;\">\n",
       "      <th></th>\n",
       "      <th>Topic_Num</th>\n",
       "      <th>Topic_Perc_Contrib</th>\n",
       "      <th>Keywords</th>\n",
       "      <th>Text</th>\n",
       "    </tr>\n",
       "  </thead>\n",
       "  <tbody>\n",
       "    <tr>\n",
       "      <th>0</th>\n",
       "      <td>0.0</td>\n",
       "      <td>0.9994</td>\n",
       "      <td>market, power, price, business, would, energy,...</td>\n",
       "      <td>[louise, kitchen, fortune, original, message, ...</td>\n",
       "    </tr>\n",
       "    <tr>\n",
       "      <th>1</th>\n",
       "      <td>1.0</td>\n",
       "      <td>0.9996</td>\n",
       "      <td>vince, enron, kaminski, would, please, subject...</td>\n",
       "      <td>[pnrecet, meedication, paliourg, succession, l...</td>\n",
       "    </tr>\n",
       "    <tr>\n",
       "      <th>2</th>\n",
       "      <td>2.0</td>\n",
       "      <td>0.9988</td>\n",
       "      <td>enron, subject, please, louise, thanks, messag...</td>\n",
       "      <td>[production, sitara, deal, need, vance, ticket...</td>\n",
       "    </tr>\n",
       "    <tr>\n",
       "      <th>3</th>\n",
       "      <td>3.0</td>\n",
       "      <td>0.9992</td>\n",
       "      <td>please, email, information, receive, account, ...</td>\n",
       "      <td>[encomium, title, ashore, need, sofft, bottom,...</td>\n",
       "    </tr>\n",
       "    <tr>\n",
       "      <th>4</th>\n",
       "      <td>4.0</td>\n",
       "      <td>0.9978</td>\n",
       "      <td>enron, company, dynegy, share, stock, billion,...</td>\n",
       "      <td>[house, take, hello, would, reflnance, thousan...</td>\n",
       "    </tr>\n",
       "    <tr>\n",
       "      <th>5</th>\n",
       "      <td>5.0</td>\n",
       "      <td>0.9990</td>\n",
       "      <td>company, statement, security, information, wit...</td>\n",
       "      <td>[completely, refresh, check, bestbargains, tab...</td>\n",
       "    </tr>\n",
       "    <tr>\n",
       "      <th>6</th>\n",
       "      <td>6.0</td>\n",
       "      <td>0.9990</td>\n",
       "      <td>claim, message, email, please, program, number...</td>\n",
       "      <td>[employment, application, madam, please, atten...</td>\n",
       "    </tr>\n",
       "    <tr>\n",
       "      <th>7</th>\n",
       "      <td>7.0</td>\n",
       "      <td>0.9988</td>\n",
       "      <td>software, adobe, price, professional, windows,...</td>\n",
       "      <td>[woman, change]</td>\n",
       "    </tr>\n",
       "  </tbody>\n",
       "</table>\n",
       "</div>"
      ],
      "text/plain": [
       "   Topic_Num  Topic_Perc_Contrib  \\\n",
       "0        0.0              0.9994   \n",
       "1        1.0              0.9996   \n",
       "2        2.0              0.9988   \n",
       "3        3.0              0.9992   \n",
       "4        4.0              0.9978   \n",
       "5        5.0              0.9990   \n",
       "6        6.0              0.9990   \n",
       "7        7.0              0.9988   \n",
       "\n",
       "                                            Keywords  \\\n",
       "0  market, power, price, business, would, energy,...   \n",
       "1  vince, enron, kaminski, would, please, subject...   \n",
       "2  enron, subject, please, louise, thanks, messag...   \n",
       "3  please, email, information, receive, account, ...   \n",
       "4  enron, company, dynegy, share, stock, billion,...   \n",
       "5  company, statement, security, information, wit...   \n",
       "6  claim, message, email, please, program, number...   \n",
       "7  software, adobe, price, professional, windows,...   \n",
       "\n",
       "                                                Text  \n",
       "0  [louise, kitchen, fortune, original, message, ...  \n",
       "1  [pnrecet, meedication, paliourg, succession, l...  \n",
       "2  [production, sitara, deal, need, vance, ticket...  \n",
       "3  [encomium, title, ashore, need, sofft, bottom,...  \n",
       "4  [house, take, hello, would, reflnance, thousan...  \n",
       "5  [completely, refresh, check, bestbargains, tab...  \n",
       "6  [employment, application, madam, please, atten...  \n",
       "7                                    [woman, change]  "
      ]
     },
     "execution_count": 60,
     "metadata": {},
     "output_type": "execute_result"
    }
   ],
   "source": [
    "# Group top 5 sentences under each topic\n",
    "sent_topics_sorteddf = pd.DataFrame()\n",
    "\n",
    "sent_topics_outdf_grpd = df_topic_sents_keywords.groupby('Dominant_Topic')\n",
    "\n",
    "for i, grp in sent_topics_outdf_grpd:\n",
    "    sent_topics_sorteddf = pd.concat([sent_topics_sorteddf, \n",
    "                                             grp.sort_values(['Perc_Contribution'], ascending=[0]).head(1)], \n",
    "                                            axis=0)\n",
    "\n",
    "# Reset Index    \n",
    "sent_topics_sorteddf.reset_index(drop=True, inplace=True)\n",
    "\n",
    "# Format\n",
    "sent_topics_sorteddf.columns = ['Topic_Num', \"Topic_Perc_Contrib\", \"Keywords\", \"Text\"]\n",
    "\n",
    "# Show\n",
    "sent_topics_sorteddf"
   ]
  },
  {
   "cell_type": "markdown",
   "metadata": {},
   "source": [
    "### Other Visualisation"
   ]
  },
  {
   "cell_type": "markdown",
   "metadata": {},
   "source": [
    "Finally, we look into a tsne visualisation. This is a visualisation using the TSNE function from scikit.learn and creates an interactive plot of the emails."
   ]
  },
  {
   "cell_type": "code",
   "execution_count": 61,
   "metadata": {},
   "outputs": [
    {
     "name": "stderr",
     "output_type": "stream",
     "text": [
      "C:\\Users\\corri\\anaconda3\\lib\\site-packages\\ipykernel\\ipkernel.py:287: DeprecationWarning: `should_run_async` will not call `transform_cell` automatically in the future. Please pass the result to `transformed_cell` argument and any exception that happen during thetransform in `preprocessing_exc_tuple` in IPython 7.17 and above.\n",
      "  and should_run_async(code)\n"
     ]
    }
   ],
   "source": [
    "hm = np.zeros((len(bow_corpus),8))\n",
    "for i in range(len(bow_corpus)):\n",
    "    doc = optimal_model[bow_corpus[i]]\n",
    "    for j in range(len(doc)):\n",
    "        top = doc[j][0]\n",
    "        val = doc[j][1]\n",
    "        hm[i,top] = val\n"
   ]
  },
  {
   "cell_type": "code",
   "execution_count": 62,
   "metadata": {},
   "outputs": [
    {
     "name": "stderr",
     "output_type": "stream",
     "text": [
      "C:\\Users\\corri\\anaconda3\\lib\\site-packages\\ipykernel\\ipkernel.py:287: DeprecationWarning: `should_run_async` will not call `transform_cell` automatically in the future. Please pass the result to `transformed_cell` argument and any exception that happen during thetransform in `preprocessing_exc_tuple` in IPython 7.17 and above.\n",
      "  and should_run_async(code)\n"
     ]
    }
   ],
   "source": [
    "tsne = TSNE(random_state=2017, perplexity=30, early_exaggeration=120, n_jobs=8)\n",
    "embedding = tsne.fit_transform(hm)\n",
    "embedding = pd.DataFrame(embedding, columns=['x','y'])\n",
    "embedding['hue'] = hm.argmax(axis=1)"
   ]
  },
  {
   "cell_type": "markdown",
   "metadata": {},
   "source": [
    "**The below code is turned into markdown (instead of commenting multiple lines of code). It's the actual visualisation of the TSNE model, which has been 'commented' out since it takes the file from 300Kb to 44Mb. Please run it when it's downloaded, I just couldnt upload the code to github with this.**"
   ]
  },
  {
   "cell_type": "markdown",
   "metadata": {},
   "source": [
    "source = ColumnDataSource(\n",
    "        data=dict(\n",
    "            x = embedding.x,\n",
    "            y = embedding.y,\n",
    "            colors = [all_palettes['Set1'][8][i] for i in embedding.hue],\n",
    "            title = df['E-mails'],\n",
    "            alpha = [0.9] * embedding.shape[0],\n",
    "            size = [7] * embedding.shape[0]\n",
    "        )\n",
    "    )\n",
    "hover_tsne = HoverTool(names=[\"df\"], tooltips=\"\"\"\n",
    "    <div style=\"margin: 10\">\n",
    "        <div style=\"margin: 0 auto; width:300px;\">\n",
    "            <span style=\"font-size: 12px; font-weight: bold;\">Title:</span>\n",
    "            <span style=\"font-size: 12px\">@title</span>\n",
    "        </div>\n",
    "    </div>\n",
    "    \"\"\")\n",
    "tools_tsne = [hover_tsne, 'pan', 'wheel_zoom', 'reset']\n",
    "plot_tsne = figure(plot_width=700, plot_height=700, tools=tools_tsne, title='E-mails')\n",
    "plot_tsne.circle('x', 'y', size='size', fill_color='colors', \n",
    "                 alpha='alpha', line_alpha=0, line_width=0.01, source=source, name=\"df\")\n",
    "\n",
    "layout = column(plot_tsne)\n",
    "show(layout)"
   ]
  },
  {
   "cell_type": "markdown",
   "metadata": {},
   "source": [
    "### References"
   ]
  },
  {
   "cell_type": "markdown",
   "metadata": {},
   "source": [
    "1. [Loading .txt files](https://stackoverflow.com/questions/42407976/loading-multiple-text-files-from-a-folder-into-a-python-list-variable)\n",
    "2. [Using Glob to retrieve the data](https://stackoverflow.com/questions/2186525/how-to-use-glob-to-find-files-recursively)\n",
    "3. [WordNet guidance](https://www.nltk.org/howto/wordnet.html)\n",
    "4. [Lemmatisation](https://www.geeksforgeeks.org/python-lemmatization-with-nltk/)\n",
    "5. [Stop Words](https://www.geeksforgeeks.org/removing-stop-words-nltk-python/)\n",
    "6. [Adding Stop Words](https://stackoverflow.com/questions/5511708/adding-words-to-nltk-stoplist)\n",
    "7. [Classificaiton Report](https://scikit-learn.org/stable/modules/generated/sklearn.metrics.classification_report.html)\n",
    "8. [Filtering Extereme values from a Dictionary](https://stackoverflow.com/questions/51634656/filtering-tokens-by-frequency-using-filter-extremes-in-gensim)\n",
    "9. [General LDA - used for index, score function in Classification](https://towardsdatascience.com/topic-modeling-and-latent-dirichlet-allocation-in-python-9bf156893c24)\n",
    "10. [Topic Modelling in a similar setup](https://www.machinelearningplus.com/nlp/topic-modeling-gensim-python/)\n",
    "11. [gensim.models.phrases documentation](https://radimrehurek.com/gensim/models/phrases.html)\n",
    "11. [Using regex on data frame columns](https://stackoverflow.com/questions/53962844/applying-regex-across-entire-column-of-a-dataframe)\n",
    "12. [Coherence Types](https://radimrehurek.com/gensim/models/coherencemodel.html)\n",
    "13. [Using Pickle](https://docs.python.org/3/library/pickle.html#data-stream-format)\n",
    "14. [c_v or u_mass](http://svn.aksw.org/papers/2015/WSDM_Topic_Evaluation/public.pdf)\n",
    "16. [TSNE visualisation of LDA](https://www.kaggle.com/yohanb/lda-visualized-using-t-sne-and-bokeh/comments)"
   ]
  }
 ],
 "metadata": {
  "kernelspec": {
   "display_name": "Python 3",
   "language": "python",
   "name": "python3"
  },
  "language_info": {
   "codemirror_mode": {
    "name": "ipython",
    "version": 3
   },
   "file_extension": ".py",
   "mimetype": "text/x-python",
   "name": "python",
   "nbconvert_exporter": "python",
   "pygments_lexer": "ipython3",
   "version": "3.8.5"
  }
 },
 "nbformat": 4,
 "nbformat_minor": 4
}
