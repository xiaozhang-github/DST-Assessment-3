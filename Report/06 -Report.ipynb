{
 "cells": [
  {
   "cell_type": "markdown",
   "metadata": {},
   "source": [
    "# Final Report"
   ]
  },
  {
   "cell_type": "markdown",
   "metadata": {},
   "source": [
    "Our Natural Language Processing work focusses on the Enron email data set which contains both spam and real emails for us to analyse. The research we wanted to perform was: *Analyse the Enron spam vs normal data set to create and visualise a topic model and understand the features of spam emails.* We did this by performing pre-processing on the data set, then creating a model and then analysing the resulting model."
   ]
  },
  {
   "cell_type": "markdown",
   "metadata": {},
   "source": [
    "Below is a summary of the results we have found through our research into NLP on the Enron email set. We summarise with the classification report for each model and a data frame containing the perplexity and coherence scores for each optimal model created. More results and visualisations of models can be found within our own folders and should definitely be looked at to understand the analysis that took place since the complexity of that cannot be shown through the results below."
   ]
  },
  {
   "cell_type": "code",
   "execution_count": 1,
   "metadata": {},
   "outputs": [],
   "source": [
    "import numpy as np\n",
    "import pandas as pd\n",
    "import math\n",
    "import matplotlib.pyplot as plt\n",
    "\n",
    "import pickle"
   ]
  },
  {
   "cell_type": "markdown",
   "metadata": {},
   "source": [
    "### Classifcation Reports"
   ]
  },
  {
   "cell_type": "code",
   "execution_count": 2,
   "metadata": {},
   "outputs": [],
   "source": [
    "from sklearn.metrics import confusion_matrix, classification_report\n",
    "\n",
    "def classification_eval(y_true,y_pred):\n",
    "    \n",
    "    print(\"Confusion Matrix\")\n",
    "    C = confusion_matrix(y_true,y_pred)\n",
    "    \n",
    "    print('Classification report')\n",
    "    print(classification_report(y_true, y_pred, target_names = ['Normal', 'Spam'], digits=3))"
   ]
  },
  {
   "cell_type": "markdown",
   "metadata": {},
   "source": [
    "We import the predictions here. Note that we each have a different 'actual' list. These don't actually differ materially but are just reconfigured for our own data processing and therefore it was determined safest that we import the actual list for each person incase any processing inadvertently changed the ordering."
   ]
  },
  {
   "cell_type": "code",
   "execution_count": 3,
   "metadata": {},
   "outputs": [],
   "source": [
    "# Matt's predictions\n",
    "Matt_actual = pickle.load(open('../Data/Actual.p','rb'))\n",
    "Matt_pred = pickle.load(open('../Data/Matt_pred.p','rb'))\n",
    "\n",
    "# Alex predictions\n",
    "Alex_actual = pickle.load(open('../Data/Alex_y_actual.p','rb')) \n",
    "Alex_pred = pickle.load(open('../Data/Alex_y_pred.p','rb'))\n",
    "\n",
    "# Xiao predictions\n",
    "Xiao_actual = pickle.load(open('../Data/Xiao_actual.p','rb'))\n",
    "Xiao_pred = pickle.load(open('../Data/Xiao_pred.p','rb'))"
   ]
  },
  {
   "cell_type": "code",
   "execution_count": 4,
   "metadata": {},
   "outputs": [
    {
     "name": "stdout",
     "output_type": "stream",
     "text": [
      "Below is the report for the LDA model prepared by Matt.\n",
      "-------------------------------------------------------\n",
      "Confusion Matrix\n",
      "Classification report\n",
      "              precision    recall  f1-score   support\n",
      "\n",
      "      Normal      0.844     0.859     0.851     15046\n",
      "        Spam      0.829     0.811     0.820     12670\n",
      "\n",
      "    accuracy                          0.837     27716\n",
      "   macro avg      0.836     0.835     0.835     27716\n",
      "weighted avg      0.837     0.837     0.837     27716\n",
      "\n"
     ]
    }
   ],
   "source": [
    "print('Below is the report for the LDA model prepared by Matt.')\n",
    "print('-------------------------------------------------------')\n",
    "classification_eval(Matt_actual,Matt_pred)"
   ]
  },
  {
   "cell_type": "code",
   "execution_count": 5,
   "metadata": {
    "scrolled": true
   },
   "outputs": [
    {
     "name": "stdout",
     "output_type": "stream",
     "text": [
      "Below is the report for the tf-idf LDA model prepared by Alex.\n",
      "--------------------------------------------------------------\n",
      "Confusion Matrix\n",
      "Classification report\n",
      "              precision    recall  f1-score   support\n",
      "\n",
      "      Normal      0.654     0.798     0.719     15046\n",
      "        Spam      0.676     0.499     0.574     12670\n",
      "\n",
      "    accuracy                          0.661     27716\n",
      "   macro avg      0.665     0.648     0.646     27716\n",
      "weighted avg      0.664     0.661     0.653     27716\n",
      "\n"
     ]
    }
   ],
   "source": [
    "print('Below is the report for the tf-idf LDA model prepared by Alex.')\n",
    "print('--------------------------------------------------------------')\n",
    "classification_eval(Alex_actual,Alex_pred)"
   ]
  },
  {
   "cell_type": "code",
   "execution_count": 6,
   "metadata": {},
   "outputs": [
    {
     "name": "stdout",
     "output_type": "stream",
     "text": [
      "Below is the report for the NMF model prepared by Xiao.\n",
      "-------------------------------------------------------\n",
      "Confusion Matrix\n",
      "Classification report\n",
      "              precision    recall  f1-score   support\n",
      "\n",
      "      Normal      1.000     1.000     1.000     15046\n",
      "        Spam      0.999     1.000     1.000     12670\n",
      "\n",
      "    accuracy                          1.000     27716\n",
      "   macro avg      1.000     1.000     1.000     27716\n",
      "weighted avg      1.000     1.000     1.000     27716\n",
      "\n"
     ]
    }
   ],
   "source": [
    "print('Below is the report for the NMF model prepared by Xiao.')\n",
    "print('-------------------------------------------------------')\n",
    "classification_eval(Xiao_actual,Xiao_pred)"
   ]
  },
  {
   "cell_type": "code",
   "execution_count": 7,
   "metadata": {},
   "outputs": [],
   "source": [
    "from sklearn.metrics import accuracy_score\n",
    "from sklearn.metrics import precision_score\n",
    "from sklearn.metrics import recall_score\n",
    "from sklearn.metrics import f1_score\n",
    "\n",
    "def cal_APRF(pre,test):\n",
    "    result = []\n",
    "    ACC = round(100*(accuracy_score(pre, test)),3)\n",
    "    result.append(ACC)\n",
    "    # Precision\n",
    "    P = round(100*(precision_score(pre, test, average=\"weighted\")),3)\n",
    "    result.append(P)\n",
    "    # Recall \n",
    "    R = round(100*(recall_score(pre, test, average=\"weighted\")),3)\n",
    "    result.append(R)\n",
    "    # F1-Score\n",
    "    F = round(100*(f1_score(pre, test, average=\"weighted\")),3)\n",
    "    result.append(F)\n",
    "    return result\n",
    "\n",
    "score1 = cal_APRF(Matt_actual,Matt_pred)\n",
    "score2 = cal_APRF(Alex_actual,Alex_pred)\n",
    "score3 = cal_APRF(Xiao_actual,Xiao_pred)"
   ]
  },
  {
   "cell_type": "code",
   "execution_count": 8,
   "metadata": {
    "scrolled": true
   },
   "outputs": [
    {
     "data": {
      "image/png": "[encoded data removed]",
      "text/plain": [
       "<Figure size 936x504 with 1 Axes>"
      ]
     },
     "metadata": {
      "needs_background": "light"
     },
     "output_type": "display_data"
    }
   ],
   "source": [
    "def draw_APRF(score1,score2,score3):\n",
    "    plt.figure(figsize=(13,7))\n",
    "    metric = ('Accuracy', 'Precison', 'Recall', 'F1_score', )\n",
    "    bar_width = 0.2  \n",
    "    index_nb = np.arange(len(metric))\n",
    "    index_log = index_nb + bar_width  \n",
    "    index_tree = index_log + bar_width  \n",
    "    index_forest = index_tree + bar_width\n",
    "\n",
    "    p1 = plt.bar(index_nb, height=score1, width=bar_width, color='deepskyblue',label='td-idf LDA')\n",
    "    p2 = plt.bar(index_log, height=score2, width=bar_width, color='sandybrown',label='LDA')\n",
    "    p3 = plt.bar(index_tree, height=score3, width=bar_width, color='limegreen',label='NMF')\n",
    "    \n",
    "\n",
    "    #Mark the value on the graph\n",
    "    for p in p1:\n",
    "        height = p.get_height()\n",
    "        plt.text(p.get_x() + p.get_width() / 2, height+1, str(height), ha=\"center\", va=\"bottom\")\n",
    "    for p in p2:\n",
    "        height = p.get_height()\n",
    "        plt.text(p.get_x() + p.get_width() / 2, height+1, str(height), ha=\"center\", va=\"bottom\")\n",
    "    for p in p3:\n",
    "        height = p.get_height()\n",
    "        plt.text(p.get_x() + p.get_width() / 2, height+1, str(height), ha=\"center\", va=\"bottom\")\n",
    "\n",
    "    plt.legend(bbox_to_anchor=(1, 1))  \n",
    "    plt.xticks(index_log + bar_width/2, metric, fontsize=16)  \n",
    "    plt.ylabel('Metric_Value', fontsize=16)  \n",
    "    plt.title('Evaluation', fontsize=24, fontweight= 'black')  \n",
    "    plt.show()\n",
    "    \n",
    "draw_APRF(score2,score1,score3)"
   ]
  },
  {
   "cell_type": "markdown",
   "metadata": {},
   "source": [
    "The above visualisation of the model scores is the result of Xiao (thank you) and is in my opinion very informative."
   ]
  },
  {
   "cell_type": "markdown",
   "metadata": {},
   "source": [
    "The first performance metric we consider is a classification of the documents into whether they are spam or not. One of the striking results we obtain from this is that the NMF model developed by Xiao is incredibly accurate with it's predictions. It ascertain's almost perfectly a division between the spam and normal emails which when first beginning this project, we did not think this was something we would even come close to. We see that the the LDA model without tf-idf applied to it performs well too, reporting an accuracy of 83.681 while when applying tf-idf to the model we lose 17% accuracy (a 21% drop) which was unexpected. One attribute which may impact this is the number of topics used in these models. There is more discussion on this below but the models used to classify in both LDA perspectives only used a 2 topic version whereas we maximise coherence with more topics than this and therefore classification using these may increase our accuracy in both cases."
   ]
  },
  {
   "cell_type": "markdown",
   "metadata": {},
   "source": [
    "### Perplexity and Coherence"
   ]
  },
  {
   "cell_type": "markdown",
   "metadata": {},
   "source": [
    "We import our scores for our optimal models here and compare them."
   ]
  },
  {
   "cell_type": "code",
   "execution_count": 9,
   "metadata": {
    "scrolled": true
   },
   "outputs": [],
   "source": [
    "Matt_values = pickle.load(open('../Data/Matt_opt_values.p','rb'))\n",
    "Matt_values = ['LDA'] + Matt_values\n",
    "Matt_values.pop(2)\n",
    "\n",
    "Alex_values = pickle.load(open('../Data/Alex_optimal_values.p','rb'))\n",
    "Alex_values.reverse()\n",
    "Alex_values = ['td-idf LDA'] + Alex_values\n",
    "\n",
    "Xiao_values = pickle.load(open('../Data/Xiao_opt_value.p','rb'))\n",
    "Xiao_values = ['NMF','N/A',Xiao_values]"
   ]
  },
  {
   "cell_type": "code",
   "execution_count": 10,
   "metadata": {},
   "outputs": [],
   "source": [
    "co_df = pd.DataFrame(columns=['Model','Perplexity','c_v coherence'])\n",
    "co_df.loc[0] = Matt_values\n",
    "co_df.loc[1] = Alex_values\n",
    "co_df.loc[2] = Xiao_values # Xiao ended up using an NMF implementation for topic modelling and thus is unable to produce \n",
    "                            # perplexity/coherence scores for comparison to mine and Alex's models."
   ]
  },
  {
   "cell_type": "code",
   "execution_count": 11,
   "metadata": {},
   "outputs": [
    {
     "data": {
      "text/html": [
       "<div>\n",
       "<style scoped>\n",
       "    .dataframe tbody tr th:only-of-type {\n",
       "        vertical-align: middle;\n",
       "    }\n",
       "\n",
       "    .dataframe tbody tr th {\n",
       "        vertical-align: top;\n",
       "    }\n",
       "\n",
       "    .dataframe thead th {\n",
       "        text-align: right;\n",
       "    }\n",
       "</style>\n",
       "<table border=\"1\" class=\"dataframe\">\n",
       "  <thead>\n",
       "    <tr style=\"text-align: right;\">\n",
       "      <th></th>\n",
       "      <th>Model</th>\n",
       "      <th>Perplexity</th>\n",
       "      <th>c_v coherence</th>\n",
       "    </tr>\n",
       "  </thead>\n",
       "  <tbody>\n",
       "    <tr>\n",
       "      <th>0</th>\n",
       "      <td>LDA</td>\n",
       "      <td>-8.14924</td>\n",
       "      <td>0.561903</td>\n",
       "    </tr>\n",
       "    <tr>\n",
       "      <th>1</th>\n",
       "      <td>td-idf LDA</td>\n",
       "      <td>-21.4494</td>\n",
       "      <td>0.480509</td>\n",
       "    </tr>\n",
       "    <tr>\n",
       "      <th>2</th>\n",
       "      <td>NMF</td>\n",
       "      <td>N/A</td>\n",
       "      <td>0.356214</td>\n",
       "    </tr>\n",
       "  </tbody>\n",
       "</table>\n",
       "</div>"
      ],
      "text/plain": [
       "        Model Perplexity  c_v coherence\n",
       "0         LDA   -8.14924       0.561903\n",
       "1  td-idf LDA   -21.4494       0.480509\n",
       "2         NMF        N/A       0.356214"
      ]
     },
     "execution_count": 11,
     "metadata": {},
     "output_type": "execute_result"
    }
   ],
   "source": [
    "co_df"
   ]
  },
  {
   "cell_type": "markdown",
   "metadata": {},
   "source": [
    "As our second performance metric, we consider the perplexity and c_v cohernece. We chose to only consider the c_v coherence since as referenced in Matt's work, the u_mass coherence despite being a fast computation is considered inaccurate compared to the c_v coherence. The first LDA model was run with as a 8 topic model, the tf-idf LDA model was run as a 44 topic model and the NMF model was run as a 15 topic model. We note first that the perplexity of the model with tf-idf applied to it is much better than the one without. This is very much in contrast to the results considered and we may assume that when finding the accurate amount of topics, we obtain a much better model than the one that can be produced without tf-idf. \n",
    "\n",
    "In comparison, when considering coherence, we again see a striking difference to the results obtained through classification. The LDA model without tf-idf has the best coherence of the 3 models considered and under this metric would thus be considered the best classifier.\n",
    "\n",
    "These results may reflect the idea posed in the lectures; there are no methods to measure the accuracy of topic models that are consistent with human judgement. Depending on the metric relied on we may draw different conclusions."
   ]
  },
  {
   "cell_type": "markdown",
   "metadata": {},
   "source": [
    "### Comparison with removal of re/fw"
   ]
  },
  {
   "cell_type": "code",
   "execution_count": 12,
   "metadata": {},
   "outputs": [],
   "source": [
    "Alex_rf_pred = pickle.load(open('../Data/y_pred_re.p','rb'))\n",
    "Alex_rf_actual = pickle.load(open('../Data/y_actual_re.p','rb'))"
   ]
  },
  {
   "cell_type": "code",
   "execution_count": 13,
   "metadata": {},
   "outputs": [
    {
     "name": "stdout",
     "output_type": "stream",
     "text": [
      "Confusion Matrix\n",
      "Classification report\n",
      "              precision    recall  f1-score   support\n",
      "\n",
      "      Normal      0.830     0.800     0.815      4736\n",
      "        Spam      0.325     0.371     0.346      1229\n",
      "\n",
      "    accuracy                          0.711      5965\n",
      "   macro avg      0.578     0.585     0.581      5965\n",
      "weighted avg      0.726     0.711     0.718      5965\n",
      "\n"
     ]
    }
   ],
   "source": [
    "classification_eval(Alex_rf_actual,Alex_rf_pred)"
   ]
  },
  {
   "cell_type": "markdown",
   "metadata": {},
   "source": [
    "As a final aside, Alex produced a model that had the words re/fw removed from the emails. These terms in and of themselves we considered to be strong indicators of normal emails since most reply's or forward's would be to normal emails since most spam emails should not be replies or forwards but rather should be the originating email. Furthermore, the expectation was that people would not reply or forward on spam emails in most cases. We see from the results above that our identification of normal emails improved in this model and we were more accurate when recalling them but we also see a drop in precision when identifying spam emails."
   ]
  }
 ],
 "metadata": {
  "kernelspec": {
   "display_name": "Python 3",
   "language": "python",
   "name": "python3"
  },
  "language_info": {
   "codemirror_mode": {
    "name": "ipython",
    "version": 3
   },
   "file_extension": ".py",
   "mimetype": "text/x-python",
   "name": "python",
   "nbconvert_exporter": "python",
   "pygments_lexer": "ipython3",
   "version": "3.8.5"
  }
 },
 "nbformat": 4,
 "nbformat_minor": 4
}
