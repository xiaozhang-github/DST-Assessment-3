{
 "cells": [
  {
   "cell_type": "markdown",
   "metadata": {},
   "source": [
    "# Assessment 3"
   ]
  },
  {
   "cell_type": "code",
   "execution_count": 1,
   "metadata": {},
   "outputs": [
    {
     "data": {
      "text/html": [
       "\n",
       "    <div class=\"bk-root\">\n",
       "        <a href=\"https://bokeh.org\" target=\"_blank\" class=\"bk-logo bk-logo-small bk-logo-notebook\"></a>\n",
       "        <span id=\"1001\">Loading BokehJS ...</span>\n",
       "    </div>"
      ]
     },
     "metadata": {},
     "output_type": "display_data"
    },
    {
     "data": {
      "application/javascript": [
       "\n",
       "(function(root) {\n",
       "  function now() {\n",
       "    return new Date();\n",
       "  }\n",
       "\n",
       "  var force = true;\n",
       "\n",
       "  if (typeof root._bokeh_onload_callbacks === \"undefined\" || force === true) {\n",
       "    root._bokeh_onload_callbacks = [];\n",
       "    root._bokeh_is_loading = undefined;\n",
       "  }\n",
       "\n",
       "  var JS_MIME_TYPE = 'application/javascript';\n",
       "  var HTML_MIME_TYPE = 'text/html';\n",
       "  var EXEC_MIME_TYPE = 'application/vnd.bokehjs_exec.v0+json';\n",
       "  var CLASS_NAME = 'output_bokeh rendered_html';\n",
       "\n",
       "  /**\n",
       "   * Render data to the DOM node\n",
       "   */\n",
       "  function render(props, node) {\n",
       "    var script = document.createElement(\"script\");\n",
       "    node.appendChild(script);\n",
       "  }\n",
       "\n",
       "  /**\n",
       "   * Handle when an output is cleared or removed\n",
       "   */\n",
       "  function handleClearOutput(event, handle) {\n",
       "    var cell = handle.cell;\n",
       "\n",
       "    var id = cell.output_area._bokeh_element_id;\n",
       "    var server_id = cell.output_area._bokeh_server_id;\n",
       "    // Clean up Bokeh references\n",
       "    if (id != null && id in Bokeh.index) {\n",
       "      Bokeh.index[id].model.document.clear();\n",
       "      delete Bokeh.index[id];\n",
       "    }\n",
       "\n",
       "    if (server_id !== undefined) {\n",
       "      // Clean up Bokeh references\n",
       "      var cmd = \"from bokeh.io.state import curstate; print(curstate().uuid_to_server['\" + server_id + \"'].get_sessions()[0].document.roots[0]._id)\";\n",
       "      cell.notebook.kernel.execute(cmd, {\n",
       "        iopub: {\n",
       "          output: function(msg) {\n",
       "            var id = msg.content.text.trim();\n",
       "            if (id in Bokeh.index) {\n",
       "              Bokeh.index[id].model.document.clear();\n",
       "              delete Bokeh.index[id];\n",
       "            }\n",
       "          }\n",
       "        }\n",
       "      });\n",
       "      // Destroy server and session\n",
       "      var cmd = \"import bokeh.io.notebook as ion; ion.destroy_server('\" + server_id + \"')\";\n",
       "      cell.notebook.kernel.execute(cmd);\n",
       "    }\n",
       "  }\n",
       "\n",
       "  /**\n",
       "   * Handle when a new output is added\n",
       "   */\n",
       "  function handleAddOutput(event, handle) {\n",
       "    var output_area = handle.output_area;\n",
       "    var output = handle.output;\n",
       "\n",
       "    // limit handleAddOutput to display_data with EXEC_MIME_TYPE content only\n",
       "    if ((output.output_type != \"display_data\") || (!output.data.hasOwnProperty(EXEC_MIME_TYPE))) {\n",
       "      return\n",
       "    }\n",
       "\n",
       "    var toinsert = output_area.element.find(\".\" + CLASS_NAME.split(' ')[0]);\n",
       "\n",
       "    if (output.metadata[EXEC_MIME_TYPE][\"id\"] !== undefined) {\n",
       "      toinsert[toinsert.length - 1].firstChild.textContent = output.data[JS_MIME_TYPE];\n",
       "      // store reference to embed id on output_area\n",
       "      output_area._bokeh_element_id = output.metadata[EXEC_MIME_TYPE][\"id\"];\n",
       "    }\n",
       "    if (output.metadata[EXEC_MIME_TYPE][\"server_id\"] !== undefined) {\n",
       "      var bk_div = document.createElement(\"div\");\n",
       "      bk_div.innerHTML = output.data[HTML_MIME_TYPE];\n",
       "      var script_attrs = bk_div.children[0].attributes;\n",
       "      for (var i = 0; i < script_attrs.length; i++) {\n",
       "        toinsert[toinsert.length - 1].firstChild.setAttribute(script_attrs[i].name, script_attrs[i].value);\n",
       "        toinsert[toinsert.length - 1].firstChild.textContent = bk_div.children[0].textContent\n",
       "      }\n",
       "      // store reference to server id on output_area\n",
       "      output_area._bokeh_server_id = output.metadata[EXEC_MIME_TYPE][\"server_id\"];\n",
       "    }\n",
       "  }\n",
       "\n",
       "  function register_renderer(events, OutputArea) {\n",
       "\n",
       "    function append_mime(data, metadata, element) {\n",
       "      // create a DOM node to render to\n",
       "      var toinsert = this.create_output_subarea(\n",
       "        metadata,\n",
       "        CLASS_NAME,\n",
       "        EXEC_MIME_TYPE\n",
       "      );\n",
       "      this.keyboard_manager.register_events(toinsert);\n",
       "      // Render to node\n",
       "      var props = {data: data, metadata: metadata[EXEC_MIME_TYPE]};\n",
       "      render(props, toinsert[toinsert.length - 1]);\n",
       "      element.append(toinsert);\n",
       "      return toinsert\n",
       "    }\n",
       "\n",
       "    /* Handle when an output is cleared or removed */\n",
       "    events.on('clear_output.CodeCell', handleClearOutput);\n",
       "    events.on('delete.Cell', handleClearOutput);\n",
       "\n",
       "    /* Handle when a new output is added */\n",
       "    events.on('output_added.OutputArea', handleAddOutput);\n",
       "\n",
       "    /**\n",
       "     * Register the mime type and append_mime function with output_area\n",
       "     */\n",
       "    OutputArea.prototype.register_mime_type(EXEC_MIME_TYPE, append_mime, {\n",
       "      /* Is output safe? */\n",
       "      safe: true,\n",
       "      /* Index of renderer in `output_area.display_order` */\n",
       "      index: 0\n",
       "    });\n",
       "  }\n",
       "\n",
       "  // register the mime type if in Jupyter Notebook environment and previously unregistered\n",
       "  if (root.Jupyter !== undefined) {\n",
       "    var events = require('base/js/events');\n",
       "    var OutputArea = require('notebook/js/outputarea').OutputArea;\n",
       "\n",
       "    if (OutputArea.prototype.mime_types().indexOf(EXEC_MIME_TYPE) == -1) {\n",
       "      register_renderer(events, OutputArea);\n",
       "    }\n",
       "  }\n",
       "\n",
       "  \n",
       "  if (typeof (root._bokeh_timeout) === \"undefined\" || force === true) {\n",
       "    root._bokeh_timeout = Date.now() + 5000;\n",
       "    root._bokeh_failed_load = false;\n",
       "  }\n",
       "\n",
       "  var NB_LOAD_WARNING = {'data': {'text/html':\n",
       "     \"<div style='background-color: #fdd'>\\n\"+\n",
       "     \"<p>\\n\"+\n",
       "     \"BokehJS does not appear to have successfully loaded. If loading BokehJS from CDN, this \\n\"+\n",
       "     \"may be due to a slow or bad network connection. Possible fixes:\\n\"+\n",
       "     \"</p>\\n\"+\n",
       "     \"<ul>\\n\"+\n",
       "     \"<li>re-rerun `output_notebook()` to attempt to load from CDN again, or</li>\\n\"+\n",
       "     \"<li>use INLINE resources instead, as so:</li>\\n\"+\n",
       "     \"</ul>\\n\"+\n",
       "     \"<code>\\n\"+\n",
       "     \"from bokeh.resources import INLINE\\n\"+\n",
       "     \"output_notebook(resources=INLINE)\\n\"+\n",
       "     \"</code>\\n\"+\n",
       "     \"</div>\"}};\n",
       "\n",
       "  function display_loaded() {\n",
       "    var el = document.getElementById(\"1001\");\n",
       "    if (el != null) {\n",
       "      el.textContent = \"BokehJS is loading...\";\n",
       "    }\n",
       "    if (root.Bokeh !== undefined) {\n",
       "      if (el != null) {\n",
       "        el.textContent = \"BokehJS \" + root.Bokeh.version + \" successfully loaded.\";\n",
       "      }\n",
       "    } else if (Date.now() < root._bokeh_timeout) {\n",
       "      setTimeout(display_loaded, 100)\n",
       "    }\n",
       "  }\n",
       "\n",
       "\n",
       "  function run_callbacks() {\n",
       "    try {\n",
       "      root._bokeh_onload_callbacks.forEach(function(callback) {\n",
       "        if (callback != null)\n",
       "          callback();\n",
       "      });\n",
       "    } finally {\n",
       "      delete root._bokeh_onload_callbacks\n",
       "    }\n",
       "    console.debug(\"Bokeh: all callbacks have finished\");\n",
       "  }\n",
       "\n",
       "  function load_libs(css_urls, js_urls, callback) {\n",
       "    if (css_urls == null) css_urls = [];\n",
       "    if (js_urls == null) js_urls = [];\n",
       "\n",
       "    root._bokeh_onload_callbacks.push(callback);\n",
       "    if (root._bokeh_is_loading > 0) {\n",
       "      console.debug(\"Bokeh: BokehJS is being loaded, scheduling callback at\", now());\n",
       "      return null;\n",
       "    }\n",
       "    if (js_urls == null || js_urls.length === 0) {\n",
       "      run_callbacks();\n",
       "      return null;\n",
       "    }\n",
       "    console.debug(\"Bokeh: BokehJS not loaded, scheduling load and callback at\", now());\n",
       "    root._bokeh_is_loading = css_urls.length + js_urls.length;\n",
       "\n",
       "    function on_load() {\n",
       "      root._bokeh_is_loading--;\n",
       "      if (root._bokeh_is_loading === 0) {\n",
       "        console.debug(\"Bokeh: all BokehJS libraries/stylesheets loaded\");\n",
       "        run_callbacks()\n",
       "      }\n",
       "    }\n",
       "\n",
       "    function on_error() {\n",
       "      console.error(\"failed to load \" + url);\n",
       "    }\n",
       "\n",
       "    for (var i = 0; i < css_urls.length; i++) {\n",
       "      var url = css_urls[i];\n",
       "      const element = document.createElement(\"link\");\n",
       "      element.onload = on_load;\n",
       "      element.onerror = on_error;\n",
       "      element.rel = \"stylesheet\";\n",
       "      element.type = \"text/css\";\n",
       "      element.href = url;\n",
       "      console.debug(\"Bokeh: injecting link tag for BokehJS stylesheet: \", url);\n",
       "      document.body.appendChild(element);\n",
       "    }\n",
       "\n",
       "    const hashes = {\"https://cdn.bokeh.org/bokeh/release/bokeh-2.2.3.min.js\": \"T2yuo9Oe71Cz/I4X9Ac5+gpEa5a8PpJCDlqKYO0CfAuEszu1JrXLl8YugMqYe3sM\", \"https://cdn.bokeh.org/bokeh/release/bokeh-widgets-2.2.3.min.js\": \"98GDGJ0kOMCUMUePhksaQ/GYgB3+NH9h996V88sh3aOiUNX3N+fLXAtry6xctSZ6\", \"https://cdn.bokeh.org/bokeh/release/bokeh-tables-2.2.3.min.js\": \"89bArO+nlbP3sgakeHjCo1JYxYR5wufVgA3IbUvDY+K7w4zyxJqssu7wVnfeKCq8\"};\n",
       "\n",
       "    for (var i = 0; i < js_urls.length; i++) {\n",
       "      var url = js_urls[i];\n",
       "      var element = document.createElement('script');\n",
       "      element.onload = on_load;\n",
       "      element.onerror = on_error;\n",
       "      element.async = false;\n",
       "      element.src = url;\n",
       "      if (url in hashes) {\n",
       "        element.crossOrigin = \"anonymous\";\n",
       "        element.integrity = \"sha384-\" + hashes[url];\n",
       "      }\n",
       "      console.debug(\"Bokeh: injecting script tag for BokehJS library: \", url);\n",
       "      document.head.appendChild(element);\n",
       "    }\n",
       "  };\n",
       "\n",
       "  function inject_raw_css(css) {\n",
       "    const element = document.createElement(\"style\");\n",
       "    element.appendChild(document.createTextNode(css));\n",
       "    document.body.appendChild(element);\n",
       "  }\n",
       "\n",
       "  \n",
       "  var js_urls = [\"https://cdn.bokeh.org/bokeh/release/bokeh-2.2.3.min.js\", \"https://cdn.bokeh.org/bokeh/release/bokeh-widgets-2.2.3.min.js\", \"https://cdn.bokeh.org/bokeh/release/bokeh-tables-2.2.3.min.js\"];\n",
       "  var css_urls = [];\n",
       "  \n",
       "\n",
       "  var inline_js = [\n",
       "    function(Bokeh) {\n",
       "      Bokeh.set_log_level(\"info\");\n",
       "    },\n",
       "    function(Bokeh) {\n",
       "    \n",
       "    \n",
       "    }\n",
       "  ];\n",
       "\n",
       "  function run_inline_js() {\n",
       "    \n",
       "    if (root.Bokeh !== undefined || force === true) {\n",
       "      \n",
       "    for (var i = 0; i < inline_js.length; i++) {\n",
       "      inline_js[i].call(root, root.Bokeh);\n",
       "    }\n",
       "    if (force === true) {\n",
       "        display_loaded();\n",
       "      }} else if (Date.now() < root._bokeh_timeout) {\n",
       "      setTimeout(run_inline_js, 100);\n",
       "    } else if (!root._bokeh_failed_load) {\n",
       "      console.log(\"Bokeh: BokehJS failed to load within specified timeout.\");\n",
       "      root._bokeh_failed_load = true;\n",
       "    } else if (force !== true) {\n",
       "      var cell = $(document.getElementById(\"1001\")).parents('.cell').data().cell;\n",
       "      cell.output_area.append_execute_result(NB_LOAD_WARNING)\n",
       "    }\n",
       "\n",
       "  }\n",
       "\n",
       "  if (root._bokeh_is_loading === 0) {\n",
       "    console.debug(\"Bokeh: BokehJS loaded, going straight to plotting\");\n",
       "    run_inline_js();\n",
       "  } else {\n",
       "    load_libs(css_urls, js_urls, function() {\n",
       "      console.debug(\"Bokeh: BokehJS plotting callback run at\", now());\n",
       "      run_inline_js();\n",
       "    });\n",
       "  }\n",
       "}(window));"
      ],
      "application/vnd.bokehjs_load.v0+json": "\n(function(root) {\n  function now() {\n    return new Date();\n  }\n\n  var force = true;\n\n  if (typeof root._bokeh_onload_callbacks === \"undefined\" || force === true) {\n    root._bokeh_onload_callbacks = [];\n    root._bokeh_is_loading = undefined;\n  }\n\n  \n\n  \n  if (typeof (root._bokeh_timeout) === \"undefined\" || force === true) {\n    root._bokeh_timeout = Date.now() + 5000;\n    root._bokeh_failed_load = false;\n  }\n\n  var NB_LOAD_WARNING = {'data': {'text/html':\n     \"<div style='background-color: #fdd'>\\n\"+\n     \"<p>\\n\"+\n     \"BokehJS does not appear to have successfully loaded. If loading BokehJS from CDN, this \\n\"+\n     \"may be due to a slow or bad network connection. Possible fixes:\\n\"+\n     \"</p>\\n\"+\n     \"<ul>\\n\"+\n     \"<li>re-rerun `output_notebook()` to attempt to load from CDN again, or</li>\\n\"+\n     \"<li>use INLINE resources instead, as so:</li>\\n\"+\n     \"</ul>\\n\"+\n     \"<code>\\n\"+\n     \"from bokeh.resources import INLINE\\n\"+\n     \"output_notebook(resources=INLINE)\\n\"+\n     \"</code>\\n\"+\n     \"</div>\"}};\n\n  function display_loaded() {\n    var el = document.getElementById(\"1001\");\n    if (el != null) {\n      el.textContent = \"BokehJS is loading...\";\n    }\n    if (root.Bokeh !== undefined) {\n      if (el != null) {\n        el.textContent = \"BokehJS \" + root.Bokeh.version + \" successfully loaded.\";\n      }\n    } else if (Date.now() < root._bokeh_timeout) {\n      setTimeout(display_loaded, 100)\n    }\n  }\n\n\n  function run_callbacks() {\n    try {\n      root._bokeh_onload_callbacks.forEach(function(callback) {\n        if (callback != null)\n          callback();\n      });\n    } finally {\n      delete root._bokeh_onload_callbacks\n    }\n    console.debug(\"Bokeh: all callbacks have finished\");\n  }\n\n  function load_libs(css_urls, js_urls, callback) {\n    if (css_urls == null) css_urls = [];\n    if (js_urls == null) js_urls = [];\n\n    root._bokeh_onload_callbacks.push(callback);\n    if (root._bokeh_is_loading > 0) {\n      console.debug(\"Bokeh: BokehJS is being loaded, scheduling callback at\", now());\n      return null;\n    }\n    if (js_urls == null || js_urls.length === 0) {\n      run_callbacks();\n      return null;\n    }\n    console.debug(\"Bokeh: BokehJS not loaded, scheduling load and callback at\", now());\n    root._bokeh_is_loading = css_urls.length + js_urls.length;\n\n    function on_load() {\n      root._bokeh_is_loading--;\n      if (root._bokeh_is_loading === 0) {\n        console.debug(\"Bokeh: all BokehJS libraries/stylesheets loaded\");\n        run_callbacks()\n      }\n    }\n\n    function on_error() {\n      console.error(\"failed to load \" + url);\n    }\n\n    for (var i = 0; i < css_urls.length; i++) {\n      var url = css_urls[i];\n      const element = document.createElement(\"link\");\n      element.onload = on_load;\n      element.onerror = on_error;\n      element.rel = \"stylesheet\";\n      element.type = \"text/css\";\n      element.href = url;\n      console.debug(\"Bokeh: injecting link tag for BokehJS stylesheet: \", url);\n      document.body.appendChild(element);\n    }\n\n    const hashes = {\"https://cdn.bokeh.org/bokeh/release/bokeh-2.2.3.min.js\": \"T2yuo9Oe71Cz/I4X9Ac5+gpEa5a8PpJCDlqKYO0CfAuEszu1JrXLl8YugMqYe3sM\", \"https://cdn.bokeh.org/bokeh/release/bokeh-widgets-2.2.3.min.js\": \"98GDGJ0kOMCUMUePhksaQ/GYgB3+NH9h996V88sh3aOiUNX3N+fLXAtry6xctSZ6\", \"https://cdn.bokeh.org/bokeh/release/bokeh-tables-2.2.3.min.js\": \"89bArO+nlbP3sgakeHjCo1JYxYR5wufVgA3IbUvDY+K7w4zyxJqssu7wVnfeKCq8\"};\n\n    for (var i = 0; i < js_urls.length; i++) {\n      var url = js_urls[i];\n      var element = document.createElement('script');\n      element.onload = on_load;\n      element.onerror = on_error;\n      element.async = false;\n      element.src = url;\n      if (url in hashes) {\n        element.crossOrigin = \"anonymous\";\n        element.integrity = \"sha384-\" + hashes[url];\n      }\n      console.debug(\"Bokeh: injecting script tag for BokehJS library: \", url);\n      document.head.appendChild(element);\n    }\n  };\n\n  function inject_raw_css(css) {\n    const element = document.createElement(\"style\");\n    element.appendChild(document.createTextNode(css));\n    document.body.appendChild(element);\n  }\n\n  \n  var js_urls = [\"https://cdn.bokeh.org/bokeh/release/bokeh-2.2.3.min.js\", \"https://cdn.bokeh.org/bokeh/release/bokeh-widgets-2.2.3.min.js\", \"https://cdn.bokeh.org/bokeh/release/bokeh-tables-2.2.3.min.js\"];\n  var css_urls = [];\n  \n\n  var inline_js = [\n    function(Bokeh) {\n      Bokeh.set_log_level(\"info\");\n    },\n    function(Bokeh) {\n    \n    \n    }\n  ];\n\n  function run_inline_js() {\n    \n    if (root.Bokeh !== undefined || force === true) {\n      \n    for (var i = 0; i < inline_js.length; i++) {\n      inline_js[i].call(root, root.Bokeh);\n    }\n    if (force === true) {\n        display_loaded();\n      }} else if (Date.now() < root._bokeh_timeout) {\n      setTimeout(run_inline_js, 100);\n    } else if (!root._bokeh_failed_load) {\n      console.log(\"Bokeh: BokehJS failed to load within specified timeout.\");\n      root._bokeh_failed_load = true;\n    } else if (force !== true) {\n      var cell = $(document.getElementById(\"1001\")).parents('.cell').data().cell;\n      cell.output_area.append_execute_result(NB_LOAD_WARNING)\n    }\n\n  }\n\n  if (root._bokeh_is_loading === 0) {\n    console.debug(\"Bokeh: BokehJS loaded, going straight to plotting\");\n    run_inline_js();\n  } else {\n    load_libs(css_urls, js_urls, function() {\n      console.debug(\"Bokeh: BokehJS plotting callback run at\", now());\n      run_inline_js();\n    });\n  }\n}(window));"
     },
     "metadata": {},
     "output_type": "display_data"
    }
   ],
   "source": [
    "import glob\n",
    "import os\n",
    "import numpy as np\n",
    "import pandas as pd\n",
    "import math\n",
    "\n",
    "import pickle\n",
    "import gensim\n",
    "from gensim.utils import simple_preprocess\n",
    "from gensim.parsing.preprocessing import STOPWORDS\n",
    "from gensim import corpora, models\n",
    "from nltk.stem import WordNetLemmatizer, SnowballStemmer\n",
    "from nltk.stem.porter import *\n",
    "\n",
    "import random\n",
    "random.seed(2021)\n",
    "\n",
    "import nltk\n",
    "import re\n",
    "from pprint import pprint\n",
    "import matplotlib.pyplot as plt\n",
    "from IPython.display import display, clear_output\n",
    "\n",
    "from timeit import Timer\n",
    "from functools import partial\n",
    "\n",
    "from sklearn.manifold import TSNE\n",
    "from bokeh.io import output_notebook\n",
    "from bokeh.plotting import figure, show\n",
    "from bokeh.models import HoverTool, CustomJS, ColumnDataSource, Slider\n",
    "from bokeh.layouts import column\n",
    "from bokeh.palettes import all_palettes\n",
    "output_notebook()"
   ]
  },
  {
   "cell_type": "markdown",
   "metadata": {},
   "source": [
    "First we need to import the data. References 1 & 2 introduced me to glob which then allows us to import all the text documents in one smooth process. We do this below."
   ]
  },
  {
   "cell_type": "code",
   "execution_count": 2,
   "metadata": {},
   "outputs": [],
   "source": [
    "from pathlib import Path\n",
    "\n",
    "corpus = []\n",
    "\n",
    "for path in Path(r'C:\\Users\\corri\\OneDrive\\Documents\\GitHub\\DST-Assessment-3\\Data\\All enron unzip').rglob('*.txt'):\n",
    "        with open(path, errors='ignore') as f_input:\n",
    "            corpus.append(f_input.read())"
   ]
  },
  {
   "cell_type": "code",
   "execution_count": 3,
   "metadata": {},
   "outputs": [],
   "source": [
    "df = pd.DataFrame(corpus)"
   ]
  },
  {
   "cell_type": "code",
   "execution_count": 4,
   "metadata": {},
   "outputs": [
    {
     "data": {
      "text/html": [
       "<div>\n",
       "<style scoped>\n",
       "    .dataframe tbody tr th:only-of-type {\n",
       "        vertical-align: middle;\n",
       "    }\n",
       "\n",
       "    .dataframe tbody tr th {\n",
       "        vertical-align: top;\n",
       "    }\n",
       "\n",
       "    .dataframe thead th {\n",
       "        text-align: right;\n",
       "    }\n",
       "</style>\n",
       "<table border=\"1\" class=\"dataframe\">\n",
       "  <thead>\n",
       "    <tr style=\"text-align: right;\">\n",
       "      <th></th>\n",
       "      <th>0</th>\n",
       "    </tr>\n",
       "  </thead>\n",
       "  <tbody>\n",
       "    <tr>\n",
       "      <th>0</th>\n",
       "      <td>Legitimate\\n----------\\n- Owner: farmer-d\\n- T...</td>\n",
       "    </tr>\n",
       "    <tr>\n",
       "      <th>1</th>\n",
       "      <td>Subject: christmas tree farm pictures\\n</td>\n",
       "    </tr>\n",
       "    <tr>\n",
       "      <th>2</th>\n",
       "      <td>Subject: vastar resources , inc .\\ngary , prod...</td>\n",
       "    </tr>\n",
       "    <tr>\n",
       "      <th>3</th>\n",
       "      <td>Subject: calpine daily gas nomination\\n- calpi...</td>\n",
       "    </tr>\n",
       "    <tr>\n",
       "      <th>4</th>\n",
       "      <td>Subject: re : issue\\nfyi - see note below - al...</td>\n",
       "    </tr>\n",
       "  </tbody>\n",
       "</table>\n",
       "</div>"
      ],
      "text/plain": [
       "                                                   0\n",
       "0  Legitimate\\n----------\\n- Owner: farmer-d\\n- T...\n",
       "1            Subject: christmas tree farm pictures\\n\n",
       "2  Subject: vastar resources , inc .\\ngary , prod...\n",
       "3  Subject: calpine daily gas nomination\\n- calpi...\n",
       "4  Subject: re : issue\\nfyi - see note below - al..."
      ]
     },
     "execution_count": 4,
     "metadata": {},
     "output_type": "execute_result"
    }
   ],
   "source": [
    "df.head()"
   ]
  },
  {
   "cell_type": "code",
   "execution_count": 5,
   "metadata": {},
   "outputs": [
    {
     "name": "stdout",
     "output_type": "stream",
     "text": [
      "27721\n"
     ]
    }
   ],
   "source": [
    "print(len(df))"
   ]
  },
  {
   "cell_type": "markdown",
   "metadata": {},
   "source": [
    "While importing the files, we've also imported the summary sheets along with them. These need to be removed as they wont contribute to our overall corpus and we do this below along with reindexing the data set (we could just remove them from the data but this is easy)."
   ]
  },
  {
   "cell_type": "code",
   "execution_count": 6,
   "metadata": {},
   "outputs": [],
   "source": [
    "df = df.drop([0,5173,11031,16544,21720]) # removing unnecessary entries\n",
    "nlist = np.arange(0,27717,1) # reindexing\n",
    "df = df.reindex(nlist)\n",
    "df = df.drop(0)\n",
    "df.columns = ['E-mails']"
   ]
  },
  {
   "cell_type": "code",
   "execution_count": 7,
   "metadata": {},
   "outputs": [
    {
     "data": {
      "text/html": [
       "<div>\n",
       "<style scoped>\n",
       "    .dataframe tbody tr th:only-of-type {\n",
       "        vertical-align: middle;\n",
       "    }\n",
       "\n",
       "    .dataframe tbody tr th {\n",
       "        vertical-align: top;\n",
       "    }\n",
       "\n",
       "    .dataframe thead th {\n",
       "        text-align: right;\n",
       "    }\n",
       "</style>\n",
       "<table border=\"1\" class=\"dataframe\">\n",
       "  <thead>\n",
       "    <tr style=\"text-align: right;\">\n",
       "      <th></th>\n",
       "      <th>E-mails</th>\n",
       "    </tr>\n",
       "  </thead>\n",
       "  <tbody>\n",
       "    <tr>\n",
       "      <th>1</th>\n",
       "      <td>Subject: christmas tree farm pictures\\n</td>\n",
       "    </tr>\n",
       "    <tr>\n",
       "      <th>2</th>\n",
       "      <td>Subject: vastar resources , inc .\\ngary , prod...</td>\n",
       "    </tr>\n",
       "    <tr>\n",
       "      <th>3</th>\n",
       "      <td>Subject: calpine daily gas nomination\\n- calpi...</td>\n",
       "    </tr>\n",
       "    <tr>\n",
       "      <th>4</th>\n",
       "      <td>Subject: re : issue\\nfyi - see note below - al...</td>\n",
       "    </tr>\n",
       "    <tr>\n",
       "      <th>5</th>\n",
       "      <td>Subject: meter 7268 nov allocation\\nfyi .\\n- -...</td>\n",
       "    </tr>\n",
       "  </tbody>\n",
       "</table>\n",
       "</div>"
      ],
      "text/plain": [
       "                                             E-mails\n",
       "1            Subject: christmas tree farm pictures\\n\n",
       "2  Subject: vastar resources , inc .\\ngary , prod...\n",
       "3  Subject: calpine daily gas nomination\\n- calpi...\n",
       "4  Subject: re : issue\\nfyi - see note below - al...\n",
       "5  Subject: meter 7268 nov allocation\\nfyi .\\n- -..."
      ]
     },
     "execution_count": 7,
     "metadata": {},
     "output_type": "execute_result"
    }
   ],
   "source": [
    "df.head()"
   ]
  },
  {
   "cell_type": "markdown",
   "metadata": {},
   "source": [
    "We're going to assign a binary variable for spam vs normal data to our data set to allow us to perform performance analysis later on. This is done simply since we know where the splits will be for spam/normal data will be in our data frame and we do this below by first creating a list of the positions where spam emails are found and then assigning the binary values to our data frame."
   ]
  },
  {
   "cell_type": "code",
   "execution_count": 8,
   "metadata": {},
   "outputs": [],
   "source": [
    "z1 = np.arange(3673,5173)\n",
    "z2 = np.arange(9534,11031)\n",
    "z3 = np.arange(15043,16544)\n",
    "z4 = np.arange(18043,21719)\n",
    "z5 = np.arange(23220,27716)\n",
    "ze = np.concatenate((z1,z2,z3,z4,z5))"
   ]
  },
  {
   "cell_type": "code",
   "execution_count": 9,
   "metadata": {},
   "outputs": [],
   "source": [
    "z = np.zeros(27716)\n",
    "df['spam'] = z\n",
    "for i in ze:\n",
    "    df.iloc[i,1] = 1"
   ]
  },
  {
   "cell_type": "code",
   "execution_count": 10,
   "metadata": {},
   "outputs": [
    {
     "data": {
      "text/html": [
       "<div>\n",
       "<style scoped>\n",
       "    .dataframe tbody tr th:only-of-type {\n",
       "        vertical-align: middle;\n",
       "    }\n",
       "\n",
       "    .dataframe tbody tr th {\n",
       "        vertical-align: top;\n",
       "    }\n",
       "\n",
       "    .dataframe thead th {\n",
       "        text-align: right;\n",
       "    }\n",
       "</style>\n",
       "<table border=\"1\" class=\"dataframe\">\n",
       "  <thead>\n",
       "    <tr style=\"text-align: right;\">\n",
       "      <th></th>\n",
       "      <th>E-mails</th>\n",
       "      <th>spam</th>\n",
       "    </tr>\n",
       "  </thead>\n",
       "  <tbody>\n",
       "    <tr>\n",
       "      <th>1</th>\n",
       "      <td>Subject: christmas tree farm pictures\\n</td>\n",
       "      <td>0.0</td>\n",
       "    </tr>\n",
       "    <tr>\n",
       "      <th>2</th>\n",
       "      <td>Subject: vastar resources , inc .\\ngary , prod...</td>\n",
       "      <td>0.0</td>\n",
       "    </tr>\n",
       "    <tr>\n",
       "      <th>3</th>\n",
       "      <td>Subject: calpine daily gas nomination\\n- calpi...</td>\n",
       "      <td>0.0</td>\n",
       "    </tr>\n",
       "    <tr>\n",
       "      <th>4</th>\n",
       "      <td>Subject: re : issue\\nfyi - see note below - al...</td>\n",
       "      <td>0.0</td>\n",
       "    </tr>\n",
       "    <tr>\n",
       "      <th>5</th>\n",
       "      <td>Subject: meter 7268 nov allocation\\nfyi .\\n- -...</td>\n",
       "      <td>0.0</td>\n",
       "    </tr>\n",
       "  </tbody>\n",
       "</table>\n",
       "</div>"
      ],
      "text/plain": [
       "                                             E-mails  spam\n",
       "1            Subject: christmas tree farm pictures\\n   0.0\n",
       "2  Subject: vastar resources , inc .\\ngary , prod...   0.0\n",
       "3  Subject: calpine daily gas nomination\\n- calpi...   0.0\n",
       "4  Subject: re : issue\\nfyi - see note below - al...   0.0\n",
       "5  Subject: meter 7268 nov allocation\\nfyi .\\n- -...   0.0"
      ]
     },
     "execution_count": 10,
     "metadata": {},
     "output_type": "execute_result"
    }
   ],
   "source": [
    "df.head()"
   ]
  },
  {
   "cell_type": "markdown",
   "metadata": {},
   "source": [
    "### Pre-Processing for LDA Model"
   ]
  },
  {
   "cell_type": "markdown",
   "metadata": {},
   "source": [
    "In this section we perform pre-processing for our model. This involves techniques such as removing common words, symbols and punctuation using regex. For sake of comparison, we print the first entry to determine the impact the techniques have."
   ]
  },
  {
   "cell_type": "code",
   "execution_count": 11,
   "metadata": {},
   "outputs": [
    {
     "name": "stdout",
     "output_type": "stream",
     "text": [
      "Subject: vastar resources , inc .\n",
      "gary , production from the high island larger block a - 1 # 2 commenced on\n",
      "saturday at 2 : 00 p . m . at about 6 , 500 gross . carlos expects between 9 , 500 and\n",
      "10 , 000 gross for tomorrow . vastar owns 68 % of the gross production .\n",
      "george x 3 - 6992\n",
      "- - - - - - - - - - - - - - - - - - - - - - forwarded by george weissman / hou / ect on 12 / 13 / 99 10 : 16\n",
      "am - - - - - - - - - - - - - - - - - - - - - - - - - - -\n",
      "daren j farmer\n",
      "12 / 10 / 99 10 : 38 am\n",
      "to : carlos j rodriguez / hou / ect @ ect\n",
      "cc : george weissman / hou / ect @ ect , melissa graves / hou / ect @ ect\n",
      "subject : vastar resources , inc .\n",
      "carlos ,\n",
      "please call linda and get everything set up .\n",
      "i ' m going to estimate 4 , 500 coming up tomorrow , with a 2 , 000 increase each\n",
      "following day based on my conversations with bill fischer at bmar .\n",
      "d .\n",
      "- - - - - - - - - - - - - - - - - - - - - - forwarded by daren j farmer / hou / ect on 12 / 10 / 99 10 : 34\n",
      "am - - - - - - - - - - - - - - - - - - - - - - - - - - -\n",
      "enron north america corp .\n",
      "from : george weissman 12 / 10 / 99 10 : 00 am\n",
      "to : daren j farmer / hou / ect @ ect\n",
      "cc : gary bryan / hou / ect @ ect , melissa graves / hou / ect @ ect\n",
      "subject : vastar resources , inc .\n",
      "darren ,\n",
      "the attached appears to be a nomination from vastar resources , inc . for the\n",
      "high island larger block a - 1 # 2 ( previously , erroneously referred to as the\n",
      "# 1 well ) . vastar now expects the well to commence production sometime\n",
      "tomorrow . i told linda harris that we ' d get her a telephone number in gas\n",
      "control so she can provide notification of the turn - on tomorrow . linda ' s\n",
      "numbers , for the record , are 281 . 584 . 3359 voice and 713 . 312 . 1689 fax .\n",
      "would you please see that someone contacts linda and advises her how to\n",
      "submit future nominations via e - mail , fax or voice ? thanks .\n",
      "george x 3 - 6992\n",
      "- - - - - - - - - - - - - - - - - - - - - - forwarded by george weissman / hou / ect on 12 / 10 / 99 09 : 44\n",
      "am - - - - - - - - - - - - - - - - - - - - - - - - - - -\n",
      "\" linda harris \" on 12 / 10 / 99 09 : 38 : 43 am\n",
      "to : george weissman / hou / ect @ ect\n",
      "cc :\n",
      "subject : hi a - 1 # 2\n",
      "effective 12 - 11 - 99\n",
      "| - - - - - - - - + - - - - - - - - - - + - - - - - - - - - - - |\n",
      "| | | |\n",
      "| mscf / d | min ftp | time |\n",
      "| | | |\n",
      "| - - - - - - - - + - - - - - - - - - - + - - - - - - - - - - - |\n",
      "| | | |\n",
      "| 4 , 500 | 9 , 925 | 24 hours |\n",
      "| | | |\n",
      "| - - - - - - - - + - - - - - - - - - - + - - - - - - - - - - - |\n",
      "| | | |\n",
      "| 6 , 000 | 9 , 908 | 24 hours |\n",
      "| | | |\n",
      "| - - - - - - - - + - - - - - - - - - - + - - - - - - - - - - - |\n",
      "| | | |\n",
      "| 8 , 000 | 9 , 878 | 24 hours |\n",
      "| | | |\n",
      "| - - - - - - - - + - - - - - - - - - - + - - - - - - - - - - - |\n",
      "| | | |\n",
      "| 10 , 000 | 9 , 840 | 24 hours |\n",
      "| | | |\n",
      "| - - - - - - - - + - - - - - - - - - - + - - - - - - - - - - - |\n",
      "| | | |\n",
      "| 12 , 000 | 9 , 793 | 24 hours |\n",
      "| | | |\n",
      "| - - - - - - - - + - - - - - - - - - - + - - - - - - - - - - - |\n",
      "| | | |\n",
      "| 14 , 000 | 9 , 738 | 24 hours |\n",
      "| | | |\n",
      "| - - - - - - - - + - - - - - - - - - - + - - - - - - - - - - - |\n",
      "| | | |\n",
      "| 16 , 000 | 9 , 674 | 24 hours |\n",
      "| | | |\n",
      "| - - - - - - - - + - - - - - - - - - - + - - - - - - - - - - - |\n",
      "| | | |\n",
      "| 18 , 000 | 9 , 602 | 24 hours |\n",
      "| | | |\n",
      "| - - - - - - - - + - - - - - - - - - - + - - - - - - - - - - - |\n",
      "| | | |\n",
      "| 20 , 000 | 9 , 521 | 24 hours |\n",
      "| | | |\n",
      "| - - - - - - - - + - - - - - - - - - - + - - - - - - - - - - - |\n",
      "| | | |\n",
      "| 22 , 000 | 9 , 431 | 24 hours |\n",
      "| | | |\n",
      "| - - - - - - - - + - - - - - - - - - - + - - - - - - - - - - - |\n",
      "| | | |\n",
      "| 24 , 000 | 9 , 332 | 24 hours |\n",
      "| | | |\n",
      "| - - - - - - - - + - - - - - - - - - - + - - - - - - - - - - - |\n",
      "| | | |\n",
      "| 26 , 000 | 9 , 224 | 24 hours |\n",
      "| | | |\n",
      "| - - - - - - - - + - - - - - - - - - - + - - - - - - - - - - - |\n",
      "| | | |\n",
      "| 28 , 000 | 9 , 108 | 24 hours |\n",
      "| | | |\n",
      "| - - - - - - - - + - - - - - - - - - - + - - - - - - - - - - - |\n",
      "| | | |\n",
      "| 30 , 000 | 8 , 982 | 24 hours |\n",
      "| | | |\n",
      "| - - - - - - - - + - - - - - - - - - - + - - - - - - - - - - - |\n",
      "| | | |\n",
      "| 32 , 000 | 8 , 847 | 24 hours |\n",
      "| | | |\n",
      "| - - - - - - - - + - - - - - - - - - - + - - - - - - - - - - - |\n",
      "| | | |\n",
      "| 34 , 000 | 8 , 703 | 24 hours |\n",
      "| | | |\n",
      "| - - - - - - - - + - - - - - - - - - - + - - - - - - - - - - - |\n",
      "| | | |\n",
      "| 36 , 000 | 8 , 549 | 24 hours |\n",
      "| | | |\n",
      "| - - - - - - - - + - - - - - - - - - - + - - - - - - - - - - - |\n"
     ]
    }
   ],
   "source": [
    "email_sample = df.iloc[1].values[0] # some of the emails are less tasteful than other emails sorry!\n",
    "print(email_sample)"
   ]
  },
  {
   "cell_type": "markdown",
   "metadata": {},
   "source": [
    "Obviously within emails, there are a multitude of words/symbols that need removing as they will contribute nothing to our modelling. We do this using regex."
   ]
  },
  {
   "cell_type": "code",
   "execution_count": 12,
   "metadata": {},
   "outputs": [],
   "source": [
    "df['E-mails'] = [re.sub(r'[^\\w\\s]','',str(x)) for x in df['E-mails']]"
   ]
  },
  {
   "cell_type": "markdown",
   "metadata": {},
   "source": [
    "We now check this sample email."
   ]
  },
  {
   "cell_type": "code",
   "execution_count": 13,
   "metadata": {},
   "outputs": [
    {
     "name": "stdout",
     "output_type": "stream",
     "text": [
      "Subject vastar resources  inc \n",
      "gary  production from the high island larger block a  1  2 commenced on\n",
      "saturday at 2  00 p  m  at about 6  500 gross  carlos expects between 9  500 and\n",
      "10  000 gross for tomorrow  vastar owns 68  of the gross production \n",
      "george x 3  6992\n",
      "                      forwarded by george weissman  hou  ect on 12  13  99 10  16\n",
      "am                           \n",
      "daren j farmer\n",
      "12  10  99 10  38 am\n",
      "to  carlos j rodriguez  hou  ect  ect\n",
      "cc  george weissman  hou  ect  ect  melissa graves  hou  ect  ect\n",
      "subject  vastar resources  inc \n",
      "carlos \n",
      "please call linda and get everything set up \n",
      "i  m going to estimate 4  500 coming up tomorrow  with a 2  000 increase each\n",
      "following day based on my conversations with bill fischer at bmar \n",
      "d \n",
      "                      forwarded by daren j farmer  hou  ect on 12  10  99 10  34\n",
      "am                           \n",
      "enron north america corp \n",
      "from  george weissman 12  10  99 10  00 am\n",
      "to  daren j farmer  hou  ect  ect\n",
      "cc  gary bryan  hou  ect  ect  melissa graves  hou  ect  ect\n",
      "subject  vastar resources  inc \n",
      "darren \n",
      "the attached appears to be a nomination from vastar resources  inc  for the\n",
      "high island larger block a  1  2  previously  erroneously referred to as the\n",
      " 1 well   vastar now expects the well to commence production sometime\n",
      "tomorrow  i told linda harris that we  d get her a telephone number in gas\n",
      "control so she can provide notification of the turn  on tomorrow  linda  s\n",
      "numbers  for the record  are 281  584  3359 voice and 713  312  1689 fax \n",
      "would you please see that someone contacts linda and advises her how to\n",
      "submit future nominations via e  mail  fax or voice  thanks \n",
      "george x 3  6992\n",
      "                      forwarded by george weissman  hou  ect on 12  10  99 09  44\n",
      "am                           \n",
      " linda harris  on 12  10  99 09  38  43 am\n",
      "to  george weissman  hou  ect  ect\n",
      "cc \n",
      "subject  hi a  1  2\n",
      "effective 12  11  99\n",
      "                                \n",
      "   \n",
      " mscf  d  min ftp  time \n",
      "   \n",
      "                                \n",
      "   \n",
      " 4  500  9  925  24 hours \n",
      "   \n",
      "                                \n",
      "   \n",
      " 6  000  9  908  24 hours \n",
      "   \n",
      "                                \n",
      "   \n",
      " 8  000  9  878  24 hours \n",
      "   \n",
      "                                \n",
      "   \n",
      " 10  000  9  840  24 hours \n",
      "   \n",
      "                                \n",
      "   \n",
      " 12  000  9  793  24 hours \n",
      "   \n",
      "                                \n",
      "   \n",
      " 14  000  9  738  24 hours \n",
      "   \n",
      "                                \n",
      "   \n",
      " 16  000  9  674  24 hours \n",
      "   \n",
      "                                \n",
      "   \n",
      " 18  000  9  602  24 hours \n",
      "   \n",
      "                                \n",
      "   \n",
      " 20  000  9  521  24 hours \n",
      "   \n",
      "                                \n",
      "   \n",
      " 22  000  9  431  24 hours \n",
      "   \n",
      "                                \n",
      "   \n",
      " 24  000  9  332  24 hours \n",
      "   \n",
      "                                \n",
      "   \n",
      " 26  000  9  224  24 hours \n",
      "   \n",
      "                                \n",
      "   \n",
      " 28  000  9  108  24 hours \n",
      "   \n",
      "                                \n",
      "   \n",
      " 30  000  8  982  24 hours \n",
      "   \n",
      "                                \n",
      "   \n",
      " 32  000  8  847  24 hours \n",
      "   \n",
      "                                \n",
      "   \n",
      " 34  000  8  703  24 hours \n",
      "   \n",
      "                                \n",
      "   \n",
      " 36  000  8  549  24 hours \n",
      "   \n",
      "                                \n"
     ]
    }
   ],
   "source": [
    "email_sample = df.iloc[1].values[0] # some of the emails are less tasteful than other emails sorry!\n",
    "print(email_sample)"
   ]
  },
  {
   "cell_type": "markdown",
   "metadata": {},
   "source": [
    "### Creating a Dictionary and a Corpus"
   ]
  },
  {
   "cell_type": "markdown",
   "metadata": {},
   "source": [
    "We use stop words from nltk to remove the majority of the stop words in the data. Some of the words we need to remove are case specific and therefore aren't removed by the stop word processing, such as 'Subject:' which appears in every email and therefore provides no insight for topic modelling."
   ]
  },
  {
   "cell_type": "code",
   "execution_count": 14,
   "metadata": {},
   "outputs": [],
   "source": [
    "en_stop = nltk.corpus.stopwords.words('english')\n",
    "en_stop.append('Subject')"
   ]
  },
  {
   "cell_type": "code",
   "execution_count": 15,
   "metadata": {},
   "outputs": [],
   "source": [
    "import nltk\n",
    "from nltk.corpus import wordnet as wn\n",
    "\n",
    "def sentence_to_words(text):\n",
    "    tokens = nltk.word_tokenize(text)\n",
    "    return tokens\n",
    "\n",
    "def get_lemma(word):\n",
    "   \n",
    "    lemma = wn.morphy(word) \n",
    "    if lemma is None:\n",
    "        return word\n",
    "    else:\n",
    "        return lemma\n",
    "\n",
    "def prepare_text_for_lda(text):\n",
    "    tokens = nltk.word_tokenize(text)\n",
    "    tokens = [token for token in tokens if len(token) > 4] # removes words length less than 4, likely to be unimportant\n",
    "    tokens = [token for token in tokens if token not in en_stop] # removes stop words\n",
    "    tokens = [get_lemma(token) for token in tokens] # lemmatize (standardise) words\n",
    "    return tokens"
   ]
  },
  {
   "cell_type": "markdown",
   "metadata": {},
   "source": [
    "When running the below code, we identify entries in the code that are classified as NaN. The pre-processor cannot handle these exceptions so we remove them as they are immaterial to the final result anyway."
   ]
  },
  {
   "cell_type": "code",
   "execution_count": 16,
   "metadata": {},
   "outputs": [],
   "source": [
    "place = []\n",
    "\n",
    "for j in range(1,len(df)):\n",
    "    try:\n",
    "        a = df.iloc[j,0]\n",
    "        sentence_to_words(a)\n",
    "    except Exception:\n",
    "        place.append(j)\n",
    "\n",
    "for j in place:\n",
    "    df.iloc[j,0] = \"\""
   ]
  },
  {
   "cell_type": "markdown",
   "metadata": {},
   "source": [
    "We first need to tokenize our text to allow us to perform subsequent actions on it. We do this here with the tokenize function above."
   ]
  },
  {
   "cell_type": "code",
   "execution_count": 17,
   "metadata": {},
   "outputs": [],
   "source": [
    "words = df['E-mails'].map(sentence_to_words)"
   ]
  },
  {
   "cell_type": "markdown",
   "metadata": {},
   "source": [
    "We're going to build a bigram model found in link [10]. "
   ]
  },
  {
   "cell_type": "code",
   "execution_count": 18,
   "metadata": {},
   "outputs": [
    {
     "data": {
      "text/plain": [
       "1               [Subject, christmas, tree, farm, pictures]\n",
       "2        [Subject, vastar, resources, inc, gary, produc...\n",
       "3        [Subject, calpine, daily, gas, nomination, cal...\n",
       "4        [Subject, re, issue, fyi, see, note, below, al...\n",
       "5        [Subject, meter, 7268, nov, allocation, fyi, f...\n",
       "                               ...                        \n",
       "27712    [Subject, make, big, bucks, in, the, medical, ...\n",
       "27713    [Subject, proposal, dear, sir, first, i, must,...\n",
       "27714    [Subject, cure, premature, ejaculation, hello,...\n",
       "27715    [Subject, need, your, vics, brand, name, meds,...\n",
       "27716    [Subject, iso, 8859, 1, q, good, _, news, _, c...\n",
       "Name: E-mails, Length: 27716, dtype: object"
      ]
     },
     "execution_count": 18,
     "metadata": {},
     "output_type": "execute_result"
    }
   ],
   "source": [
    "words"
   ]
  },
  {
   "cell_type": "code",
   "execution_count": 19,
   "metadata": {},
   "outputs": [],
   "source": [
    "bigram = gensim.models.Phrases(words, min_count=10, threshold=100) \n",
    "trigram = gensim.models.Phrases(bigram[words], threshold=100)  \n",
    "\n",
    "bigram_mod = gensim.models.phrases.Phraser(bigram)\n",
    "trigram_mod = gensim.models.phrases.Phraser(trigram)"
   ]
  },
  {
   "cell_type": "markdown",
   "metadata": {},
   "source": [
    "We want to check that this has worked correctly:"
   ]
  },
  {
   "cell_type": "code",
   "execution_count": 20,
   "metadata": {},
   "outputs": [
    {
     "name": "stdout",
     "output_type": "stream",
     "text": [
      "['Subject', 'vastar', 'resources', 'inc', 'gary', 'production', 'from', 'the', 'high', 'island', 'larger', 'block', 'a', '1', '2', 'commenced', 'on', 'saturday', 'at', '2', '00', 'p', 'm', 'at', 'about', '6', '500', 'gross', 'carlos', 'expects', 'between', '9', '500', 'and', '10', '000', 'gross', 'for', 'tomorrow', 'vastar', 'owns', '68', 'of', 'the', 'gross', 'production', 'george', 'x', '3', '6992_forwarded', 'by', 'george_weissman', 'hou', 'ect', 'on', '12', '13', '99', '10', '16', 'am', 'daren_j_farmer', '12', '10', '99', '10', '38', 'am', 'to', 'carlos_j_rodriguez', 'hou', 'ect', 'ect', 'cc', 'george_weissman', 'hou', 'ect', 'ect', 'melissa_graves', 'hou', 'ect', 'ect', 'subject', 'vastar', 'resources', 'inc', 'carlos', 'please', 'call', 'linda', 'and', 'get', 'everything', 'set', 'up', 'i', 'm', 'going', 'to', 'estimate', '4', '500', 'coming', 'up', 'tomorrow', 'with', 'a', '2', '000', 'increase', 'each', 'following', 'day', 'based', 'on', 'my', 'conversations', 'with', 'bill', 'fischer', 'at', 'bmar', 'd', 'forwarded', 'by', 'daren_j_farmer', 'hou', 'ect', 'on', '12', '10', '99', '10', '34', 'am', 'enron', 'north_america', 'corp', 'from', 'george_weissman', '12', '10', '99', '10', '00', 'am', 'to', 'daren_j_farmer', 'hou', 'ect', 'ect', 'cc', 'gary_bryan', 'hou', 'ect', 'ect', 'melissa_graves', 'hou', 'ect', 'ect', 'subject', 'vastar', 'resources', 'inc', 'darren', 'the', 'attached', 'appears', 'to', 'be', 'a', 'nomination', 'from', 'vastar', 'resources', 'inc', 'for', 'the', 'high', 'island', 'larger', 'block', 'a', '1', '2', 'previously', 'erroneously', 'referred', 'to', 'as', 'the', '1', 'well', 'vastar', 'now', 'expects', 'the', 'well', 'to', 'commence', 'production', 'sometime', 'tomorrow', 'i', 'told', 'linda', 'harris', 'that', 'we', 'd', 'get', 'her', 'a', 'telephone', 'number', 'in', 'gas', 'control', 'so', 'she', 'can', 'provide', 'notification', 'of', 'the', 'turn', 'on', 'tomorrow', 'linda', 's', 'numbers', 'for', 'the', 'record', 'are', '281', '584', '3359', 'voice', 'and', '713', '312', '1689', 'fax', 'would', 'you', 'please', 'see', 'that', 'someone', 'contacts', 'linda', 'and', 'advises', 'her', 'how', 'to', 'submit', 'future', 'nominations', 'via', 'e', 'mail', 'fax', 'or', 'voice', 'thanks', 'george', 'x', '3', '6992_forwarded', 'by', 'george_weissman', 'hou', 'ect', 'on', '12', '10', '99', '09', '44', 'am', 'linda', 'harris', 'on', '12', '10', '99', '09', '38', '43', 'am', 'to', 'george_weissman', 'hou', 'ect', 'ect', 'cc', 'subject', 'hi', 'a', '1', '2', 'effective', '12', '11', '99', 'mscf', 'd', 'min', 'ftp', 'time', '4', '500', '9', '925', '24_hours', '6', '000', '9', '908', '24_hours', '8', '000', '9', '878', '24_hours', '10', '000', '9', '840', '24_hours', '12', '000', '9', '793', '24_hours', '14', '000', '9', '738', '24_hours', '16', '000', '9', '674', '24_hours', '18', '000', '9', '602', '24_hours', '20', '000', '9', '521', '24_hours', '22', '000', '9', '431', '24_hours', '24', '000', '9', '332', '24_hours', '26', '000', '9', '224', '24_hours', '28', '000', '9', '108', '24_hours', '30', '000', '8', '982', '24_hours', '32', '000', '8', '847', '24_hours', '34', '000', '8', '703', '24_hours', '36', '000', '8', '549', '24_hours']\n"
     ]
    }
   ],
   "source": [
    "print(trigram_mod[bigram_mod[words[2]]])"
   ]
  },
  {
   "cell_type": "markdown",
   "metadata": {},
   "source": [
    "From this, we can see that it has worked correctly as many words have been combined into bigrams/trigrams e.g. '24 hours' and 'via_email'. Adjustment of the min_count and threshold variables allows us to control which words are turned into bigrams/trigrams and only identify those that actually should be together. As I'm not 100% sure how to empirically figure these out I'm working 'by eye' and finding combinations that produce the 'most sensible' results. The current settings seen to combine 'correct' words such as those given above and names."
   ]
  },
  {
   "cell_type": "code",
   "execution_count": 21,
   "metadata": {},
   "outputs": [],
   "source": [
    "def make_bigrams(texts):\n",
    "    return [bigram_mod[doc] for doc in texts]\n",
    "\n",
    "def make_trigrams(texts):\n",
    "    return [trigram_mod[bigram_mod[doc]] for doc in texts]"
   ]
  },
  {
   "cell_type": "markdown",
   "metadata": {},
   "source": [
    "We now process our text using the above functions and create a bag of words."
   ]
  },
  {
   "cell_type": "code",
   "execution_count": 22,
   "metadata": {},
   "outputs": [],
   "source": [
    "#df['E-mails'] = df['E-mails'].map(make_bigrams) # currently not compatible with this, going to look into it"
   ]
  },
  {
   "cell_type": "code",
   "execution_count": 23,
   "metadata": {},
   "outputs": [
    {
     "name": "stdout",
     "output_type": "stream",
     "text": [
      "original document: \n",
      "['Subject', 'vastar', 'resources', '', 'inc', '\\ngary', '', 'production', 'from', 'the', 'high', 'island', 'larger', 'block', 'a', '', '1', '', '2', 'commenced', 'on\\nsaturday', 'at', '2', '', '00', 'p', '', 'm', '', 'at', 'about', '6', '', '500', 'gross', '', 'carlos', 'expects', 'between', '9', '', '500', 'and\\n10', '', '000', 'gross', 'for', 'tomorrow', '', 'vastar', 'owns', '68', '', 'of', 'the', 'gross', 'production', '\\ngeorge', 'x', '3', '', '6992\\n', '', '', '', '', '', '', '', '', '', '', '', '', '', '', '', '', '', '', '', '', '', 'forwarded', 'by', 'george', 'weissman', '', 'hou', '', 'ect', 'on', '12', '', '13', '', '99', '10', '', '16\\nam', '', '', '', '', '', '', '', '', '', '', '', '', '', '', '', '', '', '', '', '', '', '', '', '', '', '', '\\ndaren', 'j', 'farmer\\n12', '', '10', '', '99', '10', '', '38', 'am\\nto', '', 'carlos', 'j', 'rodriguez', '', 'hou', '', 'ect', '', 'ect\\ncc', '', 'george', 'weissman', '', 'hou', '', 'ect', '', 'ect', '', 'melissa', 'graves', '', 'hou', '', 'ect', '', 'ect\\nsubject', '', 'vastar', 'resources', '', 'inc', '\\ncarlos', '\\nplease', 'call', 'linda', 'and', 'get', 'everything', 'set', 'up', '\\ni', '', 'm', 'going', 'to', 'estimate', '4', '', '500', 'coming', 'up', 'tomorrow', '', 'with', 'a', '2', '', '000', 'increase', 'each\\nfollowing', 'day', 'based', 'on', 'my', 'conversations', 'with', 'bill', 'fischer', 'at', 'bmar', '\\nd', '\\n', '', '', '', '', '', '', '', '', '', '', '', '', '', '', '', '', '', '', '', '', '', 'forwarded', 'by', 'daren', 'j', 'farmer', '', 'hou', '', 'ect', 'on', '12', '', '10', '', '99', '10', '', '34\\nam', '', '', '', '', '', '', '', '', '', '', '', '', '', '', '', '', '', '', '', '', '', '', '', '', '', '', '\\nenron', 'north', 'america', 'corp', '\\nfrom', '', 'george', 'weissman', '12', '', '10', '', '99', '10', '', '00', 'am\\nto', '', 'daren', 'j', 'farmer', '', 'hou', '', 'ect', '', 'ect\\ncc', '', 'gary', 'bryan', '', 'hou', '', 'ect', '', 'ect', '', 'melissa', 'graves', '', 'hou', '', 'ect', '', 'ect\\nsubject', '', 'vastar', 'resources', '', 'inc', '\\ndarren', '\\nthe', 'attached', 'appears', 'to', 'be', 'a', 'nomination', 'from', 'vastar', 'resources', '', 'inc', '', 'for', 'the\\nhigh', 'island', 'larger', 'block', 'a', '', '1', '', '2', '', 'previously', '', 'erroneously', 'referred', 'to', 'as', 'the\\n', '1', 'well', '', '', 'vastar', 'now', 'expects', 'the', 'well', 'to', 'commence', 'production', 'sometime\\ntomorrow', '', 'i', 'told', 'linda', 'harris', 'that', 'we', '', 'd', 'get', 'her', 'a', 'telephone', 'number', 'in', 'gas\\ncontrol', 'so', 'she', 'can', 'provide', 'notification', 'of', 'the', 'turn', '', 'on', 'tomorrow', '', 'linda', '', 's\\nnumbers', '', 'for', 'the', 'record', '', 'are', '281', '', '584', '', '3359', 'voice', 'and', '713', '', '312', '', '1689', 'fax', '\\nwould', 'you', 'please', 'see', 'that', 'someone', 'contacts', 'linda', 'and', 'advises', 'her', 'how', 'to\\nsubmit', 'future', 'nominations', 'via', 'e', '', 'mail', '', 'fax', 'or', 'voice', '', 'thanks', '\\ngeorge', 'x', '3', '', '6992\\n', '', '', '', '', '', '', '', '', '', '', '', '', '', '', '', '', '', '', '', '', '', 'forwarded', 'by', 'george', 'weissman', '', 'hou', '', 'ect', 'on', '12', '', '10', '', '99', '09', '', '44\\nam', '', '', '', '', '', '', '', '', '', '', '', '', '', '', '', '', '', '', '', '', '', '', '', '', '', '', '\\n', 'linda', 'harris', '', 'on', '12', '', '10', '', '99', '09', '', '38', '', '43', 'am\\nto', '', 'george', 'weissman', '', 'hou', '', 'ect', '', 'ect\\ncc', '\\nsubject', '', 'hi', 'a', '', '1', '', '2\\neffective', '12', '', '11', '', '99\\n', '', '', '', '', '', '', '', '', '', '', '', '', '', '', '', '', '', '', '', '', '', '', '', '', '', '', '', '', '', '', '', '\\n', '', '', '\\n', 'mscf', '', 'd', '', 'min', 'ftp', '', 'time', '\\n', '', '', '\\n', '', '', '', '', '', '', '', '', '', '', '', '', '', '', '', '', '', '', '', '', '', '', '', '', '', '', '', '', '', '', '', '\\n', '', '', '\\n', '4', '', '500', '', '9', '', '925', '', '24', 'hours', '\\n', '', '', '\\n', '', '', '', '', '', '', '', '', '', '', '', '', '', '', '', '', '', '', '', '', '', '', '', '', '', '', '', '', '', '', '', '\\n', '', '', '\\n', '6', '', '000', '', '9', '', '908', '', '24', 'hours', '\\n', '', '', '\\n', '', '', '', '', '', '', '', '', '', '', '', '', '', '', '', '', '', '', '', '', '', '', '', '', '', '', '', '', '', '', '', '\\n', '', '', '\\n', '8', '', '000', '', '9', '', '878', '', '24', 'hours', '\\n', '', '', '\\n', '', '', '', '', '', '', '', '', '', '', '', '', '', '', '', '', '', '', '', '', '', '', '', '', '', '', '', '', '', '', '', '\\n', '', '', '\\n', '10', '', '000', '', '9', '', '840', '', '24', 'hours', '\\n', '', '', '\\n', '', '', '', '', '', '', '', '', '', '', '', '', '', '', '', '', '', '', '', '', '', '', '', '', '', '', '', '', '', '', '', '\\n', '', '', '\\n', '12', '', '000', '', '9', '', '793', '', '24', 'hours', '\\n', '', '', '\\n', '', '', '', '', '', '', '', '', '', '', '', '', '', '', '', '', '', '', '', '', '', '', '', '', '', '', '', '', '', '', '', '\\n', '', '', '\\n', '14', '', '000', '', '9', '', '738', '', '24', 'hours', '\\n', '', '', '\\n', '', '', '', '', '', '', '', '', '', '', '', '', '', '', '', '', '', '', '', '', '', '', '', '', '', '', '', '', '', '', '', '\\n', '', '', '\\n', '16', '', '000', '', '9', '', '674', '', '24', 'hours', '\\n', '', '', '\\n', '', '', '', '', '', '', '', '', '', '', '', '', '', '', '', '', '', '', '', '', '', '', '', '', '', '', '', '', '', '', '', '\\n', '', '', '\\n', '18', '', '000', '', '9', '', '602', '', '24', 'hours', '\\n', '', '', '\\n', '', '', '', '', '', '', '', '', '', '', '', '', '', '', '', '', '', '', '', '', '', '', '', '', '', '', '', '', '', '', '', '\\n', '', '', '\\n', '20', '', '000', '', '9', '', '521', '', '24', 'hours', '\\n', '', '', '\\n', '', '', '', '', '', '', '', '', '', '', '', '', '', '', '', '', '', '', '', '', '', '', '', '', '', '', '', '', '', '', '', '\\n', '', '', '\\n', '22', '', '000', '', '9', '', '431', '', '24', 'hours', '\\n', '', '', '\\n', '', '', '', '', '', '', '', '', '', '', '', '', '', '', '', '', '', '', '', '', '', '', '', '', '', '', '', '', '', '', '', '\\n', '', '', '\\n', '24', '', '000', '', '9', '', '332', '', '24', 'hours', '\\n', '', '', '\\n', '', '', '', '', '', '', '', '', '', '', '', '', '', '', '', '', '', '', '', '', '', '', '', '', '', '', '', '', '', '', '', '\\n', '', '', '\\n', '26', '', '000', '', '9', '', '224', '', '24', 'hours', '\\n', '', '', '\\n', '', '', '', '', '', '', '', '', '', '', '', '', '', '', '', '', '', '', '', '', '', '', '', '', '', '', '', '', '', '', '', '\\n', '', '', '\\n', '28', '', '000', '', '9', '', '108', '', '24', 'hours', '\\n', '', '', '\\n', '', '', '', '', '', '', '', '', '', '', '', '', '', '', '', '', '', '', '', '', '', '', '', '', '', '', '', '', '', '', '', '\\n', '', '', '\\n', '30', '', '000', '', '8', '', '982', '', '24', 'hours', '\\n', '', '', '\\n', '', '', '', '', '', '', '', '', '', '', '', '', '', '', '', '', '', '', '', '', '', '', '', '', '', '', '', '', '', '', '', '\\n', '', '', '\\n', '32', '', '000', '', '8', '', '847', '', '24', 'hours', '\\n', '', '', '\\n', '', '', '', '', '', '', '', '', '', '', '', '', '', '', '', '', '', '', '', '', '', '', '', '', '', '', '', '', '', '', '', '\\n', '', '', '\\n', '34', '', '000', '', '8', '', '703', '', '24', 'hours', '\\n', '', '', '\\n', '', '', '', '', '', '', '', '', '', '', '', '', '', '', '', '', '', '', '', '', '', '', '', '', '', '', '', '', '', '', '', '\\n', '', '', '\\n', '36', '', '000', '', '8', '', '549', '', '24', 'hours', '\\n', '', '', '\\n', '', '', '', '', '', '', '', '', '', '', '', '', '', '', '', '', '', '', '', '', '', '', '', '', '', '', '', '', '', '', '', '']\n",
      "\n",
      "\n",
      " method removing stop words: \n",
      "['vastar', 'resource', 'production', 'island', 'larger', 'block', 'commence', 'saturday', 'gross', 'carlos', 'expect', 'gross', 'tomorrow', 'vastar', 'gross', 'production', 'george', 'forward', 'george', 'weissman', 'daren', 'farmer', 'carlos', 'rodriguez', 'george', 'weissman', 'melissa', 'graves', 'subject', 'vastar', 'resource', 'carlos', 'please', 'linda', 'everything', 'going', 'estimate', 'coming', 'tomorrow', 'increase', 'following', 'base', 'conversation', 'fischer', 'forward', 'daren', 'farmer', 'enron', 'north', 'america', 'george', 'weissman', 'daren', 'farmer', 'bryan', 'melissa', 'graves', 'subject', 'vastar', 'resource', 'darren', 'attach', 'appear', 'nomination', 'vastar', 'resource', 'island', 'larger', 'block', 'previously', 'erroneously', 'refer', 'vastar', 'expect', 'commence', 'production', 'sometime', 'tomorrow', 'linda', 'harris', 'telephone', 'number', 'control', 'provide', 'notification', 'tomorrow', 'linda', 'numbers', 'record', 'voice', 'would', 'please', 'someone', 'contact', 'linda', 'advise', 'submit', 'future', 'nomination', 'voice', 'thanks', 'george', 'forward', 'george', 'weissman', 'linda', 'harris', 'george', 'weissman', 'subject', 'effective', 'hours', 'hours', 'hours', 'hours', 'hours', 'hours', 'hours', 'hours', 'hours', 'hours', 'hours', 'hours', 'hours', 'hours', 'hours', 'hours', 'hours']\n"
     ]
    }
   ],
   "source": [
    "print('original document: ')\n",
    "words = []\n",
    "for word in email_sample.split(' '):\n",
    "    words.append(word)\n",
    "print(words)\n",
    "\n",
    "print('\\n\\n method removing stop words: ')\n",
    "print(prepare_text_for_lda(email_sample))"
   ]
  },
  {
   "cell_type": "code",
   "execution_count": 24,
   "metadata": {},
   "outputs": [
    {
     "data": {
      "text/plain": [
       "1                                 [christmas, picture]\n",
       "2    [vastar, resource, production, island, larger,...\n",
       "3    [calpine, daily, nomination, calpine, daily, n...\n",
       "4    [issue, already, stella, forward, stella, morr...\n",
       "5    [meter, allocation, forward, lauri, allen, kim...\n",
       "Name: E-mails, dtype: object"
      ]
     },
     "execution_count": 24,
     "metadata": {},
     "output_type": "execute_result"
    }
   ],
   "source": [
    "processed_text = df['E-mails'].map(prepare_text_for_lda) \n",
    "processed_text.head()"
   ]
  },
  {
   "cell_type": "code",
   "execution_count": 25,
   "metadata": {},
   "outputs": [
    {
     "name": "stdout",
     "output_type": "stream",
     "text": [
      "0 christmas\n",
      "1 picture\n",
      "2 advise\n",
      "3 america\n",
      "4 appear\n",
      "5 attach\n",
      "6 base\n",
      "7 block\n",
      "8 bryan\n",
      "9 carlos\n",
      "10 coming\n"
     ]
    }
   ],
   "source": [
    "dictionary = gensim.corpora.Dictionary(processed_text)\n",
    "\n",
    "count = 0\n",
    "for k,v  in dictionary.iteritems():\n",
    "    print(k, v)\n",
    "    count += 1\n",
    "    if count > 10:\n",
    "        break"
   ]
  },
  {
   "cell_type": "code",
   "execution_count": 26,
   "metadata": {},
   "outputs": [],
   "source": [
    "bow_corpus = [dictionary.doc2bow(doc) for doc in processed_text]"
   ]
  },
  {
   "cell_type": "markdown",
   "metadata": {},
   "source": [
    "### Bigram/Trigram"
   ]
  },
  {
   "cell_type": "markdown",
   "metadata": {},
   "source": [
    "In this section we create our bigram's and trigram's from the text using the functions already learned above."
   ]
  },
  {
   "cell_type": "code",
   "execution_count": 27,
   "metadata": {},
   "outputs": [],
   "source": [
    "def make_bigrams(texts):\n",
    "    return [bigram_mod[doc] for doc in texts]\n",
    "\n",
    "def make_trigrams(texts):\n",
    "    return [trigram_mod[bigram_mod[doc]] for doc in texts]"
   ]
  },
  {
   "cell_type": "code",
   "execution_count": 28,
   "metadata": {},
   "outputs": [],
   "source": [
    "words_bigrams = make_bigrams(processed_text)"
   ]
  },
  {
   "cell_type": "markdown",
   "metadata": {},
   "source": [
    "### LDA Model"
   ]
  },
  {
   "cell_type": "markdown",
   "metadata": {},
   "source": [
    "We finally create our LDA Model. We use a chunksize of 2772 with 10 passes of the data which allows us to perform a sort of 10-fold CV (not completely but similar), since chunksize defines the number of documents to be used in each training chunk and passes gives the number of training passes to complete. We do this for 2 topics initially to understand how well the model performs at differentiating spam from normal mail."
   ]
  },
  {
   "cell_type": "code",
   "execution_count": 29,
   "metadata": {},
   "outputs": [],
   "source": [
    "lda_model = gensim.models.LdaMulticore(bow_corpus, num_topics = 2, id2word=dictionary, chunksize = 2772, passes=10, workers = 8)"
   ]
  },
  {
   "cell_type": "code",
   "execution_count": 30,
   "metadata": {},
   "outputs": [],
   "source": [
    "import pyLDAvis.gensim\n",
    "pyLDAvis.enable_notebook()"
   ]
  },
  {
   "cell_type": "code",
   "execution_count": 31,
   "metadata": {},
   "outputs": [
    {
     "name": "stderr",
     "output_type": "stream",
     "text": [
      "C:\\Users\\corri\\anaconda3\\lib\\site-packages\\ipykernel\\ipkernel.py:287: DeprecationWarning: `should_run_async` will not call `transform_cell` automatically in the future. Please pass the result to `transformed_cell` argument and any exception that happen during thetransform in `preprocessing_exc_tuple` in IPython 7.17 and above.\n",
      "  and should_run_async(code)\n"
     ]
    }
   ],
   "source": [
    "lda_display = pyLDAvis.gensim.prepare(lda_model, bow_corpus, dictionary, mds='mmds')"
   ]
  },
  {
   "cell_type": "code",
   "execution_count": 32,
   "metadata": {},
   "outputs": [
    {
     "name": "stderr",
     "output_type": "stream",
     "text": [
      "C:\\Users\\corri\\anaconda3\\lib\\site-packages\\ipykernel\\ipkernel.py:287: DeprecationWarning: `should_run_async` will not call `transform_cell` automatically in the future. Please pass the result to `transformed_cell` argument and any exception that happen during thetransform in `preprocessing_exc_tuple` in IPython 7.17 and above.\n",
      "  and should_run_async(code)\n"
     ]
    },
    {
     "data": {
      "text/html": [
       "\n",
       "\n",
       "<link rel=\"stylesheet\" type=\"text/css\" href=\"https://cdn.rawgit.com/bmabey/pyLDAvis/files/ldavis.v1.0.0.css\">\n",
       "\n",
       "<div id=\"ldavis_el1190021422026932168363375023\"></div>\n",
       "<script type=\"text/javascript\">\n",
       "\n",
       "var ldavis_el1190021422026932168363375023_data = {\"mdsDat\": {\"x\": [-0.03816383039755367, 0.03816383039755367], \"y\": [0.12047361818785159, -0.12047361818785159], \"topics\": [1, 2], \"cluster\": [1, 1], \"Freq\": [72.20830743732164, 27.79169256267837]}, \"tinfo\": {\"Term\": [\"email\", \"please\", \"money\", \"address\", \"software\", \"claim\", \"click\", \"statement\", \"program\", \"company\", \"receive\", \"market\", \"adobe\", \"contact\", \"energy\", \"order\", \"account\", \"online\", \"lottery\", \"reply\", \"message\", \"number\", \"remove\", \"thank\", \"vince\", \"check\", \"international\", \"agent\", \"visit\", \"professional\", \"wysak\", \"internationa\", \"technoiogies\", \"natura\", \"pubiisher\", \"petroieum\", \"wyoming\", \"shouid\", \"ooking\", \"inciude\", \"barrels\", \"beiieves\", \"newsietter\", \"deveiopment\", \"maiiings\", \"couid\", \"uncertainty\", \"barreis\", \"profiie\", \"socal\", \"biank\", \"specuiative\", \"piaced\", \"potentia\", \"nationa\", \"currentiy\", \"invoive\", \"resuits\", \"piease\", \"technoiogy\", \"statement\", \"market\", \"energy\", \"investor\", \"trading\", \"stocks\", \"dynegy\", \"contract\", \"estimate\", \"risk\", \"expectation\", \"mmbtu\", \"capacity\", \"projection\", \"investment\", \"rating\", \"pipeline\", \"investing\", \"california\", \"trader\", \"meter\", \"differ\", \"objective\", \"belief\", \"louise\", \"potential\", \"meaning\", \"company\", \"agreement\", \"project\", \"expect\", \"section\", \"report\", \"stock\", \"trade\", \"enron\", \"billion\", \"power\", \"position\", \"advice\", \"current\", \"within\", \"forward\", \"share\", \"issue\", \"group\", \"continue\", \"management\", \"business\", \"future\", \"security\", \"information\", \"provide\", \"subject\", \"base\", \"would\", \"include\", \"price\", \"could\", \"product\", \"please\", \"state\", \"interest\", \"thanks\", \"corel\", \"adobe\", \"saave\", \"macromedia\", \"empresas\", \"symantec\", \"photoshop\", \"xanaax\", \"alias\", \"vibrator\", \"powerquest\", \"roxio\", \"corei\", \"shiip\", \"borland\", \"countrieswe\", \"vmware\", \"autodesk\", \"riverdeep\", \"cheaap\", \"extender\", \"intuit\", \"macrmedia\", \"andmanyother\", \"quark\", \"certificao\", \"acrobat\", \"norton\", \"ejaculation\", \"hplno\", \"lottery\", \"kernel\", \"orgasm\", \"windows\", \"penis\", \"premiere\", \"dysfunction\", \"iaagra\", \"linux\", \"medication\", \"unclaimed\", \"batch\", \"remit\", \"graphics\", \"serial\", \"promotional\", \"prize\", \"lucky\", \"winning\", \"popular\", \"husband\", \"studio\", \"winner\", \"prescription\", \"viagra\", \"hello\", \"pill\", \"claim\", \"congratulations\", \"software\", \"friend\", \"click\", \"agent\", \"address\", \"email\", \"reply\", \"download\", \"super\", \"money\", \"promotion\", \"program\", \"search\", \"family\", \"remove\", \"online\", \"please\", \"receive\", \"contact\", \"account\", \"order\", \"check\", \"thank\", \"visit\", \"numbers\", \"vince\", \"message\", \"number\", \"international\", \"professional\", \"offer\", \"country\", \"enron\", \"price\", \"million\", \"would\", \"information\", \"system\", \"business\"], \"Freq\": [9817.0, 17084.0, 6117.0, 4859.0, 4012.0, 3460.0, 3797.0, 11501.0, 4531.0, 29565.0, 6104.0, 10449.0, 2165.0, 5400.0, 9147.0, 5568.0, 5091.0, 3575.0, 1619.0, 1882.0, 7069.0, 5261.0, 2093.0, 2769.0, 4425.0, 2234.0, 3455.0, 1517.0, 2281.0, 2587.0, 1343.0961708041607, 583.7701274805394, 433.76352275117955, 394.13080937676983, 586.7927839345872, 310.7403963918189, 850.509049954237, 693.78167937286, 1543.037490202226, 585.4134900575062, 314.72320108185437, 482.411023307895, 793.2785012515346, 297.2815600943451, 417.6723346516854, 799.453372110512, 1853.7215636153983, 223.12730020777542, 312.7904924145846, 493.76410500370434, 297.75077731645507, 409.91223619370095, 456.43030535772834, 595.9460984643742, 371.4615201711713, 339.3976185272668, 511.7167599974775, 817.2197837748938, 784.4981565803469, 864.8496353174213, 11462.558828704292, 10390.437974367724, 9104.255735586303, 4575.4094013666345, 5312.24756681588, 3338.2485088001954, 3009.959654061364, 4333.153790810802, 3007.4354182183547, 2224.2395455442847, 2326.4935659776474, 2051.562051009933, 2539.64967556571, 1753.908910256462, 7558.4023984516225, 1783.3201959060286, 1856.7502600671562, 2030.7151197134406, 2617.8804507067875, 1779.3730574024714, 1754.350313289117, 1725.1890835447487, 1290.5032531432353, 1678.7793115396637, 2240.0445283522854, 2097.8803774496873, 1734.2267321183872, 28359.78196501372, 3144.4592894697403, 5558.889182108887, 4585.429999167617, 2905.466968876726, 10913.00987864979, 7113.892874174477, 3789.92485276025, 39347.13503467845, 3541.2868974240973, 6505.430752855188, 4240.560625914806, 3282.6109490935573, 3748.891041117026, 7209.900328976043, 9228.342414942448, 6376.640606482226, 4252.417383019662, 5364.923594845297, 3788.705256422624, 4469.708475040066, 11005.636384333144, 5750.062840830957, 9233.38122263213, 11688.920547685833, 7169.814072173581, 8901.460638070163, 4898.914094719242, 9636.111841148533, 6573.567242223221, 10271.21904996611, 5681.700213948658, 6435.906513613281, 10288.391971455498, 5412.820293486658, 5401.98743679362, 5284.718706852647, 558.2925654979804, 2158.6632793924123, 334.6672159777676, 497.3330720410398, 166.72867777252264, 243.6280777812044, 500.644868539512, 265.94484660775686, 259.12353892746177, 128.17267561435557, 163.3972492869735, 163.38983353341808, 114.16972204691332, 199.673232683117, 183.47287975219652, 151.94086316577577, 151.9393404953749, 168.96491104294236, 154.96102760044613, 149.98366215217655, 174.41306060759953, 165.5033814139044, 151.88865068149528, 232.2326449697945, 199.8666234474667, 116.39949268570793, 403.3527855425175, 359.0035571871644, 161.1445107343458, 96.63571906671059, 1593.763812154706, 361.18102235417314, 245.20224001319642, 1072.1957785320287, 380.0929839299799, 308.5501872868918, 213.4764839592807, 183.14067026572704, 446.2709361898084, 814.4910429619167, 390.55221853705126, 676.2321986121431, 355.3512636908042, 480.5566847610604, 375.47213257740293, 762.7208537508387, 1172.585182346297, 666.5688905575187, 1129.4825909820509, 762.8123069623969, 498.93152725881686, 539.3095847149266, 1092.1915327301158, 784.9901059621332, 848.508662061356, 1097.3608011426486, 667.0032816889814, 2927.3511878583386, 922.4198737137858, 3177.3916142711014, 895.78890308058, 2950.4959639267, 1298.940603142676, 3593.57244462693, 6548.520092387013, 1540.2904173010213, 951.6216699087067, 720.942079007179, 3994.736908711184, 1124.1242789710454, 3016.053271081755, 1023.8109389361921, 1208.5566549091411, 1563.6579914323142, 2304.0540794311364, 6795.744113236307, 3221.5517525342293, 2873.143377687027, 2727.6428523919344, 2848.005507427983, 1502.9806685605013, 1719.3166577920024, 1486.104180230962, 1376.3682302992045, 2084.2225038967454, 2690.1248116393244, 2282.374228522802, 1773.15828316706, 1550.4143389636306, 2050.6796789998643, 1478.698469326122, 3920.899994075566, 2469.497449033745, 1800.4129209989646, 1965.8473638010553, 2012.9977942627447, 1653.548826924728, 1569.7732217372525], \"Total\": [9817.0, 17084.0, 6117.0, 4859.0, 4012.0, 3460.0, 3797.0, 11501.0, 4531.0, 29565.0, 6104.0, 10449.0, 2165.0, 5400.0, 9147.0, 5568.0, 5091.0, 3575.0, 1619.0, 1882.0, 7069.0, 5261.0, 2093.0, 2769.0, 4425.0, 2234.0, 3455.0, 1517.0, 2281.0, 2587.0, 1343.9003583520578, 584.6344775811959, 434.42161407875005, 394.7388014156048, 587.713303664566, 311.23097290781106, 851.8637874629951, 695.0033187980507, 1545.7654230579476, 586.4809639174379, 315.3096290094402, 483.34645427450585, 794.8378119986314, 297.8684003815618, 418.51868140873114, 801.0792818892575, 1857.5831643585261, 223.5950634561471, 313.44780392750414, 494.8235991009047, 298.391797899712, 410.8139863412305, 457.4456134087484, 597.2782306560855, 372.30456033248066, 340.1868711376149, 512.9067821270952, 819.1689695197905, 786.4025499533078, 866.9997469020807, 11501.8072623214, 10449.672183461245, 9147.732726611734, 4592.717831188042, 5348.740129735532, 3352.5741435406635, 3022.841702821364, 4371.2142770820055, 3023.027667734292, 2231.398732769484, 2335.199245113799, 2057.3376720570736, 2552.704344006042, 1758.3348917621813, 7690.347298197425, 1791.0668622080993, 1866.2283224817318, 2044.2071534324782, 2642.2374031779277, 1789.8153566601225, 1764.9149804715462, 1735.4775974507002, 1294.88617162668, 1689.119412443629, 2261.2176293206608, 2116.4545328535437, 1746.789752370808, 29565.09642457218, 3191.3071008126935, 5711.7149143760225, 4697.425615221154, 2952.4353123676906, 11430.81842742926, 7384.82243224343, 3875.4272242995125, 43268.03502875402, 3615.7809489486376, 6803.390081721119, 4379.08755324264, 3359.5217691302455, 3864.210472304108, 7640.836509675797, 9936.202174802807, 6775.366938174966, 4436.884973363968, 5699.292018721348, 3926.796211831403, 4694.798540498418, 12575.409606070396, 6182.081628562297, 10444.01707816195, 13701.918341948578, 8021.837568951443, 10339.180071692794, 5249.512046356031, 11601.959204949588, 7450.867160643169, 12740.716498999855, 6354.06603858014, 7521.4381882193475, 17084.136084691803, 6332.996285707704, 6435.016041164821, 6441.131223297756, 559.8604527590303, 2165.8704429569007, 335.82354062609954, 499.2102818590378, 167.38993648588814, 244.69244346439987, 502.94187093898285, 267.3505594584155, 260.49334139642224, 128.8570761306663, 164.28839113896674, 164.29206727495617, 114.81032668139046, 200.79442436351854, 184.51152082561347, 152.81002774289792, 152.81261899515613, 169.939621453878, 155.86418084905748, 150.8609603766057, 175.46500111894315, 166.51367142228858, 152.82871498134725, 233.67283653394404, 201.1253174452695, 117.14710460930387, 405.99980109054104, 361.37849891489935, 162.23507396385924, 97.32420578303463, 1619.4170452040291, 364.5240688351918, 246.99513299675445, 1097.1590343304365, 385.5663581299093, 312.34675336628425, 215.33433888774155, 184.48659079608544, 454.9013407490916, 840.5605545409198, 397.54000702533455, 696.164847905259, 361.09457152277116, 492.47825387259434, 383.30220252135973, 790.865185705734, 1232.7804224000229, 689.6232126296431, 1201.7931944175893, 800.5522813543835, 516.9484327282313, 561.5343886015388, 1174.1523764070464, 831.800903615181, 903.3401500985924, 1197.5861977451052, 706.8543862805944, 3460.9869787458533, 1008.9039055758811, 4012.398104102683, 997.0682566334596, 3797.7897418999137, 1517.8126041637245, 4859.721098203503, 9817.808739331334, 1882.6464871066773, 1084.4269651594427, 794.7406207786089, 6117.669022263234, 1354.2644544200932, 4531.529647732976, 1226.316207162211, 1510.3453518947363, 2093.538594943499, 3575.271982285851, 17084.136084691803, 6104.5062003459225, 5400.184437232927, 5091.474234614036, 5568.856563896461, 2234.7304983388417, 2769.4033588821794, 2281.522773471143, 2071.144214095103, 4425.149490002382, 7069.249266621687, 5261.689108602241, 3455.742551664185, 2587.548748164292, 5122.8923814597965, 2587.4461113767093, 43268.03502875402, 12740.716498999855, 6471.250903786629, 11601.959204949588, 13701.918341948578, 6372.659921011047, 12575.409606070396], \"Category\": [\"Default\", \"Default\", \"Default\", \"Default\", \"Default\", \"Default\", \"Default\", \"Default\", \"Default\", \"Default\", \"Default\", \"Default\", \"Default\", \"Default\", \"Default\", \"Default\", \"Default\", \"Default\", \"Default\", \"Default\", \"Default\", \"Default\", \"Default\", \"Default\", \"Default\", \"Default\", \"Default\", \"Default\", \"Default\", \"Default\", \"Topic1\", \"Topic1\", \"Topic1\", \"Topic1\", \"Topic1\", \"Topic1\", \"Topic1\", \"Topic1\", \"Topic1\", \"Topic1\", \"Topic1\", \"Topic1\", \"Topic1\", \"Topic1\", \"Topic1\", \"Topic1\", \"Topic1\", \"Topic1\", \"Topic1\", \"Topic1\", \"Topic1\", \"Topic1\", \"Topic1\", \"Topic1\", \"Topic1\", \"Topic1\", \"Topic1\", \"Topic1\", \"Topic1\", \"Topic1\", \"Topic1\", \"Topic1\", \"Topic1\", \"Topic1\", \"Topic1\", \"Topic1\", \"Topic1\", \"Topic1\", \"Topic1\", \"Topic1\", \"Topic1\", \"Topic1\", \"Topic1\", \"Topic1\", \"Topic1\", \"Topic1\", \"Topic1\", \"Topic1\", \"Topic1\", \"Topic1\", \"Topic1\", \"Topic1\", \"Topic1\", \"Topic1\", \"Topic1\", \"Topic1\", \"Topic1\", \"Topic1\", \"Topic1\", \"Topic1\", \"Topic1\", \"Topic1\", \"Topic1\", \"Topic1\", \"Topic1\", \"Topic1\", \"Topic1\", \"Topic1\", \"Topic1\", \"Topic1\", \"Topic1\", \"Topic1\", \"Topic1\", \"Topic1\", \"Topic1\", \"Topic1\", \"Topic1\", \"Topic1\", \"Topic1\", \"Topic1\", \"Topic1\", \"Topic1\", \"Topic1\", \"Topic1\", \"Topic1\", \"Topic1\", \"Topic1\", \"Topic1\", \"Topic1\", \"Topic1\", \"Topic1\", \"Topic1\", \"Topic1\", \"Topic1\", \"Topic2\", \"Topic2\", \"Topic2\", \"Topic2\", \"Topic2\", \"Topic2\", \"Topic2\", \"Topic2\", \"Topic2\", \"Topic2\", \"Topic2\", \"Topic2\", \"Topic2\", \"Topic2\", \"Topic2\", \"Topic2\", \"Topic2\", \"Topic2\", \"Topic2\", \"Topic2\", \"Topic2\", \"Topic2\", \"Topic2\", \"Topic2\", \"Topic2\", \"Topic2\", \"Topic2\", \"Topic2\", \"Topic2\", \"Topic2\", \"Topic2\", \"Topic2\", \"Topic2\", \"Topic2\", \"Topic2\", \"Topic2\", \"Topic2\", \"Topic2\", \"Topic2\", \"Topic2\", \"Topic2\", \"Topic2\", \"Topic2\", \"Topic2\", \"Topic2\", \"Topic2\", \"Topic2\", \"Topic2\", \"Topic2\", \"Topic2\", \"Topic2\", \"Topic2\", \"Topic2\", \"Topic2\", \"Topic2\", \"Topic2\", \"Topic2\", \"Topic2\", \"Topic2\", \"Topic2\", \"Topic2\", \"Topic2\", \"Topic2\", \"Topic2\", \"Topic2\", \"Topic2\", \"Topic2\", \"Topic2\", \"Topic2\", \"Topic2\", \"Topic2\", \"Topic2\", \"Topic2\", \"Topic2\", \"Topic2\", \"Topic2\", \"Topic2\", \"Topic2\", \"Topic2\", \"Topic2\", \"Topic2\", \"Topic2\", \"Topic2\", \"Topic2\", \"Topic2\", \"Topic2\", \"Topic2\", \"Topic2\", \"Topic2\", \"Topic2\", \"Topic2\", \"Topic2\", \"Topic2\", \"Topic2\", \"Topic2\", \"Topic2\", \"Topic2\", \"Topic2\"], \"logprob\": [30.0, 29.0, 28.0, 27.0, 26.0, 25.0, 24.0, 23.0, 22.0, 21.0, 20.0, 19.0, 18.0, 17.0, 16.0, 15.0, 14.0, 13.0, 12.0, 11.0, 10.0, 9.0, 8.0, 7.0, 6.0, 5.0, 4.0, 3.0, 2.0, 1.0, -7.342899799346924, -8.17609977722168, -8.473099708557129, -8.568900108337402, -8.170999526977539, -8.806699752807617, -7.799799919128418, -8.003499984741211, -7.204100131988525, -8.173299789428711, -8.793899536132812, -8.366800308227539, -7.869500160217285, -8.85099983215332, -8.510899543762207, -7.861700057983398, -7.020699977874756, -9.137900352478027, -8.800100326538086, -8.343600273132324, -8.84939956665039, -8.52970027923584, -8.422200202941895, -8.155500411987305, -8.628199577331543, -8.718500137329102, -8.307900428771973, -7.839700222015381, -7.8805999755859375, -7.783100128173828, -5.198800086975098, -5.296999931335449, -5.429100036621094, -6.117199897766113, -5.967899799346924, -6.432400226593018, -6.535900115966797, -6.171599864959717, -6.536799907684326, -6.838500022888184, -6.793499946594238, -6.919300079345703, -6.7058000564575195, -7.076000213623047, -5.615200042724609, -7.0594000816345215, -7.019000053405762, -6.929500102996826, -6.67549991607666, -7.061600208282471, -7.075799942016602, -7.09250020980835, -7.382800102233887, -7.119800090789795, -6.831399917602539, -6.896900177001953, -7.087299823760986, -4.292900085449219, -6.492199897766113, -5.922500133514404, -6.114999771118164, -6.571300029754639, -5.247900009155273, -5.67579984664917, -6.305500030517578, -3.9655001163482666, -6.3734002113342285, -5.765200138092041, -6.19320011138916, -6.44920015335083, -6.316400051116943, -5.662399768829346, -5.415599822998047, -5.785200119018555, -6.190400123596191, -5.958000183105469, -6.305799961090088, -6.140600204467773, -5.239500045776367, -5.888700008392334, -5.414999961853027, -5.179200172424316, -5.668000221252441, -5.451700210571289, -6.048900127410889, -5.372399806976318, -5.754799842834473, -5.308499813079834, -5.900599956512451, -5.776000022888184, -5.3069000244140625, -5.949100017547607, -5.951099872589111, -5.973100185394287, -7.265900135040283, -5.913599967956543, -7.777699947357178, -7.3815999031066895, -8.47439956665039, -8.095199584960938, -7.374899864196777, -8.007499694824219, -8.033499717712402, -8.73740005493164, -8.494600296020508, -8.49470043182373, -8.853099822998047, -8.294099807739258, -8.378700256347656, -8.567299842834473, -8.567299842834473, -8.461099624633789, -8.547599792480469, -8.580300331115723, -8.429400444030762, -8.481800079345703, -8.567700386047363, -8.143099784851074, -8.29319953918457, -8.833800315856934, -7.591000080108643, -7.707499980926514, -8.508500099182129, -9.01990032196045, -6.2170000076293945, -7.701399803161621, -8.088700294494629, -6.61329984664917, -7.650400161743164, -7.85890007019043, -8.227299690246582, -8.380599975585938, -7.4899001121521, -6.888199806213379, -7.623199939727783, -7.0742998123168945, -7.717700004577637, -7.415900230407715, -7.662600040435791, -6.95389986038208, -6.523799896240234, -7.088699817657471, -6.561299800872803, -6.953800201416016, -7.378300189971924, -7.30049991607666, -6.594900131225586, -6.925099849700928, -6.847300052642822, -6.590099811553955, -7.0879998207092285, -5.609000205993652, -6.763800144195557, -5.5269999504089355, -6.793099880218506, -5.601099967956543, -6.421500205993652, -5.403900146484375, -4.803800106048584, -6.251100063323975, -6.732600212097168, -7.010300159454346, -5.298099994659424, -6.566100120544434, -5.579100131988525, -6.6595001220703125, -6.493599891662598, -6.236000061035156, -5.848400115966797, -4.7667999267578125, -5.513199806213379, -5.627600193023682, -5.679599761962891, -5.63640022277832, -6.275599956512451, -6.14109992980957, -6.286900043487549, -6.36359977722168, -5.948699951171875, -5.69350004196167, -5.857800006866455, -6.110300064086914, -6.244500160217285, -5.964900016784668, -6.291900157928467, -5.316699981689453, -5.7789998054504395, -6.09499979019165, -6.0071001052856445, -5.983399868011475, -6.180099964141846, -6.232100009918213], \"loglift\": [30.0, 29.0, 28.0, 27.0, 26.0, 25.0, 24.0, 23.0, 22.0, 21.0, 20.0, 19.0, 18.0, 17.0, 16.0, 15.0, 14.0, 13.0, 12.0, 11.0, 10.0, 9.0, 8.0, 7.0, 6.0, 5.0, 4.0, 3.0, 2.0, 1.0, 0.325, 0.3241, 0.3241, 0.3241, 0.324, 0.324, 0.324, 0.3239, 0.3238, 0.3238, 0.3238, 0.3237, 0.3237, 0.3236, 0.3236, 0.3236, 0.3235, 0.3235, 0.3235, 0.3235, 0.3235, 0.3234, 0.3234, 0.3234, 0.3233, 0.3233, 0.3233, 0.3232, 0.3232, 0.3231, 0.3222, 0.3199, 0.3209, 0.3218, 0.3188, 0.3213, 0.3213, 0.3169, 0.3204, 0.3224, 0.3219, 0.3228, 0.3205, 0.3231, 0.3083, 0.3213, 0.3205, 0.319, 0.3164, 0.3198, 0.3196, 0.3197, 0.3222, 0.3195, 0.3162, 0.3168, 0.3184, 0.284, 0.3108, 0.2985, 0.3015, 0.3096, 0.2793, 0.2882, 0.3033, 0.2306, 0.3048, 0.2808, 0.2935, 0.3025, 0.2953, 0.2676, 0.2517, 0.265, 0.2832, 0.2652, 0.2898, 0.2765, 0.1923, 0.2532, 0.2024, 0.1667, 0.2133, 0.1759, 0.2565, 0.14, 0.2003, 0.1102, 0.2138, 0.1698, -0.1815, 0.1686, 0.1506, 0.1277, 1.2776, 1.2771, 1.277, 1.2767, 1.2765, 1.2761, 1.2759, 1.2752, 1.2752, 1.2751, 1.275, 1.2749, 1.2748, 1.2748, 1.2748, 1.2747, 1.2747, 1.2747, 1.2746, 1.2746, 1.2744, 1.2743, 1.2743, 1.2743, 1.2742, 1.274, 1.2739, 1.2738, 1.2737, 1.2733, 1.2645, 1.2712, 1.2731, 1.2574, 1.2661, 1.2682, 1.2718, 1.2731, 1.2613, 1.2489, 1.2627, 1.2514, 1.2644, 1.2559, 1.2598, 1.2442, 1.2304, 1.2464, 1.2184, 1.2321, 1.245, 1.24, 1.2081, 1.2225, 1.2178, 1.193, 1.2224, 1.113, 1.1908, 1.0471, 1.1733, 1.028, 1.1247, 0.9786, 0.8755, 1.0797, 1.1498, 1.183, 0.8542, 1.0942, 0.8733, 1.1, 1.0575, 0.9886, 0.8411, 0.3586, 0.6413, 0.6494, 0.6563, 0.6099, 0.8838, 0.8037, 0.8517, 0.8718, 0.5275, 0.3143, 0.4452, 0.6132, 0.7682, 0.3649, 0.7209, -1.1207, -0.3604, 0.0011, -0.4948, -0.6375, -0.0687, -0.8004]}, \"token.table\": {\"Topic\": [1, 2, 1, 2, 1, 2, 1, 2, 1, 2, 1, 2, 1, 2, 1, 2, 1, 2, 1, 2, 1, 1, 2, 1, 2, 1, 2, 1, 2, 1, 2, 1, 2, 1, 2, 1, 2, 1, 2, 1, 2, 1, 2, 1, 2, 1, 2, 1, 2, 1, 2, 1, 2, 1, 2, 1, 2, 1, 2, 1, 2, 1, 2, 1, 2, 1, 2, 1, 2, 1, 2, 1, 2, 1, 2, 1, 2, 1, 2, 1, 2, 1, 2, 1, 2, 1, 2, 1, 2, 1, 2, 1, 2, 1, 2, 1, 2, 1, 2, 1, 2, 1, 2, 1, 2, 1, 2, 1, 2, 1, 2, 1, 2, 1, 2, 1, 2, 1, 2, 1, 2, 1, 2, 1, 2, 1, 2, 1, 2, 1, 2, 1, 2, 1, 2, 1, 2, 1, 2, 1, 2, 1, 2, 1, 2, 1, 2, 1, 2, 1, 2, 1, 2, 1, 2, 1, 2, 1, 2, 1, 2, 1, 2, 1, 2, 1, 2, 1, 2, 1, 2, 1, 2, 1, 2, 1, 2, 1, 2, 1, 2, 1, 2, 1, 2, 1, 2, 1, 2, 1, 2, 1, 2, 1, 2, 1, 2, 1, 2, 1, 2, 1, 2, 1, 2, 1, 2, 1, 2, 1, 2, 1, 1, 2, 1, 2, 1, 2, 1, 2, 1, 2, 1, 2, 1, 2, 1, 2, 1, 2, 1, 2, 1, 2, 1, 2, 1, 2, 1, 2, 1, 2, 1, 2, 1, 2, 1, 2, 1, 2, 1, 2, 1, 2, 1, 2, 1, 2, 1, 2, 1, 2, 1, 2, 1, 2, 1, 2, 1, 2, 1, 2, 1, 2, 1, 2, 1, 2, 1, 2, 1, 2, 1, 2, 1, 2, 1, 2, 1, 2, 1, 2, 1, 2, 1, 2, 1, 2, 1, 2, 1, 2, 1, 2, 1, 2, 1, 2, 1, 2, 1, 2, 1, 2, 1, 2, 1, 2, 1, 2, 1, 2, 1, 2, 1, 2, 1, 2, 1, 2, 1, 2, 1, 2, 1, 2, 1, 2, 1, 2, 1, 2, 1, 2, 1, 2, 1, 2, 1, 2, 1, 2, 1, 2, 1, 2, 1, 2, 1, 2, 1, 2, 1, 2, 1, 2, 1, 2, 1, 2], \"Freq\": [0.4643056001203953, 0.5357976637599147, 0.00738916618171194, 0.9926113237433039, 0.26050877703002406, 0.739548613464381, 0.003231956935726693, 0.9968278606048472, 0.9772224220026243, 0.022919928874261978, 0.14428658676257558, 0.8558368776465098, 0.9851762618518768, 0.01472750773124625, 0.003838869717894964, 0.9942672569347957, 0.004279487572594844, 0.9928411168420038, 0.005884442906514313, 0.9944708512009189, 0.9973386556619404, 0.9990180160041008, 0.0031714857650923835, 0.9332295948155144, 0.0668633573750246, 0.028728827748455633, 0.9710343778978004, 0.9972143081580543, 0.002068909353025009, 0.9940090603606353, 0.005920244552475493, 0.9986869682663205, 0.0033512985512292636, 0.979318174965665, 0.020465841555340075, 0.005419715774524049, 0.991807986737901, 0.8752001202956593, 0.12484682799056743, 0.9908269396426013, 0.009083211058602915, 0.9950231823611407, 0.005092638334919224, 0.008536275850223443, 0.9902079986259195, 0.00662862013806371, 0.9942930207095565, 0.327556276044974, 0.6725643208956229, 0.15429124792416984, 0.845712514370871, 0.2230244583198734, 0.7767675939121919, 0.9592392188658448, 0.040757519701457794, 0.08524102198901817, 0.9138630496962181, 0.46794698021366904, 0.5320188659097235, 0.9649087438211781, 0.0351431529816106, 0.9912577433500891, 0.008693236613732606, 0.008710017895647093, 0.9929420401037687, 0.003572318762905764, 0.9966769348507082, 0.9974043993693686, 0.00249663178815862, 0.8942305549707006, 0.10575905190783365, 0.006544073152597648, 0.9946991191948424, 0.42860796022914327, 0.5716061074651965, 0.9701852491913021, 0.029760283717524604, 0.9965111200980629, 0.002939560826247973, 0.9970846172992859, 0.003357187263633959, 0.9939627008345766, 0.0057621026135337775, 0.12264541944550879, 0.8778830023467997, 0.9957517779348558, 0.004300589074137251, 0.009287882324438014, 0.9891594675526485, 0.00616389523897137, 0.9923871334743906, 0.3329663560162859, 0.667053124977258, 0.005974074792030913, 0.9976704902691625, 0.9952192824256321, 0.004700618315498921, 0.9093780194513508, 0.09062117097285044, 0.9946981405743122, 0.0052927070998300615, 0.9760665469918547, 0.02384284694941935, 0.996060616612031, 0.0038540608553346, 0.0056991422427434745, 0.9916507502373646, 0.1999542684864355, 0.8004791741725182, 0.9287250639284761, 0.0712545887799481, 0.10129697673960694, 0.8986345659276022, 0.9301074210075124, 0.06987937493482528, 0.024366558128482232, 0.9766928716499962, 0.941344992040547, 0.05860377024073489, 0.08350129634784255, 0.9160092209358328, 0.010274936147224313, 0.9966688062807584, 0.03481972061507905, 0.9652800326069136, 0.005420448151190069, 0.9919420116677825, 0.9974748303720795, 0.0017050851801232129, 0.8823134083942685, 0.1177044203166677, 0.8530922246277001, 0.1469137349795158, 0.8394695468423677, 0.16052796036434022, 0.9989147448439563, 0.001710470453499925, 0.4870154459826633, 0.5130590527197041, 0.006005512889472844, 0.9969151396524921, 0.9935392294218803, 0.0063594337678406915, 0.9827904653631903, 0.017164374361992737, 0.9961421903458287, 0.003701511964126577, 0.9982320722620694, 0.0019496720161368544, 0.958330005291124, 0.04147053644721703, 0.008229909233665325, 0.9903324111177275, 0.01978450972507487, 0.9804323708203768, 0.016055160143583817, 0.9843048180335616, 0.9906167239077137, 0.009287031786634816, 0.03335154556688621, 0.9671948214397, 0.006543272971457295, 0.9945774916615088, 0.004006327739388871, 0.9955724432381344, 0.9987606732225542, 0.002389379601010895, 0.9521175320816742, 0.04792537913162789, 0.994289564073054, 0.005646110132849874, 0.9926781386520906, 0.00744222364618061, 0.03093173937266203, 0.9684013788210343, 0.6194434281269409, 0.3805213111809707, 0.9938155771851231, 0.006232594839815481, 0.721807896100394, 0.278153331830595, 0.9974055440049681, 0.00291639047954669, 0.3470276002631138, 0.6530265016726988, 0.9964959861589779, 0.002685973008514765, 0.9981283790370864, 0.0025333207589773765, 0.9976878150851805, 0.002516236608033242, 0.005534363571726988, 0.9934182611249944, 0.5661680001446088, 0.4337010326720367, 0.3355633061523194, 0.6643670636914986, 0.996998831471188, 0.0030890746133886535, 0.599661240419151, 0.4003597669595308, 0.35549742964936215, 0.6444264971771286, 0.9982109684841592, 0.0019407860696386765, 0.48861017854913996, 0.511415578282966, 0.00809732554538344, 0.9919223793094714, 0.012967936373523918, 0.9855631643878177, 0.9992578730013497, 0.003976602696184429, 0.9961389753941993, 0.9968398135945034, 0.0021860522227949634, 0.9969448853472684, 0.0025432267483348685, 0.05658874129716656, 0.9436172611302525, 0.9950550946148647, 0.004822561040136663, 0.6021960928547353, 0.3977959415863901, 0.047467230916775564, 0.9530920313026251, 0.9684665922835024, 0.03174177230073257, 0.9978599075096352, 0.001674261589781267, 0.991280449181839, 0.008977277661799305, 0.9561409711721789, 0.04380169245339113, 0.0060868573431590136, 0.9921577469349193, 0.01280628006179165, 0.989285134773405, 0.05650390591754367, 0.9437354498993996, 0.8061556036354999, 0.19378815941739355, 0.0486704679193313, 0.9515076478229268, 0.8556874149521771, 0.14438727977595778, 0.40076539649182963, 0.5990225309183568, 0.9985713604565317, 0.0031903238353243823, 0.33432419464758906, 0.6655589247901839, 0.9732628612132498, 0.02678705122605275, 0.9975346608985067, 0.00227487950033867, 0.16983388971726932, 0.8299708349661334, 0.03540426422363504, 0.9647662000940548, 0.8938101698483045, 0.10621007876021694, 0.9987863067585534, 0.0017015098922632936, 0.004972024470624497, 0.9944048941248994, 0.9954960574737259, 0.004466611587094676, 0.4722740718711416, 0.5278068191359064, 0.016616145667040665, 0.9831219519665727, 0.25315988980575915, 0.7470605050117118, 0.18165917092889733, 0.8179974363464968, 0.9546997941821288, 0.04531609029472581, 0.9973522318343406, 0.0024414987315406135, 0.9966842623593762, 0.003137045789800195, 0.006415842270832087, 0.9944555519789735, 0.006086721145984598, 0.9921355467954897, 0.0029777543234033844, 0.9975476983401338, 0.16553642430426443, 0.8350211748155999, 0.9839334964701902, 0.015919061732908413, 0.8840468117680368, 0.11595155302188807, 0.02087126018941724, 0.9783403213789331, 0.9412036363771803, 0.05888979942206287, 0.0049802179675547086, 0.9960435935109417, 0.9985563827237748, 0.0014388420500342576, 0.9983355702872677, 0.002020922207059246, 0.20810497321943483, 0.791795808285203, 0.9980186011959331, 0.002434191710233983, 0.8547296975708085, 0.14527088892760834, 0.9966259856876121, 0.00339077147708426, 0.9633271571891869, 0.03669688777034996, 0.9956528497456967, 0.004175895714931023, 0.03917836635934163, 0.95986997580387, 0.8608999880338358, 0.13908259552776722, 0.09311214006841888, 0.9072142295855407, 0.004086762900569463, 0.9971701477389489, 0.7405071129625433, 0.25954625235008405, 0.9990294818096376, 0.002301911248409303, 0.9976934861754849, 0.002306805748382624, 0.3791430369405683, 0.6207113147627018, 0.820508046922566, 0.17947158036754707, 0.9779566950028449, 0.022191101786344238, 0.9939572779840796, 0.0055871685103096105, 0.9931310684676414, 0.006730556939916245, 0.9980710611361707, 0.00215333562273176, 0.0176082906784119, 0.9835488078941504, 0.06088514940246726, 0.9398453062308129, 0.0077605361694375215, 0.9933486296880027, 0.5290216760561325, 0.4709445420337378, 0.3484514856673883, 0.6513193807569044, 0.006543962184377575, 0.9946822520253914, 0.02278612235577749, 0.9770689266157387, 0.0698376136246671, 0.9300326107089815, 0.05991047406029995, 0.9394295168622033, 0.9436139604439623, 0.05640743647036723, 0.8305493778920653, 0.1694541383287464, 0.9989860028378861, 0.0011738965955791845, 0.999330040842342, 0.0007441027854373359, 0.0037404073588839563, 0.9949483574631324], \"Term\": [\"account\", \"account\", \"acrobat\", \"acrobat\", \"address\", \"address\", \"adobe\", \"adobe\", \"advice\", \"advice\", \"agent\", \"agent\", \"agreement\", \"agreement\", \"alias\", \"alias\", \"andmanyother\", \"andmanyother\", \"autodesk\", \"autodesk\", \"barreis\", \"barrels\", \"barrels\", \"base\", \"base\", \"batch\", \"batch\", \"beiieves\", \"beiieves\", \"belief\", \"belief\", \"biank\", \"biank\", \"billion\", \"billion\", \"borland\", \"borland\", \"business\", \"business\", \"california\", \"california\", \"capacity\", \"capacity\", \"certificao\", \"certificao\", \"cheaap\", \"cheaap\", \"check\", \"check\", \"claim\", \"claim\", \"click\", \"click\", \"company\", \"company\", \"congratulations\", \"congratulations\", \"contact\", \"contact\", \"continue\", \"continue\", \"contract\", \"contract\", \"corei\", \"corei\", \"corel\", \"corel\", \"couid\", \"couid\", \"could\", \"could\", \"countrieswe\", \"countrieswe\", \"country\", \"country\", \"current\", \"current\", \"currentiy\", \"currentiy\", \"deveiopment\", \"deveiopment\", \"differ\", \"differ\", \"download\", \"download\", \"dynegy\", \"dynegy\", \"dysfunction\", \"dysfunction\", \"ejaculation\", \"ejaculation\", \"email\", \"email\", \"empresas\", \"empresas\", \"energy\", \"energy\", \"enron\", \"enron\", \"estimate\", \"estimate\", \"expect\", \"expect\", \"expectation\", \"expectation\", \"extender\", \"extender\", \"family\", \"family\", \"forward\", \"forward\", \"friend\", \"friend\", \"future\", \"future\", \"graphics\", \"graphics\", \"group\", \"group\", \"hello\", \"hello\", \"hplno\", \"hplno\", \"husband\", \"husband\", \"iaagra\", \"iaagra\", \"inciude\", \"inciude\", \"include\", \"include\", \"information\", \"information\", \"interest\", \"interest\", \"internationa\", \"internationa\", \"international\", \"international\", \"intuit\", \"intuit\", \"investing\", \"investing\", \"investment\", \"investment\", \"investor\", \"investor\", \"invoive\", \"invoive\", \"issue\", \"issue\", \"kernel\", \"kernel\", \"linux\", \"linux\", \"lottery\", \"lottery\", \"louise\", \"louise\", \"lucky\", \"lucky\", \"macrmedia\", \"macrmedia\", \"macromedia\", \"macromedia\", \"maiiings\", \"maiiings\", \"management\", \"management\", \"market\", \"market\", \"meaning\", \"meaning\", \"medication\", \"medication\", \"message\", \"message\", \"meter\", \"meter\", \"million\", \"million\", \"mmbtu\", \"mmbtu\", \"money\", \"money\", \"nationa\", \"nationa\", \"natura\", \"natura\", \"newsietter\", \"newsietter\", \"norton\", \"norton\", \"number\", \"number\", \"numbers\", \"numbers\", \"objective\", \"objective\", \"offer\", \"offer\", \"online\", \"online\", \"ooking\", \"ooking\", \"order\", \"order\", \"orgasm\", \"orgasm\", \"penis\", \"penis\", \"petroieum\", \"photoshop\", \"photoshop\", \"piaced\", \"piaced\", \"piease\", \"piease\", \"pill\", \"pill\", \"pipeline\", \"pipeline\", \"please\", \"please\", \"popular\", \"popular\", \"position\", \"position\", \"potentia\", \"potentia\", \"potential\", \"potential\", \"power\", \"power\", \"powerquest\", \"powerquest\", \"premiere\", \"premiere\", \"prescription\", \"prescription\", \"price\", \"price\", \"prize\", \"prize\", \"product\", \"product\", \"professional\", \"professional\", \"profiie\", \"profiie\", \"program\", \"program\", \"project\", \"project\", \"projection\", \"projection\", \"promotion\", \"promotion\", \"promotional\", \"promotional\", \"provide\", \"provide\", \"pubiisher\", \"pubiisher\", \"quark\", \"quark\", \"rating\", \"rating\", \"receive\", \"receive\", \"remit\", \"remit\", \"remove\", \"remove\", \"reply\", \"reply\", \"report\", \"report\", \"resuits\", \"resuits\", \"risk\", \"risk\", \"riverdeep\", \"riverdeep\", \"roxio\", \"roxio\", \"saave\", \"saave\", \"search\", \"search\", \"section\", \"section\", \"security\", \"security\", \"serial\", \"serial\", \"share\", \"share\", \"shiip\", \"shiip\", \"shouid\", \"shouid\", \"socal\", \"socal\", \"software\", \"software\", \"specuiative\", \"specuiative\", \"state\", \"state\", \"statement\", \"statement\", \"stock\", \"stock\", \"stocks\", \"stocks\", \"studio\", \"studio\", \"subject\", \"subject\", \"super\", \"super\", \"symantec\", \"symantec\", \"system\", \"system\", \"technoiogies\", \"technoiogies\", \"technoiogy\", \"technoiogy\", \"thank\", \"thank\", \"thanks\", \"thanks\", \"trade\", \"trade\", \"trader\", \"trader\", \"trading\", \"trading\", \"uncertainty\", \"uncertainty\", \"unclaimed\", \"unclaimed\", \"viagra\", \"viagra\", \"vibrator\", \"vibrator\", \"vince\", \"vince\", \"visit\", \"visit\", \"vmware\", \"vmware\", \"windows\", \"windows\", \"winner\", \"winner\", \"winning\", \"winning\", \"within\", \"within\", \"would\", \"would\", \"wyoming\", \"wyoming\", \"wysak\", \"wysak\", \"xanaax\", \"xanaax\"]}, \"R\": 30, \"lambda.step\": 0.01, \"plot.opts\": {\"xlab\": \"PC1\", \"ylab\": \"PC2\"}, \"topic.order\": [1, 2]};\n",
       "if(typeof(window.LDAvis) !== \"undefined\"){\n",
       "   !function(LDAvis){\n",
       "       new LDAvis(\"#\" + \"ldavis_el1190021422026932168363375023\", ldavis_el1190021422026932168363375023_data);\n",
       "   }(LDAvis);\n",
       "}else{\n",
       "  require.config({paths: {d3: \"https://cdnjs.cloudflare.com/ajax/libs/d3/3.5.5/d3.min\"}});\n",
       "  require([\"d3\"], function(d3){\n",
       "    window.d3 = d3;\n",
       "    $.getScript(\"https://cdn.rawgit.com/bmabey/pyLDAvis/files/ldavis.v1.0.0.js\", function(){\n",
       "       new LDAvis(\"#\" + \"ldavis_el1190021422026932168363375023\", ldavis_el1190021422026932168363375023_data);\n",
       "    });\n",
       "  });\n",
       "}\n",
       "</script>"
      ],
      "text/plain": [
       "<IPython.core.display.HTML object>"
      ]
     },
     "execution_count": 32,
     "metadata": {},
     "output_type": "execute_result"
    }
   ],
   "source": [
    "pyLDAvis.display(lda_display, template_type='notebook')"
   ]
  },
  {
   "cell_type": "markdown",
   "metadata": {},
   "source": [
    "### Classification"
   ]
  },
  {
   "cell_type": "markdown",
   "metadata": {},
   "source": [
    "Here we look at classification using our LDA model and we want to see how well the model identifies spam vs non-spam emails. We need to generate a classification output from the Bag of Words Corpus for each document. We do this by using only 2 topics and creating a list of the assignment of a document to a topic. In the case where the LDA model produces probablities for both topics, we take the largest one to be the topic assignment."
   ]
  },
  {
   "cell_type": "code",
   "execution_count": 33,
   "metadata": {},
   "outputs": [
    {
     "name": "stderr",
     "output_type": "stream",
     "text": [
      "C:\\Users\\corri\\anaconda3\\lib\\site-packages\\ipykernel\\ipkernel.py:287: DeprecationWarning: `should_run_async` will not call `transform_cell` automatically in the future. Please pass the result to `transformed_cell` argument and any exception that happen during thetransform in `preprocessing_exc_tuple` in IPython 7.17 and above.\n",
      "  and should_run_async(code)\n"
     ]
    }
   ],
   "source": [
    "y_pred = []\n",
    "y_actual = list(df['spam'])\n",
    "\n",
    "for i in range(0,len(df)):\n",
    "    for index, score in sorted(lda_model[bow_corpus[i]], key=lambda tup: -1*tup[1]):\n",
    "        if score >= 0.5 and index == 0:\n",
    "            y_pred.append(0)\n",
    "            break\n",
    "        elif score > 0.5 and index == 1:\n",
    "            y_pred.append(1)\n",
    "            break"
   ]
  },
  {
   "cell_type": "markdown",
   "metadata": {},
   "source": [
    "As a check to ensure the above code has worked and will be compatible with our confusion matrix, we check the length of both the lists."
   ]
  },
  {
   "cell_type": "code",
   "execution_count": 34,
   "metadata": {},
   "outputs": [
    {
     "name": "stdout",
     "output_type": "stream",
     "text": [
      "27716 27716\n"
     ]
    },
    {
     "name": "stderr",
     "output_type": "stream",
     "text": [
      "C:\\Users\\corri\\anaconda3\\lib\\site-packages\\ipykernel\\ipkernel.py:287: DeprecationWarning: `should_run_async` will not call `transform_cell` automatically in the future. Please pass the result to `transformed_cell` argument and any exception that happen during thetransform in `preprocessing_exc_tuple` in IPython 7.17 and above.\n",
      "  and should_run_async(code)\n"
     ]
    }
   ],
   "source": [
    "print(len(y_actual), len(y_pred))"
   ]
  },
  {
   "cell_type": "markdown",
   "metadata": {},
   "source": [
    "Next we define our confusion matrix and classification report. We use sklearn metrics to generate this, in a similar way to project 1 and evaluate."
   ]
  },
  {
   "cell_type": "code",
   "execution_count": 35,
   "metadata": {},
   "outputs": [
    {
     "name": "stderr",
     "output_type": "stream",
     "text": [
      "C:\\Users\\corri\\anaconda3\\lib\\site-packages\\ipykernel\\ipkernel.py:287: DeprecationWarning: `should_run_async` will not call `transform_cell` automatically in the future. Please pass the result to `transformed_cell` argument and any exception that happen during thetransform in `preprocessing_exc_tuple` in IPython 7.17 and above.\n",
      "  and should_run_async(code)\n"
     ]
    }
   ],
   "source": [
    "from sklearn.metrics import confusion_matrix, classification_report\n",
    "\n",
    "def classification_eval(y_true,y_pred):\n",
    "    \n",
    "    print(\"Confusion Matrix\")\n",
    "    C = confusion_matrix(y_true,y_pred)\n",
    "    \n",
    "    print('Classification report')\n",
    "    print(classification_report(y_true, y_pred, target_names = ['Normal', 'Spam'], digits=3))"
   ]
  },
  {
   "cell_type": "code",
   "execution_count": 36,
   "metadata": {},
   "outputs": [
    {
     "name": "stdout",
     "output_type": "stream",
     "text": [
      "Confusion Matrix\n",
      "Classification report\n",
      "              precision    recall  f1-score   support\n",
      "\n",
      "      Normal      0.844     0.859     0.851     15046\n",
      "        Spam      0.829     0.811     0.820     12670\n",
      "\n",
      "    accuracy                          0.837     27716\n",
      "   macro avg      0.836     0.835     0.835     27716\n",
      "weighted avg      0.837     0.837     0.837     27716\n",
      "\n"
     ]
    },
    {
     "name": "stderr",
     "output_type": "stream",
     "text": [
      "C:\\Users\\corri\\anaconda3\\lib\\site-packages\\ipykernel\\ipkernel.py:287: DeprecationWarning: `should_run_async` will not call `transform_cell` automatically in the future. Please pass the result to `transformed_cell` argument and any exception that happen during thetransform in `preprocessing_exc_tuple` in IPython 7.17 and above.\n",
      "  and should_run_async(code)\n"
     ]
    }
   ],
   "source": [
    "classification_eval(y_actual,y_pred)"
   ]
  },
  {
   "cell_type": "markdown",
   "metadata": {},
   "source": [
    "The results here are interesting. We choose the spam/normal assignment based on the 'look' or understanding of the topics and the keywords contained within them. This leads to to the above result which is quite strong. It is noted in the LDA block that it shouldn't be used for classification and should be a keyword generator so this may not provide a good measure of the actual accuracy of the LDA model. The later models we consider should improve upon this result when we get the 'correct' amount of topics."
   ]
  },
  {
   "cell_type": "code",
   "execution_count": 37,
   "metadata": {},
   "outputs": [
    {
     "name": "stderr",
     "output_type": "stream",
     "text": [
      "C:\\Users\\corri\\anaconda3\\lib\\site-packages\\ipykernel\\ipkernel.py:287: DeprecationWarning: `should_run_async` will not call `transform_cell` automatically in the future. Please pass the result to `transformed_cell` argument and any exception that happen during thetransform in `preprocessing_exc_tuple` in IPython 7.17 and above.\n",
      "  and should_run_async(code)\n"
     ]
    }
   ],
   "source": [
    "pickle.dump(y_pred, open('../Data/Matt_pred.p','wb'))\n",
    "pickle.dump(y_actual, open('../Data/Actual.p','wb'))"
   ]
  },
  {
   "cell_type": "markdown",
   "metadata": {},
   "source": [
    "### Perplexity and Coherence"
   ]
  },
  {
   "cell_type": "markdown",
   "metadata": {},
   "source": [
    "In this section we review the perplexity and coherence of the model above. This also helps us define coherence functions which will be used later to evaluate the 'correct' number of topics, k."
   ]
  },
  {
   "cell_type": "code",
   "execution_count": 38,
   "metadata": {},
   "outputs": [
    {
     "name": "stderr",
     "output_type": "stream",
     "text": [
      "C:\\Users\\corri\\anaconda3\\lib\\site-packages\\ipykernel\\ipkernel.py:287: DeprecationWarning: `should_run_async` will not call `transform_cell` automatically in the future. Please pass the result to `transformed_cell` argument and any exception that happen during thetransform in `preprocessing_exc_tuple` in IPython 7.17 and above.\n",
      "  and should_run_async(code)\n"
     ]
    }
   ],
   "source": [
    "from gensim.models.coherencemodel import CoherenceModel\n",
    "def getCoherence(m,c,d):\n",
    "    coherence_model_lda = CoherenceModel(model=m,corpus=c, dictionary=d, coherence='u_mass')\n",
    "    coherence_lda = coherence_model_lda.get_coherence()\n",
    "    return(coherence_lda)"
   ]
  },
  {
   "cell_type": "code",
   "execution_count": 39,
   "metadata": {},
   "outputs": [
    {
     "name": "stderr",
     "output_type": "stream",
     "text": [
      "C:\\Users\\corri\\anaconda3\\lib\\site-packages\\ipykernel\\ipkernel.py:287: DeprecationWarning: `should_run_async` will not call `transform_cell` automatically in the future. Please pass the result to `transformed_cell` argument and any exception that happen during thetransform in `preprocessing_exc_tuple` in IPython 7.17 and above.\n",
      "  and should_run_async(code)\n"
     ]
    }
   ],
   "source": [
    "from gensim.models.coherencemodel import CoherenceModel\n",
    "def getCoherence2(m,t,d):\n",
    "    coherence_model_lda2 = CoherenceModel(model=m,texts = t, dictionary=d, coherence='c_v')\n",
    "    coherence_lda2 = coherence_model_lda2.get_coherence()\n",
    "    return(coherence_lda2)"
   ]
  },
  {
   "cell_type": "code",
   "execution_count": 40,
   "metadata": {},
   "outputs": [
    {
     "name": "stderr",
     "output_type": "stream",
     "text": [
      "C:\\Users\\corri\\anaconda3\\lib\\site-packages\\ipykernel\\ipkernel.py:287: DeprecationWarning: `should_run_async` will not call `transform_cell` automatically in the future. Please pass the result to `transformed_cell` argument and any exception that happen during thetransform in `preprocessing_exc_tuple` in IPython 7.17 and above.\n",
      "  and should_run_async(code)\n"
     ]
    },
    {
     "name": "stdout",
     "output_type": "stream",
     "text": [
      "lda_model perplexity: -8.41380354887196\n",
      "lda_model coherence using u_mass: -1.6839825121503265\n",
      "lda_model coherence using c_v: 0.3787632820858968\n"
     ]
    }
   ],
   "source": [
    "print(\"lda_model perplexity: {}\".format(lda_model.log_perplexity(bow_corpus)))\n",
    "print(\"lda_model coherence using u_mass: {}\".format(getCoherence(lda_model,bow_corpus,dictionary)))\n",
    "print(\"lda_model coherence using c_v: {}\".format(getCoherence2(lda_model,processed_text, dictionary)))"
   ]
  },
  {
   "cell_type": "markdown",
   "metadata": {},
   "source": [
    "### Choosing K (Number of Topics)"
   ]
  },
  {
   "cell_type": "markdown",
   "metadata": {},
   "source": [
    "Now that we've reviewed the accuracy when using just two topics, we want to understand how many topics there actually are within our emails. We'll use code from [10] with amendments to test the coherence of a range of topic numbers and find the best k. After this, we'll look at the words within these topics and see if we can discern a label for each topic. We're going to use u_mass coherence in the first function and c_v coherence in the second."
   ]
  },
  {
   "cell_type": "code",
   "execution_count": 41,
   "metadata": {},
   "outputs": [
    {
     "name": "stderr",
     "output_type": "stream",
     "text": [
      "C:\\Users\\corri\\anaconda3\\lib\\site-packages\\ipykernel\\ipkernel.py:287: DeprecationWarning: `should_run_async` will not call `transform_cell` automatically in the future. Please pass the result to `transformed_cell` argument and any exception that happen during thetransform in `preprocessing_exc_tuple` in IPython 7.17 and above.\n",
      "  and should_run_async(code)\n"
     ]
    }
   ],
   "source": [
    "def compute_coherence_values(dictionary, corpus, limit, start, step):\n",
    "    \n",
    "    coherence_values = []\n",
    "    model_list = []\n",
    "    for num_topics in range(start, limit, step):\n",
    "        \n",
    "        clear_output(wait=True) # outputting num_topics\n",
    "        display('Currently finding u_mass coherence with topic: '+str(num_topics)+' of '+str(limit-2)+'.')\n",
    "        \n",
    "        model = gensim.models.LdaMulticore(bow_corpus, num_topics = num_topics, id2word=dictionary, chunksize = 2772, passes=10, workers = 8)\n",
    "        model_list.append(model)\n",
    "        coherencescore = getCoherence(model,bow_corpus,dictionary)\n",
    "        coherence_values.append(coherencescore)\n",
    "\n",
    "    return model_list, coherence_values"
   ]
  },
  {
   "cell_type": "code",
   "execution_count": 42,
   "metadata": {},
   "outputs": [
    {
     "name": "stderr",
     "output_type": "stream",
     "text": [
      "C:\\Users\\corri\\anaconda3\\lib\\site-packages\\ipykernel\\ipkernel.py:287: DeprecationWarning: `should_run_async` will not call `transform_cell` automatically in the future. Please pass the result to `transformed_cell` argument and any exception that happen during thetransform in `preprocessing_exc_tuple` in IPython 7.17 and above.\n",
      "  and should_run_async(code)\n"
     ]
    }
   ],
   "source": [
    "def compute_coherence_values2(dictionary, corpus, text, limit, start, step):\n",
    "    \n",
    "    coherence_values2 = []\n",
    "    model_list = []\n",
    "    for num_topics in range(start, limit, step):\n",
    "        \n",
    "        clear_output(wait=True) # outputting num_topics\n",
    "        display('Currently finding c_v coherence with topic: '+str(num_topics)+' of '+str(limit-2)+'.')\n",
    "        \n",
    "        model = gensim.models.LdaMulticore(bow_corpus, num_topics = num_topics, id2word=dictionary, chunksize = 2772, passes=10, workers = 8)\n",
    "        model_list.append(model)\n",
    "        coherencescore = getCoherence2(model,processed_text,dictionary)\n",
    "        coherence_values2.append(coherencescore)\n",
    "\n",
    "    return model_list, coherence_values2"
   ]
  },
  {
   "cell_type": "code",
   "execution_count": 43,
   "metadata": {},
   "outputs": [
    {
     "name": "stderr",
     "output_type": "stream",
     "text": [
      "C:\\Users\\corri\\anaconda3\\lib\\site-packages\\ipykernel\\ipkernel.py:287: DeprecationWarning: `should_run_async` will not call `transform_cell` automatically in the future. Please pass the result to `transformed_cell` argument and any exception that happen during thetransform in `preprocessing_exc_tuple` in IPython 7.17 and above.\n",
      "  and should_run_async(code)\n"
     ]
    }
   ],
   "source": [
    "def compute_perplexity_values(corpus, limit, start, step):\n",
    "        \n",
    "    perplexity_values = []\n",
    "    model_list = []\n",
    "    for num_topics in range(start, limit, step):\n",
    "        \n",
    "        clear_output(wait=True) # outputting num_topics\n",
    "        display('Currently finding perplexity with topic: '+str(num_topics)+' of '+str(limit-2)+'.')\n",
    "        \n",
    "        model = gensim.models.LdaMulticore(bow_corpus, num_topics = num_topics, id2word=dictionary, chunksize = 2772, passes=10, workers = 8)\n",
    "        model_list.append(model)\n",
    "        perplexityscore = lda_model.log_perplexity(bow_corpus)\n",
    "        perplexity_values.append(perplexityscore)\n",
    "        \n",
    "    return model_list, perplexity_values"
   ]
  },
  {
   "cell_type": "markdown",
   "metadata": {},
   "source": [
    "For sake of sanity, I'll output the results from the finding the best k tests here since they are insanely time consuming running and will be better to import using pickle. \n",
    "\n",
    "Due to the size of the model_list file (over 300mb), we don't save these since the only use for them is to pull a model from and subsequently use. We instead identify the best model and use it, without saving the rest. If you want to reproduce them, the code can be run with the below commented code uncommented and it will produce the model list"
   ]
  },
  {
   "cell_type": "code",
   "execution_count": 44,
   "metadata": {},
   "outputs": [
    {
     "name": "stdout",
     "output_type": "stream",
     "text": [
      "Reading u_mass coherence values...\n"
     ]
    },
    {
     "name": "stderr",
     "output_type": "stream",
     "text": [
      "C:\\Users\\corri\\anaconda3\\lib\\site-packages\\ipykernel\\ipkernel.py:287: DeprecationWarning: `should_run_async` will not call `transform_cell` automatically in the future. Please pass the result to `transformed_cell` argument and any exception that happen during thetransform in `preprocessing_exc_tuple` in IPython 7.17 and above.\n",
      "  and should_run_async(code)\n"
     ]
    }
   ],
   "source": [
    "try:\n",
    "    print('Reading u_mass coherence values...')\n",
    "    coherence_values=pickle.load(open('../Data/Matt_u_mass_values.p','rb'))\n",
    "    #model_list = pickle.load(open('../Data/Matt_u_mass_models.p','rb')) # uncomment to produce all models\n",
    "except FileNotFoundError:\n",
    "    print('File not found.')\n",
    "    print('Calculating u_mass coherence values.')\n",
    "    model_list, coherence_values = compute_coherence_values(dictionary=dictionary, corpus=bow_corpus, start=2, limit=40, step=2)\n",
    "    \n",
    "    pickle.dump(coherence_values, open('../Data/Matt_u_mass_values.p','wb'))\n",
    "    #pickle.dump(model_list, open('../Data/Matt_u_mass_models.p','wb'))\n"
   ]
  },
  {
   "cell_type": "code",
   "execution_count": 45,
   "metadata": {},
   "outputs": [
    {
     "name": "stdout",
     "output_type": "stream",
     "text": [
      "Reading c_v coherence values...\n"
     ]
    },
    {
     "name": "stderr",
     "output_type": "stream",
     "text": [
      "C:\\Users\\corri\\anaconda3\\lib\\site-packages\\ipykernel\\ipkernel.py:287: DeprecationWarning: `should_run_async` will not call `transform_cell` automatically in the future. Please pass the result to `transformed_cell` argument and any exception that happen during thetransform in `preprocessing_exc_tuple` in IPython 7.17 and above.\n",
      "  and should_run_async(code)\n"
     ]
    }
   ],
   "source": [
    "try:\n",
    "    print('Reading c_v coherence values...')\n",
    "    coherence_values2=pickle.load(open('../Data/Matt_c_v_values.p','rb'))\n",
    "    #model_list2 = pickle.load(open('../Data/Matt_c_v_models.p','rb')) # uncomment to produce all models\n",
    "except FileNotFoundError:\n",
    "    print('File not found.')\n",
    "    print('Calculating c_v coherence values.')\n",
    "    model_list2, coherence_values2 = compute_coherence_values2(dictionary=dictionary, corpus=bow_corpus, text = processed_text, start=2, limit=40, step=2)\n",
    "    \n",
    "    pickle.dump(coherence_values2, open('../Data/Matt_c_v_values.p','wb'))\n",
    "    #pickle.dump(model_list2, open('../Data/Matt_c_v_models.p','wb'))\n",
    "    #pickle.dump(model_list2[3], open('../Data/Matt_opt_model.p','wb'))\n"
   ]
  },
  {
   "cell_type": "code",
   "execution_count": 46,
   "metadata": {
    "scrolled": true
   },
   "outputs": [
    {
     "name": "stdout",
     "output_type": "stream",
     "text": [
      "Reading perplexity values...\n"
     ]
    },
    {
     "name": "stderr",
     "output_type": "stream",
     "text": [
      "C:\\Users\\corri\\anaconda3\\lib\\site-packages\\ipykernel\\ipkernel.py:287: DeprecationWarning: `should_run_async` will not call `transform_cell` automatically in the future. Please pass the result to `transformed_cell` argument and any exception that happen during thetransform in `preprocessing_exc_tuple` in IPython 7.17 and above.\n",
      "  and should_run_async(code)\n"
     ]
    }
   ],
   "source": [
    "try:\n",
    "    print('Reading perplexity values...')\n",
    "    perplexity_values=pickle.load(open('../Data/Matt_perp_values.p','rb'))\n",
    "    #model_list3 = pickle.load(open('../Data/Matt_perp_models.p','rb')) # uncomment to produce all models\n",
    "except FileNotFoundError:\n",
    "    print('File not found.')\n",
    "    print('Calculating perplexity values.')\n",
    "    model_list3, perplexity_values = compute_perplexity_values(corpus = bow_corpus, start=2, limit=40, step=2)\n",
    "    \n",
    "    pickle.dump(perplexity_values, open('../Data/Matt_perp_values.p','wb'))\n",
    "    #pickle.dump(model_list3, open('../Data/Matt_perp_models.p','wb'))\n",
    "    "
   ]
  },
  {
   "cell_type": "code",
   "execution_count": 47,
   "metadata": {
    "scrolled": false
   },
   "outputs": [
    {
     "name": "stderr",
     "output_type": "stream",
     "text": [
      "C:\\Users\\corri\\anaconda3\\lib\\site-packages\\ipykernel\\ipkernel.py:287: DeprecationWarning: `should_run_async` will not call `transform_cell` automatically in the future. Please pass the result to `transformed_cell` argument and any exception that happen during thetransform in `preprocessing_exc_tuple` in IPython 7.17 and above.\n",
      "  and should_run_async(code)\n"
     ]
    },
    {
     "data": {
      "image/png": "[encoded data removed]",
      "text/plain": [
       "<Figure size 720x720 with 3 Axes>"
      ]
     },
     "metadata": {
      "needs_background": "light"
     },
     "output_type": "display_data"
    }
   ],
   "source": [
    "limit=40; start=2; step=2;\n",
    "x = range(start, limit, step)\n",
    "\n",
    "fig = plt.figure(figsize= (10,10))\n",
    "ax1 = fig.add_subplot(221)\n",
    "ax2 = fig.add_subplot(222)\n",
    "ax3 = fig.add_subplot(223)\n",
    "\n",
    "ax1.plot(x, coherence_values, 'b')\n",
    "ax2.plot(x, coherence_values2, 'r')\n",
    "ax3.plot(x, perplexity_values, 'k')\n",
    "\n",
    "plt.xlabel(\"Number of Topics\")\n",
    "\n",
    "ax1.title.set_text(\"Coherence score (u_mass)\")\n",
    "ax2.title.set_text(\"Coherence score (c_v)\")\n",
    "ax3.title.set_text(\"Perplexity score\")\n",
    "\n",
    "plt.show()"
   ]
  },
  {
   "cell_type": "code",
   "execution_count": 48,
   "metadata": {},
   "outputs": [
    {
     "name": "stdout",
     "output_type": "stream",
     "text": [
      "The number of topics that maximises u_mass coherence is: 2 with a u_mass coherence of: -1.456460695864691\n",
      "The number of topics that maximises c_v coherence is: 8 with a c_v coherence of: 0.5619032894646473\n",
      "The number of topics that maximises perplexity is: 26 with a perplexity of: -8.426745764168075\n"
     ]
    },
    {
     "name": "stderr",
     "output_type": "stream",
     "text": [
      "C:\\Users\\corri\\anaconda3\\lib\\site-packages\\ipykernel\\ipkernel.py:287: DeprecationWarning: `should_run_async` will not call `transform_cell` automatically in the future. Please pass the result to `transformed_cell` argument and any exception that happen during thetransform in `preprocessing_exc_tuple` in IPython 7.17 and above.\n",
      "  and should_run_async(code)\n"
     ]
    }
   ],
   "source": [
    "cm1 = coherence_values.index(max(coherence_values))\n",
    "cm2 = coherence_values2.index(max(coherence_values2))\n",
    "pm = perplexity_values.index(min(perplexity_values))\n",
    "\n",
    "print('The number of topics that maximises u_mass coherence is: '+str(2*cm1+2)+' with a u_mass coherence of: '+str(max(coherence_values)))\n",
    "print('The number of topics that maximises c_v coherence is: '+str(2*cm2+2)+' with a c_v coherence of: '+str(max(coherence_values2)))\n",
    "print('The number of topics that maximises perplexity is: '+str(2*pm+2)+ ' with a perplexity of: '+str(min(perplexity_values)))"
   ]
  },
  {
   "cell_type": "markdown",
   "metadata": {},
   "source": [
    "Here we see that the maximum is in different positions. When using u_mass coherence, we get a maximum coherence at **k = 2**, when using c_v coherence we get a maximum coherence at **k = 8** and when using perplexity we get a maximum coherence at **k=12**. From the paper given in reference [15], c_v is the best option for evaluating topic models (u_mass is faster but not as accurate) and thus we will use the model with k = 8 topics."
   ]
  },
  {
   "cell_type": "markdown",
   "metadata": {},
   "source": [
    "###### Aside - Timing"
   ]
  },
  {
   "cell_type": "markdown",
   "metadata": {},
   "source": [
    "*As an aside, after the block 8 work, I wanted to time this last function to see how slow/fast it was when changing the number of topics. We normally look at how the function changes with the size of the input i.e. n but I wanted to consider this variable and see if it had an impact. We use the timing function defined in that workshop.*"
   ]
  },
  {
   "cell_type": "code",
   "execution_count": 49,
   "metadata": {},
   "outputs": [
    {
     "name": "stderr",
     "output_type": "stream",
     "text": [
      "C:\\Users\\corri\\anaconda3\\lib\\site-packages\\ipykernel\\ipkernel.py:287: DeprecationWarning: `should_run_async` will not call `transform_cell` automatically in the future. Please pass the result to `transformed_cell` argument and any exception that happen during thetransform in `preprocessing_exc_tuple` in IPython 7.17 and above.\n",
      "  and should_run_async(code)\n"
     ]
    }
   ],
   "source": [
    "def time_fun(fun,l,rep=5):\n",
    "    t=Timer(partial(fun,l))\n",
    "    return([l,t.timeit(rep)/rep])"
   ]
  },
  {
   "cell_type": "markdown",
   "metadata": {},
   "source": [
    "We also define a new function for our calculation that only takes t as an input."
   ]
  },
  {
   "cell_type": "code",
   "execution_count": 50,
   "metadata": {},
   "outputs": [
    {
     "name": "stderr",
     "output_type": "stream",
     "text": [
      "C:\\Users\\corri\\anaconda3\\lib\\site-packages\\ipykernel\\ipkernel.py:287: DeprecationWarning: `should_run_async` will not call `transform_cell` automatically in the future. Please pass the result to `transformed_cell` argument and any exception that happen during thetransform in `preprocessing_exc_tuple` in IPython 7.17 and above.\n",
      "  and should_run_async(code)\n"
     ]
    }
   ],
   "source": [
    "def compute_coherence_values_t(t):\n",
    "    \n",
    "    coherence_values = []\n",
    "    model_list = []\n",
    "    for num_topics in range(t, t+2, 2):\n",
    "        \n",
    "        clear_output(wait=True) # outputting num_topics\n",
    "        display('Currently finding u_mass coherence with number of topics: '+str(num_topics)+'.')\n",
    "        \n",
    "        model = gensim.models.LdaMulticore(bow_corpus, num_topics = t, id2word=dictionary, chunksize = 2772, passes=10, workers = 2)\n",
    "        model_list.append(model)\n",
    "        coherencescore = getCoherence(model,bow_corpus,dictionary)\n",
    "        coherence_values.append(coherencescore)\n",
    "\n",
    "    return model_list, coherence_values"
   ]
  },
  {
   "cell_type": "code",
   "execution_count": 51,
   "metadata": {},
   "outputs": [
    {
     "name": "stderr",
     "output_type": "stream",
     "text": [
      "C:\\Users\\corri\\anaconda3\\lib\\site-packages\\ipykernel\\ipkernel.py:287: DeprecationWarning: `should_run_async` will not call `transform_cell` automatically in the future. Please pass the result to `transformed_cell` argument and any exception that happen during thetransform in `preprocessing_exc_tuple` in IPython 7.17 and above.\n",
      "  and should_run_async(code)\n"
     ]
    }
   ],
   "source": [
    "ti = np.arange(2,20)"
   ]
  },
  {
   "cell_type": "markdown",
   "metadata": {},
   "source": [
    "Similarly, the code here is arduous and long and therefore we will save it to a pickle document."
   ]
  },
  {
   "cell_type": "code",
   "execution_count": 52,
   "metadata": {},
   "outputs": [
    {
     "name": "stdout",
     "output_type": "stream",
     "text": [
      "Reading corpus from pickle...\n"
     ]
    },
    {
     "name": "stderr",
     "output_type": "stream",
     "text": [
      "C:\\Users\\corri\\anaconda3\\lib\\site-packages\\ipykernel\\ipkernel.py:287: DeprecationWarning: `should_run_async` will not call `transform_cell` automatically in the future. Please pass the result to `transformed_cell` argument and any exception that happen during thetransform in `preprocessing_exc_tuple` in IPython 7.17 and above.\n",
      "  and should_run_async(code)\n"
     ]
    }
   ],
   "source": [
    "try:\n",
    "    print(\"Reading corpus from pickle...\")\n",
    "    times=pickle.load(open('../data/Matt_times.p', 'rb'))\n",
    "except FileNotFoundError:\n",
    "    print('File not found.')\n",
    "    print('Creating times.')\n",
    "    times=np.array(\n",
    "        [time_fun(compute_coherence_values_t, t) for t in ti])\n",
    "    pickle.dump(times, open('../Data/Matt_times.p','wb'))"
   ]
  },
  {
   "cell_type": "code",
   "execution_count": 53,
   "metadata": {},
   "outputs": [
    {
     "name": "stderr",
     "output_type": "stream",
     "text": [
      "C:\\Users\\corri\\anaconda3\\lib\\site-packages\\ipykernel\\ipkernel.py:287: DeprecationWarning: `should_run_async` will not call `transform_cell` automatically in the future. Please pass the result to `transformed_cell` argument and any exception that happen during thetransform in `preprocessing_exc_tuple` in IPython 7.17 and above.\n",
      "  and should_run_async(code)\n"
     ]
    },
    {
     "data": {
      "image/png": "[encoded data removed]",
      "text/plain": [
       "<Figure size 432x288 with 1 Axes>"
      ]
     },
     "metadata": {
      "needs_background": "light"
     },
     "output_type": "display_data"
    }
   ],
   "source": [
    "plt.plot(times[:,0],\n",
    "         times[:,1])\n",
    "plt.legend(['Times'])\n",
    "plt.xlabel('Number of Topics')\n",
    "plt.ylabel('Time')\n",
    "plt.title('Time taken to perform LDA topic modelling with k topics')\n",
    "plt.show()"
   ]
  },
  {
   "cell_type": "markdown",
   "metadata": {},
   "source": [
    "This is an unexpected output, we expect some form of upward trend as the number of topics we model increases. Despite seeing a large spike towards the end, there is an initial decrease as the number of topics increases up to 20. This time discrepency is small though and only varies between roughly 8 minutes."
   ]
  },
  {
   "cell_type": "markdown",
   "metadata": {},
   "source": [
    "### Optimal Solution"
   ]
  },
  {
   "cell_type": "markdown",
   "metadata": {},
   "source": [
    "Below we create our optimal solution (or in this case import it) with 8 topics since this had the best c_v coherence."
   ]
  },
  {
   "cell_type": "code",
   "execution_count": 54,
   "metadata": {},
   "outputs": [
    {
     "name": "stderr",
     "output_type": "stream",
     "text": [
      "C:\\Users\\corri\\anaconda3\\lib\\site-packages\\ipykernel\\ipkernel.py:287: DeprecationWarning: `should_run_async` will not call `transform_cell` automatically in the future. Please pass the result to `transformed_cell` argument and any exception that happen during thetransform in `preprocessing_exc_tuple` in IPython 7.17 and above.\n",
      "  and should_run_async(code)\n"
     ]
    },
    {
     "name": "stdout",
     "output_type": "stream",
     "text": [
      "[(0,\n",
      "  '0.013*\"market\" + 0.011*\"power\" + 0.010*\"price\" + 0.009*\"business\" + '\n",
      "  '0.008*\"would\" + 0.008*\"energy\" + 0.008*\"company\" + 0.007*\"enron\" + '\n",
      "  '0.005*\"state\" + 0.005*\"trading\"'),\n",
      " (1,\n",
      "  '0.029*\"vince\" + 0.023*\"enron\" + 0.016*\"kaminski\" + 0.013*\"would\" + '\n",
      "  '0.012*\"please\" + 0.012*\"subject\" + 0.009*\"research\" + 0.008*\"forward\" + '\n",
      "  '0.007*\"thanks\" + 0.007*\"group\"'),\n",
      " (2,\n",
      "  '0.048*\"enron\" + 0.015*\"subject\" + 0.013*\"please\" + 0.009*\"louise\" + '\n",
      "  '0.008*\"thanks\" + 0.008*\"message\" + 0.007*\"original\" + 0.007*\"forward\" + '\n",
      "  '0.006*\"attach\" + 0.006*\"would\"'),\n",
      " (3,\n",
      "  '0.012*\"please\" + 0.011*\"email\" + 0.009*\"information\" + 0.008*\"receive\" + '\n",
      "  '0.008*\"account\" + 0.007*\"business\" + 0.007*\"money\" + 0.006*\"click\" + '\n",
      "  '0.006*\"address\" + 0.006*\"contact\"'),\n",
      " (4,\n",
      "  '0.073*\"enron\" + 0.030*\"company\" + 0.015*\"dynegy\" + 0.012*\"share\" + '\n",
      "  '0.011*\"stock\" + 0.011*\"billion\" + 0.010*\"jones\" + 0.009*\"energy\" + '\n",
      "  '0.009*\"investor\" + 0.008*\"credit\"'),\n",
      " (5,\n",
      "  '0.027*\"company\" + 0.017*\"statement\" + 0.012*\"security\" + '\n",
      "  '0.011*\"information\" + 0.009*\"within\" + 0.009*\"report\" + 0.008*\"investment\" '\n",
      "  '+ 0.007*\"stock\" + 0.007*\"forward\" + 0.007*\"price\"'),\n",
      " (6,\n",
      "  '0.012*\"claim\" + 0.010*\"message\" + 0.010*\"email\" + 0.010*\"please\" + '\n",
      "  '0.009*\"program\" + 0.009*\"number\" + 0.009*\"lottery\" + 0.008*\"address\" + '\n",
      "  '0.008*\"international\" + 0.007*\"agent\"'),\n",
      " (7,\n",
      "  '0.016*\"software\" + 0.015*\"adobe\" + 0.011*\"price\" + 0.006*\"professional\" + '\n",
      "  '0.006*\"windows\" + 0.006*\"online\" + 0.005*\"viagra\" + 0.005*\"download\" + '\n",
      "  '0.005*\"offer\" + 0.004*\"medication\"')]\n"
     ]
    }
   ],
   "source": [
    "optimal_model = pickle.load(open('../Data/Matt_opt_model.p','rb'))\n",
    "model_topics = optimal_model.show_topics(formatted=False)\n",
    "pprint(optimal_model.print_topics(num_words=10))"
   ]
  },
  {
   "cell_type": "code",
   "execution_count": 55,
   "metadata": {},
   "outputs": [
    {
     "name": "stderr",
     "output_type": "stream",
     "text": [
      "C:\\Users\\corri\\anaconda3\\lib\\site-packages\\ipykernel\\ipkernel.py:287: DeprecationWarning: `should_run_async` will not call `transform_cell` automatically in the future. Please pass the result to `transformed_cell` argument and any exception that happen during thetransform in `preprocessing_exc_tuple` in IPython 7.17 and above.\n",
      "  and should_run_async(code)\n"
     ]
    },
    {
     "name": "stdout",
     "output_type": "stream",
     "text": [
      "lda_model perplexity: -8.149249010668818\n",
      "lda_model coherence using u_mass: -1.8666366370766145\n",
      "lda_model coherence using c_v: 0.5619032894646473\n"
     ]
    }
   ],
   "source": [
    "print(\"lda_model perplexity: {}\".format(optimal_model.log_perplexity(bow_corpus)))\n",
    "print(\"lda_model coherence using u_mass: {}\".format(getCoherence(optimal_model,bow_corpus,dictionary)))\n",
    "print(\"lda_model coherence using c_v: {}\".format(getCoherence2(optimal_model,processed_text, dictionary)))\n",
    "\n",
    "opt_values = [optimal_model.log_perplexity(bow_corpus),getCoherence(optimal_model,bow_corpus,dictionary),getCoherence2(optimal_model,processed_text, dictionary)]\n",
    "pickle.dump(opt_values, open('../Data/Matt_opt_values.p','wb'))"
   ]
  },
  {
   "cell_type": "code",
   "execution_count": 56,
   "metadata": {},
   "outputs": [
    {
     "name": "stderr",
     "output_type": "stream",
     "text": [
      "C:\\Users\\corri\\anaconda3\\lib\\site-packages\\ipykernel\\ipkernel.py:287: DeprecationWarning: `should_run_async` will not call `transform_cell` automatically in the future. Please pass the result to `transformed_cell` argument and any exception that happen during thetransform in `preprocessing_exc_tuple` in IPython 7.17 and above.\n",
      "  and should_run_async(code)\n"
     ]
    }
   ],
   "source": [
    "lda_opt_display = pyLDAvis.gensim.prepare(optimal_model, bow_corpus, dictionary, mds='mmds')"
   ]
  },
  {
   "cell_type": "code",
   "execution_count": 57,
   "metadata": {},
   "outputs": [
    {
     "name": "stderr",
     "output_type": "stream",
     "text": [
      "C:\\Users\\corri\\anaconda3\\lib\\site-packages\\ipykernel\\ipkernel.py:287: DeprecationWarning: `should_run_async` will not call `transform_cell` automatically in the future. Please pass the result to `transformed_cell` argument and any exception that happen during thetransform in `preprocessing_exc_tuple` in IPython 7.17 and above.\n",
      "  and should_run_async(code)\n"
     ]
    },
    {
     "data": {
      "text/html": [
       "\n",
       "\n",
       "<link rel=\"stylesheet\" type=\"text/css\" href=\"https://cdn.rawgit.com/bmabey/pyLDAvis/files/ldavis.v1.0.0.css\">\n",
       "\n",
       "<div id=\"ldavis_el1190021422065327368583024042\"></div>\n",
       "<script type=\"text/javascript\">\n",
       "\n",
       "var ldavis_el1190021422065327368583024042_data = {\"mdsDat\": {\"x\": [0.001902391840194105, 0.019337389326355786, 0.09985195573519645, -0.2363053211777643, 0.2688525050226569, -0.18302053665742135, -0.16862795415295495, 0.1980095700637374], \"y\": [0.11261479495949644, 0.2634826953216999, -0.04871734132166651, 0.2017584745275781, 0.10992642431595437, -0.04390441803287906, -0.33285758073155663, -0.26230304903862667], \"topics\": [1, 2, 3, 4, 5, 6, 7, 8], \"cluster\": [1, 1, 1, 1, 1, 1, 1, 1], \"Freq\": [21.151451889234277, 17.81226973156022, 17.249263423771428, 12.018872924117957, 11.28238136576136, 10.298204864960107, 6.039198181366227, 4.148357619228424]}, \"tinfo\": {\"Term\": [\"enron\", \"company\", \"vince\", \"please\", \"statement\", \"kaminski\", \"dynegy\", \"subject\", \"email\", \"price\", \"message\", \"software\", \"stock\", \"adobe\", \"louise\", \"billion\", \"share\", \"market\", \"address\", \"security\", \"claim\", \"investor\", \"forward\", \"program\", \"jones\", \"thanks\", \"energy\", \"power\", \"research\", \"investment\", \"legislature\", \"crore\", \"hydro\", \"revamp\", \"breathing\", \"commissioner\", \"generator\", \"toner\", \"republican\", \"vibrator\", \"fiorina\", \"legislative\", \"eprofile\", \"carefui\", \"scientech\", \"reportedly\", \"convinient\", \"maharashtra\", \"deshmukh\", \"mitigation\", \"bailout\", \"angelides\", \"brinq\", \"socal\", \"legislator\", \"stakeholder\", \"modular\", \"carly\", \"ceraweek\", \"loqos\", \"senate\", \"governor\", \"edison\", \"california\", \"assembly\", \"heating\", \"senator\", \"power\", \"electric\", \"restructure\", \"market\", \"likely\", \"chairman\", \"struggle\", \"generation\", \"wholesale\", \"northwest\", \"plant\", \"utility\", \"president\", \"capacity\", \"electricity\", \"average\", \"india\", \"demand\", \"commodity\", \"pipeline\", \"metal\", \"price\", \"natural\", \"state\", \"energy\", \"business\", \"value\", \"would\", \"increase\", \"continue\", \"trading\", \"issue\", \"operations\", \"million\", \"company\", \"include\", \"years\", \"expect\", \"could\", \"financial\", \"group\", \"base\", \"management\", \"enron\", \"report\", \"contract\", \"project\", \"provide\", \"billion\", \"meter\", \"sitara\", \"calger\", \"lavorato\", \"tenaska\", \"belden\", \"presto\", \"colwell\", \"schoppe\", \"daren\", \"tammie\", \"duran\", \"actuals\", \"aimee\", \"delainey\", \"megan\", \"cotten\", \"chokshi\", \"lokay\", \"clynes\", \"milnthorp\", \"leslie\", \"melissa\", \"bridgeline\", \"eastrans\", \"jacoby\", \"killen\", \"haedicke\", \"wynne\", \"hplno\", \"nomination\", \"louise\", \"richter\", \"kitchen\", \"enronxgate\", \"unify\", \"wellhead\", \"sally\", \"netco\", \"redmond\", \"mmbtu\", \"brian\", \"oxley\", \"origination\", \"turbine\", \"jackie\", \"scott\", \"original\", \"laura\", \"kevin\", \"david\", \"attach\", \"farmer\", \"subject\", \"robert\", \"allocation\", \"enron\", \"thanks\", \"volume\", \"steve\", \"taylor\", \"draft\", \"meeting\", \"please\", \"message\", \"change\", \"question\", \"contract\", \"forward\", \"request\", \"development\", \"deal\", \"update\", \"agreement\", \"would\", \"review\", \"issue\", \"regard\", \"group\", \"office\", \"report\", \"following\", \"nigeria\", \"foreigner\", \"majordomo\", \"kernel\", \"nigerian\", \"utmost\", \"zimbabwe\", \"abacha\", \"lagos\", \"deceased\", \"ehronline\", \"ubswenergy\", \"listinfo\", \"modality\", \"seekercenter\", \"ubswarburg\", \"optout\", \"mugabe\", \"cdnow\", \"recollect\", \"leone\", \"jabber\", \"promptness\", \"creativeness\", \"affordability\", \"netcoonline\", \"care\", \"consignment\", \"hotat\", \"letsyou\", \"paypal\", \"clickathome\", \"cards\", \"husband\", \"engine\", \"father\", \"linux\", \"mortgage\", \"search\", \"addressee\", \"directory\", \"casino\", \"urgently\", \"mail\", \"account\", \"visitor\", \"click\", \"instructions\", \"beneficiary\", \"death\", \"password\", \"guide\", \"mother\", \"website\", \"family\", \"mailing\", \"broadcast\", \"deposit\", \"unsubscribe\", \"child\", \"sender\", \"domain\", \"remove\", \"email\", \"reply\", \"receive\", \"assistance\", \"money\", \"address\", \"confidential\", \"submit\", \"transfer\", \"contact\", \"people\", \"information\", \"please\", \"order\", \"online\", \"country\", \"internet\", \"business\", \"transaction\", \"access\", \"offer\", \"message\", \"program\", \"provide\", \"request\", \"interest\", \"would\", \"company\", \"million\", \"product\", \"regard\", \"report\", \"include\", \"wysak\", \"plaintiff\", \"usted\", \"empresas\", \"roxxy\", \"extel\", \"embattle\", \"empresa\", \"curso\", \"viastar\", \"informacin\", \"updatel\", \"dynergy\", \"oust\", \"afxnews\", \"afxpress\", \"janus\", \"newswires\", \"cheddar\", \"clique\", \"tumble\", \"shipman\", \"horas\", \"recibir\", \"desea\", \"nuestra\", \"neariy\", \"exxonmobiie\", \"coale\", \"oaxaca\", \"fastow\", \"chevrontexaco\", \"fitch\", \"dynegy\", \"osprey\", \"moody\", \"dealings\", \"downgrade\", \"rival\", \"rolete\", \"bloomberg\", \"rating\", \"plunge\", \"partnership\", \"reuters\", \"infusion\", \"meade\", \"jones\", \"takeover\", \"merger\", \"copyright\", \"english\", \"lawsuit\", \"collapse\", \"citigroup\", \"percent\", \"billion\", \"spokesman\", \"investor\", \"share\", \"enron\", \"earnings\", \"stock\", \"cent\", \"company\", \"chief\", \"analyst\", \"shareholder\", \"credit\", \"financial\", \"street\", \"reserve\", \"energy\", \"trading\", \"trader\", \"million\", \"right\", \"houston\", \"exchange\", \"investment\", \"executive\", \"security\", \"ooking\", \"technoiogy\", \"lauraan\", \"resuits\", \"couid\", \"newsietter\", \"piease\", \"shouid\", \"vinoble\", \"internationa\", \"pubiisher\", \"potentia\", \"emerson\", \"nomad\", \"pians\", \"beiieves\", \"inciude\", \"invoive\", \"completeness\", \"imited\", \"piaced\", \"additiona\", \"maiiings\", \"pubiication\", \"nationa\", \"specuiative\", \"microcap\", \"technoiogies\", \"otcbb\", \"currentiy\", \"publisher\", \"differ\", \"inherent\", \"materia\", \"projection\", \"statement\", \"patent\", \"symbol\", \"advice\", \"meaning\", \"rocket\", \"pertain\", \"investing\", \"herein\", \"subscriber\", \"deciding\", \"reader\", \"prediction\", \"expectation\", \"newsletter\", \"anticipate\", \"within\", \"stocks\", \"security\", \"risk\", \"technology\", \"company\", \"section\", \"looking\", \"belief\", \"investment\", \"performance\", \"uncertainty\", \"future\", \"information\", \"report\", \"event\", \"stock\", \"product\", \"forward\", \"estimate\", \"price\", \"provide\", \"expect\", \"result\", \"market\", \"share\", \"include\", \"project\", \"investor\", \"base\", \"business\", \"could\", \"kaminski\", \"anjam\", \"vkamins\", \"crenshaw\", \"zimin\", \"upenn\", \"internship\", \"localize\", \"vince\", \"jinbaek\", \"utexas\", \"leppard\", \"stinson\", \"vkaminski\", \"duffie\", \"wharton\", \"piazze\", \"homesite\", \"gibner\", \"giuseppe\", \"cantekin\", \"botanical\", \"ragga\", \"dagga\", \"marketpoint\", \"bambos\", \"christie\", \"stochastic\", \"nesbitt\", \"lacima\", \"shirley\", \"dinner\", \"penis\", \"berkeley\", \"faculty\", \"vasant\", \"simulation\", \"masson\", \"baylor\", \"stanford\", \"modeling\", \"kirstee\", \"student\", \"seminar\", \"shmuel\", \"resume\", \"interview\", \"shanbhogue\", \"university\", \"speaker\", \"research\", \"lunch\", \"presentation\", \"model\", \"professor\", \"conference\", \"school\", \"summer\", \"subject\", \"would\", \"forward\", \"thanks\", \"meeting\", \"enron\", \"please\", \"group\", \"regard\", \"houston\", \"finance\", \"thank\", \"visit\", \"schedule\", \"interest\", \"option\", \"think\", \"program\", \"energy\", \"contact\", \"message\", \"adobe\", \"cialis\", \"macromedia\", \"photoshop\", \"corel\", \"acrobat\", \"corei\", \"saave\", \"computron\", \"symantec\", \"norton\", \"impotence\", \"tadalafil\", \"painter\", \"illustrator\", \"quark\", \"audition\", \"regalis\", \"borland\", \"premiere\", \"quickbooks\", \"autodesk\", \"drvgs\", \"intuit\", \"framemaker\", \"roxio\", \"powerquest\", \"eiements\", \"sidebacks\", \"systemworks\", \"medication\", \"xanax\", \"dreamweaver\", \"studio\", \"erection\", \"pill\", \"height\", \"width\", \"prescription\", \"windows\", \"pharmacy\", \"color\", \"drug\", \"orgasm\", \"generic\", \"alias\", \"software\", \"viagra\", \"download\", \"discreet\", \"graphics\", \"cheap\", \"sexual\", \"shipping\", \"microsoft\", \"professional\", \"popular\", \"edition\", \"coupon\", \"super\", \"price\", \"quality\", \"online\", \"suite\", \"offer\", \"brand\", \"version\", \"available\", \"office\", \"order\", \"hours\", \"system\", \"product\", \"review\", \"squirrelmail\", \"rolex\", \"andmanyother\", \"mailwisconsin\", \"qmail\", \"lottery\", \"lotto\", \"replica\", \"winnings\", \"successfull\", \"shlpp\", \"iaagra\", \"disqualify\", \"miiiion\", \"unscrupulous\", \"alium\", \"cartier\", \"contemporary\", \"omega\", \"ambieen\", \"piils\", \"shlpplng\", \"medlcatlons\", \"contributeto\", \"medlcations\", \"shareware\", \"needsand\", \"breitling\", \"chanel\", \"removido\", \"projecthoneypot\", \"congratulations\", \"prize\", \"unwarranted\", \"batch\", \"serial\", \"winning\", \"prlces\", \"winner\", \"lucky\", \"encoding\", \"complication\", \"agent\", \"ballot\", \"remit\", \"category\", \"promotion\", \"claim\", \"draw\", \"unnecessary\", \"tiscali\", \"award\", \"notification\", \"international\", \"avoid\", \"program\", \"numbers\", \"participant\", \"number\", \"address\", \"message\", \"email\", \"inform\", \"please\", \"total\", \"order\", \"receive\", \"contact\", \"company\", \"names\", \"million\"], \"Freq\": [61008.0, 26795.0, 8650.0, 18200.0, 6457.0, 4811.0, 5369.0, 13049.0, 8942.0, 11794.0, 9165.0, 4026.0, 7384.0, 2653.0, 4547.0, 5516.0, 7331.0, 10684.0, 4843.0, 7529.0, 2682.0, 4947.0, 9105.0, 4305.0, 4131.0, 7457.0, 10858.0, 8430.0, 3932.0, 6241.0, 208.8047439016656, 160.74896494454842, 212.42203350288594, 141.35748983236158, 138.1483313738535, 158.45737616366057, 450.6720734883919, 155.65643731048456, 242.2485857855431, 90.78835515277831, 89.32444918153125, 96.23759060866432, 78.48548707409911, 74.90727141204471, 77.82227396719168, 149.50837369695935, 74.11299208764063, 267.857859594444, 77.0161937293062, 93.98076763735813, 155.7632293851079, 66.64339866630654, 65.250258367769, 443.65942930650704, 63.746898068090864, 66.98315705017488, 77.16330706603468, 56.849379139614584, 55.731273549168264, 55.33964068504882, 465.9244799289882, 363.407343714989, 673.1972104884222, 2395.9915155354247, 320.8168738717756, 73.5600520594457, 115.89762054204199, 6739.67854370068, 779.7015339020762, 331.69756379696776, 7829.38345775534, 984.8815219574103, 1554.0307682887071, 261.09216766199467, 697.1840267726074, 971.9017202194926, 302.3383418421934, 1508.078329657542, 1488.617261002358, 1966.2835613827258, 1242.779074415592, 1362.66871221633, 1017.008243895076, 809.0170553226691, 1199.5800171331982, 908.0823093419511, 1365.6983800192625, 583.6985518697176, 5950.533094359165, 1823.131085378251, 3122.064673901186, 5009.489542109397, 5278.449875949369, 1817.9497235813835, 5153.354956059369, 1630.2320443644098, 1864.2780929616536, 2838.2346936839713, 2300.0599613599607, 1246.1780205786206, 2555.055232187723, 4701.501481976064, 2266.3830204729084, 1524.1812157249017, 1650.122970581729, 2130.570252648246, 1976.195904086532, 2068.459444194582, 1751.2292341650518, 1797.988310348607, 4268.271866314149, 1950.1464225889792, 1665.9969861591405, 1596.2561705925273, 1596.4839087609419, 1563.1412858066403, 2147.0399915841917, 759.0152291247937, 620.5357659794917, 684.8429011436698, 340.15611551735225, 336.4604377599958, 358.56373213914856, 302.00503158569444, 299.7694953375216, 1448.8758916653699, 396.6570659841778, 264.8234816161346, 256.83355747907535, 272.90164001867737, 269.5874763785062, 252.5761424239715, 243.31911344500392, 237.59868129590757, 249.52379109603885, 216.84525794318878, 219.25708392949076, 293.2075299988314, 461.78199958872403, 193.5950820061849, 206.1732624454033, 187.8726086388563, 183.03165845918943, 193.21201835107152, 171.2747480212742, 169.2221466450377, 697.7598493124219, 4407.403651612568, 242.40420069487197, 2392.1232539603525, 1371.0614343818283, 377.7375058699779, 305.4344868074785, 1296.2797804092802, 553.6614040541054, 349.98242089206354, 1540.5125848533576, 966.4170069579341, 427.7052468462022, 662.3392598017439, 577.9256184704311, 344.03407257290615, 897.3155418465608, 3809.8303093969494, 526.0824300214825, 1319.222596558601, 2281.532970421359, 3239.1497938998623, 883.4797176864374, 7817.024549526333, 1282.1797004348011, 504.22369444571484, 24748.70105020484, 4272.635808585998, 1738.7359131597693, 1272.68019856889, 605.0201831076809, 932.7321383171933, 2784.986663712027, 6772.632171730785, 3925.938616693179, 2732.3557736170833, 2416.598563120577, 2283.106585784971, 3400.97256915129, 2126.2223071056655, 1721.586700128439, 1349.212711204981, 1658.345408668352, 1615.297457096987, 3018.4688932060794, 1752.9045303887613, 1825.4144425634702, 1885.8613211630425, 1901.127607221265, 1609.781221268129, 1688.7051477081998, 1519.9534348183759, 403.1766480458949, 257.16914168492343, 247.49309489612895, 239.33444660102714, 143.13205735312678, 135.3554459832581, 131.84896801079853, 117.63091223798841, 114.27529830700621, 216.81928697247852, 102.46155162444506, 97.27114901687061, 126.81054765082374, 92.27729097442668, 88.23961459425568, 87.71625805786627, 88.84126720190342, 80.9204216707275, 72.35882960302254, 71.45812539288048, 70.08667804796025, 72.51932464561756, 67.28239023489041, 67.28239023489041, 67.28239023489041, 67.10833964840022, 69.2859775363147, 69.2757693965533, 65.33376817505068, 65.33376817505068, 479.3949913297615, 66.84612391984352, 340.7935589009023, 417.7660492505627, 614.0526622642546, 459.5500790642708, 414.33602771993446, 589.0633092699314, 1266.3706554589762, 145.60086890104833, 346.87201195385455, 143.99542790725098, 108.49044289636487, 656.5420709283593, 3805.533326355068, 222.84548012123878, 3073.334381472418, 432.28827151709737, 313.77264902363197, 411.69440643360673, 620.0658697935304, 440.88740645357854, 262.313755555349, 2364.0589218087734, 1189.592631975329, 1141.1620426846891, 257.51718514403944, 924.5736833120428, 752.5936971340449, 632.9952182602354, 548.8659490156325, 381.41791518078287, 1574.7990872122402, 5453.109711972451, 1375.419270780415, 4023.2164023071873, 883.5599027322891, 3549.136482746284, 2987.846989571333, 921.9070142085761, 1047.6430739893904, 1269.013373308727, 2737.5749721055267, 2203.647852886423, 4282.8133642678595, 5902.66470200566, 2538.3908056739347, 1854.060894181552, 1331.226495123134, 1519.3418349338922, 3632.410663376301, 1330.5535514645167, 1376.155468834388, 1932.5567131244695, 2531.889223424314, 1648.2654891580255, 2019.306076383988, 1607.6119585197032, 1736.0303855750942, 1895.1876785077527, 2069.18724594184, 1566.7122205359553, 1453.541450165366, 1406.2030380441668, 1402.6176219337078, 1390.0694735412023, 437.8553991498657, 171.17153359706674, 76.46944106109024, 75.25372754878867, 74.11927071488148, 70.71309028533912, 103.85221783454077, 64.17407659077078, 63.81313910017821, 61.760368699563266, 61.11129045308319, 193.6249982609923, 68.23551308663525, 203.0504311388316, 63.92287205961829, 63.91928299259859, 86.89097073121567, 419.3670995370407, 55.0446663414897, 51.300002710398246, 129.84366814694954, 60.06890273897006, 48.950309901117876, 47.94719582933664, 44.4211134171317, 44.16956707007258, 42.75154880808593, 42.411713423023805, 177.89903363062385, 38.36137840406833, 1538.4820291452093, 326.3840846495275, 325.5104232989767, 5045.177688680134, 128.92192134106187, 857.2532219048678, 439.0613256684875, 995.7049104025659, 515.0090400418431, 85.29712337219492, 938.544443812618, 2618.998141448456, 425.0288980009701, 2470.9096572017074, 1333.9169514036068, 192.99487069051264, 115.87926184485327, 3380.0642063706146, 346.65412983593444, 1085.0304146617716, 2419.357706007889, 654.2598137019908, 512.5591449048725, 407.04837597086606, 359.09787759666676, 2174.3575759109012, 3713.0089848912594, 528.0385396256462, 3054.156814163122, 4268.219677344708, 25150.6503388495, 1315.7226938977635, 3962.6948078637242, 1120.2144508457354, 10282.90212739718, 1556.2813887447946, 1912.2938348999592, 1103.6749040371126, 2771.4449795730297, 2766.071794375212, 1273.9495730156132, 1343.5793230252011, 3238.311782623867, 2432.6545860579563, 1308.123362234097, 2316.839957579685, 1738.9016439983682, 1640.6935105210657, 1296.3585412912214, 1502.0840237154086, 1261.412328551006, 1300.7682077686788, 681.4226260322785, 395.19910166300025, 391.97220505718434, 374.7142613008674, 357.84453266228536, 351.98151799913177, 354.8825992917262, 325.92663628469126, 315.6331411275168, 298.96233309987446, 286.7549796916265, 288.66279803421713, 251.44139014083493, 241.3265819011826, 231.79715404180203, 228.8165535790881, 248.05186899911837, 220.8624282256035, 233.84587212446903, 205.78024825194743, 206.4984499946997, 191.1609895140734, 187.37504275402813, 183.3891561484867, 178.37252141091975, 183.61601133615954, 173.2837286416968, 195.1324935875401, 166.7745192697348, 161.69589997136265, 720.440963323449, 860.2495184335341, 492.15616706213336, 449.30350711891276, 897.0210097690864, 5606.285937126903, 425.4795411014671, 425.850919974306, 1662.2044071517541, 837.9467788663491, 338.81402676396556, 419.1004917573104, 997.7089266380729, 551.5800331671715, 714.1843731237819, 379.99880372907654, 676.7290131502596, 420.4378029942683, 1074.6697425219072, 1116.5449565254635, 1009.1198992381437, 2967.2297663077484, 1509.9220065463296, 3893.0227106222833, 988.9242572440551, 1672.490069302615, 8643.238292992644, 1244.4154060226376, 1902.758711254549, 796.1506121650621, 2663.9212660613307, 1408.0541180563632, 825.000461529939, 1983.0656364378794, 3436.8033572928007, 2867.9998078476647, 1409.2350711624715, 2369.9777949152763, 1988.463200653574, 2186.281377297439, 1092.2195271062296, 2180.8684113151135, 1734.7962552345227, 1373.5556707794738, 1419.0751390650105, 1641.852482525672, 1445.1479140083313, 1392.7488389631221, 1273.784083526191, 1247.7420366172764, 1214.07860668814, 1300.9013096439078, 1145.3224779862583, 4807.372710926275, 368.60137776714095, 303.95223684955744, 1123.3415601105037, 525.7100843475595, 227.77595040644798, 230.92269002395088, 186.62870766831688, 8611.516661609372, 152.4678815544913, 156.99344959689216, 175.90296858564545, 1044.557674863415, 117.79587607471484, 103.21571260438901, 558.6053233149205, 93.50689674116755, 89.64768290038604, 627.2697143213868, 87.76916635139254, 87.42659124093956, 87.34035524227868, 84.18277044224513, 84.18274459987215, 82.34914209513174, 83.01191282103011, 473.90856530219304, 78.67750942574565, 76.00283243561415, 74.2234386152782, 1699.3852133482205, 559.0988092694989, 345.54877508445753, 277.55521762426173, 184.36603563073274, 441.88304278361824, 275.3830455768815, 213.0306886292263, 367.3490908286408, 586.1608388930185, 292.0145421584958, 123.85755783814282, 945.4089660068796, 475.66233210264926, 172.48493573651473, 1132.793252976619, 1600.4779756248845, 270.13075554956134, 1211.3692966318895, 509.83304723120494, 2770.318372126108, 531.9706576276272, 1319.0570146535997, 1644.2486154710148, 480.50381454070384, 1633.406258373173, 807.3307551772955, 756.9670023954882, 3438.0163771408515, 3727.5193162968944, 2498.851066273857, 2199.6104453239655, 1756.5012680833106, 6791.291823039415, 3466.7541985113985, 1953.6133822886663, 1704.2377907784112, 1524.5645233433115, 906.7897792486706, 1058.4357182879062, 988.2699543238328, 970.8027153997874, 1302.0265462895484, 1048.2017940196934, 976.861614801057, 1003.0038282286912, 1095.7890422476721, 1002.7429925439992, 995.7371596834554, 2652.970282445931, 730.0179233619181, 589.1679802455287, 545.6339445040662, 539.4667500743268, 378.9844332795542, 217.9568670680126, 212.5698416266164, 207.4785165989839, 169.0171856903142, 354.3357811320131, 156.81596709029347, 148.00374518946825, 138.87864743742554, 138.61919729988793, 132.48677807939325, 132.38443267856553, 147.5743996659169, 121.76037388073748, 447.2982606851171, 118.97333585150413, 111.59574793160046, 112.44102193109215, 107.83803500306557, 106.42055625320083, 103.82527693154006, 103.43448521347328, 103.29853657442709, 101.92820945197232, 99.16524734476981, 757.340851740209, 175.1898661568403, 134.19448130943343, 695.2063426025883, 246.30302718421376, 649.8791103653595, 335.60647174855427, 280.78752699523193, 754.3094880615959, 1030.9570476129607, 310.1217597185555, 416.14799823741225, 447.27518497973796, 170.4790882039933, 480.2117333354334, 224.68543561933063, 2820.4053375603894, 901.7802188076813, 896.775417572022, 230.91652267639824, 476.4777932329743, 645.1858917715093, 325.73797054751805, 582.9885811519987, 715.219162323772, 1108.6446630016987, 444.35071314127856, 476.544070215149, 375.56054013273194, 449.7690180852377, 1957.6219292851954, 678.3960751554396, 996.3215858099219, 488.0644645776991, 799.939816253892, 501.08320369092587, 561.3587243041338, 642.5234160766101, 643.495222534144, 616.0572793441034, 512.3149698786639, 559.2554808527308, 529.9475164455131, 509.98808202521514, 304.00695729634526, 295.4187244984705, 309.3388031081561, 200.81520832766745, 177.35265500029098, 1055.1767582554983, 171.83079359746512, 170.08771631722854, 116.19202858689677, 104.73521271917134, 101.28638810260138, 100.29054817502254, 94.4349311183218, 95.51993541088825, 89.30550257251296, 89.10292568786255, 84.84863067173174, 80.83836480924816, 78.7702484413279, 74.83420525035292, 64.03158988308847, 145.1354490842238, 62.58987955098291, 56.783348698637504, 55.857893655064295, 49.99572876380831, 48.01995178399068, 47.98479404169404, 47.76334398685497, 46.729136594158284, 351.0783023928027, 719.3167476395702, 825.8455673511103, 165.98818199063882, 451.1238290025814, 242.810777564004, 771.9433213763114, 129.0251805402938, 724.060003155356, 415.1765712312773, 144.2197654779095, 184.25518995206036, 861.1428302263419, 233.94358688824613, 206.8100961250727, 591.3076438954965, 708.7812506104418, 1434.6688456503946, 378.1596741973011, 173.75715472571872, 227.43896040712823, 549.5804977062483, 426.09487541892963, 934.6993784154439, 464.4098190615051, 1124.7465045234323, 690.3548183189693, 493.9223910794579, 1062.8324572697402, 939.2064538511194, 1198.4607836969242, 1160.6510955360236, 444.12720232754754, 1157.9997048670643, 527.248710643942, 613.4501648804411, 594.3425079573384, 541.2051545456992, 621.3649735406339, 400.1184255383422, 438.9975308837955], \"Total\": [61008.0, 26795.0, 8650.0, 18200.0, 6457.0, 4811.0, 5369.0, 13049.0, 8942.0, 11794.0, 9165.0, 4026.0, 7384.0, 2653.0, 4547.0, 5516.0, 7331.0, 10684.0, 4843.0, 7529.0, 2682.0, 4947.0, 9105.0, 4305.0, 4131.0, 7457.0, 10858.0, 8430.0, 3932.0, 6241.0, 209.8087472528545, 161.6174165343139, 213.65912293873888, 142.20250265780032, 138.994586434262, 159.439458327111, 453.47140182976403, 156.7036898107906, 243.99892416115128, 91.63221527813543, 90.17033145220239, 97.1796406596033, 79.33382659505232, 75.75120853521103, 78.70465040778724, 151.20603157535234, 74.9574448109024, 270.9359737007264, 77.96087572741465, 95.15711633408002, 157.7229581149839, 67.48908558755888, 66.09417845264281, 449.4487943466122, 64.59586138825568, 67.91099875508326, 78.29638774231898, 57.695552833852446, 56.575697483992336, 56.18357586225736, 474.2014082082487, 373.7981388268702, 699.0876900293476, 2597.8127492599847, 337.9041833548262, 74.7482126941708, 119.71971415936066, 8430.044349333608, 881.2069655093263, 365.1518502494015, 10684.605971228355, 1176.7142711220788, 1931.066017103238, 287.1596943687749, 834.6813045977436, 1200.244513206268, 340.190182339469, 2008.6009062945332, 2001.1900821097147, 2762.7056148477122, 1653.1934962311327, 1859.0105140649778, 1345.5091276470441, 1046.9035891640985, 1649.9053767819896, 1204.8960584353333, 1948.8057145665023, 735.162395755135, 11794.26952551984, 2926.4581785291325, 5689.15543706659, 10858.871738863023, 12654.919572986772, 3409.1111225897744, 14818.282384016347, 3027.832206757419, 3709.3742467828206, 6948.092130372696, 5079.0314454653435, 2190.1166801606573, 7267.66015515982, 26795.700467661678, 6976.007363627766, 3336.1384677870456, 3930.7718027639366, 6716.882967398912, 6123.054936672845, 6946.113133217166, 4719.330791258754, 5143.849906630057, 61008.79528162756, 9161.505452922625, 4764.892873278368, 5261.193749475437, 6951.111017361446, 5516.6043193577525, 2148.0476842448447, 760.0615122888672, 621.4026220136011, 685.8338003266506, 340.99590746718474, 337.3219141669999, 359.55522613144274, 302.8604251577751, 300.6437061383751, 1453.1012685447583, 397.8519092389702, 265.6799866129941, 257.6678138662889, 273.80714768951077, 270.48215043259637, 253.42104268287142, 244.15347754614626, 238.43261611592828, 250.4148642890619, 217.67930451292068, 220.1048650866125, 294.43622773512556, 463.7237556508578, 194.43422357442734, 207.07254418311717, 188.70929508150348, 183.8690736736522, 194.10270291523764, 172.10841406153494, 170.05646283740307, 705.5548958480731, 4547.141714931656, 243.98111579639078, 2490.082977437575, 1420.5997673606205, 383.63456417097495, 309.21644770986205, 1359.0404612433613, 568.3006259417546, 355.54907114168475, 1650.5276750155265, 1020.6852269951107, 441.2944624644467, 701.3048227529865, 609.975278196865, 351.3612230858371, 993.53123545153, 4932.045844968233, 560.1724851610705, 1550.9081667172672, 2873.097216236423, 4277.520171892271, 1019.0026762769588, 13049.348537845388, 1621.6130017435937, 543.4337021473987, 61008.79528162756, 7457.329991274422, 2505.245355729201, 1729.3285431351499, 681.1838124202077, 1194.6516723323268, 5384.587376861268, 18200.29836418294, 9165.993179759791, 5907.9301374513, 5067.088525625533, 4764.892873278368, 9105.226537020713, 4384.9663205863435, 3533.3722892325995, 2308.369763654953, 3629.9547421029274, 3453.287381569424, 14818.282384016347, 4255.799291635672, 5079.0314454653435, 5943.226929530135, 6946.113133217166, 4337.94569541713, 9161.505452922625, 3830.3025161894248, 404.0023846280559, 257.9939955278022, 248.3214277864305, 240.165963703636, 143.95569116520275, 136.17979217201386, 132.67311918729723, 118.45437368992118, 115.09894010569415, 218.43761314718105, 103.2868350078606, 98.10520898756106, 127.93487523707847, 93.10083246417535, 89.06287982715764, 88.53958340032779, 89.68091647806287, 81.74427131105197, 73.18212932048225, 72.28151731435365, 70.9106105458405, 73.38919298493936, 68.10562167065389, 68.10562397133634, 68.10562438500071, 67.93179086337447, 70.14379050111512, 70.14552191533707, 66.15699527716089, 66.15699915723893, 485.587292065523, 67.69274199619782, 352.49145725035424, 437.2729906193901, 656.3112664422101, 487.47786553446633, 438.5724269343902, 630.9686653447482, 1391.9075690965008, 150.38075836420126, 369.19113420404307, 149.02051600210052, 111.28933209275566, 733.2110194348072, 4669.953755660085, 236.02740637935557, 3813.591586345404, 474.6638256955093, 339.4631006434331, 454.18958038037323, 708.9984153402337, 492.51863561818567, 282.11744079576664, 3040.116954410617, 1446.1041565465998, 1416.9057444744742, 276.8323848483892, 1134.53667786689, 903.353849733853, 747.5761478182702, 638.9000146804341, 428.3115243785802, 2108.579670375429, 8942.561172839298, 1849.5303003918289, 6584.3837397632315, 1114.2499768031032, 5793.846030065686, 4843.424292031982, 1225.1905086370573, 1462.6891113807062, 1909.5994863214323, 5684.268302812324, 4442.2956538263015, 11198.28149739832, 18200.29836418294, 5562.593546449076, 3589.135019215294, 2244.5354305768783, 3005.426685368838, 12654.919572986772, 2473.518177351827, 2650.15200045997, 5249.155458144111, 9165.993179759791, 4305.305478323892, 6951.111017361446, 4384.9663205863435, 6434.2289509884595, 14818.282384016347, 26795.700467661678, 7267.66015515982, 5800.905105596266, 5943.226929530135, 9161.505452922625, 6976.007363627766, 438.70250957109465, 173.00904590169102, 77.31609443620832, 76.1004833764738, 74.96623578744716, 71.634275226387, 105.20990764490023, 65.02082695865946, 64.66041651670682, 62.60717694340668, 61.95827499281425, 196.31092517895195, 69.18980961205101, 206.11160568749534, 64.89840161728344, 64.89875433138099, 88.23769633493703, 425.8763638785587, 55.90954275620022, 52.1472820139017, 132.10168135513695, 61.12545630947944, 49.81412002726986, 48.7948064109284, 45.26797526687941, 45.022190582234, 43.603309391751154, 43.258928312219204, 181.75756919620025, 39.20951628374401, 1595.0265728454565, 334.23199433959536, 334.98758982803594, 5369.738126925252, 132.53675029970427, 903.8774091310376, 458.64563352213895, 1064.5011783292773, 544.8598990161241, 87.3386726813535, 1019.3337329294894, 2957.5089564334517, 456.7771563599499, 2823.0723569707893, 1517.1101755289471, 203.61196298829321, 120.13874724027472, 4131.127699817742, 376.8721778560555, 1293.4679111902174, 3051.4182264745027, 764.1923784750675, 596.9847023281085, 468.17081390711525, 409.6438532304376, 3043.4331977555803, 5516.6043193577525, 641.4366032185075, 4947.431166455063, 7331.879879185168, 61008.79528162756, 1953.4537889455446, 7384.527936234307, 1613.6891860061555, 26795.700467661678, 2572.0306628289386, 3451.251843816839, 1699.2983646576672, 5973.878575642678, 6123.054936672845, 2232.8689897761187, 2501.0909377700673, 10858.871738863023, 6948.092130372696, 2544.0819210108757, 7267.66015515982, 4939.948701833475, 5777.8397410994185, 2881.7543470687315, 6241.878907192, 2789.8669108938125, 7529.528496139027, 682.2472255251739, 396.0239816128258, 392.7967325774735, 375.5386480425561, 358.66886275108186, 352.80589464875374, 355.73900044328667, 326.75707470773693, 316.4573377125571, 299.78800173223664, 287.57920608541457, 289.4926125669709, 252.28522498152716, 242.15251239169166, 232.62193068032911, 229.64080902554878, 248.97610924480446, 221.68662532109374, 234.74223364627858, 206.60478502269183, 207.34423376580662, 191.9853835218026, 188.20575741777483, 184.21380774232327, 179.19682025785727, 184.47012222995053, 174.10868321155598, 196.07356470225628, 167.59933909957104, 162.5202639204269, 736.3481441861522, 898.1989970298214, 506.13212189567076, 463.6851334798527, 950.86147737693, 6457.832426607741, 442.15952719578115, 445.177581889452, 1884.6998701182483, 909.8653576365244, 353.1465615558798, 445.70969074472265, 1163.6087389717325, 604.5974790432052, 818.7396436294476, 403.45725978909644, 783.0900096552331, 453.5734623280557, 1337.5529532110188, 1417.982708536829, 1296.406381251009, 5036.629498422457, 2212.872325936554, 7529.528496139027, 1348.4143036381752, 2748.2310529920396, 26795.700467661678, 1946.7501287926707, 3626.3724813318036, 1086.4314277967756, 6241.878907192, 2514.502194118048, 1161.090855043222, 4342.975541584027, 11198.28149739832, 9161.505452922625, 2966.272635555032, 7384.527936234307, 5800.905105596266, 9105.226537020713, 2194.0410666677403, 11794.26952551984, 6951.111017361446, 3930.7718027639366, 4417.672497905271, 10684.605971228355, 7331.879879185168, 6976.007363627766, 5261.193749475437, 4947.431166455063, 4719.330791258754, 12654.919572986772, 6716.882967398912, 4811.648258900676, 369.5889357247182, 304.8427363848923, 1126.660231474422, 527.523442648149, 228.64859392567658, 231.9115447007256, 187.46196857912744, 8650.782570354831, 153.30097006628543, 157.8946293437908, 177.0404513161995, 1051.7265929899952, 118.67119854261311, 104.05544627875835, 563.6921894172003, 94.36694910785825, 90.47743964317546, 633.182341274061, 88.60424472718726, 88.27118985530134, 88.18591949092527, 85.01351696823083, 85.01351818147477, 83.17895168752165, 83.84846679681597, 478.7727417955303, 79.5185708493135, 76.8530760988737, 75.05525221221956, 1739.5692905333462, 566.2648100655324, 350.3368018193255, 280.89394330298927, 186.53808382756182, 451.6385311931712, 280.29852422441314, 216.62782074561727, 375.73848265873534, 606.0583226979935, 299.8994452729816, 125.6270262954651, 1003.8209841173597, 506.0688691955926, 176.9748064386473, 1285.2192449837305, 1925.9670359488046, 284.2015697112428, 1501.7898530670848, 578.7342577430659, 3932.7942790412867, 613.4685303662745, 1784.7172966997214, 2323.8455229971532, 563.726698156716, 2611.408029290894, 1175.144532613807, 1152.1029380765692, 13049.348537845388, 14818.282384016347, 9105.226537020713, 7457.329991274422, 5384.587376861268, 61008.79528162756, 18200.29836418294, 6946.113133217166, 5943.226929530135, 5777.8397410994185, 1959.37558428722, 3185.418627336483, 2666.3908854234974, 2619.342578118159, 6434.2289509884595, 3379.2616958893123, 3452.2501758459175, 4305.305478323892, 10858.871738863023, 5684.268302812324, 9165.993179759791, 2653.899699894735, 730.9165491789156, 589.9940928931849, 546.4529207950623, 540.2864449580611, 379.8033792079255, 218.7801341775643, 213.3872479922395, 208.29790652917265, 169.83468493625114, 356.20700447570954, 157.6467533451294, 148.82164326893158, 139.6962492477092, 139.43721919105414, 133.30468504467805, 133.20204266438904, 148.52276044038217, 122.57811286593473, 450.3243679817471, 119.79086229919723, 112.41312499583348, 113.28936109515863, 108.65663409507404, 107.23798897453467, 104.6426814525285, 104.25185222391461, 104.11595224614403, 102.74633802545789, 99.98278601782012, 766.4007482376343, 176.91747344419977, 135.41588589342493, 719.5611658580631, 251.2148565324769, 677.1612202097675, 345.17206298929466, 287.8612209478704, 795.5124093609281, 1103.3051630546922, 320.48750160006705, 446.321028589566, 482.31360453145345, 174.25273271789774, 531.7617205036775, 237.03985228863095, 4026.260453943872, 1131.9007372694712, 1128.9155115559176, 247.14010358917778, 588.5518070939586, 881.0656834963338, 382.8624207281198, 812.9541215190296, 1065.836317415323, 2195.383325103371, 609.4024395805377, 677.1273046034537, 480.2763734095405, 673.4720953337197, 11794.26952551984, 1533.4933301692329, 3589.135019215294, 841.9628345762, 5249.155458144111, 1015.7473406883015, 1792.5251107061176, 3522.4610755261706, 4337.94569541713, 5562.593546449076, 1574.4896234934865, 5681.536544654453, 5800.905105596266, 4255.799291635672, 304.83385324221246, 296.2458797498807, 310.2562012632013, 201.64207891080585, 178.17954884216226, 1060.1954084649142, 172.65841325856138, 170.91507730520937, 117.02476694661563, 105.56583216917312, 102.11921634616941, 101.11739000913286, 95.26962173435618, 96.37440232803651, 90.13248132992156, 89.93466100066662, 85.67606182912304, 81.67317793060673, 79.597461299251, 75.66104160881997, 64.86160097763252, 147.0301800913501, 63.417982216392126, 57.61019306870842, 56.68877166117427, 50.82317828032895, 48.846795841454316, 48.81164864609498, 48.59032283413425, 47.55995017868191, 363.90749708887745, 758.2473207134692, 877.8142708073051, 171.22460172202014, 476.97188484967336, 254.981748217989, 842.9562432219587, 133.3562350958655, 828.1763873087974, 461.85152153423473, 154.05215311704808, 202.79820104312074, 1159.2161354716998, 274.10969398022166, 239.1461895611647, 862.6782894559376, 1099.1250441349657, 2682.6717065868843, 525.7238224611009, 199.64695481563746, 284.7746360767047, 935.208118481085, 764.6585250814128, 2754.769223307646, 929.5310876541711, 4305.305478323892, 1944.7354499392836, 1096.9471161758863, 4653.883589616123, 4843.424292031982, 9165.993179759791, 8942.561172839298, 1216.011271977806, 18200.29836418294, 2740.411309972981, 5562.593546449076, 6584.3837397632315, 5684.268302812324, 26795.700467661678, 1221.0825221768873, 7267.66015515982], \"Category\": [\"Default\", \"Default\", \"Default\", \"Default\", \"Default\", \"Default\", \"Default\", \"Default\", \"Default\", \"Default\", \"Default\", \"Default\", \"Default\", \"Default\", \"Default\", \"Default\", \"Default\", \"Default\", \"Default\", \"Default\", \"Default\", \"Default\", \"Default\", \"Default\", \"Default\", \"Default\", \"Default\", \"Default\", \"Default\", \"Default\", \"Topic1\", \"Topic1\", \"Topic1\", \"Topic1\", \"Topic1\", \"Topic1\", \"Topic1\", \"Topic1\", \"Topic1\", \"Topic1\", \"Topic1\", \"Topic1\", \"Topic1\", \"Topic1\", \"Topic1\", \"Topic1\", \"Topic1\", \"Topic1\", \"Topic1\", \"Topic1\", \"Topic1\", \"Topic1\", \"Topic1\", \"Topic1\", \"Topic1\", \"Topic1\", \"Topic1\", \"Topic1\", \"Topic1\", \"Topic1\", \"Topic1\", \"Topic1\", \"Topic1\", \"Topic1\", \"Topic1\", \"Topic1\", \"Topic1\", \"Topic1\", \"Topic1\", \"Topic1\", \"Topic1\", \"Topic1\", \"Topic1\", \"Topic1\", \"Topic1\", \"Topic1\", \"Topic1\", \"Topic1\", \"Topic1\", \"Topic1\", \"Topic1\", \"Topic1\", \"Topic1\", \"Topic1\", \"Topic1\", \"Topic1\", \"Topic1\", \"Topic1\", \"Topic1\", \"Topic1\", \"Topic1\", \"Topic1\", \"Topic1\", \"Topic1\", \"Topic1\", \"Topic1\", \"Topic1\", \"Topic1\", \"Topic1\", \"Topic1\", \"Topic1\", \"Topic1\", \"Topic1\", \"Topic1\", \"Topic1\", \"Topic1\", \"Topic1\", \"Topic1\", \"Topic1\", \"Topic1\", \"Topic1\", \"Topic1\", \"Topic1\", \"Topic1\", \"Topic1\", \"Topic1\", \"Topic2\", \"Topic2\", \"Topic2\", \"Topic2\", \"Topic2\", \"Topic2\", \"Topic2\", \"Topic2\", \"Topic2\", \"Topic2\", \"Topic2\", \"Topic2\", \"Topic2\", \"Topic2\", \"Topic2\", \"Topic2\", \"Topic2\", \"Topic2\", \"Topic2\", \"Topic2\", \"Topic2\", \"Topic2\", \"Topic2\", \"Topic2\", \"Topic2\", \"Topic2\", \"Topic2\", \"Topic2\", \"Topic2\", \"Topic2\", \"Topic2\", \"Topic2\", \"Topic2\", \"Topic2\", \"Topic2\", \"Topic2\", \"Topic2\", \"Topic2\", \"Topic2\", \"Topic2\", \"Topic2\", \"Topic2\", \"Topic2\", \"Topic2\", \"Topic2\", \"Topic2\", \"Topic2\", \"Topic2\", \"Topic2\", \"Topic2\", \"Topic2\", \"Topic2\", \"Topic2\", \"Topic2\", \"Topic2\", \"Topic2\", \"Topic2\", \"Topic2\", \"Topic2\", \"Topic2\", \"Topic2\", \"Topic2\", \"Topic2\", \"Topic2\", \"Topic2\", \"Topic2\", \"Topic2\", \"Topic2\", \"Topic2\", \"Topic2\", \"Topic2\", \"Topic2\", \"Topic2\", \"Topic2\", \"Topic2\", \"Topic2\", \"Topic2\", \"Topic2\", \"Topic2\", \"Topic2\", \"Topic2\", \"Topic2\", \"Topic3\", \"Topic3\", \"Topic3\", \"Topic3\", \"Topic3\", \"Topic3\", \"Topic3\", \"Topic3\", \"Topic3\", \"Topic3\", \"Topic3\", \"Topic3\", \"Topic3\", \"Topic3\", \"Topic3\", \"Topic3\", \"Topic3\", \"Topic3\", \"Topic3\", \"Topic3\", \"Topic3\", \"Topic3\", \"Topic3\", \"Topic3\", \"Topic3\", \"Topic3\", \"Topic3\", \"Topic3\", \"Topic3\", \"Topic3\", \"Topic3\", \"Topic3\", \"Topic3\", \"Topic3\", \"Topic3\", \"Topic3\", \"Topic3\", \"Topic3\", \"Topic3\", \"Topic3\", \"Topic3\", \"Topic3\", \"Topic3\", \"Topic3\", \"Topic3\", \"Topic3\", \"Topic3\", \"Topic3\", \"Topic3\", \"Topic3\", \"Topic3\", \"Topic3\", \"Topic3\", \"Topic3\", \"Topic3\", \"Topic3\", \"Topic3\", \"Topic3\", \"Topic3\", \"Topic3\", \"Topic3\", \"Topic3\", \"Topic3\", \"Topic3\", \"Topic3\", \"Topic3\", \"Topic3\", \"Topic3\", \"Topic3\", \"Topic3\", \"Topic3\", \"Topic3\", \"Topic3\", \"Topic3\", \"Topic3\", \"Topic3\", \"Topic3\", \"Topic3\", \"Topic3\", \"Topic3\", \"Topic3\", \"Topic3\", \"Topic3\", \"Topic3\", \"Topic3\", \"Topic3\", \"Topic3\", \"Topic3\", \"Topic3\", \"Topic3\", \"Topic3\", \"Topic3\", \"Topic3\", \"Topic3\", \"Topic3\", \"Topic3\", \"Topic4\", \"Topic4\", \"Topic4\", \"Topic4\", \"Topic4\", \"Topic4\", \"Topic4\", \"Topic4\", \"Topic4\", \"Topic4\", \"Topic4\", \"Topic4\", \"Topic4\", \"Topic4\", \"Topic4\", \"Topic4\", \"Topic4\", \"Topic4\", \"Topic4\", \"Topic4\", \"Topic4\", \"Topic4\", \"Topic4\", \"Topic4\", \"Topic4\", \"Topic4\", \"Topic4\", \"Topic4\", \"Topic4\", \"Topic4\", \"Topic4\", \"Topic4\", \"Topic4\", \"Topic4\", \"Topic4\", \"Topic4\", \"Topic4\", \"Topic4\", \"Topic4\", \"Topic4\", \"Topic4\", \"Topic4\", \"Topic4\", \"Topic4\", \"Topic4\", \"Topic4\", \"Topic4\", \"Topic4\", \"Topic4\", \"Topic4\", \"Topic4\", \"Topic4\", \"Topic4\", \"Topic4\", \"Topic4\", \"Topic4\", \"Topic4\", \"Topic4\", \"Topic4\", \"Topic4\", \"Topic4\", \"Topic4\", \"Topic4\", \"Topic4\", \"Topic4\", \"Topic4\", \"Topic4\", \"Topic4\", \"Topic4\", \"Topic4\", \"Topic4\", \"Topic4\", \"Topic4\", \"Topic4\", \"Topic4\", \"Topic4\", \"Topic4\", \"Topic4\", \"Topic4\", \"Topic4\", \"Topic4\", \"Topic4\", \"Topic5\", \"Topic5\", \"Topic5\", \"Topic5\", \"Topic5\", \"Topic5\", \"Topic5\", \"Topic5\", \"Topic5\", \"Topic5\", \"Topic5\", \"Topic5\", \"Topic5\", \"Topic5\", \"Topic5\", \"Topic5\", \"Topic5\", \"Topic5\", \"Topic5\", \"Topic5\", \"Topic5\", \"Topic5\", \"Topic5\", \"Topic5\", \"Topic5\", \"Topic5\", \"Topic5\", \"Topic5\", \"Topic5\", \"Topic5\", \"Topic5\", \"Topic5\", \"Topic5\", \"Topic5\", \"Topic5\", \"Topic5\", \"Topic5\", \"Topic5\", \"Topic5\", \"Topic5\", \"Topic5\", \"Topic5\", \"Topic5\", \"Topic5\", \"Topic5\", \"Topic5\", \"Topic5\", \"Topic5\", \"Topic5\", \"Topic5\", \"Topic5\", \"Topic5\", \"Topic5\", \"Topic5\", \"Topic5\", \"Topic5\", \"Topic5\", \"Topic5\", \"Topic5\", \"Topic5\", \"Topic5\", \"Topic5\", \"Topic5\", \"Topic5\", \"Topic5\", \"Topic5\", \"Topic5\", \"Topic5\", \"Topic5\", \"Topic5\", \"Topic5\", \"Topic5\", \"Topic5\", \"Topic5\", \"Topic5\", \"Topic5\", \"Topic5\", \"Topic5\", \"Topic5\", \"Topic5\", \"Topic5\", \"Topic5\", \"Topic5\", \"Topic6\", \"Topic6\", \"Topic6\", \"Topic6\", \"Topic6\", \"Topic6\", \"Topic6\", \"Topic6\", \"Topic6\", \"Topic6\", \"Topic6\", \"Topic6\", \"Topic6\", \"Topic6\", \"Topic6\", \"Topic6\", \"Topic6\", \"Topic6\", \"Topic6\", \"Topic6\", \"Topic6\", \"Topic6\", \"Topic6\", \"Topic6\", \"Topic6\", \"Topic6\", \"Topic6\", \"Topic6\", \"Topic6\", \"Topic6\", \"Topic6\", \"Topic6\", \"Topic6\", \"Topic6\", \"Topic6\", \"Topic6\", \"Topic6\", \"Topic6\", \"Topic6\", \"Topic6\", \"Topic6\", \"Topic6\", \"Topic6\", \"Topic6\", \"Topic6\", \"Topic6\", \"Topic6\", \"Topic6\", \"Topic6\", \"Topic6\", \"Topic6\", \"Topic6\", \"Topic6\", \"Topic6\", \"Topic6\", \"Topic6\", \"Topic6\", \"Topic6\", \"Topic6\", \"Topic6\", \"Topic6\", \"Topic6\", \"Topic6\", \"Topic6\", \"Topic6\", \"Topic6\", \"Topic6\", \"Topic6\", \"Topic6\", \"Topic6\", \"Topic6\", \"Topic6\", \"Topic6\", \"Topic6\", \"Topic6\", \"Topic6\", \"Topic6\", \"Topic6\", \"Topic6\", \"Topic7\", \"Topic7\", \"Topic7\", \"Topic7\", \"Topic7\", \"Topic7\", \"Topic7\", \"Topic7\", \"Topic7\", \"Topic7\", \"Topic7\", \"Topic7\", \"Topic7\", \"Topic7\", \"Topic7\", \"Topic7\", \"Topic7\", \"Topic7\", \"Topic7\", \"Topic7\", \"Topic7\", \"Topic7\", \"Topic7\", \"Topic7\", \"Topic7\", \"Topic7\", \"Topic7\", \"Topic7\", \"Topic7\", \"Topic7\", \"Topic7\", \"Topic7\", \"Topic7\", \"Topic7\", \"Topic7\", \"Topic7\", \"Topic7\", \"Topic7\", \"Topic7\", \"Topic7\", \"Topic7\", \"Topic7\", \"Topic7\", \"Topic7\", \"Topic7\", \"Topic7\", \"Topic7\", \"Topic7\", \"Topic7\", \"Topic7\", \"Topic7\", \"Topic7\", \"Topic7\", \"Topic7\", \"Topic7\", \"Topic7\", \"Topic7\", \"Topic7\", \"Topic7\", \"Topic7\", \"Topic7\", \"Topic7\", \"Topic7\", \"Topic7\", \"Topic7\", \"Topic7\", \"Topic7\", \"Topic7\", \"Topic7\", \"Topic7\", \"Topic7\", \"Topic7\", \"Topic7\", \"Topic7\", \"Topic8\", \"Topic8\", \"Topic8\", \"Topic8\", \"Topic8\", \"Topic8\", \"Topic8\", \"Topic8\", \"Topic8\", \"Topic8\", \"Topic8\", \"Topic8\", \"Topic8\", \"Topic8\", \"Topic8\", \"Topic8\", \"Topic8\", \"Topic8\", \"Topic8\", \"Topic8\", \"Topic8\", \"Topic8\", \"Topic8\", \"Topic8\", \"Topic8\", \"Topic8\", \"Topic8\", \"Topic8\", \"Topic8\", \"Topic8\", \"Topic8\", \"Topic8\", \"Topic8\", \"Topic8\", \"Topic8\", \"Topic8\", \"Topic8\", \"Topic8\", \"Topic8\", \"Topic8\", \"Topic8\", \"Topic8\", \"Topic8\", \"Topic8\", \"Topic8\", \"Topic8\", \"Topic8\", \"Topic8\", \"Topic8\", \"Topic8\", \"Topic8\", \"Topic8\", \"Topic8\", \"Topic8\", \"Topic8\", \"Topic8\", \"Topic8\", \"Topic8\", \"Topic8\", \"Topic8\", \"Topic8\", \"Topic8\", \"Topic8\", \"Topic8\", \"Topic8\", \"Topic8\", \"Topic8\", \"Topic8\", \"Topic8\", \"Topic8\", \"Topic8\"], \"logprob\": [30.0, 29.0, 28.0, 27.0, 26.0, 25.0, 24.0, 23.0, 22.0, 21.0, 20.0, 19.0, 18.0, 17.0, 16.0, 15.0, 14.0, 13.0, 12.0, 11.0, 10.0, 9.0, 8.0, 7.0, 6.0, 5.0, 4.0, 3.0, 2.0, 1.0, -7.976399898529053, -8.237899780273438, -7.959199905395508, -8.366499900817871, -8.38949966430664, -8.252300262451172, -7.206999778747559, -8.270099639892578, -7.8277997970581055, -8.809300422668457, -8.825499534606934, -8.75100040435791, -8.954899787902832, -9.001500129699707, -8.963399887084961, -8.310400009155273, -9.012200355529785, -7.72730016708374, -8.973799705505371, -8.774700164794922, -8.269399642944336, -9.118399620056152, -9.139599800109863, -7.222700119018555, -9.1628999710083, -9.113300323486328, -8.97189998626709, -9.277400016784668, -9.297200202941895, -9.304300308227539, -7.173799991607666, -7.422299861907959, -6.805699825286865, -5.536200046539307, -7.546899795532227, -9.019700050354004, -8.565099716186523, -4.501999855041504, -6.658899784088135, -7.513599872589111, -4.352099895477295, -6.425300121307373, -5.969200134277344, -7.752900123596191, -6.770699977874756, -6.438499927520752, -7.606200218200684, -5.999199867248535, -6.012199878692627, -5.73390007019043, -6.192699909210205, -6.100599765777588, -6.393199920654297, -6.622000217437744, -6.228099822998047, -6.506400108337402, -6.098400115966797, -6.948400020599365, -4.626500129699707, -5.809500217437744, -5.271500110626221, -4.798699855804443, -4.746399879455566, -5.812300205230713, -4.770400047302246, -5.921299934387207, -5.787199974060059, -5.366799831390381, -5.577099800109863, -6.189899921417236, -5.4720001220703125, -4.862100124359131, -5.591800212860107, -5.98859977722168, -5.909200191497803, -5.653600215911865, -5.728899955749512, -5.683199882507324, -5.849699974060059, -5.823400020599365, -4.958799839019775, -5.742099761962891, -5.899600028991699, -5.942399978637695, -5.942200183868408, -5.9633002281188965, -5.474100112915039, -6.513899803161621, -6.715400218963623, -6.616799831390381, -7.3165998458862305, -7.327499866485596, -7.263899803161621, -7.435500144958496, -7.44290018081665, -5.867400169372559, -7.162899971008301, -7.56689977645874, -7.597499847412109, -7.536900043487549, -7.549099922180176, -7.614200115203857, -7.651599884033203, -7.6753997802734375, -7.626399993896484, -7.7667999267578125, -7.75570011138916, -7.465099811553955, -7.010900020599365, -7.880199909210205, -7.817200183868408, -7.910200119018555, -7.936299800872803, -7.882199764251709, -8.002699851989746, -8.014699935913086, -6.598100185394287, -4.754899978637695, -7.655399799346924, -5.366000175476074, -5.922599792480469, -7.2118000984191895, -7.424200057983398, -5.978700160980225, -6.829400062561035, -7.288099765777588, -5.806099891662598, -6.27239990234375, -7.087500095367432, -6.650199890136719, -6.786499977111816, -7.305200099945068, -6.34660005569458, -4.900599956512451, -6.880499839782715, -5.96120023727417, -5.413400173187256, -5.062900066375732, -6.362100124359131, -4.1819000244140625, -5.98960018157959, -6.922900199890137, -3.029400110244751, -4.785999774932861, -5.684999942779541, -5.997099876403809, -6.740699768066406, -6.307799816131592, -5.214000225067139, -4.325300216674805, -4.87060022354126, -5.232999801635742, -5.355800151824951, -5.412700176239014, -5.014100074768066, -5.48390007019043, -5.695000171661377, -5.938700199127197, -5.732399940490723, -5.758699893951416, -5.133500099182129, -5.6768999099731445, -5.63640022277832, -5.603799819946289, -5.595799922943115, -5.7621002197265625, -5.714200019836426, -5.819499969482422, -7.114500045776367, -7.5640997886657715, -7.602499961853027, -7.636000156402588, -8.150099754333496, -8.205900192260742, -8.232199668884277, -8.34630012512207, -8.375200271606445, -7.734799861907959, -8.484399795532227, -8.536299705505371, -8.271200180053711, -8.58899974822998, -8.63379955291748, -8.639699935913086, -8.626999855041504, -8.720399856567383, -8.832200050354004, -8.84469985961914, -8.864100456237793, -8.829999923706055, -8.904899597167969, -8.904899597167969, -8.904899597167969, -8.907500267028809, -8.87559986114502, -8.875699996948242, -8.934300422668457, -8.934300422668457, -6.941299915313721, -8.911399841308594, -7.282599925994873, -7.07889986038208, -6.69379997253418, -6.98360013961792, -7.087200164794922, -6.735300064086914, -5.969900131225586, -8.133000373840332, -7.264900207519531, -8.144100189208984, -8.427200317382812, -6.6269001960754395, -4.86959981918335, -7.707399845123291, -5.0833001136779785, -7.0447998046875, -7.365200042724609, -7.093599796295166, -6.684000015258789, -7.025100231170654, -7.544300079345703, -5.345699787139893, -6.03249979019165, -6.073999881744385, -7.56279993057251, -6.2845001220703125, -6.490300178527832, -6.663400173187256, -6.806000232696533, -7.169899940490723, -5.751999855041504, -4.509900093078613, -5.88730001449585, -4.814000129699707, -6.329899787902832, -4.9394001960754395, -5.111499786376953, -6.287399768829346, -6.1595001220703125, -5.967800140380859, -5.198999881744385, -5.415999889373779, -4.751500129699707, -4.430699825286865, -5.274600028991699, -5.588699817657471, -5.920000076293945, -5.787799835205078, -4.916200160980225, -5.920499801635742, -5.8867998123168945, -5.5472002029418945, -5.277100086212158, -5.706399917602539, -5.503300189971924, -5.731299877166748, -5.6545000076293945, -5.566800117492676, -5.478899955749512, -5.7571001052856445, -5.832099914550781, -5.865200042724609, -5.867700099945068, -5.876699924468994, -6.6707000732421875, -7.609899997711182, -8.41569995880127, -8.431699752807617, -8.446900367736816, -8.493900299072266, -8.109600067138672, -8.590999603271484, -8.596599578857422, -8.629300117492676, -8.639900207519531, -7.486599922180176, -8.529600143432617, -7.4390997886657715, -8.594900131225586, -8.594900131225586, -8.2878999710083, -6.713799953460693, -8.744400024414062, -8.814900398254395, -7.886199951171875, -8.657099723815918, -8.861700057983398, -8.882499694824219, -8.958800315856934, -8.964500427246094, -8.997099876403809, -9.00510025024414, -7.571300029754639, -9.105500221252441, -5.414000034332275, -6.9644999504089355, -6.967199802398682, -4.226399898529053, -7.8933000564575195, -5.998799800872803, -6.667900085449219, -5.849100112915039, -6.508399963378906, -8.306400299072266, -5.908199787139893, -4.881999969482422, -6.700399875640869, -4.940199851989746, -5.556700229644775, -7.4899001121521, -8.0, -4.6269001960754395, -6.904200077056885, -5.763199806213379, -4.961299896240234, -6.269000053405762, -6.5131001472473145, -6.743599891662598, -6.86899995803833, -5.0680999755859375, -4.5329999923706055, -6.483399868011475, -4.728300094604492, -4.393599987030029, -2.6198999881744385, -5.570400238037109, -4.467899799346924, -5.731299877166748, -3.5143001079559326, -5.402500152587891, -5.196499824523926, -5.746200084686279, -4.825399875640869, -4.827400207519531, -5.602700233459473, -5.549499988555908, -4.6697001457214355, -4.9558000564575195, -5.576200008392334, -5.0046000480651855, -5.291500091552734, -5.349699974060059, -5.58519983291626, -5.437900066375732, -5.612599849700928, -5.5817999839782715, -6.16510009765625, -6.70989990234375, -6.718100070953369, -6.763199806213379, -6.809199810028076, -6.825699806213379, -6.817500114440918, -6.902599811553955, -6.934700012207031, -6.988999843597412, -7.030700206756592, -7.024099826812744, -7.162099838256836, -7.203199863433838, -7.243500232696533, -7.256400108337402, -7.1757001876831055, -7.291800022125244, -7.2347002029418945, -7.362500190734863, -7.359000205993652, -7.436200141906738, -7.456200122833252, -7.477700233459473, -7.50540018081665, -7.476500034332275, -7.53439998626709, -7.415599822998047, -7.572700023651123, -7.603600025177002, -6.109499931335449, -5.93209981918335, -6.490499973297119, -6.581600189208984, -5.890200138092041, -4.057700157165527, -6.636099815368652, -6.635200023651123, -5.273399829864502, -5.958399772644043, -6.863900184631348, -6.651199817657471, -5.783899784088135, -6.376500129699707, -6.118199825286865, -6.749100208282471, -6.171999931335449, -6.6479997634887695, -5.709499835968018, -5.671299934387207, -5.772500038146973, -4.693900108337402, -5.369500160217285, -4.422399997711182, -5.792699813842773, -5.267199993133545, -3.624799966812134, -5.562900066375732, -5.138299942016602, -6.009500026702881, -4.801799774169922, -5.4394001960754395, -5.973899841308594, -5.09689998626709, -4.546999931335449, -4.72790002822876, -5.438499927520752, -4.918700218200684, -5.094200134277344, -4.9994001388549805, -5.693299770355225, -5.001800060272217, -5.2307000160217285, -5.464200019836426, -5.431600093841553, -5.285699844360352, -5.413300037384033, -5.450300216674805, -5.539599895477295, -5.560200214385986, -5.587600231170654, -5.518499851226807, -5.645899772644043, -4.120100021362305, -6.688300132751465, -6.881199836730957, -5.573999881744385, -6.3333001136779785, -7.1697001457214355, -7.156000137329102, -7.368899822235107, -3.5371999740600586, -7.571100234985352, -7.541800022125244, -7.428100109100342, -5.646699905395508, -7.829100131988525, -7.96120023727417, -6.272600173950195, -8.0600004196167, -8.10219955444336, -6.156700134277344, -8.123299598693848, -8.12720012664795, -8.128199577331543, -8.16510009765625, -8.16510009765625, -8.187100410461426, -8.179100036621094, -6.436999797821045, -8.23270034790039, -8.26729965209961, -8.291000366210938, -5.159999847412109, -6.271699905395508, -6.752900123596191, -6.9720001220703125, -7.381100177764893, -6.506999969482422, -6.979899883270264, -7.236599922180176, -6.691699981689453, -6.224400043487549, -6.921199798583984, -7.778900146484375, -5.746399879455566, -6.433300018310547, -7.447700023651123, -5.5655999183654785, -5.21999979019165, -6.999100208282471, -5.498499870300293, -6.363999843597412, -4.671299934387207, -6.321499824523926, -5.413400173187256, -5.192999839782715, -6.4232001304626465, -5.1996002197265625, -5.904300212860107, -5.968699932098389, -4.455399990081787, -4.374499797821045, -4.774499893188477, -4.9019999504089355, -5.126999855041504, -3.774600028991699, -4.4471001625061035, -5.020599842071533, -5.157199859619141, -5.268599987030029, -5.788099765777588, -5.633500099182129, -5.702099800109863, -5.719900131225586, -5.426400184631348, -5.643199920654297, -5.713699817657471, -5.687300205230713, -5.598800182342529, -5.6875, -5.6946001052856445, -4.1809000968933105, -5.47130012512207, -5.6855998039245605, -5.762400150299072, -5.773799896240234, -6.1269001960754395, -6.679999828338623, -6.705100059509277, -6.729300022125244, -6.934299945831299, -6.1940999031066895, -7.009300231933594, -7.0671000480651855, -7.13070011138916, -7.132599830627441, -7.1778998374938965, -7.178599834442139, -7.070000171661377, -7.26230001449585, -5.961100101470947, -7.285399913787842, -7.3495001792907715, -7.341899871826172, -7.383699893951416, -7.396900177001953, -7.421599864959717, -7.4253997802734375, -7.426700115203857, -7.440100193023682, -7.467599868774414, -5.434500217437744, -6.898499965667725, -7.16510009765625, -5.520100116729736, -6.557799816131592, -5.587600231170654, -6.2484002113342285, -6.426700115203857, -5.438499927520752, -5.126100063323975, -6.327400207519531, -6.033299922943115, -5.96120023727417, -6.9257001876831055, -5.890100002288818, -6.649600028991699, -4.119699954986572, -5.260000228881836, -5.265500068664551, -6.622300148010254, -5.897900104522705, -5.594799995422363, -6.278299808502197, -5.696199893951416, -5.491799831390381, -5.053500175476074, -5.967700004577637, -5.897799968719482, -6.135900020599365, -5.955599784851074, -4.484899997711182, -5.544600009918213, -5.160299777984619, -5.873899936676025, -5.379799842834473, -5.847599983215332, -5.734000205993652, -5.598899841308594, -5.597400188446045, -5.640999794006348, -5.825399875640869, -5.73769998550415, -5.791600227355957, -5.829999923706055, -5.971700191497803, -6.000400066375732, -5.954400062561035, -6.38640022277832, -6.5106000900268555, -4.72730016708374, -6.542300224304199, -6.552499771118164, -6.933499813079834, -7.037399768829346, -7.070799827575684, -7.080699920654297, -7.140900135040283, -7.129499912261963, -7.196700096130371, -7.198999881744385, -7.247900009155273, -7.296299934387207, -7.322299957275391, -7.373499870300293, -7.529399871826172, -6.711100101470947, -7.552199840545654, -7.649499893188477, -7.665999889373779, -7.776800155639648, -7.817200183868408, -7.81790018081665, -7.822500228881836, -7.844399929046631, -5.8277997970581055, -5.110499858856201, -4.972400188446045, -6.576900005340576, -5.577000141143799, -6.196499824523926, -5.039899826049805, -6.828800201416016, -5.103899955749512, -5.660099983215332, -6.717400074005127, -6.472499847412109, -4.930500030517578, -6.233699798583984, -6.35699987411499, -5.30649995803833, -5.125199794769287, -4.420100212097168, -5.753499984741211, -6.531099796295166, -6.261899948120117, -5.3796000480651855, -5.634099960327148, -4.848599910736084, -5.547999858856201, -4.66349983215332, -5.151599884033203, -5.486400127410889, -4.720099925994873, -4.843800067901611, -4.599999904632568, -4.6321001052856445, -5.592700004577637, -4.634300231933594, -5.42110013961792, -5.269700050354004, -5.301300048828125, -5.394999980926514, -5.256899833679199, -5.697000026702881, -5.604300022125244], \"loglift\": [30.0, 29.0, 28.0, 27.0, 26.0, 25.0, 24.0, 23.0, 22.0, 21.0, 20.0, 19.0, 18.0, 17.0, 16.0, 15.0, 14.0, 13.0, 12.0, 11.0, 10.0, 9.0, 8.0, 7.0, 6.0, 5.0, 4.0, 3.0, 2.0, 1.0, 1.5487, 1.5481, 1.5477, 1.5475, 1.5474, 1.5473, 1.5473, 1.5468, 1.5463, 1.5442, 1.544, 1.5437, 1.5427, 1.5423, 1.5422, 1.5422, 1.5421, 1.542, 1.5413, 1.541, 1.541, 1.5409, 1.5406, 1.5405, 1.5402, 1.5397, 1.5389, 1.5387, 1.5384, 1.5383, 1.5359, 1.5253, 1.5157, 1.4726, 1.5016, 1.5374, 1.521, 1.3297, 1.4311, 1.4574, 1.2425, 1.3755, 1.3362, 1.4583, 1.3735, 1.3424, 1.4355, 1.2669, 1.2576, 1.2134, 1.2681, 1.2429, 1.2736, 1.2957, 1.2347, 1.2706, 1.1979, 1.3228, 0.8693, 1.0802, 0.9534, 0.7798, 0.679, 0.9247, 0.4972, 0.9343, 0.8655, 0.6582, 0.7613, 0.9896, 0.5081, -0.1869, 0.4292, 0.7701, 0.6855, 0.4052, 0.4226, 0.3421, 0.5621, 0.5023, -1.1063, 0.0064, 0.5026, 0.3608, 0.0824, 0.2924, 1.7248, 1.7239, 1.7239, 1.7238, 1.7228, 1.7227, 1.7225, 1.7225, 1.7224, 1.7224, 1.7223, 1.7221, 1.722, 1.722, 1.722, 1.7219, 1.7219, 1.7218, 1.7217, 1.7214, 1.7214, 1.7211, 1.7211, 1.721, 1.7209, 1.7208, 1.7207, 1.7207, 1.7204, 1.7204, 1.7142, 1.6941, 1.7188, 1.6851, 1.6898, 1.7098, 1.713, 1.678, 1.6992, 1.7095, 1.6563, 1.6706, 1.694, 1.6681, 1.6713, 1.7042, 1.6234, 1.4671, 1.6625, 1.5635, 1.4947, 1.4472, 1.5826, 1.2128, 1.4904, 1.6504, 0.823, 1.1683, 1.3601, 1.4187, 1.6067, 1.4778, 1.066, 0.7367, 0.8774, 0.9542, 0.9849, 0.9895, 0.7405, 1.0014, 1.0063, 1.1883, 0.9419, 0.9655, 0.1342, 0.8383, 0.702, 0.5774, 0.4295, 0.734, 0.0342, 0.801, 1.7554, 1.7542, 1.7541, 1.7539, 1.7517, 1.7513, 1.7512, 1.7504, 1.7502, 1.75, 1.7494, 1.7489, 1.7486, 1.7485, 1.7481, 1.7481, 1.748, 1.7473, 1.7461, 1.7459, 1.7457, 1.7455, 1.7452, 1.7452, 1.7452, 1.7452, 1.7451, 1.7449, 1.7449, 1.7449, 1.7446, 1.7448, 1.7237, 1.7118, 1.6908, 1.6984, 1.7006, 1.6887, 1.6629, 1.7251, 1.695, 1.7231, 1.7319, 1.647, 1.5527, 1.6999, 1.5416, 1.6639, 1.6787, 1.6592, 1.6234, 1.6467, 1.6846, 1.5059, 1.5621, 1.541, 1.6851, 1.5528, 1.5748, 1.591, 1.6055, 1.6414, 1.4655, 1.2628, 1.4612, 1.2648, 1.5254, 1.2673, 1.2743, 1.473, 1.4237, 1.3487, 1.0268, 1.0563, 0.7963, 0.6314, 0.9729, 1.0969, 1.235, 1.0753, 0.5093, 1.1374, 1.1021, 0.7582, 0.4709, 0.7973, 0.5213, 0.754, 0.4474, -0.2991, -0.8037, 0.2229, 0.3734, 0.316, -0.1193, 0.1443, 2.1168, 2.108, 2.1077, 2.1075, 2.1073, 2.1057, 2.1057, 2.1056, 2.1055, 2.1051, 2.1049, 2.1049, 2.1048, 2.1037, 2.1035, 2.1035, 2.1033, 2.1033, 2.1031, 2.1023, 2.1015, 2.1013, 2.1012, 2.1012, 2.0998, 2.0996, 2.099, 2.0989, 2.0972, 2.0968, 2.0826, 2.0949, 2.09, 2.0563, 2.091, 2.0657, 2.0751, 2.0519, 2.0623, 2.095, 2.0361, 1.9971, 2.0467, 1.9855, 1.99, 2.0651, 2.0826, 1.918, 2.0351, 1.943, 1.8866, 1.9634, 1.9662, 1.9788, 1.987, 1.7824, 1.7228, 1.9242, 1.6363, 1.5777, 1.2326, 1.7235, 1.4962, 1.7537, 1.1609, 1.6163, 1.5283, 1.6871, 1.3507, 1.3241, 1.5575, 1.4973, 0.9088, 1.0692, 1.4535, 0.9755, 1.0746, 0.8598, 1.3199, 0.6943, 1.3249, 0.3628, 2.1807, 2.1798, 2.1798, 2.1797, 2.1796, 2.1796, 2.1795, 2.1794, 2.1793, 2.1792, 2.1791, 2.1791, 2.1786, 2.1785, 2.1784, 2.1783, 2.1782, 2.1782, 2.1781, 2.1779, 2.1778, 2.1776, 2.1775, 2.1774, 2.1773, 2.1773, 2.1772, 2.1771, 2.177, 2.1768, 2.1601, 2.1388, 2.1539, 2.1504, 2.1236, 2.0405, 2.1435, 2.1375, 2.0563, 2.0996, 2.1405, 2.1204, 2.0281, 2.0902, 2.0453, 2.122, 2.036, 2.1061, 1.9631, 1.9429, 1.9314, 1.6528, 1.7997, 1.5223, 1.8719, 1.6853, 1.0505, 1.7344, 1.537, 1.8711, 1.3304, 1.6021, 1.8402, 1.398, 1.0007, 1.0205, 1.4377, 1.0454, 1.1113, 0.7553, 1.4844, 0.494, 0.7939, 1.1305, 1.0463, 0.3089, 0.5579, 0.5707, 0.7636, 0.8044, 0.8242, -0.0931, 0.413, 2.2723, 2.2705, 2.2703, 2.2703, 2.2698, 2.2694, 2.2689, 2.2687, 2.2687, 2.2678, 2.2675, 2.2668, 2.2664, 2.2658, 2.2651, 2.2641, 2.264, 2.264, 2.2638, 2.2637, 2.2636, 2.2636, 2.2634, 2.2634, 2.2632, 2.2632, 2.263, 2.2626, 2.2621, 2.2621, 2.2498, 2.2605, 2.2594, 2.2612, 2.2615, 2.2514, 2.2555, 2.2565, 2.2506, 2.2398, 2.2466, 2.259, 2.2132, 2.2112, 2.2475, 2.147, 2.0881, 2.2224, 2.0583, 2.1464, 1.9228, 2.1307, 1.9709, 1.9273, 2.1135, 1.804, 1.8978, 1.8532, 0.9394, 0.8931, 0.9802, 1.0523, 1.153, 0.0778, 0.615, 1.0047, 1.0241, 0.9409, 1.5027, 1.1714, 1.2807, 1.2806, 0.6755, 1.1026, 1.0108, 0.8164, -0.0203, 0.5382, 0.0534, 2.8065, 2.8057, 2.8055, 2.8054, 2.8054, 2.8047, 2.8031, 2.8031, 2.803, 2.8021, 2.8016, 2.8016, 2.8014, 2.801, 2.801, 2.8007, 2.8007, 2.8005, 2.8002, 2.8002, 2.8001, 2.7996, 2.7994, 2.7993, 2.7992, 2.7991, 2.799, 2.799, 2.7989, 2.7987, 2.795, 2.7971, 2.7978, 2.7725, 2.7872, 2.7658, 2.7788, 2.782, 2.7537, 2.7391, 2.774, 2.7369, 2.7315, 2.785, 2.7049, 2.7534, 2.4509, 2.5796, 2.5767, 2.739, 2.5957, 2.4953, 2.6453, 2.4744, 2.408, 2.1237, 2.491, 2.4556, 2.561, 2.4032, 1.011, 1.9913, 1.5253, 2.2616, 0.9256, 2.1003, 1.6459, 1.1054, 0.8987, 0.6064, 1.6842, 0.4885, 0.4139, 0.6852, 3.1797, 3.1797, 3.1795, 3.1783, 3.1778, 3.1777, 3.1777, 3.1776, 3.1753, 3.1746, 3.1743, 3.1742, 3.1737, 3.1736, 3.1732, 3.1732, 3.1728, 3.1722, 3.172, 3.1715, 3.1696, 3.1695, 3.1693, 3.168, 3.1677, 3.166, 3.1654, 3.1654, 3.1653, 3.1648, 3.1466, 3.1297, 3.1214, 3.1514, 3.1267, 3.1335, 3.0945, 3.1494, 3.0481, 3.0759, 3.1165, 3.0866, 2.8852, 3.024, 3.0372, 2.8048, 2.7437, 2.5566, 2.853, 3.0436, 2.9576, 2.6508, 2.5977, 2.1016, 2.4885, 1.8402, 2.1468, 2.3845, 1.7057, 1.5421, 1.148, 1.1406, 2.1752, 0.4277, 1.5343, 0.9777, 0.7775, 0.8308, -0.5816, 2.0667, 0.3758]}, \"token.table\": {\"Topic\": [3, 1, 2, 3, 4, 5, 6, 7, 8, 1, 2, 3, 4, 5, 6, 8, 7, 2, 5, 1, 2, 3, 4, 5, 6, 7, 8, 2, 3, 6, 8, 7, 1, 2, 3, 4, 5, 6, 8, 3, 4, 4, 1, 2, 3, 5, 6, 8, 1, 2, 3, 4, 5, 6, 2, 7, 8, 8, 1, 2, 3, 8, 8, 1, 2, 3, 4, 5, 6, 8, 1, 6, 1, 2, 3, 4, 5, 6, 1, 2, 5, 8, 1, 2, 3, 5, 6, 8, 1, 2, 3, 6, 8, 7, 7, 1, 2, 3, 4, 5, 6, 7, 8, 1, 2, 3, 4, 5, 7, 1, 2, 3, 4, 5, 6, 7, 8, 1, 2, 3, 4, 5, 6, 8, 1, 4, 1, 7, 8, 6, 1, 2, 3, 4, 5, 6, 7, 2, 3, 8, 2, 6, 7, 5, 2, 1, 2, 3, 4, 5, 1, 3, 4, 8, 5, 6, 1, 2, 3, 4, 5, 8, 1, 2, 4, 5, 7, 6, 1, 3, 4, 5, 6, 7, 8, 1, 8, 1, 2, 3, 4, 6, 8, 2, 1, 3, 5, 1, 2, 3, 4, 5, 6, 7, 8, 2, 1, 2, 3, 4, 5, 6, 7, 6, 1, 2, 3, 6, 7, 1, 3, 4, 8, 3, 1, 1, 8, 3, 5, 1, 2, 3, 4, 7, 8, 3, 1, 2, 3, 4, 5, 8, 1, 1, 2, 3, 4, 5, 6, 8, 8, 1, 2, 3, 4, 5, 6, 7, 8, 1, 3, 4, 5, 6, 7, 8, 4, 1, 4, 1, 2, 3, 4, 5, 8, 1, 3, 4, 5, 6, 7, 8, 2, 2, 3, 6, 7, 1, 2, 3, 4, 1, 2, 3, 4, 8, 1, 3, 4, 6, 7, 8, 3, 4, 2, 1, 4, 1, 3, 4, 1, 2, 3, 6, 7, 8, 2, 1, 1, 2, 3, 4, 5, 6, 1, 2, 3, 4, 5, 6, 8, 5, 1, 3, 5, 8, 7, 1, 2, 3, 4, 6, 1, 2, 3, 6, 8, 1, 2, 3, 6, 8, 3, 1, 2, 3, 4, 5, 6, 7, 8, 8, 1, 2, 3, 4, 5, 6, 8, 1, 2, 3, 4, 5, 6, 8, 1, 1, 2, 3, 4, 7, 8, 7, 7, 2, 5, 1, 2, 3, 4, 5, 6, 7, 8, 1, 3, 4, 5, 6, 7, 8, 1, 4, 7, 8, 3, 1, 2, 3, 4, 6, 8, 2, 6, 1, 5, 4, 6, 2, 3, 1, 2, 3, 4, 5, 6, 7, 8, 1, 2, 3, 4, 5, 6, 7, 8, 1, 2, 3, 4, 1, 3, 4, 3, 6, 1, 2, 3, 5, 2, 1, 2, 3, 4, 5, 6, 7, 1, 3, 4, 5, 7, 8, 4, 1, 1, 2, 3, 4, 5, 6, 7, 8, 1, 2, 5, 1, 2, 3, 6, 3, 4, 5, 6, 7, 8, 1, 3, 7, 8, 8, 1, 3, 6, 7, 8, 1, 2, 4, 1, 2, 3, 6, 7, 8, 1, 2, 3, 6, 1, 2, 3, 4, 5, 6, 8, 6, 7, 1, 3, 5, 6, 7, 8, 7, 6, 2, 1, 2, 4, 4, 1, 2, 3, 4, 5, 2, 1, 2, 4, 1, 2, 3, 4, 7, 3, 7, 1, 2, 3, 4, 5, 6, 1, 2, 4, 5, 6, 1, 2, 3, 4, 5, 6, 7, 8, 1, 4, 5, 4, 4, 6, 7, 8, 1, 2, 3, 4, 5, 6, 8, 1, 3, 4, 5, 8, 1, 2, 3, 4, 6, 7, 8, 1, 2, 3, 4, 6, 8, 2, 6, 1, 1, 7, 1, 2, 3, 4, 5, 6, 8, 1, 2, 3, 4, 5, 6, 8, 1, 2, 3, 4, 5, 6, 7, 1, 2, 3, 4, 5, 6, 7, 8, 1, 2, 3, 4, 5, 6, 1, 2, 3, 4, 5, 4, 4, 6, 7, 1, 2, 3, 4, 5, 6, 7, 2, 3, 1, 2, 4, 1, 3, 5, 6, 7, 1, 2, 3, 4, 5, 6, 8, 1, 2, 3, 4, 5, 6, 8, 1, 1, 4, 1, 2, 3, 4, 5, 6, 7, 8, 3, 1, 2, 3, 4, 5, 6, 7, 8, 7, 1, 2, 3, 4, 5, 6, 7, 8, 1, 2, 3, 5, 6, 1, 2, 7, 1, 3, 6, 7, 2, 6, 6, 1, 2, 3, 4, 1, 3, 4, 7, 1, 2, 3, 4, 5, 6, 7, 8, 1, 3, 4, 5, 6, 7, 2, 1, 4, 7, 1, 2, 3, 5, 6, 4, 3, 1, 2, 3, 4, 5, 6, 7, 8, 1, 2, 3, 4, 5, 6, 2, 1, 3, 4, 7, 1, 8, 7, 5, 7, 5, 1, 2, 3, 4, 5, 6, 7, 8, 1, 2, 3, 4, 5, 6, 7, 1, 2, 3, 4, 5, 6, 7, 8, 1, 2, 3, 4, 5, 6, 8, 4, 1, 2, 3, 4, 5, 6, 7, 8, 1, 4, 1, 4, 5, 2, 3, 6, 8, 1, 2, 3, 4, 5, 6, 7, 8, 5, 1, 2, 3, 4, 5, 6, 7, 8, 1, 3, 4, 5, 6, 7, 8, 6, 1, 2, 3, 4, 5, 6, 7, 7, 1, 3, 4, 5, 1, 2, 3, 4, 5, 6, 8, 1, 2, 3, 4, 5, 5, 1, 2, 3, 4, 5, 6, 7, 8, 3, 2, 4, 6, 7, 2, 1, 4, 6, 1, 2, 3, 4, 5, 6, 8, 2, 6, 3, 1, 2, 3, 4, 5, 6, 2, 2, 6, 1, 2, 3, 7, 6, 3, 1, 2, 3, 4, 6, 5, 2, 1, 2, 3, 4, 5, 1, 1, 1, 3, 6, 2, 3, 1, 2, 3, 4, 6, 7, 3, 7, 8, 3, 6, 2, 1, 2, 3, 4, 5, 6, 7, 8, 1, 3, 8, 8, 1, 2, 3, 3, 4, 6, 7, 8, 1, 2, 3, 4, 6, 7, 1, 4, 5, 2, 3, 4, 6, 8, 3, 4, 5, 6, 7, 8, 8, 3, 1, 2, 3, 4, 5, 6, 7, 8, 1, 2, 3, 4, 5, 6, 6, 1, 2, 6, 4, 5, 1, 3, 4, 1, 2, 3, 4, 5, 5, 6, 7, 8, 8, 1, 2, 3, 4, 6, 8, 2, 2, 4, 1, 2, 3, 4, 5, 1, 2, 3, 5, 6, 7, 8, 1, 2, 3, 4, 5, 6, 7, 8, 2, 5, 1, 2, 3, 4, 6, 7, 8, 8, 1, 2, 3, 4, 5, 7, 8, 2, 1, 1, 2, 3, 1, 2, 3, 5, 6, 7, 8, 1, 2, 6, 1, 1, 2, 3, 4, 5, 6, 7, 8, 1, 2, 4, 8, 1, 3, 4, 6, 7, 1, 3, 6, 7, 3, 1, 2, 3, 4, 5, 6, 8, 5, 1, 2, 3, 4, 5, 6, 7, 8, 4, 8, 6, 2, 3, 3, 5, 1, 2, 3, 4, 5, 6, 7, 1, 4, 3, 3, 5, 1, 2, 4, 1, 2, 4, 4, 7, 1, 2, 3, 7, 8, 4, 1, 2, 3, 4, 5, 6, 8, 1, 2, 3, 4, 5, 6, 8, 4, 1, 2, 3, 4, 5, 6, 7, 8, 1, 2, 3, 4, 5, 6, 7, 8, 8, 1, 2, 3, 4, 5, 6, 7, 8, 5, 1, 2, 3, 4, 5, 6, 8, 1, 2, 3, 4, 5, 6, 7, 8, 3, 1, 2, 3, 4, 5, 6, 7, 8, 3, 6, 7, 1, 2, 3, 4, 6, 7, 8, 1, 2, 1, 3, 4, 5, 1, 3, 4, 2, 3, 5, 7, 1, 2, 3, 4, 6, 8, 1, 2, 3, 4, 5, 1, 2, 3, 6, 7, 1, 3, 4, 5, 3, 8, 1, 6, 1, 2, 3, 4, 5, 6, 7, 1, 2, 3, 4, 5, 1, 2, 3, 4, 5, 6, 7, 1, 2, 3, 4, 5, 6, 5, 7, 7, 5, 5, 6, 5, 8, 6, 7, 8, 1, 2, 4, 6, 1, 4, 1, 2, 3, 4, 5, 6, 8, 1, 2, 3, 4, 5, 6, 7, 8, 1, 4, 1, 3, 4, 5, 6, 7, 8, 5, 1, 2, 3, 4, 5, 6, 7, 8, 7, 1, 5, 4, 7, 1, 6, 7, 1, 2, 3, 4, 5, 6, 1, 2, 3, 4, 5, 6, 8, 2, 1, 2, 3, 4, 5, 6, 7, 8, 3, 4, 8, 7, 8, 1, 2, 3, 4, 5, 6, 7, 8, 1, 2, 3, 4, 5, 6, 7, 8, 1, 4, 5, 6, 7, 1, 2, 3, 4, 5, 6, 7, 8, 1, 2, 3, 4, 5, 6, 7, 8, 7, 8, 1, 4, 5, 1, 2, 3, 5, 6, 8, 3, 1, 2, 3, 4, 5, 6, 7, 8, 5, 5, 1, 5, 7, 8, 1, 2, 3, 4, 5, 6, 7, 8, 7, 1, 2, 3, 4, 6, 7, 8, 7, 6, 1, 2, 3, 4, 5, 1, 2, 3, 5, 6, 8, 1, 2, 3, 4, 5, 6, 7, 8, 4, 3, 2, 4, 7, 1, 2, 3, 4, 5, 6, 7, 8, 3, 8, 1, 2, 3, 4, 5, 6, 7, 8, 8, 8, 1, 2, 3, 6, 7, 8, 1, 2, 3, 4, 5, 6, 7, 8, 1, 4, 1, 4, 1, 2, 3, 4, 6, 7, 8, 1, 2, 3, 4, 5, 6, 1, 2, 3, 4, 6, 8, 1, 2, 4, 5, 5, 1, 2, 3, 4, 5, 6, 7, 8, 1, 2, 3, 4, 6, 7, 1, 2, 4, 1, 1, 2, 3, 4, 5, 6, 7, 2, 7, 1, 2, 3, 4, 5, 6, 7, 8, 1, 2, 3, 4, 5, 6, 1, 3, 4, 1, 2, 3, 4, 5, 6, 8, 1, 5, 4, 5, 8, 7, 4, 7, 2, 3, 6, 8, 1, 2, 3, 4, 5, 6, 1, 3, 4, 5, 6, 7, 8, 2, 1, 1, 2, 3, 4, 6, 7, 1, 3, 4, 5, 6, 7, 8, 1, 2, 3, 4, 5, 6, 7, 8, 1, 2, 3, 4, 5, 6, 7, 8, 3, 1, 3, 6, 1, 2, 3, 4, 1, 3, 2, 3, 6, 8, 7, 8, 1, 3, 5, 6, 7, 2, 6, 1, 2, 3, 4, 5, 6, 8, 1, 2, 4, 5, 8, 4, 1, 3, 4, 6, 7, 8, 2, 6, 7, 8, 7, 8, 6, 7, 5, 7, 1, 2, 6, 2, 1, 2, 1, 2, 3, 4, 5, 6, 7, 8, 1, 2, 3, 6, 7, 5, 1, 4, 8, 1, 1, 2, 3, 4, 6, 1, 2, 3, 4, 5, 6, 8, 1, 2, 3, 4, 5, 1, 2, 3, 4, 6, 8, 2, 6, 6, 1, 2, 3, 4, 5, 6, 7, 8, 1, 3, 4, 5, 1, 2, 3, 4, 5, 6, 7, 8, 1, 2, 3, 4, 1, 3, 4, 5, 6, 4, 5, 7, 1, 2, 3, 4, 5, 6, 7, 8, 1, 2, 3, 4, 6, 7, 8, 1, 3, 5, 8, 8, 1, 2, 3, 4, 5, 6, 7, 8, 1, 2, 3, 4, 6, 7, 8, 1, 2, 3, 4, 5, 6, 7, 8, 7, 1, 4, 5, 1, 2, 3, 4, 5, 6, 7, 8, 7, 7, 1, 4, 2, 2, 3, 4, 6, 8, 5, 5, 1, 2, 3, 4, 5, 6, 7, 8, 2, 1, 2, 3, 4, 5, 6, 7, 8, 1, 2, 3, 4, 5, 6, 7, 8, 1, 2, 3, 4, 5, 6, 7, 3, 8, 1, 1, 2, 3, 4, 5, 6, 7, 8, 1, 2, 3, 4, 5, 6, 1, 2, 3, 4, 5, 6, 8, 1, 2, 3, 4, 5, 8, 1, 2, 3, 4, 5, 6, 8, 1, 4, 1, 2, 7, 3, 3, 1, 4, 5, 2, 3, 4, 1, 2, 3, 4, 5, 6, 1, 3, 8, 8, 1, 3, 7, 8, 4, 8, 1, 2, 3, 4, 5, 6, 7, 8, 1, 4, 6, 1, 3, 4, 6, 1, 2, 3, 4, 5, 7, 3, 1, 2, 3, 4, 5, 6, 7, 8, 2, 6, 1, 2, 3, 5, 6, 7, 8, 1, 6, 7, 8, 4, 1, 1, 2, 5, 6, 5, 1, 2, 3, 4, 5, 6, 7, 8, 3, 4, 6, 6, 6, 1, 2, 3, 4, 5, 6, 7, 1, 3, 4, 5, 6, 7, 8, 1, 2, 2, 4, 6, 1, 2, 3, 4, 5, 7, 8, 5, 7, 4, 6, 7, 8, 1, 3, 4, 5, 6, 8, 1, 3, 4, 5, 8, 8, 1, 2, 3, 4, 5, 6, 7, 8, 1, 2, 3, 4, 5, 6, 7, 8, 2, 4, 6, 7, 1, 2, 3, 4, 5, 6, 7, 8, 3, 2, 6], \"Freq\": [0.9961641459427188, 0.1950831499137663, 0.12338914897833961, 0.5192155015113006, 0.02037618973954232, 0.07471269571165517, 0.049431126960741555, 0.014716137034113898, 0.003018694776228492, 0.06745248807190289, 0.033405041711799525, 0.8149973638148013, 0.013490497614380578, 0.013918767379916468, 0.00021413488276794568, 0.05695987881627355, 0.9978847497102292, 0.9974082371551635, 0.9948674034255807, 0.05760387345353755, 0.03406680688112436, 0.6169189027927248, 0.0028905169474893397, 0.008878016338717256, 0.08527024995093552, 0.0006193964887477156, 0.19387110097803498, 0.0066497869200668564, 0.970868890329761, 0.0066497869200668564, 0.013299573840133713, 0.9996609894884985, 0.031835307547527725, 0.0005305884591254622, 0.06260943817680453, 0.005305884591254621, 0.881838019066518, 0.0026529422956273105, 0.014325888396387477, 0.9837660340833142, 0.9861567990136111, 0.9861514394129688, 0.0345060759387407, 0.007763867086216658, 0.14837612653658502, 0.06556154428360733, 0.0008626518984685176, 0.7427432845813936, 0.27046691943012363, 0.4676703157169697, 0.06805109857181912, 0.021428856571551552, 0.16679758628667155, 0.005212424571458486, 0.9970521306827751, 0.9492074764121492, 0.05062439874198129, 0.9896073328095416, 0.05152422437062138, 0.9274360386711848, 0.01840150870379335, 0.001840150870379335, 0.9912631177847423, 0.25237219403749334, 0.10402022693393813, 0.0002897499357491313, 0.5540018771523391, 0.01130024749421612, 0.07765298278076718, 0.9959510841102073, 0.992753115806787, 0.9984065114839994, 0.09642038315129028, 0.045510420847409014, 0.053995414564722566, 0.017741350499837414, 0.7783053327972153, 0.007713630652103223, 0.9499734416218355, 0.008878256463755473, 0.026634769391266414, 0.01479709410625912, 0.019744222982279295, 0.09961857959240916, 0.7933587780152225, 0.005384788086076171, 0.06641238639493945, 0.015256899577215818, 0.004675606238264094, 0.75721443028687, 0.01145523528374703, 0.15569768773419432, 0.07106921482161423, 0.9909757940618248, 0.9963249398515628, 0.18850456705211838, 0.0965234228881329, 0.295248117069583, 0.005677848405184288, 0.032931520750068874, 0.18311061106719329, 0.18254282622667486, 0.015614083114256792, 0.7558477152648353, 0.03716065463445602, 0.02378281896605185, 0.0037160654634456015, 0.039390293912523376, 0.13972406142555463, 0.2431333421783119, 0.020440413722955426, 0.1656749322807966, 0.030122714960144837, 0.007530678740036209, 0.027971092462991634, 0.005379056242883006, 0.499176419339543, 0.09302742168374324, 0.0053464035450427145, 0.23951887881791362, 0.011762087799093972, 0.06094900041348695, 0.002138561418017086, 0.5881043899546986, 0.9890760474215312, 0.006340231073214944, 0.1386306315848205, 0.007296349030780027, 0.8536728366012631, 0.9898809503711976, 0.37102718106627314, 0.11972036396484542, 0.09577629117187633, 0.11251595268200516, 0.2572398616872962, 0.006568727934354351, 0.037081528661677784, 0.010482798166554081, 0.04402775229952714, 0.9455483946231781, 0.002661425555678976, 0.9767431789341842, 0.018629978889752832, 0.9972095159032579, 0.9960811494555156, 0.20157737929592134, 0.017488448432066234, 0.011965780506150582, 0.035897341518451746, 0.7326739448381433, 0.01472914137213377, 0.9249900781700007, 0.017674969646560523, 0.04124159584197455, 0.01068018756375967, 0.9896973809083961, 0.2833264648899027, 0.00036254186166334324, 0.006344482579108506, 0.6730589661779967, 0.03262876754970089, 0.004350502339960118, 0.0657292090270053, 0.003924131882209271, 0.9211899593486265, 0.00882929673497086, 0.9952837186638123, 0.9865520539132405, 0.05710081402792295, 0.16736445490942933, 0.004922483967924393, 0.23923272084112546, 0.003937987174339514, 0.4932328935860241, 0.03347289098188587, 0.9928444232269982, 0.9833718247875671, 0.007837871841793907, 0.9464230248966142, 0.0019594679604484767, 0.02253388154515748, 0.016655477663812052, 0.0039189359208969534, 0.9977667327981428, 0.9834451614611293, 0.9319718866753866, 0.06502129441921302, 0.4170710030640127, 0.06084590230376843, 0.28700300930816486, 0.060292757737370535, 0.10280586869766588, 0.03279357072216091, 0.007506961972542858, 0.03168728158936512, 0.9993520754510233, 0.9223143587552747, 0.006928905867109743, 0.010008419585825185, 0.002309635289036581, 0.02348129210520524, 0.033489711691030426, 0.0015397568593577206, 0.9855990402147615, 0.7518781091467689, 0.24498039759005744, 0.0012097797411854687, 0.0012097797411854687, 0.0006048898705927344, 0.008510844556068983, 0.9673993312065077, 0.01985863729749429, 0.0028369481853563277, 0.9836936314256223, 0.990083213855765, 0.9879444289951523, 0.9921090930804988, 0.9663099005640958, 0.026841941682335994, 0.19358317236118383, 0.0173877100923219, 0.07882428575185928, 0.0011591806728214601, 0.02202443278360774, 0.6850757776374828, 0.9838467487696974, 0.25593528393293985, 0.0006196980240507018, 0.003718188144304211, 0.694061786936786, 0.0347030893468393, 0.01053486640886193, 0.9898242971877593, 0.8047368584172648, 0.02019609876336765, 0.03883865146801471, 0.12635507944260788, 0.008803427666083335, 0.0005178486862401962, 0.0005178486862401962, 0.9878510205386092, 0.23223023429181666, 0.46242930035367574, 0.17011033925894734, 0.018788306127107617, 0.04417790900157737, 0.022681378567859647, 0.0018619042107944485, 0.047563189384840006, 0.08739416531857287, 0.06809934959888796, 0.007944924119870262, 0.0045399566399258635, 0.007944924119870262, 0.7320680081880455, 0.09079913279851727, 0.9837318870560903, 0.020943536581024234, 0.9753704179162714, 0.3199806331604128, 0.040434976729869905, 0.02332787119030956, 0.6049694595353613, 0.010497542035639303, 0.000388797853171826, 0.00133765637509758, 0.8467364854367682, 0.02407781475175644, 0.02140250200156128, 0.04548031675331772, 0.058856880504293524, 0.00133765637509758, 0.9981855833191968, 0.004177347257697768, 0.004177347257697768, 0.990031300074371, 0.9987460276006266, 0.09276350590966587, 0.02441144892359628, 0.004882289784719256, 0.8763710163571066, 0.1494778503890009, 0.0018638135958728291, 0.2933642599903833, 0.02050194955460112, 0.534914502015502, 0.038546340548456924, 0.8058020714653614, 0.021502040305941956, 0.006031060085812988, 0.11983454170506676, 0.008128820115660984, 0.9897663770772244, 0.9779991982401719, 0.9968793335019115, 0.01650550242978666, 0.9793264775006751, 0.1260223795405272, 0.0021359725345852067, 0.8693408215761791, 0.044810794739388975, 0.0044810794739388975, 0.0044810794739388975, 0.0044810794739388975, 0.9320645305792906, 0.008962158947877795, 0.9971590043257488, 0.990971756036967, 0.7535919747128398, 0.17096910439520374, 0.0008299471087145812, 0.030708043022439506, 0.03402783145729783, 0.008299471087145812, 0.17547591284932434, 0.015562198140826934, 0.07721387998410295, 0.38375559588039176, 0.3225517470771396, 0.0022391652001189834, 0.023175359821231478, 0.9968380907229629, 0.04931010210427711, 0.01972404084171084, 0.01972404084171084, 0.9073058787186988, 0.993768989084915, 0.19950922803184962, 0.08309693374839035, 0.008424573928408237, 0.08271399856982634, 0.6253331465950297, 0.06203116940935572, 0.03509658269213547, 0.7525360288871838, 0.023669788327254155, 0.126510937611186, 0.022420125380731883, 0.003956492714246803, 0.022420125380731883, 0.0013188309047489344, 0.9482394205144838, 0.9836693507431641, 0.059286434426972304, 0.1692390205304076, 0.4816802892019293, 0.01688871722548766, 0.0008796206888274823, 0.17645191017879294, 0.0005277724132964894, 0.09517495853113359, 0.9917576620909904, 0.5025106327884459, 0.16606574559961515, 0.11430499372441044, 0.04448189614275406, 0.15932606436586455, 0.010783489974000984, 0.002695872493500246, 0.34964059933917246, 0.4791293447126835, 0.11227954420555658, 0.009444073811682328, 0.04575129090992772, 0.0037776295246729316, 0.9894082446837025, 0.9872268216543696, 0.16713539808315145, 0.0003277164668297087, 0.03801511015224621, 0.7927461332610654, 0.0003277164668297087, 0.0013108658673188348, 0.9964341635473579, 0.9976189575547079, 0.9952756046821891, 0.9981351524468796, 0.31726025454709117, 0.12818445760912506, 0.12312258588007714, 0.1146365068049086, 0.17046597440470174, 0.133246329338173, 0.002084300123725611, 0.010868136359426399, 0.14479611039887674, 0.5929957628950921, 0.02183079818321526, 0.11093609689021633, 0.004900791428885058, 0.0583639706530857, 0.06549239454964578, 0.004164268972470489, 0.12284593468787942, 0.7828825668244519, 0.09161391739435075, 0.9837660400585763, 0.21476834250216964, 0.07700189988386441, 0.18965902732264864, 0.463852749083018, 0.033813877775088284, 0.02075703388173736, 0.0026627371022708434, 0.9967512552833856, 0.9961797648573179, 0.996798775070402, 0.9897863862888019, 0.9880781527084758, 0.9971775755526897, 0.002064549845864782, 0.006961128877566749, 0.794264804930366, 0.03132507994905037, 0.06578266789300577, 0.018098935081673546, 0.07831269987262592, 0.0013922257755133497, 0.0038286208826617115, 0.10483589059702018, 0.5843951091544637, 0.02425954493154186, 0.21443704894845037, 0.0021660307974590946, 0.0008664123189836378, 0.06238168696682193, 0.006931298551869102, 0.017442660335746634, 0.010901662709841647, 0.013081995251809976, 0.9571659859240965, 0.05063964695257437, 0.9071101975852452, 0.03963102804984081, 0.9934186556680035, 0.004577966155152089, 0.024785772860370408, 0.019828618288296327, 0.012392886430185204, 0.9418593686940755, 0.9982174408484062, 0.7273144368681951, 0.09333868606475171, 0.04727543839643268, 0.0036365721843409755, 0.10303621188966097, 0.0006060953640568292, 0.025456005290386826, 0.016746924423565603, 0.8153107943051675, 0.014102673198792087, 0.0810903708930545, 0.0017628341498490108, 0.07139478306888494, 0.971989574099482, 0.9876748982300522, 0.16613024384347805, 0.48735311737388276, 0.05009378732588691, 0.00990555116613583, 0.15537564543453058, 0.1267910549265386, 0.0025471417284349276, 0.001698094485623285, 0.03006015380698935, 0.011133390298884945, 0.9574715657041052, 0.008829791135036914, 0.001765958227007383, 0.001765958227007383, 0.987170648897127, 0.939892559305667, 0.00270862409021806, 0.00812587227065418, 0.035212113172834784, 0.01083449636087224, 0.00541724818043612, 0.028324014995300538, 0.024277727138829034, 0.9346924948449178, 0.012138863569414517, 0.9866733832753497, 0.037355987614887905, 0.8895394550795181, 0.021012743033374446, 0.002334749225930494, 0.04902973374454037, 0.05918264937844202, 0.004697035664955716, 0.9356495044591786, 0.011515476461194928, 0.0008858058816303791, 0.13641410577107838, 0.05580577054271388, 0.79456787582245, 0.0008858058816303791, 0.050223844648257666, 0.7809807842804066, 0.10463300968387013, 0.06361686988779304, 0.03994492755091733, 0.005706418221559618, 0.03423850932935771, 0.16168184961085585, 0.013314975850305777, 0.022825672886238473, 0.719008695916512, 0.007384657962412331, 0.9895441669632523, 0.012440038895085154, 0.035246776869407935, 0.010366699079237629, 0.002073339815847526, 0.9267828976838439, 0.012440038895085154, 0.9886188686855104, 0.9898568857613577, 0.9974405802195984, 0.05866207858824786, 0.0014898305673205806, 0.9395244015165412, 0.9828036871510082, 0.27899303432930744, 0.009214448840234007, 0.011262104138063786, 0.6736785929859974, 0.026107605047329688, 0.9948204423365334, 0.9626832364502764, 0.0257478428768276, 0.010013050007655178, 0.14915954402274276, 0.0014768271685420076, 0.01772192602250409, 0.12848396366315465, 0.7044465593945376, 0.9875411517086116, 0.9892816401130753, 0.8851496079007615, 0.007943650327314526, 0.006808843137698165, 0.09645861111739067, 0.0011348071896163609, 0.0034044215688490823, 0.7331857403106431, 0.0010758411449899386, 0.21463030842549274, 0.0005379205724949693, 0.050564533814527114, 0.000447299148721393, 0.031981889133579605, 0.6097805644944391, 0.000894598297442786, 0.10422070165208458, 0.09527471867765672, 0.02750889764636567, 0.12982857791638433, 0.009504808267441458, 0.9885000598139116, 0.9949056668632843, 0.9843000003782095, 0.9855390750801195, 0.019473924507375204, 0.03894784901475041, 0.9347483763540098, 0.4612818090550968, 0.07468547557270583, 0.0024864461657990843, 0.29818935869842356, 0.06234533534244371, 0.10093129621169616, 9.209059873329942e-05, 0.001523667276688526, 0.9355317078867551, 0.01676034004357379, 0.003047334553377052, 0.041139016470590206, 0.08243997424537967, 0.007851426118607589, 0.031405704474430356, 0.8558054469282271, 0.007851426118607589, 0.01046856815814345, 0.0026171420395358627, 0.06995712635035892, 0.4056628210039908, 0.0008031628845284881, 0.4122520348729796, 0.11131181936393801, 1.6391079276091594e-05, 0.9650853333217324, 0.034492473619813925, 0.9831871642614615, 0.015922625179147727, 0.9792414485175851, 0.2661755100541331, 0.18595823305151762, 0.004102019846724654, 0.04284331839912416, 0.49771174140259133, 0.000455779982969406, 0.0027346798978164356, 0.13417512444048438, 0.0846179804888482, 0.12271292788024199, 0.017193294840363575, 0.47500691039357407, 0.16620185012351457, 0.00033712342824242307, 0.25088883816048463, 0.01804456374044979, 0.05586874542716186, 0.44972605014659484, 0.2089005263798226, 0.001041032523487488, 0.01492146616998733, 0.3713438787902926, 0.06846204715149218, 0.030825843220043597, 0.4519928872148253, 0.021147962209099678, 0.01899732198444547, 0.036202443781679104, 0.0003584400374423674, 0.41976489167847303, 0.09031305245203511, 0.05749507001171812, 0.06563596488063396, 0.3495496734340739, 0.017299401596446162, 0.15251732614418292, 0.010466875323620397, 0.0022429018550615136, 0.03065299201917402, 0.8037064980637091, 0.9911456460698109, 0.9708978386349992, 0.9863937498687504, 0.005360835597112774, 0.006915131219787595, 0.0020745393659362785, 0.8229006151547238, 0.05324651039236448, 0.001383026243957519, 0.04010776107476805, 0.07399190405172727, 0.8665335435880699, 0.1324824783515169, 0.01191202724986885, 0.023197105697113023, 0.9642472584367522, 0.022565127111852965, 0.9436325883138512, 0.018462376727879697, 0.014359626343906431, 0.002051375191986633, 0.22915463661007945, 0.03674640052544704, 0.13269533523078098, 0.08318976785622038, 0.014290266871007182, 0.4629025732858398, 0.040829333917163375, 0.32271472662528844, 0.02956040765140547, 0.1252642688874475, 0.4517352904076659, 0.027110650111233748, 0.037399631779954985, 0.006206052435101701, 0.9870208811107369, 0.026866666925243712, 0.9731703797366056, 0.17492090955430573, 0.3968354963023055, 0.22713610643618803, 0.02584652245653174, 0.0067879755946447, 0.10312501384171756, 0.0002610759844094115, 0.06500792011794347, 0.9961472144893577, 0.040306520492139744, 0.3735217334980035, 0.06348002409933726, 0.0024161946889021103, 0.24008189045181877, 0.27445775125301697, 0.00010982703131373228, 0.005711005628314079, 0.988455686400193, 0.24199998133460945, 0.02970313757579888, 0.21644146760659647, 0.017269266032441208, 0.4565993938977455, 0.03615033022791026, 0.0011512844021627471, 0.0009210275217301977, 0.8350492531229077, 0.055110854581999644, 0.019168992898086833, 0.0886565921536516, 0.001198062056130427, 0.9945500381726567, 0.002205210727655558, 0.002205210727655558, 0.015044332247952165, 0.06393841205379669, 0.016924873778946185, 0.9026599348771298, 0.00789661946342222, 0.9902360807131464, 0.993180408804931, 0.9711123793693593, 0.0026752407145161413, 0.01872668500161299, 0.0026752407145161413, 0.006796343077681563, 0.17500583425030025, 0.008495428847101954, 0.808764826244106, 0.29772046039828665, 0.27367823753246756, 0.05413099279968848, 0.0338318704998053, 0.05427495820607063, 0.2813084040707215, 0.0001439654063821502, 0.004894823816993107, 0.040607600512205924, 0.8953975912941406, 0.016243040204882372, 0.032486080409764743, 0.014212660179272073, 0.0020303800256102965, 0.9943189718706844, 0.9899902262916696, 0.026073952573268163, 0.9734275627353448, 0.0016539930030514383, 0.011577951021360068, 0.07277569213426328, 0.9130041376843939, 0.9947231083786369, 0.9836568421398555, 0.9825113690198032, 0.09272846122418665, 0.08764744965025861, 0.3988594085533508, 0.02159429918919415, 0.010797149594597075, 0.06224239178061843, 0.32518474073139425, 0.0006351264467410044, 0.2011132277924504, 0.24040126798942651, 0.008307603213457504, 0.2840161848600784, 0.002249975870311407, 0.2639394770942228, 0.9937875760804622, 0.004573801819241185, 0.9559245802214076, 0.00914760363848237, 0.0297297118250677, 0.9922347198850264, 0.9889495762397355, 0.9968644011004331, 0.9970727443576614, 0.995897452174524, 0.9960795063921386, 0.3248276387743951, 0.13933471530834599, 0.19925437682983635, 0.04071096620120397, 0.1996844222474547, 0.053182283312136175, 0.012901362528550555, 0.03010317923328463, 0.5383389463795973, 0.08157651518758315, 0.170749224097087, 0.003632962214831638, 0.14003417991714678, 0.017174003197385927, 0.04788904737732614, 0.7727550161958534, 0.03629751621191895, 0.0009551977950504986, 0.1260861089466658, 0.026745538261413963, 0.024835142671312965, 0.007641582360403989, 0.0038207911802019944, 0.035361514313976536, 0.17187340678188595, 0.2680896201478221, 0.03700623590997544, 0.0016447215959989087, 0.12088703730591978, 0.3651281943117577, 0.9845335430509421, 0.0859953377867606, 0.11662503753843131, 0.3824693995230485, 0.010805229358461095, 0.3069220934300065, 0.06161659716808393, 0.008929941618562889, 0.026700525439503034, 0.049113027806597764, 0.9478814366673369, 0.013830380837679599, 0.011854612146582514, 0.9720781960197661, 0.04002832946487954, 0.910117806780419, 0.02528105018834497, 0.02106754182362081, 0.19893603565402498, 0.06589756181039579, 0.2698069983557714, 0.07910815792804587, 0.1568175468553994, 0.20235524876682856, 0.00015541877785470702, 0.026887448568864315, 0.9973714700799118, 0.24394057923775225, 0.007623143101179758, 0.11870322828979908, 0.027951524704325777, 0.19638668655896424, 0.022143415674855487, 0.04392382453536908, 0.33941137140967015, 0.07852462385753958, 0.5054190832186553, 0.08883929902526724, 0.20762442918264704, 0.052238838752685236, 0.047913329811380086, 0.01896569305033795, 0.9960694293942894, 0.048806650500999894, 0.020249567761053147, 0.014538151213063798, 0.07632529386858494, 0.008307514978893598, 0.8307514978893599, 0.0005192196861808499, 0.9939567970189516, 0.04468856090403016, 0.04468856090403016, 0.052423119522035384, 0.8576766111965789, 0.2342243452232722, 0.004806245114020633, 0.09260032253013087, 0.24063267204196637, 0.42679456612503225, 0.0006408326818694177, 0.00016020817046735443, 0.12834943602762455, 0.001212750576638972, 0.0008085003844259814, 0.6172900435092368, 0.2522521199409062, 0.9969027210365117, 0.4528422445687916, 0.359320476668715, 0.07954272469817035, 0.02539854328233657, 0.03957447441666396, 0.03918069855182153, 0.0019688793242121374, 0.002165767256633351, 0.9946968624519522, 0.9790494152394308, 0.0056921477630199465, 0.0056921477630199465, 0.00853822164452992, 0.9962413346878481, 0.011333024790268213, 0.9859731567533345, 0.991513621435514, 0.05857964642697359, 0.06414713348408264, 0.0012103232732845783, 0.8181785327403749, 0.016944525825984096, 0.035825568889223516, 0.005083357747795229, 0.00062348697132018, 0.9990339570453683, 0.9951451750878622, 0.006447835026342352, 0.8504694399745563, 0.003223917513171176, 0.006447835026342352, 0.0019343505079027056, 0.13089105103474974, 0.9952734102789101, 0.007960070611303629, 0.9870487558016501, 0.03172585038965051, 0.9606105586334687, 0.006023895643604528, 0.0012047791287209055, 0.985940328209999, 0.9904522135070487, 0.005355493315844294, 0.9389964947113661, 0.0017851644386147646, 0.05176976871982817, 0.0017851644386147646, 0.9979716415351892, 0.9987842530854364, 0.08375423994117612, 0.02010101758588227, 0.023451187183529315, 0.859318501796467, 0.015075763189411702, 0.9878612366582493, 0.9907755485343831, 0.9961453120356331, 0.9871583316117152, 0.9941230870771944, 0.9951221093064079, 0.9825113113959564, 0.8370766159407025, 0.044190846729864494, 0.028894015169526787, 0.059487678290202205, 0.01869612746263498, 0.01189753565804044, 0.9439717925129247, 0.04104225184838803, 0.011400625513441119, 0.9926925692830353, 0.9975356677270119, 0.9983432920795667, 0.07776366091782003, 0.06452729310202088, 0.12078185631916727, 0.05983941283392534, 0.5247668323638706, 0.11278488409712195, 0.03943334578456831, 0.000275757662829149, 0.9789337747892894, 0.0037728893825259148, 0.99509957464121, 0.9961866135212573, 0.025070694327747257, 0.9691802623015979, 0.005497959282400714, 0.05412995050216994, 0.012991188120520785, 0.004330396040173595, 0.028147574261128367, 0.898557178336021, 0.004890226395490629, 0.09617445244464903, 0.021190981047126058, 0.009780452790981258, 0.8672001474670048, 0.9983150799217156, 0.9891635885016531, 0.007381817824639202, 0.9935934084359688, 0.05591841763590063, 0.8960585460191881, 0.031368868429895475, 0.008183183068668384, 0.008183183068668384, 0.8052758657021277, 0.0014115264955339663, 0.18490997091494957, 0.004234579486601899, 0.0007057632477669831, 0.0035288162388349155, 0.9968157493997576, 0.99467855916338, 0.3495436361163077, 0.2365932175492472, 0.07815158048874064, 0.051906646742521774, 0.09059362315361479, 0.18177046705714553, 0.007776276665546333, 0.0036937314161345084, 0.7327364266948199, 0.02255581540853897, 0.028826519277302915, 0.03013681560808941, 0.15367904108224476, 0.032008667509212975, 0.9858263218806771, 0.009232424501692095, 0.004616212250846048, 0.9832532094302081, 0.030192902444236558, 0.9683295141044439, 0.02497112770786655, 0.008323709235955516, 0.9655502713708398, 0.04506161230987189, 0.005495318574374621, 0.017585019437998787, 0.009891573433874317, 0.9210153930651864, 0.005219201585069094, 0.005219201585069094, 0.9877338999743259, 0.9878499455713907, 0.9934090899491897, 0.13947215402747642, 0.5172169759873793, 0.010957199850360996, 0.0050143117959279134, 0.32630169723871644, 0.0011142915102062031, 0.9983385646337257, 0.9962827963203256, 0.0021564562690916137, 0.15307685508626592, 0.0015462308594572317, 0.0007731154297286159, 0.8388302412555482, 0.006184923437828927, 0.020074202150434286, 0.4283223784924185, 0.27623847741793267, 0.03032950107511267, 0.10866252903169864, 0.005673144085992298, 0.1307005118272841, 0.7943823070549387, 0.05849047808794925, 0.020403655146959042, 0.013602436764639361, 0.023124142499886913, 0.08705559529369192, 0.0013602436764639362, 0.0013602436764639362, 0.9995122621101342, 0.9936322348138786, 0.01688814661865755, 0.00656761257392238, 0.005629382206219183, 0.22142236677795452, 0.0009382303677031971, 0.670834712907786, 0.07693489015166216, 0.9961151268491177, 0.35155744014612833, 0.006329409881300158, 0.21561272356515973, 0.3188096238037493, 0.04072837662749667, 0.00660460161526973, 0.06040458560632107, 0.9949802786677262, 0.987839939053874, 0.06603948643210399, 0.9336408127694701, 0.9881759116966119, 0.1889110079200982, 0.07401524683885397, 0.0025819272153088596, 0.01850381170971349, 0.7074480569946275, 0.0025819272153088596, 0.005163854430617719, 0.016672254913472018, 0.006668901965388807, 0.9736596869467659, 0.983442559999249, 0.14273765573135608, 0.0051779077048859515, 0.612546481488008, 0.040560277021606625, 0.06903876939847936, 0.003969729240412563, 0.05712958167724167, 0.06886617247498315, 0.0431474441179955, 0.005531723604871218, 0.9481374258749268, 0.0022126894419484872, 0.011094053293716806, 0.9334853414284568, 0.05071567219984825, 0.0015848647562452579, 0.0015848647562452579, 0.010633869325972621, 0.9286912544682756, 0.03190160797791786, 0.028356984869260325, 0.9908951257486914, 0.05077461913832767, 0.1613322575846863, 0.364430734137997, 0.022930473159244753, 0.022930473159244753, 0.04995567366835464, 0.32757818798921073, 0.9933211970160235, 0.6229373149341427, 0.0341709991735679, 0.005809069859506542, 0.2730262833968075, 0.044422298925638266, 0.018110629561990985, 0.000341709991735679, 0.001366839966942716, 0.9861636788544934, 0.982664249990873, 0.9888999095133656, 0.9748361601431348, 0.024634848812281385, 0.9862834344342768, 0.997715756281351, 0.026798634264878295, 0.0007052272174967973, 0.11777294532196514, 0.010578408262451959, 0.7877388019439225, 0.0070522721749679725, 0.050071132442272605, 0.014088595913979714, 0.9838536146595833, 0.9975188645755675, 0.9933612130408516, 0.995240551583345, 0.009921269119089648, 0.9892922635892248, 0.0014173241598699495, 0.8877387287403851, 0.08524643421679194, 0.026455789929349223, 0.002807356361427733, 0.9938041519454174, 0.002615546592888716, 0.08892858415821635, 0.3347899638897556, 0.015693279557332296, 0.5571114242852965, 0.9772958496906775, 0.11151976408649489, 0.1559987451383339, 0.2541963023397369, 0.025355167942594212, 0.1252717195807833, 0.09905705441979604, 0.22841138578794618, 0.12700956318131165, 0.2751016854332054, 0.2103113819480019, 0.008741548882924284, 0.0035994613047335288, 0.020568350312763023, 0.3548040428951621, 0.969152481377449, 0.256041188095272, 0.028576025457061605, 0.3682497147233339, 0.0036196298912278034, 0.06724891324228498, 0.0962059523721074, 0.15240546910432856, 0.02781399811153996, 0.1343954122376213, 0.3711434197299662, 0.1233302668046782, 0.019133480644464095, 0.03388700788838822, 0.13693117473267075, 0.14822684402880015, 0.03296491243564296, 0.9924939653916247, 0.09918824399028421, 0.002507567966046511, 0.5165590010055813, 0.012259221167338498, 0.043743130074366914, 0.00947303453839793, 0.2775041882424805, 0.038449375479379835, 0.9981718862627638, 0.5689194604502071, 0.26299968637184534, 0.014154497009595843, 0.015980883720511437, 0.076251645180726, 0.056161391360654477, 0.00502256345501788, 0.36368890917652563, 0.21128875602281472, 0.0710214305959041, 0.0020714583923805365, 0.0011836905099317351, 0.3101269136021146, 0.031663721140673916, 0.00858175619700508, 0.9924073425562123, 0.2114121749468301, 0.05986416178341362, 0.45626198980872, 0.0003595445152156974, 0.021752443170549692, 0.02948265024768719, 0.1107397106864348, 0.11020039391361126, 0.011477581836480302, 0.011477581836480302, 0.9755944561008256, 0.027980275191640855, 0.7724989020300844, 0.07136997730041725, 0.0016220449386458466, 0.08657664860022206, 0.008921247162552156, 0.031021609451601817, 0.054184712220900204, 0.9439547234272614, 0.007545077103057893, 0.015090154206115786, 0.9733149462944682, 0.9964239769512756, 0.00970348075902326, 0.00485174037951163, 0.9849032970408608, 0.9698739422420969, 0.0022660606127151797, 0.027192727352582158, 0.9950159775122193, 0.2589003570108871, 0.03919970194178924, 0.03919970194178924, 0.01823241950780895, 0.19508688873355576, 0.4503407618428811, 0.05136248089495934, 0.003896464067893467, 0.03577662462338547, 0.8752875192513416, 0.03365128058635267, 0.015514844267629748, 0.043723652026956564, 0.8744730405391312, 0.03385056931119218, 0.031029688535259496, 0.01356976301755293, 0.00452325433918431, 0.020354644526329395, 0.9611915470766659, 0.9864343812674691, 0.010296809825338926, 0.011417584390871007, 0.987621049810342, 0.18841609501588738, 0.11840724728596985, 0.4961398726583223, 0.07968852764112799, 0.0042770678677441585, 0.1118790910667814, 0.0013506530108665761, 0.21226028567881863, 0.0006571525872409245, 0.007557254753270633, 0.714324862330885, 0.06472952984323108, 0.09862787178318015, 0.1753826268402518, 0.10379788119116944, 0.013521563067048891, 0.5599517881883777, 0.031020056447935693, 0.018293879443654383, 0.0044872257470064455, 0.01570529011452256, 0.013461677241019336, 0.011218064367516115, 0.9400737939978504, 0.013461677241019336, 0.028082218355057743, 0.9672764100075444, 0.9991711622761513, 0.9935168982450463, 0.9973264314395887, 0.9961114658116282, 0.9979226330473583, 0.9867163165163061, 0.03101181723533242, 0.9598895810936225, 0.008860519210094977, 0.7009421153631299, 0.22629243987931205, 0.07235200458726304, 0.00051313478430683, 0.005780044591241953, 0.988387625102374, 0.7507713430150533, 0.20462004110025658, 0.0004978589807792131, 0.012446474519480328, 0.02389723107740223, 0.0029871538846752786, 0.004480730827012918, 0.004780141416319339, 0.37213675646817107, 0.3243353423049777, 0.0005494415421056711, 0.041427892274767605, 0.1904913826480362, 0.002692263556317789, 0.06362533057583672, 0.06786679142853491, 0.9304318179718496, 0.055792359517633026, 0.0886113945280054, 0.008204758752593093, 0.00984571050311171, 0.018050469255704804, 0.7285825772302666, 0.09025234627852402, 0.9982983587643125, 0.7995212979553061, 0.10415129074254581, 0.02597851101664867, 0.04056918158764313, 0.014590670570994458, 0.011150593769703083, 0.0001186233379755647, 0.003914570153193635, 0.9879920385373504, 0.07055086476125313, 0.9259800999914474, 0.004441243117629969, 0.9926178367902981, 0.049025005192980586, 0.0012570514152046304, 0.9478167670642913, 0.020731574725263196, 0.19554917781396908, 0.04202346228093891, 0.0005603128304125188, 0.0011206256608250376, 0.7390526233141124, 0.7116212416676075, 0.027871228691966315, 0.1332027553070598, 0.007601244188718086, 0.04741728517724139, 0.06225780954569099, 0.00977302824263754, 0.9984557973543687, 0.5045670685347261, 0.08054759117929587, 0.01568558354544183, 0.014498566412273258, 0.18492031196004663, 0.008817841560680812, 0.16601282476743298, 0.02501214673462346, 0.0011391931451288934, 0.05695965725644467, 0.9409735378764659, 0.022496135991267277, 0.9673338476244929, 0.176351790173759, 0.09188221325768675, 0.2506505404815695, 0.0003447737833309071, 0.34270514063092167, 0.03102964049978164, 0.09136505258269038, 0.015687207141556275, 0.04145062001676413, 0.00045550131886553996, 0.21955163569319025, 0.0009110026377310799, 0.1812895249084849, 0.031429591001722254, 0.5051509626218837, 0.01913105539235268, 0.024834729392412068, 0.108208463781224, 0.008869546211575739, 0.853250345553586, 0.005321727726945443, 0.04598976797276736, 0.014633107991335069, 0.382783523328892, 0.0006968146662540509, 0.053887000856979936, 0.23296837008427101, 0.007897232884212577, 0.2613054998452691, 0.30335320765541623, 0.2617276735222482, 0.03611347710183527, 0.0186269513472624, 0.24215036751441119, 0.13266951061621587, 0.004941844234987984, 0.0005702127963447673, 0.03297541297169052, 0.9645308294219478, 0.05468725070601081, 0.0010516778981925156, 0.9433550746786865, 0.02547480848463114, 0.15739792385147097, 0.1592175530289446, 0.0072785167098946115, 0.005458887532420958, 0.6450585434144099, 0.98376607329127, 0.22960358365932435, 0.16918158795950217, 0.29045716504271674, 0.011221227772824123, 0.24960038699807502, 0.03308823574037882, 0.00028772378904677235, 0.01654411787018941, 0.9934108753453426, 0.997985925014194, 0.002716106526228157, 0.9777983494421365, 0.01765469242048302, 0.9933799987157497, 0.10564115070661706, 0.02151949366245903, 0.2595381356866271, 0.07303585727864884, 0.05673321056466472, 0.02738844647949331, 0.44212777888324917, 0.013694223239746655, 0.9902127592571801, 0.17860355022873367, 0.47699975790370086, 0.16419685501691317, 0.07519110788635086, 0.10459655427760094, 0.00019735198920302065, 0.00019735198920302065, 0.9933979747368216, 0.9880781668095254, 0.0872355768995303, 0.0047337134751683115, 0.0054099582573352125, 0.8855425422475577, 0.01690611955417254, 0.012769924116900236, 0.03447879511563064, 0.05235668887929097, 0.864523862714146, 0.02043187858704038, 0.015323908940280283, 0.06591353377219875, 0.11557649585401669, 0.610991120657962, 0.022933049768668227, 0.024451794786460822, 0.055586067651209076, 0.01412432866547116, 0.0902134540568803, 0.9837112498359991, 0.9822704702119035, 0.98439295278183, 0.014062756468311857, 0.9964802671399848, 0.06410658797276002, 0.31733602340321626, 0.23657181808320363, 0.0028603989384171137, 0.062255741600843066, 0.2867129288860448, 0.02136886265758667, 0.0087494555763347, 0.13380936597283977, 0.8655793361368073, 0.030352184885005986, 0.02892942621852133, 0.7469482999044442, 0.03319770221797529, 0.011856322220705463, 0.006639540443595059, 0.11666621065174175, 0.025135403107895582, 0.9882264347086532, 0.9946460118110277, 0.010813556282783222, 0.014057623167618188, 0.7434319944413464, 0.0610965929977252, 0.02487117945040141, 0.14598300981757348, 0.2128471144857451, 0.18435834685457614, 0.15314077006333351, 0.11864862228000252, 0.3130489868436497, 0.0003274570992088386, 0.013971502899577114, 0.003711180457700171, 0.9920239188689287, 0.0066134927924595245, 0.991807651742632, 0.004098378726209223, 0.04401402106417836, 0.4848383874737989, 0.36670749156061555, 0.0364883076179717, 0.05792518834353007, 0.0006841557678369693, 0.009122076904492925, 0.12586470709590947, 0.017290505217215847, 0.026444302096918355, 0.014747783861742927, 0.11111692323416654, 0.7043338154659985, 0.3334544887614447, 0.02918726340477873, 0.06916981601406466, 0.5373655070688029, 0.03038673998305731, 0.0003998255260928593, 0.9092107838786562, 0.021908693587437498, 0.04929456057173437, 0.01917010688900781, 0.998565665490453, 0.29698896887945214, 0.05183725142789218, 0.17611083672882147, 0.045725435757354674, 0.3212098680182489, 0.024220899138796784, 0.017429992838199553, 0.0663245182024996, 0.0638023437013177, 0.02100808877970217, 0.010115005708745487, 0.02100808877970217, 0.8815616513852799, 0.0023342320866335743, 0.11864662362919173, 0.0019774437271531955, 0.8793033106741209, 0.9915437306986499, 0.13299499370480505, 0.41190852290551816, 0.11466706171014995, 0.09140468648616461, 0.07025707264617793, 0.058743371777740756, 0.11983647842659113, 0.9918800445275278, 0.004098677869948462, 0.24919287108044486, 0.03825950660780185, 0.18603432048978782, 0.3520279470421556, 0.04251056289755761, 0.0404862503786263, 0.03421088156993922, 0.05708561303386308, 0.2358325621005353, 0.005191282813533796, 0.016315460271106214, 0.006674506474543452, 0.7334541003692748, 0.0022248354915144837, 0.03487134956033483, 0.018353341873860438, 0.9451971065038125, 0.048100255681307866, 0.7905708690184191, 0.06660035402027244, 0.05550029501689369, 0.0141834087265395, 0.021583448062125327, 0.003083349723160761, 0.03964359708988621, 0.9599413866765304, 0.9732229422596572, 0.011449681673643027, 0.9957944402435821, 0.9938583239304694, 0.9871110536990714, 0.9981852336731313, 0.9536139923415623, 0.0014716265313912999, 0.04341298267604334, 0.0014716265313912999, 0.11529610617675254, 0.48676336217006455, 0.012598581138519317, 0.0019088759300786844, 0.012598581138519317, 0.3707037056212805, 0.14125921994529103, 0.10636989453711673, 0.0476537127526283, 0.012764387344454009, 0.6867240391316256, 0.0017019183125938679, 0.002552877468890802, 0.997858906987799, 0.9910469025129229, 0.04026043527642209, 0.9028402610737654, 0.010065108819105523, 0.017110684992479388, 0.026169282929674357, 0.0030195326457316566, 0.012931893180007602, 0.9095431536605347, 0.010058139140005914, 0.0028737540400016895, 0.0007184385100004224, 0.05891195782003464, 0.004310631060002535, 0.14280209662675566, 0.08116090383822804, 0.10941311719963653, 0.010787208737992335, 0.639013698574403, 0.011300885344563399, 0.0030820596394263815, 0.002568383032855318, 0.0610928028542395, 0.003851502788636838, 0.17969252665605662, 0.1727863837247078, 0.5170310467642486, 0.0021249670557996346, 0.01739816776935951, 0.0459524125816671, 0.9880659616080195, 0.021736172030270777, 0.03754429714319498, 0.94058344421899, 0.9827047999725741, 0.0021088085836321333, 0.0126528515017928, 0.0021088085836321333, 0.9689298108880439, 0.02505852959193217, 0.01095633094248913, 0.8592893839180761, 0.01095633094248913, 0.11738926009809783, 0.04314034269855221, 0.9530093887043807, 0.023507138629286172, 0.05223808584285816, 0.007835712876428725, 0.0652976073035727, 0.8514807992385881, 0.04574218225891005, 0.9500299392235164, 0.12438828991035729, 0.008319830794442757, 0.0683317250494397, 0.5821153742734703, 0.1970845163601604, 0.00013639066876135666, 0.01964025630163536, 0.14123476194149653, 0.0005884781747562356, 0.6496799049308841, 0.20773279568895114, 0.9838030932306419, 0.981587764289542, 0.12054800806825852, 0.12177808978324074, 0.009840653719857838, 0.0024601634299644595, 0.71713763983464, 0.028291879444591286, 0.02241934265696466, 0.9766785429277681, 0.0005748549399221708, 0.9890401005196179, 0.006801324730600876, 0.986192085937127, 0.971889747819151, 0.02260208715858491, 0.9976830655972359, 0.9927361106994104, 0.010702874759333854, 0.003567624919777951, 0.9810968529389366, 0.9986033863421521, 0.9878767182932743, 0.011124737818617954, 0.024588573226311233, 0.0007451082795851888, 0.12219775785197097, 0.015150535018232172, 0.07078528656059294, 0.03526845856703227, 0.7004017828100775, 0.030549439462992743, 0.06220471575398343, 0.0017279087709439842, 0.015551178938495858, 0.881233473181432, 0.03974190173171164, 0.9974514993307995, 0.1746080585953821, 0.8231522762353727, 0.997264564833126, 0.9865854018968456, 0.006600024865912534, 0.0016500062164781335, 0.009900037298868802, 0.014850055948303202, 0.9669036428561862, 0.5487633506476575, 0.02337781090203025, 0.2191889488333212, 0.00790978564354407, 0.1641719953571147, 0.003867006314621545, 0.032342234631380196, 0.06039178074567422, 0.007742535993035157, 0.00030970143972140627, 0.06317909370316688, 0.8680931355391018, 0.03411728802731561, 0.7361238586232673, 0.0028912955955352213, 0.03585206538463675, 0.1867776954715753, 0.004626072952856354, 0.005704904715723088, 0.9936042379884378, 0.9934786196007447, 0.1106367268232753, 0.009479278919986869, 0.003385456757138167, 0.5366626051415423, 0.32094130057669823, 0.004739639459993434, 0.004468802919422381, 0.009750115460557922, 0.06868900578602927, 0.003615210830843646, 0.244930533789657, 0.6823710443217381, 0.16884107474563492, 0.04165045079932108, 0.048816119754042986, 0.5705663905197318, 0.0420983051089912, 0.10479790846280788, 0.011196357741752979, 0.012092066361093216, 0.9089019285026114, 0.010447148603478291, 0.04875336014956536, 0.031341445810434874, 0.0019923871204571013, 0.049809678011427536, 0.004980967801142754, 0.0009961935602285507, 0.9414029144159805, 0.027794718432519044, 0.005558943686503809, 0.9658664655300369, 0.019464573213241694, 0.5990337354642139, 0.05954320230979841, 0.0013027470260831054, 0.04007862909655672, 0.26346142798080685, 0.003065287120195542, 0.014023688574894605, 0.05195909329512938, 0.20646902862011937, 0.7164885496486262, 0.002734689120796283, 0.01845915156537491, 0.0006836722801990707, 0.0034183614009953536, 0.019542231922559036, 0.10626088607891475, 0.872072099544197, 0.0012213894951599398, 0.9946400065480813, 0.007126205283182228, 0.1769674311990253, 0.14727490918576602, 0.007126205283182228, 0.013064709685834085, 0.05463424050439708, 0.5795980296988211, 0.013064709685834085, 0.2751490249033043, 0.013887647944646274, 0.015623603937727059, 0.0008679779965403921, 0.6570593433810769, 0.03732305385123686, 0.0008679779965403921, 0.03563622036649861, 0.002969685030541551, 0.05790885809556025, 0.01336358263743698, 0.017818110183249306, 0.19302952698520084, 0.6681791318718491, 0.010393897606895429, 0.9950853093608973, 0.017970356831639802, 0.024709240643504726, 0.9569215012848193, 0.2295153766505093, 0.2119145042079856, 0.2242351149177522, 0.001584078519827135, 0.13535070908300742, 0.03132955294769222, 0.0983888769537076, 0.06776335890371632, 0.9901704477644286, 0.9944790068777375, 0.07694916659800875, 0.9207365796382427, 0.9978587277849192, 0.8881596846091646, 0.09248604980227665, 0.016148357901984812, 0.0014680325365440737, 0.0014680325365440737, 0.9945246841210517, 0.9974143444327397, 0.17320232208342592, 0.017465780378160597, 0.06804376938991732, 0.03456769033177618, 0.6083913498392608, 0.06767989896537231, 0.03020124523723603, 0.00036387042454501245, 0.9970794151912789, 0.0031393048041417375, 0.1830214700814633, 0.3801698117815644, 0.003767165764970085, 0.0006278609608283475, 0.33213844827819583, 0.020719411707335468, 0.07597117626023005, 0.0002681925035287609, 0.5729932837891977, 0.049749709404585146, 0.007777582602334066, 0.03915610551519909, 0.295011753881637, 0.02976936789169246, 0.005363850070575218, 0.23491924359197916, 0.31197043816098835, 0.10891447051859947, 0.03533926968954557, 0.018538633279761612, 0.28300382366136084, 0.006951987479910604, 0.20015827527788294, 0.7971215524224461, 0.9955094241134956, 0.2401099417468422, 0.23208194977354352, 0.27185700091397785, 0.03284178534531276, 0.028827789358663425, 0.0014596349042361228, 0.001094726178177092, 0.19230689863310918, 0.3238889413091653, 0.13010587326860887, 0.001965345517652702, 0.5141343874179468, 0.016901971451813238, 0.012971280416507833, 0.4084574508725994, 0.1534234117794894, 0.004173807637528323, 0.35016806834849695, 0.055266970096926764, 0.028209182653639704, 0.00028784880258816026, 0.21103544125107596, 0.19728983779794076, 0.5380999469447934, 0.033959726178334065, 0.012937038544127262, 0.006468519272063631, 0.09164225339058518, 0.08692922321621223, 0.6645372545865863, 0.0026183500968738624, 0.0031420201162486346, 0.023041480852489988, 0.1277754847274445, 0.007569926360828364, 0.9840904269076873, 0.04918232110763958, 0.9475793866738559, 0.001639410703587986, 0.993905738206514, 0.9887344515243712, 0.17828062214157595, 0.11024115765276193, 0.7105387114338172, 0.9853126785300196, 0.007819941893095393, 0.007819941893095393, 0.06791895669802722, 0.0006658721244904629, 0.025303140730637594, 0.07724116644089371, 0.02197378010818528, 0.8063711427579506, 0.05509725911000181, 0.07513262605909338, 0.8715384622854832, 0.9874353694338424, 0.0022139718567527463, 0.8335604040674089, 0.15055008625918676, 0.012176845212140104, 0.029201411185744233, 0.9694868513667085, 0.21983745162004356, 0.4567550059975341, 0.20826705942951496, 0.05675001883925936, 0.004683253981880627, 0.030578893646397036, 0.01790655934248475, 0.004958739510226546, 0.010187919995674474, 0.9882282395804239, 0.9971633592206239, 0.017971174436855024, 0.9704434195901713, 0.9829777429162023, 0.9943340102984575, 0.744057255385881, 0.037477699230316366, 0.0009994053128084364, 0.19638314396685777, 0.00849494515887171, 0.012992269066509674, 0.9913365107025305, 0.5332768380453768, 0.11351932691064953, 0.14519913907176102, 0.1017860631472749, 0.06394628751039172, 0.028453164626183473, 0.0014666579704218285, 0.012613258545627726, 0.019927440593306225, 0.9786587491379279, 0.04239829029232501, 0.1891186895933971, 0.13109997656179442, 0.001115744481376974, 0.1840978394272007, 0.31296632702624116, 0.13835231569074477, 0.003533878783089547, 0.0017669393915447735, 0.7968896655866928, 0.19789721185301465, 0.990301799680961, 0.9931005129995336, 0.00011559647833791096, 0.0017339471750686644, 0.002543122523434041, 0.9955168714460892, 0.9985548203247147, 0.029253025288380186, 0.00862589207221467, 0.441420650825942, 0.0003750387857484639, 0.0007500775714969278, 0.37053832031948236, 0.1380142731554347, 0.010876124786705453, 0.9448055351740923, 0.004236796121856916, 0.04660475734042608, 0.9972355044608041, 0.9943440485066636, 0.1836147501273814, 0.6941435879815571, 0.005987437504153741, 0.023151425016061135, 0.03073551252132254, 0.009979062506922903, 0.05229028753627601, 0.006578694273910712, 0.7776016631762462, 0.0023025429958687493, 0.12532412591799907, 0.020393952249123208, 0.0006578694273910713, 0.06710268159388927, 0.009701941866995708, 0.9863640898112304, 0.0035480356789541366, 0.0035480356789541366, 0.9916759722676811, 0.8098349872089412, 0.15080260564281725, 0.0033326542683495526, 0.00916479923796127, 0.0058321449696117165, 0.016663271341747762, 0.004165817835436941, 0.020843377167105662, 0.9761648306594486, 0.017220983492359624, 0.002719102656688362, 0.934464946348567, 0.0453183776114727, 0.03139427831852145, 0.043469000748722, 0.026564389346441224, 0.022941972617381057, 0.0012074722430200557, 0.8742099039465203, 0.04982465025642023, 0.01779451794872151, 0.00593150598290717, 0.009490409572651473, 0.9158245237608671, 0.9912431618250254, 0.10304510192035331, 0.06671127985595127, 0.19159638411009813, 0.0033752730879499154, 0.5890844265851412, 0.027200730179361084, 0.0061549097486145515, 0.012706910448752624, 0.3477461062260666, 0.20366732943727323, 0.12788256768841377, 0.0502082482111767, 0.012956967280303665, 0.25158111469256283, 0.0021594945467172774, 0.0037791154567552356, 0.993559791555928, 0.9983986652554564, 0.005652352933444998, 0.9891617633528745, 0.45681557127061095, 0.018284612760831542, 0.2943522906743701, 0.099516253058952, 0.07343819879350373, 0.044662414776457375, 0.0017984865010653975, 0.011090666756569952, 0.9949264840427323, 0.0018956503524848783, 0.997112085407046], \"Term\": [\"abacha\", \"access\", \"access\", \"access\", \"access\", \"access\", \"access\", \"access\", \"access\", \"account\", \"account\", \"account\", \"account\", \"account\", \"account\", \"account\", \"acrobat\", \"actuals\", \"additiona\", \"address\", \"address\", \"address\", \"address\", \"address\", \"address\", \"address\", \"address\", \"addressee\", \"addressee\", \"addressee\", \"addressee\", \"adobe\", \"advice\", \"advice\", \"advice\", \"advice\", \"advice\", \"advice\", \"advice\", \"affordability\", \"afxnews\", \"afxpress\", \"agent\", \"agent\", \"agent\", \"agent\", \"agent\", \"agent\", \"agreement\", \"agreement\", \"agreement\", \"agreement\", \"agreement\", \"agreement\", \"aimee\", \"alias\", \"alias\", \"alium\", \"allocation\", \"allocation\", \"allocation\", \"allocation\", \"ambieen\", \"analyst\", \"analyst\", \"analyst\", \"analyst\", \"analyst\", \"analyst\", \"andmanyother\", \"angelides\", \"anjam\", \"anticipate\", \"anticipate\", \"anticipate\", \"anticipate\", \"anticipate\", \"anticipate\", \"assembly\", \"assembly\", \"assembly\", \"assembly\", \"assistance\", \"assistance\", \"assistance\", \"assistance\", \"assistance\", \"assistance\", \"attach\", \"attach\", \"attach\", \"attach\", \"attach\", \"audition\", \"autodesk\", \"available\", \"available\", \"available\", \"available\", \"available\", \"available\", \"available\", \"available\", \"average\", \"average\", \"average\", \"average\", \"average\", \"average\", \"avoid\", \"avoid\", \"avoid\", \"avoid\", \"avoid\", \"avoid\", \"avoid\", \"avoid\", \"award\", \"award\", \"award\", \"award\", \"award\", \"award\", \"award\", \"bailout\", \"bailout\", \"ballot\", \"ballot\", \"ballot\", \"bambos\", \"base\", \"base\", \"base\", \"base\", \"base\", \"base\", \"base\", \"batch\", \"batch\", \"batch\", \"baylor\", \"baylor\", \"baylor\", \"beiieves\", \"belden\", \"belief\", \"belief\", \"belief\", \"belief\", \"belief\", \"beneficiary\", \"beneficiary\", \"beneficiary\", \"beneficiary\", \"berkeley\", \"berkeley\", \"billion\", \"billion\", \"billion\", \"billion\", \"billion\", \"billion\", \"bloomberg\", \"bloomberg\", \"bloomberg\", \"bloomberg\", \"borland\", \"botanical\", \"brand\", \"brand\", \"brand\", \"brand\", \"brand\", \"brand\", \"brand\", \"breathing\", \"breitling\", \"brian\", \"brian\", \"brian\", \"brian\", \"brian\", \"brian\", \"bridgeline\", \"brinq\", \"broadcast\", \"broadcast\", \"business\", \"business\", \"business\", \"business\", \"business\", \"business\", \"business\", \"business\", \"calger\", \"california\", \"california\", \"california\", \"california\", \"california\", \"california\", \"california\", \"cantekin\", \"capacity\", \"capacity\", \"capacity\", \"capacity\", \"capacity\", \"cards\", \"cards\", \"cards\", \"cards\", \"care\", \"carefui\", \"carly\", \"cartier\", \"casino\", \"casino\", \"category\", \"category\", \"category\", \"category\", \"category\", \"category\", \"cdnow\", \"cent\", \"cent\", \"cent\", \"cent\", \"cent\", \"cent\", \"ceraweek\", \"chairman\", \"chairman\", \"chairman\", \"chairman\", \"chairman\", \"chairman\", \"chairman\", \"chanel\", \"change\", \"change\", \"change\", \"change\", \"change\", \"change\", \"change\", \"change\", \"cheap\", \"cheap\", \"cheap\", \"cheap\", \"cheap\", \"cheap\", \"cheap\", \"cheddar\", \"chevrontexaco\", \"chevrontexaco\", \"chief\", \"chief\", \"chief\", \"chief\", \"chief\", \"chief\", \"child\", \"child\", \"child\", \"child\", \"child\", \"child\", \"child\", \"chokshi\", \"christie\", \"christie\", \"christie\", \"cialis\", \"citigroup\", \"citigroup\", \"citigroup\", \"citigroup\", \"claim\", \"claim\", \"claim\", \"claim\", \"claim\", \"click\", \"click\", \"click\", \"click\", \"click\", \"click\", \"clickathome\", \"clique\", \"clynes\", \"coale\", \"coale\", \"collapse\", \"collapse\", \"collapse\", \"color\", \"color\", \"color\", \"color\", \"color\", \"color\", \"colwell\", \"commissioner\", \"commodity\", \"commodity\", \"commodity\", \"commodity\", \"commodity\", \"commodity\", \"company\", \"company\", \"company\", \"company\", \"company\", \"company\", \"company\", \"completeness\", \"complication\", \"complication\", \"complication\", \"complication\", \"computron\", \"conference\", \"conference\", \"conference\", \"conference\", \"conference\", \"confidential\", \"confidential\", \"confidential\", \"confidential\", \"confidential\", \"congratulations\", \"congratulations\", \"congratulations\", \"congratulations\", \"congratulations\", \"consignment\", \"contact\", \"contact\", \"contact\", \"contact\", \"contact\", \"contact\", \"contact\", \"contact\", \"contemporary\", \"continue\", \"continue\", \"continue\", \"continue\", \"continue\", \"continue\", \"continue\", \"contract\", \"contract\", \"contract\", \"contract\", \"contract\", \"contract\", \"contributeto\", \"convinient\", \"copyright\", \"copyright\", \"copyright\", \"copyright\", \"copyright\", \"copyright\", \"corei\", \"corel\", \"cotten\", \"couid\", \"could\", \"could\", \"could\", \"could\", \"could\", \"could\", \"could\", \"could\", \"country\", \"country\", \"country\", \"country\", \"country\", \"country\", \"country\", \"coupon\", \"coupon\", \"coupon\", \"coupon\", \"creativeness\", \"credit\", \"credit\", \"credit\", \"credit\", \"credit\", \"credit\", \"crenshaw\", \"crenshaw\", \"crore\", \"currentiy\", \"curso\", \"dagga\", \"daren\", \"daren\", \"david\", \"david\", \"david\", \"david\", \"david\", \"david\", \"david\", \"david\", \"deal\", \"deal\", \"deal\", \"deal\", \"deal\", \"deal\", \"deal\", \"deal\", \"dealings\", \"dealings\", \"dealings\", \"dealings\", \"death\", \"death\", \"death\", \"deceased\", \"deceased\", \"deciding\", \"deciding\", \"deciding\", \"deciding\", \"delainey\", \"demand\", \"demand\", \"demand\", \"demand\", \"demand\", \"demand\", \"demand\", \"deposit\", \"deposit\", \"deposit\", \"deposit\", \"deposit\", \"deposit\", \"desea\", \"deshmukh\", \"development\", \"development\", \"development\", \"development\", \"development\", \"development\", \"development\", \"development\", \"differ\", \"differ\", \"differ\", \"dinner\", \"dinner\", \"dinner\", \"dinner\", \"directory\", \"directory\", \"directory\", \"directory\", \"directory\", \"directory\", \"discreet\", \"discreet\", \"discreet\", \"discreet\", \"disqualify\", \"domain\", \"domain\", \"domain\", \"domain\", \"domain\", \"downgrade\", \"downgrade\", \"downgrade\", \"download\", \"download\", \"download\", \"download\", \"download\", \"download\", \"draft\", \"draft\", \"draft\", \"draft\", \"draw\", \"draw\", \"draw\", \"draw\", \"draw\", \"draw\", \"draw\", \"dreamweaver\", \"dreamweaver\", \"drug\", \"drug\", \"drug\", \"drug\", \"drug\", \"drug\", \"drvgs\", \"duffie\", \"duran\", \"dynegy\", \"dynegy\", \"dynegy\", \"dynergy\", \"earnings\", \"earnings\", \"earnings\", \"earnings\", \"earnings\", \"eastrans\", \"edison\", \"edison\", \"edison\", \"edition\", \"edition\", \"edition\", \"edition\", \"edition\", \"ehronline\", \"eiements\", \"electric\", \"electric\", \"electric\", \"electric\", \"electric\", \"electric\", \"electricity\", \"electricity\", \"electricity\", \"electricity\", \"electricity\", \"email\", \"email\", \"email\", \"email\", \"email\", \"email\", \"email\", \"email\", \"embattle\", \"embattle\", \"emerson\", \"empresa\", \"empresas\", \"encoding\", \"encoding\", \"encoding\", \"energy\", \"energy\", \"energy\", \"energy\", \"energy\", \"energy\", \"energy\", \"engine\", \"engine\", \"engine\", \"engine\", \"engine\", \"english\", \"english\", \"english\", \"english\", \"english\", \"english\", \"english\", \"enron\", \"enron\", \"enron\", \"enron\", \"enron\", \"enron\", \"enronxgate\", \"enronxgate\", \"eprofile\", \"erection\", \"erection\", \"estimate\", \"estimate\", \"estimate\", \"estimate\", \"estimate\", \"estimate\", \"estimate\", \"event\", \"event\", \"event\", \"event\", \"event\", \"event\", \"event\", \"exchange\", \"exchange\", \"exchange\", \"exchange\", \"exchange\", \"exchange\", \"exchange\", \"executive\", \"executive\", \"executive\", \"executive\", \"executive\", \"executive\", \"executive\", \"executive\", \"expect\", \"expect\", \"expect\", \"expect\", \"expect\", \"expect\", \"expectation\", \"expectation\", \"expectation\", \"expectation\", \"expectation\", \"extel\", \"exxonmobiie\", \"faculty\", \"faculty\", \"family\", \"family\", \"family\", \"family\", \"family\", \"family\", \"family\", \"farmer\", \"farmer\", \"fastow\", \"fastow\", \"fastow\", \"father\", \"father\", \"father\", \"father\", \"father\", \"finance\", \"finance\", \"finance\", \"finance\", \"finance\", \"finance\", \"finance\", \"financial\", \"financial\", \"financial\", \"financial\", \"financial\", \"financial\", \"financial\", \"fiorina\", \"fitch\", \"fitch\", \"following\", \"following\", \"following\", \"following\", \"following\", \"following\", \"following\", \"following\", \"foreigner\", \"forward\", \"forward\", \"forward\", \"forward\", \"forward\", \"forward\", \"forward\", \"forward\", \"framemaker\", \"future\", \"future\", \"future\", \"future\", \"future\", \"future\", \"future\", \"future\", \"generation\", \"generation\", \"generation\", \"generation\", \"generation\", \"generator\", \"generator\", \"generator\", \"generic\", \"generic\", \"generic\", \"generic\", \"gibner\", \"gibner\", \"giuseppe\", \"governor\", \"governor\", \"governor\", \"governor\", \"graphics\", \"graphics\", \"graphics\", \"graphics\", \"group\", \"group\", \"group\", \"group\", \"group\", \"group\", \"group\", \"group\", \"guide\", \"guide\", \"guide\", \"guide\", \"guide\", \"guide\", \"haedicke\", \"heating\", \"height\", \"height\", \"herein\", \"herein\", \"herein\", \"herein\", \"homesite\", \"horas\", \"hotat\", \"hours\", \"hours\", \"hours\", \"hours\", \"hours\", \"hours\", \"hours\", \"hours\", \"houston\", \"houston\", \"houston\", \"houston\", \"houston\", \"houston\", \"hplno\", \"husband\", \"husband\", \"husband\", \"husband\", \"hydro\", \"iaagra\", \"illustrator\", \"imited\", \"impotence\", \"inciude\", \"include\", \"include\", \"include\", \"include\", \"include\", \"include\", \"include\", \"include\", \"increase\", \"increase\", \"increase\", \"increase\", \"increase\", \"increase\", \"increase\", \"india\", \"india\", \"india\", \"india\", \"india\", \"india\", \"india\", \"india\", \"inform\", \"inform\", \"inform\", \"inform\", \"inform\", \"inform\", \"inform\", \"informacin\", \"information\", \"information\", \"information\", \"information\", \"information\", \"information\", \"information\", \"information\", \"infusion\", \"infusion\", \"inherent\", \"inherent\", \"inherent\", \"instructions\", \"instructions\", \"instructions\", \"instructions\", \"interest\", \"interest\", \"interest\", \"interest\", \"interest\", \"interest\", \"interest\", \"interest\", \"internationa\", \"international\", \"international\", \"international\", \"international\", \"international\", \"international\", \"international\", \"international\", \"internet\", \"internet\", \"internet\", \"internet\", \"internet\", \"internet\", \"internet\", \"internship\", \"interview\", \"interview\", \"interview\", \"interview\", \"interview\", \"interview\", \"interview\", \"intuit\", \"investing\", \"investing\", \"investing\", \"investing\", \"investment\", \"investment\", \"investment\", \"investment\", \"investment\", \"investment\", \"investment\", \"investor\", \"investor\", \"investor\", \"investor\", \"investor\", \"invoive\", \"issue\", \"issue\", \"issue\", \"issue\", \"issue\", \"issue\", \"issue\", \"issue\", \"jabber\", \"jackie\", \"jackie\", \"jackie\", \"jackie\", \"jacoby\", \"janus\", \"janus\", \"jinbaek\", \"jones\", \"jones\", \"jones\", \"jones\", \"jones\", \"jones\", \"jones\", \"kaminski\", \"kaminski\", \"kernel\", \"kevin\", \"kevin\", \"kevin\", \"kevin\", \"kevin\", \"kevin\", \"killen\", \"kirstee\", \"kirstee\", \"kitchen\", \"kitchen\", \"kitchen\", \"kitchen\", \"lacima\", \"lagos\", \"laura\", \"laura\", \"laura\", \"laura\", \"laura\", \"lauraan\", \"lavorato\", \"lawsuit\", \"lawsuit\", \"lawsuit\", \"lawsuit\", \"lawsuit\", \"legislative\", \"legislator\", \"legislature\", \"leone\", \"leppard\", \"leslie\", \"letsyou\", \"likely\", \"likely\", \"likely\", \"likely\", \"likely\", \"likely\", \"linux\", \"linux\", \"linux\", \"listinfo\", \"localize\", \"lokay\", \"looking\", \"looking\", \"looking\", \"looking\", \"looking\", \"looking\", \"looking\", \"looking\", \"loqos\", \"lottery\", \"lottery\", \"lotto\", \"louise\", \"louise\", \"louise\", \"lucky\", \"lucky\", \"lucky\", \"lucky\", \"lucky\", \"lunch\", \"lunch\", \"lunch\", \"lunch\", \"lunch\", \"macromedia\", \"maharashtra\", \"maharashtra\", \"maiiings\", \"mail\", \"mail\", \"mail\", \"mail\", \"mail\", \"mailing\", \"mailing\", \"mailing\", \"mailing\", \"mailing\", \"mailing\", \"mailwisconsin\", \"majordomo\", \"management\", \"management\", \"management\", \"management\", \"management\", \"management\", \"management\", \"management\", \"market\", \"market\", \"market\", \"market\", \"market\", \"market\", \"marketpoint\", \"masson\", \"masson\", \"masson\", \"materia\", \"materia\", \"meade\", \"meade\", \"meade\", \"meaning\", \"meaning\", \"meaning\", \"meaning\", \"meaning\", \"medication\", \"medication\", \"medication\", \"medlcations\", \"medlcatlons\", \"meeting\", \"meeting\", \"meeting\", \"meeting\", \"meeting\", \"meeting\", \"megan\", \"melissa\", \"melissa\", \"merger\", \"merger\", \"merger\", \"merger\", \"merger\", \"message\", \"message\", \"message\", \"message\", \"message\", \"message\", \"message\", \"metal\", \"metal\", \"metal\", \"metal\", \"metal\", \"metal\", \"metal\", \"metal\", \"meter\", \"microcap\", \"microsoft\", \"microsoft\", \"microsoft\", \"microsoft\", \"microsoft\", \"microsoft\", \"microsoft\", \"miiiion\", \"million\", \"million\", \"million\", \"million\", \"million\", \"million\", \"million\", \"milnthorp\", \"mitigation\", \"mmbtu\", \"mmbtu\", \"modality\", \"model\", \"model\", \"model\", \"model\", \"model\", \"model\", \"model\", \"modeling\", \"modeling\", \"modeling\", \"modular\", \"money\", \"money\", \"money\", \"money\", \"money\", \"money\", \"money\", \"money\", \"moody\", \"moody\", \"moody\", \"moody\", \"mortgage\", \"mortgage\", \"mortgage\", \"mortgage\", \"mortgage\", \"mother\", \"mother\", \"mother\", \"mother\", \"mugabe\", \"names\", \"names\", \"names\", \"names\", \"names\", \"names\", \"names\", \"nationa\", \"natural\", \"natural\", \"natural\", \"natural\", \"natural\", \"natural\", \"natural\", \"natural\", \"neariy\", \"needsand\", \"nesbitt\", \"netco\", \"netco\", \"netcoonline\", \"newsietter\", \"newsletter\", \"newsletter\", \"newsletter\", \"newsletter\", \"newsletter\", \"newsletter\", \"newsletter\", \"newswires\", \"newswires\", \"nigeria\", \"nigerian\", \"nomad\", \"nomination\", \"nomination\", \"nomination\", \"northwest\", \"northwest\", \"northwest\", \"norton\", \"norton\", \"notification\", \"notification\", \"notification\", \"notification\", \"notification\", \"nuestra\", \"number\", \"number\", \"number\", \"number\", \"number\", \"number\", \"number\", \"numbers\", \"numbers\", \"numbers\", \"numbers\", \"numbers\", \"numbers\", \"numbers\", \"oaxaca\", \"offer\", \"offer\", \"offer\", \"offer\", \"offer\", \"offer\", \"offer\", \"offer\", \"office\", \"office\", \"office\", \"office\", \"office\", \"office\", \"office\", \"office\", \"omega\", \"online\", \"online\", \"online\", \"online\", \"online\", \"online\", \"online\", \"online\", \"ooking\", \"operations\", \"operations\", \"operations\", \"operations\", \"operations\", \"operations\", \"operations\", \"option\", \"option\", \"option\", \"option\", \"option\", \"option\", \"option\", \"option\", \"optout\", \"order\", \"order\", \"order\", \"order\", \"order\", \"order\", \"order\", \"order\", \"orgasm\", \"orgasm\", \"orgasm\", \"original\", \"original\", \"original\", \"original\", \"original\", \"original\", \"original\", \"origination\", \"origination\", \"osprey\", \"osprey\", \"osprey\", \"otcbb\", \"oust\", \"oust\", \"oust\", \"oxley\", \"oxley\", \"oxley\", \"painter\", \"participant\", \"participant\", \"participant\", \"participant\", \"participant\", \"participant\", \"partnership\", \"partnership\", \"partnership\", \"partnership\", \"partnership\", \"password\", \"password\", \"password\", \"password\", \"password\", \"patent\", \"patent\", \"patent\", \"patent\", \"paypal\", \"paypal\", \"penis\", \"penis\", \"people\", \"people\", \"people\", \"people\", \"people\", \"people\", \"people\", \"percent\", \"percent\", \"percent\", \"percent\", \"percent\", \"performance\", \"performance\", \"performance\", \"performance\", \"performance\", \"performance\", \"performance\", \"pertain\", \"pertain\", \"pertain\", \"pertain\", \"pertain\", \"pertain\", \"pharmacy\", \"pharmacy\", \"photoshop\", \"piaced\", \"pians\", \"piazze\", \"piease\", \"piils\", \"pill\", \"pill\", \"pill\", \"pipeline\", \"pipeline\", \"pipeline\", \"pipeline\", \"plaintiff\", \"plaintiff\", \"plant\", \"plant\", \"plant\", \"plant\", \"plant\", \"plant\", \"plant\", \"please\", \"please\", \"please\", \"please\", \"please\", \"please\", \"please\", \"please\", \"plunge\", \"plunge\", \"popular\", \"popular\", \"popular\", \"popular\", \"popular\", \"popular\", \"popular\", \"potentia\", \"power\", \"power\", \"power\", \"power\", \"power\", \"power\", \"power\", \"power\", \"powerquest\", \"prediction\", \"prediction\", \"premiere\", \"premiere\", \"prescription\", \"prescription\", \"prescription\", \"presentation\", \"presentation\", \"presentation\", \"presentation\", \"presentation\", \"presentation\", \"president\", \"president\", \"president\", \"president\", \"president\", \"president\", \"president\", \"presto\", \"price\", \"price\", \"price\", \"price\", \"price\", \"price\", \"price\", \"price\", \"prize\", \"prize\", \"prize\", \"prlces\", \"prlces\", \"product\", \"product\", \"product\", \"product\", \"product\", \"product\", \"product\", \"product\", \"professional\", \"professional\", \"professional\", \"professional\", \"professional\", \"professional\", \"professional\", \"professional\", \"professor\", \"professor\", \"professor\", \"professor\", \"professor\", \"program\", \"program\", \"program\", \"program\", \"program\", \"program\", \"program\", \"program\", \"project\", \"project\", \"project\", \"project\", \"project\", \"project\", \"project\", \"project\", \"projecthoneypot\", \"projecthoneypot\", \"projection\", \"projection\", \"projection\", \"promotion\", \"promotion\", \"promotion\", \"promotion\", \"promotion\", \"promotion\", \"promptness\", \"provide\", \"provide\", \"provide\", \"provide\", \"provide\", \"provide\", \"provide\", \"provide\", \"pubiication\", \"pubiisher\", \"publisher\", \"publisher\", \"publisher\", \"qmail\", \"quality\", \"quality\", \"quality\", \"quality\", \"quality\", \"quality\", \"quality\", \"quality\", \"quark\", \"question\", \"question\", \"question\", \"question\", \"question\", \"question\", \"question\", \"quickbooks\", \"ragga\", \"rating\", \"rating\", \"rating\", \"rating\", \"rating\", \"reader\", \"reader\", \"reader\", \"reader\", \"reader\", \"reader\", \"receive\", \"receive\", \"receive\", \"receive\", \"receive\", \"receive\", \"receive\", \"receive\", \"recibir\", \"recollect\", \"redmond\", \"redmond\", \"regalis\", \"regard\", \"regard\", \"regard\", \"regard\", \"regard\", \"regard\", \"regard\", \"regard\", \"remit\", \"remit\", \"remove\", \"remove\", \"remove\", \"remove\", \"remove\", \"remove\", \"remove\", \"remove\", \"removido\", \"replica\", \"reply\", \"reply\", \"reply\", \"reply\", \"reply\", \"reply\", \"report\", \"report\", \"report\", \"report\", \"report\", \"report\", \"report\", \"report\", \"reportedly\", \"reportedly\", \"republican\", \"republican\", \"request\", \"request\", \"request\", \"request\", \"request\", \"request\", \"request\", \"research\", \"research\", \"research\", \"research\", \"research\", \"research\", \"reserve\", \"reserve\", \"reserve\", \"reserve\", \"reserve\", \"reserve\", \"restructure\", \"restructure\", \"restructure\", \"restructure\", \"resuits\", \"result\", \"result\", \"result\", \"result\", \"result\", \"result\", \"result\", \"result\", \"resume\", \"resume\", \"resume\", \"resume\", \"resume\", \"resume\", \"reuters\", \"reuters\", \"reuters\", \"revamp\", \"review\", \"review\", \"review\", \"review\", \"review\", \"review\", \"review\", \"richter\", \"richter\", \"right\", \"right\", \"right\", \"right\", \"right\", \"right\", \"right\", \"right\", \"risk\", \"risk\", \"risk\", \"risk\", \"risk\", \"risk\", \"rival\", \"rival\", \"rival\", \"robert\", \"robert\", \"robert\", \"robert\", \"robert\", \"robert\", \"robert\", \"rocket\", \"rocket\", \"rolete\", \"rolete\", \"rolex\", \"roxio\", \"roxxy\", \"saave\", \"sally\", \"sally\", \"sally\", \"sally\", \"schedule\", \"schedule\", \"schedule\", \"schedule\", \"schedule\", \"schedule\", \"school\", \"school\", \"school\", \"school\", \"school\", \"school\", \"school\", \"schoppe\", \"scientech\", \"scott\", \"scott\", \"scott\", \"scott\", \"scott\", \"scott\", \"search\", \"search\", \"search\", \"search\", \"search\", \"search\", \"search\", \"section\", \"section\", \"section\", \"section\", \"section\", \"section\", \"section\", \"section\", \"security\", \"security\", \"security\", \"security\", \"security\", \"security\", \"security\", \"security\", \"seekercenter\", \"seminar\", \"seminar\", \"seminar\", \"senate\", \"senate\", \"senate\", \"senate\", \"senator\", \"senator\", \"sender\", \"sender\", \"sender\", \"sender\", \"serial\", \"serial\", \"sexual\", \"sexual\", \"sexual\", \"sexual\", \"sexual\", \"shanbhogue\", \"shanbhogue\", \"share\", \"share\", \"share\", \"share\", \"share\", \"share\", \"share\", \"shareholder\", \"shareholder\", \"shareholder\", \"shareholder\", \"shareware\", \"shipman\", \"shipping\", \"shipping\", \"shipping\", \"shipping\", \"shipping\", \"shipping\", \"shirley\", \"shirley\", \"shirley\", \"shlpp\", \"shlpplng\", \"shlpplng\", \"shmuel\", \"shmuel\", \"shouid\", \"sidebacks\", \"simulation\", \"simulation\", \"simulation\", \"sitara\", \"socal\", \"socal\", \"software\", \"software\", \"software\", \"software\", \"software\", \"software\", \"software\", \"software\", \"speaker\", \"speaker\", \"speaker\", \"speaker\", \"speaker\", \"specuiative\", \"spokesman\", \"spokesman\", \"squirrelmail\", \"stakeholder\", \"stanford\", \"stanford\", \"stanford\", \"stanford\", \"stanford\", \"state\", \"state\", \"state\", \"state\", \"state\", \"state\", \"state\", \"statement\", \"statement\", \"statement\", \"statement\", \"statement\", \"steve\", \"steve\", \"steve\", \"steve\", \"steve\", \"steve\", \"stinson\", \"stinson\", \"stochastic\", \"stock\", \"stock\", \"stock\", \"stock\", \"stock\", \"stock\", \"stock\", \"stock\", \"stocks\", \"stocks\", \"stocks\", \"stocks\", \"street\", \"street\", \"street\", \"street\", \"street\", \"street\", \"street\", \"street\", \"struggle\", \"struggle\", \"struggle\", \"struggle\", \"student\", \"student\", \"student\", \"student\", \"student\", \"studio\", \"studio\", \"studio\", \"subject\", \"subject\", \"subject\", \"subject\", \"subject\", \"subject\", \"subject\", \"subject\", \"submit\", \"submit\", \"submit\", \"submit\", \"submit\", \"submit\", \"submit\", \"subscriber\", \"subscriber\", \"subscriber\", \"subscriber\", \"successfull\", \"suite\", \"suite\", \"suite\", \"suite\", \"suite\", \"suite\", \"suite\", \"suite\", \"summer\", \"summer\", \"summer\", \"summer\", \"summer\", \"summer\", \"summer\", \"super\", \"super\", \"super\", \"super\", \"super\", \"super\", \"super\", \"super\", \"symantec\", \"symbol\", \"symbol\", \"symbol\", \"system\", \"system\", \"system\", \"system\", \"system\", \"system\", \"system\", \"system\", \"systemworks\", \"tadalafil\", \"takeover\", \"takeover\", \"tammie\", \"taylor\", \"taylor\", \"taylor\", \"taylor\", \"taylor\", \"technoiogies\", \"technoiogy\", \"technology\", \"technology\", \"technology\", \"technology\", \"technology\", \"technology\", \"technology\", \"technology\", \"tenaska\", \"thank\", \"thank\", \"thank\", \"thank\", \"thank\", \"thank\", \"thank\", \"thank\", \"thanks\", \"thanks\", \"thanks\", \"thanks\", \"thanks\", \"thanks\", \"thanks\", \"thanks\", \"think\", \"think\", \"think\", \"think\", \"think\", \"think\", \"think\", \"tiscali\", \"tiscali\", \"toner\", \"total\", \"total\", \"total\", \"total\", \"total\", \"total\", \"total\", \"total\", \"trader\", \"trader\", \"trader\", \"trader\", \"trader\", \"trader\", \"trading\", \"trading\", \"trading\", \"trading\", \"trading\", \"trading\", \"trading\", \"transaction\", \"transaction\", \"transaction\", \"transaction\", \"transaction\", \"transaction\", \"transfer\", \"transfer\", \"transfer\", \"transfer\", \"transfer\", \"transfer\", \"transfer\", \"tumble\", \"tumble\", \"turbine\", \"turbine\", \"turbine\", \"ubswarburg\", \"ubswenergy\", \"uncertainty\", \"uncertainty\", \"uncertainty\", \"unify\", \"unify\", \"unify\", \"university\", \"university\", \"university\", \"university\", \"university\", \"university\", \"unnecessary\", \"unnecessary\", \"unnecessary\", \"unscrupulous\", \"unsubscribe\", \"unsubscribe\", \"unsubscribe\", \"unsubscribe\", \"unwarranted\", \"unwarranted\", \"update\", \"update\", \"update\", \"update\", \"update\", \"update\", \"update\", \"update\", \"updatel\", \"updatel\", \"upenn\", \"urgently\", \"urgently\", \"usted\", \"utexas\", \"utility\", \"utility\", \"utility\", \"utility\", \"utility\", \"utility\", \"utmost\", \"value\", \"value\", \"value\", \"value\", \"value\", \"value\", \"value\", \"value\", \"vasant\", \"vasant\", \"version\", \"version\", \"version\", \"version\", \"version\", \"version\", \"version\", \"viagra\", \"viagra\", \"viagra\", \"viagra\", \"viastar\", \"vibrator\", \"vince\", \"vince\", \"vince\", \"vince\", \"vinoble\", \"visit\", \"visit\", \"visit\", \"visit\", \"visit\", \"visit\", \"visit\", \"visit\", \"visitor\", \"visitor\", \"visitor\", \"vkamins\", \"vkaminski\", \"volume\", \"volume\", \"volume\", \"volume\", \"volume\", \"volume\", \"volume\", \"website\", \"website\", \"website\", \"website\", \"website\", \"website\", \"website\", \"wellhead\", \"wellhead\", \"wharton\", \"wharton\", \"wharton\", \"wholesale\", \"wholesale\", \"wholesale\", \"wholesale\", \"wholesale\", \"wholesale\", \"wholesale\", \"width\", \"width\", \"windows\", \"windows\", \"windows\", \"windows\", \"winner\", \"winner\", \"winner\", \"winner\", \"winner\", \"winner\", \"winning\", \"winning\", \"winning\", \"winning\", \"winning\", \"winnings\", \"within\", \"within\", \"within\", \"within\", \"within\", \"within\", \"within\", \"within\", \"would\", \"would\", \"would\", \"would\", \"would\", \"would\", \"would\", \"would\", \"wynne\", \"wysak\", \"xanax\", \"xanax\", \"years\", \"years\", \"years\", \"years\", \"years\", \"years\", \"years\", \"years\", \"zimbabwe\", \"zimin\", \"zimin\"]}, \"R\": 30, \"lambda.step\": 0.01, \"plot.opts\": {\"xlab\": \"PC1\", \"ylab\": \"PC2\"}, \"topic.order\": [1, 3, 4, 5, 6, 2, 8, 7]};\n",
       "if(typeof(window.LDAvis) !== \"undefined\"){\n",
       "   !function(LDAvis){\n",
       "       new LDAvis(\"#\" + \"ldavis_el1190021422065327368583024042\", ldavis_el1190021422065327368583024042_data);\n",
       "   }(LDAvis);\n",
       "}else{\n",
       "  require.config({paths: {d3: \"https://cdnjs.cloudflare.com/ajax/libs/d3/3.5.5/d3.min\"}});\n",
       "  require([\"d3\"], function(d3){\n",
       "    window.d3 = d3;\n",
       "    $.getScript(\"https://cdn.rawgit.com/bmabey/pyLDAvis/files/ldavis.v1.0.0.js\", function(){\n",
       "       new LDAvis(\"#\" + \"ldavis_el1190021422065327368583024042\", ldavis_el1190021422065327368583024042_data);\n",
       "    });\n",
       "  });\n",
       "}\n",
       "</script>"
      ],
      "text/plain": [
       "<IPython.core.display.HTML object>"
      ]
     },
     "execution_count": 57,
     "metadata": {},
     "output_type": "execute_result"
    }
   ],
   "source": [
    "pyLDAvis.display(lda_opt_display, template_type='notebook')"
   ]
  },
  {
   "cell_type": "markdown",
   "metadata": {},
   "source": [
    "We see that there is some overlap in topics which is a downfall of this piece of LDA since we would prefer to see distinct topics but this does a much better job of creating topics and finding commonality between the documents. Topics 7 and 8 are definitely a grouping of spam emails while the others appear to be normal emails but since we know that we have a (somewhat) 1:1 ratio the other topics must also contain spam emails."
   ]
  },
  {
   "cell_type": "markdown",
   "metadata": {},
   "source": [
    "The cells below delve deeper into the topics and try to extract meaningful data. We first look at each document and determine the dominant topic, the topic contribution i.e. 'how much' of the topic is in that document and then look at the keywords for that document. After this we take a look at each topic individually and determine what the key words are and what the most influentiatl document is from that topic."
   ]
  },
  {
   "cell_type": "code",
   "execution_count": 58,
   "metadata": {},
   "outputs": [
    {
     "name": "stderr",
     "output_type": "stream",
     "text": [
      "C:\\Users\\corri\\anaconda3\\lib\\site-packages\\ipykernel\\ipkernel.py:287: DeprecationWarning: `should_run_async` will not call `transform_cell` automatically in the future. Please pass the result to `transformed_cell` argument and any exception that happen during thetransform in `preprocessing_exc_tuple` in IPython 7.17 and above.\n",
      "  and should_run_async(code)\n"
     ]
    }
   ],
   "source": [
    "def format_topics_sentences(ldamodel, corpus, texts):\n",
    "    \n",
    "    sent_topics_df = pd.DataFrame()\n",
    "\n",
    "    # Get main topic in each document\n",
    "    for i, row in enumerate(ldamodel[corpus]):\n",
    "        row = sorted(row, key=lambda x: (x[1]), reverse=True)\n",
    "        \n",
    "        # Get the Dominant topic, Perc Contribution and Keywords for each document\n",
    "        for j, (topic_num, prop_topic) in enumerate(row):\n",
    "            if j == 0:  # => dominant topic\n",
    "                wp = ldamodel.show_topic(topic_num)\n",
    "                topic_keywords = \", \".join([word for word, prop in wp])\n",
    "                sent_topics_df = sent_topics_df.append(pd.Series([int(topic_num), round(prop_topic,4), topic_keywords]), ignore_index=True)\n",
    "            else:\n",
    "                break\n",
    "    sent_topics_df.columns = ['Dominant_Topic', 'Perc_Contribution', 'Topic_Keywords']\n",
    "\n",
    "    # Add original text to the end of the output\n",
    "    contents = pd.Series(texts)\n",
    "    sent_topics_df = pd.concat([sent_topics_df, contents], axis=1)\n",
    "    return(sent_topics_df)"
   ]
  },
  {
   "cell_type": "code",
   "execution_count": 59,
   "metadata": {},
   "outputs": [
    {
     "name": "stderr",
     "output_type": "stream",
     "text": [
      "C:\\Users\\corri\\anaconda3\\lib\\site-packages\\ipykernel\\ipkernel.py:287: DeprecationWarning: `should_run_async` will not call `transform_cell` automatically in the future. Please pass the result to `transformed_cell` argument and any exception that happen during thetransform in `preprocessing_exc_tuple` in IPython 7.17 and above.\n",
      "  and should_run_async(code)\n"
     ]
    },
    {
     "data": {
      "text/html": [
       "<div>\n",
       "<style scoped>\n",
       "    .dataframe tbody tr th:only-of-type {\n",
       "        vertical-align: middle;\n",
       "    }\n",
       "\n",
       "    .dataframe tbody tr th {\n",
       "        vertical-align: top;\n",
       "    }\n",
       "\n",
       "    .dataframe thead th {\n",
       "        text-align: right;\n",
       "    }\n",
       "</style>\n",
       "<table border=\"1\" class=\"dataframe\">\n",
       "  <thead>\n",
       "    <tr style=\"text-align: right;\">\n",
       "      <th></th>\n",
       "      <th>Document_No</th>\n",
       "      <th>Dominant_Topic</th>\n",
       "      <th>Topic_Perc_Contrib</th>\n",
       "      <th>Keywords</th>\n",
       "      <th>Text</th>\n",
       "    </tr>\n",
       "  </thead>\n",
       "  <tbody>\n",
       "    <tr>\n",
       "      <th>0</th>\n",
       "      <td>0</td>\n",
       "      <td>7.0</td>\n",
       "      <td>0.7079</td>\n",
       "      <td>software, adobe, price, professional, windows,...</td>\n",
       "      <td>NaN</td>\n",
       "    </tr>\n",
       "    <tr>\n",
       "      <th>1</th>\n",
       "      <td>1</td>\n",
       "      <td>2.0</td>\n",
       "      <td>0.9349</td>\n",
       "      <td>enron, subject, please, louise, thanks, messag...</td>\n",
       "      <td>[christmas, picture]</td>\n",
       "    </tr>\n",
       "    <tr>\n",
       "      <th>2</th>\n",
       "      <td>2</td>\n",
       "      <td>2.0</td>\n",
       "      <td>0.8750</td>\n",
       "      <td>enron, subject, please, louise, thanks, messag...</td>\n",
       "      <td>[vastar, resource, production, island, larger,...</td>\n",
       "    </tr>\n",
       "    <tr>\n",
       "      <th>3</th>\n",
       "      <td>3</td>\n",
       "      <td>2.0</td>\n",
       "      <td>0.9835</td>\n",
       "      <td>enron, subject, please, louise, thanks, messag...</td>\n",
       "      <td>[calpine, daily, nomination, calpine, daily, n...</td>\n",
       "    </tr>\n",
       "    <tr>\n",
       "      <th>4</th>\n",
       "      <td>4</td>\n",
       "      <td>2.0</td>\n",
       "      <td>0.9841</td>\n",
       "      <td>enron, subject, please, louise, thanks, messag...</td>\n",
       "      <td>[issue, already, stella, forward, stella, morr...</td>\n",
       "    </tr>\n",
       "    <tr>\n",
       "      <th>5</th>\n",
       "      <td>5</td>\n",
       "      <td>2.0</td>\n",
       "      <td>0.9444</td>\n",
       "      <td>enron, subject, please, louise, thanks, messag...</td>\n",
       "      <td>[meter, allocation, forward, lauri, allen, kim...</td>\n",
       "    </tr>\n",
       "    <tr>\n",
       "      <th>6</th>\n",
       "      <td>6</td>\n",
       "      <td>2.0</td>\n",
       "      <td>0.7545</td>\n",
       "      <td>enron, subject, please, louise, thanks, messag...</td>\n",
       "      <td>[mcmullen, jackie, since, inlet, river, plant,...</td>\n",
       "    </tr>\n",
       "    <tr>\n",
       "      <th>7</th>\n",
       "      <td>7</td>\n",
       "      <td>2.0</td>\n",
       "      <td>0.9216</td>\n",
       "      <td>enron, subject, please, louise, thanks, messag...</td>\n",
       "      <td>[meter, george, following, 27049, receipt, pac...</td>\n",
       "    </tr>\n",
       "    <tr>\n",
       "      <th>8</th>\n",
       "      <td>8</td>\n",
       "      <td>2.0</td>\n",
       "      <td>0.9900</td>\n",
       "      <td>enron, subject, please, louise, thanks, messag...</td>\n",
       "      <td>[number, change, forward, payne, antoine, pier...</td>\n",
       "    </tr>\n",
       "    <tr>\n",
       "      <th>9</th>\n",
       "      <td>9</td>\n",
       "      <td>2.0</td>\n",
       "      <td>0.7995</td>\n",
       "      <td>enron, subject, please, louise, thanks, messag...</td>\n",
       "      <td>[ranch, fields, difficulty, unify, system, ran...</td>\n",
       "    </tr>\n",
       "  </tbody>\n",
       "</table>\n",
       "</div>"
      ],
      "text/plain": [
       "   Document_No  Dominant_Topic  Topic_Perc_Contrib  \\\n",
       "0            0             7.0              0.7079   \n",
       "1            1             2.0              0.9349   \n",
       "2            2             2.0              0.8750   \n",
       "3            3             2.0              0.9835   \n",
       "4            4             2.0              0.9841   \n",
       "5            5             2.0              0.9444   \n",
       "6            6             2.0              0.7545   \n",
       "7            7             2.0              0.9216   \n",
       "8            8             2.0              0.9900   \n",
       "9            9             2.0              0.7995   \n",
       "\n",
       "                                            Keywords  \\\n",
       "0  software, adobe, price, professional, windows,...   \n",
       "1  enron, subject, please, louise, thanks, messag...   \n",
       "2  enron, subject, please, louise, thanks, messag...   \n",
       "3  enron, subject, please, louise, thanks, messag...   \n",
       "4  enron, subject, please, louise, thanks, messag...   \n",
       "5  enron, subject, please, louise, thanks, messag...   \n",
       "6  enron, subject, please, louise, thanks, messag...   \n",
       "7  enron, subject, please, louise, thanks, messag...   \n",
       "8  enron, subject, please, louise, thanks, messag...   \n",
       "9  enron, subject, please, louise, thanks, messag...   \n",
       "\n",
       "                                                Text  \n",
       "0                                                NaN  \n",
       "1                               [christmas, picture]  \n",
       "2  [vastar, resource, production, island, larger,...  \n",
       "3  [calpine, daily, nomination, calpine, daily, n...  \n",
       "4  [issue, already, stella, forward, stella, morr...  \n",
       "5  [meter, allocation, forward, lauri, allen, kim...  \n",
       "6  [mcmullen, jackie, since, inlet, river, plant,...  \n",
       "7  [meter, george, following, 27049, receipt, pac...  \n",
       "8  [number, change, forward, payne, antoine, pier...  \n",
       "9  [ranch, fields, difficulty, unify, system, ran...  "
      ]
     },
     "execution_count": 59,
     "metadata": {},
     "output_type": "execute_result"
    }
   ],
   "source": [
    "df_topic_sents_keywords = format_topics_sentences(ldamodel=optimal_model, corpus=bow_corpus, texts=processed_text)\n",
    "\n",
    "df_dominant_topic = df_topic_sents_keywords.reset_index()\n",
    "df_dominant_topic.columns = ['Document_No', 'Dominant_Topic', 'Topic_Perc_Contrib', 'Keywords', 'Text']\n",
    "\n",
    "df_dominant_topic.head(10)"
   ]
  },
  {
   "cell_type": "code",
   "execution_count": 60,
   "metadata": {},
   "outputs": [
    {
     "name": "stderr",
     "output_type": "stream",
     "text": [
      "C:\\Users\\corri\\anaconda3\\lib\\site-packages\\ipykernel\\ipkernel.py:287: DeprecationWarning: `should_run_async` will not call `transform_cell` automatically in the future. Please pass the result to `transformed_cell` argument and any exception that happen during thetransform in `preprocessing_exc_tuple` in IPython 7.17 and above.\n",
      "  and should_run_async(code)\n"
     ]
    },
    {
     "data": {
      "text/html": [
       "<div>\n",
       "<style scoped>\n",
       "    .dataframe tbody tr th:only-of-type {\n",
       "        vertical-align: middle;\n",
       "    }\n",
       "\n",
       "    .dataframe tbody tr th {\n",
       "        vertical-align: top;\n",
       "    }\n",
       "\n",
       "    .dataframe thead th {\n",
       "        text-align: right;\n",
       "    }\n",
       "</style>\n",
       "<table border=\"1\" class=\"dataframe\">\n",
       "  <thead>\n",
       "    <tr style=\"text-align: right;\">\n",
       "      <th></th>\n",
       "      <th>Topic_Num</th>\n",
       "      <th>Topic_Perc_Contrib</th>\n",
       "      <th>Keywords</th>\n",
       "      <th>Text</th>\n",
       "    </tr>\n",
       "  </thead>\n",
       "  <tbody>\n",
       "    <tr>\n",
       "      <th>0</th>\n",
       "      <td>0.0</td>\n",
       "      <td>0.9994</td>\n",
       "      <td>market, power, price, business, would, energy,...</td>\n",
       "      <td>[enron, mention, louise, reach, congrats, hous...</td>\n",
       "    </tr>\n",
       "    <tr>\n",
       "      <th>1</th>\n",
       "      <td>1.0</td>\n",
       "      <td>0.9996</td>\n",
       "      <td>vince, enron, kaminski, would, please, subject...</td>\n",
       "      <td>[pnrecet, meedication, paliourg, succession, l...</td>\n",
       "    </tr>\n",
       "    <tr>\n",
       "      <th>2</th>\n",
       "      <td>2.0</td>\n",
       "      <td>0.9988</td>\n",
       "      <td>enron, subject, please, louise, thanks, messag...</td>\n",
       "      <td>[production, sitara, deal, need, vance, ticket...</td>\n",
       "    </tr>\n",
       "    <tr>\n",
       "      <th>3</th>\n",
       "      <td>3.0</td>\n",
       "      <td>0.9992</td>\n",
       "      <td>please, email, information, receive, account, ...</td>\n",
       "      <td>[encomium, title, ashore, need, sofft, bottom,...</td>\n",
       "    </tr>\n",
       "    <tr>\n",
       "      <th>4</th>\n",
       "      <td>4.0</td>\n",
       "      <td>0.9978</td>\n",
       "      <td>enron, company, dynegy, share, stock, billion,...</td>\n",
       "      <td>[house, take, hello, would, reflnance, thousan...</td>\n",
       "    </tr>\n",
       "    <tr>\n",
       "      <th>5</th>\n",
       "      <td>5.0</td>\n",
       "      <td>0.9990</td>\n",
       "      <td>company, statement, security, information, wit...</td>\n",
       "      <td>[alhaji, amino, danba, former, financial, cont...</td>\n",
       "    </tr>\n",
       "    <tr>\n",
       "      <th>6</th>\n",
       "      <td>6.0</td>\n",
       "      <td>0.9990</td>\n",
       "      <td>claim, message, email, please, program, number...</td>\n",
       "      <td>[employment, application, madam, please, atten...</td>\n",
       "    </tr>\n",
       "    <tr>\n",
       "      <th>7</th>\n",
       "      <td>7.0</td>\n",
       "      <td>0.9988</td>\n",
       "      <td>software, adobe, price, professional, windows,...</td>\n",
       "      <td>[woman, change]</td>\n",
       "    </tr>\n",
       "  </tbody>\n",
       "</table>\n",
       "</div>"
      ],
      "text/plain": [
       "   Topic_Num  Topic_Perc_Contrib  \\\n",
       "0        0.0              0.9994   \n",
       "1        1.0              0.9996   \n",
       "2        2.0              0.9988   \n",
       "3        3.0              0.9992   \n",
       "4        4.0              0.9978   \n",
       "5        5.0              0.9990   \n",
       "6        6.0              0.9990   \n",
       "7        7.0              0.9988   \n",
       "\n",
       "                                            Keywords  \\\n",
       "0  market, power, price, business, would, energy,...   \n",
       "1  vince, enron, kaminski, would, please, subject...   \n",
       "2  enron, subject, please, louise, thanks, messag...   \n",
       "3  please, email, information, receive, account, ...   \n",
       "4  enron, company, dynegy, share, stock, billion,...   \n",
       "5  company, statement, security, information, wit...   \n",
       "6  claim, message, email, please, program, number...   \n",
       "7  software, adobe, price, professional, windows,...   \n",
       "\n",
       "                                                Text  \n",
       "0  [enron, mention, louise, reach, congrats, hous...  \n",
       "1  [pnrecet, meedication, paliourg, succession, l...  \n",
       "2  [production, sitara, deal, need, vance, ticket...  \n",
       "3  [encomium, title, ashore, need, sofft, bottom,...  \n",
       "4  [house, take, hello, would, reflnance, thousan...  \n",
       "5  [alhaji, amino, danba, former, financial, cont...  \n",
       "6  [employment, application, madam, please, atten...  \n",
       "7                                    [woman, change]  "
      ]
     },
     "execution_count": 60,
     "metadata": {},
     "output_type": "execute_result"
    }
   ],
   "source": [
    "# Group top 5 sentences under each topic\n",
    "sent_topics_sorteddf = pd.DataFrame()\n",
    "\n",
    "sent_topics_outdf_grpd = df_topic_sents_keywords.groupby('Dominant_Topic')\n",
    "\n",
    "for i, grp in sent_topics_outdf_grpd:\n",
    "    sent_topics_sorteddf = pd.concat([sent_topics_sorteddf, \n",
    "                                             grp.sort_values(['Perc_Contribution'], ascending=[0]).head(1)], \n",
    "                                            axis=0)\n",
    "\n",
    "# Reset Index    \n",
    "sent_topics_sorteddf.reset_index(drop=True, inplace=True)\n",
    "\n",
    "# Format\n",
    "sent_topics_sorteddf.columns = ['Topic_Num', \"Topic_Perc_Contrib\", \"Keywords\", \"Text\"]\n",
    "\n",
    "# Show\n",
    "sent_topics_sorteddf"
   ]
  },
  {
   "cell_type": "markdown",
   "metadata": {},
   "source": [
    "### Other Visualisation"
   ]
  },
  {
   "cell_type": "markdown",
   "metadata": {},
   "source": [
    "Finally, we look into a tsne visualisation. This is a visualisation using the TSNE function from scikit.learn and creates an interactive plot of the emails."
   ]
  },
  {
   "cell_type": "code",
   "execution_count": 61,
   "metadata": {},
   "outputs": [
    {
     "name": "stderr",
     "output_type": "stream",
     "text": [
      "C:\\Users\\corri\\anaconda3\\lib\\site-packages\\ipykernel\\ipkernel.py:287: DeprecationWarning: `should_run_async` will not call `transform_cell` automatically in the future. Please pass the result to `transformed_cell` argument and any exception that happen during thetransform in `preprocessing_exc_tuple` in IPython 7.17 and above.\n",
      "  and should_run_async(code)\n"
     ]
    }
   ],
   "source": [
    "hm = np.zeros((len(bow_corpus),8))\n",
    "for i in range(len(bow_corpus)):\n",
    "    doc = optimal_model[bow_corpus[i]]\n",
    "    for j in range(len(doc)):\n",
    "        top = doc[j][0]\n",
    "        val = doc[j][1]\n",
    "        hm[i,top] = val\n"
   ]
  },
  {
   "cell_type": "code",
   "execution_count": 62,
   "metadata": {},
   "outputs": [
    {
     "name": "stderr",
     "output_type": "stream",
     "text": [
      "C:\\Users\\corri\\anaconda3\\lib\\site-packages\\ipykernel\\ipkernel.py:287: DeprecationWarning: `should_run_async` will not call `transform_cell` automatically in the future. Please pass the result to `transformed_cell` argument and any exception that happen during thetransform in `preprocessing_exc_tuple` in IPython 7.17 and above.\n",
      "  and should_run_async(code)\n"
     ]
    }
   ],
   "source": [
    "tsne = TSNE(random_state=2017, perplexity=30, early_exaggeration=120, n_jobs=8)\n",
    "embedding = tsne.fit_transform(hm)\n",
    "embedding = pd.DataFrame(embedding, columns=['x','y'])\n",
    "embedding['hue'] = hm.argmax(axis=1)"
   ]
  },
  {
   "cell_type": "markdown",
   "metadata": {},
   "source": [
    "**The below code is turned into markdown (instead of commenting multiple lines of code). It's the actual visualisation of the TSNE model, which has been 'commented' out since it takes the file from 300Kb to 44Mb. Please run it when it's downloaded, I just couldnt upload the code to github with this.**"
   ]
  },
  {
   "cell_type": "markdown",
   "metadata": {},
   "source": [
    "source = ColumnDataSource(\n",
    "        data=dict(\n",
    "            x = embedding.x,\n",
    "            y = embedding.y,\n",
    "            colors = [all_palettes['Set1'][8][i] for i in embedding.hue],\n",
    "            title = df['E-mails'],\n",
    "            alpha = [0.9] * embedding.shape[0],\n",
    "            size = [7] * embedding.shape[0]\n",
    "        )\n",
    "    )\n",
    "hover_tsne = HoverTool(names=[\"df\"], tooltips=\"\"\"\n",
    "    <div style=\"margin: 10\">\n",
    "        <div style=\"margin: 0 auto; width:300px;\">\n",
    "            <span style=\"font-size: 12px; font-weight: bold;\">Title:</span>\n",
    "            <span style=\"font-size: 12px\">@title</span>\n",
    "        </div>\n",
    "    </div>\n",
    "    \"\"\")\n",
    "tools_tsne = [hover_tsne, 'pan', 'wheel_zoom', 'reset']\n",
    "plot_tsne = figure(plot_width=700, plot_height=700, tools=tools_tsne, title='E-mails')\n",
    "plot_tsne.circle('x', 'y', size='size', fill_color='colors', \n",
    "                 alpha='alpha', line_alpha=0, line_width=0.01, source=source, name=\"df\")\n",
    "\n",
    "layout = column(plot_tsne)\n",
    "show(layout)"
   ]
  },
  {
   "cell_type": "markdown",
   "metadata": {},
   "source": [
    "### References"
   ]
  },
  {
   "cell_type": "markdown",
   "metadata": {},
   "source": [
    "1. [Loading .txt files](https://stackoverflow.com/questions/42407976/loading-multiple-text-files-from-a-folder-into-a-python-list-variable)\n",
    "2. [Using Glob to retrieve the data](https://stackoverflow.com/questions/2186525/how-to-use-glob-to-find-files-recursively)\n",
    "3. [WordNet guidance](https://www.nltk.org/howto/wordnet.html)\n",
    "4. [Lemmatisation](https://www.geeksforgeeks.org/python-lemmatization-with-nltk/)\n",
    "5. [Stop Words](https://www.geeksforgeeks.org/removing-stop-words-nltk-python/)\n",
    "6. [Adding Stop Words](https://stackoverflow.com/questions/5511708/adding-words-to-nltk-stoplist)\n",
    "7. [Classificaiton Report](https://scikit-learn.org/stable/modules/generated/sklearn.metrics.classification_report.html)\n",
    "8. [Filtering Extereme values from a Dictionary](https://stackoverflow.com/questions/51634656/filtering-tokens-by-frequency-using-filter-extremes-in-gensim)\n",
    "9. [General LDA - used for index, score function in Classification](https://towardsdatascience.com/topic-modeling-and-latent-dirichlet-allocation-in-python-9bf156893c24)\n",
    "10. [Topic Modelling in a similar setup](https://www.machinelearningplus.com/nlp/topic-modeling-gensim-python/)\n",
    "11. [gensim.models.phrases documentation](https://radimrehurek.com/gensim/models/phrases.html)\n",
    "11. [Using regex on data frame columns](https://stackoverflow.com/questions/53962844/applying-regex-across-entire-column-of-a-dataframe)\n",
    "12. [Coherence Types](https://radimrehurek.com/gensim/models/coherencemodel.html)\n",
    "13. [Using Pickle](https://docs.python.org/3/library/pickle.html#data-stream-format)\n",
    "14. [c_v or u_mass](http://svn.aksw.org/papers/2015/WSDM_Topic_Evaluation/public.pdf)\n",
    "16. [TSNE visualisation of LDA](https://www.kaggle.com/yohanb/lda-visualized-using-t-sne-and-bokeh/comments)"
   ]
  }
 ],
 "metadata": {
  "kernelspec": {
   "display_name": "Python 3",
   "language": "python",
   "name": "python3"
  },
  "language_info": {
   "codemirror_mode": {
    "name": "ipython",
    "version": 3
   },
   "file_extension": ".py",
   "mimetype": "text/x-python",
   "name": "python",
   "nbconvert_exporter": "python",
   "pygments_lexer": "ipython3",
   "version": "3.8.5"
  }
 },
 "nbformat": 4,
 "nbformat_minor": 4
}
