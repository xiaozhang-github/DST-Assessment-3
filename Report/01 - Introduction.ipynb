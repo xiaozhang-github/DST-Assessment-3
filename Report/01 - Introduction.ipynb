{
 "cells": [
  {
   "cell_type": "markdown",
   "metadata": {},
   "source": [
    "# Assessment 3 Introduction"
   ]
  },
  {
   "cell_type": "markdown",
   "metadata": {},
   "source": [
    "Our group was faced with the task of: **applying topic-modelling to non-trivial data in a cyber security context**. Our first challenge was to identify the data set we will perform topic modelling on. This formed most of our research time and involved looking for cybersecurity related data sets, meta data, byte-code and reports that can be modelled using topic modelling. In the documentation and code below, we will outline: the research we undertook and the reason for deciding on using the Enron spam data set, the topic modelling we perform and an analysis of the results obtained. We phrase our question surrounding this data set as: **‘Analyse the Enron spam vs normal data set to create and visualise a topic model and understand the features of spam emails.’**"
   ]
  },
  {
   "cell_type": "markdown",
   "metadata": {},
   "source": [
    "### Modelling"
   ]
  },
  {
   "cell_type": "markdown",
   "metadata": {},
   "source": [
    "To answer this question, we will us Natural Language Processing to model our data set in three different ways:\n",
    "* LDA modelling using gensim\n",
    "* LDA modelling with tf-idf applied using gensim\n",
    "* NMF modelling\n"
   ]
  },
  {
   "cell_type": "markdown",
   "metadata": {},
   "source": [
    "### Performance Analysis"
   ]
  },
  {
   "cell_type": "markdown",
   "metadata": {},
   "source": [
    "We analyse our created models using the performance metrics outlined below:\n",
    "* Classification of the data set into spam and normal emails – the emails are classified into spam and normal emails already and thus we can create predictive models for the documents\n",
    "* Perplexity and coherence scores – we calculate both in the first two cases using genism packages and in the final case we calculate coherence due to the lack of off-the-shelf implementation for the NMF model\n"
   ]
  },
  {
   "cell_type": "markdown",
   "metadata": {},
   "source": [
    "Overall, the project aims to apply topic modelling to the Enron data set to create meaningful visualisations, accurate classification results and to develop our own skills in topic modelling."
   ]
  }
 ],
 "metadata": {
  "kernelspec": {
   "display_name": "Python 3",
   "language": "python",
   "name": "python3"
  },
  "language_info": {
   "codemirror_mode": {
    "name": "ipython",
    "version": 3
   },
   "file_extension": ".py",
   "mimetype": "text/x-python",
   "name": "python",
   "nbconvert_exporter": "python",
   "pygments_lexer": "ipython3",
   "version": "3.8.5"
  }
 },
 "nbformat": 4,
 "nbformat_minor": 4
}
